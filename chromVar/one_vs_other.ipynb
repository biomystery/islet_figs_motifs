{
 "cells": [
  {
   "cell_type": "markdown",
   "metadata": {},
   "source": [
    "### load"
   ]
  },
  {
   "cell_type": "code",
   "execution_count": 2,
   "metadata": {},
   "outputs": [],
   "source": [
    "## input: 1. summarizedExperiement(SE) obj for chromVAR 2. Jaspar matrix \n",
    "## output: 1. motif x cell (z score) 2. plot: ranked           \n",
    "source(\"./libs.R\")"
   ]
  },
  {
   "cell_type": "code",
   "execution_count": 3,
   "metadata": {},
   "outputs": [
    {
     "name": "stderr",
     "output_type": "stream",
     "text": [
      "Warning message:\n",
      "“Expected 2 pieces. Missing pieces filled with `NA` in 600 rows [5, 18, 19, 50, 81, 114, 128, 147, 169, 175, 176, 190, 209, 250, 260, 345, 353, 376, 389, 413, ...].”"
     ]
    }
   ],
   "source": [
    "##------------------------------------------------------------\n",
    "## inputs\n",
    "##------------------------------------------------------------\n",
    "\n",
    "input.chromVar.res.list <- readRDS(file = \"../dat/output.jaspar.dev.res.Rdata\")\n",
    "input.chromVar.jaspar.z <- assays(input.chromVar.res.list$dev)$z\n",
    "input.umap.res <- fread(\"../dat/1908/Islet_123.MNN_corrected.cluster_labels.filt.txt\", \n",
    "    header = T) %>% separate(cluster, into = c(\"cell_type_overall\", \"subtype\"), remove = F)\n"
   ]
  },
  {
   "cell_type": "code",
   "execution_count": 4,
   "metadata": {},
   "outputs": [
    {
     "data": {
      "text/plain": [
       "\n",
       "      alpha        beta       delta endothelial    exocrine       gamma \n",
       "       5535        7108         709         136         113         205 \n",
       "      glial      immune    stellate \n",
       "         34          58         134 "
      ]
     },
     "metadata": {},
     "output_type": "display_data"
    },
    {
     "data": {
      "text/plain": [
       "\n",
       "      alpha        beta       delta endothelial    exocrine       gamma \n",
       "       5594        7170         718         157         131         206 \n",
       "      glial      immune    stellate \n",
       "         39          71         153 "
      ]
     },
     "metadata": {},
     "output_type": "display_data"
    }
   ],
   "source": [
    "\n",
    "input.chromVar.jaspar.z <- assays(input.chromVar.res.list$dev)$z\n",
    "\n",
    "table(input.umap.res %>% filter(barcodes %in% colnames(input.chromVar.jaspar.z)[-1]) %>% \n",
    "    pull(cell_type_overall))\n",
    "\n",
    "table(input.umap.res %>% pull(cell_type_overall))"
   ]
  },
  {
   "cell_type": "markdown",
   "metadata": {},
   "source": [
    "###  T test (one vs. other)"
   ]
  },
  {
   "cell_type": "code",
   "execution_count": 17,
   "metadata": {},
   "outputs": [
    {
     "data": {
      "text/plain": [
       "\n",
       "      alpha        beta       delta endothelial    exocrine       gamma \n",
       "    2136510     2744074      273674       52496       43618       79130 \n",
       "      glial      immune    stellate \n",
       "      13124       22388       51724 "
      ]
     },
     "metadata": {},
     "output_type": "display_data"
    }
   ],
   "source": [
    "input.chromVar.jaspar.z <- data.table(assays(input.chromVar.res.list$dev)$z, keep.rownames = T)\n",
    "\n",
    "# aggregate data --------------------------------------------------------------\n",
    "# melt\n",
    "input.chromVar.jaspar.z.agg <- melt(input.chromVar.jaspar.z, id = \"rn\", variable.name = \"barcodes\", \n",
    "    value.name = \"zval\")\n",
    "\n",
    "# add celltype\n",
    "input.chromVar.jaspar.z.agg <- merge(input.chromVar.jaspar.z.agg, input.umap.res)\n",
    "\n",
    "table(input.chromVar.jaspar.z.agg%>%pull(cell_type_overall))"
   ]
  },
  {
   "cell_type": "code",
   "execution_count": 18,
   "metadata": {},
   "outputs": [
    {
     "data": {
      "text/html": [
       "<ol class=list-inline>\n",
       "\t<li>-17.9077021194784</li>\n",
       "\t<li>35.4596782908229</li>\n",
       "</ol>\n"
      ],
      "text/latex": [
       "\\begin{enumerate*}\n",
       "\\item -17.9077021194784\n",
       "\\item 35.4596782908229\n",
       "\\end{enumerate*}\n"
      ],
      "text/markdown": [
       "1. -17.9077021194784\n",
       "2. 35.4596782908229\n",
       "\n",
       "\n"
      ],
      "text/plain": [
       "[1] -17.90770  35.45968"
      ]
     },
     "metadata": {},
     "output_type": "display_data"
    },
    {
     "data": {
      "text/html": [
       "0"
      ],
      "text/latex": [
       "0"
      ],
      "text/markdown": [
       "0"
      ],
      "text/plain": [
       "[1] 0"
      ]
     },
     "metadata": {},
     "output_type": "display_data"
    },
    {
     "data": {
      "text/html": [
       "<ol class=list-inline>\n",
       "\t<li>5416738</li>\n",
       "\t<li>3</li>\n",
       "</ol>\n"
      ],
      "text/latex": [
       "\\begin{enumerate*}\n",
       "\\item 5416738\n",
       "\\item 3\n",
       "\\end{enumerate*}\n"
      ],
      "text/markdown": [
       "1. 5416738\n",
       "2. 3\n",
       "\n",
       "\n"
      ],
      "text/plain": [
       "[1] 5416738       3"
      ]
     },
     "metadata": {},
     "output_type": "display_data"
    },
    {
     "data": {
      "text/html": [
       "<table>\n",
       "<caption>A data.table: 1 × 3</caption>\n",
       "<thead>\n",
       "\t<tr><th scope=col>rn</th><th scope=col>zval</th><th scope=col>cell_type_overall</th></tr>\n",
       "\t<tr><th scope=col>&lt;chr&gt;</th><th scope=col>&lt;dbl&gt;</th><th scope=col>&lt;chr&gt;</th></tr>\n",
       "</thead>\n",
       "<tbody>\n",
       "\t<tr><td>MA0025.1_NFIL3</td><td>-0.3430543</td><td>beta</td></tr>\n",
       "</tbody>\n",
       "</table>\n"
      ],
      "text/latex": [
       "A data.table: 1 × 3\n",
       "\\begin{tabular}{r|lll}\n",
       " rn & zval & cell\\_type\\_overall\\\\\n",
       " <chr> & <dbl> & <chr>\\\\\n",
       "\\hline\n",
       "\t MA0025.1\\_NFIL3 & -0.3430543 & beta\\\\\n",
       "\\end{tabular}\n"
      ],
      "text/markdown": [
       "\n",
       "A data.table: 1 × 3\n",
       "\n",
       "| rn &lt;chr&gt; | zval &lt;dbl&gt; | cell_type_overall &lt;chr&gt; |\n",
       "|---|---|---|\n",
       "| MA0025.1_NFIL3 | -0.3430543 | beta |\n",
       "\n"
      ],
      "text/plain": [
       "  rn             zval       cell_type_overall\n",
       "1 MA0025.1_NFIL3 -0.3430543 beta             "
      ]
     },
     "metadata": {},
     "output_type": "display_data"
    },
    {
     "data": {
      "text/plain": [
       "\n",
       "      alpha        beta       delta endothelial    exocrine       gamma \n",
       "    2136510     2744074      273674       52496       43618       79130 \n",
       "      glial      immune    stellate \n",
       "      13124       22388       51724 "
      ]
     },
     "metadata": {},
     "output_type": "display_data"
    }
   ],
   "source": [
    "input.chromVar.jaspar.z.agg <- input.chromVar.jaspar.z.agg %>%select(rn,zval,cell_type_overall)\n",
    "range(input.chromVar.jaspar.z.agg$zval)\n",
    "sum(!complete.cases(input.chromVar.jaspar.z.agg))\n",
    "dim(input.chromVar.jaspar.z.agg)\n",
    "head(input.chromVar.jaspar.z.agg, 1)\n",
    "table(input.chromVar.jaspar.z.agg %>% pull(cell_type_overall))"
   ]
  },
  {
   "cell_type": "code",
   "execution_count": 19,
   "metadata": {},
   "outputs": [
    {
     "data": {
      "text/html": [
       "<ol class=list-inline>\n",
       "\t<li>'beta'</li>\n",
       "\t<li>'alpha'</li>\n",
       "\t<li>'immune'</li>\n",
       "\t<li>'delta'</li>\n",
       "\t<li>'exocrine'</li>\n",
       "\t<li>'gamma'</li>\n",
       "\t<li>'glial'</li>\n",
       "\t<li>'stellate'</li>\n",
       "\t<li>'endothelial'</li>\n",
       "</ol>\n"
      ],
      "text/latex": [
       "\\begin{enumerate*}\n",
       "\\item 'beta'\n",
       "\\item 'alpha'\n",
       "\\item 'immune'\n",
       "\\item 'delta'\n",
       "\\item 'exocrine'\n",
       "\\item 'gamma'\n",
       "\\item 'glial'\n",
       "\\item 'stellate'\n",
       "\\item 'endothelial'\n",
       "\\end{enumerate*}\n"
      ],
      "text/markdown": [
       "1. 'beta'\n",
       "2. 'alpha'\n",
       "3. 'immune'\n",
       "4. 'delta'\n",
       "5. 'exocrine'\n",
       "6. 'gamma'\n",
       "7. 'glial'\n",
       "8. 'stellate'\n",
       "9. 'endothelial'\n",
       "\n",
       "\n"
      ],
      "text/plain": [
       "[1] \"beta\"        \"alpha\"       \"immune\"      \"delta\"       \"exocrine\"   \n",
       "[6] \"gamma\"       \"glial\"       \"stellate\"    \"endothelial\""
      ]
     },
     "metadata": {},
     "output_type": "display_data"
    },
    {
     "data": {
      "text/html": [
       "386"
      ],
      "text/latex": [
       "386"
      ],
      "text/markdown": [
       "386"
      ],
      "text/plain": [
       "[1] 386"
      ]
     },
     "metadata": {},
     "output_type": "display_data"
    }
   ],
   "source": [
    "(celltype.test.all<- input.chromVar.jaspar.z.agg%>%pull(cell_type_overall)%>%unique())\n",
    "test.motifs <- input.chromVar.jaspar.z.agg%>%pull(rn)%>%unique()\n",
    "length(test.motifs)\n"
   ]
  },
  {
   "cell_type": "code",
   "execution_count": 20,
   "metadata": {},
   "outputs": [
    {
     "data": {
      "text/html": [
       "<table>\n",
       "<caption>A grouped_df: 1 × 7</caption>\n",
       "<thead>\n",
       "\t<tr><th scope=col>motif</th><th scope=col>mean_x</th><th scope=col>mean_y</th><th scope=col>pval</th><th scope=col>test</th><th scope=col>FDR</th><th scope=col>padj</th></tr>\n",
       "\t<tr><th scope=col>&lt;fct&gt;</th><th scope=col>&lt;dbl&gt;</th><th scope=col>&lt;dbl&gt;</th><th scope=col>&lt;dbl&gt;</th><th scope=col>&lt;chr&gt;</th><th scope=col>&lt;dbl&gt;</th><th scope=col>&lt;dbl&gt;</th></tr>\n",
       "</thead>\n",
       "<tbody>\n",
       "\t<tr><td>MA0025.1_NFIL3</td><td>0.203819</td><td>-0.1937263</td><td>9.648261e-99</td><td>beta.vs.other</td><td>3.687355e-98</td><td>3.724229e-96</td></tr>\n",
       "</tbody>\n",
       "</table>\n"
      ],
      "text/latex": [
       "A grouped_df: 1 × 7\n",
       "\\begin{tabular}{r|lllllll}\n",
       " motif & mean\\_x & mean\\_y & pval & test & FDR & padj\\\\\n",
       " <fct> & <dbl> & <dbl> & <dbl> & <chr> & <dbl> & <dbl>\\\\\n",
       "\\hline\n",
       "\t MA0025.1\\_NFIL3 & 0.203819 & -0.1937263 & 9.648261e-99 & beta.vs.other & 3.687355e-98 & 3.724229e-96\\\\\n",
       "\\end{tabular}\n"
      ],
      "text/markdown": [
       "\n",
       "A grouped_df: 1 × 7\n",
       "\n",
       "| motif &lt;fct&gt; | mean_x &lt;dbl&gt; | mean_y &lt;dbl&gt; | pval &lt;dbl&gt; | test &lt;chr&gt; | FDR &lt;dbl&gt; | padj &lt;dbl&gt; |\n",
       "|---|---|---|---|---|---|---|\n",
       "| MA0025.1_NFIL3 | 0.203819 | -0.1937263 | 9.648261e-99 | beta.vs.other | 3.687355e-98 | 3.724229e-96 |\n",
       "\n"
      ],
      "text/plain": [
       "  motif          mean_x   mean_y     pval         test          FDR         \n",
       "1 MA0025.1_NFIL3 0.203819 -0.1937263 9.648261e-99 beta.vs.other 3.687355e-98\n",
       "  padj        \n",
       "1 3.724229e-96"
      ]
     },
     "metadata": {},
     "output_type": "display_data"
    }
   ],
   "source": [
    "require(parallel)\n",
    "\n",
    "\n",
    "ttest.res.ct <- do.call(rbind, lapply(celltype.test.all, function(ntest) {\n",
    "    celltype.test <- c(ntest, \"other\")\n",
    "    ttest.res <- do.call(rbind, mclapply(test.motifs, function(motif) {\n",
    "        pd <- input.chromVar.jaspar.z.agg %>% filter(rn == motif) %>% mutate(cell_type_overall = ifelse(cell_type_overall == \n",
    "            ntest, ntest, \"other\"))\n",
    "        test.res <- t.test(pd %>% filter(cell_type_overall == celltype.test[1]) %>% \n",
    "            select(zval), pd %>% filter(cell_type_overall == celltype.test[2]) %>% \n",
    "            select(zval))\n",
    "        (data.frame(motif = motif, mean_x = test.res$estimate[1], mean_y = test.res$estimate[2], \n",
    "            pval = test.res$p.value/2))\n",
    "    }, mc.cores = 10)) %>% mutate(test = paste0(ntest, \".vs.other\"))\n",
    "})) %>% group_by(test) %>% mutate(FDR = p.adjust(pval, \"BH\"), padj = p.adjust(pval, \n",
    "    \"bonferroni\"))\n",
    "head(ttest.res.ct, 1)"
   ]
  },
  {
   "cell_type": "code",
   "execution_count": 22,
   "metadata": {},
   "outputs": [
    {
     "data": {
      "text/html": [
       "<table>\n",
       "<caption>A grouped_df: 1 × 9</caption>\n",
       "<thead>\n",
       "\t<tr><th scope=col>motif</th><th scope=col>mean_x</th><th scope=col>mean_y</th><th scope=col>pval</th><th scope=col>test</th><th scope=col>x</th><th scope=col>y</th><th scope=col>FDR</th><th scope=col>padj</th></tr>\n",
       "\t<tr><th scope=col>&lt;fct&gt;</th><th scope=col>&lt;dbl&gt;</th><th scope=col>&lt;dbl&gt;</th><th scope=col>&lt;dbl&gt;</th><th scope=col>&lt;chr&gt;</th><th scope=col>&lt;chr&gt;</th><th scope=col>&lt;chr&gt;</th><th scope=col>&lt;dbl&gt;</th><th scope=col>&lt;dbl&gt;</th></tr>\n",
       "</thead>\n",
       "<tbody>\n",
       "\t<tr><td>MA0025.1_NFIL3</td><td>0.203819</td><td>-0.1937263</td><td>9.648261e-99</td><td>beta.vs.other</td><td>beta</td><td>other</td><td>3.687355e-98</td><td>3.724229e-96</td></tr>\n",
       "</tbody>\n",
       "</table>\n"
      ],
      "text/latex": [
       "A grouped_df: 1 × 9\n",
       "\\begin{tabular}{r|lllllllll}\n",
       " motif & mean\\_x & mean\\_y & pval & test & x & y & FDR & padj\\\\\n",
       " <fct> & <dbl> & <dbl> & <dbl> & <chr> & <chr> & <chr> & <dbl> & <dbl>\\\\\n",
       "\\hline\n",
       "\t MA0025.1\\_NFIL3 & 0.203819 & -0.1937263 & 9.648261e-99 & beta.vs.other & beta & other & 3.687355e-98 & 3.724229e-96\\\\\n",
       "\\end{tabular}\n"
      ],
      "text/markdown": [
       "\n",
       "A grouped_df: 1 × 9\n",
       "\n",
       "| motif &lt;fct&gt; | mean_x &lt;dbl&gt; | mean_y &lt;dbl&gt; | pval &lt;dbl&gt; | test &lt;chr&gt; | x &lt;chr&gt; | y &lt;chr&gt; | FDR &lt;dbl&gt; | padj &lt;dbl&gt; |\n",
       "|---|---|---|---|---|---|---|---|---|\n",
       "| MA0025.1_NFIL3 | 0.203819 | -0.1937263 | 9.648261e-99 | beta.vs.other | beta | other | 3.687355e-98 | 3.724229e-96 |\n",
       "\n"
      ],
      "text/plain": [
       "  motif          mean_x   mean_y     pval         test          x    y    \n",
       "1 MA0025.1_NFIL3 0.203819 -0.1937263 9.648261e-99 beta.vs.other beta other\n",
       "  FDR          padj        \n",
       "1 3.687355e-98 3.724229e-96"
      ]
     },
     "metadata": {},
     "output_type": "display_data"
    }
   ],
   "source": [
    "head(ttest.res.ct, 1)%>% separate(test,into = c(\"x\",\"y\"),sep = \".vs.\",remove = F)\n",
    "ttest.res.ct<- ttest.res.ct%>% separate(test,into = c(\"x\",\"y\"),sep = \".vs.\",remove = F)"
   ]
  },
  {
   "cell_type": "markdown",
   "metadata": {},
   "source": [
    "### Motif db"
   ]
  },
  {
   "cell_type": "code",
   "execution_count": 25,
   "metadata": {},
   "outputs": [
    {
     "data": {
      "text/html": [
       "<table>\n",
       "<caption>A grouped_df: 1 × 10</caption>\n",
       "<thead>\n",
       "\t<tr><th scope=col>jaspar.id</th><th scope=col>motif</th><th scope=col>mean_x</th><th scope=col>mean_y</th><th scope=col>pval</th><th scope=col>test</th><th scope=col>x</th><th scope=col>y</th><th scope=col>FDR</th><th scope=col>padj</th></tr>\n",
       "\t<tr><th scope=col>&lt;chr&gt;</th><th scope=col>&lt;chr&gt;</th><th scope=col>&lt;dbl&gt;</th><th scope=col>&lt;dbl&gt;</th><th scope=col>&lt;dbl&gt;</th><th scope=col>&lt;chr&gt;</th><th scope=col>&lt;chr&gt;</th><th scope=col>&lt;chr&gt;</th><th scope=col>&lt;dbl&gt;</th><th scope=col>&lt;dbl&gt;</th></tr>\n",
       "</thead>\n",
       "<tbody>\n",
       "\t<tr><td>MA0025.1</td><td>NFIL3</td><td>0.203819</td><td>-0.1937263</td><td>9.648261e-99</td><td>beta.vs.other</td><td>beta</td><td>other</td><td>3.687355e-98</td><td>3.724229e-96</td></tr>\n",
       "</tbody>\n",
       "</table>\n"
      ],
      "text/latex": [
       "A grouped_df: 1 × 10\n",
       "\\begin{tabular}{r|llllllllll}\n",
       " jaspar.id & motif & mean\\_x & mean\\_y & pval & test & x & y & FDR & padj\\\\\n",
       " <chr> & <chr> & <dbl> & <dbl> & <dbl> & <chr> & <chr> & <chr> & <dbl> & <dbl>\\\\\n",
       "\\hline\n",
       "\t MA0025.1 & NFIL3 & 0.203819 & -0.1937263 & 9.648261e-99 & beta.vs.other & beta & other & 3.687355e-98 & 3.724229e-96\\\\\n",
       "\\end{tabular}\n"
      ],
      "text/markdown": [
       "\n",
       "A grouped_df: 1 × 10\n",
       "\n",
       "| jaspar.id &lt;chr&gt; | motif &lt;chr&gt; | mean_x &lt;dbl&gt; | mean_y &lt;dbl&gt; | pval &lt;dbl&gt; | test &lt;chr&gt; | x &lt;chr&gt; | y &lt;chr&gt; | FDR &lt;dbl&gt; | padj &lt;dbl&gt; |\n",
       "|---|---|---|---|---|---|---|---|---|---|\n",
       "| MA0025.1 | NFIL3 | 0.203819 | -0.1937263 | 9.648261e-99 | beta.vs.other | beta | other | 3.687355e-98 | 3.724229e-96 |\n",
       "\n"
      ],
      "text/plain": [
       "  jaspar.id motif mean_x   mean_y     pval         test          x    y    \n",
       "1 MA0025.1  NFIL3 0.203819 -0.1937263 9.648261e-99 beta.vs.other beta other\n",
       "  FDR          padj        \n",
       "1 3.687355e-98 3.724229e-96"
      ]
     },
     "metadata": {},
     "output_type": "display_data"
    }
   ],
   "source": [
    "ttest.res.ct%>%head(1)%>%separate(motif,into=c('jaspar.id','motif'),sep = '_')\n"
   ]
  },
  {
   "cell_type": "code",
   "execution_count": 125,
   "metadata": {
    "scrolled": true
   },
   "outputs": [],
   "source": [
    "tfclass.db.dic <- readRDS(\"~/github/atacMotif/db/dic_jaspar_tfclass.rds\")\n",
    "tfclass.db <- readRDS('~/github/atacMotif/db/tfclass.rds')\n",
    "#str(tfclass.db)"
   ]
  },
  {
   "cell_type": "code",
   "execution_count": 128,
   "metadata": {},
   "outputs": [
    {
     "data": {
      "text/html": [
       "<table>\n",
       "<caption>A data.frame: 0 × 9</caption>\n",
       "<thead>\n",
       "\t<tr><th scope=col>genus.id</th><th scope=col>genus.name</th><th scope=col>tf.symbol</th><th scope=col>tf.id</th><th scope=col>subfamily.id</th><th scope=col>subfamily.name</th><th scope=col>subfamily.seq</th><th scope=col>family.id</th><th scope=col>family.name</th></tr>\n",
       "\t<tr><th scope=col>&lt;chr&gt;</th><th scope=col>&lt;chr&gt;</th><th scope=col>&lt;fct&gt;</th><th scope=col>&lt;chr&gt;</th><th scope=col>&lt;chr&gt;</th><th scope=col>&lt;chr&gt;</th><th scope=col>&lt;chr&gt;</th><th scope=col>&lt;chr&gt;</th><th scope=col>&lt;fct&gt;</th></tr>\n",
       "</thead>\n",
       "<tbody>\n",
       "</tbody>\n",
       "</table>\n"
      ],
      "text/latex": [
       "A data.frame: 0 × 9\n",
       "\\begin{tabular}{r|lllllllll}\n",
       " genus.id & genus.name & tf.symbol & tf.id & subfamily.id & subfamily.name & subfamily.seq & family.id & family.name\\\\\n",
       " <chr> & <chr> & <fct> & <chr> & <chr> & <chr> & <chr> & <chr> & <fct>\\\\\n",
       "\\hline\n",
       "\\end{tabular}\n"
      ],
      "text/markdown": [
       "\n",
       "A data.frame: 0 × 9\n",
       "\n",
       "| genus.id &lt;chr&gt; | genus.name &lt;chr&gt; | tf.symbol &lt;fct&gt; | tf.id &lt;chr&gt; | subfamily.id &lt;chr&gt; | subfamily.name &lt;chr&gt; | subfamily.seq &lt;chr&gt; | family.id &lt;chr&gt; | family.name &lt;fct&gt; |\n",
       "|---|---|---|---|---|---|---|---|---|\n",
       "\n"
      ],
      "text/plain": [
       "     genus.id genus.name tf.symbol tf.id subfamily.id subfamily.name\n",
       "     subfamily.seq family.id family.name"
      ]
     },
     "metadata": {},
     "output_type": "display_data"
    }
   ],
   "source": [
    "tfclass.db$merge%>%filter(genus.name==\"NR2F1\")\n",
    "tfclass.db.dic$merge%>%filter(genus.name==\"NR2F1\")"
   ]
  },
  {
   "cell_type": "code",
   "execution_count": 129,
   "metadata": {},
   "outputs": [
    {
     "name": "stdout",
     "output_type": "stream",
     "text": [
      "List of 7\n",
      " $ subfamily :'data.frame':\t337 obs. of  3 variables:\n",
      "  ..$ id  : chr [1:337] \"1.1.1.1\" \"1.1.1.2\" \"1.1.1.3\" \"1.1.2.1\" ...\n",
      "  ..$ name: chr [1:337] \"Jun\" \"NFE2\" \"ATF2\" \"Fos\" ...\n",
      "  ..$ seq : chr [1:337] \"TGAGTCA\" \"GCTGAGTCA\" \"TGACGTCA\" \"TGAGTCA\" ...\n",
      " $ family    :'data.frame':\t110 obs. of  2 variables:\n",
      "  ..$ id  : chr [1:110] \"0.0.1\" \"0.0.2\" \"0.0.3\" \"0.0.4\" ...\n",
      "  ..$ name: chr [1:110] \"NULP1\" \"PHF5\" \"RFXANK\" \"RFXAP\" ...\n",
      " $ genus     :'data.frame':\t1453 obs. of  2 variables:\n",
      "  ..$ id  : chr [1:1453] \"3.5.1.1.2\" \"3.1.8.1.1\" \"3.1.8.1.2\" \"2.3.2.4.9\" ...\n",
      "  ..$ name: chr [1:1453] \"A-Myb (MYBL1)\" \"ADNP1\" \"ADNP2\" \"AEBP2\" ...\n",
      " $ genus.dup :'data.frame':\t4 obs. of  2 variables:\n",
      "  ..$ id  : chr [1:4] \"3.5.1.3.4\" \"3.5.1.3.5\" \"3.5.1.3.6\" \"3.5.1.3.7\"\n",
      "  ..$ name: chr [1:4] \"MTA1\" \"MTA2\" \"MTA3\" \"RERE\"\n",
      " $ merge     :'data.frame':\t1475 obs. of  9 variables:\n",
      "  ..$ genus.id      : chr [1:1475] \"3.1.8.1.1\" \"3.1.8.1.2\" \"2.3.2.4.9\" \"1.2.5.1.1\" ...\n",
      "  ..$ genus.name    : chr [1:1475] \"ADNP1\" \"ADNP2\" \"AEBP2\" \"AhR\" ...\n",
      "  ..$ tf.symbol     : Factor w/ 1475 levels \"A-MYB\",\"ADNP1\",..: 2 3 4 5 6 7 8 9 10 11 ...\n",
      "  ..$ tf.id         : chr [1:1475] \"ENSMUSG00000051149;ENSG00000101126\" \"ENSMUSG00000053950;ENSG00000101544\" \"ENSMUSG00000030232;ENSG00000139154\" \"ENSMUSG00000019256;ENSG00000106546\" ...\n",
      "  ..$ subfamily.id  : chr [1:1475] \"3.1.8.1\" \"3.1.8.1\" \"2.3.2.4\" \"1.2.5.1\" ...\n",
      "  ..$ subfamily.name: chr [1:1475] \"ADNP\" \"ADNP\" \"Other\" \"PAS-AHR\" ...\n",
      "  ..$ subfamily.seq : chr [1:1475] \"\" \"\" NA \"CACGC\" ...\n",
      "  ..$ family.id     : chr [1:1475] \"3.1.8\" \"3.1.8\" \"2.3.2\" \"1.2.5\" ...\n",
      "  ..$ family.name   : Factor w/ 109 levels \"AIRE\",\"Ankyrin-only\",..: 40 40 67 70 70 1 69 69 69 3 ...\n",
      " $ class     :Classes ‘data.table’ and 'data.frame':\t39 obs. of  3 variables:\n",
      "  ..$ id   : chr [1:39] \"0.0\" \"0.1\" \"0.2\" \"0.3\" ...\n",
      "  ..$ name : chr [1:39] \"Uncharacterized\" \"AXUD/CSRNP domain factors\" \"NonO domain factors\" \"Leucine-rich repeat flightless-interacting proteins\" ...\n",
      "  ..$ about: chr [1:39] \"Class description: No DNA-binding domain has been identified in these factors, although there is evidence that \"| __truncated__ \"Class description: Factors of this family possess a conserved domain comprising a serine-rich, a basic and a cy\"| __truncated__ \"Class description: A group of multifunctional factors, probably involved in transcriptional as well as in splic\"| __truncated__ \"Class description: A 100-aa DNA-binding domain has been identified in LRRFIP1; it shows only limited homology w\"| __truncated__ ...\n",
      "  ..- attr(*, \".internal.selfref\")=<externalptr> \n",
      " $ superclass:Classes ‘data.table’ and 'data.frame':\t10 obs. of  3 variables:\n",
      "  ..$ id   : chr [1:10] \"0\" \"1\" \"2\" \"3\" ...\n",
      "  ..$ name : chr [1:10] \"Yet undefined DNA-binding domains\" \"Basic domains\" \"Zinc-coordinating DNA-binding domains\" \"Helix-turn-helix domains\" ...\n",
      "  ..$ about: chr [1:10] \"Class description: Factors of this superclass have been shown to bind to DNA in a sequence-specific manner, but\"| __truncated__ \"TRANSFAC class description C0033: Proteins belonging to this superfamily contact the DNA through a basic region\"| __truncated__ \"TRANSFAC class description C0034: In polymerase III transcription factor TFIIIA, a repetitive pattern of cystei\"| __truncated__ \"TRANSFAC class description C0035: The helix-turn-helix superclass is a particularly large and heterogeneous fam\"| __truncated__ ...\n",
      "  ..- attr(*, \".internal.selfref\")=<externalptr> \n",
      "List of 4\n",
      " $ jasparTOensembl : Named chr [1:579] \"ENSG00000130700\" \"ENSG00000107485\" \"ENSG00000179348\" \"ENSG00000141448\" ...\n",
      "  ..- attr(*, \"names\")= chr [1:579] \"MA0766.1\" \"MA0037.3\" \"MA0036.3\" \"MA1104.1\" ...\n",
      " $ ensemblTOtfclass:'data.frame':\t5502 obs. of  8 variables:\n",
      "  ..$ genus.id      : chr [1:5502] \"3.1.8.1.1\" \"3.1.8.1.1\" \"3.1.8.1.2\" \"3.1.8.1.2\" ...\n",
      "  ..$ genus.name    : chr [1:5502] \"ADNP1\" \"ADNP1\" \"ADNP2\" \"ADNP2\" ...\n",
      "  ..$ tf.symbol     : Factor w/ 1475 levels \"A-MYB\",\"ADNP1\",..: 2 2 3 3 4 4 5 5 6 6 ...\n",
      "  ..$ subfamily.id  : chr [1:5502] \"3.1.8.1\" \"3.1.8.1\" \"3.1.8.1\" \"3.1.8.1\" ...\n",
      "  ..$ subfamily.name: chr [1:5502] \"ADNP\" \"ADNP\" \"ADNP\" \"ADNP\" ...\n",
      "  ..$ subfamily.seq : chr [1:5502] \"\" \"\" \"\" \"\" ...\n",
      "  ..$ family.id     : chr [1:5502] \"3.1.8\" \"3.1.8\" \"3.1.8\" \"3.1.8\" ...\n",
      "  ..$ family.name   : Factor w/ 109 levels \"AIRE\",\"Ankyrin-only\",..: 40 40 40 40 67 67 70 70 70 70 ...\n",
      " $ jasparTOtfclass :'data.frame':\t620 obs. of  10 variables:\n",
      "  ..$ jaspar.id     : chr [1:620] \"MA0854.1\" \"MA0634.1\" \"MA0003.3\" \"MA0810.1\" ...\n",
      "  ..$ ensembl.id    : chr [1:620] \"ENSMUSG00000036602\" \"ENSG00000156150\" \"ENSG00000137203\" \"ENSG00000137203\" ...\n",
      "  ..$ genus.id      : chr [1:620] \"3.1.3.1.1\" \"3.1.3.1.2\" \"1.3.1.0.1\" \"1.3.1.0.1\" ...\n",
      "  ..$ genus.name    : chr [1:620] \"ALX1\" \"ALX3\" \"AP-2alpha\" \"AP-2alpha\" ...\n",
      "  ..$ tf.symbol     : Factor w/ 1475 levels \"A-MYB\",\"ADNP1\",..: 8 9 11 11 12 12 15 15 22 27 ...\n",
      "  ..$ subfamily.id  : chr [1:620] \"3.1.3.1\" \"3.1.3.1\" \"1.3.1.0\" \"1.3.1.0\" ...\n",
      "  ..$ subfamily.name: chr [1:620] \"ALX\" \"ALX\" NA NA ...\n",
      "  ..$ subfamily.seq : chr [1:620] \"TTAATTAACA\" \"TTAATTAACA\" NA NA ...\n",
      "  ..$ family.id     : chr [1:620] \"3.1.3\" \"3.1.3\" \"1.3.1\" \"1.3.1\" ...\n",
      "  ..$ family.name   : Factor w/ 109 levels \"AIRE\",\"Ankyrin-only\",..: 69 69 3 3 3 3 3 3 4 70 ...\n",
      " $ merged          :'data.frame':\t2861 obs. of  11 variables:\n",
      "  ..$ jaspar.id     : chr [1:2861] \"MA0004.1\" \"MA0006.1\" \"MA0006.1\" \"MA0025.1\" ...\n",
      "  ..$ jaspar.name   : chr [1:2861] \"Arnt\" \"Ahr::Arnt\" \"Ahr::Arnt\" \"NFIL3\" ...\n",
      "  ..$ ensembl.id    : chr [1:2861] \"ENSMUSG00000015522\" \"ENSMUSG00000015522\" \"ENSMUSG00000019256\" \"ENSG00000165030\" ...\n",
      "  ..$ genus.id      : chr [1:2861] \"1.2.5.2.1\" \"1.2.5.2.1\" \"1.2.5.1.1\" \"1.1.8.2.3\" ...\n",
      "  ..$ genus.name    : chr [1:2861] \"ARNT\" \"ARNT\" \"AhR\" \"NFIL3\" ...\n",
      "  ..$ tf.symbol     : Factor w/ 1475 levels \"A-MYB\",\"ADNP1\",..: 27 27 5 572 212 244 232 291 291 270 ...\n",
      "  ..$ subfamily.id  : chr [1:2861] \"1.2.5.2\" \"1.2.5.2\" \"1.2.5.1\" \"1.1.8.2\" ...\n",
      "  ..$ subfamily.name: chr [1:2861] \"PAS-ARNT\" \"PAS-ARNT\" \"PAS-AHR\" \"PAR\" ...\n",
      "  ..$ subfamily.seq : chr [1:2861] \"CACGTG\" \"CACGTG\" \"CACGC\" \"TTATGCAATAAC\" ...\n",
      "  ..$ family.id     : chr [1:2861] \"1.2.5\" \"1.2.5\" \"1.2.5\" \"1.1.8\" ...\n",
      "  ..$ family.name   : Factor w/ 109 levels \"AIRE\",\"Ankyrin-only\",..: 70 70 70 11 26 29 29 52 52 29 ...\n"
     ]
    }
   ],
   "source": [
    "str(tfclass.db)\n",
    "str(tfclass.db.dic)"
   ]
  },
  {
   "cell_type": "code",
   "execution_count": 146,
   "metadata": {},
   "outputs": [
    {
     "name": "stderr",
     "output_type": "stream",
     "text": [
      "Joining, by = \"subfamily.id\"\n"
     ]
    },
    {
     "data": {
      "text/html": [
       "<table>\n",
       "<caption>A data.frame: 1 × 4</caption>\n",
       "<thead>\n",
       "\t<tr><th scope=col>motif</th><th scope=col>subfamily.id</th><th scope=col>family.id</th><th scope=col>family.name</th></tr>\n",
       "\t<tr><th scope=col>&lt;chr&gt;</th><th scope=col>&lt;chr&gt;</th><th scope=col>&lt;chr&gt;</th><th scope=col>&lt;fct&gt;</th></tr>\n",
       "</thead>\n",
       "<tbody>\n",
       "\t<tr><td>NR2F1</td><td>2.1.3.5</td><td>2.1.3</td><td>RXR-related receptors</td></tr>\n",
       "</tbody>\n",
       "</table>\n"
      ],
      "text/latex": [
       "A data.frame: 1 × 4\n",
       "\\begin{tabular}{r|llll}\n",
       " motif & subfamily.id & family.id & family.name\\\\\n",
       " <chr> & <chr> & <chr> & <fct>\\\\\n",
       "\\hline\n",
       "\t NR2F1 & 2.1.3.5 & 2.1.3 & RXR-related receptors\\\\\n",
       "\\end{tabular}\n"
      ],
      "text/markdown": [
       "\n",
       "A data.frame: 1 × 4\n",
       "\n",
       "| motif &lt;chr&gt; | subfamily.id &lt;chr&gt; | family.id &lt;chr&gt; | family.name &lt;fct&gt; |\n",
       "|---|---|---|---|\n",
       "| NR2F1 | 2.1.3.5 | 2.1.3 | RXR-related receptors |\n",
       "\n"
      ],
      "text/plain": [
       "  motif subfamily.id family.id family.name          \n",
       "1 NR2F1 2.1.3.5      2.1.3     RXR-related receptors"
      ]
     },
     "metadata": {},
     "output_type": "display_data"
    }
   ],
   "source": [
    "data.frame(motif = \"NR2F1\", subfamily.id = \"2.1.3.5\", stringsAsFactors = F) %>% left_join(tfclass.db.dic$merged %>% \n",
    "    select(subfamily.id, family.id, family.name)%>%unique)"
   ]
  },
  {
   "cell_type": "code",
   "execution_count": 155,
   "metadata": {
    "scrolled": false
   },
   "outputs": [
    {
     "data": {
      "text/html": [
       "<ol class=list-inline>\n",
       "\t<li>3474</li>\n",
       "\t<li>9</li>\n",
       "</ol>\n"
      ],
      "text/latex": [
       "\\begin{enumerate*}\n",
       "\\item 3474\n",
       "\\item 9\n",
       "\\end{enumerate*}\n"
      ],
      "text/markdown": [
       "1. 3474\n",
       "2. 9\n",
       "\n",
       "\n"
      ],
      "text/plain": [
       "[1] 3474    9"
      ]
     },
     "metadata": {},
     "output_type": "display_data"
    },
    {
     "data": {
      "text/html": [
       "18"
      ],
      "text/latex": [
       "18"
      ],
      "text/markdown": [
       "18"
      ],
      "text/plain": [
       "[1] 18"
      ]
     },
     "metadata": {},
     "output_type": "display_data"
    },
    {
     "data": {
      "text/html": [
       "<table>\n",
       "<caption>A grouped_df: 2 × 12</caption>\n",
       "<thead>\n",
       "\t<tr><th scope=col>jaspar.id</th><th scope=col>motif</th><th scope=col>mean_x</th><th scope=col>mean_y</th><th scope=col>pval</th><th scope=col>test</th><th scope=col>x</th><th scope=col>y</th><th scope=col>FDR</th><th scope=col>padj</th><th scope=col>family.id</th><th scope=col>family.name</th></tr>\n",
       "\t<tr><th scope=col>&lt;chr&gt;</th><th scope=col>&lt;chr&gt;</th><th scope=col>&lt;dbl&gt;</th><th scope=col>&lt;dbl&gt;</th><th scope=col>&lt;dbl&gt;</th><th scope=col>&lt;chr&gt;</th><th scope=col>&lt;chr&gt;</th><th scope=col>&lt;chr&gt;</th><th scope=col>&lt;dbl&gt;</th><th scope=col>&lt;dbl&gt;</th><th scope=col>&lt;chr&gt;</th><th scope=col>&lt;fct&gt;</th></tr>\n",
       "</thead>\n",
       "<tbody>\n",
       "\t<tr><td>MA0637.1</td><td>CENPB</td><td>-0.06876892</td><td>0.03029314</td><td>6.315258e-09</td><td>beta.vs.other</td><td>beta</td><td>other</td><td>8.929266e-09</td><td>2.437690e-06</td><td>NA</td><td>NA</td></tr>\n",
       "\t<tr><td>MA0017.2</td><td>NR2F1</td><td>-0.10012182</td><td>0.10325331</td><td>4.524602e-28</td><td>beta.vs.other</td><td>beta</td><td>other</td><td>8.776364e-28</td><td>1.746496e-25</td><td>NA</td><td>NA</td></tr>\n",
       "</tbody>\n",
       "</table>\n"
      ],
      "text/latex": [
       "A grouped_df: 2 × 12\n",
       "\\begin{tabular}{r|llllllllllll}\n",
       " jaspar.id & motif & mean\\_x & mean\\_y & pval & test & x & y & FDR & padj & family.id & family.name\\\\\n",
       " <chr> & <chr> & <dbl> & <dbl> & <dbl> & <chr> & <chr> & <chr> & <dbl> & <dbl> & <chr> & <fct>\\\\\n",
       "\\hline\n",
       "\t MA0637.1 & CENPB & -0.06876892 & 0.03029314 & 6.315258e-09 & beta.vs.other & beta & other & 8.929266e-09 & 2.437690e-06 & NA & NA\\\\\n",
       "\t MA0017.2 & NR2F1 & -0.10012182 & 0.10325331 & 4.524602e-28 & beta.vs.other & beta & other & 8.776364e-28 & 1.746496e-25 & NA & NA\\\\\n",
       "\\end{tabular}\n"
      ],
      "text/markdown": [
       "\n",
       "A grouped_df: 2 × 12\n",
       "\n",
       "| jaspar.id &lt;chr&gt; | motif &lt;chr&gt; | mean_x &lt;dbl&gt; | mean_y &lt;dbl&gt; | pval &lt;dbl&gt; | test &lt;chr&gt; | x &lt;chr&gt; | y &lt;chr&gt; | FDR &lt;dbl&gt; | padj &lt;dbl&gt; | family.id &lt;chr&gt; | family.name &lt;fct&gt; |\n",
       "|---|---|---|---|---|---|---|---|---|---|---|---|\n",
       "| MA0637.1 | CENPB | -0.06876892 | 0.03029314 | 6.315258e-09 | beta.vs.other | beta | other | 8.929266e-09 | 2.437690e-06 | NA | NA |\n",
       "| MA0017.2 | NR2F1 | -0.10012182 | 0.10325331 | 4.524602e-28 | beta.vs.other | beta | other | 8.776364e-28 | 1.746496e-25 | NA | NA |\n",
       "\n"
      ],
      "text/plain": [
       "  jaspar.id motif mean_x      mean_y     pval         test          x    y    \n",
       "1 MA0637.1  CENPB -0.06876892 0.03029314 6.315258e-09 beta.vs.other beta other\n",
       "2 MA0017.2  NR2F1 -0.10012182 0.10325331 4.524602e-28 beta.vs.other beta other\n",
       "  FDR          padj         family.id family.name\n",
       "1 8.929266e-09 2.437690e-06 NA        NA         \n",
       "2 8.776364e-28 1.746496e-25 NA        NA         "
      ]
     },
     "metadata": {},
     "output_type": "display_data"
    },
    {
     "data": {
      "text/html": [
       "<ol class=list-inline>\n",
       "\t<li>3555</li>\n",
       "\t<li>12</li>\n",
       "</ol>\n"
      ],
      "text/latex": [
       "\\begin{enumerate*}\n",
       "\\item 3555\n",
       "\\item 12\n",
       "\\end{enumerate*}\n"
      ],
      "text/markdown": [
       "1. 3555\n",
       "2. 12\n",
       "\n",
       "\n"
      ],
      "text/plain": [
       "[1] 3555   12"
      ]
     },
     "metadata": {},
     "output_type": "display_data"
    },
    {
     "data": {
      "text/html": [
       "<table>\n",
       "<caption>A tibble: 2 × 2</caption>\n",
       "<thead>\n",
       "\t<tr><th scope=col>jaspar.id</th><th scope=col>motif</th></tr>\n",
       "\t<tr><th scope=col>&lt;chr&gt;</th><th scope=col>&lt;chr&gt;</th></tr>\n",
       "</thead>\n",
       "<tbody>\n",
       "\t<tr><td>MA0637.1</td><td>CENPB</td></tr>\n",
       "\t<tr><td>MA0017.2</td><td>NR2F1</td></tr>\n",
       "</tbody>\n",
       "</table>\n"
      ],
      "text/latex": [
       "A tibble: 2 × 2\n",
       "\\begin{tabular}{r|ll}\n",
       " jaspar.id & motif\\\\\n",
       " <chr> & <chr>\\\\\n",
       "\\hline\n",
       "\t MA0637.1 & CENPB\\\\\n",
       "\t MA0017.2 & NR2F1\\\\\n",
       "\\end{tabular}\n"
      ],
      "text/markdown": [
       "\n",
       "A tibble: 2 × 2\n",
       "\n",
       "| jaspar.id &lt;chr&gt; | motif &lt;chr&gt; |\n",
       "|---|---|\n",
       "| MA0637.1 | CENPB |\n",
       "| MA0017.2 | NR2F1 |\n",
       "\n"
      ],
      "text/plain": [
       "  jaspar.id motif\n",
       "1 MA0637.1  CENPB\n",
       "2 MA0017.2  NR2F1"
      ]
     },
     "metadata": {},
     "output_type": "display_data"
    },
    {
     "name": "stderr",
     "output_type": "stream",
     "text": [
      "Joining, by = \"subfamily.id\"\n"
     ]
    },
    {
     "data": {
      "text/html": [
       "<table>\n",
       "<caption>A data.frame: 1 × 4</caption>\n",
       "<thead>\n",
       "\t<tr><th scope=col>motif</th><th scope=col>subfamily.id</th><th scope=col>family.id</th><th scope=col>family.name</th></tr>\n",
       "\t<tr><th scope=col>&lt;chr&gt;</th><th scope=col>&lt;chr&gt;</th><th scope=col>&lt;chr&gt;</th><th scope=col>&lt;fct&gt;</th></tr>\n",
       "</thead>\n",
       "<tbody>\n",
       "\t<tr><td>NR2F1</td><td>2.1.3.5</td><td>2.1.3</td><td>RXR-related receptors</td></tr>\n",
       "</tbody>\n",
       "</table>\n"
      ],
      "text/latex": [
       "A data.frame: 1 × 4\n",
       "\\begin{tabular}{r|llll}\n",
       " motif & subfamily.id & family.id & family.name\\\\\n",
       " <chr> & <chr> & <chr> & <fct>\\\\\n",
       "\\hline\n",
       "\t NR2F1 & 2.1.3.5 & 2.1.3 & RXR-related receptors\\\\\n",
       "\\end{tabular}\n"
      ],
      "text/markdown": [
       "\n",
       "A data.frame: 1 × 4\n",
       "\n",
       "| motif &lt;chr&gt; | subfamily.id &lt;chr&gt; | family.id &lt;chr&gt; | family.name &lt;fct&gt; |\n",
       "|---|---|---|---|\n",
       "| NR2F1 | 2.1.3.5 | 2.1.3 | RXR-related receptors |\n",
       "\n"
      ],
      "text/plain": [
       "  motif subfamily.id family.id family.name          \n",
       "1 NR2F1 2.1.3.5      2.1.3     RXR-related receptors"
      ]
     },
     "metadata": {},
     "output_type": "display_data"
    },
    {
     "name": "stderr",
     "output_type": "stream",
     "text": [
      "Joining, by = \"subfamily.id\"\n"
     ]
    },
    {
     "data": {
      "text/html": [
       "<table>\n",
       "<caption>A grouped_df: 1 × 12</caption>\n",
       "<thead>\n",
       "\t<tr><th scope=col>jaspar.id</th><th scope=col>motif</th><th scope=col>mean_x</th><th scope=col>mean_y</th><th scope=col>pval</th><th scope=col>test</th><th scope=col>x</th><th scope=col>y</th><th scope=col>FDR</th><th scope=col>padj</th><th scope=col>family.id</th><th scope=col>family.name</th></tr>\n",
       "\t<tr><th scope=col>&lt;chr&gt;</th><th scope=col>&lt;chr&gt;</th><th scope=col>&lt;dbl&gt;</th><th scope=col>&lt;dbl&gt;</th><th scope=col>&lt;dbl&gt;</th><th scope=col>&lt;chr&gt;</th><th scope=col>&lt;chr&gt;</th><th scope=col>&lt;chr&gt;</th><th scope=col>&lt;dbl&gt;</th><th scope=col>&lt;dbl&gt;</th><th scope=col>&lt;chr&gt;</th><th scope=col>&lt;fct&gt;</th></tr>\n",
       "</thead>\n",
       "<tbody>\n",
       "\t<tr><td>MA0017.2</td><td>NR2F1</td><td>-0.1001218</td><td>0.1032533</td><td>4.524602e-28</td><td>beta.vs.other</td><td>beta</td><td>other</td><td>8.776364e-28</td><td>1.746496e-25</td><td>2.1.3</td><td>RXR-related receptors</td></tr>\n",
       "</tbody>\n",
       "</table>\n"
      ],
      "text/latex": [
       "A grouped_df: 1 × 12\n",
       "\\begin{tabular}{r|llllllllllll}\n",
       " jaspar.id & motif & mean\\_x & mean\\_y & pval & test & x & y & FDR & padj & family.id & family.name\\\\\n",
       " <chr> & <chr> & <dbl> & <dbl> & <dbl> & <chr> & <chr> & <chr> & <dbl> & <dbl> & <chr> & <fct>\\\\\n",
       "\\hline\n",
       "\t MA0017.2 & NR2F1 & -0.1001218 & 0.1032533 & 4.524602e-28 & beta.vs.other & beta & other & 8.776364e-28 & 1.746496e-25 & 2.1.3 & RXR-related receptors\\\\\n",
       "\\end{tabular}\n"
      ],
      "text/markdown": [
       "\n",
       "A grouped_df: 1 × 12\n",
       "\n",
       "| jaspar.id &lt;chr&gt; | motif &lt;chr&gt; | mean_x &lt;dbl&gt; | mean_y &lt;dbl&gt; | pval &lt;dbl&gt; | test &lt;chr&gt; | x &lt;chr&gt; | y &lt;chr&gt; | FDR &lt;dbl&gt; | padj &lt;dbl&gt; | family.id &lt;chr&gt; | family.name &lt;fct&gt; |\n",
       "|---|---|---|---|---|---|---|---|---|---|---|---|\n",
       "| MA0017.2 | NR2F1 | -0.1001218 | 0.1032533 | 4.524602e-28 | beta.vs.other | beta | other | 8.776364e-28 | 1.746496e-25 | 2.1.3 | RXR-related receptors |\n",
       "\n"
      ],
      "text/plain": [
       "  jaspar.id motif mean_x     mean_y    pval         test          x    y    \n",
       "1 MA0017.2  NR2F1 -0.1001218 0.1032533 4.524602e-28 beta.vs.other beta other\n",
       "  FDR          padj         family.id family.name          \n",
       "1 8.776364e-28 1.746496e-25 2.1.3     RXR-related receptors"
      ]
     },
     "metadata": {},
     "output_type": "display_data"
    }
   ],
   "source": [
    "ttest.res.ct %>% dim\n",
    "ttest.res.2 <- ttest.res.ct %>% separate(motif, into = c(\"jaspar.id\", \"motif\"), sep = \"_\") %>% \n",
    "    left_join(tfclass.db.dic$merged %>% select(family.id, family.name, jaspar.name)%>%unique, \n",
    "        by = c(motif = \"jaspar.name\"))\n",
    "sum(is.na(ttest.res.2$family.id))\n",
    "tmp <- ttest.res.2[is.na(ttest.res.2$family.id), ]\n",
    "ttest.res.2[is.na(ttest.res.2$family.id), ] %>% head(2)\n",
    "ttest.res.2 %>% dim\n",
    "tmp %>% ungroup %>% select(jaspar.id, motif) %>% unique\n",
    "\n",
    "## rescue NR2F1\n",
    "## https://github.com/epigen-UCSD/atacMotif/blob/master/db/rescue_Jaspar.txt\n",
    "data.frame(motif = \"NR2F1\", subfamily.id = \"2.1.3.5\", stringsAsFactors = F) %>% left_join(tfclass.db.dic$merged %>% \n",
    "    select(subfamily.id, family.id, family.name)%>%unique)\n",
    "ttest.res.2[ttest.res.2$motif=='NR2F1',c(\"family.id\",\"family.name\")] <- data.frame(motif = \"NR2F1\", subfamily.id = \"2.1.3.5\", stringsAsFactors = F) %>% left_join(tfclass.db.dic$merged %>% \n",
    "    select(subfamily.id, family.id, family.name)%>%unique)%>%select(family.id,family.name)\n",
    "ttest.res.2[ttest.res.2$motif=='NR2F1',]%>%head(1)"
   ]
  },
  {
   "cell_type": "code",
   "execution_count": 156,
   "metadata": {},
   "outputs": [
    {
     "data": {
      "text/html": [
       "<ol class=list-inline>\n",
       "\t<li>3555</li>\n",
       "\t<li>12</li>\n",
       "</ol>\n"
      ],
      "text/latex": [
       "\\begin{enumerate*}\n",
       "\\item 3555\n",
       "\\item 12\n",
       "\\end{enumerate*}\n"
      ],
      "text/markdown": [
       "1. 3555\n",
       "2. 12\n",
       "\n",
       "\n"
      ],
      "text/plain": [
       "[1] 3555   12"
      ]
     },
     "metadata": {},
     "output_type": "display_data"
    },
    {
     "data": {
      "text/html": [
       "<table>\n",
       "<caption>A tibble: 1 × 2</caption>\n",
       "<thead>\n",
       "\t<tr><th scope=col>motif</th><th scope=col>family.id</th></tr>\n",
       "\t<tr><th scope=col>&lt;chr&gt;</th><th scope=col>&lt;chr&gt;</th></tr>\n",
       "</thead>\n",
       "<tbody>\n",
       "\t<tr><td>CENPB</td><td>NA</td></tr>\n",
       "</tbody>\n",
       "</table>\n"
      ],
      "text/latex": [
       "A tibble: 1 × 2\n",
       "\\begin{tabular}{r|ll}\n",
       " motif & family.id\\\\\n",
       " <chr> & <chr>\\\\\n",
       "\\hline\n",
       "\t CENPB & NA\\\\\n",
       "\\end{tabular}\n"
      ],
      "text/markdown": [
       "\n",
       "A tibble: 1 × 2\n",
       "\n",
       "| motif &lt;chr&gt; | family.id &lt;chr&gt; |\n",
       "|---|---|\n",
       "| CENPB | NA |\n",
       "\n"
      ],
      "text/plain": [
       "  motif family.id\n",
       "1 CENPB NA       "
      ]
     },
     "metadata": {},
     "output_type": "display_data"
    },
    {
     "data": {
      "text/html": [
       "<ol class=list-inline>\n",
       "\t<li>3555</li>\n",
       "\t<li>14</li>\n",
       "</ol>\n"
      ],
      "text/latex": [
       "\\begin{enumerate*}\n",
       "\\item 3555\n",
       "\\item 14\n",
       "\\end{enumerate*}\n"
      ],
      "text/markdown": [
       "1. 3555\n",
       "2. 14\n",
       "\n",
       "\n"
      ],
      "text/plain": [
       "[1] 3555   14"
      ]
     },
     "metadata": {},
     "output_type": "display_data"
    },
    {
     "data": {
      "text/html": [
       "<table>\n",
       "<caption>A grouped_df: 1 × 14</caption>\n",
       "<thead>\n",
       "\t<tr><th scope=col>jaspar.id</th><th scope=col>motif</th><th scope=col>mean_x</th><th scope=col>mean_y</th><th scope=col>pval</th><th scope=col>test</th><th scope=col>x</th><th scope=col>y</th><th scope=col>FDR</th><th scope=col>padj</th><th scope=col>family.id</th><th scope=col>family.name</th><th scope=col>class.id</th><th scope=col>class.name</th></tr>\n",
       "\t<tr><th scope=col>&lt;chr&gt;</th><th scope=col>&lt;chr&gt;</th><th scope=col>&lt;dbl&gt;</th><th scope=col>&lt;dbl&gt;</th><th scope=col>&lt;dbl&gt;</th><th scope=col>&lt;chr&gt;</th><th scope=col>&lt;chr&gt;</th><th scope=col>&lt;chr&gt;</th><th scope=col>&lt;dbl&gt;</th><th scope=col>&lt;dbl&gt;</th><th scope=col>&lt;chr&gt;</th><th scope=col>&lt;fct&gt;</th><th scope=col>&lt;chr&gt;</th><th scope=col>&lt;chr&gt;</th></tr>\n",
       "</thead>\n",
       "<tbody>\n",
       "\t<tr><td>MA0025.1</td><td>NFIL3</td><td>0.203819</td><td>-0.1937263</td><td>9.648261e-99</td><td>beta.vs.other</td><td>beta</td><td>other</td><td>3.687355e-98</td><td>3.724229e-96</td><td>1.1.8</td><td>CEBP-related</td><td>1.1</td><td>Basic leucine zipper factors (bZIP)</td></tr>\n",
       "</tbody>\n",
       "</table>\n"
      ],
      "text/latex": [
       "A grouped_df: 1 × 14\n",
       "\\begin{tabular}{r|llllllllllllll}\n",
       " jaspar.id & motif & mean\\_x & mean\\_y & pval & test & x & y & FDR & padj & family.id & family.name & class.id & class.name\\\\\n",
       " <chr> & <chr> & <dbl> & <dbl> & <dbl> & <chr> & <chr> & <chr> & <dbl> & <dbl> & <chr> & <fct> & <chr> & <chr>\\\\\n",
       "\\hline\n",
       "\t MA0025.1 & NFIL3 & 0.203819 & -0.1937263 & 9.648261e-99 & beta.vs.other & beta & other & 3.687355e-98 & 3.724229e-96 & 1.1.8 & CEBP-related & 1.1 & Basic leucine zipper factors (bZIP)\\\\\n",
       "\\end{tabular}\n"
      ],
      "text/markdown": [
       "\n",
       "A grouped_df: 1 × 14\n",
       "\n",
       "| jaspar.id &lt;chr&gt; | motif &lt;chr&gt; | mean_x &lt;dbl&gt; | mean_y &lt;dbl&gt; | pval &lt;dbl&gt; | test &lt;chr&gt; | x &lt;chr&gt; | y &lt;chr&gt; | FDR &lt;dbl&gt; | padj &lt;dbl&gt; | family.id &lt;chr&gt; | family.name &lt;fct&gt; | class.id &lt;chr&gt; | class.name &lt;chr&gt; |\n",
       "|---|---|---|---|---|---|---|---|---|---|---|---|---|---|\n",
       "| MA0025.1 | NFIL3 | 0.203819 | -0.1937263 | 9.648261e-99 | beta.vs.other | beta | other | 3.687355e-98 | 3.724229e-96 | 1.1.8 | CEBP-related | 1.1 | Basic leucine zipper factors (bZIP) |\n",
       "\n"
      ],
      "text/plain": [
       "  jaspar.id motif mean_x   mean_y     pval         test          x    y    \n",
       "1 MA0025.1  NFIL3 0.203819 -0.1937263 9.648261e-99 beta.vs.other beta other\n",
       "  FDR          padj         family.id family.name  class.id\n",
       "1 3.687355e-98 3.724229e-96 1.1.8     CEBP-related 1.1     \n",
       "  class.name                         \n",
       "1 Basic leucine zipper factors (bZIP)"
      ]
     },
     "metadata": {},
     "output_type": "display_data"
    },
    {
     "data": {
      "text/html": [
       "<table>\n",
       "<caption>A tibble: 1 × 3</caption>\n",
       "<thead>\n",
       "\t<tr><th scope=col>motif</th><th scope=col>family.id</th><th scope=col>class.id</th></tr>\n",
       "\t<tr><th scope=col>&lt;chr&gt;</th><th scope=col>&lt;chr&gt;</th><th scope=col>&lt;chr&gt;</th></tr>\n",
       "</thead>\n",
       "<tbody>\n",
       "\t<tr><td>CENPB</td><td>NA</td><td>NA</td></tr>\n",
       "</tbody>\n",
       "</table>\n"
      ],
      "text/latex": [
       "A tibble: 1 × 3\n",
       "\\begin{tabular}{r|lll}\n",
       " motif & family.id & class.id\\\\\n",
       " <chr> & <chr> & <chr>\\\\\n",
       "\\hline\n",
       "\t CENPB & NA & NA\\\\\n",
       "\\end{tabular}\n"
      ],
      "text/markdown": [
       "\n",
       "A tibble: 1 × 3\n",
       "\n",
       "| motif &lt;chr&gt; | family.id &lt;chr&gt; | class.id &lt;chr&gt; |\n",
       "|---|---|---|\n",
       "| CENPB | NA | NA |\n",
       "\n"
      ],
      "text/plain": [
       "  motif family.id class.id\n",
       "1 CENPB NA        NA      "
      ]
     },
     "metadata": {},
     "output_type": "display_data"
    }
   ],
   "source": [
    "ttest.res.2 %>% dim\n",
    "ttest.res.2 %>% filter(is.na(family.id)) %>% ungroup %>% select(motif, family.id) %>% \n",
    "    unique\n",
    "ttest.res.2 <- ttest.res.2 %>% mutate(class.id = sub(\".[0-9]+$\", \"\", family.id)) %>% \n",
    "    left_join(tfclass.db$class %>% select(-about), by = c(class.id = \"id\"))%>% rename(class.name = name) \n",
    "ttest.res.2 %>% dim\n",
    "ttest.res.2 %>% head(1)\n",
    "ttest.res.2 %>% filter(is.na(class.id)) %>% ungroup %>% select(motif, family.id, \n",
    "    class.id) %>% unique"
   ]
  },
  {
   "cell_type": "code",
   "execution_count": 157,
   "metadata": {
    "scrolled": true
   },
   "outputs": [
    {
     "data": {
      "text/html": [
       "<ol class=list-inline>\n",
       "\t<li>3555</li>\n",
       "\t<li>14</li>\n",
       "</ol>\n"
      ],
      "text/latex": [
       "\\begin{enumerate*}\n",
       "\\item 3555\n",
       "\\item 14\n",
       "\\end{enumerate*}\n"
      ],
      "text/markdown": [
       "1. 3555\n",
       "2. 14\n",
       "\n",
       "\n"
      ],
      "text/plain": [
       "[1] 3555   14"
      ]
     },
     "metadata": {},
     "output_type": "display_data"
    },
    {
     "data": {
      "text/html": [
       "<ol class=list-inline>\n",
       "\t<li>3555</li>\n",
       "\t<li>16</li>\n",
       "</ol>\n"
      ],
      "text/latex": [
       "\\begin{enumerate*}\n",
       "\\item 3555\n",
       "\\item 16\n",
       "\\end{enumerate*}\n"
      ],
      "text/markdown": [
       "1. 3555\n",
       "2. 16\n",
       "\n",
       "\n"
      ],
      "text/plain": [
       "[1] 3555   16"
      ]
     },
     "metadata": {},
     "output_type": "display_data"
    },
    {
     "data": {
      "text/html": [
       "<table>\n",
       "<caption>A grouped_df: 1 × 16</caption>\n",
       "<thead>\n",
       "\t<tr><th scope=col>jaspar.id</th><th scope=col>motif</th><th scope=col>mean_x</th><th scope=col>mean_y</th><th scope=col>pval</th><th scope=col>test</th><th scope=col>x</th><th scope=col>y</th><th scope=col>FDR</th><th scope=col>padj</th><th scope=col>family.id</th><th scope=col>family.name</th><th scope=col>class.id</th><th scope=col>class.name</th><th scope=col>superclass.id</th><th scope=col>superclass.name</th></tr>\n",
       "\t<tr><th scope=col>&lt;chr&gt;</th><th scope=col>&lt;chr&gt;</th><th scope=col>&lt;dbl&gt;</th><th scope=col>&lt;dbl&gt;</th><th scope=col>&lt;dbl&gt;</th><th scope=col>&lt;chr&gt;</th><th scope=col>&lt;chr&gt;</th><th scope=col>&lt;chr&gt;</th><th scope=col>&lt;dbl&gt;</th><th scope=col>&lt;dbl&gt;</th><th scope=col>&lt;chr&gt;</th><th scope=col>&lt;fct&gt;</th><th scope=col>&lt;chr&gt;</th><th scope=col>&lt;chr&gt;</th><th scope=col>&lt;chr&gt;</th><th scope=col>&lt;chr&gt;</th></tr>\n",
       "</thead>\n",
       "<tbody>\n",
       "\t<tr><td>MA0025.1</td><td>NFIL3</td><td>0.203819</td><td>-0.1937263</td><td>9.648261e-99</td><td>beta.vs.other</td><td>beta</td><td>other</td><td>3.687355e-98</td><td>3.724229e-96</td><td>1.1.8</td><td>CEBP-related</td><td>1.1</td><td>Basic leucine zipper factors (bZIP)</td><td>1</td><td>Basic domains</td></tr>\n",
       "</tbody>\n",
       "</table>\n"
      ],
      "text/latex": [
       "A grouped_df: 1 × 16\n",
       "\\begin{tabular}{r|llllllllllllllll}\n",
       " jaspar.id & motif & mean\\_x & mean\\_y & pval & test & x & y & FDR & padj & family.id & family.name & class.id & class.name & superclass.id & superclass.name\\\\\n",
       " <chr> & <chr> & <dbl> & <dbl> & <dbl> & <chr> & <chr> & <chr> & <dbl> & <dbl> & <chr> & <fct> & <chr> & <chr> & <chr> & <chr>\\\\\n",
       "\\hline\n",
       "\t MA0025.1 & NFIL3 & 0.203819 & -0.1937263 & 9.648261e-99 & beta.vs.other & beta & other & 3.687355e-98 & 3.724229e-96 & 1.1.8 & CEBP-related & 1.1 & Basic leucine zipper factors (bZIP) & 1 & Basic domains\\\\\n",
       "\\end{tabular}\n"
      ],
      "text/markdown": [
       "\n",
       "A grouped_df: 1 × 16\n",
       "\n",
       "| jaspar.id &lt;chr&gt; | motif &lt;chr&gt; | mean_x &lt;dbl&gt; | mean_y &lt;dbl&gt; | pval &lt;dbl&gt; | test &lt;chr&gt; | x &lt;chr&gt; | y &lt;chr&gt; | FDR &lt;dbl&gt; | padj &lt;dbl&gt; | family.id &lt;chr&gt; | family.name &lt;fct&gt; | class.id &lt;chr&gt; | class.name &lt;chr&gt; | superclass.id &lt;chr&gt; | superclass.name &lt;chr&gt; |\n",
       "|---|---|---|---|---|---|---|---|---|---|---|---|---|---|---|---|\n",
       "| MA0025.1 | NFIL3 | 0.203819 | -0.1937263 | 9.648261e-99 | beta.vs.other | beta | other | 3.687355e-98 | 3.724229e-96 | 1.1.8 | CEBP-related | 1.1 | Basic leucine zipper factors (bZIP) | 1 | Basic domains |\n",
       "\n"
      ],
      "text/plain": [
       "  jaspar.id motif mean_x   mean_y     pval         test          x    y    \n",
       "1 MA0025.1  NFIL3 0.203819 -0.1937263 9.648261e-99 beta.vs.other beta other\n",
       "  FDR          padj         family.id family.name  class.id\n",
       "1 3.687355e-98 3.724229e-96 1.1.8     CEBP-related 1.1     \n",
       "  class.name                          superclass.id superclass.name\n",
       "1 Basic leucine zipper factors (bZIP) 1             Basic domains  "
      ]
     },
     "metadata": {},
     "output_type": "display_data"
    },
    {
     "data": {
      "text/html": [
       "<table>\n",
       "<caption>A tibble: 1 × 4</caption>\n",
       "<thead>\n",
       "\t<tr><th scope=col>motif</th><th scope=col>family.id</th><th scope=col>class.id</th><th scope=col>superclass.id</th></tr>\n",
       "\t<tr><th scope=col>&lt;chr&gt;</th><th scope=col>&lt;chr&gt;</th><th scope=col>&lt;chr&gt;</th><th scope=col>&lt;chr&gt;</th></tr>\n",
       "</thead>\n",
       "<tbody>\n",
       "\t<tr><td>CENPB</td><td>NA</td><td>NA</td><td>NA</td></tr>\n",
       "</tbody>\n",
       "</table>\n"
      ],
      "text/latex": [
       "A tibble: 1 × 4\n",
       "\\begin{tabular}{r|llll}\n",
       " motif & family.id & class.id & superclass.id\\\\\n",
       " <chr> & <chr> & <chr> & <chr>\\\\\n",
       "\\hline\n",
       "\t CENPB & NA & NA & NA\\\\\n",
       "\\end{tabular}\n"
      ],
      "text/markdown": [
       "\n",
       "A tibble: 1 × 4\n",
       "\n",
       "| motif &lt;chr&gt; | family.id &lt;chr&gt; | class.id &lt;chr&gt; | superclass.id &lt;chr&gt; |\n",
       "|---|---|---|---|\n",
       "| CENPB | NA | NA | NA |\n",
       "\n"
      ],
      "text/plain": [
       "  motif family.id class.id superclass.id\n",
       "1 CENPB NA        NA       NA           "
      ]
     },
     "metadata": {},
     "output_type": "display_data"
    }
   ],
   "source": [
    "ttest.res.2 %>% dim\n",
    "ttest.res.2 <- ttest.res.2 %>% mutate(superclass.id = sub(\".[0-9]+$\", \"\", class.id)) %>% \n",
    "    left_join(tfclass.db$superclass %>% select(-about), by = c(superclass.id = \"id\")) %>% \n",
    "    rename(superclass.name = \"name\")\n",
    "ttest.res.2 %>% dim\n",
    "ttest.res.2 %>% head(1)\n",
    "ttest.res.2 %>% filter(is.na(superclass.id)) %>% ungroup %>% select(motif, family.id, \n",
    "    class.id,superclass.id) %>% unique"
   ]
  },
  {
   "cell_type": "code",
   "execution_count": 161,
   "metadata": {},
   "outputs": [
    {
     "data": {
      "text/html": [
       "<table>\n",
       "<caption>A grouped_df: 1 × 17</caption>\n",
       "<thead>\n",
       "\t<tr><th scope=col>jaspar.id</th><th scope=col>motif</th><th scope=col>mean_x</th><th scope=col>mean_y</th><th scope=col>pval</th><th scope=col>test</th><th scope=col>x</th><th scope=col>y</th><th scope=col>enrichedIn</th><th scope=col>FDR</th><th scope=col>padj</th><th scope=col>family.id</th><th scope=col>family.name</th><th scope=col>class.id</th><th scope=col>class.name</th><th scope=col>superclass.id</th><th scope=col>superclass.name</th></tr>\n",
       "\t<tr><th scope=col>&lt;chr&gt;</th><th scope=col>&lt;chr&gt;</th><th scope=col>&lt;dbl&gt;</th><th scope=col>&lt;dbl&gt;</th><th scope=col>&lt;dbl&gt;</th><th scope=col>&lt;chr&gt;</th><th scope=col>&lt;chr&gt;</th><th scope=col>&lt;chr&gt;</th><th scope=col>&lt;chr&gt;</th><th scope=col>&lt;dbl&gt;</th><th scope=col>&lt;dbl&gt;</th><th scope=col>&lt;chr&gt;</th><th scope=col>&lt;fct&gt;</th><th scope=col>&lt;chr&gt;</th><th scope=col>&lt;chr&gt;</th><th scope=col>&lt;chr&gt;</th><th scope=col>&lt;chr&gt;</th></tr>\n",
       "</thead>\n",
       "<tbody>\n",
       "\t<tr><td>MA0025.1</td><td>NFIL3</td><td>0.203819</td><td>-0.1937263</td><td>9.648261e-99</td><td>beta.vs.other</td><td>beta</td><td>other</td><td>beta</td><td>3.687355e-98</td><td>3.724229e-96</td><td>1.1.8</td><td>CEBP-related</td><td>1.1</td><td>Basic leucine zipper factors (bZIP)</td><td>1</td><td>Basic domains</td></tr>\n",
       "</tbody>\n",
       "</table>\n"
      ],
      "text/latex": [
       "A grouped_df: 1 × 17\n",
       "\\begin{tabular}{r|lllllllllllllllll}\n",
       " jaspar.id & motif & mean\\_x & mean\\_y & pval & test & x & y & enrichedIn & FDR & padj & family.id & family.name & class.id & class.name & superclass.id & superclass.name\\\\\n",
       " <chr> & <chr> & <dbl> & <dbl> & <dbl> & <chr> & <chr> & <chr> & <chr> & <dbl> & <dbl> & <chr> & <fct> & <chr> & <chr> & <chr> & <chr>\\\\\n",
       "\\hline\n",
       "\t MA0025.1 & NFIL3 & 0.203819 & -0.1937263 & 9.648261e-99 & beta.vs.other & beta & other & beta & 3.687355e-98 & 3.724229e-96 & 1.1.8 & CEBP-related & 1.1 & Basic leucine zipper factors (bZIP) & 1 & Basic domains\\\\\n",
       "\\end{tabular}\n"
      ],
      "text/markdown": [
       "\n",
       "A grouped_df: 1 × 17\n",
       "\n",
       "| jaspar.id &lt;chr&gt; | motif &lt;chr&gt; | mean_x &lt;dbl&gt; | mean_y &lt;dbl&gt; | pval &lt;dbl&gt; | test &lt;chr&gt; | x &lt;chr&gt; | y &lt;chr&gt; | enrichedIn &lt;chr&gt; | FDR &lt;dbl&gt; | padj &lt;dbl&gt; | family.id &lt;chr&gt; | family.name &lt;fct&gt; | class.id &lt;chr&gt; | class.name &lt;chr&gt; | superclass.id &lt;chr&gt; | superclass.name &lt;chr&gt; |\n",
       "|---|---|---|---|---|---|---|---|---|---|---|---|---|---|---|---|---|\n",
       "| MA0025.1 | NFIL3 | 0.203819 | -0.1937263 | 9.648261e-99 | beta.vs.other | beta | other | beta | 3.687355e-98 | 3.724229e-96 | 1.1.8 | CEBP-related | 1.1 | Basic leucine zipper factors (bZIP) | 1 | Basic domains |\n",
       "\n"
      ],
      "text/plain": [
       "  jaspar.id motif mean_x   mean_y     pval         test          x    y    \n",
       "1 MA0025.1  NFIL3 0.203819 -0.1937263 9.648261e-99 beta.vs.other beta other\n",
       "  enrichedIn FDR          padj         family.id family.name  class.id\n",
       "1 beta       3.687355e-98 3.724229e-96 1.1.8     CEBP-related 1.1     \n",
       "  class.name                          superclass.id superclass.name\n",
       "1 Basic leucine zipper factors (bZIP) 1             Basic domains  "
      ]
     },
     "metadata": {},
     "output_type": "display_data"
    }
   ],
   "source": [
    "(ttest.res.2 %>% head(1) %>% mutate(enrichedIn = ifelse(mean_x > mean_y, x, y)))[, \n",
    "    c(1:8, 17, 9:16)]\n",
    "ttest.res.2 <- (ttest.res.2 %>% mutate(enrichedIn = ifelse(mean_x > mean_y, x, y)))[, \n",
    "    c(1:8, 17, 9:16)]"
   ]
  },
  {
   "cell_type": "code",
   "execution_count": 163,
   "metadata": {},
   "outputs": [],
   "source": [
    "ttest.res.list <- lapply(paste0(celltype.test.all, \".vs.other\"), function(ntest) {\n",
    "    ttest.res.2 %>% filter(test == ntest) %>% group_by(test) %>% arrange(desc(mean_x))\n",
    "    \n",
    "})\n",
    "names(ttest.res.list) <- paste0(celltype.test.all, \".vs.other\")\n",
    "require(writexl)\n",
    "write_xlsx(ttest.res.list, \"~/Dropbox (UCSD_Epigenomics)/workReports/2019-10_islet_rev/fig1E_one_vs_other.xlsx\")\n",
    "fwrite(ttest.res.2 %>% group_by(test) %>% arrange(desc(mean_x)), \"~/Dropbox (UCSD_Epigenomics)/workReports/2019-10_islet_rev/fig1E_one_vs_other.csv\")"
   ]
  }
 ],
 "metadata": {
  "kernelspec": {
   "display_name": "R",
   "language": "R",
   "name": "ir"
  },
  "language_info": {
   "codemirror_mode": "r",
   "file_extension": ".r",
   "mimetype": "text/x-r-source",
   "name": "R",
   "pygments_lexer": "r",
   "version": "3.5.1"
  }
 },
 "nbformat": 4,
 "nbformat_minor": 2
}
