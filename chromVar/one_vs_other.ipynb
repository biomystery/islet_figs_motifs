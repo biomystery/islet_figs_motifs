{
 "cells": [
  {
   "cell_type": "markdown",
   "metadata": {},
   "source": [
    "### load"
   ]
  },
  {
   "cell_type": "code",
   "execution_count": 2,
   "metadata": {},
   "outputs": [],
   "source": [
    "## input: 1. summarizedExperiement(SE) obj for chromVAR 2. Jaspar matrix \n",
    "## output: 1. motif x cell (z score) 2. plot: ranked           \n",
    "source(\"./libs.R\")"
   ]
  },
  {
   "cell_type": "code",
   "execution_count": 3,
   "metadata": {},
   "outputs": [
    {
     "name": "stderr",
     "output_type": "stream",
     "text": [
      "Warning message:\n",
      "“Expected 2 pieces. Missing pieces filled with `NA` in 772 rows [3, 50, 83, 84, 138, 181, 196, 213, 253, 265, 274, 301, 303, 353, 371, 388, 412, 434, 491, 495, ...].”"
     ]
    }
   ],
   "source": [
    "##------------------------------------------------------------\n",
    "## inputs\n",
    "##------------------------------------------------------------\n",
    "\n",
    "input.umap.res <- fread(\"../dat/1910_v2/islet.cluster_labels.filt.txt\", header = T) %>% \n",
    "    separate(cluster_name, into = c(\"cell_type_overall\", \"subtype\"), remove = F)"
   ]
  },
  {
   "cell_type": "code",
   "execution_count": 5,
   "metadata": {},
   "outputs": [
    {
     "data": {
      "text/plain": [
       "\n",
       "     acinar       alpha        beta       delta      ductal endothelial \n",
       "         46        6217        7598         710          80         118 \n",
       "      gamma      immune    stellate \n",
       "        260         140         128 "
      ]
     },
     "metadata": {},
     "output_type": "display_data"
    },
    {
     "data": {
      "text/plain": [
       "\n",
       "     acinar       alpha        beta       delta      ductal endothelial \n",
       "         46        6218        7598         710          80         118 \n",
       "      gamma      immune    stellate \n",
       "        260         140         128 "
      ]
     },
     "metadata": {},
     "output_type": "display_data"
    },
    {
     "data": {
      "text/html": [
       "15298"
      ],
      "text/latex": [
       "15298"
      ],
      "text/markdown": [
       "15298"
      ],
      "text/plain": [
       "[1] 15298"
      ]
     },
     "metadata": {},
     "output_type": "display_data"
    }
   ],
   "source": [
    "input.chromVar.jaspar.z <- assays(input.chromVar.res.list$dev)$z\n",
    "\n",
    "table(input.umap.res %>% filter(barcodes %in% colnames(input.chromVar.jaspar.z)[-1]) %>% \n",
    "    pull(cell_type_overall))\n",
    "\n",
    "table(input.umap.res %>% pull(cell_type_overall))\n",
    "sum(table(input.umap.res %>% pull(cell_type_overall))%>%as.numeric)"
   ]
  },
  {
   "cell_type": "markdown",
   "metadata": {},
   "source": [
    "###  T test (one vs. other)"
   ]
  },
  {
   "cell_type": "code",
   "execution_count": 6,
   "metadata": {},
   "outputs": [
    {
     "data": {
      "text/plain": [
       "\n",
       "     acinar       alpha        beta       delta      ductal endothelial \n",
       "      26634     3600222     4399242      411090       46320       68322 \n",
       "      gamma      immune    stellate \n",
       "     150540       81060       74112 "
      ]
     },
     "metadata": {},
     "output_type": "display_data"
    }
   ],
   "source": [
    "input.chromVar.jaspar.z <- data.table(assays(input.chromVar.res.list$dev)$z, keep.rownames = T)\n",
    "input.chromVar.jaspar.z[is.na(input.chromVar.jaspar.z)] <- 0\n",
    "# aggregate data --------------------------------------------------------------\n",
    "# melt\n",
    "input.chromVar.jaspar.z.agg <- melt(input.chromVar.jaspar.z, id = \"rn\", variable.name = \"barcodes\", \n",
    "    value.name = \"zval\")\n",
    "\n",
    "# add celltype\n",
    "input.chromVar.jaspar.z.agg <- merge(input.chromVar.jaspar.z.agg, input.umap.res)\n",
    "\n",
    "table(input.chromVar.jaspar.z.agg %>% pull(cell_type_overall))"
   ]
  },
  {
   "cell_type": "code",
   "execution_count": 7,
   "metadata": {},
   "outputs": [
    {
     "data": {
      "text/html": [
       "<ol class=list-inline>\n",
       "\t<li>-20.1619334482447</li>\n",
       "\t<li>31.3565801355583</li>\n",
       "</ol>\n"
      ],
      "text/latex": [
       "\\begin{enumerate*}\n",
       "\\item -20.1619334482447\n",
       "\\item 31.3565801355583\n",
       "\\end{enumerate*}\n"
      ],
      "text/markdown": [
       "1. -20.1619334482447\n",
       "2. 31.3565801355583\n",
       "\n",
       "\n"
      ],
      "text/plain": [
       "[1] -20.16193  31.35658"
      ]
     },
     "metadata": {},
     "output_type": "display_data"
    },
    {
     "data": {
      "text/html": [
       "0"
      ],
      "text/latex": [
       "0"
      ],
      "text/markdown": [
       "0"
      ],
      "text/plain": [
       "[1] 0"
      ]
     },
     "metadata": {},
     "output_type": "display_data"
    },
    {
     "data": {
      "text/html": [
       "<ol class=list-inline>\n",
       "\t<li>8857542</li>\n",
       "\t<li>3</li>\n",
       "</ol>\n"
      ],
      "text/latex": [
       "\\begin{enumerate*}\n",
       "\\item 8857542\n",
       "\\item 3\n",
       "\\end{enumerate*}\n"
      ],
      "text/markdown": [
       "1. 8857542\n",
       "2. 3\n",
       "\n",
       "\n"
      ],
      "text/plain": [
       "[1] 8857542       3"
      ]
     },
     "metadata": {},
     "output_type": "display_data"
    },
    {
     "data": {
      "text/html": [
       "<table>\n",
       "<caption>A data.table: 1 × 3</caption>\n",
       "<thead>\n",
       "\t<tr><th scope=col>rn</th><th scope=col>zval</th><th scope=col>cell_type_overall</th></tr>\n",
       "\t<tr><th scope=col>&lt;chr&gt;</th><th scope=col>&lt;dbl&gt;</th><th scope=col>&lt;chr&gt;</th></tr>\n",
       "</thead>\n",
       "<tbody>\n",
       "\t<tr><td>MA0004.1_Arnt</td><td>-1.566904</td><td>alpha</td></tr>\n",
       "</tbody>\n",
       "</table>\n"
      ],
      "text/latex": [
       "A data.table: 1 × 3\n",
       "\\begin{tabular}{r|lll}\n",
       " rn & zval & cell\\_type\\_overall\\\\\n",
       " <chr> & <dbl> & <chr>\\\\\n",
       "\\hline\n",
       "\t MA0004.1\\_Arnt & -1.566904 & alpha\\\\\n",
       "\\end{tabular}\n"
      ],
      "text/markdown": [
       "\n",
       "A data.table: 1 × 3\n",
       "\n",
       "| rn &lt;chr&gt; | zval &lt;dbl&gt; | cell_type_overall &lt;chr&gt; |\n",
       "|---|---|---|\n",
       "| MA0004.1_Arnt | -1.566904 | alpha |\n",
       "\n"
      ],
      "text/plain": [
       "  rn            zval      cell_type_overall\n",
       "1 MA0004.1_Arnt -1.566904 alpha            "
      ]
     },
     "metadata": {},
     "output_type": "display_data"
    },
    {
     "data": {
      "text/plain": [
       "\n",
       "     acinar       alpha        beta       delta      ductal endothelial \n",
       "      26634     3600222     4399242      411090       46320       68322 \n",
       "      gamma      immune    stellate \n",
       "     150540       81060       74112 "
      ]
     },
     "metadata": {},
     "output_type": "display_data"
    }
   ],
   "source": [
    "input.chromVar.jaspar.z.agg <- input.chromVar.jaspar.z.agg %>%select(rn,zval,cell_type_overall)\n",
    "range(input.chromVar.jaspar.z.agg$zval)\n",
    "sum(!complete.cases(input.chromVar.jaspar.z.agg))\n",
    "dim(input.chromVar.jaspar.z.agg)\n",
    "head(input.chromVar.jaspar.z.agg, 1)\n",
    "table(input.chromVar.jaspar.z.agg %>% pull(cell_type_overall))"
   ]
  },
  {
   "cell_type": "code",
   "execution_count": 8,
   "metadata": {},
   "outputs": [
    {
     "data": {
      "text/html": [
       "<ol class=list-inline>\n",
       "\t<li>'alpha'</li>\n",
       "\t<li>'beta'</li>\n",
       "\t<li>'immune'</li>\n",
       "\t<li>'delta'</li>\n",
       "\t<li>'acinar'</li>\n",
       "\t<li>'ductal'</li>\n",
       "\t<li>'gamma'</li>\n",
       "\t<li>'endothelial'</li>\n",
       "\t<li>'stellate'</li>\n",
       "</ol>\n"
      ],
      "text/latex": [
       "\\begin{enumerate*}\n",
       "\\item 'alpha'\n",
       "\\item 'beta'\n",
       "\\item 'immune'\n",
       "\\item 'delta'\n",
       "\\item 'acinar'\n",
       "\\item 'ductal'\n",
       "\\item 'gamma'\n",
       "\\item 'endothelial'\n",
       "\\item 'stellate'\n",
       "\\end{enumerate*}\n"
      ],
      "text/markdown": [
       "1. 'alpha'\n",
       "2. 'beta'\n",
       "3. 'immune'\n",
       "4. 'delta'\n",
       "5. 'acinar'\n",
       "6. 'ductal'\n",
       "7. 'gamma'\n",
       "8. 'endothelial'\n",
       "9. 'stellate'\n",
       "\n",
       "\n"
      ],
      "text/plain": [
       "[1] \"alpha\"       \"beta\"        \"immune\"      \"delta\"       \"acinar\"     \n",
       "[6] \"ductal\"      \"gamma\"       \"endothelial\" \"stellate\"   "
      ]
     },
     "metadata": {},
     "output_type": "display_data"
    },
    {
     "data": {
      "text/html": [
       "579"
      ],
      "text/latex": [
       "579"
      ],
      "text/markdown": [
       "579"
      ],
      "text/plain": [
       "[1] 579"
      ]
     },
     "metadata": {},
     "output_type": "display_data"
    }
   ],
   "source": [
    "(celltype.test.all<- input.chromVar.jaspar.z.agg%>%pull(cell_type_overall)%>%unique())\n",
    "test.motifs <- input.chromVar.jaspar.z.agg%>%pull(rn)%>%unique()\n",
    "length(test.motifs)\n"
   ]
  },
  {
   "cell_type": "code",
   "execution_count": 9,
   "metadata": {},
   "outputs": [
    {
     "data": {
      "text/html": [
       "<table>\n",
       "<caption>A grouped_df: 1 × 7</caption>\n",
       "<thead>\n",
       "\t<tr><th scope=col>motif</th><th scope=col>mean_x</th><th scope=col>mean_y</th><th scope=col>pval</th><th scope=col>test</th><th scope=col>FDR</th><th scope=col>padj</th></tr>\n",
       "\t<tr><th scope=col>&lt;fct&gt;</th><th scope=col>&lt;dbl&gt;</th><th scope=col>&lt;dbl&gt;</th><th scope=col>&lt;dbl&gt;</th><th scope=col>&lt;chr&gt;</th><th scope=col>&lt;dbl&gt;</th><th scope=col>&lt;dbl&gt;</th></tr>\n",
       "</thead>\n",
       "<tbody>\n",
       "\t<tr><td>MA0004.1_Arnt</td><td>0.1574304</td><td>-0.1897245</td><td>8.385327e-81</td><td>alpha.vs.other</td><td>2.477094e-80</td><td>4.855104e-78</td></tr>\n",
       "</tbody>\n",
       "</table>\n"
      ],
      "text/latex": [
       "A grouped_df: 1 × 7\n",
       "\\begin{tabular}{r|lllllll}\n",
       " motif & mean\\_x & mean\\_y & pval & test & FDR & padj\\\\\n",
       " <fct> & <dbl> & <dbl> & <dbl> & <chr> & <dbl> & <dbl>\\\\\n",
       "\\hline\n",
       "\t MA0004.1\\_Arnt & 0.1574304 & -0.1897245 & 8.385327e-81 & alpha.vs.other & 2.477094e-80 & 4.855104e-78\\\\\n",
       "\\end{tabular}\n"
      ],
      "text/markdown": [
       "\n",
       "A grouped_df: 1 × 7\n",
       "\n",
       "| motif &lt;fct&gt; | mean_x &lt;dbl&gt; | mean_y &lt;dbl&gt; | pval &lt;dbl&gt; | test &lt;chr&gt; | FDR &lt;dbl&gt; | padj &lt;dbl&gt; |\n",
       "|---|---|---|---|---|---|---|\n",
       "| MA0004.1_Arnt | 0.1574304 | -0.1897245 | 8.385327e-81 | alpha.vs.other | 2.477094e-80 | 4.855104e-78 |\n",
       "\n"
      ],
      "text/plain": [
       "  motif         mean_x    mean_y     pval         test           FDR         \n",
       "1 MA0004.1_Arnt 0.1574304 -0.1897245 8.385327e-81 alpha.vs.other 2.477094e-80\n",
       "  padj        \n",
       "1 4.855104e-78"
      ]
     },
     "metadata": {},
     "output_type": "display_data"
    }
   ],
   "source": [
    "require(parallel)\n",
    "ttest.res.ct <- do.call(rbind, lapply(celltype.test.all, function(ntest) {\n",
    "    celltype.test <- c(ntest, \"other\")\n",
    "    ttest.res <- do.call(rbind, mclapply(test.motifs, function(motif) {\n",
    "        pd <- input.chromVar.jaspar.z.agg %>% filter(rn == motif) %>% mutate(cell_type_overall = ifelse(cell_type_overall == \n",
    "            ntest, ntest, \"other\"))\n",
    "        test.res <- t.test(pd %>% filter(cell_type_overall == celltype.test[1]) %>% \n",
    "            select(zval), pd %>% filter(cell_type_overall == celltype.test[2]) %>% \n",
    "            select(zval))\n",
    "        (data.frame(motif = motif, mean_x = test.res$estimate[1], mean_y = test.res$estimate[2], \n",
    "            pval = test.res$p.value/2))\n",
    "    }, mc.cores = 10)) %>% mutate(test = paste0(ntest, \".vs.other\"))\n",
    "})) %>% group_by(test) %>% mutate(FDR = p.adjust(pval, \"BH\"), padj = p.adjust(pval, \n",
    "    \"bonferroni\"))\n",
    "head(ttest.res.ct, 1)"
   ]
  },
  {
   "cell_type": "code",
   "execution_count": 15,
   "metadata": {},
   "outputs": [
    {
     "data": {
      "text/html": [
       "<table>\n",
       "<caption>A grouped_df: 1 × 9</caption>\n",
       "<thead>\n",
       "\t<tr><th scope=col>motif</th><th scope=col>mean_x</th><th scope=col>mean_y</th><th scope=col>pval</th><th scope=col>test</th><th scope=col>x</th><th scope=col>y</th><th scope=col>FDR</th><th scope=col>padj</th></tr>\n",
       "\t<tr><th scope=col>&lt;fct&gt;</th><th scope=col>&lt;dbl&gt;</th><th scope=col>&lt;dbl&gt;</th><th scope=col>&lt;dbl&gt;</th><th scope=col>&lt;chr&gt;</th><th scope=col>&lt;chr&gt;</th><th scope=col>&lt;chr&gt;</th><th scope=col>&lt;dbl&gt;</th><th scope=col>&lt;dbl&gt;</th></tr>\n",
       "</thead>\n",
       "<tbody>\n",
       "\t<tr><td>MA0004.1_Arnt</td><td>0.1574304</td><td>-0.1897245</td><td>8.385327e-81</td><td>alpha.vs.other</td><td>alpha</td><td>other</td><td>2.477094e-80</td><td>4.855104e-78</td></tr>\n",
       "</tbody>\n",
       "</table>\n"
      ],
      "text/latex": [
       "A grouped_df: 1 × 9\n",
       "\\begin{tabular}{r|lllllllll}\n",
       " motif & mean\\_x & mean\\_y & pval & test & x & y & FDR & padj\\\\\n",
       " <fct> & <dbl> & <dbl> & <dbl> & <chr> & <chr> & <chr> & <dbl> & <dbl>\\\\\n",
       "\\hline\n",
       "\t MA0004.1\\_Arnt & 0.1574304 & -0.1897245 & 8.385327e-81 & alpha.vs.other & alpha & other & 2.477094e-80 & 4.855104e-78\\\\\n",
       "\\end{tabular}\n"
      ],
      "text/markdown": [
       "\n",
       "A grouped_df: 1 × 9\n",
       "\n",
       "| motif &lt;fct&gt; | mean_x &lt;dbl&gt; | mean_y &lt;dbl&gt; | pval &lt;dbl&gt; | test &lt;chr&gt; | x &lt;chr&gt; | y &lt;chr&gt; | FDR &lt;dbl&gt; | padj &lt;dbl&gt; |\n",
       "|---|---|---|---|---|---|---|---|---|\n",
       "| MA0004.1_Arnt | 0.1574304 | -0.1897245 | 8.385327e-81 | alpha.vs.other | alpha | other | 2.477094e-80 | 4.855104e-78 |\n",
       "\n"
      ],
      "text/plain": [
       "  motif         mean_x    mean_y     pval         test           x     y    \n",
       "1 MA0004.1_Arnt 0.1574304 -0.1897245 8.385327e-81 alpha.vs.other alpha other\n",
       "  FDR          padj        \n",
       "1 2.477094e-80 4.855104e-78"
      ]
     },
     "metadata": {},
     "output_type": "display_data"
    }
   ],
   "source": [
    "head(ttest.res.ct, 1)%>% separate(test,into = c(\"x\",\"y\"),sep = \".vs.\",remove = F)\n",
    "ttest.res.ct<- ttest.res.ct%>% separate(test,into = c(\"x\",\"y\"),sep = \".vs.\",remove = F)"
   ]
  },
  {
   "cell_type": "markdown",
   "metadata": {},
   "source": [
    "### Motif db"
   ]
  },
  {
   "cell_type": "code",
   "execution_count": 16,
   "metadata": {
    "scrolled": true
   },
   "outputs": [],
   "source": [
    "tfclass.db.dic <- readRDS(\"~/github/atacMotif/db/dic_jaspar_tfclass.rds\")\n",
    "tfclass.db <- readRDS('~/github/atacMotif/db/tfclass.rds')\n",
    "#str(tfclass.db)"
   ]
  },
  {
   "cell_type": "markdown",
   "metadata": {},
   "source": [
    "#### add tf family"
   ]
  },
  {
   "cell_type": "code",
   "execution_count": 18,
   "metadata": {
    "scrolled": false
   },
   "outputs": [
    {
     "data": {
      "text/html": [
       "<ol class=list-inline>\n",
       "\t<li>5211</li>\n",
       "\t<li>9</li>\n",
       "</ol>\n"
      ],
      "text/latex": [
       "\\begin{enumerate*}\n",
       "\\item 5211\n",
       "\\item 9\n",
       "\\end{enumerate*}\n"
      ],
      "text/markdown": [
       "1. 5211\n",
       "2. 9\n",
       "\n",
       "\n"
      ],
      "text/plain": [
       "[1] 5211    9"
      ]
     },
     "metadata": {},
     "output_type": "display_data"
    },
    {
     "data": {
      "text/html": [
       "72"
      ],
      "text/latex": [
       "72"
      ],
      "text/markdown": [
       "72"
      ],
      "text/plain": [
       "[1] 72"
      ]
     },
     "metadata": {},
     "output_type": "display_data"
    },
    {
     "data": {
      "text/html": [
       "<table>\n",
       "<caption>A grouped_df: 2 × 12</caption>\n",
       "<thead>\n",
       "\t<tr><th scope=col>jaspar.id</th><th scope=col>motif</th><th scope=col>mean_x</th><th scope=col>mean_y</th><th scope=col>pval</th><th scope=col>test</th><th scope=col>x</th><th scope=col>y</th><th scope=col>FDR</th><th scope=col>padj</th><th scope=col>family.id</th><th scope=col>family.name</th></tr>\n",
       "\t<tr><th scope=col>&lt;chr&gt;</th><th scope=col>&lt;chr&gt;</th><th scope=col>&lt;dbl&gt;</th><th scope=col>&lt;dbl&gt;</th><th scope=col>&lt;dbl&gt;</th><th scope=col>&lt;chr&gt;</th><th scope=col>&lt;chr&gt;</th><th scope=col>&lt;chr&gt;</th><th scope=col>&lt;dbl&gt;</th><th scope=col>&lt;dbl&gt;</th><th scope=col>&lt;chr&gt;</th><th scope=col>&lt;fct&gt;</th></tr>\n",
       "</thead>\n",
       "<tbody>\n",
       "\t<tr><td>MA0089.1</td><td>MAFG::NFE2L1</td><td>-0.2499156</td><td> 0.1596027</td><td> 1.594834e-67</td><td>alpha.vs.other</td><td>alpha</td><td>other</td><td> 4.294924e-67</td><td> 9.234087e-65</td><td>NA</td><td>NA</td></tr>\n",
       "\t<tr><td>MA0109.1</td><td>HLTF        </td><td> 0.3424834</td><td>-0.2240647</td><td>1.524367e-236</td><td>alpha.vs.other</td><td>alpha</td><td>other</td><td>7.543662e-236</td><td>8.826084e-234</td><td>NA</td><td>NA</td></tr>\n",
       "</tbody>\n",
       "</table>\n"
      ],
      "text/latex": [
       "A grouped_df: 2 × 12\n",
       "\\begin{tabular}{r|llllllllllll}\n",
       " jaspar.id & motif & mean\\_x & mean\\_y & pval & test & x & y & FDR & padj & family.id & family.name\\\\\n",
       " <chr> & <chr> & <dbl> & <dbl> & <dbl> & <chr> & <chr> & <chr> & <dbl> & <dbl> & <chr> & <fct>\\\\\n",
       "\\hline\n",
       "\t MA0089.1 & MAFG::NFE2L1 & -0.2499156 &  0.1596027 &  1.594834e-67 & alpha.vs.other & alpha & other &  4.294924e-67 &  9.234087e-65 & NA & NA\\\\\n",
       "\t MA0109.1 & HLTF         &  0.3424834 & -0.2240647 & 1.524367e-236 & alpha.vs.other & alpha & other & 7.543662e-236 & 8.826084e-234 & NA & NA\\\\\n",
       "\\end{tabular}\n"
      ],
      "text/markdown": [
       "\n",
       "A grouped_df: 2 × 12\n",
       "\n",
       "| jaspar.id &lt;chr&gt; | motif &lt;chr&gt; | mean_x &lt;dbl&gt; | mean_y &lt;dbl&gt; | pval &lt;dbl&gt; | test &lt;chr&gt; | x &lt;chr&gt; | y &lt;chr&gt; | FDR &lt;dbl&gt; | padj &lt;dbl&gt; | family.id &lt;chr&gt; | family.name &lt;fct&gt; |\n",
       "|---|---|---|---|---|---|---|---|---|---|---|---|\n",
       "| MA0089.1 | MAFG::NFE2L1 | -0.2499156 |  0.1596027 |  1.594834e-67 | alpha.vs.other | alpha | other |  4.294924e-67 |  9.234087e-65 | NA | NA |\n",
       "| MA0109.1 | HLTF         |  0.3424834 | -0.2240647 | 1.524367e-236 | alpha.vs.other | alpha | other | 7.543662e-236 | 8.826084e-234 | NA | NA |\n",
       "\n"
      ],
      "text/plain": [
       "  jaspar.id motif        mean_x     mean_y     pval          test          \n",
       "1 MA0089.1  MAFG::NFE2L1 -0.2499156  0.1596027  1.594834e-67 alpha.vs.other\n",
       "2 MA0109.1  HLTF          0.3424834 -0.2240647 1.524367e-236 alpha.vs.other\n",
       "  x     y     FDR           padj          family.id family.name\n",
       "1 alpha other  4.294924e-67  9.234087e-65 NA        NA         \n",
       "2 alpha other 7.543662e-236 8.826084e-234 NA        NA         "
      ]
     },
     "metadata": {},
     "output_type": "display_data"
    },
    {
     "data": {
      "text/html": [
       "<ol class=list-inline>\n",
       "\t<li>5526</li>\n",
       "\t<li>12</li>\n",
       "</ol>\n"
      ],
      "text/latex": [
       "\\begin{enumerate*}\n",
       "\\item 5526\n",
       "\\item 12\n",
       "\\end{enumerate*}\n"
      ],
      "text/markdown": [
       "1. 5526\n",
       "2. 12\n",
       "\n",
       "\n"
      ],
      "text/plain": [
       "[1] 5526   12"
      ]
     },
     "metadata": {},
     "output_type": "display_data"
    },
    {
     "data": {
      "text/html": [
       "<table>\n",
       "<caption>A tibble: 8 × 2</caption>\n",
       "<thead>\n",
       "\t<tr><th scope=col>jaspar.id</th><th scope=col>motif</th></tr>\n",
       "\t<tr><th scope=col>&lt;chr&gt;</th><th scope=col>&lt;chr&gt;</th></tr>\n",
       "</thead>\n",
       "<tbody>\n",
       "\t<tr><td>MA0089.1</td><td>MAFG::NFE2L1</td></tr>\n",
       "\t<tr><td>MA0109.1</td><td>HLTF        </td></tr>\n",
       "\t<tr><td>MA0111.1</td><td>Spz1        </td></tr>\n",
       "\t<tr><td>MA0619.1</td><td>LIN54       </td></tr>\n",
       "\t<tr><td>MA0621.1</td><td>mix-a       </td></tr>\n",
       "\t<tr><td>MA0637.1</td><td>CENPB       </td></tr>\n",
       "\t<tr><td>MA0017.2</td><td>NR2F1       </td></tr>\n",
       "\t<tr><td>MA1111.1</td><td>NR2F2       </td></tr>\n",
       "</tbody>\n",
       "</table>\n"
      ],
      "text/latex": [
       "A tibble: 8 × 2\n",
       "\\begin{tabular}{r|ll}\n",
       " jaspar.id & motif\\\\\n",
       " <chr> & <chr>\\\\\n",
       "\\hline\n",
       "\t MA0089.1 & MAFG::NFE2L1\\\\\n",
       "\t MA0109.1 & HLTF        \\\\\n",
       "\t MA0111.1 & Spz1        \\\\\n",
       "\t MA0619.1 & LIN54       \\\\\n",
       "\t MA0621.1 & mix-a       \\\\\n",
       "\t MA0637.1 & CENPB       \\\\\n",
       "\t MA0017.2 & NR2F1       \\\\\n",
       "\t MA1111.1 & NR2F2       \\\\\n",
       "\\end{tabular}\n"
      ],
      "text/markdown": [
       "\n",
       "A tibble: 8 × 2\n",
       "\n",
       "| jaspar.id &lt;chr&gt; | motif &lt;chr&gt; |\n",
       "|---|---|\n",
       "| MA0089.1 | MAFG::NFE2L1 |\n",
       "| MA0109.1 | HLTF         |\n",
       "| MA0111.1 | Spz1         |\n",
       "| MA0619.1 | LIN54        |\n",
       "| MA0621.1 | mix-a        |\n",
       "| MA0637.1 | CENPB        |\n",
       "| MA0017.2 | NR2F1        |\n",
       "| MA1111.1 | NR2F2        |\n",
       "\n"
      ],
      "text/plain": [
       "  jaspar.id motif       \n",
       "1 MA0089.1  MAFG::NFE2L1\n",
       "2 MA0109.1  HLTF        \n",
       "3 MA0111.1  Spz1        \n",
       "4 MA0619.1  LIN54       \n",
       "5 MA0621.1  mix-a       \n",
       "6 MA0637.1  CENPB       \n",
       "7 MA0017.2  NR2F1       \n",
       "8 MA1111.1  NR2F2       "
      ]
     },
     "metadata": {},
     "output_type": "display_data"
    },
    {
     "name": "stderr",
     "output_type": "stream",
     "text": [
      "Joining, by = \"subfamily.id\"\n"
     ]
    },
    {
     "data": {
      "text/html": [
       "<table>\n",
       "<caption>A data.frame: 2 × 4</caption>\n",
       "<thead>\n",
       "\t<tr><th scope=col>motif</th><th scope=col>subfamily.id</th><th scope=col>family.id</th><th scope=col>family.name</th></tr>\n",
       "\t<tr><th scope=col>&lt;chr&gt;</th><th scope=col>&lt;chr&gt;</th><th scope=col>&lt;chr&gt;</th><th scope=col>&lt;fct&gt;</th></tr>\n",
       "</thead>\n",
       "<tbody>\n",
       "\t<tr><td>NR2F1</td><td>2.1.3.5</td><td>2.1.3</td><td>RXR-related receptors</td></tr>\n",
       "\t<tr><td>NR2F2</td><td>2.1.3.5</td><td>2.1.3</td><td>RXR-related receptors</td></tr>\n",
       "</tbody>\n",
       "</table>\n"
      ],
      "text/latex": [
       "A data.frame: 2 × 4\n",
       "\\begin{tabular}{r|llll}\n",
       " motif & subfamily.id & family.id & family.name\\\\\n",
       " <chr> & <chr> & <chr> & <fct>\\\\\n",
       "\\hline\n",
       "\t NR2F1 & 2.1.3.5 & 2.1.3 & RXR-related receptors\\\\\n",
       "\t NR2F2 & 2.1.3.5 & 2.1.3 & RXR-related receptors\\\\\n",
       "\\end{tabular}\n"
      ],
      "text/markdown": [
       "\n",
       "A data.frame: 2 × 4\n",
       "\n",
       "| motif &lt;chr&gt; | subfamily.id &lt;chr&gt; | family.id &lt;chr&gt; | family.name &lt;fct&gt; |\n",
       "|---|---|---|---|\n",
       "| NR2F1 | 2.1.3.5 | 2.1.3 | RXR-related receptors |\n",
       "| NR2F2 | 2.1.3.5 | 2.1.3 | RXR-related receptors |\n",
       "\n"
      ],
      "text/plain": [
       "  motif subfamily.id family.id family.name          \n",
       "1 NR2F1 2.1.3.5      2.1.3     RXR-related receptors\n",
       "2 NR2F2 2.1.3.5      2.1.3     RXR-related receptors"
      ]
     },
     "metadata": {},
     "output_type": "display_data"
    },
    {
     "name": "stderr",
     "output_type": "stream",
     "text": [
      "Joining, by = \"subfamily.id\"\n",
      "Joining, by = \"subfamily.id\"\n"
     ]
    },
    {
     "data": {
      "text/html": [
       "<table>\n",
       "<caption>A grouped_df: 1 × 12</caption>\n",
       "<thead>\n",
       "\t<tr><th scope=col>jaspar.id</th><th scope=col>motif</th><th scope=col>mean_x</th><th scope=col>mean_y</th><th scope=col>pval</th><th scope=col>test</th><th scope=col>x</th><th scope=col>y</th><th scope=col>FDR</th><th scope=col>padj</th><th scope=col>family.id</th><th scope=col>family.name</th></tr>\n",
       "\t<tr><th scope=col>&lt;chr&gt;</th><th scope=col>&lt;chr&gt;</th><th scope=col>&lt;dbl&gt;</th><th scope=col>&lt;dbl&gt;</th><th scope=col>&lt;dbl&gt;</th><th scope=col>&lt;chr&gt;</th><th scope=col>&lt;chr&gt;</th><th scope=col>&lt;chr&gt;</th><th scope=col>&lt;dbl&gt;</th><th scope=col>&lt;dbl&gt;</th><th scope=col>&lt;chr&gt;</th><th scope=col>&lt;fct&gt;</th></tr>\n",
       "</thead>\n",
       "<tbody>\n",
       "\t<tr><td>MA0017.2</td><td>NR2F1</td><td>0.08727388</td><td>-0.1074267</td><td>2.480903e-26</td><td>alpha.vs.other</td><td>alpha</td><td>other</td><td>4.694257e-26</td><td>1.436443e-23</td><td>2.1.3</td><td>RXR-related receptors</td></tr>\n",
       "</tbody>\n",
       "</table>\n"
      ],
      "text/latex": [
       "A grouped_df: 1 × 12\n",
       "\\begin{tabular}{r|llllllllllll}\n",
       " jaspar.id & motif & mean\\_x & mean\\_y & pval & test & x & y & FDR & padj & family.id & family.name\\\\\n",
       " <chr> & <chr> & <dbl> & <dbl> & <dbl> & <chr> & <chr> & <chr> & <dbl> & <dbl> & <chr> & <fct>\\\\\n",
       "\\hline\n",
       "\t MA0017.2 & NR2F1 & 0.08727388 & -0.1074267 & 2.480903e-26 & alpha.vs.other & alpha & other & 4.694257e-26 & 1.436443e-23 & 2.1.3 & RXR-related receptors\\\\\n",
       "\\end{tabular}\n"
      ],
      "text/markdown": [
       "\n",
       "A grouped_df: 1 × 12\n",
       "\n",
       "| jaspar.id &lt;chr&gt; | motif &lt;chr&gt; | mean_x &lt;dbl&gt; | mean_y &lt;dbl&gt; | pval &lt;dbl&gt; | test &lt;chr&gt; | x &lt;chr&gt; | y &lt;chr&gt; | FDR &lt;dbl&gt; | padj &lt;dbl&gt; | family.id &lt;chr&gt; | family.name &lt;fct&gt; |\n",
       "|---|---|---|---|---|---|---|---|---|---|---|---|\n",
       "| MA0017.2 | NR2F1 | 0.08727388 | -0.1074267 | 2.480903e-26 | alpha.vs.other | alpha | other | 4.694257e-26 | 1.436443e-23 | 2.1.3 | RXR-related receptors |\n",
       "\n"
      ],
      "text/plain": [
       "  jaspar.id motif mean_x     mean_y     pval         test           x     y    \n",
       "1 MA0017.2  NR2F1 0.08727388 -0.1074267 2.480903e-26 alpha.vs.other alpha other\n",
       "  FDR          padj         family.id family.name          \n",
       "1 4.694257e-26 1.436443e-23 2.1.3     RXR-related receptors"
      ]
     },
     "metadata": {},
     "output_type": "display_data"
    }
   ],
   "source": [
    "ttest.res.ct %>% dim\n",
    "ttest.res.2 <- ttest.res.ct %>% separate(motif, into = c(\"jaspar.id\", \"motif\"), sep = \"_\") %>% \n",
    "    left_join(tfclass.db.dic$merged %>% select(family.id, family.name, jaspar.name)%>%unique, \n",
    "        by = c(motif = \"jaspar.name\"))\n",
    "sum(is.na(ttest.res.2$family.id)) \n",
    "tmp <- ttest.res.2[is.na(ttest.res.2$family.id), ]\n",
    "ttest.res.2[is.na(ttest.res.2$family.id), ] %>% head(2)\n",
    "ttest.res.2 %>% dim\n",
    "tmp %>% ungroup %>% select(jaspar.id, motif) %>% unique\n",
    "\n",
    "## rescue NR2F1\n",
    "## https://github.com/epigen-UCSD/atacMotif/blob/master/db/rescue_Jaspar.txt\n",
    "data.frame(motif = c(\"NR2F1\",\"NR2F2\"), subfamily.id = \"2.1.3.5\", stringsAsFactors = F) %>% left_join(tfclass.db.dic$merged %>% \n",
    "    select(subfamily.id, family.id, family.name)%>%unique)\n",
    "ttest.res.2[ttest.res.2$motif=='NR2F1',c(\"family.id\",\"family.name\")] <- data.frame(motif = \"NR2F1\", subfamily.id = \"2.1.3.5\", stringsAsFactors = F) %>% left_join(tfclass.db.dic$merged %>% \n",
    "    select(subfamily.id, family.id, family.name)%>%unique)%>%select(family.id,family.name)\n",
    "ttest.res.2[ttest.res.2$motif=='NR2F2',c(\"family.id\",\"family.name\")] <- data.frame(motif = \"NR2F2\", subfamily.id = \"2.1.3.5\", stringsAsFactors = F) %>% left_join(tfclass.db.dic$merged %>% \n",
    "    select(subfamily.id, family.id, family.name)%>%unique)%>%select(family.id,family.name)\n",
    "\n",
    "ttest.res.2[ttest.res.2$motif=='NR2F1',]%>%head(1)"
   ]
  },
  {
   "cell_type": "markdown",
   "metadata": {},
   "source": [
    "#### add tf class"
   ]
  },
  {
   "cell_type": "code",
   "execution_count": 20,
   "metadata": {
    "scrolled": false
   },
   "outputs": [
    {
     "data": {
      "text/html": [
       "<ol class=list-inline>\n",
       "\t<li>5526</li>\n",
       "\t<li>12</li>\n",
       "</ol>\n"
      ],
      "text/latex": [
       "\\begin{enumerate*}\n",
       "\\item 5526\n",
       "\\item 12\n",
       "\\end{enumerate*}\n"
      ],
      "text/markdown": [
       "1. 5526\n",
       "2. 12\n",
       "\n",
       "\n"
      ],
      "text/plain": [
       "[1] 5526   12"
      ]
     },
     "metadata": {},
     "output_type": "display_data"
    },
    {
     "data": {
      "text/html": [
       "<table>\n",
       "<caption>A tibble: 6 × 2</caption>\n",
       "<thead>\n",
       "\t<tr><th scope=col>motif</th><th scope=col>family.id</th></tr>\n",
       "\t<tr><th scope=col>&lt;chr&gt;</th><th scope=col>&lt;chr&gt;</th></tr>\n",
       "</thead>\n",
       "<tbody>\n",
       "\t<tr><td>MAFG::NFE2L1</td><td>NA</td></tr>\n",
       "\t<tr><td>HLTF        </td><td>NA</td></tr>\n",
       "\t<tr><td>Spz1        </td><td>NA</td></tr>\n",
       "\t<tr><td>LIN54       </td><td>NA</td></tr>\n",
       "\t<tr><td>mix-a       </td><td>NA</td></tr>\n",
       "\t<tr><td>CENPB       </td><td>NA</td></tr>\n",
       "</tbody>\n",
       "</table>\n"
      ],
      "text/latex": [
       "A tibble: 6 × 2\n",
       "\\begin{tabular}{r|ll}\n",
       " motif & family.id\\\\\n",
       " <chr> & <chr>\\\\\n",
       "\\hline\n",
       "\t MAFG::NFE2L1 & NA\\\\\n",
       "\t HLTF         & NA\\\\\n",
       "\t Spz1         & NA\\\\\n",
       "\t LIN54        & NA\\\\\n",
       "\t mix-a        & NA\\\\\n",
       "\t CENPB        & NA\\\\\n",
       "\\end{tabular}\n"
      ],
      "text/markdown": [
       "\n",
       "A tibble: 6 × 2\n",
       "\n",
       "| motif &lt;chr&gt; | family.id &lt;chr&gt; |\n",
       "|---|---|\n",
       "| MAFG::NFE2L1 | NA |\n",
       "| HLTF         | NA |\n",
       "| Spz1         | NA |\n",
       "| LIN54        | NA |\n",
       "| mix-a        | NA |\n",
       "| CENPB        | NA |\n",
       "\n"
      ],
      "text/plain": [
       "  motif        family.id\n",
       "1 MAFG::NFE2L1 NA       \n",
       "2 HLTF         NA       \n",
       "3 Spz1         NA       \n",
       "4 LIN54        NA       \n",
       "5 mix-a        NA       \n",
       "6 CENPB        NA       "
      ]
     },
     "metadata": {},
     "output_type": "display_data"
    },
    {
     "data": {
      "text/html": [
       "<ol class=list-inline>\n",
       "\t<li>5526</li>\n",
       "\t<li>14</li>\n",
       "</ol>\n"
      ],
      "text/latex": [
       "\\begin{enumerate*}\n",
       "\\item 5526\n",
       "\\item 14\n",
       "\\end{enumerate*}\n"
      ],
      "text/markdown": [
       "1. 5526\n",
       "2. 14\n",
       "\n",
       "\n"
      ],
      "text/plain": [
       "[1] 5526   14"
      ]
     },
     "metadata": {},
     "output_type": "display_data"
    },
    {
     "data": {
      "text/html": [
       "<table>\n",
       "<caption>A grouped_df: 1 × 14</caption>\n",
       "<thead>\n",
       "\t<tr><th scope=col>jaspar.id</th><th scope=col>motif</th><th scope=col>mean_x</th><th scope=col>mean_y</th><th scope=col>pval</th><th scope=col>test</th><th scope=col>x</th><th scope=col>y</th><th scope=col>FDR</th><th scope=col>padj</th><th scope=col>family.id</th><th scope=col>family.name</th><th scope=col>class.id</th><th scope=col>class.name</th></tr>\n",
       "\t<tr><th scope=col>&lt;chr&gt;</th><th scope=col>&lt;chr&gt;</th><th scope=col>&lt;dbl&gt;</th><th scope=col>&lt;dbl&gt;</th><th scope=col>&lt;dbl&gt;</th><th scope=col>&lt;chr&gt;</th><th scope=col>&lt;chr&gt;</th><th scope=col>&lt;chr&gt;</th><th scope=col>&lt;dbl&gt;</th><th scope=col>&lt;dbl&gt;</th><th scope=col>&lt;chr&gt;</th><th scope=col>&lt;fct&gt;</th><th scope=col>&lt;chr&gt;</th><th scope=col>&lt;chr&gt;</th></tr>\n",
       "</thead>\n",
       "<tbody>\n",
       "\t<tr><td>MA0004.1</td><td>Arnt</td><td>0.1574304</td><td>-0.1897245</td><td>8.385327e-81</td><td>alpha.vs.other</td><td>alpha</td><td>other</td><td>2.477094e-80</td><td>4.855104e-78</td><td>1.2.5</td><td>PAS</td><td>1.2</td><td>Basic helix-loop-helix factors (bHLH)</td></tr>\n",
       "</tbody>\n",
       "</table>\n"
      ],
      "text/latex": [
       "A grouped_df: 1 × 14\n",
       "\\begin{tabular}{r|llllllllllllll}\n",
       " jaspar.id & motif & mean\\_x & mean\\_y & pval & test & x & y & FDR & padj & family.id & family.name & class.id & class.name\\\\\n",
       " <chr> & <chr> & <dbl> & <dbl> & <dbl> & <chr> & <chr> & <chr> & <dbl> & <dbl> & <chr> & <fct> & <chr> & <chr>\\\\\n",
       "\\hline\n",
       "\t MA0004.1 & Arnt & 0.1574304 & -0.1897245 & 8.385327e-81 & alpha.vs.other & alpha & other & 2.477094e-80 & 4.855104e-78 & 1.2.5 & PAS & 1.2 & Basic helix-loop-helix factors (bHLH)\\\\\n",
       "\\end{tabular}\n"
      ],
      "text/markdown": [
       "\n",
       "A grouped_df: 1 × 14\n",
       "\n",
       "| jaspar.id &lt;chr&gt; | motif &lt;chr&gt; | mean_x &lt;dbl&gt; | mean_y &lt;dbl&gt; | pval &lt;dbl&gt; | test &lt;chr&gt; | x &lt;chr&gt; | y &lt;chr&gt; | FDR &lt;dbl&gt; | padj &lt;dbl&gt; | family.id &lt;chr&gt; | family.name &lt;fct&gt; | class.id &lt;chr&gt; | class.name &lt;chr&gt; |\n",
       "|---|---|---|---|---|---|---|---|---|---|---|---|---|---|\n",
       "| MA0004.1 | Arnt | 0.1574304 | -0.1897245 | 8.385327e-81 | alpha.vs.other | alpha | other | 2.477094e-80 | 4.855104e-78 | 1.2.5 | PAS | 1.2 | Basic helix-loop-helix factors (bHLH) |\n",
       "\n"
      ],
      "text/plain": [
       "  jaspar.id motif mean_x    mean_y     pval         test           x     y    \n",
       "1 MA0004.1  Arnt  0.1574304 -0.1897245 8.385327e-81 alpha.vs.other alpha other\n",
       "  FDR          padj         family.id family.name class.id\n",
       "1 2.477094e-80 4.855104e-78 1.2.5     PAS         1.2     \n",
       "  class.name                           \n",
       "1 Basic helix-loop-helix factors (bHLH)"
      ]
     },
     "metadata": {},
     "output_type": "display_data"
    },
    {
     "data": {
      "text/html": [
       "<table>\n",
       "<caption>A tibble: 6 × 3</caption>\n",
       "<thead>\n",
       "\t<tr><th scope=col>motif</th><th scope=col>family.id</th><th scope=col>class.id</th></tr>\n",
       "\t<tr><th scope=col>&lt;chr&gt;</th><th scope=col>&lt;chr&gt;</th><th scope=col>&lt;chr&gt;</th></tr>\n",
       "</thead>\n",
       "<tbody>\n",
       "\t<tr><td>MAFG::NFE2L1</td><td>NA</td><td>NA</td></tr>\n",
       "\t<tr><td>HLTF        </td><td>NA</td><td>NA</td></tr>\n",
       "\t<tr><td>Spz1        </td><td>NA</td><td>NA</td></tr>\n",
       "\t<tr><td>LIN54       </td><td>NA</td><td>NA</td></tr>\n",
       "\t<tr><td>mix-a       </td><td>NA</td><td>NA</td></tr>\n",
       "\t<tr><td>CENPB       </td><td>NA</td><td>NA</td></tr>\n",
       "</tbody>\n",
       "</table>\n"
      ],
      "text/latex": [
       "A tibble: 6 × 3\n",
       "\\begin{tabular}{r|lll}\n",
       " motif & family.id & class.id\\\\\n",
       " <chr> & <chr> & <chr>\\\\\n",
       "\\hline\n",
       "\t MAFG::NFE2L1 & NA & NA\\\\\n",
       "\t HLTF         & NA & NA\\\\\n",
       "\t Spz1         & NA & NA\\\\\n",
       "\t LIN54        & NA & NA\\\\\n",
       "\t mix-a        & NA & NA\\\\\n",
       "\t CENPB        & NA & NA\\\\\n",
       "\\end{tabular}\n"
      ],
      "text/markdown": [
       "\n",
       "A tibble: 6 × 3\n",
       "\n",
       "| motif &lt;chr&gt; | family.id &lt;chr&gt; | class.id &lt;chr&gt; |\n",
       "|---|---|---|\n",
       "| MAFG::NFE2L1 | NA | NA |\n",
       "| HLTF         | NA | NA |\n",
       "| Spz1         | NA | NA |\n",
       "| LIN54        | NA | NA |\n",
       "| mix-a        | NA | NA |\n",
       "| CENPB        | NA | NA |\n",
       "\n"
      ],
      "text/plain": [
       "  motif        family.id class.id\n",
       "1 MAFG::NFE2L1 NA        NA      \n",
       "2 HLTF         NA        NA      \n",
       "3 Spz1         NA        NA      \n",
       "4 LIN54        NA        NA      \n",
       "5 mix-a        NA        NA      \n",
       "6 CENPB        NA        NA      "
      ]
     },
     "metadata": {},
     "output_type": "display_data"
    }
   ],
   "source": [
    "ttest.res.2 %>% dim\n",
    "ttest.res.2 %>% filter(is.na(family.id)) %>% ungroup %>% select(motif, family.id) %>% \n",
    "    unique\n",
    "ttest.res.2 <- ttest.res.2 %>% mutate(class.id = sub(\".[0-9]+$\", \"\", family.id)) %>% \n",
    "    left_join(tfclass.db$class %>% select(-about), by = c(class.id = \"id\"))%>% rename(class.name = name) \n",
    "ttest.res.2 %>% dim\n",
    "ttest.res.2 %>% head(1)\n",
    "ttest.res.2 %>% filter(is.na(class.id)) %>% ungroup %>% select(motif, family.id, \n",
    "    class.id) %>% unique"
   ]
  },
  {
   "cell_type": "markdown",
   "metadata": {},
   "source": [
    "#### add TF superclass"
   ]
  },
  {
   "cell_type": "code",
   "execution_count": 21,
   "metadata": {},
   "outputs": [
    {
     "data": {
      "text/html": [
       "<ol class=list-inline>\n",
       "\t<li>5526</li>\n",
       "\t<li>14</li>\n",
       "</ol>\n"
      ],
      "text/latex": [
       "\\begin{enumerate*}\n",
       "\\item 5526\n",
       "\\item 14\n",
       "\\end{enumerate*}\n"
      ],
      "text/markdown": [
       "1. 5526\n",
       "2. 14\n",
       "\n",
       "\n"
      ],
      "text/plain": [
       "[1] 5526   14"
      ]
     },
     "metadata": {},
     "output_type": "display_data"
    },
    {
     "data": {
      "text/html": [
       "<ol class=list-inline>\n",
       "\t<li>5526</li>\n",
       "\t<li>16</li>\n",
       "</ol>\n"
      ],
      "text/latex": [
       "\\begin{enumerate*}\n",
       "\\item 5526\n",
       "\\item 16\n",
       "\\end{enumerate*}\n"
      ],
      "text/markdown": [
       "1. 5526\n",
       "2. 16\n",
       "\n",
       "\n"
      ],
      "text/plain": [
       "[1] 5526   16"
      ]
     },
     "metadata": {},
     "output_type": "display_data"
    },
    {
     "data": {
      "text/html": [
       "<table>\n",
       "<caption>A grouped_df: 1 × 16</caption>\n",
       "<thead>\n",
       "\t<tr><th scope=col>jaspar.id</th><th scope=col>motif</th><th scope=col>mean_x</th><th scope=col>mean_y</th><th scope=col>pval</th><th scope=col>test</th><th scope=col>x</th><th scope=col>y</th><th scope=col>FDR</th><th scope=col>padj</th><th scope=col>family.id</th><th scope=col>family.name</th><th scope=col>class.id</th><th scope=col>class.name</th><th scope=col>superclass.id</th><th scope=col>superclass.name</th></tr>\n",
       "\t<tr><th scope=col>&lt;chr&gt;</th><th scope=col>&lt;chr&gt;</th><th scope=col>&lt;dbl&gt;</th><th scope=col>&lt;dbl&gt;</th><th scope=col>&lt;dbl&gt;</th><th scope=col>&lt;chr&gt;</th><th scope=col>&lt;chr&gt;</th><th scope=col>&lt;chr&gt;</th><th scope=col>&lt;dbl&gt;</th><th scope=col>&lt;dbl&gt;</th><th scope=col>&lt;chr&gt;</th><th scope=col>&lt;fct&gt;</th><th scope=col>&lt;chr&gt;</th><th scope=col>&lt;chr&gt;</th><th scope=col>&lt;chr&gt;</th><th scope=col>&lt;chr&gt;</th></tr>\n",
       "</thead>\n",
       "<tbody>\n",
       "\t<tr><td>MA0004.1</td><td>Arnt</td><td>0.1574304</td><td>-0.1897245</td><td>8.385327e-81</td><td>alpha.vs.other</td><td>alpha</td><td>other</td><td>2.477094e-80</td><td>4.855104e-78</td><td>1.2.5</td><td>PAS</td><td>1.2</td><td>Basic helix-loop-helix factors (bHLH)</td><td>1</td><td>Basic domains</td></tr>\n",
       "</tbody>\n",
       "</table>\n"
      ],
      "text/latex": [
       "A grouped_df: 1 × 16\n",
       "\\begin{tabular}{r|llllllllllllllll}\n",
       " jaspar.id & motif & mean\\_x & mean\\_y & pval & test & x & y & FDR & padj & family.id & family.name & class.id & class.name & superclass.id & superclass.name\\\\\n",
       " <chr> & <chr> & <dbl> & <dbl> & <dbl> & <chr> & <chr> & <chr> & <dbl> & <dbl> & <chr> & <fct> & <chr> & <chr> & <chr> & <chr>\\\\\n",
       "\\hline\n",
       "\t MA0004.1 & Arnt & 0.1574304 & -0.1897245 & 8.385327e-81 & alpha.vs.other & alpha & other & 2.477094e-80 & 4.855104e-78 & 1.2.5 & PAS & 1.2 & Basic helix-loop-helix factors (bHLH) & 1 & Basic domains\\\\\n",
       "\\end{tabular}\n"
      ],
      "text/markdown": [
       "\n",
       "A grouped_df: 1 × 16\n",
       "\n",
       "| jaspar.id &lt;chr&gt; | motif &lt;chr&gt; | mean_x &lt;dbl&gt; | mean_y &lt;dbl&gt; | pval &lt;dbl&gt; | test &lt;chr&gt; | x &lt;chr&gt; | y &lt;chr&gt; | FDR &lt;dbl&gt; | padj &lt;dbl&gt; | family.id &lt;chr&gt; | family.name &lt;fct&gt; | class.id &lt;chr&gt; | class.name &lt;chr&gt; | superclass.id &lt;chr&gt; | superclass.name &lt;chr&gt; |\n",
       "|---|---|---|---|---|---|---|---|---|---|---|---|---|---|---|---|\n",
       "| MA0004.1 | Arnt | 0.1574304 | -0.1897245 | 8.385327e-81 | alpha.vs.other | alpha | other | 2.477094e-80 | 4.855104e-78 | 1.2.5 | PAS | 1.2 | Basic helix-loop-helix factors (bHLH) | 1 | Basic domains |\n",
       "\n"
      ],
      "text/plain": [
       "  jaspar.id motif mean_x    mean_y     pval         test           x     y    \n",
       "1 MA0004.1  Arnt  0.1574304 -0.1897245 8.385327e-81 alpha.vs.other alpha other\n",
       "  FDR          padj         family.id family.name class.id\n",
       "1 2.477094e-80 4.855104e-78 1.2.5     PAS         1.2     \n",
       "  class.name                            superclass.id superclass.name\n",
       "1 Basic helix-loop-helix factors (bHLH) 1             Basic domains  "
      ]
     },
     "metadata": {},
     "output_type": "display_data"
    },
    {
     "data": {
      "text/html": [
       "<table>\n",
       "<caption>A tibble: 6 × 4</caption>\n",
       "<thead>\n",
       "\t<tr><th scope=col>motif</th><th scope=col>family.id</th><th scope=col>class.id</th><th scope=col>superclass.id</th></tr>\n",
       "\t<tr><th scope=col>&lt;chr&gt;</th><th scope=col>&lt;chr&gt;</th><th scope=col>&lt;chr&gt;</th><th scope=col>&lt;chr&gt;</th></tr>\n",
       "</thead>\n",
       "<tbody>\n",
       "\t<tr><td>MAFG::NFE2L1</td><td>NA</td><td>NA</td><td>NA</td></tr>\n",
       "\t<tr><td>HLTF        </td><td>NA</td><td>NA</td><td>NA</td></tr>\n",
       "\t<tr><td>Spz1        </td><td>NA</td><td>NA</td><td>NA</td></tr>\n",
       "\t<tr><td>LIN54       </td><td>NA</td><td>NA</td><td>NA</td></tr>\n",
       "\t<tr><td>mix-a       </td><td>NA</td><td>NA</td><td>NA</td></tr>\n",
       "\t<tr><td>CENPB       </td><td>NA</td><td>NA</td><td>NA</td></tr>\n",
       "</tbody>\n",
       "</table>\n"
      ],
      "text/latex": [
       "A tibble: 6 × 4\n",
       "\\begin{tabular}{r|llll}\n",
       " motif & family.id & class.id & superclass.id\\\\\n",
       " <chr> & <chr> & <chr> & <chr>\\\\\n",
       "\\hline\n",
       "\t MAFG::NFE2L1 & NA & NA & NA\\\\\n",
       "\t HLTF         & NA & NA & NA\\\\\n",
       "\t Spz1         & NA & NA & NA\\\\\n",
       "\t LIN54        & NA & NA & NA\\\\\n",
       "\t mix-a        & NA & NA & NA\\\\\n",
       "\t CENPB        & NA & NA & NA\\\\\n",
       "\\end{tabular}\n"
      ],
      "text/markdown": [
       "\n",
       "A tibble: 6 × 4\n",
       "\n",
       "| motif &lt;chr&gt; | family.id &lt;chr&gt; | class.id &lt;chr&gt; | superclass.id &lt;chr&gt; |\n",
       "|---|---|---|---|\n",
       "| MAFG::NFE2L1 | NA | NA | NA |\n",
       "| HLTF         | NA | NA | NA |\n",
       "| Spz1         | NA | NA | NA |\n",
       "| LIN54        | NA | NA | NA |\n",
       "| mix-a        | NA | NA | NA |\n",
       "| CENPB        | NA | NA | NA |\n",
       "\n"
      ],
      "text/plain": [
       "  motif        family.id class.id superclass.id\n",
       "1 MAFG::NFE2L1 NA        NA       NA           \n",
       "2 HLTF         NA        NA       NA           \n",
       "3 Spz1         NA        NA       NA           \n",
       "4 LIN54        NA        NA       NA           \n",
       "5 mix-a        NA        NA       NA           \n",
       "6 CENPB        NA        NA       NA           "
      ]
     },
     "metadata": {},
     "output_type": "display_data"
    }
   ],
   "source": [
    "ttest.res.2 %>% dim\n",
    "ttest.res.2 <- ttest.res.2 %>% mutate(superclass.id = sub(\".[0-9]+$\", \"\", class.id)) %>% \n",
    "    left_join(tfclass.db$superclass %>% select(-about), by = c(superclass.id = \"id\")) %>% \n",
    "    rename(superclass.name = \"name\")\n",
    "ttest.res.2 %>% dim\n",
    "ttest.res.2 %>% head(1)\n",
    "ttest.res.2 %>% filter(is.na(superclass.id)) %>% ungroup %>% select(motif, family.id, \n",
    "    class.id,superclass.id) %>% unique"
   ]
  },
  {
   "cell_type": "markdown",
   "metadata": {},
   "source": [
    "#### save data "
   ]
  },
  {
   "cell_type": "code",
   "execution_count": 22,
   "metadata": {},
   "outputs": [
    {
     "data": {
      "text/html": [
       "<table>\n",
       "<caption>A grouped_df: 1 × 17</caption>\n",
       "<thead>\n",
       "\t<tr><th scope=col>jaspar.id</th><th scope=col>motif</th><th scope=col>mean_x</th><th scope=col>mean_y</th><th scope=col>pval</th><th scope=col>test</th><th scope=col>x</th><th scope=col>y</th><th scope=col>enrichedIn</th><th scope=col>FDR</th><th scope=col>padj</th><th scope=col>family.id</th><th scope=col>family.name</th><th scope=col>class.id</th><th scope=col>class.name</th><th scope=col>superclass.id</th><th scope=col>superclass.name</th></tr>\n",
       "\t<tr><th scope=col>&lt;chr&gt;</th><th scope=col>&lt;chr&gt;</th><th scope=col>&lt;dbl&gt;</th><th scope=col>&lt;dbl&gt;</th><th scope=col>&lt;dbl&gt;</th><th scope=col>&lt;chr&gt;</th><th scope=col>&lt;chr&gt;</th><th scope=col>&lt;chr&gt;</th><th scope=col>&lt;chr&gt;</th><th scope=col>&lt;dbl&gt;</th><th scope=col>&lt;dbl&gt;</th><th scope=col>&lt;chr&gt;</th><th scope=col>&lt;fct&gt;</th><th scope=col>&lt;chr&gt;</th><th scope=col>&lt;chr&gt;</th><th scope=col>&lt;chr&gt;</th><th scope=col>&lt;chr&gt;</th></tr>\n",
       "</thead>\n",
       "<tbody>\n",
       "\t<tr><td>MA0004.1</td><td>Arnt</td><td>0.1574304</td><td>-0.1897245</td><td>8.385327e-81</td><td>alpha.vs.other</td><td>alpha</td><td>other</td><td>alpha</td><td>2.477094e-80</td><td>4.855104e-78</td><td>1.2.5</td><td>PAS</td><td>1.2</td><td>Basic helix-loop-helix factors (bHLH)</td><td>1</td><td>Basic domains</td></tr>\n",
       "</tbody>\n",
       "</table>\n"
      ],
      "text/latex": [
       "A grouped_df: 1 × 17\n",
       "\\begin{tabular}{r|lllllllllllllllll}\n",
       " jaspar.id & motif & mean\\_x & mean\\_y & pval & test & x & y & enrichedIn & FDR & padj & family.id & family.name & class.id & class.name & superclass.id & superclass.name\\\\\n",
       " <chr> & <chr> & <dbl> & <dbl> & <dbl> & <chr> & <chr> & <chr> & <chr> & <dbl> & <dbl> & <chr> & <fct> & <chr> & <chr> & <chr> & <chr>\\\\\n",
       "\\hline\n",
       "\t MA0004.1 & Arnt & 0.1574304 & -0.1897245 & 8.385327e-81 & alpha.vs.other & alpha & other & alpha & 2.477094e-80 & 4.855104e-78 & 1.2.5 & PAS & 1.2 & Basic helix-loop-helix factors (bHLH) & 1 & Basic domains\\\\\n",
       "\\end{tabular}\n"
      ],
      "text/markdown": [
       "\n",
       "A grouped_df: 1 × 17\n",
       "\n",
       "| jaspar.id &lt;chr&gt; | motif &lt;chr&gt; | mean_x &lt;dbl&gt; | mean_y &lt;dbl&gt; | pval &lt;dbl&gt; | test &lt;chr&gt; | x &lt;chr&gt; | y &lt;chr&gt; | enrichedIn &lt;chr&gt; | FDR &lt;dbl&gt; | padj &lt;dbl&gt; | family.id &lt;chr&gt; | family.name &lt;fct&gt; | class.id &lt;chr&gt; | class.name &lt;chr&gt; | superclass.id &lt;chr&gt; | superclass.name &lt;chr&gt; |\n",
       "|---|---|---|---|---|---|---|---|---|---|---|---|---|---|---|---|---|\n",
       "| MA0004.1 | Arnt | 0.1574304 | -0.1897245 | 8.385327e-81 | alpha.vs.other | alpha | other | alpha | 2.477094e-80 | 4.855104e-78 | 1.2.5 | PAS | 1.2 | Basic helix-loop-helix factors (bHLH) | 1 | Basic domains |\n",
       "\n"
      ],
      "text/plain": [
       "  jaspar.id motif mean_x    mean_y     pval         test           x     y    \n",
       "1 MA0004.1  Arnt  0.1574304 -0.1897245 8.385327e-81 alpha.vs.other alpha other\n",
       "  enrichedIn FDR          padj         family.id family.name class.id\n",
       "1 alpha      2.477094e-80 4.855104e-78 1.2.5     PAS         1.2     \n",
       "  class.name                            superclass.id superclass.name\n",
       "1 Basic helix-loop-helix factors (bHLH) 1             Basic domains  "
      ]
     },
     "metadata": {},
     "output_type": "display_data"
    }
   ],
   "source": [
    "(ttest.res.2 %>% head(1) %>% mutate(enrichedIn = ifelse(mean_x > mean_y, x, y)))[, \n",
    "    c(1:8, 17, 9:16)]\n",
    "ttest.res.2 <- (ttest.res.2 %>% mutate(enrichedIn = ifelse(mean_x > mean_y, x, y)))[, \n",
    "    c(1:8, 17, 9:16)]"
   ]
  },
  {
   "cell_type": "code",
   "execution_count": 23,
   "metadata": {},
   "outputs": [
    {
     "name": "stderr",
     "output_type": "stream",
     "text": [
      "Loading required package: writexl\n"
     ]
    }
   ],
   "source": [
    "ttest.res.list <- lapply(paste0(celltype.test.all, \".vs.other\"), function(ntest) {\n",
    "    ttest.res.2 %>% filter(test == ntest) %>% group_by(test) %>% arrange(desc(mean_x))\n",
    "    \n",
    "})\n",
    "names(ttest.res.list) <- paste0(celltype.test.all, \".vs.other\")\n",
    "require(writexl)\n",
    "write_xlsx(ttest.res.list, \"../figures/Fig1/subfigs/fig1E_one_vs_other.xlsx\")\n",
    "system(\"open ../figures/Fig1/subfigs/fig1E_one_vs_other.xlsx\")\n",
    "fwrite(ttest.res.2 %>% group_by(test) %>% arrange(desc(mean_x)),  \"../figures/Fig1/subfigs/fig1E_one_vs_other.csv\")"
   ]
  }
 ],
 "metadata": {
  "kernelspec": {
   "display_name": "R",
   "language": "R",
   "name": "ir"
  },
  "language_info": {
   "codemirror_mode": "r",
   "file_extension": ".r",
   "mimetype": "text/x-r-source",
   "name": "R",
   "pygments_lexer": "r",
   "version": "3.5.1"
  }
 },
 "nbformat": 4,
 "nbformat_minor": 2
}
