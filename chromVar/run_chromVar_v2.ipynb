{
 "cells": [
  {
   "cell_type": "code",
   "execution_count": 2,
   "metadata": {},
   "outputs": [],
   "source": [
    "require(data.table)\n",
    "require(tidyverse)\n",
    "require(BiocParallel)\n",
    "require(GenomicRanges)\n",
    "require(Matrix)\n",
    "require(chromVAR)\n",
    "register(MulticoreParam(10, progressbar = TRUE))\n",
    "require(Matrix.utils)\n",
    "require(BSgenome.Hsapiens.UCSC.hg19)\n",
    "require(SummarizedExperiment)\n",
    "require(motifmatchr)\n",
    "\n",
    "\n",
    "raw.data.folder <- '/Users/frank/mnt/tscc_home/data/projects/islet/2019-10_v2/'\n",
    "res.data.folder <- '/Users/frank/mnt/tscc_home/scratch/projects/islet/2019-10_v2/'\n"
   ]
  },
  {
   "cell_type": "markdown",
   "metadata": {
    "heading_collapsed": true
   },
   "source": [
    "### 0.filter reads in final cells & count reads per cell"
   ]
  },
  {
   "cell_type": "code",
   "execution_count": 10,
   "metadata": {
    "hidden": true
   },
   "outputs": [
    {
     "data": {
      "text/plain": [
       "   user  system elapsed \n",
       "327.463  58.099  68.440 "
      ]
     },
     "metadata": {},
     "output_type": "display_data"
    },
    {
     "data": {
      "text/html": [
       "<table>\n",
       "<caption>A data.table: 1 × 6</caption>\n",
       "<thead>\n",
       "\t<tr><th scope=col>V1</th><th scope=col>V2</th><th scope=col>V3</th><th scope=col>V4</th><th scope=col>V5</th><th scope=col>V6</th></tr>\n",
       "\t<tr><th scope=col>&lt;chr&gt;</th><th scope=col>&lt;int&gt;</th><th scope=col>&lt;int&gt;</th><th scope=col>&lt;chr&gt;</th><th scope=col>&lt;int&gt;</th><th scope=col>&lt;chr&gt;</th></tr>\n",
       "</thead>\n",
       "<tbody>\n",
       "\t<tr><td>chr1</td><td>750566</td><td>750766</td><td>Islet2fresh_CATGTCAGACTGAGCGTAAGCCTAGGC</td><td>36</td><td>+</td></tr>\n",
       "</tbody>\n",
       "</table>\n"
      ],
      "text/latex": [
       "A data.table: 1 × 6\n",
       "\\begin{tabular}{r|llllll}\n",
       " V1 & V2 & V3 & V4 & V5 & V6\\\\\n",
       " <chr> & <int> & <int> & <chr> & <int> & <chr>\\\\\n",
       "\\hline\n",
       "\t chr1 & 750566 & 750766 & Islet2fresh\\_CATGTCAGACTGAGCGTAAGCCTAGGC & 36 & +\\\\\n",
       "\\end{tabular}\n"
      ],
      "text/markdown": [
       "\n",
       "A data.table: 1 × 6\n",
       "\n",
       "| V1 &lt;chr&gt; | V2 &lt;int&gt; | V3 &lt;int&gt; | V4 &lt;chr&gt; | V5 &lt;int&gt; | V6 &lt;chr&gt; |\n",
       "|---|---|---|---|---|---|\n",
       "| chr1 | 750566 | 750766 | Islet2fresh_CATGTCAGACTGAGCGTAAGCCTAGGC | 36 | + |\n",
       "\n"
      ],
      "text/plain": [
       "  V1   V2     V3     V4                                      V5 V6\n",
       "1 chr1 750566 750766 Islet2fresh_CATGTCAGACTGAGCGTAAGCCTAGGC 36 + "
      ]
     },
     "metadata": {},
     "output_type": "display_data"
    },
    {
     "data": {
      "text/html": [
       "<ol class=list-inline>\n",
       "\t<li>129880638</li>\n",
       "\t<li>6</li>\n",
       "</ol>\n"
      ],
      "text/latex": [
       "\\begin{enumerate*}\n",
       "\\item 129880638\n",
       "\\item 6\n",
       "\\end{enumerate*}\n"
      ],
      "text/markdown": [
       "1. 129880638\n",
       "2. 6\n",
       "\n",
       "\n"
      ],
      "text/plain": [
       "[1] 129880638         6"
      ]
     },
     "metadata": {},
     "output_type": "display_data"
    }
   ],
   "source": [
    "# zcat islet.merged.filt.tagAlign.gz > islet.merged.filt.tagAlign\n",
    "system.time(input.raw.reads <- fread(cmd = \"gzcat ../dat/1910_v2/islet.merged.filt.tagAlign.gz\", \n",
    "    header = FALSE))\n",
    "input.raw.reads %>% head(1)\n",
    "input.raw.reads %>% dim"
   ]
  },
  {
   "cell_type": "code",
   "execution_count": 12,
   "metadata": {
    "hidden": true
   },
   "outputs": [
    {
     "data": {
      "text/html": [
       "<table>\n",
       "<caption>A data.table: 1 × 2</caption>\n",
       "<thead>\n",
       "\t<tr><th scope=col>V4</th><th scope=col>N</th></tr>\n",
       "\t<tr><th scope=col>&lt;chr&gt;</th><th scope=col>&lt;int&gt;</th></tr>\n",
       "</thead>\n",
       "<tbody>\n",
       "\t<tr><td>Islet1fresh_AGACACCTAAGAGGCAAAGGAGTAGGCTC</td><td>6135</td></tr>\n",
       "</tbody>\n",
       "</table>\n"
      ],
      "text/latex": [
       "A data.table: 1 × 2\n",
       "\\begin{tabular}{r|ll}\n",
       " V4 & N\\\\\n",
       " <chr> & <int>\\\\\n",
       "\\hline\n",
       "\t Islet1fresh\\_AGACACCTAAGAGGCAAAGGAGTAGGCTC & 6135\\\\\n",
       "\\end{tabular}\n"
      ],
      "text/markdown": [
       "\n",
       "A data.table: 1 × 2\n",
       "\n",
       "| V4 &lt;chr&gt; | N &lt;int&gt; |\n",
       "|---|---|\n",
       "| Islet1fresh_AGACACCTAAGAGGCAAAGGAGTAGGCTC | 6135 |\n",
       "\n"
      ],
      "text/plain": [
       "  V4                                        N   \n",
       "1 Islet1fresh_AGACACCTAAGAGGCAAAGGAGTAGGCTC 6135"
      ]
     },
     "metadata": {},
     "output_type": "display_data"
    },
    {
     "data": {
      "text/html": [
       "<ol class=list-inline>\n",
       "\t<li>15298</li>\n",
       "\t<li>2</li>\n",
       "</ol>\n"
      ],
      "text/latex": [
       "\\begin{enumerate*}\n",
       "\\item 15298\n",
       "\\item 2\n",
       "\\end{enumerate*}\n"
      ],
      "text/markdown": [
       "1. 15298\n",
       "2. 2\n",
       "\n",
       "\n"
      ],
      "text/plain": [
       "[1] 15298     2"
      ]
     },
     "metadata": {},
     "output_type": "display_data"
    }
   ],
   "source": [
    "setkey(input.raw.reads, V4)\n",
    "\n",
    "system.time(output.reads.depth.per.cell <- input.raw.reads[, .(.N), by = .(V4)])\n",
    "\n",
    "fwrite(output.reads.depth.per.cell, \"../dat/1910_v2/output.reads.depth.per.cell.csv\", \n",
    "    col.names = F)\n",
    "\n",
    "output.reads.depth.per.cell%>%head(1)\n",
    "output.reads.depth.per.cell%>%dim"
   ]
  },
  {
   "cell_type": "code",
   "execution_count": 27,
   "metadata": {
    "hidden": true
   },
   "outputs": [
    {
     "data": {
      "text/html": [
       "<table>\n",
       "<caption>A data.table: 1 × 11</caption>\n",
       "<thead>\n",
       "\t<tr><th scope=col>index</th><th scope=col>UMAP1</th><th scope=col>UMAP2</th><th scope=col>cluster_name</th><th scope=col>unique_usable_reads</th><th scope=col>log_usable_counts</th><th scope=col>frac_duplicated_reads</th><th scope=col>frac_mito_reads</th><th scope=col>frac_promoters_used</th><th scope=col>frac_reads_in_peaks</th><th scope=col>frac_reads_in_promoters</th></tr>\n",
       "\t<tr><th scope=col>&lt;chr&gt;</th><th scope=col>&lt;dbl&gt;</th><th scope=col>&lt;dbl&gt;</th><th scope=col>&lt;chr&gt;</th><th scope=col>&lt;int&gt;</th><th scope=col>&lt;dbl&gt;</th><th scope=col>&lt;dbl&gt;</th><th scope=col>&lt;dbl&gt;</th><th scope=col>&lt;dbl&gt;</th><th scope=col>&lt;dbl&gt;</th><th scope=col>&lt;dbl&gt;</th></tr>\n",
       "</thead>\n",
       "<tbody>\n",
       "\t<tr><td>Islet1fresh_AGACACCTAAGAGGCAAAGGAGTAGGCTC</td><td>-5.102393</td><td>1.38682</td><td>alpha_2</td><td>6254</td><td>7.865955</td><td>0.7902986</td><td>0.03428042</td><td>0.04337516</td><td>0.5978574</td><td>0.2646306</td></tr>\n",
       "</tbody>\n",
       "</table>\n"
      ],
      "text/latex": [
       "A data.table: 1 × 11\n",
       "\\begin{tabular}{r|lllllllllll}\n",
       " index & UMAP1 & UMAP2 & cluster\\_name & unique\\_usable\\_reads & log\\_usable\\_counts & frac\\_duplicated\\_reads & frac\\_mito\\_reads & frac\\_promoters\\_used & frac\\_reads\\_in\\_peaks & frac\\_reads\\_in\\_promoters\\\\\n",
       " <chr> & <dbl> & <dbl> & <chr> & <int> & <dbl> & <dbl> & <dbl> & <dbl> & <dbl> & <dbl>\\\\\n",
       "\\hline\n",
       "\t Islet1fresh\\_AGACACCTAAGAGGCAAAGGAGTAGGCTC & -5.102393 & 1.38682 & alpha\\_2 & 6254 & 7.865955 & 0.7902986 & 0.03428042 & 0.04337516 & 0.5978574 & 0.2646306\\\\\n",
       "\\end{tabular}\n"
      ],
      "text/markdown": [
       "\n",
       "A data.table: 1 × 11\n",
       "\n",
       "| index &lt;chr&gt; | UMAP1 &lt;dbl&gt; | UMAP2 &lt;dbl&gt; | cluster_name &lt;chr&gt; | unique_usable_reads &lt;int&gt; | log_usable_counts &lt;dbl&gt; | frac_duplicated_reads &lt;dbl&gt; | frac_mito_reads &lt;dbl&gt; | frac_promoters_used &lt;dbl&gt; | frac_reads_in_peaks &lt;dbl&gt; | frac_reads_in_promoters &lt;dbl&gt; |\n",
       "|---|---|---|---|---|---|---|---|---|---|---|\n",
       "| Islet1fresh_AGACACCTAAGAGGCAAAGGAGTAGGCTC | -5.102393 | 1.38682 | alpha_2 | 6254 | 7.865955 | 0.7902986 | 0.03428042 | 0.04337516 | 0.5978574 | 0.2646306 |\n",
       "\n"
      ],
      "text/plain": [
       "  index                                     UMAP1     UMAP2   cluster_name\n",
       "1 Islet1fresh_AGACACCTAAGAGGCAAAGGAGTAGGCTC -5.102393 1.38682 alpha_2     \n",
       "  unique_usable_reads log_usable_counts frac_duplicated_reads frac_mito_reads\n",
       "1 6254                7.865955          0.7902986             0.03428042     \n",
       "  frac_promoters_used frac_reads_in_peaks frac_reads_in_promoters\n",
       "1 0.04337516          0.5978574           0.2646306              "
      ]
     },
     "metadata": {},
     "output_type": "display_data"
    },
    {
     "data": {
      "text/html": [
       "<ol class=list-inline>\n",
       "\t<li>15298</li>\n",
       "\t<li>11</li>\n",
       "</ol>\n"
      ],
      "text/latex": [
       "\\begin{enumerate*}\n",
       "\\item 15298\n",
       "\\item 11\n",
       "\\end{enumerate*}\n"
      ],
      "text/markdown": [
       "1. 15298\n",
       "2. 11\n",
       "\n",
       "\n"
      ],
      "text/plain": [
       "[1] 15298    11"
      ]
     },
     "metadata": {},
     "output_type": "display_data"
    }
   ],
   "source": [
    "# zcat islet.merged.filt.tagAlign.gz > islet.merged.filt.tagAlign\n",
    "input.cells.final <- fread(paste0(raw.data.folder, \"islet.cluster_labels.filt.txt\"), \n",
    "    header = T)\n",
    "input.cells.final%>%head(1)\n",
    "input.cells.final%>%dim"
   ]
  },
  {
   "cell_type": "code",
   "execution_count": 29,
   "metadata": {
    "hidden": true
   },
   "outputs": [
    {
     "data": {
      "text/html": [
       "15298"
      ],
      "text/latex": [
       "15298"
      ],
      "text/markdown": [
       "15298"
      ],
      "text/plain": [
       "[1] 15298"
      ]
     },
     "metadata": {},
     "output_type": "display_data"
    },
    {
     "data": {
      "text/html": [
       "TRUE"
      ],
      "text/latex": [
       "TRUE"
      ],
      "text/markdown": [
       "TRUE"
      ],
      "text/plain": [
       "[1] TRUE"
      ]
     },
     "metadata": {},
     "output_type": "display_data"
    }
   ],
   "source": [
    "input.raw.reads%>%pull(V4)%>%unique%>%length\n",
    "all(input.raw.reads%>%pull(V4)%>%unique %in% input.cells.final$index)"
   ]
  },
  {
   "cell_type": "code",
   "execution_count": 31,
   "metadata": {
    "hidden": true
   },
   "outputs": [],
   "source": [
    "meta.data <- list()\n",
    "meta.data$nreads <- input.raw.reads %>% nrow\n",
    "meta.data$ncells <- input.cells.final %>% nrow"
   ]
  },
  {
   "cell_type": "markdown",
   "metadata": {
    "heading_collapsed": true
   },
   "source": [
    "### 1. count reads in peaks (resized to 500bp)\n",
    "\n",
    "* input: 1. peaks (255k) 2. filtered reads (128M reads) 3. cell-celltype dict (15k cells)\n",
    "* output: 1. peaks x cells - sparse counts\n"
   ]
  },
  {
   "cell_type": "code",
   "execution_count": 37,
   "metadata": {
    "hidden": true
   },
   "outputs": [
    {
     "name": "stderr",
     "output_type": "stream",
     "text": [
      "Warning message in getPeaks(paste0(raw.data.folder, \"islet.merged_peaks.anno.bed\"), :\n",
      "“Peaks are not equal width!Use resize(peaks, width = x, fix = \"center\") to make peaks equal in size, where x is the desired size of the peaks)”Peaks sorted\n"
     ]
    },
    {
     "data": {
      "text/plain": [
       "GRanges object with 1 range and 0 metadata columns:\n",
       "      seqnames        ranges strand\n",
       "         <Rle>     <IRanges>  <Rle>\n",
       "  [1]     chr1 752579-752778      *\n",
       "  -------\n",
       "  seqinfo: 24 sequences from an unspecified genome; no seqlengths"
      ]
     },
     "metadata": {},
     "output_type": "display_data"
    }
   ],
   "source": [
    "input.peaks <- getPeaks(paste0(raw.data.folder, \"islet.merged_peaks.anno.bed\"), sort_peaks = T)\n",
    "input.peaks %>% head(1)\n"
   ]
  },
  {
   "cell_type": "code",
   "execution_count": 39,
   "metadata": {
    "hidden": true
   },
   "outputs": [
    {
     "data": {
      "text/html": [
       "<table>\n",
       "<caption>A data.table: 1 × 3</caption>\n",
       "<thead>\n",
       "\t<tr><th scope=col>seqnames</th><th scope=col>start</th><th scope=col>end</th></tr>\n",
       "\t<tr><th scope=col>&lt;fct&gt;</th><th scope=col>&lt;int&gt;</th><th scope=col>&lt;int&gt;</th></tr>\n",
       "</thead>\n",
       "<tbody>\n",
       "\t<tr><td>chr1</td><td>752429</td><td>752928</td></tr>\n",
       "</tbody>\n",
       "</table>\n"
      ],
      "text/latex": [
       "A data.table: 1 × 3\n",
       "\\begin{tabular}{r|lll}\n",
       " seqnames & start & end\\\\\n",
       " <fct> & <int> & <int>\\\\\n",
       "\\hline\n",
       "\t chr1 & 752429 & 752928\\\\\n",
       "\\end{tabular}\n"
      ],
      "text/markdown": [
       "\n",
       "A data.table: 1 × 3\n",
       "\n",
       "| seqnames &lt;fct&gt; | start &lt;int&gt; | end &lt;int&gt; |\n",
       "|---|---|---|\n",
       "| chr1 | 752429 | 752928 |\n",
       "\n"
      ],
      "text/plain": [
       "  seqnames start  end   \n",
       "1 chr1     752429 752928"
      ]
     },
     "metadata": {},
     "output_type": "display_data"
    },
    {
     "data": {
      "text/html": [
       "<ol class=list-inline>\n",
       "\t<li>228873</li>\n",
       "\t<li>3</li>\n",
       "</ol>\n"
      ],
      "text/latex": [
       "\\begin{enumerate*}\n",
       "\\item 228873\n",
       "\\item 3\n",
       "\\end{enumerate*}\n"
      ],
      "text/markdown": [
       "1. 228873\n",
       "2. 3\n",
       "\n",
       "\n"
      ],
      "text/plain": [
       "[1] 228873      3"
      ]
     },
     "metadata": {},
     "output_type": "display_data"
    }
   ],
   "source": [
    "input.peaks <- resize(input.peaks,width=500,fix=\"center\")\n",
    "input.peaks <- as.data.table(input.peaks)[,.(seqnames,start,end)]\n",
    "setkey(input.peaks,seqnames,start,end)\n",
    "input.peaks%>%head(1)\n",
    "input.peaks%>%dim"
   ]
  },
  {
   "cell_type": "code",
   "execution_count": 43,
   "metadata": {
    "hidden": true
   },
   "outputs": [
    {
     "data": {
      "text/html": [
       "<table>\n",
       "<caption>A data.table: 1 × 4</caption>\n",
       "<thead>\n",
       "\t<tr><th scope=col>seqnames</th><th scope=col>start</th><th scope=col>end</th><th scope=col>cell</th></tr>\n",
       "\t<tr><th scope=col>&lt;chr&gt;</th><th scope=col>&lt;int&gt;</th><th scope=col>&lt;int&gt;</th><th scope=col>&lt;chr&gt;</th></tr>\n",
       "</thead>\n",
       "<tbody>\n",
       "\t<tr><td>chr1</td><td>750566</td><td>750766</td><td>Islet2fresh_CATGTCAGACTGAGCGTAAGCCTAGGC</td></tr>\n",
       "</tbody>\n",
       "</table>\n"
      ],
      "text/latex": [
       "A data.table: 1 × 4\n",
       "\\begin{tabular}{r|llll}\n",
       " seqnames & start & end & cell\\\\\n",
       " <chr> & <int> & <int> & <chr>\\\\\n",
       "\\hline\n",
       "\t chr1 & 750566 & 750766 & Islet2fresh\\_CATGTCAGACTGAGCGTAAGCCTAGGC\\\\\n",
       "\\end{tabular}\n"
      ],
      "text/markdown": [
       "\n",
       "A data.table: 1 × 4\n",
       "\n",
       "| seqnames &lt;chr&gt; | start &lt;int&gt; | end &lt;int&gt; | cell &lt;chr&gt; |\n",
       "|---|---|---|---|\n",
       "| chr1 | 750566 | 750766 | Islet2fresh_CATGTCAGACTGAGCGTAAGCCTAGGC |\n",
       "\n"
      ],
      "text/plain": [
       "  seqnames start  end    cell                                   \n",
       "1 chr1     750566 750766 Islet2fresh_CATGTCAGACTGAGCGTAAGCCTAGGC"
      ]
     },
     "metadata": {},
     "output_type": "display_data"
    },
    {
     "data": {
      "text/html": [
       "<ol class=list-inline>\n",
       "\t<li>129880638</li>\n",
       "\t<li>4</li>\n",
       "</ol>\n"
      ],
      "text/latex": [
       "\\begin{enumerate*}\n",
       "\\item 129880638\n",
       "\\item 4\n",
       "\\end{enumerate*}\n"
      ],
      "text/markdown": [
       "1. 129880638\n",
       "2. 4\n",
       "\n",
       "\n"
      ],
      "text/plain": [
       "[1] 129880638         4"
      ]
     },
     "metadata": {},
     "output_type": "display_data"
    }
   ],
   "source": [
    "input.raw.reads <- input.raw.reads[, .(V1, V2, V3, V4)]\n",
    "input.raw.reads <- input.raw.reads[, .(seqnames = V1, start = V2, end = V3, cell = V4)]\n",
    "input.raw.reads%>%head(1)\n",
    "input.raw.reads%>%dim"
   ]
  },
  {
   "cell_type": "code",
   "execution_count": 45,
   "metadata": {
    "hidden": true
   },
   "outputs": [
    {
     "data": {
      "text/plain": [
       "   user  system elapsed \n",
       " 29.315   8.055  35.165 "
      ]
     },
     "metadata": {},
     "output_type": "display_data"
    },
    {
     "data": {
      "text/html": [
       "<table>\n",
       "<caption>A data.table: 1 × 3</caption>\n",
       "<thead>\n",
       "\t<tr><th scope=col>peak</th><th scope=col>cell</th><th scope=col>N</th></tr>\n",
       "\t<tr><th scope=col>&lt;fct&gt;</th><th scope=col>&lt;fct&gt;</th><th scope=col>&lt;int&gt;</th></tr>\n",
       "</thead>\n",
       "<tbody>\n",
       "\t<tr><td>chr1_752429_752928</td><td>Islet3fresh_ATTACTCGTCCTGAGCTTCTAGCTAGGCGAAG</td><td>1</td></tr>\n",
       "</tbody>\n",
       "</table>\n"
      ],
      "text/latex": [
       "A data.table: 1 × 3\n",
       "\\begin{tabular}{r|lll}\n",
       " peak & cell & N\\\\\n",
       " <fct> & <fct> & <int>\\\\\n",
       "\\hline\n",
       "\t chr1\\_752429\\_752928 & Islet3fresh\\_ATTACTCGTCCTGAGCTTCTAGCTAGGCGAAG & 1\\\\\n",
       "\\end{tabular}\n"
      ],
      "text/markdown": [
       "\n",
       "A data.table: 1 × 3\n",
       "\n",
       "| peak &lt;fct&gt; | cell &lt;fct&gt; | N &lt;int&gt; |\n",
       "|---|---|---|\n",
       "| chr1_752429_752928 | Islet3fresh_ATTACTCGTCCTGAGCTTCTAGCTAGGCGAAG | 1 |\n",
       "\n"
      ],
      "text/plain": [
       "  peak               cell                                         N\n",
       "1 chr1_752429_752928 Islet3fresh_ATTACTCGTCCTGAGCTTCTAGCTAGGCGAAG 1"
      ]
     },
     "metadata": {},
     "output_type": "display_data"
    },
    {
     "data": {
      "text/html": [
       "<ol class=list-inline>\n",
       "\t<li>39398882</li>\n",
       "\t<li>3</li>\n",
       "</ol>\n"
      ],
      "text/latex": [
       "\\begin{enumerate*}\n",
       "\\item 39398882\n",
       "\\item 3\n",
       "\\end{enumerate*}\n"
      ],
      "text/markdown": [
       "1. 39398882\n",
       "2. 3\n",
       "\n",
       "\n"
      ],
      "text/plain": [
       "[1] 39398882        3"
      ]
     },
     "metadata": {},
     "output_type": "display_data"
    }
   ],
   "source": [
    "system.time(output.peaks.by.cells.count <- foverlaps(input.raw.reads, input.peaks, \n",
    "    nomatch = 0L))\n",
    "output.peaks.by.cells.count <- output.peaks.by.cells.count[,.(.N),by=.(seqnames,start,end,cell)]\n",
    "output.peaks.by.cells.count <- output.peaks.by.cells.count[,cell:=as.factor(cell)]\n",
    "output.peaks.by.cells.count <- output.peaks.by.cells.count %>% unite(col = peak,1:3)\n",
    "output.peaks.by.cells.count <- output.peaks.by.cells.count[,peak:=as.factor(peak)]\n",
    "output.peaks.by.cells.count%>%head(1)\n",
    "output.peaks.by.cells.count%>%dim\n",
    "fwrite(output.peaks.by.cells.count,\"../dat/1910_v2/output.peaks.by.cells.count.csv\")"
   ]
  },
  {
   "cell_type": "code",
   "execution_count": 47,
   "metadata": {
    "hidden": true
   },
   "outputs": [
    {
     "data": {
      "text/html": [
       "<table>\n",
       "<caption>A matrix: 2 × 7 of type dbl</caption>\n",
       "<thead>\n",
       "\t<tr><th></th><th scope=col>used</th><th scope=col>(Mb)</th><th scope=col>gc trigger</th><th scope=col>(Mb)</th><th scope=col>limit (Mb)</th><th scope=col>max used</th><th scope=col>(Mb)</th></tr>\n",
       "</thead>\n",
       "<tbody>\n",
       "\t<tr><th scope=row>Ncells</th><td>  8822522</td><td> 471.2</td><td>  14948888</td><td> 798.4</td><td>   NA</td><td>  14948888</td><td>  798.4</td></tr>\n",
       "\t<tr><th scope=row>Vcells</th><td>135004610</td><td>1030.1</td><td>1210035988</td><td>9231.9</td><td>16384</td><td>1507410893</td><td>11500.7</td></tr>\n",
       "</tbody>\n",
       "</table>\n"
      ],
      "text/latex": [
       "A matrix: 2 × 7 of type dbl\n",
       "\\begin{tabular}{r|lllllll}\n",
       "  & used & (Mb) & gc trigger & (Mb) & limit (Mb) & max used & (Mb)\\\\\n",
       "\\hline\n",
       "\tNcells &   8822522 &  471.2 &   14948888 &  798.4 &    NA &   14948888 &   798.4\\\\\n",
       "\tVcells & 135004610 & 1030.1 & 1210035988 & 9231.9 & 16384 & 1507410893 & 11500.7\\\\\n",
       "\\end{tabular}\n"
      ],
      "text/markdown": [
       "\n",
       "A matrix: 2 × 7 of type dbl\n",
       "\n",
       "| <!--/--> | used | (Mb) | gc trigger | (Mb) | limit (Mb) | max used | (Mb) |\n",
       "|---|---|---|---|---|---|---|---|\n",
       "| Ncells |   8822522 |  471.2 |   14948888 |  798.4 |    NA |   14948888 |   798.4 |\n",
       "| Vcells | 135004610 | 1030.1 | 1210035988 | 9231.9 | 16384 | 1507410893 | 11500.7 |\n",
       "\n"
      ],
      "text/plain": [
       "       used      (Mb)   gc trigger (Mb)   limit (Mb) max used   (Mb)   \n",
       "Ncells   8822522  471.2   14948888  798.4    NA        14948888   798.4\n",
       "Vcells 135004610 1030.1 1210035988 9231.9 16384      1507410893 11500.7"
      ]
     },
     "metadata": {},
     "output_type": "display_data"
    }
   ],
   "source": [
    "rm(input.raw.reads)\n",
    "gc()"
   ]
  },
  {
   "cell_type": "code",
   "execution_count": 34,
   "metadata": {
    "hidden": true
   },
   "outputs": [
    {
     "data": {
      "text/html": [
       "'Islet1fresh_AGACACCTAAGAGGCAAAGGAGTAGGCTC'"
      ],
      "text/latex": [
       "'Islet1fresh\\_AGACACCTAAGAGGCAAAGGAGTAGGCTC'"
      ],
      "text/markdown": [
       "'Islet1fresh_AGACACCTAAGAGGCAAAGGAGTAGGCTC'"
      ],
      "text/plain": [
       "[1] \"Islet1fresh_AGACACCTAAGAGGCAAAGGAGTAGGCTC\""
      ]
     },
     "metadata": {},
     "output_type": "display_data"
    },
    {
     "data": {
      "text/html": [
       "'Islet1fresh_AGACACCTAAGAGGCAAAGGAGTAGGCTC'"
      ],
      "text/latex": [
       "'Islet1fresh\\_AGACACCTAAGAGGCAAAGGAGTAGGCTC'"
      ],
      "text/markdown": [
       "'Islet1fresh_AGACACCTAAGAGGCAAAGGAGTAGGCTC'"
      ],
      "text/plain": [
       "[1] \"Islet1fresh_AGACACCTAAGAGGCAAAGGAGTAGGCTC\""
      ]
     },
     "metadata": {},
     "output_type": "display_data"
    }
   ],
   "source": [
    "colnames(input.peaks.by.cells.count.sparse) %>% head(1)\n",
    "colnames(input.peaks.by.cells.count.sparse) <- sub(\"cell\", \"\", colnames(input.peaks.by.cells.count.sparse))\n",
    "colnames(input.peaks.by.cells.count.sparse) %>% head(1)\n",
    "saveRDS(input.peaks.by.cells.count.sparse, \"../dat/1910_v2/output.peaks.by.cells.count.sparse.Rdata\")"
   ]
  },
  {
   "cell_type": "code",
   "execution_count": 48,
   "metadata": {
    "hidden": true
   },
   "outputs": [
    {
     "data": {
      "text/plain": [
       "   user  system elapsed \n",
       " 54.177   6.873  61.112 "
      ]
     },
     "metadata": {},
     "output_type": "display_data"
    }
   ],
   "source": [
    "#system.time(output.peaks.by.cells.count.sparse <- dMcast(output.peaks.by.cells.count, \n",
    "#    peak ~ cell, fun.aggregate = \"I\", value.var = \"N\"))\n",
    "\n",
    "colnames(output.peaks.by.cells.count.sparse) <- sub(\"cell\", \"\", colnames(output.peaks.by.cells.count.sparse))\n",
    "\n",
    "# writeMM(output.peaks.by.cells.count.sparse,'output.peaks.by.cells.count.sparse.txt')\n",
    "saveRDS(output.peaks.by.cells.count.sparse, \"../dat/1910_v2/output.peaks.by.cells.count.sparse.Rdata\")"
   ]
  },
  {
   "cell_type": "markdown",
   "metadata": {
    "heading_collapsed": true
   },
   "source": [
    "### 2. creat count object for chromVar\n",
    "* input: 1. peaks x cells - sparse counts 2. cell,read_depth 3. cell_type assignement\n",
    "* output: 1. summarizedExperiement(SE) obj for chromVAR"
   ]
  },
  {
   "cell_type": "code",
   "execution_count": 56,
   "metadata": {
    "hidden": true
   },
   "outputs": [],
   "source": [
    "input.peaks.by.cells.count.sparse<-readRDS(\"../dat/1910_v2/output.peaks.by.cells.count.sparse.Rdata\")\n",
    "input.reads.depth.per.cell<- fread(\"../dat/1910_v2/output.reads.depth.per.cell.csv\",col.names = c(\"cell\",\"depth\"))\n",
    "input.cell.celltypes <- read.table(paste0(raw.data.folder, \"islet.cluster_labels.filt.txt\"), \n",
    "    header = T,row.names = 1)"
   ]
  },
  {
   "cell_type": "code",
   "execution_count": 57,
   "metadata": {
    "hidden": true
   },
   "outputs": [
    {
     "data": {
      "text/html": [
       "<table>\n",
       "<caption>A data.table: 1 × 2</caption>\n",
       "<thead>\n",
       "\t<tr><th scope=col>cell</th><th scope=col>depth</th></tr>\n",
       "\t<tr><th scope=col>&lt;chr&gt;</th><th scope=col>&lt;int&gt;</th></tr>\n",
       "</thead>\n",
       "<tbody>\n",
       "\t<tr><td>Islet1fresh_AGACACCTAAGAGGCAAAGGAGTAGGCTC</td><td>6135</td></tr>\n",
       "</tbody>\n",
       "</table>\n"
      ],
      "text/latex": [
       "A data.table: 1 × 2\n",
       "\\begin{tabular}{r|ll}\n",
       " cell & depth\\\\\n",
       " <chr> & <int>\\\\\n",
       "\\hline\n",
       "\t Islet1fresh\\_AGACACCTAAGAGGCAAAGGAGTAGGCTC & 6135\\\\\n",
       "\\end{tabular}\n"
      ],
      "text/markdown": [
       "\n",
       "A data.table: 1 × 2\n",
       "\n",
       "| cell &lt;chr&gt; | depth &lt;int&gt; |\n",
       "|---|---|\n",
       "| Islet1fresh_AGACACCTAAGAGGCAAAGGAGTAGGCTC | 6135 |\n",
       "\n"
      ],
      "text/plain": [
       "  cell                                      depth\n",
       "1 Islet1fresh_AGACACCTAAGAGGCAAAGGAGTAGGCTC 6135 "
      ]
     },
     "metadata": {},
     "output_type": "display_data"
    },
    {
     "data": {
      "text/html": [
       "<table>\n",
       "<caption>A data.frame: 1 × 10</caption>\n",
       "<thead>\n",
       "\t<tr><th></th><th scope=col>UMAP1</th><th scope=col>UMAP2</th><th scope=col>cluster_name</th><th scope=col>unique_usable_reads</th><th scope=col>log_usable_counts</th><th scope=col>frac_duplicated_reads</th><th scope=col>frac_mito_reads</th><th scope=col>frac_promoters_used</th><th scope=col>frac_reads_in_peaks</th><th scope=col>frac_reads_in_promoters</th></tr>\n",
       "\t<tr><th></th><th scope=col>&lt;dbl&gt;</th><th scope=col>&lt;dbl&gt;</th><th scope=col>&lt;fct&gt;</th><th scope=col>&lt;int&gt;</th><th scope=col>&lt;dbl&gt;</th><th scope=col>&lt;dbl&gt;</th><th scope=col>&lt;dbl&gt;</th><th scope=col>&lt;dbl&gt;</th><th scope=col>&lt;dbl&gt;</th><th scope=col>&lt;dbl&gt;</th></tr>\n",
       "</thead>\n",
       "<tbody>\n",
       "\t<tr><th scope=row>Islet1fresh_AGACACCTAAGAGGCAAAGGAGTAGGCTC</th><td>-5.102393</td><td>1.38682</td><td>alpha_2</td><td>6254</td><td>7.865955</td><td>0.7902986</td><td>0.03428042</td><td>0.04337516</td><td>0.5978574</td><td>0.2646306</td></tr>\n",
       "</tbody>\n",
       "</table>\n"
      ],
      "text/latex": [
       "A data.frame: 1 × 10\n",
       "\\begin{tabular}{r|llllllllll}\n",
       "  & UMAP1 & UMAP2 & cluster\\_name & unique\\_usable\\_reads & log\\_usable\\_counts & frac\\_duplicated\\_reads & frac\\_mito\\_reads & frac\\_promoters\\_used & frac\\_reads\\_in\\_peaks & frac\\_reads\\_in\\_promoters\\\\\n",
       "  & <dbl> & <dbl> & <fct> & <int> & <dbl> & <dbl> & <dbl> & <dbl> & <dbl> & <dbl>\\\\\n",
       "\\hline\n",
       "\tIslet1fresh\\_AGACACCTAAGAGGCAAAGGAGTAGGCTC & -5.102393 & 1.38682 & alpha\\_2 & 6254 & 7.865955 & 0.7902986 & 0.03428042 & 0.04337516 & 0.5978574 & 0.2646306\\\\\n",
       "\\end{tabular}\n"
      ],
      "text/markdown": [
       "\n",
       "A data.frame: 1 × 10\n",
       "\n",
       "| <!--/--> | UMAP1 &lt;dbl&gt; | UMAP2 &lt;dbl&gt; | cluster_name &lt;fct&gt; | unique_usable_reads &lt;int&gt; | log_usable_counts &lt;dbl&gt; | frac_duplicated_reads &lt;dbl&gt; | frac_mito_reads &lt;dbl&gt; | frac_promoters_used &lt;dbl&gt; | frac_reads_in_peaks &lt;dbl&gt; | frac_reads_in_promoters &lt;dbl&gt; |\n",
       "|---|---|---|---|---|---|---|---|---|---|---|\n",
       "| Islet1fresh_AGACACCTAAGAGGCAAAGGAGTAGGCTC | -5.102393 | 1.38682 | alpha_2 | 6254 | 7.865955 | 0.7902986 | 0.03428042 | 0.04337516 | 0.5978574 | 0.2646306 |\n",
       "\n"
      ],
      "text/plain": [
       "                                          UMAP1     UMAP2   cluster_name\n",
       "Islet1fresh_AGACACCTAAGAGGCAAAGGAGTAGGCTC -5.102393 1.38682 alpha_2     \n",
       "                                          unique_usable_reads log_usable_counts\n",
       "Islet1fresh_AGACACCTAAGAGGCAAAGGAGTAGGCTC 6254                7.865955         \n",
       "                                          frac_duplicated_reads frac_mito_reads\n",
       "Islet1fresh_AGACACCTAAGAGGCAAAGGAGTAGGCTC 0.7902986             0.03428042     \n",
       "                                          frac_promoters_used\n",
       "Islet1fresh_AGACACCTAAGAGGCAAAGGAGTAGGCTC 0.04337516         \n",
       "                                          frac_reads_in_peaks\n",
       "Islet1fresh_AGACACCTAAGAGGCAAAGGAGTAGGCTC 0.5978574          \n",
       "                                          frac_reads_in_promoters\n",
       "Islet1fresh_AGACACCTAAGAGGCAAAGGAGTAGGCTC 0.2646306              "
      ]
     },
     "metadata": {},
     "output_type": "display_data"
    }
   ],
   "source": [
    "input.reads.depth.per.cell%>%head(1)\n",
    "input.cell.celltypes%>%head(1)"
   ]
  },
  {
   "cell_type": "code",
   "execution_count": 58,
   "metadata": {
    "hidden": true
   },
   "outputs": [],
   "source": [
    "# construct SE object  ----------------------------------------------------\n",
    "\n",
    "output.SE.for.chromVar <- SummarizedExperiment(assays=list(counts=input.peaks.by.cells.count.sparse),\n",
    "                    colData=input.reads.depth.per.cell)\n",
    "\n",
    "rowRanges.gr <- do.call(rbind,sapply(rownames(output.SE.for.chromVar),strsplit,split=\"_\"))\n",
    "rowRanges.gr <- as.data.frame(rowRanges.gr)\n",
    "colnames(rowRanges.gr)<- c(\"seqname\",\"start\",\"end\")\n",
    "rowRanges.gr <- makeGRangesFromDataFrame(rowRanges.gr)\n",
    "rowRanges(output.SE.for.chromVar) <- rowRanges.gr\n"
   ]
  },
  {
   "cell_type": "code",
   "execution_count": 60,
   "metadata": {
    "hidden": true
   },
   "outputs": [],
   "source": [
    "## filter sample  (skip)\n",
    "#filtering_plot <- filterSamplesPlot(output.SE.for.chromVar, min_depth = 0, \n",
    "#                                    min_in_peaks = 0.15, use_plotly = FALSE)\n",
    "#filtering_plot\n",
    "output.SE.for.chromVar.filtered <- filterSamples(output.SE.for.chromVar, min_depth = 0, \n",
    "                                        min_in_peaks = 0, shiny = FALSE)"
   ]
  },
  {
   "cell_type": "code",
   "execution_count": 61,
   "metadata": {
    "hidden": true
   },
   "outputs": [
    {
     "data": {
      "text/html": [
       "<ol class=list-inline>\n",
       "\t<li>228873</li>\n",
       "\t<li>15298</li>\n",
       "</ol>\n"
      ],
      "text/latex": [
       "\\begin{enumerate*}\n",
       "\\item 228873\n",
       "\\item 15298\n",
       "\\end{enumerate*}\n"
      ],
      "text/markdown": [
       "1. 228873\n",
       "2. 15298\n",
       "\n",
       "\n"
      ],
      "text/plain": [
       "[1] 228873  15298"
      ]
     },
     "metadata": {},
     "output_type": "display_data"
    },
    {
     "data": {
      "text/html": [
       "<ol class=list-inline>\n",
       "\t<li>226677</li>\n",
       "\t<li>15298</li>\n",
       "</ol>\n"
      ],
      "text/latex": [
       "\\begin{enumerate*}\n",
       "\\item 226677\n",
       "\\item 15298\n",
       "\\end{enumerate*}\n"
      ],
      "text/markdown": [
       "1. 226677\n",
       "2. 15298\n",
       "\n",
       "\n"
      ],
      "text/plain": [
       "[1] 226677  15298"
      ]
     },
     "metadata": {},
     "output_type": "display_data"
    }
   ],
   "source": [
    "output.SE.for.chromVar%>%dim\n",
    "output.SE.for.chromVar.filtered <- sort(output.SE.for.chromVar)\n",
    "output.SE.for.chromVar.filtered <- filterPeaks(output.SE.for.chromVar.filtered)\n",
    "output.SE.for.chromVar.filtered%>%dim\n",
    "\n",
    "## add GC\n",
    "output.SE.for.chromVar.filtered <- addGCBias(output.SE.for.chromVar.filtered, genome = BSgenome.Hsapiens.UCSC.hg19)"
   ]
  },
  {
   "cell_type": "code",
   "execution_count": 63,
   "metadata": {
    "hidden": true
   },
   "outputs": [
    {
     "data": {
      "text/plain": [
       "DataFrame with 1 row and 3 columns\n",
       "                                                                               cell\n",
       "                                                                        <character>\n",
       "Islet1fresh_AGACACCTAAGAGGCAAAGGAGTAGGCTC Islet1fresh_AGACACCTAAGAGGCAAAGGAGTAGGCTC\n",
       "                                              depth cell_type\n",
       "                                          <integer>  <factor>\n",
       "Islet1fresh_AGACACCTAAGAGGCAAAGGAGTAGGCTC      6135   alpha_2"
      ]
     },
     "metadata": {},
     "output_type": "display_data"
    }
   ],
   "source": [
    "## add cell_type assignment \n",
    "cd <- colData(output.SE.for.chromVar.filtered)\n",
    "cd$cell_type <- input.cell.celltypes[rownames(cd),\"cluster_name\"]\n",
    "cd %>%head(1)\n",
    "colData(output.SE.for.chromVar.filtered) <- cd\n",
    "saveRDS(output.SE.for.chromVar.filtered,\"../dat/1910_v2/output.SE.for.chromVar.filtered.Rdata\")"
   ]
  },
  {
   "cell_type": "code",
   "execution_count": 69,
   "metadata": {
    "hidden": true
   },
   "outputs": [
    {
     "data": {
      "text/html": [
       "<ol class=list-inline>\n",
       "\t<li>'.pbd_env'</li>\n",
       "\t<li>'.Random.seed'</li>\n",
       "\t<li>'input.cell.celltypes'</li>\n",
       "\t<li>'input.motifs'</li>\n",
       "\t<li>'input.reads.depth.per.cell'</li>\n",
       "\t<li>'motif_ix'</li>\n",
       "\t<li>'output.SE.for.chromVar.filtered'</li>\n",
       "\t<li>'raw.data.folder'</li>\n",
       "\t<li>'res.data.folder'</li>\n",
       "\t<li>'rowRanges.gr'</li>\n",
       "</ol>\n"
      ],
      "text/latex": [
       "\\begin{enumerate*}\n",
       "\\item '.pbd\\_env'\n",
       "\\item '.Random.seed'\n",
       "\\item 'input.cell.celltypes'\n",
       "\\item 'input.motifs'\n",
       "\\item 'input.reads.depth.per.cell'\n",
       "\\item 'motif\\_ix'\n",
       "\\item 'output.SE.for.chromVar.filtered'\n",
       "\\item 'raw.data.folder'\n",
       "\\item 'res.data.folder'\n",
       "\\item 'rowRanges.gr'\n",
       "\\end{enumerate*}\n"
      ],
      "text/markdown": [
       "1. '.pbd_env'\n",
       "2. '.Random.seed'\n",
       "3. 'input.cell.celltypes'\n",
       "4. 'input.motifs'\n",
       "5. 'input.reads.depth.per.cell'\n",
       "6. 'motif_ix'\n",
       "7. 'output.SE.for.chromVar.filtered'\n",
       "8. 'raw.data.folder'\n",
       "9. 'res.data.folder'\n",
       "10. 'rowRanges.gr'\n",
       "\n",
       "\n"
      ],
      "text/plain": [
       " [1] \".pbd_env\"                        \".Random.seed\"                   \n",
       " [3] \"input.cell.celltypes\"            \"input.motifs\"                   \n",
       " [5] \"input.reads.depth.per.cell\"      \"motif_ix\"                       \n",
       " [7] \"output.SE.for.chromVar.filtered\" \"raw.data.folder\"                \n",
       " [9] \"res.data.folder\"                 \"rowRanges.gr\"                   "
      ]
     },
     "metadata": {},
     "output_type": "display_data"
    },
    {
     "data": {
      "text/html": [
       "<table>\n",
       "<caption>A matrix: 2 × 7 of type dbl</caption>\n",
       "<thead>\n",
       "\t<tr><th></th><th scope=col>used</th><th scope=col>(Mb)</th><th scope=col>gc trigger</th><th scope=col>(Mb)</th><th scope=col>limit (Mb)</th><th scope=col>max used</th><th scope=col>(Mb)</th></tr>\n",
       "</thead>\n",
       "<tbody>\n",
       "\t<tr><th scope=row>Ncells</th><td>  9401925</td><td> 502.2</td><td> 17536321</td><td> 936.6</td><td>   NA</td><td> 17536321</td><td> 936.6</td></tr>\n",
       "\t<tr><th scope=row>Vcells</th><td>202051806</td><td>1541.6</td><td>607723673</td><td>4636.6</td><td>16384</td><td>724031548</td><td>5524.0</td></tr>\n",
       "</tbody>\n",
       "</table>\n"
      ],
      "text/latex": [
       "A matrix: 2 × 7 of type dbl\n",
       "\\begin{tabular}{r|lllllll}\n",
       "  & used & (Mb) & gc trigger & (Mb) & limit (Mb) & max used & (Mb)\\\\\n",
       "\\hline\n",
       "\tNcells &   9401925 &  502.2 &  17536321 &  936.6 &    NA &  17536321 &  936.6\\\\\n",
       "\tVcells & 202051806 & 1541.6 & 607723673 & 4636.6 & 16384 & 724031548 & 5524.0\\\\\n",
       "\\end{tabular}\n"
      ],
      "text/markdown": [
       "\n",
       "A matrix: 2 × 7 of type dbl\n",
       "\n",
       "| <!--/--> | used | (Mb) | gc trigger | (Mb) | limit (Mb) | max used | (Mb) |\n",
       "|---|---|---|---|---|---|---|---|\n",
       "| Ncells |   9401925 |  502.2 |  17536321 |  936.6 |    NA |  17536321 |  936.6 |\n",
       "| Vcells | 202051806 | 1541.6 | 607723673 | 4636.6 | 16384 | 724031548 | 5524.0 |\n",
       "\n"
      ],
      "text/plain": [
       "       used      (Mb)   gc trigger (Mb)   limit (Mb) max used  (Mb)  \n",
       "Ncells   9401925  502.2  17536321   936.6    NA       17536321  936.6\n",
       "Vcells 202051806 1541.6 607723673  4636.6 16384      724031548 5524.0"
      ]
     },
     "metadata": {},
     "output_type": "display_data"
    }
   ],
   "source": [
    "\n",
    "rm(cd)\n",
    "ls(all.names = T)\n",
    "gc()"
   ]
  },
  {
   "cell_type": "markdown",
   "metadata": {},
   "source": [
    "### 3 run chromVar"
   ]
  },
  {
   "cell_type": "code",
   "execution_count": 3,
   "metadata": {},
   "outputs": [],
   "source": [
    "getJasparMotifs2018 <- function(species = \"Homo sapiens\", \n",
    "                              collection = \"CORE\", ...) {\n",
    "  opts <- list()\n",
    "#  opts[\"species\"] <- species\n",
    "  opts[\"collection\"] <- collection\n",
    "  opts[\"tax_group\"] <- 'vertebrates'\n",
    "  opts <- c(opts, list(...))\n",
    "  out <- TFBSTools::getMatrixSet(JASPAR2018::JASPAR2018, opts)\n",
    "  if (!isTRUE(all.equal(TFBSTools::name(out), names(out)))) \n",
    "    names(out) <- paste(names(out), TFBSTools::name(out), sep = \"_\")\n",
    "  return(out)\n",
    "}"
   ]
  },
  {
   "cell_type": "code",
   "execution_count": 4,
   "metadata": {},
   "outputs": [],
   "source": [
    "# input.motifs <- getJasparMotifs()\n",
    "input.motifs <- getJasparMotifs2018()\n",
    "output.SE.for.chromVar.filtered <- readRDS(\"../dat/1910_v2/output.SE.for.chromVar.filtered.Rdata\")"
   ]
  },
  {
   "cell_type": "code",
   "execution_count": 6,
   "metadata": {},
   "outputs": [
    {
     "data": {
      "text/plain": [
       "   user  system elapsed \n",
       " 75.703   4.087  82.801 "
      ]
     },
     "metadata": {},
     "output_type": "display_data"
    },
    {
     "name": "stdout",
     "output_type": "stream",
     "text": [
      "  |======================================================================| 100%\n",
      "\n"
     ]
    },
    {
     "name": "stderr",
     "output_type": "stream",
     "text": [
      "Warning message:\n",
      "“Expected 2 pieces. Missing pieces filled with `NA` in 772 rows [3, 50, 83, 84, 138, 181, 196, 213, 253, 265, 274, 301, 303, 353, 371, 388, 412, 434, 491, 495, ...].”"
     ]
    }
   ],
   "source": [
    "system.time(motif_ix <- matchMotifs(input.motifs, output.SE.for.chromVar.filtered, \n",
    "    genome = BSgenome.Hsapiens.UCSC.hg19))\n",
    "dev <- computeDeviations(object = output.SE.for.chromVar.filtered, annotations = motif_ix)\n",
    "tmp <- colData(dev)\n",
    "tmp <- tmp %>% as.data.frame() %>% separate(cell_type, into = c(\"cell_type_overall\", \n",
    "    \"subtype\"), remove = F, sep = \"_\")\n",
    "tmp[is.na(tmp)] <- 0\n",
    "colData(dev) <- DataFrame(tmp)\n",
    "saveRDS(list(dev = dev, motif_ix = motif_ix), \"../dat/1910_v2/output.jaspar.dev.res.Rdata\")"
   ]
  },
  {
   "cell_type": "markdown",
   "metadata": {},
   "source": [
    "### 4. calculate variability "
   ]
  },
  {
   "cell_type": "markdown",
   "metadata": {},
   "source": [
    "#### 4.1 across all cell types"
   ]
  },
  {
   "cell_type": "code",
   "execution_count": 5,
   "metadata": {},
   "outputs": [
    {
     "data": {
      "image/png": "[encoded data removed]",
      "text/plain": [
       "plot without title"
      ]
     },
     "metadata": {},
     "output_type": "display_data"
    }
   ],
   "source": [
    "options(repr.plot.width = 4, repr.plot.height = 3)\n",
    "tmp <- readRDS(\"../dat/1910_v2/output.jaspar.dev.res.Rdata\")\n",
    "dev <- tmp$dev\n",
    "rm(tmp)\n",
    "gc()\n",
    "variability <- computeVariability(dev)\n",
    "\n",
    "plotVariability(variability, use_plotly = FALSE)"
   ]
  },
  {
   "cell_type": "code",
   "execution_count": 10,
   "metadata": {},
   "outputs": [
    {
     "data": {
      "text/html": [
       "<ol class=list-inline>\n",
       "\t<li>579</li>\n",
       "\t<li>15298</li>\n",
       "</ol>\n"
      ],
      "text/latex": [
       "\\begin{enumerate*}\n",
       "\\item 579\n",
       "\\item 15298\n",
       "\\end{enumerate*}\n"
      ],
      "text/markdown": [
       "1. 579\n",
       "2. 15298\n",
       "\n",
       "\n"
      ],
      "text/plain": [
       "[1]   579 15298"
      ]
     },
     "metadata": {},
     "output_type": "display_data"
    },
    {
     "data": {
      "text/html": [
       "<table>\n",
       "<caption>A data.frame: 1 × 6</caption>\n",
       "<thead>\n",
       "\t<tr><th></th><th scope=col>name</th><th scope=col>variability</th><th scope=col>bootstrap_lower_bound</th><th scope=col>bootstrap_upper_bound</th><th scope=col>p_value</th><th scope=col>p_value_adj</th></tr>\n",
       "\t<tr><th></th><th scope=col>&lt;fct&gt;</th><th scope=col>&lt;dbl&gt;</th><th scope=col>&lt;dbl&gt;</th><th scope=col>&lt;dbl&gt;</th><th scope=col>&lt;dbl&gt;</th><th scope=col>&lt;dbl&gt;</th></tr>\n",
       "</thead>\n",
       "<tbody>\n",
       "\t<tr><th scope=row>MA0004.1_Arnt</th><td>Arnt</td><td>1.114364</td><td>1.1005</td><td>1.127908</td><td>2.729206e-86</td><td>6.24589e-86</td></tr>\n",
       "</tbody>\n",
       "</table>\n"
      ],
      "text/latex": [
       "A data.frame: 1 × 6\n",
       "\\begin{tabular}{r|llllll}\n",
       "  & name & variability & bootstrap\\_lower\\_bound & bootstrap\\_upper\\_bound & p\\_value & p\\_value\\_adj\\\\\n",
       "  & <fct> & <dbl> & <dbl> & <dbl> & <dbl> & <dbl>\\\\\n",
       "\\hline\n",
       "\tMA0004.1\\_Arnt & Arnt & 1.114364 & 1.1005 & 1.127908 & 2.729206e-86 & 6.24589e-86\\\\\n",
       "\\end{tabular}\n"
      ],
      "text/markdown": [
       "\n",
       "A data.frame: 1 × 6\n",
       "\n",
       "| <!--/--> | name &lt;fct&gt; | variability &lt;dbl&gt; | bootstrap_lower_bound &lt;dbl&gt; | bootstrap_upper_bound &lt;dbl&gt; | p_value &lt;dbl&gt; | p_value_adj &lt;dbl&gt; |\n",
       "|---|---|---|---|---|---|---|\n",
       "| MA0004.1_Arnt | Arnt | 1.114364 | 1.1005 | 1.127908 | 2.729206e-86 | 6.24589e-86 |\n",
       "\n"
      ],
      "text/plain": [
       "              name variability bootstrap_lower_bound bootstrap_upper_bound\n",
       "MA0004.1_Arnt Arnt 1.114364    1.1005                1.127908             \n",
       "              p_value      p_value_adj\n",
       "MA0004.1_Arnt 2.729206e-86 6.24589e-86"
      ]
     },
     "metadata": {},
     "output_type": "display_data"
    }
   ],
   "source": [
    "dev%>%dim\n",
    "variability%>%head(1)"
   ]
  },
  {
   "cell_type": "code",
   "execution_count": 16,
   "metadata": {},
   "outputs": [],
   "source": [
    "fwrite(variability %>% arrange(desc(variability)), file = \"../dat/1910_v2/output.jaspar.var.res.csv\")"
   ]
  }
 ],
 "metadata": {
  "kernelspec": {
   "display_name": "R",
   "language": "R",
   "name": "ir"
  },
  "language_info": {
   "codemirror_mode": "r",
   "file_extension": ".r",
   "mimetype": "text/x-r-source",
   "name": "R",
   "pygments_lexer": "r",
   "version": "3.5.1"
  }
 },
 "nbformat": 4,
 "nbformat_minor": 2
}
