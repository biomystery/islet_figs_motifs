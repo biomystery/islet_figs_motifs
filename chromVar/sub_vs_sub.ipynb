{
 "cells": [
  {
   "cell_type": "markdown",
   "metadata": {},
   "source": [
    "### load"
   ]
  },
  {
   "cell_type": "code",
   "execution_count": 2,
   "metadata": {},
   "outputs": [
    {
     "name": "stderr",
     "output_type": "stream",
     "text": [
      "Warning message:\n",
      "“Expected 2 pieces. Missing pieces filled with `NA` in 772 rows [3, 50, 83, 84, 138, 181, 196, 213, 253, 265, 274, 301, 303, 353, 371, 388, 412, 434, 491, 495, ...].”"
     ]
    }
   ],
   "source": [
    "## input: 1. summarizedExperiement(SE) obj for chromVAR 2. Jaspar matrix \n",
    "## output: 1. motif x cell (z score) 2. plot: ranked           \n",
    "source(\"./libs.R\")"
   ]
  },
  {
   "cell_type": "code",
   "execution_count": 3,
   "metadata": {},
   "outputs": [
    {
     "data": {
      "text/html": [
       "<table>\n",
       "<caption>A data.table: 1 × 13</caption>\n",
       "<thead>\n",
       "\t<tr><th scope=col>barcodes</th><th scope=col>UMAP1</th><th scope=col>UMAP2</th><th scope=col>cluster</th><th scope=col>cell_type_overall</th><th scope=col>subtype</th><th scope=col>unique_usable_reads</th><th scope=col>log_usable_counts</th><th scope=col>frac_duplicated_reads</th><th scope=col>frac_mito_reads</th><th scope=col>frac_promoters_used</th><th scope=col>frac_reads_in_peaks</th><th scope=col>frac_reads_in_promoters</th></tr>\n",
       "\t<tr><th scope=col>&lt;chr&gt;</th><th scope=col>&lt;dbl&gt;</th><th scope=col>&lt;dbl&gt;</th><th scope=col>&lt;chr&gt;</th><th scope=col>&lt;chr&gt;</th><th scope=col>&lt;chr&gt;</th><th scope=col>&lt;int&gt;</th><th scope=col>&lt;dbl&gt;</th><th scope=col>&lt;dbl&gt;</th><th scope=col>&lt;dbl&gt;</th><th scope=col>&lt;dbl&gt;</th><th scope=col>&lt;dbl&gt;</th><th scope=col>&lt;dbl&gt;</th></tr>\n",
       "</thead>\n",
       "<tbody>\n",
       "\t<tr><td>Islet1fresh_AGACACCTAAGAGGCAAAGGAGTAGGCTC</td><td>-5.102393</td><td>1.38682</td><td>alpha_2</td><td>alpha</td><td>2</td><td>6254</td><td>7.865955</td><td>0.7902986</td><td>0.03428042</td><td>0.04337516</td><td>0.5978574</td><td>0.2646306</td></tr>\n",
       "</tbody>\n",
       "</table>\n"
      ],
      "text/latex": [
       "A data.table: 1 × 13\n",
       "\\begin{tabular}{r|lllllllllllll}\n",
       " barcodes & UMAP1 & UMAP2 & cluster & cell\\_type\\_overall & subtype & unique\\_usable\\_reads & log\\_usable\\_counts & frac\\_duplicated\\_reads & frac\\_mito\\_reads & frac\\_promoters\\_used & frac\\_reads\\_in\\_peaks & frac\\_reads\\_in\\_promoters\\\\\n",
       " <chr> & <dbl> & <dbl> & <chr> & <chr> & <chr> & <int> & <dbl> & <dbl> & <dbl> & <dbl> & <dbl> & <dbl>\\\\\n",
       "\\hline\n",
       "\t Islet1fresh\\_AGACACCTAAGAGGCAAAGGAGTAGGCTC & -5.102393 & 1.38682 & alpha\\_2 & alpha & 2 & 6254 & 7.865955 & 0.7902986 & 0.03428042 & 0.04337516 & 0.5978574 & 0.2646306\\\\\n",
       "\\end{tabular}\n"
      ],
      "text/markdown": [
       "\n",
       "A data.table: 1 × 13\n",
       "\n",
       "| barcodes &lt;chr&gt; | UMAP1 &lt;dbl&gt; | UMAP2 &lt;dbl&gt; | cluster &lt;chr&gt; | cell_type_overall &lt;chr&gt; | subtype &lt;chr&gt; | unique_usable_reads &lt;int&gt; | log_usable_counts &lt;dbl&gt; | frac_duplicated_reads &lt;dbl&gt; | frac_mito_reads &lt;dbl&gt; | frac_promoters_used &lt;dbl&gt; | frac_reads_in_peaks &lt;dbl&gt; | frac_reads_in_promoters &lt;dbl&gt; |\n",
       "|---|---|---|---|---|---|---|---|---|---|---|---|---|\n",
       "| Islet1fresh_AGACACCTAAGAGGCAAAGGAGTAGGCTC | -5.102393 | 1.38682 | alpha_2 | alpha | 2 | 6254 | 7.865955 | 0.7902986 | 0.03428042 | 0.04337516 | 0.5978574 | 0.2646306 |\n",
       "\n"
      ],
      "text/plain": [
       "  barcodes                                  UMAP1     UMAP2   cluster\n",
       "1 Islet1fresh_AGACACCTAAGAGGCAAAGGAGTAGGCTC -5.102393 1.38682 alpha_2\n",
       "  cell_type_overall subtype unique_usable_reads log_usable_counts\n",
       "1 alpha             2       6254                7.865955         \n",
       "  frac_duplicated_reads frac_mito_reads frac_promoters_used frac_reads_in_peaks\n",
       "1 0.7902986             0.03428042      0.04337516          0.5978574          \n",
       "  frac_reads_in_promoters\n",
       "1 0.2646306              "
      ]
     },
     "metadata": {},
     "output_type": "display_data"
    }
   ],
   "source": [
    "input.umap.res%>%head(1)"
   ]
  },
  {
   "cell_type": "code",
   "execution_count": 4,
   "metadata": {},
   "outputs": [
    {
     "data": {
      "text/plain": [
       "\n",
       "     acinar       alpha        beta       delta      ductal endothelial \n",
       "         46        6217        7598         710          80         118 \n",
       "      gamma      immune    stellate \n",
       "        260         140         128 "
      ]
     },
     "metadata": {},
     "output_type": "display_data"
    },
    {
     "data": {
      "text/plain": [
       "\n",
       "     acinar       alpha        beta       delta      ductal endothelial \n",
       "         46        6218        7598         710          80         118 \n",
       "      gamma      immune    stellate \n",
       "        260         140         128 "
      ]
     },
     "metadata": {},
     "output_type": "display_data"
    }
   ],
   "source": [
    "table(input.umap.res %>% filter(barcodes %in% colnames(input.chromVar.jaspar.z)[-1]) %>% \n",
    "    pull(cell_type_overall))\n",
    "\n",
    "table(input.umap.res %>% pull(cell_type_overall))"
   ]
  },
  {
   "cell_type": "markdown",
   "metadata": {},
   "source": [
    "###  T test (sub vs. sub)"
   ]
  },
  {
   "cell_type": "code",
   "execution_count": 5,
   "metadata": {},
   "outputs": [
    {
     "data": {
      "text/plain": [
       "\n",
       "     acinar       alpha        beta       delta      ductal endothelial \n",
       "      26634     3600222     4399242      411090       46320       68322 \n",
       "      gamma      immune    stellate \n",
       "     150540       81060       74112 "
      ]
     },
     "metadata": {},
     "output_type": "display_data"
    }
   ],
   "source": [
    "input.chromVar.jaspar.z <- data.table(assays(input.chromVar.res.list$dev)$z, keep.rownames = T)\n",
    "\n",
    "# aggregate data --------------------------------------------------------------\n",
    "# melt\n",
    "input.chromVar.jaspar.z.agg <- melt(input.chromVar.jaspar.z, id = \"rn\", variable.name = \"barcodes\", \n",
    "    value.name = \"zval\")\n",
    "\n",
    "# add celltype\n",
    "input.chromVar.jaspar.z.agg <- merge(input.chromVar.jaspar.z.agg, input.umap.res)\n",
    "\n",
    "table(input.chromVar.jaspar.z.agg%>%pull(cell_type_overall))"
   ]
  },
  {
   "cell_type": "code",
   "execution_count": 6,
   "metadata": {},
   "outputs": [
    {
     "data": {
      "text/html": [
       "<ol class=list-inline>\n",
       "\t<li>8857542</li>\n",
       "\t<li>15</li>\n",
       "</ol>\n"
      ],
      "text/latex": [
       "\\begin{enumerate*}\n",
       "\\item 8857542\n",
       "\\item 15\n",
       "\\end{enumerate*}\n"
      ],
      "text/markdown": [
       "1. 8857542\n",
       "2. 15\n",
       "\n",
       "\n"
      ],
      "text/plain": [
       "[1] 8857542      15"
      ]
     },
     "metadata": {},
     "output_type": "display_data"
    },
    {
     "data": {
      "text/html": [
       "<table>\n",
       "<caption>A data.table: 1 × 15</caption>\n",
       "<thead>\n",
       "\t<tr><th scope=col>barcodes</th><th scope=col>rn</th><th scope=col>zval</th><th scope=col>UMAP1</th><th scope=col>UMAP2</th><th scope=col>cluster</th><th scope=col>cell_type_overall</th><th scope=col>subtype</th><th scope=col>unique_usable_reads</th><th scope=col>log_usable_counts</th><th scope=col>frac_duplicated_reads</th><th scope=col>frac_mito_reads</th><th scope=col>frac_promoters_used</th><th scope=col>frac_reads_in_peaks</th><th scope=col>frac_reads_in_promoters</th></tr>\n",
       "\t<tr><th scope=col>&lt;chr&gt;</th><th scope=col>&lt;chr&gt;</th><th scope=col>&lt;dbl&gt;</th><th scope=col>&lt;dbl&gt;</th><th scope=col>&lt;dbl&gt;</th><th scope=col>&lt;chr&gt;</th><th scope=col>&lt;chr&gt;</th><th scope=col>&lt;chr&gt;</th><th scope=col>&lt;int&gt;</th><th scope=col>&lt;dbl&gt;</th><th scope=col>&lt;dbl&gt;</th><th scope=col>&lt;dbl&gt;</th><th scope=col>&lt;dbl&gt;</th><th scope=col>&lt;dbl&gt;</th><th scope=col>&lt;dbl&gt;</th></tr>\n",
       "</thead>\n",
       "<tbody>\n",
       "\t<tr><td>Islet1fresh_AGACACCTAAGAGGCAAAGGAGTAGGCTC</td><td>MA0004.1_Arnt</td><td>-1.566904</td><td>-5.102393</td><td>1.38682</td><td>alpha_2</td><td>alpha</td><td>2</td><td>6254</td><td>7.865955</td><td>0.7902986</td><td>0.03428042</td><td>0.04337516</td><td>0.5978574</td><td>0.2646306</td></tr>\n",
       "</tbody>\n",
       "</table>\n"
      ],
      "text/latex": [
       "A data.table: 1 × 15\n",
       "\\begin{tabular}{r|lllllllllllllll}\n",
       " barcodes & rn & zval & UMAP1 & UMAP2 & cluster & cell\\_type\\_overall & subtype & unique\\_usable\\_reads & log\\_usable\\_counts & frac\\_duplicated\\_reads & frac\\_mito\\_reads & frac\\_promoters\\_used & frac\\_reads\\_in\\_peaks & frac\\_reads\\_in\\_promoters\\\\\n",
       " <chr> & <chr> & <dbl> & <dbl> & <dbl> & <chr> & <chr> & <chr> & <int> & <dbl> & <dbl> & <dbl> & <dbl> & <dbl> & <dbl>\\\\\n",
       "\\hline\n",
       "\t Islet1fresh\\_AGACACCTAAGAGGCAAAGGAGTAGGCTC & MA0004.1\\_Arnt & -1.566904 & -5.102393 & 1.38682 & alpha\\_2 & alpha & 2 & 6254 & 7.865955 & 0.7902986 & 0.03428042 & 0.04337516 & 0.5978574 & 0.2646306\\\\\n",
       "\\end{tabular}\n"
      ],
      "text/markdown": [
       "\n",
       "A data.table: 1 × 15\n",
       "\n",
       "| barcodes &lt;chr&gt; | rn &lt;chr&gt; | zval &lt;dbl&gt; | UMAP1 &lt;dbl&gt; | UMAP2 &lt;dbl&gt; | cluster &lt;chr&gt; | cell_type_overall &lt;chr&gt; | subtype &lt;chr&gt; | unique_usable_reads &lt;int&gt; | log_usable_counts &lt;dbl&gt; | frac_duplicated_reads &lt;dbl&gt; | frac_mito_reads &lt;dbl&gt; | frac_promoters_used &lt;dbl&gt; | frac_reads_in_peaks &lt;dbl&gt; | frac_reads_in_promoters &lt;dbl&gt; |\n",
       "|---|---|---|---|---|---|---|---|---|---|---|---|---|---|---|\n",
       "| Islet1fresh_AGACACCTAAGAGGCAAAGGAGTAGGCTC | MA0004.1_Arnt | -1.566904 | -5.102393 | 1.38682 | alpha_2 | alpha | 2 | 6254 | 7.865955 | 0.7902986 | 0.03428042 | 0.04337516 | 0.5978574 | 0.2646306 |\n",
       "\n"
      ],
      "text/plain": [
       "  barcodes                                  rn            zval      UMAP1    \n",
       "1 Islet1fresh_AGACACCTAAGAGGCAAAGGAGTAGGCTC MA0004.1_Arnt -1.566904 -5.102393\n",
       "  UMAP2   cluster cell_type_overall subtype unique_usable_reads\n",
       "1 1.38682 alpha_2 alpha             2       6254               \n",
       "  log_usable_counts frac_duplicated_reads frac_mito_reads frac_promoters_used\n",
       "1 7.865955          0.7902986             0.03428042      0.04337516         \n",
       "  frac_reads_in_peaks frac_reads_in_promoters\n",
       "1 0.5978574           0.2646306              "
      ]
     },
     "metadata": {},
     "output_type": "display_data"
    },
    {
     "data": {
      "text/html": [
       "<ol class=list-inline>\n",
       "\t<li>8410554</li>\n",
       "\t<li>15</li>\n",
       "</ol>\n"
      ],
      "text/latex": [
       "\\begin{enumerate*}\n",
       "\\item 8410554\n",
       "\\item 15\n",
       "\\end{enumerate*}\n"
      ],
      "text/markdown": [
       "1. 8410554\n",
       "2. 15\n",
       "\n",
       "\n"
      ],
      "text/plain": [
       "[1] 8410554      15"
      ]
     },
     "metadata": {},
     "output_type": "display_data"
    },
    {
     "data": {
      "text/plain": [
       ".\n",
       "alpha_1 alpha_2  beta_1  beta_2 delta_1 delta_2 \n",
       "3005589  594633 2434116 1965126  276762  134328 "
      ]
     },
     "metadata": {},
     "output_type": "display_data"
    },
    {
     "data": {
      "text/plain": [
       ".\n",
       "alpha_1 alpha_2  beta_1  beta_2 delta_1 delta_2 \n",
       "   5191    1027    4204    3394     478     232 "
      ]
     },
     "metadata": {},
     "output_type": "display_data"
    }
   ],
   "source": [
    "input.chromVar.jaspar.z.agg %>% dim\n",
    "input.chromVar.jaspar.z.agg %>% head(1)\n",
    "input.chromVar.jaspar.z.agg %>% filter(cell_type_overall %in% c(\"alpha\", \"beta\", \n",
    "    \"delta\")) %>% dim\n",
    "input.chromVar.jaspar.z.agg %>% filter(cell_type_overall %in% c(\"alpha\", \"beta\", \n",
    "    \"delta\")) %>% pull(cluster) %>% table\n",
    "input.chromVar.jaspar.z.agg %>% filter(cell_type_overall %in% c(\"alpha\", \"beta\", \n",
    "    \"delta\")) %>% select(barcodes, cluster) %>% unique %>% pull(cluster) %>% table\n",
    "input.chromVar.jaspar.z.agg <- input.chromVar.jaspar.z.agg %>% filter(cell_type_overall %in% c(\"alpha\", \"beta\", \n",
    "    \"delta\")) "
   ]
  },
  {
   "cell_type": "code",
   "execution_count": 7,
   "metadata": {},
   "outputs": [
    {
     "data": {
      "text/html": [
       "<ol class=list-inline>\n",
       "\t<li>&lt;NA&gt;</li>\n",
       "\t<li>&lt;NA&gt;</li>\n",
       "</ol>\n"
      ],
      "text/latex": [
       "\\begin{enumerate*}\n",
       "\\item <NA>\n",
       "\\item <NA>\n",
       "\\end{enumerate*}\n"
      ],
      "text/markdown": [
       "1. &lt;NA&gt;\n",
       "2. &lt;NA&gt;\n",
       "\n",
       "\n"
      ],
      "text/plain": [
       "[1] NA NA"
      ]
     },
     "metadata": {},
     "output_type": "display_data"
    },
    {
     "data": {
      "text/html": [
       "<ol class=list-inline>\n",
       "\t<li>-20.1619334482447</li>\n",
       "\t<li>31.3565801355583</li>\n",
       "</ol>\n"
      ],
      "text/latex": [
       "\\begin{enumerate*}\n",
       "\\item -20.1619334482447\n",
       "\\item 31.3565801355583\n",
       "\\end{enumerate*}\n"
      ],
      "text/markdown": [
       "1. -20.1619334482447\n",
       "2. 31.3565801355583\n",
       "\n",
       "\n"
      ],
      "text/plain": [
       "[1] -20.16193  31.35658"
      ]
     },
     "metadata": {},
     "output_type": "display_data"
    },
    {
     "data": {
      "text/html": [
       "0"
      ],
      "text/latex": [
       "0"
      ],
      "text/markdown": [
       "0"
      ],
      "text/plain": [
       "[1] 0"
      ]
     },
     "metadata": {},
     "output_type": "display_data"
    },
    {
     "data": {
      "text/html": [
       "<ol class=list-inline>\n",
       "\t<li>8410554</li>\n",
       "\t<li>4</li>\n",
       "</ol>\n"
      ],
      "text/latex": [
       "\\begin{enumerate*}\n",
       "\\item 8410554\n",
       "\\item 4\n",
       "\\end{enumerate*}\n"
      ],
      "text/markdown": [
       "1. 8410554\n",
       "2. 4\n",
       "\n",
       "\n"
      ],
      "text/plain": [
       "[1] 8410554       4"
      ]
     },
     "metadata": {},
     "output_type": "display_data"
    },
    {
     "data": {
      "text/html": [
       "<table>\n",
       "<caption>A data.frame: 1 × 4</caption>\n",
       "<thead>\n",
       "\t<tr><th scope=col>rn</th><th scope=col>zval</th><th scope=col>cluster</th><th scope=col>cell_type_overall</th></tr>\n",
       "\t<tr><th scope=col>&lt;chr&gt;</th><th scope=col>&lt;dbl&gt;</th><th scope=col>&lt;chr&gt;</th><th scope=col>&lt;chr&gt;</th></tr>\n",
       "</thead>\n",
       "<tbody>\n",
       "\t<tr><td>MA0004.1_Arnt</td><td>-1.566904</td><td>alpha_2</td><td>alpha</td></tr>\n",
       "</tbody>\n",
       "</table>\n"
      ],
      "text/latex": [
       "A data.frame: 1 × 4\n",
       "\\begin{tabular}{r|llll}\n",
       " rn & zval & cluster & cell\\_type\\_overall\\\\\n",
       " <chr> & <dbl> & <chr> & <chr>\\\\\n",
       "\\hline\n",
       "\t MA0004.1\\_Arnt & -1.566904 & alpha\\_2 & alpha\\\\\n",
       "\\end{tabular}\n"
      ],
      "text/markdown": [
       "\n",
       "A data.frame: 1 × 4\n",
       "\n",
       "| rn &lt;chr&gt; | zval &lt;dbl&gt; | cluster &lt;chr&gt; | cell_type_overall &lt;chr&gt; |\n",
       "|---|---|---|---|\n",
       "| MA0004.1_Arnt | -1.566904 | alpha_2 | alpha |\n",
       "\n"
      ],
      "text/plain": [
       "  rn            zval      cluster cell_type_overall\n",
       "1 MA0004.1_Arnt -1.566904 alpha_2 alpha            "
      ]
     },
     "metadata": {},
     "output_type": "display_data"
    },
    {
     "data": {
      "text/plain": [
       "\n",
       "alpha_1 alpha_2  beta_1  beta_2 delta_1 delta_2 \n",
       "3005589  594633 2434116 1965126  276762  134328 "
      ]
     },
     "metadata": {},
     "output_type": "display_data"
    }
   ],
   "source": [
    "input.chromVar.jaspar.z.agg <- input.chromVar.jaspar.z.agg %>% select(rn, zval, cluster, \n",
    "    cell_type_overall)\n",
    "range(input.chromVar.jaspar.z.agg$zval)\n",
    "input.chromVar.jaspar.z.agg$zval[is.na(input.chromVar.jaspar.z.agg$zval)] <- 0\n",
    "range(input.chromVar.jaspar.z.agg$zval)\n",
    "sum(!complete.cases(input.chromVar.jaspar.z.agg))\n",
    "dim(input.chromVar.jaspar.z.agg)\n",
    "head(input.chromVar.jaspar.z.agg, 1)\n",
    "table(input.chromVar.jaspar.z.agg %>% pull(cluster))"
   ]
  },
  {
   "cell_type": "code",
   "execution_count": 8,
   "metadata": {},
   "outputs": [
    {
     "data": {
      "text/html": [
       "<dl>\n",
       "\t<dt>$alpha</dt>\n",
       "\t\t<dd><ol class=list-inline>\n",
       "\t<li>'alpha_1'</li>\n",
       "\t<li>'alpha_2'</li>\n",
       "</ol>\n",
       "</dd>\n",
       "\t<dt>$beta</dt>\n",
       "\t\t<dd><ol class=list-inline>\n",
       "\t<li>'beta_1'</li>\n",
       "\t<li>'beta_2'</li>\n",
       "</ol>\n",
       "</dd>\n",
       "\t<dt>$delta</dt>\n",
       "\t\t<dd><ol class=list-inline>\n",
       "\t<li>'delta_1'</li>\n",
       "\t<li>'delta_2'</li>\n",
       "</ol>\n",
       "</dd>\n",
       "</dl>\n"
      ],
      "text/latex": [
       "\\begin{description}\n",
       "\\item[\\$alpha] \\begin{enumerate*}\n",
       "\\item 'alpha\\_1'\n",
       "\\item 'alpha\\_2'\n",
       "\\end{enumerate*}\n",
       "\n",
       "\\item[\\$beta] \\begin{enumerate*}\n",
       "\\item 'beta\\_1'\n",
       "\\item 'beta\\_2'\n",
       "\\end{enumerate*}\n",
       "\n",
       "\\item[\\$delta] \\begin{enumerate*}\n",
       "\\item 'delta\\_1'\n",
       "\\item 'delta\\_2'\n",
       "\\end{enumerate*}\n",
       "\n",
       "\\end{description}\n"
      ],
      "text/markdown": [
       "$alpha\n",
       ":   1. 'alpha_1'\n",
       "2. 'alpha_2'\n",
       "\n",
       "\n",
       "\n",
       "$beta\n",
       ":   1. 'beta_1'\n",
       "2. 'beta_2'\n",
       "\n",
       "\n",
       "\n",
       "$delta\n",
       ":   1. 'delta_1'\n",
       "2. 'delta_2'\n",
       "\n",
       "\n",
       "\n",
       "\n",
       "\n"
      ],
      "text/plain": [
       "$alpha\n",
       "[1] \"alpha_1\" \"alpha_2\"\n",
       "\n",
       "$beta\n",
       "[1] \"beta_1\" \"beta_2\"\n",
       "\n",
       "$delta\n",
       "[1] \"delta_1\" \"delta_2\"\n"
      ]
     },
     "metadata": {},
     "output_type": "display_data"
    },
    {
     "data": {
      "text/html": [
       "579"
      ],
      "text/latex": [
       "579"
      ],
      "text/markdown": [
       "579"
      ],
      "text/plain": [
       "[1] 579"
      ]
     },
     "metadata": {},
     "output_type": "display_data"
    }
   ],
   "source": [
    "(test.all <- list(alpha = c(\"alpha_1\", \"alpha_2\"), beta = c(\"beta_1\", \"beta_2\"), delta = c(\"delta_1\", \n",
    "    \"delta_2\")))\n",
    "test.motifs <- input.chromVar.jaspar.z.agg %>% pull(rn) %>% unique()\n",
    "length(test.motifs)"
   ]
  },
  {
   "cell_type": "code",
   "execution_count": 9,
   "metadata": {},
   "outputs": [
    {
     "data": {
      "text/html": [
       "'alpha_1.vs.alpha_2'"
      ],
      "text/latex": [
       "'alpha\\_1.vs.alpha\\_2'"
      ],
      "text/markdown": [
       "'alpha_1.vs.alpha_2'"
      ],
      "text/plain": [
       "[1] \"alpha_1.vs.alpha_2\""
      ]
     },
     "metadata": {},
     "output_type": "display_data"
    }
   ],
   "source": [
    "ntest=names(test.all)[1]\n",
    "celltype.test <- test.all[[ntest]]\n",
    "paste(celltype.test,collapse = '.vs.')"
   ]
  },
  {
   "cell_type": "code",
   "execution_count": 10,
   "metadata": {},
   "outputs": [
    {
     "data": {
      "text/html": [
       "<table>\n",
       "<caption>A grouped_df: 1 × 10</caption>\n",
       "<thead>\n",
       "\t<tr><th scope=col>motif</th><th scope=col>mean_x</th><th scope=col>mean_y</th><th scope=col>pval</th><th scope=col>test</th><th scope=col>x</th><th scope=col>y</th><th scope=col>enrichedIn</th><th scope=col>FDR</th><th scope=col>padj</th></tr>\n",
       "\t<tr><th scope=col>&lt;fct&gt;</th><th scope=col>&lt;dbl&gt;</th><th scope=col>&lt;dbl&gt;</th><th scope=col>&lt;dbl&gt;</th><th scope=col>&lt;chr&gt;</th><th scope=col>&lt;chr&gt;</th><th scope=col>&lt;chr&gt;</th><th scope=col>&lt;chr&gt;</th><th scope=col>&lt;dbl&gt;</th><th scope=col>&lt;dbl&gt;</th></tr>\n",
       "</thead>\n",
       "<tbody>\n",
       "\t<tr><td>MA0004.1_Arnt</td><td>0.0241363</td><td>0.8311691</td><td>3.826402e-73</td><td>alpha_1.vs.alpha_2</td><td>alpha_1</td><td>alpha_2</td><td>alpha_2</td><td>2.284007e-72</td><td>2.215487e-70</td></tr>\n",
       "</tbody>\n",
       "</table>\n"
      ],
      "text/latex": [
       "A grouped_df: 1 × 10\n",
       "\\begin{tabular}{r|llllllllll}\n",
       " motif & mean\\_x & mean\\_y & pval & test & x & y & enrichedIn & FDR & padj\\\\\n",
       " <fct> & <dbl> & <dbl> & <dbl> & <chr> & <chr> & <chr> & <chr> & <dbl> & <dbl>\\\\\n",
       "\\hline\n",
       "\t MA0004.1\\_Arnt & 0.0241363 & 0.8311691 & 3.826402e-73 & alpha\\_1.vs.alpha\\_2 & alpha\\_1 & alpha\\_2 & alpha\\_2 & 2.284007e-72 & 2.215487e-70\\\\\n",
       "\\end{tabular}\n"
      ],
      "text/markdown": [
       "\n",
       "A grouped_df: 1 × 10\n",
       "\n",
       "| motif &lt;fct&gt; | mean_x &lt;dbl&gt; | mean_y &lt;dbl&gt; | pval &lt;dbl&gt; | test &lt;chr&gt; | x &lt;chr&gt; | y &lt;chr&gt; | enrichedIn &lt;chr&gt; | FDR &lt;dbl&gt; | padj &lt;dbl&gt; |\n",
       "|---|---|---|---|---|---|---|---|---|---|\n",
       "| MA0004.1_Arnt | 0.0241363 | 0.8311691 | 3.826402e-73 | alpha_1.vs.alpha_2 | alpha_1 | alpha_2 | alpha_2 | 2.284007e-72 | 2.215487e-70 |\n",
       "\n"
      ],
      "text/plain": [
       "  motif         mean_x    mean_y    pval         test               x      \n",
       "1 MA0004.1_Arnt 0.0241363 0.8311691 3.826402e-73 alpha_1.vs.alpha_2 alpha_1\n",
       "  y       enrichedIn FDR          padj        \n",
       "1 alpha_2 alpha_2    2.284007e-72 2.215487e-70"
      ]
     },
     "metadata": {},
     "output_type": "display_data"
    }
   ],
   "source": [
    "require(parallel)\n",
    "\n",
    "ttest.res.ct <- do.call(rbind, lapply(names(test.all), function(ntest) {\n",
    "    celltype.test <- test.all[[ntest]]\n",
    "    ttest.res <- do.call(rbind, mclapply(test.motifs, function(motif) {\n",
    "        pd <- input.chromVar.jaspar.z.agg %>% filter(rn == motif) %>% mutate(cluster %in% \n",
    "            celltype.test)\n",
    "        test.res <- t.test(pd %>% filter(cluster == celltype.test[1]) %>% select(zval), \n",
    "            pd %>% filter(cluster == celltype.test[2]) %>% select(zval))\n",
    "        (data.frame(motif = motif, mean_x = test.res$estimate[1], mean_y = test.res$estimate[2], \n",
    "            pval = test.res$p.value/2))\n",
    "    }, mc.cores = 10)) %>% mutate(test = paste(celltype.test, collapse = \".vs.\"))\n",
    "})) %>% separate(test, into = c(\"x\", \"y\"), sep = \".vs.\", remove = F) %>% mutate(enrichedIn = ifelse(mean_x > \n",
    "    mean_y, x, y)) %>% group_by(test) %>% mutate(FDR = p.adjust(pval, \"BH\"), padj = p.adjust(pval, \n",
    "    \"bonferroni\"))\n",
    "head(ttest.res.ct, 1)"
   ]
  },
  {
   "cell_type": "code",
   "execution_count": 18,
   "metadata": {},
   "outputs": [
    {
     "data": {
      "text/html": [
       "<ol class=list-inline>\n",
       "\t<li>'alpha_1.vs.alpha_2'</li>\n",
       "\t<li>'beta_1.vs.beta_2'</li>\n",
       "\t<li>'delta_1.vs.delta_2'</li>\n",
       "</ol>\n"
      ],
      "text/latex": [
       "\\begin{enumerate*}\n",
       "\\item 'alpha\\_1.vs.alpha\\_2'\n",
       "\\item 'beta\\_1.vs.beta\\_2'\n",
       "\\item 'delta\\_1.vs.delta\\_2'\n",
       "\\end{enumerate*}\n"
      ],
      "text/markdown": [
       "1. 'alpha_1.vs.alpha_2'\n",
       "2. 'beta_1.vs.beta_2'\n",
       "3. 'delta_1.vs.delta_2'\n",
       "\n",
       "\n"
      ],
      "text/plain": [
       "[1] \"alpha_1.vs.alpha_2\" \"beta_1.vs.beta_2\"   \"delta_1.vs.delta_2\""
      ]
     },
     "metadata": {},
     "output_type": "display_data"
    },
    {
     "name": "stderr",
     "output_type": "stream",
     "text": [
      "Joining, by = \"jaspar.id\"\n"
     ]
    },
    {
     "data": {
      "text/html": [
       "<table>\n",
       "<caption>A grouped_df: 1 × 17</caption>\n",
       "<thead>\n",
       "\t<tr><th scope=col>motif</th><th scope=col>jaspar.id</th><th scope=col>x</th><th scope=col>y</th><th scope=col>test</th><th scope=col>mean_x</th><th scope=col>mean_y</th><th scope=col>enrichedIn</th><th scope=col>pval</th><th scope=col>FDR</th><th scope=col>padj</th><th scope=col>family.id</th><th scope=col>family.name</th><th scope=col>class.id</th><th scope=col>class.name</th><th scope=col>superclass.id</th><th scope=col>superclass.name</th></tr>\n",
       "\t<tr><th scope=col>&lt;chr&gt;</th><th scope=col>&lt;chr&gt;</th><th scope=col>&lt;chr&gt;</th><th scope=col>&lt;chr&gt;</th><th scope=col>&lt;chr&gt;</th><th scope=col>&lt;dbl&gt;</th><th scope=col>&lt;dbl&gt;</th><th scope=col>&lt;chr&gt;</th><th scope=col>&lt;dbl&gt;</th><th scope=col>&lt;dbl&gt;</th><th scope=col>&lt;dbl&gt;</th><th scope=col>&lt;chr&gt;</th><th scope=col>&lt;chr&gt;</th><th scope=col>&lt;dbl&gt;</th><th scope=col>&lt;chr&gt;</th><th scope=col>&lt;int&gt;</th><th scope=col>&lt;chr&gt;</th></tr>\n",
       "</thead>\n",
       "<tbody>\n",
       "\t<tr><td>Arnt</td><td>MA0004.1</td><td>alpha_1</td><td>alpha_2</td><td>alpha_1.vs.alpha_2</td><td>0.0241363</td><td>0.8311691</td><td>alpha_2</td><td>3.826402e-73</td><td>2.284007e-72</td><td>2.215487e-70</td><td>1.2.5</td><td>PAS</td><td>1.2</td><td>Basic helix-loop-helix factors (bHLH)</td><td>1</td><td>Basic domains</td></tr>\n",
       "</tbody>\n",
       "</table>\n"
      ],
      "text/latex": [
       "A grouped_df: 1 × 17\n",
       "\\begin{tabular}{r|lllllllllllllllll}\n",
       " motif & jaspar.id & x & y & test & mean\\_x & mean\\_y & enrichedIn & pval & FDR & padj & family.id & family.name & class.id & class.name & superclass.id & superclass.name\\\\\n",
       " <chr> & <chr> & <chr> & <chr> & <chr> & <dbl> & <dbl> & <chr> & <dbl> & <dbl> & <dbl> & <chr> & <chr> & <dbl> & <chr> & <int> & <chr>\\\\\n",
       "\\hline\n",
       "\t Arnt & MA0004.1 & alpha\\_1 & alpha\\_2 & alpha\\_1.vs.alpha\\_2 & 0.0241363 & 0.8311691 & alpha\\_2 & 3.826402e-73 & 2.284007e-72 & 2.215487e-70 & 1.2.5 & PAS & 1.2 & Basic helix-loop-helix factors (bHLH) & 1 & Basic domains\\\\\n",
       "\\end{tabular}\n"
      ],
      "text/markdown": [
       "\n",
       "A grouped_df: 1 × 17\n",
       "\n",
       "| motif &lt;chr&gt; | jaspar.id &lt;chr&gt; | x &lt;chr&gt; | y &lt;chr&gt; | test &lt;chr&gt; | mean_x &lt;dbl&gt; | mean_y &lt;dbl&gt; | enrichedIn &lt;chr&gt; | pval &lt;dbl&gt; | FDR &lt;dbl&gt; | padj &lt;dbl&gt; | family.id &lt;chr&gt; | family.name &lt;chr&gt; | class.id &lt;dbl&gt; | class.name &lt;chr&gt; | superclass.id &lt;int&gt; | superclass.name &lt;chr&gt; |\n",
       "|---|---|---|---|---|---|---|---|---|---|---|---|---|---|---|---|---|\n",
       "| Arnt | MA0004.1 | alpha_1 | alpha_2 | alpha_1.vs.alpha_2 | 0.0241363 | 0.8311691 | alpha_2 | 3.826402e-73 | 2.284007e-72 | 2.215487e-70 | 1.2.5 | PAS | 1.2 | Basic helix-loop-helix factors (bHLH) | 1 | Basic domains |\n",
       "\n"
      ],
      "text/plain": [
       "  motif jaspar.id x       y       test               mean_x    mean_y   \n",
       "1 Arnt  MA0004.1  alpha_1 alpha_2 alpha_1.vs.alpha_2 0.0241363 0.8311691\n",
       "  enrichedIn pval         FDR          padj         family.id family.name\n",
       "1 alpha_2    3.826402e-73 2.284007e-72 2.215487e-70 1.2.5     PAS        \n",
       "  class.id class.name                            superclass.id superclass.name\n",
       "1 1.2      Basic helix-loop-helix factors (bHLH) 1             Basic domains  "
      ]
     },
     "metadata": {},
     "output_type": "display_data"
    },
    {
     "name": "stderr",
     "output_type": "stream",
     "text": [
      "Joining, by = \"jaspar.id\"\n"
     ]
    }
   ],
   "source": [
    "(celltype.test.all <- ttest.res.ct %>% pull(test) %>% unique)\n",
    "(ttest.res.ct %>% separate(motif, into = c(\"jaspar.id\", \"motif\"), sep = \"_\") %>% \n",
    "    head(1) %>% left_join(fread(\"../figures/Fig1/subfigs/fig1E_one_vs_other.csv\") %>% \n",
    "    select(jaspar.id, family.id, family.name, class.id, class.name, superclass.id, \n",
    "        superclass.name) %>% unique))[c(2, 1, 7, 8, 6, 3, 4, 9, 5, 10:17)]\n",
    "ttest.res.ct <- (ttest.res.ct %>% separate(motif, into = c(\"jaspar.id\", \"motif\"), \n",
    "    sep = \"_\") %>% left_join(fread(\"../figures/Fig1/subfigs/fig1E_one_vs_other.csv\") %>% \n",
    "    select(jaspar.id, family.id, family.name, class.id, class.name, superclass.id, \n",
    "        superclass.name) %>% unique))[c(2, 1, 7, 8, 6, 3, 4, 9, 5, 10:17)]"
   ]
  },
  {
   "cell_type": "code",
   "execution_count": 19,
   "metadata": {},
   "outputs": [
    {
     "data": {
      "text/html": [
       "<ol class=list-inline>\n",
       "\t<li>'alpha_1.vs.alpha_2.1'</li>\n",
       "\t<li>'alpha_1.vs.alpha_2.2'</li>\n",
       "\t<li>'beta_1.vs.beta_2.1'</li>\n",
       "\t<li>'beta_1.vs.beta_2.2'</li>\n",
       "\t<li>'delta_1.vs.delta_2.1'</li>\n",
       "\t<li>'delta_1.vs.delta_2.2'</li>\n",
       "</ol>\n"
      ],
      "text/latex": [
       "\\begin{enumerate*}\n",
       "\\item 'alpha\\_1.vs.alpha\\_2.1'\n",
       "\\item 'alpha\\_1.vs.alpha\\_2.2'\n",
       "\\item 'beta\\_1.vs.beta\\_2.1'\n",
       "\\item 'beta\\_1.vs.beta\\_2.2'\n",
       "\\item 'delta\\_1.vs.delta\\_2.1'\n",
       "\\item 'delta\\_1.vs.delta\\_2.2'\n",
       "\\end{enumerate*}\n"
      ],
      "text/markdown": [
       "1. 'alpha_1.vs.alpha_2.1'\n",
       "2. 'alpha_1.vs.alpha_2.2'\n",
       "3. 'beta_1.vs.beta_2.1'\n",
       "4. 'beta_1.vs.beta_2.2'\n",
       "5. 'delta_1.vs.delta_2.1'\n",
       "6. 'delta_1.vs.delta_2.2'\n",
       "\n",
       "\n"
      ],
      "text/plain": [
       "[1] \"alpha_1.vs.alpha_2.1\" \"alpha_1.vs.alpha_2.2\" \"beta_1.vs.beta_2.1\"  \n",
       "[4] \"beta_1.vs.beta_2.2\"   \"delta_1.vs.delta_2.1\" \"delta_1.vs.delta_2.2\""
      ]
     },
     "metadata": {},
     "output_type": "display_data"
    },
    {
     "data": {
      "text/html": [
       "'alpha_1.vs.alpha_2'"
      ],
      "text/latex": [
       "'alpha\\_1.vs.alpha\\_2'"
      ],
      "text/markdown": [
       "'alpha_1.vs.alpha_2'"
      ],
      "text/plain": [
       "[1] \"alpha_1.vs.alpha_2\""
      ]
     },
     "metadata": {},
     "output_type": "display_data"
    },
    {
     "data": {
      "text/html": [
       "<table>\n",
       "<caption>A grouped_df: 1 × 17</caption>\n",
       "<thead>\n",
       "\t<tr><th scope=col>motif</th><th scope=col>jaspar.id</th><th scope=col>x</th><th scope=col>y</th><th scope=col>test</th><th scope=col>mean_x</th><th scope=col>mean_y</th><th scope=col>enrichedIn</th><th scope=col>pval</th><th scope=col>FDR</th><th scope=col>padj</th><th scope=col>family.id</th><th scope=col>family.name</th><th scope=col>class.id</th><th scope=col>class.name</th><th scope=col>superclass.id</th><th scope=col>superclass.name</th></tr>\n",
       "\t<tr><th scope=col>&lt;chr&gt;</th><th scope=col>&lt;chr&gt;</th><th scope=col>&lt;chr&gt;</th><th scope=col>&lt;chr&gt;</th><th scope=col>&lt;chr&gt;</th><th scope=col>&lt;dbl&gt;</th><th scope=col>&lt;dbl&gt;</th><th scope=col>&lt;chr&gt;</th><th scope=col>&lt;dbl&gt;</th><th scope=col>&lt;dbl&gt;</th><th scope=col>&lt;dbl&gt;</th><th scope=col>&lt;chr&gt;</th><th scope=col>&lt;chr&gt;</th><th scope=col>&lt;dbl&gt;</th><th scope=col>&lt;chr&gt;</th><th scope=col>&lt;int&gt;</th><th scope=col>&lt;chr&gt;</th></tr>\n",
       "</thead>\n",
       "<tbody>\n",
       "\t<tr><td>Arnt</td><td>MA0004.1</td><td>alpha_1</td><td>alpha_2</td><td>alpha_1.vs.alpha_2</td><td>0.0241363</td><td>0.8311691</td><td>alpha_2</td><td>3.826402e-73</td><td>2.284007e-72</td><td>2.215487e-70</td><td>1.2.5</td><td>PAS</td><td>1.2</td><td>Basic helix-loop-helix factors (bHLH)</td><td>1</td><td>Basic domains</td></tr>\n",
       "</tbody>\n",
       "</table>\n"
      ],
      "text/latex": [
       "A grouped_df: 1 × 17\n",
       "\\begin{tabular}{r|lllllllllllllllll}\n",
       " motif & jaspar.id & x & y & test & mean\\_x & mean\\_y & enrichedIn & pval & FDR & padj & family.id & family.name & class.id & class.name & superclass.id & superclass.name\\\\\n",
       " <chr> & <chr> & <chr> & <chr> & <chr> & <dbl> & <dbl> & <chr> & <dbl> & <dbl> & <dbl> & <chr> & <chr> & <dbl> & <chr> & <int> & <chr>\\\\\n",
       "\\hline\n",
       "\t Arnt & MA0004.1 & alpha\\_1 & alpha\\_2 & alpha\\_1.vs.alpha\\_2 & 0.0241363 & 0.8311691 & alpha\\_2 & 3.826402e-73 & 2.284007e-72 & 2.215487e-70 & 1.2.5 & PAS & 1.2 & Basic helix-loop-helix factors (bHLH) & 1 & Basic domains\\\\\n",
       "\\end{tabular}\n"
      ],
      "text/markdown": [
       "\n",
       "A grouped_df: 1 × 17\n",
       "\n",
       "| motif &lt;chr&gt; | jaspar.id &lt;chr&gt; | x &lt;chr&gt; | y &lt;chr&gt; | test &lt;chr&gt; | mean_x &lt;dbl&gt; | mean_y &lt;dbl&gt; | enrichedIn &lt;chr&gt; | pval &lt;dbl&gt; | FDR &lt;dbl&gt; | padj &lt;dbl&gt; | family.id &lt;chr&gt; | family.name &lt;chr&gt; | class.id &lt;dbl&gt; | class.name &lt;chr&gt; | superclass.id &lt;int&gt; | superclass.name &lt;chr&gt; |\n",
       "|---|---|---|---|---|---|---|---|---|---|---|---|---|---|---|---|---|\n",
       "| Arnt | MA0004.1 | alpha_1 | alpha_2 | alpha_1.vs.alpha_2 | 0.0241363 | 0.8311691 | alpha_2 | 3.826402e-73 | 2.284007e-72 | 2.215487e-70 | 1.2.5 | PAS | 1.2 | Basic helix-loop-helix factors (bHLH) | 1 | Basic domains |\n",
       "\n"
      ],
      "text/plain": [
       "  motif jaspar.id x       y       test               mean_x    mean_y   \n",
       "1 Arnt  MA0004.1  alpha_1 alpha_2 alpha_1.vs.alpha_2 0.0241363 0.8311691\n",
       "  enrichedIn pval         FDR          padj         family.id family.name\n",
       "1 alpha_2    3.826402e-73 2.284007e-72 2.215487e-70 1.2.5     PAS        \n",
       "  class.id class.name                            superclass.id superclass.name\n",
       "1 1.2      Basic helix-loop-helix factors (bHLH) 1             Basic domains  "
      ]
     },
     "metadata": {},
     "output_type": "display_data"
    },
    {
     "data": {
      "text/html": [
       "<ol class=list-inline>\n",
       "\t<li>614</li>\n",
       "\t<li>17</li>\n",
       "</ol>\n"
      ],
      "text/latex": [
       "\\begin{enumerate*}\n",
       "\\item 614\n",
       "\\item 17\n",
       "\\end{enumerate*}\n"
      ],
      "text/markdown": [
       "1. 614\n",
       "2. 17\n",
       "\n",
       "\n"
      ],
      "text/plain": [
       "[1] 614  17"
      ]
     },
     "metadata": {},
     "output_type": "display_data"
    }
   ],
   "source": [
    "(all.test <- c(\"alpha_1.vs.alpha_2.1\", \"alpha_1.vs.alpha_2.2\", \"beta_1.vs.beta_2.1\", \n",
    "    \"beta_1.vs.beta_2.2\", \"delta_1.vs.delta_2.1\", \"delta_1.vs.delta_2.2\"))\n",
    "names(all.test) <- c(\"alpha_1\", \"alpha_2\", \"beta_1\", \"beta_2\", \"delta_1\", \"delta_2\")\n",
    "\n",
    "ntest = \"alpha_1\"\n",
    "sub(\".[12]$\", \"\", all.test[[ntest]])\n",
    "ttest.res.ct %>% filter(test == sub(\".[12]$\", \"\", all.test[[ntest]]))%>%head(1)\n",
    "ttest.res.ct %>% filter(test == sub(\".[12]$\", \"\", all.test[[ntest]]))%>%dim"
   ]
  },
  {
   "cell_type": "code",
   "execution_count": 31,
   "metadata": {},
   "outputs": [
    {
     "data": {
      "text/html": [
       "<ol class=list-inline>\n",
       "\t<li>'alpha_1.vs.alpha_2.1'</li>\n",
       "\t<li>'alpha_1.vs.alpha_2.2'</li>\n",
       "\t<li>'beta_1.vs.beta_2.1'</li>\n",
       "\t<li>'beta_1.vs.beta_2.2'</li>\n",
       "\t<li>'delta_1.vs.delta_2.1'</li>\n",
       "\t<li>'delta_1.vs.delta_2.2'</li>\n",
       "</ol>\n"
      ],
      "text/latex": [
       "\\begin{enumerate*}\n",
       "\\item 'alpha\\_1.vs.alpha\\_2.1'\n",
       "\\item 'alpha\\_1.vs.alpha\\_2.2'\n",
       "\\item 'beta\\_1.vs.beta\\_2.1'\n",
       "\\item 'beta\\_1.vs.beta\\_2.2'\n",
       "\\item 'delta\\_1.vs.delta\\_2.1'\n",
       "\\item 'delta\\_1.vs.delta\\_2.2'\n",
       "\\end{enumerate*}\n"
      ],
      "text/markdown": [
       "1. 'alpha_1.vs.alpha_2.1'\n",
       "2. 'alpha_1.vs.alpha_2.2'\n",
       "3. 'beta_1.vs.beta_2.1'\n",
       "4. 'beta_1.vs.beta_2.2'\n",
       "5. 'delta_1.vs.delta_2.1'\n",
       "6. 'delta_1.vs.delta_2.2'\n",
       "\n",
       "\n"
      ],
      "text/plain": [
       "[1] \"alpha_1.vs.alpha_2.1\" \"alpha_1.vs.alpha_2.2\" \"beta_1.vs.beta_2.1\"  \n",
       "[4] \"beta_1.vs.beta_2.2\"   \"delta_1.vs.delta_2.1\" \"delta_1.vs.delta_2.2\""
      ]
     },
     "metadata": {},
     "output_type": "display_data"
    }
   ],
   "source": [
    "ttest.res.ct <- ttest.res.ct %>% arrange(enrichedIn, FDR, desc(abs(mean_x - mean_y)))\n",
    "\n",
    "(all.test <- c(\"alpha_1.vs.alpha_2.1\", \"alpha_1.vs.alpha_2.2\", \"beta_1.vs.beta_2.1\", \n",
    "    \"beta_1.vs.beta_2.2\", \"delta_1.vs.delta_2.1\", \"delta_1.vs.delta_2.2\"))\n",
    "names(all.test) <- c(\"alpha_1\", \"alpha_2\", \"beta_1\", \"beta_2\", \"delta_1\", \"delta_2\")\n",
    "\n",
    "ttest.res.list <- lapply(names(all.test), function(ntest) ttest.res.ct %>% filter(test == \n",
    "    sub(\".[12]$\", \"\", all.test[[ntest]]) & enrichedIn == ntest))\n",
    "names(ttest.res.list) <- as.character(all.test)\n",
    "require(writexl)\n",
    "write_xlsx(ttest.res.list, \"../figures/Fig1/subfigs/fig2D_sub_vs_sub.xlsx\")\n",
    "system(\"open ../figures/Fig1/subfigs/fig2D_sub_vs_sub.xlsx\")\n",
    "\n",
    "fwrite(ttest.res.ct, \"../figures/Fig1/subfigs/fig2D_sub_vs_sub.csv\")\n",
    "system(\"open ../figures/Fig1/subfigs/fig2D_sub_vs_sub.csv\")"
   ]
  },
  {
   "cell_type": "code",
   "execution_count": null,
   "metadata": {},
   "outputs": [],
   "source": []
  }
 ],
 "metadata": {
  "kernelspec": {
   "display_name": "R",
   "language": "R",
   "name": "ir"
  },
  "language_info": {
   "codemirror_mode": "r",
   "file_extension": ".r",
   "mimetype": "text/x-r-source",
   "name": "R",
   "pygments_lexer": "r",
   "version": "3.5.1"
  }
 },
 "nbformat": 4,
 "nbformat_minor": 2
}
