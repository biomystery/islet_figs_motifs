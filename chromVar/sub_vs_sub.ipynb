{
 "cells": [
  {
   "cell_type": "markdown",
   "metadata": {},
   "source": [
    "### load"
   ]
  },
  {
   "cell_type": "code",
   "execution_count": 2,
   "metadata": {},
   "outputs": [],
   "source": [
    "## input: 1. summarizedExperiement(SE) obj for chromVAR 2. Jaspar matrix \n",
    "## output: 1. motif x cell (z score) 2. plot: ranked           \n",
    "source(\"./libs.R\")"
   ]
  },
  {
   "cell_type": "code",
   "execution_count": 3,
   "metadata": {},
   "outputs": [
    {
     "name": "stderr",
     "output_type": "stream",
     "text": [
      "Warning message:\n",
      "“Expected 2 pieces. Missing pieces filled with `NA` in 600 rows [5, 18, 19, 50, 81, 114, 128, 147, 169, 175, 176, 190, 209, 250, 260, 345, 353, 376, 389, 413, ...].”"
     ]
    }
   ],
   "source": [
    "##------------------------------------------------------------\n",
    "## inputs\n",
    "##------------------------------------------------------------\n",
    "\n",
    "input.chromVar.res.list <- readRDS(file = \"../dat/output.jaspar.dev.res.Rdata\")\n",
    "input.chromVar.jaspar.z <- assays(input.chromVar.res.list$dev)$z\n",
    "input.umap.res <- fread(\"../dat/1908/Islet_123.MNN_corrected.cluster_labels.filt.txt\", \n",
    "    header = T) %>% separate(cluster, into = c(\"cell_type_overall\", \"subtype\"), remove = F)\n"
   ]
  },
  {
   "cell_type": "code",
   "execution_count": 4,
   "metadata": {},
   "outputs": [
    {
     "data": {
      "text/html": [
       "<table>\n",
       "<caption>A data.table: 1 × 11</caption>\n",
       "<thead>\n",
       "\t<tr><th scope=col>barcodes</th><th scope=col>UMAP1</th><th scope=col>UMAP2</th><th scope=col>cluster</th><th scope=col>cell_type_overall</th><th scope=col>subtype</th><th scope=col>log10_n_counts</th><th scope=col>log10_n_peaks</th><th scope=col>Islet1</th><th scope=col>Islet2</th><th scope=col>Islet3</th></tr>\n",
       "\t<tr><th scope=col>&lt;chr&gt;</th><th scope=col>&lt;dbl&gt;</th><th scope=col>&lt;dbl&gt;</th><th scope=col>&lt;chr&gt;</th><th scope=col>&lt;chr&gt;</th><th scope=col>&lt;chr&gt;</th><th scope=col>&lt;dbl&gt;</th><th scope=col>&lt;dbl&gt;</th><th scope=col>&lt;int&gt;</th><th scope=col>&lt;int&gt;</th><th scope=col>&lt;int&gt;</th></tr>\n",
       "</thead>\n",
       "<tbody>\n",
       "\t<tr><td>Islet3-fresh_CTGAAGCTTGCAGCTACTCTCTATTATAGCCT</td><td>6.029433</td><td>-3.429818</td><td>beta_2</td><td>beta</td><td>2</td><td>4.520863</td><td>4.152013</td><td>0</td><td>0</td><td>1</td></tr>\n",
       "</tbody>\n",
       "</table>\n"
      ],
      "text/latex": [
       "A data.table: 1 × 11\n",
       "\\begin{tabular}{r|lllllllllll}\n",
       " barcodes & UMAP1 & UMAP2 & cluster & cell\\_type\\_overall & subtype & log10\\_n\\_counts & log10\\_n\\_peaks & Islet1 & Islet2 & Islet3\\\\\n",
       " <chr> & <dbl> & <dbl> & <chr> & <chr> & <chr> & <dbl> & <dbl> & <int> & <int> & <int>\\\\\n",
       "\\hline\n",
       "\t Islet3-fresh\\_CTGAAGCTTGCAGCTACTCTCTATTATAGCCT & 6.029433 & -3.429818 & beta\\_2 & beta & 2 & 4.520863 & 4.152013 & 0 & 0 & 1\\\\\n",
       "\\end{tabular}\n"
      ],
      "text/markdown": [
       "\n",
       "A data.table: 1 × 11\n",
       "\n",
       "| barcodes &lt;chr&gt; | UMAP1 &lt;dbl&gt; | UMAP2 &lt;dbl&gt; | cluster &lt;chr&gt; | cell_type_overall &lt;chr&gt; | subtype &lt;chr&gt; | log10_n_counts &lt;dbl&gt; | log10_n_peaks &lt;dbl&gt; | Islet1 &lt;int&gt; | Islet2 &lt;int&gt; | Islet3 &lt;int&gt; |\n",
       "|---|---|---|---|---|---|---|---|---|---|---|\n",
       "| Islet3-fresh_CTGAAGCTTGCAGCTACTCTCTATTATAGCCT | 6.029433 | -3.429818 | beta_2 | beta | 2 | 4.520863 | 4.152013 | 0 | 0 | 1 |\n",
       "\n"
      ],
      "text/plain": [
       "  barcodes                                      UMAP1    UMAP2     cluster\n",
       "1 Islet3-fresh_CTGAAGCTTGCAGCTACTCTCTATTATAGCCT 6.029433 -3.429818 beta_2 \n",
       "  cell_type_overall subtype log10_n_counts log10_n_peaks Islet1 Islet2 Islet3\n",
       "1 beta              2       4.520863       4.152013      0      0      1     "
      ]
     },
     "metadata": {},
     "output_type": "display_data"
    }
   ],
   "source": [
    "input.umap.res%>%head(1)"
   ]
  },
  {
   "cell_type": "code",
   "execution_count": 5,
   "metadata": {},
   "outputs": [
    {
     "data": {
      "text/plain": [
       "\n",
       "      alpha        beta       delta endothelial    exocrine       gamma \n",
       "       5535        7108         709         136         113         205 \n",
       "      glial      immune    stellate \n",
       "         34          58         134 "
      ]
     },
     "metadata": {},
     "output_type": "display_data"
    },
    {
     "data": {
      "text/plain": [
       "\n",
       "      alpha        beta       delta endothelial    exocrine       gamma \n",
       "       5594        7170         718         157         131         206 \n",
       "      glial      immune    stellate \n",
       "         39          71         153 "
      ]
     },
     "metadata": {},
     "output_type": "display_data"
    }
   ],
   "source": [
    "\n",
    "input.chromVar.jaspar.z <- assays(input.chromVar.res.list$dev)$z\n",
    "\n",
    "table(input.umap.res %>% filter(barcodes %in% colnames(input.chromVar.jaspar.z)[-1]) %>% \n",
    "    pull(cell_type_overall))\n",
    "\n",
    "table(input.umap.res %>% pull(cell_type_overall))"
   ]
  },
  {
   "cell_type": "markdown",
   "metadata": {},
   "source": [
    "###  T test (sub vs. sub)"
   ]
  },
  {
   "cell_type": "code",
   "execution_count": 6,
   "metadata": {},
   "outputs": [
    {
     "data": {
      "text/plain": [
       "\n",
       "      alpha        beta       delta endothelial    exocrine       gamma \n",
       "    2136510     2744074      273674       52496       43618       79130 \n",
       "      glial      immune    stellate \n",
       "      13124       22388       51724 "
      ]
     },
     "metadata": {},
     "output_type": "display_data"
    }
   ],
   "source": [
    "input.chromVar.jaspar.z <- data.table(assays(input.chromVar.res.list$dev)$z, keep.rownames = T)\n",
    "\n",
    "# aggregate data --------------------------------------------------------------\n",
    "# melt\n",
    "input.chromVar.jaspar.z.agg <- melt(input.chromVar.jaspar.z, id = \"rn\", variable.name = \"barcodes\", \n",
    "    value.name = \"zval\")\n",
    "\n",
    "# add celltype\n",
    "input.chromVar.jaspar.z.agg <- merge(input.chromVar.jaspar.z.agg, input.umap.res)\n",
    "\n",
    "table(input.chromVar.jaspar.z.agg%>%pull(cell_type_overall))"
   ]
  },
  {
   "cell_type": "code",
   "execution_count": 7,
   "metadata": {},
   "outputs": [
    {
     "data": {
      "text/html": [
       "<ol class=list-inline>\n",
       "\t<li>5416738</li>\n",
       "\t<li>13</li>\n",
       "</ol>\n"
      ],
      "text/latex": [
       "\\begin{enumerate*}\n",
       "\\item 5416738\n",
       "\\item 13\n",
       "\\end{enumerate*}\n"
      ],
      "text/markdown": [
       "1. 5416738\n",
       "2. 13\n",
       "\n",
       "\n"
      ],
      "text/plain": [
       "[1] 5416738      13"
      ]
     },
     "metadata": {},
     "output_type": "display_data"
    },
    {
     "data": {
      "text/html": [
       "<table>\n",
       "<caption>A data.table: 1 × 13</caption>\n",
       "<thead>\n",
       "\t<tr><th scope=col>barcodes</th><th scope=col>rn</th><th scope=col>zval</th><th scope=col>UMAP1</th><th scope=col>UMAP2</th><th scope=col>cluster</th><th scope=col>cell_type_overall</th><th scope=col>subtype</th><th scope=col>log10_n_counts</th><th scope=col>log10_n_peaks</th><th scope=col>Islet1</th><th scope=col>Islet2</th><th scope=col>Islet3</th></tr>\n",
       "\t<tr><th scope=col>&lt;chr&gt;</th><th scope=col>&lt;chr&gt;</th><th scope=col>&lt;dbl&gt;</th><th scope=col>&lt;dbl&gt;</th><th scope=col>&lt;dbl&gt;</th><th scope=col>&lt;chr&gt;</th><th scope=col>&lt;chr&gt;</th><th scope=col>&lt;chr&gt;</th><th scope=col>&lt;dbl&gt;</th><th scope=col>&lt;dbl&gt;</th><th scope=col>&lt;int&gt;</th><th scope=col>&lt;int&gt;</th><th scope=col>&lt;int&gt;</th></tr>\n",
       "</thead>\n",
       "<tbody>\n",
       "\t<tr><td>Islet1-fresh_AGACACCTAAGAGGCAAAGGAGTACCTAT</td><td>MA0025.1_NFIL3</td><td>-0.3430543</td><td>6.975175</td><td>-3.232226</td><td>beta_1</td><td>beta</td><td>1</td><td>3.694693</td><td>3.384174</td><td>1</td><td>0</td><td>0</td></tr>\n",
       "</tbody>\n",
       "</table>\n"
      ],
      "text/latex": [
       "A data.table: 1 × 13\n",
       "\\begin{tabular}{r|lllllllllllll}\n",
       " barcodes & rn & zval & UMAP1 & UMAP2 & cluster & cell\\_type\\_overall & subtype & log10\\_n\\_counts & log10\\_n\\_peaks & Islet1 & Islet2 & Islet3\\\\\n",
       " <chr> & <chr> & <dbl> & <dbl> & <dbl> & <chr> & <chr> & <chr> & <dbl> & <dbl> & <int> & <int> & <int>\\\\\n",
       "\\hline\n",
       "\t Islet1-fresh\\_AGACACCTAAGAGGCAAAGGAGTACCTAT & MA0025.1\\_NFIL3 & -0.3430543 & 6.975175 & -3.232226 & beta\\_1 & beta & 1 & 3.694693 & 3.384174 & 1 & 0 & 0\\\\\n",
       "\\end{tabular}\n"
      ],
      "text/markdown": [
       "\n",
       "A data.table: 1 × 13\n",
       "\n",
       "| barcodes &lt;chr&gt; | rn &lt;chr&gt; | zval &lt;dbl&gt; | UMAP1 &lt;dbl&gt; | UMAP2 &lt;dbl&gt; | cluster &lt;chr&gt; | cell_type_overall &lt;chr&gt; | subtype &lt;chr&gt; | log10_n_counts &lt;dbl&gt; | log10_n_peaks &lt;dbl&gt; | Islet1 &lt;int&gt; | Islet2 &lt;int&gt; | Islet3 &lt;int&gt; |\n",
       "|---|---|---|---|---|---|---|---|---|---|---|---|---|\n",
       "| Islet1-fresh_AGACACCTAAGAGGCAAAGGAGTACCTAT | MA0025.1_NFIL3 | -0.3430543 | 6.975175 | -3.232226 | beta_1 | beta | 1 | 3.694693 | 3.384174 | 1 | 0 | 0 |\n",
       "\n"
      ],
      "text/plain": [
       "  barcodes                                   rn             zval       UMAP1   \n",
       "1 Islet1-fresh_AGACACCTAAGAGGCAAAGGAGTACCTAT MA0025.1_NFIL3 -0.3430543 6.975175\n",
       "  UMAP2     cluster cell_type_overall subtype log10_n_counts log10_n_peaks\n",
       "1 -3.232226 beta_1  beta              1       3.694693       3.384174     \n",
       "  Islet1 Islet2 Islet3\n",
       "1 1      0      0     "
      ]
     },
     "metadata": {},
     "output_type": "display_data"
    },
    {
     "data": {
      "text/html": [
       "<ol class=list-inline>\n",
       "\t<li>5154258</li>\n",
       "\t<li>13</li>\n",
       "</ol>\n"
      ],
      "text/latex": [
       "\\begin{enumerate*}\n",
       "\\item 5154258\n",
       "\\item 13\n",
       "\\end{enumerate*}\n"
      ],
      "text/markdown": [
       "1. 5154258\n",
       "2. 13\n",
       "\n",
       "\n"
      ],
      "text/plain": [
       "[1] 5154258      13"
      ]
     },
     "metadata": {},
     "output_type": "display_data"
    },
    {
     "data": {
      "text/plain": [
       ".\n",
       "alpha_1 alpha_2  beta_1  beta_2 delta_1 delta_2 \n",
       "1639342  497168 1676398 1067676  260550   13124 "
      ]
     },
     "metadata": {},
     "output_type": "display_data"
    },
    {
     "data": {
      "text/plain": [
       ".\n",
       "alpha_1 alpha_2  beta_1  beta_2 delta_1 delta_2 \n",
       "   4247    1288    4343    2766     675      34 "
      ]
     },
     "metadata": {},
     "output_type": "display_data"
    }
   ],
   "source": [
    "input.chromVar.jaspar.z.agg %>% dim\n",
    "input.chromVar.jaspar.z.agg %>% head(1)\n",
    "input.chromVar.jaspar.z.agg %>% filter(cell_type_overall %in% c(\"alpha\", \"beta\", \n",
    "    \"delta\")) %>% dim\n",
    "input.chromVar.jaspar.z.agg %>% filter(cell_type_overall %in% c(\"alpha\", \"beta\", \n",
    "    \"delta\")) %>% pull(cluster) %>% table\n",
    "input.chromVar.jaspar.z.agg %>% filter(cell_type_overall %in% c(\"alpha\", \"beta\", \n",
    "    \"delta\")) %>% select(barcodes, cluster) %>% unique %>% pull(cluster) %>% table\n",
    "input.chromVar.jaspar.z.agg <- input.chromVar.jaspar.z.agg %>% filter(cell_type_overall %in% c(\"alpha\", \"beta\", \n",
    "    \"delta\")) "
   ]
  },
  {
   "cell_type": "code",
   "execution_count": 8,
   "metadata": {},
   "outputs": [
    {
     "data": {
      "text/html": [
       "<ol class=list-inline>\n",
       "\t<li>-17.9077021194784</li>\n",
       "\t<li>33.6738467827302</li>\n",
       "</ol>\n"
      ],
      "text/latex": [
       "\\begin{enumerate*}\n",
       "\\item -17.9077021194784\n",
       "\\item 33.6738467827302\n",
       "\\end{enumerate*}\n"
      ],
      "text/markdown": [
       "1. -17.9077021194784\n",
       "2. 33.6738467827302\n",
       "\n",
       "\n"
      ],
      "text/plain": [
       "[1] -17.90770  33.67385"
      ]
     },
     "metadata": {},
     "output_type": "display_data"
    },
    {
     "data": {
      "text/html": [
       "0"
      ],
      "text/latex": [
       "0"
      ],
      "text/markdown": [
       "0"
      ],
      "text/plain": [
       "[1] 0"
      ]
     },
     "metadata": {},
     "output_type": "display_data"
    },
    {
     "data": {
      "text/html": [
       "<ol class=list-inline>\n",
       "\t<li>5154258</li>\n",
       "\t<li>4</li>\n",
       "</ol>\n"
      ],
      "text/latex": [
       "\\begin{enumerate*}\n",
       "\\item 5154258\n",
       "\\item 4\n",
       "\\end{enumerate*}\n"
      ],
      "text/markdown": [
       "1. 5154258\n",
       "2. 4\n",
       "\n",
       "\n"
      ],
      "text/plain": [
       "[1] 5154258       4"
      ]
     },
     "metadata": {},
     "output_type": "display_data"
    },
    {
     "data": {
      "text/html": [
       "<table>\n",
       "<caption>A data.frame: 1 × 4</caption>\n",
       "<thead>\n",
       "\t<tr><th scope=col>rn</th><th scope=col>zval</th><th scope=col>cluster</th><th scope=col>cell_type_overall</th></tr>\n",
       "\t<tr><th scope=col>&lt;chr&gt;</th><th scope=col>&lt;dbl&gt;</th><th scope=col>&lt;chr&gt;</th><th scope=col>&lt;chr&gt;</th></tr>\n",
       "</thead>\n",
       "<tbody>\n",
       "\t<tr><td>MA0025.1_NFIL3</td><td>-0.3430543</td><td>beta_1</td><td>beta</td></tr>\n",
       "</tbody>\n",
       "</table>\n"
      ],
      "text/latex": [
       "A data.frame: 1 × 4\n",
       "\\begin{tabular}{r|llll}\n",
       " rn & zval & cluster & cell\\_type\\_overall\\\\\n",
       " <chr> & <dbl> & <chr> & <chr>\\\\\n",
       "\\hline\n",
       "\t MA0025.1\\_NFIL3 & -0.3430543 & beta\\_1 & beta\\\\\n",
       "\\end{tabular}\n"
      ],
      "text/markdown": [
       "\n",
       "A data.frame: 1 × 4\n",
       "\n",
       "| rn &lt;chr&gt; | zval &lt;dbl&gt; | cluster &lt;chr&gt; | cell_type_overall &lt;chr&gt; |\n",
       "|---|---|---|---|\n",
       "| MA0025.1_NFIL3 | -0.3430543 | beta_1 | beta |\n",
       "\n"
      ],
      "text/plain": [
       "  rn             zval       cluster cell_type_overall\n",
       "1 MA0025.1_NFIL3 -0.3430543 beta_1  beta             "
      ]
     },
     "metadata": {},
     "output_type": "display_data"
    },
    {
     "data": {
      "text/plain": [
       "\n",
       "alpha_1 alpha_2  beta_1  beta_2 delta_1 delta_2 \n",
       "1639342  497168 1676398 1067676  260550   13124 "
      ]
     },
     "metadata": {},
     "output_type": "display_data"
    }
   ],
   "source": [
    "input.chromVar.jaspar.z.agg <- input.chromVar.jaspar.z.agg %>% select(rn, zval, cluster, \n",
    "    cell_type_overall)\n",
    "range(input.chromVar.jaspar.z.agg$zval)\n",
    "sum(!complete.cases(input.chromVar.jaspar.z.agg))\n",
    "dim(input.chromVar.jaspar.z.agg)\n",
    "head(input.chromVar.jaspar.z.agg, 1)\n",
    "table(input.chromVar.jaspar.z.agg %>% pull(cluster))"
   ]
  },
  {
   "cell_type": "code",
   "execution_count": 9,
   "metadata": {},
   "outputs": [
    {
     "data": {
      "text/html": [
       "<dl>\n",
       "\t<dt>$alpha</dt>\n",
       "\t\t<dd><ol class=list-inline>\n",
       "\t<li>'alpha_1'</li>\n",
       "\t<li>'alpha_2'</li>\n",
       "</ol>\n",
       "</dd>\n",
       "\t<dt>$beta</dt>\n",
       "\t\t<dd><ol class=list-inline>\n",
       "\t<li>'beta_1'</li>\n",
       "\t<li>'beta_2'</li>\n",
       "</ol>\n",
       "</dd>\n",
       "\t<dt>$delta</dt>\n",
       "\t\t<dd><ol class=list-inline>\n",
       "\t<li>'delta_1'</li>\n",
       "\t<li>'delta_2'</li>\n",
       "</ol>\n",
       "</dd>\n",
       "</dl>\n"
      ],
      "text/latex": [
       "\\begin{description}\n",
       "\\item[\\$alpha] \\begin{enumerate*}\n",
       "\\item 'alpha\\_1'\n",
       "\\item 'alpha\\_2'\n",
       "\\end{enumerate*}\n",
       "\n",
       "\\item[\\$beta] \\begin{enumerate*}\n",
       "\\item 'beta\\_1'\n",
       "\\item 'beta\\_2'\n",
       "\\end{enumerate*}\n",
       "\n",
       "\\item[\\$delta] \\begin{enumerate*}\n",
       "\\item 'delta\\_1'\n",
       "\\item 'delta\\_2'\n",
       "\\end{enumerate*}\n",
       "\n",
       "\\end{description}\n"
      ],
      "text/markdown": [
       "$alpha\n",
       ":   1. 'alpha_1'\n",
       "2. 'alpha_2'\n",
       "\n",
       "\n",
       "\n",
       "$beta\n",
       ":   1. 'beta_1'\n",
       "2. 'beta_2'\n",
       "\n",
       "\n",
       "\n",
       "$delta\n",
       ":   1. 'delta_1'\n",
       "2. 'delta_2'\n",
       "\n",
       "\n",
       "\n",
       "\n",
       "\n"
      ],
      "text/plain": [
       "$alpha\n",
       "[1] \"alpha_1\" \"alpha_2\"\n",
       "\n",
       "$beta\n",
       "[1] \"beta_1\" \"beta_2\"\n",
       "\n",
       "$delta\n",
       "[1] \"delta_1\" \"delta_2\"\n"
      ]
     },
     "metadata": {},
     "output_type": "display_data"
    },
    {
     "data": {
      "text/html": [
       "386"
      ],
      "text/latex": [
       "386"
      ],
      "text/markdown": [
       "386"
      ],
      "text/plain": [
       "[1] 386"
      ]
     },
     "metadata": {},
     "output_type": "display_data"
    }
   ],
   "source": [
    "(test.all <- list(alpha = c(\"alpha_1\", \"alpha_2\"), beta = c(\"beta_1\", \"beta_2\"), delta = c(\"delta_1\", \n",
    "    \"delta_2\")))\n",
    "test.motifs <- input.chromVar.jaspar.z.agg %>% pull(rn) %>% unique()\n",
    "length(test.motifs)"
   ]
  },
  {
   "cell_type": "code",
   "execution_count": 10,
   "metadata": {},
   "outputs": [
    {
     "data": {
      "text/html": [
       "'alpha_1.vs.alpha_2'"
      ],
      "text/latex": [
       "'alpha\\_1.vs.alpha\\_2'"
      ],
      "text/markdown": [
       "'alpha_1.vs.alpha_2'"
      ],
      "text/plain": [
       "[1] \"alpha_1.vs.alpha_2\""
      ]
     },
     "metadata": {},
     "output_type": "display_data"
    }
   ],
   "source": [
    "ntest=names(test.all)[1]\n",
    "celltype.test <- test.all[[ntest]]\n",
    "paste(celltype.test,collapse = '.vs.')"
   ]
  },
  {
   "cell_type": "code",
   "execution_count": 30,
   "metadata": {},
   "outputs": [
    {
     "data": {
      "text/html": [
       "<table>\n",
       "<caption>A grouped_df: 1 × 10</caption>\n",
       "<thead>\n",
       "\t<tr><th scope=col>motif</th><th scope=col>mean_x</th><th scope=col>mean_y</th><th scope=col>pval</th><th scope=col>test</th><th scope=col>x</th><th scope=col>y</th><th scope=col>enrichedIn</th><th scope=col>FDR</th><th scope=col>padj</th></tr>\n",
       "\t<tr><th scope=col>&lt;fct&gt;</th><th scope=col>&lt;dbl&gt;</th><th scope=col>&lt;dbl&gt;</th><th scope=col>&lt;dbl&gt;</th><th scope=col>&lt;chr&gt;</th><th scope=col>&lt;chr&gt;</th><th scope=col>&lt;chr&gt;</th><th scope=col>&lt;chr&gt;</th><th scope=col>&lt;dbl&gt;</th><th scope=col>&lt;dbl&gt;</th></tr>\n",
       "</thead>\n",
       "<tbody>\n",
       "\t<tr><td>MA0025.1_NFIL3</td><td>-0.2750475</td><td>-0.1587938</td><td>0.0004149447</td><td>alpha_1.vs.alpha_2</td><td>alpha_1</td><td>alpha_2</td><td>alpha_2</td><td>0.0005286094</td><td>0.1601686</td></tr>\n",
       "</tbody>\n",
       "</table>\n"
      ],
      "text/latex": [
       "A grouped_df: 1 × 10\n",
       "\\begin{tabular}{r|llllllllll}\n",
       " motif & mean\\_x & mean\\_y & pval & test & x & y & enrichedIn & FDR & padj\\\\\n",
       " <fct> & <dbl> & <dbl> & <dbl> & <chr> & <chr> & <chr> & <chr> & <dbl> & <dbl>\\\\\n",
       "\\hline\n",
       "\t MA0025.1\\_NFIL3 & -0.2750475 & -0.1587938 & 0.0004149447 & alpha\\_1.vs.alpha\\_2 & alpha\\_1 & alpha\\_2 & alpha\\_2 & 0.0005286094 & 0.1601686\\\\\n",
       "\\end{tabular}\n"
      ],
      "text/markdown": [
       "\n",
       "A grouped_df: 1 × 10\n",
       "\n",
       "| motif &lt;fct&gt; | mean_x &lt;dbl&gt; | mean_y &lt;dbl&gt; | pval &lt;dbl&gt; | test &lt;chr&gt; | x &lt;chr&gt; | y &lt;chr&gt; | enrichedIn &lt;chr&gt; | FDR &lt;dbl&gt; | padj &lt;dbl&gt; |\n",
       "|---|---|---|---|---|---|---|---|---|---|\n",
       "| MA0025.1_NFIL3 | -0.2750475 | -0.1587938 | 0.0004149447 | alpha_1.vs.alpha_2 | alpha_1 | alpha_2 | alpha_2 | 0.0005286094 | 0.1601686 |\n",
       "\n"
      ],
      "text/plain": [
       "  motif          mean_x     mean_y     pval         test               x      \n",
       "1 MA0025.1_NFIL3 -0.2750475 -0.1587938 0.0004149447 alpha_1.vs.alpha_2 alpha_1\n",
       "  y       enrichedIn FDR          padj     \n",
       "1 alpha_2 alpha_2    0.0005286094 0.1601686"
      ]
     },
     "metadata": {},
     "output_type": "display_data"
    }
   ],
   "source": [
    "require(parallel)\n",
    "\n",
    "ttest.res.ct <- do.call(rbind, lapply(names(test.all), function(ntest) {\n",
    "    celltype.test <- test.all[[ntest]]\n",
    "    ttest.res <- do.call(rbind, mclapply(test.motifs, function(motif) {\n",
    "        pd <- input.chromVar.jaspar.z.agg %>% filter(rn == motif) %>% mutate(cluster %in% \n",
    "            celltype.test)\n",
    "        test.res <- t.test(pd %>% filter(cluster == celltype.test[1]) %>% select(zval), \n",
    "            pd %>% filter(cluster == celltype.test[2]) %>% select(zval))\n",
    "        (data.frame(motif = motif, mean_x = test.res$estimate[1], mean_y = test.res$estimate[2], \n",
    "            pval = test.res$p.value/2))\n",
    "    }, mc.cores = 10)) %>% mutate(test = paste(celltype.test, collapse = \".vs.\"))\n",
    "})) %>% separate(test, into = c(\"x\", \"y\"), sep = \".vs.\", remove = F) %>% mutate(enrichedIn = ifelse(mean_x > \n",
    "    mean_y, x, y)) %>% group_by(test) %>% mutate(FDR = p.adjust(pval, \"BH\"), padj = p.adjust(pval, \n",
    "    \"bonferroni\"))\n",
    "head(ttest.res.ct, 1)"
   ]
  },
  {
   "cell_type": "code",
   "execution_count": 31,
   "metadata": {},
   "outputs": [
    {
     "data": {
      "text/html": [
       "<ol class=list-inline>\n",
       "\t<li>'alpha_1.vs.alpha_2'</li>\n",
       "\t<li>'beta_1.vs.beta_2'</li>\n",
       "\t<li>'delta_1.vs.delta_2'</li>\n",
       "</ol>\n"
      ],
      "text/latex": [
       "\\begin{enumerate*}\n",
       "\\item 'alpha\\_1.vs.alpha\\_2'\n",
       "\\item 'beta\\_1.vs.beta\\_2'\n",
       "\\item 'delta\\_1.vs.delta\\_2'\n",
       "\\end{enumerate*}\n"
      ],
      "text/markdown": [
       "1. 'alpha_1.vs.alpha_2'\n",
       "2. 'beta_1.vs.beta_2'\n",
       "3. 'delta_1.vs.delta_2'\n",
       "\n",
       "\n"
      ],
      "text/plain": [
       "[1] \"alpha_1.vs.alpha_2\" \"beta_1.vs.beta_2\"   \"delta_1.vs.delta_2\""
      ]
     },
     "metadata": {},
     "output_type": "display_data"
    },
    {
     "name": "stderr",
     "output_type": "stream",
     "text": [
      "Joining, by = \"jaspar.id\"\n"
     ]
    },
    {
     "data": {
      "text/html": [
       "<table>\n",
       "<caption>A grouped_df: 1 × 17</caption>\n",
       "<thead>\n",
       "\t<tr><th scope=col>motif</th><th scope=col>mean_x</th><th scope=col>mean_y</th><th scope=col>pval</th><th scope=col>test</th><th scope=col>x</th><th scope=col>y</th><th scope=col>enrichedIn</th><th scope=col>FDR</th><th scope=col>padj</th><th scope=col>jaspar.id</th><th scope=col>family.id</th><th scope=col>family.name</th><th scope=col>class.id</th><th scope=col>class.name</th><th scope=col>superclass.id</th><th scope=col>superclass.name</th></tr>\n",
       "\t<tr><th scope=col>&lt;chr&gt;</th><th scope=col>&lt;dbl&gt;</th><th scope=col>&lt;dbl&gt;</th><th scope=col>&lt;dbl&gt;</th><th scope=col>&lt;chr&gt;</th><th scope=col>&lt;chr&gt;</th><th scope=col>&lt;chr&gt;</th><th scope=col>&lt;chr&gt;</th><th scope=col>&lt;dbl&gt;</th><th scope=col>&lt;dbl&gt;</th><th scope=col>&lt;chr&gt;</th><th scope=col>&lt;chr&gt;</th><th scope=col>&lt;chr&gt;</th><th scope=col>&lt;dbl&gt;</th><th scope=col>&lt;chr&gt;</th><th scope=col>&lt;int&gt;</th><th scope=col>&lt;chr&gt;</th></tr>\n",
       "</thead>\n",
       "<tbody>\n",
       "\t<tr><td>NFIL3</td><td>-0.2750475</td><td>-0.1587938</td><td>0.0004149447</td><td>alpha_1.vs.alpha_2</td><td>alpha_1</td><td>alpha_2</td><td>alpha_2</td><td>0.0005286094</td><td>0.1601686</td><td>MA0025.1</td><td>1.1.8</td><td>CEBP-related</td><td>1.1</td><td>Basic leucine zipper factors (bZIP)</td><td>1</td><td>Basic domains</td></tr>\n",
       "</tbody>\n",
       "</table>\n"
      ],
      "text/latex": [
       "A grouped_df: 1 × 17\n",
       "\\begin{tabular}{r|lllllllllllllllll}\n",
       " motif & mean\\_x & mean\\_y & pval & test & x & y & enrichedIn & FDR & padj & jaspar.id & family.id & family.name & class.id & class.name & superclass.id & superclass.name\\\\\n",
       " <chr> & <dbl> & <dbl> & <dbl> & <chr> & <chr> & <chr> & <chr> & <dbl> & <dbl> & <chr> & <chr> & <chr> & <dbl> & <chr> & <int> & <chr>\\\\\n",
       "\\hline\n",
       "\t NFIL3 & -0.2750475 & -0.1587938 & 0.0004149447 & alpha\\_1.vs.alpha\\_2 & alpha\\_1 & alpha\\_2 & alpha\\_2 & 0.0005286094 & 0.1601686 & MA0025.1 & 1.1.8 & CEBP-related & 1.1 & Basic leucine zipper factors (bZIP) & 1 & Basic domains\\\\\n",
       "\\end{tabular}\n"
      ],
      "text/markdown": [
       "\n",
       "A grouped_df: 1 × 17\n",
       "\n",
       "| motif &lt;chr&gt; | mean_x &lt;dbl&gt; | mean_y &lt;dbl&gt; | pval &lt;dbl&gt; | test &lt;chr&gt; | x &lt;chr&gt; | y &lt;chr&gt; | enrichedIn &lt;chr&gt; | FDR &lt;dbl&gt; | padj &lt;dbl&gt; | jaspar.id &lt;chr&gt; | family.id &lt;chr&gt; | family.name &lt;chr&gt; | class.id &lt;dbl&gt; | class.name &lt;chr&gt; | superclass.id &lt;int&gt; | superclass.name &lt;chr&gt; |\n",
       "|---|---|---|---|---|---|---|---|---|---|---|---|---|---|---|---|---|\n",
       "| NFIL3 | -0.2750475 | -0.1587938 | 0.0004149447 | alpha_1.vs.alpha_2 | alpha_1 | alpha_2 | alpha_2 | 0.0005286094 | 0.1601686 | MA0025.1 | 1.1.8 | CEBP-related | 1.1 | Basic leucine zipper factors (bZIP) | 1 | Basic domains |\n",
       "\n"
      ],
      "text/plain": [
       "  motif mean_x     mean_y     pval         test               x       y      \n",
       "1 NFIL3 -0.2750475 -0.1587938 0.0004149447 alpha_1.vs.alpha_2 alpha_1 alpha_2\n",
       "  enrichedIn FDR          padj      jaspar.id family.id family.name  class.id\n",
       "1 alpha_2    0.0005286094 0.1601686 MA0025.1  1.1.8     CEBP-related 1.1     \n",
       "  class.name                          superclass.id superclass.name\n",
       "1 Basic leucine zipper factors (bZIP) 1             Basic domains  "
      ]
     },
     "metadata": {},
     "output_type": "display_data"
    },
    {
     "name": "stderr",
     "output_type": "stream",
     "text": [
      "Joining, by = \"jaspar.id\"\n"
     ]
    }
   ],
   "source": [
    "(celltype.test.all <- ttest.res.ct%>%pull(test)%>%unique)\n",
    "(ttest.res.ct %>% separate(motif, into = c(\"jaspar.id\", \"motif\"), sep = \"_\") %>% \n",
    "    head(1) %>% left_join(fread(\"~/Dropbox (UCSD_Epigenomics)/workReports/2019-10_islet_rev/fig1E_one_vs_other.csv\") %>% \n",
    "    select(jaspar.id, family.id, family.name, class.id, class.name, superclass.id, \n",
    "        superclass.name) %>% unique))[, c(2:11, 1, 12:17)]\n",
    "ttest.res.ct <- (ttest.res.ct %>% separate(motif, into = c(\"jaspar.id\", \"motif\"), \n",
    "    sep = \"_\") %>% left_join(fread(\"~/Dropbox (UCSD_Epigenomics)/workReports/2019-10_islet_rev/fig1E_one_vs_other.csv\") %>% \n",
    "    select(jaspar.id, family.id, family.name, class.id, class.name, superclass.id, \n",
    "        superclass.name) %>% unique))[, c(2:11, 1, 12:17)] %>% group_by(test) %>% \n",
    "    arrange(enrichedIn, pval, desc(mean_x))"
   ]
  },
  {
   "cell_type": "code",
   "execution_count": 32,
   "metadata": {},
   "outputs": [
    {
     "data": {
      "text/html": [
       "'alpha_1.vs.alpha_2'"
      ],
      "text/latex": [
       "'alpha\\_1.vs.alpha\\_2'"
      ],
      "text/markdown": [
       "'alpha_1.vs.alpha_2'"
      ],
      "text/plain": [
       "[1] \"alpha_1.vs.alpha_2\""
      ]
     },
     "metadata": {},
     "output_type": "display_data"
    },
    {
     "data": {
      "text/html": [
       "<table>\n",
       "<caption>A grouped_df: 1 × 17</caption>\n",
       "<thead>\n",
       "\t<tr><th scope=col>motif</th><th scope=col>mean_x</th><th scope=col>mean_y</th><th scope=col>pval</th><th scope=col>test</th><th scope=col>x</th><th scope=col>y</th><th scope=col>enrichedIn</th><th scope=col>FDR</th><th scope=col>padj</th><th scope=col>jaspar.id</th><th scope=col>family.id</th><th scope=col>family.name</th><th scope=col>class.id</th><th scope=col>class.name</th><th scope=col>superclass.id</th><th scope=col>superclass.name</th></tr>\n",
       "\t<tr><th scope=col>&lt;chr&gt;</th><th scope=col>&lt;dbl&gt;</th><th scope=col>&lt;dbl&gt;</th><th scope=col>&lt;dbl&gt;</th><th scope=col>&lt;chr&gt;</th><th scope=col>&lt;chr&gt;</th><th scope=col>&lt;chr&gt;</th><th scope=col>&lt;chr&gt;</th><th scope=col>&lt;dbl&gt;</th><th scope=col>&lt;dbl&gt;</th><th scope=col>&lt;chr&gt;</th><th scope=col>&lt;chr&gt;</th><th scope=col>&lt;chr&gt;</th><th scope=col>&lt;dbl&gt;</th><th scope=col>&lt;chr&gt;</th><th scope=col>&lt;int&gt;</th><th scope=col>&lt;chr&gt;</th></tr>\n",
       "</thead>\n",
       "<tbody>\n",
       "\t<tr><td>TAL1::TCF3</td><td>0.4377107</td><td>-1.215011</td><td>1.608224e-293</td><td>alpha_1.vs.alpha_2</td><td>alpha_1</td><td>alpha_2</td><td>alpha_1</td><td>5.173121e-292</td><td>6.207746e-291</td><td>MA0091.1</td><td>1.2.3</td><td>Tal-related</td><td>1.2</td><td>Basic helix-loop-helix factors (bHLH)</td><td>1</td><td>Basic domains</td></tr>\n",
       "</tbody>\n",
       "</table>\n"
      ],
      "text/latex": [
       "A grouped_df: 1 × 17\n",
       "\\begin{tabular}{r|lllllllllllllllll}\n",
       " motif & mean\\_x & mean\\_y & pval & test & x & y & enrichedIn & FDR & padj & jaspar.id & family.id & family.name & class.id & class.name & superclass.id & superclass.name\\\\\n",
       " <chr> & <dbl> & <dbl> & <dbl> & <chr> & <chr> & <chr> & <chr> & <dbl> & <dbl> & <chr> & <chr> & <chr> & <dbl> & <chr> & <int> & <chr>\\\\\n",
       "\\hline\n",
       "\t TAL1::TCF3 & 0.4377107 & -1.215011 & 1.608224e-293 & alpha\\_1.vs.alpha\\_2 & alpha\\_1 & alpha\\_2 & alpha\\_1 & 5.173121e-292 & 6.207746e-291 & MA0091.1 & 1.2.3 & Tal-related & 1.2 & Basic helix-loop-helix factors (bHLH) & 1 & Basic domains\\\\\n",
       "\\end{tabular}\n"
      ],
      "text/markdown": [
       "\n",
       "A grouped_df: 1 × 17\n",
       "\n",
       "| motif &lt;chr&gt; | mean_x &lt;dbl&gt; | mean_y &lt;dbl&gt; | pval &lt;dbl&gt; | test &lt;chr&gt; | x &lt;chr&gt; | y &lt;chr&gt; | enrichedIn &lt;chr&gt; | FDR &lt;dbl&gt; | padj &lt;dbl&gt; | jaspar.id &lt;chr&gt; | family.id &lt;chr&gt; | family.name &lt;chr&gt; | class.id &lt;dbl&gt; | class.name &lt;chr&gt; | superclass.id &lt;int&gt; | superclass.name &lt;chr&gt; |\n",
       "|---|---|---|---|---|---|---|---|---|---|---|---|---|---|---|---|---|\n",
       "| TAL1::TCF3 | 0.4377107 | -1.215011 | 1.608224e-293 | alpha_1.vs.alpha_2 | alpha_1 | alpha_2 | alpha_1 | 5.173121e-292 | 6.207746e-291 | MA0091.1 | 1.2.3 | Tal-related | 1.2 | Basic helix-loop-helix factors (bHLH) | 1 | Basic domains |\n",
       "\n"
      ],
      "text/plain": [
       "  motif      mean_x    mean_y    pval          test               x      \n",
       "1 TAL1::TCF3 0.4377107 -1.215011 1.608224e-293 alpha_1.vs.alpha_2 alpha_1\n",
       "  y       enrichedIn FDR           padj          jaspar.id family.id\n",
       "1 alpha_2 alpha_1    5.173121e-292 6.207746e-291 MA0091.1  1.2.3    \n",
       "  family.name class.id class.name                            superclass.id\n",
       "1 Tal-related 1.2      Basic helix-loop-helix factors (bHLH) 1            \n",
       "  superclass.name\n",
       "1 Basic domains  "
      ]
     },
     "metadata": {},
     "output_type": "display_data"
    },
    {
     "data": {
      "text/html": [
       "<ol class=list-inline>\n",
       "\t<li>395</li>\n",
       "\t<li>17</li>\n",
       "</ol>\n"
      ],
      "text/latex": [
       "\\begin{enumerate*}\n",
       "\\item 395\n",
       "\\item 17\n",
       "\\end{enumerate*}\n"
      ],
      "text/markdown": [
       "1. 395\n",
       "2. 17\n",
       "\n",
       "\n"
      ],
      "text/plain": [
       "[1] 395  17"
      ]
     },
     "metadata": {},
     "output_type": "display_data"
    }
   ],
   "source": [
    "ntest = \"alpha_1\"\n",
    "sub(\".[12]$\", \"\", all.test[[ntest]])\n",
    "ttest.res.ct %>% filter(test == sub(\".[12]$\", \"\", all.test[[ntest]]))%>%head(1)\n",
    "ttest.res.ct %>% filter(test == sub(\".[12]$\", \"\", all.test[[ntest]]))%>%dim"
   ]
  },
  {
   "cell_type": "code",
   "execution_count": 33,
   "metadata": {},
   "outputs": [
    {
     "data": {
      "text/html": [
       "<ol class=list-inline>\n",
       "\t<li>'alpha_1.vs.alpha_2.1'</li>\n",
       "\t<li>'alpha_1.vs.alpha_2.2'</li>\n",
       "\t<li>'beta_1.vs.beta_2.1'</li>\n",
       "\t<li>'beta_1.vs.beta_2.2'</li>\n",
       "\t<li>'delta_1.vs.delta_2.1'</li>\n",
       "\t<li>'delta_1.vs.delta_2.2'</li>\n",
       "</ol>\n"
      ],
      "text/latex": [
       "\\begin{enumerate*}\n",
       "\\item 'alpha\\_1.vs.alpha\\_2.1'\n",
       "\\item 'alpha\\_1.vs.alpha\\_2.2'\n",
       "\\item 'beta\\_1.vs.beta\\_2.1'\n",
       "\\item 'beta\\_1.vs.beta\\_2.2'\n",
       "\\item 'delta\\_1.vs.delta\\_2.1'\n",
       "\\item 'delta\\_1.vs.delta\\_2.2'\n",
       "\\end{enumerate*}\n"
      ],
      "text/markdown": [
       "1. 'alpha_1.vs.alpha_2.1'\n",
       "2. 'alpha_1.vs.alpha_2.2'\n",
       "3. 'beta_1.vs.beta_2.1'\n",
       "4. 'beta_1.vs.beta_2.2'\n",
       "5. 'delta_1.vs.delta_2.1'\n",
       "6. 'delta_1.vs.delta_2.2'\n",
       "\n",
       "\n"
      ],
      "text/plain": [
       "[1] \"alpha_1.vs.alpha_2.1\" \"alpha_1.vs.alpha_2.2\" \"beta_1.vs.beta_2.1\"  \n",
       "[4] \"beta_1.vs.beta_2.2\"   \"delta_1.vs.delta_2.1\" \"delta_1.vs.delta_2.2\""
      ]
     },
     "metadata": {},
     "output_type": "display_data"
    }
   ],
   "source": [
    "(all.test <- c(\"alpha_1.vs.alpha_2.1\", \"alpha_1.vs.alpha_2.2\", \"beta_1.vs.beta_2.1\", \n",
    "    \"beta_1.vs.beta_2.2\", \"delta_1.vs.delta_2.1\", \"delta_1.vs.delta_2.2\"))\n",
    "names(all.test) <- c(\"alpha_1\", \"alpha_2\", \"beta_1\", \"beta_2\", \"delta_1\", \"delta_2\")\n",
    "\n",
    "ttest.res.list <- lapply(names(all.test), function(ntest) ttest.res.ct %>% filter(test == \n",
    "    sub(\".[12]$\", \"\", all.test[[ntest]]) & enrichedIn == ntest))\n",
    "names(ttest.res.list) <- as.character(all.test)\n",
    "require(writexl)\n",
    "write_xlsx(ttest.res.list, \"~/Dropbox (UCSD_Epigenomics)/workReports/2019-10_islet_rev/fig2d_sub_vs_sub.xlsx\")\n",
    "fwrite(ttest.res.ct, \"~/Dropbox (UCSD_Epigenomics)/workReports/2019-10_islet_rev/fig2d_sub_vs_sub.csv\")"
   ]
  }
 ],
 "metadata": {
  "kernelspec": {
   "display_name": "R",
   "language": "R",
   "name": "ir"
  },
  "language_info": {
   "codemirror_mode": "r",
   "file_extension": ".r",
   "mimetype": "text/x-r-source",
   "name": "R",
   "pygments_lexer": "r",
   "version": "3.5.1"
  }
 },
 "nbformat": 4,
 "nbformat_minor": 2
}
