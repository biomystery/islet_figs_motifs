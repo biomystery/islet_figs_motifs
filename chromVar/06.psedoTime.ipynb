{
 "cells": [
  {
   "cell_type": "code",
   "execution_count": 2,
   "metadata": {},
   "outputs": [
    {
     "name": "stderr",
     "output_type": "stream",
     "text": [
      "Warning message:\n",
      "“Expected 2 pieces. Missing pieces filled with `NA` in 772 rows [3, 50, 83, 84, 138, 181, 196, 213, 253, 265, 274, 301, 303, 353, 371, 388, 412, 434, 491, 495, ...].”"
     ]
    }
   ],
   "source": [
    "source(\"./libs.R\")"
   ]
  },
  {
   "cell_type": "code",
   "execution_count": 4,
   "metadata": {},
   "outputs": [
    {
     "data": {
      "text/html": [
       "<ol class=list-inline>\n",
       "\t<li>'cols.BlGy'</li>\n",
       "\t<li>'cols.celltype'</li>\n",
       "\t<li>'cols.cluster'</li>\n",
       "\t<li>'cols.hm.avg.tf'</li>\n",
       "\t<li>'cols.hm.zval.fun'</li>\n",
       "\t<li>'cols.hm.zval.fun.2'</li>\n",
       "\t<li>'cols.sky'</li>\n",
       "\t<li>'cols.Spectrum'</li>\n",
       "\t<li>'cols.subcluster'</li>\n",
       "\t<li>'fun.gamSmooth'</li>\n",
       "\t<li>'fun.importRGB'</li>\n",
       "\t<li>'fun.plot.project.motif'</li>\n",
       "\t<li>'fun.plt.motif.pt'</li>\n",
       "\t<li>'input.chromVar.jaspar.z'</li>\n",
       "\t<li>'input.chromVar.res.list'</li>\n",
       "\t<li>'input.umap.res'</li>\n",
       "\t<li>'Modes'</li>\n",
       "\t<li>'plotColScale'</li>\n",
       "\t<li>'plotLegend'</li>\n",
       "\t<li>'theme_pubr'</li>\n",
       "</ol>\n"
      ],
      "text/latex": [
       "\\begin{enumerate*}\n",
       "\\item 'cols.BlGy'\n",
       "\\item 'cols.celltype'\n",
       "\\item 'cols.cluster'\n",
       "\\item 'cols.hm.avg.tf'\n",
       "\\item 'cols.hm.zval.fun'\n",
       "\\item 'cols.hm.zval.fun.2'\n",
       "\\item 'cols.sky'\n",
       "\\item 'cols.Spectrum'\n",
       "\\item 'cols.subcluster'\n",
       "\\item 'fun.gamSmooth'\n",
       "\\item 'fun.importRGB'\n",
       "\\item 'fun.plot.project.motif'\n",
       "\\item 'fun.plt.motif.pt'\n",
       "\\item 'input.chromVar.jaspar.z'\n",
       "\\item 'input.chromVar.res.list'\n",
       "\\item 'input.umap.res'\n",
       "\\item 'Modes'\n",
       "\\item 'plotColScale'\n",
       "\\item 'plotLegend'\n",
       "\\item 'theme\\_pubr'\n",
       "\\end{enumerate*}\n"
      ],
      "text/markdown": [
       "1. 'cols.BlGy'\n",
       "2. 'cols.celltype'\n",
       "3. 'cols.cluster'\n",
       "4. 'cols.hm.avg.tf'\n",
       "5. 'cols.hm.zval.fun'\n",
       "6. 'cols.hm.zval.fun.2'\n",
       "7. 'cols.sky'\n",
       "8. 'cols.Spectrum'\n",
       "9. 'cols.subcluster'\n",
       "10. 'fun.gamSmooth'\n",
       "11. 'fun.importRGB'\n",
       "12. 'fun.plot.project.motif'\n",
       "13. 'fun.plt.motif.pt'\n",
       "14. 'input.chromVar.jaspar.z'\n",
       "15. 'input.chromVar.res.list'\n",
       "16. 'input.umap.res'\n",
       "17. 'Modes'\n",
       "18. 'plotColScale'\n",
       "19. 'plotLegend'\n",
       "20. 'theme_pubr'\n",
       "\n",
       "\n"
      ],
      "text/plain": [
       " [1] \"cols.BlGy\"               \"cols.celltype\"          \n",
       " [3] \"cols.cluster\"            \"cols.hm.avg.tf\"         \n",
       " [5] \"cols.hm.zval.fun\"        \"cols.hm.zval.fun.2\"     \n",
       " [7] \"cols.sky\"                \"cols.Spectrum\"          \n",
       " [9] \"cols.subcluster\"         \"fun.gamSmooth\"          \n",
       "[11] \"fun.importRGB\"           \"fun.plot.project.motif\" \n",
       "[13] \"fun.plt.motif.pt\"        \"input.chromVar.jaspar.z\"\n",
       "[15] \"input.chromVar.res.list\" \"input.umap.res\"         \n",
       "[17] \"Modes\"                   \"plotColScale\"           \n",
       "[19] \"plotLegend\"              \"theme_pubr\"             "
      ]
     },
     "metadata": {},
     "output_type": "display_data"
    }
   ],
   "source": [
    "ls()"
   ]
  },
  {
   "cell_type": "markdown",
   "metadata": {},
   "source": [
    "## 1.Relate ps to motif"
   ]
  },
  {
   "cell_type": "code",
   "execution_count": 6,
   "metadata": {},
   "outputs": [
    {
     "data": {
      "text/html": [
       "<ol class=list-inline>\n",
       "\t<li>579</li>\n",
       "\t<li>15298</li>\n",
       "</ol>\n"
      ],
      "text/latex": [
       "\\begin{enumerate*}\n",
       "\\item 579\n",
       "\\item 15298\n",
       "\\end{enumerate*}\n"
      ],
      "text/markdown": [
       "1. 579\n",
       "2. 15298\n",
       "\n",
       "\n"
      ],
      "text/plain": [
       "[1]   579 15298"
      ]
     },
     "metadata": {},
     "output_type": "display_data"
    },
    {
     "data": {
      "text/html": [
       "<table>\n",
       "<caption>A matrix: 3 × 3 of type dbl</caption>\n",
       "<thead>\n",
       "\t<tr><th></th><th scope=col>Islet1fresh_AGACACCTAAGAGGCAAAGGAGTAGGCTC</th><th scope=col>Islet1fresh_AGACACCTAAGAGGCAAAGGAGTAGGTTG</th><th scope=col>Islet1fresh_AGACACCTAAGAGGCAAAGGCTATATAGA</th></tr>\n",
       "</thead>\n",
       "<tbody>\n",
       "\t<tr><th scope=row>MA0004.1_Arnt</th><td>-1.566904</td><td> 2.1113089</td><td>0.4907512</td></tr>\n",
       "\t<tr><th scope=row>MA0006.1_Ahr::Arnt</th><td>-1.756479</td><td>-0.3461105</td><td>0.4726955</td></tr>\n",
       "\t<tr><th scope=row>MA0019.1_Ddit3::Cebpa</th><td>-2.644964</td><td>-1.1756219</td><td>0.8333850</td></tr>\n",
       "</tbody>\n",
       "</table>\n"
      ],
      "text/latex": [
       "A matrix: 3 × 3 of type dbl\n",
       "\\begin{tabular}{r|lll}\n",
       "  & Islet1fresh\\_AGACACCTAAGAGGCAAAGGAGTAGGCTC & Islet1fresh\\_AGACACCTAAGAGGCAAAGGAGTAGGTTG & Islet1fresh\\_AGACACCTAAGAGGCAAAGGCTATATAGA\\\\\n",
       "\\hline\n",
       "\tMA0004.1\\_Arnt & -1.566904 &  2.1113089 & 0.4907512\\\\\n",
       "\tMA0006.1\\_Ahr::Arnt & -1.756479 & -0.3461105 & 0.4726955\\\\\n",
       "\tMA0019.1\\_Ddit3::Cebpa & -2.644964 & -1.1756219 & 0.8333850\\\\\n",
       "\\end{tabular}\n"
      ],
      "text/markdown": [
       "\n",
       "A matrix: 3 × 3 of type dbl\n",
       "\n",
       "| <!--/--> | Islet1fresh_AGACACCTAAGAGGCAAAGGAGTAGGCTC | Islet1fresh_AGACACCTAAGAGGCAAAGGAGTAGGTTG | Islet1fresh_AGACACCTAAGAGGCAAAGGCTATATAGA |\n",
       "|---|---|---|---|\n",
       "| MA0004.1_Arnt | -1.566904 |  2.1113089 | 0.4907512 |\n",
       "| MA0006.1_Ahr::Arnt | -1.756479 | -0.3461105 | 0.4726955 |\n",
       "| MA0019.1_Ddit3::Cebpa | -2.644964 | -1.1756219 | 0.8333850 |\n",
       "\n"
      ],
      "text/plain": [
       "                      Islet1fresh_AGACACCTAAGAGGCAAAGGAGTAGGCTC\n",
       "MA0004.1_Arnt         -1.566904                                \n",
       "MA0006.1_Ahr::Arnt    -1.756479                                \n",
       "MA0019.1_Ddit3::Cebpa -2.644964                                \n",
       "                      Islet1fresh_AGACACCTAAGAGGCAAAGGAGTAGGTTG\n",
       "MA0004.1_Arnt          2.1113089                               \n",
       "MA0006.1_Ahr::Arnt    -0.3461105                               \n",
       "MA0019.1_Ddit3::Cebpa -1.1756219                               \n",
       "                      Islet1fresh_AGACACCTAAGAGGCAAAGGCTATATAGA\n",
       "MA0004.1_Arnt         0.4907512                                \n",
       "MA0006.1_Ahr::Arnt    0.4726955                                \n",
       "MA0019.1_Ddit3::Cebpa 0.8333850                                "
      ]
     },
     "metadata": {},
     "output_type": "display_data"
    }
   ],
   "source": [
    "input.chromVar.jaspar.z%>%dim\n",
    "input.chromVar.jaspar.z[1:3,1:3]"
   ]
  },
  {
   "cell_type": "code",
   "execution_count": 10,
   "metadata": {},
   "outputs": [
    {
     "data": {
      "text/html": [
       "<table>\n",
       "<caption>A data.frame: 1 × 3</caption>\n",
       "<thead>\n",
       "\t<tr><th scope=col>motif</th><th scope=col>cell</th><th scope=col>zval</th></tr>\n",
       "\t<tr><th scope=col>&lt;chr&gt;</th><th scope=col>&lt;fct&gt;</th><th scope=col>&lt;dbl&gt;</th></tr>\n",
       "</thead>\n",
       "<tbody>\n",
       "\t<tr><td>MA0004.1_Arnt</td><td>Islet1fresh_AGACACCTAAGAGGCAAAGGAGTAGGCTC</td><td>-1.566904</td></tr>\n",
       "</tbody>\n",
       "</table>\n"
      ],
      "text/latex": [
       "A data.frame: 1 × 3\n",
       "\\begin{tabular}{r|lll}\n",
       " motif & cell & zval\\\\\n",
       " <chr> & <fct> & <dbl>\\\\\n",
       "\\hline\n",
       "\t MA0004.1\\_Arnt & Islet1fresh\\_AGACACCTAAGAGGCAAAGGAGTAGGCTC & -1.566904\\\\\n",
       "\\end{tabular}\n"
      ],
      "text/markdown": [
       "\n",
       "A data.frame: 1 × 3\n",
       "\n",
       "| motif &lt;chr&gt; | cell &lt;fct&gt; | zval &lt;dbl&gt; |\n",
       "|---|---|---|\n",
       "| MA0004.1_Arnt | Islet1fresh_AGACACCTAAGAGGCAAAGGAGTAGGCTC | -1.566904 |\n",
       "\n"
      ],
      "text/plain": [
       "  motif         cell                                      zval     \n",
       "1 MA0004.1_Arnt Islet1fresh_AGACACCTAAGAGGCAAAGGAGTAGGCTC -1.566904"
      ]
     },
     "metadata": {},
     "output_type": "display_data"
    },
    {
     "data": {
      "text/html": [
       "<ol class=list-inline>\n",
       "\t<li>8857542</li>\n",
       "\t<li>3</li>\n",
       "</ol>\n"
      ],
      "text/latex": [
       "\\begin{enumerate*}\n",
       "\\item 8857542\n",
       "\\item 3\n",
       "\\end{enumerate*}\n"
      ],
      "text/markdown": [
       "1. 8857542\n",
       "2. 3\n",
       "\n",
       "\n"
      ],
      "text/plain": [
       "[1] 8857542       3"
      ]
     },
     "metadata": {},
     "output_type": "display_data"
    }
   ],
   "source": [
    "input.chromVar.jaspar.z <- input.chromVar.jaspar.z %>% as.data.frame %>% rownames_to_column(\"motif\") %>% \n",
    "    melt(id = \"motif\", variable.name = \"cell\", value.name = \"zval\")\n",
    "input.chromVar.jaspar.z %>% head(1)\n",
    "input.chromVar.jaspar.z %>% dim"
   ]
  },
  {
   "cell_type": "markdown",
   "metadata": {},
   "source": [
    "### 1.2 load ps"
   ]
  },
  {
   "cell_type": "code",
   "execution_count": 7,
   "metadata": {},
   "outputs": [
    {
     "data": {
      "text/html": [
       "<ol class=list-inline>\n",
       "\t<li>14526</li>\n",
       "\t<li>3</li>\n",
       "</ol>\n"
      ],
      "text/latex": [
       "\\begin{enumerate*}\n",
       "\\item 14526\n",
       "\\item 3\n",
       "\\end{enumerate*}\n"
      ],
      "text/markdown": [
       "1. 14526\n",
       "2. 3\n",
       "\n",
       "\n"
      ],
      "text/plain": [
       "[1] 14526     3"
      ]
     },
     "metadata": {},
     "output_type": "display_data"
    }
   ],
   "source": [
    "input.pseudotime <- fread(\"../dat/1910_v2/abd.promoter.long_matrix_w_transcripts_ps.txt\") %>% \n",
    "    select(cell, ps, celltype)%>%distinct\n",
    "input.pseudotime%>%dim"
   ]
  },
  {
   "cell_type": "markdown",
   "metadata": {},
   "source": [
    "### 1.3 merge ps to motif result"
   ]
  },
  {
   "cell_type": "code",
   "execution_count": 14,
   "metadata": {},
   "outputs": [
    {
     "data": {
      "text/html": [
       "<table>\n",
       "<caption>A data.frame: 1 × 5</caption>\n",
       "<thead>\n",
       "\t<tr><th scope=col>cell</th><th scope=col>motif</th><th scope=col>zval</th><th scope=col>ps</th><th scope=col>celltype</th></tr>\n",
       "\t<tr><th scope=col>&lt;fct&gt;</th><th scope=col>&lt;chr&gt;</th><th scope=col>&lt;dbl&gt;</th><th scope=col>&lt;dbl&gt;</th><th scope=col>&lt;chr&gt;</th></tr>\n",
       "</thead>\n",
       "<tbody>\n",
       "\t<tr><td>Islet1fresh_AGACACCTAAGAGGCAAAGGAGTAGGCTC</td><td>MA0765.1_ETV5</td><td>0.9046531</td><td>13.98913</td><td>alpha</td></tr>\n",
       "</tbody>\n",
       "</table>\n"
      ],
      "text/latex": [
       "A data.frame: 1 × 5\n",
       "\\begin{tabular}{r|lllll}\n",
       " cell & motif & zval & ps & celltype\\\\\n",
       " <fct> & <chr> & <dbl> & <dbl> & <chr>\\\\\n",
       "\\hline\n",
       "\t Islet1fresh\\_AGACACCTAAGAGGCAAAGGAGTAGGCTC & MA0765.1\\_ETV5 & 0.9046531 & 13.98913 & alpha\\\\\n",
       "\\end{tabular}\n"
      ],
      "text/markdown": [
       "\n",
       "A data.frame: 1 × 5\n",
       "\n",
       "| cell &lt;fct&gt; | motif &lt;chr&gt; | zval &lt;dbl&gt; | ps &lt;dbl&gt; | celltype &lt;chr&gt; |\n",
       "|---|---|---|---|---|\n",
       "| Islet1fresh_AGACACCTAAGAGGCAAAGGAGTAGGCTC | MA0765.1_ETV5 | 0.9046531 | 13.98913 | alpha |\n",
       "\n"
      ],
      "text/plain": [
       "  cell                                      motif         zval      ps      \n",
       "1 Islet1fresh_AGACACCTAAGAGGCAAAGGAGTAGGCTC MA0765.1_ETV5 0.9046531 13.98913\n",
       "  celltype\n",
       "1 alpha   "
      ]
     },
     "metadata": {},
     "output_type": "display_data"
    },
    {
     "data": {
      "text/html": [
       "<ol class=list-inline>\n",
       "\t<li>8410554</li>\n",
       "\t<li>5</li>\n",
       "</ol>\n"
      ],
      "text/latex": [
       "\\begin{enumerate*}\n",
       "\\item 8410554\n",
       "\\item 5\n",
       "\\end{enumerate*}\n"
      ],
      "text/markdown": [
       "1. 8410554\n",
       "2. 5\n",
       "\n",
       "\n"
      ],
      "text/plain": [
       "[1] 8410554       5"
      ]
     },
     "metadata": {},
     "output_type": "display_data"
    },
    {
     "data": {
      "text/plain": [
       ".\n",
       "alpha  beta delta \n",
       " 6218  7598   710 "
      ]
     },
     "metadata": {},
     "output_type": "display_data"
    },
    {
     "data": {
      "text/html": [
       "579"
      ],
      "text/latex": [
       "579"
      ],
      "text/markdown": [
       "579"
      ],
      "text/plain": [
       "[1] 579"
      ]
     },
     "metadata": {},
     "output_type": "display_data"
    }
   ],
   "source": [
    "output.motif.pt <- merge(input.chromVar.jaspar.z, input.pseudotime)\n",
    "output.motif.pt %>% head(1)\n",
    "output.motif.pt %>% dim\n",
    "output.motif.pt %>% select(cell, celltype) %>% distinct %>% pull(celltype) %>% table\n",
    "output.motif.pt %>% pull(motif) %>% unique %>% length"
   ]
  },
  {
   "cell_type": "code",
   "execution_count": 18,
   "metadata": {},
   "outputs": [
    {
     "name": "stderr",
     "output_type": "stream",
     "text": [
      "Joining, by = \"cell\"\n",
      "Warning message:\n",
      "“Column `cell` joining factor and character vector, coercing into character vector”"
     ]
    },
    {
     "data": {
      "text/html": [
       "<table>\n",
       "<caption>A data.frame: 1 × 8</caption>\n",
       "<thead>\n",
       "\t<tr><th scope=col>cell</th><th scope=col>motif</th><th scope=col>zval</th><th scope=col>ps</th><th scope=col>celltype</th><th scope=col>UMAP1</th><th scope=col>UMAP2</th><th scope=col>cluster</th></tr>\n",
       "\t<tr><th scope=col>&lt;chr&gt;</th><th scope=col>&lt;chr&gt;</th><th scope=col>&lt;dbl&gt;</th><th scope=col>&lt;dbl&gt;</th><th scope=col>&lt;chr&gt;</th><th scope=col>&lt;dbl&gt;</th><th scope=col>&lt;dbl&gt;</th><th scope=col>&lt;chr&gt;</th></tr>\n",
       "</thead>\n",
       "<tbody>\n",
       "\t<tr><td>Islet1fresh_AGACACCTAAGAGGCAAAGGAGTAGGCTC</td><td>MA0765.1_ETV5</td><td>0.9046531</td><td>13.98913</td><td>alpha</td><td>-5.102393</td><td>1.38682</td><td>alpha_2</td></tr>\n",
       "</tbody>\n",
       "</table>\n"
      ],
      "text/latex": [
       "A data.frame: 1 × 8\n",
       "\\begin{tabular}{r|llllllll}\n",
       " cell & motif & zval & ps & celltype & UMAP1 & UMAP2 & cluster\\\\\n",
       " <chr> & <chr> & <dbl> & <dbl> & <chr> & <dbl> & <dbl> & <chr>\\\\\n",
       "\\hline\n",
       "\t Islet1fresh\\_AGACACCTAAGAGGCAAAGGAGTAGGCTC & MA0765.1\\_ETV5 & 0.9046531 & 13.98913 & alpha & -5.102393 & 1.38682 & alpha\\_2\\\\\n",
       "\\end{tabular}\n"
      ],
      "text/markdown": [
       "\n",
       "A data.frame: 1 × 8\n",
       "\n",
       "| cell &lt;chr&gt; | motif &lt;chr&gt; | zval &lt;dbl&gt; | ps &lt;dbl&gt; | celltype &lt;chr&gt; | UMAP1 &lt;dbl&gt; | UMAP2 &lt;dbl&gt; | cluster &lt;chr&gt; |\n",
       "|---|---|---|---|---|---|---|---|\n",
       "| Islet1fresh_AGACACCTAAGAGGCAAAGGAGTAGGCTC | MA0765.1_ETV5 | 0.9046531 | 13.98913 | alpha | -5.102393 | 1.38682 | alpha_2 |\n",
       "\n"
      ],
      "text/plain": [
       "  cell                                      motif         zval      ps      \n",
       "1 Islet1fresh_AGACACCTAAGAGGCAAAGGAGTAGGCTC MA0765.1_ETV5 0.9046531 13.98913\n",
       "  celltype UMAP1     UMAP2   cluster\n",
       "1 alpha    -5.102393 1.38682 alpha_2"
      ]
     },
     "metadata": {},
     "output_type": "display_data"
    },
    {
     "data": {
      "text/html": [
       "<ol class=list-inline>\n",
       "\t<li>8410554</li>\n",
       "\t<li>8</li>\n",
       "</ol>\n"
      ],
      "text/latex": [
       "\\begin{enumerate*}\n",
       "\\item 8410554\n",
       "\\item 8\n",
       "\\end{enumerate*}\n"
      ],
      "text/markdown": [
       "1. 8410554\n",
       "2. 8\n",
       "\n",
       "\n"
      ],
      "text/plain": [
       "[1] 8410554       8"
      ]
     },
     "metadata": {},
     "output_type": "display_data"
    }
   ],
   "source": [
    "output.motif.pt <- output.motif.pt %>% left_join(input.umap.res %>% rename(cell = \"barcodes\") %>% \n",
    "    select(cell, UMAP1, UMAP2, cluster))\n",
    "output.motif.pt %>% head(1)\n",
    "output.motif.pt %>% dim"
   ]
  },
  {
   "cell_type": "code",
   "execution_count": 42,
   "metadata": {
    "scrolled": false
   },
   "outputs": [
    {
     "data": {
      "text/html": [
       "<table>\n",
       "<caption>A data.table: 1 × 13</caption>\n",
       "<thead>\n",
       "\t<tr><th scope=col>barcodes</th><th scope=col>UMAP1</th><th scope=col>UMAP2</th><th scope=col>cluster</th><th scope=col>cell_type_overall</th><th scope=col>subtype</th><th scope=col>unique_usable_reads</th><th scope=col>log_usable_counts</th><th scope=col>frac_duplicated_reads</th><th scope=col>frac_mito_reads</th><th scope=col>frac_promoters_used</th><th scope=col>frac_reads_in_peaks</th><th scope=col>frac_reads_in_promoters</th></tr>\n",
       "\t<tr><th scope=col>&lt;chr&gt;</th><th scope=col>&lt;dbl&gt;</th><th scope=col>&lt;dbl&gt;</th><th scope=col>&lt;chr&gt;</th><th scope=col>&lt;chr&gt;</th><th scope=col>&lt;chr&gt;</th><th scope=col>&lt;int&gt;</th><th scope=col>&lt;dbl&gt;</th><th scope=col>&lt;dbl&gt;</th><th scope=col>&lt;dbl&gt;</th><th scope=col>&lt;dbl&gt;</th><th scope=col>&lt;dbl&gt;</th><th scope=col>&lt;dbl&gt;</th></tr>\n",
       "</thead>\n",
       "<tbody>\n",
       "\t<tr><td>Islet1fresh_AGACACCTAAGAGGCAAAGGAGTAGGCTC</td><td>-5.102393</td><td>1.38682</td><td>alpha_2</td><td>alpha</td><td>2</td><td>6254</td><td>7.865955</td><td>0.7902986</td><td>0.03428042</td><td>0.04337516</td><td>0.5978574</td><td>0.2646306</td></tr>\n",
       "</tbody>\n",
       "</table>\n"
      ],
      "text/latex": [
       "A data.table: 1 × 13\n",
       "\\begin{tabular}{r|lllllllllllll}\n",
       " barcodes & UMAP1 & UMAP2 & cluster & cell\\_type\\_overall & subtype & unique\\_usable\\_reads & log\\_usable\\_counts & frac\\_duplicated\\_reads & frac\\_mito\\_reads & frac\\_promoters\\_used & frac\\_reads\\_in\\_peaks & frac\\_reads\\_in\\_promoters\\\\\n",
       " <chr> & <dbl> & <dbl> & <chr> & <chr> & <chr> & <int> & <dbl> & <dbl> & <dbl> & <dbl> & <dbl> & <dbl>\\\\\n",
       "\\hline\n",
       "\t Islet1fresh\\_AGACACCTAAGAGGCAAAGGAGTAGGCTC & -5.102393 & 1.38682 & alpha\\_2 & alpha & 2 & 6254 & 7.865955 & 0.7902986 & 0.03428042 & 0.04337516 & 0.5978574 & 0.2646306\\\\\n",
       "\\end{tabular}\n"
      ],
      "text/markdown": [
       "\n",
       "A data.table: 1 × 13\n",
       "\n",
       "| barcodes &lt;chr&gt; | UMAP1 &lt;dbl&gt; | UMAP2 &lt;dbl&gt; | cluster &lt;chr&gt; | cell_type_overall &lt;chr&gt; | subtype &lt;chr&gt; | unique_usable_reads &lt;int&gt; | log_usable_counts &lt;dbl&gt; | frac_duplicated_reads &lt;dbl&gt; | frac_mito_reads &lt;dbl&gt; | frac_promoters_used &lt;dbl&gt; | frac_reads_in_peaks &lt;dbl&gt; | frac_reads_in_promoters &lt;dbl&gt; |\n",
       "|---|---|---|---|---|---|---|---|---|---|---|---|---|\n",
       "| Islet1fresh_AGACACCTAAGAGGCAAAGGAGTAGGCTC | -5.102393 | 1.38682 | alpha_2 | alpha | 2 | 6254 | 7.865955 | 0.7902986 | 0.03428042 | 0.04337516 | 0.5978574 | 0.2646306 |\n",
       "\n"
      ],
      "text/plain": [
       "  barcodes                                  UMAP1     UMAP2   cluster\n",
       "1 Islet1fresh_AGACACCTAAGAGGCAAAGGAGTAGGCTC -5.102393 1.38682 alpha_2\n",
       "  cell_type_overall subtype unique_usable_reads log_usable_counts\n",
       "1 alpha             2       6254                7.865955         \n",
       "  frac_duplicated_reads frac_mito_reads frac_promoters_used frac_reads_in_peaks\n",
       "1 0.7902986             0.03428042      0.04337516          0.5978574          \n",
       "  frac_reads_in_promoters\n",
       "1 0.2646306              "
      ]
     },
     "metadata": {},
     "output_type": "display_data"
    },
    {
     "data": {
      "text/html": [
       "<ol class=list-inline>\n",
       "\t<li>15298</li>\n",
       "\t<li>13</li>\n",
       "</ol>\n"
      ],
      "text/latex": [
       "\\begin{enumerate*}\n",
       "\\item 15298\n",
       "\\item 13\n",
       "\\end{enumerate*}\n"
      ],
      "text/markdown": [
       "1. 15298\n",
       "2. 13\n",
       "\n",
       "\n"
      ],
      "text/plain": [
       "[1] 15298    13"
      ]
     },
     "metadata": {},
     "output_type": "display_data"
    },
    {
     "data": {
      "image/png": "[encoded data removed]",
      "text/plain": [
       "plot without title"
      ]
     },
     "metadata": {},
     "output_type": "display_data"
    }
   ],
   "source": [
    "options(repr.plot.width = 4, repr.plot.height = 3)\n",
    "# filter unkonwn\n",
    "head(input.umap.res, 1)\n",
    "dim(input.umap.res)\n",
    "ggplot(output.motif.pt %>% select(UMAP1, UMAP2, ps) %>% distinct, aes(UMAP1, UMAP2)) + \n",
    "    geom_point(aes(color = ps), size = 0.1, alpha = 0.5) + scale_color_viridis_c(option='C') + \n",
    "    theme_pubr()\n",
    "fn <- \"../figures/Fig2/subfigs/fig2e.PS_UMAP_qc.pdf\"\n",
    "ggsave(fn, width = 4, height = 3, units = \"in\", useDingbats = F)\n",
    "system(paste0(\"open \", fn))"
   ]
  },
  {
   "cell_type": "code",
   "execution_count": 43,
   "metadata": {},
   "outputs": [
    {
     "data": {
      "text/html": [
       "<table>\n",
       "<caption>A data.table: 1 × 6</caption>\n",
       "<thead>\n",
       "\t<tr><th scope=col>enrichedIn</th><th scope=col>celltype.label</th><th scope=col>motif</th><th scope=col>delta</th><th scope=col>selected</th><th scope=col>FDR</th></tr>\n",
       "\t<tr><th scope=col>&lt;chr&gt;</th><th scope=col>&lt;chr&gt;</th><th scope=col>&lt;chr&gt;</th><th scope=col>&lt;dbl&gt;</th><th scope=col>&lt;lgl&gt;</th><th scope=col>&lt;dbl&gt;</th></tr>\n",
       "</thead>\n",
       "<tbody>\n",
       "\t<tr><td>alpha_1</td><td>alpha (N=180)</td><td>NEUROD1</td><td>1.807373</td><td>TRUE</td><td>2.200442e-238</td></tr>\n",
       "</tbody>\n",
       "</table>\n"
      ],
      "text/latex": [
       "A data.table: 1 × 6\n",
       "\\begin{tabular}{r|llllll}\n",
       " enrichedIn & celltype.label & motif & delta & selected & FDR\\\\\n",
       " <chr> & <chr> & <chr> & <dbl> & <lgl> & <dbl>\\\\\n",
       "\\hline\n",
       "\t alpha\\_1 & alpha (N=180) & NEUROD1 & 1.807373 & TRUE & 2.200442e-238\\\\\n",
       "\\end{tabular}\n"
      ],
      "text/markdown": [
       "\n",
       "A data.table: 1 × 6\n",
       "\n",
       "| enrichedIn &lt;chr&gt; | celltype.label &lt;chr&gt; | motif &lt;chr&gt; | delta &lt;dbl&gt; | selected &lt;lgl&gt; | FDR &lt;dbl&gt; |\n",
       "|---|---|---|---|---|---|\n",
       "| alpha_1 | alpha (N=180) | NEUROD1 | 1.807373 | TRUE | 2.200442e-238 |\n",
       "\n"
      ],
      "text/plain": [
       "  enrichedIn celltype.label motif   delta    selected FDR          \n",
       "1 alpha_1    alpha (N=180)  NEUROD1 1.807373 TRUE     2.200442e-238"
      ]
     },
     "metadata": {},
     "output_type": "display_data"
    }
   ],
   "source": [
    "fread(\"../figures/Fig2/subfigs/fig2_sub_vs_sub.volcation.motif_selection.csv\")%>%head(1)"
   ]
  },
  {
   "cell_type": "code",
   "execution_count": 44,
   "metadata": {},
   "outputs": [
    {
     "data": {
      "text/html": [
       "<dl>\n",
       "\t<dt>$alpha</dt>\n",
       "\t\t<dd>180</dd>\n",
       "\t<dt>$beta</dt>\n",
       "\t\t<dd>80</dd>\n",
       "\t<dt>$delta</dt>\n",
       "\t\t<dd>155</dd>\n",
       "</dl>\n"
      ],
      "text/latex": [
       "\\begin{description}\n",
       "\\item[\\$alpha] 180\n",
       "\\item[\\$beta] 80\n",
       "\\item[\\$delta] 155\n",
       "\\end{description}\n"
      ],
      "text/markdown": [
       "$alpha\n",
       ":   180\n",
       "$beta\n",
       ":   80\n",
       "$delta\n",
       ":   155\n",
       "\n",
       "\n"
      ],
      "text/plain": [
       "$alpha\n",
       "[1] 180\n",
       "\n",
       "$beta\n",
       "[1] 80\n",
       "\n",
       "$delta\n",
       "[1] 155\n"
      ]
     },
     "metadata": {},
     "output_type": "display_data"
    }
   ],
   "source": [
    "dmotifs.list <- sapply(c(\"alpha\", \"beta\", \"delta\"), function(x) fread(\"../figures/Fig2/subfigs/fig2_sub_vs_sub.volcation.motif_selection.csv\") %>% \n",
    "    filter(selected & grepl(x, enrichedIn)) %>% pull(motif))\n",
    "lapply(dmotifs.list, length)"
   ]
  },
  {
   "cell_type": "code",
   "execution_count": 47,
   "metadata": {},
   "outputs": [
    {
     "data": {
      "image/png": "[encoded data removed]",
      "text/plain": [
       "plot without title"
      ]
     },
     "metadata": {},
     "output_type": "display_data"
    }
   ],
   "source": [
    "options(repr.plot.width = 4, repr.plot.height = 3)\n",
    "\n",
    "tmp <- gplots::venn(dmotifs.list)\n",
    "\n",
    "dmotifs.list.inter <- attr(tmp, \"intersections\")"
   ]
  },
  {
   "cell_type": "code",
   "execution_count": 49,
   "metadata": {},
   "outputs": [
    {
     "name": "stdout",
     "output_type": "stream",
     "text": [
      "List of 7\n",
      " $ alpha:beta      : chr [1:2] \"NRL\" \"Mafb\"\n",
      " $ beta:delta      : chr [1:3] \"TEAD1\" \"HNF1A\" \"HNF1B\"\n",
      " $ alpha:delta     : chr [1:49] \"STAT3\" \"Stat4\" \"FOXA1\" \"SNAI2\" ...\n",
      " $ alpha:beta:delta: chr [1:73] \"NEUROD1\" \"Rfx1\" \"TAL1::TCF3\" \"ASCL1\" ...\n",
      " $ beta            : chr [1:2] \"MAFG\" \"PBX2\"\n",
      " $ alpha           : chr [1:56] \"GATA2\" \"Gata4\" \"GATA3\" \"GATA6\" ...\n",
      " $ delta           : chr [1:30] \"Nkx3-1\" \"ISL2\" \"NKX3-2\" \"NFATC1\" ...\n"
     ]
    }
   ],
   "source": [
    "dmotifs.list.inter%>%str"
   ]
  },
  {
   "cell_type": "code",
   "execution_count": null,
   "metadata": {},
   "outputs": [],
   "source": []
  }
 ],
 "metadata": {
  "kernelspec": {
   "display_name": "R",
   "language": "R",
   "name": "ir"
  },
  "language_info": {
   "codemirror_mode": "r",
   "file_extension": ".r",
   "mimetype": "text/x-r-source",
   "name": "R",
   "pygments_lexer": "r",
   "version": "3.5.1"
  }
 },
 "nbformat": 4,
 "nbformat_minor": 2
}
