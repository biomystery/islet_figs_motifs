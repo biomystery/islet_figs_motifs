{
 "cells": [
  {
   "cell_type": "code",
   "execution_count": 2,
   "metadata": {},
   "outputs": [],
   "source": [
    "require(tidyverse)\n",
    "require(data.table)\n",
    "require(ggplot2)\n",
    "require(RColorBrewer)\n",
    "require(extrafont)  # fonts \n",
    "# https://blog.revolutionanalytics.com/2012/09/how-to-use-your-favorite-fonts-in-r-charts.html\n",
    "suppressMessages(loadfonts())\n",
    "require(ggthemes)\n",
    "\n",
    "require(ggpubr)\n",
    "\n",
    "\n",
    "theme_pubr<- function (base_size = 11, base_family = \"Arial\") \n",
    "{\n",
    "    theme_foundation() + theme(line = element_line(colour = \"black\", \n",
    "        lineend = \"round\", linetype = \"solid\"), rect = element_rect(fill = \"white\", \n",
    "        colour = \"black\", linetype = \"solid\"), text = element_text(colour = \"black\", \n",
    "        face = \"plain\", family = base_family, size = base_size, \n",
    "        vjust = 0.5, hjust = 0.5, lineheight = 0.5), panel.background = element_blank(), \n",
    "        plot.background = element_blank(), panel.border = element_rect(colour = \"black\", \n",
    "            fill = NA), panel.grid = element_blank(), strip.background = element_rect(colour = NA), \n",
    "        legend.key = element_rect(colour = NA), title = element_text(size = rel(1)), \n",
    "        plot.title = element_text(size = rel(1.2), face = \"bold\"), \n",
    "        strip.text = element_text(), axis.ticks.length = unit(1, \n",
    "    \"mm\"))\n",
    "}\n"
   ]
  },
  {
   "cell_type": "code",
   "execution_count": 3,
   "metadata": {},
   "outputs": [
    {
     "data": {
      "text/html": [
       "<ol class=list-inline>\n",
       "\t<li>-47.7976290321218</li>\n",
       "\t<li>20.4293943039756</li>\n",
       "</ol>\n"
      ],
      "text/latex": [
       "\\begin{enumerate*}\n",
       "\\item -47.7976290321218\n",
       "\\item 20.4293943039756\n",
       "\\end{enumerate*}\n"
      ],
      "text/markdown": [
       "1. -47.7976290321218\n",
       "2. 20.4293943039756\n",
       "\n",
       "\n"
      ],
      "text/plain": [
       "[1] -47.79763  20.42939"
      ]
     },
     "metadata": {},
     "output_type": "display_data"
    }
   ],
   "source": [
    "res.gsea <- do.call(rbind, lapply(c(\"alpha\", \"beta\", \"delta\"), function(ct) fread(paste0(\"../figures/Fig2/subfigs/GSEA_\", \n",
    "    ct, \"_res_final.csv\")) %>% mutate(ranklist = ct)))\n",
    "# res.gsea %>% head(1) res.gsea %>% str res.gsea %>% pull(Term) %>% unique\n",
    "res.gsea <- res.gsea %>% mutate(glist_set = ifelse(Term %in% paste0(rep(c(\"Alpha\", \n",
    "    \"Beta\", \"Delta\"), each = 2), 1:2), \"thisStudy\", ifelse(grepl(\"xin\", Term), \"Xin_et_al\", \n",
    "    ifelse(grepl(\"Mawla\", Term), \"Mawla_et_al\", \"patchSeq\")))) %>% mutate(significance = ifelse(fdr < \n",
    "    0.01, \"**\", ifelse(fdr < 0.1, \"*\", NA))) %>% mutate(glist_set = factor(glist_set, \n",
    "    levels = c(\"thisStudy\", \"Xin_et_al\", \"Mawla_et_al\", \"patchSeq\")), ranklist = factor(ranklist, \n",
    "    levels = rev(c(\"alpha\", \"beta\", \"delta\"))))\n",
    "options(repr.plot.width = 5, repr.plot.height = 3)\n",
    "rg <- res.gsea$nes %>% range(na.rm = T)\n",
    "rg"
   ]
  },
  {
   "cell_type": "code",
   "execution_count": 7,
   "metadata": {},
   "outputs": [
    {
     "data": {},
     "metadata": {},
     "output_type": "display_data"
    },
    {
     "data": {
      "image/png": "[encoded data removed]",
      "text/plain": [
       "plot without title"
      ]
     },
     "metadata": {},
     "output_type": "display_data"
    }
   ],
   "source": [
    "res.gsea <- do.call(rbind, lapply(c(\"alpha\", \"beta\", \"delta\"), function(ct) fread(paste0(\"../figures/Fig2/subfigs/GSEA_\", \n",
    "    ct, \"_res_final.csv\")) %>% mutate(ranklist = ct)))\n",
    "# res.gsea %>% head(1) res.gsea %>% str res.gsea %>% pull(Term) %>% unique\n",
    "res.gsea <- res.gsea %>% mutate(glist_set = ifelse(Term %in% paste0(rep(c(\"Alpha\", \n",
    "    \"Beta\", \"Delta\"), each = 2), 1:2), \"thisStudy\", ifelse(grepl(\"xin\", Term), \"Xin_et_al\", \n",
    "    ifelse(grepl(\"Mawla\", Term), \"Mawla_et_al\", \"patchSeq\")))) %>% mutate(significance = ifelse(fdr < \n",
    "    0.01, \"**\", ifelse(fdr < 0.1, \"*\", NA))) %>% mutate(glist_set = factor(glist_set, \n",
    "    levels = c(\"thisStudy\", \"Xin_et_al\", \"Mawla_et_al\", \"patchSeq\")), ranklist = factor(ranklist, \n",
    "    levels = rev(c(\"alpha\", \"beta\", \"delta\"))))\n",
    "options(repr.plot.width = 5, repr.plot.height = 3)\n",
    "rg <- res.gsea$nes %>% range(na.rm = T)\n",
    "# rg.max <- min(abs(rg)) %>% floor\n",
    "ggplot(res.gsea %>% filter(glist_set == \"thisStudy\") %>% mutate(Term = factor(Term, \n",
    "    levels = paste0(c(\"Alpha\", \"Beta\", \"Delta\"), rep(c(1, 2), each = 3)))), aes(Term, \n",
    "    ranklist)) + geom_tile(aes(fill = nes)) + geom_text(aes(label = significance), \n",
    "    hjust = 0.5, vjust = 0.75) + facet_grid(. ~ glist_set, scales = \"free_x\", space = \"free\") + \n",
    "    scale_fill_gradientn(colors = c(\"dodgerblue2\", \"white\", \"#FCBBA1\", \"#FC9272\", \n",
    "        \"#FB6A4A\", \"#EF3B2C\", \"#CB181D\"), values = scales::rescale(c(rg[1], seq(0, \n",
    "        -rg[1], length.out = 6))), limits = c(rg[1], -rg[1]), guide = guide_colourbar(ticks.colour = \"black\", \n",
    "        title.position = \"top\", title.hjust = 0.5, nbins = 10), breaks = c(-45, 0, \n",
    "        45)) + theme_pubr() + theme(axis.title.x = element_blank(), aspect.ratio = 1, \n",
    "    legend.box.background = element_blank(), legend.box.margin = margin(0, 0, 0, \n",
    "        0), legend.key.width = unit(\"3\", \"mm\"), legend.key.height = unit(\"2.5\", \"mm\"), \n",
    "    legend.position = \"top\", axis.text.x = element_text(angle = 45, hjust = 1)) + \n",
    "    coord_cartesian(expand = F, clip = \"off\")\n",
    "ggsave(filename = \"../figures/Fig2/subfigs/fig_2B.prom_GSEA_a.pdf\", width = 5, height = 3, \n",
    "    useDingbats = F)\n",
    "system(\"open ../figures/Fig2/subfigs/fig_2B.prom_GSEA_a.pdf\")\n",
    "fwrite(res.gsea %>% arrange(glist_set, ranklist), \"../figures/Fig2/subfigs/fig_2B.prom_GSEA_a.csv\")\n",
    "system(\"open ../figures/Fig2/subfigs/fig_2B.prom_GSEA.csv\")"
   ]
  },
  {
   "cell_type": "code",
   "execution_count": 5,
   "metadata": {},
   "outputs": [
    {
     "data": {
      "text/html": [
       "<ol class=list-inline>\n",
       "\t<li>-4.0373685966358</li>\n",
       "\t<li>1.85955658717669</li>\n",
       "</ol>\n"
      ],
      "text/latex": [
       "\\begin{enumerate*}\n",
       "\\item -4.0373685966358\n",
       "\\item 1.85955658717669\n",
       "\\end{enumerate*}\n"
      ],
      "text/markdown": [
       "1. -4.0373685966358\n",
       "2. 1.85955658717669\n",
       "\n",
       "\n"
      ],
      "text/plain": [
       "[1] -4.037369  1.859557"
      ]
     },
     "metadata": {},
     "output_type": "display_data"
    }
   ],
   "source": [
    "options(repr.plot.width = 5, repr.plot.height = 3)\n",
    "res.gsea <- res.gsea %>% filter(glist_set != \"thisStudy\")\n",
    "rg <- res.gsea$nes %>% range(na.rm = T)\n",
    "rg\n"
   ]
  },
  {
   "cell_type": "code",
   "execution_count": 6,
   "metadata": {},
   "outputs": [
    {
     "data": {
      "text/html": [
       "<ol class=list-inline>\n",
       "\t<li>-4.0373685966358</li>\n",
       "\t<li>1.85955658717669</li>\n",
       "</ol>\n"
      ],
      "text/latex": [
       "\\begin{enumerate*}\n",
       "\\item -4.0373685966358\n",
       "\\item 1.85955658717669\n",
       "\\end{enumerate*}\n"
      ],
      "text/markdown": [
       "1. -4.0373685966358\n",
       "2. 1.85955658717669\n",
       "\n",
       "\n"
      ],
      "text/plain": [
       "[1] -4.037369  1.859557"
      ]
     },
     "metadata": {},
     "output_type": "display_data"
    },
    {
     "name": "stderr",
     "output_type": "stream",
     "text": [
      "Warning message:\n",
      "“Removed 15 rows containing missing values (geom_text).”"
     ]
    },
    {
     "data": {},
     "metadata": {},
     "output_type": "display_data"
    },
    {
     "name": "stderr",
     "output_type": "stream",
     "text": [
      "Warning message:\n",
      "“Removed 15 rows containing missing values (geom_text).”"
     ]
    },
    {
     "data": {
      "image/png": "[encoded data removed]",
      "text/plain": [
       "plot without title"
      ]
     },
     "metadata": {},
     "output_type": "display_data"
    }
   ],
   "source": [
    "options(repr.plot.width = 5, repr.plot.height = 3)\n",
    "res.gsea <- res.gsea %>% filter(glist_set != \"thisStudy\")\n",
    "rg <- res.gsea$nes %>% range(na.rm = T)\n",
    "rg\n",
    "ggplot(res.gsea, aes(Term, ranklist)) + geom_tile(aes(fill = nes)) + geom_text(aes(label = significance), \n",
    "    hjust = 0.5, vjust = 0.75) + facet_grid(. ~ glist_set, scales = \"free_x\", space = \"free\") + \n",
    "    scale_fill_gradientn(colors = c(\"dodgerblue2\", \"white\", \"#FCBBA1\", \"#FC9272\", \n",
    "        \"#FB6A4A\", \"#EF3B2C\", \"#CB181D\"), values = scales::rescale(c(rg[1], seq(0, \n",
    "        -rg[1], length.out = 6))), limits = c(rg[1], -rg[1]), guide = guide_colourbar(ticks.colour = \"black\", \n",
    "        title.position = \"top\", title.hjust = 0.5, nbins = 10), breaks = c(-4, 0, \n",
    "        4)) + theme_pubr() + theme(axis.title.x = element_blank(), aspect.ratio = 1, \n",
    "    legend.box.background = element_blank(), legend.box.margin = margin(0, 0, 0, \n",
    "        0), legend.key.width = unit(\"3\", \"mm\"), legend.key.height = unit(\"2.5\", \"mm\"), \n",
    "    legend.position = \"top\", axis.text.x = element_text(angle = 45, hjust = 1)) + \n",
    "    coord_cartesian(expand = F, clip = \"off\")\n",
    "ggsave(filename = \"../figures/Fig2/subfigs/fig_2B.prom_GSEA_b.pdf\", width = 5, height = 3, \n",
    "    useDingbats = F)\n",
    "system(\"open ../figures/Fig2/subfigs/fig_2B.prom_GSEA_b.pdf\")"
   ]
  },
  {
   "cell_type": "code",
   "execution_count": null,
   "metadata": {},
   "outputs": [],
   "source": []
  }
 ],
 "metadata": {
  "kernelspec": {
   "display_name": "R",
   "language": "R",
   "name": "ir"
  },
  "language_info": {
   "codemirror_mode": "r",
   "file_extension": ".r",
   "mimetype": "text/x-r-source",
   "name": "R",
   "pygments_lexer": "r",
   "version": "3.5.1"
  }
 },
 "nbformat": 4,
 "nbformat_minor": 2
}
