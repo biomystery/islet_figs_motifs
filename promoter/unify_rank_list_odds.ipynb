{
 "cells": [
  {
   "cell_type": "code",
   "execution_count": 2,
   "metadata": {},
   "outputs": [],
   "source": [
    "require(data.table)\n",
    "require(tidyverse)"
   ]
  },
  {
   "cell_type": "code",
   "execution_count": 3,
   "metadata": {},
   "outputs": [
    {
     "data": {
      "text/html": [
       "<table>\n",
       "<thead><tr><th scope=col>prom_peak</th><th scope=col>gene</th><th scope=col>celltype</th><th scope=col>type1_frac</th><th scope=col>type2_frac</th><th scope=col>odds</th><th scope=col>pval</th><th scope=col>FDR</th><th scope=col>padj.Bonferroni</th><th scope=col>FDR.BY</th><th scope=col>mean_frac_open</th></tr></thead>\n",
       "<tbody>\n",
       "\t<tr><td>1:10002866-10003720</td><td>LZIC               </td><td>alpha              </td><td>0.05374687         </td><td>0.06523856         </td><td>0.8138749          </td><td>0.08365895         </td><td>0.1429331          </td><td>1                  </td><td>1                  </td><td>0.05949271         </td></tr>\n",
       "</tbody>\n",
       "</table>\n"
      ],
      "text/latex": [
       "\\begin{tabular}{r|lllllllllll}\n",
       " prom\\_peak & gene & celltype & type1\\_frac & type2\\_frac & odds & pval & FDR & padj.Bonferroni & FDR.BY & mean\\_frac\\_open\\\\\n",
       "\\hline\n",
       "\t 1:10002866-10003720 & LZIC                & alpha               & 0.05374687          & 0.06523856          & 0.8138749           & 0.08365895          & 0.1429331           & 1                   & 1                   & 0.05949271         \\\\\n",
       "\\end{tabular}\n"
      ],
      "text/markdown": [
       "\n",
       "prom_peak | gene | celltype | type1_frac | type2_frac | odds | pval | FDR | padj.Bonferroni | FDR.BY | mean_frac_open | \n",
       "|---|\n",
       "| 1:10002866-10003720 | LZIC                | alpha               | 0.05374687          | 0.06523856          | 0.8138749           | 0.08365895          | 0.1429331           | 1                   | 1                   | 0.05949271          | \n",
       "\n",
       "\n"
      ],
      "text/plain": [
       "  prom_peak           gene celltype type1_frac type2_frac odds      pval      \n",
       "1 1:10002866-10003720 LZIC alpha    0.05374687 0.06523856 0.8138749 0.08365895\n",
       "  FDR       padj.Bonferroni FDR.BY mean_frac_open\n",
       "1 0.1429331 1               1      0.05949271    "
      ]
     },
     "metadata": {},
     "output_type": "display_data"
    },
    {
     "data": {
      "text/html": [
       "53645"
      ],
      "text/latex": [
       "53645"
      ],
      "text/markdown": [
       "53645"
      ],
      "text/plain": [
       "[1] 53645"
      ]
     },
     "metadata": {},
     "output_type": "display_data"
    },
    {
     "data": {
      "text/html": [
       "<table>\n",
       "<thead><tr><th scope=col>prom_peak</th><th scope=col>gene</th><th scope=col>celltype</th><th scope=col>type1_frac</th><th scope=col>type2_frac</th><th scope=col>odds</th><th scope=col>pval</th><th scope=col>FDR</th><th scope=col>padj.Bonferroni</th><th scope=col>FDR.BY</th><th scope=col>mean_frac_open</th></tr></thead>\n",
       "<tbody>\n",
       "\t<tr><td>12:861114-862665</td><td>WNK1            </td><td>alpha           </td><td>0.18416490      </td><td>0.25121714      </td><td>0.6728856       </td><td>8.253996e-07    </td><td>1.271489e-05    </td><td>0.01404995      </td><td>0.0001312114    </td><td>0.21769102      </td></tr>\n",
       "\t<tr><td>12:863088-863315</td><td>WNK1            </td><td>alpha           </td><td>0.02388750      </td><td>0.04673807      </td><td>0.4991819       </td><td>9.694068e-05    </td><td>6.307814e-04    </td><td>1.00000000      </td><td>0.0065093532    </td><td>0.03531278      </td></tr>\n",
       "\t<tr><td>12:861114-862665</td><td>WNK1            </td><td>beta            </td><td>0.18934348      </td><td>0.20359458      </td><td>0.9136650       </td><td>6.341214e-02    </td><td>1.694061e-01    </td><td>1.00000000      </td><td>1.0000000000    </td><td>0.19646903      </td></tr>\n",
       "\t<tr><td>12:861114-862665</td><td>WNK1            </td><td>delta           </td><td>0.14644351      </td><td>0.20258621      </td><td>0.6756949       </td><td>3.852727e-02    </td><td>1.544062e-01    </td><td>1.00000000      </td><td>1.0000000000    </td><td>0.17451486      </td></tr>\n",
       "\t<tr><td>12:971838-972038</td><td>WNK1            </td><td>delta           </td><td>0.00209205      </td><td>0.00862069      </td><td>0.2416201       </td><td>2.502162e-01    </td><td>3.986802e-01    </td><td>1.00000000      </td><td>1.0000000000    </td><td>0.00535637      </td></tr>\n",
       "</tbody>\n",
       "</table>\n"
      ],
      "text/latex": [
       "\\begin{tabular}{r|lllllllllll}\n",
       " prom\\_peak & gene & celltype & type1\\_frac & type2\\_frac & odds & pval & FDR & padj.Bonferroni & FDR.BY & mean\\_frac\\_open\\\\\n",
       "\\hline\n",
       "\t 12:861114-862665 & WNK1             & alpha            & 0.18416490       & 0.25121714       & 0.6728856        & 8.253996e-07     & 1.271489e-05     & 0.01404995       & 0.0001312114     & 0.21769102      \\\\\n",
       "\t 12:863088-863315 & WNK1             & alpha            & 0.02388750       & 0.04673807       & 0.4991819        & 9.694068e-05     & 6.307814e-04     & 1.00000000       & 0.0065093532     & 0.03531278      \\\\\n",
       "\t 12:861114-862665 & WNK1             & beta             & 0.18934348       & 0.20359458       & 0.9136650        & 6.341214e-02     & 1.694061e-01     & 1.00000000       & 1.0000000000     & 0.19646903      \\\\\n",
       "\t 12:861114-862665 & WNK1             & delta            & 0.14644351       & 0.20258621       & 0.6756949        & 3.852727e-02     & 1.544062e-01     & 1.00000000       & 1.0000000000     & 0.17451486      \\\\\n",
       "\t 12:971838-972038 & WNK1             & delta            & 0.00209205       & 0.00862069       & 0.2416201        & 2.502162e-01     & 3.986802e-01     & 1.00000000       & 1.0000000000     & 0.00535637      \\\\\n",
       "\\end{tabular}\n"
      ],
      "text/markdown": [
       "\n",
       "prom_peak | gene | celltype | type1_frac | type2_frac | odds | pval | FDR | padj.Bonferroni | FDR.BY | mean_frac_open | \n",
       "|---|---|---|---|---|\n",
       "| 12:861114-862665 | WNK1             | alpha            | 0.18416490       | 0.25121714       | 0.6728856        | 8.253996e-07     | 1.271489e-05     | 0.01404995       | 0.0001312114     | 0.21769102       | \n",
       "| 12:863088-863315 | WNK1             | alpha            | 0.02388750       | 0.04673807       | 0.4991819        | 9.694068e-05     | 6.307814e-04     | 1.00000000       | 0.0065093532     | 0.03531278       | \n",
       "| 12:861114-862665 | WNK1             | beta             | 0.18934348       | 0.20359458       | 0.9136650        | 6.341214e-02     | 1.694061e-01     | 1.00000000       | 1.0000000000     | 0.19646903       | \n",
       "| 12:861114-862665 | WNK1             | delta            | 0.14644351       | 0.20258621       | 0.6756949        | 3.852727e-02     | 1.544062e-01     | 1.00000000       | 1.0000000000     | 0.17451486       | \n",
       "| 12:971838-972038 | WNK1             | delta            | 0.00209205       | 0.00862069       | 0.2416201        | 2.502162e-01     | 3.986802e-01     | 1.00000000       | 1.0000000000     | 0.00535637       | \n",
       "\n",
       "\n"
      ],
      "text/plain": [
       "  prom_peak        gene celltype type1_frac type2_frac odds      pval        \n",
       "1 12:861114-862665 WNK1 alpha    0.18416490 0.25121714 0.6728856 8.253996e-07\n",
       "2 12:863088-863315 WNK1 alpha    0.02388750 0.04673807 0.4991819 9.694068e-05\n",
       "3 12:861114-862665 WNK1 beta     0.18934348 0.20359458 0.9136650 6.341214e-02\n",
       "4 12:861114-862665 WNK1 delta    0.14644351 0.20258621 0.6756949 3.852727e-02\n",
       "5 12:971838-972038 WNK1 delta    0.00209205 0.00862069 0.2416201 2.502162e-01\n",
       "  FDR          padj.Bonferroni FDR.BY       mean_frac_open\n",
       "1 1.271489e-05 0.01404995      0.0001312114 0.21769102    \n",
       "2 6.307814e-04 1.00000000      0.0065093532 0.03531278    \n",
       "3 1.694061e-01 1.00000000      1.0000000000 0.19646903    \n",
       "4 1.544062e-01 1.00000000      1.0000000000 0.17451486    \n",
       "5 3.986802e-01 1.00000000      1.0000000000 0.00535637    "
      ]
     },
     "metadata": {},
     "output_type": "display_data"
    }
   ],
   "source": [
    "rnk.old <- fread(\"../figures/Fig2/subfigs/fig_2.prom.sub_vs_sub.fisher.csv\") %>% \n",
    "    mutate(mean_frac_open = (type1_frac + type2_frac)/2) \n",
    "rnk.old %>% head(1)\n",
    "rnk.old %>% nrow()\n",
    "rnk.old %>% filter(gene == \"WNK1\")"
   ]
  },
  {
   "cell_type": "code",
   "execution_count": 4,
   "metadata": {
    "scrolled": true
   },
   "outputs": [
    {
     "data": {
      "text/html": [
       "<table>\n",
       "<thead><tr><th scope=col>prom_peak</th><th scope=col>gene</th><th scope=col>celltype</th><th scope=col>type1_frac</th><th scope=col>type2_frac</th><th scope=col>odds</th><th scope=col>pval</th><th scope=col>FDR</th><th scope=col>padj.Bonferroni</th><th scope=col>FDR.BY</th><th scope=col>mean_frac_open</th></tr></thead>\n",
       "<tbody>\n",
       "\t<tr><td>1:10002866-10003720</td><td>LZIC               </td><td>alpha              </td><td>0.05374687         </td><td>0.06523856         </td><td>0.8138749          </td><td>0.08365895         </td><td>0.1429331          </td><td>1                  </td><td>1                  </td><td>0.05949271         </td></tr>\n",
       "</tbody>\n",
       "</table>\n"
      ],
      "text/latex": [
       "\\begin{tabular}{r|lllllllllll}\n",
       " prom\\_peak & gene & celltype & type1\\_frac & type2\\_frac & odds & pval & FDR & padj.Bonferroni & FDR.BY & mean\\_frac\\_open\\\\\n",
       "\\hline\n",
       "\t 1:10002866-10003720 & LZIC                & alpha               & 0.05374687          & 0.06523856          & 0.8138749           & 0.08365895          & 0.1429331           & 1                   & 1                   & 0.05949271         \\\\\n",
       "\\end{tabular}\n"
      ],
      "text/markdown": [
       "\n",
       "prom_peak | gene | celltype | type1_frac | type2_frac | odds | pval | FDR | padj.Bonferroni | FDR.BY | mean_frac_open | \n",
       "|---|\n",
       "| 1:10002866-10003720 | LZIC                | alpha               | 0.05374687          | 0.06523856          | 0.8138749           | 0.08365895          | 0.1429331           | 1                   | 1                   | 0.05949271          | \n",
       "\n",
       "\n"
      ],
      "text/plain": [
       "  prom_peak           gene celltype type1_frac type2_frac odds      pval      \n",
       "1 1:10002866-10003720 LZIC alpha    0.05374687 0.06523856 0.8138749 0.08365895\n",
       "  FDR       padj.Bonferroni FDR.BY mean_frac_open\n",
       "1 0.1429331 1               1      0.05949271    "
      ]
     },
     "metadata": {},
     "output_type": "display_data"
    },
    {
     "data": {
      "text/html": [
       "43508"
      ],
      "text/latex": [
       "43508"
      ],
      "text/markdown": [
       "43508"
      ],
      "text/plain": [
       "[1] 43508"
      ]
     },
     "metadata": {},
     "output_type": "display_data"
    },
    {
     "data": {
      "text/html": [
       "<table>\n",
       "<thead><tr><th scope=col>prom_peak</th><th scope=col>gene</th><th scope=col>celltype</th><th scope=col>type1_frac</th><th scope=col>type2_frac</th><th scope=col>odds</th><th scope=col>pval</th><th scope=col>FDR</th><th scope=col>padj.Bonferroni</th><th scope=col>FDR.BY</th><th scope=col>mean_frac_open</th></tr></thead>\n",
       "<tbody>\n",
       "\t<tr><td>12:861114-862665</td><td>WNK1            </td><td>alpha           </td><td>0.1841649       </td><td>0.2512171       </td><td>0.6728856       </td><td>8.253996e-07    </td><td>1.271489e-05    </td><td>0.01404995      </td><td>0.0001312114    </td><td>0.2176910       </td></tr>\n",
       "\t<tr><td>12:861114-862665</td><td>WNK1            </td><td>beta            </td><td>0.1893435       </td><td>0.2035946       </td><td>0.9136650       </td><td>6.341214e-02    </td><td>1.694061e-01    </td><td>1.00000000      </td><td>1.0000000000    </td><td>0.1964690       </td></tr>\n",
       "\t<tr><td>12:861114-862665</td><td>WNK1            </td><td>delta           </td><td>0.1464435       </td><td>0.2025862       </td><td>0.6756949       </td><td>3.852727e-02    </td><td>1.544062e-01    </td><td>1.00000000      </td><td>1.0000000000    </td><td>0.1745149       </td></tr>\n",
       "</tbody>\n",
       "</table>\n"
      ],
      "text/latex": [
       "\\begin{tabular}{r|lllllllllll}\n",
       " prom\\_peak & gene & celltype & type1\\_frac & type2\\_frac & odds & pval & FDR & padj.Bonferroni & FDR.BY & mean\\_frac\\_open\\\\\n",
       "\\hline\n",
       "\t 12:861114-862665 & WNK1             & alpha            & 0.1841649        & 0.2512171        & 0.6728856        & 8.253996e-07     & 1.271489e-05     & 0.01404995       & 0.0001312114     & 0.2176910       \\\\\n",
       "\t 12:861114-862665 & WNK1             & beta             & 0.1893435        & 0.2035946        & 0.9136650        & 6.341214e-02     & 1.694061e-01     & 1.00000000       & 1.0000000000     & 0.1964690       \\\\\n",
       "\t 12:861114-862665 & WNK1             & delta            & 0.1464435        & 0.2025862        & 0.6756949        & 3.852727e-02     & 1.544062e-01     & 1.00000000       & 1.0000000000     & 0.1745149       \\\\\n",
       "\\end{tabular}\n"
      ],
      "text/markdown": [
       "\n",
       "prom_peak | gene | celltype | type1_frac | type2_frac | odds | pval | FDR | padj.Bonferroni | FDR.BY | mean_frac_open | \n",
       "|---|---|---|\n",
       "| 12:861114-862665 | WNK1             | alpha            | 0.1841649        | 0.2512171        | 0.6728856        | 8.253996e-07     | 1.271489e-05     | 0.01404995       | 0.0001312114     | 0.2176910        | \n",
       "| 12:861114-862665 | WNK1             | beta             | 0.1893435        | 0.2035946        | 0.9136650        | 6.341214e-02     | 1.694061e-01     | 1.00000000       | 1.0000000000     | 0.1964690        | \n",
       "| 12:861114-862665 | WNK1             | delta            | 0.1464435        | 0.2025862        | 0.6756949        | 3.852727e-02     | 1.544062e-01     | 1.00000000       | 1.0000000000     | 0.1745149        | \n",
       "\n",
       "\n"
      ],
      "text/plain": [
       "  prom_peak        gene celltype type1_frac type2_frac odds      pval        \n",
       "1 12:861114-862665 WNK1 alpha    0.1841649  0.2512171  0.6728856 8.253996e-07\n",
       "2 12:861114-862665 WNK1 beta     0.1893435  0.2035946  0.9136650 6.341214e-02\n",
       "3 12:861114-862665 WNK1 delta    0.1464435  0.2025862  0.6756949 3.852727e-02\n",
       "  FDR          padj.Bonferroni FDR.BY       mean_frac_open\n",
       "1 1.271489e-05 0.01404995      0.0001312114 0.2176910     \n",
       "2 1.694061e-01 1.00000000      1.0000000000 0.1964690     \n",
       "3 1.544062e-01 1.00000000      1.0000000000 0.1745149     "
      ]
     },
     "metadata": {},
     "output_type": "display_data"
    }
   ],
   "source": [
    "rnk.new <- rnk.old %>% group_by(celltype, gene) %>% top_n(1, mean_frac_open)\n",
    "rnk.new %>% head(1)\n",
    "rnk.new %>% nrow\n",
    "rnk.new %>% filter(gene == \"WNK1\")"
   ]
  },
  {
   "cell_type": "code",
   "execution_count": 5,
   "metadata": {},
   "outputs": [
    {
     "data": {
      "text/plain": [
       ".\n",
       "alpha  beta delta \n",
       "14893 14789 13826 "
      ]
     },
     "metadata": {},
     "output_type": "display_data"
    }
   ],
   "source": [
    "rnk.new%>%pull(celltype)%>%table"
   ]
  },
  {
   "cell_type": "code",
   "execution_count": 6,
   "metadata": {},
   "outputs": [],
   "source": [
    "fwrite(rnk.new, \"../figures/Fig2/subfigs/fig_2.prom.sub_vs_sub.fisher.uniq_gene.csv\")"
   ]
  },
  {
   "cell_type": "code",
   "execution_count": null,
   "metadata": {},
   "outputs": [],
   "source": []
  }
 ],
 "metadata": {
  "kernelspec": {
   "display_name": "R",
   "language": "R",
   "name": "ir"
  },
  "language_info": {
   "codemirror_mode": "r",
   "file_extension": ".r",
   "mimetype": "text/x-r-source",
   "name": "R",
   "pygments_lexer": "r",
   "version": "3.5.1"
  }
 },
 "nbformat": 4,
 "nbformat_minor": 2
}
