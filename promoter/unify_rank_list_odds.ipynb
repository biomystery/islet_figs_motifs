{
 "cells": [
  {
   "cell_type": "code",
   "execution_count": 2,
   "metadata": {},
   "outputs": [],
   "source": [
    "require(data.table)\n",
    "require(tidyverse)"
   ]
  },
  {
   "cell_type": "code",
   "execution_count": 14,
   "metadata": {},
   "outputs": [
    {
     "data": {
      "text/html": [
       "<table>\n",
       "<thead><tr><th scope=col>prom_peak</th><th scope=col>gene</th><th scope=col>celltype</th><th scope=col>mean_frac_open</th><th scope=col>odds</th></tr></thead>\n",
       "<tbody>\n",
       "\t<tr><td>1:10002866-10003720</td><td>LZIC               </td><td>alpha              </td><td>0.05949271         </td><td>0.8138749          </td></tr>\n",
       "</tbody>\n",
       "</table>\n"
      ],
      "text/latex": [
       "\\begin{tabular}{r|lllll}\n",
       " prom\\_peak & gene & celltype & mean\\_frac\\_open & odds\\\\\n",
       "\\hline\n",
       "\t 1:10002866-10003720 & LZIC                & alpha               & 0.05949271          & 0.8138749          \\\\\n",
       "\\end{tabular}\n"
      ],
      "text/markdown": [
       "\n",
       "prom_peak | gene | celltype | mean_frac_open | odds | \n",
       "|---|\n",
       "| 1:10002866-10003720 | LZIC                | alpha               | 0.05949271          | 0.8138749           | \n",
       "\n",
       "\n"
      ],
      "text/plain": [
       "  prom_peak           gene celltype mean_frac_open odds     \n",
       "1 1:10002866-10003720 LZIC alpha    0.05949271     0.8138749"
      ]
     },
     "metadata": {},
     "output_type": "display_data"
    },
    {
     "data": {
      "text/html": [
       "53645"
      ],
      "text/latex": [
       "53645"
      ],
      "text/markdown": [
       "53645"
      ],
      "text/plain": [
       "[1] 53645"
      ]
     },
     "metadata": {},
     "output_type": "display_data"
    },
    {
     "data": {
      "text/html": [
       "<table>\n",
       "<thead><tr><th scope=col>prom_peak</th><th scope=col>gene</th><th scope=col>celltype</th><th scope=col>mean_frac_open</th><th scope=col>odds</th></tr></thead>\n",
       "<tbody>\n",
       "\t<tr><td>12:861114-862665</td><td>WNK1            </td><td>alpha           </td><td>0.21769102      </td><td>0.6728856       </td></tr>\n",
       "\t<tr><td>12:863088-863315</td><td>WNK1            </td><td>alpha           </td><td>0.03531278      </td><td>0.4991819       </td></tr>\n",
       "\t<tr><td>12:861114-862665</td><td>WNK1            </td><td>beta            </td><td>0.19646903      </td><td>0.9136650       </td></tr>\n",
       "\t<tr><td>12:861114-862665</td><td>WNK1            </td><td>delta           </td><td>0.17451486      </td><td>0.6756949       </td></tr>\n",
       "\t<tr><td>12:971838-972038</td><td>WNK1            </td><td>delta           </td><td>0.00535637      </td><td>0.2416201       </td></tr>\n",
       "</tbody>\n",
       "</table>\n"
      ],
      "text/latex": [
       "\\begin{tabular}{r|lllll}\n",
       " prom\\_peak & gene & celltype & mean\\_frac\\_open & odds\\\\\n",
       "\\hline\n",
       "\t 12:861114-862665 & WNK1             & alpha            & 0.21769102       & 0.6728856       \\\\\n",
       "\t 12:863088-863315 & WNK1             & alpha            & 0.03531278       & 0.4991819       \\\\\n",
       "\t 12:861114-862665 & WNK1             & beta             & 0.19646903       & 0.9136650       \\\\\n",
       "\t 12:861114-862665 & WNK1             & delta            & 0.17451486       & 0.6756949       \\\\\n",
       "\t 12:971838-972038 & WNK1             & delta            & 0.00535637       & 0.2416201       \\\\\n",
       "\\end{tabular}\n"
      ],
      "text/markdown": [
       "\n",
       "prom_peak | gene | celltype | mean_frac_open | odds | \n",
       "|---|---|---|---|---|\n",
       "| 12:861114-862665 | WNK1             | alpha            | 0.21769102       | 0.6728856        | \n",
       "| 12:863088-863315 | WNK1             | alpha            | 0.03531278       | 0.4991819        | \n",
       "| 12:861114-862665 | WNK1             | beta             | 0.19646903       | 0.9136650        | \n",
       "| 12:861114-862665 | WNK1             | delta            | 0.17451486       | 0.6756949        | \n",
       "| 12:971838-972038 | WNK1             | delta            | 0.00535637       | 0.2416201        | \n",
       "\n",
       "\n"
      ],
      "text/plain": [
       "  prom_peak        gene celltype mean_frac_open odds     \n",
       "1 12:861114-862665 WNK1 alpha    0.21769102     0.6728856\n",
       "2 12:863088-863315 WNK1 alpha    0.03531278     0.4991819\n",
       "3 12:861114-862665 WNK1 beta     0.19646903     0.9136650\n",
       "4 12:861114-862665 WNK1 delta    0.17451486     0.6756949\n",
       "5 12:971838-972038 WNK1 delta    0.00535637     0.2416201"
      ]
     },
     "metadata": {},
     "output_type": "display_data"
    }
   ],
   "source": [
    "rnk.old <- fread(\"../figures/Fig2/subfigs/fig_2.prom.sub_vs_sub.fisher.csv\") %>% \n",
    "    mutate(mean_frac_open = (type1_frac + type2_frac)/2) %>% select(prom_peak, gene, \n",
    "    celltype, mean_frac_open, odds)\n",
    "rnk.old %>% head(1)\n",
    "rnk.old %>% nrow()\n",
    "rnk.old %>% filter(gene == \"WNK1\")"
   ]
  },
  {
   "cell_type": "code",
   "execution_count": 15,
   "metadata": {
    "scrolled": true
   },
   "outputs": [
    {
     "data": {
      "text/html": [
       "<table>\n",
       "<thead><tr><th scope=col>prom_peak</th><th scope=col>gene</th><th scope=col>celltype</th><th scope=col>mean_frac_open</th><th scope=col>odds</th></tr></thead>\n",
       "<tbody>\n",
       "\t<tr><td>1:10002866-10003720</td><td>LZIC               </td><td>alpha              </td><td>0.05949271         </td><td>0.8138749          </td></tr>\n",
       "</tbody>\n",
       "</table>\n"
      ],
      "text/latex": [
       "\\begin{tabular}{r|lllll}\n",
       " prom\\_peak & gene & celltype & mean\\_frac\\_open & odds\\\\\n",
       "\\hline\n",
       "\t 1:10002866-10003720 & LZIC                & alpha               & 0.05949271          & 0.8138749          \\\\\n",
       "\\end{tabular}\n"
      ],
      "text/markdown": [
       "\n",
       "prom_peak | gene | celltype | mean_frac_open | odds | \n",
       "|---|\n",
       "| 1:10002866-10003720 | LZIC                | alpha               | 0.05949271          | 0.8138749           | \n",
       "\n",
       "\n"
      ],
      "text/plain": [
       "  prom_peak           gene celltype mean_frac_open odds     \n",
       "1 1:10002866-10003720 LZIC alpha    0.05949271     0.8138749"
      ]
     },
     "metadata": {},
     "output_type": "display_data"
    },
    {
     "data": {
      "text/html": [
       "43508"
      ],
      "text/latex": [
       "43508"
      ],
      "text/markdown": [
       "43508"
      ],
      "text/plain": [
       "[1] 43508"
      ]
     },
     "metadata": {},
     "output_type": "display_data"
    },
    {
     "data": {
      "text/html": [
       "<table>\n",
       "<thead><tr><th scope=col>prom_peak</th><th scope=col>gene</th><th scope=col>celltype</th><th scope=col>mean_frac_open</th><th scope=col>odds</th></tr></thead>\n",
       "<tbody>\n",
       "\t<tr><td>12:861114-862665</td><td>WNK1            </td><td>alpha           </td><td>0.2176910       </td><td>0.6728856       </td></tr>\n",
       "\t<tr><td>12:861114-862665</td><td>WNK1            </td><td>beta            </td><td>0.1964690       </td><td>0.9136650       </td></tr>\n",
       "\t<tr><td>12:861114-862665</td><td>WNK1            </td><td>delta           </td><td>0.1745149       </td><td>0.6756949       </td></tr>\n",
       "</tbody>\n",
       "</table>\n"
      ],
      "text/latex": [
       "\\begin{tabular}{r|lllll}\n",
       " prom\\_peak & gene & celltype & mean\\_frac\\_open & odds\\\\\n",
       "\\hline\n",
       "\t 12:861114-862665 & WNK1             & alpha            & 0.2176910        & 0.6728856       \\\\\n",
       "\t 12:861114-862665 & WNK1             & beta             & 0.1964690        & 0.9136650       \\\\\n",
       "\t 12:861114-862665 & WNK1             & delta            & 0.1745149        & 0.6756949       \\\\\n",
       "\\end{tabular}\n"
      ],
      "text/markdown": [
       "\n",
       "prom_peak | gene | celltype | mean_frac_open | odds | \n",
       "|---|---|---|\n",
       "| 12:861114-862665 | WNK1             | alpha            | 0.2176910        | 0.6728856        | \n",
       "| 12:861114-862665 | WNK1             | beta             | 0.1964690        | 0.9136650        | \n",
       "| 12:861114-862665 | WNK1             | delta            | 0.1745149        | 0.6756949        | \n",
       "\n",
       "\n"
      ],
      "text/plain": [
       "  prom_peak        gene celltype mean_frac_open odds     \n",
       "1 12:861114-862665 WNK1 alpha    0.2176910      0.6728856\n",
       "2 12:861114-862665 WNK1 beta     0.1964690      0.9136650\n",
       "3 12:861114-862665 WNK1 delta    0.1745149      0.6756949"
      ]
     },
     "metadata": {},
     "output_type": "display_data"
    }
   ],
   "source": [
    "rnk.new <- rnk.old %>% group_by(celltype, gene) %>% top_n(1, mean_frac_open)\n",
    "rnk.new %>% head(1)\n",
    "rnk.new %>% nrow\n",
    "rnk.new %>% filter(gene == \"WNK1\")"
   ]
  },
  {
   "cell_type": "code",
   "execution_count": 17,
   "metadata": {},
   "outputs": [
    {
     "data": {
      "text/plain": [
       ".\n",
       "alpha  beta delta \n",
       "14893 14789 13826 "
      ]
     },
     "metadata": {},
     "output_type": "display_data"
    }
   ],
   "source": [
    "rnk.new%>%pull(celltype)%>%table"
   ]
  },
  {
   "cell_type": "code",
   "execution_count": 16,
   "metadata": {},
   "outputs": [],
   "source": [
    "fwrite(rnk.new, \"../figures/Fig2/subfigs/fig_2.prom.sub_vs_sub.fisher.uniq_gene.csv\")"
   ]
  }
 ],
 "metadata": {
  "kernelspec": {
   "display_name": "R",
   "language": "R",
   "name": "ir"
  },
  "language_info": {
   "codemirror_mode": "r",
   "file_extension": ".r",
   "mimetype": "text/x-r-source",
   "name": "R",
   "pygments_lexer": "r",
   "version": "3.5.1"
  }
 },
 "nbformat": 4,
 "nbformat_minor": 2
}
