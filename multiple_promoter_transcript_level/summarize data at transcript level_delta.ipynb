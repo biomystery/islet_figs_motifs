{
 "cells": [
  {
   "cell_type": "markdown",
   "metadata": {},
   "source": [
    "## 1. Data manipulate\n",
    "\n",
    "The goal is to add a `transcript` column into overlap res. Each `transcript` has a unique `tss`. \n",
    "\n",
    "- use [foverlap](https://www.rdocumentation.org/packages/data.table/versions/1.11.8/topics/foverlaps) function to get `peak` overlapping with `TSS` regions.  "
   ]
  },
  {
   "cell_type": "markdown",
   "metadata": {},
   "source": [
    "### 1.1 load all transcripts"
   ]
  },
  {
   "cell_type": "code",
   "execution_count": 2,
   "metadata": {},
   "outputs": [
    {
     "data": {
      "text/html": [
       "<table>\n",
       "<thead><tr><th scope=col>seq</th><th scope=col>start</th><th scope=col>end</th><th scope=col>gene</th></tr></thead>\n",
       "<tbody>\n",
       "\t<tr><td>chr1      </td><td> 68591    </td><td> 69591    </td><td>OR4F5     </td></tr>\n",
       "\t<tr><td>chr1      </td><td>138879    </td><td>139879    </td><td>AL627309.1</td></tr>\n",
       "\t<tr><td>chr1      </td><td>367140    </td><td>368140    </td><td>OR4F29    </td></tr>\n",
       "\t<tr><td>chr1      </td><td>621553    </td><td>622553    </td><td>OR4F16    </td></tr>\n",
       "\t<tr><td>chr1      </td><td>738637    </td><td>739637    </td><td>AL669831.1</td></tr>\n",
       "\t<tr><td>chr1      </td><td>817543    </td><td>818543    </td><td>AL645608.2</td></tr>\n",
       "</tbody>\n",
       "</table>\n"
      ],
      "text/latex": [
       "\\begin{tabular}{r|llll}\n",
       " seq & start & end & gene\\\\\n",
       "\\hline\n",
       "\t chr1       &  68591     &  69591     & OR4F5     \\\\\n",
       "\t chr1       & 138879     & 139879     & AL627309.1\\\\\n",
       "\t chr1       & 367140     & 368140     & OR4F29    \\\\\n",
       "\t chr1       & 621553     & 622553     & OR4F16    \\\\\n",
       "\t chr1       & 738637     & 739637     & AL669831.1\\\\\n",
       "\t chr1       & 817543     & 818543     & AL645608.2\\\\\n",
       "\\end{tabular}\n"
      ],
      "text/markdown": [
       "\n",
       "| seq | start | end | gene |\n",
       "|---|---|---|---|\n",
       "| chr1       |  68591     |  69591     | OR4F5      |\n",
       "| chr1       | 138879     | 139879     | AL627309.1 |\n",
       "| chr1       | 367140     | 368140     | OR4F29     |\n",
       "| chr1       | 621553     | 622553     | OR4F16     |\n",
       "| chr1       | 738637     | 739637     | AL669831.1 |\n",
       "| chr1       | 817543     | 818543     | AL645608.2 |\n",
       "\n"
      ],
      "text/plain": [
       "  seq  start  end    gene      \n",
       "1 chr1  68591  69591 OR4F5     \n",
       "2 chr1 138879 139879 AL627309.1\n",
       "3 chr1 367140 368140 OR4F29    \n",
       "4 chr1 621553 622553 OR4F16    \n",
       "5 chr1 738637 739637 AL669831.1\n",
       "6 chr1 817543 818543 AL645608.2"
      ]
     },
     "metadata": {},
     "output_type": "display_data"
    },
    {
     "data": {
      "text/html": [
       "<table>\n",
       "<thead><tr><th scope=col>seq</th><th scope=col>start</th><th scope=col>end</th><th scope=col>gene</th></tr></thead>\n",
       "<tbody>\n",
       "\t<tr><td>chrY    </td><td>59213544</td><td>59214544</td><td>VAMP7   </td></tr>\n",
       "\t<tr><td>chrY    </td><td>59213547</td><td>59214547</td><td>VAMP7   </td></tr>\n",
       "\t<tr><td>chrY    </td><td>59329752</td><td>59330752</td><td>IL9R    </td></tr>\n",
       "\t<tr><td>chrY    </td><td>59329877</td><td>59330877</td><td>IL9R    </td></tr>\n",
       "\t<tr><td>chrY    </td><td>59329905</td><td>59330905</td><td>IL9R    </td></tr>\n",
       "\t<tr><td>chrY    </td><td>59338285</td><td>59339285</td><td>IL9R    </td></tr>\n",
       "</tbody>\n",
       "</table>\n"
      ],
      "text/latex": [
       "\\begin{tabular}{r|llll}\n",
       " seq & start & end & gene\\\\\n",
       "\\hline\n",
       "\t chrY     & 59213544 & 59214544 & VAMP7   \\\\\n",
       "\t chrY     & 59213547 & 59214547 & VAMP7   \\\\\n",
       "\t chrY     & 59329752 & 59330752 & IL9R    \\\\\n",
       "\t chrY     & 59329877 & 59330877 & IL9R    \\\\\n",
       "\t chrY     & 59329905 & 59330905 & IL9R    \\\\\n",
       "\t chrY     & 59338285 & 59339285 & IL9R    \\\\\n",
       "\\end{tabular}\n"
      ],
      "text/markdown": [
       "\n",
       "| seq | start | end | gene |\n",
       "|---|---|---|---|\n",
       "| chrY     | 59213544 | 59214544 | VAMP7    |\n",
       "| chrY     | 59213547 | 59214547 | VAMP7    |\n",
       "| chrY     | 59329752 | 59330752 | IL9R     |\n",
       "| chrY     | 59329877 | 59330877 | IL9R     |\n",
       "| chrY     | 59329905 | 59330905 | IL9R     |\n",
       "| chrY     | 59338285 | 59339285 | IL9R     |\n",
       "\n"
      ],
      "text/plain": [
       "  seq  start    end      gene \n",
       "1 chrY 59213544 59214544 VAMP7\n",
       "2 chrY 59213547 59214547 VAMP7\n",
       "3 chrY 59329752 59330752 IL9R \n",
       "4 chrY 59329877 59330877 IL9R \n",
       "5 chrY 59329905 59330905 IL9R \n",
       "6 chrY 59338285 59339285 IL9R "
      ]
     },
     "metadata": {},
     "output_type": "display_data"
    },
    {
     "data": {
      "text/html": [
       "<ol class=list-inline>\n",
       "\t<li>133870</li>\n",
       "\t<li>4</li>\n",
       "</ol>\n"
      ],
      "text/latex": [
       "\\begin{enumerate*}\n",
       "\\item 133870\n",
       "\\item 4\n",
       "\\end{enumerate*}\n"
      ],
      "text/markdown": [
       "1. 133870\n",
       "2. 4\n",
       "\n",
       "\n"
      ],
      "text/plain": [
       "[1] 133870      4"
      ]
     },
     "metadata": {},
     "output_type": "display_data"
    }
   ],
   "source": [
    "require(data.table)\n",
    "#require(rtracklayer)\n",
    "#all.transcript <- import.bed('../dat/1901/gencode.v19.1kb_all_possible_transcripts.bed')\n",
    "all.transcript <- fread('../dat/1901/gencode.v19.1kb_all_possible_transcripts.bed',\n",
    "                       col.names=c(\"seq\",'start','end','gene'))\n",
    "setkey(all.transcript,seq,start,end) # this step changed order \n",
    "head(all.transcript)\n",
    "tail(all.transcript)\n",
    "dim(all.transcript)"
   ]
  },
  {
   "cell_type": "code",
   "execution_count": 2,
   "metadata": {},
   "outputs": [
    {
     "data": {
      "text/html": [
       "<table>\n",
       "<thead><tr><th scope=col>seq</th><th scope=col>start</th><th scope=col>end</th><th scope=col>gene</th></tr></thead>\n",
       "<tbody>\n",
       "\t<tr><td>chrX     </td><td>153718453</td><td>153719453</td><td>SLC10A3  </td></tr>\n",
       "</tbody>\n",
       "</table>\n"
      ],
      "text/latex": [
       "\\begin{tabular}{r|llll}\n",
       " seq & start & end & gene\\\\\n",
       "\\hline\n",
       "\t chrX      & 153718453 & 153719453 & SLC10A3  \\\\\n",
       "\\end{tabular}\n"
      ],
      "text/markdown": [
       "\n",
       "| seq | start | end | gene |\n",
       "|---|---|---|---|\n",
       "| chrX      | 153718453 | 153719453 | SLC10A3   |\n",
       "\n"
      ],
      "text/plain": [
       "  seq  start     end       gene   \n",
       "1 chrX 153718453 153719453 SLC10A3"
      ]
     },
     "metadata": {},
     "output_type": "display_data"
    },
    {
     "data": {
      "text/html": [
       "<table>\n",
       "<thead><tr><th scope=col>seq</th><th scope=col>start</th><th scope=col>end</th><th scope=col>gene</th></tr></thead>\n",
       "<tbody>\n",
       "\t<tr><td>chr15   </td><td>67546492</td><td>67547492</td><td>AAGAB   </td></tr>\n",
       "</tbody>\n",
       "</table>\n"
      ],
      "text/latex": [
       "\\begin{tabular}{r|llll}\n",
       " seq & start & end & gene\\\\\n",
       "\\hline\n",
       "\t chr15    & 67546492 & 67547492 & AAGAB   \\\\\n",
       "\\end{tabular}\n"
      ],
      "text/markdown": [
       "\n",
       "| seq | start | end | gene |\n",
       "|---|---|---|---|\n",
       "| chr15    | 67546492 | 67547492 | AAGAB    |\n",
       "\n"
      ],
      "text/plain": [
       "  seq   start    end      gene \n",
       "1 chr15 67546492 67547492 AAGAB"
      ]
     },
     "metadata": {},
     "output_type": "display_data"
    }
   ],
   "source": [
    "all.transcript[133453,]\n",
    "all.transcript[42733,]"
   ]
  },
  {
   "cell_type": "code",
   "execution_count": 5,
   "metadata": {},
   "outputs": [],
   "source": [
    "saveRDS(all.transcript,'../dat/1901/gencode.v19.1kb_all_possible_transcripts.Rds')"
   ]
  },
  {
   "cell_type": "markdown",
   "metadata": {},
   "source": [
    "### fread changed order of rows (reordered based on seq) !!!\n",
    "- because set key "
   ]
  },
  {
   "cell_type": "markdown",
   "metadata": {},
   "source": [
    "## 3. Repeated for detla"
   ]
  },
  {
   "cell_type": "code",
   "execution_count": 4,
   "metadata": {},
   "outputs": [],
   "source": [
    "require(tidyverse)"
   ]
  },
  {
   "cell_type": "code",
   "execution_count": 5,
   "metadata": {},
   "outputs": [
    {
     "data": {
      "text/html": [
       "<table>\n",
       "<thead><tr><th scope=col>seq</th><th scope=col>start</th><th scope=col>end</th><th scope=col>gene</th><th scope=col>cluster</th><th scope=col>barcode</th><th scope=col>transcript.idx</th></tr></thead>\n",
       "<tbody>\n",
       "\t<tr><td>chr1                                         </td><td>859052                                       </td><td>860562                                       </td><td>SAMD11                                       </td><td>delta_1                                      </td><td>Islet3-fresh_CGGCTATGGCTCATGACTAAGCCTGTACTGAC</td><td>7                                            </td></tr>\n",
       "\t<tr><td>chr1                                         </td><td>859052                                       </td><td>860562                                       </td><td>SAMD11                                       </td><td>delta_1                                      </td><td>Islet3-fresh_AGACACCTACTCGCTATCTCTCCGGTACTGAC</td><td>7                                            </td></tr>\n",
       "\t<tr><td>chr1                                         </td><td>859052                                       </td><td>860562                                       </td><td>SAMD11                                       </td><td>delta_1                                      </td><td>Islet3-fresh_AGACACCTACTCGCTATCTCTCCGGTACTGAC</td><td>7                                            </td></tr>\n",
       "\t<tr><td>chr1                                         </td><td>859052                                       </td><td>860562                                       </td><td>SAMD11                                       </td><td>delta_1                                      </td><td>Islet2-fresh_TCGAGGCACGTACTAGTCTAGCTAGGC     </td><td>7                                            </td></tr>\n",
       "\t<tr><td>chr1                                         </td><td>859052                                       </td><td>860562                                       </td><td>SAMD11                                       </td><td>delta_1                                      </td><td>Islet3-fresh_AGCGATAGTAGGCATGTTATGCGATATAGCCT</td><td>7                                            </td></tr>\n",
       "\t<tr><td>chr1                                         </td><td>859052                                       </td><td>860562                                       </td><td>SAMD11                                       </td><td>delta_1                                      </td><td>Islet3-fresh_CGGCTATGGCTCATGACTAAGCCTGTACTGAC</td><td>7                                            </td></tr>\n",
       "</tbody>\n",
       "</table>\n"
      ],
      "text/latex": [
       "\\begin{tabular}{r|lllllll}\n",
       " seq & start & end & gene & cluster & barcode & transcript.idx\\\\\n",
       "\\hline\n",
       "\t chr1                                            & 859052                                          & 860562                                          & SAMD11                                          & delta\\_1                                       & Islet3-fresh\\_CGGCTATGGCTCATGACTAAGCCTGTACTGAC & 7                                              \\\\\n",
       "\t chr1                                            & 859052                                          & 860562                                          & SAMD11                                          & delta\\_1                                       & Islet3-fresh\\_AGACACCTACTCGCTATCTCTCCGGTACTGAC & 7                                              \\\\\n",
       "\t chr1                                            & 859052                                          & 860562                                          & SAMD11                                          & delta\\_1                                       & Islet3-fresh\\_AGACACCTACTCGCTATCTCTCCGGTACTGAC & 7                                              \\\\\n",
       "\t chr1                                            & 859052                                          & 860562                                          & SAMD11                                          & delta\\_1                                       & Islet2-fresh\\_TCGAGGCACGTACTAGTCTAGCTAGGC      & 7                                              \\\\\n",
       "\t chr1                                            & 859052                                          & 860562                                          & SAMD11                                          & delta\\_1                                       & Islet3-fresh\\_AGCGATAGTAGGCATGTTATGCGATATAGCCT & 7                                              \\\\\n",
       "\t chr1                                            & 859052                                          & 860562                                          & SAMD11                                          & delta\\_1                                       & Islet3-fresh\\_CGGCTATGGCTCATGACTAAGCCTGTACTGAC & 7                                              \\\\\n",
       "\\end{tabular}\n"
      ],
      "text/markdown": [
       "\n",
       "| seq | start | end | gene | cluster | barcode | transcript.idx |\n",
       "|---|---|---|---|---|---|---|\n",
       "| chr1                                          | 859052                                        | 860562                                        | SAMD11                                        | delta_1                                       | Islet3-fresh_CGGCTATGGCTCATGACTAAGCCTGTACTGAC | 7                                             |\n",
       "| chr1                                          | 859052                                        | 860562                                        | SAMD11                                        | delta_1                                       | Islet3-fresh_AGACACCTACTCGCTATCTCTCCGGTACTGAC | 7                                             |\n",
       "| chr1                                          | 859052                                        | 860562                                        | SAMD11                                        | delta_1                                       | Islet3-fresh_AGACACCTACTCGCTATCTCTCCGGTACTGAC | 7                                             |\n",
       "| chr1                                          | 859052                                        | 860562                                        | SAMD11                                        | delta_1                                       | Islet2-fresh_TCGAGGCACGTACTAGTCTAGCTAGGC      | 7                                             |\n",
       "| chr1                                          | 859052                                        | 860562                                        | SAMD11                                        | delta_1                                       | Islet3-fresh_AGCGATAGTAGGCATGTTATGCGATATAGCCT | 7                                             |\n",
       "| chr1                                          | 859052                                        | 860562                                        | SAMD11                                        | delta_1                                       | Islet3-fresh_CGGCTATGGCTCATGACTAAGCCTGTACTGAC | 7                                             |\n",
       "\n"
      ],
      "text/plain": [
       "  seq  start  end    gene   cluster\n",
       "1 chr1 859052 860562 SAMD11 delta_1\n",
       "2 chr1 859052 860562 SAMD11 delta_1\n",
       "3 chr1 859052 860562 SAMD11 delta_1\n",
       "4 chr1 859052 860562 SAMD11 delta_1\n",
       "5 chr1 859052 860562 SAMD11 delta_1\n",
       "6 chr1 859052 860562 SAMD11 delta_1\n",
       "  barcode                                       transcript.idx\n",
       "1 Islet3-fresh_CGGCTATGGCTCATGACTAAGCCTGTACTGAC 7             \n",
       "2 Islet3-fresh_AGACACCTACTCGCTATCTCTCCGGTACTGAC 7             \n",
       "3 Islet3-fresh_AGACACCTACTCGCTATCTCTCCGGTACTGAC 7             \n",
       "4 Islet2-fresh_TCGAGGCACGTACTAGTCTAGCTAGGC      7             \n",
       "5 Islet3-fresh_AGCGATAGTAGGCATGTTATGCGATATAGCCT 7             \n",
       "6 Islet3-fresh_CGGCTATGGCTCATGACTAAGCCTGTACTGAC 7             "
      ]
     },
     "metadata": {},
     "output_type": "display_data"
    },
    {
     "data": {
      "text/html": [
       "<ol class=list-inline>\n",
       "\t<li>2330095</li>\n",
       "\t<li>7</li>\n",
       "</ol>\n"
      ],
      "text/latex": [
       "\\begin{enumerate*}\n",
       "\\item 2330095\n",
       "\\item 7\n",
       "\\end{enumerate*}\n"
      ],
      "text/markdown": [
       "1. 2330095\n",
       "2. 7\n",
       "\n",
       "\n"
      ],
      "text/plain": [
       "[1] 2330095       7"
      ]
     },
     "metadata": {},
     "output_type": "display_data"
    }
   ],
   "source": [
    "overlap.res <- fread('../dat/1901/delta.promoter.long_matrix.txt')%>%\n",
    "    separate(peak,into = c(\"seq\",\"start\",\"end\"),sep = \":|-\")%>%\n",
    "    mutate(seq=paste0('chr',seq))\n",
    "setDT(overlap.res)\n",
    "overlap.res <-overlap.res[,c(\"start\",\"end\"):=lapply(.SD, as.numeric), .SDcols = c(\"start\",\"end\")]\n",
    "\n",
    "\n",
    "overlap.res <- overlap.res%>%\n",
    "    mutate(transcript.idx=foverlaps(x = overlap.res%>%select(-gene),y = all.transcript,\n",
    "                 by.x=c(\"seq\", \"start\", \"end\"),\n",
    "                 type=\"any\", which=T,mult=\"first\"))%>%\n",
    "    select(-overlap)\n",
    "\n",
    "##\n",
    "head(overlap.res)\n",
    "dim(overlap.res)"
   ]
  },
  {
   "cell_type": "code",
   "execution_count": 16,
   "metadata": {},
   "outputs": [
    {
     "data": {
      "text/html": [
       "<ol class=list-inline>\n",
       "\t<li>7</li>\n",
       "\t<li>133795</li>\n",
       "</ol>\n"
      ],
      "text/latex": [
       "\\begin{enumerate*}\n",
       "\\item 7\n",
       "\\item 133795\n",
       "\\end{enumerate*}\n"
      ],
      "text/markdown": [
       "1. 7\n",
       "2. 133795\n",
       "\n",
       "\n"
      ],
      "text/plain": [
       "[1]      7 133795"
      ]
     },
     "metadata": {},
     "output_type": "display_data"
    },
    {
     "data": {
      "text/html": [
       "<ol class=list-inline>\n",
       "\t<li>2330095</li>\n",
       "\t<li>7</li>\n",
       "</ol>\n"
      ],
      "text/latex": [
       "\\begin{enumerate*}\n",
       "\\item 2330095\n",
       "\\item 7\n",
       "\\end{enumerate*}\n"
      ],
      "text/markdown": [
       "1. 2330095\n",
       "2. 7\n",
       "\n",
       "\n"
      ],
      "text/plain": [
       "[1] 2330095       7"
      ]
     },
     "metadata": {},
     "output_type": "display_data"
    }
   ],
   "source": [
    "range(overlap.res$transcript.idx)\n",
    "dim(overlap.res)"
   ]
  },
  {
   "cell_type": "code",
   "execution_count": 17,
   "metadata": {},
   "outputs": [
    {
     "data": {
      "text/html": [
       "<table>\n",
       "<thead><tr><th scope=col>seq</th><th scope=col>start</th><th scope=col>end</th><th scope=col>gene</th></tr></thead>\n",
       "<tbody>\n",
       "\t<tr><td>chr1  </td><td>859760</td><td>860760</td><td>SAMD11</td></tr>\n",
       "</tbody>\n",
       "</table>\n"
      ],
      "text/latex": [
       "\\begin{tabular}{r|llll}\n",
       " seq & start & end & gene\\\\\n",
       "\\hline\n",
       "\t chr1   & 859760 & 860760 & SAMD11\\\\\n",
       "\\end{tabular}\n"
      ],
      "text/markdown": [
       "\n",
       "| seq | start | end | gene |\n",
       "|---|---|---|---|\n",
       "| chr1   | 859760 | 860760 | SAMD11 |\n",
       "\n"
      ],
      "text/plain": [
       "  seq  start  end    gene  \n",
       "1 chr1 859760 860760 SAMD11"
      ]
     },
     "metadata": {},
     "output_type": "display_data"
    }
   ],
   "source": [
    "all.transcript[7,]"
   ]
  },
  {
   "cell_type": "markdown",
   "metadata": {},
   "source": [
    "##  save"
   ]
  },
  {
   "cell_type": "code",
   "execution_count": 18,
   "metadata": {},
   "outputs": [],
   "source": [
    "fwrite(overlap.res,'../dat/1901/delta.promoter.long_matrix_w_transcripts_corrected.txt')"
   ]
  },
  {
   "cell_type": "markdown",
   "metadata": {},
   "source": [
    "### check idx"
   ]
  },
  {
   "cell_type": "markdown",
   "metadata": {},
   "source": [
    "`(base) ➜  1901 git:(master) ✗ grep ABHD14A alpha_beta.promoter.long_matrix_w_transcripts_corrected.txt |awk -v FS=',' '{print $1,$2,$3,$4,$7}'| sort|uniq`\n",
    "\n",
    "chr3 52007627 52009641 ABHD14A 92628\n",
    "\n",
    "chr3 52007627 52009641 ABHD14A-ACY1 92628\n",
    "\n",
    "`(base) ➜  1901 git:(master) ✗ grep ABHD14A alpha_beta.promoter.long_matrix_w_transcripts.txt |awk -v FS=',' '{print $1,$2,$3,$4,$7}'| sort|uniq`\n",
    "\n",
    "chr3 52007627 52009641 ABHD14A 92628\n",
    "\n",
    "chr3 52007627 52009641 ABHD14A-ACY1 92628"
   ]
  },
  {
   "cell_type": "code",
   "execution_count": 13,
   "metadata": {},
   "outputs": [
    {
     "data": {
      "text/html": [
       "<table>\n",
       "<thead><tr><th scope=col>seq</th><th scope=col>start</th><th scope=col>end</th><th scope=col>gene</th></tr></thead>\n",
       "<tbody>\n",
       "\t<tr><td>chr3    </td><td>52007200</td><td>52008200</td><td>ABHD14A </td></tr>\n",
       "</tbody>\n",
       "</table>\n"
      ],
      "text/latex": [
       "\\begin{tabular}{r|llll}\n",
       " seq & start & end & gene\\\\\n",
       "\\hline\n",
       "\t chr3     & 52007200 & 52008200 & ABHD14A \\\\\n",
       "\\end{tabular}\n"
      ],
      "text/markdown": [
       "\n",
       "| seq | start | end | gene |\n",
       "|---|---|---|---|\n",
       "| chr3     | 52007200 | 52008200 | ABHD14A  |\n",
       "\n"
      ],
      "text/plain": [
       "  seq  start    end      gene   \n",
       "1 chr3 52007200 52008200 ABHD14A"
      ]
     },
     "metadata": {},
     "output_type": "display_data"
    }
   ],
   "source": [
    "all.transcript[92628,]"
   ]
  },
  {
   "cell_type": "code",
   "execution_count": null,
   "metadata": {},
   "outputs": [],
   "source": []
  }
 ],
 "metadata": {
  "kernelspec": {
   "display_name": "R",
   "language": "R",
   "name": "ir"
  },
  "language_info": {
   "codemirror_mode": "r",
   "file_extension": ".r",
   "mimetype": "text/x-r-source",
   "name": "R",
   "pygments_lexer": "r",
   "version": "3.5.1"
  }
 },
 "nbformat": 4,
 "nbformat_minor": 2
}
