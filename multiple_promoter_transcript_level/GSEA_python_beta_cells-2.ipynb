{
 "cells": [
  {
   "cell_type": "markdown",
   "metadata": {},
   "source": [
    "# Perform GSEA using GSEAPY  \n",
    "\n",
    "Following the potocol defined here: https://gseapy.readthedocs.io/en/latest/gseapy_tutorial.html#use-gsea-command-or-gsea\n"
   ]
  },
  {
   "cell_type": "code",
   "execution_count": 1,
   "metadata": {},
   "outputs": [],
   "source": [
    "%matplotlib inline\n",
    "%config InlineBackend.figure_format='retina' # mac\n",
    "import pandas as pd\n",
    "import gseapy as gp\n",
    "import numpy as np\n",
    "import matplotlib.pyplot as plt"
   ]
  },
  {
   "cell_type": "code",
   "execution_count": 2,
   "metadata": {},
   "outputs": [
    {
     "data": {
      "text/plain": [
       "'0.9.9'"
      ]
     },
     "execution_count": 2,
     "metadata": {},
     "output_type": "execute_result"
    }
   ],
   "source": [
    "gp.__version__"
   ]
  },
  {
   "cell_type": "markdown",
   "metadata": {},
   "source": [
    "## 1. Prepare prerank file\n",
    "\n",
    "* eg: https://github.com/zqfang/GSEApy/blob/master/tests/data/temp.rnk\n",
    "\n"
   ]
  },
  {
   "cell_type": "code",
   "execution_count": 3,
   "metadata": {
    "scrolled": true
   },
   "outputs": [
    {
     "data": {
      "text/html": [
       "<div>\n",
       "<style scoped>\n",
       "    .dataframe tbody tr th:only-of-type {\n",
       "        vertical-align: middle;\n",
       "    }\n",
       "\n",
       "    .dataframe tbody tr th {\n",
       "        vertical-align: top;\n",
       "    }\n",
       "\n",
       "    .dataframe thead th {\n",
       "        text-align: right;\n",
       "    }\n",
       "</style>\n",
       "<table border=\"1\" class=\"dataframe\">\n",
       "  <thead>\n",
       "    <tr style=\"text-align: right;\">\n",
       "      <th></th>\n",
       "      <th>gene_tr.idx</th>\n",
       "      <th>tr.idx</th>\n",
       "      <th>odds</th>\n",
       "      <th>padj.Bonferroni</th>\n",
       "      <th>celltype</th>\n",
       "    </tr>\n",
       "    <tr>\n",
       "      <th>Gene</th>\n",
       "      <th></th>\n",
       "      <th></th>\n",
       "      <th></th>\n",
       "      <th></th>\n",
       "      <th></th>\n",
       "    </tr>\n",
       "  </thead>\n",
       "  <tbody>\n",
       "    <tr>\n",
       "      <th>SAMD11</th>\n",
       "      <td>SAMD11_7</td>\n",
       "      <td>7</td>\n",
       "      <td>0.540894</td>\n",
       "      <td>1.0</td>\n",
       "      <td>alpha</td>\n",
       "    </tr>\n",
       "    <tr>\n",
       "      <th>SAMD11</th>\n",
       "      <td>SAMD11_13</td>\n",
       "      <td>13</td>\n",
       "      <td>0.693160</td>\n",
       "      <td>1.0</td>\n",
       "      <td>alpha</td>\n",
       "    </tr>\n",
       "    <tr>\n",
       "      <th>SAMD11</th>\n",
       "      <td>SAMD11_14</td>\n",
       "      <td>14</td>\n",
       "      <td>0.479521</td>\n",
       "      <td>1.0</td>\n",
       "      <td>alpha</td>\n",
       "    </tr>\n",
       "    <tr>\n",
       "      <th>NOC2L</th>\n",
       "      <td>NOC2L_19</td>\n",
       "      <td>19</td>\n",
       "      <td>0.872666</td>\n",
       "      <td>1.0</td>\n",
       "      <td>alpha</td>\n",
       "    </tr>\n",
       "    <tr>\n",
       "      <th>KLHL17</th>\n",
       "      <td>KLHL17_23</td>\n",
       "      <td>23</td>\n",
       "      <td>0.827881</td>\n",
       "      <td>1.0</td>\n",
       "      <td>alpha</td>\n",
       "    </tr>\n",
       "  </tbody>\n",
       "</table>\n",
       "</div>"
      ],
      "text/plain": [
       "       gene_tr.idx  tr.idx      odds  padj.Bonferroni celltype\n",
       "Gene                                                          \n",
       "SAMD11    SAMD11_7       7  0.540894              1.0    alpha\n",
       "SAMD11   SAMD11_13      13  0.693160              1.0    alpha\n",
       "SAMD11   SAMD11_14      14  0.479521              1.0    alpha\n",
       "NOC2L     NOC2L_19      19  0.872666              1.0    alpha\n",
       "KLHL17   KLHL17_23      23  0.827881              1.0    alpha"
      ]
     },
     "execution_count": 3,
     "metadata": {},
     "output_type": "execute_result"
    }
   ],
   "source": [
    "gene_exp_alpha = pd.read_csv(\"../dat/figdata/fig2_prom_ttest_res.csv\",index_col=1)\n",
    "gene_exp_alpha.head()"
   ]
  },
  {
   "cell_type": "code",
   "execution_count": 59,
   "metadata": {},
   "outputs": [
    {
     "data": {
      "text/plain": [
       "Gene\n",
       "PI4KA    inf\n",
       "NELL1    inf\n",
       "PRKCH    inf\n",
       "KLKB1    inf\n",
       "UXS1     inf\n",
       "Name: odds, dtype: float64"
      ]
     },
     "execution_count": 59,
     "metadata": {},
     "output_type": "execute_result"
    }
   ],
   "source": [
    "df = gene_exp_alpha.loc[gene_exp_alpha[\"celltype\"]==\"beta\"].sort_values(by='odds', ascending=False)[\"odds\"]\n",
    "df=np.log2(df)\n",
    "df.head()"
   ]
  },
  {
   "cell_type": "code",
   "execution_count": 119,
   "metadata": {},
   "outputs": [
    {
     "data": {
      "text/plain": [
       "(21825, 2)"
      ]
     },
     "execution_count": 119,
     "metadata": {},
     "output_type": "execute_result"
    }
   ],
   "source": [
    "rnk.shape"
   ]
  },
  {
   "cell_type": "code",
   "execution_count": 114,
   "metadata": {},
   "outputs": [
    {
     "data": {
      "text/html": [
       "<div>\n",
       "<style scoped>\n",
       "    .dataframe tbody tr th:only-of-type {\n",
       "        vertical-align: middle;\n",
       "    }\n",
       "\n",
       "    .dataframe tbody tr th {\n",
       "        vertical-align: top;\n",
       "    }\n",
       "\n",
       "    .dataframe thead th {\n",
       "        text-align: right;\n",
       "    }\n",
       "</style>\n",
       "<table border=\"1\" class=\"dataframe\">\n",
       "  <thead>\n",
       "    <tr style=\"text-align: right;\">\n",
       "      <th></th>\n",
       "      <th>0</th>\n",
       "      <th>1</th>\n",
       "    </tr>\n",
       "  </thead>\n",
       "  <tbody>\n",
       "    <tr>\n",
       "      <th>0</th>\n",
       "      <td>PI4KA</td>\n",
       "      <td>5.001727</td>\n",
       "    </tr>\n",
       "    <tr>\n",
       "      <th>1</th>\n",
       "      <td>NELL1</td>\n",
       "      <td>5.039825</td>\n",
       "    </tr>\n",
       "    <tr>\n",
       "      <th>2</th>\n",
       "      <td>PRKCH</td>\n",
       "      <td>5.046754</td>\n",
       "    </tr>\n",
       "    <tr>\n",
       "      <th>3</th>\n",
       "      <td>KLKB1</td>\n",
       "      <td>5.020901</td>\n",
       "    </tr>\n",
       "    <tr>\n",
       "      <th>4</th>\n",
       "      <td>UXS1</td>\n",
       "      <td>5.017432</td>\n",
       "    </tr>\n",
       "  </tbody>\n",
       "</table>\n",
       "</div>"
      ],
      "text/plain": [
       "       0         1\n",
       "0  PI4KA  5.001727\n",
       "1  NELL1  5.039825\n",
       "2  PRKCH  5.046754\n",
       "3  KLKB1  5.020901\n",
       "4   UXS1  5.017432"
      ]
     },
     "execution_count": 114,
     "metadata": {},
     "output_type": "execute_result"
    }
   ],
   "source": [
    "df = gene_exp_alpha.loc[gene_exp_alpha[\"celltype\"]==\"beta\"].sort_values(by='odds', ascending=False)[\"odds\"]\n",
    "df=np.log2(df)\n",
    "\n",
    "# replace inf to max exclude inf\n",
    "#df=df.replace(np.inf,df[~df.isin([np.inf])].max(0))\n",
    "#df=df.replace(-np.inf,df[~df.isin([-np.inf])].min(0))\n",
    "df.to_csv('../dat/figdata/res.genes.b.rnk',sep='\\t')\n",
    "rnk = pd.read_table(\"../dat/figdata/res.genes.b.rnk\", header=None)\n",
    "\n",
    "for i in  rnk.index[(rnk[1]==np.inf).tolist()].tolist():\n",
    "    rnk.iloc[i,1]= df[~df.isin([np.inf])].max(0)*(1+np.random.uniform()/100)\n",
    "\n",
    "for i in  rnk.index[(rnk[1]==-np.inf).tolist()].tolist():\n",
    "    rnk.iloc[i,1]= df[~df.isin([-np.inf])].min(0)*(1+np.random.uniform()/100)\n",
    "\n",
    "#rnk.set_index(0)\n",
    "rnk.head()"
   ]
  },
  {
   "cell_type": "markdown",
   "metadata": {},
   "source": [
    "## 2. define gene sets\n",
    "\n",
    "In our case, we will use the beta gene sets from the three literature. And save to [gmt](http://software.broadinstitute.org/cancer/software/gsea/wiki/index.php/Data_formats#GMT:_Gene_Matrix_Transposed_file_format_.28.2A.gmt.29) format.\n",
    "\n",
    "It was done in another [notebook](./compare_with_previous_glists.ipynb)"
   ]
  },
  {
   "cell_type": "markdown",
   "metadata": {},
   "source": [
    "## 3. Run gsea\n",
    "\n",
    "```python\n",
    "gseapy.prerank(rnk='gsea_data.rnk', gene_sets='ene_sets.gmt', outdir='gseapy_out', min_size=15,\n",
    "               max_size=1000, permutation_n=1000, weighted_score_type=1, ascending=False,\n",
    "               figsize=(6.5,6), format='png')\n",
    "```"
   ]
  },
  {
   "cell_type": "code",
   "execution_count": 120,
   "metadata": {},
   "outputs": [
    {
     "name": "stderr",
     "output_type": "stream",
     "text": [
      "2019-02-19 11:33:59,495 Input gene rankings contains duplicated IDs, Only use the duplicated ID with highest value!\n"
     ]
    },
    {
     "data": {
      "text/html": [
       "<div>\n",
       "<style scoped>\n",
       "    .dataframe tbody tr th:only-of-type {\n",
       "        vertical-align: middle;\n",
       "    }\n",
       "\n",
       "    .dataframe tbody tr th {\n",
       "        vertical-align: top;\n",
       "    }\n",
       "\n",
       "    .dataframe thead th {\n",
       "        text-align: right;\n",
       "    }\n",
       "</style>\n",
       "<table border=\"1\" class=\"dataframe\">\n",
       "  <thead>\n",
       "    <tr style=\"text-align: right;\">\n",
       "      <th></th>\n",
       "      <th>es</th>\n",
       "      <th>nes</th>\n",
       "      <th>pval</th>\n",
       "      <th>fdr</th>\n",
       "      <th>geneset_size</th>\n",
       "      <th>matched_size</th>\n",
       "      <th>genes</th>\n",
       "      <th>ledge_genes</th>\n",
       "    </tr>\n",
       "    <tr>\n",
       "      <th>Term</th>\n",
       "      <th></th>\n",
       "      <th></th>\n",
       "      <th></th>\n",
       "      <th></th>\n",
       "      <th></th>\n",
       "      <th></th>\n",
       "      <th></th>\n",
       "      <th></th>\n",
       "    </tr>\n",
       "  </thead>\n",
       "  <tbody>\n",
       "    <tr>\n",
       "      <th>Beta sub4_xin</th>\n",
       "      <td>-0.340284</td>\n",
       "      <td>-1.740070</td>\n",
       "      <td>0.000000</td>\n",
       "      <td>0.010599</td>\n",
       "      <td>390</td>\n",
       "      <td>385</td>\n",
       "      <td>PSMF1;WDR45B;HSPA9;ANXA2;ATP6V0D1;KRT8;ATP6V1H...</td>\n",
       "      <td>ARID5B;EIF2S2;ZFAND2A;ARPP19;XBP1;TMEM258;U2AF...</td>\n",
       "    </tr>\n",
       "    <tr>\n",
       "      <th>ST8SIA1+_dorrell</th>\n",
       "      <td>0.562926</td>\n",
       "      <td>1.639242</td>\n",
       "      <td>0.002439</td>\n",
       "      <td>0.047165</td>\n",
       "      <td>46</td>\n",
       "      <td>46</td>\n",
       "      <td>C1orf127;CORO2B;TMEM130;MYOM1;TP53I11;SULF2;SH...</td>\n",
       "      <td>C1orf127;CORO2B;TMEM130;MYOM1;TP53I11;SULF2;SH...</td>\n",
       "    </tr>\n",
       "    <tr>\n",
       "      <th>CD9-_dorrell</th>\n",
       "      <td>0.507622</td>\n",
       "      <td>1.515943</td>\n",
       "      <td>0.016018</td>\n",
       "      <td>0.061458</td>\n",
       "      <td>57</td>\n",
       "      <td>56</td>\n",
       "      <td>SPARCL1;CCDC81;ASB9;KCNMB2;PTPRD;SEMA6A;ITM2A;...</td>\n",
       "      <td>SPARCL1;CCDC81;ASB9;KCNMB2;PTPRD;SEMA6A;ITM2A;...</td>\n",
       "    </tr>\n",
       "    <tr>\n",
       "      <th>Beta sub2_xin</th>\n",
       "      <td>0.569174</td>\n",
       "      <td>1.526186</td>\n",
       "      <td>0.031888</td>\n",
       "      <td>0.084147</td>\n",
       "      <td>28</td>\n",
       "      <td>27</td>\n",
       "      <td>PCP4;PEMT;AP3B1;ID1;STMN2;RBP1;TFF3;GNAS;IAPP;...</td>\n",
       "      <td>PCP4;PEMT;AP3B1;ID1;STMN2;RBP1;TFF3;GNAS;IAPP;...</td>\n",
       "    </tr>\n",
       "    <tr>\n",
       "      <th>ST8SIA1-_dorrell</th>\n",
       "      <td>0.442361</td>\n",
       "      <td>1.376958</td>\n",
       "      <td>0.056180</td>\n",
       "      <td>0.118771</td>\n",
       "      <td>65</td>\n",
       "      <td>65</td>\n",
       "      <td>GPD1L;SLC39A11;TCEA3;RYK;AFAP1;FRMD4B;G6PC2;RR...</td>\n",
       "      <td>GPD1L;SLC39A11;TCEA3;RYK;AFAP1;FRMD4B;G6PC2;RR...</td>\n",
       "    </tr>\n",
       "    <tr>\n",
       "      <th>Beta sub3_xin</th>\n",
       "      <td>0.643224</td>\n",
       "      <td>1.385023</td>\n",
       "      <td>0.105740</td>\n",
       "      <td>0.139888</td>\n",
       "      <td>13</td>\n",
       "      <td>10</td>\n",
       "      <td>INS;ASB9;DLK1;CHGA;LAMP1;IGFBP7;CPE;CKB;TIMP1;...</td>\n",
       "      <td>INS;ASB9;DLK1;CHGA;LAMP1;IGFBP7</td>\n",
       "    </tr>\n",
       "    <tr>\n",
       "      <th>mature_bader</th>\n",
       "      <td>0.429090</td>\n",
       "      <td>1.268595</td>\n",
       "      <td>0.160287</td>\n",
       "      <td>0.195272</td>\n",
       "      <td>72</td>\n",
       "      <td>50</td>\n",
       "      <td>KIF6;NEB;TNS1;SYNGAP1;CX3CR1;NOSTRIN;CAV1;NPFF...</td>\n",
       "      <td>KIF6;NEB;TNS1;SYNGAP1;CX3CR1;NOSTRIN;CAV1;NPFF...</td>\n",
       "    </tr>\n",
       "    <tr>\n",
       "      <th>CD9+_dorrell</th>\n",
       "      <td>0.345443</td>\n",
       "      <td>1.003738</td>\n",
       "      <td>0.466667</td>\n",
       "      <td>0.612996</td>\n",
       "      <td>45</td>\n",
       "      <td>42</td>\n",
       "      <td>TSPAN33;KCNA5;COL6A2;GNAL;SEL1L3;AKAP13;TACSTD...</td>\n",
       "      <td>TSPAN33;KCNA5;COL6A2;GNAL;SEL1L3;AKAP13;TACSTD...</td>\n",
       "    </tr>\n",
       "    <tr>\n",
       "      <th>Beta sub1_xin</th>\n",
       "      <td>0.359062</td>\n",
       "      <td>0.839491</td>\n",
       "      <td>0.676554</td>\n",
       "      <td>0.843348</td>\n",
       "      <td>13</td>\n",
       "      <td>13</td>\n",
       "      <td>PRSS23;FXYD2;SCGB2A1;FFAR4;RBP4;PPP1R1A;SCGN;A...</td>\n",
       "      <td>PRSS23;FXYD2;SCGB2A1;FFAR4;RBP4</td>\n",
       "    </tr>\n",
       "    <tr>\n",
       "      <th>immature_bader</th>\n",
       "      <td>0.185590</td>\n",
       "      <td>0.637977</td>\n",
       "      <td>0.998000</td>\n",
       "      <td>0.948309</td>\n",
       "      <td>579</td>\n",
       "      <td>565</td>\n",
       "      <td>NELL1;TMEM63A;PARVA;PGM1;ATP2A3;APBB3;C1orf127...</td>\n",
       "      <td>NELL1;TMEM63A;PARVA;PGM1;ATP2A3;APBB3;C1orf127...</td>\n",
       "    </tr>\n",
       "  </tbody>\n",
       "</table>\n",
       "</div>"
      ],
      "text/plain": [
       "                        es       nes      pval       fdr  geneset_size  \\\n",
       "Term                                                                     \n",
       "Beta sub4_xin    -0.340284 -1.740070  0.000000  0.010599           390   \n",
       "ST8SIA1+_dorrell  0.562926  1.639242  0.002439  0.047165            46   \n",
       "CD9-_dorrell      0.507622  1.515943  0.016018  0.061458            57   \n",
       "Beta sub2_xin     0.569174  1.526186  0.031888  0.084147            28   \n",
       "ST8SIA1-_dorrell  0.442361  1.376958  0.056180  0.118771            65   \n",
       "Beta sub3_xin     0.643224  1.385023  0.105740  0.139888            13   \n",
       "mature_bader      0.429090  1.268595  0.160287  0.195272            72   \n",
       "CD9+_dorrell      0.345443  1.003738  0.466667  0.612996            45   \n",
       "Beta sub1_xin     0.359062  0.839491  0.676554  0.843348            13   \n",
       "immature_bader    0.185590  0.637977  0.998000  0.948309           579   \n",
       "\n",
       "                  matched_size  \\\n",
       "Term                             \n",
       "Beta sub4_xin              385   \n",
       "ST8SIA1+_dorrell            46   \n",
       "CD9-_dorrell                56   \n",
       "Beta sub2_xin               27   \n",
       "ST8SIA1-_dorrell            65   \n",
       "Beta sub3_xin               10   \n",
       "mature_bader                50   \n",
       "CD9+_dorrell                42   \n",
       "Beta sub1_xin               13   \n",
       "immature_bader             565   \n",
       "\n",
       "                                                              genes  \\\n",
       "Term                                                                  \n",
       "Beta sub4_xin     PSMF1;WDR45B;HSPA9;ANXA2;ATP6V0D1;KRT8;ATP6V1H...   \n",
       "ST8SIA1+_dorrell  C1orf127;CORO2B;TMEM130;MYOM1;TP53I11;SULF2;SH...   \n",
       "CD9-_dorrell      SPARCL1;CCDC81;ASB9;KCNMB2;PTPRD;SEMA6A;ITM2A;...   \n",
       "Beta sub2_xin     PCP4;PEMT;AP3B1;ID1;STMN2;RBP1;TFF3;GNAS;IAPP;...   \n",
       "ST8SIA1-_dorrell  GPD1L;SLC39A11;TCEA3;RYK;AFAP1;FRMD4B;G6PC2;RR...   \n",
       "Beta sub3_xin     INS;ASB9;DLK1;CHGA;LAMP1;IGFBP7;CPE;CKB;TIMP1;...   \n",
       "mature_bader      KIF6;NEB;TNS1;SYNGAP1;CX3CR1;NOSTRIN;CAV1;NPFF...   \n",
       "CD9+_dorrell      TSPAN33;KCNA5;COL6A2;GNAL;SEL1L3;AKAP13;TACSTD...   \n",
       "Beta sub1_xin     PRSS23;FXYD2;SCGB2A1;FFAR4;RBP4;PPP1R1A;SCGN;A...   \n",
       "immature_bader    NELL1;TMEM63A;PARVA;PGM1;ATP2A3;APBB3;C1orf127...   \n",
       "\n",
       "                                                        ledge_genes  \n",
       "Term                                                                 \n",
       "Beta sub4_xin     ARID5B;EIF2S2;ZFAND2A;ARPP19;XBP1;TMEM258;U2AF...  \n",
       "ST8SIA1+_dorrell  C1orf127;CORO2B;TMEM130;MYOM1;TP53I11;SULF2;SH...  \n",
       "CD9-_dorrell      SPARCL1;CCDC81;ASB9;KCNMB2;PTPRD;SEMA6A;ITM2A;...  \n",
       "Beta sub2_xin     PCP4;PEMT;AP3B1;ID1;STMN2;RBP1;TFF3;GNAS;IAPP;...  \n",
       "ST8SIA1-_dorrell  GPD1L;SLC39A11;TCEA3;RYK;AFAP1;FRMD4B;G6PC2;RR...  \n",
       "Beta sub3_xin                       INS;ASB9;DLK1;CHGA;LAMP1;IGFBP7  \n",
       "mature_bader      KIF6;NEB;TNS1;SYNGAP1;CX3CR1;NOSTRIN;CAV1;NPFF...  \n",
       "CD9+_dorrell      TSPAN33;KCNA5;COL6A2;GNAL;SEL1L3;AKAP13;TACSTD...  \n",
       "Beta sub1_xin                       PRSS23;FXYD2;SCGB2A1;FFAR4;RBP4  \n",
       "immature_bader    NELL1;TMEM63A;PARVA;PGM1;ATP2A3;APBB3;C1orf127...  "
      ]
     },
     "execution_count": 120,
     "metadata": {},
     "output_type": "execute_result"
    }
   ],
   "source": [
    "# run gsea\n",
    "# enrichr libraries are supported by gsea module. Just provide the name\n",
    "\n",
    "gs_res = gp.prerank(rnk=rnk, # or data='./P53_resampling_data.txt'\n",
    "                 gene_sets='../dat/glists/gsea.gmt', # enrichr library names or gmt file\n",
    "                 #set permutation_type to phenotype if samples >=15\n",
    "                 permutation_num=1000, # reduce number to speed up test\n",
    "                 outdir=None,  # do not write output to disk\n",
    "                 no_plot=True, # Skip plotting\n",
    "                 #weighted_score_type=1,\n",
    "                 #ascending=False,\n",
    "                 min_size=10,\n",
    "                 max_size=600,\n",
    "                 processes=4)\n",
    "                 #format='png')\n",
    "gs_res.res2d"
   ]
  },
  {
   "cell_type": "code",
   "execution_count": 123,
   "metadata": {},
   "outputs": [],
   "source": [
    "gs_res.res2d.to_csv('../dat/figdata/GSEA_beta_res.csv')"
   ]
  },
  {
   "cell_type": "markdown",
   "metadata": {},
   "source": [
    "### show the results \n",
    "The **gsea** module will generate heatmap for genes in each gene sets in the backgroud.\n",
    "But if you need to do it yourself, use the code below"
   ]
  },
  {
   "cell_type": "code",
   "execution_count": 122,
   "metadata": {},
   "outputs": [],
   "source": [
    "from gseapy.plot import gseaplot, heatmap\n",
    "terms = gs_res.res2d.index\n",
    "for i in range(len(terms)):\n",
    "    gseaplot(gs_res.ranking, term=terms[i], **gs_res.results[terms[i]],ofname=terms[i]+'_b.pdf')\n"
   ]
  },
  {
   "cell_type": "code",
   "execution_count": null,
   "metadata": {},
   "outputs": [],
   "source": []
  }
 ],
 "metadata": {
  "kernelspec": {
   "display_name": "Python 3",
   "language": "python",
   "name": "python3"
  },
  "language_info": {
   "codemirror_mode": {
    "name": "ipython",
    "version": 3
   },
   "file_extension": ".py",
   "mimetype": "text/x-python",
   "name": "python",
   "nbconvert_exporter": "python",
   "pygments_lexer": "ipython3",
   "version": "3.7.2"
  }
 },
 "nbformat": 4,
 "nbformat_minor": 2
}
