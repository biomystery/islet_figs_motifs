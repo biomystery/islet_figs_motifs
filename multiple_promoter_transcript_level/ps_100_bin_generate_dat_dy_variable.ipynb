{
 "cells": [
  {
   "cell_type": "code",
   "execution_count": 2,
   "metadata": {},
   "outputs": [],
   "source": [
    "require(data.table)\n",
    "require(tidyverse)"
   ]
  },
  {
   "cell_type": "markdown",
   "metadata": {},
   "source": [
    "## 1. Rationale\n",
    "\n",
    "* due to the sparseness, the ps is binned to 100 (can change) \n",
    "* then chisq test wheter the ratio of openning is dependent on bins "
   ]
  },
  {
   "cell_type": "markdown",
   "metadata": {},
   "source": [
    "##  2. load data"
   ]
  },
  {
   "cell_type": "code",
   "execution_count": 3,
   "metadata": {},
   "outputs": [
    {
     "data": {
      "text/html": [
       "<table>\n",
       "<thead><tr><th scope=col>gene_tr.idx</th><th scope=col>celltype</th><th scope=col>subtype</th><th scope=col>cell</th><th scope=col>ps</th></tr></thead>\n",
       "<tbody>\n",
       "\t<tr><td>SAMD11_7                                  </td><td>alpha                                     </td><td>1                                         </td><td>Islet1-fresh_AGACACCTAGGCAGAAGTAAGGAGCAGGA</td><td>5.643735                                  </td></tr>\n",
       "\t<tr><td>SAMD11_7                                  </td><td>alpha                                     </td><td>1                                         </td><td>Islet1-fresh_AGACACCTATGCGCAGCGTCTAATGGTTG</td><td>1.056578                                  </td></tr>\n",
       "\t<tr><td>SAMD11_7                                  </td><td>alpha                                     </td><td>2                                         </td><td>Islet1-fresh_AGACACCTCGAGGCTGAAGGCTATGGTTG</td><td>6.254863                                  </td></tr>\n",
       "\t<tr><td>SAMD11_7                                  </td><td>alpha                                     </td><td>2                                         </td><td>Islet1-fresh_AGACACCTCGTACTAGCTAAGCCTGTACT</td><td>6.508574                                  </td></tr>\n",
       "\t<tr><td>SAMD11_7                                  </td><td>alpha                                     </td><td>1                                         </td><td>Islet1-fresh_AGACACCTGGACTCCTTCGACTAGGGTTG</td><td>2.120670                                  </td></tr>\n",
       "\t<tr><td>SAMD11_7                                  </td><td>alpha                                     </td><td>2                                         </td><td>Islet1-fresh_AGACACCTGGAGCTACAAGGAGTAAGGCG</td><td>5.564368                                  </td></tr>\n",
       "</tbody>\n",
       "</table>\n"
      ],
      "text/latex": [
       "\\begin{tabular}{r|lllll}\n",
       " gene\\_tr.idx & celltype & subtype & cell & ps\\\\\n",
       "\\hline\n",
       "\t SAMD11\\_7                                   & alpha                                        & 1                                            & Islet1-fresh\\_AGACACCTAGGCAGAAGTAAGGAGCAGGA & 5.643735                                    \\\\\n",
       "\t SAMD11\\_7                                   & alpha                                        & 1                                            & Islet1-fresh\\_AGACACCTATGCGCAGCGTCTAATGGTTG & 1.056578                                    \\\\\n",
       "\t SAMD11\\_7                                   & alpha                                        & 2                                            & Islet1-fresh\\_AGACACCTCGAGGCTGAAGGCTATGGTTG & 6.254863                                    \\\\\n",
       "\t SAMD11\\_7                                   & alpha                                        & 2                                            & Islet1-fresh\\_AGACACCTCGTACTAGCTAAGCCTGTACT & 6.508574                                    \\\\\n",
       "\t SAMD11\\_7                                   & alpha                                        & 1                                            & Islet1-fresh\\_AGACACCTGGACTCCTTCGACTAGGGTTG & 2.120670                                    \\\\\n",
       "\t SAMD11\\_7                                   & alpha                                        & 2                                            & Islet1-fresh\\_AGACACCTGGAGCTACAAGGAGTAAGGCG & 5.564368                                    \\\\\n",
       "\\end{tabular}\n"
      ],
      "text/markdown": [
       "\n",
       "| gene_tr.idx | celltype | subtype | cell | ps |\n",
       "|---|---|---|---|---|\n",
       "| SAMD11_7                                   | alpha                                      | 1                                          | Islet1-fresh_AGACACCTAGGCAGAAGTAAGGAGCAGGA | 5.643735                                   |\n",
       "| SAMD11_7                                   | alpha                                      | 1                                          | Islet1-fresh_AGACACCTATGCGCAGCGTCTAATGGTTG | 1.056578                                   |\n",
       "| SAMD11_7                                   | alpha                                      | 2                                          | Islet1-fresh_AGACACCTCGAGGCTGAAGGCTATGGTTG | 6.254863                                   |\n",
       "| SAMD11_7                                   | alpha                                      | 2                                          | Islet1-fresh_AGACACCTCGTACTAGCTAAGCCTGTACT | 6.508574                                   |\n",
       "| SAMD11_7                                   | alpha                                      | 1                                          | Islet1-fresh_AGACACCTGGACTCCTTCGACTAGGGTTG | 2.120670                                   |\n",
       "| SAMD11_7                                   | alpha                                      | 2                                          | Islet1-fresh_AGACACCTGGAGCTACAAGGAGTAAGGCG | 5.564368                                   |\n",
       "\n"
      ],
      "text/plain": [
       "  gene_tr.idx celltype subtype cell                                      \n",
       "1 SAMD11_7    alpha    1       Islet1-fresh_AGACACCTAGGCAGAAGTAAGGAGCAGGA\n",
       "2 SAMD11_7    alpha    1       Islet1-fresh_AGACACCTATGCGCAGCGTCTAATGGTTG\n",
       "3 SAMD11_7    alpha    2       Islet1-fresh_AGACACCTCGAGGCTGAAGGCTATGGTTG\n",
       "4 SAMD11_7    alpha    2       Islet1-fresh_AGACACCTCGTACTAGCTAAGCCTGTACT\n",
       "5 SAMD11_7    alpha    1       Islet1-fresh_AGACACCTGGACTCCTTCGACTAGGGTTG\n",
       "6 SAMD11_7    alpha    2       Islet1-fresh_AGACACCTGGAGCTACAAGGAGTAAGGCG\n",
       "  ps      \n",
       "1 5.643735\n",
       "2 1.056578\n",
       "3 6.254863\n",
       "4 6.508574\n",
       "5 2.120670\n",
       "6 5.564368"
      ]
     },
     "metadata": {},
     "output_type": "display_data"
    },
    {
     "data": {
      "text/html": [
       "<table>\n",
       "<thead><tr><th scope=col>gene_tr.idx</th><th scope=col>celltype</th><th scope=col>subtype</th><th scope=col>cell</th><th scope=col>ps</th></tr></thead>\n",
       "<tbody>\n",
       "\t<tr><td>EIF1AY_133795                                </td><td>beta                                         </td><td>1                                            </td><td>Islet3-fresh_TCCGGAGAGGAGCTACTCGACTAGGTACTGAC</td><td> 3.157942                                    </td></tr>\n",
       "\t<tr><td>EIF1AY_133795                                </td><td>beta                                         </td><td>1                                            </td><td>Islet3-fresh_TCCGGAGAGTAGAGGACTAAGCCTGGCTCTGA</td><td> 4.901059                                    </td></tr>\n",
       "\t<tr><td>EIF1AY_133795                                </td><td>beta                                         </td><td>2                                            </td><td>Islet3-fresh_TCCGGAGATACGCTGCAAGGCTATGGTTGCGT</td><td>18.923257                                    </td></tr>\n",
       "\t<tr><td>EIF1AY_133795                                </td><td>beta                                         </td><td>1                                            </td><td>Islet3-fresh_TCCGGAGATAGGCATGTTCTAGCTATAGAGGC</td><td> 4.655220                                    </td></tr>\n",
       "\t<tr><td>EIF1AY_133795                                </td><td>beta                                         </td><td>2                                            </td><td>Islet3-fresh_TCCGGAGATCGACGTCCTCTCTATCAGGACGT</td><td>14.077267                                    </td></tr>\n",
       "\t<tr><td>EIF1AY_133795                                </td><td>beta                                         </td><td>1                                            </td><td>Islet3-fresh_TCCGGAGATCGACGTCCTCTCTATGGTTGCGT</td><td> 8.113267                                    </td></tr>\n",
       "</tbody>\n",
       "</table>\n"
      ],
      "text/latex": [
       "\\begin{tabular}{r|lllll}\n",
       " gene\\_tr.idx & celltype & subtype & cell & ps\\\\\n",
       "\\hline\n",
       "\t EIF1AY\\_133795                                 & beta                                            & 1                                               & Islet3-fresh\\_TCCGGAGAGGAGCTACTCGACTAGGTACTGAC &  3.157942                                      \\\\\n",
       "\t EIF1AY\\_133795                                 & beta                                            & 1                                               & Islet3-fresh\\_TCCGGAGAGTAGAGGACTAAGCCTGGCTCTGA &  4.901059                                      \\\\\n",
       "\t EIF1AY\\_133795                                 & beta                                            & 2                                               & Islet3-fresh\\_TCCGGAGATACGCTGCAAGGCTATGGTTGCGT & 18.923257                                      \\\\\n",
       "\t EIF1AY\\_133795                                 & beta                                            & 1                                               & Islet3-fresh\\_TCCGGAGATAGGCATGTTCTAGCTATAGAGGC &  4.655220                                      \\\\\n",
       "\t EIF1AY\\_133795                                 & beta                                            & 2                                               & Islet3-fresh\\_TCCGGAGATCGACGTCCTCTCTATCAGGACGT & 14.077267                                      \\\\\n",
       "\t EIF1AY\\_133795                                 & beta                                            & 1                                               & Islet3-fresh\\_TCCGGAGATCGACGTCCTCTCTATGGTTGCGT &  8.113267                                      \\\\\n",
       "\\end{tabular}\n"
      ],
      "text/markdown": [
       "\n",
       "| gene_tr.idx | celltype | subtype | cell | ps |\n",
       "|---|---|---|---|---|\n",
       "| EIF1AY_133795                                 | beta                                          | 1                                             | Islet3-fresh_TCCGGAGAGGAGCTACTCGACTAGGTACTGAC |  3.157942                                     |\n",
       "| EIF1AY_133795                                 | beta                                          | 1                                             | Islet3-fresh_TCCGGAGAGTAGAGGACTAAGCCTGGCTCTGA |  4.901059                                     |\n",
       "| EIF1AY_133795                                 | beta                                          | 2                                             | Islet3-fresh_TCCGGAGATACGCTGCAAGGCTATGGTTGCGT | 18.923257                                     |\n",
       "| EIF1AY_133795                                 | beta                                          | 1                                             | Islet3-fresh_TCCGGAGATAGGCATGTTCTAGCTATAGAGGC |  4.655220                                     |\n",
       "| EIF1AY_133795                                 | beta                                          | 2                                             | Islet3-fresh_TCCGGAGATCGACGTCCTCTCTATCAGGACGT | 14.077267                                     |\n",
       "| EIF1AY_133795                                 | beta                                          | 1                                             | Islet3-fresh_TCCGGAGATCGACGTCCTCTCTATGGTTGCGT |  8.113267                                     |\n",
       "\n"
      ],
      "text/plain": [
       "  gene_tr.idx   celltype subtype cell                                         \n",
       "1 EIF1AY_133795 beta     1       Islet3-fresh_TCCGGAGAGGAGCTACTCGACTAGGTACTGAC\n",
       "2 EIF1AY_133795 beta     1       Islet3-fresh_TCCGGAGAGTAGAGGACTAAGCCTGGCTCTGA\n",
       "3 EIF1AY_133795 beta     2       Islet3-fresh_TCCGGAGATACGCTGCAAGGCTATGGTTGCGT\n",
       "4 EIF1AY_133795 beta     1       Islet3-fresh_TCCGGAGATAGGCATGTTCTAGCTATAGAGGC\n",
       "5 EIF1AY_133795 beta     2       Islet3-fresh_TCCGGAGATCGACGTCCTCTCTATCAGGACGT\n",
       "6 EIF1AY_133795 beta     1       Islet3-fresh_TCCGGAGATCGACGTCCTCTCTATGGTTGCGT\n",
       "  ps       \n",
       "1  3.157942\n",
       "2  4.901059\n",
       "3 18.923257\n",
       "4  4.655220\n",
       "5 14.077267\n",
       "6  8.113267"
      ]
     },
     "metadata": {},
     "output_type": "display_data"
    },
    {
     "data": {
      "text/html": [
       "<ol class=list-inline>\n",
       "\t<li>19412387</li>\n",
       "\t<li>5</li>\n",
       "</ol>\n"
      ],
      "text/latex": [
       "\\begin{enumerate*}\n",
       "\\item 19412387\n",
       "\\item 5\n",
       "\\end{enumerate*}\n"
      ],
      "text/markdown": [
       "1. 19412387\n",
       "2. 5\n",
       "\n",
       "\n"
      ],
      "text/plain": [
       "[1] 19412387        5"
      ]
     },
     "metadata": {},
     "output_type": "display_data"
    }
   ],
   "source": [
    "dat.pro_ps<- fread(\"../dat/1901/alpha_beta.promoter.long_matrix_w_transcripts_ps.txt\")%>%\n",
    "    separate(cluster,into = c(\"celltype\",\"subtype\"))\n",
    "head(dat.pro_ps)\n",
    "tail(dat.pro_ps)\n",
    "dim(dat.pro_ps)"
   ]
  },
  {
   "cell_type": "markdown",
   "metadata": {},
   "source": [
    "### 2.1 bin data "
   ]
  },
  {
   "cell_type": "code",
   "execution_count": 4,
   "metadata": {},
   "outputs": [
    {
     "data": {
      "text/html": [
       "<dl>\n",
       "\t<dt>$alpha</dt>\n",
       "\t\t<dd><ol class=list-inline>\n",
       "\t<li>0</li>\n",
       "\t<li>6.74617593265917</li>\n",
       "</ol>\n",
       "</dd>\n",
       "\t<dt>$beta</dt>\n",
       "\t\t<dd><ol class=list-inline>\n",
       "\t<li>0</li>\n",
       "\t<li>20.2079032250925</li>\n",
       "</ol>\n",
       "</dd>\n",
       "</dl>\n"
      ],
      "text/latex": [
       "\\begin{description}\n",
       "\\item[\\$alpha] \\begin{enumerate*}\n",
       "\\item 0\n",
       "\\item 6.74617593265917\n",
       "\\end{enumerate*}\n",
       "\n",
       "\\item[\\$beta] \\begin{enumerate*}\n",
       "\\item 0\n",
       "\\item 20.2079032250925\n",
       "\\end{enumerate*}\n",
       "\n",
       "\\end{description}\n"
      ],
      "text/markdown": [
       "$alpha\n",
       ":   1. 0\n",
       "2. 6.74617593265917\n",
       "\n",
       "\n",
       "\n",
       "$beta\n",
       ":   1. 0\n",
       "2. 20.2079032250925\n",
       "\n",
       "\n",
       "\n",
       "\n",
       "\n"
      ],
      "text/plain": [
       "$alpha\n",
       "[1] 0.000000 6.746176\n",
       "\n",
       "$beta\n",
       "[1]  0.0000 20.2079\n"
      ]
     },
     "metadata": {},
     "output_type": "display_data"
    }
   ],
   "source": [
    "require(tidyverse)\n",
    "ps.range <- list()\n",
    "ps.range$alpha <- range((dat.pro_ps %>%filter(celltype ==\"alpha\"))$ps)\n",
    "ps.range$beta <- range((dat.pro_ps %>%filter(celltype==\"beta\"))$ps)\n",
    "ps.range"
   ]
  },
  {
   "cell_type": "code",
   "execution_count": 5,
   "metadata": {},
   "outputs": [
    {
     "name": "stdout",
     "output_type": "stream",
     "text": [
      "101 # bins:\n",
      "quantiles of alpha cell number per bin:\n"
     ]
    },
    {
     "data": {
      "text/html": [
       "<table>\n",
       "<thead><tr><th scope=col>0%</th><th scope=col>25%</th><th scope=col>50%</th><th scope=col>75%</th><th scope=col>100%</th></tr></thead>\n",
       "<tbody>\n",
       "\t<tr><td>1    </td><td>21   </td><td>41   </td><td>71.25</td><td>257  </td></tr>\n",
       "</tbody>\n",
       "</table>\n"
      ],
      "text/latex": [
       "\\begin{tabular}{lllll}\n",
       " 0\\% & 25\\% & 50\\% & 75\\% & 100\\%\\\\\n",
       "\\hline\n",
       "\t 1     & 21    & 41    & 71.25 & 257  \\\\\n",
       "\\end{tabular}\n"
      ],
      "text/markdown": [
       "\n",
       "| 0% | 25% | 50% | 75% | 100% |\n",
       "|---|---|---|---|---|\n",
       "| 1     | 21    | 41    | 71.25 | 257   |\n",
       "\n"
      ],
      "text/plain": [
       "     0% 25% 50% 75%   100%\n",
       "[1,] 1  21  41  71.25 257 "
      ]
     },
     "metadata": {},
     "output_type": "display_data"
    },
    {
     "name": "stdout",
     "output_type": "stream",
     "text": [
      "quantiles of beta cell number per bin:\n"
     ]
    },
    {
     "data": {
      "text/html": [
       "<table>\n",
       "<thead><tr><th scope=col>0%</th><th scope=col>25%</th><th scope=col>50%</th><th scope=col>75%</th><th scope=col>100%</th></tr></thead>\n",
       "<tbody>\n",
       "\t<tr><td>2    </td><td>18.75</td><td>33.5 </td><td>77   </td><td>655  </td></tr>\n",
       "</tbody>\n",
       "</table>\n"
      ],
      "text/latex": [
       "\\begin{tabular}{lllll}\n",
       " 0\\% & 25\\% & 50\\% & 75\\% & 100\\%\\\\\n",
       "\\hline\n",
       "\t 2     & 18.75 & 33.5  & 77    & 655  \\\\\n",
       "\\end{tabular}\n"
      ],
      "text/markdown": [
       "\n",
       "| 0% | 25% | 50% | 75% | 100% |\n",
       "|---|---|---|---|---|\n",
       "| 2     | 18.75 | 33.5  | 77    | 655   |\n",
       "\n"
      ],
      "text/plain": [
       "     0% 25%   50%  75% 100%\n",
       "[1,] 2  18.75 33.5 77  655 "
      ]
     },
     "metadata": {},
     "output_type": "display_data"
    }
   ],
   "source": [
    "N.bin<- 101\n",
    "ps.bks <- list()\n",
    "ps.bks$alpha <- seq(ps.range$alpha[1],ps.range$alpha[2],length.out = N.bin)\n",
    "ps.bks$beta <- seq(ps.range$beta[1],ps.range$beta[2],length.out = N.bin)\n",
    "\n",
    "dat.pro_ps <- rbind(\n",
    "    dat.pro_ps%>% \n",
    "    filter(celltype==\"alpha\")%>%\n",
    "    mutate(ps_bin =cut(ps,breaks = ps.bks$alpha,include.lowest = T)),\n",
    "    dat.pro_ps%>% \n",
    "    filter(celltype==\"beta\")%>%\n",
    "    mutate(ps_bin =cut(ps,breaks = ps.bks$beta,include.lowest = T))\n",
    ")\n",
    "\n",
    "ps.bin.dat.sum<- dat.pro_ps%>%\n",
    "select(-one_of(\"gene_tr.idx\",\"ps\"))%>%distinct()\n",
    "\n",
    "setDT(ps.bin.dat.sum)\n",
    "ps.bin.dat.sum<-ps.bin.dat.sum[, .(.N), by = .(ps_bin,celltype)]\n",
    "cat(paste(N.bin,\"# bins:\\n\"))\n",
    "cat(\"quantiles of alpha cell number per bin:\\n\")\n",
    "t(quantile((ps.bin.dat.sum%>%filter(celltype==\"alpha\"))$N))\n",
    "cat(\"quantiles of beta cell number per bin:\\n\")\n",
    "t(quantile((ps.bin.dat.sum%>%filter(celltype==\"beta\"))$N))"
   ]
  },
  {
   "cell_type": "code",
   "execution_count": 6,
   "metadata": {},
   "outputs": [
    {
     "data": {
      "text/html": [
       "<table>\n",
       "<thead><tr><th scope=col>celltype</th><th scope=col>tot</th></tr></thead>\n",
       "<tbody>\n",
       "\t<tr><td>alpha</td><td>5594 </td></tr>\n",
       "\t<tr><td>beta </td><td>7170 </td></tr>\n",
       "</tbody>\n",
       "</table>\n"
      ],
      "text/latex": [
       "\\begin{tabular}{r|ll}\n",
       " celltype & tot\\\\\n",
       "\\hline\n",
       "\t alpha & 5594 \\\\\n",
       "\t beta  & 7170 \\\\\n",
       "\\end{tabular}\n"
      ],
      "text/markdown": [
       "\n",
       "| celltype | tot |\n",
       "|---|---|\n",
       "| alpha | 5594  |\n",
       "| beta  | 7170  |\n",
       "\n"
      ],
      "text/plain": [
       "  celltype tot \n",
       "1 alpha    5594\n",
       "2 beta     7170"
      ]
     },
     "metadata": {},
     "output_type": "display_data"
    }
   ],
   "source": [
    "ps.bin.dat.sum%>%group_by(celltype)%>%summarise(tot=sum(N))"
   ]
  },
  {
   "cell_type": "markdown",
   "metadata": {},
   "source": [
    "## 3. filter on glist"
   ]
  },
  {
   "cell_type": "code",
   "execution_count": 7,
   "metadata": {},
   "outputs": [
    {
     "data": {
      "text/html": [
       "2220"
      ],
      "text/latex": [
       "2220"
      ],
      "text/markdown": [
       "2220"
      ],
      "text/plain": [
       "[1] 2220"
      ]
     },
     "metadata": {},
     "output_type": "display_data"
    },
    {
     "data": {
      "text/html": [
       "<dl>\n",
       "\t<dt>$alpha_tr</dt>\n",
       "\t\t<dd>1108</dd>\n",
       "\t<dt>$alpha</dt>\n",
       "\t\t<dd>1088</dd>\n",
       "\t<dt>$beta_tr</dt>\n",
       "\t\t<dd>1224</dd>\n",
       "\t<dt>$beta</dt>\n",
       "\t\t<dd>1176</dd>\n",
       "</dl>\n"
      ],
      "text/latex": [
       "\\begin{description}\n",
       "\\item[\\$alpha\\_tr] 1108\n",
       "\\item[\\$alpha] 1088\n",
       "\\item[\\$beta\\_tr] 1224\n",
       "\\item[\\$beta] 1176\n",
       "\\end{description}\n"
      ],
      "text/markdown": [
       "$alpha_tr\n",
       ":   1108\n",
       "$alpha\n",
       ":   1088\n",
       "$beta_tr\n",
       ":   1224\n",
       "$beta\n",
       ":   1176\n",
       "\n",
       "\n"
      ],
      "text/plain": [
       "$alpha_tr\n",
       "[1] 1108\n",
       "\n",
       "$alpha\n",
       "[1] 1088\n",
       "\n",
       "$beta_tr\n",
       "[1] 1224\n",
       "\n",
       "$beta\n",
       "[1] 1176\n"
      ]
     },
     "metadata": {},
     "output_type": "display_data"
    }
   ],
   "source": [
    "dy.glist<- readRDS('../dat/1901/dy.glist.variable.Rds')\n",
    "all.tr <- unique(c(dy.glist$alpha_tr,dy.glist$beta_tr))\n",
    "length(all.tr)\n",
    "lapply(dy.glist,length)"
   ]
  },
  {
   "cell_type": "code",
   "execution_count": 8,
   "metadata": {},
   "outputs": [
    {
     "data": {
      "text/html": [
       "<ol class=list-inline>\n",
       "\t<li>19412387</li>\n",
       "\t<li>6</li>\n",
       "</ol>\n"
      ],
      "text/latex": [
       "\\begin{enumerate*}\n",
       "\\item 19412387\n",
       "\\item 6\n",
       "\\end{enumerate*}\n"
      ],
      "text/markdown": [
       "1. 19412387\n",
       "2. 6\n",
       "\n",
       "\n"
      ],
      "text/plain": [
       "[1] 19412387        6"
      ]
     },
     "metadata": {},
     "output_type": "display_data"
    },
    {
     "data": {
      "text/html": [
       "<ol class=list-inline>\n",
       "\t<li>1233500</li>\n",
       "\t<li>6</li>\n",
       "</ol>\n"
      ],
      "text/latex": [
       "\\begin{enumerate*}\n",
       "\\item 1233500\n",
       "\\item 6\n",
       "\\end{enumerate*}\n"
      ],
      "text/markdown": [
       "1. 1233500\n",
       "2. 6\n",
       "\n",
       "\n"
      ],
      "text/plain": [
       "[1] 1233500       6"
      ]
     },
     "metadata": {},
     "output_type": "display_data"
    }
   ],
   "source": [
    "#gene_tr.idx\tcluster\t\n",
    "dim(dat.pro_ps)\n",
    "dat.pro_ps.filtered <- rbind(\n",
    "    dat.pro_ps%>% filter(gene_tr.idx%in% dy.glist$alpha_tr,celltype==\"alpha\"),\n",
    "    dat.pro_ps%>% filter(gene_tr.idx%in% dy.glist$beta_tr,celltype==\"beta\")\n",
    ")\n",
    "dim(dat.pro_ps.filtered)"
   ]
  },
  {
   "cell_type": "markdown",
   "metadata": {},
   "source": [
    "## 4. Calc percent_open & smooth"
   ]
  },
  {
   "cell_type": "markdown",
   "metadata": {},
   "source": [
    "### 4.1 convert to percetage openning per bin"
   ]
  },
  {
   "cell_type": "code",
   "execution_count": 9,
   "metadata": {},
   "outputs": [
    {
     "data": {
      "text/html": [
       "<table>\n",
       "<thead><tr><th scope=col>gene_tr.idx</th><th scope=col>celltype</th><th scope=col>subtype</th><th scope=col>cell</th><th scope=col>ps</th><th scope=col>ps_bin</th></tr></thead>\n",
       "<tbody>\n",
       "\t<tr><td>HES4_34                                   </td><td>alpha                                     </td><td>1                                         </td><td>Islet1-fresh_AGACACCTATCTCAGGTCGACTAGTATAG</td><td>0.5915286                                 </td><td>(0.54,0.607]                              </td></tr>\n",
       "\t<tr><td>HES4_34                                   </td><td>alpha                                     </td><td>2                                         </td><td>Islet1-fresh_AGACACCTATGCGCAGCTCTCTATAGGCG</td><td>6.2034799                                 </td><td>(6.14,6.21]                               </td></tr>\n",
       "\t<tr><td>HES4_34                                   </td><td>alpha                                     </td><td>2                                         </td><td>Islet1-fresh_AGACACCTCGAGGCTGAAGGCTATGGTTG</td><td>6.2548629                                 </td><td>(6.21,6.27]                               </td></tr>\n",
       "\t<tr><td>HES4_34                                   </td><td>alpha                                     </td><td>2                                         </td><td>Islet1-fresh_AGACACCTCGAGGCTGGCGTAAGAGTACT</td><td>6.4780116                                 </td><td>(6.48,6.54]                               </td></tr>\n",
       "\t<tr><td>HES4_34                                   </td><td>alpha                                     </td><td>2                                         </td><td>Islet1-fresh_AGACACCTCGATCAGTAAGGAGTAATAGA</td><td>4.7205150                                 </td><td>(4.65,4.72]                               </td></tr>\n",
       "\t<tr><td>HES4_34                                   </td><td>alpha                                     </td><td>2                                         </td><td>Islet1-fresh_AGACACCTCGTACTAGCTAAGCCTGTACT</td><td>6.5085744                                 </td><td>(6.48,6.54]                               </td></tr>\n",
       "</tbody>\n",
       "</table>\n"
      ],
      "text/latex": [
       "\\begin{tabular}{r|llllll}\n",
       " gene\\_tr.idx & celltype & subtype & cell & ps & ps\\_bin\\\\\n",
       "\\hline\n",
       "\t HES4\\_34                                    & alpha                                        & 1                                            & Islet1-fresh\\_AGACACCTATCTCAGGTCGACTAGTATAG & 0.5915286                                    & (0.54,0.607{]}                              \\\\\n",
       "\t HES4\\_34                                    & alpha                                        & 2                                            & Islet1-fresh\\_AGACACCTATGCGCAGCTCTCTATAGGCG & 6.2034799                                    & (6.14,6.21{]}                               \\\\\n",
       "\t HES4\\_34                                    & alpha                                        & 2                                            & Islet1-fresh\\_AGACACCTCGAGGCTGAAGGCTATGGTTG & 6.2548629                                    & (6.21,6.27{]}                               \\\\\n",
       "\t HES4\\_34                                    & alpha                                        & 2                                            & Islet1-fresh\\_AGACACCTCGAGGCTGGCGTAAGAGTACT & 6.4780116                                    & (6.48,6.54{]}                               \\\\\n",
       "\t HES4\\_34                                    & alpha                                        & 2                                            & Islet1-fresh\\_AGACACCTCGATCAGTAAGGAGTAATAGA & 4.7205150                                    & (4.65,4.72{]}                               \\\\\n",
       "\t HES4\\_34                                    & alpha                                        & 2                                            & Islet1-fresh\\_AGACACCTCGTACTAGCTAAGCCTGTACT & 6.5085744                                    & (6.48,6.54{]}                               \\\\\n",
       "\\end{tabular}\n"
      ],
      "text/markdown": [
       "\n",
       "| gene_tr.idx | celltype | subtype | cell | ps | ps_bin |\n",
       "|---|---|---|---|---|---|\n",
       "| HES4_34                                    | alpha                                      | 1                                          | Islet1-fresh_AGACACCTATCTCAGGTCGACTAGTATAG | 0.5915286                                  | (0.54,0.607]                               |\n",
       "| HES4_34                                    | alpha                                      | 2                                          | Islet1-fresh_AGACACCTATGCGCAGCTCTCTATAGGCG | 6.2034799                                  | (6.14,6.21]                                |\n",
       "| HES4_34                                    | alpha                                      | 2                                          | Islet1-fresh_AGACACCTCGAGGCTGAAGGCTATGGTTG | 6.2548629                                  | (6.21,6.27]                                |\n",
       "| HES4_34                                    | alpha                                      | 2                                          | Islet1-fresh_AGACACCTCGAGGCTGGCGTAAGAGTACT | 6.4780116                                  | (6.48,6.54]                                |\n",
       "| HES4_34                                    | alpha                                      | 2                                          | Islet1-fresh_AGACACCTCGATCAGTAAGGAGTAATAGA | 4.7205150                                  | (4.65,4.72]                                |\n",
       "| HES4_34                                    | alpha                                      | 2                                          | Islet1-fresh_AGACACCTCGTACTAGCTAAGCCTGTACT | 6.5085744                                  | (6.48,6.54]                                |\n",
       "\n"
      ],
      "text/plain": [
       "  gene_tr.idx celltype subtype cell                                      \n",
       "1 HES4_34     alpha    1       Islet1-fresh_AGACACCTATCTCAGGTCGACTAGTATAG\n",
       "2 HES4_34     alpha    2       Islet1-fresh_AGACACCTATGCGCAGCTCTCTATAGGCG\n",
       "3 HES4_34     alpha    2       Islet1-fresh_AGACACCTCGAGGCTGAAGGCTATGGTTG\n",
       "4 HES4_34     alpha    2       Islet1-fresh_AGACACCTCGAGGCTGGCGTAAGAGTACT\n",
       "5 HES4_34     alpha    2       Islet1-fresh_AGACACCTCGATCAGTAAGGAGTAATAGA\n",
       "6 HES4_34     alpha    2       Islet1-fresh_AGACACCTCGTACTAGCTAAGCCTGTACT\n",
       "  ps        ps_bin      \n",
       "1 0.5915286 (0.54,0.607]\n",
       "2 6.2034799 (6.14,6.21] \n",
       "3 6.2548629 (6.21,6.27] \n",
       "4 6.4780116 (6.48,6.54] \n",
       "5 4.7205150 (4.65,4.72] \n",
       "6 6.5085744 (6.48,6.54] "
      ]
     },
     "metadata": {},
     "output_type": "display_data"
    }
   ],
   "source": [
    "head(dat.pro_ps.filtered)"
   ]
  },
  {
   "cell_type": "code",
   "execution_count": 10,
   "metadata": {
    "scrolled": true
   },
   "outputs": [
    {
     "name": "stderr",
     "output_type": "stream",
     "text": [
      "Joining, by = c(\"celltype\", \"ps_bin\")\n"
     ]
    },
    {
     "data": {
      "text/html": [
       "<ol class=list-inline>\n",
       "\t<li>1233500</li>\n",
       "\t<li>7</li>\n",
       "</ol>\n"
      ],
      "text/latex": [
       "\\begin{enumerate*}\n",
       "\\item 1233500\n",
       "\\item 7\n",
       "\\end{enumerate*}\n"
      ],
      "text/markdown": [
       "1. 1233500\n",
       "2. 7\n",
       "\n",
       "\n"
      ],
      "text/plain": [
       "[1] 1233500       7"
      ]
     },
     "metadata": {},
     "output_type": "display_data"
    },
    {
     "data": {
      "text/html": [
       "<table>\n",
       "<thead><tr><th scope=col>gene_tr.idx</th><th scope=col>celltype</th><th scope=col>subtype</th><th scope=col>cell</th><th scope=col>ps</th><th scope=col>ps_bin</th><th scope=col>N</th></tr></thead>\n",
       "<tbody>\n",
       "\t<tr><td>AAGAB_42733                                  </td><td>alpha                                        </td><td>1                                            </td><td>Islet2-fresh_AGACGGAGTAGGCATGTAAGGAGTGAC     </td><td>0.2874200                                    </td><td>(0.27,0.337]                                 </td><td>34                                           </td></tr>\n",
       "\t<tr><td>AAGAB_42733                                  </td><td>alpha                                        </td><td>1                                            </td><td>Islet2-fresh_CAGTTGCACCTAAGACGTCTAATCTGA     </td><td>0.2918434                                    </td><td>(0.27,0.337]                                 </td><td>34                                           </td></tr>\n",
       "\t<tr><td>AAGAB_42733                                  </td><td>alpha                                        </td><td>1                                            </td><td>Islet2-fresh_CAGTTGCATAGGCATGTCTGAGTTGAC     </td><td>0.3206313                                    </td><td>(0.27,0.337]                                 </td><td>34                                           </td></tr>\n",
       "\t<tr><td>AAGAB_42733                                  </td><td>alpha                                        </td><td>1                                            </td><td>Islet3-fresh_CGCTCATTGCTCATGATATCCTCTGGCTCTGA</td><td>0.3131417                                    </td><td>(0.27,0.337]                                 </td><td>34                                           </td></tr>\n",
       "\t<tr><td>AAGAB_42733                                  </td><td>alpha                                        </td><td>1                                            </td><td>Islet3-fresh_TAATGCGCGCTCATGAAAGGCTATGGCTCTGA</td><td>0.2783736                                    </td><td>(0.27,0.337]                                 </td><td>34                                           </td></tr>\n",
       "\t<tr><td>AAGAB_42733                                  </td><td>alpha                                        </td><td>1                                            </td><td>Islet3-fresh_TCCGCGAACTCTCTACCCTAGAGTGGCTCTGA</td><td>0.3178772                                    </td><td>(0.27,0.337]                                 </td><td>34                                           </td></tr>\n",
       "</tbody>\n",
       "</table>\n"
      ],
      "text/latex": [
       "\\begin{tabular}{r|lllllll}\n",
       " gene\\_tr.idx & celltype & subtype & cell & ps & ps\\_bin & N\\\\\n",
       "\\hline\n",
       "\t AAGAB\\_42733                                   & alpha                                           & 1                                               & Islet2-fresh\\_AGACGGAGTAGGCATGTAAGGAGTGAC      & 0.2874200                                       & (0.27,0.337{]}                                  & 34                                             \\\\\n",
       "\t AAGAB\\_42733                                   & alpha                                           & 1                                               & Islet2-fresh\\_CAGTTGCACCTAAGACGTCTAATCTGA      & 0.2918434                                       & (0.27,0.337{]}                                  & 34                                             \\\\\n",
       "\t AAGAB\\_42733                                   & alpha                                           & 1                                               & Islet2-fresh\\_CAGTTGCATAGGCATGTCTGAGTTGAC      & 0.3206313                                       & (0.27,0.337{]}                                  & 34                                             \\\\\n",
       "\t AAGAB\\_42733                                   & alpha                                           & 1                                               & Islet3-fresh\\_CGCTCATTGCTCATGATATCCTCTGGCTCTGA & 0.3131417                                       & (0.27,0.337{]}                                  & 34                                             \\\\\n",
       "\t AAGAB\\_42733                                   & alpha                                           & 1                                               & Islet3-fresh\\_TAATGCGCGCTCATGAAAGGCTATGGCTCTGA & 0.2783736                                       & (0.27,0.337{]}                                  & 34                                             \\\\\n",
       "\t AAGAB\\_42733                                   & alpha                                           & 1                                               & Islet3-fresh\\_TCCGCGAACTCTCTACCCTAGAGTGGCTCTGA & 0.3178772                                       & (0.27,0.337{]}                                  & 34                                             \\\\\n",
       "\\end{tabular}\n"
      ],
      "text/markdown": [
       "\n",
       "| gene_tr.idx | celltype | subtype | cell | ps | ps_bin | N |\n",
       "|---|---|---|---|---|---|---|\n",
       "| AAGAB_42733                                   | alpha                                         | 1                                             | Islet2-fresh_AGACGGAGTAGGCATGTAAGGAGTGAC      | 0.2874200                                     | (0.27,0.337]                                  | 34                                            |\n",
       "| AAGAB_42733                                   | alpha                                         | 1                                             | Islet2-fresh_CAGTTGCACCTAAGACGTCTAATCTGA      | 0.2918434                                     | (0.27,0.337]                                  | 34                                            |\n",
       "| AAGAB_42733                                   | alpha                                         | 1                                             | Islet2-fresh_CAGTTGCATAGGCATGTCTGAGTTGAC      | 0.3206313                                     | (0.27,0.337]                                  | 34                                            |\n",
       "| AAGAB_42733                                   | alpha                                         | 1                                             | Islet3-fresh_CGCTCATTGCTCATGATATCCTCTGGCTCTGA | 0.3131417                                     | (0.27,0.337]                                  | 34                                            |\n",
       "| AAGAB_42733                                   | alpha                                         | 1                                             | Islet3-fresh_TAATGCGCGCTCATGAAAGGCTATGGCTCTGA | 0.2783736                                     | (0.27,0.337]                                  | 34                                            |\n",
       "| AAGAB_42733                                   | alpha                                         | 1                                             | Islet3-fresh_TCCGCGAACTCTCTACCCTAGAGTGGCTCTGA | 0.3178772                                     | (0.27,0.337]                                  | 34                                            |\n",
       "\n"
      ],
      "text/plain": [
       "  gene_tr.idx celltype subtype cell                                         \n",
       "1 AAGAB_42733 alpha    1       Islet2-fresh_AGACGGAGTAGGCATGTAAGGAGTGAC     \n",
       "2 AAGAB_42733 alpha    1       Islet2-fresh_CAGTTGCACCTAAGACGTCTAATCTGA     \n",
       "3 AAGAB_42733 alpha    1       Islet2-fresh_CAGTTGCATAGGCATGTCTGAGTTGAC     \n",
       "4 AAGAB_42733 alpha    1       Islet3-fresh_CGCTCATTGCTCATGATATCCTCTGGCTCTGA\n",
       "5 AAGAB_42733 alpha    1       Islet3-fresh_TAATGCGCGCTCATGAAAGGCTATGGCTCTGA\n",
       "6 AAGAB_42733 alpha    1       Islet3-fresh_TCCGCGAACTCTCTACCCTAGAGTGGCTCTGA\n",
       "  ps        ps_bin       N \n",
       "1 0.2874200 (0.27,0.337] 34\n",
       "2 0.2918434 (0.27,0.337] 34\n",
       "3 0.3206313 (0.27,0.337] 34\n",
       "4 0.3131417 (0.27,0.337] 34\n",
       "5 0.2783736 (0.27,0.337] 34\n",
       "6 0.3178772 (0.27,0.337] 34"
      ]
     },
     "metadata": {},
     "output_type": "display_data"
    }
   ],
   "source": [
    "dat.pro_ps.long <- dat.pro_ps.filtered%>%\n",
    "    left_join(ps.bin.dat.sum)\n",
    "dim(dat.pro_ps.long)\n",
    "head(dat.pro_ps.long%>%arrange(gene_tr.idx,ps_bin))"
   ]
  },
  {
   "cell_type": "code",
   "execution_count": 11,
   "metadata": {},
   "outputs": [
    {
     "name": "stderr",
     "output_type": "stream",
     "text": [
      "Joining, by = c(\"celltype\", \"ps_bin\")\n"
     ]
    },
    {
     "data": {
      "text/html": [
       "<table>\n",
       "<thead><tr><th scope=col>gene_tr.idx</th><th scope=col>celltype</th><th scope=col>ps_bin</th><th scope=col>n</th><th scope=col>N</th><th scope=col>ps_bin.2</th><th scope=col>percent_open</th></tr></thead>\n",
       "<tbody>\n",
       "\t<tr><td>AAGAB_42733  </td><td>alpha        </td><td>(0.27,0.337] </td><td> 6           </td><td> 34          </td><td> 5           </td><td>17.647059    </td></tr>\n",
       "\t<tr><td>AAGAB_42733  </td><td>alpha        </td><td>(0.337,0.405]</td><td> 4           </td><td> 66          </td><td> 6           </td><td> 6.060606    </td></tr>\n",
       "\t<tr><td>AAGAB_42733  </td><td>alpha        </td><td>(0.405,0.472]</td><td>20           </td><td>172          </td><td> 7           </td><td>11.627907    </td></tr>\n",
       "\t<tr><td>AAGAB_42733  </td><td>alpha        </td><td>(0.472,0.54] </td><td>30           </td><td>257          </td><td> 8           </td><td>11.673152    </td></tr>\n",
       "\t<tr><td>AAGAB_42733  </td><td>alpha        </td><td>(0.54,0.607] </td><td>29           </td><td>212          </td><td> 9           </td><td>13.679245    </td></tr>\n",
       "\t<tr><td>AAGAB_42733  </td><td>alpha        </td><td>(0.607,0.675]</td><td>12           </td><td> 73          </td><td>10           </td><td>16.438356    </td></tr>\n",
       "</tbody>\n",
       "</table>\n"
      ],
      "text/latex": [
       "\\begin{tabular}{r|lllllll}\n",
       " gene\\_tr.idx & celltype & ps\\_bin & n & N & ps\\_bin.2 & percent\\_open\\\\\n",
       "\\hline\n",
       "\t AAGAB\\_42733   & alpha           & (0.27,0.337{]}  &  6              &  34             &  5              & 17.647059      \\\\\n",
       "\t AAGAB\\_42733   & alpha           & (0.337,0.405{]} &  4              &  66             &  6              &  6.060606      \\\\\n",
       "\t AAGAB\\_42733   & alpha           & (0.405,0.472{]} & 20              & 172             &  7              & 11.627907      \\\\\n",
       "\t AAGAB\\_42733   & alpha           & (0.472,0.54{]}  & 30              & 257             &  8              & 11.673152      \\\\\n",
       "\t AAGAB\\_42733   & alpha           & (0.54,0.607{]}  & 29              & 212             &  9              & 13.679245      \\\\\n",
       "\t AAGAB\\_42733   & alpha           & (0.607,0.675{]} & 12              &  73             & 10              & 16.438356      \\\\\n",
       "\\end{tabular}\n"
      ],
      "text/markdown": [
       "\n",
       "| gene_tr.idx | celltype | ps_bin | n | N | ps_bin.2 | percent_open |\n",
       "|---|---|---|---|---|---|---|\n",
       "| AAGAB_42733   | alpha         | (0.27,0.337]  |  6            |  34           |  5            | 17.647059     |\n",
       "| AAGAB_42733   | alpha         | (0.337,0.405] |  4            |  66           |  6            |  6.060606     |\n",
       "| AAGAB_42733   | alpha         | (0.405,0.472] | 20            | 172           |  7            | 11.627907     |\n",
       "| AAGAB_42733   | alpha         | (0.472,0.54]  | 30            | 257           |  8            | 11.673152     |\n",
       "| AAGAB_42733   | alpha         | (0.54,0.607]  | 29            | 212           |  9            | 13.679245     |\n",
       "| AAGAB_42733   | alpha         | (0.607,0.675] | 12            |  73           | 10            | 16.438356     |\n",
       "\n"
      ],
      "text/plain": [
       "  gene_tr.idx celltype ps_bin        n  N   ps_bin.2 percent_open\n",
       "1 AAGAB_42733 alpha    (0.27,0.337]   6  34  5       17.647059   \n",
       "2 AAGAB_42733 alpha    (0.337,0.405]  4  66  6        6.060606   \n",
       "3 AAGAB_42733 alpha    (0.405,0.472] 20 172  7       11.627907   \n",
       "4 AAGAB_42733 alpha    (0.472,0.54]  30 257  8       11.673152   \n",
       "5 AAGAB_42733 alpha    (0.54,0.607]  29 212  9       13.679245   \n",
       "6 AAGAB_42733 alpha    (0.607,0.675] 12  73 10       16.438356   "
      ]
     },
     "metadata": {},
     "output_type": "display_data"
    },
    {
     "data": {
      "text/html": [
       "<ol class=list-inline>\n",
       "\t<li>172349</li>\n",
       "\t<li>7</li>\n",
       "</ol>\n"
      ],
      "text/latex": [
       "\\begin{enumerate*}\n",
       "\\item 172349\n",
       "\\item 7\n",
       "\\end{enumerate*}\n"
      ],
      "text/markdown": [
       "1. 172349\n",
       "2. 7\n",
       "\n",
       "\n"
      ],
      "text/plain": [
       "[1] 172349      7"
      ]
     },
     "metadata": {},
     "output_type": "display_data"
    },
    {
     "data": {
      "text/html": [
       "<table>\n",
       "<thead><tr><th scope=col>gene_tr.idx</th><th scope=col>celltype</th><th scope=col>ps_bin</th><th scope=col>n</th><th scope=col>N</th><th scope=col>ps_bin.2</th><th scope=col>percent_open</th></tr></thead>\n",
       "<tbody>\n",
       "\t<tr><td>AASS_118936  </td><td>beta         </td><td>[0,0.202]    </td><td> 1           </td><td>  2          </td><td>101          </td><td>50.00000     </td></tr>\n",
       "\t<tr><td>AASS_118936  </td><td>beta         </td><td>(0.202,0.404]</td><td> 2           </td><td>  6          </td><td>102          </td><td>33.33333     </td></tr>\n",
       "\t<tr><td>AASS_118936  </td><td>beta         </td><td>(0.404,0.606]</td><td> 3           </td><td> 15          </td><td>103          </td><td>20.00000     </td></tr>\n",
       "\t<tr><td>AASS_118936  </td><td>beta         </td><td>(0.606,0.808]</td><td>17           </td><td> 35          </td><td>104          </td><td>48.57143     </td></tr>\n",
       "\t<tr><td>AASS_118936  </td><td>beta         </td><td>(0.808,1.01] </td><td>19           </td><td> 86          </td><td>105          </td><td>22.09302     </td></tr>\n",
       "\t<tr><td>AASS_118936  </td><td>beta         </td><td>(1.01,1.21]  </td><td>34           </td><td>191          </td><td>106          </td><td>17.80105     </td></tr>\n",
       "</tbody>\n",
       "</table>\n"
      ],
      "text/latex": [
       "\\begin{tabular}{r|lllllll}\n",
       " gene\\_tr.idx & celltype & ps\\_bin & n & N & ps\\_bin.2 & percent\\_open\\\\\n",
       "\\hline\n",
       "\t AASS\\_118936     & beta              & {[}0,0.202{]}     &  1                &   2               & 101               & 50.00000         \\\\\n",
       "\t AASS\\_118936   & beta            & (0.202,0.404{]} &  2              &   6             & 102             & 33.33333       \\\\\n",
       "\t AASS\\_118936   & beta            & (0.404,0.606{]} &  3              &  15             & 103             & 20.00000       \\\\\n",
       "\t AASS\\_118936   & beta            & (0.606,0.808{]} & 17              &  35             & 104             & 48.57143       \\\\\n",
       "\t AASS\\_118936   & beta            & (0.808,1.01{]}  & 19              &  86             & 105             & 22.09302       \\\\\n",
       "\t AASS\\_118936   & beta            & (1.01,1.21{]}   & 34              & 191             & 106             & 17.80105       \\\\\n",
       "\\end{tabular}\n"
      ],
      "text/markdown": [
       "\n",
       "| gene_tr.idx | celltype | ps_bin | n | N | ps_bin.2 | percent_open |\n",
       "|---|---|---|---|---|---|---|\n",
       "| AASS_118936   | beta          | [0,0.202]     |  1            |   2           | 101           | 50.00000      |\n",
       "| AASS_118936   | beta          | (0.202,0.404] |  2            |   6           | 102           | 33.33333      |\n",
       "| AASS_118936   | beta          | (0.404,0.606] |  3            |  15           | 103           | 20.00000      |\n",
       "| AASS_118936   | beta          | (0.606,0.808] | 17            |  35           | 104           | 48.57143      |\n",
       "| AASS_118936   | beta          | (0.808,1.01]  | 19            |  86           | 105           | 22.09302      |\n",
       "| AASS_118936   | beta          | (1.01,1.21]   | 34            | 191           | 106           | 17.80105      |\n",
       "\n"
      ],
      "text/plain": [
       "  gene_tr.idx celltype ps_bin        n  N   ps_bin.2 percent_open\n",
       "1 AASS_118936 beta     [0,0.202]      1   2 101      50.00000    \n",
       "2 AASS_118936 beta     (0.202,0.404]  2   6 102      33.33333    \n",
       "3 AASS_118936 beta     (0.404,0.606]  3  15 103      20.00000    \n",
       "4 AASS_118936 beta     (0.606,0.808] 17  35 104      48.57143    \n",
       "5 AASS_118936 beta     (0.808,1.01]  19  86 105      22.09302    \n",
       "6 AASS_118936 beta     (1.01,1.21]   34 191 106      17.80105    "
      ]
     },
     "metadata": {},
     "output_type": "display_data"
    }
   ],
   "source": [
    "dat.pro_ps.long <- dat.pro_ps.long%>% \n",
    "    group_by(gene_tr.idx,celltype,ps_bin)%>%summarise(n= n())%>%\n",
    "    left_join(ps.bin.dat.sum)%>%arrange(gene_tr.idx,ps_bin)%>%\n",
    "    mutate(ps_bin.2 = as.numeric(ps_bin))%>% \n",
    "    mutate(percent_open=n/N*100)\n",
    "head(dat.pro_ps.long)\n",
    "dim(dat.pro_ps.long)\n",
    "head(dat.pro_ps.long%>%filter(celltype==\"beta\"))"
   ]
  },
  {
   "cell_type": "code",
   "execution_count": 12,
   "metadata": {},
   "outputs": [
    {
     "data": {
      "text/html": [
       "<table>\n",
       "<thead><tr><th scope=col>gene_tr.idx</th><th scope=col>celltype</th><th scope=col>1</th><th scope=col>2</th><th scope=col>3</th><th scope=col>4</th><th scope=col>5</th><th scope=col>6</th><th scope=col>7</th><th scope=col>8</th><th scope=col>⋯</th><th scope=col>91</th><th scope=col>92</th><th scope=col>93</th><th scope=col>94</th><th scope=col>95</th><th scope=col>96</th><th scope=col>97</th><th scope=col>98</th><th scope=col>99</th><th scope=col>100</th></tr></thead>\n",
       "<tbody>\n",
       "\t<tr><td>AAGAB_42733 </td><td>alpha       </td><td>0           </td><td>0           </td><td>0           </td><td> 0.00000    </td><td>17.647059   </td><td> 6.060606   </td><td>11.627907   </td><td>11.6731518  </td><td>⋯           </td><td>20.606061   </td><td>19.333333   </td><td>18.691589   </td><td>20.00       </td><td>27.586207   </td><td>38.709677   </td><td>31.57895    </td><td>40          </td><td>33.33333    </td><td> 0          </td></tr>\n",
       "\t<tr><td>ABCB9_32864 </td><td>alpha       </td><td>0           </td><td>0           </td><td>0           </td><td> 0.00000    </td><td> 0.000000   </td><td> 0.000000   </td><td> 1.162791   </td><td> 0.3891051  </td><td>⋯           </td><td> 3.636364   </td><td> 6.000000   </td><td>13.084112   </td><td> 3.75       </td><td>12.068966   </td><td>12.903226   </td><td>15.78947    </td><td>10          </td><td> 0.00000    </td><td> 0          </td></tr>\n",
       "\t<tr><td>ABCC8_17965 </td><td>alpha       </td><td>0           </td><td>0           </td><td>0           </td><td>14.28571    </td><td>20.588235   </td><td>22.727273   </td><td>21.511628   </td><td>24.5136187  </td><td>⋯           </td><td> 2.424242   </td><td> 4.666667   </td><td> 1.869159   </td><td> 2.50       </td><td> 5.172414   </td><td> 3.225806   </td><td>21.05263    </td><td> 0          </td><td> 0.00000    </td><td> 0          </td></tr>\n",
       "\t<tr><td>ABCD3_5661  </td><td>alpha       </td><td>0           </td><td>0           </td><td>0           </td><td>14.28571    </td><td>23.529412   </td><td>15.151515   </td><td>19.186047   </td><td>17.8988327  </td><td>⋯           </td><td>21.818182   </td><td>28.666667   </td><td>32.710280   </td><td>23.75       </td><td>18.965517   </td><td>48.387097   </td><td>52.63158    </td><td>40          </td><td>16.66667    </td><td>50          </td></tr>\n",
       "\t<tr><td>ABCF2_120214</td><td>alpha       </td><td>0           </td><td>0           </td><td>0           </td><td> 0.00000    </td><td> 5.882353   </td><td> 7.575758   </td><td> 6.395349   </td><td> 6.2256809  </td><td>⋯           </td><td> 9.696970   </td><td>15.333333   </td><td>18.691589   </td><td>17.50       </td><td>15.517241   </td><td>22.580645   </td><td>42.10526    </td><td>30          </td><td> 0.00000    </td><td>50          </td></tr>\n",
       "\t<tr><td>ABHD2_44351 </td><td>alpha       </td><td>0           </td><td>0           </td><td>0           </td><td> 0.00000    </td><td> 0.000000   </td><td> 0.000000   </td><td> 1.162791   </td><td> 0.3891051  </td><td>⋯           </td><td> 4.848485   </td><td> 8.666667   </td><td>12.149533   </td><td> 8.75       </td><td>12.068966   </td><td>12.903226   </td><td>21.05263    </td><td> 0          </td><td> 0.00000    </td><td>50          </td></tr>\n",
       "</tbody>\n",
       "</table>\n"
      ],
      "text/latex": [
       "\\begin{tabular}{r|llllllllllllllllllllllllllllllllllllllllllllllllllllllllllllllllllllllllllllllllllllllllllllllllllllll}\n",
       " gene\\_tr.idx & celltype & 1 & 2 & 3 & 4 & 5 & 6 & 7 & 8 & ⋯ & 91 & 92 & 93 & 94 & 95 & 96 & 97 & 98 & 99 & 100\\\\\n",
       "\\hline\n",
       "\t AAGAB\\_42733  & alpha          & 0              & 0              & 0              &  0.00000       & 17.647059      &  6.060606      & 11.627907      & 11.6731518     & ⋯              & 20.606061      & 19.333333      & 18.691589      & 20.00          & 27.586207      & 38.709677      & 31.57895       & 40             & 33.33333       &  0            \\\\\n",
       "\t ABCB9\\_32864  & alpha          & 0              & 0              & 0              &  0.00000       &  0.000000      &  0.000000      &  1.162791      &  0.3891051     & ⋯              &  3.636364      &  6.000000      & 13.084112      &  3.75          & 12.068966      & 12.903226      & 15.78947       & 10             &  0.00000       &  0            \\\\\n",
       "\t ABCC8\\_17965  & alpha          & 0              & 0              & 0              & 14.28571       & 20.588235      & 22.727273      & 21.511628      & 24.5136187     & ⋯              &  2.424242      &  4.666667      &  1.869159      &  2.50          &  5.172414      &  3.225806      & 21.05263       &  0             &  0.00000       &  0            \\\\\n",
       "\t ABCD3\\_5661   & alpha          & 0              & 0              & 0              & 14.28571       & 23.529412      & 15.151515      & 19.186047      & 17.8988327     & ⋯              & 21.818182      & 28.666667      & 32.710280      & 23.75          & 18.965517      & 48.387097      & 52.63158       & 40             & 16.66667       & 50            \\\\\n",
       "\t ABCF2\\_120214 & alpha          & 0              & 0              & 0              &  0.00000       &  5.882353      &  7.575758      &  6.395349      &  6.2256809     & ⋯              &  9.696970      & 15.333333      & 18.691589      & 17.50          & 15.517241      & 22.580645      & 42.10526       & 30             &  0.00000       & 50            \\\\\n",
       "\t ABHD2\\_44351  & alpha          & 0              & 0              & 0              &  0.00000       &  0.000000      &  0.000000      &  1.162791      &  0.3891051     & ⋯              &  4.848485      &  8.666667      & 12.149533      &  8.75          & 12.068966      & 12.903226      & 21.05263       &  0             &  0.00000       & 50            \\\\\n",
       "\\end{tabular}\n"
      ],
      "text/markdown": [
       "\n",
       "| gene_tr.idx | celltype | 1 | 2 | 3 | 4 | 5 | 6 | 7 | 8 | ⋯ | 91 | 92 | 93 | 94 | 95 | 96 | 97 | 98 | 99 | 100 |\n",
       "|---|---|---|---|---|---|---|---|---|---|---|---|---|---|---|---|---|---|---|---|---|\n",
       "| AAGAB_42733  | alpha        | 0            | 0            | 0            |  0.00000     | 17.647059    |  6.060606    | 11.627907    | 11.6731518   | ⋯            | 20.606061    | 19.333333    | 18.691589    | 20.00        | 27.586207    | 38.709677    | 31.57895     | 40           | 33.33333     |  0           |\n",
       "| ABCB9_32864  | alpha        | 0            | 0            | 0            |  0.00000     |  0.000000    |  0.000000    |  1.162791    |  0.3891051   | ⋯            |  3.636364    |  6.000000    | 13.084112    |  3.75        | 12.068966    | 12.903226    | 15.78947     | 10           |  0.00000     |  0           |\n",
       "| ABCC8_17965  | alpha        | 0            | 0            | 0            | 14.28571     | 20.588235    | 22.727273    | 21.511628    | 24.5136187   | ⋯            |  2.424242    |  4.666667    |  1.869159    |  2.50        |  5.172414    |  3.225806    | 21.05263     |  0           |  0.00000     |  0           |\n",
       "| ABCD3_5661   | alpha        | 0            | 0            | 0            | 14.28571     | 23.529412    | 15.151515    | 19.186047    | 17.8988327   | ⋯            | 21.818182    | 28.666667    | 32.710280    | 23.75        | 18.965517    | 48.387097    | 52.63158     | 40           | 16.66667     | 50           |\n",
       "| ABCF2_120214 | alpha        | 0            | 0            | 0            |  0.00000     |  5.882353    |  7.575758    |  6.395349    |  6.2256809   | ⋯            |  9.696970    | 15.333333    | 18.691589    | 17.50        | 15.517241    | 22.580645    | 42.10526     | 30           |  0.00000     | 50           |\n",
       "| ABHD2_44351  | alpha        | 0            | 0            | 0            |  0.00000     |  0.000000    |  0.000000    |  1.162791    |  0.3891051   | ⋯            |  4.848485    |  8.666667    | 12.149533    |  8.75        | 12.068966    | 12.903226    | 21.05263     |  0           |  0.00000     | 50           |\n",
       "\n"
      ],
      "text/plain": [
       "  gene_tr.idx  celltype 1 2 3 4        5         6         7         8         \n",
       "1 AAGAB_42733  alpha    0 0 0  0.00000 17.647059  6.060606 11.627907 11.6731518\n",
       "2 ABCB9_32864  alpha    0 0 0  0.00000  0.000000  0.000000  1.162791  0.3891051\n",
       "3 ABCC8_17965  alpha    0 0 0 14.28571 20.588235 22.727273 21.511628 24.5136187\n",
       "4 ABCD3_5661   alpha    0 0 0 14.28571 23.529412 15.151515 19.186047 17.8988327\n",
       "5 ABCF2_120214 alpha    0 0 0  0.00000  5.882353  7.575758  6.395349  6.2256809\n",
       "6 ABHD2_44351  alpha    0 0 0  0.00000  0.000000  0.000000  1.162791  0.3891051\n",
       "  ⋯ 91        92        93        94    95        96        97       98\n",
       "1 ⋯ 20.606061 19.333333 18.691589 20.00 27.586207 38.709677 31.57895 40\n",
       "2 ⋯  3.636364  6.000000 13.084112  3.75 12.068966 12.903226 15.78947 10\n",
       "3 ⋯  2.424242  4.666667  1.869159  2.50  5.172414  3.225806 21.05263  0\n",
       "4 ⋯ 21.818182 28.666667 32.710280 23.75 18.965517 48.387097 52.63158 40\n",
       "5 ⋯  9.696970 15.333333 18.691589 17.50 15.517241 22.580645 42.10526 30\n",
       "6 ⋯  4.848485  8.666667 12.149533  8.75 12.068966 12.903226 21.05263  0\n",
       "  99       100\n",
       "1 33.33333  0 \n",
       "2  0.00000  0 \n",
       "3  0.00000  0 \n",
       "4 16.66667 50 \n",
       "5  0.00000 50 \n",
       "6  0.00000 50 "
      ]
     },
     "metadata": {},
     "output_type": "display_data"
    },
    {
     "data": {
      "text/html": [
       "<table>\n",
       "<thead><tr><th scope=col>gene_tr.idx</th><th scope=col>celltype</th><th scope=col>1</th><th scope=col>2</th><th scope=col>3</th><th scope=col>4</th><th scope=col>5</th><th scope=col>6</th><th scope=col>7</th><th scope=col>8</th><th scope=col>⋯</th><th scope=col>91</th><th scope=col>92</th><th scope=col>93</th><th scope=col>94</th><th scope=col>95</th><th scope=col>96</th><th scope=col>97</th><th scope=col>98</th><th scope=col>99</th><th scope=col>100</th></tr></thead>\n",
       "<tbody>\n",
       "\t<tr><td>ZNF841_72189 </td><td>beta         </td><td> 0           </td><td> 0.00000     </td><td> 0.000000    </td><td> 5.714286    </td><td> 3.488372    </td><td> 2.094241    </td><td> 2.453988    </td><td> 2.5270758   </td><td>⋯            </td><td> 5.020921    </td><td> 7.5         </td><td> 6.976744    </td><td> 4.819277    </td><td>8.620690     </td><td>18.750       </td><td> 9.090909    </td><td>10           </td><td> 0           </td><td> 0           </td></tr>\n",
       "\t<tr><td>ZSCAN22_73416</td><td>beta         </td><td> 0           </td><td> 0.00000     </td><td> 0.000000    </td><td>11.428571    </td><td> 3.488372    </td><td> 4.188482    </td><td> 3.680982    </td><td> 3.9711191   </td><td>⋯            </td><td>10.041841    </td><td>10.0         </td><td>16.279070    </td><td> 9.638554    </td><td>5.172414     </td><td>12.500       </td><td>22.727273    </td><td>20           </td><td>20           </td><td> 0           </td></tr>\n",
       "\t<tr><td>ZSCAN5A_73073</td><td>beta         </td><td> 0           </td><td> 0.00000     </td><td> 6.666667    </td><td> 0.000000    </td><td> 4.651163    </td><td> 5.235602    </td><td> 3.374233    </td><td> 5.5956679   </td><td>⋯            </td><td> 7.949791    </td><td> 8.0         </td><td> 6.976744    </td><td>13.253012    </td><td>5.172414     </td><td> 9.375       </td><td> 9.090909    </td><td>30           </td><td> 0           </td><td> 0           </td></tr>\n",
       "\t<tr><td>ZSWIM2_79591 </td><td>beta         </td><td> 0           </td><td>50.00000     </td><td>46.666667    </td><td>45.714286    </td><td>23.255814    </td><td>24.607330    </td><td>23.619632    </td><td>15.7039711   </td><td>⋯            </td><td> 7.949791    </td><td>10.0         </td><td> 3.875969    </td><td> 6.024096    </td><td>8.620690     </td><td> 3.125       </td><td> 9.090909    </td><td> 0           </td><td>20           </td><td> 0           </td></tr>\n",
       "\t<tr><td>ZUFSP_112980 </td><td>beta         </td><td>50           </td><td>16.66667     </td><td>13.333333    </td><td>25.714286    </td><td>15.116279    </td><td> 9.947644    </td><td> 8.588957    </td><td> 7.4007220   </td><td>⋯            </td><td> 4.602510    </td><td> 8.0         </td><td> 6.976744    </td><td>13.253012    </td><td>6.896552     </td><td> 9.375       </td><td> 9.090909    </td><td> 0           </td><td>20           </td><td>20           </td></tr>\n",
       "\t<tr><td>ZZEF1_52563  </td><td>beta         </td><td> 0           </td><td> 0.00000     </td><td> 0.000000    </td><td> 0.000000    </td><td> 0.000000    </td><td> 0.000000    </td><td> 0.000000    </td><td> 0.3610108   </td><td>⋯            </td><td> 1.673640    </td><td> 1.5         </td><td> 1.550388    </td><td> 2.409639    </td><td>0.000000     </td><td> 6.250       </td><td> 9.090909    </td><td> 0           </td><td> 0           </td><td> 0           </td></tr>\n",
       "</tbody>\n",
       "</table>\n"
      ],
      "text/latex": [
       "\\begin{tabular}{r|llllllllllllllllllllllllllllllllllllllllllllllllllllllllllllllllllllllllllllllllllllllllllllllllllllll}\n",
       " gene\\_tr.idx & celltype & 1 & 2 & 3 & 4 & 5 & 6 & 7 & 8 & ⋯ & 91 & 92 & 93 & 94 & 95 & 96 & 97 & 98 & 99 & 100\\\\\n",
       "\\hline\n",
       "\t ZNF841\\_72189  & beta            &  0              &  0.00000        &  0.000000       &  5.714286       &  3.488372       &  2.094241       &  2.453988       &  2.5270758      & ⋯               &  5.020921       &  7.5            &  6.976744       &  4.819277       & 8.620690        & 18.750          &  9.090909       & 10              &  0              &  0             \\\\\n",
       "\t ZSCAN22\\_73416 & beta            &  0              &  0.00000        &  0.000000       & 11.428571       &  3.488372       &  4.188482       &  3.680982       &  3.9711191      & ⋯               & 10.041841       & 10.0            & 16.279070       &  9.638554       & 5.172414        & 12.500          & 22.727273       & 20              & 20              &  0             \\\\\n",
       "\t ZSCAN5A\\_73073 & beta            &  0              &  0.00000        &  6.666667       &  0.000000       &  4.651163       &  5.235602       &  3.374233       &  5.5956679      & ⋯               &  7.949791       &  8.0            &  6.976744       & 13.253012       & 5.172414        &  9.375          &  9.090909       & 30              &  0              &  0             \\\\\n",
       "\t ZSWIM2\\_79591  & beta            &  0              & 50.00000        & 46.666667       & 45.714286       & 23.255814       & 24.607330       & 23.619632       & 15.7039711      & ⋯               &  7.949791       & 10.0            &  3.875969       &  6.024096       & 8.620690        &  3.125          &  9.090909       &  0              & 20              &  0             \\\\\n",
       "\t ZUFSP\\_112980  & beta            & 50              & 16.66667        & 13.333333       & 25.714286       & 15.116279       &  9.947644       &  8.588957       &  7.4007220      & ⋯               &  4.602510       &  8.0            &  6.976744       & 13.253012       & 6.896552        &  9.375          &  9.090909       &  0              & 20              & 20             \\\\\n",
       "\t ZZEF1\\_52563   & beta            &  0              &  0.00000        &  0.000000       &  0.000000       &  0.000000       &  0.000000       &  0.000000       &  0.3610108      & ⋯               &  1.673640       &  1.5            &  1.550388       &  2.409639       & 0.000000        &  6.250          &  9.090909       &  0              &  0              &  0             \\\\\n",
       "\\end{tabular}\n"
      ],
      "text/markdown": [
       "\n",
       "| gene_tr.idx | celltype | 1 | 2 | 3 | 4 | 5 | 6 | 7 | 8 | ⋯ | 91 | 92 | 93 | 94 | 95 | 96 | 97 | 98 | 99 | 100 |\n",
       "|---|---|---|---|---|---|---|---|---|---|---|---|---|---|---|---|---|---|---|---|---|\n",
       "| ZNF841_72189  | beta          |  0            |  0.00000      |  0.000000     |  5.714286     |  3.488372     |  2.094241     |  2.453988     |  2.5270758    | ⋯             |  5.020921     |  7.5          |  6.976744     |  4.819277     | 8.620690      | 18.750        |  9.090909     | 10            |  0            |  0            |\n",
       "| ZSCAN22_73416 | beta          |  0            |  0.00000      |  0.000000     | 11.428571     |  3.488372     |  4.188482     |  3.680982     |  3.9711191    | ⋯             | 10.041841     | 10.0          | 16.279070     |  9.638554     | 5.172414      | 12.500        | 22.727273     | 20            | 20            |  0            |\n",
       "| ZSCAN5A_73073 | beta          |  0            |  0.00000      |  6.666667     |  0.000000     |  4.651163     |  5.235602     |  3.374233     |  5.5956679    | ⋯             |  7.949791     |  8.0          |  6.976744     | 13.253012     | 5.172414      |  9.375        |  9.090909     | 30            |  0            |  0            |\n",
       "| ZSWIM2_79591  | beta          |  0            | 50.00000      | 46.666667     | 45.714286     | 23.255814     | 24.607330     | 23.619632     | 15.7039711    | ⋯             |  7.949791     | 10.0          |  3.875969     |  6.024096     | 8.620690      |  3.125        |  9.090909     |  0            | 20            |  0            |\n",
       "| ZUFSP_112980  | beta          | 50            | 16.66667      | 13.333333     | 25.714286     | 15.116279     |  9.947644     |  8.588957     |  7.4007220    | ⋯             |  4.602510     |  8.0          |  6.976744     | 13.253012     | 6.896552      |  9.375        |  9.090909     |  0            | 20            | 20            |\n",
       "| ZZEF1_52563   | beta          |  0            |  0.00000      |  0.000000     |  0.000000     |  0.000000     |  0.000000     |  0.000000     |  0.3610108    | ⋯             |  1.673640     |  1.5          |  1.550388     |  2.409639     | 0.000000      |  6.250        |  9.090909     |  0            |  0            |  0            |\n",
       "\n"
      ],
      "text/plain": [
       "  gene_tr.idx   celltype 1  2        3         4         5         6        \n",
       "1 ZNF841_72189  beta      0  0.00000  0.000000  5.714286  3.488372  2.094241\n",
       "2 ZSCAN22_73416 beta      0  0.00000  0.000000 11.428571  3.488372  4.188482\n",
       "3 ZSCAN5A_73073 beta      0  0.00000  6.666667  0.000000  4.651163  5.235602\n",
       "4 ZSWIM2_79591  beta      0 50.00000 46.666667 45.714286 23.255814 24.607330\n",
       "5 ZUFSP_112980  beta     50 16.66667 13.333333 25.714286 15.116279  9.947644\n",
       "6 ZZEF1_52563   beta      0  0.00000  0.000000  0.000000  0.000000  0.000000\n",
       "  7         8          ⋯ 91        92   93        94        95       96    \n",
       "1  2.453988  2.5270758 ⋯  5.020921  7.5  6.976744  4.819277 8.620690 18.750\n",
       "2  3.680982  3.9711191 ⋯ 10.041841 10.0 16.279070  9.638554 5.172414 12.500\n",
       "3  3.374233  5.5956679 ⋯  7.949791  8.0  6.976744 13.253012 5.172414  9.375\n",
       "4 23.619632 15.7039711 ⋯  7.949791 10.0  3.875969  6.024096 8.620690  3.125\n",
       "5  8.588957  7.4007220 ⋯  4.602510  8.0  6.976744 13.253012 6.896552  9.375\n",
       "6  0.000000  0.3610108 ⋯  1.673640  1.5  1.550388  2.409639 0.000000  6.250\n",
       "  97        98 99 100\n",
       "1  9.090909 10  0  0 \n",
       "2 22.727273 20 20  0 \n",
       "3  9.090909 30  0  0 \n",
       "4  9.090909  0 20  0 \n",
       "5  9.090909  0 20 20 \n",
       "6  9.090909  0  0  0 "
      ]
     },
     "metadata": {},
     "output_type": "display_data"
    },
    {
     "data": {
      "text/html": [
       "<ol class=list-inline>\n",
       "\t<li>2330</li>\n",
       "\t<li>102</li>\n",
       "</ol>\n"
      ],
      "text/latex": [
       "\\begin{enumerate*}\n",
       "\\item 2330\n",
       "\\item 102\n",
       "\\end{enumerate*}\n"
      ],
      "text/markdown": [
       "1. 2330\n",
       "2. 102\n",
       "\n",
       "\n"
      ],
      "text/plain": [
       "[1] 2330  102"
      ]
     },
     "metadata": {},
     "output_type": "display_data"
    }
   ],
   "source": [
    "dat.pro_ps.wide <- rbind(dat.pro_ps.long%>%\n",
    "    filter(celltype==\"alpha\")%>%\n",
    "    group_by(gene_tr.idx,celltype) %>%\n",
    "    select(-one_of(c(\"ps_bin\",\"n\",\"N\")))%>%\n",
    "    spread(key = ps_bin.2,value = percent_open,fill = 0),\n",
    "               dat.pro_ps.long%>%\n",
    "    filter(celltype==\"beta\")%>%\n",
    "    group_by(gene_tr.idx,celltype) %>%\n",
    "    select(-one_of(c(\"ps_bin\",\"n\",\"N\")))%>%\n",
    "    mutate(ps_bin.2=ps_bin.2-100)%>%\n",
    "    spread(key = ps_bin.2,value = percent_open,fill = 0))\n",
    "head(dat.pro_ps.wide)\n",
    "tail(dat.pro_ps.wide)\n",
    "dim(dat.pro_ps.wide)"
   ]
  },
  {
   "cell_type": "code",
   "execution_count": 13,
   "metadata": {},
   "outputs": [
    {
     "data": {
      "text/html": [
       "<table>\n",
       "<thead><tr><th scope=col>gene_tr.idx</th><th scope=col>celltype</th><th scope=col>bin</th><th scope=col>percent_open</th></tr></thead>\n",
       "<tbody>\n",
       "\t<tr><td>AAGAB_42733 </td><td>alpha       </td><td>1           </td><td>0           </td></tr>\n",
       "\t<tr><td>ABCB9_32864 </td><td>alpha       </td><td>1           </td><td>0           </td></tr>\n",
       "\t<tr><td>ABCC8_17965 </td><td>alpha       </td><td>1           </td><td>0           </td></tr>\n",
       "\t<tr><td>ABCD3_5661  </td><td>alpha       </td><td>1           </td><td>0           </td></tr>\n",
       "\t<tr><td>ABCF2_120214</td><td>alpha       </td><td>1           </td><td>0           </td></tr>\n",
       "\t<tr><td>ABHD2_44351 </td><td>alpha       </td><td>1           </td><td>0           </td></tr>\n",
       "</tbody>\n",
       "</table>\n"
      ],
      "text/latex": [
       "\\begin{tabular}{r|llll}\n",
       " gene\\_tr.idx & celltype & bin & percent\\_open\\\\\n",
       "\\hline\n",
       "\t AAGAB\\_42733  & alpha          & 1              & 0             \\\\\n",
       "\t ABCB9\\_32864  & alpha          & 1              & 0             \\\\\n",
       "\t ABCC8\\_17965  & alpha          & 1              & 0             \\\\\n",
       "\t ABCD3\\_5661   & alpha          & 1              & 0             \\\\\n",
       "\t ABCF2\\_120214 & alpha          & 1              & 0             \\\\\n",
       "\t ABHD2\\_44351  & alpha          & 1              & 0             \\\\\n",
       "\\end{tabular}\n"
      ],
      "text/markdown": [
       "\n",
       "| gene_tr.idx | celltype | bin | percent_open |\n",
       "|---|---|---|---|\n",
       "| AAGAB_42733  | alpha        | 1            | 0            |\n",
       "| ABCB9_32864  | alpha        | 1            | 0            |\n",
       "| ABCC8_17965  | alpha        | 1            | 0            |\n",
       "| ABCD3_5661   | alpha        | 1            | 0            |\n",
       "| ABCF2_120214 | alpha        | 1            | 0            |\n",
       "| ABHD2_44351  | alpha        | 1            | 0            |\n",
       "\n"
      ],
      "text/plain": [
       "  gene_tr.idx  celltype bin percent_open\n",
       "1 AAGAB_42733  alpha    1   0           \n",
       "2 ABCB9_32864  alpha    1   0           \n",
       "3 ABCC8_17965  alpha    1   0           \n",
       "4 ABCD3_5661   alpha    1   0           \n",
       "5 ABCF2_120214 alpha    1   0           \n",
       "6 ABHD2_44351  alpha    1   0           "
      ]
     },
     "metadata": {},
     "output_type": "display_data"
    },
    {
     "data": {
      "text/html": [
       "<table>\n",
       "<thead><tr><th scope=col>gene_tr.idx</th><th scope=col>celltype</th><th scope=col>bin</th><th scope=col>percent_open</th></tr></thead>\n",
       "<tbody>\n",
       "\t<tr><td>ZNF841_72189 </td><td>beta         </td><td>100          </td><td> 0           </td></tr>\n",
       "\t<tr><td>ZSCAN22_73416</td><td>beta         </td><td>100          </td><td> 0           </td></tr>\n",
       "\t<tr><td>ZSCAN5A_73073</td><td>beta         </td><td>100          </td><td> 0           </td></tr>\n",
       "\t<tr><td>ZSWIM2_79591 </td><td>beta         </td><td>100          </td><td> 0           </td></tr>\n",
       "\t<tr><td>ZUFSP_112980 </td><td>beta         </td><td>100          </td><td>20           </td></tr>\n",
       "\t<tr><td>ZZEF1_52563  </td><td>beta         </td><td>100          </td><td> 0           </td></tr>\n",
       "</tbody>\n",
       "</table>\n"
      ],
      "text/latex": [
       "\\begin{tabular}{r|llll}\n",
       " gene\\_tr.idx & celltype & bin & percent\\_open\\\\\n",
       "\\hline\n",
       "\t ZNF841\\_72189  & beta            & 100             &  0             \\\\\n",
       "\t ZSCAN22\\_73416 & beta            & 100             &  0             \\\\\n",
       "\t ZSCAN5A\\_73073 & beta            & 100             &  0             \\\\\n",
       "\t ZSWIM2\\_79591  & beta            & 100             &  0             \\\\\n",
       "\t ZUFSP\\_112980  & beta            & 100             & 20             \\\\\n",
       "\t ZZEF1\\_52563   & beta            & 100             &  0             \\\\\n",
       "\\end{tabular}\n"
      ],
      "text/markdown": [
       "\n",
       "| gene_tr.idx | celltype | bin | percent_open |\n",
       "|---|---|---|---|\n",
       "| ZNF841_72189  | beta          | 100           |  0            |\n",
       "| ZSCAN22_73416 | beta          | 100           |  0            |\n",
       "| ZSCAN5A_73073 | beta          | 100           |  0            |\n",
       "| ZSWIM2_79591  | beta          | 100           |  0            |\n",
       "| ZUFSP_112980  | beta          | 100           | 20            |\n",
       "| ZZEF1_52563   | beta          | 100           |  0            |\n",
       "\n"
      ],
      "text/plain": [
       "  gene_tr.idx   celltype bin percent_open\n",
       "1 ZNF841_72189  beta     100  0          \n",
       "2 ZSCAN22_73416 beta     100  0          \n",
       "3 ZSCAN5A_73073 beta     100  0          \n",
       "4 ZSWIM2_79591  beta     100  0          \n",
       "5 ZUFSP_112980  beta     100 20          \n",
       "6 ZZEF1_52563   beta     100  0          "
      ]
     },
     "metadata": {},
     "output_type": "display_data"
    },
    {
     "data": {
      "text/html": [
       "<ol class=list-inline>\n",
       "\t<li>233000</li>\n",
       "\t<li>4</li>\n",
       "</ol>\n"
      ],
      "text/latex": [
       "\\begin{enumerate*}\n",
       "\\item 233000\n",
       "\\item 4\n",
       "\\end{enumerate*}\n"
      ],
      "text/markdown": [
       "1. 233000\n",
       "2. 4\n",
       "\n",
       "\n"
      ],
      "text/plain": [
       "[1] 233000      4"
      ]
     },
     "metadata": {},
     "output_type": "display_data"
    }
   ],
   "source": [
    "# wide to long again to fill \n",
    "\n",
    "dat.pro_ps.long <- dat.pro_ps.wide%>%gather(key = \"bin\",value = \"percent_open\",3:102)\n",
    "head(dat.pro_ps.long)\n",
    "tail(dat.pro_ps.long)\n",
    "dim(dat.pro_ps.long)"
   ]
  },
  {
   "cell_type": "markdown",
   "metadata": {},
   "source": [
    "### 4.2 data smooth"
   ]
  },
  {
   "cell_type": "code",
   "execution_count": 14,
   "metadata": {},
   "outputs": [
    {
     "name": "stderr",
     "output_type": "stream",
     "text": [
      "Loading required package: parallel\n"
     ]
    },
    {
     "data": {
      "text/plain": [
       "   user  system elapsed \n",
       " 69.580  32.862  20.436 "
      ]
     },
     "metadata": {},
     "output_type": "display_data"
    }
   ],
   "source": [
    "require(parallel)\n",
    "dat.pro_ps.smooth <- list()\n",
    "system.time(\n",
    "    for(ct in c(\"alpha\",\"beta\")){\n",
    "    dat.sub <- subset(dat.pro_ps.long,celltype==ct)\n",
    "    all.tr <- unique(dat.sub$gene_tr.idx)\n",
    "    dat.pro_ps.smooth[[ct]] <- mclapply(all.tr,\n",
    "                           function(g){data.frame(bin=1:100,\n",
    "                                                  gene_tr.idx=g,\n",
    "                                                  percent_open=predict(loess(percent_open~bin, data=dat.sub%>%filter(gene_tr.idx==g))),\n",
    "                                                  celltype=ct)},mc.cores=12)\n",
    "})\n"
   ]
  },
  {
   "cell_type": "code",
   "execution_count": 25,
   "metadata": {},
   "outputs": [],
   "source": [
    "dat.pro_ps.smooth<- rbind(do.call(rbind,dat.pro_ps.smooth$alpha),do.call(rbind,dat.pro_ps.smooth$beta))"
   ]
  },
  {
   "cell_type": "code",
   "execution_count": 26,
   "metadata": {},
   "outputs": [],
   "source": [
    "fwrite(dat.pro_ps.smooth,file = \"../dat/1901/alpha_beta.promoter.long_100bin_transcripts_ps_smoothed_dy_varible.txt\")\n",
    "fwrite(dat.pro_ps.long,file = \"../dat/1901/alpha_beta.promoter.long_100bin_transcripts_ps_raw_dy_varible.txt\")"
   ]
  },
  {
   "cell_type": "code",
   "execution_count": null,
   "metadata": {},
   "outputs": [],
   "source": []
  }
 ],
 "metadata": {
  "kernelspec": {
   "display_name": "R",
   "language": "R",
   "name": "ir"
  },
  "language_info": {
   "codemirror_mode": "r",
   "file_extension": ".r",
   "mimetype": "text/x-r-source",
   "name": "R",
   "pygments_lexer": "r",
   "version": "3.5.1"
  }
 },
 "nbformat": 4,
 "nbformat_minor": 2
}
