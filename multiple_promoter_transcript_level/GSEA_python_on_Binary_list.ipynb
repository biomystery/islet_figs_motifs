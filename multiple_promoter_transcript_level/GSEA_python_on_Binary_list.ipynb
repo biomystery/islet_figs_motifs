{
 "cells": [
  {
   "cell_type": "markdown",
   "metadata": {},
   "source": [
    "# Perform GSEA using GSEAPY  \n",
    "\n",
    "Following the potocol defined here: https://gseapy.readthedocs.io/en/latest/gseapy_tutorial.html#use-gsea-command-or-gsea\n"
   ]
  },
  {
   "cell_type": "code",
   "execution_count": 1,
   "metadata": {},
   "outputs": [],
   "source": [
    "%matplotlib inline\n",
    "%config InlineBackend.figure_format='retina' # mac\n",
    "import pandas as pd\n",
    "import gseapy as gp\n",
    "import numpy as np\n",
    "import matplotlib.pyplot as plt"
   ]
  },
  {
   "cell_type": "code",
   "execution_count": 2,
   "metadata": {},
   "outputs": [
    {
     "data": {
      "text/plain": [
       "'0.9.9'"
      ]
     },
     "execution_count": 2,
     "metadata": {},
     "output_type": "execute_result"
    }
   ],
   "source": [
    "gp.__version__"
   ]
  },
  {
   "cell_type": "markdown",
   "metadata": {},
   "source": [
    "## alpha"
   ]
  },
  {
   "cell_type": "markdown",
   "metadata": {},
   "source": [
    "### 1. Prepare prerank file\n",
    "\n",
    "* eg: https://github.com/zqfang/GSEApy/blob/master/tests/data/temp.rnk\n",
    "\n"
   ]
  },
  {
   "cell_type": "code",
   "execution_count": 3,
   "metadata": {},
   "outputs": [
    {
     "name": "stderr",
     "output_type": "stream",
     "text": [
      "/Users/frank/anaconda/envs/py36/lib/python3.6/site-packages/ipykernel_launcher.py:4: RuntimeWarning: divide by zero encountered in log2\n",
      "  after removing the cwd from sys.path.\n",
      "/Users/frank/anaconda/envs/py36/lib/python3.6/site-packages/ipykernel_launcher.py:9: FutureWarning: The signature of `Series.to_csv` was aligned to that of `DataFrame.to_csv`, and argument 'header' will change its default value from False to True: please pass an explicit value to suppress this warning.\n",
      "  if __name__ == '__main__':\n",
      "/Users/frank/anaconda/envs/py36/lib/python3.6/site-packages/ipykernel_launcher.py:10: FutureWarning: read_table is deprecated, use read_csv instead, passing sep='\\t'.\n",
      "  # Remove the CWD from sys.path while we load stuff.\n"
     ]
    },
    {
     "data": {
      "text/html": [
       "<div>\n",
       "<style scoped>\n",
       "    .dataframe tbody tr th:only-of-type {\n",
       "        vertical-align: middle;\n",
       "    }\n",
       "\n",
       "    .dataframe tbody tr th {\n",
       "        vertical-align: top;\n",
       "    }\n",
       "\n",
       "    .dataframe thead th {\n",
       "        text-align: right;\n",
       "    }\n",
       "</style>\n",
       "<table border=\"1\" class=\"dataframe\">\n",
       "  <thead>\n",
       "    <tr style=\"text-align: right;\">\n",
       "      <th></th>\n",
       "      <th>0</th>\n",
       "      <th>1</th>\n",
       "    </tr>\n",
       "  </thead>\n",
       "  <tbody>\n",
       "    <tr>\n",
       "      <th>0</th>\n",
       "      <td>chr10:126233987-126234654</td>\n",
       "      <td>4.860521</td>\n",
       "    </tr>\n",
       "    <tr>\n",
       "      <th>1</th>\n",
       "      <td>chr2:127963002-127963589</td>\n",
       "      <td>4.861537</td>\n",
       "    </tr>\n",
       "    <tr>\n",
       "      <th>2</th>\n",
       "      <td>chr5:140787431-140787735</td>\n",
       "      <td>4.828084</td>\n",
       "    </tr>\n",
       "    <tr>\n",
       "      <th>3</th>\n",
       "      <td>chr5:134223476-134223683</td>\n",
       "      <td>4.846558</td>\n",
       "    </tr>\n",
       "    <tr>\n",
       "      <th>4</th>\n",
       "      <td>chr14:81884874-81885084</td>\n",
       "      <td>4.831166</td>\n",
       "    </tr>\n",
       "  </tbody>\n",
       "</table>\n",
       "</div>"
      ],
      "text/plain": [
       "                           0         1\n",
       "0  chr10:126233987-126234654  4.860521\n",
       "1   chr2:127963002-127963589  4.861537\n",
       "2   chr5:140787431-140787735  4.828084\n",
       "3   chr5:134223476-134223683  4.846558\n",
       "4    chr14:81884874-81885084  4.831166"
      ]
     },
     "execution_count": 3,
     "metadata": {},
     "output_type": "execute_result"
    }
   ],
   "source": [
    "gene_exp_alpha = pd.read_csv(\"../dat/figdata/fig2_prom_ttest_res.csv\",index_col=1)\n",
    "#gene_exp_alpha.head()\n",
    "df = gene_exp_alpha.loc[gene_exp_alpha[\"celltype\"]==\"alpha\"].sort_values(by='odds', ascending=False)[\"odds\"]\n",
    "df=np.log2(df)\n",
    "\n",
    "# replace inf to max exclude inf\n",
    "#df=df.replace(np.inf,df[~df.isin([np.inf])].max(0))\n",
    "#df=df.replace(-np.inf,df[~df.isin([-np.inf])].min(0))\n",
    "df.to_csv('../dat/figdata/res.genes.a.rnk',sep='\\t')\n",
    "rnk = pd.read_table(\"../dat/figdata/res.genes.a.rnk\", header=None)\n",
    "\n",
    "for i in  rnk.index[(rnk[1]==np.inf).tolist()].tolist():\n",
    "    rnk.iloc[i,1]= df[~df.isin([np.inf])].max(0)*(1+np.random.uniform()/100)\n",
    "\n",
    "for i in  rnk.index[(rnk[1]==-np.inf).tolist()].tolist():\n",
    "    rnk.iloc[i,1]= df[~df.isin([-np.inf])].min(0)*(1+np.random.uniform()/100)\n",
    "\n",
    "#rnk.set_index(0)\n",
    "rnk.head()"
   ]
  },
  {
   "cell_type": "code",
   "execution_count": 35,
   "metadata": {},
   "outputs": [
    {
     "name": "stderr",
     "output_type": "stream",
     "text": [
      "2019-03-12 10:45:12,645 Input gene rankings contains duplicated IDs, Only use the duplicated ID with highest value!\n"
     ]
    },
    {
     "data": {
      "text/html": [
       "<div>\n",
       "<style scoped>\n",
       "    .dataframe tbody tr th:only-of-type {\n",
       "        vertical-align: middle;\n",
       "    }\n",
       "\n",
       "    .dataframe tbody tr th {\n",
       "        vertical-align: top;\n",
       "    }\n",
       "\n",
       "    .dataframe thead th {\n",
       "        text-align: right;\n",
       "    }\n",
       "</style>\n",
       "<table border=\"1\" class=\"dataframe\">\n",
       "  <thead>\n",
       "    <tr style=\"text-align: right;\">\n",
       "      <th></th>\n",
       "      <th>es</th>\n",
       "      <th>nes</th>\n",
       "      <th>pval</th>\n",
       "      <th>fdr</th>\n",
       "      <th>geneset_size</th>\n",
       "      <th>matched_size</th>\n",
       "      <th>genes</th>\n",
       "      <th>ledge_genes</th>\n",
       "    </tr>\n",
       "    <tr>\n",
       "      <th>Term</th>\n",
       "      <th></th>\n",
       "      <th></th>\n",
       "      <th></th>\n",
       "      <th></th>\n",
       "      <th></th>\n",
       "      <th></th>\n",
       "      <th></th>\n",
       "      <th></th>\n",
       "    </tr>\n",
       "  </thead>\n",
       "  <tbody>\n",
       "    <tr>\n",
       "      <th>Beta1</th>\n",
       "      <td>0.787680</td>\n",
       "      <td>2.926606</td>\n",
       "      <td>0.0</td>\n",
       "      <td>0.0</td>\n",
       "      <td>178</td>\n",
       "      <td>176</td>\n",
       "      <td>DDC;WWC1;INPP4B;ARHGAP26;LDLRAD3;MGAT5;GSTZ1;M...</td>\n",
       "      <td>DDC;WWC1;INPP4B;ARHGAP26;LDLRAD3;MGAT5;GSTZ1;M...</td>\n",
       "    </tr>\n",
       "    <tr>\n",
       "      <th>Beta2</th>\n",
       "      <td>-0.300225</td>\n",
       "      <td>-1.640853</td>\n",
       "      <td>0.0</td>\n",
       "      <td>0.0</td>\n",
       "      <td>682</td>\n",
       "      <td>681</td>\n",
       "      <td>MDC1;GLYR1;CD44;TNS3;MAML3;CEP350;SLCO3A1;ARG2...</td>\n",
       "      <td>CRTC2;SLC25A38;IFT172;FBXO30;SDC2;RAPH1;ACAP1;...</td>\n",
       "    </tr>\n",
       "  </tbody>\n",
       "</table>\n",
       "</div>"
      ],
      "text/plain": [
       "             es       nes  pval  fdr  geneset_size  matched_size  \\\n",
       "Term                                                               \n",
       "Beta1  0.787680  2.926606   0.0  0.0           178           176   \n",
       "Beta2 -0.300225 -1.640853   0.0  0.0           682           681   \n",
       "\n",
       "                                                   genes  \\\n",
       "Term                                                       \n",
       "Beta1  DDC;WWC1;INPP4B;ARHGAP26;LDLRAD3;MGAT5;GSTZ1;M...   \n",
       "Beta2  MDC1;GLYR1;CD44;TNS3;MAML3;CEP350;SLCO3A1;ARG2...   \n",
       "\n",
       "                                             ledge_genes  \n",
       "Term                                                      \n",
       "Beta1  DDC;WWC1;INPP4B;ARHGAP26;LDLRAD3;MGAT5;GSTZ1;M...  \n",
       "Beta2  CRTC2;SLC25A38;IFT172;FBXO30;SDC2;RAPH1;ACAP1;...  "
      ]
     },
     "execution_count": 35,
     "metadata": {},
     "output_type": "execute_result"
    }
   ],
   "source": [
    "# run gsea\n",
    "# enrichr libraries are supported by gsea module. Just provide the name\n",
    "\n",
    "gs_res_a = gp.prerank(rnk=rnk, # or data='./P53_resampling_data.txt'\n",
    "                 gene_sets='../dat/glists/gsea_beta.gmt', # enrichr library names or gmt file\n",
    "                 #set permutation_type to phenotype if samples >=15\n",
    "                 permutation_num=1000, # reduce number to speed up test\n",
    "                 outdir=None,  # do not write output to disk\n",
    "                 no_plot=True, # Skip plotting\n",
    "                 #weighted_score_type=1,\n",
    "                 #ascending=False,\n",
    "                    seed=1000,\n",
    "                 min_size=10,\n",
    "                 max_size=2100,\n",
    "                 processes=4)\n",
    "                 #format='png')\n",
    "gs_res_a.res2d"
   ]
  },
  {
   "cell_type": "markdown",
   "metadata": {},
   "source": [
    "## beta"
   ]
  },
  {
   "cell_type": "code",
   "execution_count": 10,
   "metadata": {},
   "outputs": [
    {
     "data": {
      "text/html": [
       "<div>\n",
       "<style scoped>\n",
       "    .dataframe tbody tr th:only-of-type {\n",
       "        vertical-align: middle;\n",
       "    }\n",
       "\n",
       "    .dataframe tbody tr th {\n",
       "        vertical-align: top;\n",
       "    }\n",
       "\n",
       "    .dataframe thead th {\n",
       "        text-align: right;\n",
       "    }\n",
       "</style>\n",
       "<table border=\"1\" class=\"dataframe\">\n",
       "  <thead>\n",
       "    <tr style=\"text-align: right;\">\n",
       "      <th></th>\n",
       "      <th>0</th>\n",
       "      <th>1</th>\n",
       "    </tr>\n",
       "  </thead>\n",
       "  <tbody>\n",
       "    <tr>\n",
       "      <th>0</th>\n",
       "      <td>PI4KA</td>\n",
       "      <td>5.013283</td>\n",
       "    </tr>\n",
       "    <tr>\n",
       "      <th>1</th>\n",
       "      <td>NELL1</td>\n",
       "      <td>5.017021</td>\n",
       "    </tr>\n",
       "    <tr>\n",
       "      <th>2</th>\n",
       "      <td>PRKCH</td>\n",
       "      <td>5.016948</td>\n",
       "    </tr>\n",
       "    <tr>\n",
       "      <th>3</th>\n",
       "      <td>KLKB1</td>\n",
       "      <td>5.034227</td>\n",
       "    </tr>\n",
       "    <tr>\n",
       "      <th>4</th>\n",
       "      <td>UXS1</td>\n",
       "      <td>5.035009</td>\n",
       "    </tr>\n",
       "  </tbody>\n",
       "</table>\n",
       "</div>"
      ],
      "text/plain": [
       "       0         1\n",
       "0  PI4KA  5.013283\n",
       "1  NELL1  5.017021\n",
       "2  PRKCH  5.016948\n",
       "3  KLKB1  5.034227\n",
       "4   UXS1  5.035009"
      ]
     },
     "execution_count": 10,
     "metadata": {},
     "output_type": "execute_result"
    }
   ],
   "source": [
    "gene_exp_alpha = pd.read_csv(\"../dat/figdata/fig2_prom_ttest_res.csv\",index_col=1)\n",
    "#gene_exp_alpha.head()\n",
    "df = gene_exp_alpha.loc[gene_exp_alpha[\"celltype\"]==\"beta\"].sort_values(by='odds', ascending=False)[\"odds\"]\n",
    "df=np.log2(df)\n",
    "\n",
    "# replace inf to max exclude inf\n",
    "#df=df.replace(np.inf,df[~df.isin([np.inf])].max(0))\n",
    "#df=df.replace(-np.inf,df[~df.isin([-np.inf])].min(0))\n",
    "df.to_csv('../dat/figdata/res.genes.a.rnk',sep='\\t')\n",
    "rnk = pd.read_table(\"../dat/figdata/res.genes.a.rnk\", header=None)\n",
    "\n",
    "for i in  rnk.index[(rnk[1]==np.inf).tolist()].tolist():\n",
    "    rnk.iloc[i,1]= df[~df.isin([np.inf])].max(0)*(1+np.random.uniform()/100)\n",
    "\n",
    "for i in  rnk.index[(rnk[1]==-np.inf).tolist()].tolist():\n",
    "    rnk.iloc[i,1]= df[~df.isin([-np.inf])].min(0)*(1+np.random.uniform()/100)\n",
    "\n",
    "#rnk.set_index(0)\n",
    "rnk.head()\n",
    "\n"
   ]
  },
  {
   "cell_type": "code",
   "execution_count": 30,
   "metadata": {},
   "outputs": [
    {
     "name": "stderr",
     "output_type": "stream",
     "text": [
      "2019-03-12 10:43:34,837 Input gene rankings contains duplicated IDs, Only use the duplicated ID with highest value!\n"
     ]
    },
    {
     "data": {
      "text/html": [
       "<div>\n",
       "<style scoped>\n",
       "    .dataframe tbody tr th:only-of-type {\n",
       "        vertical-align: middle;\n",
       "    }\n",
       "\n",
       "    .dataframe tbody tr th {\n",
       "        vertical-align: top;\n",
       "    }\n",
       "\n",
       "    .dataframe thead th {\n",
       "        text-align: right;\n",
       "    }\n",
       "</style>\n",
       "<table border=\"1\" class=\"dataframe\">\n",
       "  <thead>\n",
       "    <tr style=\"text-align: right;\">\n",
       "      <th></th>\n",
       "      <th>es</th>\n",
       "      <th>nes</th>\n",
       "      <th>pval</th>\n",
       "      <th>fdr</th>\n",
       "      <th>geneset_size</th>\n",
       "      <th>matched_size</th>\n",
       "      <th>genes</th>\n",
       "      <th>ledge_genes</th>\n",
       "    </tr>\n",
       "    <tr>\n",
       "      <th>Term</th>\n",
       "      <th></th>\n",
       "      <th></th>\n",
       "      <th></th>\n",
       "      <th></th>\n",
       "      <th></th>\n",
       "      <th></th>\n",
       "      <th></th>\n",
       "      <th></th>\n",
       "    </tr>\n",
       "  </thead>\n",
       "  <tbody>\n",
       "    <tr>\n",
       "      <th>Alpha1</th>\n",
       "      <td>0.772896</td>\n",
       "      <td>2.571670</td>\n",
       "      <td>0.0</td>\n",
       "      <td>0.0</td>\n",
       "      <td>179</td>\n",
       "      <td>177</td>\n",
       "      <td>INPP4B;TLE3;MTCH1;CEP350;GSTZ1;CTBP1;SEPT9;DLG...</td>\n",
       "      <td>INPP4B;TLE3;MTCH1;CEP350;GSTZ1;CTBP1;SEPT9;DLG...</td>\n",
       "    </tr>\n",
       "    <tr>\n",
       "      <th>Alpha2</th>\n",
       "      <td>-0.286182</td>\n",
       "      <td>-1.501008</td>\n",
       "      <td>0.0</td>\n",
       "      <td>0.0</td>\n",
       "      <td>500</td>\n",
       "      <td>499</td>\n",
       "      <td>TOM1L2;CKAP5;FBXL13;UCK2;TECR;C12orf65;SDK1;FA...</td>\n",
       "      <td>EIF4A1;HOMER1;ECE1;GOT1;PLEKHH2;VDAC1;PRKCA;BD...</td>\n",
       "    </tr>\n",
       "  </tbody>\n",
       "</table>\n",
       "</div>"
      ],
      "text/plain": [
       "              es       nes  pval  fdr  geneset_size  matched_size  \\\n",
       "Term                                                                \n",
       "Alpha1  0.772896  2.571670   0.0  0.0           179           177   \n",
       "Alpha2 -0.286182 -1.501008   0.0  0.0           500           499   \n",
       "\n",
       "                                                    genes  \\\n",
       "Term                                                        \n",
       "Alpha1  INPP4B;TLE3;MTCH1;CEP350;GSTZ1;CTBP1;SEPT9;DLG...   \n",
       "Alpha2  TOM1L2;CKAP5;FBXL13;UCK2;TECR;C12orf65;SDK1;FA...   \n",
       "\n",
       "                                              ledge_genes  \n",
       "Term                                                       \n",
       "Alpha1  INPP4B;TLE3;MTCH1;CEP350;GSTZ1;CTBP1;SEPT9;DLG...  \n",
       "Alpha2  EIF4A1;HOMER1;ECE1;GOT1;PLEKHH2;VDAC1;PRKCA;BD...  "
      ]
     },
     "execution_count": 30,
     "metadata": {},
     "output_type": "execute_result"
    }
   ],
   "source": [
    "# run gsea\n",
    "# enrichr libraries are supported by gsea module. Just provide the name\n",
    "\n",
    "gs_res = gp.prerank(rnk=rnk, # or data='./P53_resampling_data.txt'\n",
    "                 gene_sets='../dat/glists/gsea_alpha.gmt', # enrichr library names or gmt file\n",
    "                 #set permutation_type to phenotype if samples >=15\n",
    "                 permutation_num=6000, # reduce number to speed up test\n",
    "                 outdir=None,  # do not write output to disk\n",
    "                 no_plot=True, # Skip plotting\n",
    "                 #weighted_score_type=1,\n",
    "                 #ascending=False,\n",
    "                    seed=1000,\n",
    "                 min_size=10,\n",
    "                 max_size=2100,\n",
    "                 processes=8)\n",
    "                 #format='png')\n",
    "gs_res.res2d"
   ]
  },
  {
   "cell_type": "markdown",
   "metadata": {},
   "source": [
    "### Save results"
   ]
  },
  {
   "cell_type": "code",
   "execution_count": 44,
   "metadata": {},
   "outputs": [
    {
     "data": {
      "text/html": [
       "<div>\n",
       "<style scoped>\n",
       "    .dataframe tbody tr th:only-of-type {\n",
       "        vertical-align: middle;\n",
       "    }\n",
       "\n",
       "    .dataframe tbody tr th {\n",
       "        vertical-align: top;\n",
       "    }\n",
       "\n",
       "    .dataframe thead th {\n",
       "        text-align: right;\n",
       "    }\n",
       "</style>\n",
       "<table border=\"1\" class=\"dataframe\">\n",
       "  <thead>\n",
       "    <tr style=\"text-align: right;\">\n",
       "      <th></th>\n",
       "      <th>es</th>\n",
       "      <th>nes</th>\n",
       "      <th>pval</th>\n",
       "      <th>fdr</th>\n",
       "    </tr>\n",
       "    <tr>\n",
       "      <th>Term</th>\n",
       "      <th></th>\n",
       "      <th></th>\n",
       "      <th></th>\n",
       "      <th></th>\n",
       "    </tr>\n",
       "  </thead>\n",
       "  <tbody>\n",
       "    <tr>\n",
       "      <th>Beta1</th>\n",
       "      <td>0.787680</td>\n",
       "      <td>2.926606</td>\n",
       "      <td>0.0</td>\n",
       "      <td>0.0</td>\n",
       "    </tr>\n",
       "    <tr>\n",
       "      <th>Beta2</th>\n",
       "      <td>-0.300225</td>\n",
       "      <td>-1.640853</td>\n",
       "      <td>0.0</td>\n",
       "      <td>0.0</td>\n",
       "    </tr>\n",
       "  </tbody>\n",
       "</table>\n",
       "</div>"
      ],
      "text/plain": [
       "             es       nes  pval  fdr\n",
       "Term                                \n",
       "Beta1  0.787680  2.926606   0.0  0.0\n",
       "Beta2 -0.300225 -1.640853   0.0  0.0"
      ]
     },
     "execution_count": 44,
     "metadata": {},
     "output_type": "execute_result"
    }
   ],
   "source": [
    "gs_res_a.res2d[['es','nes','pval','fdr']]"
   ]
  },
  {
   "cell_type": "code",
   "execution_count": 45,
   "metadata": {},
   "outputs": [],
   "source": [
    "gs_res.res2d[['es','nes','pval','fdr']].to_csv('../dat/figdata/GSEA_beta_res_seed1000.csv')\n",
    "gs_res_a.res2d[['es','nes','pval','fdr']].to_csv('../dat/figdata/GSEA_alpha_res_seed1000.csv')"
   ]
  },
  {
   "cell_type": "code",
   "execution_count": 39,
   "metadata": {},
   "outputs": [],
   "source": [
    "from gseapy.plot import gseaplot, heatmap\n",
    "terms = gs_res.res2d.index \n",
    "for i in range(len(terms)):\n",
    "    gseaplot(gs_res.ranking, term=terms[i], **gs_res.results[terms[i]],ofname=terms[i]+'_b_seed1000.pdf')\n",
    "terms = gs_res_a.res2d.index \n",
    "for i in range(len(terms)):\n",
    "    gseaplot(gs_res_a.ranking, term=terms[i], **gs_res_a.results[terms[i]],ofname=terms[i]+'_a_seed1000.pdf')\n"
   ]
  },
  {
   "cell_type": "code",
   "execution_count": null,
   "metadata": {},
   "outputs": [],
   "source": []
  }
 ],
 "metadata": {
  "kernelspec": {
   "display_name": "Python 3",
   "language": "python",
   "name": "python3"
  },
  "language_info": {
   "codemirror_mode": {
    "name": "ipython",
    "version": 3
   },
   "file_extension": ".py",
   "mimetype": "text/x-python",
   "name": "python",
   "nbconvert_exporter": "python",
   "pygments_lexer": "ipython3",
   "version": "3.6.7"
  }
 },
 "nbformat": 4,
 "nbformat_minor": 2
}
