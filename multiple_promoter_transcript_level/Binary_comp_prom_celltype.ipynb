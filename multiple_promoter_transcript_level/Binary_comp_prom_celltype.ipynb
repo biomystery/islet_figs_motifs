{
 "cells": [
  {
   "cell_type": "code",
   "execution_count": 2,
   "metadata": {},
   "outputs": [],
   "source": [
    "require(data.table)\n",
    "require(tidyverse)"
   ]
  },
  {
   "cell_type": "markdown",
   "metadata": {},
   "source": [
    "## 1. Read data "
   ]
  },
  {
   "cell_type": "code",
   "execution_count": 3,
   "metadata": {},
   "outputs": [],
   "source": [
    "res <- readRDS('../dat/output.peaks.by.cells.count.sparse.Rdata')"
   ]
  },
  {
   "cell_type": "code",
   "execution_count": 4,
   "metadata": {},
   "outputs": [
    {
     "name": "stderr",
     "output_type": "stream",
     "text": [
      "Loading required package: Matrix\n",
      "\n",
      "Attaching package: ‘Matrix’\n",
      "\n",
      "The following object is masked from ‘package:tidyr’:\n",
      "\n",
      "    expand\n",
      "\n"
     ]
    },
    {
     "name": "stdout",
     "output_type": "stream",
     "text": [
      "Formal class 'dgCMatrix' [package \"Matrix\"] with 6 slots\n",
      "  ..@ i       : int [1:38271863] 22 286 465 666 952 1191 1288 1804 2221 2414 ...\n",
      "  ..@ p       : int [1:14966] 0 1160 2722 5504 6194 13034 16851 19353 23914 26970 ...\n",
      "  ..@ Dim     : int [1:2] 255590 14965\n",
      "  ..@ Dimnames:List of 2\n",
      "  .. ..$ : chr [1:255590] \"chr1_100009896_100010395\" \"chr1_100014623_100015122\" \"chr1_100017609_100018108\" \"chr1_100023384_100023883\" ...\n",
      "  .. ..$ : chr [1:14965] \"Islet1-fresh_AGACACCTAAGAGGCAAAGGAGTACCTAT\" \"Islet1-fresh_AGACACCTAAGAGGCAAAGGAGTAGGCTC\" \"Islet1-fresh_AGACACCTAAGAGGCAAAGGAGTAGGTTG\" \"Islet1-fresh_AGACACCTAAGAGGCAAAGGCTATATAGA\" ...\n",
      "  ..@ x       : num [1:38271863] 2 1 2 1 2 2 2 1 2 1 ...\n",
      "  ..@ factors : list()\n"
     ]
    }
   ],
   "source": [
    "str(res)"
   ]
  },
  {
   "cell_type": "code",
   "execution_count": 3,
   "metadata": {
    "scrolled": true
   },
   "outputs": [
    {
     "data": {
      "text/html": [
       "<ol class=list-inline>\n",
       "\t<li>45314787</li>\n",
       "\t<li>3</li>\n",
       "</ol>\n"
      ],
      "text/latex": [
       "\\begin{enumerate*}\n",
       "\\item 45314787\n",
       "\\item 3\n",
       "\\end{enumerate*}\n"
      ],
      "text/markdown": [
       "1. 45314787\n",
       "2. 3\n",
       "\n",
       "\n"
      ],
      "text/plain": [
       "[1] 45314787        3"
      ]
     },
     "metadata": {},
     "output_type": "display_data"
    },
    {
     "data": {
      "text/html": [
       "<table>\n",
       "<thead><tr><th scope=col>distal_peak</th><th scope=col>barcode</th><th scope=col>cluster</th></tr></thead>\n",
       "<tbody>\n",
       "\t<tr><td>1_10216_10512                                </td><td>Islet3-fresh_CTGAAGCTTGCAGCTACTCTCTATTATAGCCT</td><td>beta_2                                       </td></tr>\n",
       "\t<tr><td>1_237657_237858                              </td><td>Islet3-fresh_CTGAAGCTTGCAGCTACTCTCTATTATAGCCT</td><td>beta_2                                       </td></tr>\n",
       "\t<tr><td>1_967851_968930                              </td><td>Islet3-fresh_CTGAAGCTTGCAGCTACTCTCTATTATAGCCT</td><td>beta_2                                       </td></tr>\n",
       "\t<tr><td>1_967851_968930                              </td><td>Islet3-fresh_CTGAAGCTTGCAGCTACTCTCTATTATAGCCT</td><td>beta_2                                       </td></tr>\n",
       "\t<tr><td>1_1004053_1005548                            </td><td>Islet3-fresh_CTGAAGCTTGCAGCTACTCTCTATTATAGCCT</td><td>beta_2                                       </td></tr>\n",
       "\t<tr><td>1_1004053_1005548                            </td><td>Islet3-fresh_CTGAAGCTTGCAGCTACTCTCTATTATAGCCT</td><td>beta_2                                       </td></tr>\n",
       "</tbody>\n",
       "</table>\n"
      ],
      "text/latex": [
       "\\begin{tabular}{r|lll}\n",
       " distal\\_peak & barcode & cluster\\\\\n",
       "\\hline\n",
       "\t 1\\_10216\\_10512                               & Islet3-fresh\\_CTGAAGCTTGCAGCTACTCTCTATTATAGCCT & beta\\_2                                       \\\\\n",
       "\t 1\\_237657\\_237858                             & Islet3-fresh\\_CTGAAGCTTGCAGCTACTCTCTATTATAGCCT & beta\\_2                                       \\\\\n",
       "\t 1\\_967851\\_968930                             & Islet3-fresh\\_CTGAAGCTTGCAGCTACTCTCTATTATAGCCT & beta\\_2                                       \\\\\n",
       "\t 1\\_967851\\_968930                             & Islet3-fresh\\_CTGAAGCTTGCAGCTACTCTCTATTATAGCCT & beta\\_2                                       \\\\\n",
       "\t 1\\_1004053\\_1005548                           & Islet3-fresh\\_CTGAAGCTTGCAGCTACTCTCTATTATAGCCT & beta\\_2                                       \\\\\n",
       "\t 1\\_1004053\\_1005548                           & Islet3-fresh\\_CTGAAGCTTGCAGCTACTCTCTATTATAGCCT & beta\\_2                                       \\\\\n",
       "\\end{tabular}\n"
      ],
      "text/markdown": [
       "\n",
       "| distal_peak | barcode | cluster |\n",
       "|---|---|---|\n",
       "| 1_10216_10512                                 | Islet3-fresh_CTGAAGCTTGCAGCTACTCTCTATTATAGCCT | beta_2                                        |\n",
       "| 1_237657_237858                               | Islet3-fresh_CTGAAGCTTGCAGCTACTCTCTATTATAGCCT | beta_2                                        |\n",
       "| 1_967851_968930                               | Islet3-fresh_CTGAAGCTTGCAGCTACTCTCTATTATAGCCT | beta_2                                        |\n",
       "| 1_967851_968930                               | Islet3-fresh_CTGAAGCTTGCAGCTACTCTCTATTATAGCCT | beta_2                                        |\n",
       "| 1_1004053_1005548                             | Islet3-fresh_CTGAAGCTTGCAGCTACTCTCTATTATAGCCT | beta_2                                        |\n",
       "| 1_1004053_1005548                             | Islet3-fresh_CTGAAGCTTGCAGCTACTCTCTATTATAGCCT | beta_2                                        |\n",
       "\n"
      ],
      "text/plain": [
       "  distal_peak       barcode                                       cluster\n",
       "1 1_10216_10512     Islet3-fresh_CTGAAGCTTGCAGCTACTCTCTATTATAGCCT beta_2 \n",
       "2 1_237657_237858   Islet3-fresh_CTGAAGCTTGCAGCTACTCTCTATTATAGCCT beta_2 \n",
       "3 1_967851_968930   Islet3-fresh_CTGAAGCTTGCAGCTACTCTCTATTATAGCCT beta_2 \n",
       "4 1_967851_968930   Islet3-fresh_CTGAAGCTTGCAGCTACTCTCTATTATAGCCT beta_2 \n",
       "5 1_1004053_1005548 Islet3-fresh_CTGAAGCTTGCAGCTACTCTCTATTATAGCCT beta_2 \n",
       "6 1_1004053_1005548 Islet3-fresh_CTGAAGCTTGCAGCTACTCTCTATTATAGCCT beta_2 "
      ]
     },
     "metadata": {},
     "output_type": "display_data"
    }
   ],
   "source": [
    "dat.mat <- fread('../dat/1908/all.distal.long.matrix.csv')\n",
    "dim(dat.mat)\n",
    "head(dat.mat)\n",
    "#dat.mat$cell <- NULL #no need cell id "
   ]
  },
  {
   "cell_type": "markdown",
   "metadata": {},
   "source": [
    " Concepts: \n",
    "1. `promoter region`: -500bp + 500bp for all TSS in gencode \n",
    "2. `promoter Peaks`: peaks that overlap promoter region"
   ]
  },
  {
   "cell_type": "code",
   "execution_count": 4,
   "metadata": {},
   "outputs": [
    {
     "data": {
      "text/html": [
       "<ol class=list-inline>\n",
       "\t<li>22097911</li>\n",
       "\t<li>3</li>\n",
       "</ol>\n"
      ],
      "text/latex": [
       "\\begin{enumerate*}\n",
       "\\item 22097911\n",
       "\\item 3\n",
       "\\end{enumerate*}\n"
      ],
      "text/markdown": [
       "1. 22097911\n",
       "2. 3\n",
       "\n",
       "\n"
      ],
      "text/plain": [
       "[1] 22097911        3"
      ]
     },
     "metadata": {},
     "output_type": "display_data"
    }
   ],
   "source": [
    "dat.mat <- dat.mat %>% distinct()\n",
    "dim(dat.mat)"
   ]
  },
  {
   "cell_type": "code",
   "execution_count": 5,
   "metadata": {},
   "outputs": [],
   "source": [
    "dat.mat[,cluster:=sub('(_1)|(_2)','',cluster)]"
   ]
  },
  {
   "cell_type": "code",
   "execution_count": 6,
   "metadata": {},
   "outputs": [
    {
     "data": {
      "text/plain": [
       "\n",
       "      alpha        beta       delta endothelial    exocrine       gamma \n",
       "       5594        7170         718         157         131         206 \n",
       "      glial      immune    stellate \n",
       "         39          71         153 "
      ]
     },
     "metadata": {},
     "output_type": "display_data"
    }
   ],
   "source": [
    "# all cells \n",
    "dat.all.cells <- table((dat.mat[,-\"distal_peak\"]%>%distinct())$clust)\n",
    "dat.all.cells"
   ]
  },
  {
   "cell_type": "code",
   "execution_count": 6,
   "metadata": {
    "scrolled": true
   },
   "outputs": [
    {
     "ename": "ERROR",
     "evalue": "Error in eval(expr, envir, enclos): object 'dat.all.cells' not found\n",
     "output_type": "error",
     "traceback": [
      "Error in eval(expr, envir, enclos): object 'dat.all.cells' not found\nTraceback:\n"
     ]
    }
   ],
   "source": [
    "sum(dat.all.cells)"
   ]
  },
  {
   "cell_type": "code",
   "execution_count": null,
   "metadata": {},
   "outputs": [],
   "source": [
    "# how many peaks\n",
    "length(unique(dat.mat$distal_peak))"
   ]
  },
  {
   "cell_type": "markdown",
   "metadata": {},
   "source": [
    "## 2 Prepare data\n",
    "\n",
    "\n",
    "Peak|n_cells|celltype \n",
    "--- | --- | ---\n"
   ]
  },
  {
   "cell_type": "code",
   "execution_count": null,
   "metadata": {
    "scrolled": true
   },
   "outputs": [],
   "source": [
    "# prepare data\n",
    "dat.mat<- dat.mat[,.N,by=.(distal_peak,cluster)]%>%arrange(distal_peak,cluster)"
   ]
  },
  {
   "cell_type": "code",
   "execution_count": null,
   "metadata": {
    "scrolled": true
   },
   "outputs": [],
   "source": [
    "head(dat.mat)"
   ]
  },
  {
   "cell_type": "markdown",
   "metadata": {},
   "source": [
    "## 3 Fisher's test one vs other "
   ]
  },
  {
   "cell_type": "code",
   "execution_count": 16,
   "metadata": {},
   "outputs": [
    {
     "data": {
      "text/html": [
       "<table>\n",
       "<thead><tr><th scope=col>distal_peak</th><th scope=col>cluster</th><th scope=col>N</th></tr></thead>\n",
       "<tbody>\n",
       "\t<tr><td>1_100009936_100010354</td><td>alpha                </td><td> 23                  </td></tr>\n",
       "\t<tr><td>1_100009936_100010354</td><td>other                </td><td>235                  </td></tr>\n",
       "</tbody>\n",
       "</table>\n"
      ],
      "text/latex": [
       "\\begin{tabular}{r|lll}\n",
       " distal\\_peak & cluster & N\\\\\n",
       "\\hline\n",
       "\t 1\\_100009936\\_100010354 & alpha                     &  23                      \\\\\n",
       "\t 1\\_100009936\\_100010354 & other                     & 235                      \\\\\n",
       "\\end{tabular}\n"
      ],
      "text/markdown": [
       "\n",
       "| distal_peak | cluster | N |\n",
       "|---|---|---|\n",
       "| 1_100009936_100010354 | alpha                 |  23                   |\n",
       "| 1_100009936_100010354 | other                 | 235                   |\n",
       "\n"
      ],
      "text/plain": [
       "  distal_peak           cluster N  \n",
       "1 1_100009936_100010354 alpha    23\n",
       "2 1_100009936_100010354 other   235"
      ]
     },
     "metadata": {},
     "output_type": "display_data"
    },
    {
     "data": {
      "text/html": [
       "<dl class=dl-horizontal>\n",
       "\t<dt>alpha</dt>\n",
       "\t\t<dd>23</dd>\n",
       "\t<dt>other</dt>\n",
       "\t\t<dd>235</dd>\n",
       "</dl>\n"
      ],
      "text/latex": [
       "\\begin{description*}\n",
       "\\item[alpha] 23\n",
       "\\item[other] 235\n",
       "\\end{description*}\n"
      ],
      "text/markdown": [
       "alpha\n",
       ":   23other\n",
       ":   235\n",
       "\n"
      ],
      "text/plain": [
       "alpha other \n",
       "   23   235 "
      ]
     },
     "metadata": {},
     "output_type": "display_data"
    },
    {
     "data": {
      "text/html": [
       "<table>\n",
       "<thead><tr><th></th><th scope=col>alpha</th><th scope=col>other</th></tr></thead>\n",
       "<tbody>\n",
       "\t<tr><th scope=row>Yes</th><td>  23</td><td> 235</td></tr>\n",
       "\t<tr><th scope=row>No</th><td>5571</td><td>8410</td></tr>\n",
       "</tbody>\n",
       "</table>\n"
      ],
      "text/latex": [
       "\\begin{tabular}{r|ll}\n",
       "  & alpha & other\\\\\n",
       "\\hline\n",
       "\tYes &   23 &  235\\\\\n",
       "\tNo & 5571 & 8410\\\\\n",
       "\\end{tabular}\n"
      ],
      "text/markdown": [
       "\n",
       "| <!--/--> | alpha | other |\n",
       "|---|---|---|\n",
       "| Yes |   23 |  235 |\n",
       "| No | 5571 | 8410 |\n",
       "\n"
      ],
      "text/plain": [
       "         subtype\n",
       "expressed alpha other\n",
       "      Yes   23   235 \n",
       "      No  5571  8410 "
      ]
     },
     "metadata": {},
     "output_type": "display_data"
    },
    {
     "data": {
      "text/html": [
       "23"
      ],
      "text/latex": [
       "23"
      ],
      "text/markdown": [
       "23"
      ],
      "text/plain": [
       "[1] 23"
      ]
     },
     "metadata": {},
     "output_type": "display_data"
    },
    {
     "data": {
      "text/html": [
       "5571"
      ],
      "text/latex": [
       "5571"
      ],
      "text/markdown": [
       "5571"
      ],
      "text/plain": [
       "[1] 5571"
      ]
     },
     "metadata": {},
     "output_type": "display_data"
    },
    {
     "data": {
      "text/html": [
       "0.00411154808723632"
      ],
      "text/latex": [
       "0.00411154808723632"
      ],
      "text/markdown": [
       "0.00411154808723632"
      ],
      "text/plain": [
       "[1] 0.004111548"
      ]
     },
     "metadata": {},
     "output_type": "display_data"
    },
    {
     "data": {
      "text/html": [
       "0.0271833429728167"
      ],
      "text/latex": [
       "0.0271833429728167"
      ],
      "text/markdown": [
       "0.0271833429728167"
      ],
      "text/plain": [
       "[1] 0.02718334"
      ]
     },
     "metadata": {},
     "output_type": "display_data"
    },
    {
     "data": {
      "text/html": [
       "'less'"
      ],
      "text/latex": [
       "'less'"
      ],
      "text/markdown": [
       "'less'"
      ],
      "text/plain": [
       "[1] \"less\""
      ]
     },
     "metadata": {},
     "output_type": "display_data"
    },
    {
     "data": {
      "text/plain": [
       "\n",
       "\tFisher's Exact Test for Count Data\n",
       "\n",
       "data:  test.tab\n",
       "p-value < 2.2e-16\n",
       "alternative hypothesis: true odds ratio is less than 1\n",
       "95 percent confidence interval:\n",
       " 0.0000000 0.2138827\n",
       "sample estimates:\n",
       "odds ratio \n",
       " 0.1477894 \n"
      ]
     },
     "metadata": {},
     "output_type": "display_data"
    },
    {
     "data": {
      "text/html": [
       "<table>\n",
       "<thead><tr><th scope=col>pval</th><th scope=col>odds</th><th scope=col>type_frac</th><th scope=col>other_frac</th></tr></thead>\n",
       "<tbody>\n",
       "\t<tr><td>1.066244e-28</td><td>0.1477894   </td><td>0.004111548 </td><td>0.02718334  </td></tr>\n",
       "</tbody>\n",
       "</table>\n"
      ],
      "text/latex": [
       "\\begin{tabular}{llll}\n",
       " pval & odds & type\\_frac & other\\_frac\\\\\n",
       "\\hline\n",
       "\t 1.066244e-28 & 0.1477894    & 0.004111548  & 0.02718334  \\\\\n",
       "\\end{tabular}\n"
      ],
      "text/markdown": [
       "\n",
       "| pval | odds | type_frac | other_frac |\n",
       "|---|---|---|---|\n",
       "| 1.066244e-28 | 0.1477894    | 0.004111548  | 0.02718334   |\n",
       "\n"
      ],
      "text/plain": [
       "     pval         odds      type_frac   other_frac\n",
       "[1,] 1.066244e-28 0.1477894 0.004111548 0.02718334"
      ]
     },
     "metadata": {},
     "output_type": "display_data"
    },
    {
     "data": {
      "text/plain": [
       "\n",
       "\tFisher's Exact Test for Count Data\n",
       "\n",
       "data:  test.tab\n",
       "p-value < 2.2e-16\n",
       "alternative hypothesis: true odds ratio is not equal to 1\n",
       "95 percent confidence interval:\n",
       " 0.09173139 0.22746492\n",
       "sample estimates:\n",
       "odds ratio \n",
       " 0.1477894 \n"
      ]
     },
     "metadata": {},
     "output_type": "display_data"
    }
   ],
   "source": [
    "tr = \"1_100009936_100010354\"\n",
    "celltypes <- \"alpha\"\n",
    "#celltypes <- 'beta'\n",
    "test.dat <- dat.mat %>% filter(distal_peak == tr)\n",
    "test.dat <- test.dat %>% mutate(cluster = ifelse(cluster == celltypes, celltypes, \n",
    "    \"other\")) %>% group_by(distal_peak, cluster) %>% summarise(N = sum(N))\n",
    "test.dat\n",
    "table.res <- test.dat$N\n",
    "names(table.res) <- test.dat$cluster\n",
    "# handle if 0 for one subtype\n",
    "a = setdiff(celltypes, names(table.res))\n",
    "table.res[a] <- 0\n",
    "table.res\n",
    "all_test_cells = as.numeric(dat.all.cells[celltypes])\n",
    "other_cells = as.numeric(sum(dat.all.cells) - dat.all.cells[celltypes])\n",
    "test.tab <- matrix(c(table.res[celltypes], table.res[\"other\"], all_test_cells - table.res[celltypes], \n",
    "    other_cells - table.res[\"other\"]), byrow = T, nrow = 2, dimnames = list(expressed = c(\"Yes\", \n",
    "    \"No\"), subtype = c(celltypes, \"other\")))\n",
    "test.tab\n",
    "test.tab[1]\n",
    "test.tab[2]\n",
    "\n",
    "(f1 <- test.tab[1]/(test.tab[1] + test.tab[2]))\n",
    "(f2 <- test.tab[3]/(test.tab[3] + test.tab[4]))\n",
    "(l <- ifelse(f1 > f2, \"greater\", \"less\"))\n",
    "test.res <- fisher.test(test.tab, alternative = l)\n",
    "test.res\n",
    "res <- list(pval = test.res$p.value, odds = test.res$estimate, type_frac = f1, other_frac = f2)\n",
    "t(res)\n",
    "\n",
    "(test.res <- fisher.test(test.tab))"
   ]
  },
  {
   "cell_type": "markdown",
   "metadata": {},
   "source": [
    "function"
   ]
  },
  {
   "cell_type": "code",
   "execution_count": 17,
   "metadata": {},
   "outputs": [
    {
     "data": {
      "text/plain": [
       "   user  system elapsed \n",
       "  7.316   0.035   7.353 "
      ]
     },
     "metadata": {},
     "output_type": "display_data"
    },
    {
     "data": {
      "text/html": [
       "<table>\n",
       "<thead><tr><th scope=col>distal_peak</th><th scope=col>pval</th><th scope=col>odds</th><th scope=col>type1_frac</th><th scope=col>type2_frac</th></tr></thead>\n",
       "<tbody>\n",
       "\t<tr><td>1_100009936_100010354</td><td>1.066244e-28         </td><td>0.1477894            </td><td>0.004111548          </td><td>0.02718334           </td></tr>\n",
       "</tbody>\n",
       "</table>\n"
      ],
      "text/latex": [
       "\\begin{tabular}{lllll}\n",
       " distal\\_peak & pval & odds & type1\\_frac & type2\\_frac\\\\\n",
       "\\hline\n",
       "\t 1\\_100009936\\_100010354 & 1.066244e-28              & 0.1477894                 & 0.004111548               & 0.02718334               \\\\\n",
       "\\end{tabular}\n"
      ],
      "text/markdown": [
       "\n",
       "| distal_peak | pval | odds | type1_frac | type2_frac |\n",
       "|---|---|---|---|---|\n",
       "| 1_100009936_100010354 | 1.066244e-28          | 0.1477894             | 0.004111548           | 0.02718334            |\n",
       "\n"
      ],
      "text/plain": [
       "     distal_peak           pval         odds      type1_frac  type2_frac\n",
       "[1,] 1_100009936_100010354 1.066244e-28 0.1477894 0.004111548 0.02718334"
      ]
     },
     "metadata": {},
     "output_type": "display_data"
    }
   ],
   "source": [
    "x = \"alpha\"\n",
    "dat.input = dat.mat %>% mutate(cluster = ifelse(cluster == celltypes, celltypes, \n",
    "    \"other\")) %>% group_by(distal_peak, cluster) %>% summarise(N = sum(N))\n",
    "\n",
    "fun.testPerTr_OneVsOther <- function(tr = \"1_100009936_100010354\", celltypes = x, \n",
    "    dat = dat.input) {\n",
    "    \n",
    "    test.dat <- dat %>% filter(distal_peak == tr)\n",
    "    table.res <- test.dat$N\n",
    "    names(table.res) <- test.dat$cluster\n",
    "    \n",
    "    # handle if 0 for one subtype\n",
    "    a = setdiff(celltypes, names(table.res))\n",
    "    table.res[a] <- 0\n",
    "    \n",
    "    all_test_cells = as.numeric(dat.all.cells[celltypes])\n",
    "    other_cells = as.numeric(sum(dat.all.cells) - dat.all.cells[celltypes])\n",
    "    test.tab <- matrix(c(table.res[celltypes], table.res[\"other\"], all_test_cells - \n",
    "        table.res[celltypes], other_cells - table.res[\"other\"]), byrow = T, nrow = 2, \n",
    "        dimnames = list(expressed = c(\"Yes\", \"No\"), subtype = c(celltypes, \"other\")))\n",
    "    f1 <- test.tab[1]/(test.tab[1] + test.tab[2])\n",
    "    f2 <- test.tab[3]/(test.tab[3] + test.tab[4])\n",
    "    l <- ifelse(f1 > f2, \"greater\", \"less\")\n",
    "    test.res <- fisher.test(test.tab, alternative = l)\n",
    "    res <- list(distal_peak = tr, pval = test.res$p.value, odds = test.res$estimate, \n",
    "        type1_frac = f1, type2_frac = f2)\n",
    "    res\n",
    "}\n",
    "\n",
    "## \n",
    "\n",
    "\n",
    "system.time({\n",
    "    res = fun.testPerTr_OneVsOther()\n",
    "})\n",
    "t(res)"
   ]
  },
  {
   "cell_type": "code",
   "execution_count": 49,
   "metadata": {},
   "outputs": [
    {
     "data": {
      "text/plain": [
       "   user  system elapsed \n",
       "  0.045   0.001   0.046 "
      ]
     },
     "metadata": {},
     "output_type": "display_data"
    },
    {
     "data": {
      "text/html": [
       "<table>\n",
       "<thead><tr><th scope=col>distal_peak</th><th scope=col>pval</th><th scope=col>odds</th><th scope=col>type_frac</th><th scope=col>other_frac</th><th scope=col>celltype</th></tr></thead>\n",
       "<tbody>\n",
       "\t<tr><td>1_100009936_100010354</td><td>1.066244e-28         </td><td>0.1477894            </td><td>0.004111548          </td><td>0.02718334           </td><td>alpha                </td></tr>\n",
       "</tbody>\n",
       "</table>\n"
      ],
      "text/latex": [
       "\\begin{tabular}{llllll}\n",
       " distal\\_peak & pval & odds & type\\_frac & other\\_frac & celltype\\\\\n",
       "\\hline\n",
       "\t 1\\_100009936\\_100010354 & 1.066244e-28              & 0.1477894                 & 0.004111548               & 0.02718334                & alpha                    \\\\\n",
       "\\end{tabular}\n"
      ],
      "text/markdown": [
       "\n",
       "| distal_peak | pval | odds | type_frac | other_frac | celltype |\n",
       "|---|---|---|---|---|---|\n",
       "| 1_100009936_100010354 | 1.066244e-28          | 0.1477894             | 0.004111548           | 0.02718334            | alpha                 |\n",
       "\n"
      ],
      "text/plain": [
       "     distal_peak           pval         odds      type_frac   other_frac\n",
       "[1,] 1_100009936_100010354 1.066244e-28 0.1477894 0.004111548 0.02718334\n",
       "     celltype\n",
       "[1,] alpha   "
      ]
     },
     "metadata": {},
     "output_type": "display_data"
    }
   ],
   "source": [
    "x = \"alpha\"\n",
    "fun.testPerTr_OneVsOther <- function(tr = \"1_100009936_100010354\", celltypes = x, \n",
    "    dat = dat.mat) {\n",
    "    \n",
    "    test.dat <- dat %>% filter(distal_peak == tr) %>% mutate(cluster = ifelse(cluster == \n",
    "        celltypes, celltypes, \"other\")) %>% group_by(distal_peak, cluster) %>% summarise(N = sum(N))\n",
    "    table.res <- test.dat$N\n",
    "    names(table.res) <- test.dat$cluster\n",
    "    \n",
    "    # handle if 0 for one subtype\n",
    "    a = setdiff(c(x, \"other\"), names(table.res))\n",
    "    table.res[a] <- 0\n",
    "    \n",
    "    all_test_cells = as.numeric(dat.all.cells[celltypes])\n",
    "    other_cells = as.numeric(sum(dat.all.cells) - dat.all.cells[celltypes])\n",
    "    test.tab <- matrix(c(table.res[celltypes], table.res[\"other\"], all_test_cells - \n",
    "        table.res[celltypes], other_cells - table.res[\"other\"]), byrow = T, nrow = 2, \n",
    "        dimnames = list(expressed = c(\"Yes\", \"No\"), subtype = c(celltypes, \"other\")))\n",
    "    f1 <- test.tab[1]/(test.tab[1] + test.tab[2])\n",
    "    f2 <- test.tab[3]/(test.tab[3] + test.tab[4])\n",
    "    l <- ifelse(f1 > f2, \"greater\", \"less\")\n",
    "    test.res <- fisher.test(test.tab, alternative = l)\n",
    "    res <- list(distal_peak = tr, pval = test.res$p.value, odds = test.res$estimate, \n",
    "        type_frac = f1, other_frac = f2, celltype = celltypes)\n",
    "    res\n",
    "}\n",
    "\n",
    "\n",
    "system.time({\n",
    "    res = fun.testPerTr_OneVsOther()\n",
    "})\n",
    "t(res)"
   ]
  },
  {
   "cell_type": "code",
   "execution_count": 20,
   "metadata": {},
   "outputs": [
    {
     "name": "stdout",
     "output_type": "stream",
     "text": [
      "n peaks:"
     ]
    },
    {
     "data": {
      "text/html": [
       "<dl class=dl-horizontal>\n",
       "\t<dt>alpha</dt>\n",
       "\t\t<dd>207977</dd>\n",
       "\t<dt>beta</dt>\n",
       "\t\t<dd>210493</dd>\n",
       "\t<dt>delta</dt>\n",
       "\t\t<dd>157512</dd>\n",
       "\t<dt>endothelial</dt>\n",
       "\t\t<dd>60043</dd>\n",
       "\t<dt>exocrine</dt>\n",
       "\t\t<dd>69332</dd>\n",
       "\t<dt>gamma</dt>\n",
       "\t\t<dd>92269</dd>\n",
       "\t<dt>glial</dt>\n",
       "\t\t<dd>33378</dd>\n",
       "\t<dt>immune</dt>\n",
       "\t\t<dd>33125</dd>\n",
       "\t<dt>stellate</dt>\n",
       "\t\t<dd>83508</dd>\n",
       "</dl>\n"
      ],
      "text/latex": [
       "\\begin{description*}\n",
       "\\item[alpha] 207977\n",
       "\\item[beta] 210493\n",
       "\\item[delta] 157512\n",
       "\\item[endothelial] 60043\n",
       "\\item[exocrine] 69332\n",
       "\\item[gamma] 92269\n",
       "\\item[glial] 33378\n",
       "\\item[immune] 33125\n",
       "\\item[stellate] 83508\n",
       "\\end{description*}\n"
      ],
      "text/markdown": [
       "alpha\n",
       ":   207977beta\n",
       ":   210493delta\n",
       ":   157512endothelial\n",
       ":   60043exocrine\n",
       ":   69332gamma\n",
       ":   92269glial\n",
       ":   33378immune\n",
       ":   33125stellate\n",
       ":   83508\n",
       "\n"
      ],
      "text/plain": [
       "      alpha        beta       delta endothelial    exocrine       gamma \n",
       "     207977      210493      157512       60043       69332       92269 \n",
       "      glial      immune    stellate \n",
       "      33378       33125       83508 "
      ]
     },
     "metadata": {},
     "output_type": "display_data"
    },
    {
     "name": "stdout",
     "output_type": "stream",
     "text": [
      "estimated time using 10 cores: 1.222378 hr"
     ]
    }
   ],
   "source": [
    "# estimate time\n",
    "cat(\"n peaks:\")\n",
    "(npeaks = sapply(names(dat.all.cells), function(x) length(dat.mat %>% filter(cluster == \n",
    "    x) %>% pull(distal_peak) %>% unique())))\n",
    "cat(\"estimated time using 10 cores:\", 0.05 * length(unique(dat.mat$distal_peak)) * \n",
    "    4/10/3600, \"hr\")"
   ]
  },
  {
   "cell_type": "code",
   "execution_count": 14,
   "metadata": {
    "scrolled": true
   },
   "outputs": [
    {
     "name": "stdout",
     "output_type": "stream",
     "text": [
      "n peaks:"
     ]
    },
    {
     "data": {
      "text/html": [
       "<dl class=dl-horizontal>\n",
       "\t<dt>alpha</dt>\n",
       "\t\t<dd>207977</dd>\n",
       "\t<dt>beta</dt>\n",
       "\t\t<dd>210493</dd>\n",
       "\t<dt>delta</dt>\n",
       "\t\t<dd>157512</dd>\n",
       "\t<dt>endothelial</dt>\n",
       "\t\t<dd>60043</dd>\n",
       "\t<dt>exocrine</dt>\n",
       "\t\t<dd>69332</dd>\n",
       "\t<dt>gamma</dt>\n",
       "\t\t<dd>92269</dd>\n",
       "\t<dt>glial</dt>\n",
       "\t\t<dd>33378</dd>\n",
       "\t<dt>immune</dt>\n",
       "\t\t<dd>33125</dd>\n",
       "\t<dt>stellate</dt>\n",
       "\t\t<dd>83508</dd>\n",
       "</dl>\n"
      ],
      "text/latex": [
       "\\begin{description*}\n",
       "\\item[alpha] 207977\n",
       "\\item[beta] 210493\n",
       "\\item[delta] 157512\n",
       "\\item[endothelial] 60043\n",
       "\\item[exocrine] 69332\n",
       "\\item[gamma] 92269\n",
       "\\item[glial] 33378\n",
       "\\item[immune] 33125\n",
       "\\item[stellate] 83508\n",
       "\\end{description*}\n"
      ],
      "text/markdown": [
       "alpha\n",
       ":   207977beta\n",
       ":   210493delta\n",
       ":   157512endothelial\n",
       ":   60043exocrine\n",
       ":   69332gamma\n",
       ":   92269glial\n",
       ":   33378immune\n",
       ":   33125stellate\n",
       ":   83508\n",
       "\n"
      ],
      "text/plain": [
       "      alpha        beta       delta endothelial    exocrine       gamma \n",
       "     207977      210493      157512       60043       69332       92269 \n",
       "      glial      immune    stellate \n",
       "      33378       33125       83508 "
      ]
     },
     "metadata": {},
     "output_type": "display_data"
    },
    {
     "name": "stdout",
     "output_type": "stream",
     "text": [
      "estimated time using 10 cores: 1.316163 hr"
     ]
    }
   ],
   "source": [
    "\n",
    "# estimate time\n",
    "cat(\"n peaks:\")\n",
    "(npeaks = sapply( names(dat.all.cells),function(x) \n",
    "    length(dat.mat%>% filter(cluster == x)%>%pull(distal_peak)%>%unique())))\n",
    "cat(\"estimated time using 10 cores:\", 0.05*sum(npeaks)/10/3600 ,'hr')                 "
   ]
  },
  {
   "cell_type": "code",
   "execution_count": 21,
   "metadata": {},
   "outputs": [],
   "source": [
    "all.tr <- dat.mat %>%  pull(distal_peak) %>% unique()"
   ]
  },
  {
   "cell_type": "code",
   "execution_count": 23,
   "metadata": {},
   "outputs": [
    {
     "name": "stderr",
     "output_type": "stream",
     "text": [
      "Loading required package: parallel\n"
     ]
    },
    {
     "name": "stdout",
     "output_type": "stream",
     "text": [
      "[1] \"alpha\"\n",
      "[1] \"beta\"\n",
      "[1] \"delta\"\n",
      "[1] \"gamma\"\n"
     ]
    },
    {
     "data": {
      "text/plain": [
       "     user    system   elapsed \n",
       "28164.492  2054.553  3077.476 "
      ]
     },
     "metadata": {},
     "output_type": "display_data"
    }
   ],
   "source": [
    "require(parallel)\n",
    "\n",
    "res <- list()\n",
    "\n",
    "all.tr <- dat.mat %>% pull(distal_peak) %>% unique()\n",
    "# time consumming task system.time(for (x in names(dat.all.cells)) {\n",
    "system.time(for (x in c(\"alpha\", \"beta\", \"delta\", \"gamma\")) {\n",
    "    print(x)\n",
    "    res[[x]] <- do.call(rbind, mclapply(all.tr, function(trr) t(fun.testPerTr_OneVsOther(tr = trr, \n",
    "        celltypes = x)), mc.cores = 10))\n",
    "})\n",
    "saveRDS(object = do.call(rbind, res), file = \"../dat/1908/res.distal.peaks.fisher.oneVother.celltype_2.Rds\")"
   ]
  },
  {
   "cell_type": "code",
   "execution_count": null,
   "metadata": {},
   "outputs": [],
   "source": []
  }
 ],
 "metadata": {
  "kernelspec": {
   "display_name": "R",
   "language": "R",
   "name": "ir"
  },
  "language_info": {
   "codemirror_mode": "r",
   "file_extension": ".r",
   "mimetype": "text/x-r-source",
   "name": "R",
   "pygments_lexer": "r",
   "version": "3.5.1"
  }
 },
 "nbformat": 4,
 "nbformat_minor": 2
}
