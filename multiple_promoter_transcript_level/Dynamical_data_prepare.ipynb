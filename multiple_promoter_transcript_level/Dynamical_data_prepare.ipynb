{
 "cells": [
  {
   "cell_type": "markdown",
   "metadata": {},
   "source": [
    "# link the promoter opening matrix with cell's pesudostates"
   ]
  },
  {
   "cell_type": "code",
   "execution_count": 2,
   "metadata": {},
   "outputs": [],
   "source": [
    "require(data.table)\n",
    "require(tidyverse)"
   ]
  },
  {
   "cell_type": "markdown",
   "metadata": {},
   "source": [
    "### 1. load promoter's data "
   ]
  },
  {
   "cell_type": "code",
   "execution_count": 14,
   "metadata": {},
   "outputs": [
    {
     "data": {
      "text/html": [
       "<ol class=list-inline>\n",
       "\t<li>19412387</li>\n",
       "\t<li>3</li>\n",
       "</ol>\n"
      ],
      "text/latex": [
       "\\begin{enumerate*}\n",
       "\\item 19412387\n",
       "\\item 3\n",
       "\\end{enumerate*}\n"
      ],
      "text/markdown": [
       "1. 19412387\n",
       "2. 3\n",
       "\n",
       "\n"
      ],
      "text/plain": [
       "[1] 19412387        3"
      ]
     },
     "metadata": {},
     "output_type": "display_data"
    },
    {
     "data": {
      "text/html": [
       "<table>\n",
       "<thead><tr><th scope=col>gene_tr.idx</th><th scope=col>cluster</th><th scope=col>cell</th></tr></thead>\n",
       "<tbody>\n",
       "\t<tr><td>SAMD11_1                                  </td><td>alpha_1                                   </td><td>Islet1-fresh_AGACACCTAGGCAGAAGTAAGGAGCAGGA</td></tr>\n",
       "\t<tr><td>SAMD11_1                                  </td><td>alpha_1                                   </td><td>Islet1-fresh_AGACACCTATGCGCAGCGTCTAATGGTTG</td></tr>\n",
       "\t<tr><td>SAMD11_1                                  </td><td>alpha_2                                   </td><td>Islet1-fresh_AGACACCTCGAGGCTGAAGGCTATGGTTG</td></tr>\n",
       "\t<tr><td>SAMD11_1                                  </td><td>alpha_2                                   </td><td>Islet1-fresh_AGACACCTCGTACTAGCTAAGCCTGTACT</td></tr>\n",
       "\t<tr><td>SAMD11_1                                  </td><td>alpha_1                                   </td><td>Islet1-fresh_AGACACCTGGACTCCTTCGACTAGGGTTG</td></tr>\n",
       "\t<tr><td>SAMD11_1                                  </td><td>alpha_2                                   </td><td>Islet1-fresh_AGACACCTGGAGCTACAAGGAGTAAGGCG</td></tr>\n",
       "</tbody>\n",
       "</table>\n"
      ],
      "text/latex": [
       "\\begin{tabular}{r|lll}\n",
       " gene\\_tr.idx & cluster & cell\\\\\n",
       "\\hline\n",
       "\t SAMD11\\_1                                   & alpha\\_1                                    & Islet1-fresh\\_AGACACCTAGGCAGAAGTAAGGAGCAGGA\\\\\n",
       "\t SAMD11\\_1                                   & alpha\\_1                                    & Islet1-fresh\\_AGACACCTATGCGCAGCGTCTAATGGTTG\\\\\n",
       "\t SAMD11\\_1                                   & alpha\\_2                                    & Islet1-fresh\\_AGACACCTCGAGGCTGAAGGCTATGGTTG\\\\\n",
       "\t SAMD11\\_1                                   & alpha\\_2                                    & Islet1-fresh\\_AGACACCTCGTACTAGCTAAGCCTGTACT\\\\\n",
       "\t SAMD11\\_1                                   & alpha\\_1                                    & Islet1-fresh\\_AGACACCTGGACTCCTTCGACTAGGGTTG\\\\\n",
       "\t SAMD11\\_1                                   & alpha\\_2                                    & Islet1-fresh\\_AGACACCTGGAGCTACAAGGAGTAAGGCG\\\\\n",
       "\\end{tabular}\n"
      ],
      "text/markdown": [
       "\n",
       "gene_tr.idx | cluster | cell | \n",
       "|---|---|---|---|---|---|\n",
       "| SAMD11_1                                   | alpha_1                                    | Islet1-fresh_AGACACCTAGGCAGAAGTAAGGAGCAGGA | \n",
       "| SAMD11_1                                   | alpha_1                                    | Islet1-fresh_AGACACCTATGCGCAGCGTCTAATGGTTG | \n",
       "| SAMD11_1                                   | alpha_2                                    | Islet1-fresh_AGACACCTCGAGGCTGAAGGCTATGGTTG | \n",
       "| SAMD11_1                                   | alpha_2                                    | Islet1-fresh_AGACACCTCGTACTAGCTAAGCCTGTACT | \n",
       "| SAMD11_1                                   | alpha_1                                    | Islet1-fresh_AGACACCTGGACTCCTTCGACTAGGGTTG | \n",
       "| SAMD11_1                                   | alpha_2                                    | Islet1-fresh_AGACACCTGGAGCTACAAGGAGTAAGGCG | \n",
       "\n",
       "\n"
      ],
      "text/plain": [
       "  gene_tr.idx cluster cell                                      \n",
       "1 SAMD11_1    alpha_1 Islet1-fresh_AGACACCTAGGCAGAAGTAAGGAGCAGGA\n",
       "2 SAMD11_1    alpha_1 Islet1-fresh_AGACACCTATGCGCAGCGTCTAATGGTTG\n",
       "3 SAMD11_1    alpha_2 Islet1-fresh_AGACACCTCGAGGCTGAAGGCTATGGTTG\n",
       "4 SAMD11_1    alpha_2 Islet1-fresh_AGACACCTCGTACTAGCTAAGCCTGTACT\n",
       "5 SAMD11_1    alpha_1 Islet1-fresh_AGACACCTGGACTCCTTCGACTAGGGTTG\n",
       "6 SAMD11_1    alpha_2 Islet1-fresh_AGACACCTGGAGCTACAAGGAGTAAGGCG"
      ]
     },
     "metadata": {},
     "output_type": "display_data"
    },
    {
     "data": {
      "text/html": [
       "12764"
      ],
      "text/latex": [
       "12764"
      ],
      "text/markdown": [
       "12764"
      ],
      "text/plain": [
       "[1] 12764"
      ]
     },
     "metadata": {},
     "output_type": "display_data"
    }
   ],
   "source": [
    "dat.pro <- fread('../dat/1901/alpha_beta.promoter.long_matrix_w_transcripts.txt')\n",
    "dat.pro<-dat.pro%>%unite(\"gene_tr.idx\",c(\"gene\",\"transcript.idx\"))%>%select(-one_of(c(\"seq\",'start',\"end\")))\n",
    "dim(dat.pro)\n",
    "head(dat.pro)\n",
    "length(unique(dat.pro$cell))"
   ]
  },
  {
   "cell_type": "markdown",
   "metadata": {},
   "source": [
    "### 2. load cell's pseduostates"
   ]
  },
  {
   "cell_type": "code",
   "execution_count": 13,
   "metadata": {},
   "outputs": [
    {
     "data": {
      "text/html": [],
      "text/latex": [],
      "text/markdown": [],
      "text/plain": [
       "character(0)"
      ]
     },
     "metadata": {},
     "output_type": "display_data"
    },
    {
     "data": {
      "text/html": [
       "<ol class=list-inline>\n",
       "\t<li>12780</li>\n",
       "\t<li>2</li>\n",
       "</ol>\n"
      ],
      "text/latex": [
       "\\begin{enumerate*}\n",
       "\\item 12780\n",
       "\\item 2\n",
       "\\end{enumerate*}\n"
      ],
      "text/markdown": [
       "1. 12780\n",
       "2. 2\n",
       "\n",
       "\n"
      ],
      "text/plain": [
       "[1] 12780     2"
      ]
     },
     "metadata": {},
     "output_type": "display_data"
    }
   ],
   "source": [
    "b <- fread('../dat/beta.pseudotime2.txt',skip = 1,col.names = c(\"cell\",\"ps\"))\n",
    "a <- fread('../dat/alpha.pseudotime2.txt',skip = 1,col.names = c(\"cell\",\"ps\"))\n",
    "intersect(b$cell,a$cell)\n",
    "dat.ps <- rbind(a,b)\n",
    "rm(a);rm(b);\n",
    "dim(dat.ps)"
   ]
  },
  {
   "cell_type": "code",
   "execution_count": 15,
   "metadata": {},
   "outputs": [
    {
     "data": {
      "text/html": [
       "<table>\n",
       "<thead><tr><th scope=col>cell</th><th scope=col>ps</th></tr></thead>\n",
       "<tbody>\n",
       "\t<tr><td>Islet3-fresh_TCCGCGAACGAGGCTGCCTAGAGTGTACTGAC</td><td>2.1668207                                    </td></tr>\n",
       "\t<tr><td>Islet3-fresh_CGGCTATGGCGTAGTAAAGGAGTATATAGCCT</td><td>0.4072127                                    </td></tr>\n",
       "\t<tr><td>Islet3-fresh_CTGAAGCTTAGGCATGCCTAGAGTGGTTGCGT</td><td>1.8705397                                    </td></tr>\n",
       "\t<tr><td>Islet3-fresh_GAGATTCCCGAGGCTGAAGGCTATAGGCGAAG</td><td>3.7636215                                    </td></tr>\n",
       "\t<tr><td>Islet3-fresh_CTGAAGCTCTCTGGTATCTCTCCGCAGGACGT</td><td>2.8881878                                    </td></tr>\n",
       "\t<tr><td>Islet3-fresh_CTATTAGGGCTCATGATTCTAGCTGTACTGAC</td><td>0.9796324                                    </td></tr>\n",
       "</tbody>\n",
       "</table>\n"
      ],
      "text/latex": [
       "\\begin{tabular}{r|ll}\n",
       " cell & ps\\\\\n",
       "\\hline\n",
       "\t Islet3-fresh\\_TCCGCGAACGAGGCTGCCTAGAGTGTACTGAC & 2.1668207                                      \\\\\n",
       "\t Islet3-fresh\\_CGGCTATGGCGTAGTAAAGGAGTATATAGCCT & 0.4072127                                      \\\\\n",
       "\t Islet3-fresh\\_CTGAAGCTTAGGCATGCCTAGAGTGGTTGCGT & 1.8705397                                      \\\\\n",
       "\t Islet3-fresh\\_GAGATTCCCGAGGCTGAAGGCTATAGGCGAAG & 3.7636215                                      \\\\\n",
       "\t Islet3-fresh\\_CTGAAGCTCTCTGGTATCTCTCCGCAGGACGT & 2.8881878                                      \\\\\n",
       "\t Islet3-fresh\\_CTATTAGGGCTCATGATTCTAGCTGTACTGAC & 0.9796324                                      \\\\\n",
       "\\end{tabular}\n"
      ],
      "text/markdown": [
       "\n",
       "cell | ps | \n",
       "|---|---|---|---|---|---|\n",
       "| Islet3-fresh_TCCGCGAACGAGGCTGCCTAGAGTGTACTGAC | 2.1668207                                     | \n",
       "| Islet3-fresh_CGGCTATGGCGTAGTAAAGGAGTATATAGCCT | 0.4072127                                     | \n",
       "| Islet3-fresh_CTGAAGCTTAGGCATGCCTAGAGTGGTTGCGT | 1.8705397                                     | \n",
       "| Islet3-fresh_GAGATTCCCGAGGCTGAAGGCTATAGGCGAAG | 3.7636215                                     | \n",
       "| Islet3-fresh_CTGAAGCTCTCTGGTATCTCTCCGCAGGACGT | 2.8881878                                     | \n",
       "| Islet3-fresh_CTATTAGGGCTCATGATTCTAGCTGTACTGAC | 0.9796324                                     | \n",
       "\n",
       "\n"
      ],
      "text/plain": [
       "  cell                                          ps       \n",
       "1 Islet3-fresh_TCCGCGAACGAGGCTGCCTAGAGTGTACTGAC 2.1668207\n",
       "2 Islet3-fresh_CGGCTATGGCGTAGTAAAGGAGTATATAGCCT 0.4072127\n",
       "3 Islet3-fresh_CTGAAGCTTAGGCATGCCTAGAGTGGTTGCGT 1.8705397\n",
       "4 Islet3-fresh_GAGATTCCCGAGGCTGAAGGCTATAGGCGAAG 3.7636215\n",
       "5 Islet3-fresh_CTGAAGCTCTCTGGTATCTCTCCGCAGGACGT 2.8881878\n",
       "6 Islet3-fresh_CTATTAGGGCTCATGATTCTAGCTGTACTGAC 0.9796324"
      ]
     },
     "metadata": {},
     "output_type": "display_data"
    }
   ],
   "source": [
    "head(dat.ps)"
   ]
  },
  {
   "cell_type": "code",
   "execution_count": 18,
   "metadata": {},
   "outputs": [
    {
     "name": "stderr",
     "output_type": "stream",
     "text": [
      "Joining, by = \"cell\"\n"
     ]
    }
   ],
   "source": [
    "dat.pro_ps <- inner_join(dat.pro,dat.ps)"
   ]
  },
  {
   "cell_type": "code",
   "execution_count": 20,
   "metadata": {},
   "outputs": [
    {
     "data": {
      "text/html": [
       "<ol class=list-inline>\n",
       "\t<li>19412387</li>\n",
       "\t<li>4</li>\n",
       "</ol>\n"
      ],
      "text/latex": [
       "\\begin{enumerate*}\n",
       "\\item 19412387\n",
       "\\item 4\n",
       "\\end{enumerate*}\n"
      ],
      "text/markdown": [
       "1. 19412387\n",
       "2. 4\n",
       "\n",
       "\n"
      ],
      "text/plain": [
       "[1] 19412387        4"
      ]
     },
     "metadata": {},
     "output_type": "display_data"
    },
    {
     "data": {
      "text/html": [
       "<table>\n",
       "<thead><tr><th scope=col>gene_tr.idx</th><th scope=col>cluster</th><th scope=col>cell</th><th scope=col>ps</th></tr></thead>\n",
       "<tbody>\n",
       "\t<tr><td>SAMD11_1                                  </td><td>alpha_1                                   </td><td>Islet1-fresh_AGACACCTAGGCAGAAGTAAGGAGCAGGA</td><td>5.643735                                  </td></tr>\n",
       "\t<tr><td>SAMD11_1                                  </td><td>alpha_1                                   </td><td>Islet1-fresh_AGACACCTATGCGCAGCGTCTAATGGTTG</td><td>1.056578                                  </td></tr>\n",
       "\t<tr><td>SAMD11_1                                  </td><td>alpha_2                                   </td><td>Islet1-fresh_AGACACCTCGAGGCTGAAGGCTATGGTTG</td><td>6.254863                                  </td></tr>\n",
       "\t<tr><td>SAMD11_1                                  </td><td>alpha_2                                   </td><td>Islet1-fresh_AGACACCTCGTACTAGCTAAGCCTGTACT</td><td>6.508574                                  </td></tr>\n",
       "\t<tr><td>SAMD11_1                                  </td><td>alpha_1                                   </td><td>Islet1-fresh_AGACACCTGGACTCCTTCGACTAGGGTTG</td><td>2.120670                                  </td></tr>\n",
       "\t<tr><td>SAMD11_1                                  </td><td>alpha_2                                   </td><td>Islet1-fresh_AGACACCTGGAGCTACAAGGAGTAAGGCG</td><td>5.564368                                  </td></tr>\n",
       "</tbody>\n",
       "</table>\n"
      ],
      "text/latex": [
       "\\begin{tabular}{r|llll}\n",
       " gene\\_tr.idx & cluster & cell & ps\\\\\n",
       "\\hline\n",
       "\t SAMD11\\_1                                   & alpha\\_1                                    & Islet1-fresh\\_AGACACCTAGGCAGAAGTAAGGAGCAGGA & 5.643735                                    \\\\\n",
       "\t SAMD11\\_1                                   & alpha\\_1                                    & Islet1-fresh\\_AGACACCTATGCGCAGCGTCTAATGGTTG & 1.056578                                    \\\\\n",
       "\t SAMD11\\_1                                   & alpha\\_2                                    & Islet1-fresh\\_AGACACCTCGAGGCTGAAGGCTATGGTTG & 6.254863                                    \\\\\n",
       "\t SAMD11\\_1                                   & alpha\\_2                                    & Islet1-fresh\\_AGACACCTCGTACTAGCTAAGCCTGTACT & 6.508574                                    \\\\\n",
       "\t SAMD11\\_1                                   & alpha\\_1                                    & Islet1-fresh\\_AGACACCTGGACTCCTTCGACTAGGGTTG & 2.120670                                    \\\\\n",
       "\t SAMD11\\_1                                   & alpha\\_2                                    & Islet1-fresh\\_AGACACCTGGAGCTACAAGGAGTAAGGCG & 5.564368                                    \\\\\n",
       "\\end{tabular}\n"
      ],
      "text/markdown": [
       "\n",
       "gene_tr.idx | cluster | cell | ps | \n",
       "|---|---|---|---|---|---|\n",
       "| SAMD11_1                                   | alpha_1                                    | Islet1-fresh_AGACACCTAGGCAGAAGTAAGGAGCAGGA | 5.643735                                   | \n",
       "| SAMD11_1                                   | alpha_1                                    | Islet1-fresh_AGACACCTATGCGCAGCGTCTAATGGTTG | 1.056578                                   | \n",
       "| SAMD11_1                                   | alpha_2                                    | Islet1-fresh_AGACACCTCGAGGCTGAAGGCTATGGTTG | 6.254863                                   | \n",
       "| SAMD11_1                                   | alpha_2                                    | Islet1-fresh_AGACACCTCGTACTAGCTAAGCCTGTACT | 6.508574                                   | \n",
       "| SAMD11_1                                   | alpha_1                                    | Islet1-fresh_AGACACCTGGACTCCTTCGACTAGGGTTG | 2.120670                                   | \n",
       "| SAMD11_1                                   | alpha_2                                    | Islet1-fresh_AGACACCTGGAGCTACAAGGAGTAAGGCG | 5.564368                                   | \n",
       "\n",
       "\n"
      ],
      "text/plain": [
       "  gene_tr.idx cluster cell                                       ps      \n",
       "1 SAMD11_1    alpha_1 Islet1-fresh_AGACACCTAGGCAGAAGTAAGGAGCAGGA 5.643735\n",
       "2 SAMD11_1    alpha_1 Islet1-fresh_AGACACCTATGCGCAGCGTCTAATGGTTG 1.056578\n",
       "3 SAMD11_1    alpha_2 Islet1-fresh_AGACACCTCGAGGCTGAAGGCTATGGTTG 6.254863\n",
       "4 SAMD11_1    alpha_2 Islet1-fresh_AGACACCTCGTACTAGCTAAGCCTGTACT 6.508574\n",
       "5 SAMD11_1    alpha_1 Islet1-fresh_AGACACCTGGACTCCTTCGACTAGGGTTG 2.120670\n",
       "6 SAMD11_1    alpha_2 Islet1-fresh_AGACACCTGGAGCTACAAGGAGTAAGGCG 5.564368"
      ]
     },
     "metadata": {},
     "output_type": "display_data"
    },
    {
     "data": {
      "text/html": [
       "12764"
      ],
      "text/latex": [
       "12764"
      ],
      "text/markdown": [
       "12764"
      ],
      "text/plain": [
       "[1] 12764"
      ]
     },
     "metadata": {},
     "output_type": "display_data"
    }
   ],
   "source": [
    "dim(dat.pro_ps)\n",
    "head(dat.pro_ps)\n",
    "length(unique(dat.pro_ps$cell))"
   ]
  },
  {
   "cell_type": "code",
   "execution_count": 21,
   "metadata": {},
   "outputs": [],
   "source": [
    "fwrite(dat.pro_ps,\"../dat/1901/alpha_beta.promoter.long_matrix_w_transcripts_ps.txt\")"
   ]
  }
 ],
 "metadata": {
  "kernelspec": {
   "display_name": "R",
   "language": "R",
   "name": "ir"
  },
  "language_info": {
   "codemirror_mode": "r",
   "file_extension": ".r",
   "mimetype": "text/x-r-source",
   "name": "R",
   "pygments_lexer": "r",
   "version": "3.5.1"
  }
 },
 "nbformat": 4,
 "nbformat_minor": 2
}
