{
 "cells": [
  {
   "cell_type": "code",
   "execution_count": 2,
   "metadata": {},
   "outputs": [],
   "source": [
    "require(data.table)\n",
    "require(tidyverse)"
   ]
  },
  {
   "cell_type": "markdown",
   "metadata": {},
   "source": [
    "## 1. Read data "
   ]
  },
  {
   "cell_type": "code",
   "execution_count": 3,
   "metadata": {},
   "outputs": [
    {
     "data": {
      "text/html": [
       "<ol class=list-inline>\n",
       "\t<li>2330095</li>\n",
       "\t<li>7</li>\n",
       "</ol>\n"
      ],
      "text/latex": [
       "\\begin{enumerate*}\n",
       "\\item 2330095\n",
       "\\item 7\n",
       "\\end{enumerate*}\n"
      ],
      "text/markdown": [
       "1. 2330095\n",
       "2. 7\n",
       "\n",
       "\n"
      ],
      "text/plain": [
       "[1] 2330095       7"
      ]
     },
     "metadata": {},
     "output_type": "display_data"
    },
    {
     "data": {
      "text/html": [
       "<table>\n",
       "<thead><tr><th scope=col>seq</th><th scope=col>start</th><th scope=col>end</th><th scope=col>gene</th><th scope=col>cluster</th><th scope=col>barcode</th><th scope=col>transcript.idx</th></tr></thead>\n",
       "<tbody>\n",
       "\t<tr><td>chr1                                         </td><td>859052                                       </td><td>860562                                       </td><td>SAMD11                                       </td><td>delta_1                                      </td><td>Islet3-fresh_CGGCTATGGCTCATGACTAAGCCTGTACTGAC</td><td>7                                            </td></tr>\n",
       "\t<tr><td>chr1                                         </td><td>859052                                       </td><td>860562                                       </td><td>SAMD11                                       </td><td>delta_1                                      </td><td>Islet3-fresh_AGACACCTACTCGCTATCTCTCCGGTACTGAC</td><td>7                                            </td></tr>\n",
       "\t<tr><td>chr1                                         </td><td>859052                                       </td><td>860562                                       </td><td>SAMD11                                       </td><td>delta_1                                      </td><td>Islet3-fresh_AGACACCTACTCGCTATCTCTCCGGTACTGAC</td><td>7                                            </td></tr>\n",
       "\t<tr><td>chr1                                         </td><td>859052                                       </td><td>860562                                       </td><td>SAMD11                                       </td><td>delta_1                                      </td><td>Islet2-fresh_TCGAGGCACGTACTAGTCTAGCTAGGC     </td><td>7                                            </td></tr>\n",
       "\t<tr><td>chr1                                         </td><td>859052                                       </td><td>860562                                       </td><td>SAMD11                                       </td><td>delta_1                                      </td><td>Islet3-fresh_AGCGATAGTAGGCATGTTATGCGATATAGCCT</td><td>7                                            </td></tr>\n",
       "\t<tr><td>chr1                                         </td><td>859052                                       </td><td>860562                                       </td><td>SAMD11                                       </td><td>delta_1                                      </td><td>Islet3-fresh_CGGCTATGGCTCATGACTAAGCCTGTACTGAC</td><td>7                                            </td></tr>\n",
       "</tbody>\n",
       "</table>\n"
      ],
      "text/latex": [
       "\\begin{tabular}{r|lllllll}\n",
       " seq & start & end & gene & cluster & barcode & transcript.idx\\\\\n",
       "\\hline\n",
       "\t chr1                                            & 859052                                          & 860562                                          & SAMD11                                          & delta\\_1                                       & Islet3-fresh\\_CGGCTATGGCTCATGACTAAGCCTGTACTGAC & 7                                              \\\\\n",
       "\t chr1                                            & 859052                                          & 860562                                          & SAMD11                                          & delta\\_1                                       & Islet3-fresh\\_AGACACCTACTCGCTATCTCTCCGGTACTGAC & 7                                              \\\\\n",
       "\t chr1                                            & 859052                                          & 860562                                          & SAMD11                                          & delta\\_1                                       & Islet3-fresh\\_AGACACCTACTCGCTATCTCTCCGGTACTGAC & 7                                              \\\\\n",
       "\t chr1                                            & 859052                                          & 860562                                          & SAMD11                                          & delta\\_1                                       & Islet2-fresh\\_TCGAGGCACGTACTAGTCTAGCTAGGC      & 7                                              \\\\\n",
       "\t chr1                                            & 859052                                          & 860562                                          & SAMD11                                          & delta\\_1                                       & Islet3-fresh\\_AGCGATAGTAGGCATGTTATGCGATATAGCCT & 7                                              \\\\\n",
       "\t chr1                                            & 859052                                          & 860562                                          & SAMD11                                          & delta\\_1                                       & Islet3-fresh\\_CGGCTATGGCTCATGACTAAGCCTGTACTGAC & 7                                              \\\\\n",
       "\\end{tabular}\n"
      ],
      "text/markdown": [
       "\n",
       "| seq | start | end | gene | cluster | barcode | transcript.idx |\n",
       "|---|---|---|---|---|---|---|\n",
       "| chr1                                          | 859052                                        | 860562                                        | SAMD11                                        | delta_1                                       | Islet3-fresh_CGGCTATGGCTCATGACTAAGCCTGTACTGAC | 7                                             |\n",
       "| chr1                                          | 859052                                        | 860562                                        | SAMD11                                        | delta_1                                       | Islet3-fresh_AGACACCTACTCGCTATCTCTCCGGTACTGAC | 7                                             |\n",
       "| chr1                                          | 859052                                        | 860562                                        | SAMD11                                        | delta_1                                       | Islet3-fresh_AGACACCTACTCGCTATCTCTCCGGTACTGAC | 7                                             |\n",
       "| chr1                                          | 859052                                        | 860562                                        | SAMD11                                        | delta_1                                       | Islet2-fresh_TCGAGGCACGTACTAGTCTAGCTAGGC      | 7                                             |\n",
       "| chr1                                          | 859052                                        | 860562                                        | SAMD11                                        | delta_1                                       | Islet3-fresh_AGCGATAGTAGGCATGTTATGCGATATAGCCT | 7                                             |\n",
       "| chr1                                          | 859052                                        | 860562                                        | SAMD11                                        | delta_1                                       | Islet3-fresh_CGGCTATGGCTCATGACTAAGCCTGTACTGAC | 7                                             |\n",
       "\n"
      ],
      "text/plain": [
       "  seq  start  end    gene   cluster\n",
       "1 chr1 859052 860562 SAMD11 delta_1\n",
       "2 chr1 859052 860562 SAMD11 delta_1\n",
       "3 chr1 859052 860562 SAMD11 delta_1\n",
       "4 chr1 859052 860562 SAMD11 delta_1\n",
       "5 chr1 859052 860562 SAMD11 delta_1\n",
       "6 chr1 859052 860562 SAMD11 delta_1\n",
       "  barcode                                       transcript.idx\n",
       "1 Islet3-fresh_CGGCTATGGCTCATGACTAAGCCTGTACTGAC 7             \n",
       "2 Islet3-fresh_AGACACCTACTCGCTATCTCTCCGGTACTGAC 7             \n",
       "3 Islet3-fresh_AGACACCTACTCGCTATCTCTCCGGTACTGAC 7             \n",
       "4 Islet2-fresh_TCGAGGCACGTACTAGTCTAGCTAGGC      7             \n",
       "5 Islet3-fresh_AGCGATAGTAGGCATGTTATGCGATATAGCCT 7             \n",
       "6 Islet3-fresh_CGGCTATGGCTCATGACTAAGCCTGTACTGAC 7             "
      ]
     },
     "metadata": {},
     "output_type": "display_data"
    }
   ],
   "source": [
    "dat.mat <- fread('../dat/1901/delta.promoter.long_matrix_w_transcripts_corrected.txt')\n",
    "dim(dat.mat)\n",
    "head(dat.mat)\n",
    "#dat.mat$cell <- NULL #no need cell id "
   ]
  },
  {
   "cell_type": "markdown",
   "metadata": {},
   "source": [
    " Concepts: \n",
    "1. `promoter region`: -500bp + 500bp for all TSS in gencode \n",
    "2. `promoter Peaks`: peaks that overlap promoter region"
   ]
  },
  {
   "cell_type": "markdown",
   "metadata": {},
   "source": [
    "## 2 Prepare data"
   ]
  },
  {
   "cell_type": "code",
   "execution_count": 4,
   "metadata": {
    "scrolled": true
   },
   "outputs": [
    {
     "data": {
      "text/html": [
       "<table>\n",
       "<thead><tr><th scope=col>gene</th><th scope=col>cluster</th><th scope=col>transcript.idx</th></tr></thead>\n",
       "<tbody>\n",
       "\t<tr><td>SAMD11 </td><td>delta_1</td><td>7      </td></tr>\n",
       "\t<tr><td>SAMD11 </td><td>delta_1</td><td>7      </td></tr>\n",
       "\t<tr><td>SAMD11 </td><td>delta_1</td><td>7      </td></tr>\n",
       "\t<tr><td>SAMD11 </td><td>delta_1</td><td>7      </td></tr>\n",
       "\t<tr><td>SAMD11 </td><td>delta_1</td><td>7      </td></tr>\n",
       "\t<tr><td>SAMD11 </td><td>delta_1</td><td>7      </td></tr>\n",
       "</tbody>\n",
       "</table>\n"
      ],
      "text/latex": [
       "\\begin{tabular}{r|lll}\n",
       " gene & cluster & transcript.idx\\\\\n",
       "\\hline\n",
       "\t SAMD11    & delta\\_1 & 7        \\\\\n",
       "\t SAMD11    & delta\\_1 & 7        \\\\\n",
       "\t SAMD11    & delta\\_1 & 7        \\\\\n",
       "\t SAMD11    & delta\\_1 & 7        \\\\\n",
       "\t SAMD11    & delta\\_1 & 7        \\\\\n",
       "\t SAMD11    & delta\\_1 & 7        \\\\\n",
       "\\end{tabular}\n"
      ],
      "text/markdown": [
       "\n",
       "| gene | cluster | transcript.idx |\n",
       "|---|---|---|\n",
       "| SAMD11  | delta_1 | 7       |\n",
       "| SAMD11  | delta_1 | 7       |\n",
       "| SAMD11  | delta_1 | 7       |\n",
       "| SAMD11  | delta_1 | 7       |\n",
       "| SAMD11  | delta_1 | 7       |\n",
       "| SAMD11  | delta_1 | 7       |\n",
       "\n"
      ],
      "text/plain": [
       "  gene   cluster transcript.idx\n",
       "1 SAMD11 delta_1 7             \n",
       "2 SAMD11 delta_1 7             \n",
       "3 SAMD11 delta_1 7             \n",
       "4 SAMD11 delta_1 7             \n",
       "5 SAMD11 delta_1 7             \n",
       "6 SAMD11 delta_1 7             "
      ]
     },
     "metadata": {},
     "output_type": "display_data"
    },
    {
     "data": {
      "text/html": [
       "<ol class=list-inline>\n",
       "\t<li>1009259</li>\n",
       "\t<li>3</li>\n",
       "</ol>\n"
      ],
      "text/latex": [
       "\\begin{enumerate*}\n",
       "\\item 1009259\n",
       "\\item 3\n",
       "\\end{enumerate*}\n"
      ],
      "text/markdown": [
       "1. 1009259\n",
       "2. 3\n",
       "\n",
       "\n"
      ],
      "text/plain": [
       "[1] 1009259       3"
      ]
     },
     "metadata": {},
     "output_type": "display_data"
    }
   ],
   "source": [
    "# prepare data\n",
    "dat.mat.transcript_level <- dat.mat%>%\n",
    "    select(-one_of(\"seq\",\"start\",\"end\"))%>%\n",
    "    distinct()%>%\n",
    "    select(-barcode)\n",
    "\n",
    "#    unite(\"gene_tr.idx\",c(\"gene\",\"transcript.idx\"),remove = T)\n",
    "head(dat.mat.transcript_level)\n",
    "dim(dat.mat.transcript_level)"
   ]
  },
  {
   "cell_type": "code",
   "execution_count": 6,
   "metadata": {
    "scrolled": true
   },
   "outputs": [
    {
     "name": "stdout",
     "output_type": "stream",
     "text": [
      "Check how rows changed:\n",
      "Before applying uniquness, # of rows:2330095\n",
      "After applying uniquness, # of rows:1009259\n"
     ]
    }
   ],
   "source": [
    "cat(\"Check how rows changed:\\n\") \n",
    "cat(sprintf(\"Before applying uniquness, # of rows:%d\\n\",nrow(dat.mat)))\n",
    "cat(sprintf(\"After applying uniquness, # of rows:%d\\n\",nrow(dat.mat.transcript_level)))"
   ]
  },
  {
   "cell_type": "markdown",
   "metadata": {},
   "source": [
    "### 2.1 Special cases: TSS too close to two genes\n",
    "\n",
    "- In this cases, the same peak may overlap with two genes' promoters\n",
    "- Note: `foverlap` results selected the 1st matches. "
   ]
  },
  {
   "cell_type": "code",
   "execution_count": 5,
   "metadata": {
    "scrolled": false
   },
   "outputs": [
    {
     "data": {
      "text/html": [
       "<table>\n",
       "<thead><tr><th scope=col>gene</th><th scope=col>transcript.idx</th></tr></thead>\n",
       "<tbody>\n",
       "\t<tr><td>B3GALT6     </td><td> 84         </td></tr>\n",
       "\t<tr><td>PUSL1       </td><td>131         </td></tr>\n",
       "\t<tr><td>GLTPD1      </td><td>157         </td></tr>\n",
       "\t<tr><td>RP4-758J18.2</td><td>223         </td></tr>\n",
       "\t<tr><td>AL645728.1  </td><td>273         </td></tr>\n",
       "\t<tr><td>RER1        </td><td>452         </td></tr>\n",
       "</tbody>\n",
       "</table>\n"
      ],
      "text/latex": [
       "\\begin{tabular}{r|ll}\n",
       " gene & transcript.idx\\\\\n",
       "\\hline\n",
       "\t B3GALT6      &  84         \\\\\n",
       "\t PUSL1        & 131         \\\\\n",
       "\t GLTPD1       & 157         \\\\\n",
       "\t RP4-758J18.2 & 223         \\\\\n",
       "\t AL645728.1   & 273         \\\\\n",
       "\t RER1         & 452         \\\\\n",
       "\\end{tabular}\n"
      ],
      "text/markdown": [
       "\n",
       "| gene | transcript.idx |\n",
       "|---|---|\n",
       "| B3GALT6      |  84          |\n",
       "| PUSL1        | 131          |\n",
       "| GLTPD1       | 157          |\n",
       "| RP4-758J18.2 | 223          |\n",
       "| AL645728.1   | 273          |\n",
       "| RER1         | 452          |\n",
       "\n"
      ],
      "text/plain": [
       "  gene         transcript.idx\n",
       "1 B3GALT6       84           \n",
       "2 PUSL1        131           \n",
       "3 GLTPD1       157           \n",
       "4 RP4-758J18.2 223           \n",
       "5 AL645728.1   273           \n",
       "6 RER1         452           "
      ]
     },
     "metadata": {},
     "output_type": "display_data"
    },
    {
     "data": {
      "text/html": [
       "<table>\n",
       "<thead><tr><th scope=col>gene</th><th scope=col>transcript.idx</th></tr></thead>\n",
       "<tbody>\n",
       "\t<tr><td>SDF4  </td><td> 84   </td></tr>\n",
       "\t<tr><td>ACAP3 </td><td>131   </td></tr>\n",
       "\t<tr><td>CPSF3L</td><td>157   </td></tr>\n",
       "\t<tr><td>CCNL2 </td><td>223   </td></tr>\n",
       "\t<tr><td>SSU72 </td><td>273   </td></tr>\n",
       "\t<tr><td>MORN1 </td><td>452   </td></tr>\n",
       "</tbody>\n",
       "</table>\n"
      ],
      "text/latex": [
       "\\begin{tabular}{r|ll}\n",
       " gene & transcript.idx\\\\\n",
       "\\hline\n",
       "\t SDF4   &  84   \\\\\n",
       "\t ACAP3  & 131   \\\\\n",
       "\t CPSF3L & 157   \\\\\n",
       "\t CCNL2  & 223   \\\\\n",
       "\t SSU72  & 273   \\\\\n",
       "\t MORN1  & 452   \\\\\n",
       "\\end{tabular}\n"
      ],
      "text/markdown": [
       "\n",
       "| gene | transcript.idx |\n",
       "|---|---|\n",
       "| SDF4   |  84    |\n",
       "| ACAP3  | 131    |\n",
       "| CPSF3L | 157    |\n",
       "| CCNL2  | 223    |\n",
       "| SSU72  | 273    |\n",
       "| MORN1  | 452    |\n",
       "\n"
      ],
      "text/plain": [
       "  gene   transcript.idx\n",
       "1 SDF4    84           \n",
       "2 ACAP3  131           \n",
       "3 CPSF3L 157           \n",
       "4 CCNL2  223           \n",
       "5 SSU72  273           \n",
       "6 MORN1  452           "
      ]
     },
     "metadata": {},
     "output_type": "display_data"
    }
   ],
   "source": [
    "celltypes <- c('delta_1','delta_2')\n",
    "dat.sub <- dat.mat.transcript_level%>%\n",
    "    filter(cluster %in%celltypes)\n",
    "\n",
    "\n",
    "dat.sub.red <- dat.sub %>% select(-cluster)%>%group_by(transcript.idx)%>% unique()\n",
    "setDT(dat.sub.red)\n",
    "idx <- which(duplicated(dat.sub.red,by = \"transcript.idx\"))\n",
    "head(dat.sub.red[idx,])\n",
    "head(dat.sub.red[idx-1,])"
   ]
  },
  {
   "cell_type": "code",
   "execution_count": 14,
   "metadata": {
    "scrolled": false
   },
   "outputs": [
    {
     "data": {
      "text/html": [
       "<table>\n",
       "<thead><tr><th scope=col>seq</th><th scope=col>start</th><th scope=col>end</th><th scope=col>gene</th><th scope=col>cluster</th><th scope=col>transcript.idx</th></tr></thead>\n",
       "<tbody>\n",
       "\t<tr><td>chr1   </td><td>1166826</td><td>1167987</td><td>SDF4   </td><td>delta_2</td><td>84     </td></tr>\n",
       "\t<tr><td>chr1   </td><td>1166826</td><td>1167987</td><td>SDF4   </td><td>delta_1</td><td>84     </td></tr>\n",
       "\t<tr><td>chr1   </td><td>1166826</td><td>1167987</td><td>B3GALT6</td><td>delta_2</td><td>84     </td></tr>\n",
       "\t<tr><td>chr1   </td><td>1166826</td><td>1167987</td><td>B3GALT6</td><td>delta_1</td><td>84     </td></tr>\n",
       "</tbody>\n",
       "</table>\n"
      ],
      "text/latex": [
       "\\begin{tabular}{r|llllll}\n",
       " seq & start & end & gene & cluster & transcript.idx\\\\\n",
       "\\hline\n",
       "\t chr1      & 1166826   & 1167987   & SDF4      & delta\\_2 & 84       \\\\\n",
       "\t chr1      & 1166826   & 1167987   & SDF4      & delta\\_1 & 84       \\\\\n",
       "\t chr1      & 1166826   & 1167987   & B3GALT6   & delta\\_2 & 84       \\\\\n",
       "\t chr1      & 1166826   & 1167987   & B3GALT6   & delta\\_1 & 84       \\\\\n",
       "\\end{tabular}\n"
      ],
      "text/markdown": [
       "\n",
       "| seq | start | end | gene | cluster | transcript.idx |\n",
       "|---|---|---|---|---|---|\n",
       "| chr1    | 1166826 | 1167987 | SDF4    | delta_2 | 84      |\n",
       "| chr1    | 1166826 | 1167987 | SDF4    | delta_1 | 84      |\n",
       "| chr1    | 1166826 | 1167987 | B3GALT6 | delta_2 | 84      |\n",
       "| chr1    | 1166826 | 1167987 | B3GALT6 | delta_1 | 84      |\n",
       "\n"
      ],
      "text/plain": [
       "  seq  start   end     gene    cluster transcript.idx\n",
       "1 chr1 1166826 1167987 SDF4    delta_2 84            \n",
       "2 chr1 1166826 1167987 SDF4    delta_1 84            \n",
       "3 chr1 1166826 1167987 B3GALT6 delta_2 84            \n",
       "4 chr1 1166826 1167987 B3GALT6 delta_1 84            "
      ]
     },
     "metadata": {},
     "output_type": "display_data"
    }
   ],
   "source": [
    "dat.mat[,-\"barcode\"]%>%filter(transcript.idx==84)%>%distinct()"
   ]
  },
  {
   "cell_type": "markdown",
   "metadata": {
    "heading_collapsed": true
   },
   "source": [
    "#####  In the above examples, each row is a peak "
   ]
  },
  {
   "cell_type": "markdown",
   "metadata": {},
   "source": [
    "#### 2.2.2 Handle these special cases by cat gene and tr.idx"
   ]
  },
  {
   "cell_type": "code",
   "execution_count": 6,
   "metadata": {
    "scrolled": true
   },
   "outputs": [
    {
     "data": {
      "text/html": [
       "<table>\n",
       "<thead><tr><th scope=col>gene_tr.idx</th><th scope=col>cluster</th></tr></thead>\n",
       "<tbody>\n",
       "\t<tr><td>SAMD11_7</td><td>delta_1 </td></tr>\n",
       "\t<tr><td>SAMD11_7</td><td>delta_1 </td></tr>\n",
       "\t<tr><td>SAMD11_7</td><td>delta_1 </td></tr>\n",
       "\t<tr><td>SAMD11_7</td><td>delta_1 </td></tr>\n",
       "\t<tr><td>SAMD11_7</td><td>delta_1 </td></tr>\n",
       "\t<tr><td>SAMD11_7</td><td>delta_1 </td></tr>\n",
       "</tbody>\n",
       "</table>\n"
      ],
      "text/latex": [
       "\\begin{tabular}{r|ll}\n",
       " gene\\_tr.idx & cluster\\\\\n",
       "\\hline\n",
       "\t SAMD11\\_7 & delta\\_1 \\\\\n",
       "\t SAMD11\\_7 & delta\\_1 \\\\\n",
       "\t SAMD11\\_7 & delta\\_1 \\\\\n",
       "\t SAMD11\\_7 & delta\\_1 \\\\\n",
       "\t SAMD11\\_7 & delta\\_1 \\\\\n",
       "\t SAMD11\\_7 & delta\\_1 \\\\\n",
       "\\end{tabular}\n"
      ],
      "text/markdown": [
       "\n",
       "| gene_tr.idx | cluster |\n",
       "|---|---|\n",
       "| SAMD11_7 | delta_1  |\n",
       "| SAMD11_7 | delta_1  |\n",
       "| SAMD11_7 | delta_1  |\n",
       "| SAMD11_7 | delta_1  |\n",
       "| SAMD11_7 | delta_1  |\n",
       "| SAMD11_7 | delta_1  |\n",
       "\n"
      ],
      "text/plain": [
       "  gene_tr.idx cluster\n",
       "1 SAMD11_7    delta_1\n",
       "2 SAMD11_7    delta_1\n",
       "3 SAMD11_7    delta_1\n",
       "4 SAMD11_7    delta_1\n",
       "5 SAMD11_7    delta_1\n",
       "6 SAMD11_7    delta_1"
      ]
     },
     "metadata": {},
     "output_type": "display_data"
    }
   ],
   "source": [
    "dat.mat.transcript_level<-dat.mat.transcript_level%>%\n",
    "    unite(\"gene_tr.idx\",c(\"gene\",\"transcript.idx\"),remove = T)\n",
    "head(dat.mat.transcript_level)"
   ]
  },
  {
   "cell_type": "markdown",
   "metadata": {},
   "source": [
    "## 3. Fisher's exact test at transcript level \n",
    "\n",
    "As long as there is any promoter peaks in that cell, the gene's promoter is open. \n",
    "\n",
    "1. get total alpha 1 and alpha 2 cells \n",
    "2. test hit in alpha1 vs hit in alpha2  (create contentigen table)\n",
    "3. perform [Fisher's exact test](https://en.wikipedia.org/wiki/Fisher%27s_exact_test) or [chi-squared test](https://en.wikipedia.org/wiki/Chi-squared_test)"
   ]
  },
  {
   "cell_type": "markdown",
   "metadata": {},
   "source": [
    "### 3.1 perform fisher's exact test for all transcripts"
   ]
  },
  {
   "cell_type": "code",
   "execution_count": 7,
   "metadata": {},
   "outputs": [
    {
     "name": "stdout",
     "output_type": "stream",
     "text": [
      "There are 18547 unique transcripts for delta cells\n",
      "There are 723 delta cells\n"
     ]
    }
   ],
   "source": [
    "cat(sprintf(\"There are %d unique transcripts for delta cells\\n\",\n",
    "            length(unique((dat.mat.transcript_level%>%filter(cluster %in%c(\"delta_1\",\"delta_2\")))$gene_tr.idx))))\n",
    "\n",
    "cat(sprintf(\"There are %d delta cells\\n\",\n",
    "            length(unique(dat.mat$barcode))))\n"
   ]
  },
  {
   "cell_type": "code",
   "execution_count": 8,
   "metadata": {},
   "outputs": [
    {
     "data": {
      "text/plain": [
       "\n",
       "delta_1 delta_2 \n",
       "    688      35 "
      ]
     },
     "metadata": {},
     "output_type": "display_data"
    }
   ],
   "source": [
    "dat.all.cells<- table((dat.mat[,c(\"cluster\",\"barcode\")]%>%unique)$cluster)\n",
    "dat.all.cells"
   ]
  },
  {
   "cell_type": "code",
   "execution_count": 9,
   "metadata": {},
   "outputs": [
    {
     "data": {
      "text/html": [
       "<table>\n",
       "<thead><tr><th></th><th scope=col>delta_1</th><th scope=col>delta_2</th></tr></thead>\n",
       "<tbody>\n",
       "\t<tr><th scope=row>Yes</th><td> 12</td><td> 2 </td></tr>\n",
       "\t<tr><th scope=row>No</th><td>676</td><td>33 </td></tr>\n",
       "</tbody>\n",
       "</table>\n"
      ],
      "text/latex": [
       "\\begin{tabular}{r|ll}\n",
       "  & delta\\_1 & delta\\_2\\\\\n",
       "\\hline\n",
       "\tYes &  12 &  2 \\\\\n",
       "\tNo & 676 & 33 \\\\\n",
       "\\end{tabular}\n"
      ],
      "text/markdown": [
       "\n",
       "| <!--/--> | delta_1 | delta_2 |\n",
       "|---|---|---|\n",
       "| Yes |  12 |  2  |\n",
       "| No | 676 | 33  |\n",
       "\n"
      ],
      "text/plain": [
       "         subtype\n",
       "expressed delta_1 delta_2\n",
       "      Yes  12      2     \n",
       "      No  676     33     "
      ]
     },
     "metadata": {},
     "output_type": "display_data"
    },
    {
     "data": {
      "text/html": [
       "12"
      ],
      "text/latex": [
       "12"
      ],
      "text/markdown": [
       "12"
      ],
      "text/plain": [
       "[1] 12"
      ]
     },
     "metadata": {},
     "output_type": "display_data"
    },
    {
     "data": {
      "text/html": [
       "676"
      ],
      "text/latex": [
       "676"
      ],
      "text/markdown": [
       "676"
      ],
      "text/plain": [
       "[1] 676"
      ]
     },
     "metadata": {},
     "output_type": "display_data"
    },
    {
     "data": {
      "text/html": [
       "<dl>\n",
       "\t<dt>$pval</dt>\n",
       "\t\t<dd>0.14393383941169</dd>\n",
       "\t<dt>$odds</dt>\n",
       "\t\t<dd><strong>odds ratio:</strong> 0.293753202555929</dd>\n",
       "\t<dt>$type1_frac</dt>\n",
       "\t\t<dd>0.0174418604651163</dd>\n",
       "\t<dt>$type2_frac</dt>\n",
       "\t\t<dd>0.0571428571428571</dd>\n",
       "</dl>\n"
      ],
      "text/latex": [
       "\\begin{description}\n",
       "\\item[\\$pval] 0.14393383941169\n",
       "\\item[\\$odds] \\textbf{odds ratio:} 0.293753202555929\n",
       "\\item[\\$type1\\_frac] 0.0174418604651163\n",
       "\\item[\\$type2\\_frac] 0.0571428571428571\n",
       "\\end{description}\n"
      ],
      "text/markdown": [
       "$pval\n",
       ":   0.14393383941169\n",
       "$odds\n",
       ":   **odds ratio:** 0.293753202555929\n",
       "$type1_frac\n",
       ":   0.0174418604651163\n",
       "$type2_frac\n",
       ":   0.0571428571428571\n",
       "\n",
       "\n"
      ],
      "text/plain": [
       "$pval\n",
       "[1] 0.1439338\n",
       "\n",
       "$odds\n",
       "odds ratio \n",
       " 0.2937532 \n",
       "\n",
       "$type1_frac\n",
       "[1] 0.01744186\n",
       "\n",
       "$type2_frac\n",
       "[1] 0.05714286\n"
      ]
     },
     "metadata": {},
     "output_type": "display_data"
    },
    {
     "data": {
      "text/plain": [
       "\n",
       "\tFisher's Exact Test for Count Data\n",
       "\n",
       "data:  test.tab\n",
       "p-value = 0.1439\n",
       "alternative hypothesis: true odds ratio is not equal to 1\n",
       "95 percent confidence interval:\n",
       " 0.06143683 2.80886784\n",
       "sample estimates:\n",
       "odds ratio \n",
       " 0.2937532 \n"
      ]
     },
     "metadata": {},
     "output_type": "display_data"
    }
   ],
   "source": [
    "tr='SAMD11_7'\n",
    "celltypes <- c('delta_1','delta_2')\n",
    "dat.sub <- dat.mat.transcript_level%>%\n",
    "    filter(cluster %in%celltypes)\n",
    "\n",
    "\n",
    "    test.dat <- table((dat.sub%>% filter(gene_tr.idx==tr))$cluster)\n",
    "    table.res <- as.vector(test.dat)\n",
    "    names(table.res) <- names(test.dat)\n",
    "    # handle if 0 for one subtype \n",
    "    a=setdiff(celltypes,    names(table.res))\n",
    "    table.res[a]<-0\n",
    "    \n",
    "    test.tab <- matrix(c(table.res[celltypes[1]], table.res[celltypes[2]], \n",
    "                         dat.all.cells[celltypes[1]]-table.res[celltypes[1]], \n",
    "                         dat.all.cells[celltypes[2]]-table.res[celltypes[2]]),\n",
    "                       byrow =  T,       \n",
    "                       nrow = 2,\n",
    "                       dimnames = list(expressed = c(\"Yes\", \"No\"),\n",
    "                       subtype = celltypes))\n",
    "test.tab\n",
    "test.tab[1]\n",
    "test.tab[2]\n",
    "    f1<-test.tab[1]/(test.tab[1]+test.tab[2])\n",
    "    f2 <- test.tab[3]/(test.tab[3]+test.tab[4])\n",
    "    l <-ifelse(f1>f2,'greater','less')\n",
    "    test.res <- fisher.test(test.tab,alternative = l)\n",
    "    res <- list(pval=test.res$p.value,\n",
    "                odds=test.res$estimate,\n",
    "                type1_frac=f1,\n",
    "                type2_frac=f2\n",
    "               )\n",
    "    res\n",
    "\n",
    "fisher.test(test.tab)"
   ]
  },
  {
   "cell_type": "code",
   "execution_count": 11,
   "metadata": {},
   "outputs": [
    {
     "data": {
      "text/plain": [
       "   user  system elapsed \n",
       "  0.027   0.001   0.027 "
      ]
     },
     "metadata": {},
     "output_type": "display_data"
    },
    {
     "data": {
      "text/html": [
       "<dl>\n",
       "\t<dt>$pval</dt>\n",
       "\t\t<dd>0.14393383941169</dd>\n",
       "\t<dt>$odds</dt>\n",
       "\t\t<dd><strong>odds ratio:</strong> 0.293753202555929</dd>\n",
       "\t<dt>$type1_frac</dt>\n",
       "\t\t<dd>0.0174418604651163</dd>\n",
       "\t<dt>$type2_frac</dt>\n",
       "\t\t<dd>0.0571428571428571</dd>\n",
       "</dl>\n"
      ],
      "text/latex": [
       "\\begin{description}\n",
       "\\item[\\$pval] 0.14393383941169\n",
       "\\item[\\$odds] \\textbf{odds ratio:} 0.293753202555929\n",
       "\\item[\\$type1\\_frac] 0.0174418604651163\n",
       "\\item[\\$type2\\_frac] 0.0571428571428571\n",
       "\\end{description}\n"
      ],
      "text/markdown": [
       "$pval\n",
       ":   0.14393383941169\n",
       "$odds\n",
       ":   **odds ratio:** 0.293753202555929\n",
       "$type1_frac\n",
       ":   0.0174418604651163\n",
       "$type2_frac\n",
       ":   0.0571428571428571\n",
       "\n",
       "\n"
      ],
      "text/plain": [
       "$pval\n",
       "[1] 0.1439338\n",
       "\n",
       "$odds\n",
       "odds ratio \n",
       " 0.2937532 \n",
       "\n",
       "$type1_frac\n",
       "[1] 0.01744186\n",
       "\n",
       "$type2_frac\n",
       "[1] 0.05714286\n"
      ]
     },
     "metadata": {},
     "output_type": "display_data"
    },
    {
     "data": {
      "text/plain": [
       "   user  system elapsed \n",
       "  0.009   0.000   0.010 "
      ]
     },
     "metadata": {},
     "output_type": "display_data"
    },
    {
     "data": {
      "text/html": [
       "<dl>\n",
       "\t<dt>$pval</dt>\n",
       "\t\t<dd>0.14393383941169</dd>\n",
       "\t<dt>$odds</dt>\n",
       "\t\t<dd><strong>odds ratio:</strong> 0.293753202555929</dd>\n",
       "\t<dt>$type1_frac</dt>\n",
       "\t\t<dd>0.0174418604651163</dd>\n",
       "\t<dt>$type2_frac</dt>\n",
       "\t\t<dd>0.0571428571428571</dd>\n",
       "</dl>\n"
      ],
      "text/latex": [
       "\\begin{description}\n",
       "\\item[\\$pval] 0.14393383941169\n",
       "\\item[\\$odds] \\textbf{odds ratio:} 0.293753202555929\n",
       "\\item[\\$type1\\_frac] 0.0174418604651163\n",
       "\\item[\\$type2\\_frac] 0.0571428571428571\n",
       "\\end{description}\n"
      ],
      "text/markdown": [
       "$pval\n",
       ":   0.14393383941169\n",
       "$odds\n",
       ":   **odds ratio:** 0.293753202555929\n",
       "$type1_frac\n",
       ":   0.0174418604651163\n",
       "$type2_frac\n",
       ":   0.0571428571428571\n",
       "\n",
       "\n"
      ],
      "text/plain": [
       "$pval\n",
       "[1] 0.1439338\n",
       "\n",
       "$odds\n",
       "odds ratio \n",
       " 0.2937532 \n",
       "\n",
       "$type1_frac\n",
       "[1] 0.01744186\n",
       "\n",
       "$type2_frac\n",
       "[1] 0.05714286\n"
      ]
     },
     "metadata": {},
     "output_type": "display_data"
    }
   ],
   "source": [
    "fun.ftestPerTr <- function(  tr='SAMD11_7',#=1\n",
    "                             celltypes=c('alpha_1','alpha_2'),\n",
    "                             dat=dat.mat.transcript_level%>%\n",
    "                                  select(one_of(\"gene_tr.idx\",\"cluster\")%>%\n",
    "                                  filter(cluster %in%celltypes))){\n",
    "    \n",
    "\n",
    "    test.dat <- table((dat.sub%>% filter(gene_tr.idx==tr))$cluster)\n",
    "    table.res <- as.vector(test.dat)\n",
    "    names(table.res) <- names(test.dat)\n",
    "    # handle if 0 for one subtype \n",
    "    a=setdiff(celltypes,    names(table.res))\n",
    "    table.res[a]<-0\n",
    "    \n",
    "    test.tab <- matrix(c(table.res[celltypes[1]], table.res[celltypes[2]], \n",
    "                         dat.all.cells[celltypes[1]]-table.res[celltypes[1]], \n",
    "                         dat.all.cells[celltypes[2]]-table.res[celltypes[2]]),\n",
    "                       byrow =  T,       \n",
    "                       nrow = 2,\n",
    "                       dimnames = list(expressed = c(\"Yes\", \"No\"),\n",
    "                       subtype = celltypes))\n",
    "\n",
    "    f1<-test.tab[1]/(test.tab[1]+test.tab[2])\n",
    "    f2 <- test.tab[3]/(test.tab[3]+test.tab[4])\n",
    "    l <-ifelse(f1>f2,'greater','less')\n",
    "    test.res <- fisher.test(test.tab,alternative = l)\n",
    "    res <- list(pval=test.res$p.value,\n",
    "                odds=test.res$estimate,\n",
    "                type1_frac=f1,\n",
    "                type2_frac=f2\n",
    "               )\n",
    "    res\n",
    "}\n",
    "\n",
    "##\n",
    "\n",
    "celltypes <- c('delta_1','delta_2')\n",
    "dat.sub <- dat.mat.transcript_level%>%\n",
    "                           select(one_of(\"gene_tr.idx\",\"cluster\"))%>%\n",
    "                           filter(cluster %in%celltypes)\n",
    "#fun.ftestPerGene(dat = dat.sub,tr=1)\n",
    "system.time(fun.ftestPerTr(celltypes=celltypes))\n",
    "fun.ftestPerTr(celltypes=celltypes)\n",
    "system.time(fun.ftestPerTr(dat=dat.sub,celltypes=celltypes))  \n",
    "fun.ftestPerTr(dat=dat.sub,celltypes=celltypes)\n",
    "#all.tr <- unique(dat.sub$transcript.idx)\n",
    "#for(x in all.tr){\n",
    "#    fun.ftestPerGene(dat=dat.sub,tr = x)\n",
    "#}\n",
    "\n",
    "\n",
    "\n",
    "#fun.ftestPerGene(dat = dat.sub,tr=1)"
   ]
  },
  {
   "cell_type": "code",
   "execution_count": 12,
   "metadata": {},
   "outputs": [
    {
     "data": {
      "text/plain": [
       "   user  system elapsed \n",
       "209.493  25.998  34.092 "
      ]
     },
     "metadata": {},
     "output_type": "display_data"
    }
   ],
   "source": [
    "celltypes<- list()\n",
    "celltypes$delta <- c('delta_1','delta_2')\n",
    "\n",
    "res.transcript_level <- list()\n",
    "# time consumming task\n",
    "system.time(for(x in c(\"delta\")){\n",
    "    require(parallel)\n",
    "    dat.sub <- dat.mat.transcript_level%>%select(one_of(\"gene_tr.idx\",\"cluster\"))%>%filter(cluster %in% celltypes[[x]])\n",
    "    all.tr <- unique(dat.sub$gene_tr.idx)\n",
    "    res.transcript_level[[x]] <- (mclapply(all.tr,function(trr) fun.ftestPerTr(dat=dat.sub,\n",
    "                                                            tr = trr,\n",
    "                                                            celltypes = celltypes[[x]]),mc.cores = 8))\n",
    "})\n",
    "        "
   ]
  },
  {
   "cell_type": "code",
   "execution_count": 13,
   "metadata": {},
   "outputs": [
    {
     "data": {
      "text/html": [
       "<table>\n",
       "<thead><tr><th></th><th scope=col>pval</th><th scope=col>odds</th><th scope=col>type1_frac</th><th scope=col>type2_frac</th></tr></thead>\n",
       "<tbody>\n",
       "\t<tr><th scope=row>SAMD11_7</th><td>0.1439338 </td><td>0.2937532 </td><td>0.01744186</td><td>0.05714286</td></tr>\n",
       "\t<tr><th scope=row>SAMD11_8</th><td>0.7417201 </td><td>Inf       </td><td>0.00872093</td><td>0         </td></tr>\n",
       "\t<tr><th scope=row>SAMD11_13</th><td>0.6343316 </td><td>0.9656582 </td><td>0.02761628</td><td>0.02857143</td></tr>\n",
       "\t<tr><th scope=row>SAMD11_14</th><td>0.304654  </td><td>0.6067625 </td><td>0.05377907</td><td>0.08571429</td></tr>\n",
       "\t<tr><th scope=row>NOC2L_19</th><td>0.2425178 </td><td>Inf       </td><td>0.04069767</td><td>0         </td></tr>\n",
       "\t<tr><th scope=row>PLEKHN1_27</th><td>0.3289739 </td><td>0.3503028 </td><td>0.01017442</td><td>0.02857143</td></tr>\n",
       "</tbody>\n",
       "</table>\n"
      ],
      "text/latex": [
       "\\begin{tabular}{r|llll}\n",
       "  & pval & odds & type1\\_frac & type2\\_frac\\\\\n",
       "\\hline\n",
       "\tSAMD11\\_7 & 0.1439338  & 0.2937532  & 0.01744186 & 0.05714286\\\\\n",
       "\tSAMD11\\_8 & 0.7417201  & Inf        & 0.00872093 & 0         \\\\\n",
       "\tSAMD11\\_13 & 0.6343316  & 0.9656582  & 0.02761628 & 0.02857143\\\\\n",
       "\tSAMD11\\_14 & 0.304654   & 0.6067625  & 0.05377907 & 0.08571429\\\\\n",
       "\tNOC2L\\_19 & 0.2425178  & Inf        & 0.04069767 & 0         \\\\\n",
       "\tPLEKHN1\\_27 & 0.3289739  & 0.3503028  & 0.01017442 & 0.02857143\\\\\n",
       "\\end{tabular}\n"
      ],
      "text/markdown": [
       "\n",
       "| <!--/--> | pval | odds | type1_frac | type2_frac |\n",
       "|---|---|---|---|---|\n",
       "| SAMD11_7 | 0.1439338  | 0.2937532  | 0.01744186 | 0.05714286 |\n",
       "| SAMD11_8 | 0.7417201  | Inf        | 0.00872093 | 0          |\n",
       "| SAMD11_13 | 0.6343316  | 0.9656582  | 0.02761628 | 0.02857143 |\n",
       "| SAMD11_14 | 0.304654   | 0.6067625  | 0.05377907 | 0.08571429 |\n",
       "| NOC2L_19 | 0.2425178  | Inf        | 0.04069767 | 0          |\n",
       "| PLEKHN1_27 | 0.3289739  | 0.3503028  | 0.01017442 | 0.02857143 |\n",
       "\n"
      ],
      "text/plain": [
       "           pval      odds      type1_frac type2_frac\n",
       "SAMD11_7   0.1439338 0.2937532 0.01744186 0.05714286\n",
       "SAMD11_8   0.7417201 Inf       0.00872093 0         \n",
       "SAMD11_13  0.6343316 0.9656582 0.02761628 0.02857143\n",
       "SAMD11_14  0.304654  0.6067625 0.05377907 0.08571429\n",
       "NOC2L_19   0.2425178 Inf       0.04069767 0         \n",
       "PLEKHN1_27 0.3289739 0.3503028 0.01017442 0.02857143"
      ]
     },
     "metadata": {},
     "output_type": "display_data"
    }
   ],
   "source": [
    "# delta\n",
    "x <- celltypes$delta\n",
    "dat.sub <- dat.mat.transcript_level%>%select(one_of(\"gene_tr.idx\",\"cluster\"))%>%filter(cluster %in% x)\n",
    "all.tr <- unique(dat.sub$gene_tr.idx)\n",
    "res.genes_level.a.df <- do.call(rbind,res.transcript_level$delta)\n",
    "rownames(res.genes_level.a.df) <- all.tr\n",
    "head(res.genes_level.a.df)\n",
    "res.transcript_level$delta <-res.genes_level.a.df "
   ]
  },
  {
   "cell_type": "code",
   "execution_count": 14,
   "metadata": {
    "scrolled": true
   },
   "outputs": [
    {
     "data": {
      "text/html": [
       "<table>\n",
       "<thead><tr><th></th><th scope=col>pval</th><th scope=col>odds</th><th scope=col>type1_frac</th><th scope=col>type2_frac</th><th scope=col>FDR</th><th scope=col>padj.Bonferroni</th><th scope=col>FDR.BY</th></tr></thead>\n",
       "<tbody>\n",
       "\t<tr><th scope=row>SAMD11_7</th><td>0.1439338 </td><td>0.2937532 </td><td>0.01744186</td><td>0.05714286</td><td>0.7106693 </td><td>1         </td><td>1         </td></tr>\n",
       "\t<tr><th scope=row>SAMD11_8</th><td>0.7417201 </td><td>      Inf </td><td>0.00872093</td><td>0         </td><td>0.7682294 </td><td>1         </td><td>1         </td></tr>\n",
       "\t<tr><th scope=row>SAMD11_13</th><td>0.6343316 </td><td>0.9656582 </td><td>0.02761628</td><td>0.02857143</td><td>0.7140624 </td><td>1         </td><td>1         </td></tr>\n",
       "\t<tr><th scope=row>SAMD11_14</th><td>0.304654  </td><td>0.6067625 </td><td>0.05377907</td><td>0.08571429</td><td>0.7106693 </td><td>1         </td><td>1         </td></tr>\n",
       "\t<tr><th scope=row>NOC2L_19</th><td>0.2425178 </td><td>      Inf </td><td>0.04069767</td><td>0         </td><td>0.7106693 </td><td>1         </td><td>1         </td></tr>\n",
       "\t<tr><th scope=row>PLEKHN1_27</th><td>0.3289739 </td><td>0.3503028 </td><td>0.01017442</td><td>0.02857143</td><td>0.7106693 </td><td>1         </td><td>1         </td></tr>\n",
       "</tbody>\n",
       "</table>\n"
      ],
      "text/latex": [
       "\\begin{tabular}{r|lllllll}\n",
       "  & pval & odds & type1\\_frac & type2\\_frac & FDR & padj.Bonferroni & FDR.BY\\\\\n",
       "\\hline\n",
       "\tSAMD11\\_7 & 0.1439338  & 0.2937532  & 0.01744186 & 0.05714286 & 0.7106693  & 1          & 1         \\\\\n",
       "\tSAMD11\\_8 & 0.7417201  &       Inf  & 0.00872093 & 0          & 0.7682294  & 1          & 1         \\\\\n",
       "\tSAMD11\\_13 & 0.6343316  & 0.9656582  & 0.02761628 & 0.02857143 & 0.7140624  & 1          & 1         \\\\\n",
       "\tSAMD11\\_14 & 0.304654   & 0.6067625  & 0.05377907 & 0.08571429 & 0.7106693  & 1          & 1         \\\\\n",
       "\tNOC2L\\_19 & 0.2425178  &       Inf  & 0.04069767 & 0          & 0.7106693  & 1          & 1         \\\\\n",
       "\tPLEKHN1\\_27 & 0.3289739  & 0.3503028  & 0.01017442 & 0.02857143 & 0.7106693  & 1          & 1         \\\\\n",
       "\\end{tabular}\n"
      ],
      "text/markdown": [
       "\n",
       "| <!--/--> | pval | odds | type1_frac | type2_frac | FDR | padj.Bonferroni | FDR.BY |\n",
       "|---|---|---|---|---|---|---|---|\n",
       "| SAMD11_7 | 0.1439338  | 0.2937532  | 0.01744186 | 0.05714286 | 0.7106693  | 1          | 1          |\n",
       "| SAMD11_8 | 0.7417201  |       Inf  | 0.00872093 | 0          | 0.7682294  | 1          | 1          |\n",
       "| SAMD11_13 | 0.6343316  | 0.9656582  | 0.02761628 | 0.02857143 | 0.7140624  | 1          | 1          |\n",
       "| SAMD11_14 | 0.304654   | 0.6067625  | 0.05377907 | 0.08571429 | 0.7106693  | 1          | 1          |\n",
       "| NOC2L_19 | 0.2425178  |       Inf  | 0.04069767 | 0          | 0.7106693  | 1          | 1          |\n",
       "| PLEKHN1_27 | 0.3289739  | 0.3503028  | 0.01017442 | 0.02857143 | 0.7106693  | 1          | 1          |\n",
       "\n"
      ],
      "text/plain": [
       "           pval      odds      type1_frac type2_frac FDR       padj.Bonferroni\n",
       "SAMD11_7   0.1439338 0.2937532 0.01744186 0.05714286 0.7106693 1              \n",
       "SAMD11_8   0.7417201       Inf 0.00872093 0          0.7682294 1              \n",
       "SAMD11_13  0.6343316 0.9656582 0.02761628 0.02857143 0.7140624 1              \n",
       "SAMD11_14  0.304654  0.6067625 0.05377907 0.08571429 0.7106693 1              \n",
       "NOC2L_19   0.2425178       Inf 0.04069767 0          0.7106693 1              \n",
       "PLEKHN1_27 0.3289739 0.3503028 0.01017442 0.02857143 0.7106693 1              \n",
       "           FDR.BY\n",
       "SAMD11_7   1     \n",
       "SAMD11_8   1     \n",
       "SAMD11_13  1     \n",
       "SAMD11_14  1     \n",
       "NOC2L_19   1     \n",
       "PLEKHN1_27 1     "
      ]
     },
     "metadata": {},
     "output_type": "display_data"
    }
   ],
   "source": [
    "# adjust for p value \n",
    "m<- c(\"fdr\",\"bonferroni\",\"BY\");names(m)<-c(\"FDR\",\"padj.Bonferroni\",\"FDR.BY\")\n",
    "res.transcript_level.2 <- lapply(res.transcript_level,function(df){\n",
    "    res.genes_level.a.df <- as.data.frame(df)\n",
    "    for(i in 1:3){\n",
    "        res.genes_level.a.df[[names(m)[i]]] <- p.adjust(as.numeric(res.genes_level.a.df$pval),method = m[i])\n",
    "    }\n",
    "    res.genes_level.a.df$odds <- as.numeric(res.genes_level.a.df$odds)\n",
    "    res.genes_level.a.df\n",
    "})\n",
    "head(res.transcript_level.2$delta)\n"
   ]
  },
  {
   "cell_type": "code",
   "execution_count": 15,
   "metadata": {},
   "outputs": [],
   "source": [
    "fwrite(res.transcript_level.2$delta,\"../dat/1901/res.transcript_level_delta.csv\",row.names = T)"
   ]
  }
 ],
 "metadata": {
  "kernelspec": {
   "display_name": "R",
   "language": "R",
   "name": "ir"
  },
  "language_info": {
   "codemirror_mode": "r",
   "file_extension": ".r",
   "mimetype": "text/x-r-source",
   "name": "R",
   "pygments_lexer": "r",
   "version": "3.5.1"
  }
 },
 "nbformat": 4,
 "nbformat_minor": 2
}
