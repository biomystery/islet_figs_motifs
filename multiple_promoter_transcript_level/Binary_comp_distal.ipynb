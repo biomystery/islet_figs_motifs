{
 "cells": [
  {
   "cell_type": "code",
   "execution_count": 2,
   "metadata": {},
   "outputs": [],
   "source": [
    "require(data.table)\n",
    "require(tidyverse)"
   ]
  },
  {
   "cell_type": "markdown",
   "metadata": {},
   "source": [
    "## 1. Read data "
   ]
  },
  {
   "cell_type": "code",
   "execution_count": 79,
   "metadata": {},
   "outputs": [
    {
     "data": {
      "text/html": [
       "<ol class=list-inline>\n",
       "\t<li>43483620</li>\n",
       "\t<li>3</li>\n",
       "</ol>\n"
      ],
      "text/latex": [
       "\\begin{enumerate*}\n",
       "\\item 43483620\n",
       "\\item 3\n",
       "\\end{enumerate*}\n"
      ],
      "text/markdown": [
       "1. 43483620\n",
       "2. 3\n",
       "\n",
       "\n"
      ],
      "text/plain": [
       "[1] 43483620        3"
      ]
     },
     "metadata": {},
     "output_type": "display_data"
    },
    {
     "data": {
      "text/html": [
       "<table>\n",
       "<thead><tr><th scope=col>distal_peak</th><th scope=col>barcode</th><th scope=col>cluster</th></tr></thead>\n",
       "<tbody>\n",
       "\t<tr><td>1_10216_10512                                </td><td>Islet3-fresh_CTGAAGCTTGCAGCTACTCTCTATTATAGCCT</td><td>beta_2                                       </td></tr>\n",
       "\t<tr><td>1_237657_237858                              </td><td>Islet3-fresh_CTGAAGCTTGCAGCTACTCTCTATTATAGCCT</td><td>beta_2                                       </td></tr>\n",
       "\t<tr><td>1_967851_968930                              </td><td>Islet3-fresh_CTGAAGCTTGCAGCTACTCTCTATTATAGCCT</td><td>beta_2                                       </td></tr>\n",
       "\t<tr><td>1_967851_968930                              </td><td>Islet3-fresh_CTGAAGCTTGCAGCTACTCTCTATTATAGCCT</td><td>beta_2                                       </td></tr>\n",
       "\t<tr><td>1_1004053_1005548                            </td><td>Islet3-fresh_CTGAAGCTTGCAGCTACTCTCTATTATAGCCT</td><td>beta_2                                       </td></tr>\n",
       "\t<tr><td>1_1004053_1005548                            </td><td>Islet3-fresh_CTGAAGCTTGCAGCTACTCTCTATTATAGCCT</td><td>beta_2                                       </td></tr>\n",
       "</tbody>\n",
       "</table>\n"
      ],
      "text/latex": [
       "\\begin{tabular}{r|lll}\n",
       " distal\\_peak & barcode & cluster\\\\\n",
       "\\hline\n",
       "\t 1\\_10216\\_10512                               & Islet3-fresh\\_CTGAAGCTTGCAGCTACTCTCTATTATAGCCT & beta\\_2                                       \\\\\n",
       "\t 1\\_237657\\_237858                             & Islet3-fresh\\_CTGAAGCTTGCAGCTACTCTCTATTATAGCCT & beta\\_2                                       \\\\\n",
       "\t 1\\_967851\\_968930                             & Islet3-fresh\\_CTGAAGCTTGCAGCTACTCTCTATTATAGCCT & beta\\_2                                       \\\\\n",
       "\t 1\\_967851\\_968930                             & Islet3-fresh\\_CTGAAGCTTGCAGCTACTCTCTATTATAGCCT & beta\\_2                                       \\\\\n",
       "\t 1\\_1004053\\_1005548                           & Islet3-fresh\\_CTGAAGCTTGCAGCTACTCTCTATTATAGCCT & beta\\_2                                       \\\\\n",
       "\t 1\\_1004053\\_1005548                           & Islet3-fresh\\_CTGAAGCTTGCAGCTACTCTCTATTATAGCCT & beta\\_2                                       \\\\\n",
       "\\end{tabular}\n"
      ],
      "text/markdown": [
       "\n",
       "| distal_peak | barcode | cluster |\n",
       "|---|---|---|\n",
       "| 1_10216_10512                                 | Islet3-fresh_CTGAAGCTTGCAGCTACTCTCTATTATAGCCT | beta_2                                        |\n",
       "| 1_237657_237858                               | Islet3-fresh_CTGAAGCTTGCAGCTACTCTCTATTATAGCCT | beta_2                                        |\n",
       "| 1_967851_968930                               | Islet3-fresh_CTGAAGCTTGCAGCTACTCTCTATTATAGCCT | beta_2                                        |\n",
       "| 1_967851_968930                               | Islet3-fresh_CTGAAGCTTGCAGCTACTCTCTATTATAGCCT | beta_2                                        |\n",
       "| 1_1004053_1005548                             | Islet3-fresh_CTGAAGCTTGCAGCTACTCTCTATTATAGCCT | beta_2                                        |\n",
       "| 1_1004053_1005548                             | Islet3-fresh_CTGAAGCTTGCAGCTACTCTCTATTATAGCCT | beta_2                                        |\n",
       "\n"
      ],
      "text/plain": [
       "  distal_peak       barcode                                       cluster\n",
       "1 1_10216_10512     Islet3-fresh_CTGAAGCTTGCAGCTACTCTCTATTATAGCCT beta_2 \n",
       "2 1_237657_237858   Islet3-fresh_CTGAAGCTTGCAGCTACTCTCTATTATAGCCT beta_2 \n",
       "3 1_967851_968930   Islet3-fresh_CTGAAGCTTGCAGCTACTCTCTATTATAGCCT beta_2 \n",
       "4 1_967851_968930   Islet3-fresh_CTGAAGCTTGCAGCTACTCTCTATTATAGCCT beta_2 \n",
       "5 1_1004053_1005548 Islet3-fresh_CTGAAGCTTGCAGCTACTCTCTATTATAGCCT beta_2 \n",
       "6 1_1004053_1005548 Islet3-fresh_CTGAAGCTTGCAGCTACTCTCTATTATAGCCT beta_2 "
      ]
     },
     "metadata": {},
     "output_type": "display_data"
    }
   ],
   "source": [
    "dat.mat <- fread('../dat/1901/abd.distal.long.matrix.csv')\n",
    "dim(dat.mat)\n",
    "head(dat.mat)\n",
    "#dat.mat$cell <- NULL #no need cell id "
   ]
  },
  {
   "cell_type": "markdown",
   "metadata": {},
   "source": [
    " Concepts: \n",
    "1. `promoter region`: -500bp + 500bp for all TSS in gencode \n",
    "2. `promoter Peaks`: peaks that overlap promoter region"
   ]
  },
  {
   "cell_type": "code",
   "execution_count": 84,
   "metadata": {},
   "outputs": [],
   "source": [
    "dat.mat <- dat.mat %>% distinct()"
   ]
  },
  {
   "cell_type": "code",
   "execution_count": 85,
   "metadata": {},
   "outputs": [
    {
     "data": {
      "text/plain": [
       "\n",
       "alpha_1 alpha_2  beta_1  beta_2 delta_1 delta_2 \n",
       "   4273    1330    4358    2819     688      35 "
      ]
     },
     "metadata": {},
     "output_type": "display_data"
    }
   ],
   "source": [
    "# all cells \n",
    "dat.all.cells <- table((dat.mat[,-\"distal_peak\"]%>%distinct())$clust)\n",
    "dat.all.cells"
   ]
  },
  {
   "cell_type": "code",
   "execution_count": 4,
   "metadata": {},
   "outputs": [
    {
     "data": {
      "text/plain": [
       "\n",
       "alpha_1 alpha_2  beta_1  beta_2 \n",
       "   4266    1328    4354    2816 "
      ]
     },
     "metadata": {},
     "output_type": "display_data"
    },
    {
     "data": {
      "text/html": [
       "12764"
      ],
      "text/latex": [
       "12764"
      ],
      "text/markdown": [
       "12764"
      ],
      "text/plain": [
       "[1] 12764"
      ]
     },
     "metadata": {},
     "output_type": "display_data"
    },
    {
     "data": {
      "text/html": [
       "12764"
      ],
      "text/latex": [
       "12764"
      ],
      "text/markdown": [
       "12764"
      ],
      "text/plain": [
       "[1] 12764"
      ]
     },
     "metadata": {},
     "output_type": "display_data"
    }
   ],
   "source": [
    "# get all cells \n",
    "dat.all.cells <- table((fread('../dat/output.umap.ab.filtered.csv'))$cluster) # table for all cells\n",
    "dat.all.cells\n",
    "sum(dat.all.cells)\n",
    "length(unique(dat.mat$cell))"
   ]
  },
  {
   "cell_type": "code",
   "execution_count": 7,
   "metadata": {},
   "outputs": [
    {
     "data": {
      "text/html": [
       "217011"
      ],
      "text/latex": [
       "217011"
      ],
      "text/markdown": [
       "217011"
      ],
      "text/plain": [
       "[1] 217011"
      ]
     },
     "metadata": {},
     "output_type": "display_data"
    }
   ],
   "source": [
    "# how many peaks\n",
    "length(unique(dat.mat$distal_peak))"
   ]
  },
  {
   "cell_type": "markdown",
   "metadata": {},
   "source": [
    "## 2 Prepare data\n",
    "\n",
    "\n",
    "Peak|n_cells|celltype \n",
    "--- | --- | ---\n"
   ]
  },
  {
   "cell_type": "code",
   "execution_count": 86,
   "metadata": {
    "scrolled": true
   },
   "outputs": [],
   "source": [
    "# prepare data\n",
    "dat.mat<- dat.mat[,.N,by=.(distal_peak,cluster)]%>%arrange(distal_peak,cluster)"
   ]
  },
  {
   "cell_type": "code",
   "execution_count": 87,
   "metadata": {
    "scrolled": true
   },
   "outputs": [
    {
     "data": {
      "text/html": [
       "<table>\n",
       "<thead><tr><th scope=col>distal_peak</th><th scope=col>cluster</th><th scope=col>N</th></tr></thead>\n",
       "<tbody>\n",
       "\t<tr><td>1_100009936_100010354</td><td>alpha_1              </td><td> 17                  </td></tr>\n",
       "\t<tr><td>1_100009936_100010354</td><td>alpha_2              </td><td>  6                  </td></tr>\n",
       "\t<tr><td>1_100009936_100010354</td><td>beta_1               </td><td>125                  </td></tr>\n",
       "\t<tr><td>1_100009936_100010354</td><td>beta_2               </td><td> 97                  </td></tr>\n",
       "\t<tr><td>1_100009936_100010354</td><td>delta_1              </td><td>  2                  </td></tr>\n",
       "\t<tr><td>1_100014517_100015228</td><td>alpha_1              </td><td> 21                  </td></tr>\n",
       "</tbody>\n",
       "</table>\n"
      ],
      "text/latex": [
       "\\begin{tabular}{r|lll}\n",
       " distal\\_peak & cluster & N\\\\\n",
       "\\hline\n",
       "\t 1\\_100009936\\_100010354 & alpha\\_1                 &  17                      \\\\\n",
       "\t 1\\_100009936\\_100010354 & alpha\\_2                 &   6                      \\\\\n",
       "\t 1\\_100009936\\_100010354 & beta\\_1                  & 125                      \\\\\n",
       "\t 1\\_100009936\\_100010354 & beta\\_2                  &  97                      \\\\\n",
       "\t 1\\_100009936\\_100010354 & delta\\_1                 &   2                      \\\\\n",
       "\t 1\\_100014517\\_100015228 & alpha\\_1                 &  21                      \\\\\n",
       "\\end{tabular}\n"
      ],
      "text/markdown": [
       "\n",
       "| distal_peak | cluster | N |\n",
       "|---|---|---|\n",
       "| 1_100009936_100010354 | alpha_1               |  17                   |\n",
       "| 1_100009936_100010354 | alpha_2               |   6                   |\n",
       "| 1_100009936_100010354 | beta_1                | 125                   |\n",
       "| 1_100009936_100010354 | beta_2                |  97                   |\n",
       "| 1_100009936_100010354 | delta_1               |   2                   |\n",
       "| 1_100014517_100015228 | alpha_1               |  21                   |\n",
       "\n"
      ],
      "text/plain": [
       "  distal_peak           cluster N  \n",
       "1 1_100009936_100010354 alpha_1  17\n",
       "2 1_100009936_100010354 alpha_2   6\n",
       "3 1_100009936_100010354 beta_1  125\n",
       "4 1_100009936_100010354 beta_2   97\n",
       "5 1_100009936_100010354 delta_1   2\n",
       "6 1_100014517_100015228 alpha_1  21"
      ]
     },
     "metadata": {},
     "output_type": "display_data"
    }
   ],
   "source": [
    "head(dat.mat)"
   ]
  },
  {
   "cell_type": "code",
   "execution_count": 88,
   "metadata": {},
   "outputs": [
    {
     "data": {
      "text/html": [
       "<ol class=list-inline>\n",
       "\t<li>1</li>\n",
       "\t<li>3764</li>\n",
       "</ol>\n"
      ],
      "text/latex": [
       "\\begin{enumerate*}\n",
       "\\item 1\n",
       "\\item 3764\n",
       "\\end{enumerate*}\n"
      ],
      "text/markdown": [
       "1. 1\n",
       "2. 3764\n",
       "\n",
       "\n"
      ],
      "text/plain": [
       "[1]    1 3764"
      ]
     },
     "metadata": {},
     "output_type": "display_data"
    }
   ],
   "source": [
    "range(dat.mat$N)\n"
   ]
  },
  {
   "cell_type": "markdown",
   "metadata": {},
   "source": [
    "## 3. Fisher's exact test  \n",
    "\n",
    "As long as there is any  peaks in that cell, the peak is open in this cell. \n",
    "\n",
    "1. get total alpha 1 and alpha 2 cells \n",
    "2. test hit in alpha1 vs hit in alpha2  (create contentigen table)\n",
    "3. perform [Fisher's exact test](https://en.wikipedia.org/wiki/Fisher%27s_exact_test) or [chi-squared test](https://en.wikipedia.org/wiki/Chi-squared_test)\n",
    "\n",
    "Input: `dat.mat` and `dat.all.cells`\n",
    "output: \n",
    "\n",
    "peak|n_celltype1|n_celltype2|total_cells|celltype | pval | frac_1 | frac_2| odds\n"
   ]
  },
  {
   "cell_type": "markdown",
   "metadata": {},
   "source": [
    "### 3.1 perform fisher's exact test for distal peaks"
   ]
  },
  {
   "cell_type": "code",
   "execution_count": 89,
   "metadata": {},
   "outputs": [
    {
     "data": {
      "text/html": [
       "<table>\n",
       "<thead><tr><th scope=col>distal_peak</th><th scope=col>cluster</th><th scope=col>N</th></tr></thead>\n",
       "<tbody>\n",
       "\t<tr><td>1_100009936_100010354</td><td>delta_1              </td><td>2                    </td></tr>\n",
       "</tbody>\n",
       "</table>\n"
      ],
      "text/latex": [
       "\\begin{tabular}{r|lll}\n",
       " distal\\_peak & cluster & N\\\\\n",
       "\\hline\n",
       "\t 1\\_100009936\\_100010354 & delta\\_1                 & 2                        \\\\\n",
       "\\end{tabular}\n"
      ],
      "text/markdown": [
       "\n",
       "| distal_peak | cluster | N |\n",
       "|---|---|---|\n",
       "| 1_100009936_100010354 | delta_1               | 2                     |\n",
       "\n"
      ],
      "text/plain": [
       "  distal_peak           cluster N\n",
       "1 1_100009936_100010354 delta_1 2"
      ]
     },
     "metadata": {},
     "output_type": "display_data"
    },
    {
     "data": {
      "text/html": [
       "<table>\n",
       "<thead><tr><th></th><th scope=col>delta_1</th><th scope=col>delta_2</th></tr></thead>\n",
       "<tbody>\n",
       "\t<tr><th scope=row>Yes</th><td>  2</td><td> 0 </td></tr>\n",
       "\t<tr><th scope=row>No</th><td>686</td><td>35 </td></tr>\n",
       "</tbody>\n",
       "</table>\n"
      ],
      "text/latex": [
       "\\begin{tabular}{r|ll}\n",
       "  & delta\\_1 & delta\\_2\\\\\n",
       "\\hline\n",
       "\tYes &   2 &  0 \\\\\n",
       "\tNo & 686 & 35 \\\\\n",
       "\\end{tabular}\n"
      ],
      "text/markdown": [
       "\n",
       "| <!--/--> | delta_1 | delta_2 |\n",
       "|---|---|---|\n",
       "| Yes |   2 |  0  |\n",
       "| No | 686 | 35  |\n",
       "\n"
      ],
      "text/plain": [
       "         subtype\n",
       "expressed delta_1 delta_2\n",
       "      Yes   2      0     \n",
       "      No  686     35     "
      ]
     },
     "metadata": {},
     "output_type": "display_data"
    },
    {
     "data": {
      "text/html": [
       "2"
      ],
      "text/latex": [
       "2"
      ],
      "text/markdown": [
       "2"
      ],
      "text/plain": [
       "[1] 2"
      ]
     },
     "metadata": {},
     "output_type": "display_data"
    },
    {
     "data": {
      "text/html": [
       "686"
      ],
      "text/latex": [
       "686"
      ],
      "text/markdown": [
       "686"
      ],
      "text/plain": [
       "[1] 686"
      ]
     },
     "metadata": {},
     "output_type": "display_data"
    },
    {
     "data": {
      "text/html": [
       "<dl>\n",
       "\t<dt>$pval</dt>\n",
       "\t\t<dd>0.905460856771761</dd>\n",
       "\t<dt>$odds</dt>\n",
       "\t\t<dd><strong>odds ratio:</strong> Inf</dd>\n",
       "\t<dt>$type1_frac</dt>\n",
       "\t\t<dd>0.00290697674418605</dd>\n",
       "\t<dt>$type2_frac</dt>\n",
       "\t\t<dd>0</dd>\n",
       "</dl>\n"
      ],
      "text/latex": [
       "\\begin{description}\n",
       "\\item[\\$pval] 0.905460856771761\n",
       "\\item[\\$odds] \\textbf{odds ratio:} Inf\n",
       "\\item[\\$type1\\_frac] 0.00290697674418605\n",
       "\\item[\\$type2\\_frac] 0\n",
       "\\end{description}\n"
      ],
      "text/markdown": [
       "$pval\n",
       ":   0.905460856771761\n",
       "$odds\n",
       ":   **odds ratio:** Inf\n",
       "$type1_frac\n",
       ":   0.00290697674418605\n",
       "$type2_frac\n",
       ":   0\n",
       "\n",
       "\n"
      ],
      "text/plain": [
       "$pval\n",
       "[1] 0.9054609\n",
       "\n",
       "$odds\n",
       "odds ratio \n",
       "       Inf \n",
       "\n",
       "$type1_frac\n",
       "[1] 0.002906977\n",
       "\n",
       "$type2_frac\n",
       "[1] 0\n"
      ]
     },
     "metadata": {},
     "output_type": "display_data"
    },
    {
     "data": {
      "text/plain": [
       "\n",
       "\tFisher's Exact Test for Count Data\n",
       "\n",
       "data:  test.tab\n",
       "p-value = 1\n",
       "alternative hypothesis: true odds ratio is not equal to 1\n",
       "95 percent confidence interval:\n",
       " 0.009432693         Inf\n",
       "sample estimates:\n",
       "odds ratio \n",
       "       Inf \n"
      ]
     },
     "metadata": {},
     "output_type": "display_data"
    }
   ],
   "source": [
    "tr = \"1_100009936_100010354\"\n",
    "celltypes <- c(\"alpha_1\", \"alpha_2\")\n",
    "celltypes <- c(\"delta_1\", \"delta_2\")\n",
    "test.dat <- dat.mat %>% filter(distal_peak == tr & cluster %in% celltypes)\n",
    "test.dat\n",
    "table.res<- test.dat$N; names(table.res) <- test.dat$cluster\n",
    "# handle if 0 for one subtype\n",
    "a = setdiff(celltypes, names(table.res))\n",
    "table.res[a] <- 0\n",
    "test.tab <- matrix(c(table.res[celltypes[1]], table.res[celltypes[2]], dat.all.cells[celltypes[1]] - \n",
    "    table.res[celltypes[1]], dat.all.cells[celltypes[2]] - table.res[celltypes[2]]), \n",
    "    byrow = T, nrow = 2, dimnames = list(expressed = c(\"Yes\", \"No\"), subtype = celltypes))\n",
    "test.tab\n",
    "test.tab[1]\n",
    "test.tab[2]\n",
    "\n",
    "\n",
    "f1 <- test.tab[1]/(test.tab[1] + test.tab[2])\n",
    "f2 <- test.tab[3]/(test.tab[3] + test.tab[4])\n",
    "l <- ifelse(f1 > f2, \"greater\", \"less\")\n",
    "test.res <- fisher.test(test.tab, alternative = l)\n",
    "res <- list(pval = test.res$p.value, odds = test.res$estimate, type1_frac = f1, type2_frac = f2)\n",
    "res\n",
    "\n",
    "fisher.test(test.tab)"
   ]
  },
  {
   "cell_type": "code",
   "execution_count": 91,
   "metadata": {},
   "outputs": [
    {
     "data": {
      "text/plain": [
       "   user  system elapsed \n",
       "  0.057   0.000   0.058 "
      ]
     },
     "metadata": {},
     "output_type": "display_data"
    },
    {
     "data": {
      "text/html": [
       "<table>\n",
       "<thead><tr><th scope=col>distal_peak</th><th scope=col>pval</th><th scope=col>odds</th><th scope=col>type1_frac</th><th scope=col>type2_frac</th></tr></thead>\n",
       "<tbody>\n",
       "\t<tr><td>1_100009936_100010354</td><td>0.4746936            </td><td>0.881426             </td><td>0.003978469          </td><td>0.004511278          </td></tr>\n",
       "</tbody>\n",
       "</table>\n"
      ],
      "text/latex": [
       "\\begin{tabular}{lllll}\n",
       " distal\\_peak & pval & odds & type1\\_frac & type2\\_frac\\\\\n",
       "\\hline\n",
       "\t 1\\_100009936\\_100010354 & 0.4746936                 & 0.881426                  & 0.003978469               & 0.004511278              \\\\\n",
       "\\end{tabular}\n"
      ],
      "text/markdown": [
       "\n",
       "| distal_peak | pval | odds | type1_frac | type2_frac |\n",
       "|---|---|---|---|---|\n",
       "| 1_100009936_100010354 | 0.4746936             | 0.881426              | 0.003978469           | 0.004511278           |\n",
       "\n"
      ],
      "text/plain": [
       "     distal_peak           pval      odds     type1_frac  type2_frac \n",
       "[1,] 1_100009936_100010354 0.4746936 0.881426 0.003978469 0.004511278"
      ]
     },
     "metadata": {},
     "output_type": "display_data"
    }
   ],
   "source": [
    "\n",
    "fun.ftestPerTr <- function(  tr='1_100009936_100010354',#=1\n",
    "                             celltypes=c('alpha_1','alpha_2'),\n",
    "                             dat=dat.mat){\n",
    "    \n",
    "\n",
    "test.dat <- dat %>% filter(distal_peak == tr & cluster %in% celltypes)\n",
    " table.res<- test.dat$N; names(table.res) <- test.dat$cluster\n",
    "\n",
    "    # handle if 0 for one subtype \n",
    "    a=setdiff(celltypes,    names(table.res))\n",
    "    table.res[a]<-0\n",
    "    \n",
    "    test.tab <- matrix(c(table.res[celltypes[1]], table.res[celltypes[2]], \n",
    "                         dat.all.cells[celltypes[1]]-table.res[celltypes[1]], \n",
    "                         dat.all.cells[celltypes[2]]-table.res[celltypes[2]]),\n",
    "                       byrow =  T,       \n",
    "                       nrow = 2,\n",
    "                       dimnames = list(expressed = c(\"Yes\", \"No\"),\n",
    "                       subtype = celltypes))\n",
    "\n",
    "    f1<-test.tab[1]/(test.tab[1]+test.tab[2])\n",
    "    f2 <- test.tab[3]/(test.tab[3]+test.tab[4])\n",
    "    l <-ifelse(f1>f2,'greater','less')\n",
    "    test.res <- fisher.test(test.tab,alternative = l)\n",
    "    res <- list(\n",
    "                distal_peak =tr,\n",
    "                pval=test.res$p.value,\n",
    "                odds=test.res$estimate,\n",
    "                type1_frac=f1,\n",
    "                type2_frac=f2\n",
    "               )\n",
    "    res\n",
    "}\n",
    "\n",
    "##\n",
    "\n",
    "celltypes <- c('alpha_1','alpha_2')\n",
    "\n",
    "system.time(fun.ftestPerTr(celltypes=celltypes))\n",
    "t(fun.ftestPerTr(celltypes=celltypes))\n"
   ]
  },
  {
   "cell_type": "code",
   "execution_count": 92,
   "metadata": {},
   "outputs": [
    {
     "data": {
      "text/plain": [
       "   user  system elapsed \n",
       "  0.028   0.001   0.029 "
      ]
     },
     "metadata": {},
     "output_type": "display_data"
    },
    {
     "data": {
      "text/html": [
       "<table>\n",
       "<thead><tr><th scope=col>distal_peak</th><th scope=col>pval</th><th scope=col>odds</th><th scope=col>type1_frac</th><th scope=col>type2_frac</th></tr></thead>\n",
       "<tbody>\n",
       "\t<tr><td>1_100009936_100010354</td><td>0.4746936            </td><td>0.881426             </td><td>0.003978469          </td><td>0.004511278          </td></tr>\n",
       "</tbody>\n",
       "</table>\n"
      ],
      "text/latex": [
       "\\begin{tabular}{lllll}\n",
       " distal\\_peak & pval & odds & type1\\_frac & type2\\_frac\\\\\n",
       "\\hline\n",
       "\t 1\\_100009936\\_100010354 & 0.4746936                 & 0.881426                  & 0.003978469               & 0.004511278              \\\\\n",
       "\\end{tabular}\n"
      ],
      "text/markdown": [
       "\n",
       "| distal_peak | pval | odds | type1_frac | type2_frac |\n",
       "|---|---|---|---|---|\n",
       "| 1_100009936_100010354 | 0.4746936             | 0.881426              | 0.003978469           | 0.004511278           |\n",
       "\n"
      ],
      "text/plain": [
       "     distal_peak           pval      odds     type1_frac  type2_frac \n",
       "[1,] 1_100009936_100010354 0.4746936 0.881426 0.003978469 0.004511278"
      ]
     },
     "metadata": {},
     "output_type": "display_data"
    }
   ],
   "source": [
    "\n",
    "celltypes <- c('alpha_1','alpha_2')\n",
    "dat.mat.sub <- dat.mat%>%filter(cluster %in% celltypes)\n",
    "fun.ftestPerTr <- function(  tr='1_100009936_100010354',#=1\n",
    "                             celltypes=c('alpha_1','alpha_2'),\n",
    "                             dat=dat.mat.sub){\n",
    "    \n",
    "\n",
    "test.dat <- dat %>% filter(distal_peak == tr)\n",
    " table.res<- test.dat$N; names(table.res) <- test.dat$cluster\n",
    "\n",
    "    # handle if 0 for one subtype \n",
    "    a=setdiff(celltypes,    names(table.res))\n",
    "    table.res[a]<-0\n",
    "    \n",
    "    test.tab <- matrix(c(table.res[celltypes[1]], table.res[celltypes[2]], \n",
    "                         dat.all.cells[celltypes[1]]-table.res[celltypes[1]], \n",
    "                         dat.all.cells[celltypes[2]]-table.res[celltypes[2]]),\n",
    "                       byrow =  T,       \n",
    "                       nrow = 2,\n",
    "                       dimnames = list(expressed = c(\"Yes\", \"No\"),\n",
    "                       subtype = celltypes))\n",
    "\n",
    "    f1<-test.tab[1]/(test.tab[1]+test.tab[2])\n",
    "    f2 <- test.tab[3]/(test.tab[3]+test.tab[4])\n",
    "    l <-ifelse(f1>f2,'greater','less')\n",
    "    test.res <- fisher.test(test.tab,alternative = l)\n",
    "    res <- list(\n",
    "                distal_peak =tr,\n",
    "                pval=test.res$p.value,\n",
    "                odds=test.res$estimate,\n",
    "                type1_frac=f1,\n",
    "                type2_frac=f2\n",
    "               )\n",
    "    res\n",
    "}\n",
    "\n",
    "##\n",
    "\n",
    "\n",
    "\n",
    "system.time(fun.ftestPerTr(celltypes=celltypes))\n",
    "t(fun.ftestPerTr(celltypes=celltypes))\n"
   ]
  },
  {
   "cell_type": "code",
   "execution_count": 93,
   "metadata": {
    "scrolled": true
   },
   "outputs": [
    {
     "data": {
      "text/html": [
       "4.64149027777778"
      ],
      "text/latex": [
       "4.64149027777778"
      ],
      "text/markdown": [
       "4.64149027777778"
      ],
      "text/plain": [
       "[1] 4.64149"
      ]
     },
     "metadata": {},
     "output_type": "display_data"
    }
   ],
   "source": [
    "\n",
    "# estimate time\n",
    "celltypes <- list()\n",
    "celltypes$alpha <- c(\"alpha_1\", \"alpha_2\")\n",
    "celltypes$beta <- c(\"beta_1\", \"beta_2\")\n",
    "celltypes$delta <- c(\"delta_1\", \"delta_2\")\n",
    "sum(sapply( c(\"alpha\", \"beta\", \"delta\"),function(x) \n",
    "    length(unique((dat.mat%>% filter(cluster %in% celltypes[[x]]))$distal_peak))))*.029/3600"
   ]
  },
  {
   "cell_type": "code",
   "execution_count": 94,
   "metadata": {},
   "outputs": [
    {
     "data": {
      "text/html": [
       "210539"
      ],
      "text/latex": [
       "210539"
      ],
      "text/markdown": [
       "210539"
      ],
      "text/plain": [
       "[1] 210539"
      ]
     },
     "metadata": {},
     "output_type": "display_data"
    },
    {
     "data": {
      "text/html": [
       "<table>\n",
       "<thead><tr><th scope=col>distal_peak</th><th scope=col>pval</th><th scope=col>odds</th><th scope=col>type1_frac</th><th scope=col>type2_frac</th></tr></thead>\n",
       "<tbody>\n",
       "\t<tr><td>1_100009936_100010354</td><td>0.09751913           </td><td>0.8286919            </td><td>0.02868288           </td><td>0.03440937           </td></tr>\n",
       "\t<tr><td>1_100014517_100015228</td><td>0.005376729          </td><td>1.569892             </td><td>0.02592933           </td><td>0.01667258           </td></tr>\n",
       "\t<tr><td>1_100017588_100018128</td><td>1.088472e-07         </td><td>0.09872459           </td><td>0.0009178522         </td><td>0.009223129          </td></tr>\n",
       "\t<tr><td>1_100023318_100023949</td><td>0.000406392          </td><td>0.2145829            </td><td>0.001376778          </td><td>0.006385243          </td></tr>\n",
       "\t<tr><td>1_100056203_100056908</td><td>0.001257952          </td><td>0.5105029            </td><td>0.008949059          </td><td>0.01738205           </td></tr>\n",
       "\t<tr><td>1_100064607_100064883</td><td>0.6072175            </td><td>Inf                  </td><td>0.0002294631         </td><td>0                    </td></tr>\n",
       "\t<tr><td>1_100065165_100065531</td><td>0.6313201            </td><td>0.6468356            </td><td>0.0002294631         </td><td>0.0003547357         </td></tr>\n",
       "\t<tr><td>1_100080955_100081248</td><td>0.2238285            </td><td>Inf                  </td><td>0.0006883892         </td><td>0                    </td></tr>\n",
       "\t<tr><td>1_10010384_10010790</td><td>0.001089532        </td><td>2.039122           </td><td>0.01720973         </td><td>0.008513657        </td></tr>\n",
       "\t<tr><td>1_100113722_100114033</td><td>0.005456032          </td><td>1.486748             </td><td>0.03235429           </td><td>0.02199361           </td></tr>\n",
       "</tbody>\n",
       "</table>\n"
      ],
      "text/latex": [
       "\\begin{tabular}{lllll}\n",
       " distal\\_peak & pval & odds & type1\\_frac & type2\\_frac\\\\\n",
       "\\hline\n",
       "\t 1\\_100009936\\_100010354 & 0.09751913                & 0.8286919                 & 0.02868288                & 0.03440937               \\\\\n",
       "\t 1\\_100014517\\_100015228 & 0.005376729               & 1.569892                  & 0.02592933                & 0.01667258               \\\\\n",
       "\t 1\\_100017588\\_100018128 & 1.088472e-07              & 0.09872459                & 0.0009178522              & 0.009223129              \\\\\n",
       "\t 1\\_100023318\\_100023949 & 0.000406392               & 0.2145829                 & 0.001376778               & 0.006385243              \\\\\n",
       "\t 1\\_100056203\\_100056908 & 0.001257952               & 0.5105029                 & 0.008949059               & 0.01738205               \\\\\n",
       "\t 1\\_100064607\\_100064883 & 0.6072175                 & Inf                       & 0.0002294631              & 0                        \\\\\n",
       "\t 1\\_100065165\\_100065531 & 0.6313201                 & 0.6468356                 & 0.0002294631              & 0.0003547357             \\\\\n",
       "\t 1\\_100080955\\_100081248 & 0.2238285                 & Inf                       & 0.0006883892              & 0                        \\\\\n",
       "\t 1\\_10010384\\_10010790 & 0.001089532             & 2.039122                & 0.01720973              & 0.008513657            \\\\\n",
       "\t 1\\_100113722\\_100114033 & 0.005456032               & 1.486748                  & 0.03235429                & 0.02199361               \\\\\n",
       "\\end{tabular}\n"
      ],
      "text/markdown": [
       "\n",
       "| distal_peak | pval | odds | type1_frac | type2_frac |\n",
       "|---|---|---|---|---|\n",
       "| 1_100009936_100010354 | 0.09751913            | 0.8286919             | 0.02868288            | 0.03440937            |\n",
       "| 1_100014517_100015228 | 0.005376729           | 1.569892              | 0.02592933            | 0.01667258            |\n",
       "| 1_100017588_100018128 | 1.088472e-07          | 0.09872459            | 0.0009178522          | 0.009223129           |\n",
       "| 1_100023318_100023949 | 0.000406392           | 0.2145829             | 0.001376778           | 0.006385243           |\n",
       "| 1_100056203_100056908 | 0.001257952           | 0.5105029             | 0.008949059           | 0.01738205            |\n",
       "| 1_100064607_100064883 | 0.6072175             | Inf                   | 0.0002294631          | 0                     |\n",
       "| 1_100065165_100065531 | 0.6313201             | 0.6468356             | 0.0002294631          | 0.0003547357          |\n",
       "| 1_100080955_100081248 | 0.2238285             | Inf                   | 0.0006883892          | 0                     |\n",
       "| 1_10010384_10010790 | 0.001089532         | 2.039122            | 0.01720973          | 0.008513657         |\n",
       "| 1_100113722_100114033 | 0.005456032           | 1.486748              | 0.03235429            | 0.02199361            |\n",
       "\n"
      ],
      "text/plain": [
       "      distal_peak           pval         odds       type1_frac   type2_frac  \n",
       " [1,] 1_100009936_100010354 0.09751913   0.8286919  0.02868288   0.03440937  \n",
       " [2,] 1_100014517_100015228 0.005376729  1.569892   0.02592933   0.01667258  \n",
       " [3,] 1_100017588_100018128 1.088472e-07 0.09872459 0.0009178522 0.009223129 \n",
       " [4,] 1_100023318_100023949 0.000406392  0.2145829  0.001376778  0.006385243 \n",
       " [5,] 1_100056203_100056908 0.001257952  0.5105029  0.008949059  0.01738205  \n",
       " [6,] 1_100064607_100064883 0.6072175    Inf        0.0002294631 0           \n",
       " [7,] 1_100065165_100065531 0.6313201    0.6468356  0.0002294631 0.0003547357\n",
       " [8,] 1_100080955_100081248 0.2238285    Inf        0.0006883892 0           \n",
       " [9,] 1_10010384_10010790   0.001089532  2.039122   0.01720973   0.008513657 \n",
       "[10,] 1_100113722_100114033 0.005456032  1.486748   0.03235429   0.02199361  "
      ]
     },
     "metadata": {},
     "output_type": "display_data"
    }
   ],
   "source": [
    "## test run \n",
    "x<- \"beta\"\n",
    "dat.mat.sub <- dat.mat%>%filter(cluster %in% celltypes[[x]])\n",
    "all.tr <- unique(dat.mat.sub$distal_peak)\n",
    "length(all.tr)\n",
    "do.call(rbind,lapply(all.tr[1:10],function(trr) t(fun.ftestPerTr(dat = dat.mat.sub, \n",
    "        tr = trr, celltypes = celltypes[[x]]))))"
   ]
  },
  {
   "cell_type": "code",
   "execution_count": 95,
   "metadata": {},
   "outputs": [
    {
     "data": {
      "text/plain": [
       "    user   system  elapsed \n",
       "8810.949  620.087 3677.038 "
      ]
     },
     "metadata": {},
     "output_type": "display_data"
    }
   ],
   "source": [
    "require(parallel)\n",
    "celltypes <- list()\n",
    "celltypes$alpha <- c(\"alpha_1\", \"alpha_2\")\n",
    "celltypes$beta <- c(\"beta_1\", \"beta_2\")\n",
    "celltypes$delta <- c(\"delta_1\", \"delta_2\")\n",
    "res.transcript_level <- list()\n",
    "# time consumming task\n",
    "system.time(for (x in c(\"alpha\", \"beta\", \"delta\")) {\n",
    "    \n",
    "    dat.mat.sub <- dat.mat %>% filter(cluster %in% celltypes[[x]])\n",
    "    all.tr <- unique(dat.mat.sub$distal_peak)\n",
    "    \n",
    "    res.transcript_level[[x]] <- do.call(rbind, mclapply(all.tr, function(trr) t(fun.ftestPerTr(dat = dat.mat.sub, \n",
    "        tr = trr, celltypes = celltypes[[x]])), mc.cores = 10))\n",
    "})\n",
    "\n",
    "saveRDS(object = res.transcript_level, file = \"../dat/1901/res.distal.peaks.fisher.Rds\")"
   ]
  },
  {
   "cell_type": "code",
   "execution_count": 100,
   "metadata": {},
   "outputs": [],
   "source": [
    "res.transcript_level <- rbind(data.frame(res.transcript_level$alpha,celltype=\"alpha\"),\n",
    "     data.frame(res.transcript_level$beta,celltype=\"beta\"),\n",
    "     data.frame(res.transcript_level$delta,celltype=\"delta\"))\n"
   ]
  },
  {
   "cell_type": "code",
   "execution_count": 104,
   "metadata": {},
   "outputs": [
    {
     "data": {
      "text/html": [
       "<table>\n",
       "<thead><tr><th scope=col>distal_peak</th><th scope=col>pval</th><th scope=col>odds</th><th scope=col>type1_frac</th><th scope=col>type2_frac</th><th scope=col>celltype</th></tr></thead>\n",
       "<tbody>\n",
       "\t<tr><td>1_100009936_100010354</td><td>0.4746936            </td><td>0.881426             </td><td>0.003978469          </td><td>0.004511278          </td><td>alpha                </td></tr>\n",
       "\t<tr><td>1_100014517_100015228</td><td>0.5323403            </td><td>1.089823             </td><td>0.00491458           </td><td>0.004511278          </td><td>alpha                </td></tr>\n",
       "\t<tr><td>1_100017588_100018128</td><td>0.001922056          </td><td>0.1549027            </td><td>0.0009361105         </td><td>0.006015038          </td><td>alpha                </td></tr>\n",
       "\t<tr><td>1_100023318_100023949</td><td>0.0004998282         </td><td>0.1547046            </td><td>0.001170138          </td><td>0.007518797          </td><td>alpha                </td></tr>\n",
       "\t<tr><td>1_100056203_100056908</td><td>0.476826             </td><td>1.868512             </td><td>0.001404166          </td><td>0.0007518797         </td><td>alpha                </td></tr>\n",
       "\t<tr><td>1_100064607_100064883</td><td>0.7626272            </td><td>Inf                  </td><td>0.0002340276         </td><td>0                    </td><td>alpha                </td></tr>\n",
       "</tbody>\n",
       "</table>\n"
      ],
      "text/latex": [
       "\\begin{tabular}{r|llllll}\n",
       " distal\\_peak & pval & odds & type1\\_frac & type2\\_frac & celltype\\\\\n",
       "\\hline\n",
       "\t 1\\_100009936\\_100010354 & 0.4746936                 & 0.881426                  & 0.003978469               & 0.004511278               & alpha                    \\\\\n",
       "\t 1\\_100014517\\_100015228 & 0.5323403                 & 1.089823                  & 0.00491458                & 0.004511278               & alpha                    \\\\\n",
       "\t 1\\_100017588\\_100018128 & 0.001922056               & 0.1549027                 & 0.0009361105              & 0.006015038               & alpha                    \\\\\n",
       "\t 1\\_100023318\\_100023949 & 0.0004998282              & 0.1547046                 & 0.001170138               & 0.007518797               & alpha                    \\\\\n",
       "\t 1\\_100056203\\_100056908 & 0.476826                  & 1.868512                  & 0.001404166               & 0.0007518797              & alpha                    \\\\\n",
       "\t 1\\_100064607\\_100064883 & 0.7626272                 & Inf                       & 0.0002340276              & 0                         & alpha                    \\\\\n",
       "\\end{tabular}\n"
      ],
      "text/markdown": [
       "\n",
       "| distal_peak | pval | odds | type1_frac | type2_frac | celltype |\n",
       "|---|---|---|---|---|---|\n",
       "| 1_100009936_100010354 | 0.4746936             | 0.881426              | 0.003978469           | 0.004511278           | alpha                 |\n",
       "| 1_100014517_100015228 | 0.5323403             | 1.089823              | 0.00491458            | 0.004511278           | alpha                 |\n",
       "| 1_100017588_100018128 | 0.001922056           | 0.1549027             | 0.0009361105          | 0.006015038           | alpha                 |\n",
       "| 1_100023318_100023949 | 0.0004998282          | 0.1547046             | 0.001170138           | 0.007518797           | alpha                 |\n",
       "| 1_100056203_100056908 | 0.476826              | 1.868512              | 0.001404166           | 0.0007518797          | alpha                 |\n",
       "| 1_100064607_100064883 | 0.7626272             | Inf                   | 0.0002340276          | 0                     | alpha                 |\n",
       "\n"
      ],
      "text/plain": [
       "  distal_peak           pval         odds      type1_frac   type2_frac  \n",
       "1 1_100009936_100010354 0.4746936    0.881426  0.003978469  0.004511278 \n",
       "2 1_100014517_100015228 0.5323403    1.089823  0.00491458   0.004511278 \n",
       "3 1_100017588_100018128 0.001922056  0.1549027 0.0009361105 0.006015038 \n",
       "4 1_100023318_100023949 0.0004998282 0.1547046 0.001170138  0.007518797 \n",
       "5 1_100056203_100056908 0.476826     1.868512  0.001404166  0.0007518797\n",
       "6 1_100064607_100064883 0.7626272    Inf       0.0002340276 0           \n",
       "  celltype\n",
       "1 alpha   \n",
       "2 alpha   \n",
       "3 alpha   \n",
       "4 alpha   \n",
       "5 alpha   \n",
       "6 alpha   "
      ]
     },
     "metadata": {},
     "output_type": "display_data"
    },
    {
     "data": {
      "text/html": [
       "4.48143888888889"
      ],
      "text/latex": [
       "4.48143888888889"
      ],
      "text/markdown": [
       "4.48143888888889"
      ],
      "text/plain": [
       "[1] 4.481439"
      ]
     },
     "metadata": {},
     "output_type": "display_data"
    }
   ],
   "source": [
    "head(res.transcript_level)\n",
    "dim(res.transcript_level)[1]/3600*.028"
   ]
  },
  {
   "cell_type": "code",
   "execution_count": 105,
   "metadata": {},
   "outputs": [],
   "source": [
    "fwrite(res.transcript_level, file = \"../dat/1901/res.distal.peaks.fisher.cvs\")"
   ]
  },
  {
   "cell_type": "code",
   "execution_count": null,
   "metadata": {},
   "outputs": [],
   "source": []
  }
 ],
 "metadata": {
  "kernelspec": {
   "display_name": "R",
   "language": "R",
   "name": "ir"
  },
  "language_info": {
   "codemirror_mode": "r",
   "file_extension": ".r",
   "mimetype": "text/x-r-source",
   "name": "R",
   "pygments_lexer": "r",
   "version": "3.5.1"
  }
 },
 "nbformat": 4,
 "nbformat_minor": 2
}
