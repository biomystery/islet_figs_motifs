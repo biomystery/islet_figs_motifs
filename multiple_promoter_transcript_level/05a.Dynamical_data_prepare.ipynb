{
 "cells": [
  {
   "cell_type": "markdown",
   "metadata": {},
   "source": [
    "# link the promoter opening matrix with cell's pesudostates"
   ]
  },
  {
   "cell_type": "code",
   "execution_count": 3,
   "metadata": {},
   "outputs": [],
   "source": [
    "require(data.table)\n",
    "require(tidyverse)"
   ]
  },
  {
   "cell_type": "markdown",
   "metadata": {},
   "source": [
    "### 1. load promoter's data \n",
    "\n",
    "from [summarize data at transcript level.ipynb](./summarize data at transcript level.ipynb)"
   ]
  },
  {
   "cell_type": "code",
   "execution_count": 4,
   "metadata": {},
   "outputs": [
    {
     "data": {
      "text/html": [
       "<ol class=list-inline>\n",
       "\t<li>18758757</li>\n",
       "\t<li>7</li>\n",
       "</ol>\n"
      ],
      "text/latex": [
       "\\begin{enumerate*}\n",
       "\\item 18758757\n",
       "\\item 7\n",
       "\\end{enumerate*}\n"
      ],
      "text/markdown": [
       "1. 18758757\n",
       "2. 7\n",
       "\n",
       "\n"
      ],
      "text/plain": [
       "[1] 18758757        7"
      ]
     },
     "metadata": {},
     "output_type": "display_data"
    },
    {
     "data": {
      "text/html": [
       "<table>\n",
       "<caption>A data.frame: 1 × 7</caption>\n",
       "<thead>\n",
       "\t<tr><th scope=col>seq</th><th scope=col>start</th><th scope=col>end</th><th scope=col>cell</th><th scope=col>value</th><th scope=col>tr.idx</th><th scope=col>gene</th></tr>\n",
       "\t<tr><th scope=col>&lt;chr&gt;</th><th scope=col>&lt;int&gt;</th><th scope=col>&lt;int&gt;</th><th scope=col>&lt;chr&gt;</th><th scope=col>&lt;int&gt;</th><th scope=col>&lt;int&gt;</th><th scope=col>&lt;chr&gt;</th></tr>\n",
       "</thead>\n",
       "<tbody>\n",
       "\t<tr><td>chr10</td><td>100027284</td><td>100028604</td><td>Islet1fresh_AGACACCTAAGAGGCAGCGTAAGAAGGCG</td><td>2</td><td>9209</td><td>LOXL4</td></tr>\n",
       "</tbody>\n",
       "</table>\n"
      ],
      "text/latex": [
       "A data.frame: 1 × 7\n",
       "\\begin{tabular}{r|lllllll}\n",
       " seq & start & end & cell & value & tr.idx & gene\\\\\n",
       " <chr> & <int> & <int> & <chr> & <int> & <int> & <chr>\\\\\n",
       "\\hline\n",
       "\t chr10 & 100027284 & 100028604 & Islet1fresh\\_AGACACCTAAGAGGCAGCGTAAGAAGGCG & 2 & 9209 & LOXL4\\\\\n",
       "\\end{tabular}\n"
      ],
      "text/markdown": [
       "\n",
       "A data.frame: 1 × 7\n",
       "\n",
       "| seq &lt;chr&gt; | start &lt;int&gt; | end &lt;int&gt; | cell &lt;chr&gt; | value &lt;int&gt; | tr.idx &lt;int&gt; | gene &lt;chr&gt; |\n",
       "|---|---|---|---|---|---|---|\n",
       "| chr10 | 100027284 | 100028604 | Islet1fresh_AGACACCTAAGAGGCAGCGTAAGAAGGCG | 2 | 9209 | LOXL4 |\n",
       "\n"
      ],
      "text/plain": [
       "  seq   start     end       cell                                      value\n",
       "1 chr10 100027284 100028604 Islet1fresh_AGACACCTAAGAGGCAGCGTAAGAAGGCG 2    \n",
       "  tr.idx gene \n",
       "1 9209   LOXL4"
      ]
     },
     "metadata": {},
     "output_type": "display_data"
    },
    {
     "data": {
      "text/html": [
       "15298"
      ],
      "text/latex": [
       "15298"
      ],
      "text/markdown": [
       "15298"
      ],
      "text/plain": [
       "[1] 15298"
      ]
     },
     "metadata": {},
     "output_type": "display_data"
    }
   ],
   "source": [
    "dat.pro <- fread(\"gzcat ../dat/1910_v2//long_matrix_w_transcripts.txt.gz\") %>% filter(!is.na(tr.idx))\n",
    "dim(dat.pro)\n",
    "head(dat.pro,1)\n",
    "length(unique(dat.pro$cell))"
   ]
  },
  {
   "cell_type": "code",
   "execution_count": 5,
   "metadata": {},
   "outputs": [
    {
     "data": {
      "text/html": [
       "<ol class=list-inline>\n",
       "\t<li>18758757</li>\n",
       "\t<li>2</li>\n",
       "</ol>\n"
      ],
      "text/latex": [
       "\\begin{enumerate*}\n",
       "\\item 18758757\n",
       "\\item 2\n",
       "\\end{enumerate*}\n"
      ],
      "text/markdown": [
       "1. 18758757\n",
       "2. 2\n",
       "\n",
       "\n"
      ],
      "text/plain": [
       "[1] 18758757        2"
      ]
     },
     "metadata": {},
     "output_type": "display_data"
    },
    {
     "data": {
      "text/html": [
       "15298"
      ],
      "text/latex": [
       "15298"
      ],
      "text/markdown": [
       "15298"
      ],
      "text/plain": [
       "[1] 15298"
      ]
     },
     "metadata": {},
     "output_type": "display_data"
    },
    {
     "data": {
      "text/html": [
       "<table>\n",
       "<caption>A data.frame: 1 × 2</caption>\n",
       "<thead>\n",
       "\t<tr><th scope=col>prom_peak</th><th scope=col>cell</th></tr>\n",
       "\t<tr><th scope=col>&lt;chr&gt;</th><th scope=col>&lt;chr&gt;</th></tr>\n",
       "</thead>\n",
       "<tbody>\n",
       "\t<tr><td>10:100027284-100028604</td><td>Islet1fresh_AGACACCTAAGAGGCAGCGTAAGAAGGCG</td></tr>\n",
       "</tbody>\n",
       "</table>\n"
      ],
      "text/latex": [
       "A data.frame: 1 × 2\n",
       "\\begin{tabular}{r|ll}\n",
       " prom\\_peak & cell\\\\\n",
       " <chr> & <chr>\\\\\n",
       "\\hline\n",
       "\t 10:100027284-100028604 & Islet1fresh\\_AGACACCTAAGAGGCAGCGTAAGAAGGCG\\\\\n",
       "\\end{tabular}\n"
      ],
      "text/markdown": [
       "\n",
       "A data.frame: 1 × 2\n",
       "\n",
       "| prom_peak &lt;chr&gt; | cell &lt;chr&gt; |\n",
       "|---|---|\n",
       "| 10:100027284-100028604 | Islet1fresh_AGACACCTAAGAGGCAGCGTAAGAAGGCG |\n",
       "\n"
      ],
      "text/plain": [
       "  prom_peak              cell                                     \n",
       "1 10:100027284-100028604 Islet1fresh_AGACACCTAAGAGGCAGCGTAAGAAGGCG"
      ]
     },
     "metadata": {},
     "output_type": "display_data"
    }
   ],
   "source": [
    "dat.pro <- dat.pro %>% mutate(seq = sub(\"chr\", \"\", seq)) %>% mutate(prom_peak = paste0(seq, \n",
    "    \":\", start, \"-\", end)) %>% select(prom_peak, cell) %>% distinct()\n",
    "dim(dat.pro)\n",
    "length(unique(dat.pro$cell))\n",
    "dat.pro %>% head(1)"
   ]
  },
  {
   "cell_type": "markdown",
   "metadata": {},
   "source": [
    "### 2. load cell's pseduostates"
   ]
  },
  {
   "cell_type": "code",
   "execution_count": 6,
   "metadata": {},
   "outputs": [
    {
     "name": "stderr",
     "output_type": "stream",
     "text": [
      "Warning message in fread(paste0(\"../dat/1910_v2/\", x, \".pseudotime.txt\"), col.names = c(\"cell\", :\n",
      "“Detected 1 column names but the data has 2 columns (i.e. invalid file). Added 1 extra default column name for the first column which is guessed to be row names or an index. Use setnames() afterwards if this guess is not correct, or fix the file write command that created the file to create a valid file.”Warning message in fread(paste0(\"../dat/1910_v2/\", x, \".pseudotime.txt\"), col.names = c(\"cell\", :\n",
      "“Detected 1 column names but the data has 2 columns (i.e. invalid file). Added 1 extra default column name for the first column which is guessed to be row names or an index. Use setnames() afterwards if this guess is not correct, or fix the file write command that created the file to create a valid file.”"
     ]
    },
    {
     "data": {
      "text/html": [
       "<table>\n",
       "<caption>A data.frame: 1 × 3</caption>\n",
       "<thead>\n",
       "\t<tr><th scope=col>cell</th><th scope=col>ps</th><th scope=col>celltype</th></tr>\n",
       "\t<tr><th scope=col>&lt;chr&gt;</th><th scope=col>&lt;dbl&gt;</th><th scope=col>&lt;chr&gt;</th></tr>\n",
       "</thead>\n",
       "<tbody>\n",
       "\t<tr><td>Islet1fresh_AGACACCTAAGAGGCAAAGGAGTAGGCTC</td><td>13.98913</td><td>alpha</td></tr>\n",
       "</tbody>\n",
       "</table>\n"
      ],
      "text/latex": [
       "A data.frame: 1 × 3\n",
       "\\begin{tabular}{r|lll}\n",
       " cell & ps & celltype\\\\\n",
       " <chr> & <dbl> & <chr>\\\\\n",
       "\\hline\n",
       "\t Islet1fresh\\_AGACACCTAAGAGGCAAAGGAGTAGGCTC & 13.98913 & alpha\\\\\n",
       "\\end{tabular}\n"
      ],
      "text/markdown": [
       "\n",
       "A data.frame: 1 × 3\n",
       "\n",
       "| cell &lt;chr&gt; | ps &lt;dbl&gt; | celltype &lt;chr&gt; |\n",
       "|---|---|---|\n",
       "| Islet1fresh_AGACACCTAAGAGGCAAAGGAGTAGGCTC | 13.98913 | alpha |\n",
       "\n"
      ],
      "text/plain": [
       "  cell                                      ps       celltype\n",
       "1 Islet1fresh_AGACACCTAAGAGGCAAAGGAGTAGGCTC 13.98913 alpha   "
      ]
     },
     "metadata": {},
     "output_type": "display_data"
    },
    {
     "data": {
      "text/html": [
       "<table>\n",
       "<caption>A data.frame: 1 × 3</caption>\n",
       "<thead>\n",
       "\t<tr><th></th><th scope=col>cell</th><th scope=col>ps</th><th scope=col>celltype</th></tr>\n",
       "\t<tr><th></th><th scope=col>&lt;chr&gt;</th><th scope=col>&lt;dbl&gt;</th><th scope=col>&lt;chr&gt;</th></tr>\n",
       "</thead>\n",
       "<tbody>\n",
       "\t<tr><th scope=row>14526</th><td>Islet3fresh_TCCGGAGATGCAGCTACCTAGAGTGGTTGCGT</td><td>2.889196</td><td>delta</td></tr>\n",
       "</tbody>\n",
       "</table>\n"
      ],
      "text/latex": [
       "A data.frame: 1 × 3\n",
       "\\begin{tabular}{r|lll}\n",
       "  & cell & ps & celltype\\\\\n",
       "  & <chr> & <dbl> & <chr>\\\\\n",
       "\\hline\n",
       "\t14526 & Islet3fresh\\_TCCGGAGATGCAGCTACCTAGAGTGGTTGCGT & 2.889196 & delta\\\\\n",
       "\\end{tabular}\n"
      ],
      "text/markdown": [
       "\n",
       "A data.frame: 1 × 3\n",
       "\n",
       "| <!--/--> | cell &lt;chr&gt; | ps &lt;dbl&gt; | celltype &lt;chr&gt; |\n",
       "|---|---|---|---|\n",
       "| 14526 | Islet3fresh_TCCGGAGATGCAGCTACCTAGAGTGGTTGCGT | 2.889196 | delta |\n",
       "\n"
      ],
      "text/plain": [
       "      cell                                         ps       celltype\n",
       "14526 Islet3fresh_TCCGGAGATGCAGCTACCTAGAGTGGTTGCGT 2.889196 delta   "
      ]
     },
     "metadata": {},
     "output_type": "display_data"
    },
    {
     "data": {
      "text/html": [
       "<ol class=list-inline>\n",
       "\t<li>14526</li>\n",
       "\t<li>3</li>\n",
       "</ol>\n"
      ],
      "text/latex": [
       "\\begin{enumerate*}\n",
       "\\item 14526\n",
       "\\item 3\n",
       "\\end{enumerate*}\n"
      ],
      "text/markdown": [
       "1. 14526\n",
       "2. 3\n",
       "\n",
       "\n"
      ],
      "text/plain": [
       "[1] 14526     3"
      ]
     },
     "metadata": {},
     "output_type": "display_data"
    },
    {
     "data": {
      "text/plain": [
       ".\n",
       "alpha  beta delta \n",
       " 6218  7598   710 "
      ]
     },
     "metadata": {},
     "output_type": "display_data"
    },
    {
     "data": {
      "text/html": [
       "14526"
      ],
      "text/latex": [
       "14526"
      ],
      "text/markdown": [
       "14526"
      ],
      "text/plain": [
       "[1] 14526"
      ]
     },
     "metadata": {},
     "output_type": "display_data"
    }
   ],
   "source": [
    "dat.ps <- do.call(rbind, lapply(c(\"alpha\", \"beta\", \"delta\"), function(x) fread(paste0(\"../dat/1910_v2/\", \n",
    "    x, \".pseudotime.txt\"), col.names = c(\"cell\", \"ps\")) %>% mutate(celltype = x)))\n",
    "head(dat.ps, 1)\n",
    "tail(dat.ps, 1)\n",
    "dim(dat.ps)\n",
    "dat.ps %>% pull(celltype) %>% table\n",
    "dat.ps %>% pull(celltype) %>% table %>% sum"
   ]
  },
  {
   "cell_type": "code",
   "execution_count": 7,
   "metadata": {},
   "outputs": [
    {
     "name": "stderr",
     "output_type": "stream",
     "text": [
      "Joining, by = \"cell\"\n"
     ]
    },
    {
     "data": {
      "text/html": [
       "<ol class=list-inline>\n",
       "\t<li>18019112</li>\n",
       "\t<li>4</li>\n",
       "</ol>\n"
      ],
      "text/latex": [
       "\\begin{enumerate*}\n",
       "\\item 18019112\n",
       "\\item 4\n",
       "\\end{enumerate*}\n"
      ],
      "text/markdown": [
       "1. 18019112\n",
       "2. 4\n",
       "\n",
       "\n"
      ],
      "text/plain": [
       "[1] 18019112        4"
      ]
     },
     "metadata": {},
     "output_type": "display_data"
    },
    {
     "data": {
      "text/html": [
       "<table>\n",
       "<caption>A data.frame: 1 × 4</caption>\n",
       "<thead>\n",
       "\t<tr><th scope=col>prom_peak</th><th scope=col>cell</th><th scope=col>ps</th><th scope=col>celltype</th></tr>\n",
       "\t<tr><th scope=col>&lt;chr&gt;</th><th scope=col>&lt;chr&gt;</th><th scope=col>&lt;dbl&gt;</th><th scope=col>&lt;chr&gt;</th></tr>\n",
       "</thead>\n",
       "<tbody>\n",
       "\t<tr><td>10:100027284-100028604</td><td>Islet1fresh_AGACACCTAAGAGGCAGCGTAAGAAGGCG</td><td>11.8747</td><td>alpha</td></tr>\n",
       "</tbody>\n",
       "</table>\n"
      ],
      "text/latex": [
       "A data.frame: 1 × 4\n",
       "\\begin{tabular}{r|llll}\n",
       " prom\\_peak & cell & ps & celltype\\\\\n",
       " <chr> & <chr> & <dbl> & <chr>\\\\\n",
       "\\hline\n",
       "\t 10:100027284-100028604 & Islet1fresh\\_AGACACCTAAGAGGCAGCGTAAGAAGGCG & 11.8747 & alpha\\\\\n",
       "\\end{tabular}\n"
      ],
      "text/markdown": [
       "\n",
       "A data.frame: 1 × 4\n",
       "\n",
       "| prom_peak &lt;chr&gt; | cell &lt;chr&gt; | ps &lt;dbl&gt; | celltype &lt;chr&gt; |\n",
       "|---|---|---|---|\n",
       "| 10:100027284-100028604 | Islet1fresh_AGACACCTAAGAGGCAGCGTAAGAAGGCG | 11.8747 | alpha |\n",
       "\n"
      ],
      "text/plain": [
       "  prom_peak              cell                                      ps     \n",
       "1 10:100027284-100028604 Islet1fresh_AGACACCTAAGAGGCAGCGTAAGAAGGCG 11.8747\n",
       "  celltype\n",
       "1 alpha   "
      ]
     },
     "metadata": {},
     "output_type": "display_data"
    },
    {
     "data": {
      "text/html": [
       "14526"
      ],
      "text/latex": [
       "14526"
      ],
      "text/markdown": [
       "14526"
      ],
      "text/plain": [
       "[1] 14526"
      ]
     },
     "metadata": {},
     "output_type": "display_data"
    }
   ],
   "source": [
    "dat.pro_ps <- inner_join(dat.pro,dat.ps)\n",
    "dim(dat.pro_ps)\n",
    "head(dat.pro_ps,1)\n",
    "length(unique(dat.pro_ps$cell))"
   ]
  },
  {
   "cell_type": "code",
   "execution_count": 8,
   "metadata": {},
   "outputs": [
    {
     "data": {
      "text/plain": [
       ".\n",
       "alpha  beta delta \n",
       " 6218  7598   710 "
      ]
     },
     "metadata": {},
     "output_type": "display_data"
    }
   ],
   "source": [
    "dat.pro_ps%>%select(cell,celltype)%>%distinct%>%pull(celltype)%>%table"
   ]
  },
  {
   "cell_type": "code",
   "execution_count": 9,
   "metadata": {},
   "outputs": [],
   "source": [
    "fwrite(dat.pro_ps,\"../dat/1910_v2/abd.promoter.long_matrix_w_transcripts_ps.txt\")"
   ]
  }
 ],
 "metadata": {
  "kernelspec": {
   "display_name": "R",
   "language": "R",
   "name": "ir"
  },
  "language_info": {
   "codemirror_mode": "r",
   "file_extension": ".r",
   "mimetype": "text/x-r-source",
   "name": "R",
   "pygments_lexer": "r",
   "version": "3.5.1"
  }
 },
 "nbformat": 4,
 "nbformat_minor": 2
}
