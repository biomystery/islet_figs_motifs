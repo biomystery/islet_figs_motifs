{
 "cells": [
  {
   "cell_type": "markdown",
   "metadata": {},
   "source": [
    "### 1.1 load data "
   ]
  },
  {
   "cell_type": "code",
   "execution_count": 2,
   "metadata": {},
   "outputs": [],
   "source": [
    "require(tidyverse)\n",
    "require(data.table)\n"
   ]
  },
  {
   "cell_type": "code",
   "execution_count": 3,
   "metadata": {},
   "outputs": [
    {
     "name": "stderr",
     "output_type": "stream",
     "text": [
      "Loading required package: data.table\n",
      "\n",
      "Attaching package: ‘data.table’\n",
      "\n",
      "The following objects are masked from ‘package:dplyr’:\n",
      "\n",
      "    between, first, last\n",
      "\n",
      "The following object is masked from ‘package:purrr’:\n",
      "\n",
      "    transpose\n",
      "\n"
     ]
    },
    {
     "data": {
      "text/html": [
       "<table>\n",
       "<thead><tr><th scope=col>distal_peak</th><th scope=col>barcode</th><th scope=col>overlap</th></tr></thead>\n",
       "<tbody>\n",
       "\t<tr><td>1_10216_10512                                </td><td>Islet1-fresh_AGACACCTCTCTCTACCTAAGCCTGGTTG   </td><td>1                                            </td></tr>\n",
       "\t<tr><td>1_10216_10512                                </td><td>Islet1-fresh_GAGATTCCTCGACGTCTTCTAGCTGTACT   </td><td>1                                            </td></tr>\n",
       "\t<tr><td>1_10216_10512                                </td><td>Islet3-fresh_CGGCTATGAAGAGGCAGTAAGGAGCCTATCCT</td><td>1                                            </td></tr>\n",
       "\t<tr><td>1_10216_10512                                </td><td>Islet1-fresh_CGGCTATGTAGCGCTCGCGTAAGAGTACT   </td><td>1                                            </td></tr>\n",
       "\t<tr><td>1_10216_10512                                </td><td>Islet1-fresh_CGGCTATGTAGCGCTCGCGTAAGAGTACT   </td><td>1                                            </td></tr>\n",
       "\t<tr><td>1_10216_10512                                </td><td>Islet1-fresh_TCCGCGAATACGCTGCCTCTCTATCCTAT   </td><td>1                                            </td></tr>\n",
       "</tbody>\n",
       "</table>\n"
      ],
      "text/latex": [
       "\\begin{tabular}{r|lll}\n",
       " distal\\_peak & barcode & overlap\\\\\n",
       "\\hline\n",
       "\t 1\\_10216\\_10512                               & Islet1-fresh\\_AGACACCTCTCTCTACCTAAGCCTGGTTG    & 1                                              \\\\\n",
       "\t 1\\_10216\\_10512                               & Islet1-fresh\\_GAGATTCCTCGACGTCTTCTAGCTGTACT    & 1                                              \\\\\n",
       "\t 1\\_10216\\_10512                               & Islet3-fresh\\_CGGCTATGAAGAGGCAGTAAGGAGCCTATCCT & 1                                              \\\\\n",
       "\t 1\\_10216\\_10512                               & Islet1-fresh\\_CGGCTATGTAGCGCTCGCGTAAGAGTACT    & 1                                              \\\\\n",
       "\t 1\\_10216\\_10512                               & Islet1-fresh\\_CGGCTATGTAGCGCTCGCGTAAGAGTACT    & 1                                              \\\\\n",
       "\t 1\\_10216\\_10512                               & Islet1-fresh\\_TCCGCGAATACGCTGCCTCTCTATCCTAT    & 1                                              \\\\\n",
       "\\end{tabular}\n"
      ],
      "text/markdown": [
       "\n",
       "| distal_peak | barcode | overlap |\n",
       "|---|---|---|\n",
       "| 1_10216_10512                                 | Islet1-fresh_AGACACCTCTCTCTACCTAAGCCTGGTTG    | 1                                             |\n",
       "| 1_10216_10512                                 | Islet1-fresh_GAGATTCCTCGACGTCTTCTAGCTGTACT    | 1                                             |\n",
       "| 1_10216_10512                                 | Islet3-fresh_CGGCTATGAAGAGGCAGTAAGGAGCCTATCCT | 1                                             |\n",
       "| 1_10216_10512                                 | Islet1-fresh_CGGCTATGTAGCGCTCGCGTAAGAGTACT    | 1                                             |\n",
       "| 1_10216_10512                                 | Islet1-fresh_CGGCTATGTAGCGCTCGCGTAAGAGTACT    | 1                                             |\n",
       "| 1_10216_10512                                 | Islet1-fresh_TCCGCGAATACGCTGCCTCTCTATCCTAT    | 1                                             |\n",
       "\n"
      ],
      "text/plain": [
       "  distal_peak   barcode                                       overlap\n",
       "1 1_10216_10512 Islet1-fresh_AGACACCTCTCTCTACCTAAGCCTGGTTG    1      \n",
       "2 1_10216_10512 Islet1-fresh_GAGATTCCTCGACGTCTTCTAGCTGTACT    1      \n",
       "3 1_10216_10512 Islet3-fresh_CGGCTATGAAGAGGCAGTAAGGAGCCTATCCT 1      \n",
       "4 1_10216_10512 Islet1-fresh_CGGCTATGTAGCGCTCGCGTAAGAGTACT    1      \n",
       "5 1_10216_10512 Islet1-fresh_CGGCTATGTAGCGCTCGCGTAAGAGTACT    1      \n",
       "6 1_10216_10512 Islet1-fresh_TCCGCGAATACGCTGCCTCTCTATCCTAT    1      "
      ]
     },
     "metadata": {},
     "output_type": "display_data"
    },
    {
     "data": {
      "text/html": [
       "<table>\n",
       "<thead><tr><th scope=col>distal_peak</th><th scope=col>barcode</th><th scope=col>overlap</th></tr></thead>\n",
       "<tbody>\n",
       "\t<tr><td>Y_59022757_59022957                       </td><td>Islet2-fresh_AGACGGAGGGACTCCTGTCTAATTCCT  </td><td>1                                         </td></tr>\n",
       "\t<tr><td>Y_59022757_59022957                       </td><td>Islet1-fresh_AGACACCTACTGAGCGCTAAGCCTTATAG</td><td>1                                         </td></tr>\n",
       "\t<tr><td>Y_59022757_59022957                       </td><td>Islet1-fresh_CTGAAGCTATGCGCAGTCTCTCCGTATAG</td><td>1                                         </td></tr>\n",
       "\t<tr><td>Y_59022757_59022957                       </td><td>Islet1-fresh_CTATTAGGCTCTGGTAAAGGCTATGTACT</td><td>1                                         </td></tr>\n",
       "\t<tr><td>Y_59022757_59022957                       </td><td>Islet2-fresh_TCGAGGCAACTGAGCGCTGCATATGAC  </td><td>1                                         </td></tr>\n",
       "\t<tr><td>Y_59022757_59022957                       </td><td>Islet2-fresh_ACATTGGCACTGAGCGTAAGCCTAGGC  </td><td>1                                         </td></tr>\n",
       "</tbody>\n",
       "</table>\n"
      ],
      "text/latex": [
       "\\begin{tabular}{r|lll}\n",
       " distal\\_peak & barcode & overlap\\\\\n",
       "\\hline\n",
       "\t Y\\_59022757\\_59022957                      & Islet2-fresh\\_AGACGGAGGGACTCCTGTCTAATTCCT   & 1                                           \\\\\n",
       "\t Y\\_59022757\\_59022957                      & Islet1-fresh\\_AGACACCTACTGAGCGCTAAGCCTTATAG & 1                                           \\\\\n",
       "\t Y\\_59022757\\_59022957                      & Islet1-fresh\\_CTGAAGCTATGCGCAGTCTCTCCGTATAG & 1                                           \\\\\n",
       "\t Y\\_59022757\\_59022957                      & Islet1-fresh\\_CTATTAGGCTCTGGTAAAGGCTATGTACT & 1                                           \\\\\n",
       "\t Y\\_59022757\\_59022957                      & Islet2-fresh\\_TCGAGGCAACTGAGCGCTGCATATGAC   & 1                                           \\\\\n",
       "\t Y\\_59022757\\_59022957                      & Islet2-fresh\\_ACATTGGCACTGAGCGTAAGCCTAGGC   & 1                                           \\\\\n",
       "\\end{tabular}\n"
      ],
      "text/markdown": [
       "\n",
       "| distal_peak | barcode | overlap |\n",
       "|---|---|---|\n",
       "| Y_59022757_59022957                        | Islet2-fresh_AGACGGAGGGACTCCTGTCTAATTCCT   | 1                                          |\n",
       "| Y_59022757_59022957                        | Islet1-fresh_AGACACCTACTGAGCGCTAAGCCTTATAG | 1                                          |\n",
       "| Y_59022757_59022957                        | Islet1-fresh_CTGAAGCTATGCGCAGTCTCTCCGTATAG | 1                                          |\n",
       "| Y_59022757_59022957                        | Islet1-fresh_CTATTAGGCTCTGGTAAAGGCTATGTACT | 1                                          |\n",
       "| Y_59022757_59022957                        | Islet2-fresh_TCGAGGCAACTGAGCGCTGCATATGAC   | 1                                          |\n",
       "| Y_59022757_59022957                        | Islet2-fresh_ACATTGGCACTGAGCGTAAGCCTAGGC   | 1                                          |\n",
       "\n"
      ],
      "text/plain": [
       "  distal_peak         barcode                                    overlap\n",
       "1 Y_59022757_59022957 Islet2-fresh_AGACGGAGGGACTCCTGTCTAATTCCT   1      \n",
       "2 Y_59022757_59022957 Islet1-fresh_AGACACCTACTGAGCGCTAAGCCTTATAG 1      \n",
       "3 Y_59022757_59022957 Islet1-fresh_CTGAAGCTATGCGCAGTCTCTCCGTATAG 1      \n",
       "4 Y_59022757_59022957 Islet1-fresh_CTATTAGGCTCTGGTAAAGGCTATGTACT 1      \n",
       "5 Y_59022757_59022957 Islet2-fresh_TCGAGGCAACTGAGCGCTGCATATGAC   1      \n",
       "6 Y_59022757_59022957 Islet2-fresh_ACATTGGCACTGAGCGTAAGCCTAGGC   1      "
      ]
     },
     "metadata": {},
     "output_type": "display_data"
    },
    {
     "data": {
      "text/html": [
       "<ol class=list-inline>\n",
       "\t<li>53944762</li>\n",
       "\t<li>3</li>\n",
       "</ol>\n"
      ],
      "text/latex": [
       "\\begin{enumerate*}\n",
       "\\item 53944762\n",
       "\\item 3\n",
       "\\end{enumerate*}\n"
      ],
      "text/markdown": [
       "1. 53944762\n",
       "2. 3\n",
       "\n",
       "\n"
      ],
      "text/plain": [
       "[1] 53944762        3"
      ]
     },
     "metadata": {},
     "output_type": "display_data"
    }
   ],
   "source": [
    "#require(rtracklayer)\n",
    "#all.transcript <- import.bed('../dat/1901/gencode.v19.1kb_all_possible_transcripts.bed')\n",
    "all.distal <- fread('../dat/Islet123.distal_peak_sparse.txt',\n",
    "                       col.names=c(\"distal_peak\",'barcode','overlap'))\n",
    "\n",
    "head(all.distal)\n",
    "tail(all.distal)\n",
    "dim(all.distal)"
   ]
  },
  {
   "cell_type": "markdown",
   "metadata": {},
   "source": [
    "Total number of distal peaks:"
   ]
  },
  {
   "cell_type": "code",
   "execution_count": 4,
   "metadata": {},
   "outputs": [
    {
     "data": {
      "text/html": [
       "220069"
      ],
      "text/latex": [
       "220069"
      ],
      "text/markdown": [
       "220069"
      ],
      "text/plain": [
       "[1] 220069"
      ]
     },
     "metadata": {},
     "output_type": "display_data"
    }
   ],
   "source": [
    "length(unique(all.distal$distal_peak))"
   ]
  },
  {
   "cell_type": "markdown",
   "metadata": {},
   "source": [
    "### 1.2 load barcode identity"
   ]
  },
  {
   "cell_type": "code",
   "execution_count": 5,
   "metadata": {},
   "outputs": [
    {
     "data": {
      "text/html": [
       "<table>\n",
       "<thead><tr><th scope=col>barcodes</th><th scope=col>cluster</th></tr></thead>\n",
       "<tbody>\n",
       "\t<tr><td>Islet3-fresh_CTGAAGCTTGCAGCTACTCTCTATTATAGCCT</td><td>beta_2                                       </td></tr>\n",
       "\t<tr><td>Islet3-fresh_TCCGCGAACGAGGCTGCCTAGAGTGTACTGAC</td><td>alpha_1                                      </td></tr>\n",
       "\t<tr><td>Islet3-fresh_CGGCTATGAAGAGGCAGTAAGGAGCCTATCCT</td><td>beta_1                                       </td></tr>\n",
       "\t<tr><td>Islet3-fresh_CGGCTATGGCGTAGTAAAGGAGTATATAGCCT</td><td>alpha_1                                      </td></tr>\n",
       "\t<tr><td>Islet3-fresh_GAATTCGTACTGAGCGTTCTAGCTGGTTGCGT</td><td>immune                                       </td></tr>\n",
       "\t<tr><td>Islet3-fresh_CTGAAGCTTAGGCATGCCTAGAGTGGTTGCGT</td><td>alpha_1                                      </td></tr>\n",
       "</tbody>\n",
       "</table>\n"
      ],
      "text/latex": [
       "\\begin{tabular}{r|ll}\n",
       " barcodes & cluster\\\\\n",
       "\\hline\n",
       "\t Islet3-fresh\\_CTGAAGCTTGCAGCTACTCTCTATTATAGCCT & beta\\_2                                       \\\\\n",
       "\t Islet3-fresh\\_TCCGCGAACGAGGCTGCCTAGAGTGTACTGAC & alpha\\_1                                      \\\\\n",
       "\t Islet3-fresh\\_CGGCTATGAAGAGGCAGTAAGGAGCCTATCCT & beta\\_1                                       \\\\\n",
       "\t Islet3-fresh\\_CGGCTATGGCGTAGTAAAGGAGTATATAGCCT & alpha\\_1                                      \\\\\n",
       "\t Islet3-fresh\\_GAATTCGTACTGAGCGTTCTAGCTGGTTGCGT & immune                                         \\\\\n",
       "\t Islet3-fresh\\_CTGAAGCTTAGGCATGCCTAGAGTGGTTGCGT & alpha\\_1                                      \\\\\n",
       "\\end{tabular}\n"
      ],
      "text/markdown": [
       "\n",
       "| barcodes | cluster |\n",
       "|---|---|\n",
       "| Islet3-fresh_CTGAAGCTTGCAGCTACTCTCTATTATAGCCT | beta_2                                        |\n",
       "| Islet3-fresh_TCCGCGAACGAGGCTGCCTAGAGTGTACTGAC | alpha_1                                       |\n",
       "| Islet3-fresh_CGGCTATGAAGAGGCAGTAAGGAGCCTATCCT | beta_1                                        |\n",
       "| Islet3-fresh_CGGCTATGGCGTAGTAAAGGAGTATATAGCCT | alpha_1                                       |\n",
       "| Islet3-fresh_GAATTCGTACTGAGCGTTCTAGCTGGTTGCGT | immune                                        |\n",
       "| Islet3-fresh_CTGAAGCTTAGGCATGCCTAGAGTGGTTGCGT | alpha_1                                       |\n",
       "\n"
      ],
      "text/plain": [
       "  barcodes                                      cluster\n",
       "1 Islet3-fresh_CTGAAGCTTGCAGCTACTCTCTATTATAGCCT beta_2 \n",
       "2 Islet3-fresh_TCCGCGAACGAGGCTGCCTAGAGTGTACTGAC alpha_1\n",
       "3 Islet3-fresh_CGGCTATGAAGAGGCAGTAAGGAGCCTATCCT beta_1 \n",
       "4 Islet3-fresh_CGGCTATGGCGTAGTAAAGGAGTATATAGCCT alpha_1\n",
       "5 Islet3-fresh_GAATTCGTACTGAGCGTTCTAGCTGGTTGCGT immune \n",
       "6 Islet3-fresh_CTGAAGCTTAGGCATGCCTAGAGTGGTTGCGT alpha_1"
      ]
     },
     "metadata": {},
     "output_type": "display_data"
    }
   ],
   "source": [
    "dat.all.cells <- fread('../dat/1908/Islet_123.MNN_corrected.cluster_labels.filt.txt')[,c(\"barcodes\",\"cluster\")]\n",
    "head(dat.all.cells)\n",
    "#length(dat.all.cells$barcodes)"
   ]
  },
  {
   "cell_type": "code",
   "execution_count": 6,
   "metadata": {},
   "outputs": [
    {
     "data": {
      "text/html": [
       "TRUE"
      ],
      "text/latex": [
       "TRUE"
      ],
      "text/markdown": [
       "TRUE"
      ],
      "text/plain": [
       "[1] TRUE"
      ]
     },
     "metadata": {},
     "output_type": "display_data"
    }
   ],
   "source": [
    "all(dat.all.cells$barcodes %in% all.distal$barcode )"
   ]
  },
  {
   "cell_type": "markdown",
   "metadata": {},
   "source": [
    "### 1.3 merge dataset "
   ]
  },
  {
   "cell_type": "code",
   "execution_count": 8,
   "metadata": {},
   "outputs": [],
   "source": [
    "all.distal.merge <- all.distal[, -\"overlap\"] %>% right_join(dat.all.cells, by = c(barcode = \"barcodes\"))"
   ]
  },
  {
   "cell_type": "code",
   "execution_count": 9,
   "metadata": {},
   "outputs": [
    {
     "data": {
      "text/html": [
       "<ol class=list-inline>\n",
       "\t<li>'beta_2'</li>\n",
       "\t<li>'alpha_1'</li>\n",
       "\t<li>'beta_1'</li>\n",
       "\t<li>'immune'</li>\n",
       "\t<li>'delta_1'</li>\n",
       "\t<li>'alpha_2'</li>\n",
       "\t<li>'gamma'</li>\n",
       "\t<li>'stellate'</li>\n",
       "\t<li>'exocrine'</li>\n",
       "\t<li>'endothelial_1'</li>\n",
       "\t<li>'endothelial_2'</li>\n",
       "\t<li>'delta_2'</li>\n",
       "\t<li>'glial'</li>\n",
       "</ol>\n"
      ],
      "text/latex": [
       "\\begin{enumerate*}\n",
       "\\item 'beta\\_2'\n",
       "\\item 'alpha\\_1'\n",
       "\\item 'beta\\_1'\n",
       "\\item 'immune'\n",
       "\\item 'delta\\_1'\n",
       "\\item 'alpha\\_2'\n",
       "\\item 'gamma'\n",
       "\\item 'stellate'\n",
       "\\item 'exocrine'\n",
       "\\item 'endothelial\\_1'\n",
       "\\item 'endothelial\\_2'\n",
       "\\item 'delta\\_2'\n",
       "\\item 'glial'\n",
       "\\end{enumerate*}\n"
      ],
      "text/markdown": [
       "1. 'beta_2'\n",
       "2. 'alpha_1'\n",
       "3. 'beta_1'\n",
       "4. 'immune'\n",
       "5. 'delta_1'\n",
       "6. 'alpha_2'\n",
       "7. 'gamma'\n",
       "8. 'stellate'\n",
       "9. 'exocrine'\n",
       "10. 'endothelial_1'\n",
       "11. 'endothelial_2'\n",
       "12. 'delta_2'\n",
       "13. 'glial'\n",
       "\n",
       "\n"
      ],
      "text/plain": [
       " [1] \"beta_2\"        \"alpha_1\"       \"beta_1\"        \"immune\"       \n",
       " [5] \"delta_1\"       \"alpha_2\"       \"gamma\"         \"stellate\"     \n",
       " [9] \"exocrine\"      \"endothelial_1\" \"endothelial_2\" \"delta_2\"      \n",
       "[13] \"glial\"        "
      ]
     },
     "metadata": {},
     "output_type": "display_data"
    },
    {
     "data": {
      "text/html": [
       "<ol class=list-inline>\n",
       "\t<li>45314787</li>\n",
       "\t<li>3</li>\n",
       "</ol>\n"
      ],
      "text/latex": [
       "\\begin{enumerate*}\n",
       "\\item 45314787\n",
       "\\item 3\n",
       "\\end{enumerate*}\n"
      ],
      "text/markdown": [
       "1. 45314787\n",
       "2. 3\n",
       "\n",
       "\n"
      ],
      "text/plain": [
       "[1] 45314787        3"
      ]
     },
     "metadata": {},
     "output_type": "display_data"
    }
   ],
   "source": [
    "unique(all.distal.merge$cluster)\n",
    "dim(all.distal.merge)"
   ]
  },
  {
   "cell_type": "code",
   "execution_count": 10,
   "metadata": {},
   "outputs": [
    {
     "data": {
      "text/html": [
       "<table>\n",
       "<thead><tr><th scope=col>distal_peak</th><th scope=col>barcode</th><th scope=col>cluster</th></tr></thead>\n",
       "<tbody>\n",
       "\t<tr><td>1_10216_10512                                </td><td>Islet3-fresh_CTGAAGCTTGCAGCTACTCTCTATTATAGCCT</td><td>beta_2                                       </td></tr>\n",
       "\t<tr><td>1_237657_237858                              </td><td>Islet3-fresh_CTGAAGCTTGCAGCTACTCTCTATTATAGCCT</td><td>beta_2                                       </td></tr>\n",
       "\t<tr><td>1_967851_968930                              </td><td>Islet3-fresh_CTGAAGCTTGCAGCTACTCTCTATTATAGCCT</td><td>beta_2                                       </td></tr>\n",
       "\t<tr><td>1_967851_968930                              </td><td>Islet3-fresh_CTGAAGCTTGCAGCTACTCTCTATTATAGCCT</td><td>beta_2                                       </td></tr>\n",
       "\t<tr><td>1_1004053_1005548                            </td><td>Islet3-fresh_CTGAAGCTTGCAGCTACTCTCTATTATAGCCT</td><td>beta_2                                       </td></tr>\n",
       "\t<tr><td>1_1004053_1005548                            </td><td>Islet3-fresh_CTGAAGCTTGCAGCTACTCTCTATTATAGCCT</td><td>beta_2                                       </td></tr>\n",
       "</tbody>\n",
       "</table>\n"
      ],
      "text/latex": [
       "\\begin{tabular}{r|lll}\n",
       " distal\\_peak & barcode & cluster\\\\\n",
       "\\hline\n",
       "\t 1\\_10216\\_10512                               & Islet3-fresh\\_CTGAAGCTTGCAGCTACTCTCTATTATAGCCT & beta\\_2                                       \\\\\n",
       "\t 1\\_237657\\_237858                             & Islet3-fresh\\_CTGAAGCTTGCAGCTACTCTCTATTATAGCCT & beta\\_2                                       \\\\\n",
       "\t 1\\_967851\\_968930                             & Islet3-fresh\\_CTGAAGCTTGCAGCTACTCTCTATTATAGCCT & beta\\_2                                       \\\\\n",
       "\t 1\\_967851\\_968930                             & Islet3-fresh\\_CTGAAGCTTGCAGCTACTCTCTATTATAGCCT & beta\\_2                                       \\\\\n",
       "\t 1\\_1004053\\_1005548                           & Islet3-fresh\\_CTGAAGCTTGCAGCTACTCTCTATTATAGCCT & beta\\_2                                       \\\\\n",
       "\t 1\\_1004053\\_1005548                           & Islet3-fresh\\_CTGAAGCTTGCAGCTACTCTCTATTATAGCCT & beta\\_2                                       \\\\\n",
       "\\end{tabular}\n"
      ],
      "text/markdown": [
       "\n",
       "| distal_peak | barcode | cluster |\n",
       "|---|---|---|\n",
       "| 1_10216_10512                                 | Islet3-fresh_CTGAAGCTTGCAGCTACTCTCTATTATAGCCT | beta_2                                        |\n",
       "| 1_237657_237858                               | Islet3-fresh_CTGAAGCTTGCAGCTACTCTCTATTATAGCCT | beta_2                                        |\n",
       "| 1_967851_968930                               | Islet3-fresh_CTGAAGCTTGCAGCTACTCTCTATTATAGCCT | beta_2                                        |\n",
       "| 1_967851_968930                               | Islet3-fresh_CTGAAGCTTGCAGCTACTCTCTATTATAGCCT | beta_2                                        |\n",
       "| 1_1004053_1005548                             | Islet3-fresh_CTGAAGCTTGCAGCTACTCTCTATTATAGCCT | beta_2                                        |\n",
       "| 1_1004053_1005548                             | Islet3-fresh_CTGAAGCTTGCAGCTACTCTCTATTATAGCCT | beta_2                                        |\n",
       "\n"
      ],
      "text/plain": [
       "  distal_peak       barcode                                       cluster\n",
       "1 1_10216_10512     Islet3-fresh_CTGAAGCTTGCAGCTACTCTCTATTATAGCCT beta_2 \n",
       "2 1_237657_237858   Islet3-fresh_CTGAAGCTTGCAGCTACTCTCTATTATAGCCT beta_2 \n",
       "3 1_967851_968930   Islet3-fresh_CTGAAGCTTGCAGCTACTCTCTATTATAGCCT beta_2 \n",
       "4 1_967851_968930   Islet3-fresh_CTGAAGCTTGCAGCTACTCTCTATTATAGCCT beta_2 \n",
       "5 1_1004053_1005548 Islet3-fresh_CTGAAGCTTGCAGCTACTCTCTATTATAGCCT beta_2 \n",
       "6 1_1004053_1005548 Islet3-fresh_CTGAAGCTTGCAGCTACTCTCTATTATAGCCT beta_2 "
      ]
     },
     "metadata": {},
     "output_type": "display_data"
    }
   ],
   "source": [
    "head(all.distal.merge)"
   ]
  },
  {
   "cell_type": "markdown",
   "metadata": {},
   "source": [
    "all.distal.merge <- all.distal.merge %>% filter(cluster %in% c(\"alpha_1\", \"alpha_2\", \n",
    "    \"beta_1\", \"beta_2\",\"delta_1\",\"delta_2\"))"
   ]
  },
  {
   "cell_type": "code",
   "execution_count": 11,
   "metadata": {},
   "outputs": [],
   "source": [
    "fwrite(all.distal.merge,'../dat/1908/all.distal.long.matrix.csv')"
   ]
  },
  {
   "cell_type": "code",
   "execution_count": 12,
   "metadata": {},
   "outputs": [
    {
     "data": {
      "text/html": [
       "<ol class=list-inline>\n",
       "\t<li>43483620</li>\n",
       "\t<li>3</li>\n",
       "</ol>\n"
      ],
      "text/latex": [
       "\\begin{enumerate*}\n",
       "\\item 43483620\n",
       "\\item 3\n",
       "\\end{enumerate*}\n"
      ],
      "text/markdown": [
       "1. 43483620\n",
       "2. 3\n",
       "\n",
       "\n"
      ],
      "text/plain": [
       "[1] 43483620        3"
      ]
     },
     "metadata": {},
     "output_type": "display_data"
    }
   ],
   "source": [
    "dim(all.distal.merge)"
   ]
  },
  {
   "cell_type": "code",
   "execution_count": null,
   "metadata": {},
   "outputs": [],
   "source": []
  }
 ],
 "metadata": {
  "kernelspec": {
   "display_name": "R",
   "language": "R",
   "name": "ir"
  },
  "language_info": {
   "codemirror_mode": "r",
   "file_extension": ".r",
   "mimetype": "text/x-r-source",
   "name": "R",
   "pygments_lexer": "r",
   "version": "3.5.1"
  }
 },
 "nbformat": 4,
 "nbformat_minor": 2
}
