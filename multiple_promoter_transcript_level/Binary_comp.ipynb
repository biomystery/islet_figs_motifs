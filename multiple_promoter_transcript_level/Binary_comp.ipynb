{
 "cells": [
  {
   "cell_type": "code",
   "execution_count": 2,
   "metadata": {},
   "outputs": [],
   "source": [
    "require(data.table)\n",
    "require(tidyverse)"
   ]
  },
  {
   "cell_type": "markdown",
   "metadata": {},
   "source": [
    "## 1. Read data "
   ]
  },
  {
   "cell_type": "code",
   "execution_count": 3,
   "metadata": {},
   "outputs": [
    {
     "data": {
      "text/html": [
       "<ol class=list-inline>\n",
       "\t<li>19412387</li>\n",
       "\t<li>7</li>\n",
       "</ol>\n"
      ],
      "text/latex": [
       "\\begin{enumerate*}\n",
       "\\item 19412387\n",
       "\\item 7\n",
       "\\end{enumerate*}\n"
      ],
      "text/markdown": [
       "1. 19412387\n",
       "2. 7\n",
       "\n",
       "\n"
      ],
      "text/plain": [
       "[1] 19412387        7"
      ]
     },
     "metadata": {},
     "output_type": "display_data"
    },
    {
     "data": {
      "text/html": [
       "<table>\n",
       "<thead><tr><th scope=col>seq</th><th scope=col>start</th><th scope=col>end</th><th scope=col>gene</th><th scope=col>cluster</th><th scope=col>cell</th><th scope=col>transcript.idx</th></tr></thead>\n",
       "<tbody>\n",
       "\t<tr><td>chr1                                      </td><td>859052                                    </td><td>860562                                    </td><td>SAMD11                                    </td><td>alpha_1                                   </td><td>Islet1-fresh_AGACACCTAGGCAGAAGTAAGGAGCAGGA</td><td>1                                         </td></tr>\n",
       "\t<tr><td>chr1                                      </td><td>859052                                    </td><td>860562                                    </td><td>SAMD11                                    </td><td>alpha_1                                   </td><td>Islet1-fresh_AGACACCTATGCGCAGCGTCTAATGGTTG</td><td>1                                         </td></tr>\n",
       "\t<tr><td>chr1                                      </td><td>859052                                    </td><td>860562                                    </td><td>SAMD11                                    </td><td>alpha_2                                   </td><td>Islet1-fresh_AGACACCTCGAGGCTGAAGGCTATGGTTG</td><td>1                                         </td></tr>\n",
       "\t<tr><td>chr1                                      </td><td>859052                                    </td><td>860562                                    </td><td>SAMD11                                    </td><td>alpha_2                                   </td><td>Islet1-fresh_AGACACCTCGTACTAGCTAAGCCTGTACT</td><td>1                                         </td></tr>\n",
       "\t<tr><td>chr1                                      </td><td>859052                                    </td><td>860562                                    </td><td>SAMD11                                    </td><td>alpha_1                                   </td><td>Islet1-fresh_AGACACCTGGACTCCTTCGACTAGGGTTG</td><td>1                                         </td></tr>\n",
       "\t<tr><td>chr1                                      </td><td>859052                                    </td><td>860562                                    </td><td>SAMD11                                    </td><td>alpha_2                                   </td><td>Islet1-fresh_AGACACCTGGAGCTACAAGGAGTAAGGCG</td><td>1                                         </td></tr>\n",
       "</tbody>\n",
       "</table>\n"
      ],
      "text/latex": [
       "\\begin{tabular}{r|lllllll}\n",
       " seq & start & end & gene & cluster & cell & transcript.idx\\\\\n",
       "\\hline\n",
       "\t chr1                                         & 859052                                       & 860562                                       & SAMD11                                       & alpha\\_1                                    & Islet1-fresh\\_AGACACCTAGGCAGAAGTAAGGAGCAGGA & 1                                           \\\\\n",
       "\t chr1                                         & 859052                                       & 860562                                       & SAMD11                                       & alpha\\_1                                    & Islet1-fresh\\_AGACACCTATGCGCAGCGTCTAATGGTTG & 1                                           \\\\\n",
       "\t chr1                                         & 859052                                       & 860562                                       & SAMD11                                       & alpha\\_2                                    & Islet1-fresh\\_AGACACCTCGAGGCTGAAGGCTATGGTTG & 1                                           \\\\\n",
       "\t chr1                                         & 859052                                       & 860562                                       & SAMD11                                       & alpha\\_2                                    & Islet1-fresh\\_AGACACCTCGTACTAGCTAAGCCTGTACT & 1                                           \\\\\n",
       "\t chr1                                         & 859052                                       & 860562                                       & SAMD11                                       & alpha\\_1                                    & Islet1-fresh\\_AGACACCTGGACTCCTTCGACTAGGGTTG & 1                                           \\\\\n",
       "\t chr1                                         & 859052                                       & 860562                                       & SAMD11                                       & alpha\\_2                                    & Islet1-fresh\\_AGACACCTGGAGCTACAAGGAGTAAGGCG & 1                                           \\\\\n",
       "\\end{tabular}\n"
      ],
      "text/markdown": [
       "\n",
       "seq | start | end | gene | cluster | cell | transcript.idx | \n",
       "|---|---|---|---|---|---|\n",
       "| chr1                                       | 859052                                     | 860562                                     | SAMD11                                     | alpha_1                                    | Islet1-fresh_AGACACCTAGGCAGAAGTAAGGAGCAGGA | 1                                          | \n",
       "| chr1                                       | 859052                                     | 860562                                     | SAMD11                                     | alpha_1                                    | Islet1-fresh_AGACACCTATGCGCAGCGTCTAATGGTTG | 1                                          | \n",
       "| chr1                                       | 859052                                     | 860562                                     | SAMD11                                     | alpha_2                                    | Islet1-fresh_AGACACCTCGAGGCTGAAGGCTATGGTTG | 1                                          | \n",
       "| chr1                                       | 859052                                     | 860562                                     | SAMD11                                     | alpha_2                                    | Islet1-fresh_AGACACCTCGTACTAGCTAAGCCTGTACT | 1                                          | \n",
       "| chr1                                       | 859052                                     | 860562                                     | SAMD11                                     | alpha_1                                    | Islet1-fresh_AGACACCTGGACTCCTTCGACTAGGGTTG | 1                                          | \n",
       "| chr1                                       | 859052                                     | 860562                                     | SAMD11                                     | alpha_2                                    | Islet1-fresh_AGACACCTGGAGCTACAAGGAGTAAGGCG | 1                                          | \n",
       "\n",
       "\n"
      ],
      "text/plain": [
       "  seq  start  end    gene   cluster cell                                      \n",
       "1 chr1 859052 860562 SAMD11 alpha_1 Islet1-fresh_AGACACCTAGGCAGAAGTAAGGAGCAGGA\n",
       "2 chr1 859052 860562 SAMD11 alpha_1 Islet1-fresh_AGACACCTATGCGCAGCGTCTAATGGTTG\n",
       "3 chr1 859052 860562 SAMD11 alpha_2 Islet1-fresh_AGACACCTCGAGGCTGAAGGCTATGGTTG\n",
       "4 chr1 859052 860562 SAMD11 alpha_2 Islet1-fresh_AGACACCTCGTACTAGCTAAGCCTGTACT\n",
       "5 chr1 859052 860562 SAMD11 alpha_1 Islet1-fresh_AGACACCTGGACTCCTTCGACTAGGGTTG\n",
       "6 chr1 859052 860562 SAMD11 alpha_2 Islet1-fresh_AGACACCTGGAGCTACAAGGAGTAAGGCG\n",
       "  transcript.idx\n",
       "1 1             \n",
       "2 1             \n",
       "3 1             \n",
       "4 1             \n",
       "5 1             \n",
       "6 1             "
      ]
     },
     "metadata": {},
     "output_type": "display_data"
    }
   ],
   "source": [
    "dat.mat <- fread('../dat/1901/alpha_beta.promoter.long_matrix_w_transcripts.txt')\n",
    "dim(dat.mat)\n",
    "head(dat.mat)\n",
    "#dat.mat$cell <- NULL #no need cell id "
   ]
  },
  {
   "cell_type": "markdown",
   "metadata": {},
   "source": [
    " Concepts: \n",
    "1. `promoter region`: -500bp + 500bp for all TSS in gencode \n",
    "2. `promoter Peaks`: peaks that overlap promoter region"
   ]
  },
  {
   "cell_type": "code",
   "execution_count": 4,
   "metadata": {},
   "outputs": [
    {
     "data": {
      "text/plain": [
       "\n",
       "alpha_1 alpha_2  beta_1  beta_2 \n",
       "   4266    1328    4354    2816 "
      ]
     },
     "metadata": {},
     "output_type": "display_data"
    },
    {
     "data": {
      "text/html": [
       "12764"
      ],
      "text/latex": [
       "12764"
      ],
      "text/markdown": [
       "12764"
      ],
      "text/plain": [
       "[1] 12764"
      ]
     },
     "metadata": {},
     "output_type": "display_data"
    },
    {
     "data": {
      "text/html": [
       "12764"
      ],
      "text/latex": [
       "12764"
      ],
      "text/markdown": [
       "12764"
      ],
      "text/plain": [
       "[1] 12764"
      ]
     },
     "metadata": {},
     "output_type": "display_data"
    }
   ],
   "source": [
    "# get all cells \n",
    "dat.all.cells <- table((fread('../dat/output.umap.ab.filtered.csv'))$cluster) # table for all cells\n",
    "dat.all.cells\n",
    "sum(dat.all.cells)\n",
    "length(unique(dat.mat$cell))"
   ]
  },
  {
   "cell_type": "markdown",
   "metadata": {},
   "source": [
    "## 2. Fisher's exact test at transcript level \n",
    "\n",
    "As long as there is any promoter peaks in that cell, the gene's promoter is open. \n",
    "\n",
    "1. get total alpha 1 and alpha 2 cells \n",
    "2. test hit in alpha1 vs hit in alpha2  (create contentigen table)\n",
    "3. perform [Fisher's exact test](https://en.wikipedia.org/wiki/Fisher%27s_exact_test) or [chi-squared test](https://en.wikipedia.org/wiki/Chi-squared_test)"
   ]
  },
  {
   "cell_type": "markdown",
   "metadata": {},
   "source": [
    "### 2.1 Prepare data"
   ]
  },
  {
   "cell_type": "code",
   "execution_count": 5,
   "metadata": {
    "scrolled": true
   },
   "outputs": [
    {
     "data": {
      "text/html": [
       "<ol class=list-inline>\n",
       "\t<li>19412387</li>\n",
       "\t<li>3</li>\n",
       "</ol>\n"
      ],
      "text/latex": [
       "\\begin{enumerate*}\n",
       "\\item 19412387\n",
       "\\item 3\n",
       "\\end{enumerate*}\n"
      ],
      "text/markdown": [
       "1. 19412387\n",
       "2. 3\n",
       "\n",
       "\n"
      ],
      "text/plain": [
       "[1] 19412387        3"
      ]
     },
     "metadata": {},
     "output_type": "display_data"
    },
    {
     "data": {
      "text/html": [
       "<table>\n",
       "<thead><tr><th scope=col>gene</th><th scope=col>cluster</th><th scope=col>transcript.idx</th></tr></thead>\n",
       "<tbody>\n",
       "\t<tr><td>SAMD11 </td><td>alpha_1</td><td>1      </td></tr>\n",
       "\t<tr><td>SAMD11 </td><td>alpha_1</td><td>1      </td></tr>\n",
       "\t<tr><td>SAMD11 </td><td>alpha_2</td><td>1      </td></tr>\n",
       "\t<tr><td>SAMD11 </td><td>alpha_2</td><td>1      </td></tr>\n",
       "\t<tr><td>SAMD11 </td><td>alpha_1</td><td>1      </td></tr>\n",
       "\t<tr><td>SAMD11 </td><td>alpha_2</td><td>1      </td></tr>\n",
       "</tbody>\n",
       "</table>\n"
      ],
      "text/latex": [
       "\\begin{tabular}{r|lll}\n",
       " gene & cluster & transcript.idx\\\\\n",
       "\\hline\n",
       "\t SAMD11    & alpha\\_1 & 1        \\\\\n",
       "\t SAMD11    & alpha\\_1 & 1        \\\\\n",
       "\t SAMD11    & alpha\\_2 & 1        \\\\\n",
       "\t SAMD11    & alpha\\_2 & 1        \\\\\n",
       "\t SAMD11    & alpha\\_1 & 1        \\\\\n",
       "\t SAMD11    & alpha\\_2 & 1        \\\\\n",
       "\\end{tabular}\n"
      ],
      "text/markdown": [
       "\n",
       "gene | cluster | transcript.idx | \n",
       "|---|---|---|---|---|---|\n",
       "| SAMD11  | alpha_1 | 1       | \n",
       "| SAMD11  | alpha_1 | 1       | \n",
       "| SAMD11  | alpha_2 | 1       | \n",
       "| SAMD11  | alpha_2 | 1       | \n",
       "| SAMD11  | alpha_1 | 1       | \n",
       "| SAMD11  | alpha_2 | 1       | \n",
       "\n",
       "\n"
      ],
      "text/plain": [
       "  gene   cluster transcript.idx\n",
       "1 SAMD11 alpha_1 1             \n",
       "2 SAMD11 alpha_1 1             \n",
       "3 SAMD11 alpha_2 1             \n",
       "4 SAMD11 alpha_2 1             \n",
       "5 SAMD11 alpha_1 1             \n",
       "6 SAMD11 alpha_2 1             "
      ]
     },
     "metadata": {},
     "output_type": "display_data"
    }
   ],
   "source": [
    "# prepare data\n",
    "dat.mat.transcript_level <- dat.mat%>%\n",
    "    select(-one_of(\"seq\",\"start\",\"end\"))%>%\n",
    "    distinct()%>%\n",
    "    select(-cell)\n",
    "dim(dat.mat.transcript_level)\n",
    "head(dat.mat.transcript_level)"
   ]
  },
  {
   "cell_type": "code",
   "execution_count": 7,
   "metadata": {
    "scrolled": true
   },
   "outputs": [
    {
     "name": "stdout",
     "output_type": "stream",
     "text": [
      "Check how rows changed:\n",
      "Before applying uniquness, # of rows:19412387\n",
      "After applying uniquness, # of rows:19412387\n"
     ]
    }
   ],
   "source": [
    "cat(\"Check how rows changed:\\n\") \n",
    "cat(sprintf(\"Before applying uniquness, # of rows:%d\\n\",nrow(dat.mat)))\n",
    "cat(sprintf(\"After applying uniquness, # of rows:%d\\n\",nrow(dat.mat.transcript_level)))\n"
   ]
  },
  {
   "cell_type": "markdown",
   "metadata": {},
   "source": [
    "### 2.2 perform fisher's exact test for all transcripts"
   ]
  },
  {
   "cell_type": "code",
   "execution_count": 8,
   "metadata": {},
   "outputs": [
    {
     "name": "stdout",
     "output_type": "stream",
     "text": [
      "There are 20215 unique transcripts for alpha cells\n",
      "There are 20336 unique transcripts for beta cells\n"
     ]
    }
   ],
   "source": [
    "cat(sprintf(\"There are %d unique transcripts for alpha cells\\n\",\n",
    "            length(unique((dat.mat.transcript_level%>%filter(cluster %in%c(\"alpha_1\",\"alpha_2\")))$transcript.idx))))\n",
    "cat(sprintf(\"There are %d unique transcripts for beta cells\\n\",\n",
    "            length(unique((dat.mat.transcript_level%>%filter(cluster %in%c(\"beta_1\",\"beta_2\")))$transcript.idx))))"
   ]
  },
  {
   "cell_type": "markdown",
   "metadata": {},
   "source": [
    "#### 2.2.1 Special cases: TSS too close to two genes\n",
    "\n",
    "- In this cases, put the same results to these genes.\n",
    "- Note: `foverlap` results selected the 1st matches. "
   ]
  },
  {
   "cell_type": "code",
   "execution_count": 10,
   "metadata": {},
   "outputs": [
    {
     "data": {
      "text/html": [
       "<table>\n",
       "<thead><tr><th scope=col>gene</th><th scope=col>cluster</th><th scope=col>transcript.idx</th></tr></thead>\n",
       "<tbody>\n",
       "\t<tr><td>AASDHPPT</td><td>alpha_1 </td><td>4016    </td></tr>\n",
       "\t<tr><td>KBTBD3  </td><td>alpha_1 </td><td>4016    </td></tr>\n",
       "\t<tr><td>AASDHPPT</td><td>alpha_1 </td><td>4016    </td></tr>\n",
       "\t<tr><td>KBTBD3  </td><td>alpha_1 </td><td>4016    </td></tr>\n",
       "\t<tr><td>AASDHPPT</td><td>alpha_2 </td><td>4016    </td></tr>\n",
       "\t<tr><td>KBTBD3  </td><td>alpha_2 </td><td>4016    </td></tr>\n",
       "</tbody>\n",
       "</table>\n"
      ],
      "text/latex": [
       "\\begin{tabular}{r|lll}\n",
       " gene & cluster & transcript.idx\\\\\n",
       "\\hline\n",
       "\t AASDHPPT  & alpha\\_1 & 4016     \\\\\n",
       "\t KBTBD3    & alpha\\_1 & 4016     \\\\\n",
       "\t AASDHPPT  & alpha\\_1 & 4016     \\\\\n",
       "\t KBTBD3    & alpha\\_1 & 4016     \\\\\n",
       "\t AASDHPPT  & alpha\\_2 & 4016     \\\\\n",
       "\t KBTBD3    & alpha\\_2 & 4016     \\\\\n",
       "\\end{tabular}\n"
      ],
      "text/markdown": [
       "\n",
       "gene | cluster | transcript.idx | \n",
       "|---|---|---|---|---|---|\n",
       "| AASDHPPT | alpha_1  | 4016     | \n",
       "| KBTBD3   | alpha_1  | 4016     | \n",
       "| AASDHPPT | alpha_1  | 4016     | \n",
       "| KBTBD3   | alpha_1  | 4016     | \n",
       "| AASDHPPT | alpha_2  | 4016     | \n",
       "| KBTBD3   | alpha_2  | 4016     | \n",
       "\n",
       "\n"
      ],
      "text/plain": [
       "  gene     cluster transcript.idx\n",
       "1 AASDHPPT alpha_1 4016          \n",
       "2 KBTBD3   alpha_1 4016          \n",
       "3 AASDHPPT alpha_1 4016          \n",
       "4 KBTBD3   alpha_1 4016          \n",
       "5 AASDHPPT alpha_2 4016          \n",
       "6 KBTBD3   alpha_2 4016          "
      ]
     },
     "metadata": {},
     "output_type": "display_data"
    },
    {
     "name": "stdout",
     "output_type": "stream",
     "text": [
      "chr11\t105947325\t105948873\tAASDHPPT\n",
      "\n",
      "chr11\t105947325\t105948873\tKBTBD3"
     ]
    }
   ],
   "source": [
    "#fun.ftestPerGene(dat=dat.sub,tr = x)\n",
    "x <- 4016\n",
    "head(dat.mat.transcript_level%>% filter(transcript.idx==x))\n",
    "\n",
    "## sed -n 4015,4017p alpha.transcript_promoter_peaks.bed\n",
    "cat(\"chr11\t105947325\t105948873\tAASDHPPT\\n\n",
    "chr11\t105947325\t105948873\tKBTBD3\")"
   ]
  },
  {
   "cell_type": "code",
   "execution_count": 71,
   "metadata": {},
   "outputs": [
    {
     "data": {
      "text/html": [
       "<table>\n",
       "<thead><tr><th scope=col>gene</th><th scope=col>transcript.idx</th></tr></thead>\n",
       "<tbody>\n",
       "\t<tr><td>SDF4        </td><td>15          </td></tr>\n",
       "\t<tr><td>PUSL1       </td><td>22          </td></tr>\n",
       "\t<tr><td>GLTPD1      </td><td>24          </td></tr>\n",
       "\t<tr><td>RP4-758J18.2</td><td>31          </td></tr>\n",
       "\t<tr><td>SSU72       </td><td>41          </td></tr>\n",
       "\t<tr><td>RER1        </td><td>66          </td></tr>\n",
       "</tbody>\n",
       "</table>\n"
      ],
      "text/latex": [
       "\\begin{tabular}{r|ll}\n",
       " gene & transcript.idx\\\\\n",
       "\\hline\n",
       "\t SDF4         & 15          \\\\\n",
       "\t PUSL1        & 22          \\\\\n",
       "\t GLTPD1       & 24          \\\\\n",
       "\t RP4-758J18.2 & 31          \\\\\n",
       "\t SSU72        & 41          \\\\\n",
       "\t RER1         & 66          \\\\\n",
       "\\end{tabular}\n"
      ],
      "text/markdown": [
       "\n",
       "gene | transcript.idx | \n",
       "|---|---|---|---|---|---|\n",
       "| SDF4         | 15           | \n",
       "| PUSL1        | 22           | \n",
       "| GLTPD1       | 24           | \n",
       "| RP4-758J18.2 | 31           | \n",
       "| SSU72        | 41           | \n",
       "| RER1         | 66           | \n",
       "\n",
       "\n"
      ],
      "text/plain": [
       "  gene         transcript.idx\n",
       "1 SDF4         15            \n",
       "2 PUSL1        22            \n",
       "3 GLTPD1       24            \n",
       "4 RP4-758J18.2 31            \n",
       "5 SSU72        41            \n",
       "6 RER1         66            "
      ]
     },
     "metadata": {},
     "output_type": "display_data"
    },
    {
     "data": {
      "text/html": [
       "<table>\n",
       "<thead><tr><th scope=col>gene</th><th scope=col>transcript.idx</th></tr></thead>\n",
       "<tbody>\n",
       "\t<tr><td>B3GALT6   </td><td>15        </td></tr>\n",
       "\t<tr><td>ACAP3     </td><td>22        </td></tr>\n",
       "\t<tr><td>CPSF3L    </td><td>24        </td></tr>\n",
       "\t<tr><td>CCNL2     </td><td>31        </td></tr>\n",
       "\t<tr><td>AL645728.1</td><td>41        </td></tr>\n",
       "\t<tr><td>MORN1     </td><td>66        </td></tr>\n",
       "</tbody>\n",
       "</table>\n"
      ],
      "text/latex": [
       "\\begin{tabular}{r|ll}\n",
       " gene & transcript.idx\\\\\n",
       "\\hline\n",
       "\t B3GALT6    & 15        \\\\\n",
       "\t ACAP3      & 22        \\\\\n",
       "\t CPSF3L     & 24        \\\\\n",
       "\t CCNL2      & 31        \\\\\n",
       "\t AL645728.1 & 41        \\\\\n",
       "\t MORN1      & 66        \\\\\n",
       "\\end{tabular}\n"
      ],
      "text/markdown": [
       "\n",
       "gene | transcript.idx | \n",
       "|---|---|---|---|---|---|\n",
       "| B3GALT6    | 15         | \n",
       "| ACAP3      | 22         | \n",
       "| CPSF3L     | 24         | \n",
       "| CCNL2      | 31         | \n",
       "| AL645728.1 | 41         | \n",
       "| MORN1      | 66         | \n",
       "\n",
       "\n"
      ],
      "text/plain": [
       "  gene       transcript.idx\n",
       "1 B3GALT6    15            \n",
       "2 ACAP3      22            \n",
       "3 CPSF3L     24            \n",
       "4 CCNL2      31            \n",
       "5 AL645728.1 41            \n",
       "6 MORN1      66            "
      ]
     },
     "metadata": {},
     "output_type": "display_data"
    }
   ],
   "source": [
    "# all examples \n",
    "dat.sub.red <- dat.sub %>% select(-cluster)%>%group_by(transcript.idx)%>% unique()\n",
    "setDT(dat.sub.red)\n",
    "idx <- which(duplicated(dat.sub.red,by = \"transcript.idx\"))\n",
    "head(dat.sub.red[idx,])\n",
    "head(dat.sub.red[idx-1,])"
   ]
  },
  {
   "cell_type": "markdown",
   "metadata": {},
   "source": [
    "#### 2.2.2 Handle these special cases by cat gene and tr.idx"
   ]
  },
  {
   "cell_type": "code",
   "execution_count": 11,
   "metadata": {},
   "outputs": [
    {
     "data": {
      "text/html": [
       "<table>\n",
       "<thead><tr><th scope=col>gene_tr.idx</th><th scope=col>cluster</th></tr></thead>\n",
       "<tbody>\n",
       "\t<tr><td>SAMD11_1</td><td>alpha_1 </td></tr>\n",
       "\t<tr><td>SAMD11_1</td><td>alpha_1 </td></tr>\n",
       "\t<tr><td>SAMD11_1</td><td>alpha_2 </td></tr>\n",
       "\t<tr><td>SAMD11_1</td><td>alpha_2 </td></tr>\n",
       "\t<tr><td>SAMD11_1</td><td>alpha_1 </td></tr>\n",
       "\t<tr><td>SAMD11_1</td><td>alpha_2 </td></tr>\n",
       "</tbody>\n",
       "</table>\n"
      ],
      "text/latex": [
       "\\begin{tabular}{r|ll}\n",
       " gene\\_tr.idx & cluster\\\\\n",
       "\\hline\n",
       "\t SAMD11\\_1 & alpha\\_1 \\\\\n",
       "\t SAMD11\\_1 & alpha\\_1 \\\\\n",
       "\t SAMD11\\_1 & alpha\\_2 \\\\\n",
       "\t SAMD11\\_1 & alpha\\_2 \\\\\n",
       "\t SAMD11\\_1 & alpha\\_1 \\\\\n",
       "\t SAMD11\\_1 & alpha\\_2 \\\\\n",
       "\\end{tabular}\n"
      ],
      "text/markdown": [
       "\n",
       "gene_tr.idx | cluster | \n",
       "|---|---|---|---|---|---|\n",
       "| SAMD11_1 | alpha_1  | \n",
       "| SAMD11_1 | alpha_1  | \n",
       "| SAMD11_1 | alpha_2  | \n",
       "| SAMD11_1 | alpha_2  | \n",
       "| SAMD11_1 | alpha_1  | \n",
       "| SAMD11_1 | alpha_2  | \n",
       "\n",
       "\n"
      ],
      "text/plain": [
       "  gene_tr.idx cluster\n",
       "1 SAMD11_1    alpha_1\n",
       "2 SAMD11_1    alpha_1\n",
       "3 SAMD11_1    alpha_2\n",
       "4 SAMD11_1    alpha_2\n",
       "5 SAMD11_1    alpha_1\n",
       "6 SAMD11_1    alpha_2"
      ]
     },
     "metadata": {},
     "output_type": "display_data"
    }
   ],
   "source": [
    "dat.mat.transcript_level<-dat.mat.transcript_level%>%\n",
    "    unite(\"gene_tr.idx\",c(\"gene\",\"transcript.idx\"),remove = T)\n",
    "head(dat.mat.transcript_level)"
   ]
  },
  {
   "cell_type": "code",
   "execution_count": 16,
   "metadata": {},
   "outputs": [
    {
     "data": {
      "text/html": [
       "<ol class=list-inline>\n",
       "\t<li>83</li>\n",
       "\t<li>47</li>\n",
       "</ol>\n"
      ],
      "text/latex": [
       "\\begin{enumerate*}\n",
       "\\item 83\n",
       "\\item 47\n",
       "\\end{enumerate*}\n"
      ],
      "text/markdown": [
       "1. 83\n",
       "2. 47\n",
       "\n",
       "\n"
      ],
      "text/plain": [
       "[1] 83 47"
      ]
     },
     "metadata": {},
     "output_type": "display_data"
    },
    {
     "data": {
      "text/html": [
       "<ol class=list-inline>\n",
       "\t<li>'alpha_1'</li>\n",
       "\t<li>'alpha_2'</li>\n",
       "</ol>\n"
      ],
      "text/latex": [
       "\\begin{enumerate*}\n",
       "\\item 'alpha\\_1'\n",
       "\\item 'alpha\\_2'\n",
       "\\end{enumerate*}\n"
      ],
      "text/markdown": [
       "1. 'alpha_1'\n",
       "2. 'alpha_2'\n",
       "\n",
       "\n"
      ],
      "text/plain": [
       "[1] \"alpha_1\" \"alpha_2\""
      ]
     },
     "metadata": {},
     "output_type": "display_data"
    }
   ],
   "source": [
    "tr='SAMD11_1'\n",
    "test.dat <- table((dat.sub%>% filter(gene_tr.idx==tr))$cluster)\n",
    "table.res <- as.vector(test.dat)\n",
    "table.res\n",
    "names(test.dat)"
   ]
  },
  {
   "cell_type": "code",
   "execution_count": 17,
   "metadata": {},
   "outputs": [
    {
     "data": {
      "text/plain": [
       "   user  system elapsed \n",
       "  0.064   0.002   0.066 "
      ]
     },
     "metadata": {},
     "output_type": "display_data"
    },
    {
     "data": {
      "text/html": [
       "<dl>\n",
       "\t<dt>$pval</dt>\n",
       "\t\t<dd>0.000803872893763905</dd>\n",
       "\t<dt>$odds</dt>\n",
       "\t\t<dd><strong>odds ratio:</strong> 0.540893567383947</dd>\n",
       "\t<dt>$type1_frac</dt>\n",
       "\t\t<dd>0.0194561650257853</dd>\n",
       "\t<dt>$type2_frac</dt>\n",
       "\t\t<dd>0.0353915662650602</dd>\n",
       "</dl>\n"
      ],
      "text/latex": [
       "\\begin{description}\n",
       "\\item[\\$pval] 0.000803872893763905\n",
       "\\item[\\$odds] \\textbf{odds ratio:} 0.540893567383947\n",
       "\\item[\\$type1\\_frac] 0.0194561650257853\n",
       "\\item[\\$type2\\_frac] 0.0353915662650602\n",
       "\\end{description}\n"
      ],
      "text/markdown": [
       "$pval\n",
       ":   0.000803872893763905\n",
       "$odds\n",
       ":   **odds ratio:** 0.540893567383947\n",
       "$type1_frac\n",
       ":   0.0194561650257853\n",
       "$type2_frac\n",
       ":   0.0353915662650602\n",
       "\n",
       "\n"
      ],
      "text/plain": [
       "$pval\n",
       "[1] 0.0008038729\n",
       "\n",
       "$odds\n",
       "odds ratio \n",
       " 0.5408936 \n",
       "\n",
       "$type1_frac\n",
       "[1] 0.01945617\n",
       "\n",
       "$type2_frac\n",
       "[1] 0.03539157\n"
      ]
     },
     "metadata": {},
     "output_type": "display_data"
    },
    {
     "data": {
      "text/plain": [
       "   user  system elapsed \n",
       "  0.048   0.001   0.050 "
      ]
     },
     "metadata": {},
     "output_type": "display_data"
    },
    {
     "data": {
      "text/html": [
       "<dl>\n",
       "\t<dt>$pval</dt>\n",
       "\t\t<dd>0.000803872893763905</dd>\n",
       "\t<dt>$odds</dt>\n",
       "\t\t<dd><strong>odds ratio:</strong> 0.540893567383947</dd>\n",
       "\t<dt>$type1_frac</dt>\n",
       "\t\t<dd>0.0194561650257853</dd>\n",
       "\t<dt>$type2_frac</dt>\n",
       "\t\t<dd>0.0353915662650602</dd>\n",
       "</dl>\n"
      ],
      "text/latex": [
       "\\begin{description}\n",
       "\\item[\\$pval] 0.000803872893763905\n",
       "\\item[\\$odds] \\textbf{odds ratio:} 0.540893567383947\n",
       "\\item[\\$type1\\_frac] 0.0194561650257853\n",
       "\\item[\\$type2\\_frac] 0.0353915662650602\n",
       "\\end{description}\n"
      ],
      "text/markdown": [
       "$pval\n",
       ":   0.000803872893763905\n",
       "$odds\n",
       ":   **odds ratio:** 0.540893567383947\n",
       "$type1_frac\n",
       ":   0.0194561650257853\n",
       "$type2_frac\n",
       ":   0.0353915662650602\n",
       "\n",
       "\n"
      ],
      "text/plain": [
       "$pval\n",
       "[1] 0.0008038729\n",
       "\n",
       "$odds\n",
       "odds ratio \n",
       " 0.5408936 \n",
       "\n",
       "$type1_frac\n",
       "[1] 0.01945617\n",
       "\n",
       "$type2_frac\n",
       "[1] 0.03539157\n"
      ]
     },
     "metadata": {},
     "output_type": "display_data"
    }
   ],
   "source": [
    "fun.ftestPerTr <- function(  tr='SAMD11_1',#=1\n",
    "                             celltypes=c('alpha_1','alpha_2'),\n",
    "                             dat=dat.mat.transcript_level%>%\n",
    "                                  select(one_of(\"gene_tr.idx\",\"cluster\")%>%\n",
    "                                  filter(cluster %in%celltypes))){\n",
    "    \n",
    "\n",
    "    test.dat <- table((dat.sub%>% filter(gene_tr.idx==tr))$cluster)\n",
    "    table.res <- as.vector(test.dat)\n",
    "    names(table.res) <- names(test.dat)\n",
    "    # handle if 0 for one subtype \n",
    "    a=setdiff(celltypes,    names(table.res))\n",
    "    table.res[a]<-0\n",
    "    \n",
    "    test.tab <- matrix(c(table.res[celltypes[1]], table.res[celltypes[2]], \n",
    "                         dat.all.cells[celltypes[1]]-table.res[celltypes[1]], \n",
    "                         dat.all.cells[celltypes[2]]-table.res[celltypes[2]]),\n",
    "                       byrow =  T,       \n",
    "                       nrow = 2,\n",
    "                       dimnames = list(expressed = c(\"Yes\", \"No\"),\n",
    "                       subtype = celltypes))\n",
    "    test.res <- fisher.test(test.tab)\n",
    "    res <- list(pval=test.res$p.value/2,\n",
    "                odds=test.res$estimate,\n",
    "                type1_frac=test.tab[1]/(test.tab[1]+test.tab[2]),\n",
    "                type2_frac=test.tab[3]/(test.tab[3]+test.tab[4])\n",
    "               )\n",
    "    res\n",
    "}\n",
    "\n",
    "##\n",
    "\n",
    "celltypes <- c('alpha_1','alpha_2')\n",
    "dat.sub <- dat.mat.transcript_level%>%\n",
    "                           select(one_of(\"gene_tr.idx\",\"cluster\"))%>%\n",
    "                           filter(cluster %in%celltypes)\n",
    "#fun.ftestPerGene(dat = dat.sub,tr=1)\n",
    "system.time(fun.ftestPerTr(celltypes=celltypes))\n",
    "fun.ftestPerTr(celltypes=celltypes)\n",
    "system.time(fun.ftestPerTr(dat=dat.sub,celltypes=celltypes))  \n",
    "fun.ftestPerTr(dat=dat.sub,celltypes=celltypes)\n",
    "#all.tr <- unique(dat.sub$transcript.idx)\n",
    "#for(x in all.tr){\n",
    "#    fun.ftestPerGene(dat=dat.sub,tr = x)\n",
    "#}\n",
    "\n",
    "\n",
    "\n",
    "#fun.ftestPerGene(dat = dat.sub,tr=1)"
   ]
  },
  {
   "cell_type": "code",
   "execution_count": 22,
   "metadata": {},
   "outputs": [
    {
     "data": {
      "text/html": [
       "<dl>\n",
       "\t<dt>$pval</dt>\n",
       "\t\t<dd>0.475744626537332</dd>\n",
       "\t<dt>$odds</dt>\n",
       "\t\t<dd><strong>odds ratio:</strong> 1.01285253463683</dd>\n",
       "\t<dt>$type1_frac</dt>\n",
       "\t\t<dd>0.041341295360588</dd>\n",
       "\t<dt>$type2_frac</dt>\n",
       "\t\t<dd>0.0408380681818182</dd>\n",
       "</dl>\n"
      ],
      "text/latex": [
       "\\begin{description}\n",
       "\\item[\\$pval] 0.475744626537332\n",
       "\\item[\\$odds] \\textbf{odds ratio:} 1.01285253463683\n",
       "\\item[\\$type1\\_frac] 0.041341295360588\n",
       "\\item[\\$type2\\_frac] 0.0408380681818182\n",
       "\\end{description}\n"
      ],
      "text/markdown": [
       "$pval\n",
       ":   0.475744626537332\n",
       "$odds\n",
       ":   **odds ratio:** 1.01285253463683\n",
       "$type1_frac\n",
       ":   0.041341295360588\n",
       "$type2_frac\n",
       ":   0.0408380681818182\n",
       "\n",
       "\n"
      ],
      "text/plain": [
       "$pval\n",
       "[1] 0.4757446\n",
       "\n",
       "$odds\n",
       "odds ratio \n",
       "  1.012853 \n",
       "\n",
       "$type1_frac\n",
       "[1] 0.0413413\n",
       "\n",
       "$type2_frac\n",
       "[1] 0.04083807\n"
      ]
     },
     "metadata": {},
     "output_type": "display_data"
    },
    {
     "data": {
      "text/html": [
       "<dl>\n",
       "\t<dt>$pval</dt>\n",
       "\t\t<dd>0.475744626537332</dd>\n",
       "\t<dt>$odds</dt>\n",
       "\t\t<dd><strong>odds ratio:</strong> 1.01285253463683</dd>\n",
       "\t<dt>$type1_frac</dt>\n",
       "\t\t<dd>0.041341295360588</dd>\n",
       "\t<dt>$type2_frac</dt>\n",
       "\t\t<dd>0.0408380681818182</dd>\n",
       "</dl>\n"
      ],
      "text/latex": [
       "\\begin{description}\n",
       "\\item[\\$pval] 0.475744626537332\n",
       "\\item[\\$odds] \\textbf{odds ratio:} 1.01285253463683\n",
       "\\item[\\$type1\\_frac] 0.041341295360588\n",
       "\\item[\\$type2\\_frac] 0.0408380681818182\n",
       "\\end{description}\n"
      ],
      "text/markdown": [
       "$pval\n",
       ":   0.475744626537332\n",
       "$odds\n",
       ":   **odds ratio:** 1.01285253463683\n",
       "$type1_frac\n",
       ":   0.041341295360588\n",
       "$type2_frac\n",
       ":   0.0408380681818182\n",
       "\n",
       "\n"
      ],
      "text/plain": [
       "$pval\n",
       "[1] 0.4757446\n",
       "\n",
       "$odds\n",
       "odds ratio \n",
       "  1.012853 \n",
       "\n",
       "$type1_frac\n",
       "[1] 0.0413413\n",
       "\n",
       "$type2_frac\n",
       "[1] 0.04083807\n"
      ]
     },
     "metadata": {},
     "output_type": "display_data"
    }
   ],
   "source": [
    "celltypes <- c('beta_1','beta_2')\n",
    "dat.sub <- dat.mat.transcript_level%>%\n",
    "                           select(one_of(\"gene_tr.idx\",\"cluster\"))%>%\n",
    "                           filter(cluster %in%celltypes)\n",
    "fun.ftestPerTr(celltypes=celltypes)\n",
    "fun.ftestPerTr(dat=dat.sub,celltypes=celltypes)\n"
   ]
  },
  {
   "cell_type": "code",
   "execution_count": 27,
   "metadata": {},
   "outputs": [
    {
     "data": {
      "text/plain": [
       "     user    system   elapsed \n",
       "  768.478    58.274 10749.944 "
      ]
     },
     "metadata": {},
     "output_type": "display_data"
    }
   ],
   "source": [
    "celltypes<- list()\n",
    "celltypes$alpha <- c('alpha_1','alpha_2')\n",
    "celltypes$beta <- c('beta_1','beta_2')\n",
    "\n",
    "# time consumming task\n",
    "if(T){\n",
    "    require(parallel)\n",
    "    system.time(res.transcript_level <- lapply(celltypes,function(x){\n",
    "        dat.sub <- dat.mat.transcript_level%>%select(one_of(\"gene_tr.idx\",\"cluster\"))%>%filter(cluster %in% x)\n",
    "        all.tr <- unique(dat.sub$gene_tr.idx)\n",
    "        return(mclapply(all.tr,function(trr) fun.ftestPerTr(dat=dat.sub,tr = trr,celltypes = x),mc.cores = 8))}))\n",
    "}\n",
    "        "
   ]
  },
  {
   "cell_type": "code",
   "execution_count": 23,
   "metadata": {},
   "outputs": [],
   "source": [
    "res.transcript_level.2 <- res.transcript_level"
   ]
  },
  {
   "cell_type": "code",
   "execution_count": 20,
   "metadata": {},
   "outputs": [
    {
     "data": {
      "text/html": [
       "<table>\n",
       "<thead><tr><th></th><th scope=col>pval</th><th scope=col>odds</th><th scope=col>type1_frac</th><th scope=col>type2_frac</th></tr></thead>\n",
       "<tbody>\n",
       "\t<tr><th scope=row>SAMD11_1</th><td>0.0008038729</td><td>0.5408936   </td><td>0.01945617  </td><td>0.03539157  </td></tr>\n",
       "\t<tr><th scope=row>SAMD11_2</th><td>0.102674   </td><td>0.6931602  </td><td>0.008907642</td><td>0.0128012  </td></tr>\n",
       "\t<tr><th scope=row>SAMD11_3</th><td>0.000387331</td><td>0.4795206  </td><td>0.01429911 </td><td>0.02936747 </td></tr>\n",
       "\t<tr><th scope=row>NOC2L_4</th><td>0.1934535 </td><td>0.8726655 </td><td>0.0403188 </td><td>0.04593373</td></tr>\n",
       "\t<tr><th scope=row>KLHL17_5</th><td>0.2498725 </td><td>0.8278814 </td><td>0.01312705</td><td>0.01581325</td></tr>\n",
       "\t<tr><th scope=row>PLEKHN1_6</th><td>0.000104741</td><td>0.43971    </td><td>0.01312705 </td><td>0.02936747 </td></tr>\n",
       "</tbody>\n",
       "</table>\n"
      ],
      "text/latex": [
       "\\begin{tabular}{r|llll}\n",
       "  & pval & odds & type1\\_frac & type2\\_frac\\\\\n",
       "\\hline\n",
       "\tSAMD11\\_1 & 0.0008038729 & 0.5408936    & 0.01945617   & 0.03539157  \\\\\n",
       "\tSAMD11\\_2 & 0.102674    & 0.6931602   & 0.008907642 & 0.0128012  \\\\\n",
       "\tSAMD11\\_3 & 0.000387331 & 0.4795206   & 0.01429911  & 0.02936747 \\\\\n",
       "\tNOC2L\\_4 & 0.1934535  & 0.8726655  & 0.0403188  & 0.04593373\\\\\n",
       "\tKLHL17\\_5 & 0.2498725  & 0.8278814  & 0.01312705 & 0.01581325\\\\\n",
       "\tPLEKHN1\\_6 & 0.000104741 & 0.43971     & 0.01312705  & 0.02936747 \\\\\n",
       "\\end{tabular}\n"
      ],
      "text/markdown": [
       "\n",
       "| <!--/--> | pval | odds | type1_frac | type2_frac | \n",
       "|---|---|---|---|---|---|\n",
       "| SAMD11_1 | 0.0008038729 | 0.5408936    | 0.01945617   | 0.03539157   | \n",
       "| SAMD11_2 | 0.102674    | 0.6931602   | 0.008907642 | 0.0128012   | \n",
       "| SAMD11_3 | 0.000387331 | 0.4795206   | 0.01429911  | 0.02936747  | \n",
       "| NOC2L_4 | 0.1934535  | 0.8726655  | 0.0403188  | 0.04593373 | \n",
       "| KLHL17_5 | 0.2498725  | 0.8278814  | 0.01312705 | 0.01581325 | \n",
       "| PLEKHN1_6 | 0.000104741 | 0.43971     | 0.01312705  | 0.02936747  | \n",
       "\n",
       "\n"
      ],
      "text/plain": [
       "          pval         odds      type1_frac  type2_frac\n",
       "SAMD11_1  0.0008038729 0.5408936 0.01945617  0.03539157\n",
       "SAMD11_2  0.102674     0.6931602 0.008907642 0.0128012 \n",
       "SAMD11_3  0.000387331  0.4795206 0.01429911  0.02936747\n",
       "NOC2L_4   0.1934535    0.8726655 0.0403188   0.04593373\n",
       "KLHL17_5  0.2498725    0.8278814 0.01312705  0.01581325\n",
       "PLEKHN1_6 0.000104741  0.43971   0.01312705  0.02936747"
      ]
     },
     "metadata": {},
     "output_type": "display_data"
    }
   ],
   "source": [
    "# alpha\n",
    "x <- celltypes$alpha\n",
    "dat.sub <- dat.mat.transcript_level%>%select(one_of(\"gene_tr.idx\",\"cluster\"))%>%filter(cluster %in% x)\n",
    "all.tr <- unique(dat.sub$gene_tr.idx)\n",
    "res.genes_level.a.df <- do.call(rbind,res.transcript_level$alpha)\n",
    "rownames(res.genes_level.a.df) <- all.tr\n",
    "head(res.genes_level.a.df)\n",
    "res.transcript_level$alpha <-res.genes_level.a.df "
   ]
  },
  {
   "cell_type": "code",
   "execution_count": 30,
   "metadata": {},
   "outputs": [
    {
     "data": {
      "text/html": [
       "<table>\n",
       "<thead><tr><th></th><th scope=col>pval</th><th scope=col>odds</th><th scope=col>type1_frac</th><th scope=col>type2_frac</th></tr></thead>\n",
       "<tbody>\n",
       "\t<tr><th scope=row>SAMD11_1</th><td>0.4757446 </td><td>1.012853  </td><td>0.0413413 </td><td>0.04083807</td></tr>\n",
       "\t<tr><th scope=row>SAMD11_2</th><td>0.01671483 </td><td>1.805673   </td><td>0.01148369 </td><td>0.006392045</td></tr>\n",
       "\t<tr><th scope=row>SAMD11_3</th><td>0.002476792</td><td>1.409152   </td><td>0.05029858 </td><td>0.03622159 </td></tr>\n",
       "\t<tr><th scope=row>SAMD11_4</th><td>9.622286e-08</td><td>1.45374     </td><td>0.1566376   </td><td>0.1132812   </td></tr>\n",
       "\t<tr><th scope=row>NOC2L_5</th><td>1.421091e-10</td><td>1.948879    </td><td>0.07854846  </td><td>0.04190341  </td></tr>\n",
       "\t<tr><th scope=row>NOC2L_6</th><td>0.3060026 </td><td>0.9384924 </td><td>0.03674782</td><td>0.0390625 </td></tr>\n",
       "</tbody>\n",
       "</table>\n"
      ],
      "text/latex": [
       "\\begin{tabular}{r|llll}\n",
       "  & pval & odds & type1\\_frac & type2\\_frac\\\\\n",
       "\\hline\n",
       "\tSAMD11\\_1 & 0.4757446  & 1.012853   & 0.0413413  & 0.04083807\\\\\n",
       "\tSAMD11\\_2 & 0.01671483  & 1.805673    & 0.01148369  & 0.006392045\\\\\n",
       "\tSAMD11\\_3 & 0.002476792 & 1.409152    & 0.05029858  & 0.03622159 \\\\\n",
       "\tSAMD11\\_4 & 9.622286e-08 & 1.45374      & 0.1566376    & 0.1132812   \\\\\n",
       "\tNOC2L\\_5 & 1.421091e-10 & 1.948879     & 0.07854846   & 0.04190341  \\\\\n",
       "\tNOC2L\\_6 & 0.3060026  & 0.9384924  & 0.03674782 & 0.0390625 \\\\\n",
       "\\end{tabular}\n"
      ],
      "text/markdown": [
       "\n",
       "| <!--/--> | pval | odds | type1_frac | type2_frac | \n",
       "|---|---|---|---|---|---|\n",
       "| SAMD11_1 | 0.4757446  | 1.012853   | 0.0413413  | 0.04083807 | \n",
       "| SAMD11_2 | 0.01671483  | 1.805673    | 0.01148369  | 0.006392045 | \n",
       "| SAMD11_3 | 0.002476792 | 1.409152    | 0.05029858  | 0.03622159  | \n",
       "| SAMD11_4 | 9.622286e-08 | 1.45374      | 0.1566376    | 0.1132812    | \n",
       "| NOC2L_5 | 1.421091e-10 | 1.948879     | 0.07854846   | 0.04190341   | \n",
       "| NOC2L_6 | 0.3060026  | 0.9384924  | 0.03674782 | 0.0390625  | \n",
       "\n",
       "\n"
      ],
      "text/plain": [
       "         pval         odds      type1_frac type2_frac \n",
       "SAMD11_1 0.4757446    1.012853  0.0413413  0.04083807 \n",
       "SAMD11_2 0.01671483   1.805673  0.01148369 0.006392045\n",
       "SAMD11_3 0.002476792  1.409152  0.05029858 0.03622159 \n",
       "SAMD11_4 9.622286e-08 1.45374   0.1566376  0.1132812  \n",
       "NOC2L_5  1.421091e-10 1.948879  0.07854846 0.04190341 \n",
       "NOC2L_6  0.3060026    0.9384924 0.03674782 0.0390625  "
      ]
     },
     "metadata": {},
     "output_type": "display_data"
    }
   ],
   "source": [
    "# beta\n",
    "x <- celltypes$beta\n",
    "dat.sub <- dat.mat.transcript_level%>%select(one_of(\"gene_tr.idx\",\"cluster\"))%>%filter(cluster %in% x)\n",
    "all.tr <- unique(dat.sub$gene_tr.idx)\n",
    "res.genes_level.a.df <- do.call(rbind,res.transcript_level$beta)\n",
    "rownames(res.genes_level.a.df) <- all.tr\n",
    "head(res.genes_level.a.df)\n",
    "res.transcript_level$beta <-res.genes_level.a.df "
   ]
  },
  {
   "cell_type": "code",
   "execution_count": 33,
   "metadata": {
    "scrolled": true
   },
   "outputs": [
    {
     "data": {
      "text/html": [
       "<table>\n",
       "<thead><tr><th></th><th scope=col>pval</th><th scope=col>odds</th><th scope=col>type1_frac</th><th scope=col>type2_frac</th><th scope=col>FDR</th><th scope=col>padj.Bonferroni</th><th scope=col>FDR.BY</th></tr></thead>\n",
       "<tbody>\n",
       "\t<tr><th scope=row>SAMD11_1</th><td>0.0008038729</td><td>0.5408936   </td><td>0.01945617  </td><td>0.03539157  </td><td>0.0027715079</td><td>1           </td><td>0.029346494 </td></tr>\n",
       "\t<tr><th scope=row>SAMD11_2</th><td>0.102674    </td><td>0.6931602   </td><td>0.008907642 </td><td>0.0128012   </td><td>0.1551145157</td><td>1           </td><td>1.000000000 </td></tr>\n",
       "\t<tr><th scope=row>SAMD11_3</th><td>0.000387331 </td><td>0.4795206   </td><td>0.01429911  </td><td>0.02936747  </td><td>0.0014961208</td><td>1           </td><td>0.015841881 </td></tr>\n",
       "\t<tr><th scope=row>NOC2L_4</th><td>0.1934535   </td><td>0.8726655   </td><td>0.0403188   </td><td>0.04593373  </td><td>0.2535538133</td><td>1           </td><td>1.000000000 </td></tr>\n",
       "\t<tr><th scope=row>KLHL17_5</th><td>0.2498725   </td><td>0.8278814   </td><td>0.01312705  </td><td>0.01581325  </td><td>0.3080746607</td><td>1           </td><td>1.000000000 </td></tr>\n",
       "\t<tr><th scope=row>PLEKHN1_6</th><td>0.000104741 </td><td>0.4397100   </td><td>0.01312705  </td><td>0.02936747  </td><td>0.0004890037</td><td>1           </td><td>0.005177883 </td></tr>\n",
       "</tbody>\n",
       "</table>\n"
      ],
      "text/latex": [
       "\\begin{tabular}{r|lllllll}\n",
       "  & pval & odds & type1\\_frac & type2\\_frac & FDR & padj.Bonferroni & FDR.BY\\\\\n",
       "\\hline\n",
       "\tSAMD11\\_1 & 0.0008038729 & 0.5408936    & 0.01945617   & 0.03539157   & 0.0027715079 & 1            & 0.029346494 \\\\\n",
       "\tSAMD11\\_2 & 0.102674     & 0.6931602    & 0.008907642  & 0.0128012    & 0.1551145157 & 1            & 1.000000000 \\\\\n",
       "\tSAMD11\\_3 & 0.000387331  & 0.4795206    & 0.01429911   & 0.02936747   & 0.0014961208 & 1            & 0.015841881 \\\\\n",
       "\tNOC2L\\_4 & 0.1934535    & 0.8726655    & 0.0403188    & 0.04593373   & 0.2535538133 & 1            & 1.000000000 \\\\\n",
       "\tKLHL17\\_5 & 0.2498725    & 0.8278814    & 0.01312705   & 0.01581325   & 0.3080746607 & 1            & 1.000000000 \\\\\n",
       "\tPLEKHN1\\_6 & 0.000104741  & 0.4397100    & 0.01312705   & 0.02936747   & 0.0004890037 & 1            & 0.005177883 \\\\\n",
       "\\end{tabular}\n"
      ],
      "text/markdown": [
       "\n",
       "| <!--/--> | pval | odds | type1_frac | type2_frac | FDR | padj.Bonferroni | FDR.BY | \n",
       "|---|---|---|---|---|---|\n",
       "| SAMD11_1 | 0.0008038729 | 0.5408936    | 0.01945617   | 0.03539157   | 0.0027715079 | 1            | 0.029346494  | \n",
       "| SAMD11_2 | 0.102674     | 0.6931602    | 0.008907642  | 0.0128012    | 0.1551145157 | 1            | 1.000000000  | \n",
       "| SAMD11_3 | 0.000387331  | 0.4795206    | 0.01429911   | 0.02936747   | 0.0014961208 | 1            | 0.015841881  | \n",
       "| NOC2L_4 | 0.1934535    | 0.8726655    | 0.0403188    | 0.04593373   | 0.2535538133 | 1            | 1.000000000  | \n",
       "| KLHL17_5 | 0.2498725    | 0.8278814    | 0.01312705   | 0.01581325   | 0.3080746607 | 1            | 1.000000000  | \n",
       "| PLEKHN1_6 | 0.000104741  | 0.4397100    | 0.01312705   | 0.02936747   | 0.0004890037 | 1            | 0.005177883  | \n",
       "\n",
       "\n"
      ],
      "text/plain": [
       "          pval         odds      type1_frac  type2_frac FDR         \n",
       "SAMD11_1  0.0008038729 0.5408936 0.01945617  0.03539157 0.0027715079\n",
       "SAMD11_2  0.102674     0.6931602 0.008907642 0.0128012  0.1551145157\n",
       "SAMD11_3  0.000387331  0.4795206 0.01429911  0.02936747 0.0014961208\n",
       "NOC2L_4   0.1934535    0.8726655 0.0403188   0.04593373 0.2535538133\n",
       "KLHL17_5  0.2498725    0.8278814 0.01312705  0.01581325 0.3080746607\n",
       "PLEKHN1_6 0.000104741  0.4397100 0.01312705  0.02936747 0.0004890037\n",
       "          padj.Bonferroni FDR.BY     \n",
       "SAMD11_1  1               0.029346494\n",
       "SAMD11_2  1               1.000000000\n",
       "SAMD11_3  1               0.015841881\n",
       "NOC2L_4   1               1.000000000\n",
       "KLHL17_5  1               1.000000000\n",
       "PLEKHN1_6 1               0.005177883"
      ]
     },
     "metadata": {},
     "output_type": "display_data"
    },
    {
     "data": {
      "text/html": [
       "<table>\n",
       "<thead><tr><th></th><th scope=col>pval</th><th scope=col>odds</th><th scope=col>type1_frac</th><th scope=col>type2_frac</th><th scope=col>FDR</th><th scope=col>padj.Bonferroni</th><th scope=col>FDR.BY</th></tr></thead>\n",
       "<tbody>\n",
       "\t<tr><th scope=row>SAMD11_1</th><td>0.4757446   </td><td>1.0128525   </td><td>0.0413413   </td><td>0.04083807  </td><td>4.913540e-01</td><td>1.000000e+00</td><td>1.000000e+00</td></tr>\n",
       "\t<tr><th scope=row>SAMD11_2</th><td>0.01671483  </td><td>1.8056728   </td><td>0.01148369  </td><td>0.006392045 </td><td>4.398008e-02</td><td>1.000000e+00</td><td>4.658901e-01</td></tr>\n",
       "\t<tr><th scope=row>SAMD11_3</th><td>0.002476792 </td><td>1.4091523   </td><td>0.05029858  </td><td>0.03622159  </td><td>1.038851e-02</td><td>1.000000e+00</td><td>1.100476e-01</td></tr>\n",
       "\t<tr><th scope=row>SAMD11_4</th><td>9.622286e-08</td><td>1.4537397   </td><td>0.1566376   </td><td>0.1132812   </td><td>3.228731e-06</td><td>2.153564e-03</td><td>3.420262e-05</td></tr>\n",
       "\t<tr><th scope=row>NOC2L_5</th><td>1.421091e-10</td><td>1.9488789   </td><td>0.07854846  </td><td>0.04190341  </td><td>1.314274e-08</td><td>3.180543e-06</td><td>1.392237e-07</td></tr>\n",
       "\t<tr><th scope=row>NOC2L_6</th><td>0.3060026   </td><td>0.9384924   </td><td>0.03674782  </td><td>0.0390625   </td><td>3.669637e-01</td><td>1.000000e+00</td><td>1.000000e+00</td></tr>\n",
       "</tbody>\n",
       "</table>\n"
      ],
      "text/latex": [
       "\\begin{tabular}{r|lllllll}\n",
       "  & pval & odds & type1\\_frac & type2\\_frac & FDR & padj.Bonferroni & FDR.BY\\\\\n",
       "\\hline\n",
       "\tSAMD11\\_1 & 0.4757446    & 1.0128525    & 0.0413413    & 0.04083807   & 4.913540e-01 & 1.000000e+00 & 1.000000e+00\\\\\n",
       "\tSAMD11\\_2 & 0.01671483   & 1.8056728    & 0.01148369   & 0.006392045  & 4.398008e-02 & 1.000000e+00 & 4.658901e-01\\\\\n",
       "\tSAMD11\\_3 & 0.002476792  & 1.4091523    & 0.05029858   & 0.03622159   & 1.038851e-02 & 1.000000e+00 & 1.100476e-01\\\\\n",
       "\tSAMD11\\_4 & 9.622286e-08 & 1.4537397    & 0.1566376    & 0.1132812    & 3.228731e-06 & 2.153564e-03 & 3.420262e-05\\\\\n",
       "\tNOC2L\\_5 & 1.421091e-10 & 1.9488789    & 0.07854846   & 0.04190341   & 1.314274e-08 & 3.180543e-06 & 1.392237e-07\\\\\n",
       "\tNOC2L\\_6 & 0.3060026    & 0.9384924    & 0.03674782   & 0.0390625    & 3.669637e-01 & 1.000000e+00 & 1.000000e+00\\\\\n",
       "\\end{tabular}\n"
      ],
      "text/markdown": [
       "\n",
       "| <!--/--> | pval | odds | type1_frac | type2_frac | FDR | padj.Bonferroni | FDR.BY | \n",
       "|---|---|---|---|---|---|\n",
       "| SAMD11_1 | 0.4757446    | 1.0128525    | 0.0413413    | 0.04083807   | 4.913540e-01 | 1.000000e+00 | 1.000000e+00 | \n",
       "| SAMD11_2 | 0.01671483   | 1.8056728    | 0.01148369   | 0.006392045  | 4.398008e-02 | 1.000000e+00 | 4.658901e-01 | \n",
       "| SAMD11_3 | 0.002476792  | 1.4091523    | 0.05029858   | 0.03622159   | 1.038851e-02 | 1.000000e+00 | 1.100476e-01 | \n",
       "| SAMD11_4 | 9.622286e-08 | 1.4537397    | 0.1566376    | 0.1132812    | 3.228731e-06 | 2.153564e-03 | 3.420262e-05 | \n",
       "| NOC2L_5 | 1.421091e-10 | 1.9488789    | 0.07854846   | 0.04190341   | 1.314274e-08 | 3.180543e-06 | 1.392237e-07 | \n",
       "| NOC2L_6 | 0.3060026    | 0.9384924    | 0.03674782   | 0.0390625    | 3.669637e-01 | 1.000000e+00 | 1.000000e+00 | \n",
       "\n",
       "\n"
      ],
      "text/plain": [
       "         pval         odds      type1_frac type2_frac  FDR         \n",
       "SAMD11_1 0.4757446    1.0128525 0.0413413  0.04083807  4.913540e-01\n",
       "SAMD11_2 0.01671483   1.8056728 0.01148369 0.006392045 4.398008e-02\n",
       "SAMD11_3 0.002476792  1.4091523 0.05029858 0.03622159  1.038851e-02\n",
       "SAMD11_4 9.622286e-08 1.4537397 0.1566376  0.1132812   3.228731e-06\n",
       "NOC2L_5  1.421091e-10 1.9488789 0.07854846 0.04190341  1.314274e-08\n",
       "NOC2L_6  0.3060026    0.9384924 0.03674782 0.0390625   3.669637e-01\n",
       "         padj.Bonferroni FDR.BY      \n",
       "SAMD11_1 1.000000e+00    1.000000e+00\n",
       "SAMD11_2 1.000000e+00    4.658901e-01\n",
       "SAMD11_3 1.000000e+00    1.100476e-01\n",
       "SAMD11_4 2.153564e-03    3.420262e-05\n",
       "NOC2L_5  3.180543e-06    1.392237e-07\n",
       "NOC2L_6  1.000000e+00    1.000000e+00"
      ]
     },
     "metadata": {},
     "output_type": "display_data"
    }
   ],
   "source": [
    "# adjust for p value \n",
    "m<- c(\"fdr\",\"bonferroni\",\"BY\");names(m)<-c(\"FDR\",\"padj.Bonferroni\",\"FDR.BY\")\n",
    "res.transcript_level.2 <- lapply(res.transcript_level,function(df){\n",
    "    res.genes_level.a.df <- as.data.frame(df)\n",
    "    for(i in 1:3){\n",
    "        res.genes_level.a.df[[names(m)[i]]] <- p.adjust(as.numeric(res.genes_level.a.df$pval),method = m[i])\n",
    "    }\n",
    "    res.genes_level.a.df$odds <- as.numeric(res.genes_level.a.df$odds)\n",
    "    res.genes_level.a.df\n",
    "})\n",
    "head(res.transcript_level$alpha)\n",
    "head(res.transcript_level.2$beta)"
   ]
  },
  {
   "cell_type": "code",
   "execution_count": 40,
   "metadata": {},
   "outputs": [],
   "source": [
    "res.transcript_level <- res.transcript_level.2\n",
    "saveRDS(res.transcript_level,\"../dat/1901/res.transcript_level.rds\")"
   ]
  }
 ],
 "metadata": {
  "kernelspec": {
   "display_name": "R",
   "language": "R",
   "name": "ir"
  },
  "language_info": {
   "codemirror_mode": "r",
   "file_extension": ".r",
   "mimetype": "text/x-r-source",
   "name": "R",
   "pygments_lexer": "r",
   "version": "3.5.1"
  }
 },
 "nbformat": 4,
 "nbformat_minor": 2
}
