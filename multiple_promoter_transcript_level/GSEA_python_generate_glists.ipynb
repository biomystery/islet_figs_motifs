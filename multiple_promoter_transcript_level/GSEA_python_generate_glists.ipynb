{
 "cells": [
  {
   "cell_type": "code",
   "execution_count": 2,
   "metadata": {},
   "outputs": [],
   "source": [
    "import pandas as pd\n",
    "import csv "
   ]
  },
  {
   "cell_type": "markdown",
   "metadata": {},
   "source": [
    "### alpha2 (recover)"
   ]
  },
  {
   "cell_type": "code",
   "execution_count": 2,
   "metadata": {},
   "outputs": [],
   "source": [
    "alpha2 = pd.read_csv('../dat/glists/alpha2.csv')"
   ]
  },
  {
   "cell_type": "code",
   "execution_count": 8,
   "metadata": {},
   "outputs": [],
   "source": [
    "with open('../dat/glists/gsea_all.gmt','a+') as f:\n",
    "    tsv_writer = csv.writer(f, delimiter='\\t')\n",
    "    x=alpha2['.'].tolist()\n",
    "    x.insert(0,'Alpha2')\n",
    "    x.insert(0,'Alpha2')\n",
    "    tsv_writer.writerow(x)"
   ]
  },
  {
   "cell_type": "markdown",
   "metadata": {},
   "source": [
    "### Patchseq"
   ]
  },
  {
   "cell_type": "code",
   "execution_count": 3,
   "metadata": {},
   "outputs": [],
   "source": [
    "patchseq_genes = pd.read_csv('../dat/1908/20190802_patchseq_genesets.csv',skiprows=[1])\n",
    "patchseq_genes_info= pd.read_csv('../dat/1908/20190802_patchseq_genesets.csv',nrows=1)\n",
    "\n",
    "with open('../dat/glists/gsea_all.gmt','a+') as f:\n",
    "    tsv_writer = csv.writer(f, delimiter='\\t')\n",
    "    for i in patchseq_genes.columns: #[~patchseq_genes.columns.str.startswith('T2D')]\n",
    "        x=patchseq_genes[i]\n",
    "        x=x[~pd.isnull(x)].tolist()\n",
    "        x.insert(0,patchseq_genes_info[i][0])\n",
    "        x.insert(0,i)\n",
    "        tsv_writer.writerow(x)"
   ]
  },
  {
   "cell_type": "markdown",
   "metadata": {},
   "source": [
    "### Arrogo et al. "
   ]
  },
  {
   "cell_type": "code",
   "execution_count": 4,
   "metadata": {},
   "outputs": [
    {
     "name": "stdout",
     "output_type": "stream",
     "text": [
      "Alpha-state 1 up\n",
      "3807\n",
      "Alpha-state 1 down\n",
      "828\n",
      "Alpha-state 2 up\n",
      "1111\n",
      "Alpha-state 2 down\n",
      "857\n",
      "Alpha-state 3 up\n",
      "694\n",
      "Alpha-state 3 down\n",
      "209\n",
      "Alpha-state 4 up\n",
      "1131\n",
      "Alpha-state 4 down\n",
      "4360\n",
      "Alpha-state 5 up\n",
      "746\n",
      "Alpha-state 5 down\n",
      "600\n",
      "Alpha-state 6 up\n",
      "774\n",
      "Alpha-state 6 down\n",
      "1492\n"
     ]
    }
   ],
   "source": [
    "from openpyxl import load_workbook\n",
    "wb = load_workbook(filename = '../dat/1908/Arrojo_e_Drigo_biorxiv.alpha_states.xlsx')\n",
    "\n",
    "with open('../dat/glists/gsea_all.gmt','a+') as f:\n",
    "    tsv_writer = csv.writer(f, delimiter='\\t')\n",
    "    for s in ['Alpha-state '+str(i) for i in range(1,7)]:\n",
    "        print(s+' up')\n",
    "        ws=wb[s]\n",
    "        df=pd.DataFrame(ws.values)\n",
    "        df2 = df[1:]\n",
    "        df2.columns=df.loc[0].tolist()\n",
    "        df2=df2.set_index('gene_name')\n",
    "        x=df2[df2.Z>5].index.tolist()\n",
    "        print(len(x))\n",
    "        x.insert(0,s+' up>5')\n",
    "        x.insert(0,s+' up>5')\n",
    "        tsv_writer.writerow(x)\n",
    "        \n",
    "        print(s+' down')\n",
    "        ws=wb[s]\n",
    "        df=pd.DataFrame(ws.values)\n",
    "        df2 = df[1:]\n",
    "        df2.columns=df.loc[0].tolist()\n",
    "        df2=df2.set_index('gene_name')\n",
    "        x=df2[df2.Z< -5].index.tolist()\n",
    "        print(len(x))\n",
    "        x.insert(0,s+' down<-5')\n",
    "        x.insert(0,s+' down<-5')\n",
    "        tsv_writer.writerow(x)"
   ]
  },
  {
   "cell_type": "code",
   "execution_count": 5,
   "metadata": {},
   "outputs": [
    {
     "name": "stdout",
     "output_type": "stream",
     "text": [
      "Beta-state1 genes up\n",
      "1870\n",
      "Beta-state1 genes down\n",
      "180\n",
      "Beta-state2 genes up\n",
      "670\n",
      "Beta-state2 genes down\n",
      "683\n",
      "Beta-state3 genes up\n",
      "221\n",
      "Beta-state3 genes down\n",
      "1877\n",
      "Beta-state4 genes up\n",
      "1083\n",
      "Beta-state4 genes down\n",
      "469\n"
     ]
    }
   ],
   "source": [
    "wb = load_workbook(filename = '../dat/1908/Arrojo_e_Drigo_biorxiv.beta_states.xlsx')\n",
    "\n",
    "with open('../dat/glists/gsea_all.gmt','a+') as f:\n",
    "    tsv_writer = csv.writer(f, delimiter='\\t')\n",
    "    for s in ['Beta-state{0} genes'.format(str(i)) for i in range(1,5)]:\n",
    "        print(s+' up')\n",
    "        ws=wb[s]\n",
    "        df=pd.DataFrame(ws.values)\n",
    "        df2 = df[1:]\n",
    "        df2.columns=df.loc[0].tolist()\n",
    "        df2=df2.set_index('gene_name')\n",
    "        cols=df2.columns\n",
    "        x=df2[df2[cols[1]]>5].index.tolist()\n",
    "        print(len(x))\n",
    "        x.insert(0,s+' up>5')\n",
    "        x.insert(0,s+ 'up>5')\n",
    "        tsv_writer.writerow(x)\n",
    "\n",
    "        print(s+' down')\n",
    "        ws=wb[s]\n",
    "        df=pd.DataFrame(ws.values)\n",
    "        df2 = df[1:]\n",
    "        df2.columns=df.loc[0].tolist()\n",
    "        df2=df2.set_index('gene_name')\n",
    "        cols=df2.columns\n",
    "        x=df2[df2[cols[1]]< -5].index.tolist()\n",
    "        print(len(x))\n",
    "        x.insert(0,s+' down<-5')\n",
    "        x.insert(0,s+ 'down<-5')\n",
    "        tsv_writer.writerow(x)"
   ]
  },
  {
   "cell_type": "code",
   "execution_count": null,
   "metadata": {},
   "outputs": [],
   "source": []
  }
 ],
 "metadata": {
  "kernelspec": {
   "display_name": "Python [conda env:root] *",
   "language": "python",
   "name": "conda-root-py"
  },
  "language_info": {
   "codemirror_mode": {
    "name": "ipython",
    "version": 3
   },
   "file_extension": ".py",
   "mimetype": "text/x-python",
   "name": "python",
   "nbconvert_exporter": "python",
   "pygments_lexer": "ipython3",
   "version": "3.7.1"
  }
 },
 "nbformat": 4,
 "nbformat_minor": 2
}
