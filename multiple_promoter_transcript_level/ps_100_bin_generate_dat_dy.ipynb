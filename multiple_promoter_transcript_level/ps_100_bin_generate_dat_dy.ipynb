{
 "cells": [
  {
   "cell_type": "code",
   "execution_count": 2,
   "metadata": {},
   "outputs": [],
   "source": [
    "require(data.table)\n",
    "require(tidyverse)"
   ]
  },
  {
   "cell_type": "markdown",
   "metadata": {},
   "source": [
    "## 1. Rationale\n",
    "\n",
    "* due to the sparseness, the ps is binned to 100 (can change) \n",
    "* then chisq test wheter the ratio of openning is dependent on bins "
   ]
  },
  {
   "cell_type": "markdown",
   "metadata": {},
   "source": [
    "##  2. load data"
   ]
  },
  {
   "cell_type": "code",
   "execution_count": 28,
   "metadata": {},
   "outputs": [
    {
     "data": {
      "text/html": [
       "<table>\n",
       "<thead><tr><th scope=col>gene_tr.idx</th><th scope=col>celltype</th><th scope=col>subtype</th><th scope=col>cell</th><th scope=col>ps</th></tr></thead>\n",
       "<tbody>\n",
       "\t<tr><td>SAMD11_7                                  </td><td>alpha                                     </td><td>1                                         </td><td>Islet1-fresh_AGACACCTAGGCAGAAGTAAGGAGCAGGA</td><td>5.643735                                  </td></tr>\n",
       "\t<tr><td>SAMD11_7                                  </td><td>alpha                                     </td><td>1                                         </td><td>Islet1-fresh_AGACACCTATGCGCAGCGTCTAATGGTTG</td><td>1.056578                                  </td></tr>\n",
       "\t<tr><td>SAMD11_7                                  </td><td>alpha                                     </td><td>2                                         </td><td>Islet1-fresh_AGACACCTCGAGGCTGAAGGCTATGGTTG</td><td>6.254863                                  </td></tr>\n",
       "\t<tr><td>SAMD11_7                                  </td><td>alpha                                     </td><td>2                                         </td><td>Islet1-fresh_AGACACCTCGTACTAGCTAAGCCTGTACT</td><td>6.508574                                  </td></tr>\n",
       "\t<tr><td>SAMD11_7                                  </td><td>alpha                                     </td><td>1                                         </td><td>Islet1-fresh_AGACACCTGGACTCCTTCGACTAGGGTTG</td><td>2.120670                                  </td></tr>\n",
       "\t<tr><td>SAMD11_7                                  </td><td>alpha                                     </td><td>2                                         </td><td>Islet1-fresh_AGACACCTGGAGCTACAAGGAGTAAGGCG</td><td>5.564368                                  </td></tr>\n",
       "</tbody>\n",
       "</table>\n"
      ],
      "text/latex": [
       "\\begin{tabular}{r|lllll}\n",
       " gene\\_tr.idx & celltype & subtype & cell & ps\\\\\n",
       "\\hline\n",
       "\t SAMD11\\_7                                   & alpha                                        & 1                                            & Islet1-fresh\\_AGACACCTAGGCAGAAGTAAGGAGCAGGA & 5.643735                                    \\\\\n",
       "\t SAMD11\\_7                                   & alpha                                        & 1                                            & Islet1-fresh\\_AGACACCTATGCGCAGCGTCTAATGGTTG & 1.056578                                    \\\\\n",
       "\t SAMD11\\_7                                   & alpha                                        & 2                                            & Islet1-fresh\\_AGACACCTCGAGGCTGAAGGCTATGGTTG & 6.254863                                    \\\\\n",
       "\t SAMD11\\_7                                   & alpha                                        & 2                                            & Islet1-fresh\\_AGACACCTCGTACTAGCTAAGCCTGTACT & 6.508574                                    \\\\\n",
       "\t SAMD11\\_7                                   & alpha                                        & 1                                            & Islet1-fresh\\_AGACACCTGGACTCCTTCGACTAGGGTTG & 2.120670                                    \\\\\n",
       "\t SAMD11\\_7                                   & alpha                                        & 2                                            & Islet1-fresh\\_AGACACCTGGAGCTACAAGGAGTAAGGCG & 5.564368                                    \\\\\n",
       "\\end{tabular}\n"
      ],
      "text/markdown": [
       "\n",
       "| gene_tr.idx | celltype | subtype | cell | ps |\n",
       "|---|---|---|---|---|\n",
       "| SAMD11_7                                   | alpha                                      | 1                                          | Islet1-fresh_AGACACCTAGGCAGAAGTAAGGAGCAGGA | 5.643735                                   |\n",
       "| SAMD11_7                                   | alpha                                      | 1                                          | Islet1-fresh_AGACACCTATGCGCAGCGTCTAATGGTTG | 1.056578                                   |\n",
       "| SAMD11_7                                   | alpha                                      | 2                                          | Islet1-fresh_AGACACCTCGAGGCTGAAGGCTATGGTTG | 6.254863                                   |\n",
       "| SAMD11_7                                   | alpha                                      | 2                                          | Islet1-fresh_AGACACCTCGTACTAGCTAAGCCTGTACT | 6.508574                                   |\n",
       "| SAMD11_7                                   | alpha                                      | 1                                          | Islet1-fresh_AGACACCTGGACTCCTTCGACTAGGGTTG | 2.120670                                   |\n",
       "| SAMD11_7                                   | alpha                                      | 2                                          | Islet1-fresh_AGACACCTGGAGCTACAAGGAGTAAGGCG | 5.564368                                   |\n",
       "\n"
      ],
      "text/plain": [
       "  gene_tr.idx celltype subtype cell                                      \n",
       "1 SAMD11_7    alpha    1       Islet1-fresh_AGACACCTAGGCAGAAGTAAGGAGCAGGA\n",
       "2 SAMD11_7    alpha    1       Islet1-fresh_AGACACCTATGCGCAGCGTCTAATGGTTG\n",
       "3 SAMD11_7    alpha    2       Islet1-fresh_AGACACCTCGAGGCTGAAGGCTATGGTTG\n",
       "4 SAMD11_7    alpha    2       Islet1-fresh_AGACACCTCGTACTAGCTAAGCCTGTACT\n",
       "5 SAMD11_7    alpha    1       Islet1-fresh_AGACACCTGGACTCCTTCGACTAGGGTTG\n",
       "6 SAMD11_7    alpha    2       Islet1-fresh_AGACACCTGGAGCTACAAGGAGTAAGGCG\n",
       "  ps      \n",
       "1 5.643735\n",
       "2 1.056578\n",
       "3 6.254863\n",
       "4 6.508574\n",
       "5 2.120670\n",
       "6 5.564368"
      ]
     },
     "metadata": {},
     "output_type": "display_data"
    },
    {
     "data": {
      "text/html": [
       "<table>\n",
       "<thead><tr><th scope=col>gene_tr.idx</th><th scope=col>celltype</th><th scope=col>subtype</th><th scope=col>cell</th><th scope=col>ps</th></tr></thead>\n",
       "<tbody>\n",
       "\t<tr><td>EIF1AY_133795                                </td><td>beta                                         </td><td>1                                            </td><td>Islet3-fresh_TCCGGAGAGGAGCTACTCGACTAGGTACTGAC</td><td> 3.157942                                    </td></tr>\n",
       "\t<tr><td>EIF1AY_133795                                </td><td>beta                                         </td><td>1                                            </td><td>Islet3-fresh_TCCGGAGAGTAGAGGACTAAGCCTGGCTCTGA</td><td> 4.901059                                    </td></tr>\n",
       "\t<tr><td>EIF1AY_133795                                </td><td>beta                                         </td><td>2                                            </td><td>Islet3-fresh_TCCGGAGATACGCTGCAAGGCTATGGTTGCGT</td><td>18.923257                                    </td></tr>\n",
       "\t<tr><td>EIF1AY_133795                                </td><td>beta                                         </td><td>1                                            </td><td>Islet3-fresh_TCCGGAGATAGGCATGTTCTAGCTATAGAGGC</td><td> 4.655220                                    </td></tr>\n",
       "\t<tr><td>EIF1AY_133795                                </td><td>beta                                         </td><td>2                                            </td><td>Islet3-fresh_TCCGGAGATCGACGTCCTCTCTATCAGGACGT</td><td>14.077267                                    </td></tr>\n",
       "\t<tr><td>EIF1AY_133795                                </td><td>beta                                         </td><td>1                                            </td><td>Islet3-fresh_TCCGGAGATCGACGTCCTCTCTATGGTTGCGT</td><td> 8.113267                                    </td></tr>\n",
       "</tbody>\n",
       "</table>\n"
      ],
      "text/latex": [
       "\\begin{tabular}{r|lllll}\n",
       " gene\\_tr.idx & celltype & subtype & cell & ps\\\\\n",
       "\\hline\n",
       "\t EIF1AY\\_133795                                 & beta                                            & 1                                               & Islet3-fresh\\_TCCGGAGAGGAGCTACTCGACTAGGTACTGAC &  3.157942                                      \\\\\n",
       "\t EIF1AY\\_133795                                 & beta                                            & 1                                               & Islet3-fresh\\_TCCGGAGAGTAGAGGACTAAGCCTGGCTCTGA &  4.901059                                      \\\\\n",
       "\t EIF1AY\\_133795                                 & beta                                            & 2                                               & Islet3-fresh\\_TCCGGAGATACGCTGCAAGGCTATGGTTGCGT & 18.923257                                      \\\\\n",
       "\t EIF1AY\\_133795                                 & beta                                            & 1                                               & Islet3-fresh\\_TCCGGAGATAGGCATGTTCTAGCTATAGAGGC &  4.655220                                      \\\\\n",
       "\t EIF1AY\\_133795                                 & beta                                            & 2                                               & Islet3-fresh\\_TCCGGAGATCGACGTCCTCTCTATCAGGACGT & 14.077267                                      \\\\\n",
       "\t EIF1AY\\_133795                                 & beta                                            & 1                                               & Islet3-fresh\\_TCCGGAGATCGACGTCCTCTCTATGGTTGCGT &  8.113267                                      \\\\\n",
       "\\end{tabular}\n"
      ],
      "text/markdown": [
       "\n",
       "| gene_tr.idx | celltype | subtype | cell | ps |\n",
       "|---|---|---|---|---|\n",
       "| EIF1AY_133795                                 | beta                                          | 1                                             | Islet3-fresh_TCCGGAGAGGAGCTACTCGACTAGGTACTGAC |  3.157942                                     |\n",
       "| EIF1AY_133795                                 | beta                                          | 1                                             | Islet3-fresh_TCCGGAGAGTAGAGGACTAAGCCTGGCTCTGA |  4.901059                                     |\n",
       "| EIF1AY_133795                                 | beta                                          | 2                                             | Islet3-fresh_TCCGGAGATACGCTGCAAGGCTATGGTTGCGT | 18.923257                                     |\n",
       "| EIF1AY_133795                                 | beta                                          | 1                                             | Islet3-fresh_TCCGGAGATAGGCATGTTCTAGCTATAGAGGC |  4.655220                                     |\n",
       "| EIF1AY_133795                                 | beta                                          | 2                                             | Islet3-fresh_TCCGGAGATCGACGTCCTCTCTATCAGGACGT | 14.077267                                     |\n",
       "| EIF1AY_133795                                 | beta                                          | 1                                             | Islet3-fresh_TCCGGAGATCGACGTCCTCTCTATGGTTGCGT |  8.113267                                     |\n",
       "\n"
      ],
      "text/plain": [
       "  gene_tr.idx   celltype subtype cell                                         \n",
       "1 EIF1AY_133795 beta     1       Islet3-fresh_TCCGGAGAGGAGCTACTCGACTAGGTACTGAC\n",
       "2 EIF1AY_133795 beta     1       Islet3-fresh_TCCGGAGAGTAGAGGACTAAGCCTGGCTCTGA\n",
       "3 EIF1AY_133795 beta     2       Islet3-fresh_TCCGGAGATACGCTGCAAGGCTATGGTTGCGT\n",
       "4 EIF1AY_133795 beta     1       Islet3-fresh_TCCGGAGATAGGCATGTTCTAGCTATAGAGGC\n",
       "5 EIF1AY_133795 beta     2       Islet3-fresh_TCCGGAGATCGACGTCCTCTCTATCAGGACGT\n",
       "6 EIF1AY_133795 beta     1       Islet3-fresh_TCCGGAGATCGACGTCCTCTCTATGGTTGCGT\n",
       "  ps       \n",
       "1  3.157942\n",
       "2  4.901059\n",
       "3 18.923257\n",
       "4  4.655220\n",
       "5 14.077267\n",
       "6  8.113267"
      ]
     },
     "metadata": {},
     "output_type": "display_data"
    },
    {
     "data": {
      "text/html": [
       "<ol class=list-inline>\n",
       "\t<li>19412387</li>\n",
       "\t<li>5</li>\n",
       "</ol>\n"
      ],
      "text/latex": [
       "\\begin{enumerate*}\n",
       "\\item 19412387\n",
       "\\item 5\n",
       "\\end{enumerate*}\n"
      ],
      "text/markdown": [
       "1. 19412387\n",
       "2. 5\n",
       "\n",
       "\n"
      ],
      "text/plain": [
       "[1] 19412387        5"
      ]
     },
     "metadata": {},
     "output_type": "display_data"
    }
   ],
   "source": [
    "dat.pro_ps<- fread(\"../dat/1901/alpha_beta.promoter.long_matrix_w_transcripts_ps.txt\")%>%\n",
    "    separate(cluster,into = c(\"celltype\",\"subtype\"))\n",
    "head(dat.pro_ps)\n",
    "tail(dat.pro_ps)\n",
    "dim(dat.pro_ps)"
   ]
  },
  {
   "cell_type": "markdown",
   "metadata": {},
   "source": [
    "### 2.1 bin data "
   ]
  },
  {
   "cell_type": "code",
   "execution_count": 29,
   "metadata": {},
   "outputs": [
    {
     "data": {
      "text/html": [
       "<dl>\n",
       "\t<dt>$alpha</dt>\n",
       "\t\t<dd><ol class=list-inline>\n",
       "\t<li>0</li>\n",
       "\t<li>6.74617593265917</li>\n",
       "</ol>\n",
       "</dd>\n",
       "\t<dt>$beta</dt>\n",
       "\t\t<dd><ol class=list-inline>\n",
       "\t<li>0</li>\n",
       "\t<li>20.2079032250925</li>\n",
       "</ol>\n",
       "</dd>\n",
       "</dl>\n"
      ],
      "text/latex": [
       "\\begin{description}\n",
       "\\item[\\$alpha] \\begin{enumerate*}\n",
       "\\item 0\n",
       "\\item 6.74617593265917\n",
       "\\end{enumerate*}\n",
       "\n",
       "\\item[\\$beta] \\begin{enumerate*}\n",
       "\\item 0\n",
       "\\item 20.2079032250925\n",
       "\\end{enumerate*}\n",
       "\n",
       "\\end{description}\n"
      ],
      "text/markdown": [
       "$alpha\n",
       ":   1. 0\n",
       "2. 6.74617593265917\n",
       "\n",
       "\n",
       "\n",
       "$beta\n",
       ":   1. 0\n",
       "2. 20.2079032250925\n",
       "\n",
       "\n",
       "\n",
       "\n",
       "\n"
      ],
      "text/plain": [
       "$alpha\n",
       "[1] 0.000000 6.746176\n",
       "\n",
       "$beta\n",
       "[1]  0.0000 20.2079\n"
      ]
     },
     "metadata": {},
     "output_type": "display_data"
    }
   ],
   "source": [
    "require(tidyverse)\n",
    "ps.range <- list()\n",
    "ps.range$alpha <- range((dat.pro_ps %>%filter(celltype ==\"alpha\"))$ps)\n",
    "ps.range$beta <- range((dat.pro_ps %>%filter(celltype==\"beta\"))$ps)\n",
    "ps.range"
   ]
  },
  {
   "cell_type": "code",
   "execution_count": 31,
   "metadata": {},
   "outputs": [
    {
     "name": "stdout",
     "output_type": "stream",
     "text": [
      "101 # bins:\n",
      "quantiles of alpha cell number per bin:\n"
     ]
    },
    {
     "data": {
      "text/html": [
       "<table>\n",
       "<thead><tr><th scope=col>0%</th><th scope=col>25%</th><th scope=col>50%</th><th scope=col>75%</th><th scope=col>100%</th></tr></thead>\n",
       "<tbody>\n",
       "\t<tr><td>1    </td><td>21   </td><td>41   </td><td>71.25</td><td>257  </td></tr>\n",
       "</tbody>\n",
       "</table>\n"
      ],
      "text/latex": [
       "\\begin{tabular}{lllll}\n",
       " 0\\% & 25\\% & 50\\% & 75\\% & 100\\%\\\\\n",
       "\\hline\n",
       "\t 1     & 21    & 41    & 71.25 & 257  \\\\\n",
       "\\end{tabular}\n"
      ],
      "text/markdown": [
       "\n",
       "| 0% | 25% | 50% | 75% | 100% |\n",
       "|---|---|---|---|---|\n",
       "| 1     | 21    | 41    | 71.25 | 257   |\n",
       "\n"
      ],
      "text/plain": [
       "     0% 25% 50% 75%   100%\n",
       "[1,] 1  21  41  71.25 257 "
      ]
     },
     "metadata": {},
     "output_type": "display_data"
    },
    {
     "name": "stdout",
     "output_type": "stream",
     "text": [
      "quantiles of beta cell number per bin:\n"
     ]
    },
    {
     "data": {
      "text/html": [
       "<table>\n",
       "<thead><tr><th scope=col>0%</th><th scope=col>25%</th><th scope=col>50%</th><th scope=col>75%</th><th scope=col>100%</th></tr></thead>\n",
       "<tbody>\n",
       "\t<tr><td>2    </td><td>18.75</td><td>33.5 </td><td>77   </td><td>655  </td></tr>\n",
       "</tbody>\n",
       "</table>\n"
      ],
      "text/latex": [
       "\\begin{tabular}{lllll}\n",
       " 0\\% & 25\\% & 50\\% & 75\\% & 100\\%\\\\\n",
       "\\hline\n",
       "\t 2     & 18.75 & 33.5  & 77    & 655  \\\\\n",
       "\\end{tabular}\n"
      ],
      "text/markdown": [
       "\n",
       "| 0% | 25% | 50% | 75% | 100% |\n",
       "|---|---|---|---|---|\n",
       "| 2     | 18.75 | 33.5  | 77    | 655   |\n",
       "\n"
      ],
      "text/plain": [
       "     0% 25%   50%  75% 100%\n",
       "[1,] 2  18.75 33.5 77  655 "
      ]
     },
     "metadata": {},
     "output_type": "display_data"
    }
   ],
   "source": [
    "N.bin<- 101\n",
    "ps.bks <- list()\n",
    "ps.bks$alpha <- seq(ps.range$alpha[1],ps.range$alpha[2],length.out = N.bin)\n",
    "ps.bks$beta <- seq(ps.range$beta[1],ps.range$beta[2],length.out = N.bin)\n",
    "\n",
    "dat.pro_ps <- rbind(\n",
    "    dat.pro_ps%>% \n",
    "    filter(celltype==\"alpha\")%>%\n",
    "    mutate(ps_bin =cut(ps,breaks = ps.bks$alpha,include.lowest = T)),\n",
    "    dat.pro_ps%>% \n",
    "    filter(celltype==\"beta\")%>%\n",
    "    mutate(ps_bin =cut(ps,breaks = ps.bks$beta,include.lowest = T))\n",
    ")\n",
    "\n",
    "ps.bin.dat.sum<- dat.pro_ps%>%\n",
    "select(-one_of(\"gene_tr.idx\",\"ps\"))%>%distinct()\n",
    "\n",
    "setDT(ps.bin.dat.sum)\n",
    "ps.bin.dat.sum<-ps.bin.dat.sum[, .(.N), by = .(ps_bin,celltype)]\n",
    "cat(paste(N.bin,\"# bins:\\n\"))\n",
    "cat(\"quantiles of alpha cell number per bin:\\n\")\n",
    "t(quantile((ps.bin.dat.sum%>%filter(celltype==\"alpha\"))$N))\n",
    "cat(\"quantiles of beta cell number per bin:\\n\")\n",
    "t(quantile((ps.bin.dat.sum%>%filter(celltype==\"beta\"))$N))"
   ]
  },
  {
   "cell_type": "code",
   "execution_count": 32,
   "metadata": {},
   "outputs": [
    {
     "data": {
      "text/html": [
       "<table>\n",
       "<thead><tr><th scope=col>celltype</th><th scope=col>tot</th></tr></thead>\n",
       "<tbody>\n",
       "\t<tr><td>alpha</td><td>5594 </td></tr>\n",
       "\t<tr><td>beta </td><td>7170 </td></tr>\n",
       "</tbody>\n",
       "</table>\n"
      ],
      "text/latex": [
       "\\begin{tabular}{r|ll}\n",
       " celltype & tot\\\\\n",
       "\\hline\n",
       "\t alpha & 5594 \\\\\n",
       "\t beta  & 7170 \\\\\n",
       "\\end{tabular}\n"
      ],
      "text/markdown": [
       "\n",
       "| celltype | tot |\n",
       "|---|---|\n",
       "| alpha | 5594  |\n",
       "| beta  | 7170  |\n",
       "\n"
      ],
      "text/plain": [
       "  celltype tot \n",
       "1 alpha    5594\n",
       "2 beta     7170"
      ]
     },
     "metadata": {},
     "output_type": "display_data"
    }
   ],
   "source": [
    "ps.bin.dat.sum%>%group_by(celltype)%>%summarise(tot=sum(N))"
   ]
  },
  {
   "cell_type": "markdown",
   "metadata": {},
   "source": [
    "## 3. filter on glist"
   ]
  },
  {
   "cell_type": "code",
   "execution_count": 14,
   "metadata": {},
   "outputs": [
    {
     "data": {
      "text/html": [
       "5865"
      ],
      "text/latex": [
       "5865"
      ],
      "text/markdown": [
       "5865"
      ],
      "text/plain": [
       "[1] 5865"
      ]
     },
     "metadata": {},
     "output_type": "display_data"
    },
    {
     "data": {
      "text/html": [
       "<dl>\n",
       "\t<dt>$alpha_tr</dt>\n",
       "\t\t<dd>5450</dd>\n",
       "\t<dt>$beta_tr</dt>\n",
       "\t\t<dd>947</dd>\n",
       "\t<dt>$alpha</dt>\n",
       "\t\t<dd>5172</dd>\n",
       "\t<dt>$beta</dt>\n",
       "\t\t<dd>918</dd>\n",
       "</dl>\n"
      ],
      "text/latex": [
       "\\begin{description}\n",
       "\\item[\\$alpha\\_tr] 5450\n",
       "\\item[\\$beta\\_tr] 947\n",
       "\\item[\\$alpha] 5172\n",
       "\\item[\\$beta] 918\n",
       "\\end{description}\n"
      ],
      "text/markdown": [
       "$alpha_tr\n",
       ":   5450\n",
       "$beta_tr\n",
       ":   947\n",
       "$alpha\n",
       ":   5172\n",
       "$beta\n",
       ":   918\n",
       "\n",
       "\n"
      ],
      "text/plain": [
       "$alpha_tr\n",
       "[1] 5450\n",
       "\n",
       "$beta_tr\n",
       "[1] 947\n",
       "\n",
       "$alpha\n",
       "[1] 5172\n",
       "\n",
       "$beta\n",
       "[1] 918\n"
      ]
     },
     "metadata": {},
     "output_type": "display_data"
    }
   ],
   "source": [
    "dy.glist<- readRDS('../dat/1901/dy.glist.Rds')\n",
    "all.tr <- unique(c(dy.glist$alpha_tr,dy.glist$beta_tr))\n",
    "length(all.tr)\n",
    "lapply(dy.glist,length)"
   ]
  },
  {
   "cell_type": "code",
   "execution_count": 33,
   "metadata": {},
   "outputs": [
    {
     "data": {
      "text/html": [
       "<ol class=list-inline>\n",
       "\t<li>19412387</li>\n",
       "\t<li>6</li>\n",
       "</ol>\n"
      ],
      "text/latex": [
       "\\begin{enumerate*}\n",
       "\\item 19412387\n",
       "\\item 6\n",
       "\\end{enumerate*}\n"
      ],
      "text/markdown": [
       "1. 19412387\n",
       "2. 6\n",
       "\n",
       "\n"
      ],
      "text/plain": [
       "[1] 19412387        6"
      ]
     },
     "metadata": {},
     "output_type": "display_data"
    },
    {
     "data": {
      "text/html": [
       "<ol class=list-inline>\n",
       "\t<li>4832505</li>\n",
       "\t<li>6</li>\n",
       "</ol>\n"
      ],
      "text/latex": [
       "\\begin{enumerate*}\n",
       "\\item 4832505\n",
       "\\item 6\n",
       "\\end{enumerate*}\n"
      ],
      "text/markdown": [
       "1. 4832505\n",
       "2. 6\n",
       "\n",
       "\n"
      ],
      "text/plain": [
       "[1] 4832505       6"
      ]
     },
     "metadata": {},
     "output_type": "display_data"
    }
   ],
   "source": [
    "#gene_tr.idx\tcluster\t\n",
    "dim(dat.pro_ps)\n",
    "dat.pro_ps.filtered <- rbind(\n",
    "    dat.pro_ps%>% filter(gene_tr.idx%in% dy.glist$alpha_tr,celltype==\"alpha\"),\n",
    "    dat.pro_ps%>% filter(gene_tr.idx%in% dy.glist$beta_tr,celltype==\"beta\")\n",
    ")\n",
    "dim(dat.pro_ps.filtered)"
   ]
  },
  {
   "cell_type": "markdown",
   "metadata": {},
   "source": [
    "## 4. Calc percent_open & smooth"
   ]
  },
  {
   "cell_type": "markdown",
   "metadata": {},
   "source": [
    "### 4.1 convert to percetage openning per bin"
   ]
  },
  {
   "cell_type": "code",
   "execution_count": 34,
   "metadata": {},
   "outputs": [
    {
     "data": {
      "text/html": [
       "<table>\n",
       "<thead><tr><th scope=col>gene_tr.idx</th><th scope=col>celltype</th><th scope=col>subtype</th><th scope=col>cell</th><th scope=col>ps</th><th scope=col>ps_bin</th></tr></thead>\n",
       "<tbody>\n",
       "\t<tr><td>HES4_34                                   </td><td>alpha                                     </td><td>1                                         </td><td>Islet1-fresh_AGACACCTATCTCAGGTCGACTAGTATAG</td><td>0.5915286                                 </td><td>(0.54,0.607]                              </td></tr>\n",
       "\t<tr><td>HES4_34                                   </td><td>alpha                                     </td><td>2                                         </td><td>Islet1-fresh_AGACACCTATGCGCAGCTCTCTATAGGCG</td><td>6.2034799                                 </td><td>(6.14,6.21]                               </td></tr>\n",
       "\t<tr><td>HES4_34                                   </td><td>alpha                                     </td><td>2                                         </td><td>Islet1-fresh_AGACACCTCGAGGCTGAAGGCTATGGTTG</td><td>6.2548629                                 </td><td>(6.21,6.27]                               </td></tr>\n",
       "\t<tr><td>HES4_34                                   </td><td>alpha                                     </td><td>2                                         </td><td>Islet1-fresh_AGACACCTCGAGGCTGGCGTAAGAGTACT</td><td>6.4780116                                 </td><td>(6.48,6.54]                               </td></tr>\n",
       "\t<tr><td>HES4_34                                   </td><td>alpha                                     </td><td>2                                         </td><td>Islet1-fresh_AGACACCTCGATCAGTAAGGAGTAATAGA</td><td>4.7205150                                 </td><td>(4.65,4.72]                               </td></tr>\n",
       "\t<tr><td>HES4_34                                   </td><td>alpha                                     </td><td>2                                         </td><td>Islet1-fresh_AGACACCTCGTACTAGCTAAGCCTGTACT</td><td>6.5085744                                 </td><td>(6.48,6.54]                               </td></tr>\n",
       "</tbody>\n",
       "</table>\n"
      ],
      "text/latex": [
       "\\begin{tabular}{r|llllll}\n",
       " gene\\_tr.idx & celltype & subtype & cell & ps & ps\\_bin\\\\\n",
       "\\hline\n",
       "\t HES4\\_34                                    & alpha                                        & 1                                            & Islet1-fresh\\_AGACACCTATCTCAGGTCGACTAGTATAG & 0.5915286                                    & (0.54,0.607{]}                              \\\\\n",
       "\t HES4\\_34                                    & alpha                                        & 2                                            & Islet1-fresh\\_AGACACCTATGCGCAGCTCTCTATAGGCG & 6.2034799                                    & (6.14,6.21{]}                               \\\\\n",
       "\t HES4\\_34                                    & alpha                                        & 2                                            & Islet1-fresh\\_AGACACCTCGAGGCTGAAGGCTATGGTTG & 6.2548629                                    & (6.21,6.27{]}                               \\\\\n",
       "\t HES4\\_34                                    & alpha                                        & 2                                            & Islet1-fresh\\_AGACACCTCGAGGCTGGCGTAAGAGTACT & 6.4780116                                    & (6.48,6.54{]}                               \\\\\n",
       "\t HES4\\_34                                    & alpha                                        & 2                                            & Islet1-fresh\\_AGACACCTCGATCAGTAAGGAGTAATAGA & 4.7205150                                    & (4.65,4.72{]}                               \\\\\n",
       "\t HES4\\_34                                    & alpha                                        & 2                                            & Islet1-fresh\\_AGACACCTCGTACTAGCTAAGCCTGTACT & 6.5085744                                    & (6.48,6.54{]}                               \\\\\n",
       "\\end{tabular}\n"
      ],
      "text/markdown": [
       "\n",
       "| gene_tr.idx | celltype | subtype | cell | ps | ps_bin |\n",
       "|---|---|---|---|---|---|\n",
       "| HES4_34                                    | alpha                                      | 1                                          | Islet1-fresh_AGACACCTATCTCAGGTCGACTAGTATAG | 0.5915286                                  | (0.54,0.607]                               |\n",
       "| HES4_34                                    | alpha                                      | 2                                          | Islet1-fresh_AGACACCTATGCGCAGCTCTCTATAGGCG | 6.2034799                                  | (6.14,6.21]                                |\n",
       "| HES4_34                                    | alpha                                      | 2                                          | Islet1-fresh_AGACACCTCGAGGCTGAAGGCTATGGTTG | 6.2548629                                  | (6.21,6.27]                                |\n",
       "| HES4_34                                    | alpha                                      | 2                                          | Islet1-fresh_AGACACCTCGAGGCTGGCGTAAGAGTACT | 6.4780116                                  | (6.48,6.54]                                |\n",
       "| HES4_34                                    | alpha                                      | 2                                          | Islet1-fresh_AGACACCTCGATCAGTAAGGAGTAATAGA | 4.7205150                                  | (4.65,4.72]                                |\n",
       "| HES4_34                                    | alpha                                      | 2                                          | Islet1-fresh_AGACACCTCGTACTAGCTAAGCCTGTACT | 6.5085744                                  | (6.48,6.54]                                |\n",
       "\n"
      ],
      "text/plain": [
       "  gene_tr.idx celltype subtype cell                                      \n",
       "1 HES4_34     alpha    1       Islet1-fresh_AGACACCTATCTCAGGTCGACTAGTATAG\n",
       "2 HES4_34     alpha    2       Islet1-fresh_AGACACCTATGCGCAGCTCTCTATAGGCG\n",
       "3 HES4_34     alpha    2       Islet1-fresh_AGACACCTCGAGGCTGAAGGCTATGGTTG\n",
       "4 HES4_34     alpha    2       Islet1-fresh_AGACACCTCGAGGCTGGCGTAAGAGTACT\n",
       "5 HES4_34     alpha    2       Islet1-fresh_AGACACCTCGATCAGTAAGGAGTAATAGA\n",
       "6 HES4_34     alpha    2       Islet1-fresh_AGACACCTCGTACTAGCTAAGCCTGTACT\n",
       "  ps        ps_bin      \n",
       "1 0.5915286 (0.54,0.607]\n",
       "2 6.2034799 (6.14,6.21] \n",
       "3 6.2548629 (6.21,6.27] \n",
       "4 6.4780116 (6.48,6.54] \n",
       "5 4.7205150 (4.65,4.72] \n",
       "6 6.5085744 (6.48,6.54] "
      ]
     },
     "metadata": {},
     "output_type": "display_data"
    }
   ],
   "source": [
    "head(dat.pro_ps.filtered)"
   ]
  },
  {
   "cell_type": "code",
   "execution_count": 36,
   "metadata": {
    "scrolled": true
   },
   "outputs": [
    {
     "name": "stderr",
     "output_type": "stream",
     "text": [
      "Joining, by = c(\"celltype\", \"ps_bin\")\n"
     ]
    },
    {
     "data": {
      "text/html": [
       "<ol class=list-inline>\n",
       "\t<li>4832505</li>\n",
       "\t<li>7</li>\n",
       "</ol>\n"
      ],
      "text/latex": [
       "\\begin{enumerate*}\n",
       "\\item 4832505\n",
       "\\item 7\n",
       "\\end{enumerate*}\n"
      ],
      "text/markdown": [
       "1. 4832505\n",
       "2. 7\n",
       "\n",
       "\n"
      ],
      "text/plain": [
       "[1] 4832505       7"
      ]
     },
     "metadata": {},
     "output_type": "display_data"
    },
    {
     "data": {
      "text/html": [
       "<table>\n",
       "<thead><tr><th scope=col>gene_tr.idx</th><th scope=col>celltype</th><th scope=col>subtype</th><th scope=col>cell</th><th scope=col>ps</th><th scope=col>ps_bin</th><th scope=col>N</th></tr></thead>\n",
       "<tbody>\n",
       "\t<tr><td>AAAS_28691                                   </td><td>alpha                                        </td><td>1                                            </td><td>Islet2-fresh_AGATCTTCATGCGCAGAGGAGTAAGGC     </td><td>0.2992474                                    </td><td>(0.27,0.337]                                 </td><td>34                                           </td></tr>\n",
       "\t<tr><td>AAAS_28691                                   </td><td>alpha                                        </td><td>1                                            </td><td>Islet2-fresh_CAGTTGCACCTAAGACGTCTAATCTGA     </td><td>0.2918434                                    </td><td>(0.27,0.337]                                 </td><td>34                                           </td></tr>\n",
       "\t<tr><td>AAAS_28691                                   </td><td>alpha                                        </td><td>1                                            </td><td>Islet2-fresh_ACATTGGCTCGACGTCTAAGCCTTCCT     </td><td>0.3450805                                    </td><td>(0.337,0.405]                                </td><td>66                                           </td></tr>\n",
       "\t<tr><td>AAAS_28691                                   </td><td>alpha                                        </td><td>1                                            </td><td>Islet2-fresh_ACATTGGCTGCAGCTACTAGAGTTGAC     </td><td>0.3460007                                    </td><td>(0.337,0.405]                                </td><td>66                                           </td></tr>\n",
       "\t<tr><td>AAAS_28691                                   </td><td>alpha                                        </td><td>1                                            </td><td>Islet2-fresh_GCTCTAAGACTCGCTACGTAAGATCCT     </td><td>0.4034265                                    </td><td>(0.337,0.405]                                </td><td>66                                           </td></tr>\n",
       "\t<tr><td>AAAS_28691                                   </td><td>alpha                                        </td><td>1                                            </td><td>Islet3-fresh_AGCGATAGATCTCAGGCTCTCTATTATAGCCT</td><td>0.3993824                                    </td><td>(0.337,0.405]                                </td><td>66                                           </td></tr>\n",
       "</tbody>\n",
       "</table>\n"
      ],
      "text/latex": [
       "\\begin{tabular}{r|lllllll}\n",
       " gene\\_tr.idx & celltype & subtype & cell & ps & ps\\_bin & N\\\\\n",
       "\\hline\n",
       "\t AAAS\\_28691                                    & alpha                                           & 1                                               & Islet2-fresh\\_AGATCTTCATGCGCAGAGGAGTAAGGC      & 0.2992474                                       & (0.27,0.337{]}                                  & 34                                             \\\\\n",
       "\t AAAS\\_28691                                    & alpha                                           & 1                                               & Islet2-fresh\\_CAGTTGCACCTAAGACGTCTAATCTGA      & 0.2918434                                       & (0.27,0.337{]}                                  & 34                                             \\\\\n",
       "\t AAAS\\_28691                                    & alpha                                           & 1                                               & Islet2-fresh\\_ACATTGGCTCGACGTCTAAGCCTTCCT      & 0.3450805                                       & (0.337,0.405{]}                                 & 66                                             \\\\\n",
       "\t AAAS\\_28691                                    & alpha                                           & 1                                               & Islet2-fresh\\_ACATTGGCTGCAGCTACTAGAGTTGAC      & 0.3460007                                       & (0.337,0.405{]}                                 & 66                                             \\\\\n",
       "\t AAAS\\_28691                                    & alpha                                           & 1                                               & Islet2-fresh\\_GCTCTAAGACTCGCTACGTAAGATCCT      & 0.4034265                                       & (0.337,0.405{]}                                 & 66                                             \\\\\n",
       "\t AAAS\\_28691                                    & alpha                                           & 1                                               & Islet3-fresh\\_AGCGATAGATCTCAGGCTCTCTATTATAGCCT & 0.3993824                                       & (0.337,0.405{]}                                 & 66                                             \\\\\n",
       "\\end{tabular}\n"
      ],
      "text/markdown": [
       "\n",
       "| gene_tr.idx | celltype | subtype | cell | ps | ps_bin | N |\n",
       "|---|---|---|---|---|---|---|\n",
       "| AAAS_28691                                    | alpha                                         | 1                                             | Islet2-fresh_AGATCTTCATGCGCAGAGGAGTAAGGC      | 0.2992474                                     | (0.27,0.337]                                  | 34                                            |\n",
       "| AAAS_28691                                    | alpha                                         | 1                                             | Islet2-fresh_CAGTTGCACCTAAGACGTCTAATCTGA      | 0.2918434                                     | (0.27,0.337]                                  | 34                                            |\n",
       "| AAAS_28691                                    | alpha                                         | 1                                             | Islet2-fresh_ACATTGGCTCGACGTCTAAGCCTTCCT      | 0.3450805                                     | (0.337,0.405]                                 | 66                                            |\n",
       "| AAAS_28691                                    | alpha                                         | 1                                             | Islet2-fresh_ACATTGGCTGCAGCTACTAGAGTTGAC      | 0.3460007                                     | (0.337,0.405]                                 | 66                                            |\n",
       "| AAAS_28691                                    | alpha                                         | 1                                             | Islet2-fresh_GCTCTAAGACTCGCTACGTAAGATCCT      | 0.4034265                                     | (0.337,0.405]                                 | 66                                            |\n",
       "| AAAS_28691                                    | alpha                                         | 1                                             | Islet3-fresh_AGCGATAGATCTCAGGCTCTCTATTATAGCCT | 0.3993824                                     | (0.337,0.405]                                 | 66                                            |\n",
       "\n"
      ],
      "text/plain": [
       "  gene_tr.idx celltype subtype cell                                         \n",
       "1 AAAS_28691  alpha    1       Islet2-fresh_AGATCTTCATGCGCAGAGGAGTAAGGC     \n",
       "2 AAAS_28691  alpha    1       Islet2-fresh_CAGTTGCACCTAAGACGTCTAATCTGA     \n",
       "3 AAAS_28691  alpha    1       Islet2-fresh_ACATTGGCTCGACGTCTAAGCCTTCCT     \n",
       "4 AAAS_28691  alpha    1       Islet2-fresh_ACATTGGCTGCAGCTACTAGAGTTGAC     \n",
       "5 AAAS_28691  alpha    1       Islet2-fresh_GCTCTAAGACTCGCTACGTAAGATCCT     \n",
       "6 AAAS_28691  alpha    1       Islet3-fresh_AGCGATAGATCTCAGGCTCTCTATTATAGCCT\n",
       "  ps        ps_bin        N \n",
       "1 0.2992474 (0.27,0.337]  34\n",
       "2 0.2918434 (0.27,0.337]  34\n",
       "3 0.3450805 (0.337,0.405] 66\n",
       "4 0.3460007 (0.337,0.405] 66\n",
       "5 0.4034265 (0.337,0.405] 66\n",
       "6 0.3993824 (0.337,0.405] 66"
      ]
     },
     "metadata": {},
     "output_type": "display_data"
    }
   ],
   "source": [
    "dat.pro_ps.long <- dat.pro_ps.filtered%>%\n",
    "    left_join(ps.bin.dat.sum)\n",
    "dim(dat.pro_ps.long)\n",
    "head(dat.pro_ps.long%>%arrange(gene_tr.idx,ps_bin))"
   ]
  },
  {
   "cell_type": "code",
   "execution_count": 37,
   "metadata": {},
   "outputs": [
    {
     "name": "stderr",
     "output_type": "stream",
     "text": [
      "Joining, by = c(\"celltype\", \"ps_bin\")\n"
     ]
    },
    {
     "data": {
      "text/html": [
       "<table>\n",
       "<thead><tr><th scope=col>gene_tr.idx</th><th scope=col>celltype</th><th scope=col>ps_bin</th><th scope=col>n</th><th scope=col>N</th><th scope=col>ps_bin.2</th><th scope=col>percent_open</th></tr></thead>\n",
       "<tbody>\n",
       "\t<tr><td>AAAS_28691   </td><td>alpha        </td><td>(0.27,0.337] </td><td> 2           </td><td> 34          </td><td> 5           </td><td> 5.882353    </td></tr>\n",
       "\t<tr><td>AAAS_28691   </td><td>alpha        </td><td>(0.337,0.405]</td><td> 6           </td><td> 66          </td><td> 6           </td><td> 9.090909    </td></tr>\n",
       "\t<tr><td>AAAS_28691   </td><td>alpha        </td><td>(0.405,0.472]</td><td>19           </td><td>172          </td><td> 7           </td><td>11.046512    </td></tr>\n",
       "\t<tr><td>AAAS_28691   </td><td>alpha        </td><td>(0.472,0.54] </td><td>25           </td><td>257          </td><td> 8           </td><td> 9.727626    </td></tr>\n",
       "\t<tr><td>AAAS_28691   </td><td>alpha        </td><td>(0.54,0.607] </td><td>28           </td><td>212          </td><td> 9           </td><td>13.207547    </td></tr>\n",
       "\t<tr><td>AAAS_28691   </td><td>alpha        </td><td>(0.607,0.675]</td><td>12           </td><td> 73          </td><td>10           </td><td>16.438356    </td></tr>\n",
       "</tbody>\n",
       "</table>\n"
      ],
      "text/latex": [
       "\\begin{tabular}{r|lllllll}\n",
       " gene\\_tr.idx & celltype & ps\\_bin & n & N & ps\\_bin.2 & percent\\_open\\\\\n",
       "\\hline\n",
       "\t AAAS\\_28691    & alpha           & (0.27,0.337{]}  &  2              &  34             &  5              &  5.882353      \\\\\n",
       "\t AAAS\\_28691    & alpha           & (0.337,0.405{]} &  6              &  66             &  6              &  9.090909      \\\\\n",
       "\t AAAS\\_28691    & alpha           & (0.405,0.472{]} & 19              & 172             &  7              & 11.046512      \\\\\n",
       "\t AAAS\\_28691    & alpha           & (0.472,0.54{]}  & 25              & 257             &  8              &  9.727626      \\\\\n",
       "\t AAAS\\_28691    & alpha           & (0.54,0.607{]}  & 28              & 212             &  9              & 13.207547      \\\\\n",
       "\t AAAS\\_28691    & alpha           & (0.607,0.675{]} & 12              &  73             & 10              & 16.438356      \\\\\n",
       "\\end{tabular}\n"
      ],
      "text/markdown": [
       "\n",
       "| gene_tr.idx | celltype | ps_bin | n | N | ps_bin.2 | percent_open |\n",
       "|---|---|---|---|---|---|---|\n",
       "| AAAS_28691    | alpha         | (0.27,0.337]  |  2            |  34           |  5            |  5.882353     |\n",
       "| AAAS_28691    | alpha         | (0.337,0.405] |  6            |  66           |  6            |  9.090909     |\n",
       "| AAAS_28691    | alpha         | (0.405,0.472] | 19            | 172           |  7            | 11.046512     |\n",
       "| AAAS_28691    | alpha         | (0.472,0.54]  | 25            | 257           |  8            |  9.727626     |\n",
       "| AAAS_28691    | alpha         | (0.54,0.607]  | 28            | 212           |  9            | 13.207547     |\n",
       "| AAAS_28691    | alpha         | (0.607,0.675] | 12            |  73           | 10            | 16.438356     |\n",
       "\n"
      ],
      "text/plain": [
       "  gene_tr.idx celltype ps_bin        n  N   ps_bin.2 percent_open\n",
       "1 AAAS_28691  alpha    (0.27,0.337]   2  34  5        5.882353   \n",
       "2 AAAS_28691  alpha    (0.337,0.405]  6  66  6        9.090909   \n",
       "3 AAAS_28691  alpha    (0.405,0.472] 19 172  7       11.046512   \n",
       "4 AAAS_28691  alpha    (0.472,0.54]  25 257  8        9.727626   \n",
       "5 AAAS_28691  alpha    (0.54,0.607]  28 212  9       13.207547   \n",
       "6 AAAS_28691  alpha    (0.607,0.675] 12  73 10       16.438356   "
      ]
     },
     "metadata": {},
     "output_type": "display_data"
    },
    {
     "data": {
      "text/html": [
       "<ol class=list-inline>\n",
       "\t<li>550825</li>\n",
       "\t<li>7</li>\n",
       "</ol>\n"
      ],
      "text/latex": [
       "\\begin{enumerate*}\n",
       "\\item 550825\n",
       "\\item 7\n",
       "\\end{enumerate*}\n"
      ],
      "text/markdown": [
       "1. 550825\n",
       "2. 7\n",
       "\n",
       "\n"
      ],
      "text/plain": [
       "[1] 550825      7"
      ]
     },
     "metadata": {},
     "output_type": "display_data"
    },
    {
     "data": {
      "text/html": [
       "<table>\n",
       "<thead><tr><th scope=col>gene_tr.idx</th><th scope=col>celltype</th><th scope=col>ps_bin</th><th scope=col>n</th><th scope=col>N</th><th scope=col>ps_bin.2</th><th scope=col>percent_open</th></tr></thead>\n",
       "<tbody>\n",
       "\t<tr><td>ABCB6_81071  </td><td>beta         </td><td>(0.202,0.404]</td><td> 1           </td><td>  6          </td><td>102          </td><td>16.666667    </td></tr>\n",
       "\t<tr><td>ABCB6_81071  </td><td>beta         </td><td>(0.404,0.606]</td><td> 1           </td><td> 15          </td><td>103          </td><td> 6.666667    </td></tr>\n",
       "\t<tr><td>ABCB6_81071  </td><td>beta         </td><td>(0.606,0.808]</td><td> 5           </td><td> 35          </td><td>104          </td><td>14.285714    </td></tr>\n",
       "\t<tr><td>ABCB6_81071  </td><td>beta         </td><td>(0.808,1.01] </td><td> 8           </td><td> 86          </td><td>105          </td><td> 9.302326    </td></tr>\n",
       "\t<tr><td>ABCB6_81071  </td><td>beta         </td><td>(1.01,1.21]  </td><td>15           </td><td>191          </td><td>106          </td><td> 7.853403    </td></tr>\n",
       "\t<tr><td>ABCB6_81071  </td><td>beta         </td><td>(1.21,1.41]  </td><td>21           </td><td>326          </td><td>107          </td><td> 6.441718    </td></tr>\n",
       "</tbody>\n",
       "</table>\n"
      ],
      "text/latex": [
       "\\begin{tabular}{r|lllllll}\n",
       " gene\\_tr.idx & celltype & ps\\_bin & n & N & ps\\_bin.2 & percent\\_open\\\\\n",
       "\\hline\n",
       "\t ABCB6\\_81071   & beta            & (0.202,0.404{]} &  1              &   6             & 102             & 16.666667      \\\\\n",
       "\t ABCB6\\_81071   & beta            & (0.404,0.606{]} &  1              &  15             & 103             &  6.666667      \\\\\n",
       "\t ABCB6\\_81071   & beta            & (0.606,0.808{]} &  5              &  35             & 104             & 14.285714      \\\\\n",
       "\t ABCB6\\_81071   & beta            & (0.808,1.01{]}  &  8              &  86             & 105             &  9.302326      \\\\\n",
       "\t ABCB6\\_81071   & beta            & (1.01,1.21{]}   & 15              & 191             & 106             &  7.853403      \\\\\n",
       "\t ABCB6\\_81071   & beta            & (1.21,1.41{]}   & 21              & 326             & 107             &  6.441718      \\\\\n",
       "\\end{tabular}\n"
      ],
      "text/markdown": [
       "\n",
       "| gene_tr.idx | celltype | ps_bin | n | N | ps_bin.2 | percent_open |\n",
       "|---|---|---|---|---|---|---|\n",
       "| ABCB6_81071   | beta          | (0.202,0.404] |  1            |   6           | 102           | 16.666667     |\n",
       "| ABCB6_81071   | beta          | (0.404,0.606] |  1            |  15           | 103           |  6.666667     |\n",
       "| ABCB6_81071   | beta          | (0.606,0.808] |  5            |  35           | 104           | 14.285714     |\n",
       "| ABCB6_81071   | beta          | (0.808,1.01]  |  8            |  86           | 105           |  9.302326     |\n",
       "| ABCB6_81071   | beta          | (1.01,1.21]   | 15            | 191           | 106           |  7.853403     |\n",
       "| ABCB6_81071   | beta          | (1.21,1.41]   | 21            | 326           | 107           |  6.441718     |\n",
       "\n"
      ],
      "text/plain": [
       "  gene_tr.idx celltype ps_bin        n  N   ps_bin.2 percent_open\n",
       "1 ABCB6_81071 beta     (0.202,0.404]  1   6 102      16.666667   \n",
       "2 ABCB6_81071 beta     (0.404,0.606]  1  15 103       6.666667   \n",
       "3 ABCB6_81071 beta     (0.606,0.808]  5  35 104      14.285714   \n",
       "4 ABCB6_81071 beta     (0.808,1.01]   8  86 105       9.302326   \n",
       "5 ABCB6_81071 beta     (1.01,1.21]   15 191 106       7.853403   \n",
       "6 ABCB6_81071 beta     (1.21,1.41]   21 326 107       6.441718   "
      ]
     },
     "metadata": {},
     "output_type": "display_data"
    }
   ],
   "source": [
    "dat.pro_ps.long <- dat.pro_ps.long%>% \n",
    "    group_by(gene_tr.idx,celltype,ps_bin)%>%summarise(n= n())%>%\n",
    "    left_join(ps.bin.dat.sum)%>%arrange(gene_tr.idx,ps_bin)%>%\n",
    "    mutate(ps_bin.2 = as.numeric(ps_bin))%>% \n",
    "    mutate(percent_open=n/N*100)\n",
    "head(dat.pro_ps.long)\n",
    "dim(dat.pro_ps.long)\n",
    "head(dat.pro_ps.long%>%filter(celltype==\"beta\"))"
   ]
  },
  {
   "cell_type": "code",
   "execution_count": 38,
   "metadata": {},
   "outputs": [
    {
     "data": {
      "text/html": [
       "<table>\n",
       "<thead><tr><th scope=col>gene_tr.idx</th><th scope=col>celltype</th><th scope=col>ps_bin</th><th scope=col>n</th><th scope=col>N</th><th scope=col>ps_bin.2</th><th scope=col>percent_open</th></tr></thead>\n",
       "<tbody>\n",
       "\t<tr><td>AAAS_28691   </td><td>alpha        </td><td>(0.27,0.337] </td><td> 2           </td><td> 34          </td><td> 5           </td><td> 5.882353    </td></tr>\n",
       "\t<tr><td>AAAS_28691   </td><td>alpha        </td><td>(0.337,0.405]</td><td> 6           </td><td> 66          </td><td> 6           </td><td> 9.090909    </td></tr>\n",
       "\t<tr><td>AAAS_28691   </td><td>alpha        </td><td>(0.405,0.472]</td><td>19           </td><td>172          </td><td> 7           </td><td>11.046512    </td></tr>\n",
       "\t<tr><td>AAAS_28691   </td><td>alpha        </td><td>(0.472,0.54] </td><td>25           </td><td>257          </td><td> 8           </td><td> 9.727626    </td></tr>\n",
       "\t<tr><td>AAAS_28691   </td><td>alpha        </td><td>(0.54,0.607] </td><td>28           </td><td>212          </td><td> 9           </td><td>13.207547    </td></tr>\n",
       "\t<tr><td>AAAS_28691   </td><td>alpha        </td><td>(0.607,0.675]</td><td>12           </td><td> 73          </td><td>10           </td><td>16.438356    </td></tr>\n",
       "</tbody>\n",
       "</table>\n"
      ],
      "text/latex": [
       "\\begin{tabular}{r|lllllll}\n",
       " gene\\_tr.idx & celltype & ps\\_bin & n & N & ps\\_bin.2 & percent\\_open\\\\\n",
       "\\hline\n",
       "\t AAAS\\_28691    & alpha           & (0.27,0.337{]}  &  2              &  34             &  5              &  5.882353      \\\\\n",
       "\t AAAS\\_28691    & alpha           & (0.337,0.405{]} &  6              &  66             &  6              &  9.090909      \\\\\n",
       "\t AAAS\\_28691    & alpha           & (0.405,0.472{]} & 19              & 172             &  7              & 11.046512      \\\\\n",
       "\t AAAS\\_28691    & alpha           & (0.472,0.54{]}  & 25              & 257             &  8              &  9.727626      \\\\\n",
       "\t AAAS\\_28691    & alpha           & (0.54,0.607{]}  & 28              & 212             &  9              & 13.207547      \\\\\n",
       "\t AAAS\\_28691    & alpha           & (0.607,0.675{]} & 12              &  73             & 10              & 16.438356      \\\\\n",
       "\\end{tabular}\n"
      ],
      "text/markdown": [
       "\n",
       "| gene_tr.idx | celltype | ps_bin | n | N | ps_bin.2 | percent_open |\n",
       "|---|---|---|---|---|---|---|\n",
       "| AAAS_28691    | alpha         | (0.27,0.337]  |  2            |  34           |  5            |  5.882353     |\n",
       "| AAAS_28691    | alpha         | (0.337,0.405] |  6            |  66           |  6            |  9.090909     |\n",
       "| AAAS_28691    | alpha         | (0.405,0.472] | 19            | 172           |  7            | 11.046512     |\n",
       "| AAAS_28691    | alpha         | (0.472,0.54]  | 25            | 257           |  8            |  9.727626     |\n",
       "| AAAS_28691    | alpha         | (0.54,0.607]  | 28            | 212           |  9            | 13.207547     |\n",
       "| AAAS_28691    | alpha         | (0.607,0.675] | 12            |  73           | 10            | 16.438356     |\n",
       "\n"
      ],
      "text/plain": [
       "  gene_tr.idx celltype ps_bin        n  N   ps_bin.2 percent_open\n",
       "1 AAAS_28691  alpha    (0.27,0.337]   2  34  5        5.882353   \n",
       "2 AAAS_28691  alpha    (0.337,0.405]  6  66  6        9.090909   \n",
       "3 AAAS_28691  alpha    (0.405,0.472] 19 172  7       11.046512   \n",
       "4 AAAS_28691  alpha    (0.472,0.54]  25 257  8        9.727626   \n",
       "5 AAAS_28691  alpha    (0.54,0.607]  28 212  9       13.207547   \n",
       "6 AAAS_28691  alpha    (0.607,0.675] 12  73 10       16.438356   "
      ]
     },
     "metadata": {},
     "output_type": "display_data"
    },
    {
     "data": {
      "text/html": [
       "<ol class=list-inline>\n",
       "\t<li>550825</li>\n",
       "\t<li>7</li>\n",
       "</ol>\n"
      ],
      "text/latex": [
       "\\begin{enumerate*}\n",
       "\\item 550825\n",
       "\\item 7\n",
       "\\end{enumerate*}\n"
      ],
      "text/markdown": [
       "1. 550825\n",
       "2. 7\n",
       "\n",
       "\n"
      ],
      "text/plain": [
       "[1] 550825      7"
      ]
     },
     "metadata": {},
     "output_type": "display_data"
    }
   ],
   "source": [
    "head(dat.pro_ps.long)\n",
    "dim(dat.pro_ps.long)"
   ]
  },
  {
   "cell_type": "code",
   "execution_count": 39,
   "metadata": {},
   "outputs": [
    {
     "data": {
      "text/html": [
       "<table>\n",
       "<thead><tr><th scope=col>gene_tr.idx</th><th scope=col>celltype</th><th scope=col>1</th><th scope=col>2</th><th scope=col>3</th><th scope=col>4</th><th scope=col>5</th><th scope=col>6</th><th scope=col>7</th><th scope=col>8</th><th scope=col>⋯</th><th scope=col>91</th><th scope=col>92</th><th scope=col>93</th><th scope=col>94</th><th scope=col>95</th><th scope=col>96</th><th scope=col>97</th><th scope=col>98</th><th scope=col>99</th><th scope=col>100</th></tr></thead>\n",
       "<tbody>\n",
       "\t<tr><td>AAAS_28691    </td><td>alpha         </td><td>0             </td><td>  0           </td><td>  0           </td><td> 0.00000      </td><td> 5.882353     </td><td> 9.090909     </td><td>11.04651      </td><td> 9.727626     </td><td>⋯             </td><td>11.51515      </td><td>12.66667      </td><td>16.82243      </td><td>21.25         </td><td>15.51724      </td><td>22.58065      </td><td>10.526316     </td><td> 0            </td><td>16.66667      </td><td>  0           </td></tr>\n",
       "\t<tr><td>AAED1_127544  </td><td>alpha         </td><td>0             </td><td>  0           </td><td>  0           </td><td> 0.00000      </td><td> 8.823529     </td><td>18.181818     </td><td>18.02326      </td><td>14.396887     </td><td>⋯             </td><td>16.96970      </td><td>22.66667      </td><td>23.36449      </td><td>26.25         </td><td>29.31034      </td><td>19.35484      </td><td>26.315789     </td><td>30            </td><td>33.33333      </td><td>  0           </td></tr>\n",
       "\t<tr><td>AAGAB_42733   </td><td>alpha         </td><td>0             </td><td>  0           </td><td>  0           </td><td> 0.00000      </td><td>17.647059     </td><td> 6.060606     </td><td>11.62791      </td><td>11.673152     </td><td>⋯             </td><td>20.60606      </td><td>19.33333      </td><td>18.69159      </td><td>20.00         </td><td>27.58621      </td><td>38.70968      </td><td>31.578947     </td><td>40            </td><td>33.33333      </td><td>  0           </td></tr>\n",
       "\t<tr><td>AAMDC_22628   </td><td>alpha         </td><td>0             </td><td>  0           </td><td>  0           </td><td>28.57143      </td><td>23.529412     </td><td>12.121212     </td><td>16.27907      </td><td>21.789883     </td><td>⋯             </td><td>26.66667      </td><td>33.33333      </td><td>28.03738      </td><td>41.25         </td><td>31.03448      </td><td>32.25806      </td><td>36.842105     </td><td>60            </td><td>50.00000      </td><td> 50           </td></tr>\n",
       "\t<tr><td>AAMP_80793    </td><td>alpha         </td><td>0             </td><td>100           </td><td>  0           </td><td>14.28571      </td><td>17.647059     </td><td>12.121212     </td><td>15.69767      </td><td>15.953307     </td><td>⋯             </td><td>17.57576      </td><td>22.66667      </td><td>21.49533      </td><td>40.00         </td><td>31.03448      </td><td>45.16129      </td><td> 5.263158     </td><td>30            </td><td>16.66667      </td><td>  0           </td></tr>\n",
       "\t<tr><td>AASDHPPT_23418</td><td>alpha         </td><td>0             </td><td>100           </td><td>100           </td><td>71.42857      </td><td>29.411765     </td><td>27.272727     </td><td>39.53488      </td><td>32.684825     </td><td>⋯             </td><td>32.72727      </td><td>33.33333      </td><td>36.44860      </td><td>40.00         </td><td>44.82759      </td><td>38.70968      </td><td>68.421053     </td><td>60            </td><td>66.66667      </td><td>100           </td></tr>\n",
       "</tbody>\n",
       "</table>\n"
      ],
      "text/latex": [
       "\\begin{tabular}{r|llllllllllllllllllllllllllllllllllllllllllllllllllllllllllllllllllllllllllllllllllllllllllllllllllllll}\n",
       " gene\\_tr.idx & celltype & 1 & 2 & 3 & 4 & 5 & 6 & 7 & 8 & ⋯ & 91 & 92 & 93 & 94 & 95 & 96 & 97 & 98 & 99 & 100\\\\\n",
       "\\hline\n",
       "\t AAAS\\_28691     & alpha            & 0                &   0              &   0              &  0.00000         &  5.882353        &  9.090909        & 11.04651         &  9.727626        & ⋯                & 11.51515         & 12.66667         & 16.82243         & 21.25            & 15.51724         & 22.58065         & 10.526316        &  0               & 16.66667         &   0             \\\\\n",
       "\t AAED1\\_127544   & alpha            & 0                &   0              &   0              &  0.00000         &  8.823529        & 18.181818        & 18.02326         & 14.396887        & ⋯                & 16.96970         & 22.66667         & 23.36449         & 26.25            & 29.31034         & 19.35484         & 26.315789        & 30               & 33.33333         &   0             \\\\\n",
       "\t AAGAB\\_42733    & alpha            & 0                &   0              &   0              &  0.00000         & 17.647059        &  6.060606        & 11.62791         & 11.673152        & ⋯                & 20.60606         & 19.33333         & 18.69159         & 20.00            & 27.58621         & 38.70968         & 31.578947        & 40               & 33.33333         &   0             \\\\\n",
       "\t AAMDC\\_22628    & alpha            & 0                &   0              &   0              & 28.57143         & 23.529412        & 12.121212        & 16.27907         & 21.789883        & ⋯                & 26.66667         & 33.33333         & 28.03738         & 41.25            & 31.03448         & 32.25806         & 36.842105        & 60               & 50.00000         &  50             \\\\\n",
       "\t AAMP\\_80793     & alpha            & 0                & 100              &   0              & 14.28571         & 17.647059        & 12.121212        & 15.69767         & 15.953307        & ⋯                & 17.57576         & 22.66667         & 21.49533         & 40.00            & 31.03448         & 45.16129         &  5.263158        & 30               & 16.66667         &   0             \\\\\n",
       "\t AASDHPPT\\_23418 & alpha            & 0                & 100              & 100              & 71.42857         & 29.411765        & 27.272727        & 39.53488         & 32.684825        & ⋯                & 32.72727         & 33.33333         & 36.44860         & 40.00            & 44.82759         & 38.70968         & 68.421053        & 60               & 66.66667         & 100             \\\\\n",
       "\\end{tabular}\n"
      ],
      "text/markdown": [
       "\n",
       "| gene_tr.idx | celltype | 1 | 2 | 3 | 4 | 5 | 6 | 7 | 8 | ⋯ | 91 | 92 | 93 | 94 | 95 | 96 | 97 | 98 | 99 | 100 |\n",
       "|---|---|---|---|---|---|---|---|---|---|---|---|---|---|---|---|---|---|---|---|---|\n",
       "| AAAS_28691     | alpha          | 0              |   0            |   0            |  0.00000       |  5.882353      |  9.090909      | 11.04651       |  9.727626      | ⋯              | 11.51515       | 12.66667       | 16.82243       | 21.25          | 15.51724       | 22.58065       | 10.526316      |  0             | 16.66667       |   0            |\n",
       "| AAED1_127544   | alpha          | 0              |   0            |   0            |  0.00000       |  8.823529      | 18.181818      | 18.02326       | 14.396887      | ⋯              | 16.96970       | 22.66667       | 23.36449       | 26.25          | 29.31034       | 19.35484       | 26.315789      | 30             | 33.33333       |   0            |\n",
       "| AAGAB_42733    | alpha          | 0              |   0            |   0            |  0.00000       | 17.647059      |  6.060606      | 11.62791       | 11.673152      | ⋯              | 20.60606       | 19.33333       | 18.69159       | 20.00          | 27.58621       | 38.70968       | 31.578947      | 40             | 33.33333       |   0            |\n",
       "| AAMDC_22628    | alpha          | 0              |   0            |   0            | 28.57143       | 23.529412      | 12.121212      | 16.27907       | 21.789883      | ⋯              | 26.66667       | 33.33333       | 28.03738       | 41.25          | 31.03448       | 32.25806       | 36.842105      | 60             | 50.00000       |  50            |\n",
       "| AAMP_80793     | alpha          | 0              | 100            |   0            | 14.28571       | 17.647059      | 12.121212      | 15.69767       | 15.953307      | ⋯              | 17.57576       | 22.66667       | 21.49533       | 40.00          | 31.03448       | 45.16129       |  5.263158      | 30             | 16.66667       |   0            |\n",
       "| AASDHPPT_23418 | alpha          | 0              | 100            | 100            | 71.42857       | 29.411765      | 27.272727      | 39.53488       | 32.684825      | ⋯              | 32.72727       | 33.33333       | 36.44860       | 40.00          | 44.82759       | 38.70968       | 68.421053      | 60             | 66.66667       | 100            |\n",
       "\n"
      ],
      "text/plain": [
       "  gene_tr.idx    celltype 1 2   3   4        5         6         7       \n",
       "1 AAAS_28691     alpha    0   0   0  0.00000  5.882353  9.090909 11.04651\n",
       "2 AAED1_127544   alpha    0   0   0  0.00000  8.823529 18.181818 18.02326\n",
       "3 AAGAB_42733    alpha    0   0   0  0.00000 17.647059  6.060606 11.62791\n",
       "4 AAMDC_22628    alpha    0   0   0 28.57143 23.529412 12.121212 16.27907\n",
       "5 AAMP_80793     alpha    0 100   0 14.28571 17.647059 12.121212 15.69767\n",
       "6 AASDHPPT_23418 alpha    0 100 100 71.42857 29.411765 27.272727 39.53488\n",
       "  8         ⋯ 91       92       93       94    95       96       97        98\n",
       "1  9.727626 ⋯ 11.51515 12.66667 16.82243 21.25 15.51724 22.58065 10.526316  0\n",
       "2 14.396887 ⋯ 16.96970 22.66667 23.36449 26.25 29.31034 19.35484 26.315789 30\n",
       "3 11.673152 ⋯ 20.60606 19.33333 18.69159 20.00 27.58621 38.70968 31.578947 40\n",
       "4 21.789883 ⋯ 26.66667 33.33333 28.03738 41.25 31.03448 32.25806 36.842105 60\n",
       "5 15.953307 ⋯ 17.57576 22.66667 21.49533 40.00 31.03448 45.16129  5.263158 30\n",
       "6 32.684825 ⋯ 32.72727 33.33333 36.44860 40.00 44.82759 38.70968 68.421053 60\n",
       "  99       100\n",
       "1 16.66667   0\n",
       "2 33.33333   0\n",
       "3 33.33333   0\n",
       "4 50.00000  50\n",
       "5 16.66667   0\n",
       "6 66.66667 100"
      ]
     },
     "metadata": {},
     "output_type": "display_data"
    },
    {
     "data": {
      "text/html": [
       "<table>\n",
       "<thead><tr><th scope=col>gene_tr.idx</th><th scope=col>celltype</th><th scope=col>1</th><th scope=col>2</th><th scope=col>3</th><th scope=col>4</th><th scope=col>5</th><th scope=col>6</th><th scope=col>7</th><th scope=col>8</th><th scope=col>⋯</th><th scope=col>91</th><th scope=col>92</th><th scope=col>93</th><th scope=col>94</th><th scope=col>95</th><th scope=col>96</th><th scope=col>97</th><th scope=col>98</th><th scope=col>99</th><th scope=col>100</th></tr></thead>\n",
       "<tbody>\n",
       "\t<tr><td>ZNF846_65570 </td><td>beta         </td><td>0            </td><td> 0           </td><td> 0.000000    </td><td> 2.857143    </td><td> 1.162791    </td><td> 1.570681    </td><td> 4.294479    </td><td> 3.249097    </td><td>⋯            </td><td>10.041841    </td><td> 8.5         </td><td>13.953488    </td><td> 9.638554    </td><td>12.068966    </td><td> 6.250       </td><td>18.181818    </td><td> 0           </td><td> 0           </td><td>40           </td></tr>\n",
       "\t<tr><td>ZP1_19678    </td><td>beta         </td><td>0            </td><td> 0           </td><td> 0.000000    </td><td> 2.857143    </td><td> 4.651163    </td><td> 7.329843    </td><td> 5.521472    </td><td> 4.873646    </td><td>⋯            </td><td> 2.092050    </td><td> 0.5         </td><td> 2.325581    </td><td> 1.204819    </td><td> 1.724138    </td><td> 0.000       </td><td> 0.000000    </td><td> 0           </td><td> 0           </td><td> 0           </td></tr>\n",
       "\t<tr><td>ZSCAN22_73416</td><td>beta         </td><td>0            </td><td> 0           </td><td> 0.000000    </td><td>11.428571    </td><td> 3.488372    </td><td> 4.188482    </td><td> 3.680982    </td><td> 3.971119    </td><td>⋯            </td><td>10.041841    </td><td>10.0         </td><td>16.279070    </td><td> 9.638554    </td><td> 5.172414    </td><td>12.500       </td><td>22.727273    </td><td>20           </td><td>20           </td><td> 0           </td></tr>\n",
       "\t<tr><td>ZSCAN32_46213</td><td>beta         </td><td>0            </td><td> 0           </td><td> 6.666667    </td><td> 5.714286    </td><td> 6.976744    </td><td> 7.853403    </td><td> 7.055215    </td><td> 9.205776    </td><td>⋯            </td><td>11.715481    </td><td>17.5         </td><td>13.953488    </td><td>15.662651    </td><td>12.068966    </td><td>12.500       </td><td>18.181818    </td><td> 0           </td><td>20           </td><td> 0           </td></tr>\n",
       "\t<tr><td>ZSWIM2_79591 </td><td>beta         </td><td>0            </td><td>50           </td><td>46.666667    </td><td>45.714286    </td><td>23.255814    </td><td>24.607330    </td><td>23.619632    </td><td>15.703971    </td><td>⋯            </td><td> 7.949791    </td><td>10.0         </td><td> 3.875969    </td><td> 6.024096    </td><td> 8.620690    </td><td> 3.125       </td><td> 9.090909    </td><td> 0           </td><td>20           </td><td> 0           </td></tr>\n",
       "\t<tr><td>ZSWIM5_3921  </td><td>beta         </td><td>0            </td><td> 0           </td><td> 0.000000    </td><td>11.428571    </td><td> 6.976744    </td><td> 9.947644    </td><td> 5.828221    </td><td> 7.761733    </td><td>⋯            </td><td>11.715481    </td><td>17.5         </td><td>20.155039    </td><td>25.301205    </td><td>13.793103    </td><td>18.750       </td><td> 4.545455    </td><td>10           </td><td>20           </td><td>20           </td></tr>\n",
       "</tbody>\n",
       "</table>\n"
      ],
      "text/latex": [
       "\\begin{tabular}{r|llllllllllllllllllllllllllllllllllllllllllllllllllllllllllllllllllllllllllllllllllllllllllllllllllllll}\n",
       " gene\\_tr.idx & celltype & 1 & 2 & 3 & 4 & 5 & 6 & 7 & 8 & ⋯ & 91 & 92 & 93 & 94 & 95 & 96 & 97 & 98 & 99 & 100\\\\\n",
       "\\hline\n",
       "\t ZNF846\\_65570  & beta            & 0               &  0              &  0.000000       &  2.857143       &  1.162791       &  1.570681       &  4.294479       &  3.249097       & ⋯               & 10.041841       &  8.5            & 13.953488       &  9.638554       & 12.068966       &  6.250          & 18.181818       &  0              &  0              & 40             \\\\\n",
       "\t ZP1\\_19678     & beta            & 0               &  0              &  0.000000       &  2.857143       &  4.651163       &  7.329843       &  5.521472       &  4.873646       & ⋯               &  2.092050       &  0.5            &  2.325581       &  1.204819       &  1.724138       &  0.000          &  0.000000       &  0              &  0              &  0             \\\\\n",
       "\t ZSCAN22\\_73416 & beta            & 0               &  0              &  0.000000       & 11.428571       &  3.488372       &  4.188482       &  3.680982       &  3.971119       & ⋯               & 10.041841       & 10.0            & 16.279070       &  9.638554       &  5.172414       & 12.500          & 22.727273       & 20              & 20              &  0             \\\\\n",
       "\t ZSCAN32\\_46213 & beta            & 0               &  0              &  6.666667       &  5.714286       &  6.976744       &  7.853403       &  7.055215       &  9.205776       & ⋯               & 11.715481       & 17.5            & 13.953488       & 15.662651       & 12.068966       & 12.500          & 18.181818       &  0              & 20              &  0             \\\\\n",
       "\t ZSWIM2\\_79591  & beta            & 0               & 50              & 46.666667       & 45.714286       & 23.255814       & 24.607330       & 23.619632       & 15.703971       & ⋯               &  7.949791       & 10.0            &  3.875969       &  6.024096       &  8.620690       &  3.125          &  9.090909       &  0              & 20              &  0             \\\\\n",
       "\t ZSWIM5\\_3921   & beta            & 0               &  0              &  0.000000       & 11.428571       &  6.976744       &  9.947644       &  5.828221       &  7.761733       & ⋯               & 11.715481       & 17.5            & 20.155039       & 25.301205       & 13.793103       & 18.750          &  4.545455       & 10              & 20              & 20             \\\\\n",
       "\\end{tabular}\n"
      ],
      "text/markdown": [
       "\n",
       "| gene_tr.idx | celltype | 1 | 2 | 3 | 4 | 5 | 6 | 7 | 8 | ⋯ | 91 | 92 | 93 | 94 | 95 | 96 | 97 | 98 | 99 | 100 |\n",
       "|---|---|---|---|---|---|---|---|---|---|---|---|---|---|---|---|---|---|---|---|---|\n",
       "| ZNF846_65570  | beta          | 0             |  0            |  0.000000     |  2.857143     |  1.162791     |  1.570681     |  4.294479     |  3.249097     | ⋯             | 10.041841     |  8.5          | 13.953488     |  9.638554     | 12.068966     |  6.250        | 18.181818     |  0            |  0            | 40            |\n",
       "| ZP1_19678     | beta          | 0             |  0            |  0.000000     |  2.857143     |  4.651163     |  7.329843     |  5.521472     |  4.873646     | ⋯             |  2.092050     |  0.5          |  2.325581     |  1.204819     |  1.724138     |  0.000        |  0.000000     |  0            |  0            |  0            |\n",
       "| ZSCAN22_73416 | beta          | 0             |  0            |  0.000000     | 11.428571     |  3.488372     |  4.188482     |  3.680982     |  3.971119     | ⋯             | 10.041841     | 10.0          | 16.279070     |  9.638554     |  5.172414     | 12.500        | 22.727273     | 20            | 20            |  0            |\n",
       "| ZSCAN32_46213 | beta          | 0             |  0            |  6.666667     |  5.714286     |  6.976744     |  7.853403     |  7.055215     |  9.205776     | ⋯             | 11.715481     | 17.5          | 13.953488     | 15.662651     | 12.068966     | 12.500        | 18.181818     |  0            | 20            |  0            |\n",
       "| ZSWIM2_79591  | beta          | 0             | 50            | 46.666667     | 45.714286     | 23.255814     | 24.607330     | 23.619632     | 15.703971     | ⋯             |  7.949791     | 10.0          |  3.875969     |  6.024096     |  8.620690     |  3.125        |  9.090909     |  0            | 20            |  0            |\n",
       "| ZSWIM5_3921   | beta          | 0             |  0            |  0.000000     | 11.428571     |  6.976744     |  9.947644     |  5.828221     |  7.761733     | ⋯             | 11.715481     | 17.5          | 20.155039     | 25.301205     | 13.793103     | 18.750        |  4.545455     | 10            | 20            | 20            |\n",
       "\n"
      ],
      "text/plain": [
       "  gene_tr.idx   celltype 1 2  3         4         5         6         7        \n",
       "1 ZNF846_65570  beta     0  0  0.000000  2.857143  1.162791  1.570681  4.294479\n",
       "2 ZP1_19678     beta     0  0  0.000000  2.857143  4.651163  7.329843  5.521472\n",
       "3 ZSCAN22_73416 beta     0  0  0.000000 11.428571  3.488372  4.188482  3.680982\n",
       "4 ZSCAN32_46213 beta     0  0  6.666667  5.714286  6.976744  7.853403  7.055215\n",
       "5 ZSWIM2_79591  beta     0 50 46.666667 45.714286 23.255814 24.607330 23.619632\n",
       "6 ZSWIM5_3921   beta     0  0  0.000000 11.428571  6.976744  9.947644  5.828221\n",
       "  8         ⋯ 91        92   93        94        95        96     97        98\n",
       "1  3.249097 ⋯ 10.041841  8.5 13.953488  9.638554 12.068966  6.250 18.181818  0\n",
       "2  4.873646 ⋯  2.092050  0.5  2.325581  1.204819  1.724138  0.000  0.000000  0\n",
       "3  3.971119 ⋯ 10.041841 10.0 16.279070  9.638554  5.172414 12.500 22.727273 20\n",
       "4  9.205776 ⋯ 11.715481 17.5 13.953488 15.662651 12.068966 12.500 18.181818  0\n",
       "5 15.703971 ⋯  7.949791 10.0  3.875969  6.024096  8.620690  3.125  9.090909  0\n",
       "6  7.761733 ⋯ 11.715481 17.5 20.155039 25.301205 13.793103 18.750  4.545455 10\n",
       "  99 100\n",
       "1  0 40 \n",
       "2  0  0 \n",
       "3 20  0 \n",
       "4 20  0 \n",
       "5 20  0 \n",
       "6 20 20 "
      ]
     },
     "metadata": {},
     "output_type": "display_data"
    },
    {
     "data": {
      "text/html": [
       "<ol class=list-inline>\n",
       "\t<li>6397</li>\n",
       "\t<li>102</li>\n",
       "</ol>\n"
      ],
      "text/latex": [
       "\\begin{enumerate*}\n",
       "\\item 6397\n",
       "\\item 102\n",
       "\\end{enumerate*}\n"
      ],
      "text/markdown": [
       "1. 6397\n",
       "2. 102\n",
       "\n",
       "\n"
      ],
      "text/plain": [
       "[1] 6397  102"
      ]
     },
     "metadata": {},
     "output_type": "display_data"
    }
   ],
   "source": [
    "dat.pro_ps.wide <- rbind(dat.pro_ps.long%>%\n",
    "    filter(celltype==\"alpha\")%>%\n",
    "    group_by(gene_tr.idx,celltype) %>%\n",
    "    select(-one_of(c(\"ps_bin\",\"n\",\"N\")))%>%\n",
    "    spread(key = ps_bin.2,value = percent_open,fill = 0),\n",
    "               dat.pro_ps.long%>%\n",
    "    filter(celltype==\"beta\")%>%\n",
    "    group_by(gene_tr.idx,celltype) %>%\n",
    "    select(-one_of(c(\"ps_bin\",\"n\",\"N\")))%>%\n",
    "    mutate(ps_bin.2=ps_bin.2-100)%>%\n",
    "    spread(key = ps_bin.2,value = percent_open,fill = 0))\n",
    "head(dat.pro_ps.wide)\n",
    "tail(dat.pro_ps.wide)\n",
    "dim(dat.pro_ps.wide)"
   ]
  },
  {
   "cell_type": "code",
   "execution_count": 40,
   "metadata": {},
   "outputs": [
    {
     "data": {
      "text/html": [
       "<table>\n",
       "<thead><tr><th scope=col>gene_tr.idx</th><th scope=col>celltype</th><th scope=col>bin</th><th scope=col>percent_open</th></tr></thead>\n",
       "<tbody>\n",
       "\t<tr><td>AAAS_28691    </td><td>alpha         </td><td>1             </td><td>0             </td></tr>\n",
       "\t<tr><td>AAED1_127544  </td><td>alpha         </td><td>1             </td><td>0             </td></tr>\n",
       "\t<tr><td>AAGAB_42733   </td><td>alpha         </td><td>1             </td><td>0             </td></tr>\n",
       "\t<tr><td>AAMDC_22628   </td><td>alpha         </td><td>1             </td><td>0             </td></tr>\n",
       "\t<tr><td>AAMP_80793    </td><td>alpha         </td><td>1             </td><td>0             </td></tr>\n",
       "\t<tr><td>AASDHPPT_23418</td><td>alpha         </td><td>1             </td><td>0             </td></tr>\n",
       "</tbody>\n",
       "</table>\n"
      ],
      "text/latex": [
       "\\begin{tabular}{r|llll}\n",
       " gene\\_tr.idx & celltype & bin & percent\\_open\\\\\n",
       "\\hline\n",
       "\t AAAS\\_28691     & alpha            & 1                & 0               \\\\\n",
       "\t AAED1\\_127544   & alpha            & 1                & 0               \\\\\n",
       "\t AAGAB\\_42733    & alpha            & 1                & 0               \\\\\n",
       "\t AAMDC\\_22628    & alpha            & 1                & 0               \\\\\n",
       "\t AAMP\\_80793     & alpha            & 1                & 0               \\\\\n",
       "\t AASDHPPT\\_23418 & alpha            & 1                & 0               \\\\\n",
       "\\end{tabular}\n"
      ],
      "text/markdown": [
       "\n",
       "| gene_tr.idx | celltype | bin | percent_open |\n",
       "|---|---|---|---|\n",
       "| AAAS_28691     | alpha          | 1              | 0              |\n",
       "| AAED1_127544   | alpha          | 1              | 0              |\n",
       "| AAGAB_42733    | alpha          | 1              | 0              |\n",
       "| AAMDC_22628    | alpha          | 1              | 0              |\n",
       "| AAMP_80793     | alpha          | 1              | 0              |\n",
       "| AASDHPPT_23418 | alpha          | 1              | 0              |\n",
       "\n"
      ],
      "text/plain": [
       "  gene_tr.idx    celltype bin percent_open\n",
       "1 AAAS_28691     alpha    1   0           \n",
       "2 AAED1_127544   alpha    1   0           \n",
       "3 AAGAB_42733    alpha    1   0           \n",
       "4 AAMDC_22628    alpha    1   0           \n",
       "5 AAMP_80793     alpha    1   0           \n",
       "6 AASDHPPT_23418 alpha    1   0           "
      ]
     },
     "metadata": {},
     "output_type": "display_data"
    },
    {
     "data": {
      "text/html": [
       "<table>\n",
       "<thead><tr><th scope=col>gene_tr.idx</th><th scope=col>celltype</th><th scope=col>bin</th><th scope=col>percent_open</th></tr></thead>\n",
       "<tbody>\n",
       "\t<tr><td>ZNF846_65570 </td><td>beta         </td><td>100          </td><td>40           </td></tr>\n",
       "\t<tr><td>ZP1_19678    </td><td>beta         </td><td>100          </td><td> 0           </td></tr>\n",
       "\t<tr><td>ZSCAN22_73416</td><td>beta         </td><td>100          </td><td> 0           </td></tr>\n",
       "\t<tr><td>ZSCAN32_46213</td><td>beta         </td><td>100          </td><td> 0           </td></tr>\n",
       "\t<tr><td>ZSWIM2_79591 </td><td>beta         </td><td>100          </td><td> 0           </td></tr>\n",
       "\t<tr><td>ZSWIM5_3921  </td><td>beta         </td><td>100          </td><td>20           </td></tr>\n",
       "</tbody>\n",
       "</table>\n"
      ],
      "text/latex": [
       "\\begin{tabular}{r|llll}\n",
       " gene\\_tr.idx & celltype & bin & percent\\_open\\\\\n",
       "\\hline\n",
       "\t ZNF846\\_65570  & beta            & 100             & 40             \\\\\n",
       "\t ZP1\\_19678     & beta            & 100             &  0             \\\\\n",
       "\t ZSCAN22\\_73416 & beta            & 100             &  0             \\\\\n",
       "\t ZSCAN32\\_46213 & beta            & 100             &  0             \\\\\n",
       "\t ZSWIM2\\_79591  & beta            & 100             &  0             \\\\\n",
       "\t ZSWIM5\\_3921   & beta            & 100             & 20             \\\\\n",
       "\\end{tabular}\n"
      ],
      "text/markdown": [
       "\n",
       "| gene_tr.idx | celltype | bin | percent_open |\n",
       "|---|---|---|---|\n",
       "| ZNF846_65570  | beta          | 100           | 40            |\n",
       "| ZP1_19678     | beta          | 100           |  0            |\n",
       "| ZSCAN22_73416 | beta          | 100           |  0            |\n",
       "| ZSCAN32_46213 | beta          | 100           |  0            |\n",
       "| ZSWIM2_79591  | beta          | 100           |  0            |\n",
       "| ZSWIM5_3921   | beta          | 100           | 20            |\n",
       "\n"
      ],
      "text/plain": [
       "  gene_tr.idx   celltype bin percent_open\n",
       "1 ZNF846_65570  beta     100 40          \n",
       "2 ZP1_19678     beta     100  0          \n",
       "3 ZSCAN22_73416 beta     100  0          \n",
       "4 ZSCAN32_46213 beta     100  0          \n",
       "5 ZSWIM2_79591  beta     100  0          \n",
       "6 ZSWIM5_3921   beta     100 20          "
      ]
     },
     "metadata": {},
     "output_type": "display_data"
    },
    {
     "data": {
      "text/html": [
       "<ol class=list-inline>\n",
       "\t<li>639700</li>\n",
       "\t<li>4</li>\n",
       "</ol>\n"
      ],
      "text/latex": [
       "\\begin{enumerate*}\n",
       "\\item 639700\n",
       "\\item 4\n",
       "\\end{enumerate*}\n"
      ],
      "text/markdown": [
       "1. 639700\n",
       "2. 4\n",
       "\n",
       "\n"
      ],
      "text/plain": [
       "[1] 639700      4"
      ]
     },
     "metadata": {},
     "output_type": "display_data"
    }
   ],
   "source": [
    "# wide to long again to fill \n",
    "\n",
    "dat.pro_ps.long <- dat.pro_ps.wide%>%gather(key = \"bin\",value = \"percent_open\",3:102)\n",
    "head(dat.pro_ps.long)\n",
    "tail(dat.pro_ps.long)\n",
    "dim(dat.pro_ps.long)"
   ]
  },
  {
   "cell_type": "markdown",
   "metadata": {},
   "source": [
    "### 4.2 data smooth"
   ]
  },
  {
   "cell_type": "code",
   "execution_count": 41,
   "metadata": {},
   "outputs": [
    {
     "name": "stderr",
     "output_type": "stream",
     "text": [
      "Loading required package: parallel\n"
     ]
    },
    {
     "data": {
      "text/plain": [
       "    user   system  elapsed \n",
       "1396.222   65.588  149.225 "
      ]
     },
     "metadata": {},
     "output_type": "display_data"
    }
   ],
   "source": [
    "require(parallel)\n",
    "dat.pro_ps.smooth <- list()\n",
    "system.time(\n",
    "    for(ct in c(\"alpha\",\"beta\")){\n",
    "    dat.sub <- subset(dat.pro_ps.long,celltype==ct)\n",
    "    all.tr <- unique(dat.sub$gene_tr.idx)\n",
    "    dat.pro_ps.smooth[[ct]] <- mclapply(all.tr,\n",
    "                           function(g){data.frame(bin=1:100,\n",
    "                                                  gene_tr.idx=g,\n",
    "                                                  percent_open=predict(loess(percent_open~bin, data=dat.sub%>%filter(gene_tr.idx==g))),\n",
    "                                                  celltype=ct)},mc.cores=12)\n",
    "})\n"
   ]
  },
  {
   "cell_type": "code",
   "execution_count": 46,
   "metadata": {},
   "outputs": [
    {
     "data": {
      "text/html": [
       "<table>\n",
       "<thead><tr><th scope=col>bin</th><th scope=col>gene_tr.idx</th><th scope=col>percent_open</th><th scope=col>celltype</th></tr></thead>\n",
       "<tbody>\n",
       "\t<tr><td>1         </td><td>AAAS_28691</td><td>4.931862  </td><td>alpha     </td></tr>\n",
       "\t<tr><td>2         </td><td>AAAS_28691</td><td>5.279896  </td><td>alpha     </td></tr>\n",
       "\t<tr><td>3         </td><td>AAAS_28691</td><td>5.615049  </td><td>alpha     </td></tr>\n",
       "\t<tr><td>4         </td><td>AAAS_28691</td><td>5.937014  </td><td>alpha     </td></tr>\n",
       "\t<tr><td>5         </td><td>AAAS_28691</td><td>6.245485  </td><td>alpha     </td></tr>\n",
       "\t<tr><td>6         </td><td>AAAS_28691</td><td>6.540155  </td><td>alpha     </td></tr>\n",
       "</tbody>\n",
       "</table>\n"
      ],
      "text/latex": [
       "\\begin{tabular}{r|llll}\n",
       " bin & gene\\_tr.idx & percent\\_open & celltype\\\\\n",
       "\\hline\n",
       "\t 1            & AAAS\\_28691 & 4.931862     & alpha       \\\\\n",
       "\t 2            & AAAS\\_28691 & 5.279896     & alpha       \\\\\n",
       "\t 3            & AAAS\\_28691 & 5.615049     & alpha       \\\\\n",
       "\t 4            & AAAS\\_28691 & 5.937014     & alpha       \\\\\n",
       "\t 5            & AAAS\\_28691 & 6.245485     & alpha       \\\\\n",
       "\t 6            & AAAS\\_28691 & 6.540155     & alpha       \\\\\n",
       "\\end{tabular}\n"
      ],
      "text/markdown": [
       "\n",
       "| bin | gene_tr.idx | percent_open | celltype |\n",
       "|---|---|---|---|\n",
       "| 1          | AAAS_28691 | 4.931862   | alpha      |\n",
       "| 2          | AAAS_28691 | 5.279896   | alpha      |\n",
       "| 3          | AAAS_28691 | 5.615049   | alpha      |\n",
       "| 4          | AAAS_28691 | 5.937014   | alpha      |\n",
       "| 5          | AAAS_28691 | 6.245485   | alpha      |\n",
       "| 6          | AAAS_28691 | 6.540155   | alpha      |\n",
       "\n"
      ],
      "text/plain": [
       "  bin gene_tr.idx percent_open celltype\n",
       "1 1   AAAS_28691  4.931862     alpha   \n",
       "2 2   AAAS_28691  5.279896     alpha   \n",
       "3 3   AAAS_28691  5.615049     alpha   \n",
       "4 4   AAAS_28691  5.937014     alpha   \n",
       "5 5   AAAS_28691  6.245485     alpha   \n",
       "6 6   AAAS_28691  6.540155     alpha   "
      ]
     },
     "metadata": {},
     "output_type": "display_data"
    },
    {
     "data": {
      "text/html": [
       "<ol class=list-inline>\n",
       "\t<li>639700</li>\n",
       "\t<li>4</li>\n",
       "</ol>\n"
      ],
      "text/latex": [
       "\\begin{enumerate*}\n",
       "\\item 639700\n",
       "\\item 4\n",
       "\\end{enumerate*}\n"
      ],
      "text/markdown": [
       "1. 639700\n",
       "2. 4\n",
       "\n",
       "\n"
      ],
      "text/plain": [
       "[1] 639700      4"
      ]
     },
     "metadata": {},
     "output_type": "display_data"
    }
   ],
   "source": [
    "#dat.pro_ps.smooth<- rbind(do.call(rbind,dat.pro_ps.smooth$alpha),\n",
    "#     do.call(rbind,dat.pro_ps.smooth$beta))\n",
    "head(dat.pro_ps.smooth)\n",
    "dim(dat.pro_ps.smooth)"
   ]
  },
  {
   "cell_type": "code",
   "execution_count": 47,
   "metadata": {},
   "outputs": [],
   "source": [
    "fwrite(dat.pro_ps.smooth,file = \"../dat/1901/alpha_beta.promoter.long_100bin_transcripts_ps_smoothed_dy.txt\")\n",
    "fwrite(dat.pro_ps.long,file = \"../dat/1901/alpha_beta.promoter.long_100bin_transcripts_ps_raw_dy.txt\")"
   ]
  },
  {
   "cell_type": "code",
   "execution_count": 1,
   "metadata": {},
   "outputs": [],
   "source": [
    "?chisq.test"
   ]
  },
  {
   "cell_type": "code",
   "execution_count": null,
   "metadata": {},
   "outputs": [],
   "source": []
  }
 ],
 "metadata": {
  "kernelspec": {
   "display_name": "R",
   "language": "R",
   "name": "ir"
  },
  "language_info": {
   "codemirror_mode": "r",
   "file_extension": ".r",
   "mimetype": "text/x-r-source",
   "name": "R",
   "pygments_lexer": "r",
   "version": "3.5.1"
  }
 },
 "nbformat": 4,
 "nbformat_minor": 2
}
