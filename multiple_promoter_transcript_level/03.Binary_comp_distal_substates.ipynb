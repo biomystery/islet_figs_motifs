{
 "cells": [
  {
   "cell_type": "code",
   "execution_count": 3,
   "metadata": {},
   "outputs": [],
   "source": [
    "require(data.table)\n",
    "require(tidyverse)"
   ]
  },
  {
   "cell_type": "markdown",
   "metadata": {
    "heading_collapsed": true
   },
   "source": [
    "## 1. Read data "
   ]
  },
  {
   "cell_type": "code",
   "execution_count": 3,
   "metadata": {
    "hidden": true
   },
   "outputs": [
    {
     "data": {
      "text/html": [
       "<ol class=list-inline>\n",
       "\t<li>24864376</li>\n",
       "\t<li>7</li>\n",
       "</ol>\n"
      ],
      "text/latex": [
       "\\begin{enumerate*}\n",
       "\\item 24864376\n",
       "\\item 7\n",
       "\\end{enumerate*}\n"
      ],
      "text/markdown": [
       "1. 24864376\n",
       "2. 7\n",
       "\n",
       "\n"
      ],
      "text/plain": [
       "[1] 24864376        7"
      ]
     },
     "metadata": {},
     "output_type": "display_data"
    },
    {
     "data": {
      "text/html": [
       "<table>\n",
       "<caption>A data.frame: 6 × 7</caption>\n",
       "<thead>\n",
       "\t<tr><th scope=col>seq</th><th scope=col>start</th><th scope=col>end</th><th scope=col>cell</th><th scope=col>value</th><th scope=col>tr.idx</th><th scope=col>gene</th></tr>\n",
       "\t<tr><th scope=col>&lt;chr&gt;</th><th scope=col>&lt;int&gt;</th><th scope=col>&lt;int&gt;</th><th scope=col>&lt;chr&gt;</th><th scope=col>&lt;int&gt;</th><th scope=col>&lt;int&gt;</th><th scope=col>&lt;chr&gt;</th></tr>\n",
       "</thead>\n",
       "<tbody>\n",
       "\t<tr><td>chr10</td><td>100005281</td><td>100005858</td><td>Islet1fresh_AGACACCTCGATCAGTACTGCATAGGCTC</td><td>2</td><td>NA</td><td></td></tr>\n",
       "\t<tr><td>chr10</td><td>100005281</td><td>100005858</td><td>Islet1fresh_AGACACCTCTCTCTACGTAAGGAGAGGCG</td><td>2</td><td>NA</td><td></td></tr>\n",
       "\t<tr><td>chr10</td><td>100005281</td><td>100005858</td><td>Islet1fresh_AGACACCTCTCTCTACGTAAGGAGGGCTC</td><td>2</td><td>NA</td><td></td></tr>\n",
       "\t<tr><td>chr10</td><td>100005281</td><td>100005858</td><td>Islet1fresh_AGCGATAGTCCTGAGCTTATGCGAGTACT</td><td>1</td><td>NA</td><td></td></tr>\n",
       "\t<tr><td>chr10</td><td>100005281</td><td>100005858</td><td>Islet1fresh_ATTACTCGATCTCAGGAAGGAGTAGTACT</td><td>2</td><td>NA</td><td></td></tr>\n",
       "\t<tr><td>chr10</td><td>100005281</td><td>100005858</td><td>Islet1fresh_ATTACTCGCTCTGGTAGTAAGGAGCCTAT</td><td>1</td><td>NA</td><td></td></tr>\n",
       "</tbody>\n",
       "</table>\n"
      ],
      "text/latex": [
       "A data.frame: 6 × 7\n",
       "\\begin{tabular}{r|lllllll}\n",
       " seq & start & end & cell & value & tr.idx & gene\\\\\n",
       " <chr> & <int> & <int> & <chr> & <int> & <int> & <chr>\\\\\n",
       "\\hline\n",
       "\t chr10 & 100005281 & 100005858 & Islet1fresh\\_AGACACCTCGATCAGTACTGCATAGGCTC & 2 & NA & \\\\\n",
       "\t chr10 & 100005281 & 100005858 & Islet1fresh\\_AGACACCTCTCTCTACGTAAGGAGAGGCG & 2 & NA & \\\\\n",
       "\t chr10 & 100005281 & 100005858 & Islet1fresh\\_AGACACCTCTCTCTACGTAAGGAGGGCTC & 2 & NA & \\\\\n",
       "\t chr10 & 100005281 & 100005858 & Islet1fresh\\_AGCGATAGTCCTGAGCTTATGCGAGTACT & 1 & NA & \\\\\n",
       "\t chr10 & 100005281 & 100005858 & Islet1fresh\\_ATTACTCGATCTCAGGAAGGAGTAGTACT & 2 & NA & \\\\\n",
       "\t chr10 & 100005281 & 100005858 & Islet1fresh\\_ATTACTCGCTCTGGTAGTAAGGAGCCTAT & 1 & NA & \\\\\n",
       "\\end{tabular}\n"
      ],
      "text/markdown": [
       "\n",
       "A data.frame: 6 × 7\n",
       "\n",
       "| seq &lt;chr&gt; | start &lt;int&gt; | end &lt;int&gt; | cell &lt;chr&gt; | value &lt;int&gt; | tr.idx &lt;int&gt; | gene &lt;chr&gt; |\n",
       "|---|---|---|---|---|---|---|\n",
       "| chr10 | 100005281 | 100005858 | Islet1fresh_AGACACCTCGATCAGTACTGCATAGGCTC | 2 | NA | <!----> |\n",
       "| chr10 | 100005281 | 100005858 | Islet1fresh_AGACACCTCTCTCTACGTAAGGAGAGGCG | 2 | NA | <!----> |\n",
       "| chr10 | 100005281 | 100005858 | Islet1fresh_AGACACCTCTCTCTACGTAAGGAGGGCTC | 2 | NA | <!----> |\n",
       "| chr10 | 100005281 | 100005858 | Islet1fresh_AGCGATAGTCCTGAGCTTATGCGAGTACT | 1 | NA | <!----> |\n",
       "| chr10 | 100005281 | 100005858 | Islet1fresh_ATTACTCGATCTCAGGAAGGAGTAGTACT | 2 | NA | <!----> |\n",
       "| chr10 | 100005281 | 100005858 | Islet1fresh_ATTACTCGCTCTGGTAGTAAGGAGCCTAT | 1 | NA | <!----> |\n",
       "\n"
      ],
      "text/plain": [
       "  seq   start     end       cell                                      value\n",
       "1 chr10 100005281 100005858 Islet1fresh_AGACACCTCGATCAGTACTGCATAGGCTC 2    \n",
       "2 chr10 100005281 100005858 Islet1fresh_AGACACCTCTCTCTACGTAAGGAGAGGCG 2    \n",
       "3 chr10 100005281 100005858 Islet1fresh_AGACACCTCTCTCTACGTAAGGAGGGCTC 2    \n",
       "4 chr10 100005281 100005858 Islet1fresh_AGCGATAGTCCTGAGCTTATGCGAGTACT 1    \n",
       "5 chr10 100005281 100005858 Islet1fresh_ATTACTCGATCTCAGGAAGGAGTAGTACT 2    \n",
       "6 chr10 100005281 100005858 Islet1fresh_ATTACTCGCTCTGGTAGTAAGGAGCCTAT 1    \n",
       "  tr.idx gene\n",
       "1 NA         \n",
       "2 NA         \n",
       "3 NA         \n",
       "4 NA         \n",
       "5 NA         \n",
       "6 NA         "
      ]
     },
     "metadata": {},
     "output_type": "display_data"
    }
   ],
   "source": [
    "dat.mat <- fread(\"gzcat ../dat/1910_v2//long_matrix_w_transcripts.txt.gz\") %>% filter(is.na(tr.idx))\n",
    "dim(dat.mat)\n",
    "head(dat.mat)\n"
   ]
  },
  {
   "cell_type": "markdown",
   "metadata": {
    "hidden": true
   },
   "source": [
    " Concepts: \n",
    "1. `promoter region`: -500bp + 500bp for all TSS in gencode \n",
    "2. `promoter Peaks`: peaks that overlap promoter region"
   ]
  },
  {
   "cell_type": "code",
   "execution_count": 4,
   "metadata": {
    "hidden": true
   },
   "outputs": [
    {
     "data": {
      "text/html": [
       "<ol class=list-inline>\n",
       "\t<li>24864376</li>\n",
       "\t<li>2</li>\n",
       "</ol>\n"
      ],
      "text/latex": [
       "\\begin{enumerate*}\n",
       "\\item 24864376\n",
       "\\item 2\n",
       "\\end{enumerate*}\n"
      ],
      "text/markdown": [
       "1. 24864376\n",
       "2. 2\n",
       "\n",
       "\n"
      ],
      "text/plain": [
       "[1] 24864376        2"
      ]
     },
     "metadata": {},
     "output_type": "display_data"
    }
   ],
   "source": [
    "dat.mat <- dat.mat %>% mutate(seq = sub(\"chr\", \"\", seq)) %>% mutate(distal_peak = paste0(seq, \n",
    "    \":\", start, \"-\", end)) %>% select(distal_peak, cell) %>% distinct()\n",
    "dim(dat.mat)"
   ]
  },
  {
   "cell_type": "code",
   "execution_count": 5,
   "metadata": {
    "hidden": true
   },
   "outputs": [
    {
     "data": {
      "text/html": [
       "<table>\n",
       "<caption>A data.frame: 1 × 2</caption>\n",
       "<thead>\n",
       "\t<tr><th scope=col>distal_peak</th><th scope=col>cell</th></tr>\n",
       "\t<tr><th scope=col>&lt;chr&gt;</th><th scope=col>&lt;chr&gt;</th></tr>\n",
       "</thead>\n",
       "<tbody>\n",
       "\t<tr><td>10:100005281-100005858</td><td>Islet1fresh_AGACACCTCGATCAGTACTGCATAGGCTC</td></tr>\n",
       "</tbody>\n",
       "</table>\n"
      ],
      "text/latex": [
       "A data.frame: 1 × 2\n",
       "\\begin{tabular}{r|ll}\n",
       " distal\\_peak & cell\\\\\n",
       " <chr> & <chr>\\\\\n",
       "\\hline\n",
       "\t 10:100005281-100005858 & Islet1fresh\\_AGACACCTCGATCAGTACTGCATAGGCTC\\\\\n",
       "\\end{tabular}\n"
      ],
      "text/markdown": [
       "\n",
       "A data.frame: 1 × 2\n",
       "\n",
       "| distal_peak &lt;chr&gt; | cell &lt;chr&gt; |\n",
       "|---|---|\n",
       "| 10:100005281-100005858 | Islet1fresh_AGACACCTCGATCAGTACTGCATAGGCTC |\n",
       "\n"
      ],
      "text/plain": [
       "  distal_peak            cell                                     \n",
       "1 10:100005281-100005858 Islet1fresh_AGACACCTCGATCAGTACTGCATAGGCTC"
      ]
     },
     "metadata": {},
     "output_type": "display_data"
    },
    {
     "data": {
      "text/html": [
       "<table>\n",
       "<caption>A data.frame: 1 × 3</caption>\n",
       "<thead>\n",
       "\t<tr><th scope=col>distal_peak</th><th scope=col>cell</th><th scope=col>cluster_name</th></tr>\n",
       "\t<tr><th scope=col>&lt;chr&gt;</th><th scope=col>&lt;chr&gt;</th><th scope=col>&lt;chr&gt;</th></tr>\n",
       "</thead>\n",
       "<tbody>\n",
       "\t<tr><td>10:100005281-100005858</td><td>Islet1fresh_AGACACCTCGATCAGTACTGCATAGGCTC</td><td>alpha_1</td></tr>\n",
       "</tbody>\n",
       "</table>\n"
      ],
      "text/latex": [
       "A data.frame: 1 × 3\n",
       "\\begin{tabular}{r|lll}\n",
       " distal\\_peak & cell & cluster\\_name\\\\\n",
       " <chr> & <chr> & <chr>\\\\\n",
       "\\hline\n",
       "\t 10:100005281-100005858 & Islet1fresh\\_AGACACCTCGATCAGTACTGCATAGGCTC & alpha\\_1\\\\\n",
       "\\end{tabular}\n"
      ],
      "text/markdown": [
       "\n",
       "A data.frame: 1 × 3\n",
       "\n",
       "| distal_peak &lt;chr&gt; | cell &lt;chr&gt; | cluster_name &lt;chr&gt; |\n",
       "|---|---|---|\n",
       "| 10:100005281-100005858 | Islet1fresh_AGACACCTCGATCAGTACTGCATAGGCTC | alpha_1 |\n",
       "\n"
      ],
      "text/plain": [
       "  distal_peak            cell                                      cluster_name\n",
       "1 10:100005281-100005858 Islet1fresh_AGACACCTCGATCAGTACTGCATAGGCTC alpha_1     "
      ]
     },
     "metadata": {},
     "output_type": "display_data"
    },
    {
     "data": {
      "text/html": [
       "<ol class=list-inline>\n",
       "\t<li>24864376</li>\n",
       "\t<li>3</li>\n",
       "</ol>\n"
      ],
      "text/latex": [
       "\\begin{enumerate*}\n",
       "\\item 24864376\n",
       "\\item 3\n",
       "\\end{enumerate*}\n"
      ],
      "text/markdown": [
       "1. 24864376\n",
       "2. 3\n",
       "\n",
       "\n"
      ],
      "text/plain": [
       "[1] 24864376        3"
      ]
     },
     "metadata": {},
     "output_type": "display_data"
    }
   ],
   "source": [
    "dat.mat %>% head(1)\n",
    "dat.mat <- dat.mat %>% left_join(fread(\"../dat/1910_v2/islet.cluster_labels.filt.txt\") %>% \n",
    "    select(index, cluster_name), by = c(cell = \"index\"))\n",
    "dat.mat %>% head(1)\n",
    "dat.mat %>% dim"
   ]
  },
  {
   "cell_type": "code",
   "execution_count": 6,
   "metadata": {
    "hidden": true
   },
   "outputs": [
    {
     "data": {
      "text/plain": [
       "\n",
       "     acinar     alpha_1     alpha_2      beta_1      beta_2     delta_1 \n",
       "         46        5191        1027        4204        3394         478 \n",
       "    delta_2      ductal endothelial       gamma      immune    stellate \n",
       "        232          80         118         260         140         128 "
      ]
     },
     "metadata": {},
     "output_type": "display_data"
    },
    {
     "data": {
      "text/html": [
       "15298"
      ],
      "text/latex": [
       "15298"
      ],
      "text/markdown": [
       "15298"
      ],
      "text/plain": [
       "[1] 15298"
      ]
     },
     "metadata": {},
     "output_type": "display_data"
    }
   ],
   "source": [
    "# get all cells \n",
    "dat.all.cells <- table((fread('../dat/1910_v2/islet.cluster_labels.filt.txt'))$cluster) # table for all cells\n",
    "dat.all.cells\n",
    "sum(dat.all.cells)\n"
   ]
  },
  {
   "cell_type": "code",
   "execution_count": 7,
   "metadata": {
    "hidden": true
   },
   "outputs": [
    {
     "data": {
      "text/html": [
       "<ol class=list-inline>\n",
       "\t<li>'acinar'</li>\n",
       "\t<li>'alpha'</li>\n",
       "\t<li>'alpha'</li>\n",
       "\t<li>'beta'</li>\n",
       "\t<li>'beta'</li>\n",
       "\t<li>'delta'</li>\n",
       "\t<li>'delta'</li>\n",
       "\t<li>'ductal'</li>\n",
       "\t<li>'endothelial'</li>\n",
       "\t<li>'gamma'</li>\n",
       "\t<li>'immune'</li>\n",
       "\t<li>'stellate'</li>\n",
       "</ol>\n"
      ],
      "text/latex": [
       "\\begin{enumerate*}\n",
       "\\item 'acinar'\n",
       "\\item 'alpha'\n",
       "\\item 'alpha'\n",
       "\\item 'beta'\n",
       "\\item 'beta'\n",
       "\\item 'delta'\n",
       "\\item 'delta'\n",
       "\\item 'ductal'\n",
       "\\item 'endothelial'\n",
       "\\item 'gamma'\n",
       "\\item 'immune'\n",
       "\\item 'stellate'\n",
       "\\end{enumerate*}\n"
      ],
      "text/markdown": [
       "1. 'acinar'\n",
       "2. 'alpha'\n",
       "3. 'alpha'\n",
       "4. 'beta'\n",
       "5. 'beta'\n",
       "6. 'delta'\n",
       "7. 'delta'\n",
       "8. 'ductal'\n",
       "9. 'endothelial'\n",
       "10. 'gamma'\n",
       "11. 'immune'\n",
       "12. 'stellate'\n",
       "\n",
       "\n"
      ],
      "text/plain": [
       " [1] \"acinar\"      \"alpha\"       \"alpha\"       \"beta\"        \"beta\"       \n",
       " [6] \"delta\"       \"delta\"       \"ductal\"      \"endothelial\" \"gamma\"      \n",
       "[11] \"immune\"      \"stellate\"   "
      ]
     },
     "metadata": {},
     "output_type": "display_data"
    }
   ],
   "source": [
    "sub('(_1)|(_2)','',names(dat.all.cells))"
   ]
  },
  {
   "cell_type": "code",
   "execution_count": 8,
   "metadata": {
    "hidden": true
   },
   "outputs": [
    {
     "data": {
      "text/html": [
       "15298"
      ],
      "text/latex": [
       "15298"
      ],
      "text/markdown": [
       "15298"
      ],
      "text/plain": [
       "[1] 15298"
      ]
     },
     "metadata": {},
     "output_type": "display_data"
    }
   ],
   "source": [
    "sum(dat.all.cells)"
   ]
  },
  {
   "cell_type": "code",
   "execution_count": 9,
   "metadata": {
    "hidden": true
   },
   "outputs": [
    {
     "data": {
      "text/html": [
       "209947"
      ],
      "text/latex": [
       "209947"
      ],
      "text/markdown": [
       "209947"
      ],
      "text/plain": [
       "[1] 209947"
      ]
     },
     "metadata": {},
     "output_type": "display_data"
    }
   ],
   "source": [
    "# how many peaks\n",
    "length(unique(dat.mat$distal_peak))"
   ]
  },
  {
   "cell_type": "code",
   "execution_count": 10,
   "metadata": {
    "hidden": true
   },
   "outputs": [],
   "source": [
    "dat.mat <- dat.mat%>%rename(cluster=cluster_name)"
   ]
  },
  {
   "cell_type": "markdown",
   "metadata": {
    "heading_collapsed": true
   },
   "source": [
    "## 2 Prepare data\n",
    "\n",
    "\n",
    "Peak|n_cells|celltype \n",
    "--- | --- | ---\n"
   ]
  },
  {
   "cell_type": "code",
   "execution_count": 11,
   "metadata": {
    "hidden": true,
    "scrolled": true
   },
   "outputs": [],
   "source": [
    "# prepare data\n",
    "setDT(dat.mat)\n",
    "dat.mat<- dat.mat[,.N,by=.(distal_peak,cluster)]%>%arrange(distal_peak,cluster)"
   ]
  },
  {
   "cell_type": "code",
   "execution_count": 12,
   "metadata": {
    "hidden": true,
    "scrolled": true
   },
   "outputs": [
    {
     "data": {
      "text/html": [
       "<table>\n",
       "<caption>A data.frame: 1 × 3</caption>\n",
       "<thead>\n",
       "\t<tr><th scope=col>distal_peak</th><th scope=col>cluster</th><th scope=col>N</th></tr>\n",
       "\t<tr><th scope=col>&lt;chr&gt;</th><th scope=col>&lt;chr&gt;</th><th scope=col>&lt;int&gt;</th></tr>\n",
       "</thead>\n",
       "<tbody>\n",
       "\t<tr><td>1:100009712-100010377</td><td>alpha_1</td><td>28</td></tr>\n",
       "</tbody>\n",
       "</table>\n"
      ],
      "text/latex": [
       "A data.frame: 1 × 3\n",
       "\\begin{tabular}{r|lll}\n",
       " distal\\_peak & cluster & N\\\\\n",
       " <chr> & <chr> & <int>\\\\\n",
       "\\hline\n",
       "\t 1:100009712-100010377 & alpha\\_1 & 28\\\\\n",
       "\\end{tabular}\n"
      ],
      "text/markdown": [
       "\n",
       "A data.frame: 1 × 3\n",
       "\n",
       "| distal_peak &lt;chr&gt; | cluster &lt;chr&gt; | N &lt;int&gt; |\n",
       "|---|---|---|\n",
       "| 1:100009712-100010377 | alpha_1 | 28 |\n",
       "\n"
      ],
      "text/plain": [
       "  distal_peak           cluster N \n",
       "1 1:100009712-100010377 alpha_1 28"
      ]
     },
     "metadata": {},
     "output_type": "display_data"
    }
   ],
   "source": [
    "head(dat.mat,1)"
   ]
  },
  {
   "cell_type": "markdown",
   "metadata": {},
   "source": [
    "## 3. Fisher's exact test  between subtypes\n",
    "\n",
    "As long as there is any  peaks in that cell, the peak is open in this cell. \n",
    "\n",
    "1. get total alpha 1 and alpha 2 cells \n",
    "2. test hit in alpha1 vs hit in alpha2  (create contentigen table)\n",
    "3. perform [Fisher's exact test](https://en.wikipedia.org/wiki/Fisher%27s_exact_test) or [chi-squared test](https://en.wikipedia.org/wiki/Chi-squared_test)\n",
    "\n",
    "Input: `dat.mat` and `dat.all.cells`\n",
    "output: \n",
    "\n",
    "peak|n_celltype1|n_celltype2|total_cells|celltype | pval | frac_1 | frac_2| odds\n"
   ]
  },
  {
   "cell_type": "markdown",
   "metadata": {},
   "source": [
    "### 3.1 perform fisher's exact test for distal peaks"
   ]
  },
  {
   "cell_type": "code",
   "execution_count": 13,
   "metadata": {
    "scrolled": false
   },
   "outputs": [
    {
     "data": {
      "text/html": [
       "<table>\n",
       "<caption>A data.frame: 2 × 3</caption>\n",
       "<thead>\n",
       "\t<tr><th scope=col>distal_peak</th><th scope=col>cluster</th><th scope=col>N</th></tr>\n",
       "\t<tr><th scope=col>&lt;chr&gt;</th><th scope=col>&lt;chr&gt;</th><th scope=col>&lt;int&gt;</th></tr>\n",
       "</thead>\n",
       "<tbody>\n",
       "\t<tr><td>1:100009712-100010377</td><td>alpha_1</td><td>28</td></tr>\n",
       "\t<tr><td>1:100009712-100010377</td><td>alpha_2</td><td> 4</td></tr>\n",
       "</tbody>\n",
       "</table>\n"
      ],
      "text/latex": [
       "A data.frame: 2 × 3\n",
       "\\begin{tabular}{r|lll}\n",
       " distal\\_peak & cluster & N\\\\\n",
       " <chr> & <chr> & <int>\\\\\n",
       "\\hline\n",
       "\t 1:100009712-100010377 & alpha\\_1 & 28\\\\\n",
       "\t 1:100009712-100010377 & alpha\\_2 &  4\\\\\n",
       "\\end{tabular}\n"
      ],
      "text/markdown": [
       "\n",
       "A data.frame: 2 × 3\n",
       "\n",
       "| distal_peak &lt;chr&gt; | cluster &lt;chr&gt; | N &lt;int&gt; |\n",
       "|---|---|---|\n",
       "| 1:100009712-100010377 | alpha_1 | 28 |\n",
       "| 1:100009712-100010377 | alpha_2 |  4 |\n",
       "\n"
      ],
      "text/plain": [
       "  distal_peak           cluster N \n",
       "1 1:100009712-100010377 alpha_1 28\n",
       "2 1:100009712-100010377 alpha_2  4"
      ]
     },
     "metadata": {},
     "output_type": "display_data"
    },
    {
     "data": {
      "text/html": [
       "<table>\n",
       "<caption>A matrix: 2 × 2 of type dbl</caption>\n",
       "<thead>\n",
       "\t<tr><th></th><th scope=col>alpha_1</th><th scope=col>alpha_2</th></tr>\n",
       "</thead>\n",
       "<tbody>\n",
       "\t<tr><th scope=row>Yes</th><td>  28</td><td>   4</td></tr>\n",
       "\t<tr><th scope=row>No</th><td>5163</td><td>1023</td></tr>\n",
       "</tbody>\n",
       "</table>\n"
      ],
      "text/latex": [
       "A matrix: 2 × 2 of type dbl\n",
       "\\begin{tabular}{r|ll}\n",
       "  & alpha\\_1 & alpha\\_2\\\\\n",
       "\\hline\n",
       "\tYes &   28 &    4\\\\\n",
       "\tNo & 5163 & 1023\\\\\n",
       "\\end{tabular}\n"
      ],
      "text/markdown": [
       "\n",
       "A matrix: 2 × 2 of type dbl\n",
       "\n",
       "| <!--/--> | alpha_1 | alpha_2 |\n",
       "|---|---|---|\n",
       "| Yes |   28 |    4 |\n",
       "| No | 5163 | 1023 |\n",
       "\n"
      ],
      "text/plain": [
       "         subtype\n",
       "expressed alpha_1 alpha_2\n",
       "      Yes   28       4   \n",
       "      No  5163    1023   "
      ]
     },
     "metadata": {},
     "output_type": "display_data"
    },
    {
     "data": {
      "text/html": [
       "28"
      ],
      "text/latex": [
       "28"
      ],
      "text/markdown": [
       "28"
      ],
      "text/plain": [
       "[1] 28"
      ]
     },
     "metadata": {},
     "output_type": "display_data"
    },
    {
     "data": {
      "text/html": [
       "5163"
      ],
      "text/latex": [
       "5163"
      ],
      "text/markdown": [
       "5163"
      ],
      "text/plain": [
       "[1] 5163"
      ]
     },
     "metadata": {},
     "output_type": "display_data"
    },
    {
     "data": {
      "text/html": [
       "<dl>\n",
       "\t<dt>$pval</dt>\n",
       "\t\t<dd>0.372121062826657</dd>\n",
       "\t<dt>$odds</dt>\n",
       "\t\t<dd><strong>odds ratio:</strong> 1.38691629310667</dd>\n",
       "\t<dt>$type1_frac</dt>\n",
       "\t\t<dd>0.00539395106915816</dd>\n",
       "\t<dt>$type2_frac</dt>\n",
       "\t\t<dd>0.00389483933787731</dd>\n",
       "</dl>\n"
      ],
      "text/latex": [
       "\\begin{description}\n",
       "\\item[\\$pval] 0.372121062826657\n",
       "\\item[\\$odds] \\textbf{odds ratio:} 1.38691629310667\n",
       "\\item[\\$type1\\_frac] 0.00539395106915816\n",
       "\\item[\\$type2\\_frac] 0.00389483933787731\n",
       "\\end{description}\n"
      ],
      "text/markdown": [
       "$pval\n",
       ":   0.372121062826657\n",
       "$odds\n",
       ":   **odds ratio:** 1.38691629310667\n",
       "$type1_frac\n",
       ":   0.00539395106915816\n",
       "$type2_frac\n",
       ":   0.00389483933787731\n",
       "\n",
       "\n"
      ],
      "text/plain": [
       "$pval\n",
       "[1] 0.3721211\n",
       "\n",
       "$odds\n",
       "odds ratio \n",
       "  1.386916 \n",
       "\n",
       "$type1_frac\n",
       "[1] 0.005393951\n",
       "\n",
       "$type2_frac\n",
       "[1] 0.003894839\n"
      ]
     },
     "metadata": {},
     "output_type": "display_data"
    },
    {
     "data": {
      "text/plain": [
       "\n",
       "\tFisher's Exact Test for Count Data\n",
       "\n",
       "data:  test.tab\n",
       "p-value = 0.8104\n",
       "alternative hypothesis: true odds ratio is not equal to 1\n",
       "95 percent confidence interval:\n",
       " 0.4837113 5.4531250\n",
       "sample estimates:\n",
       "odds ratio \n",
       "  1.386916 \n"
      ]
     },
     "metadata": {},
     "output_type": "display_data"
    }
   ],
   "source": [
    "tr = \"1:100009712-100010377\"\n",
    "celltypes <- c(\"alpha_1\", \"alpha_2\")\n",
    "\n",
    "test.dat <- dat.mat %>% filter(distal_peak == tr & cluster %in% celltypes)\n",
    "test.dat\n",
    "table.res<- test.dat$N; names(table.res) <- test.dat$cluster\n",
    "# handle if 0 for one subtype\n",
    "a = setdiff(celltypes, names(table.res))\n",
    "table.res[a] <- 0\n",
    "test.tab <- matrix(c(table.res[celltypes[1]], table.res[celltypes[2]], dat.all.cells[celltypes[1]] - \n",
    "    table.res[celltypes[1]], dat.all.cells[celltypes[2]] - table.res[celltypes[2]]), \n",
    "    byrow = T, nrow = 2, dimnames = list(expressed = c(\"Yes\", \"No\"), subtype = celltypes))\n",
    "test.tab\n",
    "test.tab[1]\n",
    "test.tab[2]\n",
    "\n",
    "\n",
    "f1 <- test.tab[1]/(test.tab[1] + test.tab[2])\n",
    "f2 <- test.tab[3]/(test.tab[3] + test.tab[4])\n",
    "l <- ifelse(f1 > f2, \"greater\", \"less\")\n",
    "test.res <- fisher.test(test.tab, alternative = l)\n",
    "res <- list(pval = test.res$p.value, odds = test.res$estimate, type1_frac = f1, type2_frac = f2)\n",
    "res\n",
    "\n",
    "fisher.test(test.tab)"
   ]
  },
  {
   "cell_type": "code",
   "execution_count": 14,
   "metadata": {},
   "outputs": [
    {
     "data": {
      "text/plain": [
       "   user  system elapsed \n",
       "  0.068   0.009   0.077 "
      ]
     },
     "metadata": {},
     "output_type": "display_data"
    },
    {
     "data": {
      "text/html": [
       "<table>\n",
       "<caption>A matrix: 1 × 5</caption>\n",
       "<thead>\n",
       "\t<tr><th scope=col>distal_peak</th><th scope=col>pval</th><th scope=col>odds</th><th scope=col>type1_frac</th><th scope=col>type2_frac</th></tr>\n",
       "\t<tr><th scope=col>&lt;chr&gt;</th><th scope=col>&lt;dbl&gt;</th><th scope=col>&lt;dbl&gt;</th><th scope=col>&lt;dbl&gt;</th><th scope=col>&lt;dbl&gt;</th></tr>\n",
       "</thead>\n",
       "<tbody>\n",
       "\t<tr><td>1:100009712-100010377</td><td>0.3721211</td><td>1.386916</td><td>0.005393951</td><td>0.003894839</td></tr>\n",
       "</tbody>\n",
       "</table>\n"
      ],
      "text/latex": [
       "A matrix: 1 × 5\n",
       "\\begin{tabular}{lllll}\n",
       " distal\\_peak & pval & odds & type1\\_frac & type2\\_frac\\\\\n",
       " <chr> & <dbl> & <dbl> & <dbl> & <dbl>\\\\\n",
       "\\hline\n",
       "\t 1:100009712-100010377 & 0.3721211 & 1.386916 & 0.005393951 & 0.003894839\\\\\n",
       "\\end{tabular}\n"
      ],
      "text/markdown": [
       "\n",
       "A matrix: 1 × 5\n",
       "\n",
       "| distal_peak &lt;chr&gt; | pval &lt;dbl&gt; | odds &lt;dbl&gt; | type1_frac &lt;dbl&gt; | type2_frac &lt;dbl&gt; |\n",
       "|---|---|---|---|---|\n",
       "| 1:100009712-100010377 | 0.3721211 | 1.386916 | 0.005393951 | 0.003894839 |\n",
       "\n"
      ],
      "text/plain": [
       "     distal_peak           pval      odds     type1_frac  type2_frac \n",
       "[1,] 1:100009712-100010377 0.3721211 1.386916 0.005393951 0.003894839"
      ]
     },
     "metadata": {},
     "output_type": "display_data"
    }
   ],
   "source": [
    "\n",
    "fun.ftestPerTr <- function(  tr='1:100009712-100010377',#=1\n",
    "                             celltypes=c('alpha_1','alpha_2'),\n",
    "                             dat=dat.mat){\n",
    "    \n",
    "\n",
    "test.dat <- dat %>% filter(distal_peak == tr & cluster %in% celltypes)\n",
    " table.res<- test.dat$N; names(table.res) <- test.dat$cluster\n",
    "\n",
    "    # handle if 0 for one subtype \n",
    "    a=setdiff(celltypes,    names(table.res))\n",
    "    table.res[a]<-0\n",
    "    \n",
    "    test.tab <- matrix(c(table.res[celltypes[1]], table.res[celltypes[2]], \n",
    "                         dat.all.cells[celltypes[1]]-table.res[celltypes[1]], \n",
    "                         dat.all.cells[celltypes[2]]-table.res[celltypes[2]]),\n",
    "                       byrow =  T,       \n",
    "                       nrow = 2,\n",
    "                       dimnames = list(expressed = c(\"Yes\", \"No\"),\n",
    "                       subtype = celltypes))\n",
    "\n",
    "    f1<-test.tab[1]/(test.tab[1]+test.tab[2])\n",
    "    f2 <- test.tab[3]/(test.tab[3]+test.tab[4])\n",
    "    l <-ifelse(f1>f2,'greater','less')\n",
    "    test.res <- fisher.test(test.tab,alternative = l)\n",
    "    res <- list(\n",
    "                distal_peak =tr,\n",
    "                pval=test.res$p.value,\n",
    "                odds=test.res$estimate,\n",
    "                type1_frac=f1,\n",
    "                type2_frac=f2\n",
    "               )\n",
    "    res\n",
    "}\n",
    "\n",
    "##\n",
    "\n",
    "celltypes <- c('alpha_1','alpha_2')\n",
    "\n",
    "system.time(fun.ftestPerTr(celltypes=celltypes))\n",
    "t(fun.ftestPerTr(celltypes=celltypes))\n"
   ]
  },
  {
   "cell_type": "code",
   "execution_count": 15,
   "metadata": {},
   "outputs": [
    {
     "data": {
      "text/plain": [
       "   user  system elapsed \n",
       "  0.024   0.001   0.024 "
      ]
     },
     "metadata": {},
     "output_type": "display_data"
    },
    {
     "data": {
      "text/html": [
       "<table>\n",
       "<caption>A matrix: 1 × 5</caption>\n",
       "<thead>\n",
       "\t<tr><th scope=col>distal_peak</th><th scope=col>pval</th><th scope=col>odds</th><th scope=col>type1_frac</th><th scope=col>type2_frac</th></tr>\n",
       "\t<tr><th scope=col>&lt;chr&gt;</th><th scope=col>&lt;dbl&gt;</th><th scope=col>&lt;dbl&gt;</th><th scope=col>&lt;dbl&gt;</th><th scope=col>&lt;dbl&gt;</th></tr>\n",
       "</thead>\n",
       "<tbody>\n",
       "\t<tr><td>1:100009712-100010377</td><td>0.3721211</td><td>1.386916</td><td>0.005393951</td><td>0.003894839</td></tr>\n",
       "</tbody>\n",
       "</table>\n"
      ],
      "text/latex": [
       "A matrix: 1 × 5\n",
       "\\begin{tabular}{lllll}\n",
       " distal\\_peak & pval & odds & type1\\_frac & type2\\_frac\\\\\n",
       " <chr> & <dbl> & <dbl> & <dbl> & <dbl>\\\\\n",
       "\\hline\n",
       "\t 1:100009712-100010377 & 0.3721211 & 1.386916 & 0.005393951 & 0.003894839\\\\\n",
       "\\end{tabular}\n"
      ],
      "text/markdown": [
       "\n",
       "A matrix: 1 × 5\n",
       "\n",
       "| distal_peak &lt;chr&gt; | pval &lt;dbl&gt; | odds &lt;dbl&gt; | type1_frac &lt;dbl&gt; | type2_frac &lt;dbl&gt; |\n",
       "|---|---|---|---|---|\n",
       "| 1:100009712-100010377 | 0.3721211 | 1.386916 | 0.005393951 | 0.003894839 |\n",
       "\n"
      ],
      "text/plain": [
       "     distal_peak           pval      odds     type1_frac  type2_frac \n",
       "[1,] 1:100009712-100010377 0.3721211 1.386916 0.005393951 0.003894839"
      ]
     },
     "metadata": {},
     "output_type": "display_data"
    }
   ],
   "source": [
    "\n",
    "celltypes <- c('alpha_1','alpha_2')\n",
    "dat.mat.sub <- dat.mat%>%filter(cluster %in% celltypes)\n",
    "fun.ftestPerTr <- function(  tr='1:100009712-100010377',#=1\n",
    "                             celltypes=c('alpha_1','alpha_2'),\n",
    "                             dat=dat.mat.sub){\n",
    "    \n",
    "\n",
    "test.dat <- dat %>% filter(distal_peak == tr)\n",
    " table.res<- test.dat$N; names(table.res) <- test.dat$cluster\n",
    "\n",
    "    # handle if 0 for one subtype \n",
    "    a=setdiff(celltypes,    names(table.res))\n",
    "    table.res[a]<-0\n",
    "    \n",
    "    test.tab <- matrix(c(table.res[celltypes[1]], table.res[celltypes[2]], \n",
    "                         dat.all.cells[celltypes[1]]-table.res[celltypes[1]], \n",
    "                         dat.all.cells[celltypes[2]]-table.res[celltypes[2]]),\n",
    "                       byrow =  T,       \n",
    "                       nrow = 2,\n",
    "                       dimnames = list(expressed = c(\"Yes\", \"No\"),\n",
    "                       subtype = celltypes))\n",
    "\n",
    "    f1<-test.tab[1]/(test.tab[1]+test.tab[2])\n",
    "    f2 <- test.tab[3]/(test.tab[3]+test.tab[4])\n",
    "    l <-ifelse(f1>f2,'greater','less')\n",
    "    test.res <- fisher.test(test.tab,alternative = l)\n",
    "    res <- list(\n",
    "                distal_peak =tr,\n",
    "                pval=test.res$p.value,\n",
    "                odds=test.res$estimate,\n",
    "                type1_frac=f1,\n",
    "                type2_frac=f2\n",
    "               )\n",
    "    res\n",
    "}\n",
    "\n",
    "##\n",
    "\n",
    "\n",
    "\n",
    "system.time(fun.ftestPerTr(celltypes=celltypes))\n",
    "t(fun.ftestPerTr(celltypes=celltypes))\n"
   ]
  },
  {
   "cell_type": "code",
   "execution_count": 16,
   "metadata": {
    "scrolled": true
   },
   "outputs": [
    {
     "data": {
      "text/html": [
       "4.51364861111111"
      ],
      "text/latex": [
       "4.51364861111111"
      ],
      "text/markdown": [
       "4.51364861111111"
      ],
      "text/plain": [
       "[1] 4.513649"
      ]
     },
     "metadata": {},
     "output_type": "display_data"
    }
   ],
   "source": [
    "\n",
    "# estimate time\n",
    "celltypes <- list()\n",
    "celltypes$alpha <- c(\"alpha_1\", \"alpha_2\")\n",
    "celltypes$beta <- c(\"beta_1\", \"beta_2\")\n",
    "celltypes$delta <- c(\"delta_1\", \"delta_2\")\n",
    "sum(sapply( c(\"alpha\", \"beta\", \"delta\"),function(x) \n",
    "    length(unique((dat.mat%>% filter(cluster %in% celltypes[[x]]))$distal_peak))))*.029/3600"
   ]
  },
  {
   "cell_type": "code",
   "execution_count": 17,
   "metadata": {},
   "outputs": [],
   "source": [
    "celltypes <- list()\n",
    "celltypes$alpha <- c(\"alpha_1\", \"alpha_2\")\n",
    "celltypes$beta <- c(\"beta_1\", \"beta_2\")\n",
    "celltypes$delta <- c(\"delta_1\", \"delta_2\")"
   ]
  },
  {
   "cell_type": "code",
   "execution_count": 18,
   "metadata": {},
   "outputs": [
    {
     "data": {
      "text/html": [
       "204254"
      ],
      "text/latex": [
       "204254"
      ],
      "text/markdown": [
       "204254"
      ],
      "text/plain": [
       "[1] 204254"
      ]
     },
     "metadata": {},
     "output_type": "display_data"
    },
    {
     "data": {
      "text/html": [
       "<table>\n",
       "<caption>A matrix: 10 × 5</caption>\n",
       "<thead>\n",
       "\t<tr><th scope=col>distal_peak</th><th scope=col>pval</th><th scope=col>odds</th><th scope=col>type1_frac</th><th scope=col>type2_frac</th></tr>\n",
       "\t<tr><th scope=col>&lt;chr&gt;</th><th scope=col>&lt;chr&gt;</th><th scope=col>&lt;chr&gt;</th><th scope=col>&lt;chr&gt;</th><th scope=col>&lt;chr&gt;</th><th scope=col>&lt;chr&gt;</th><th scope=col>&lt;chr&gt;</th><th scope=col>&lt;chr&gt;</th><th scope=col>&lt;chr&gt;</th><th scope=col>&lt;chr&gt;</th><th scope=col>⋯</th><th scope=col>&lt;dbl&gt;</th><th scope=col>&lt;dbl&gt;</th><th scope=col>&lt;dbl&gt;</th><th scope=col>&lt;dbl&gt;</th><th scope=col>&lt;dbl&gt;</th><th scope=col>&lt;dbl&gt;</th><th scope=col>&lt;dbl&gt;</th><th scope=col>&lt;dbl&gt;</th><th scope=col>&lt;dbl&gt;</th><th scope=col>&lt;dbl&gt;</th></tr>\n",
       "</thead>\n",
       "<tbody>\n",
       "\t<tr><td>1:100009712-100010377</td><td>0.2891137</td><td>0.9213313</td><td>0.03020932</td><td>0.03270477</td></tr>\n",
       "\t<tr><td>1:100014525-100015253</td><td>0.05388995</td><td>1.304241</td><td>0.02521408</td><td>0.01944608</td></tr>\n",
       "\t<tr><td>1:100017588-100018137</td><td>4.131075e-06</td><td>0.1485343</td><td>0.001189343</td><td>0.007955215</td></tr>\n",
       "\t<tr><td>1:100023302-100023931</td><td>0.003786372</td><td>0.3216857</td><td>0.00190295</td><td>0.005892752</td></tr>\n",
       "\t<tr><td>1:100056228-100056811</td><td>0.008416978</td><td>0.6015636</td><td>0.009990485</td><td>0.01649971</td></tr>\n",
       "\t<tr><td>1:100064582-100064908</td><td>0.6938878</td><td>0.8073071</td><td>0.0002378687</td><td>0.0002946376</td></tr>\n",
       "\t<tr><td>1:100065306-100065506</td><td>0.4203372</td><td>0.4035669</td><td>0.0002378687</td><td>0.0005892752</td></tr>\n",
       "\t<tr><td>1:10010367-10010795</td><td>0.02110914</td><td>1.520098</td><td>0.01736441</td><td>0.01149087</td></tr>\n",
       "\t<tr><td>1:100113698-100114049</td><td>0.0002234783</td><td>1.671828</td><td>0.03449096</td><td>0.02091927</td></tr>\n",
       "\t<tr><td>1:100122820-100123020</td><td>0.4466965</td><td>0</td><td>0</td><td>0.0002946376</td></tr>\n",
       "</tbody>\n",
       "</table>\n"
      ],
      "text/latex": [
       "A matrix: 10 × 5\n",
       "\\begin{tabular}{lllll}\n",
       " distal\\_peak & pval & odds & type1\\_frac & type2\\_frac\\\\\n",
       " <chr> & <chr> & <chr> & <chr> & <chr> & <chr> & <chr> & <chr> & <chr> & <chr> & <dbl> & <dbl> & <dbl> & <dbl> & <dbl> & <dbl> & <dbl> & <dbl> & <dbl> & <dbl> & <dbl> & <dbl> & <dbl> & <dbl> & <dbl> & <dbl> & <dbl> & <dbl> & <dbl> & <dbl> & <dbl> & <dbl> & <dbl> & <dbl> & <dbl> & <dbl> & <dbl> & <dbl> & <dbl> & <dbl> & <dbl> & <dbl> & <dbl> & <dbl> & <dbl> & <dbl> & <dbl> & <dbl> & <dbl> & <dbl>\\\\\n",
       "\\hline\n",
       "\t 1:100009712-100010377 & 0.2891137 & 0.9213313 & 0.03020932 & 0.03270477\\\\\n",
       "\t 1:100014525-100015253 & 0.05388995 & 1.304241 & 0.02521408 & 0.01944608\\\\\n",
       "\t 1:100017588-100018137 & 4.131075e-06 & 0.1485343 & 0.001189343 & 0.007955215\\\\\n",
       "\t 1:100023302-100023931 & 0.003786372 & 0.3216857 & 0.00190295 & 0.005892752\\\\\n",
       "\t 1:100056228-100056811 & 0.008416978 & 0.6015636 & 0.009990485 & 0.01649971\\\\\n",
       "\t 1:100064582-100064908 & 0.6938878 & 0.8073071 & 0.0002378687 & 0.0002946376\\\\\n",
       "\t 1:100065306-100065506 & 0.4203372 & 0.4035669 & 0.0002378687 & 0.0005892752\\\\\n",
       "\t 1:10010367-10010795 & 0.02110914 & 1.520098 & 0.01736441 & 0.01149087\\\\\n",
       "\t 1:100113698-100114049 & 0.0002234783 & 1.671828 & 0.03449096 & 0.02091927\\\\\n",
       "\t 1:100122820-100123020 & 0.4466965 & 0 & 0 & 0.0002946376\\\\\n",
       "\\end{tabular}\n"
      ],
      "text/markdown": [
       "\n",
       "A matrix: 10 × 5\n",
       "\n",
       "| distal_peak &lt;chr&gt; | pval &lt;chr&gt; | odds &lt;chr&gt; | type1_frac &lt;chr&gt; | type2_frac &lt;chr&gt; | distal_peak &lt;chr&gt; | pval &lt;chr&gt; | odds &lt;chr&gt; | type1_frac &lt;chr&gt; | type2_frac &lt;chr&gt; | distal_peak ⋯ | pval &lt;dbl&gt; | odds &lt;dbl&gt; | type1_frac &lt;dbl&gt; | type2_frac &lt;dbl&gt; | distal_peak &lt;dbl&gt; | pval &lt;dbl&gt; | odds &lt;dbl&gt; | type1_frac &lt;dbl&gt; | type2_frac &lt;dbl&gt; | distal_peak &lt;dbl&gt; |\n",
       "|---|---|---|---|---|\n",
       "| 1:100009712-100010377 | 0.2891137 | 0.9213313 | 0.03020932 | 0.03270477 |\n",
       "| 1:100014525-100015253 | 0.05388995 | 1.304241 | 0.02521408 | 0.01944608 |\n",
       "| 1:100017588-100018137 | 4.131075e-06 | 0.1485343 | 0.001189343 | 0.007955215 |\n",
       "| 1:100023302-100023931 | 0.003786372 | 0.3216857 | 0.00190295 | 0.005892752 |\n",
       "| 1:100056228-100056811 | 0.008416978 | 0.6015636 | 0.009990485 | 0.01649971 |\n",
       "| 1:100064582-100064908 | 0.6938878 | 0.8073071 | 0.0002378687 | 0.0002946376 |\n",
       "| 1:100065306-100065506 | 0.4203372 | 0.4035669 | 0.0002378687 | 0.0005892752 |\n",
       "| 1:10010367-10010795 | 0.02110914 | 1.520098 | 0.01736441 | 0.01149087 |\n",
       "| 1:100113698-100114049 | 0.0002234783 | 1.671828 | 0.03449096 | 0.02091927 |\n",
       "| 1:100122820-100123020 | 0.4466965 | 0 | 0 | 0.0002946376 |\n",
       "\n"
      ],
      "text/plain": [
       "      distal_peak           pval         odds      type1_frac   type2_frac  \n",
       " [1,] 1:100009712-100010377 0.2891137    0.9213313 0.03020932   0.03270477  \n",
       " [2,] 1:100014525-100015253 0.05388995   1.304241  0.02521408   0.01944608  \n",
       " [3,] 1:100017588-100018137 4.131075e-06 0.1485343 0.001189343  0.007955215 \n",
       " [4,] 1:100023302-100023931 0.003786372  0.3216857 0.00190295   0.005892752 \n",
       " [5,] 1:100056228-100056811 0.008416978  0.6015636 0.009990485  0.01649971  \n",
       " [6,] 1:100064582-100064908 0.6938878    0.8073071 0.0002378687 0.0002946376\n",
       " [7,] 1:100065306-100065506 0.4203372    0.4035669 0.0002378687 0.0005892752\n",
       " [8,] 1:10010367-10010795   0.02110914   1.520098  0.01736441   0.01149087  \n",
       " [9,] 1:100113698-100114049 0.0002234783 1.671828  0.03449096   0.02091927  \n",
       "[10,] 1:100122820-100123020 0.4466965    0         0            0.0002946376"
      ]
     },
     "metadata": {},
     "output_type": "display_data"
    }
   ],
   "source": [
    "## test run\n",
    "\n",
    "x<- \"beta\"\n",
    "dat.mat.sub <- dat.mat%>%filter(cluster %in% celltypes[[x]])\n",
    "all.tr <- unique(dat.mat.sub$distal_peak)\n",
    "length(all.tr)\n",
    "do.call(rbind,lapply(all.tr[1:10],function(trr) t(fun.ftestPerTr(dat = dat.mat.sub, \n",
    "        tr = trr, celltypes = celltypes[[x]]))))"
   ]
  },
  {
   "cell_type": "code",
   "execution_count": 19,
   "metadata": {},
   "outputs": [
    {
     "name": "stderr",
     "output_type": "stream",
     "text": [
      "Loading required package: parallel\n"
     ]
    },
    {
     "data": {
      "text/plain": [
       "    user   system  elapsed \n",
       "5507.796  925.831  653.546 "
      ]
     },
     "metadata": {},
     "output_type": "display_data"
    }
   ],
   "source": [
    "require(parallel)\n",
    "\n",
    "res.transcript_level <- list()\n",
    "# time consumming task\n",
    "system.time(for (x in c(\"alpha\", \"beta\", \"delta\")) {\n",
    "    \n",
    "    dat.mat.sub <- dat.mat %>% filter(cluster %in% celltypes[[x]])\n",
    "    all.tr <- unique(dat.mat.sub$distal_peak)\n",
    "    \n",
    "    res.transcript_level[[x]] <- do.call(rbind, mclapply(all.tr, function(trr) t(fun.ftestPerTr(dat = dat.mat.sub, \n",
    "        tr = trr, celltypes = celltypes[[x]])), mc.cores = 10))\n",
    "})\n",
    "\n",
    "saveRDS(object = res.transcript_level, file = \"../dat/1901/res.distal.peaks.fisher.Rds\")"
   ]
  },
  {
   "cell_type": "code",
   "execution_count": 20,
   "metadata": {},
   "outputs": [],
   "source": [
    "res.transcript_level <- rbind(data.frame(res.transcript_level$alpha,celltype=\"alpha\"),\n",
    "     data.frame(res.transcript_level$beta,celltype=\"beta\"),\n",
    "     data.frame(res.transcript_level$delta,celltype=\"delta\"))\n"
   ]
  },
  {
   "cell_type": "code",
   "execution_count": 22,
   "metadata": {},
   "outputs": [],
   "source": [
    "fwrite(res.transcript_level, file = \"../dat/1910_v2/distal.peaks.sub_vs_sub.fisher.csv\")\n",
    "system('gzip -9 ../dat/1910_v2/distal.peaks.sub_vs_sub.fisher.csv')"
   ]
  },
  {
   "cell_type": "code",
   "execution_count": 6,
   "metadata": {},
   "outputs": [
    {
     "data": {
      "text/html": [
       "<table>\n",
       "<caption>A data.table: 1 × 6</caption>\n",
       "<thead>\n",
       "\t<tr><th scope=col>distal_peak</th><th scope=col>pval</th><th scope=col>odds</th><th scope=col>type1_frac</th><th scope=col>type2_frac</th><th scope=col>celltype</th></tr>\n",
       "\t<tr><th scope=col>&lt;chr&gt;</th><th scope=col>&lt;dbl&gt;</th><th scope=col>&lt;dbl&gt;</th><th scope=col>&lt;dbl&gt;</th><th scope=col>&lt;dbl&gt;</th><th scope=col>&lt;chr&gt;</th></tr>\n",
       "</thead>\n",
       "<tbody>\n",
       "\t<tr><td>1:100009712-100010377</td><td>0.3721211</td><td>1.386916</td><td>0.005393951</td><td>0.003894839</td><td>alpha</td></tr>\n",
       "</tbody>\n",
       "</table>\n"
      ],
      "text/latex": [
       "A data.table: 1 × 6\n",
       "\\begin{tabular}{r|llllll}\n",
       " distal\\_peak & pval & odds & type1\\_frac & type2\\_frac & celltype\\\\\n",
       " <chr> & <dbl> & <dbl> & <dbl> & <dbl> & <chr>\\\\\n",
       "\\hline\n",
       "\t 1:100009712-100010377 & 0.3721211 & 1.386916 & 0.005393951 & 0.003894839 & alpha\\\\\n",
       "\\end{tabular}\n"
      ],
      "text/markdown": [
       "\n",
       "A data.table: 1 × 6\n",
       "\n",
       "| distal_peak &lt;chr&gt; | pval &lt;dbl&gt; | odds &lt;dbl&gt; | type1_frac &lt;dbl&gt; | type2_frac &lt;dbl&gt; | celltype &lt;chr&gt; |\n",
       "|---|---|---|---|---|---|\n",
       "| 1:100009712-100010377 | 0.3721211 | 1.386916 | 0.005393951 | 0.003894839 | alpha |\n",
       "\n"
      ],
      "text/plain": [
       "  distal_peak           pval      odds     type1_frac  type2_frac  celltype\n",
       "1 1:100009712-100010377 0.3721211 1.386916 0.005393951 0.003894839 alpha   "
      ]
     },
     "metadata": {},
     "output_type": "display_data"
    },
    {
     "data": {
      "text/html": [
       "560315"
      ],
      "text/latex": [
       "560315"
      ],
      "text/markdown": [
       "560315"
      ],
      "text/plain": [
       "[1] 560315"
      ]
     },
     "metadata": {},
     "output_type": "display_data"
    }
   ],
   "source": [
    "res.transcript_level <- fread(\"gzcat ../dat/1910_v2/distal.peaks.sub_vs_sub.fisher.csv.gz\")\n",
    "res.transcript_level %>% head(1)\n",
    "res.transcript_level %>% nrow"
   ]
  },
  {
   "cell_type": "markdown",
   "metadata": {},
   "source": [
    "### 3.2 padj + filtering to ensure peaks only left present in tested cell types "
   ]
  },
  {
   "cell_type": "code",
   "execution_count": 12,
   "metadata": {},
   "outputs": [
    {
     "data": {
      "text/html": [
       "<table>\n",
       "<caption>A data.frame: 1 × 2</caption>\n",
       "<thead>\n",
       "\t<tr><th scope=col>distal_peak</th><th scope=col>V4</th></tr>\n",
       "\t<tr><th scope=col>&lt;chr&gt;</th><th scope=col>&lt;chr&gt;</th></tr>\n",
       "</thead>\n",
       "<tbody>\n",
       "\t<tr><td>1:752578-752778</td><td>endothelial</td></tr>\n",
       "</tbody>\n",
       "</table>\n"
      ],
      "text/latex": [
       "A data.frame: 1 × 2\n",
       "\\begin{tabular}{r|ll}\n",
       " distal\\_peak & V4\\\\\n",
       " <chr> & <chr>\\\\\n",
       "\\hline\n",
       "\t 1:752578-752778 & endothelial\\\\\n",
       "\\end{tabular}\n"
      ],
      "text/markdown": [
       "\n",
       "A data.frame: 1 × 2\n",
       "\n",
       "| distal_peak &lt;chr&gt; | V4 &lt;chr&gt; |\n",
       "|---|---|\n",
       "| 1:752578-752778 | endothelial |\n",
       "\n"
      ],
      "text/plain": [
       "  distal_peak     V4         \n",
       "1 1:752578-752778 endothelial"
      ]
     },
     "metadata": {},
     "output_type": "display_data"
    },
    {
     "data": {
      "text/html": [
       "208470"
      ],
      "text/latex": [
       "208470"
      ],
      "text/markdown": [
       "208470"
      ],
      "text/plain": [
       "[1] 208470"
      ]
     },
     "metadata": {},
     "output_type": "display_data"
    }
   ],
   "source": [
    "res.peak <- fread(\"../dat/1910_v2/islet.merged_peaks.anno.bed\") %>% mutate(V1 = sub(\"chr\", \n",
    "    \"\", V1)) %>% mutate(distal_peak = paste0(V1, \":\", V2, \"-\", V3)) %>% filter(distal_peak %in% \n",
    "    res.transcript_level$distal_peak) %>% select(distal_peak, V4)\n",
    "res.peak %>% head(1)\n",
    "res.peak%>%nrow"
   ]
  },
  {
   "cell_type": "code",
   "execution_count": 13,
   "metadata": {},
   "outputs": [
    {
     "name": "stdout",
     "output_type": "stream",
     "text": [
      "[1] 203175\n",
      "[1] 125016\n",
      "[1] 204254\n",
      "[1] 133294\n",
      "[1] 152886\n",
      "[1] 64188\n"
     ]
    },
    {
     "data": {
      "text/html": [
       "<table>\n",
       "<caption>A data.frame: 1 × 6</caption>\n",
       "<thead>\n",
       "\t<tr><th scope=col>distal_peak</th><th scope=col>pval</th><th scope=col>celltype</th><th scope=col>FDR</th><th scope=col>padj.Bonferroni</th><th scope=col>FDR.BY</th></tr>\n",
       "\t<tr><th scope=col>&lt;chr&gt;</th><th scope=col>&lt;dbl&gt;</th><th scope=col>&lt;chr&gt;</th><th scope=col>&lt;dbl&gt;</th><th scope=col>&lt;dbl&gt;</th><th scope=col>&lt;dbl&gt;</th></tr>\n",
       "</thead>\n",
       "<tbody>\n",
       "\t<tr><td>1:100009712-100010377</td><td>0.3721211</td><td>alpha</td><td>0.4540326</td><td>1</td><td>1</td></tr>\n",
       "</tbody>\n",
       "</table>\n"
      ],
      "text/latex": [
       "A data.frame: 1 × 6\n",
       "\\begin{tabular}{r|llllll}\n",
       " distal\\_peak & pval & celltype & FDR & padj.Bonferroni & FDR.BY\\\\\n",
       " <chr> & <dbl> & <chr> & <dbl> & <dbl> & <dbl>\\\\\n",
       "\\hline\n",
       "\t 1:100009712-100010377 & 0.3721211 & alpha & 0.4540326 & 1 & 1\\\\\n",
       "\\end{tabular}\n"
      ],
      "text/markdown": [
       "\n",
       "A data.frame: 1 × 6\n",
       "\n",
       "| distal_peak &lt;chr&gt; | pval &lt;dbl&gt; | celltype &lt;chr&gt; | FDR &lt;dbl&gt; | padj.Bonferroni &lt;dbl&gt; | FDR.BY &lt;dbl&gt; |\n",
       "|---|---|---|---|---|---|\n",
       "| 1:100009712-100010377 | 0.3721211 | alpha | 0.4540326 | 1 | 1 |\n",
       "\n"
      ],
      "text/plain": [
       "  distal_peak           pval      celltype FDR       padj.Bonferroni FDR.BY\n",
       "1 1:100009712-100010377 0.3721211 alpha    0.4540326 1               1     "
      ]
     },
     "metadata": {},
     "output_type": "display_data"
    },
    {
     "data": {
      "text/html": [
       "<table>\n",
       "<caption>A data.frame: 1 × 6</caption>\n",
       "<thead>\n",
       "\t<tr><th scope=col>distal_peak</th><th scope=col>pval</th><th scope=col>celltype</th><th scope=col>FDR</th><th scope=col>padj.Bonferroni</th><th scope=col>FDR.BY</th></tr>\n",
       "\t<tr><th scope=col>&lt;chr&gt;</th><th scope=col>&lt;dbl&gt;</th><th scope=col>&lt;chr&gt;</th><th scope=col>&lt;dbl&gt;</th><th scope=col>&lt;dbl&gt;</th><th scope=col>&lt;dbl&gt;</th></tr>\n",
       "</thead>\n",
       "<tbody>\n",
       "\t<tr><td>1:100009712-100010377</td><td>0.2891137</td><td>beta</td><td>0.3668559</td><td>1</td><td>1</td></tr>\n",
       "</tbody>\n",
       "</table>\n"
      ],
      "text/latex": [
       "A data.frame: 1 × 6\n",
       "\\begin{tabular}{r|llllll}\n",
       " distal\\_peak & pval & celltype & FDR & padj.Bonferroni & FDR.BY\\\\\n",
       " <chr> & <dbl> & <chr> & <dbl> & <dbl> & <dbl>\\\\\n",
       "\\hline\n",
       "\t 1:100009712-100010377 & 0.2891137 & beta & 0.3668559 & 1 & 1\\\\\n",
       "\\end{tabular}\n"
      ],
      "text/markdown": [
       "\n",
       "A data.frame: 1 × 6\n",
       "\n",
       "| distal_peak &lt;chr&gt; | pval &lt;dbl&gt; | celltype &lt;chr&gt; | FDR &lt;dbl&gt; | padj.Bonferroni &lt;dbl&gt; | FDR.BY &lt;dbl&gt; |\n",
       "|---|---|---|---|---|---|\n",
       "| 1:100009712-100010377 | 0.2891137 | beta | 0.3668559 | 1 | 1 |\n",
       "\n"
      ],
      "text/plain": [
       "  distal_peak           pval      celltype FDR       padj.Bonferroni FDR.BY\n",
       "1 1:100009712-100010377 0.2891137 beta     0.3668559 1               1     "
      ]
     },
     "metadata": {},
     "output_type": "display_data"
    },
    {
     "data": {
      "text/html": [
       "<table>\n",
       "<caption>A data.frame: 1 × 6</caption>\n",
       "<thead>\n",
       "\t<tr><th scope=col>distal_peak</th><th scope=col>pval</th><th scope=col>celltype</th><th scope=col>FDR</th><th scope=col>padj.Bonferroni</th><th scope=col>FDR.BY</th></tr>\n",
       "\t<tr><th scope=col>&lt;chr&gt;</th><th scope=col>&lt;dbl&gt;</th><th scope=col>&lt;chr&gt;</th><th scope=col>&lt;dbl&gt;</th><th scope=col>&lt;dbl&gt;</th><th scope=col>&lt;dbl&gt;</th></tr>\n",
       "</thead>\n",
       "<tbody>\n",
       "\t<tr><td>1:100023302-100023931</td><td>0.1995241</td><td>delta</td><td>0.4101238</td><td>1</td><td>1</td></tr>\n",
       "</tbody>\n",
       "</table>\n"
      ],
      "text/latex": [
       "A data.frame: 1 × 6\n",
       "\\begin{tabular}{r|llllll}\n",
       " distal\\_peak & pval & celltype & FDR & padj.Bonferroni & FDR.BY\\\\\n",
       " <chr> & <dbl> & <chr> & <dbl> & <dbl> & <dbl>\\\\\n",
       "\\hline\n",
       "\t 1:100023302-100023931 & 0.1995241 & delta & 0.4101238 & 1 & 1\\\\\n",
       "\\end{tabular}\n"
      ],
      "text/markdown": [
       "\n",
       "A data.frame: 1 × 6\n",
       "\n",
       "| distal_peak &lt;chr&gt; | pval &lt;dbl&gt; | celltype &lt;chr&gt; | FDR &lt;dbl&gt; | padj.Bonferroni &lt;dbl&gt; | FDR.BY &lt;dbl&gt; |\n",
       "|---|---|---|---|---|---|\n",
       "| 1:100023302-100023931 | 0.1995241 | delta | 0.4101238 | 1 | 1 |\n",
       "\n"
      ],
      "text/plain": [
       "  distal_peak           pval      celltype FDR       padj.Bonferroni FDR.BY\n",
       "1 1:100023302-100023931 0.1995241 delta    0.4101238 1               1     "
      ]
     },
     "metadata": {},
     "output_type": "display_data"
    }
   ],
   "source": [
    "# adjust for p value\n",
    "m <- c(\"fdr\", \"bonferroni\", \"BY\")\n",
    "names(m) <- c(\"FDR\", \"padj.Bonferroni\", \"FDR.BY\")\n",
    "res.transcript_level.2 <- do.call(rbind, lapply(c(\"alpha\", \"beta\", \"delta\"), function(ct) {\n",
    "    # ct <- 'alpha'\n",
    "    res.genes_level.a.df <- res.transcript_level %>% filter(celltype == ct) %>% select(distal_peak, \n",
    "        pval, celltype) %>% distinct %>% as.data.frame\n",
    "    res.genes_level.a.df %>% nrow %>% print\n",
    "    res.genes_level.a.df <- res.genes_level.a.df %>% filter(distal_peak %in% (res.peak %>% \n",
    "        filter(grepl(ct, V4)) %>% pull(distal_peak)))\n",
    "    res.genes_level.a.df %>% nrow %>% print\n",
    "    \n",
    "    for (i in 1:3) {\n",
    "        res.genes_level.a.df[[names(m)[i]]] <- p.adjust(as.numeric(res.genes_level.a.df$pval), \n",
    "            method = m[i])\n",
    "    }\n",
    "    res.genes_level.a.df\n",
    "}))\n",
    "head(res.transcript_level.2, 1)\n",
    "head(res.transcript_level.2 %>% filter(celltype == \"beta\"), 1)\n",
    "head(res.transcript_level.2 %>% filter(celltype == \"delta\"), 1)"
   ]
  },
  {
   "cell_type": "code",
   "execution_count": 14,
   "metadata": {},
   "outputs": [
    {
     "data": {
      "text/html": [
       "560315"
      ],
      "text/latex": [
       "560315"
      ],
      "text/markdown": [
       "560315"
      ],
      "text/plain": [
       "[1] 560315"
      ]
     },
     "metadata": {},
     "output_type": "display_data"
    },
    {
     "data": {
      "text/html": [
       "322498"
      ],
      "text/latex": [
       "322498"
      ],
      "text/markdown": [
       "322498"
      ],
      "text/plain": [
       "[1] 322498"
      ]
     },
     "metadata": {},
     "output_type": "display_data"
    },
    {
     "data": {
      "text/html": [
       "<table>\n",
       "<caption>A data.table: 1 × 6</caption>\n",
       "<thead>\n",
       "\t<tr><th scope=col>distal_peak</th><th scope=col>pval</th><th scope=col>odds</th><th scope=col>type1_frac</th><th scope=col>type2_frac</th><th scope=col>celltype</th></tr>\n",
       "\t<tr><th scope=col>&lt;chr&gt;</th><th scope=col>&lt;dbl&gt;</th><th scope=col>&lt;dbl&gt;</th><th scope=col>&lt;dbl&gt;</th><th scope=col>&lt;dbl&gt;</th><th scope=col>&lt;chr&gt;</th></tr>\n",
       "</thead>\n",
       "<tbody>\n",
       "\t<tr><td>1:100009712-100010377</td><td>0.3721211</td><td>1.386916</td><td>0.005393951</td><td>0.003894839</td><td>alpha</td></tr>\n",
       "</tbody>\n",
       "</table>\n"
      ],
      "text/latex": [
       "A data.table: 1 × 6\n",
       "\\begin{tabular}{r|llllll}\n",
       " distal\\_peak & pval & odds & type1\\_frac & type2\\_frac & celltype\\\\\n",
       " <chr> & <dbl> & <dbl> & <dbl> & <dbl> & <chr>\\\\\n",
       "\\hline\n",
       "\t 1:100009712-100010377 & 0.3721211 & 1.386916 & 0.005393951 & 0.003894839 & alpha\\\\\n",
       "\\end{tabular}\n"
      ],
      "text/markdown": [
       "\n",
       "A data.table: 1 × 6\n",
       "\n",
       "| distal_peak &lt;chr&gt; | pval &lt;dbl&gt; | odds &lt;dbl&gt; | type1_frac &lt;dbl&gt; | type2_frac &lt;dbl&gt; | celltype &lt;chr&gt; |\n",
       "|---|---|---|---|---|---|\n",
       "| 1:100009712-100010377 | 0.3721211 | 1.386916 | 0.005393951 | 0.003894839 | alpha |\n",
       "\n"
      ],
      "text/plain": [
       "  distal_peak           pval      odds     type1_frac  type2_frac  celltype\n",
       "1 1:100009712-100010377 0.3721211 1.386916 0.005393951 0.003894839 alpha   "
      ]
     },
     "metadata": {},
     "output_type": "display_data"
    },
    {
     "name": "stderr",
     "output_type": "stream",
     "text": [
      "Joining, by = c(\"distal_peak\", \"celltype\")\n"
     ]
    },
    {
     "data": {
      "text/html": [
       "322498"
      ],
      "text/latex": [
       "322498"
      ],
      "text/markdown": [
       "322498"
      ],
      "text/plain": [
       "[1] 322498"
      ]
     },
     "metadata": {},
     "output_type": "display_data"
    },
    {
     "name": "stderr",
     "output_type": "stream",
     "text": [
      "Joining, by = c(\"distal_peak\", \"celltype\")\n"
     ]
    },
    {
     "data": {
      "text/html": [
       "<table>\n",
       "<caption>A data.frame: 1 × 9</caption>\n",
       "<thead>\n",
       "\t<tr><th scope=col>distal_peak</th><th scope=col>pval</th><th scope=col>celltype</th><th scope=col>FDR</th><th scope=col>padj.Bonferroni</th><th scope=col>FDR.BY</th><th scope=col>type1_frac</th><th scope=col>type2_frac</th><th scope=col>odds</th></tr>\n",
       "\t<tr><th scope=col>&lt;chr&gt;</th><th scope=col>&lt;dbl&gt;</th><th scope=col>&lt;chr&gt;</th><th scope=col>&lt;dbl&gt;</th><th scope=col>&lt;dbl&gt;</th><th scope=col>&lt;dbl&gt;</th><th scope=col>&lt;dbl&gt;</th><th scope=col>&lt;dbl&gt;</th><th scope=col>&lt;dbl&gt;</th></tr>\n",
       "</thead>\n",
       "<tbody>\n",
       "\t<tr><td>1:100009712-100010377</td><td>0.3721211</td><td>alpha</td><td>0.4540326</td><td>1</td><td>1</td><td>0.005393951</td><td>0.003894839</td><td>1.386916</td></tr>\n",
       "</tbody>\n",
       "</table>\n"
      ],
      "text/latex": [
       "A data.frame: 1 × 9\n",
       "\\begin{tabular}{r|lllllllll}\n",
       " distal\\_peak & pval & celltype & FDR & padj.Bonferroni & FDR.BY & type1\\_frac & type2\\_frac & odds\\\\\n",
       " <chr> & <dbl> & <chr> & <dbl> & <dbl> & <dbl> & <dbl> & <dbl> & <dbl>\\\\\n",
       "\\hline\n",
       "\t 1:100009712-100010377 & 0.3721211 & alpha & 0.4540326 & 1 & 1 & 0.005393951 & 0.003894839 & 1.386916\\\\\n",
       "\\end{tabular}\n"
      ],
      "text/markdown": [
       "\n",
       "A data.frame: 1 × 9\n",
       "\n",
       "| distal_peak &lt;chr&gt; | pval &lt;dbl&gt; | celltype &lt;chr&gt; | FDR &lt;dbl&gt; | padj.Bonferroni &lt;dbl&gt; | FDR.BY &lt;dbl&gt; | type1_frac &lt;dbl&gt; | type2_frac &lt;dbl&gt; | odds &lt;dbl&gt; |\n",
       "|---|---|---|---|---|---|---|---|---|\n",
       "| 1:100009712-100010377 | 0.3721211 | alpha | 0.4540326 | 1 | 1 | 0.005393951 | 0.003894839 | 1.386916 |\n",
       "\n"
      ],
      "text/plain": [
       "  distal_peak           pval      celltype FDR       padj.Bonferroni FDR.BY\n",
       "1 1:100009712-100010377 0.3721211 alpha    0.4540326 1               1     \n",
       "  type1_frac  type2_frac  odds    \n",
       "1 0.005393951 0.003894839 1.386916"
      ]
     },
     "metadata": {},
     "output_type": "display_data"
    },
    {
     "name": "stderr",
     "output_type": "stream",
     "text": [
      "Joining, by = c(\"distal_peak\", \"celltype\")\n"
     ]
    },
    {
     "data": {
      "text/html": [
       "322498"
      ],
      "text/latex": [
       "322498"
      ],
      "text/markdown": [
       "322498"
      ],
      "text/plain": [
       "[1] 322498"
      ]
     },
     "metadata": {},
     "output_type": "display_data"
    },
    {
     "name": "stderr",
     "output_type": "stream",
     "text": [
      "Joining, by = c(\"distal_peak\", \"celltype\")\n"
     ]
    },
    {
     "data": {
      "text/html": [
       "<table>\n",
       "<caption>A data.frame: 1 × 9</caption>\n",
       "<thead>\n",
       "\t<tr><th scope=col>distal_peak</th><th scope=col>pval</th><th scope=col>celltype</th><th scope=col>FDR</th><th scope=col>padj.Bonferroni</th><th scope=col>FDR.BY</th><th scope=col>type1_frac</th><th scope=col>type2_frac</th><th scope=col>odds</th></tr>\n",
       "\t<tr><th scope=col>&lt;chr&gt;</th><th scope=col>&lt;dbl&gt;</th><th scope=col>&lt;chr&gt;</th><th scope=col>&lt;dbl&gt;</th><th scope=col>&lt;dbl&gt;</th><th scope=col>&lt;dbl&gt;</th><th scope=col>&lt;dbl&gt;</th><th scope=col>&lt;dbl&gt;</th><th scope=col>&lt;dbl&gt;</th></tr>\n",
       "</thead>\n",
       "<tbody>\n",
       "\t<tr><td>1:100009712-100010377</td><td>0.3721211</td><td>alpha</td><td>0.4540326</td><td>1</td><td>1</td><td>0.005393951</td><td>0.003894839</td><td>1.386916</td></tr>\n",
       "</tbody>\n",
       "</table>\n"
      ],
      "text/latex": [
       "A data.frame: 1 × 9\n",
       "\\begin{tabular}{r|lllllllll}\n",
       " distal\\_peak & pval & celltype & FDR & padj.Bonferroni & FDR.BY & type1\\_frac & type2\\_frac & odds\\\\\n",
       " <chr> & <dbl> & <chr> & <dbl> & <dbl> & <dbl> & <dbl> & <dbl> & <dbl>\\\\\n",
       "\\hline\n",
       "\t 1:100009712-100010377 & 0.3721211 & alpha & 0.4540326 & 1 & 1 & 0.005393951 & 0.003894839 & 1.386916\\\\\n",
       "\\end{tabular}\n"
      ],
      "text/markdown": [
       "\n",
       "A data.frame: 1 × 9\n",
       "\n",
       "| distal_peak &lt;chr&gt; | pval &lt;dbl&gt; | celltype &lt;chr&gt; | FDR &lt;dbl&gt; | padj.Bonferroni &lt;dbl&gt; | FDR.BY &lt;dbl&gt; | type1_frac &lt;dbl&gt; | type2_frac &lt;dbl&gt; | odds &lt;dbl&gt; |\n",
       "|---|---|---|---|---|---|---|---|---|\n",
       "| 1:100009712-100010377 | 0.3721211 | alpha | 0.4540326 | 1 | 1 | 0.005393951 | 0.003894839 | 1.386916 |\n",
       "\n"
      ],
      "text/plain": [
       "  distal_peak           pval      celltype FDR       padj.Bonferroni FDR.BY\n",
       "1 1:100009712-100010377 0.3721211 alpha    0.4540326 1               1     \n",
       "  type1_frac  type2_frac  odds    \n",
       "1 0.005393951 0.003894839 1.386916"
      ]
     },
     "metadata": {},
     "output_type": "display_data"
    },
    {
     "name": "stderr",
     "output_type": "stream",
     "text": [
      "Joining, by = c(\"distal_peak\", \"celltype\")\n"
     ]
    },
    {
     "data": {
      "text/html": [
       "<table>\n",
       "<caption>A data.frame: 1 × 9</caption>\n",
       "<thead>\n",
       "\t<tr><th scope=col>distal_peak</th><th scope=col>celltype</th><th scope=col>type1_frac</th><th scope=col>type2_frac</th><th scope=col>odds</th><th scope=col>pval</th><th scope=col>FDR</th><th scope=col>padj.Bonferroni</th><th scope=col>FDR.BY</th></tr>\n",
       "\t<tr><th scope=col>&lt;chr&gt;</th><th scope=col>&lt;chr&gt;</th><th scope=col>&lt;dbl&gt;</th><th scope=col>&lt;dbl&gt;</th><th scope=col>&lt;dbl&gt;</th><th scope=col>&lt;dbl&gt;</th><th scope=col>&lt;dbl&gt;</th><th scope=col>&lt;dbl&gt;</th><th scope=col>&lt;dbl&gt;</th></tr>\n",
       "</thead>\n",
       "<tbody>\n",
       "\t<tr><td>1:100009712-100010377</td><td>alpha</td><td>0.005393951</td><td>0.003894839</td><td>1.386916</td><td>0.3721211</td><td>0.4540326</td><td>1</td><td>1</td></tr>\n",
       "</tbody>\n",
       "</table>\n"
      ],
      "text/latex": [
       "A data.frame: 1 × 9\n",
       "\\begin{tabular}{r|lllllllll}\n",
       " distal\\_peak & celltype & type1\\_frac & type2\\_frac & odds & pval & FDR & padj.Bonferroni & FDR.BY\\\\\n",
       " <chr> & <chr> & <dbl> & <dbl> & <dbl> & <dbl> & <dbl> & <dbl> & <dbl>\\\\\n",
       "\\hline\n",
       "\t 1:100009712-100010377 & alpha & 0.005393951 & 0.003894839 & 1.386916 & 0.3721211 & 0.4540326 & 1 & 1\\\\\n",
       "\\end{tabular}\n"
      ],
      "text/markdown": [
       "\n",
       "A data.frame: 1 × 9\n",
       "\n",
       "| distal_peak &lt;chr&gt; | celltype &lt;chr&gt; | type1_frac &lt;dbl&gt; | type2_frac &lt;dbl&gt; | odds &lt;dbl&gt; | pval &lt;dbl&gt; | FDR &lt;dbl&gt; | padj.Bonferroni &lt;dbl&gt; | FDR.BY &lt;dbl&gt; |\n",
       "|---|---|---|---|---|---|---|---|---|\n",
       "| 1:100009712-100010377 | alpha | 0.005393951 | 0.003894839 | 1.386916 | 0.3721211 | 0.4540326 | 1 | 1 |\n",
       "\n"
      ],
      "text/plain": [
       "  distal_peak           celltype type1_frac  type2_frac  odds     pval     \n",
       "1 1:100009712-100010377 alpha    0.005393951 0.003894839 1.386916 0.3721211\n",
       "  FDR       padj.Bonferroni FDR.BY\n",
       "1 0.4540326 1               1     "
      ]
     },
     "metadata": {},
     "output_type": "display_data"
    }
   ],
   "source": [
    "res.transcript_level %>% nrow\n",
    "res.transcript_level.2 %>% nrow\n",
    "res.transcript_level %>% head(1)\n",
    "res.transcript_level.2 %>% left_join(res.transcript_level %>% select(distal_peak, \n",
    "    celltype, type1_frac, type2_frac, odds) %>% distinct) %>% nrow\n",
    "res.transcript_level.2 %>% left_join(res.transcript_level %>% select(distal_peak, \n",
    "    celltype, type1_frac, type2_frac, odds) %>% distinct) %>% head(1)\n",
    "\n",
    "res.transcript_level.2 %>% left_join(res.transcript_level %>% select(distal_peak, \n",
    "    celltype, type1_frac, type2_frac,  odds) %>% distinct) %>% nrow\n",
    "\n",
    "res.transcript_level.2 %>% left_join(res.transcript_level %>% select(distal_peak, \n",
    "    celltype, type1_frac, type2_frac, odds) %>% distinct) %>% head(1)\n",
    "\n",
    "\n",
    "res.transcript_level.2 %>% left_join(res.transcript_level %>% select(distal_peak, \n",
    "    celltype, type1_frac, type2_frac,  odds) %>% distinct) %>% select(distal_peak, \n",
    "    celltype, type1_frac, type2_frac, odds, pval, FDR, padj.Bonferroni, FDR.BY) %>% \n",
    "    head(1)\n",
    "\n"
   ]
  },
  {
   "cell_type": "code",
   "execution_count": 16,
   "metadata": {},
   "outputs": [
    {
     "name": "stderr",
     "output_type": "stream",
     "text": [
      "Joining, by = c(\"distal_peak\", \"celltype\")\n"
     ]
    },
    {
     "data": {
      "text/html": [
       "<table>\n",
       "<caption>A data.frame: 1 × 9</caption>\n",
       "<thead>\n",
       "\t<tr><th scope=col>distal_peak</th><th scope=col>celltype</th><th scope=col>type1_frac</th><th scope=col>type2_frac</th><th scope=col>odds</th><th scope=col>pval</th><th scope=col>FDR</th><th scope=col>padj.Bonferroni</th><th scope=col>FDR.BY</th></tr>\n",
       "\t<tr><th scope=col>&lt;chr&gt;</th><th scope=col>&lt;chr&gt;</th><th scope=col>&lt;dbl&gt;</th><th scope=col>&lt;dbl&gt;</th><th scope=col>&lt;dbl&gt;</th><th scope=col>&lt;dbl&gt;</th><th scope=col>&lt;dbl&gt;</th><th scope=col>&lt;dbl&gt;</th><th scope=col>&lt;dbl&gt;</th></tr>\n",
       "</thead>\n",
       "<tbody>\n",
       "\t<tr><td>1:100009712-100010377</td><td>alpha</td><td>0.005393951</td><td>0.003894839</td><td>1.386916</td><td>0.3721211</td><td>0.4540326</td><td>1</td><td>1</td></tr>\n",
       "</tbody>\n",
       "</table>\n"
      ],
      "text/latex": [
       "A data.frame: 1 × 9\n",
       "\\begin{tabular}{r|lllllllll}\n",
       " distal\\_peak & celltype & type1\\_frac & type2\\_frac & odds & pval & FDR & padj.Bonferroni & FDR.BY\\\\\n",
       " <chr> & <chr> & <dbl> & <dbl> & <dbl> & <dbl> & <dbl> & <dbl> & <dbl>\\\\\n",
       "\\hline\n",
       "\t 1:100009712-100010377 & alpha & 0.005393951 & 0.003894839 & 1.386916 & 0.3721211 & 0.4540326 & 1 & 1\\\\\n",
       "\\end{tabular}\n"
      ],
      "text/markdown": [
       "\n",
       "A data.frame: 1 × 9\n",
       "\n",
       "| distal_peak &lt;chr&gt; | celltype &lt;chr&gt; | type1_frac &lt;dbl&gt; | type2_frac &lt;dbl&gt; | odds &lt;dbl&gt; | pval &lt;dbl&gt; | FDR &lt;dbl&gt; | padj.Bonferroni &lt;dbl&gt; | FDR.BY &lt;dbl&gt; |\n",
       "|---|---|---|---|---|---|---|---|---|\n",
       "| 1:100009712-100010377 | alpha | 0.005393951 | 0.003894839 | 1.386916 | 0.3721211 | 0.4540326 | 1 | 1 |\n",
       "\n"
      ],
      "text/plain": [
       "  distal_peak           celltype type1_frac  type2_frac  odds     pval     \n",
       "1 1:100009712-100010377 alpha    0.005393951 0.003894839 1.386916 0.3721211\n",
       "  FDR       padj.Bonferroni FDR.BY\n",
       "1 0.4540326 1               1     "
      ]
     },
     "metadata": {},
     "output_type": "display_data"
    }
   ],
   "source": [
    "\n",
    "res.transcript_level.2 %>% left_join(res.transcript_level %>% select(distal_peak, \n",
    "    celltype, type1_frac, type2_frac,  odds) %>% distinct) %>% select(distal_peak, \n",
    "    celltype, type1_frac, type2_frac, odds, pval, FDR, padj.Bonferroni, FDR.BY) %>% \n",
    "    head(1)"
   ]
  },
  {
   "cell_type": "code",
   "execution_count": 17,
   "metadata": {},
   "outputs": [
    {
     "name": "stderr",
     "output_type": "stream",
     "text": [
      "Joining, by = c(\"distal_peak\", \"celltype\")\n"
     ]
    }
   ],
   "source": [
    "res.transcript_level<- res.transcript_level.2 %>% left_join(res.transcript_level %>% select(distal_peak, \n",
    "    celltype, type1_frac, type2_frac,  odds) %>% distinct) %>% select(distal_peak, \n",
    "    celltype, type1_frac, type2_frac, odds, pval, FDR, padj.Bonferroni, FDR.BY)"
   ]
  },
  {
   "cell_type": "code",
   "execution_count": 18,
   "metadata": {},
   "outputs": [
    {
     "data": {
      "text/html": [
       "322498"
      ],
      "text/latex": [
       "322498"
      ],
      "text/markdown": [
       "322498"
      ],
      "text/plain": [
       "[1] 322498"
      ]
     },
     "metadata": {},
     "output_type": "display_data"
    }
   ],
   "source": [
    "res.transcript_level%>%nrow"
   ]
  },
  {
   "cell_type": "code",
   "execution_count": 19,
   "metadata": {},
   "outputs": [],
   "source": [
    "fwrite(res.transcript_level, file = \"../dat/1910_v2/distal.peaks.sub_vs_sub.fisher.csv\")\n",
    "system('gzip -9 ../dat/1910_v2/distal.peaks.sub_vs_sub.fisher.csv')"
   ]
  },
  {
   "cell_type": "code",
   "execution_count": null,
   "metadata": {},
   "outputs": [],
   "source": []
  }
 ],
 "metadata": {
  "kernelspec": {
   "display_name": "R",
   "language": "R",
   "name": "ir"
  },
  "language_info": {
   "codemirror_mode": "r",
   "file_extension": ".r",
   "mimetype": "text/x-r-source",
   "name": "R",
   "pygments_lexer": "r",
   "version": "3.5.1"
  }
 },
 "nbformat": 4,
 "nbformat_minor": 2
}
