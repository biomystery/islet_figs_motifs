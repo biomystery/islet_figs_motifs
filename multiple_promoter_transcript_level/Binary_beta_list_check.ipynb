{
 "cells": [
  {
   "cell_type": "code",
   "execution_count": 2,
   "metadata": {},
   "outputs": [],
   "source": [
    "require(data.table)\n",
    "require(tidyverse)"
   ]
  },
  {
   "cell_type": "markdown",
   "metadata": {
    "heading_collapsed": true
   },
   "source": [
    "#### define beta heter genes "
   ]
  },
  {
   "cell_type": "code",
   "execution_count": 18,
   "metadata": {
    "hidden": true
   },
   "outputs": [],
   "source": [
    "beta.heter.genes <- c('NPY','TH','UCN3','DKK3')"
   ]
  },
  {
   "cell_type": "markdown",
   "metadata": {
    "heading_collapsed": true
   },
   "source": [
    "#### check from ttest results "
   ]
  },
  {
   "cell_type": "code",
   "execution_count": 3,
   "metadata": {
    "hidden": true
   },
   "outputs": [],
   "source": [
    "ranks <- fread('../dat/figdata/fig2_prom_ttest_res_genelevel.csv')"
   ]
  },
  {
   "cell_type": "code",
   "execution_count": 7,
   "metadata": {
    "hidden": true
   },
   "outputs": [
    {
     "data": {
      "text/plain": [
       "\n",
       "alpha  beta delta \n",
       "15378 15282 14464 "
      ]
     },
     "metadata": {},
     "output_type": "display_data"
    },
    {
     "data": {
      "text/html": [
       "<table>\n",
       "<thead><tr><th scope=col>celltype</th><th scope=col>gene</th><th scope=col>mlog10P</th><th scope=col>isAmbious</th></tr></thead>\n",
       "<tbody>\n",
       "\t<tr><td>alpha    </td><td>A1BG     </td><td>-3.683093</td><td>FALSE    </td></tr>\n",
       "</tbody>\n",
       "</table>\n"
      ],
      "text/latex": [
       "\\begin{tabular}{r|llll}\n",
       " celltype & gene & mlog10P & isAmbious\\\\\n",
       "\\hline\n",
       "\t alpha     & A1BG      & -3.683093 & FALSE    \\\\\n",
       "\\end{tabular}\n"
      ],
      "text/markdown": [
       "\n",
       "| celltype | gene | mlog10P | isAmbious |\n",
       "|---|---|---|---|\n",
       "| alpha     | A1BG      | -3.683093 | FALSE     |\n",
       "\n"
      ],
      "text/plain": [
       "  celltype gene mlog10P   isAmbious\n",
       "1 alpha    A1BG -3.683093 FALSE    "
      ]
     },
     "metadata": {},
     "output_type": "display_data"
    }
   ],
   "source": [
    "table(ranks$celltype)\n",
    "ranks%>%head(1)"
   ]
  },
  {
   "cell_type": "code",
   "execution_count": 8,
   "metadata": {
    "hidden": true
   },
   "outputs": [
    {
     "data": {
      "text/html": [
       "<table>\n",
       "<thead><tr><th scope=col>celltype</th><th scope=col>gene</th><th scope=col>mlog10P</th><th scope=col>isAmbious</th></tr></thead>\n",
       "<tbody>\n",
       "\t<tr><td>alpha     </td><td>DKK3      </td><td>-0.5013874</td><td>FALSE     </td></tr>\n",
       "\t<tr><td>alpha     </td><td>NPY       </td><td> 2.4031059</td><td>FALSE     </td></tr>\n",
       "\t<tr><td>alpha     </td><td>TH        </td><td>-0.3655884</td><td>FALSE     </td></tr>\n",
       "\t<tr><td>alpha     </td><td>UCN3      </td><td> 1.8523318</td><td>FALSE     </td></tr>\n",
       "\t<tr><td>beta      </td><td>DKK3      </td><td> 1.0838604</td><td>FALSE     </td></tr>\n",
       "\t<tr><td>beta      </td><td>NPY       </td><td> 1.1519130</td><td>FALSE     </td></tr>\n",
       "\t<tr><td>beta      </td><td>TH        </td><td> 0.0000000</td><td> TRUE     </td></tr>\n",
       "\t<tr><td>beta      </td><td>UCN3      </td><td> 0.3222370</td><td>FALSE     </td></tr>\n",
       "\t<tr><td>delta     </td><td>DKK3      </td><td>-0.4054918</td><td>FALSE     </td></tr>\n",
       "\t<tr><td>delta     </td><td>NPY       </td><td> 0.0000000</td><td> TRUE     </td></tr>\n",
       "</tbody>\n",
       "</table>\n"
      ],
      "text/latex": [
       "\\begin{tabular}{r|llll}\n",
       " celltype & gene & mlog10P & isAmbious\\\\\n",
       "\\hline\n",
       "\t alpha      & DKK3       & -0.5013874 & FALSE     \\\\\n",
       "\t alpha      & NPY        &  2.4031059 & FALSE     \\\\\n",
       "\t alpha      & TH         & -0.3655884 & FALSE     \\\\\n",
       "\t alpha      & UCN3       &  1.8523318 & FALSE     \\\\\n",
       "\t beta       & DKK3       &  1.0838604 & FALSE     \\\\\n",
       "\t beta       & NPY        &  1.1519130 & FALSE     \\\\\n",
       "\t beta       & TH         &  0.0000000 &  TRUE     \\\\\n",
       "\t beta       & UCN3       &  0.3222370 & FALSE     \\\\\n",
       "\t delta      & DKK3       & -0.4054918 & FALSE     \\\\\n",
       "\t delta      & NPY        &  0.0000000 &  TRUE     \\\\\n",
       "\\end{tabular}\n"
      ],
      "text/markdown": [
       "\n",
       "| celltype | gene | mlog10P | isAmbious |\n",
       "|---|---|---|---|\n",
       "| alpha      | DKK3       | -0.5013874 | FALSE      |\n",
       "| alpha      | NPY        |  2.4031059 | FALSE      |\n",
       "| alpha      | TH         | -0.3655884 | FALSE      |\n",
       "| alpha      | UCN3       |  1.8523318 | FALSE      |\n",
       "| beta       | DKK3       |  1.0838604 | FALSE      |\n",
       "| beta       | NPY        |  1.1519130 | FALSE      |\n",
       "| beta       | TH         |  0.0000000 |  TRUE      |\n",
       "| beta       | UCN3       |  0.3222370 | FALSE      |\n",
       "| delta      | DKK3       | -0.4054918 | FALSE      |\n",
       "| delta      | NPY        |  0.0000000 |  TRUE      |\n",
       "\n"
      ],
      "text/plain": [
       "   celltype gene mlog10P    isAmbious\n",
       "1  alpha    DKK3 -0.5013874 FALSE    \n",
       "2  alpha    NPY   2.4031059 FALSE    \n",
       "3  alpha    TH   -0.3655884 FALSE    \n",
       "4  alpha    UCN3  1.8523318 FALSE    \n",
       "5  beta     DKK3  1.0838604 FALSE    \n",
       "6  beta     NPY   1.1519130 FALSE    \n",
       "7  beta     TH    0.0000000  TRUE    \n",
       "8  beta     UCN3  0.3222370 FALSE    \n",
       "9  delta    DKK3 -0.4054918 FALSE    \n",
       "10 delta    NPY   0.0000000  TRUE    "
      ]
     },
     "metadata": {},
     "output_type": "display_data"
    }
   ],
   "source": [
    "ranks%>%filter(gene %in% beta.heter.genes)"
   ]
  },
  {
   "cell_type": "markdown",
   "metadata": {},
   "source": [
    "#### check from full ttest results "
   ]
  },
  {
   "cell_type": "code",
   "execution_count": 15,
   "metadata": {},
   "outputs": [],
   "source": [
    "ranks.2 <- fread(\"/Users/frank/Dropbox (UCSD_Epigenomics)/Islet_snATAC/panel_pdfs/sfigs/fig_2.prom_beta_volcano.csv\") %>% \n",
    "    separate(gene_transcript, into = c(\"gene\", \"tr.idx\"),sep = \"_\")"
   ]
  },
  {
   "cell_type": "code",
   "execution_count": 17,
   "metadata": {},
   "outputs": [
    {
     "data": {
      "text/html": [
       "<table>\n",
       "<thead><tr><th scope=col>peak</th><th scope=col>gene</th><th scope=col>tr.idx</th><th scope=col>pval</th><th scope=col>odds</th><th scope=col>FDR</th><th scope=col>padj.Bonferroni</th><th scope=col>FDR.BY</th><th scope=col>percent_open_state1</th><th scope=col>percent_open_state2</th></tr></thead>\n",
       "<tbody>\n",
       "\t<tr><td>chr1:859052-860562</td><td>SAMD11            </td><td>7                 </td><td>0.4840908         </td><td>1.012853          </td><td>0.5020328         </td><td>1                 </td><td>1                 </td><td>4.13413           </td><td>4.083807          </td></tr>\n",
       "</tbody>\n",
       "</table>\n"
      ],
      "text/latex": [
       "\\begin{tabular}{r|llllllllll}\n",
       " peak & gene & tr.idx & pval & odds & FDR & padj.Bonferroni & FDR.BY & percent\\_open\\_state1 & percent\\_open\\_state2\\\\\n",
       "\\hline\n",
       "\t chr1:859052-860562 & SAMD11             & 7                  & 0.4840908          & 1.012853           & 0.5020328          & 1                  & 1                  & 4.13413            & 4.083807          \\\\\n",
       "\\end{tabular}\n"
      ],
      "text/markdown": [
       "\n",
       "| peak | gene | tr.idx | pval | odds | FDR | padj.Bonferroni | FDR.BY | percent_open_state1 | percent_open_state2 |\n",
       "|---|---|---|---|---|---|---|---|---|---|\n",
       "| chr1:859052-860562 | SAMD11             | 7                  | 0.4840908          | 1.012853           | 0.5020328          | 1                  | 1                  | 4.13413            | 4.083807           |\n",
       "\n"
      ],
      "text/plain": [
       "  peak               gene   tr.idx pval      odds     FDR       padj.Bonferroni\n",
       "1 chr1:859052-860562 SAMD11 7      0.4840908 1.012853 0.5020328 1              \n",
       "  FDR.BY percent_open_state1 percent_open_state2\n",
       "1 1      4.13413             4.083807           "
      ]
     },
     "metadata": {},
     "output_type": "display_data"
    },
    {
     "data": {
      "text/html": [
       "<ol class=list-inline>\n",
       "\t<li>22544</li>\n",
       "\t<li>10</li>\n",
       "</ol>\n"
      ],
      "text/latex": [
       "\\begin{enumerate*}\n",
       "\\item 22544\n",
       "\\item 10\n",
       "\\end{enumerate*}\n"
      ],
      "text/markdown": [
       "1. 22544\n",
       "2. 10\n",
       "\n",
       "\n"
      ],
      "text/plain": [
       "[1] 22544    10"
      ]
     },
     "metadata": {},
     "output_type": "display_data"
    }
   ],
   "source": [
    "ranks.2%>%head(1)\n",
    "ranks.2%>%dim\n",
    "ranks.2 "
   ]
  },
  {
   "cell_type": "code",
   "execution_count": 19,
   "metadata": {},
   "outputs": [
    {
     "data": {
      "text/html": [
       "<table>\n",
       "<thead><tr><th scope=col>peak</th><th scope=col>gene</th><th scope=col>tr.idx</th><th scope=col>pval</th><th scope=col>odds</th><th scope=col>FDR</th><th scope=col>padj.Bonferroni</th><th scope=col>FDR.BY</th><th scope=col>percent_open_state1</th><th scope=col>percent_open_state2</th></tr></thead>\n",
       "<tbody>\n",
       "\t<tr><td>chr10:5406763-5408269  </td><td>UCN3                   </td><td>12232                  </td><td>0.476171068            </td><td>1.012289               </td><td>0.496699019            </td><td>1                      </td><td>1.00000000             </td><td>5.6040423              </td><td>5.5397727              </td></tr>\n",
       "\t<tr><td>chr11:2187411-2188036  </td><td>TH                     </td><td>16716                  </td><td>0.001585311            </td><td>2.279889               </td><td>0.007503493            </td><td>1                      </td><td>0.07929729             </td><td>1.2861736              </td><td>0.5681818              </td></tr>\n",
       "\t<tr><td>chr11:2190359-2190628  </td><td>TH                     </td><td>16719                  </td><td>0.100167396            </td><td>0.546179               </td><td>0.168265203            </td><td>1                      </td><td>1.00000000             </td><td>0.2526412              </td><td>0.4616477              </td></tr>\n",
       "\t<tr><td>chr11:12030007-12031376</td><td>DKK3                   </td><td>17705                  </td><td>0.082440307            </td><td>1.382718               </td><td>0.146233720            </td><td>1                      </td><td>1.00000000             </td><td>1.5158475              </td><td>1.1008523              </td></tr>\n",
       "\t<tr><td>chr7:24323235-24324379 </td><td>NPY                    </td><td>115281                 </td><td>0.070483422            </td><td>1.238019               </td><td>0.129694012            </td><td>1                      </td><td>1.00000000             </td><td>3.5369775              </td><td>2.8764205              </td></tr>\n",
       "\t<tr><td>chr7:24324578-24325126 </td><td>NPY                    </td><td>115283                 </td><td>0.234872689            </td><td>1.198248               </td><td>0.310089918            </td><td>1                      </td><td>1.00000000             </td><td>1.4010106              </td><td>1.1718750              </td></tr>\n",
       "</tbody>\n",
       "</table>\n"
      ],
      "text/latex": [
       "\\begin{tabular}{r|llllllllll}\n",
       " peak & gene & tr.idx & pval & odds & FDR & padj.Bonferroni & FDR.BY & percent\\_open\\_state1 & percent\\_open\\_state2\\\\\n",
       "\\hline\n",
       "\t chr10:5406763-5408269   & UCN3                    & 12232                   & 0.476171068             & 1.012289                & 0.496699019             & 1                       & 1.00000000              & 5.6040423               & 5.5397727              \\\\\n",
       "\t chr11:2187411-2188036   & TH                      & 16716                   & 0.001585311             & 2.279889                & 0.007503493             & 1                       & 0.07929729              & 1.2861736               & 0.5681818              \\\\\n",
       "\t chr11:2190359-2190628   & TH                      & 16719                   & 0.100167396             & 0.546179                & 0.168265203             & 1                       & 1.00000000              & 0.2526412               & 0.4616477              \\\\\n",
       "\t chr11:12030007-12031376 & DKK3                    & 17705                   & 0.082440307             & 1.382718                & 0.146233720             & 1                       & 1.00000000              & 1.5158475               & 1.1008523              \\\\\n",
       "\t chr7:24323235-24324379  & NPY                     & 115281                  & 0.070483422             & 1.238019                & 0.129694012             & 1                       & 1.00000000              & 3.5369775               & 2.8764205              \\\\\n",
       "\t chr7:24324578-24325126  & NPY                     & 115283                  & 0.234872689             & 1.198248                & 0.310089918             & 1                       & 1.00000000              & 1.4010106               & 1.1718750              \\\\\n",
       "\\end{tabular}\n"
      ],
      "text/markdown": [
       "\n",
       "| peak | gene | tr.idx | pval | odds | FDR | padj.Bonferroni | FDR.BY | percent_open_state1 | percent_open_state2 |\n",
       "|---|---|---|---|---|---|---|---|---|---|\n",
       "| chr10:5406763-5408269   | UCN3                    | 12232                   | 0.476171068             | 1.012289                | 0.496699019             | 1                       | 1.00000000              | 5.6040423               | 5.5397727               |\n",
       "| chr11:2187411-2188036   | TH                      | 16716                   | 0.001585311             | 2.279889                | 0.007503493             | 1                       | 0.07929729              | 1.2861736               | 0.5681818               |\n",
       "| chr11:2190359-2190628   | TH                      | 16719                   | 0.100167396             | 0.546179                | 0.168265203             | 1                       | 1.00000000              | 0.2526412               | 0.4616477               |\n",
       "| chr11:12030007-12031376 | DKK3                    | 17705                   | 0.082440307             | 1.382718                | 0.146233720             | 1                       | 1.00000000              | 1.5158475               | 1.1008523               |\n",
       "| chr7:24323235-24324379  | NPY                     | 115281                  | 0.070483422             | 1.238019                | 0.129694012             | 1                       | 1.00000000              | 3.5369775               | 2.8764205               |\n",
       "| chr7:24324578-24325126  | NPY                     | 115283                  | 0.234872689             | 1.198248                | 0.310089918             | 1                       | 1.00000000              | 1.4010106               | 1.1718750               |\n",
       "\n"
      ],
      "text/plain": [
       "  peak                    gene tr.idx pval        odds     FDR        \n",
       "1 chr10:5406763-5408269   UCN3 12232  0.476171068 1.012289 0.496699019\n",
       "2 chr11:2187411-2188036   TH   16716  0.001585311 2.279889 0.007503493\n",
       "3 chr11:2190359-2190628   TH   16719  0.100167396 0.546179 0.168265203\n",
       "4 chr11:12030007-12031376 DKK3 17705  0.082440307 1.382718 0.146233720\n",
       "5 chr7:24323235-24324379  NPY  115281 0.070483422 1.238019 0.129694012\n",
       "6 chr7:24324578-24325126  NPY  115283 0.234872689 1.198248 0.310089918\n",
       "  padj.Bonferroni FDR.BY     percent_open_state1 percent_open_state2\n",
       "1 1               1.00000000 5.6040423           5.5397727          \n",
       "2 1               0.07929729 1.2861736           0.5681818          \n",
       "3 1               1.00000000 0.2526412           0.4616477          \n",
       "4 1               1.00000000 1.5158475           1.1008523          \n",
       "5 1               1.00000000 3.5369775           2.8764205          \n",
       "6 1               1.00000000 1.4010106           1.1718750          "
      ]
     },
     "metadata": {},
     "output_type": "display_data"
    }
   ],
   "source": [
    "ranks.2 %>%filter(gene %in% beta.heter.genes)"
   ]
  },
  {
   "cell_type": "markdown",
   "metadata": {},
   "source": [
    "#### beta list from Segerstolpe et al"
   ]
  },
  {
   "cell_type": "code",
   "execution_count": 25,
   "metadata": {},
   "outputs": [
    {
     "data": {
      "text/html": [
       "<table>\n",
       "<thead><tr><th></th><th scope=col>c1_5</th><th scope=col>c1_2_3</th></tr></thead>\n",
       "<tbody>\n",
       "\t<tr><th scope=row>peak</th><td>chr10:95326174-95327034, chr10:95360249-95361468</td><td>chr1:23885664-23886610 , chr20:30192811-30193501</td></tr>\n",
       "\t<tr><th scope=row>gene</th><td>FFAR4, RBP4 </td><td>ID3, ID1    </td></tr>\n",
       "\t<tr><th scope=row>tr.idx</th><td>14583, 14585</td><td>1851 , 83442</td></tr>\n",
       "\t<tr><th scope=row>pval</th><td>0.009863356, 0.048924613  </td><td>2.840514e-01, 2.671047e-22</td></tr>\n",
       "\t<tr><th scope=row>odds</th><td>1.368336, 1.277446</td><td>1.068912, 2.125662</td></tr>\n",
       "\t<tr><th scope=row>FDR</th><td>0.02995655, 0.09941929    </td><td>3.540413e-01, 3.643475e-19</td></tr>\n",
       "\t<tr><th scope=row>padj.Bonferroni</th><td>1, 1                    </td><td>1.00000e+00, 5.82956e-18</td></tr>\n",
       "\t<tr><th scope=row>FDR.BY</th><td>0.3165823, 1.0000000      </td><td>1.000000e+00, 3.850443e-18</td></tr>\n",
       "\t<tr><th scope=row>percent_open_state1</th><td>4.180064, 3.422141 </td><td>5.672944, 15.457051</td></tr>\n",
       "\t<tr><th scope=row>percent_open_state2</th><td>3.089489, 2.698864</td><td>5.326705, 7.919034</td></tr>\n",
       "</tbody>\n",
       "</table>\n"
      ],
      "text/latex": [
       "\\begin{tabular}{r|ll}\n",
       "  & c1\\_5 & c1\\_2\\_3\\\\\n",
       "\\hline\n",
       "\tpeak & chr10:95326174-95327034, chr10:95360249-95361468 & chr1:23885664-23886610 , chr20:30192811-30193501\\\\\n",
       "\tgene & FFAR4, RBP4  & ID3, ID1    \\\\\n",
       "\ttr.idx & 14583, 14585 & 1851 , 83442\\\\\n",
       "\tpval & 0.009863356, 0.048924613   & 2.840514e-01, 2.671047e-22\\\\\n",
       "\todds & 1.368336, 1.277446 & 1.068912, 2.125662\\\\\n",
       "\tFDR & 0.02995655, 0.09941929     & 3.540413e-01, 3.643475e-19\\\\\n",
       "\tpadj.Bonferroni & 1, 1                     & 1.00000e+00, 5.82956e-18\\\\\n",
       "\tFDR.BY & 0.3165823, 1.0000000       & 1.000000e+00, 3.850443e-18\\\\\n",
       "\tpercent\\_open\\_state1 & 4.180064, 3.422141  & 5.672944, 15.457051\\\\\n",
       "\tpercent\\_open\\_state2 & 3.089489, 2.698864 & 5.326705, 7.919034\\\\\n",
       "\\end{tabular}\n"
      ],
      "text/markdown": [
       "\n",
       "| <!--/--> | c1_5 | c1_2_3 |\n",
       "|---|---|---|\n",
       "| peak | chr10:95326174-95327034, chr10:95360249-95361468 | chr1:23885664-23886610 , chr20:30192811-30193501 |\n",
       "| gene | FFAR4, RBP4  | ID3, ID1     |\n",
       "| tr.idx | 14583, 14585 | 1851 , 83442 |\n",
       "| pval | 0.009863356, 0.048924613   | 2.840514e-01, 2.671047e-22 |\n",
       "| odds | 1.368336, 1.277446 | 1.068912, 2.125662 |\n",
       "| FDR | 0.02995655, 0.09941929     | 3.540413e-01, 3.643475e-19 |\n",
       "| padj.Bonferroni | 1, 1                     | 1.00000e+00, 5.82956e-18 |\n",
       "| FDR.BY | 0.3165823, 1.0000000       | 1.000000e+00, 3.850443e-18 |\n",
       "| percent_open_state1 | 4.180064, 3.422141  | 5.672944, 15.457051 |\n",
       "| percent_open_state2 | 3.089489, 2.698864 | 5.326705, 7.919034 |\n",
       "\n"
      ],
      "text/plain": [
       "                    c1_5                                            \n",
       "peak                chr10:95326174-95327034, chr10:95360249-95361468\n",
       "gene                FFAR4, RBP4                                     \n",
       "tr.idx              14583, 14585                                    \n",
       "pval                0.009863356, 0.048924613                        \n",
       "odds                1.368336, 1.277446                              \n",
       "FDR                 0.02995655, 0.09941929                          \n",
       "padj.Bonferroni     1, 1                                            \n",
       "FDR.BY              0.3165823, 1.0000000                            \n",
       "percent_open_state1 4.180064, 3.422141                              \n",
       "percent_open_state2 3.089489, 2.698864                              \n",
       "                    c1_2_3                                          \n",
       "peak                chr1:23885664-23886610 , chr20:30192811-30193501\n",
       "gene                ID3, ID1                                        \n",
       "tr.idx              1851 , 83442                                    \n",
       "pval                2.840514e-01, 2.671047e-22                      \n",
       "odds                1.068912, 2.125662                              \n",
       "FDR                 3.540413e-01, 3.643475e-19                      \n",
       "padj.Bonferroni     1.00000e+00, 5.82956e-18                        \n",
       "FDR.BY              1.000000e+00, 3.850443e-18                      \n",
       "percent_open_state1 5.672944, 15.457051                             \n",
       "percent_open_state2 5.326705, 7.919034                              "
      ]
     },
     "metadata": {},
     "output_type": "display_data"
    }
   ],
   "source": [
    "beta.list.segerstolpe <- list(c1_5 = c(\"RBP4\", \"FFAR4\"), c1_2_3 = c(\"ID1\", \"ID3\"))\n",
    "sapply(names(beta.list.segerstolpe), function(gl) ranks.2 %>% filter(gene %in% beta.list.segerstolpe[[gl]]))"
   ]
  },
  {
   "cell_type": "markdown",
   "metadata": {
    "heading_collapsed": true
   },
   "source": [
    "#### beta list create from Mawla et al. Diabetes 2019"
   ]
  },
  {
   "cell_type": "code",
   "execution_count": 20,
   "metadata": {
    "hidden": true
   },
   "outputs": [],
   "source": [
    "beta.list <-  fread('~/Dropbox (UCSD_Epigenomics)/workReports/2019-09_islet_rev/Mawla_2019_tabS2a.csv')"
   ]
  },
  {
   "cell_type": "code",
   "execution_count": 21,
   "metadata": {
    "hidden": true
   },
   "outputs": [
    {
     "data": {
      "text/html": [
       "<table>\n",
       "<thead><tr><th scope=col>gene</th><th scope=col>pct</th><th scope=col>logFC</th></tr></thead>\n",
       "<tbody>\n",
       "\t<tr><td>G6PC2</td><td>1    </td><td>1    </td></tr>\n",
       "</tbody>\n",
       "</table>\n"
      ],
      "text/latex": [
       "\\begin{tabular}{r|lll}\n",
       " gene & pct & logFC\\\\\n",
       "\\hline\n",
       "\t G6PC2 & 1     & 1    \\\\\n",
       "\\end{tabular}\n"
      ],
      "text/markdown": [
       "\n",
       "| gene | pct | logFC |\n",
       "|---|---|---|\n",
       "| G6PC2 | 1     | 1     |\n",
       "\n"
      ],
      "text/plain": [
       "  gene  pct logFC\n",
       "1 G6PC2 1   1    "
      ]
     },
     "metadata": {},
     "output_type": "display_data"
    }
   ],
   "source": [
    "beta.list%>%head(1)\n"
   ]
  },
  {
   "cell_type": "code",
   "execution_count": 22,
   "metadata": {
    "hidden": true,
    "scrolled": false
   },
   "outputs": [
    {
     "data": {
      "text/html": [
       "<table>\n",
       "<thead><tr><th scope=col>peak</th><th scope=col>gene</th><th scope=col>tr.idx</th><th scope=col>pval</th><th scope=col>odds</th><th scope=col>FDR</th><th scope=col>padj.Bonferroni</th><th scope=col>FDR.BY</th><th scope=col>percent_open_state1</th><th scope=col>percent_open_state2</th></tr></thead>\n",
       "<tbody>\n",
       "\t<tr><td>chr1:46648784-46649576   </td><td>TSPAN1                   </td><td>4063                     </td><td>4.434098e-02             </td><td>1.2242238                </td><td>9.250951e-02             </td><td>1.000000e+00             </td><td>9.776451e-01             </td><td> 5.1676619               </td><td> 4.26136364              </td></tr>\n",
       "\t<tr><td>chr1:152008802-152009737 </td><td>S100A11                  </td><td>7441                     </td><td>2.094584e-02             </td><td>0.7784769                </td><td>5.303282e-02             </td><td>1.000000e+00             </td><td>5.604535e-01             </td><td> 3.7436840               </td><td> 4.75852273              </td></tr>\n",
       "\t<tr><td>chr1:152020156-152021203 </td><td>S100A11                  </td><td>7442                     </td><td>1.504022e-01             </td><td>1.1001858                </td><td>2.257585e-01             </td><td>1.000000e+00             </td><td>1.000000e+00             </td><td> 8.5668351               </td><td> 7.84801136              </td></tr>\n",
       "\t<tr><td>chr1:161493555-161494649 </td><td>HSPA6                    </td><td>8959                     </td><td>1.030570e-01             </td><td>0.8755561                </td><td>1.720470e-01             </td><td>1.000000e+00             </td><td>1.000000e+00             </td><td> 5.6729444               </td><td> 6.42755682              </td></tr>\n",
       "\t<tr><td>chr1:186264950-186265548 </td><td>PRG4                     </td><td>9832                     </td><td>4.351802e-01             </td><td>1.0329856                </td><td>4.689692e-01             </td><td>1.000000e+00             </td><td>1.000000e+00             </td><td> 3.2613689               </td><td> 3.16051136              </td></tr>\n",
       "\t<tr><td>chr1:186649109-186650184 </td><td>PTGS2                    </td><td>9855                     </td><td>4.500303e-05             </td><td>0.7567763                </td><td>4.591824e-04             </td><td>9.821911e-01             </td><td>4.852662e-03             </td><td>11.9430409               </td><td>15.19886364              </td></tr>\n",
       "\t<tr><td>chr1:205312507-205313798 </td><td>KLHDC8A                  </td><td>10411                    </td><td>3.053215e-02             </td><td>1.1890776                </td><td>7.006247e-02             </td><td>1.000000e+00             </td><td>7.404236e-01             </td><td> 8.4979329               </td><td> 7.24431818              </td></tr>\n",
       "\t<tr><td>chr10:45473987-45474569  </td><td>C10orf10                 </td><td>13228                    </td><td>5.327233e-08             </td><td>1.4550667                </td><td>1.977936e-06             </td><td>1.162669e-03             </td><td>2.090292e-05             </td><td>16.4216812               </td><td>11.89630682              </td></tr>\n",
       "\t<tr><td>chr11:2905330-2905962    </td><td>CDKN1C                   </td><td>16781                    </td><td>3.082334e-05             </td><td>0.7371657                </td><td>3.421767e-04             </td><td>6.727194e-01             </td><td>3.616141e-03             </td><td>10.0597152               </td><td>13.17471591              </td></tr>\n",
       "\t<tr><td>chr11:2906189-2907754    </td><td>CDKN1C                   </td><td>16781                    </td><td>3.082334e-05             </td><td>0.7371657                </td><td>3.421767e-04             </td><td>6.727194e-01             </td><td>3.616141e-03             </td><td>10.0597152               </td><td>13.17471591              </td></tr>\n",
       "\t<tr><td>chr11:102187812-102188674</td><td>BIRC3                    </td><td>23282                    </td><td>4.030663e-04             </td><td>0.7276809                </td><td>2.562459e-03             </td><td>1.000000e+00             </td><td>2.708020e-02             </td><td> 6.1322921               </td><td> 8.23863636              </td></tr>\n",
       "\t<tr><td>chr11:121322037-121323792</td><td>SORL1                    </td><td>24527                    </td><td>6.918715e-02             </td><td>0.8867926                </td><td>1.276856e-01             </td><td>1.000000e+00             </td><td>1.000000e+00             </td><td> 9.8530087               </td><td>10.97301136              </td></tr>\n",
       "\t<tr><td>chr11:121424070-121425298</td><td>SORL1                    </td><td>24529                    </td><td>3.895637e-05             </td><td>0.6656837                </td><td>4.103392e-04             </td><td>8.502228e-01             </td><td>4.336485e-03             </td><td> 4.8920533               </td><td> 7.17329545              </td></tr>\n",
       "\t<tr><td>chr11:121425847-121426201</td><td>SORL1                    </td><td>24529                    </td><td>3.895637e-05             </td><td>0.6656837                </td><td>4.103392e-04             </td><td>8.502228e-01             </td><td>4.336485e-03             </td><td> 4.8920533               </td><td> 7.17329545              </td></tr>\n",
       "\t<tr><td>chr11:121484424-121484819</td><td>SORL1                    </td><td>24537                    </td><td>2.061793e-02             </td><td>2.5955345                </td><td>5.242151e-02             </td><td>1.000000e+00             </td><td>5.539931e-01             </td><td> 0.5512173               </td><td> 0.21306818              </td></tr>\n",
       "\t<tr><td>chr11:121497277-121497525</td><td>SORL1                    </td><td>24538                    </td><td>2.194704e-02             </td><td>7.1296659                </td><td>5.490533e-02             </td><td>1.000000e+00             </td><td>5.802423e-01             </td><td> 0.2526412               </td><td> 0.03551136              </td></tr>\n",
       "\t<tr><td>chr12:21507662-21507928  </td><td>IAPP                     </td><td>26771                    </td><td>1.164511e-01             </td><td>0.7115993                </td><td>1.879702e-01             </td><td>1.000000e+00             </td><td>1.000000e+00             </td><td> 0.7349564               </td><td> 1.02982955              </td></tr>\n",
       "\t<tr><td>chr12:21525514-21525906  </td><td>IAPP                     </td><td>26772                    </td><td>1.176163e-02             </td><td>1.3842634                </td><td>3.422178e-02             </td><td>1.000000e+00             </td><td>3.616575e-01             </td><td> 3.6977492               </td><td> 2.69886364              </td></tr>\n",
       "\t<tr><td>chr14:35872864-35874312  </td><td>NFKBIA                   </td><td>36562                    </td><td>5.072112e-02             </td><td>0.9100444                </td><td>1.018086e-01             </td><td>1.000000e+00             </td><td>1.000000e+00             </td><td>23.1051906               </td><td>24.82244318              </td></tr>\n",
       "\t<tr><td>chr14:62462153-62462448  </td><td>SYT16                    </td><td>37525                    </td><td>9.270068e-03             </td><td>0.4634955                </td><td>2.869720e-02             </td><td>1.000000e+00             </td><td>3.032735e-01             </td><td> 0.4134130               </td><td> 0.88778409              </td></tr>\n",
       "\t<tr><td>chr14:94854631-94855437  </td><td>SERPINA1                 </td><td>39218                    </td><td>3.600846e-02             </td><td>0.6011433                </td><td>7.939031e-02             </td><td>1.000000e+00             </td><td>8.390008e-01             </td><td> 0.6430868               </td><td> 1.06534091              </td></tr>\n",
       "\t<tr><td>chr16:22824591-22825010  </td><td>HS3ST2                   </td><td>47596                    </td><td>6.271640e-03             </td><td>0.4291250                </td><td>2.131401e-02             </td><td>1.000000e+00             </td><td>2.252475e-01             </td><td> 0.3674782               </td><td> 0.85227273              </td></tr>\n",
       "\t<tr><td>chr16:22825374-22825612  </td><td>HS3ST2                   </td><td>47596                    </td><td>6.271640e-03             </td><td>0.4291250                </td><td>2.131401e-02             </td><td>1.000000e+00             </td><td>2.252475e-01             </td><td> 0.3674782               </td><td> 0.85227273              </td></tr>\n",
       "\t<tr><td>chr16:75240338-75240598  </td><td>CTRB2                    </td><td>51035                    </td><td>4.257747e-01             </td><td>1.2941462                </td><td>4.623616e-01             </td><td>1.000000e+00             </td><td>1.000000e+00             </td><td> 0.2296739               </td><td> 0.17755682              </td></tr>\n",
       "\t<tr><td>chr17:79479349-79480147  </td><td>ACTG1                    </td><td>60739                    </td><td>5.465461e-06             </td><td>0.6410793                </td><td>8.471852e-05             </td><td>1.192837e-01             </td><td>8.953096e-04             </td><td> 4.9839228               </td><td> 7.56392045              </td></tr>\n",
       "\t<tr><td>chr17:79480349-79481007  </td><td>ACTG1                    </td><td>60751                    </td><td>5.177791e-12             </td><td>0.3271355                </td><td>7.740088e-10             </td><td>1.130053e-07             </td><td>8.179764e-09             </td><td> 1.2632062               </td><td> 3.76420455              </td></tr>\n",
       "\t<tr><td>chr17:79481644-79482383  </td><td>ACTG1                    </td><td>60752                    </td><td>5.895186e-06             </td><td>0.5335954                </td><td>9.003669e-05             </td><td>1.286624e-01             </td><td>9.515122e-04             </td><td> 2.1819017               </td><td> 4.01278409              </td></tr>\n",
       "\t<tr><td>chr19:2475794-2477404    </td><td>GADD45B                  </td><td>64326                    </td><td>5.603575e-05             </td><td>0.6597035                </td><td>5.462171e-04             </td><td>1.000000e+00             </td><td>5.772450e-03             </td><td> 4.4327056               </td><td> 6.56960227              </td></tr>\n",
       "\t<tr><td>chr19:14628273-14629726  </td><td>DNAJB1                   </td><td>66723                    </td><td>7.882435e-03             </td><td>0.8170455                </td><td>2.533064e-02             </td><td>1.000000e+00             </td><td>2.676955e-01             </td><td> 8.6357373               </td><td>10.36931818              </td></tr>\n",
       "\t<tr><td>chr19:14639975-14640588  </td><td>DNAJB1                   </td><td>66727                    </td><td>3.082416e-03             </td><td>0.7806841                </td><td>1.247808e-02             </td><td>1.000000e+00             </td><td>1.318689e-01             </td><td> 7.0969224               </td><td> 8.91335227              </td></tr>\n",
       "\t<tr><td>⋮</td><td>⋮</td><td>⋮</td><td>⋮</td><td>⋮</td><td>⋮</td><td>⋮</td><td>⋮</td><td>⋮</td><td>⋮</td></tr>\n",
       "\t<tr><td>chr4:108910702-108911442</td><td>HADH                    </td><td>101095                  </td><td>2.047817e-01            </td><td>1.0498082               </td><td>2.819748e-01            </td><td>1.00000000              </td><td>1.0000000000            </td><td>24.1387230              </td><td>23.2599432              </td></tr>\n",
       "\t<tr><td>chr4:108935072-108935658</td><td>HADH                    </td><td>101100                  </td><td>2.392910e-06            </td><td>2.6783954               </td><td>4.323284e-05            </td><td>0.05222527              </td><td>0.0004568868            </td><td> 2.2508039              </td><td> 0.8522727              </td></tr>\n",
       "\t<tr><td>chr4:108948121-108948360</td><td>HADH                    </td><td>101101                  </td><td>1.294063e-04            </td><td>3.2592975               </td><td>1.059772e-03            </td><td>1.00000000              </td><td>0.0111997265            </td><td> 1.1483693              </td><td> 0.3551136              </td></tr>\n",
       "\t<tr><td>chr4:140476299-140478666</td><td>SETD7                   </td><td>101629                  </td><td>3.009870e-02            </td><td>0.8992636               </td><td>6.935954e-02            </td><td>1.00000000              </td><td>0.7329950462            </td><td>24.1387230              </td><td>26.1363636              </td></tr>\n",
       "\t<tr><td>chr5:95767359-95769397  </td><td>PCSK1                   </td><td>105164                  </td><td>2.271523e-01            </td><td>1.0493070               </td><td>3.031794e-01            </td><td>1.00000000              </td><td>1.0000000000            </td><td>19.3844740              </td><td>18.6434659              </td></tr>\n",
       "\t<tr><td>chr5:95769860-95770267  </td><td>PCSK1                   </td><td>105166                  </td><td>6.287214e-03            </td><td>1.3337347               </td><td>2.135696e-02            </td><td>1.00000000              </td><td>0.2257013766            </td><td> 5.6040423              </td><td> 4.2613636              </td></tr>\n",
       "\t<tr><td>chr6:160113603-160114978</td><td>SOD2                    </td><td>114018                  </td><td>4.711498e-01            </td><td>1.0078941               </td><td>4.933971e-01            </td><td>1.00000000              </td><td>1.0000000000            </td><td>13.2292145              </td><td>13.1392045              </td></tr>\n",
       "\t<tr><td>chr6:160147603-160149133</td><td>SOD2                    </td><td>114028                  </td><td>2.519054e-01            </td><td>0.9603881               </td><td>3.260682e-01            </td><td>1.00000000              </td><td>1.0000000000            </td><td>22.0257235              </td><td>22.7272727              </td></tr>\n",
       "\t<tr><td>chr6:160166117-160166646</td><td>SOD2                    </td><td>114034                  </td><td>4.539559e-01            </td><td>1.1503645               </td><td>4.812546e-01            </td><td>1.00000000              </td><td>1.0000000000            </td><td> 0.3674782              </td><td> 0.3196023              </td></tr>\n",
       "\t<tr><td>chr6:160182773-160183796</td><td>SOD2                    </td><td>114036                  </td><td>3.532860e-01            </td><td>1.0268041               </td><td>4.090342e-01            </td><td>1.00000000              </td><td>1.0000000000            </td><td>17.1336702              </td><td>16.7613636              </td></tr>\n",
       "\t<tr><td>chr7:557607-558138      </td><td>PDGFA                   </td><td>114348                  </td><td>2.618371e-02            </td><td>0.8664146               </td><td>6.272882e-02            </td><td>1.00000000              </td><td>0.6629212933            </td><td>11.8741387              </td><td>13.4588068              </td></tr>\n",
       "\t<tr><td>chr7:558527-559983      </td><td>PDGFA                   </td><td>114348                  </td><td>2.618371e-02            </td><td>0.8664146               </td><td>6.272882e-02            </td><td>1.00000000              </td><td>0.6629212933            </td><td>11.8741387              </td><td>13.4588068              </td></tr>\n",
       "\t<tr><td>chr7:24323235-24324379  </td><td>NPY                     </td><td>115281                  </td><td>7.048342e-02            </td><td>1.2380190               </td><td>1.296940e-01            </td><td>1.00000000              </td><td>1.0000000000            </td><td> 3.5369775              </td><td> 2.8764205              </td></tr>\n",
       "\t<tr><td>chr7:24324578-24325126  </td><td>NPY                     </td><td>115283                  </td><td>2.348727e-01            </td><td>1.1982476               </td><td>3.100899e-01            </td><td>1.00000000              </td><td>1.0000000000            </td><td> 1.4010106              </td><td> 1.1718750              </td></tr>\n",
       "\t<tr><td>chr7:95216650-95216908  </td><td>PDK4                    </td><td>117520                  </td><td>4.953973e-01            </td><td>1.0782962               </td><td>5.092575e-01            </td><td>1.00000000              </td><td>1.0000000000            </td><td> 0.4593477              </td><td> 0.4261364              </td></tr>\n",
       "\t<tr><td>chr7:95218278-95218804  </td><td>PDK4                    </td><td>117521                  </td><td>8.029733e-03            </td><td>0.4881023               </td><td>2.568502e-02            </td><td>1.00000000              </td><td>0.2714406115            </td><td> 0.5052825              </td><td> 1.0298295              </td></tr>\n",
       "\t<tr><td>chr7:95225191-95226410  </td><td>PDK4                    </td><td>117523                  </td><td>6.119550e-02            </td><td>0.8959850               </td><td>1.169418e-01            </td><td>1.00000000              </td><td>1.0000000000            </td><td>13.3440514              </td><td>14.6661932              </td></tr>\n",
       "\t<tr><td>chr7:105924534-105926144</td><td>NAMPT                   </td><td>118487                  </td><td>3.874747e-06            </td><td>0.7798828               </td><td>6.401691e-05            </td><td>0.08456634              </td><td>0.0006765339            </td><td>23.3807993              </td><td>28.1250000              </td></tr>\n",
       "\t<tr><td>chr7:130019730-130020584</td><td>CPA1                    </td><td>119251                  </td><td>4.239419e-02            </td><td>2.7552374               </td><td>8.962159e-02            </td><td>1.00000000              </td><td>0.9471254303            </td><td> 0.3904456              </td><td> 0.1420455              </td></tr>\n",
       "\t<tr><td>chr8:144512253-144513483</td><td>MAFA                    </td><td>125086                  </td><td>4.780515e-01            </td><td>0.9942346               </td><td>4.980178e-01            </td><td>1.00000000              </td><td>1.0000000000            </td><td>15.5489205              </td><td>15.6250000              </td></tr>\n",
       "\t<tr><td>chr9:33446425-33447891  </td><td>AQP3                    </td><td>126256                  </td><td>1.634683e-01            </td><td>0.9165640               </td><td>2.404917e-01            </td><td>1.00000000              </td><td>1.0000000000            </td><td> 8.4290308              </td><td> 9.1264205              </td></tr>\n",
       "\t<tr><td>chrX:12992664-12993915  </td><td>TMSB4X                  </td><td>130070                  </td><td>4.606838e-02            </td><td>1.2171416               </td><td>9.525986e-02            </td><td>1.00000000              </td><td>1.0000000000            </td><td> 5.3514010              </td><td> 4.4389205              </td></tr>\n",
       "\t<tr><td>chrX:12994171-12994659  </td><td>TMSB4X                  </td><td>130073                  </td><td>4.862921e-02            </td><td>0.6983246               </td><td>9.900491e-02            </td><td>1.00000000              </td><td>1.0000000000            </td><td> 1.1713367              </td><td> 1.6690341              </td></tr>\n",
       "\t<tr><td>chrX:15272341-15272589  </td><td>ASB9                    </td><td>130138                  </td><td>1.571494e-03            </td><td>3.4670293               </td><td>7.465792e-03            </td><td>1.00000000              </td><td>0.0788988581            </td><td> 0.7349564              </td><td> 0.2130682              </td></tr>\n",
       "\t<tr><td>chrX:15277016-15277757  </td><td>ASB9                    </td><td>130139                  </td><td>2.908753e-02            </td><td>1.2738556               </td><td>6.760759e-02            </td><td>1.00000000              </td><td>0.7144804413            </td><td> 4.5245751              </td><td> 3.5866477              </td></tr>\n",
       "\t<tr><td>chrX:15287681-15288637  </td><td>ASB9                    </td><td>130141                  </td><td>1.743539e-01            </td><td>1.0989925               </td><td>2.521073e-01            </td><td>1.00000000              </td><td>1.0000000000            </td><td> 7.2117593              </td><td> 6.6051136              </td></tr>\n",
       "\t<tr><td>chrX:23800933-23801771  </td><td>SAT1                    </td><td>130369                  </td><td>9.462592e-03            </td><td>0.8040628               </td><td>2.913672e-02            </td><td>1.00000000              </td><td>0.3079183093            </td><td> 6.8213137              </td><td> 8.3451705              </td></tr>\n",
       "\t<tr><td>chrX:47441365-47442059  </td><td>TIMP1                   </td><td>130720                  </td><td>2.388238e-02            </td><td>0.7909582               </td><td>5.857962e-02            </td><td>1.00000000              </td><td>0.6190723315            </td><td> 4.0881948              </td><td> 5.1136364              </td></tr>\n",
       "\t<tr><td>chrX:130414463-130414838</td><td>IGSF1                   </td><td>132598                  </td><td>2.110989e-01            </td><td>1.4036637               </td><td>2.882042e-01            </td><td>1.00000000              </td><td>1.0000000000            </td><td> 0.5971520              </td><td> 0.4261364              </td></tr>\n",
       "\t<tr><td>chrX:130422708-130423613</td><td>IGSF1                   </td><td>132599                  </td><td>9.225611e-02            </td><td>1.2647050               </td><td>1.585300e-01            </td><td>1.00000000              </td><td>1.0000000000            </td><td> 2.4575103              </td><td> 1.9531250              </td></tr>\n",
       "</tbody>\n",
       "</table>\n"
      ],
      "text/latex": [
       "\\begin{tabular}{r|llllllllll}\n",
       " peak & gene & tr.idx & pval & odds & FDR & padj.Bonferroni & FDR.BY & percent\\_open\\_state1 & percent\\_open\\_state2\\\\\n",
       "\\hline\n",
       "\t chr1:46648784-46649576    & TSPAN1                    & 4063                      & 4.434098e-02              & 1.2242238                 & 9.250951e-02              & 1.000000e+00              & 9.776451e-01              &  5.1676619                &  4.26136364              \\\\\n",
       "\t chr1:152008802-152009737  & S100A11                   & 7441                      & 2.094584e-02              & 0.7784769                 & 5.303282e-02              & 1.000000e+00              & 5.604535e-01              &  3.7436840                &  4.75852273              \\\\\n",
       "\t chr1:152020156-152021203  & S100A11                   & 7442                      & 1.504022e-01              & 1.1001858                 & 2.257585e-01              & 1.000000e+00              & 1.000000e+00              &  8.5668351                &  7.84801136              \\\\\n",
       "\t chr1:161493555-161494649  & HSPA6                     & 8959                      & 1.030570e-01              & 0.8755561                 & 1.720470e-01              & 1.000000e+00              & 1.000000e+00              &  5.6729444                &  6.42755682              \\\\\n",
       "\t chr1:186264950-186265548  & PRG4                      & 9832                      & 4.351802e-01              & 1.0329856                 & 4.689692e-01              & 1.000000e+00              & 1.000000e+00              &  3.2613689                &  3.16051136              \\\\\n",
       "\t chr1:186649109-186650184  & PTGS2                     & 9855                      & 4.500303e-05              & 0.7567763                 & 4.591824e-04              & 9.821911e-01              & 4.852662e-03              & 11.9430409                & 15.19886364              \\\\\n",
       "\t chr1:205312507-205313798  & KLHDC8A                   & 10411                     & 3.053215e-02              & 1.1890776                 & 7.006247e-02              & 1.000000e+00              & 7.404236e-01              &  8.4979329                &  7.24431818              \\\\\n",
       "\t chr10:45473987-45474569   & C10orf10                  & 13228                     & 5.327233e-08              & 1.4550667                 & 1.977936e-06              & 1.162669e-03              & 2.090292e-05              & 16.4216812                & 11.89630682              \\\\\n",
       "\t chr11:2905330-2905962     & CDKN1C                    & 16781                     & 3.082334e-05              & 0.7371657                 & 3.421767e-04              & 6.727194e-01              & 3.616141e-03              & 10.0597152                & 13.17471591              \\\\\n",
       "\t chr11:2906189-2907754     & CDKN1C                    & 16781                     & 3.082334e-05              & 0.7371657                 & 3.421767e-04              & 6.727194e-01              & 3.616141e-03              & 10.0597152                & 13.17471591              \\\\\n",
       "\t chr11:102187812-102188674 & BIRC3                     & 23282                     & 4.030663e-04              & 0.7276809                 & 2.562459e-03              & 1.000000e+00              & 2.708020e-02              &  6.1322921                &  8.23863636              \\\\\n",
       "\t chr11:121322037-121323792 & SORL1                     & 24527                     & 6.918715e-02              & 0.8867926                 & 1.276856e-01              & 1.000000e+00              & 1.000000e+00              &  9.8530087                & 10.97301136              \\\\\n",
       "\t chr11:121424070-121425298 & SORL1                     & 24529                     & 3.895637e-05              & 0.6656837                 & 4.103392e-04              & 8.502228e-01              & 4.336485e-03              &  4.8920533                &  7.17329545              \\\\\n",
       "\t chr11:121425847-121426201 & SORL1                     & 24529                     & 3.895637e-05              & 0.6656837                 & 4.103392e-04              & 8.502228e-01              & 4.336485e-03              &  4.8920533                &  7.17329545              \\\\\n",
       "\t chr11:121484424-121484819 & SORL1                     & 24537                     & 2.061793e-02              & 2.5955345                 & 5.242151e-02              & 1.000000e+00              & 5.539931e-01              &  0.5512173                &  0.21306818              \\\\\n",
       "\t chr11:121497277-121497525 & SORL1                     & 24538                     & 2.194704e-02              & 7.1296659                 & 5.490533e-02              & 1.000000e+00              & 5.802423e-01              &  0.2526412                &  0.03551136              \\\\\n",
       "\t chr12:21507662-21507928   & IAPP                      & 26771                     & 1.164511e-01              & 0.7115993                 & 1.879702e-01              & 1.000000e+00              & 1.000000e+00              &  0.7349564                &  1.02982955              \\\\\n",
       "\t chr12:21525514-21525906   & IAPP                      & 26772                     & 1.176163e-02              & 1.3842634                 & 3.422178e-02              & 1.000000e+00              & 3.616575e-01              &  3.6977492                &  2.69886364              \\\\\n",
       "\t chr14:35872864-35874312   & NFKBIA                    & 36562                     & 5.072112e-02              & 0.9100444                 & 1.018086e-01              & 1.000000e+00              & 1.000000e+00              & 23.1051906                & 24.82244318              \\\\\n",
       "\t chr14:62462153-62462448   & SYT16                     & 37525                     & 9.270068e-03              & 0.4634955                 & 2.869720e-02              & 1.000000e+00              & 3.032735e-01              &  0.4134130                &  0.88778409              \\\\\n",
       "\t chr14:94854631-94855437   & SERPINA1                  & 39218                     & 3.600846e-02              & 0.6011433                 & 7.939031e-02              & 1.000000e+00              & 8.390008e-01              &  0.6430868                &  1.06534091              \\\\\n",
       "\t chr16:22824591-22825010   & HS3ST2                    & 47596                     & 6.271640e-03              & 0.4291250                 & 2.131401e-02              & 1.000000e+00              & 2.252475e-01              &  0.3674782                &  0.85227273              \\\\\n",
       "\t chr16:22825374-22825612   & HS3ST2                    & 47596                     & 6.271640e-03              & 0.4291250                 & 2.131401e-02              & 1.000000e+00              & 2.252475e-01              &  0.3674782                &  0.85227273              \\\\\n",
       "\t chr16:75240338-75240598   & CTRB2                     & 51035                     & 4.257747e-01              & 1.2941462                 & 4.623616e-01              & 1.000000e+00              & 1.000000e+00              &  0.2296739                &  0.17755682              \\\\\n",
       "\t chr17:79479349-79480147   & ACTG1                     & 60739                     & 5.465461e-06              & 0.6410793                 & 8.471852e-05              & 1.192837e-01              & 8.953096e-04              &  4.9839228                &  7.56392045              \\\\\n",
       "\t chr17:79480349-79481007   & ACTG1                     & 60751                     & 5.177791e-12              & 0.3271355                 & 7.740088e-10              & 1.130053e-07              & 8.179764e-09              &  1.2632062                &  3.76420455              \\\\\n",
       "\t chr17:79481644-79482383   & ACTG1                     & 60752                     & 5.895186e-06              & 0.5335954                 & 9.003669e-05              & 1.286624e-01              & 9.515122e-04              &  2.1819017                &  4.01278409              \\\\\n",
       "\t chr19:2475794-2477404     & GADD45B                   & 64326                     & 5.603575e-05              & 0.6597035                 & 5.462171e-04              & 1.000000e+00              & 5.772450e-03              &  4.4327056                &  6.56960227              \\\\\n",
       "\t chr19:14628273-14629726   & DNAJB1                    & 66723                     & 7.882435e-03              & 0.8170455                 & 2.533064e-02              & 1.000000e+00              & 2.676955e-01              &  8.6357373                & 10.36931818              \\\\\n",
       "\t chr19:14639975-14640588   & DNAJB1                    & 66727                     & 3.082416e-03              & 0.7806841                 & 1.247808e-02              & 1.000000e+00              & 1.318689e-01              &  7.0969224                &  8.91335227              \\\\\n",
       "\t ⋮ & ⋮ & ⋮ & ⋮ & ⋮ & ⋮ & ⋮ & ⋮ & ⋮ & ⋮\\\\\n",
       "\t chr4:108910702-108911442 & HADH                     & 101095                   & 2.047817e-01             & 1.0498082                & 2.819748e-01             & 1.00000000               & 1.0000000000             & 24.1387230               & 23.2599432              \\\\\n",
       "\t chr4:108935072-108935658 & HADH                     & 101100                   & 2.392910e-06             & 2.6783954                & 4.323284e-05             & 0.05222527               & 0.0004568868             &  2.2508039               &  0.8522727              \\\\\n",
       "\t chr4:108948121-108948360 & HADH                     & 101101                   & 1.294063e-04             & 3.2592975                & 1.059772e-03             & 1.00000000               & 0.0111997265             &  1.1483693               &  0.3551136              \\\\\n",
       "\t chr4:140476299-140478666 & SETD7                    & 101629                   & 3.009870e-02             & 0.8992636                & 6.935954e-02             & 1.00000000               & 0.7329950462             & 24.1387230               & 26.1363636              \\\\\n",
       "\t chr5:95767359-95769397   & PCSK1                    & 105164                   & 2.271523e-01             & 1.0493070                & 3.031794e-01             & 1.00000000               & 1.0000000000             & 19.3844740               & 18.6434659              \\\\\n",
       "\t chr5:95769860-95770267   & PCSK1                    & 105166                   & 6.287214e-03             & 1.3337347                & 2.135696e-02             & 1.00000000               & 0.2257013766             &  5.6040423               &  4.2613636              \\\\\n",
       "\t chr6:160113603-160114978 & SOD2                     & 114018                   & 4.711498e-01             & 1.0078941                & 4.933971e-01             & 1.00000000               & 1.0000000000             & 13.2292145               & 13.1392045              \\\\\n",
       "\t chr6:160147603-160149133 & SOD2                     & 114028                   & 2.519054e-01             & 0.9603881                & 3.260682e-01             & 1.00000000               & 1.0000000000             & 22.0257235               & 22.7272727              \\\\\n",
       "\t chr6:160166117-160166646 & SOD2                     & 114034                   & 4.539559e-01             & 1.1503645                & 4.812546e-01             & 1.00000000               & 1.0000000000             &  0.3674782               &  0.3196023              \\\\\n",
       "\t chr6:160182773-160183796 & SOD2                     & 114036                   & 3.532860e-01             & 1.0268041                & 4.090342e-01             & 1.00000000               & 1.0000000000             & 17.1336702               & 16.7613636              \\\\\n",
       "\t chr7:557607-558138       & PDGFA                    & 114348                   & 2.618371e-02             & 0.8664146                & 6.272882e-02             & 1.00000000               & 0.6629212933             & 11.8741387               & 13.4588068              \\\\\n",
       "\t chr7:558527-559983       & PDGFA                    & 114348                   & 2.618371e-02             & 0.8664146                & 6.272882e-02             & 1.00000000               & 0.6629212933             & 11.8741387               & 13.4588068              \\\\\n",
       "\t chr7:24323235-24324379   & NPY                      & 115281                   & 7.048342e-02             & 1.2380190                & 1.296940e-01             & 1.00000000               & 1.0000000000             &  3.5369775               &  2.8764205              \\\\\n",
       "\t chr7:24324578-24325126   & NPY                      & 115283                   & 2.348727e-01             & 1.1982476                & 3.100899e-01             & 1.00000000               & 1.0000000000             &  1.4010106               &  1.1718750              \\\\\n",
       "\t chr7:95216650-95216908   & PDK4                     & 117520                   & 4.953973e-01             & 1.0782962                & 5.092575e-01             & 1.00000000               & 1.0000000000             &  0.4593477               &  0.4261364              \\\\\n",
       "\t chr7:95218278-95218804   & PDK4                     & 117521                   & 8.029733e-03             & 0.4881023                & 2.568502e-02             & 1.00000000               & 0.2714406115             &  0.5052825               &  1.0298295              \\\\\n",
       "\t chr7:95225191-95226410   & PDK4                     & 117523                   & 6.119550e-02             & 0.8959850                & 1.169418e-01             & 1.00000000               & 1.0000000000             & 13.3440514               & 14.6661932              \\\\\n",
       "\t chr7:105924534-105926144 & NAMPT                    & 118487                   & 3.874747e-06             & 0.7798828                & 6.401691e-05             & 0.08456634               & 0.0006765339             & 23.3807993               & 28.1250000              \\\\\n",
       "\t chr7:130019730-130020584 & CPA1                     & 119251                   & 4.239419e-02             & 2.7552374                & 8.962159e-02             & 1.00000000               & 0.9471254303             &  0.3904456               &  0.1420455              \\\\\n",
       "\t chr8:144512253-144513483 & MAFA                     & 125086                   & 4.780515e-01             & 0.9942346                & 4.980178e-01             & 1.00000000               & 1.0000000000             & 15.5489205               & 15.6250000              \\\\\n",
       "\t chr9:33446425-33447891   & AQP3                     & 126256                   & 1.634683e-01             & 0.9165640                & 2.404917e-01             & 1.00000000               & 1.0000000000             &  8.4290308               &  9.1264205              \\\\\n",
       "\t chrX:12992664-12993915   & TMSB4X                   & 130070                   & 4.606838e-02             & 1.2171416                & 9.525986e-02             & 1.00000000               & 1.0000000000             &  5.3514010               &  4.4389205              \\\\\n",
       "\t chrX:12994171-12994659   & TMSB4X                   & 130073                   & 4.862921e-02             & 0.6983246                & 9.900491e-02             & 1.00000000               & 1.0000000000             &  1.1713367               &  1.6690341              \\\\\n",
       "\t chrX:15272341-15272589   & ASB9                     & 130138                   & 1.571494e-03             & 3.4670293                & 7.465792e-03             & 1.00000000               & 0.0788988581             &  0.7349564               &  0.2130682              \\\\\n",
       "\t chrX:15277016-15277757   & ASB9                     & 130139                   & 2.908753e-02             & 1.2738556                & 6.760759e-02             & 1.00000000               & 0.7144804413             &  4.5245751               &  3.5866477              \\\\\n",
       "\t chrX:15287681-15288637   & ASB9                     & 130141                   & 1.743539e-01             & 1.0989925                & 2.521073e-01             & 1.00000000               & 1.0000000000             &  7.2117593               &  6.6051136              \\\\\n",
       "\t chrX:23800933-23801771   & SAT1                     & 130369                   & 9.462592e-03             & 0.8040628                & 2.913672e-02             & 1.00000000               & 0.3079183093             &  6.8213137               &  8.3451705              \\\\\n",
       "\t chrX:47441365-47442059   & TIMP1                    & 130720                   & 2.388238e-02             & 0.7909582                & 5.857962e-02             & 1.00000000               & 0.6190723315             &  4.0881948               &  5.1136364              \\\\\n",
       "\t chrX:130414463-130414838 & IGSF1                    & 132598                   & 2.110989e-01             & 1.4036637                & 2.882042e-01             & 1.00000000               & 1.0000000000             &  0.5971520               &  0.4261364              \\\\\n",
       "\t chrX:130422708-130423613 & IGSF1                    & 132599                   & 9.225611e-02             & 1.2647050                & 1.585300e-01             & 1.00000000               & 1.0000000000             &  2.4575103               &  1.9531250              \\\\\n",
       "\\end{tabular}\n"
      ],
      "text/markdown": [
       "\n",
       "| peak | gene | tr.idx | pval | odds | FDR | padj.Bonferroni | FDR.BY | percent_open_state1 | percent_open_state2 |\n",
       "|---|---|---|---|---|---|---|---|---|---|\n",
       "| chr1:46648784-46649576    | TSPAN1                    | 4063                      | 4.434098e-02              | 1.2242238                 | 9.250951e-02              | 1.000000e+00              | 9.776451e-01              |  5.1676619                |  4.26136364               |\n",
       "| chr1:152008802-152009737  | S100A11                   | 7441                      | 2.094584e-02              | 0.7784769                 | 5.303282e-02              | 1.000000e+00              | 5.604535e-01              |  3.7436840                |  4.75852273               |\n",
       "| chr1:152020156-152021203  | S100A11                   | 7442                      | 1.504022e-01              | 1.1001858                 | 2.257585e-01              | 1.000000e+00              | 1.000000e+00              |  8.5668351                |  7.84801136               |\n",
       "| chr1:161493555-161494649  | HSPA6                     | 8959                      | 1.030570e-01              | 0.8755561                 | 1.720470e-01              | 1.000000e+00              | 1.000000e+00              |  5.6729444                |  6.42755682               |\n",
       "| chr1:186264950-186265548  | PRG4                      | 9832                      | 4.351802e-01              | 1.0329856                 | 4.689692e-01              | 1.000000e+00              | 1.000000e+00              |  3.2613689                |  3.16051136               |\n",
       "| chr1:186649109-186650184  | PTGS2                     | 9855                      | 4.500303e-05              | 0.7567763                 | 4.591824e-04              | 9.821911e-01              | 4.852662e-03              | 11.9430409                | 15.19886364               |\n",
       "| chr1:205312507-205313798  | KLHDC8A                   | 10411                     | 3.053215e-02              | 1.1890776                 | 7.006247e-02              | 1.000000e+00              | 7.404236e-01              |  8.4979329                |  7.24431818               |\n",
       "| chr10:45473987-45474569   | C10orf10                  | 13228                     | 5.327233e-08              | 1.4550667                 | 1.977936e-06              | 1.162669e-03              | 2.090292e-05              | 16.4216812                | 11.89630682               |\n",
       "| chr11:2905330-2905962     | CDKN1C                    | 16781                     | 3.082334e-05              | 0.7371657                 | 3.421767e-04              | 6.727194e-01              | 3.616141e-03              | 10.0597152                | 13.17471591               |\n",
       "| chr11:2906189-2907754     | CDKN1C                    | 16781                     | 3.082334e-05              | 0.7371657                 | 3.421767e-04              | 6.727194e-01              | 3.616141e-03              | 10.0597152                | 13.17471591               |\n",
       "| chr11:102187812-102188674 | BIRC3                     | 23282                     | 4.030663e-04              | 0.7276809                 | 2.562459e-03              | 1.000000e+00              | 2.708020e-02              |  6.1322921                |  8.23863636               |\n",
       "| chr11:121322037-121323792 | SORL1                     | 24527                     | 6.918715e-02              | 0.8867926                 | 1.276856e-01              | 1.000000e+00              | 1.000000e+00              |  9.8530087                | 10.97301136               |\n",
       "| chr11:121424070-121425298 | SORL1                     | 24529                     | 3.895637e-05              | 0.6656837                 | 4.103392e-04              | 8.502228e-01              | 4.336485e-03              |  4.8920533                |  7.17329545               |\n",
       "| chr11:121425847-121426201 | SORL1                     | 24529                     | 3.895637e-05              | 0.6656837                 | 4.103392e-04              | 8.502228e-01              | 4.336485e-03              |  4.8920533                |  7.17329545               |\n",
       "| chr11:121484424-121484819 | SORL1                     | 24537                     | 2.061793e-02              | 2.5955345                 | 5.242151e-02              | 1.000000e+00              | 5.539931e-01              |  0.5512173                |  0.21306818               |\n",
       "| chr11:121497277-121497525 | SORL1                     | 24538                     | 2.194704e-02              | 7.1296659                 | 5.490533e-02              | 1.000000e+00              | 5.802423e-01              |  0.2526412                |  0.03551136               |\n",
       "| chr12:21507662-21507928   | IAPP                      | 26771                     | 1.164511e-01              | 0.7115993                 | 1.879702e-01              | 1.000000e+00              | 1.000000e+00              |  0.7349564                |  1.02982955               |\n",
       "| chr12:21525514-21525906   | IAPP                      | 26772                     | 1.176163e-02              | 1.3842634                 | 3.422178e-02              | 1.000000e+00              | 3.616575e-01              |  3.6977492                |  2.69886364               |\n",
       "| chr14:35872864-35874312   | NFKBIA                    | 36562                     | 5.072112e-02              | 0.9100444                 | 1.018086e-01              | 1.000000e+00              | 1.000000e+00              | 23.1051906                | 24.82244318               |\n",
       "| chr14:62462153-62462448   | SYT16                     | 37525                     | 9.270068e-03              | 0.4634955                 | 2.869720e-02              | 1.000000e+00              | 3.032735e-01              |  0.4134130                |  0.88778409               |\n",
       "| chr14:94854631-94855437   | SERPINA1                  | 39218                     | 3.600846e-02              | 0.6011433                 | 7.939031e-02              | 1.000000e+00              | 8.390008e-01              |  0.6430868                |  1.06534091               |\n",
       "| chr16:22824591-22825010   | HS3ST2                    | 47596                     | 6.271640e-03              | 0.4291250                 | 2.131401e-02              | 1.000000e+00              | 2.252475e-01              |  0.3674782                |  0.85227273               |\n",
       "| chr16:22825374-22825612   | HS3ST2                    | 47596                     | 6.271640e-03              | 0.4291250                 | 2.131401e-02              | 1.000000e+00              | 2.252475e-01              |  0.3674782                |  0.85227273               |\n",
       "| chr16:75240338-75240598   | CTRB2                     | 51035                     | 4.257747e-01              | 1.2941462                 | 4.623616e-01              | 1.000000e+00              | 1.000000e+00              |  0.2296739                |  0.17755682               |\n",
       "| chr17:79479349-79480147   | ACTG1                     | 60739                     | 5.465461e-06              | 0.6410793                 | 8.471852e-05              | 1.192837e-01              | 8.953096e-04              |  4.9839228                |  7.56392045               |\n",
       "| chr17:79480349-79481007   | ACTG1                     | 60751                     | 5.177791e-12              | 0.3271355                 | 7.740088e-10              | 1.130053e-07              | 8.179764e-09              |  1.2632062                |  3.76420455               |\n",
       "| chr17:79481644-79482383   | ACTG1                     | 60752                     | 5.895186e-06              | 0.5335954                 | 9.003669e-05              | 1.286624e-01              | 9.515122e-04              |  2.1819017                |  4.01278409               |\n",
       "| chr19:2475794-2477404     | GADD45B                   | 64326                     | 5.603575e-05              | 0.6597035                 | 5.462171e-04              | 1.000000e+00              | 5.772450e-03              |  4.4327056                |  6.56960227               |\n",
       "| chr19:14628273-14629726   | DNAJB1                    | 66723                     | 7.882435e-03              | 0.8170455                 | 2.533064e-02              | 1.000000e+00              | 2.676955e-01              |  8.6357373                | 10.36931818               |\n",
       "| chr19:14639975-14640588   | DNAJB1                    | 66727                     | 3.082416e-03              | 0.7806841                 | 1.247808e-02              | 1.000000e+00              | 1.318689e-01              |  7.0969224                |  8.91335227               |\n",
       "| ⋮ | ⋮ | ⋮ | ⋮ | ⋮ | ⋮ | ⋮ | ⋮ | ⋮ | ⋮ |\n",
       "| chr4:108910702-108911442 | HADH                     | 101095                   | 2.047817e-01             | 1.0498082                | 2.819748e-01             | 1.00000000               | 1.0000000000             | 24.1387230               | 23.2599432               |\n",
       "| chr4:108935072-108935658 | HADH                     | 101100                   | 2.392910e-06             | 2.6783954                | 4.323284e-05             | 0.05222527               | 0.0004568868             |  2.2508039               |  0.8522727               |\n",
       "| chr4:108948121-108948360 | HADH                     | 101101                   | 1.294063e-04             | 3.2592975                | 1.059772e-03             | 1.00000000               | 0.0111997265             |  1.1483693               |  0.3551136               |\n",
       "| chr4:140476299-140478666 | SETD7                    | 101629                   | 3.009870e-02             | 0.8992636                | 6.935954e-02             | 1.00000000               | 0.7329950462             | 24.1387230               | 26.1363636               |\n",
       "| chr5:95767359-95769397   | PCSK1                    | 105164                   | 2.271523e-01             | 1.0493070                | 3.031794e-01             | 1.00000000               | 1.0000000000             | 19.3844740               | 18.6434659               |\n",
       "| chr5:95769860-95770267   | PCSK1                    | 105166                   | 6.287214e-03             | 1.3337347                | 2.135696e-02             | 1.00000000               | 0.2257013766             |  5.6040423               |  4.2613636               |\n",
       "| chr6:160113603-160114978 | SOD2                     | 114018                   | 4.711498e-01             | 1.0078941                | 4.933971e-01             | 1.00000000               | 1.0000000000             | 13.2292145               | 13.1392045               |\n",
       "| chr6:160147603-160149133 | SOD2                     | 114028                   | 2.519054e-01             | 0.9603881                | 3.260682e-01             | 1.00000000               | 1.0000000000             | 22.0257235               | 22.7272727               |\n",
       "| chr6:160166117-160166646 | SOD2                     | 114034                   | 4.539559e-01             | 1.1503645                | 4.812546e-01             | 1.00000000               | 1.0000000000             |  0.3674782               |  0.3196023               |\n",
       "| chr6:160182773-160183796 | SOD2                     | 114036                   | 3.532860e-01             | 1.0268041                | 4.090342e-01             | 1.00000000               | 1.0000000000             | 17.1336702               | 16.7613636               |\n",
       "| chr7:557607-558138       | PDGFA                    | 114348                   | 2.618371e-02             | 0.8664146                | 6.272882e-02             | 1.00000000               | 0.6629212933             | 11.8741387               | 13.4588068               |\n",
       "| chr7:558527-559983       | PDGFA                    | 114348                   | 2.618371e-02             | 0.8664146                | 6.272882e-02             | 1.00000000               | 0.6629212933             | 11.8741387               | 13.4588068               |\n",
       "| chr7:24323235-24324379   | NPY                      | 115281                   | 7.048342e-02             | 1.2380190                | 1.296940e-01             | 1.00000000               | 1.0000000000             |  3.5369775               |  2.8764205               |\n",
       "| chr7:24324578-24325126   | NPY                      | 115283                   | 2.348727e-01             | 1.1982476                | 3.100899e-01             | 1.00000000               | 1.0000000000             |  1.4010106               |  1.1718750               |\n",
       "| chr7:95216650-95216908   | PDK4                     | 117520                   | 4.953973e-01             | 1.0782962                | 5.092575e-01             | 1.00000000               | 1.0000000000             |  0.4593477               |  0.4261364               |\n",
       "| chr7:95218278-95218804   | PDK4                     | 117521                   | 8.029733e-03             | 0.4881023                | 2.568502e-02             | 1.00000000               | 0.2714406115             |  0.5052825               |  1.0298295               |\n",
       "| chr7:95225191-95226410   | PDK4                     | 117523                   | 6.119550e-02             | 0.8959850                | 1.169418e-01             | 1.00000000               | 1.0000000000             | 13.3440514               | 14.6661932               |\n",
       "| chr7:105924534-105926144 | NAMPT                    | 118487                   | 3.874747e-06             | 0.7798828                | 6.401691e-05             | 0.08456634               | 0.0006765339             | 23.3807993               | 28.1250000               |\n",
       "| chr7:130019730-130020584 | CPA1                     | 119251                   | 4.239419e-02             | 2.7552374                | 8.962159e-02             | 1.00000000               | 0.9471254303             |  0.3904456               |  0.1420455               |\n",
       "| chr8:144512253-144513483 | MAFA                     | 125086                   | 4.780515e-01             | 0.9942346                | 4.980178e-01             | 1.00000000               | 1.0000000000             | 15.5489205               | 15.6250000               |\n",
       "| chr9:33446425-33447891   | AQP3                     | 126256                   | 1.634683e-01             | 0.9165640                | 2.404917e-01             | 1.00000000               | 1.0000000000             |  8.4290308               |  9.1264205               |\n",
       "| chrX:12992664-12993915   | TMSB4X                   | 130070                   | 4.606838e-02             | 1.2171416                | 9.525986e-02             | 1.00000000               | 1.0000000000             |  5.3514010               |  4.4389205               |\n",
       "| chrX:12994171-12994659   | TMSB4X                   | 130073                   | 4.862921e-02             | 0.6983246                | 9.900491e-02             | 1.00000000               | 1.0000000000             |  1.1713367               |  1.6690341               |\n",
       "| chrX:15272341-15272589   | ASB9                     | 130138                   | 1.571494e-03             | 3.4670293                | 7.465792e-03             | 1.00000000               | 0.0788988581             |  0.7349564               |  0.2130682               |\n",
       "| chrX:15277016-15277757   | ASB9                     | 130139                   | 2.908753e-02             | 1.2738556                | 6.760759e-02             | 1.00000000               | 0.7144804413             |  4.5245751               |  3.5866477               |\n",
       "| chrX:15287681-15288637   | ASB9                     | 130141                   | 1.743539e-01             | 1.0989925                | 2.521073e-01             | 1.00000000               | 1.0000000000             |  7.2117593               |  6.6051136               |\n",
       "| chrX:23800933-23801771   | SAT1                     | 130369                   | 9.462592e-03             | 0.8040628                | 2.913672e-02             | 1.00000000               | 0.3079183093             |  6.8213137               |  8.3451705               |\n",
       "| chrX:47441365-47442059   | TIMP1                    | 130720                   | 2.388238e-02             | 0.7909582                | 5.857962e-02             | 1.00000000               | 0.6190723315             |  4.0881948               |  5.1136364               |\n",
       "| chrX:130414463-130414838 | IGSF1                    | 132598                   | 2.110989e-01             | 1.4036637                | 2.882042e-01             | 1.00000000               | 1.0000000000             |  0.5971520               |  0.4261364               |\n",
       "| chrX:130422708-130423613 | IGSF1                    | 132599                   | 9.225611e-02             | 1.2647050                | 1.585300e-01             | 1.00000000               | 1.0000000000             |  2.4575103               |  1.9531250               |\n",
       "\n"
      ],
      "text/plain": [
       "   peak                      gene     tr.idx pval         odds     \n",
       "1  chr1:46648784-46649576    TSPAN1   4063   4.434098e-02 1.2242238\n",
       "2  chr1:152008802-152009737  S100A11  7441   2.094584e-02 0.7784769\n",
       "3  chr1:152020156-152021203  S100A11  7442   1.504022e-01 1.1001858\n",
       "4  chr1:161493555-161494649  HSPA6    8959   1.030570e-01 0.8755561\n",
       "5  chr1:186264950-186265548  PRG4     9832   4.351802e-01 1.0329856\n",
       "6  chr1:186649109-186650184  PTGS2    9855   4.500303e-05 0.7567763\n",
       "7  chr1:205312507-205313798  KLHDC8A  10411  3.053215e-02 1.1890776\n",
       "8  chr10:45473987-45474569   C10orf10 13228  5.327233e-08 1.4550667\n",
       "9  chr11:2905330-2905962     CDKN1C   16781  3.082334e-05 0.7371657\n",
       "10 chr11:2906189-2907754     CDKN1C   16781  3.082334e-05 0.7371657\n",
       "11 chr11:102187812-102188674 BIRC3    23282  4.030663e-04 0.7276809\n",
       "12 chr11:121322037-121323792 SORL1    24527  6.918715e-02 0.8867926\n",
       "13 chr11:121424070-121425298 SORL1    24529  3.895637e-05 0.6656837\n",
       "14 chr11:121425847-121426201 SORL1    24529  3.895637e-05 0.6656837\n",
       "15 chr11:121484424-121484819 SORL1    24537  2.061793e-02 2.5955345\n",
       "16 chr11:121497277-121497525 SORL1    24538  2.194704e-02 7.1296659\n",
       "17 chr12:21507662-21507928   IAPP     26771  1.164511e-01 0.7115993\n",
       "18 chr12:21525514-21525906   IAPP     26772  1.176163e-02 1.3842634\n",
       "19 chr14:35872864-35874312   NFKBIA   36562  5.072112e-02 0.9100444\n",
       "20 chr14:62462153-62462448   SYT16    37525  9.270068e-03 0.4634955\n",
       "21 chr14:94854631-94855437   SERPINA1 39218  3.600846e-02 0.6011433\n",
       "22 chr16:22824591-22825010   HS3ST2   47596  6.271640e-03 0.4291250\n",
       "23 chr16:22825374-22825612   HS3ST2   47596  6.271640e-03 0.4291250\n",
       "24 chr16:75240338-75240598   CTRB2    51035  4.257747e-01 1.2941462\n",
       "25 chr17:79479349-79480147   ACTG1    60739  5.465461e-06 0.6410793\n",
       "26 chr17:79480349-79481007   ACTG1    60751  5.177791e-12 0.3271355\n",
       "27 chr17:79481644-79482383   ACTG1    60752  5.895186e-06 0.5335954\n",
       "28 chr19:2475794-2477404     GADD45B  64326  5.603575e-05 0.6597035\n",
       "29 chr19:14628273-14629726   DNAJB1   66723  7.882435e-03 0.8170455\n",
       "30 chr19:14639975-14640588   DNAJB1   66727  3.082416e-03 0.7806841\n",
       "⋮  ⋮                         ⋮        ⋮      ⋮            ⋮        \n",
       "46 chr4:108910702-108911442  HADH     101095 2.047817e-01 1.0498082\n",
       "47 chr4:108935072-108935658  HADH     101100 2.392910e-06 2.6783954\n",
       "48 chr4:108948121-108948360  HADH     101101 1.294063e-04 3.2592975\n",
       "49 chr4:140476299-140478666  SETD7    101629 3.009870e-02 0.8992636\n",
       "50 chr5:95767359-95769397    PCSK1    105164 2.271523e-01 1.0493070\n",
       "51 chr5:95769860-95770267    PCSK1    105166 6.287214e-03 1.3337347\n",
       "52 chr6:160113603-160114978  SOD2     114018 4.711498e-01 1.0078941\n",
       "53 chr6:160147603-160149133  SOD2     114028 2.519054e-01 0.9603881\n",
       "54 chr6:160166117-160166646  SOD2     114034 4.539559e-01 1.1503645\n",
       "55 chr6:160182773-160183796  SOD2     114036 3.532860e-01 1.0268041\n",
       "56 chr7:557607-558138        PDGFA    114348 2.618371e-02 0.8664146\n",
       "57 chr7:558527-559983        PDGFA    114348 2.618371e-02 0.8664146\n",
       "58 chr7:24323235-24324379    NPY      115281 7.048342e-02 1.2380190\n",
       "59 chr7:24324578-24325126    NPY      115283 2.348727e-01 1.1982476\n",
       "60 chr7:95216650-95216908    PDK4     117520 4.953973e-01 1.0782962\n",
       "61 chr7:95218278-95218804    PDK4     117521 8.029733e-03 0.4881023\n",
       "62 chr7:95225191-95226410    PDK4     117523 6.119550e-02 0.8959850\n",
       "63 chr7:105924534-105926144  NAMPT    118487 3.874747e-06 0.7798828\n",
       "64 chr7:130019730-130020584  CPA1     119251 4.239419e-02 2.7552374\n",
       "65 chr8:144512253-144513483  MAFA     125086 4.780515e-01 0.9942346\n",
       "66 chr9:33446425-33447891    AQP3     126256 1.634683e-01 0.9165640\n",
       "67 chrX:12992664-12993915    TMSB4X   130070 4.606838e-02 1.2171416\n",
       "68 chrX:12994171-12994659    TMSB4X   130073 4.862921e-02 0.6983246\n",
       "69 chrX:15272341-15272589    ASB9     130138 1.571494e-03 3.4670293\n",
       "70 chrX:15277016-15277757    ASB9     130139 2.908753e-02 1.2738556\n",
       "71 chrX:15287681-15288637    ASB9     130141 1.743539e-01 1.0989925\n",
       "72 chrX:23800933-23801771    SAT1     130369 9.462592e-03 0.8040628\n",
       "73 chrX:47441365-47442059    TIMP1    130720 2.388238e-02 0.7909582\n",
       "74 chrX:130414463-130414838  IGSF1    132598 2.110989e-01 1.4036637\n",
       "75 chrX:130422708-130423613  IGSF1    132599 9.225611e-02 1.2647050\n",
       "   FDR          padj.Bonferroni FDR.BY       percent_open_state1\n",
       "1  9.250951e-02 1.000000e+00    9.776451e-01  5.1676619         \n",
       "2  5.303282e-02 1.000000e+00    5.604535e-01  3.7436840         \n",
       "3  2.257585e-01 1.000000e+00    1.000000e+00  8.5668351         \n",
       "4  1.720470e-01 1.000000e+00    1.000000e+00  5.6729444         \n",
       "5  4.689692e-01 1.000000e+00    1.000000e+00  3.2613689         \n",
       "6  4.591824e-04 9.821911e-01    4.852662e-03 11.9430409         \n",
       "7  7.006247e-02 1.000000e+00    7.404236e-01  8.4979329         \n",
       "8  1.977936e-06 1.162669e-03    2.090292e-05 16.4216812         \n",
       "9  3.421767e-04 6.727194e-01    3.616141e-03 10.0597152         \n",
       "10 3.421767e-04 6.727194e-01    3.616141e-03 10.0597152         \n",
       "11 2.562459e-03 1.000000e+00    2.708020e-02  6.1322921         \n",
       "12 1.276856e-01 1.000000e+00    1.000000e+00  9.8530087         \n",
       "13 4.103392e-04 8.502228e-01    4.336485e-03  4.8920533         \n",
       "14 4.103392e-04 8.502228e-01    4.336485e-03  4.8920533         \n",
       "15 5.242151e-02 1.000000e+00    5.539931e-01  0.5512173         \n",
       "16 5.490533e-02 1.000000e+00    5.802423e-01  0.2526412         \n",
       "17 1.879702e-01 1.000000e+00    1.000000e+00  0.7349564         \n",
       "18 3.422178e-02 1.000000e+00    3.616575e-01  3.6977492         \n",
       "19 1.018086e-01 1.000000e+00    1.000000e+00 23.1051906         \n",
       "20 2.869720e-02 1.000000e+00    3.032735e-01  0.4134130         \n",
       "21 7.939031e-02 1.000000e+00    8.390008e-01  0.6430868         \n",
       "22 2.131401e-02 1.000000e+00    2.252475e-01  0.3674782         \n",
       "23 2.131401e-02 1.000000e+00    2.252475e-01  0.3674782         \n",
       "24 4.623616e-01 1.000000e+00    1.000000e+00  0.2296739         \n",
       "25 8.471852e-05 1.192837e-01    8.953096e-04  4.9839228         \n",
       "26 7.740088e-10 1.130053e-07    8.179764e-09  1.2632062         \n",
       "27 9.003669e-05 1.286624e-01    9.515122e-04  2.1819017         \n",
       "28 5.462171e-04 1.000000e+00    5.772450e-03  4.4327056         \n",
       "29 2.533064e-02 1.000000e+00    2.676955e-01  8.6357373         \n",
       "30 1.247808e-02 1.000000e+00    1.318689e-01  7.0969224         \n",
       "⋮  ⋮            ⋮               ⋮            ⋮                  \n",
       "46 2.819748e-01 1.00000000      1.0000000000 24.1387230         \n",
       "47 4.323284e-05 0.05222527      0.0004568868  2.2508039         \n",
       "48 1.059772e-03 1.00000000      0.0111997265  1.1483693         \n",
       "49 6.935954e-02 1.00000000      0.7329950462 24.1387230         \n",
       "50 3.031794e-01 1.00000000      1.0000000000 19.3844740         \n",
       "51 2.135696e-02 1.00000000      0.2257013766  5.6040423         \n",
       "52 4.933971e-01 1.00000000      1.0000000000 13.2292145         \n",
       "53 3.260682e-01 1.00000000      1.0000000000 22.0257235         \n",
       "54 4.812546e-01 1.00000000      1.0000000000  0.3674782         \n",
       "55 4.090342e-01 1.00000000      1.0000000000 17.1336702         \n",
       "56 6.272882e-02 1.00000000      0.6629212933 11.8741387         \n",
       "57 6.272882e-02 1.00000000      0.6629212933 11.8741387         \n",
       "58 1.296940e-01 1.00000000      1.0000000000  3.5369775         \n",
       "59 3.100899e-01 1.00000000      1.0000000000  1.4010106         \n",
       "60 5.092575e-01 1.00000000      1.0000000000  0.4593477         \n",
       "61 2.568502e-02 1.00000000      0.2714406115  0.5052825         \n",
       "62 1.169418e-01 1.00000000      1.0000000000 13.3440514         \n",
       "63 6.401691e-05 0.08456634      0.0006765339 23.3807993         \n",
       "64 8.962159e-02 1.00000000      0.9471254303  0.3904456         \n",
       "65 4.980178e-01 1.00000000      1.0000000000 15.5489205         \n",
       "66 2.404917e-01 1.00000000      1.0000000000  8.4290308         \n",
       "67 9.525986e-02 1.00000000      1.0000000000  5.3514010         \n",
       "68 9.900491e-02 1.00000000      1.0000000000  1.1713367         \n",
       "69 7.465792e-03 1.00000000      0.0788988581  0.7349564         \n",
       "70 6.760759e-02 1.00000000      0.7144804413  4.5245751         \n",
       "71 2.521073e-01 1.00000000      1.0000000000  7.2117593         \n",
       "72 2.913672e-02 1.00000000      0.3079183093  6.8213137         \n",
       "73 5.857962e-02 1.00000000      0.6190723315  4.0881948         \n",
       "74 2.882042e-01 1.00000000      1.0000000000  0.5971520         \n",
       "75 1.585300e-01 1.00000000      1.0000000000  2.4575103         \n",
       "   percent_open_state2\n",
       "1   4.26136364        \n",
       "2   4.75852273        \n",
       "3   7.84801136        \n",
       "4   6.42755682        \n",
       "5   3.16051136        \n",
       "6  15.19886364        \n",
       "7   7.24431818        \n",
       "8  11.89630682        \n",
       "9  13.17471591        \n",
       "10 13.17471591        \n",
       "11  8.23863636        \n",
       "12 10.97301136        \n",
       "13  7.17329545        \n",
       "14  7.17329545        \n",
       "15  0.21306818        \n",
       "16  0.03551136        \n",
       "17  1.02982955        \n",
       "18  2.69886364        \n",
       "19 24.82244318        \n",
       "20  0.88778409        \n",
       "21  1.06534091        \n",
       "22  0.85227273        \n",
       "23  0.85227273        \n",
       "24  0.17755682        \n",
       "25  7.56392045        \n",
       "26  3.76420455        \n",
       "27  4.01278409        \n",
       "28  6.56960227        \n",
       "29 10.36931818        \n",
       "30  8.91335227        \n",
       "⋮  ⋮                  \n",
       "46 23.2599432         \n",
       "47  0.8522727         \n",
       "48  0.3551136         \n",
       "49 26.1363636         \n",
       "50 18.6434659         \n",
       "51  4.2613636         \n",
       "52 13.1392045         \n",
       "53 22.7272727         \n",
       "54  0.3196023         \n",
       "55 16.7613636         \n",
       "56 13.4588068         \n",
       "57 13.4588068         \n",
       "58  2.8764205         \n",
       "59  1.1718750         \n",
       "60  0.4261364         \n",
       "61  1.0298295         \n",
       "62 14.6661932         \n",
       "63 28.1250000         \n",
       "64  0.1420455         \n",
       "65 15.6250000         \n",
       "66  9.1264205         \n",
       "67  4.4389205         \n",
       "68  1.6690341         \n",
       "69  0.2130682         \n",
       "70  3.5866477         \n",
       "71  6.6051136         \n",
       "72  8.3451705         \n",
       "73  5.1136364         \n",
       "74  0.4261364         \n",
       "75  1.9531250         "
      ]
     },
     "metadata": {},
     "output_type": "display_data"
    }
   ],
   "source": [
    "ranks.2 %>%filter(gene %in% beta.list$gene)"
   ]
  },
  {
   "cell_type": "code",
   "execution_count": null,
   "metadata": {
    "hidden": true
   },
   "outputs": [],
   "source": []
  }
 ],
 "metadata": {
  "kernelspec": {
   "display_name": "R",
   "language": "R",
   "name": "ir"
  },
  "language_info": {
   "codemirror_mode": "r",
   "file_extension": ".r",
   "mimetype": "text/x-r-source",
   "name": "R",
   "pygments_lexer": "r",
   "version": "3.5.1"
  }
 },
 "nbformat": 4,
 "nbformat_minor": 2
}
