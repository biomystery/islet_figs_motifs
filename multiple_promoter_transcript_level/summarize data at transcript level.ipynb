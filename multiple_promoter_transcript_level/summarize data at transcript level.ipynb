{
 "cells": [
  {
   "cell_type": "markdown",
   "metadata": {},
   "source": [
    "## 1. Data load and check "
   ]
  },
  {
   "cell_type": "code",
   "execution_count": 5,
   "metadata": {},
   "outputs": [
    {
     "data": {
      "text/plain": [
       "GRanges object with 133870 ranges and 1 metadata column:\n",
       "           seqnames        ranges strand |        name\n",
       "              <Rle>     <IRanges>  <Rle> | <character>\n",
       "       [1]     chr1   68592-69591      * |       OR4F5\n",
       "       [2]     chr1 138880-139879      * |  AL627309.1\n",
       "       [3]     chr1 367141-368140      * |      OR4F29\n",
       "       [4]     chr1 621554-622553      * |      OR4F16\n",
       "       [5]     chr1 738638-739637      * |  AL669831.1\n",
       "       ...      ...           ...    ... .         ...\n",
       "  [133866]     chrM    9971-10970      * |     MT-ND4L\n",
       "  [133867]     chrM   10261-11260      * |      MT-ND4\n",
       "  [133868]     chrM   11838-12837      * |      MT-ND5\n",
       "  [133869]     chrM   14174-15173      * |      MT-ND6\n",
       "  [133870]     chrM   14248-15247      * |      MT-CYB\n",
       "  -------\n",
       "  seqinfo: 25 sequences from an unspecified genome; no seqlengths"
      ]
     },
     "metadata": {},
     "output_type": "display_data"
    }
   ],
   "source": [
    "require(rtracklayer)\n",
    "all.transcript <- import.bed('../dat/1901/gencode.v19.1kb_all_possible_transcripts.bed')\n",
    "all.transcript"
   ]
  },
  {
   "cell_type": "code",
   "execution_count": 52,
   "metadata": {},
   "outputs": [],
   "source": [
    "require(data.table)\n",
    "overlap.res <- fread('../dat/1901/alpha.promoter.long_matrix.txt')"
   ]
  },
  {
   "cell_type": "code",
   "execution_count": 53,
   "metadata": {},
   "outputs": [
    {
     "data": {
      "text/html": [
       "<table>\n",
       "<thead><tr><th scope=col>peak</th><th scope=col>gene</th><th scope=col>cluster</th><th scope=col>cell</th><th scope=col>overlap</th></tr></thead>\n",
       "<tbody>\n",
       "\t<tr><td>1:859052-860562                           </td><td>SAMD11                                    </td><td>alpha_1                                   </td><td>Islet1-fresh_AGACACCTAGGCAGAAGTAAGGAGCAGGA</td><td>1                                         </td></tr>\n",
       "\t<tr><td>1:859052-860562                           </td><td>SAMD11                                    </td><td>alpha_1                                   </td><td>Islet1-fresh_AGACACCTATGCGCAGCGTCTAATGGTTG</td><td>1                                         </td></tr>\n",
       "\t<tr><td>1:859052-860562                           </td><td>SAMD11                                    </td><td>alpha_2                                   </td><td>Islet1-fresh_AGACACCTCGAGGCTGAAGGCTATGGTTG</td><td>1                                         </td></tr>\n",
       "\t<tr><td>1:859052-860562                           </td><td>SAMD11                                    </td><td>alpha_2                                   </td><td>Islet1-fresh_AGACACCTCGTACTAGCTAAGCCTGTACT</td><td>1                                         </td></tr>\n",
       "\t<tr><td>1:859052-860562                           </td><td>SAMD11                                    </td><td>alpha_1                                   </td><td>Islet1-fresh_AGACACCTGGACTCCTTCGACTAGGGTTG</td><td>1                                         </td></tr>\n",
       "\t<tr><td>1:859052-860562                           </td><td>SAMD11                                    </td><td>alpha_2                                   </td><td>Islet1-fresh_AGACACCTGGAGCTACAAGGAGTAAGGCG</td><td>1                                         </td></tr>\n",
       "</tbody>\n",
       "</table>\n"
      ],
      "text/latex": [
       "\\begin{tabular}{r|lllll}\n",
       " peak & gene & cluster & cell & overlap\\\\\n",
       "\\hline\n",
       "\t 1:859052-860562                              & SAMD11                                       & alpha\\_1                                    & Islet1-fresh\\_AGACACCTAGGCAGAAGTAAGGAGCAGGA & 1                                           \\\\\n",
       "\t 1:859052-860562                              & SAMD11                                       & alpha\\_1                                    & Islet1-fresh\\_AGACACCTATGCGCAGCGTCTAATGGTTG & 1                                           \\\\\n",
       "\t 1:859052-860562                              & SAMD11                                       & alpha\\_2                                    & Islet1-fresh\\_AGACACCTCGAGGCTGAAGGCTATGGTTG & 1                                           \\\\\n",
       "\t 1:859052-860562                              & SAMD11                                       & alpha\\_2                                    & Islet1-fresh\\_AGACACCTCGTACTAGCTAAGCCTGTACT & 1                                           \\\\\n",
       "\t 1:859052-860562                              & SAMD11                                       & alpha\\_1                                    & Islet1-fresh\\_AGACACCTGGACTCCTTCGACTAGGGTTG & 1                                           \\\\\n",
       "\t 1:859052-860562                              & SAMD11                                       & alpha\\_2                                    & Islet1-fresh\\_AGACACCTGGAGCTACAAGGAGTAAGGCG & 1                                           \\\\\n",
       "\\end{tabular}\n"
      ],
      "text/markdown": [
       "\n",
       "peak | gene | cluster | cell | overlap | \n",
       "|---|---|---|---|---|---|\n",
       "| 1:859052-860562                            | SAMD11                                     | alpha_1                                    | Islet1-fresh_AGACACCTAGGCAGAAGTAAGGAGCAGGA | 1                                          | \n",
       "| 1:859052-860562                            | SAMD11                                     | alpha_1                                    | Islet1-fresh_AGACACCTATGCGCAGCGTCTAATGGTTG | 1                                          | \n",
       "| 1:859052-860562                            | SAMD11                                     | alpha_2                                    | Islet1-fresh_AGACACCTCGAGGCTGAAGGCTATGGTTG | 1                                          | \n",
       "| 1:859052-860562                            | SAMD11                                     | alpha_2                                    | Islet1-fresh_AGACACCTCGTACTAGCTAAGCCTGTACT | 1                                          | \n",
       "| 1:859052-860562                            | SAMD11                                     | alpha_1                                    | Islet1-fresh_AGACACCTGGACTCCTTCGACTAGGGTTG | 1                                          | \n",
       "| 1:859052-860562                            | SAMD11                                     | alpha_2                                    | Islet1-fresh_AGACACCTGGAGCTACAAGGAGTAAGGCG | 1                                          | \n",
       "\n",
       "\n"
      ],
      "text/plain": [
       "  peak            gene   cluster cell                                      \n",
       "1 1:859052-860562 SAMD11 alpha_1 Islet1-fresh_AGACACCTAGGCAGAAGTAAGGAGCAGGA\n",
       "2 1:859052-860562 SAMD11 alpha_1 Islet1-fresh_AGACACCTATGCGCAGCGTCTAATGGTTG\n",
       "3 1:859052-860562 SAMD11 alpha_2 Islet1-fresh_AGACACCTCGAGGCTGAAGGCTATGGTTG\n",
       "4 1:859052-860562 SAMD11 alpha_2 Islet1-fresh_AGACACCTCGTACTAGCTAAGCCTGTACT\n",
       "5 1:859052-860562 SAMD11 alpha_1 Islet1-fresh_AGACACCTGGACTCCTTCGACTAGGGTTG\n",
       "6 1:859052-860562 SAMD11 alpha_2 Islet1-fresh_AGACACCTGGAGCTACAAGGAGTAAGGCG\n",
       "  overlap\n",
       "1 1      \n",
       "2 1      \n",
       "3 1      \n",
       "4 1      \n",
       "5 1      \n",
       "6 1      "
      ]
     },
     "metadata": {},
     "output_type": "display_data"
    }
   ],
   "source": [
    "head(overlap.res)"
   ]
  },
  {
   "cell_type": "markdown",
   "metadata": {},
   "source": [
    "## 2. Data manipulate\n",
    "\n",
    "The goal is to add a `transcript` column into overlap res. Each `transcript` has a unique `tss`. \n",
    "\n",
    "- use [foverlap](https://www.rdocumentation.org/packages/data.table/versions/1.11.8/topics/foverlaps) function to get `peak` overlapping with `TSS` regions.  \n"
   ]
  },
  {
   "cell_type": "code",
   "execution_count": 54,
   "metadata": {},
   "outputs": [
    {
     "data": {
      "text/html": [
       "<table>\n",
       "<thead><tr><th scope=col>seq</th><th scope=col>start</th><th scope=col>end</th><th scope=col>gene</th><th scope=col>cluster</th><th scope=col>cell</th><th scope=col>overlap</th></tr></thead>\n",
       "<tbody>\n",
       "\t<tr><td>chr1                                      </td><td>859052                                    </td><td>860562                                    </td><td>SAMD11                                    </td><td>alpha_1                                   </td><td>Islet1-fresh_AGACACCTAGGCAGAAGTAAGGAGCAGGA</td><td>1                                         </td></tr>\n",
       "\t<tr><td>chr1                                      </td><td>859052                                    </td><td>860562                                    </td><td>SAMD11                                    </td><td>alpha_1                                   </td><td>Islet1-fresh_AGACACCTATGCGCAGCGTCTAATGGTTG</td><td>1                                         </td></tr>\n",
       "\t<tr><td>chr1                                      </td><td>859052                                    </td><td>860562                                    </td><td>SAMD11                                    </td><td>alpha_2                                   </td><td>Islet1-fresh_AGACACCTCGAGGCTGAAGGCTATGGTTG</td><td>1                                         </td></tr>\n",
       "\t<tr><td>chr1                                      </td><td>859052                                    </td><td>860562                                    </td><td>SAMD11                                    </td><td>alpha_2                                   </td><td>Islet1-fresh_AGACACCTCGTACTAGCTAAGCCTGTACT</td><td>1                                         </td></tr>\n",
       "\t<tr><td>chr1                                      </td><td>859052                                    </td><td>860562                                    </td><td>SAMD11                                    </td><td>alpha_1                                   </td><td>Islet1-fresh_AGACACCTGGACTCCTTCGACTAGGGTTG</td><td>1                                         </td></tr>\n",
       "\t<tr><td>chr1                                      </td><td>859052                                    </td><td>860562                                    </td><td>SAMD11                                    </td><td>alpha_2                                   </td><td>Islet1-fresh_AGACACCTGGAGCTACAAGGAGTAAGGCG</td><td>1                                         </td></tr>\n",
       "</tbody>\n",
       "</table>\n"
      ],
      "text/latex": [
       "\\begin{tabular}{r|lllllll}\n",
       " seq & start & end & gene & cluster & cell & overlap\\\\\n",
       "\\hline\n",
       "\t chr1                                         & 859052                                       & 860562                                       & SAMD11                                       & alpha\\_1                                    & Islet1-fresh\\_AGACACCTAGGCAGAAGTAAGGAGCAGGA & 1                                           \\\\\n",
       "\t chr1                                         & 859052                                       & 860562                                       & SAMD11                                       & alpha\\_1                                    & Islet1-fresh\\_AGACACCTATGCGCAGCGTCTAATGGTTG & 1                                           \\\\\n",
       "\t chr1                                         & 859052                                       & 860562                                       & SAMD11                                       & alpha\\_2                                    & Islet1-fresh\\_AGACACCTCGAGGCTGAAGGCTATGGTTG & 1                                           \\\\\n",
       "\t chr1                                         & 859052                                       & 860562                                       & SAMD11                                       & alpha\\_2                                    & Islet1-fresh\\_AGACACCTCGTACTAGCTAAGCCTGTACT & 1                                           \\\\\n",
       "\t chr1                                         & 859052                                       & 860562                                       & SAMD11                                       & alpha\\_1                                    & Islet1-fresh\\_AGACACCTGGACTCCTTCGACTAGGGTTG & 1                                           \\\\\n",
       "\t chr1                                         & 859052                                       & 860562                                       & SAMD11                                       & alpha\\_2                                    & Islet1-fresh\\_AGACACCTGGAGCTACAAGGAGTAAGGCG & 1                                           \\\\\n",
       "\\end{tabular}\n"
      ],
      "text/markdown": [
       "\n",
       "seq | start | end | gene | cluster | cell | overlap | \n",
       "|---|---|---|---|---|---|\n",
       "| chr1                                       | 859052                                     | 860562                                     | SAMD11                                     | alpha_1                                    | Islet1-fresh_AGACACCTAGGCAGAAGTAAGGAGCAGGA | 1                                          | \n",
       "| chr1                                       | 859052                                     | 860562                                     | SAMD11                                     | alpha_1                                    | Islet1-fresh_AGACACCTATGCGCAGCGTCTAATGGTTG | 1                                          | \n",
       "| chr1                                       | 859052                                     | 860562                                     | SAMD11                                     | alpha_2                                    | Islet1-fresh_AGACACCTCGAGGCTGAAGGCTATGGTTG | 1                                          | \n",
       "| chr1                                       | 859052                                     | 860562                                     | SAMD11                                     | alpha_2                                    | Islet1-fresh_AGACACCTCGTACTAGCTAAGCCTGTACT | 1                                          | \n",
       "| chr1                                       | 859052                                     | 860562                                     | SAMD11                                     | alpha_1                                    | Islet1-fresh_AGACACCTGGACTCCTTCGACTAGGGTTG | 1                                          | \n",
       "| chr1                                       | 859052                                     | 860562                                     | SAMD11                                     | alpha_2                                    | Islet1-fresh_AGACACCTGGAGCTACAAGGAGTAAGGCG | 1                                          | \n",
       "\n",
       "\n"
      ],
      "text/plain": [
       "  seq  start  end    gene   cluster cell                                      \n",
       "1 chr1 859052 860562 SAMD11 alpha_1 Islet1-fresh_AGACACCTAGGCAGAAGTAAGGAGCAGGA\n",
       "2 chr1 859052 860562 SAMD11 alpha_1 Islet1-fresh_AGACACCTATGCGCAGCGTCTAATGGTTG\n",
       "3 chr1 859052 860562 SAMD11 alpha_2 Islet1-fresh_AGACACCTCGAGGCTGAAGGCTATGGTTG\n",
       "4 chr1 859052 860562 SAMD11 alpha_2 Islet1-fresh_AGACACCTCGTACTAGCTAAGCCTGTACT\n",
       "5 chr1 859052 860562 SAMD11 alpha_1 Islet1-fresh_AGACACCTGGACTCCTTCGACTAGGGTTG\n",
       "6 chr1 859052 860562 SAMD11 alpha_2 Islet1-fresh_AGACACCTGGAGCTACAAGGAGTAAGGCG\n",
       "  overlap\n",
       "1 1      \n",
       "2 1      \n",
       "3 1      \n",
       "4 1      \n",
       "5 1      \n",
       "6 1      "
      ]
     },
     "metadata": {},
     "output_type": "display_data"
    }
   ],
   "source": [
    "require(tidyverse)\n",
    "overlap.res<- overlap.res%>%\n",
    "    separate(peak,into = c(\"seq\",\"start\",\"end\"),sep = \":|-\")%>%\n",
    "    mutate(seq=paste0('chr',seq))\n",
    "setDT(overlap.res)\n",
    "overlap.res <-overlap.res[,c(\"start\",\"end\"):=lapply(.SD, as.numeric), .SDcols = c(\"start\",\"end\")]\n",
    "head(overlap.res)"
   ]
  },
  {
   "cell_type": "code",
   "execution_count": 55,
   "metadata": {},
   "outputs": [
    {
     "data": {
      "text/html": [
       "<table>\n",
       "<thead><tr><th scope=col>seq</th><th scope=col>start</th><th scope=col>end</th><th scope=col>gene</th></tr></thead>\n",
       "<tbody>\n",
       "\t<tr><td>chr1   </td><td>859052 </td><td>860562 </td><td>SAMD11 </td></tr>\n",
       "\t<tr><td>chr1   </td><td>875573 </td><td>875966 </td><td>SAMD11 </td></tr>\n",
       "\t<tr><td>chr1   </td><td>876931 </td><td>878016 </td><td>SAMD11 </td></tr>\n",
       "\t<tr><td>chr1   </td><td>894277 </td><td>895102 </td><td>NOC2L  </td></tr>\n",
       "\t<tr><td>chr1   </td><td>895801 </td><td>896103 </td><td>KLHL17 </td></tr>\n",
       "\t<tr><td>chr1   </td><td>901696 </td><td>902721 </td><td>PLEKHN1</td></tr>\n",
       "</tbody>\n",
       "</table>\n"
      ],
      "text/latex": [
       "\\begin{tabular}{r|llll}\n",
       " seq & start & end & gene\\\\\n",
       "\\hline\n",
       "\t chr1    & 859052  & 860562  & SAMD11 \\\\\n",
       "\t chr1    & 875573  & 875966  & SAMD11 \\\\\n",
       "\t chr1    & 876931  & 878016  & SAMD11 \\\\\n",
       "\t chr1    & 894277  & 895102  & NOC2L  \\\\\n",
       "\t chr1    & 895801  & 896103  & KLHL17 \\\\\n",
       "\t chr1    & 901696  & 902721  & PLEKHN1\\\\\n",
       "\\end{tabular}\n"
      ],
      "text/markdown": [
       "\n",
       "seq | start | end | gene | \n",
       "|---|---|---|---|---|---|\n",
       "| chr1    | 859052  | 860562  | SAMD11  | \n",
       "| chr1    | 875573  | 875966  | SAMD11  | \n",
       "| chr1    | 876931  | 878016  | SAMD11  | \n",
       "| chr1    | 894277  | 895102  | NOC2L   | \n",
       "| chr1    | 895801  | 896103  | KLHL17  | \n",
       "| chr1    | 901696  | 902721  | PLEKHN1 | \n",
       "\n",
       "\n"
      ],
      "text/plain": [
       "  seq  start  end    gene   \n",
       "1 chr1 859052 860562 SAMD11 \n",
       "2 chr1 875573 875966 SAMD11 \n",
       "3 chr1 876931 878016 SAMD11 \n",
       "4 chr1 894277 895102 NOC2L  \n",
       "5 chr1 895801 896103 KLHL17 \n",
       "6 chr1 901696 902721 PLEKHN1"
      ]
     },
     "metadata": {},
     "output_type": "display_data"
    },
    {
     "data": {
      "text/html": [
       "<ol class=list-inline>\n",
       "\t<li>22279</li>\n",
       "\t<li>4</li>\n",
       "</ol>\n"
      ],
      "text/latex": [
       "\\begin{enumerate*}\n",
       "\\item 22279\n",
       "\\item 4\n",
       "\\end{enumerate*}\n"
      ],
      "text/markdown": [
       "1. 22279\n",
       "2. 4\n",
       "\n",
       "\n"
      ],
      "text/plain": [
       "[1] 22279     4"
      ]
     },
     "metadata": {},
     "output_type": "display_data"
    }
   ],
   "source": [
    "transcripts.alpha <- fread('../dat/1901/alpha.transcript_promoter_peaks.bed',\n",
    "                            col.names=c(\"seq\",'start','end','gene'))\n",
    "#transcripts.alpha$transcript.id <- make.names(transcripts.alpha$transcript.id,unique = T)\n",
    "setkey(transcripts.alpha,seq,start,end)\n",
    "head(transcripts.alpha)\n",
    "dim(transcripts.alpha)"
   ]
  },
  {
   "cell_type": "code",
   "execution_count": 70,
   "metadata": {},
   "outputs": [
    {
     "data": {
      "text/html": [
       "<ol class=list-inline>\n",
       "\t<li>1</li>\n",
       "\t<li>22279</li>\n",
       "</ol>\n"
      ],
      "text/latex": [
       "\\begin{enumerate*}\n",
       "\\item 1\n",
       "\\item 22279\n",
       "\\end{enumerate*}\n"
      ],
      "text/markdown": [
       "1. 1\n",
       "2. 22279\n",
       "\n",
       "\n"
      ],
      "text/plain": [
       "[1]     1 22279"
      ]
     },
     "metadata": {},
     "output_type": "display_data"
    }
   ],
   "source": [
    "foverlap.res <- foverlaps(x = overlap.res,y = transcripts.alpha,\n",
    "                 by.x=c(\"seq\", \"start\", \"end\"),\n",
    "                 type=\"any\", which=T,mult=\"first\")\n",
    "range(foverlap.res)"
   ]
  },
  {
   "cell_type": "code",
   "execution_count": 74,
   "metadata": {},
   "outputs": [
    {
     "data": {
      "text/html": [
       "<table>\n",
       "<thead><tr><th scope=col>seq</th><th scope=col>start</th><th scope=col>end</th><th scope=col>gene</th><th scope=col>cluster</th><th scope=col>cell</th><th scope=col>transcript.idx</th></tr></thead>\n",
       "<tbody>\n",
       "\t<tr><td>chr1                                      </td><td>859052                                    </td><td>860562                                    </td><td>SAMD11                                    </td><td>alpha_1                                   </td><td>Islet1-fresh_AGACACCTAGGCAGAAGTAAGGAGCAGGA</td><td>1                                         </td></tr>\n",
       "\t<tr><td>chr1                                      </td><td>859052                                    </td><td>860562                                    </td><td>SAMD11                                    </td><td>alpha_1                                   </td><td>Islet1-fresh_AGACACCTATGCGCAGCGTCTAATGGTTG</td><td>1                                         </td></tr>\n",
       "\t<tr><td>chr1                                      </td><td>859052                                    </td><td>860562                                    </td><td>SAMD11                                    </td><td>alpha_2                                   </td><td>Islet1-fresh_AGACACCTCGAGGCTGAAGGCTATGGTTG</td><td>1                                         </td></tr>\n",
       "\t<tr><td>chr1                                      </td><td>859052                                    </td><td>860562                                    </td><td>SAMD11                                    </td><td>alpha_2                                   </td><td>Islet1-fresh_AGACACCTCGTACTAGCTAAGCCTGTACT</td><td>1                                         </td></tr>\n",
       "\t<tr><td>chr1                                      </td><td>859052                                    </td><td>860562                                    </td><td>SAMD11                                    </td><td>alpha_1                                   </td><td>Islet1-fresh_AGACACCTGGACTCCTTCGACTAGGGTTG</td><td>1                                         </td></tr>\n",
       "\t<tr><td>chr1                                      </td><td>859052                                    </td><td>860562                                    </td><td>SAMD11                                    </td><td>alpha_2                                   </td><td>Islet1-fresh_AGACACCTGGAGCTACAAGGAGTAAGGCG</td><td>1                                         </td></tr>\n",
       "</tbody>\n",
       "</table>\n"
      ],
      "text/latex": [
       "\\begin{tabular}{r|lllllll}\n",
       " seq & start & end & gene & cluster & cell & transcript.idx\\\\\n",
       "\\hline\n",
       "\t chr1                                         & 859052                                       & 860562                                       & SAMD11                                       & alpha\\_1                                    & Islet1-fresh\\_AGACACCTAGGCAGAAGTAAGGAGCAGGA & 1                                           \\\\\n",
       "\t chr1                                         & 859052                                       & 860562                                       & SAMD11                                       & alpha\\_1                                    & Islet1-fresh\\_AGACACCTATGCGCAGCGTCTAATGGTTG & 1                                           \\\\\n",
       "\t chr1                                         & 859052                                       & 860562                                       & SAMD11                                       & alpha\\_2                                    & Islet1-fresh\\_AGACACCTCGAGGCTGAAGGCTATGGTTG & 1                                           \\\\\n",
       "\t chr1                                         & 859052                                       & 860562                                       & SAMD11                                       & alpha\\_2                                    & Islet1-fresh\\_AGACACCTCGTACTAGCTAAGCCTGTACT & 1                                           \\\\\n",
       "\t chr1                                         & 859052                                       & 860562                                       & SAMD11                                       & alpha\\_1                                    & Islet1-fresh\\_AGACACCTGGACTCCTTCGACTAGGGTTG & 1                                           \\\\\n",
       "\t chr1                                         & 859052                                       & 860562                                       & SAMD11                                       & alpha\\_2                                    & Islet1-fresh\\_AGACACCTGGAGCTACAAGGAGTAAGGCG & 1                                           \\\\\n",
       "\\end{tabular}\n"
      ],
      "text/markdown": [
       "\n",
       "seq | start | end | gene | cluster | cell | transcript.idx | \n",
       "|---|---|---|---|---|---|\n",
       "| chr1                                       | 859052                                     | 860562                                     | SAMD11                                     | alpha_1                                    | Islet1-fresh_AGACACCTAGGCAGAAGTAAGGAGCAGGA | 1                                          | \n",
       "| chr1                                       | 859052                                     | 860562                                     | SAMD11                                     | alpha_1                                    | Islet1-fresh_AGACACCTATGCGCAGCGTCTAATGGTTG | 1                                          | \n",
       "| chr1                                       | 859052                                     | 860562                                     | SAMD11                                     | alpha_2                                    | Islet1-fresh_AGACACCTCGAGGCTGAAGGCTATGGTTG | 1                                          | \n",
       "| chr1                                       | 859052                                     | 860562                                     | SAMD11                                     | alpha_2                                    | Islet1-fresh_AGACACCTCGTACTAGCTAAGCCTGTACT | 1                                          | \n",
       "| chr1                                       | 859052                                     | 860562                                     | SAMD11                                     | alpha_1                                    | Islet1-fresh_AGACACCTGGACTCCTTCGACTAGGGTTG | 1                                          | \n",
       "| chr1                                       | 859052                                     | 860562                                     | SAMD11                                     | alpha_2                                    | Islet1-fresh_AGACACCTGGAGCTACAAGGAGTAAGGCG | 1                                          | \n",
       "\n",
       "\n"
      ],
      "text/plain": [
       "  seq  start  end    gene   cluster cell                                      \n",
       "1 chr1 859052 860562 SAMD11 alpha_1 Islet1-fresh_AGACACCTAGGCAGAAGTAAGGAGCAGGA\n",
       "2 chr1 859052 860562 SAMD11 alpha_1 Islet1-fresh_AGACACCTATGCGCAGCGTCTAATGGTTG\n",
       "3 chr1 859052 860562 SAMD11 alpha_2 Islet1-fresh_AGACACCTCGAGGCTGAAGGCTATGGTTG\n",
       "4 chr1 859052 860562 SAMD11 alpha_2 Islet1-fresh_AGACACCTCGTACTAGCTAAGCCTGTACT\n",
       "5 chr1 859052 860562 SAMD11 alpha_1 Islet1-fresh_AGACACCTGGACTCCTTCGACTAGGGTTG\n",
       "6 chr1 859052 860562 SAMD11 alpha_2 Islet1-fresh_AGACACCTGGAGCTACAAGGAGTAAGGCG\n",
       "  transcript.idx\n",
       "1 1             \n",
       "2 1             \n",
       "3 1             \n",
       "4 1             \n",
       "5 1             \n",
       "6 1             "
      ]
     },
     "metadata": {},
     "output_type": "display_data"
    }
   ],
   "source": [
    "overlap.res <- (overlap.res%>%mutate(transcript.idx=foverlap.res)%>%select(-overlap))\n",
    "head(overlap.res)"
   ]
  },
  {
   "cell_type": "markdown",
   "metadata": {},
   "source": [
    "### 3. Repeated for beta"
   ]
  },
  {
   "cell_type": "code",
   "execution_count": 77,
   "metadata": {},
   "outputs": [
    {
     "data": {
      "text/html": [
       "<table>\n",
       "<thead><tr><th scope=col>seq</th><th scope=col>start</th><th scope=col>end</th><th scope=col>gene</th><th scope=col>cluster</th><th scope=col>cell</th><th scope=col>transcript.idx</th></tr></thead>\n",
       "<tbody>\n",
       "\t<tr><td>chr1                                      </td><td>859052                                    </td><td>860562                                    </td><td>SAMD11                                    </td><td>beta_1                                    </td><td>Islet1-fresh_AGACACCTACTCGCTATCGACTAGATAGA</td><td>1                                         </td></tr>\n",
       "\t<tr><td>chr1                                      </td><td>859052                                    </td><td>860562                                    </td><td>SAMD11                                    </td><td>beta_2                                    </td><td>Islet1-fresh_AGACACCTACTCGCTATTCTAGCTGGTTG</td><td>1                                         </td></tr>\n",
       "\t<tr><td>chr1                                      </td><td>859052                                    </td><td>860562                                    </td><td>SAMD11                                    </td><td>beta_1                                    </td><td>Islet1-fresh_AGACACCTAGGCAGAATCTCTCCGAGGCG</td><td>1                                         </td></tr>\n",
       "\t<tr><td>chr1                                      </td><td>859052                                    </td><td>860562                                    </td><td>SAMD11                                    </td><td>beta_1                                    </td><td>Islet1-fresh_AGACACCTCGTACTAGAAGGAGTACAGGA</td><td>1                                         </td></tr>\n",
       "\t<tr><td>chr1                                      </td><td>859052                                    </td><td>860562                                    </td><td>SAMD11                                    </td><td>beta_1                                    </td><td>Islet1-fresh_AGACACCTCTCTCTACACTGCATAAGGCG</td><td>1                                         </td></tr>\n",
       "\t<tr><td>chr1                                      </td><td>859052                                    </td><td>860562                                    </td><td>SAMD11                                    </td><td>beta_2                                    </td><td>Islet1-fresh_AGACACCTCTCTCTACTATCCTCTTATAG</td><td>1                                         </td></tr>\n",
       "</tbody>\n",
       "</table>\n"
      ],
      "text/latex": [
       "\\begin{tabular}{r|lllllll}\n",
       " seq & start & end & gene & cluster & cell & transcript.idx\\\\\n",
       "\\hline\n",
       "\t chr1                                         & 859052                                       & 860562                                       & SAMD11                                       & beta\\_1                                     & Islet1-fresh\\_AGACACCTACTCGCTATCGACTAGATAGA & 1                                           \\\\\n",
       "\t chr1                                         & 859052                                       & 860562                                       & SAMD11                                       & beta\\_2                                     & Islet1-fresh\\_AGACACCTACTCGCTATTCTAGCTGGTTG & 1                                           \\\\\n",
       "\t chr1                                         & 859052                                       & 860562                                       & SAMD11                                       & beta\\_1                                     & Islet1-fresh\\_AGACACCTAGGCAGAATCTCTCCGAGGCG & 1                                           \\\\\n",
       "\t chr1                                         & 859052                                       & 860562                                       & SAMD11                                       & beta\\_1                                     & Islet1-fresh\\_AGACACCTCGTACTAGAAGGAGTACAGGA & 1                                           \\\\\n",
       "\t chr1                                         & 859052                                       & 860562                                       & SAMD11                                       & beta\\_1                                     & Islet1-fresh\\_AGACACCTCTCTCTACACTGCATAAGGCG & 1                                           \\\\\n",
       "\t chr1                                         & 859052                                       & 860562                                       & SAMD11                                       & beta\\_2                                     & Islet1-fresh\\_AGACACCTCTCTCTACTATCCTCTTATAG & 1                                           \\\\\n",
       "\\end{tabular}\n"
      ],
      "text/markdown": [
       "\n",
       "seq | start | end | gene | cluster | cell | transcript.idx | \n",
       "|---|---|---|---|---|---|\n",
       "| chr1                                       | 859052                                     | 860562                                     | SAMD11                                     | beta_1                                     | Islet1-fresh_AGACACCTACTCGCTATCGACTAGATAGA | 1                                          | \n",
       "| chr1                                       | 859052                                     | 860562                                     | SAMD11                                     | beta_2                                     | Islet1-fresh_AGACACCTACTCGCTATTCTAGCTGGTTG | 1                                          | \n",
       "| chr1                                       | 859052                                     | 860562                                     | SAMD11                                     | beta_1                                     | Islet1-fresh_AGACACCTAGGCAGAATCTCTCCGAGGCG | 1                                          | \n",
       "| chr1                                       | 859052                                     | 860562                                     | SAMD11                                     | beta_1                                     | Islet1-fresh_AGACACCTCGTACTAGAAGGAGTACAGGA | 1                                          | \n",
       "| chr1                                       | 859052                                     | 860562                                     | SAMD11                                     | beta_1                                     | Islet1-fresh_AGACACCTCTCTCTACACTGCATAAGGCG | 1                                          | \n",
       "| chr1                                       | 859052                                     | 860562                                     | SAMD11                                     | beta_2                                     | Islet1-fresh_AGACACCTCTCTCTACTATCCTCTTATAG | 1                                          | \n",
       "\n",
       "\n"
      ],
      "text/plain": [
       "  seq  start  end    gene   cluster cell                                      \n",
       "1 chr1 859052 860562 SAMD11 beta_1  Islet1-fresh_AGACACCTACTCGCTATCGACTAGATAGA\n",
       "2 chr1 859052 860562 SAMD11 beta_2  Islet1-fresh_AGACACCTACTCGCTATTCTAGCTGGTTG\n",
       "3 chr1 859052 860562 SAMD11 beta_1  Islet1-fresh_AGACACCTAGGCAGAATCTCTCCGAGGCG\n",
       "4 chr1 859052 860562 SAMD11 beta_1  Islet1-fresh_AGACACCTCGTACTAGAAGGAGTACAGGA\n",
       "5 chr1 859052 860562 SAMD11 beta_1  Islet1-fresh_AGACACCTCTCTCTACACTGCATAAGGCG\n",
       "6 chr1 859052 860562 SAMD11 beta_2  Islet1-fresh_AGACACCTCTCTCTACTATCCTCTTATAG\n",
       "  transcript.idx\n",
       "1 1             \n",
       "2 1             \n",
       "3 1             \n",
       "4 1             \n",
       "5 1             \n",
       "6 1             "
      ]
     },
     "metadata": {},
     "output_type": "display_data"
    }
   ],
   "source": [
    "overlap.res.beta <- fread('../dat/1901/beta.promoter.long_matrix.txt')%>%\n",
    "    separate(peak,into = c(\"seq\",\"start\",\"end\"),sep = \":|-\")%>%\n",
    "    mutate(seq=paste0('chr',seq))\n",
    "setDT(overlap.res.beta)\n",
    "overlap.res.beta <-overlap.res.beta[,c(\"start\",\"end\"):=lapply(.SD, as.numeric), .SDcols = c(\"start\",\"end\")]\n",
    "\n",
    "\n",
    "## \n",
    "transcripts.beta <- fread('../dat/1901/beta.transcript_promoter_peaks.bed',\n",
    "                            col.names=c(\"seq\",'start','end','gene'))\n",
    "setkey(transcripts.beta,seq,start,end)\n",
    "\n",
    "##\n",
    "overlap.res.beta <- overlap.res.beta%>%\n",
    "    mutate(transcript.idx=foverlaps(x = overlap.res.beta,y = transcripts.beta,\n",
    "                 by.x=c(\"seq\", \"start\", \"end\"),\n",
    "                 type=\"any\", which=T,mult=\"first\"))%>%\n",
    "    select(-overlap)\n",
    "\n",
    "##\n",
    "head(overlap.res.beta)"
   ]
  },
  {
   "cell_type": "code",
   "execution_count": 78,
   "metadata": {},
   "outputs": [
    {
     "data": {
      "text/html": [
       "<ol class=list-inline>\n",
       "\t<li>1</li>\n",
       "\t<li>22381</li>\n",
       "</ol>\n"
      ],
      "text/latex": [
       "\\begin{enumerate*}\n",
       "\\item 1\n",
       "\\item 22381\n",
       "\\end{enumerate*}\n"
      ],
      "text/markdown": [
       "1. 1\n",
       "2. 22381\n",
       "\n",
       "\n"
      ],
      "text/plain": [
       "[1]     1 22381"
      ]
     },
     "metadata": {},
     "output_type": "display_data"
    },
    {
     "data": {
      "text/html": [
       "<ol class=list-inline>\n",
       "\t<li>22381</li>\n",
       "\t<li>4</li>\n",
       "</ol>\n"
      ],
      "text/latex": [
       "\\begin{enumerate*}\n",
       "\\item 22381\n",
       "\\item 4\n",
       "\\end{enumerate*}\n"
      ],
      "text/markdown": [
       "1. 22381\n",
       "2. 4\n",
       "\n",
       "\n"
      ],
      "text/plain": [
       "[1] 22381     4"
      ]
     },
     "metadata": {},
     "output_type": "display_data"
    }
   ],
   "source": [
    "range(overlap.res.beta$transcript.idx)\n",
    "dim(transcripts.beta)"
   ]
  },
  {
   "cell_type": "markdown",
   "metadata": {},
   "source": [
    "### 4. Combine alpha and beta "
   ]
  },
  {
   "cell_type": "code",
   "execution_count": 80,
   "metadata": {},
   "outputs": [],
   "source": [
    "overlap.res <-rbind(overlap.res,overlap.res.beta)"
   ]
  },
  {
   "cell_type": "code",
   "execution_count": 5,
   "metadata": {},
   "outputs": [
    {
     "data": {
      "text/html": [
       "<ol class=list-inline>\n",
       "\t<li>19425849</li>\n",
       "\t<li>7</li>\n",
       "</ol>\n"
      ],
      "text/latex": [
       "\\begin{enumerate*}\n",
       "\\item 19425849\n",
       "\\item 7\n",
       "\\end{enumerate*}\n"
      ],
      "text/markdown": [
       "1. 19425849\n",
       "2. 7\n",
       "\n",
       "\n"
      ],
      "text/plain": [
       "[1] 19425849        7"
      ]
     },
     "metadata": {},
     "output_type": "display_data"
    },
    {
     "data": {
      "text/html": [
       "12780"
      ],
      "text/latex": [
       "12780"
      ],
      "text/markdown": [
       "12780"
      ],
      "text/plain": [
       "[1] 12780"
      ]
     },
     "metadata": {},
     "output_type": "display_data"
    }
   ],
   "source": [
    "dim(overlap.res)\n",
    "length(unique(overlap.res$cell))"
   ]
  },
  {
   "cell_type": "markdown",
   "metadata": {},
   "source": [
    "### 5. filtering using umap's results"
   ]
  },
  {
   "cell_type": "code",
   "execution_count": 11,
   "metadata": {},
   "outputs": [
    {
     "data": {
      "text/html": [
       "<table>\n",
       "<thead><tr><th scope=col>barcodes</th><th scope=col>UMAP1</th><th scope=col>UMAP2</th><th scope=col>cluster</th><th scope=col>cell_type_overall</th><th scope=col>subtype</th><th scope=col>log10_n_counts</th><th scope=col>log10_n_peaks</th><th scope=col>Islet1</th><th scope=col>Islet2</th><th scope=col>Islet3</th></tr></thead>\n",
       "<tbody>\n",
       "\t<tr><td>Islet3-fresh_CTGAAGCTTGCAGCTACTCTCTATTATAGCCT</td><td>  6.029433                                   </td><td>-3.42981782                                  </td><td>beta_2                                       </td><td>beta                                         </td><td>2                                            </td><td>4.520863                                     </td><td>4.152013                                     </td><td>0                                            </td><td>0                                            </td><td>1                                            </td></tr>\n",
       "\t<tr><td>Islet3-fresh_TCCGCGAACGAGGCTGCCTAGAGTGTACTGAC</td><td>-10.054582                                   </td><td>-0.77572841                                  </td><td>alpha_1                                      </td><td>alpha                                        </td><td>1                                            </td><td>4.095657                                     </td><td>3.758761                                     </td><td>0                                            </td><td>0                                            </td><td>1                                            </td></tr>\n",
       "\t<tr><td>Islet3-fresh_CGGCTATGAAGAGGCAGTAAGGAGCCTATCCT</td><td>  6.807724                                   </td><td>-4.28113995                                  </td><td>beta_1                                       </td><td>beta                                         </td><td>1                                            </td><td>3.953856                                     </td><td>3.622214                                     </td><td>0                                            </td><td>0                                            </td><td>1                                            </td></tr>\n",
       "\t<tr><td>Islet3-fresh_CGGCTATGGCGTAGTAAAGGAGTATATAGCCT</td><td>-10.170747                                   </td><td>-2.35448799                                  </td><td>alpha_1                                      </td><td>alpha                                        </td><td>1                                            </td><td>4.025879                                     </td><td>3.694781                                     </td><td>0                                            </td><td>0                                            </td><td>1                                            </td></tr>\n",
       "\t<tr><td>Islet3-fresh_CTGAAGCTTAGGCATGCCTAGAGTGGTTGCGT</td><td>-11.246461                                   </td><td> 0.03809572                                  </td><td>alpha_1                                      </td><td>alpha                                        </td><td>1                                            </td><td>4.470131                                     </td><td>4.087994                                     </td><td>0                                            </td><td>0                                            </td><td>1                                            </td></tr>\n",
       "\t<tr><td>Islet3-fresh_GAGATTCCCGAGGCTGAAGGCTATAGGCGAAG</td><td>-11.169406                                   </td><td>-0.60920586                                  </td><td>alpha_1                                      </td><td>alpha                                        </td><td>1                                            </td><td>4.115577                                     </td><td>3.780821                                     </td><td>0                                            </td><td>0                                            </td><td>1                                            </td></tr>\n",
       "</tbody>\n",
       "</table>\n"
      ],
      "text/latex": [
       "\\begin{tabular}{r|lllllllllll}\n",
       " barcodes & UMAP1 & UMAP2 & cluster & cell\\_type\\_overall & subtype & log10\\_n\\_counts & log10\\_n\\_peaks & Islet1 & Islet2 & Islet3\\\\\n",
       "\\hline\n",
       "\t Islet3-fresh\\_CTGAAGCTTGCAGCTACTCTCTATTATAGCCT &   6.029433                                      & -3.42981782                                     & beta\\_2                                        & beta                                            & 2                                               & 4.520863                                        & 4.152013                                        & 0                                               & 0                                               & 1                                              \\\\\n",
       "\t Islet3-fresh\\_TCCGCGAACGAGGCTGCCTAGAGTGTACTGAC & -10.054582                                      & -0.77572841                                     & alpha\\_1                                       & alpha                                           & 1                                               & 4.095657                                        & 3.758761                                        & 0                                               & 0                                               & 1                                              \\\\\n",
       "\t Islet3-fresh\\_CGGCTATGAAGAGGCAGTAAGGAGCCTATCCT &   6.807724                                      & -4.28113995                                     & beta\\_1                                        & beta                                            & 1                                               & 3.953856                                        & 3.622214                                        & 0                                               & 0                                               & 1                                              \\\\\n",
       "\t Islet3-fresh\\_CGGCTATGGCGTAGTAAAGGAGTATATAGCCT & -10.170747                                      & -2.35448799                                     & alpha\\_1                                       & alpha                                           & 1                                               & 4.025879                                        & 3.694781                                        & 0                                               & 0                                               & 1                                              \\\\\n",
       "\t Islet3-fresh\\_CTGAAGCTTAGGCATGCCTAGAGTGGTTGCGT & -11.246461                                      &  0.03809572                                     & alpha\\_1                                       & alpha                                           & 1                                               & 4.470131                                        & 4.087994                                        & 0                                               & 0                                               & 1                                              \\\\\n",
       "\t Islet3-fresh\\_GAGATTCCCGAGGCTGAAGGCTATAGGCGAAG & -11.169406                                      & -0.60920586                                     & alpha\\_1                                       & alpha                                           & 1                                               & 4.115577                                        & 3.780821                                        & 0                                               & 0                                               & 1                                              \\\\\n",
       "\\end{tabular}\n"
      ],
      "text/markdown": [
       "\n",
       "barcodes | UMAP1 | UMAP2 | cluster | cell_type_overall | subtype | log10_n_counts | log10_n_peaks | Islet1 | Islet2 | Islet3 | \n",
       "|---|---|---|---|---|---|\n",
       "| Islet3-fresh_CTGAAGCTTGCAGCTACTCTCTATTATAGCCT |   6.029433                                    | -3.42981782                                   | beta_2                                        | beta                                          | 2                                             | 4.520863                                      | 4.152013                                      | 0                                             | 0                                             | 1                                             | \n",
       "| Islet3-fresh_TCCGCGAACGAGGCTGCCTAGAGTGTACTGAC | -10.054582                                    | -0.77572841                                   | alpha_1                                       | alpha                                         | 1                                             | 4.095657                                      | 3.758761                                      | 0                                             | 0                                             | 1                                             | \n",
       "| Islet3-fresh_CGGCTATGAAGAGGCAGTAAGGAGCCTATCCT |   6.807724                                    | -4.28113995                                   | beta_1                                        | beta                                          | 1                                             | 3.953856                                      | 3.622214                                      | 0                                             | 0                                             | 1                                             | \n",
       "| Islet3-fresh_CGGCTATGGCGTAGTAAAGGAGTATATAGCCT | -10.170747                                    | -2.35448799                                   | alpha_1                                       | alpha                                         | 1                                             | 4.025879                                      | 3.694781                                      | 0                                             | 0                                             | 1                                             | \n",
       "| Islet3-fresh_CTGAAGCTTAGGCATGCCTAGAGTGGTTGCGT | -11.246461                                    |  0.03809572                                   | alpha_1                                       | alpha                                         | 1                                             | 4.470131                                      | 4.087994                                      | 0                                             | 0                                             | 1                                             | \n",
       "| Islet3-fresh_GAGATTCCCGAGGCTGAAGGCTATAGGCGAAG | -11.169406                                    | -0.60920586                                   | alpha_1                                       | alpha                                         | 1                                             | 4.115577                                      | 3.780821                                      | 0                                             | 0                                             | 1                                             | \n",
       "\n",
       "\n"
      ],
      "text/plain": [
       "  barcodes                                      UMAP1      UMAP2       cluster\n",
       "1 Islet3-fresh_CTGAAGCTTGCAGCTACTCTCTATTATAGCCT   6.029433 -3.42981782 beta_2 \n",
       "2 Islet3-fresh_TCCGCGAACGAGGCTGCCTAGAGTGTACTGAC -10.054582 -0.77572841 alpha_1\n",
       "3 Islet3-fresh_CGGCTATGAAGAGGCAGTAAGGAGCCTATCCT   6.807724 -4.28113995 beta_1 \n",
       "4 Islet3-fresh_CGGCTATGGCGTAGTAAAGGAGTATATAGCCT -10.170747 -2.35448799 alpha_1\n",
       "5 Islet3-fresh_CTGAAGCTTAGGCATGCCTAGAGTGGTTGCGT -11.246461  0.03809572 alpha_1\n",
       "6 Islet3-fresh_GAGATTCCCGAGGCTGAAGGCTATAGGCGAAG -11.169406 -0.60920586 alpha_1\n",
       "  cell_type_overall subtype log10_n_counts log10_n_peaks Islet1 Islet2 Islet3\n",
       "1 beta              2       4.520863       4.152013      0      0      1     \n",
       "2 alpha             1       4.095657       3.758761      0      0      1     \n",
       "3 beta              1       3.953856       3.622214      0      0      1     \n",
       "4 alpha             1       4.025879       3.694781      0      0      1     \n",
       "5 alpha             1       4.470131       4.087994      0      0      1     \n",
       "6 alpha             1       4.115577       3.780821      0      0      1     "
      ]
     },
     "metadata": {},
     "output_type": "display_data"
    },
    {
     "data": {
      "text/html": [
       "12764"
      ],
      "text/latex": [
       "12764"
      ],
      "text/markdown": [
       "12764"
      ],
      "text/plain": [
       "[1] 12764"
      ]
     },
     "metadata": {},
     "output_type": "display_data"
    }
   ],
   "source": [
    "dat.all.cells <- fread('../dat/output.umap.ab.filtered.csv')\n",
    "head(dat.all.cells)\n",
    "length(dat.all.cells$barcodes)"
   ]
  },
  {
   "cell_type": "code",
   "execution_count": 10,
   "metadata": {},
   "outputs": [],
   "source": [
    "overlap.res <- fread('../dat/1901/alpha_beta.promoter.long_matrix_w_transcripts.txt')"
   ]
  },
  {
   "cell_type": "code",
   "execution_count": 12,
   "metadata": {},
   "outputs": [
    {
     "data": {
      "text/html": [
       "<ol class=list-inline>\n",
       "\t<li>19412387</li>\n",
       "\t<li>7</li>\n",
       "</ol>\n"
      ],
      "text/latex": [
       "\\begin{enumerate*}\n",
       "\\item 19412387\n",
       "\\item 7\n",
       "\\end{enumerate*}\n"
      ],
      "text/markdown": [
       "1. 19412387\n",
       "2. 7\n",
       "\n",
       "\n"
      ],
      "text/plain": [
       "[1] 19412387        7"
      ]
     },
     "metadata": {},
     "output_type": "display_data"
    },
    {
     "data": {
      "text/html": [
       "12764"
      ],
      "text/latex": [
       "12764"
      ],
      "text/markdown": [
       "12764"
      ],
      "text/plain": [
       "[1] 12764"
      ]
     },
     "metadata": {},
     "output_type": "display_data"
    }
   ],
   "source": [
    "overlap.res <- overlap.res%>% filter(cell %in% dat.all.cells$barcodes)\n",
    "dim(overlap.res)\n",
    "length(unique(overlap.res$cell))"
   ]
  },
  {
   "cell_type": "code",
   "execution_count": 13,
   "metadata": {},
   "outputs": [],
   "source": [
    "fwrite(overlap.res,'../dat/1901/alpha_beta.promoter.long_matrix_w_transcripts.txt')"
   ]
  },
  {
   "cell_type": "code",
   "execution_count": null,
   "metadata": {},
   "outputs": [],
   "source": []
  }
 ],
 "metadata": {
  "kernelspec": {
   "display_name": "R",
   "language": "R",
   "name": "ir"
  },
  "language_info": {
   "codemirror_mode": "r",
   "file_extension": ".r",
   "mimetype": "text/x-r-source",
   "name": "R",
   "pygments_lexer": "r",
   "version": "3.5.1"
  }
 },
 "nbformat": 4,
 "nbformat_minor": 2
}
