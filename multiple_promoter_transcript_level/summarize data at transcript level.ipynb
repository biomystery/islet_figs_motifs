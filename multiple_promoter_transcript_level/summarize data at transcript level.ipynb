{
 "cells": [
  {
   "cell_type": "markdown",
   "metadata": {},
   "source": [
    "## 1. Data manipulate\n",
    "\n",
    "The goal is to add a `transcript` column into overlap res. Each `transcript` has a unique `tss`. \n",
    "\n",
    "- use [foverlap](https://www.rdocumentation.org/packages/data.table/versions/1.11.8/topics/foverlaps) function to get `peak` overlapping with `TSS` regions.  "
   ]
  },
  {
   "cell_type": "markdown",
   "metadata": {},
   "source": [
    "### 1.1 load all transcripts"
   ]
  },
  {
   "cell_type": "code",
   "execution_count": 2,
   "metadata": {},
   "outputs": [
    {
     "data": {
      "text/html": [
       "<table>\n",
       "<thead><tr><th scope=col>seq</th><th scope=col>start</th><th scope=col>end</th><th scope=col>gene</th></tr></thead>\n",
       "<tbody>\n",
       "\t<tr><td>chr1      </td><td> 68591    </td><td> 69591    </td><td>OR4F5     </td></tr>\n",
       "\t<tr><td>chr1      </td><td>138879    </td><td>139879    </td><td>AL627309.1</td></tr>\n",
       "\t<tr><td>chr1      </td><td>367140    </td><td>368140    </td><td>OR4F29    </td></tr>\n",
       "\t<tr><td>chr1      </td><td>621553    </td><td>622553    </td><td>OR4F16    </td></tr>\n",
       "\t<tr><td>chr1      </td><td>738637    </td><td>739637    </td><td>AL669831.1</td></tr>\n",
       "\t<tr><td>chr1      </td><td>817543    </td><td>818543    </td><td>AL645608.2</td></tr>\n",
       "</tbody>\n",
       "</table>\n"
      ],
      "text/latex": [
       "\\begin{tabular}{r|llll}\n",
       " seq & start & end & gene\\\\\n",
       "\\hline\n",
       "\t chr1       &  68591     &  69591     & OR4F5     \\\\\n",
       "\t chr1       & 138879     & 139879     & AL627309.1\\\\\n",
       "\t chr1       & 367140     & 368140     & OR4F29    \\\\\n",
       "\t chr1       & 621553     & 622553     & OR4F16    \\\\\n",
       "\t chr1       & 738637     & 739637     & AL669831.1\\\\\n",
       "\t chr1       & 817543     & 818543     & AL645608.2\\\\\n",
       "\\end{tabular}\n"
      ],
      "text/markdown": [
       "\n",
       "| seq | start | end | gene |\n",
       "|---|---|---|---|\n",
       "| chr1       |  68591     |  69591     | OR4F5      |\n",
       "| chr1       | 138879     | 139879     | AL627309.1 |\n",
       "| chr1       | 367140     | 368140     | OR4F29     |\n",
       "| chr1       | 621553     | 622553     | OR4F16     |\n",
       "| chr1       | 738637     | 739637     | AL669831.1 |\n",
       "| chr1       | 817543     | 818543     | AL645608.2 |\n",
       "\n"
      ],
      "text/plain": [
       "  seq  start  end    gene      \n",
       "1 chr1  68591  69591 OR4F5     \n",
       "2 chr1 138879 139879 AL627309.1\n",
       "3 chr1 367140 368140 OR4F29    \n",
       "4 chr1 621553 622553 OR4F16    \n",
       "5 chr1 738637 739637 AL669831.1\n",
       "6 chr1 817543 818543 AL645608.2"
      ]
     },
     "metadata": {},
     "output_type": "display_data"
    },
    {
     "data": {
      "text/html": [
       "<table>\n",
       "<thead><tr><th scope=col>seq</th><th scope=col>start</th><th scope=col>end</th><th scope=col>gene</th></tr></thead>\n",
       "<tbody>\n",
       "\t<tr><td>chrY    </td><td>59213544</td><td>59214544</td><td>VAMP7   </td></tr>\n",
       "\t<tr><td>chrY    </td><td>59213547</td><td>59214547</td><td>VAMP7   </td></tr>\n",
       "\t<tr><td>chrY    </td><td>59329752</td><td>59330752</td><td>IL9R    </td></tr>\n",
       "\t<tr><td>chrY    </td><td>59329877</td><td>59330877</td><td>IL9R    </td></tr>\n",
       "\t<tr><td>chrY    </td><td>59329905</td><td>59330905</td><td>IL9R    </td></tr>\n",
       "\t<tr><td>chrY    </td><td>59338285</td><td>59339285</td><td>IL9R    </td></tr>\n",
       "</tbody>\n",
       "</table>\n"
      ],
      "text/latex": [
       "\\begin{tabular}{r|llll}\n",
       " seq & start & end & gene\\\\\n",
       "\\hline\n",
       "\t chrY     & 59213544 & 59214544 & VAMP7   \\\\\n",
       "\t chrY     & 59213547 & 59214547 & VAMP7   \\\\\n",
       "\t chrY     & 59329752 & 59330752 & IL9R    \\\\\n",
       "\t chrY     & 59329877 & 59330877 & IL9R    \\\\\n",
       "\t chrY     & 59329905 & 59330905 & IL9R    \\\\\n",
       "\t chrY     & 59338285 & 59339285 & IL9R    \\\\\n",
       "\\end{tabular}\n"
      ],
      "text/markdown": [
       "\n",
       "| seq | start | end | gene |\n",
       "|---|---|---|---|\n",
       "| chrY     | 59213544 | 59214544 | VAMP7    |\n",
       "| chrY     | 59213547 | 59214547 | VAMP7    |\n",
       "| chrY     | 59329752 | 59330752 | IL9R     |\n",
       "| chrY     | 59329877 | 59330877 | IL9R     |\n",
       "| chrY     | 59329905 | 59330905 | IL9R     |\n",
       "| chrY     | 59338285 | 59339285 | IL9R     |\n",
       "\n"
      ],
      "text/plain": [
       "  seq  start    end      gene \n",
       "1 chrY 59213544 59214544 VAMP7\n",
       "2 chrY 59213547 59214547 VAMP7\n",
       "3 chrY 59329752 59330752 IL9R \n",
       "4 chrY 59329877 59330877 IL9R \n",
       "5 chrY 59329905 59330905 IL9R \n",
       "6 chrY 59338285 59339285 IL9R "
      ]
     },
     "metadata": {},
     "output_type": "display_data"
    },
    {
     "data": {
      "text/html": [
       "<ol class=list-inline>\n",
       "\t<li>133870</li>\n",
       "\t<li>4</li>\n",
       "</ol>\n"
      ],
      "text/latex": [
       "\\begin{enumerate*}\n",
       "\\item 133870\n",
       "\\item 4\n",
       "\\end{enumerate*}\n"
      ],
      "text/markdown": [
       "1. 133870\n",
       "2. 4\n",
       "\n",
       "\n"
      ],
      "text/plain": [
       "[1] 133870      4"
      ]
     },
     "metadata": {},
     "output_type": "display_data"
    }
   ],
   "source": [
    "require(data.table)\n",
    "#require(rtracklayer)\n",
    "#all.transcript <- import.bed('../dat/1901/gencode.v19.1kb_all_possible_transcripts.bed')\n",
    "all.transcript <- fread('../dat/1901/gencode.v19.1kb_all_possible_transcripts.bed',\n",
    "                       col.names=c(\"seq\",'start','end','gene'))\n",
    "setkey(all.transcript,seq,start,end) # this step changed order \n",
    "head(all.transcript)\n",
    "tail(all.transcript)\n",
    "dim(all.transcript)"
   ]
  },
  {
   "cell_type": "code",
   "execution_count": 3,
   "metadata": {},
   "outputs": [
    {
     "data": {
      "text/html": [
       "<table>\n",
       "<thead><tr><th scope=col>seq</th><th scope=col>start</th><th scope=col>end</th><th scope=col>gene</th></tr></thead>\n",
       "<tbody>\n",
       "\t<tr><td>chrX     </td><td>153718453</td><td>153719453</td><td>SLC10A3  </td></tr>\n",
       "</tbody>\n",
       "</table>\n"
      ],
      "text/latex": [
       "\\begin{tabular}{r|llll}\n",
       " seq & start & end & gene\\\\\n",
       "\\hline\n",
       "\t chrX      & 153718453 & 153719453 & SLC10A3  \\\\\n",
       "\\end{tabular}\n"
      ],
      "text/markdown": [
       "\n",
       "| seq | start | end | gene |\n",
       "|---|---|---|---|\n",
       "| chrX      | 153718453 | 153719453 | SLC10A3   |\n",
       "\n"
      ],
      "text/plain": [
       "  seq  start     end       gene   \n",
       "1 chrX 153718453 153719453 SLC10A3"
      ]
     },
     "metadata": {},
     "output_type": "display_data"
    },
    {
     "data": {
      "text/html": [
       "<table>\n",
       "<thead><tr><th scope=col>seq</th><th scope=col>start</th><th scope=col>end</th><th scope=col>gene</th></tr></thead>\n",
       "<tbody>\n",
       "\t<tr><td>chr15   </td><td>67546492</td><td>67547492</td><td>AAGAB   </td></tr>\n",
       "</tbody>\n",
       "</table>\n"
      ],
      "text/latex": [
       "\\begin{tabular}{r|llll}\n",
       " seq & start & end & gene\\\\\n",
       "\\hline\n",
       "\t chr15    & 67546492 & 67547492 & AAGAB   \\\\\n",
       "\\end{tabular}\n"
      ],
      "text/markdown": [
       "\n",
       "| seq | start | end | gene |\n",
       "|---|---|---|---|\n",
       "| chr15    | 67546492 | 67547492 | AAGAB    |\n",
       "\n"
      ],
      "text/plain": [
       "  seq   start    end      gene \n",
       "1 chr15 67546492 67547492 AAGAB"
      ]
     },
     "metadata": {},
     "output_type": "display_data"
    }
   ],
   "source": [
    "all.transcript[133453,]\n",
    "all.transcript[42733,]"
   ]
  },
  {
   "cell_type": "code",
   "execution_count": 5,
   "metadata": {},
   "outputs": [],
   "source": [
    "saveRDS(all.transcript,'../dat/1901/gencode.v19.1kb_all_possible_transcripts.Rds')"
   ]
  },
  {
   "cell_type": "markdown",
   "metadata": {},
   "source": [
    "### fread changed order of rows (reordered based on seq) !!!\n",
    "- because set key "
   ]
  },
  {
   "cell_type": "markdown",
   "metadata": {},
   "source": [
    "## 2. Alpha cells"
   ]
  },
  {
   "cell_type": "code",
   "execution_count": 3,
   "metadata": {},
   "outputs": [
    {
     "data": {
      "text/html": [
       "<table>\n",
       "<thead><tr><th scope=col>seq</th><th scope=col>start</th><th scope=col>end</th><th scope=col>gene</th><th scope=col>cluster</th><th scope=col>cell</th><th scope=col>overlap</th></tr></thead>\n",
       "<tbody>\n",
       "\t<tr><td>chr1                                      </td><td>859052                                    </td><td>860562                                    </td><td>SAMD11                                    </td><td>alpha_1                                   </td><td>Islet1-fresh_AGACACCTAGGCAGAAGTAAGGAGCAGGA</td><td>1                                         </td></tr>\n",
       "\t<tr><td>chr1                                      </td><td>859052                                    </td><td>860562                                    </td><td>SAMD11                                    </td><td>alpha_1                                   </td><td>Islet1-fresh_AGACACCTATGCGCAGCGTCTAATGGTTG</td><td>1                                         </td></tr>\n",
       "\t<tr><td>chr1                                      </td><td>859052                                    </td><td>860562                                    </td><td>SAMD11                                    </td><td>alpha_2                                   </td><td>Islet1-fresh_AGACACCTCGAGGCTGAAGGCTATGGTTG</td><td>1                                         </td></tr>\n",
       "\t<tr><td>chr1                                      </td><td>859052                                    </td><td>860562                                    </td><td>SAMD11                                    </td><td>alpha_2                                   </td><td>Islet1-fresh_AGACACCTCGTACTAGCTAAGCCTGTACT</td><td>1                                         </td></tr>\n",
       "\t<tr><td>chr1                                      </td><td>859052                                    </td><td>860562                                    </td><td>SAMD11                                    </td><td>alpha_1                                   </td><td>Islet1-fresh_AGACACCTGGACTCCTTCGACTAGGGTTG</td><td>1                                         </td></tr>\n",
       "\t<tr><td>chr1                                      </td><td>859052                                    </td><td>860562                                    </td><td>SAMD11                                    </td><td>alpha_2                                   </td><td>Islet1-fresh_AGACACCTGGAGCTACAAGGAGTAAGGCG</td><td>1                                         </td></tr>\n",
       "</tbody>\n",
       "</table>\n"
      ],
      "text/latex": [
       "\\begin{tabular}{r|lllllll}\n",
       " seq & start & end & gene & cluster & cell & overlap\\\\\n",
       "\\hline\n",
       "\t chr1                                         & 859052                                       & 860562                                       & SAMD11                                       & alpha\\_1                                    & Islet1-fresh\\_AGACACCTAGGCAGAAGTAAGGAGCAGGA & 1                                           \\\\\n",
       "\t chr1                                         & 859052                                       & 860562                                       & SAMD11                                       & alpha\\_1                                    & Islet1-fresh\\_AGACACCTATGCGCAGCGTCTAATGGTTG & 1                                           \\\\\n",
       "\t chr1                                         & 859052                                       & 860562                                       & SAMD11                                       & alpha\\_2                                    & Islet1-fresh\\_AGACACCTCGAGGCTGAAGGCTATGGTTG & 1                                           \\\\\n",
       "\t chr1                                         & 859052                                       & 860562                                       & SAMD11                                       & alpha\\_2                                    & Islet1-fresh\\_AGACACCTCGTACTAGCTAAGCCTGTACT & 1                                           \\\\\n",
       "\t chr1                                         & 859052                                       & 860562                                       & SAMD11                                       & alpha\\_1                                    & Islet1-fresh\\_AGACACCTGGACTCCTTCGACTAGGGTTG & 1                                           \\\\\n",
       "\t chr1                                         & 859052                                       & 860562                                       & SAMD11                                       & alpha\\_2                                    & Islet1-fresh\\_AGACACCTGGAGCTACAAGGAGTAAGGCG & 1                                           \\\\\n",
       "\\end{tabular}\n"
      ],
      "text/markdown": [
       "\n",
       "| seq | start | end | gene | cluster | cell | overlap |\n",
       "|---|---|---|---|---|---|---|\n",
       "| chr1                                       | 859052                                     | 860562                                     | SAMD11                                     | alpha_1                                    | Islet1-fresh_AGACACCTAGGCAGAAGTAAGGAGCAGGA | 1                                          |\n",
       "| chr1                                       | 859052                                     | 860562                                     | SAMD11                                     | alpha_1                                    | Islet1-fresh_AGACACCTATGCGCAGCGTCTAATGGTTG | 1                                          |\n",
       "| chr1                                       | 859052                                     | 860562                                     | SAMD11                                     | alpha_2                                    | Islet1-fresh_AGACACCTCGAGGCTGAAGGCTATGGTTG | 1                                          |\n",
       "| chr1                                       | 859052                                     | 860562                                     | SAMD11                                     | alpha_2                                    | Islet1-fresh_AGACACCTCGTACTAGCTAAGCCTGTACT | 1                                          |\n",
       "| chr1                                       | 859052                                     | 860562                                     | SAMD11                                     | alpha_1                                    | Islet1-fresh_AGACACCTGGACTCCTTCGACTAGGGTTG | 1                                          |\n",
       "| chr1                                       | 859052                                     | 860562                                     | SAMD11                                     | alpha_2                                    | Islet1-fresh_AGACACCTGGAGCTACAAGGAGTAAGGCG | 1                                          |\n",
       "\n"
      ],
      "text/plain": [
       "  seq  start  end    gene   cluster cell                                      \n",
       "1 chr1 859052 860562 SAMD11 alpha_1 Islet1-fresh_AGACACCTAGGCAGAAGTAAGGAGCAGGA\n",
       "2 chr1 859052 860562 SAMD11 alpha_1 Islet1-fresh_AGACACCTATGCGCAGCGTCTAATGGTTG\n",
       "3 chr1 859052 860562 SAMD11 alpha_2 Islet1-fresh_AGACACCTCGAGGCTGAAGGCTATGGTTG\n",
       "4 chr1 859052 860562 SAMD11 alpha_2 Islet1-fresh_AGACACCTCGTACTAGCTAAGCCTGTACT\n",
       "5 chr1 859052 860562 SAMD11 alpha_1 Islet1-fresh_AGACACCTGGACTCCTTCGACTAGGGTTG\n",
       "6 chr1 859052 860562 SAMD11 alpha_2 Islet1-fresh_AGACACCTGGAGCTACAAGGAGTAAGGCG\n",
       "  overlap\n",
       "1 1      \n",
       "2 1      \n",
       "3 1      \n",
       "4 1      \n",
       "5 1      \n",
       "6 1      "
      ]
     },
     "metadata": {},
     "output_type": "display_data"
    },
    {
     "data": {
      "text/html": [
       "<ol class=list-inline>\n",
       "\t<li>8463454</li>\n",
       "\t<li>7</li>\n",
       "</ol>\n"
      ],
      "text/latex": [
       "\\begin{enumerate*}\n",
       "\\item 8463454\n",
       "\\item 7\n",
       "\\end{enumerate*}\n"
      ],
      "text/markdown": [
       "1. 8463454\n",
       "2. 7\n",
       "\n",
       "\n"
      ],
      "text/plain": [
       "[1] 8463454       7"
      ]
     },
     "metadata": {},
     "output_type": "display_data"
    }
   ],
   "source": [
    "require(tidyverse)\n",
    "overlap.res <- fread('../dat/1901/alpha.promoter.long_matrix.txt')%>%\n",
    "    separate(peak,into = c(\"seq\",\"start\",\"end\"),sep = \":|-\")%>%\n",
    "    mutate(seq=paste0('chr',seq))\n",
    "setDT(overlap.res)\n",
    "overlap.res <-overlap.res[,c(\"start\",\"end\"):=lapply(.SD, as.numeric), .SDcols = c(\"start\",\"end\")]\n",
    "head(overlap.res)\n",
    "dim(overlap.res)"
   ]
  },
  {
   "cell_type": "code",
   "execution_count": 4,
   "metadata": {},
   "outputs": [
    {
     "data": {
      "text/html": [
       "<ol class=list-inline>\n",
       "\t<li>7</li>\n",
       "\t<li>133795</li>\n",
       "</ol>\n"
      ],
      "text/latex": [
       "\\begin{enumerate*}\n",
       "\\item 7\n",
       "\\item 133795\n",
       "\\end{enumerate*}\n"
      ],
      "text/markdown": [
       "1. 7\n",
       "2. 133795\n",
       "\n",
       "\n"
      ],
      "text/plain": [
       "[1]      7 133795"
      ]
     },
     "metadata": {},
     "output_type": "display_data"
    }
   ],
   "source": [
    "foverlap.res <- foverlaps(x = overlap.res%>%select(-gene),y = all.transcript,\n",
    "                 by.x=c(\"seq\", \"start\", \"end\"),\n",
    "                 type=\"any\", which=T,mult=\"first\") #only choose 1st overlap\n",
    "range(foverlap.res)"
   ]
  },
  {
   "cell_type": "code",
   "execution_count": 5,
   "metadata": {},
   "outputs": [
    {
     "data": {
      "text/html": [
       "<table>\n",
       "<thead><tr><th scope=col>seq</th><th scope=col>start</th><th scope=col>end</th><th scope=col>gene</th><th scope=col>cluster</th><th scope=col>cell</th><th scope=col>transcript.idx</th></tr></thead>\n",
       "<tbody>\n",
       "\t<tr><td>chr1                                      </td><td>859052                                    </td><td>860562                                    </td><td>SAMD11                                    </td><td>alpha_1                                   </td><td>Islet1-fresh_AGACACCTAGGCAGAAGTAAGGAGCAGGA</td><td>7                                         </td></tr>\n",
       "\t<tr><td>chr1                                      </td><td>859052                                    </td><td>860562                                    </td><td>SAMD11                                    </td><td>alpha_1                                   </td><td>Islet1-fresh_AGACACCTATGCGCAGCGTCTAATGGTTG</td><td>7                                         </td></tr>\n",
       "\t<tr><td>chr1                                      </td><td>859052                                    </td><td>860562                                    </td><td>SAMD11                                    </td><td>alpha_2                                   </td><td>Islet1-fresh_AGACACCTCGAGGCTGAAGGCTATGGTTG</td><td>7                                         </td></tr>\n",
       "\t<tr><td>chr1                                      </td><td>859052                                    </td><td>860562                                    </td><td>SAMD11                                    </td><td>alpha_2                                   </td><td>Islet1-fresh_AGACACCTCGTACTAGCTAAGCCTGTACT</td><td>7                                         </td></tr>\n",
       "\t<tr><td>chr1                                      </td><td>859052                                    </td><td>860562                                    </td><td>SAMD11                                    </td><td>alpha_1                                   </td><td>Islet1-fresh_AGACACCTGGACTCCTTCGACTAGGGTTG</td><td>7                                         </td></tr>\n",
       "\t<tr><td>chr1                                      </td><td>859052                                    </td><td>860562                                    </td><td>SAMD11                                    </td><td>alpha_2                                   </td><td>Islet1-fresh_AGACACCTGGAGCTACAAGGAGTAAGGCG</td><td>7                                         </td></tr>\n",
       "</tbody>\n",
       "</table>\n"
      ],
      "text/latex": [
       "\\begin{tabular}{r|lllllll}\n",
       " seq & start & end & gene & cluster & cell & transcript.idx\\\\\n",
       "\\hline\n",
       "\t chr1                                         & 859052                                       & 860562                                       & SAMD11                                       & alpha\\_1                                    & Islet1-fresh\\_AGACACCTAGGCAGAAGTAAGGAGCAGGA & 7                                           \\\\\n",
       "\t chr1                                         & 859052                                       & 860562                                       & SAMD11                                       & alpha\\_1                                    & Islet1-fresh\\_AGACACCTATGCGCAGCGTCTAATGGTTG & 7                                           \\\\\n",
       "\t chr1                                         & 859052                                       & 860562                                       & SAMD11                                       & alpha\\_2                                    & Islet1-fresh\\_AGACACCTCGAGGCTGAAGGCTATGGTTG & 7                                           \\\\\n",
       "\t chr1                                         & 859052                                       & 860562                                       & SAMD11                                       & alpha\\_2                                    & Islet1-fresh\\_AGACACCTCGTACTAGCTAAGCCTGTACT & 7                                           \\\\\n",
       "\t chr1                                         & 859052                                       & 860562                                       & SAMD11                                       & alpha\\_1                                    & Islet1-fresh\\_AGACACCTGGACTCCTTCGACTAGGGTTG & 7                                           \\\\\n",
       "\t chr1                                         & 859052                                       & 860562                                       & SAMD11                                       & alpha\\_2                                    & Islet1-fresh\\_AGACACCTGGAGCTACAAGGAGTAAGGCG & 7                                           \\\\\n",
       "\\end{tabular}\n"
      ],
      "text/markdown": [
       "\n",
       "| seq | start | end | gene | cluster | cell | transcript.idx |\n",
       "|---|---|---|---|---|---|---|\n",
       "| chr1                                       | 859052                                     | 860562                                     | SAMD11                                     | alpha_1                                    | Islet1-fresh_AGACACCTAGGCAGAAGTAAGGAGCAGGA | 7                                          |\n",
       "| chr1                                       | 859052                                     | 860562                                     | SAMD11                                     | alpha_1                                    | Islet1-fresh_AGACACCTATGCGCAGCGTCTAATGGTTG | 7                                          |\n",
       "| chr1                                       | 859052                                     | 860562                                     | SAMD11                                     | alpha_2                                    | Islet1-fresh_AGACACCTCGAGGCTGAAGGCTATGGTTG | 7                                          |\n",
       "| chr1                                       | 859052                                     | 860562                                     | SAMD11                                     | alpha_2                                    | Islet1-fresh_AGACACCTCGTACTAGCTAAGCCTGTACT | 7                                          |\n",
       "| chr1                                       | 859052                                     | 860562                                     | SAMD11                                     | alpha_1                                    | Islet1-fresh_AGACACCTGGACTCCTTCGACTAGGGTTG | 7                                          |\n",
       "| chr1                                       | 859052                                     | 860562                                     | SAMD11                                     | alpha_2                                    | Islet1-fresh_AGACACCTGGAGCTACAAGGAGTAAGGCG | 7                                          |\n",
       "\n"
      ],
      "text/plain": [
       "  seq  start  end    gene   cluster cell                                      \n",
       "1 chr1 859052 860562 SAMD11 alpha_1 Islet1-fresh_AGACACCTAGGCAGAAGTAAGGAGCAGGA\n",
       "2 chr1 859052 860562 SAMD11 alpha_1 Islet1-fresh_AGACACCTATGCGCAGCGTCTAATGGTTG\n",
       "3 chr1 859052 860562 SAMD11 alpha_2 Islet1-fresh_AGACACCTCGAGGCTGAAGGCTATGGTTG\n",
       "4 chr1 859052 860562 SAMD11 alpha_2 Islet1-fresh_AGACACCTCGTACTAGCTAAGCCTGTACT\n",
       "5 chr1 859052 860562 SAMD11 alpha_1 Islet1-fresh_AGACACCTGGACTCCTTCGACTAGGGTTG\n",
       "6 chr1 859052 860562 SAMD11 alpha_2 Islet1-fresh_AGACACCTGGAGCTACAAGGAGTAAGGCG\n",
       "  transcript.idx\n",
       "1 7             \n",
       "2 7             \n",
       "3 7             \n",
       "4 7             \n",
       "5 7             \n",
       "6 7             "
      ]
     },
     "metadata": {},
     "output_type": "display_data"
    },
    {
     "data": {
      "text/html": [
       "<ol class=list-inline>\n",
       "\t<li>8463454</li>\n",
       "\t<li>7</li>\n",
       "</ol>\n"
      ],
      "text/latex": [
       "\\begin{enumerate*}\n",
       "\\item 8463454\n",
       "\\item 7\n",
       "\\end{enumerate*}\n"
      ],
      "text/markdown": [
       "1. 8463454\n",
       "2. 7\n",
       "\n",
       "\n"
      ],
      "text/plain": [
       "[1] 8463454       7"
      ]
     },
     "metadata": {},
     "output_type": "display_data"
    }
   ],
   "source": [
    "overlap.res <- (overlap.res%>%mutate(transcript.idx=foverlap.res)%>%select(-overlap))\n",
    "head(overlap.res)\n",
    "dim(overlap.res)"
   ]
  },
  {
   "cell_type": "markdown",
   "metadata": {},
   "source": [
    "## 3. Repeated for beta"
   ]
  },
  {
   "cell_type": "code",
   "execution_count": 6,
   "metadata": {},
   "outputs": [
    {
     "data": {
      "text/html": [
       "<table>\n",
       "<thead><tr><th scope=col>seq</th><th scope=col>start</th><th scope=col>end</th><th scope=col>gene</th><th scope=col>cluster</th><th scope=col>cell</th><th scope=col>transcript.idx</th></tr></thead>\n",
       "<tbody>\n",
       "\t<tr><td>chr1                                      </td><td>859052                                    </td><td>860562                                    </td><td>SAMD11                                    </td><td>beta_1                                    </td><td>Islet1-fresh_AGACACCTACTCGCTATCGACTAGATAGA</td><td>7                                         </td></tr>\n",
       "\t<tr><td>chr1                                      </td><td>859052                                    </td><td>860562                                    </td><td>SAMD11                                    </td><td>beta_2                                    </td><td>Islet1-fresh_AGACACCTACTCGCTATTCTAGCTGGTTG</td><td>7                                         </td></tr>\n",
       "\t<tr><td>chr1                                      </td><td>859052                                    </td><td>860562                                    </td><td>SAMD11                                    </td><td>beta_1                                    </td><td>Islet1-fresh_AGACACCTAGGCAGAATCTCTCCGAGGCG</td><td>7                                         </td></tr>\n",
       "\t<tr><td>chr1                                      </td><td>859052                                    </td><td>860562                                    </td><td>SAMD11                                    </td><td>beta_1                                    </td><td>Islet1-fresh_AGACACCTCGTACTAGAAGGAGTACAGGA</td><td>7                                         </td></tr>\n",
       "\t<tr><td>chr1                                      </td><td>859052                                    </td><td>860562                                    </td><td>SAMD11                                    </td><td>beta_1                                    </td><td>Islet1-fresh_AGACACCTCTCTCTACACTGCATAAGGCG</td><td>7                                         </td></tr>\n",
       "\t<tr><td>chr1                                      </td><td>859052                                    </td><td>860562                                    </td><td>SAMD11                                    </td><td>beta_2                                    </td><td>Islet1-fresh_AGACACCTCTCTCTACTATCCTCTTATAG</td><td>7                                         </td></tr>\n",
       "</tbody>\n",
       "</table>\n"
      ],
      "text/latex": [
       "\\begin{tabular}{r|lllllll}\n",
       " seq & start & end & gene & cluster & cell & transcript.idx\\\\\n",
       "\\hline\n",
       "\t chr1                                         & 859052                                       & 860562                                       & SAMD11                                       & beta\\_1                                     & Islet1-fresh\\_AGACACCTACTCGCTATCGACTAGATAGA & 7                                           \\\\\n",
       "\t chr1                                         & 859052                                       & 860562                                       & SAMD11                                       & beta\\_2                                     & Islet1-fresh\\_AGACACCTACTCGCTATTCTAGCTGGTTG & 7                                           \\\\\n",
       "\t chr1                                         & 859052                                       & 860562                                       & SAMD11                                       & beta\\_1                                     & Islet1-fresh\\_AGACACCTAGGCAGAATCTCTCCGAGGCG & 7                                           \\\\\n",
       "\t chr1                                         & 859052                                       & 860562                                       & SAMD11                                       & beta\\_1                                     & Islet1-fresh\\_AGACACCTCGTACTAGAAGGAGTACAGGA & 7                                           \\\\\n",
       "\t chr1                                         & 859052                                       & 860562                                       & SAMD11                                       & beta\\_1                                     & Islet1-fresh\\_AGACACCTCTCTCTACACTGCATAAGGCG & 7                                           \\\\\n",
       "\t chr1                                         & 859052                                       & 860562                                       & SAMD11                                       & beta\\_2                                     & Islet1-fresh\\_AGACACCTCTCTCTACTATCCTCTTATAG & 7                                           \\\\\n",
       "\\end{tabular}\n"
      ],
      "text/markdown": [
       "\n",
       "| seq | start | end | gene | cluster | cell | transcript.idx |\n",
       "|---|---|---|---|---|---|---|\n",
       "| chr1                                       | 859052                                     | 860562                                     | SAMD11                                     | beta_1                                     | Islet1-fresh_AGACACCTACTCGCTATCGACTAGATAGA | 7                                          |\n",
       "| chr1                                       | 859052                                     | 860562                                     | SAMD11                                     | beta_2                                     | Islet1-fresh_AGACACCTACTCGCTATTCTAGCTGGTTG | 7                                          |\n",
       "| chr1                                       | 859052                                     | 860562                                     | SAMD11                                     | beta_1                                     | Islet1-fresh_AGACACCTAGGCAGAATCTCTCCGAGGCG | 7                                          |\n",
       "| chr1                                       | 859052                                     | 860562                                     | SAMD11                                     | beta_1                                     | Islet1-fresh_AGACACCTCGTACTAGAAGGAGTACAGGA | 7                                          |\n",
       "| chr1                                       | 859052                                     | 860562                                     | SAMD11                                     | beta_1                                     | Islet1-fresh_AGACACCTCTCTCTACACTGCATAAGGCG | 7                                          |\n",
       "| chr1                                       | 859052                                     | 860562                                     | SAMD11                                     | beta_2                                     | Islet1-fresh_AGACACCTCTCTCTACTATCCTCTTATAG | 7                                          |\n",
       "\n"
      ],
      "text/plain": [
       "  seq  start  end    gene   cluster cell                                      \n",
       "1 chr1 859052 860562 SAMD11 beta_1  Islet1-fresh_AGACACCTACTCGCTATCGACTAGATAGA\n",
       "2 chr1 859052 860562 SAMD11 beta_2  Islet1-fresh_AGACACCTACTCGCTATTCTAGCTGGTTG\n",
       "3 chr1 859052 860562 SAMD11 beta_1  Islet1-fresh_AGACACCTAGGCAGAATCTCTCCGAGGCG\n",
       "4 chr1 859052 860562 SAMD11 beta_1  Islet1-fresh_AGACACCTCGTACTAGAAGGAGTACAGGA\n",
       "5 chr1 859052 860562 SAMD11 beta_1  Islet1-fresh_AGACACCTCTCTCTACACTGCATAAGGCG\n",
       "6 chr1 859052 860562 SAMD11 beta_2  Islet1-fresh_AGACACCTCTCTCTACTATCCTCTTATAG\n",
       "  transcript.idx\n",
       "1 7             \n",
       "2 7             \n",
       "3 7             \n",
       "4 7             \n",
       "5 7             \n",
       "6 7             "
      ]
     },
     "metadata": {},
     "output_type": "display_data"
    },
    {
     "data": {
      "text/html": [
       "<ol class=list-inline>\n",
       "\t<li>10962395</li>\n",
       "\t<li>7</li>\n",
       "</ol>\n"
      ],
      "text/latex": [
       "\\begin{enumerate*}\n",
       "\\item 10962395\n",
       "\\item 7\n",
       "\\end{enumerate*}\n"
      ],
      "text/markdown": [
       "1. 10962395\n",
       "2. 7\n",
       "\n",
       "\n"
      ],
      "text/plain": [
       "[1] 10962395        7"
      ]
     },
     "metadata": {},
     "output_type": "display_data"
    }
   ],
   "source": [
    "overlap.res.beta <- fread('../dat/1901/beta.promoter.long_matrix.txt')%>%\n",
    "    separate(peak,into = c(\"seq\",\"start\",\"end\"),sep = \":|-\")%>%\n",
    "    mutate(seq=paste0('chr',seq))\n",
    "setDT(overlap.res.beta)\n",
    "overlap.res.beta <-overlap.res.beta[,c(\"start\",\"end\"):=lapply(.SD, as.numeric), .SDcols = c(\"start\",\"end\")]\n",
    "\n",
    "\n",
    "overlap.res.beta <- overlap.res.beta%>%\n",
    "    mutate(transcript.idx=foverlaps(x = overlap.res.beta%>%select(-gene),y = all.transcript,\n",
    "                 by.x=c(\"seq\", \"start\", \"end\"),\n",
    "                 type=\"any\", which=T,mult=\"first\"))%>%\n",
    "    select(-overlap)\n",
    "\n",
    "##\n",
    "head(overlap.res.beta)\n",
    "dim(overlap.res.beta)"
   ]
  },
  {
   "cell_type": "code",
   "execution_count": 7,
   "metadata": {},
   "outputs": [
    {
     "data": {
      "text/html": [
       "<ol class=list-inline>\n",
       "\t<li>7</li>\n",
       "\t<li>133795</li>\n",
       "</ol>\n"
      ],
      "text/latex": [
       "\\begin{enumerate*}\n",
       "\\item 7\n",
       "\\item 133795\n",
       "\\end{enumerate*}\n"
      ],
      "text/markdown": [
       "1. 7\n",
       "2. 133795\n",
       "\n",
       "\n"
      ],
      "text/plain": [
       "[1]      7 133795"
      ]
     },
     "metadata": {},
     "output_type": "display_data"
    },
    {
     "data": {
      "text/html": [
       "<ol class=list-inline>\n",
       "\t<li>133870</li>\n",
       "\t<li>4</li>\n",
       "</ol>\n"
      ],
      "text/latex": [
       "\\begin{enumerate*}\n",
       "\\item 133870\n",
       "\\item 4\n",
       "\\end{enumerate*}\n"
      ],
      "text/markdown": [
       "1. 133870\n",
       "2. 4\n",
       "\n",
       "\n"
      ],
      "text/plain": [
       "[1] 133870      4"
      ]
     },
     "metadata": {},
     "output_type": "display_data"
    }
   ],
   "source": [
    "range(overlap.res.beta$transcript.idx)\n",
    "dim(all.transcript)"
   ]
  },
  {
   "cell_type": "markdown",
   "metadata": {},
   "source": [
    "## 4. Combine alpha and beta "
   ]
  },
  {
   "cell_type": "code",
   "execution_count": 8,
   "metadata": {},
   "outputs": [],
   "source": [
    "overlap.res <-rbind(overlap.res,overlap.res.beta)"
   ]
  },
  {
   "cell_type": "code",
   "execution_count": 9,
   "metadata": {},
   "outputs": [
    {
     "data": {
      "text/html": [
       "<ol class=list-inline>\n",
       "\t<li>19425849</li>\n",
       "\t<li>7</li>\n",
       "</ol>\n"
      ],
      "text/latex": [
       "\\begin{enumerate*}\n",
       "\\item 19425849\n",
       "\\item 7\n",
       "\\end{enumerate*}\n"
      ],
      "text/markdown": [
       "1. 19425849\n",
       "2. 7\n",
       "\n",
       "\n"
      ],
      "text/plain": [
       "[1] 19425849        7"
      ]
     },
     "metadata": {},
     "output_type": "display_data"
    },
    {
     "data": {
      "text/html": [
       "12780"
      ],
      "text/latex": [
       "12780"
      ],
      "text/markdown": [
       "12780"
      ],
      "text/plain": [
       "[1] 12780"
      ]
     },
     "metadata": {},
     "output_type": "display_data"
    }
   ],
   "source": [
    "dim(overlap.res)\n",
    "length(unique(overlap.res$cell))"
   ]
  },
  {
   "cell_type": "markdown",
   "metadata": {},
   "source": [
    "## 5. filtering using umap's results"
   ]
  },
  {
   "cell_type": "code",
   "execution_count": 10,
   "metadata": {},
   "outputs": [
    {
     "data": {
      "text/html": [
       "<table>\n",
       "<thead><tr><th scope=col>barcodes</th><th scope=col>UMAP1</th><th scope=col>UMAP2</th><th scope=col>cluster</th><th scope=col>cell_type_overall</th><th scope=col>subtype</th><th scope=col>log10_n_counts</th><th scope=col>log10_n_peaks</th><th scope=col>Islet1</th><th scope=col>Islet2</th><th scope=col>Islet3</th></tr></thead>\n",
       "<tbody>\n",
       "\t<tr><td>Islet3-fresh_CTGAAGCTTGCAGCTACTCTCTATTATAGCCT</td><td>  6.029433                                   </td><td>-3.42981782                                  </td><td>beta_2                                       </td><td>beta                                         </td><td>2                                            </td><td>4.520863                                     </td><td>4.152013                                     </td><td>0                                            </td><td>0                                            </td><td>1                                            </td></tr>\n",
       "\t<tr><td>Islet3-fresh_TCCGCGAACGAGGCTGCCTAGAGTGTACTGAC</td><td>-10.054582                                   </td><td>-0.77572841                                  </td><td>alpha_1                                      </td><td>alpha                                        </td><td>1                                            </td><td>4.095657                                     </td><td>3.758761                                     </td><td>0                                            </td><td>0                                            </td><td>1                                            </td></tr>\n",
       "\t<tr><td>Islet3-fresh_CGGCTATGAAGAGGCAGTAAGGAGCCTATCCT</td><td>  6.807724                                   </td><td>-4.28113995                                  </td><td>beta_1                                       </td><td>beta                                         </td><td>1                                            </td><td>3.953856                                     </td><td>3.622214                                     </td><td>0                                            </td><td>0                                            </td><td>1                                            </td></tr>\n",
       "\t<tr><td>Islet3-fresh_CGGCTATGGCGTAGTAAAGGAGTATATAGCCT</td><td>-10.170747                                   </td><td>-2.35448799                                  </td><td>alpha_1                                      </td><td>alpha                                        </td><td>1                                            </td><td>4.025879                                     </td><td>3.694781                                     </td><td>0                                            </td><td>0                                            </td><td>1                                            </td></tr>\n",
       "\t<tr><td>Islet3-fresh_CTGAAGCTTAGGCATGCCTAGAGTGGTTGCGT</td><td>-11.246461                                   </td><td> 0.03809572                                  </td><td>alpha_1                                      </td><td>alpha                                        </td><td>1                                            </td><td>4.470131                                     </td><td>4.087994                                     </td><td>0                                            </td><td>0                                            </td><td>1                                            </td></tr>\n",
       "\t<tr><td>Islet3-fresh_GAGATTCCCGAGGCTGAAGGCTATAGGCGAAG</td><td>-11.169406                                   </td><td>-0.60920586                                  </td><td>alpha_1                                      </td><td>alpha                                        </td><td>1                                            </td><td>4.115577                                     </td><td>3.780821                                     </td><td>0                                            </td><td>0                                            </td><td>1                                            </td></tr>\n",
       "</tbody>\n",
       "</table>\n"
      ],
      "text/latex": [
       "\\begin{tabular}{r|lllllllllll}\n",
       " barcodes & UMAP1 & UMAP2 & cluster & cell\\_type\\_overall & subtype & log10\\_n\\_counts & log10\\_n\\_peaks & Islet1 & Islet2 & Islet3\\\\\n",
       "\\hline\n",
       "\t Islet3-fresh\\_CTGAAGCTTGCAGCTACTCTCTATTATAGCCT &   6.029433                                      & -3.42981782                                     & beta\\_2                                        & beta                                            & 2                                               & 4.520863                                        & 4.152013                                        & 0                                               & 0                                               & 1                                              \\\\\n",
       "\t Islet3-fresh\\_TCCGCGAACGAGGCTGCCTAGAGTGTACTGAC & -10.054582                                      & -0.77572841                                     & alpha\\_1                                       & alpha                                           & 1                                               & 4.095657                                        & 3.758761                                        & 0                                               & 0                                               & 1                                              \\\\\n",
       "\t Islet3-fresh\\_CGGCTATGAAGAGGCAGTAAGGAGCCTATCCT &   6.807724                                      & -4.28113995                                     & beta\\_1                                        & beta                                            & 1                                               & 3.953856                                        & 3.622214                                        & 0                                               & 0                                               & 1                                              \\\\\n",
       "\t Islet3-fresh\\_CGGCTATGGCGTAGTAAAGGAGTATATAGCCT & -10.170747                                      & -2.35448799                                     & alpha\\_1                                       & alpha                                           & 1                                               & 4.025879                                        & 3.694781                                        & 0                                               & 0                                               & 1                                              \\\\\n",
       "\t Islet3-fresh\\_CTGAAGCTTAGGCATGCCTAGAGTGGTTGCGT & -11.246461                                      &  0.03809572                                     & alpha\\_1                                       & alpha                                           & 1                                               & 4.470131                                        & 4.087994                                        & 0                                               & 0                                               & 1                                              \\\\\n",
       "\t Islet3-fresh\\_GAGATTCCCGAGGCTGAAGGCTATAGGCGAAG & -11.169406                                      & -0.60920586                                     & alpha\\_1                                       & alpha                                           & 1                                               & 4.115577                                        & 3.780821                                        & 0                                               & 0                                               & 1                                              \\\\\n",
       "\\end{tabular}\n"
      ],
      "text/markdown": [
       "\n",
       "| barcodes | UMAP1 | UMAP2 | cluster | cell_type_overall | subtype | log10_n_counts | log10_n_peaks | Islet1 | Islet2 | Islet3 |\n",
       "|---|---|---|---|---|---|---|---|---|---|---|\n",
       "| Islet3-fresh_CTGAAGCTTGCAGCTACTCTCTATTATAGCCT |   6.029433                                    | -3.42981782                                   | beta_2                                        | beta                                          | 2                                             | 4.520863                                      | 4.152013                                      | 0                                             | 0                                             | 1                                             |\n",
       "| Islet3-fresh_TCCGCGAACGAGGCTGCCTAGAGTGTACTGAC | -10.054582                                    | -0.77572841                                   | alpha_1                                       | alpha                                         | 1                                             | 4.095657                                      | 3.758761                                      | 0                                             | 0                                             | 1                                             |\n",
       "| Islet3-fresh_CGGCTATGAAGAGGCAGTAAGGAGCCTATCCT |   6.807724                                    | -4.28113995                                   | beta_1                                        | beta                                          | 1                                             | 3.953856                                      | 3.622214                                      | 0                                             | 0                                             | 1                                             |\n",
       "| Islet3-fresh_CGGCTATGGCGTAGTAAAGGAGTATATAGCCT | -10.170747                                    | -2.35448799                                   | alpha_1                                       | alpha                                         | 1                                             | 4.025879                                      | 3.694781                                      | 0                                             | 0                                             | 1                                             |\n",
       "| Islet3-fresh_CTGAAGCTTAGGCATGCCTAGAGTGGTTGCGT | -11.246461                                    |  0.03809572                                   | alpha_1                                       | alpha                                         | 1                                             | 4.470131                                      | 4.087994                                      | 0                                             | 0                                             | 1                                             |\n",
       "| Islet3-fresh_GAGATTCCCGAGGCTGAAGGCTATAGGCGAAG | -11.169406                                    | -0.60920586                                   | alpha_1                                       | alpha                                         | 1                                             | 4.115577                                      | 3.780821                                      | 0                                             | 0                                             | 1                                             |\n",
       "\n"
      ],
      "text/plain": [
       "  barcodes                                      UMAP1      UMAP2       cluster\n",
       "1 Islet3-fresh_CTGAAGCTTGCAGCTACTCTCTATTATAGCCT   6.029433 -3.42981782 beta_2 \n",
       "2 Islet3-fresh_TCCGCGAACGAGGCTGCCTAGAGTGTACTGAC -10.054582 -0.77572841 alpha_1\n",
       "3 Islet3-fresh_CGGCTATGAAGAGGCAGTAAGGAGCCTATCCT   6.807724 -4.28113995 beta_1 \n",
       "4 Islet3-fresh_CGGCTATGGCGTAGTAAAGGAGTATATAGCCT -10.170747 -2.35448799 alpha_1\n",
       "5 Islet3-fresh_CTGAAGCTTAGGCATGCCTAGAGTGGTTGCGT -11.246461  0.03809572 alpha_1\n",
       "6 Islet3-fresh_GAGATTCCCGAGGCTGAAGGCTATAGGCGAAG -11.169406 -0.60920586 alpha_1\n",
       "  cell_type_overall subtype log10_n_counts log10_n_peaks Islet1 Islet2 Islet3\n",
       "1 beta              2       4.520863       4.152013      0      0      1     \n",
       "2 alpha             1       4.095657       3.758761      0      0      1     \n",
       "3 beta              1       3.953856       3.622214      0      0      1     \n",
       "4 alpha             1       4.025879       3.694781      0      0      1     \n",
       "5 alpha             1       4.470131       4.087994      0      0      1     \n",
       "6 alpha             1       4.115577       3.780821      0      0      1     "
      ]
     },
     "metadata": {},
     "output_type": "display_data"
    },
    {
     "data": {
      "text/html": [
       "12764"
      ],
      "text/latex": [
       "12764"
      ],
      "text/markdown": [
       "12764"
      ],
      "text/plain": [
       "[1] 12764"
      ]
     },
     "metadata": {},
     "output_type": "display_data"
    }
   ],
   "source": [
    "dat.all.cells <- fread('../dat/output.umap.ab.filtered.csv')\n",
    "head(dat.all.cells)\n",
    "length(dat.all.cells$barcodes)"
   ]
  },
  {
   "cell_type": "code",
   "execution_count": 11,
   "metadata": {},
   "outputs": [
    {
     "data": {
      "text/html": [
       "<ol class=list-inline>\n",
       "\t<li>19412387</li>\n",
       "\t<li>7</li>\n",
       "</ol>\n"
      ],
      "text/latex": [
       "\\begin{enumerate*}\n",
       "\\item 19412387\n",
       "\\item 7\n",
       "\\end{enumerate*}\n"
      ],
      "text/markdown": [
       "1. 19412387\n",
       "2. 7\n",
       "\n",
       "\n"
      ],
      "text/plain": [
       "[1] 19412387        7"
      ]
     },
     "metadata": {},
     "output_type": "display_data"
    },
    {
     "data": {
      "text/html": [
       "12764"
      ],
      "text/latex": [
       "12764"
      ],
      "text/markdown": [
       "12764"
      ],
      "text/plain": [
       "[1] 12764"
      ]
     },
     "metadata": {},
     "output_type": "display_data"
    }
   ],
   "source": [
    "overlap.res <- overlap.res%>% filter(cell %in% dat.all.cells$barcodes)\n",
    "dim(overlap.res)\n",
    "length(unique(overlap.res$cell))"
   ]
  },
  {
   "cell_type": "markdown",
   "metadata": {},
   "source": [
    "##  save"
   ]
  },
  {
   "cell_type": "code",
   "execution_count": 12,
   "metadata": {},
   "outputs": [],
   "source": [
    "fwrite(overlap.res,'../dat/1901/alpha_beta.promoter.long_matrix_w_transcripts_corrected.txt')"
   ]
  },
  {
   "cell_type": "markdown",
   "metadata": {},
   "source": [
    "### check idx"
   ]
  },
  {
   "cell_type": "markdown",
   "metadata": {},
   "source": [
    "`(base) ➜  1901 git:(master) ✗ grep ABHD14A alpha_beta.promoter.long_matrix_w_transcripts_corrected.txt |awk -v FS=',' '{print $1,$2,$3,$4,$7}'| sort|uniq`\n",
    "\n",
    "chr3 52007627 52009641 ABHD14A 92628\n",
    "\n",
    "chr3 52007627 52009641 ABHD14A-ACY1 92628\n",
    "\n",
    "`(base) ➜  1901 git:(master) ✗ grep ABHD14A alpha_beta.promoter.long_matrix_w_transcripts.txt |awk -v FS=',' '{print $1,$2,$3,$4,$7}'| sort|uniq`\n",
    "\n",
    "chr3 52007627 52009641 ABHD14A 92628\n",
    "\n",
    "chr3 52007627 52009641 ABHD14A-ACY1 92628"
   ]
  },
  {
   "cell_type": "code",
   "execution_count": 13,
   "metadata": {},
   "outputs": [
    {
     "data": {
      "text/html": [
       "<table>\n",
       "<thead><tr><th scope=col>seq</th><th scope=col>start</th><th scope=col>end</th><th scope=col>gene</th></tr></thead>\n",
       "<tbody>\n",
       "\t<tr><td>chr3    </td><td>52007200</td><td>52008200</td><td>ABHD14A </td></tr>\n",
       "</tbody>\n",
       "</table>\n"
      ],
      "text/latex": [
       "\\begin{tabular}{r|llll}\n",
       " seq & start & end & gene\\\\\n",
       "\\hline\n",
       "\t chr3     & 52007200 & 52008200 & ABHD14A \\\\\n",
       "\\end{tabular}\n"
      ],
      "text/markdown": [
       "\n",
       "| seq | start | end | gene |\n",
       "|---|---|---|---|\n",
       "| chr3     | 52007200 | 52008200 | ABHD14A  |\n",
       "\n"
      ],
      "text/plain": [
       "  seq  start    end      gene   \n",
       "1 chr3 52007200 52008200 ABHD14A"
      ]
     },
     "metadata": {},
     "output_type": "display_data"
    }
   ],
   "source": [
    "all.transcript[92628,]"
   ]
  },
  {
   "cell_type": "code",
   "execution_count": null,
   "metadata": {},
   "outputs": [],
   "source": []
  }
 ],
 "metadata": {
  "kernelspec": {
   "display_name": "R",
   "language": "R",
   "name": "ir"
  },
  "language_info": {
   "codemirror_mode": "r",
   "file_extension": ".r",
   "mimetype": "text/x-r-source",
   "name": "R",
   "pygments_lexer": "r",
   "version": "3.5.1"
  }
 },
 "nbformat": 4,
 "nbformat_minor": 2
}
