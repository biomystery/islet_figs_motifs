{
 "cells": [
  {
   "cell_type": "markdown",
   "metadata": {},
   "source": [
    "## 1. Rationale\n",
    "\n",
    "* due to the sparseness, the ps is binned to 100 (can change) \n",
    "* then chisq test wheter the ratio of openning is dependent on bins "
   ]
  },
  {
   "cell_type": "markdown",
   "metadata": {},
   "source": [
    "##  2. load data"
   ]
  },
  {
   "cell_type": "code",
   "execution_count": 2,
   "metadata": {},
   "outputs": [
    {
     "data": {
      "text/html": [
       "<table>\n",
       "<thead><tr><th scope=col>gene_tr.idx</th><th scope=col>cluster</th><th scope=col>cell</th><th scope=col>ps</th></tr></thead>\n",
       "<tbody>\n",
       "\t<tr><td>SAMD11_1                                  </td><td>alpha_1                                   </td><td>Islet1-fresh_AGACACCTAGGCAGAAGTAAGGAGCAGGA</td><td>5.643735                                  </td></tr>\n",
       "\t<tr><td>SAMD11_1                                  </td><td>alpha_1                                   </td><td>Islet1-fresh_AGACACCTATGCGCAGCGTCTAATGGTTG</td><td>1.056578                                  </td></tr>\n",
       "\t<tr><td>SAMD11_1                                  </td><td>alpha_2                                   </td><td>Islet1-fresh_AGACACCTCGAGGCTGAAGGCTATGGTTG</td><td>6.254863                                  </td></tr>\n",
       "\t<tr><td>SAMD11_1                                  </td><td>alpha_2                                   </td><td>Islet1-fresh_AGACACCTCGTACTAGCTAAGCCTGTACT</td><td>6.508574                                  </td></tr>\n",
       "\t<tr><td>SAMD11_1                                  </td><td>alpha_1                                   </td><td>Islet1-fresh_AGACACCTGGACTCCTTCGACTAGGGTTG</td><td>2.120670                                  </td></tr>\n",
       "\t<tr><td>SAMD11_1                                  </td><td>alpha_2                                   </td><td>Islet1-fresh_AGACACCTGGAGCTACAAGGAGTAAGGCG</td><td>5.564368                                  </td></tr>\n",
       "</tbody>\n",
       "</table>\n"
      ],
      "text/latex": [
       "\\begin{tabular}{r|llll}\n",
       " gene\\_tr.idx & cluster & cell & ps\\\\\n",
       "\\hline\n",
       "\t SAMD11\\_1                                   & alpha\\_1                                    & Islet1-fresh\\_AGACACCTAGGCAGAAGTAAGGAGCAGGA & 5.643735                                    \\\\\n",
       "\t SAMD11\\_1                                   & alpha\\_1                                    & Islet1-fresh\\_AGACACCTATGCGCAGCGTCTAATGGTTG & 1.056578                                    \\\\\n",
       "\t SAMD11\\_1                                   & alpha\\_2                                    & Islet1-fresh\\_AGACACCTCGAGGCTGAAGGCTATGGTTG & 6.254863                                    \\\\\n",
       "\t SAMD11\\_1                                   & alpha\\_2                                    & Islet1-fresh\\_AGACACCTCGTACTAGCTAAGCCTGTACT & 6.508574                                    \\\\\n",
       "\t SAMD11\\_1                                   & alpha\\_1                                    & Islet1-fresh\\_AGACACCTGGACTCCTTCGACTAGGGTTG & 2.120670                                    \\\\\n",
       "\t SAMD11\\_1                                   & alpha\\_2                                    & Islet1-fresh\\_AGACACCTGGAGCTACAAGGAGTAAGGCG & 5.564368                                    \\\\\n",
       "\\end{tabular}\n"
      ],
      "text/markdown": [
       "\n",
       "gene_tr.idx | cluster | cell | ps | \n",
       "|---|---|---|---|---|---|\n",
       "| SAMD11_1                                   | alpha_1                                    | Islet1-fresh_AGACACCTAGGCAGAAGTAAGGAGCAGGA | 5.643735                                   | \n",
       "| SAMD11_1                                   | alpha_1                                    | Islet1-fresh_AGACACCTATGCGCAGCGTCTAATGGTTG | 1.056578                                   | \n",
       "| SAMD11_1                                   | alpha_2                                    | Islet1-fresh_AGACACCTCGAGGCTGAAGGCTATGGTTG | 6.254863                                   | \n",
       "| SAMD11_1                                   | alpha_2                                    | Islet1-fresh_AGACACCTCGTACTAGCTAAGCCTGTACT | 6.508574                                   | \n",
       "| SAMD11_1                                   | alpha_1                                    | Islet1-fresh_AGACACCTGGACTCCTTCGACTAGGGTTG | 2.120670                                   | \n",
       "| SAMD11_1                                   | alpha_2                                    | Islet1-fresh_AGACACCTGGAGCTACAAGGAGTAAGGCG | 5.564368                                   | \n",
       "\n",
       "\n"
      ],
      "text/plain": [
       "  gene_tr.idx cluster cell                                       ps      \n",
       "1 SAMD11_1    alpha_1 Islet1-fresh_AGACACCTAGGCAGAAGTAAGGAGCAGGA 5.643735\n",
       "2 SAMD11_1    alpha_1 Islet1-fresh_AGACACCTATGCGCAGCGTCTAATGGTTG 1.056578\n",
       "3 SAMD11_1    alpha_2 Islet1-fresh_AGACACCTCGAGGCTGAAGGCTATGGTTG 6.254863\n",
       "4 SAMD11_1    alpha_2 Islet1-fresh_AGACACCTCGTACTAGCTAAGCCTGTACT 6.508574\n",
       "5 SAMD11_1    alpha_1 Islet1-fresh_AGACACCTGGACTCCTTCGACTAGGGTTG 2.120670\n",
       "6 SAMD11_1    alpha_2 Islet1-fresh_AGACACCTGGAGCTACAAGGAGTAAGGCG 5.564368"
      ]
     },
     "metadata": {},
     "output_type": "display_data"
    },
    {
     "data": {
      "text/html": [
       "<ol class=list-inline>\n",
       "\t<li>19412387</li>\n",
       "\t<li>4</li>\n",
       "</ol>\n"
      ],
      "text/latex": [
       "\\begin{enumerate*}\n",
       "\\item 19412387\n",
       "\\item 4\n",
       "\\end{enumerate*}\n"
      ],
      "text/markdown": [
       "1. 19412387\n",
       "2. 4\n",
       "\n",
       "\n"
      ],
      "text/plain": [
       "[1] 19412387        4"
      ]
     },
     "metadata": {},
     "output_type": "display_data"
    }
   ],
   "source": [
    "require(data.table)\n",
    "dat.pro_ps<- fread(\"../dat/1901/alpha_beta.promoter.long_matrix_w_transcripts_ps.txt\")\n",
    "head(dat.pro_ps)\n",
    "dim(dat.pro_ps)"
   ]
  },
  {
   "cell_type": "markdown",
   "metadata": {},
   "source": [
    "### 2.1 bin data "
   ]
  },
  {
   "cell_type": "code",
   "execution_count": 5,
   "metadata": {},
   "outputs": [
    {
     "data": {
      "text/html": [
       "<dl>\n",
       "\t<dt>$alpha</dt>\n",
       "\t\t<dd><ol class=list-inline>\n",
       "\t<li>0</li>\n",
       "\t<li>6.74617593265917</li>\n",
       "</ol>\n",
       "</dd>\n",
       "\t<dt>$beta</dt>\n",
       "\t\t<dd><ol class=list-inline>\n",
       "\t<li>0</li>\n",
       "\t<li>20.2079032250925</li>\n",
       "</ol>\n",
       "</dd>\n",
       "</dl>\n"
      ],
      "text/latex": [
       "\\begin{description}\n",
       "\\item[\\$alpha] \\begin{enumerate*}\n",
       "\\item 0\n",
       "\\item 6.74617593265917\n",
       "\\end{enumerate*}\n",
       "\n",
       "\\item[\\$beta] \\begin{enumerate*}\n",
       "\\item 0\n",
       "\\item 20.2079032250925\n",
       "\\end{enumerate*}\n",
       "\n",
       "\\end{description}\n"
      ],
      "text/markdown": [
       "$alpha\n",
       ":   1. 0\n",
       "2. 6.74617593265917\n",
       "\n",
       "\n",
       "\n",
       "$beta\n",
       ":   1. 0\n",
       "2. 20.2079032250925\n",
       "\n",
       "\n",
       "\n",
       "\n",
       "\n"
      ],
      "text/plain": [
       "$alpha\n",
       "[1] 0.000000 6.746176\n",
       "\n",
       "$beta\n",
       "[1]  0.0000 20.2079\n"
      ]
     },
     "metadata": {},
     "output_type": "display_data"
    }
   ],
   "source": [
    "require(tidyverse)\n",
    "ps.range <- list()\n",
    "ps.range$alpha <- range((dat.pro_ps %>%filter(cluster %in% c(\"alpha_1\",\"alpha_2\")))$ps)\n",
    "ps.range$beta <- range((dat.pro_ps %>%filter(cluster %in% c(\"beta_1\",\"beta_2\")))$ps)\n",
    "ps.range"
   ]
  },
  {
   "cell_type": "code",
   "execution_count": 9,
   "metadata": {},
   "outputs": [
    {
     "name": "stdout",
     "output_type": "stream",
     "text": [
      "101 # bins:\n",
      "quantiles of alpha cell number per bin:\n"
     ]
    },
    {
     "data": {
      "text/html": [
       "<table>\n",
       "<thead><tr><th scope=col>0%</th><th scope=col>25%</th><th scope=col>50%</th><th scope=col>75%</th><th scope=col>100%</th></tr></thead>\n",
       "<tbody>\n",
       "\t<tr><td>1    </td><td>21   </td><td>41   </td><td>71.25</td><td>257  </td></tr>\n",
       "</tbody>\n",
       "</table>\n"
      ],
      "text/latex": [
       "\\begin{tabular}{lllll}\n",
       " 0\\% & 25\\% & 50\\% & 75\\% & 100\\%\\\\\n",
       "\\hline\n",
       "\t 1     & 21    & 41    & 71.25 & 257  \\\\\n",
       "\\end{tabular}\n"
      ],
      "text/markdown": [
       "\n",
       "0% | 25% | 50% | 75% | 100% | \n",
       "|---|\n",
       "| 1     | 21    | 41    | 71.25 | 257   | \n",
       "\n",
       "\n"
      ],
      "text/plain": [
       "     0% 25% 50% 75%   100%\n",
       "[1,] 1  21  41  71.25 257 "
      ]
     },
     "metadata": {},
     "output_type": "display_data"
    },
    {
     "name": "stdout",
     "output_type": "stream",
     "text": [
      "quantiles of beta cell number per bin:\n"
     ]
    },
    {
     "data": {
      "text/html": [
       "<table>\n",
       "<thead><tr><th scope=col>0%</th><th scope=col>25%</th><th scope=col>50%</th><th scope=col>75%</th><th scope=col>100%</th></tr></thead>\n",
       "<tbody>\n",
       "\t<tr><td>2    </td><td>18.75</td><td>33.5 </td><td>77   </td><td>655  </td></tr>\n",
       "</tbody>\n",
       "</table>\n"
      ],
      "text/latex": [
       "\\begin{tabular}{lllll}\n",
       " 0\\% & 25\\% & 50\\% & 75\\% & 100\\%\\\\\n",
       "\\hline\n",
       "\t 2     & 18.75 & 33.5  & 77    & 655  \\\\\n",
       "\\end{tabular}\n"
      ],
      "text/markdown": [
       "\n",
       "0% | 25% | 50% | 75% | 100% | \n",
       "|---|\n",
       "| 2     | 18.75 | 33.5  | 77    | 655   | \n",
       "\n",
       "\n"
      ],
      "text/plain": [
       "     0% 25%   50%  75% 100%\n",
       "[1,] 2  18.75 33.5 77  655 "
      ]
     },
     "metadata": {},
     "output_type": "display_data"
    }
   ],
   "source": [
    "N.bin<- 101\n",
    "ps.bks <- list()\n",
    "ps.bks$alpha <- seq(ps.range$alpha[1],ps.range$alpha[2],length.out = N.bin)\n",
    "ps.bks$beta <- seq(ps.range$beta[1],ps.range$beta[2],length.out = N.bin)\n",
    "\n",
    "dat.pro_ps <- rbind(\n",
    "    dat.pro_ps%>% \n",
    "    filter(cluster %in% c(\"alpha_1\",\"alpha_2\"))%>%\n",
    "    mutate(ps_bin =cut(ps,breaks = ps.bks$alpha,include.lowest = T)),\n",
    "    dat.pro_ps%>% \n",
    "    filter(cluster %in% c(\"beta_1\",\"beta_2\"))%>%\n",
    "    mutate(ps_bin =cut(ps,breaks = ps.bks$beta,include.lowest = T))\n",
    ")\n",
    "\n",
    "ps.bin.dat.sum<- dat.pro_ps%>%separate(cluster,into = c(\"celltype\",\"subtype\"))%>%\n",
    "select(-one_of(\"gene_tr.idx\",\"ps\"))%>%distinct()\n",
    "\n",
    "setDT(ps.bin.dat.sum)\n",
    "ps.bin.dat.sum<-ps.bin.dat.sum[, .(.N), by = .(ps_bin,celltype)]\n",
    "cat(paste(N.bin,\"# bins:\\n\"))\n",
    "cat(\"quantiles of alpha cell number per bin:\\n\")\n",
    "t(quantile((ps.bin.dat.sum%>%filter(celltype==\"alpha\"))$N))\n",
    "cat(\"quantiles of beta cell number per bin:\\n\")\n",
    "t(quantile((ps.bin.dat.sum%>%filter(celltype==\"beta\"))$N))"
   ]
  },
  {
   "cell_type": "code",
   "execution_count": 7,
   "metadata": {},
   "outputs": [
    {
     "data": {
      "text/html": [
       "<table>\n",
       "<thead><tr><th scope=col>celltype</th><th scope=col>tot</th></tr></thead>\n",
       "<tbody>\n",
       "\t<tr><td>alpha</td><td>5594 </td></tr>\n",
       "\t<tr><td>beta </td><td>7170 </td></tr>\n",
       "</tbody>\n",
       "</table>\n"
      ],
      "text/latex": [
       "\\begin{tabular}{r|ll}\n",
       " celltype & tot\\\\\n",
       "\\hline\n",
       "\t alpha & 5594 \\\\\n",
       "\t beta  & 7170 \\\\\n",
       "\\end{tabular}\n"
      ],
      "text/markdown": [
       "\n",
       "celltype | tot | \n",
       "|---|---|\n",
       "| alpha | 5594  | \n",
       "| beta  | 7170  | \n",
       "\n",
       "\n"
      ],
      "text/plain": [
       "  celltype tot \n",
       "1 alpha    5594\n",
       "2 beta     7170"
      ]
     },
     "metadata": {},
     "output_type": "display_data"
    }
   ],
   "source": [
    "ps.bin.dat.sum%>%group_by(celltype)%>%summarise(tot=sum(N))"
   ]
  },
  {
   "cell_type": "markdown",
   "metadata": {},
   "source": [
    "## 3. filter on glist"
   ]
  },
  {
   "cell_type": "code",
   "execution_count": 10,
   "metadata": {},
   "outputs": [
    {
     "data": {
      "text/html": [
       "<table>\n",
       "<thead><tr><th scope=col>gene_tr.idx</th><th scope=col>cluster</th><th scope=col>cell</th><th scope=col>ps</th><th scope=col>ps_bin</th></tr></thead>\n",
       "<tbody>\n",
       "\t<tr><td>SAMD11_1                                  </td><td>alpha_1                                   </td><td>Islet1-fresh_AGACACCTAGGCAGAAGTAAGGAGCAGGA</td><td>5.643735                                  </td><td>(5.6,5.67]                                </td></tr>\n",
       "\t<tr><td>SAMD11_1                                  </td><td>alpha_1                                   </td><td>Islet1-fresh_AGACACCTATGCGCAGCGTCTAATGGTTG</td><td>1.056578                                  </td><td>(1.01,1.08]                               </td></tr>\n",
       "\t<tr><td>SAMD11_1                                  </td><td>alpha_2                                   </td><td>Islet1-fresh_AGACACCTCGAGGCTGAAGGCTATGGTTG</td><td>6.254863                                  </td><td>(6.21,6.27]                               </td></tr>\n",
       "\t<tr><td>SAMD11_1                                  </td><td>alpha_2                                   </td><td>Islet1-fresh_AGACACCTCGTACTAGCTAAGCCTGTACT</td><td>6.508574                                  </td><td>(6.48,6.54]                               </td></tr>\n",
       "\t<tr><td>SAMD11_1                                  </td><td>alpha_1                                   </td><td>Islet1-fresh_AGACACCTGGACTCCTTCGACTAGGGTTG</td><td>2.120670                                  </td><td>(2.09,2.16]                               </td></tr>\n",
       "\t<tr><td>SAMD11_1                                  </td><td>alpha_2                                   </td><td>Islet1-fresh_AGACACCTGGAGCTACAAGGAGTAAGGCG</td><td>5.564368                                  </td><td>(5.53,5.6]                                </td></tr>\n",
       "</tbody>\n",
       "</table>\n"
      ],
      "text/latex": [
       "\\begin{tabular}{r|lllll}\n",
       " gene\\_tr.idx & cluster & cell & ps & ps\\_bin\\\\\n",
       "\\hline\n",
       "\t SAMD11\\_1                                   & alpha\\_1                                    & Islet1-fresh\\_AGACACCTAGGCAGAAGTAAGGAGCAGGA & 5.643735                                     & (5.6,5.67{]}                                \\\\\n",
       "\t SAMD11\\_1                                   & alpha\\_1                                    & Islet1-fresh\\_AGACACCTATGCGCAGCGTCTAATGGTTG & 1.056578                                     & (1.01,1.08{]}                               \\\\\n",
       "\t SAMD11\\_1                                   & alpha\\_2                                    & Islet1-fresh\\_AGACACCTCGAGGCTGAAGGCTATGGTTG & 6.254863                                     & (6.21,6.27{]}                               \\\\\n",
       "\t SAMD11\\_1                                   & alpha\\_2                                    & Islet1-fresh\\_AGACACCTCGTACTAGCTAAGCCTGTACT & 6.508574                                     & (6.48,6.54{]}                               \\\\\n",
       "\t SAMD11\\_1                                   & alpha\\_1                                    & Islet1-fresh\\_AGACACCTGGACTCCTTCGACTAGGGTTG & 2.120670                                     & (2.09,2.16{]}                               \\\\\n",
       "\t SAMD11\\_1                                   & alpha\\_2                                    & Islet1-fresh\\_AGACACCTGGAGCTACAAGGAGTAAGGCG & 5.564368                                     & (5.53,5.6{]}                                \\\\\n",
       "\\end{tabular}\n"
      ],
      "text/markdown": [
       "\n",
       "gene_tr.idx | cluster | cell | ps | ps_bin | \n",
       "|---|---|---|---|---|---|\n",
       "| SAMD11_1                                   | alpha_1                                    | Islet1-fresh_AGACACCTAGGCAGAAGTAAGGAGCAGGA | 5.643735                                   | (5.6,5.67]                                 | \n",
       "| SAMD11_1                                   | alpha_1                                    | Islet1-fresh_AGACACCTATGCGCAGCGTCTAATGGTTG | 1.056578                                   | (1.01,1.08]                                | \n",
       "| SAMD11_1                                   | alpha_2                                    | Islet1-fresh_AGACACCTCGAGGCTGAAGGCTATGGTTG | 6.254863                                   | (6.21,6.27]                                | \n",
       "| SAMD11_1                                   | alpha_2                                    | Islet1-fresh_AGACACCTCGTACTAGCTAAGCCTGTACT | 6.508574                                   | (6.48,6.54]                                | \n",
       "| SAMD11_1                                   | alpha_1                                    | Islet1-fresh_AGACACCTGGACTCCTTCGACTAGGGTTG | 2.120670                                   | (2.09,2.16]                                | \n",
       "| SAMD11_1                                   | alpha_2                                    | Islet1-fresh_AGACACCTGGAGCTACAAGGAGTAAGGCG | 5.564368                                   | (5.53,5.6]                                 | \n",
       "\n",
       "\n"
      ],
      "text/plain": [
       "  gene_tr.idx cluster cell                                       ps      \n",
       "1 SAMD11_1    alpha_1 Islet1-fresh_AGACACCTAGGCAGAAGTAAGGAGCAGGA 5.643735\n",
       "2 SAMD11_1    alpha_1 Islet1-fresh_AGACACCTATGCGCAGCGTCTAATGGTTG 1.056578\n",
       "3 SAMD11_1    alpha_2 Islet1-fresh_AGACACCTCGAGGCTGAAGGCTATGGTTG 6.254863\n",
       "4 SAMD11_1    alpha_2 Islet1-fresh_AGACACCTCGTACTAGCTAAGCCTGTACT 6.508574\n",
       "5 SAMD11_1    alpha_1 Islet1-fresh_AGACACCTGGACTCCTTCGACTAGGGTTG 2.120670\n",
       "6 SAMD11_1    alpha_2 Islet1-fresh_AGACACCTGGAGCTACAAGGAGTAAGGCG 5.564368\n",
       "  ps_bin     \n",
       "1 (5.6,5.67] \n",
       "2 (1.01,1.08]\n",
       "3 (6.21,6.27]\n",
       "4 (6.48,6.54]\n",
       "5 (2.09,2.16]\n",
       "6 (5.53,5.6] "
      ]
     },
     "metadata": {},
     "output_type": "display_data"
    }
   ],
   "source": [
    "binary.glist<- readRDS('../dat/1901/binary.glist.Rds')\n",
    "head(dat.pro_ps)"
   ]
  },
  {
   "cell_type": "code",
   "execution_count": 24,
   "metadata": {},
   "outputs": [
    {
     "data": {
      "text/html": [
       "3261"
      ],
      "text/latex": [
       "3261"
      ],
      "text/markdown": [
       "3261"
      ],
      "text/plain": [
       "[1] 3261"
      ]
     },
     "metadata": {},
     "output_type": "display_data"
    }
   ],
   "source": [
    "all.tr <- unique(c(binary.glist$alpha1_tr,binary.glist$alpha2_tr,binary.glist$beta1_tr,binary.glist$beta2_tr))\n",
    "length(all.tr)"
   ]
  },
  {
   "cell_type": "code",
   "execution_count": 69,
   "metadata": {},
   "outputs": [
    {
     "data": {
      "text/html": [
       "3261"
      ],
      "text/latex": [
       "3261"
      ],
      "text/markdown": [
       "3261"
      ],
      "text/plain": [
       "[1] 3261"
      ]
     },
     "metadata": {},
     "output_type": "display_data"
    }
   ],
   "source": [
    "194+2160+186+721"
   ]
  },
  {
   "cell_type": "code",
   "execution_count": 23,
   "metadata": {},
   "outputs": [
    {
     "data": {
      "image/png": "[encoded data removed]",
      "text/plain": [
       "plot without title"
      ]
     },
     "metadata": {},
     "output_type": "display_data"
    },
    {
     "data": {
      "image/png": "[encoded data removed]",
      "text/plain": [
       "plot without title"
      ]
     },
     "metadata": {},
     "output_type": "display_data"
    }
   ],
   "source": [
    "options(repr.plot.width=3, repr.plot.height=3)\n",
    "require(venn)\n",
    "binary.glist.2 <- binary.glist\n",
    "binary.glist$alpha1<-NULL;binary.glist$alpha2<-NULL;binary.glist$beta1<-NULL;binary.glist$beta2<-NULL;\n",
    "binary.glist.2$alpha1_tr<-NULL;binary.glist.2$alpha2_tr<-NULL;binary.glist.2$beta1_tr<-NULL;binary.glist.2$beta2_tr<-NULL;\n",
    "venn(binary.glist,ellipse = T)\n",
    "venn(binary.glist.2,ellipse = T)\n"
   ]
  },
  {
   "cell_type": "code",
   "execution_count": 25,
   "metadata": {},
   "outputs": [
    {
     "data": {
      "text/html": [
       "<ol class=list-inline>\n",
       "\t<li>19412387</li>\n",
       "\t<li>5</li>\n",
       "</ol>\n"
      ],
      "text/latex": [
       "\\begin{enumerate*}\n",
       "\\item 19412387\n",
       "\\item 5\n",
       "\\end{enumerate*}\n"
      ],
      "text/markdown": [
       "1. 19412387\n",
       "2. 5\n",
       "\n",
       "\n"
      ],
      "text/plain": [
       "[1] 19412387        5"
      ]
     },
     "metadata": {},
     "output_type": "display_data"
    },
    {
     "data": {
      "text/html": [
       "<ol class=list-inline>\n",
       "\t<li>1841488</li>\n",
       "\t<li>5</li>\n",
       "</ol>\n"
      ],
      "text/latex": [
       "\\begin{enumerate*}\n",
       "\\item 1841488\n",
       "\\item 5\n",
       "\\end{enumerate*}\n"
      ],
      "text/markdown": [
       "1. 1841488\n",
       "2. 5\n",
       "\n",
       "\n"
      ],
      "text/plain": [
       "[1] 1841488       5"
      ]
     },
     "metadata": {},
     "output_type": "display_data"
    }
   ],
   "source": [
    "dim(dat.pro_ps)\n",
    "dat.pro_ps <- dat.pro_ps%>% filter(gene_tr.idx%in% all.tr)\n",
    "dim(dat.pro_ps)"
   ]
  },
  {
   "cell_type": "markdown",
   "metadata": {},
   "source": [
    "## 4. plot heatmap "
   ]
  },
  {
   "cell_type": "markdown",
   "metadata": {},
   "source": [
    "### 4.1 convert to percetage openning per bin"
   ]
  },
  {
   "cell_type": "code",
   "execution_count": 29,
   "metadata": {},
   "outputs": [
    {
     "ename": "ERROR",
     "evalue": "Error in eval_tidy(enquo(var), var_env): object 'cluster' not found\n",
     "output_type": "error",
     "traceback": [
      "Error in eval_tidy(enquo(var), var_env): object 'cluster' not found\nTraceback:\n",
      "1. dat.pro_ps %>% separate(cluster, into = c(\"celltype\", \"subtype\"))",
      "2. withVisible(eval(quote(`_fseq`(`_lhs`)), env, env))",
      "3. eval(quote(`_fseq`(`_lhs`)), env, env)",
      "4. eval(quote(`_fseq`(`_lhs`)), env, env)",
      "5. `_fseq`(`_lhs`)",
      "6. freduce(value, `_function_list`)",
      "7. withVisible(function_list[[k]](value))",
      "8. function_list[[k]](value)",
      "9. separate(., cluster, into = c(\"celltype\", \"subtype\"))",
      "10. separate.data.frame(., cluster, into = c(\"celltype\", \"subtype\"))",
      "11. tidyselect::vars_pull(names(data), !!enquo(col))",
      "12. eval_tidy(enquo(var), var_env)"
     ]
    }
   ],
   "source": [
    "dat.pro_ps<- dat.pro_ps%>%separate(cluster,into=c(\"celltype\",\"subtype\"))\n"
   ]
  },
  {
   "cell_type": "code",
   "execution_count": 48,
   "metadata": {},
   "outputs": [
    {
     "name": "stderr",
     "output_type": "stream",
     "text": [
      "Joining, by = c(\"celltype\", \"ps_bin\", \"N\")\n"
     ]
    },
    {
     "data": {
      "text/html": [
       "<ol class=list-inline>\n",
       "\t<li>1841488</li>\n",
       "\t<li>7</li>\n",
       "</ol>\n"
      ],
      "text/latex": [
       "\\begin{enumerate*}\n",
       "\\item 1841488\n",
       "\\item 7\n",
       "\\end{enumerate*}\n"
      ],
      "text/markdown": [
       "1. 1841488\n",
       "2. 7\n",
       "\n",
       "\n"
      ],
      "text/plain": [
       "[1] 1841488       7"
      ]
     },
     "metadata": {},
     "output_type": "display_data"
    },
    {
     "data": {
      "text/html": [
       "<table>\n",
       "<thead><tr><th scope=col>gene_tr.idx</th><th scope=col>celltype</th><th scope=col>subtype</th><th scope=col>cell</th><th scope=col>ps</th><th scope=col>ps_bin</th><th scope=col>N</th></tr></thead>\n",
       "<tbody>\n",
       "\t<tr><td>AAGAB_7073                                   </td><td>alpha                                        </td><td>1                                            </td><td>Islet2-fresh_AGACGGAGTAGGCATGTAAGGAGTGAC     </td><td>0.2874200                                    </td><td>(0.27,0.337]                                 </td><td>34                                           </td></tr>\n",
       "\t<tr><td>AAGAB_7073                                   </td><td>alpha                                        </td><td>1                                            </td><td>Islet2-fresh_CAGTTGCACCTAAGACGTCTAATCTGA     </td><td>0.2918434                                    </td><td>(0.27,0.337]                                 </td><td>34                                           </td></tr>\n",
       "\t<tr><td>AAGAB_7073                                   </td><td>alpha                                        </td><td>1                                            </td><td>Islet2-fresh_CAGTTGCATAGGCATGTCTGAGTTGAC     </td><td>0.3206313                                    </td><td>(0.27,0.337]                                 </td><td>34                                           </td></tr>\n",
       "\t<tr><td>AAGAB_7073                                   </td><td>alpha                                        </td><td>1                                            </td><td>Islet3-fresh_CGCTCATTGCTCATGATATCCTCTGGCTCTGA</td><td>0.3131417                                    </td><td>(0.27,0.337]                                 </td><td>34                                           </td></tr>\n",
       "\t<tr><td>AAGAB_7073                                   </td><td>alpha                                        </td><td>1                                            </td><td>Islet3-fresh_TAATGCGCGCTCATGAAAGGCTATGGCTCTGA</td><td>0.2783736                                    </td><td>(0.27,0.337]                                 </td><td>34                                           </td></tr>\n",
       "\t<tr><td>AAGAB_7073                                   </td><td>alpha                                        </td><td>1                                            </td><td>Islet3-fresh_TCCGCGAACTCTCTACCCTAGAGTGGCTCTGA</td><td>0.3178772                                    </td><td>(0.27,0.337]                                 </td><td>34                                           </td></tr>\n",
       "</tbody>\n",
       "</table>\n"
      ],
      "text/latex": [
       "\\begin{tabular}{r|lllllll}\n",
       " gene\\_tr.idx & celltype & subtype & cell & ps & ps\\_bin & N\\\\\n",
       "\\hline\n",
       "\t AAGAB\\_7073                                    & alpha                                           & 1                                               & Islet2-fresh\\_AGACGGAGTAGGCATGTAAGGAGTGAC      & 0.2874200                                       & (0.27,0.337{]}                                  & 34                                             \\\\\n",
       "\t AAGAB\\_7073                                    & alpha                                           & 1                                               & Islet2-fresh\\_CAGTTGCACCTAAGACGTCTAATCTGA      & 0.2918434                                       & (0.27,0.337{]}                                  & 34                                             \\\\\n",
       "\t AAGAB\\_7073                                    & alpha                                           & 1                                               & Islet2-fresh\\_CAGTTGCATAGGCATGTCTGAGTTGAC      & 0.3206313                                       & (0.27,0.337{]}                                  & 34                                             \\\\\n",
       "\t AAGAB\\_7073                                    & alpha                                           & 1                                               & Islet3-fresh\\_CGCTCATTGCTCATGATATCCTCTGGCTCTGA & 0.3131417                                       & (0.27,0.337{]}                                  & 34                                             \\\\\n",
       "\t AAGAB\\_7073                                    & alpha                                           & 1                                               & Islet3-fresh\\_TAATGCGCGCTCATGAAAGGCTATGGCTCTGA & 0.2783736                                       & (0.27,0.337{]}                                  & 34                                             \\\\\n",
       "\t AAGAB\\_7073                                    & alpha                                           & 1                                               & Islet3-fresh\\_TCCGCGAACTCTCTACCCTAGAGTGGCTCTGA & 0.3178772                                       & (0.27,0.337{]}                                  & 34                                             \\\\\n",
       "\\end{tabular}\n"
      ],
      "text/markdown": [
       "\n",
       "gene_tr.idx | celltype | subtype | cell | ps | ps_bin | N | \n",
       "|---|---|---|---|---|---|\n",
       "| AAGAB_7073                                    | alpha                                         | 1                                             | Islet2-fresh_AGACGGAGTAGGCATGTAAGGAGTGAC      | 0.2874200                                     | (0.27,0.337]                                  | 34                                            | \n",
       "| AAGAB_7073                                    | alpha                                         | 1                                             | Islet2-fresh_CAGTTGCACCTAAGACGTCTAATCTGA      | 0.2918434                                     | (0.27,0.337]                                  | 34                                            | \n",
       "| AAGAB_7073                                    | alpha                                         | 1                                             | Islet2-fresh_CAGTTGCATAGGCATGTCTGAGTTGAC      | 0.3206313                                     | (0.27,0.337]                                  | 34                                            | \n",
       "| AAGAB_7073                                    | alpha                                         | 1                                             | Islet3-fresh_CGCTCATTGCTCATGATATCCTCTGGCTCTGA | 0.3131417                                     | (0.27,0.337]                                  | 34                                            | \n",
       "| AAGAB_7073                                    | alpha                                         | 1                                             | Islet3-fresh_TAATGCGCGCTCATGAAAGGCTATGGCTCTGA | 0.2783736                                     | (0.27,0.337]                                  | 34                                            | \n",
       "| AAGAB_7073                                    | alpha                                         | 1                                             | Islet3-fresh_TCCGCGAACTCTCTACCCTAGAGTGGCTCTGA | 0.3178772                                     | (0.27,0.337]                                  | 34                                            | \n",
       "\n",
       "\n"
      ],
      "text/plain": [
       "  gene_tr.idx celltype subtype cell                                         \n",
       "1 AAGAB_7073  alpha    1       Islet2-fresh_AGACGGAGTAGGCATGTAAGGAGTGAC     \n",
       "2 AAGAB_7073  alpha    1       Islet2-fresh_CAGTTGCACCTAAGACGTCTAATCTGA     \n",
       "3 AAGAB_7073  alpha    1       Islet2-fresh_CAGTTGCATAGGCATGTCTGAGTTGAC     \n",
       "4 AAGAB_7073  alpha    1       Islet3-fresh_CGCTCATTGCTCATGATATCCTCTGGCTCTGA\n",
       "5 AAGAB_7073  alpha    1       Islet3-fresh_TAATGCGCGCTCATGAAAGGCTATGGCTCTGA\n",
       "6 AAGAB_7073  alpha    1       Islet3-fresh_TCCGCGAACTCTCTACCCTAGAGTGGCTCTGA\n",
       "  ps        ps_bin       N \n",
       "1 0.2874200 (0.27,0.337] 34\n",
       "2 0.2918434 (0.27,0.337] 34\n",
       "3 0.3206313 (0.27,0.337] 34\n",
       "4 0.3131417 (0.27,0.337] 34\n",
       "5 0.2783736 (0.27,0.337] 34\n",
       "6 0.3178772 (0.27,0.337] 34"
      ]
     },
     "metadata": {},
     "output_type": "display_data"
    }
   ],
   "source": [
    "dat.pro_ps <- dat.pro_ps %>% left_join(ps.bin.dat.sum)\n",
    "dim(dat.pro_ps)\n",
    "head(dat.pro_ps%>%arrange(gene_tr.idx,ps_bin))"
   ]
  },
  {
   "cell_type": "code",
   "execution_count": 66,
   "metadata": {},
   "outputs": [
    {
     "name": "stderr",
     "output_type": "stream",
     "text": [
      "Joining, by = c(\"celltype\", \"ps_bin\")\n"
     ]
    },
    {
     "data": {
      "text/html": [
       "<table>\n",
       "<thead><tr><th scope=col>gene_tr.idx</th><th scope=col>celltype</th><th scope=col>ps_bin</th><th scope=col>n</th><th scope=col>N</th><th scope=col>ps_bin.2</th><th scope=col>percent_open</th></tr></thead>\n",
       "<tbody>\n",
       "\t<tr><td>AAGAB_7073   </td><td>alpha        </td><td>(0.27,0.337] </td><td> 6           </td><td> 34          </td><td> 5           </td><td>17.647059    </td></tr>\n",
       "\t<tr><td>AAGAB_7073   </td><td>alpha        </td><td>(0.337,0.405]</td><td> 4           </td><td> 66          </td><td> 6           </td><td> 6.060606    </td></tr>\n",
       "\t<tr><td>AAGAB_7073   </td><td>alpha        </td><td>(0.405,0.472]</td><td>20           </td><td>172          </td><td> 7           </td><td>11.627907    </td></tr>\n",
       "\t<tr><td>AAGAB_7073   </td><td>alpha        </td><td>(0.472,0.54] </td><td>30           </td><td>257          </td><td> 8           </td><td>11.673152    </td></tr>\n",
       "\t<tr><td>AAGAB_7073   </td><td>alpha        </td><td>(0.54,0.607] </td><td>29           </td><td>212          </td><td> 9           </td><td>13.679245    </td></tr>\n",
       "\t<tr><td>AAGAB_7073   </td><td>alpha        </td><td>(0.607,0.675]</td><td>12           </td><td> 73          </td><td>10           </td><td>16.438356    </td></tr>\n",
       "</tbody>\n",
       "</table>\n"
      ],
      "text/latex": [
       "\\begin{tabular}{r|lllllll}\n",
       " gene\\_tr.idx & celltype & ps\\_bin & n & N & ps\\_bin.2 & percent\\_open\\\\\n",
       "\\hline\n",
       "\t AAGAB\\_7073    & alpha           & (0.27,0.337{]}  &  6              &  34             &  5              & 17.647059      \\\\\n",
       "\t AAGAB\\_7073    & alpha           & (0.337,0.405{]} &  4              &  66             &  6              &  6.060606      \\\\\n",
       "\t AAGAB\\_7073    & alpha           & (0.405,0.472{]} & 20              & 172             &  7              & 11.627907      \\\\\n",
       "\t AAGAB\\_7073    & alpha           & (0.472,0.54{]}  & 30              & 257             &  8              & 11.673152      \\\\\n",
       "\t AAGAB\\_7073    & alpha           & (0.54,0.607{]}  & 29              & 212             &  9              & 13.679245      \\\\\n",
       "\t AAGAB\\_7073    & alpha           & (0.607,0.675{]} & 12              &  73             & 10              & 16.438356      \\\\\n",
       "\\end{tabular}\n"
      ],
      "text/markdown": [
       "\n",
       "gene_tr.idx | celltype | ps_bin | n | N | ps_bin.2 | percent_open | \n",
       "|---|---|---|---|---|---|\n",
       "| AAGAB_7073    | alpha         | (0.27,0.337]  |  6            |  34           |  5            | 17.647059     | \n",
       "| AAGAB_7073    | alpha         | (0.337,0.405] |  4            |  66           |  6            |  6.060606     | \n",
       "| AAGAB_7073    | alpha         | (0.405,0.472] | 20            | 172           |  7            | 11.627907     | \n",
       "| AAGAB_7073    | alpha         | (0.472,0.54]  | 30            | 257           |  8            | 11.673152     | \n",
       "| AAGAB_7073    | alpha         | (0.54,0.607]  | 29            | 212           |  9            | 13.679245     | \n",
       "| AAGAB_7073    | alpha         | (0.607,0.675] | 12            |  73           | 10            | 16.438356     | \n",
       "\n",
       "\n"
      ],
      "text/plain": [
       "  gene_tr.idx celltype ps_bin        n  N   ps_bin.2 percent_open\n",
       "1 AAGAB_7073  alpha    (0.27,0.337]   6  34  5       17.647059   \n",
       "2 AAGAB_7073  alpha    (0.337,0.405]  4  66  6        6.060606   \n",
       "3 AAGAB_7073  alpha    (0.405,0.472] 20 172  7       11.627907   \n",
       "4 AAGAB_7073  alpha    (0.472,0.54]  30 257  8       11.673152   \n",
       "5 AAGAB_7073  alpha    (0.54,0.607]  29 212  9       13.679245   \n",
       "6 AAGAB_7073  alpha    (0.607,0.675] 12  73 10       16.438356   "
      ]
     },
     "metadata": {},
     "output_type": "display_data"
    },
    {
     "data": {
      "text/html": [
       "<ol class=list-inline>\n",
       "\t<li>253066</li>\n",
       "\t<li>7</li>\n",
       "</ol>\n"
      ],
      "text/latex": [
       "\\begin{enumerate*}\n",
       "\\item 253066\n",
       "\\item 7\n",
       "\\end{enumerate*}\n"
      ],
      "text/markdown": [
       "1. 253066\n",
       "2. 7\n",
       "\n",
       "\n"
      ],
      "text/plain": [
       "[1] 253066      7"
      ]
     },
     "metadata": {},
     "output_type": "display_data"
    },
    {
     "data": {
      "text/html": [
       "<table>\n",
       "<thead><tr><th scope=col>gene_tr.idx</th><th scope=col>celltype</th><th scope=col>ps_bin</th><th scope=col>n</th><th scope=col>N</th><th scope=col>ps_bin.2</th><th scope=col>percent_open</th></tr></thead>\n",
       "<tbody>\n",
       "\t<tr><td>ABCB1_19403  </td><td>beta         </td><td>(0.202,0.404]</td><td>1            </td><td>  6          </td><td>102          </td><td>16.6666667   </td></tr>\n",
       "\t<tr><td>ABCB1_19403  </td><td>beta         </td><td>(0.404,0.606]</td><td>1            </td><td> 15          </td><td>103          </td><td> 6.6666667   </td></tr>\n",
       "\t<tr><td>ABCB1_19403  </td><td>beta         </td><td>(0.606,0.808]</td><td>1            </td><td> 35          </td><td>104          </td><td> 2.8571429   </td></tr>\n",
       "\t<tr><td>ABCB1_19403  </td><td>beta         </td><td>(1.01,1.21]  </td><td>1            </td><td>191          </td><td>106          </td><td> 0.5235602   </td></tr>\n",
       "\t<tr><td>ABCB1_19403  </td><td>beta         </td><td>(1.21,1.41]  </td><td>3            </td><td>326          </td><td>107          </td><td> 0.9202454   </td></tr>\n",
       "\t<tr><td>ABCB1_19403  </td><td>beta         </td><td>(2.42,2.63]  </td><td>1            </td><td> 44          </td><td>113          </td><td> 2.2727273   </td></tr>\n",
       "</tbody>\n",
       "</table>\n"
      ],
      "text/latex": [
       "\\begin{tabular}{r|lllllll}\n",
       " gene\\_tr.idx & celltype & ps\\_bin & n & N & ps\\_bin.2 & percent\\_open\\\\\n",
       "\\hline\n",
       "\t ABCB1\\_19403   & beta            & (0.202,0.404{]} & 1               &   6             & 102             & 16.6666667     \\\\\n",
       "\t ABCB1\\_19403   & beta            & (0.404,0.606{]} & 1               &  15             & 103             &  6.6666667     \\\\\n",
       "\t ABCB1\\_19403   & beta            & (0.606,0.808{]} & 1               &  35             & 104             &  2.8571429     \\\\\n",
       "\t ABCB1\\_19403   & beta            & (1.01,1.21{]}   & 1               & 191             & 106             &  0.5235602     \\\\\n",
       "\t ABCB1\\_19403   & beta            & (1.21,1.41{]}   & 3               & 326             & 107             &  0.9202454     \\\\\n",
       "\t ABCB1\\_19403   & beta            & (2.42,2.63{]}   & 1               &  44             & 113             &  2.2727273     \\\\\n",
       "\\end{tabular}\n"
      ],
      "text/markdown": [
       "\n",
       "gene_tr.idx | celltype | ps_bin | n | N | ps_bin.2 | percent_open | \n",
       "|---|---|---|---|---|---|\n",
       "| ABCB1_19403   | beta          | (0.202,0.404] | 1             |   6           | 102           | 16.6666667    | \n",
       "| ABCB1_19403   | beta          | (0.404,0.606] | 1             |  15           | 103           |  6.6666667    | \n",
       "| ABCB1_19403   | beta          | (0.606,0.808] | 1             |  35           | 104           |  2.8571429    | \n",
       "| ABCB1_19403   | beta          | (1.01,1.21]   | 1             | 191           | 106           |  0.5235602    | \n",
       "| ABCB1_19403   | beta          | (1.21,1.41]   | 3             | 326           | 107           |  0.9202454    | \n",
       "| ABCB1_19403   | beta          | (2.42,2.63]   | 1             |  44           | 113           |  2.2727273    | \n",
       "\n",
       "\n"
      ],
      "text/plain": [
       "  gene_tr.idx celltype ps_bin        n N   ps_bin.2 percent_open\n",
       "1 ABCB1_19403 beta     (0.202,0.404] 1   6 102      16.6666667  \n",
       "2 ABCB1_19403 beta     (0.404,0.606] 1  15 103       6.6666667  \n",
       "3 ABCB1_19403 beta     (0.606,0.808] 1  35 104       2.8571429  \n",
       "4 ABCB1_19403 beta     (1.01,1.21]   1 191 106       0.5235602  \n",
       "5 ABCB1_19403 beta     (1.21,1.41]   3 326 107       0.9202454  \n",
       "6 ABCB1_19403 beta     (2.42,2.63]   1  44 113       2.2727273  "
      ]
     },
     "metadata": {},
     "output_type": "display_data"
    }
   ],
   "source": [
    "tmp <- dat.pro_ps%>% \n",
    "    group_by(gene_tr.idx,celltype,ps_bin)%>%summarise(n= n())%>%\n",
    "    left_join(ps.bin.dat.sum)%>%arrange(gene_tr.idx,ps_bin)%>%\n",
    "    mutate(ps_bin.2 = as.numeric(ps_bin))%>% \n",
    "    mutate(percent_open=n/N*100)\n",
    "head(tmp)\n",
    "dim(tmp)\n",
    "head(tmp%>%filter(celltype==\"beta\"))"
   ]
  },
  {
   "cell_type": "code",
   "execution_count": 67,
   "metadata": {},
   "outputs": [
    {
     "data": {
      "text/html": [
       "<table>\n",
       "<thead><tr><th scope=col>gene_tr.idx</th><th scope=col>celltype</th><th scope=col>1</th><th scope=col>2</th><th scope=col>3</th><th scope=col>4</th><th scope=col>5</th><th scope=col>6</th><th scope=col>7</th><th scope=col>8</th><th scope=col>⋯</th><th scope=col>91</th><th scope=col>92</th><th scope=col>93</th><th scope=col>94</th><th scope=col>95</th><th scope=col>96</th><th scope=col>97</th><th scope=col>98</th><th scope=col>99</th><th scope=col>100</th></tr></thead>\n",
       "<tbody>\n",
       "\t<tr><td>AAGAB_7073 </td><td>alpha      </td><td>0          </td><td>  0        </td><td>0          </td><td> 0.00000   </td><td>17.647059  </td><td> 6.060606  </td><td>11.627907  </td><td>11.6731518 </td><td>⋯          </td><td>20.606061  </td><td>19.333333  </td><td>18.691589  </td><td>20.00      </td><td>27.586207  </td><td>38.709677  </td><td>31.578947  </td><td>40         </td><td>33.33333   </td><td> 0         </td></tr>\n",
       "\t<tr><td>AAMDC_3891 </td><td>alpha      </td><td>0          </td><td>  0        </td><td>0          </td><td>28.57143   </td><td>23.529412  </td><td>12.121212  </td><td>16.279070  </td><td>21.7898833 </td><td>⋯          </td><td>26.666667  </td><td>33.333333  </td><td>28.037383  </td><td>41.25      </td><td>31.034483  </td><td>32.258065  </td><td>36.842105  </td><td>60         </td><td>50.00000   </td><td>50         </td></tr>\n",
       "\t<tr><td>AATF_8879  </td><td>alpha      </td><td>0          </td><td>100        </td><td>0          </td><td> 0.00000   </td><td> 8.823529  </td><td> 4.545455  </td><td> 6.976744  </td><td> 5.8365759 </td><td>⋯          </td><td> 7.272727  </td><td>10.000000  </td><td>15.887850  </td><td>11.25      </td><td>17.241379  </td><td> 9.677419  </td><td>26.315789  </td><td>40         </td><td>16.66667   </td><td>50         </td></tr>\n",
       "\t<tr><td>ABCA2_21554</td><td>alpha      </td><td>0          </td><td>  0        </td><td>0          </td><td> 0.00000   </td><td> 0.000000  </td><td> 0.000000  </td><td> 3.488372  </td><td> 4.6692607 </td><td>⋯          </td><td> 4.848485  </td><td> 8.666667  </td><td> 8.411215  </td><td>12.50      </td><td> 5.172414  </td><td> 3.225806  </td><td> 5.263158  </td><td>20         </td><td> 0.00000   </td><td> 0         </td></tr>\n",
       "\t<tr><td>ABCB10_1996</td><td>alpha      </td><td>0          </td><td>  0        </td><td>0          </td><td>14.28571   </td><td> 5.882353  </td><td>13.636364  </td><td>16.279070  </td><td>17.1206226 </td><td>⋯          </td><td>21.212121  </td><td>20.666667  </td><td>31.775701  </td><td>27.50      </td><td>22.413793  </td><td>29.032258  </td><td>47.368421  </td><td>30         </td><td>33.33333   </td><td>50         </td></tr>\n",
       "\t<tr><td>ABCB9_5434 </td><td>alpha      </td><td>0          </td><td>  0        </td><td>0          </td><td> 0.00000   </td><td> 0.000000  </td><td> 0.000000  </td><td> 1.162791  </td><td> 0.3891051 </td><td>⋯          </td><td> 3.636364  </td><td> 6.000000  </td><td>13.084112  </td><td> 3.75      </td><td>12.068966  </td><td>12.903226  </td><td>15.789474  </td><td>10         </td><td> 0.00000   </td><td> 0         </td></tr>\n",
       "</tbody>\n",
       "</table>\n"
      ],
      "text/latex": [
       "\\begin{tabular}{r|llllllllllllllllllllllllllllllllllllllllllllllllllllllllllllllllllllllllllllllllllllllllllllllllllllll}\n",
       " gene\\_tr.idx & celltype & 1 & 2 & 3 & 4 & 5 & 6 & 7 & 8 & ⋯ & 91 & 92 & 93 & 94 & 95 & 96 & 97 & 98 & 99 & 100\\\\\n",
       "\\hline\n",
       "\t AAGAB\\_7073  & alpha         & 0             &   0           & 0             &  0.00000      & 17.647059     &  6.060606     & 11.627907     & 11.6731518    & ⋯             & 20.606061     & 19.333333     & 18.691589     & 20.00         & 27.586207     & 38.709677     & 31.578947     & 40            & 33.33333      &  0           \\\\\n",
       "\t AAMDC\\_3891  & alpha         & 0             &   0           & 0             & 28.57143      & 23.529412     & 12.121212     & 16.279070     & 21.7898833    & ⋯             & 26.666667     & 33.333333     & 28.037383     & 41.25         & 31.034483     & 32.258065     & 36.842105     & 60            & 50.00000      & 50           \\\\\n",
       "\t AATF\\_8879   & alpha         & 0             & 100           & 0             &  0.00000      &  8.823529     &  4.545455     &  6.976744     &  5.8365759    & ⋯             &  7.272727     & 10.000000     & 15.887850     & 11.25         & 17.241379     &  9.677419     & 26.315789     & 40            & 16.66667      & 50           \\\\\n",
       "\t ABCA2\\_21554 & alpha         & 0             &   0           & 0             &  0.00000      &  0.000000     &  0.000000     &  3.488372     &  4.6692607    & ⋯             &  4.848485     &  8.666667     &  8.411215     & 12.50         &  5.172414     &  3.225806     &  5.263158     & 20            &  0.00000      &  0           \\\\\n",
       "\t ABCB10\\_1996 & alpha         & 0             &   0           & 0             & 14.28571      &  5.882353     & 13.636364     & 16.279070     & 17.1206226    & ⋯             & 21.212121     & 20.666667     & 31.775701     & 27.50         & 22.413793     & 29.032258     & 47.368421     & 30            & 33.33333      & 50           \\\\\n",
       "\t ABCB9\\_5434  & alpha         & 0             &   0           & 0             &  0.00000      &  0.000000     &  0.000000     &  1.162791     &  0.3891051    & ⋯             &  3.636364     &  6.000000     & 13.084112     &  3.75         & 12.068966     & 12.903226     & 15.789474     & 10            &  0.00000      &  0           \\\\\n",
       "\\end{tabular}\n"
      ],
      "text/markdown": [
       "\n",
       "gene_tr.idx | celltype | 1 | 2 | 3 | 4 | 5 | 6 | 7 | 8 | ⋯ | 91 | 92 | 93 | 94 | 95 | 96 | 97 | 98 | 99 | 100 | \n",
       "|---|---|---|---|---|---|\n",
       "| AAGAB_7073  | alpha       | 0           |   0         | 0           |  0.00000    | 17.647059   |  6.060606   | 11.627907   | 11.6731518  | ⋯           | 20.606061   | 19.333333   | 18.691589   | 20.00       | 27.586207   | 38.709677   | 31.578947   | 40          | 33.33333    |  0          | \n",
       "| AAMDC_3891  | alpha       | 0           |   0         | 0           | 28.57143    | 23.529412   | 12.121212   | 16.279070   | 21.7898833  | ⋯           | 26.666667   | 33.333333   | 28.037383   | 41.25       | 31.034483   | 32.258065   | 36.842105   | 60          | 50.00000    | 50          | \n",
       "| AATF_8879   | alpha       | 0           | 100         | 0           |  0.00000    |  8.823529   |  4.545455   |  6.976744   |  5.8365759  | ⋯           |  7.272727   | 10.000000   | 15.887850   | 11.25       | 17.241379   |  9.677419   | 26.315789   | 40          | 16.66667    | 50          | \n",
       "| ABCA2_21554 | alpha       | 0           |   0         | 0           |  0.00000    |  0.000000   |  0.000000   |  3.488372   |  4.6692607  | ⋯           |  4.848485   |  8.666667   |  8.411215   | 12.50       |  5.172414   |  3.225806   |  5.263158   | 20          |  0.00000    |  0          | \n",
       "| ABCB10_1996 | alpha       | 0           |   0         | 0           | 14.28571    |  5.882353   | 13.636364   | 16.279070   | 17.1206226  | ⋯           | 21.212121   | 20.666667   | 31.775701   | 27.50       | 22.413793   | 29.032258   | 47.368421   | 30          | 33.33333    | 50          | \n",
       "| ABCB9_5434  | alpha       | 0           |   0         | 0           |  0.00000    |  0.000000   |  0.000000   |  1.162791   |  0.3891051  | ⋯           |  3.636364   |  6.000000   | 13.084112   |  3.75       | 12.068966   | 12.903226   | 15.789474   | 10          |  0.00000    |  0          | \n",
       "\n",
       "\n"
      ],
      "text/plain": [
       "  gene_tr.idx celltype 1 2   3 4        5         6         7        \n",
       "1 AAGAB_7073  alpha    0   0 0  0.00000 17.647059  6.060606 11.627907\n",
       "2 AAMDC_3891  alpha    0   0 0 28.57143 23.529412 12.121212 16.279070\n",
       "3 AATF_8879   alpha    0 100 0  0.00000  8.823529  4.545455  6.976744\n",
       "4 ABCA2_21554 alpha    0   0 0  0.00000  0.000000  0.000000  3.488372\n",
       "5 ABCB10_1996 alpha    0   0 0 14.28571  5.882353 13.636364 16.279070\n",
       "6 ABCB9_5434  alpha    0   0 0  0.00000  0.000000  0.000000  1.162791\n",
       "  8          ⋯ 91        92        93        94    95        96       \n",
       "1 11.6731518 ⋯ 20.606061 19.333333 18.691589 20.00 27.586207 38.709677\n",
       "2 21.7898833 ⋯ 26.666667 33.333333 28.037383 41.25 31.034483 32.258065\n",
       "3  5.8365759 ⋯  7.272727 10.000000 15.887850 11.25 17.241379  9.677419\n",
       "4  4.6692607 ⋯  4.848485  8.666667  8.411215 12.50  5.172414  3.225806\n",
       "5 17.1206226 ⋯ 21.212121 20.666667 31.775701 27.50 22.413793 29.032258\n",
       "6  0.3891051 ⋯  3.636364  6.000000 13.084112  3.75 12.068966 12.903226\n",
       "  97        98 99       100\n",
       "1 31.578947 40 33.33333  0 \n",
       "2 36.842105 60 50.00000 50 \n",
       "3 26.315789 40 16.66667 50 \n",
       "4  5.263158 20  0.00000  0 \n",
       "5 47.368421 30 33.33333 50 \n",
       "6 15.789474 10  0.00000  0 "
      ]
     },
     "metadata": {},
     "output_type": "display_data"
    },
    {
     "data": {
      "text/html": [
       "<ol class=list-inline>\n",
       "\t<li>3282</li>\n",
       "\t<li>102</li>\n",
       "</ol>\n"
      ],
      "text/latex": [
       "\\begin{enumerate*}\n",
       "\\item 3282\n",
       "\\item 102\n",
       "\\end{enumerate*}\n"
      ],
      "text/markdown": [
       "1. 3282\n",
       "2. 102\n",
       "\n",
       "\n"
      ],
      "text/plain": [
       "[1] 3282  102"
      ]
     },
     "metadata": {},
     "output_type": "display_data"
    }
   ],
   "source": [
    "tmp.a <- rbind(tmp%>%\n",
    "    filter(celltype==\"alpha\")%>%\n",
    "    group_by(gene_tr.idx,celltype) %>%\n",
    "    select(-one_of(c(\"ps_bin\",\"n\",\"N\")))%>%\n",
    "    spread(key = ps_bin.2,value = percent_open,fill = 0),\n",
    "               tmp%>%\n",
    "    filter(celltype==\"beta\")%>%\n",
    "    group_by(gene_tr.idx,celltype) %>%\n",
    "    select(-one_of(c(\"ps_bin\",\"n\",\"N\")))%>%\n",
    "    mutate(ps_bin.2=ps_bin.2-100)%>%\n",
    "    spread(key = ps_bin.2,value = percent_open,fill = 0))\n",
    "head(tmp.a)\n",
    "dim(tmp.a)"
   ]
  },
  {
   "cell_type": "code",
   "execution_count": 68,
   "metadata": {},
   "outputs": [
    {
     "data": {
      "text/html": [
       "<table>\n",
       "<thead><tr><th scope=col>gene_tr.idx</th><th scope=col>celltype</th><th scope=col>1</th><th scope=col>2</th><th scope=col>3</th><th scope=col>4</th><th scope=col>5</th><th scope=col>6</th><th scope=col>7</th><th scope=col>8</th><th scope=col>⋯</th><th scope=col>91</th><th scope=col>92</th><th scope=col>93</th><th scope=col>94</th><th scope=col>95</th><th scope=col>96</th><th scope=col>97</th><th scope=col>98</th><th scope=col>99</th><th scope=col>100</th></tr></thead>\n",
       "<tbody>\n",
       "\t<tr><td>ZP1_3476     </td><td>beta         </td><td> 0           </td><td> 0           </td><td> 0.000000    </td><td> 2.857143    </td><td> 4.651163    </td><td> 7.329843    </td><td> 5.521472    </td><td> 4.873646    </td><td>⋯            </td><td> 2.092050    </td><td> 0.5         </td><td> 2.3255814   </td><td> 1.204819    </td><td> 1.724138    </td><td> 0.000       </td><td> 0.000000    </td><td> 0           </td><td> 0           </td><td> 0           </td></tr>\n",
       "\t<tr><td>ZPBP_19225   </td><td>beta         </td><td> 0           </td><td> 0           </td><td> 0.000000    </td><td> 0.000000    </td><td> 3.488372    </td><td> 2.094241    </td><td> 3.067485    </td><td> 3.068592    </td><td>⋯            </td><td> 1.673640    </td><td> 0.5         </td><td> 0.7751938   </td><td> 0.000000    </td><td> 0.000000    </td><td> 0.000       </td><td> 0.000000    </td><td> 0           </td><td> 0           </td><td> 0           </td></tr>\n",
       "\t<tr><td>ZSCAN21_19522</td><td>beta         </td><td>50           </td><td> 0           </td><td> 0.000000    </td><td> 2.857143    </td><td> 5.813953    </td><td> 3.664921    </td><td> 3.374233    </td><td> 2.527076    </td><td>⋯            </td><td> 5.020921    </td><td> 7.0         </td><td> 6.9767442   </td><td> 4.819277    </td><td> 8.620690    </td><td> 9.375       </td><td>18.181818    </td><td>10           </td><td>20           </td><td> 0           </td></tr>\n",
       "\t<tr><td>ZSCAN31_17964</td><td>beta         </td><td>50           </td><td> 0           </td><td> 6.666667    </td><td> 8.571429    </td><td>10.465116    </td><td>11.518325    </td><td> 8.282209    </td><td> 6.498195    </td><td>⋯            </td><td>14.225941    </td><td>14.0         </td><td>16.2790698   </td><td>10.843373    </td><td>20.689655    </td><td>18.750       </td><td>27.272727    </td><td>10           </td><td>40           </td><td>20           </td></tr>\n",
       "\t<tr><td>ZSWIM2_12697 </td><td>beta         </td><td> 0           </td><td>50           </td><td>46.666667    </td><td>45.714286    </td><td>23.255814    </td><td>24.607330    </td><td>23.619632    </td><td>15.703971    </td><td>⋯            </td><td> 7.949791    </td><td>10.0         </td><td> 3.8759690   </td><td> 6.024096    </td><td> 8.620690    </td><td> 3.125       </td><td> 9.090909    </td><td> 0           </td><td>20           </td><td> 0           </td></tr>\n",
       "\t<tr><td>ZSWIM5_707   </td><td>beta         </td><td> 0           </td><td> 0           </td><td> 0.000000    </td><td>11.428571    </td><td> 6.976744    </td><td> 9.947644    </td><td> 5.828221    </td><td> 7.761733    </td><td>⋯            </td><td>11.715481    </td><td>17.5         </td><td>20.1550388   </td><td>25.301205    </td><td>13.793103    </td><td>18.750       </td><td> 4.545455    </td><td>10           </td><td>20           </td><td>20           </td></tr>\n",
       "</tbody>\n",
       "</table>\n"
      ],
      "text/latex": [
       "\\begin{tabular}{r|llllllllllllllllllllllllllllllllllllllllllllllllllllllllllllllllllllllllllllllllllllllllllllllllllllll}\n",
       " gene\\_tr.idx & celltype & 1 & 2 & 3 & 4 & 5 & 6 & 7 & 8 & ⋯ & 91 & 92 & 93 & 94 & 95 & 96 & 97 & 98 & 99 & 100\\\\\n",
       "\\hline\n",
       "\t ZP1\\_3476      & beta            &  0              &  0              &  0.000000       &  2.857143       &  4.651163       &  7.329843       &  5.521472       &  4.873646       & ⋯               &  2.092050       &  0.5            &  2.3255814      &  1.204819       &  1.724138       &  0.000          &  0.000000       &  0              &  0              &  0             \\\\\n",
       "\t ZPBP\\_19225    & beta            &  0              &  0              &  0.000000       &  0.000000       &  3.488372       &  2.094241       &  3.067485       &  3.068592       & ⋯               &  1.673640       &  0.5            &  0.7751938      &  0.000000       &  0.000000       &  0.000          &  0.000000       &  0              &  0              &  0             \\\\\n",
       "\t ZSCAN21\\_19522 & beta            & 50              &  0              &  0.000000       &  2.857143       &  5.813953       &  3.664921       &  3.374233       &  2.527076       & ⋯               &  5.020921       &  7.0            &  6.9767442      &  4.819277       &  8.620690       &  9.375          & 18.181818       & 10              & 20              &  0             \\\\\n",
       "\t ZSCAN31\\_17964 & beta            & 50              &  0              &  6.666667       &  8.571429       & 10.465116       & 11.518325       &  8.282209       &  6.498195       & ⋯               & 14.225941       & 14.0            & 16.2790698      & 10.843373       & 20.689655       & 18.750          & 27.272727       & 10              & 40              & 20             \\\\\n",
       "\t ZSWIM2\\_12697  & beta            &  0              & 50              & 46.666667       & 45.714286       & 23.255814       & 24.607330       & 23.619632       & 15.703971       & ⋯               &  7.949791       & 10.0            &  3.8759690      &  6.024096       &  8.620690       &  3.125          &  9.090909       &  0              & 20              &  0             \\\\\n",
       "\t ZSWIM5\\_707    & beta            &  0              &  0              &  0.000000       & 11.428571       &  6.976744       &  9.947644       &  5.828221       &  7.761733       & ⋯               & 11.715481       & 17.5            & 20.1550388      & 25.301205       & 13.793103       & 18.750          &  4.545455       & 10              & 20              & 20             \\\\\n",
       "\\end{tabular}\n"
      ],
      "text/markdown": [
       "\n",
       "gene_tr.idx | celltype | 1 | 2 | 3 | 4 | 5 | 6 | 7 | 8 | ⋯ | 91 | 92 | 93 | 94 | 95 | 96 | 97 | 98 | 99 | 100 | \n",
       "|---|---|---|---|---|---|\n",
       "| ZP1_3476      | beta          |  0            |  0            |  0.000000     |  2.857143     |  4.651163     |  7.329843     |  5.521472     |  4.873646     | ⋯             |  2.092050     |  0.5          |  2.3255814    |  1.204819     |  1.724138     |  0.000        |  0.000000     |  0            |  0            |  0            | \n",
       "| ZPBP_19225    | beta          |  0            |  0            |  0.000000     |  0.000000     |  3.488372     |  2.094241     |  3.067485     |  3.068592     | ⋯             |  1.673640     |  0.5          |  0.7751938    |  0.000000     |  0.000000     |  0.000        |  0.000000     |  0            |  0            |  0            | \n",
       "| ZSCAN21_19522 | beta          | 50            |  0            |  0.000000     |  2.857143     |  5.813953     |  3.664921     |  3.374233     |  2.527076     | ⋯             |  5.020921     |  7.0          |  6.9767442    |  4.819277     |  8.620690     |  9.375        | 18.181818     | 10            | 20            |  0            | \n",
       "| ZSCAN31_17964 | beta          | 50            |  0            |  6.666667     |  8.571429     | 10.465116     | 11.518325     |  8.282209     |  6.498195     | ⋯             | 14.225941     | 14.0          | 16.2790698    | 10.843373     | 20.689655     | 18.750        | 27.272727     | 10            | 40            | 20            | \n",
       "| ZSWIM2_12697  | beta          |  0            | 50            | 46.666667     | 45.714286     | 23.255814     | 24.607330     | 23.619632     | 15.703971     | ⋯             |  7.949791     | 10.0          |  3.8759690    |  6.024096     |  8.620690     |  3.125        |  9.090909     |  0            | 20            |  0            | \n",
       "| ZSWIM5_707    | beta          |  0            |  0            |  0.000000     | 11.428571     |  6.976744     |  9.947644     |  5.828221     |  7.761733     | ⋯             | 11.715481     | 17.5          | 20.1550388    | 25.301205     | 13.793103     | 18.750        |  4.545455     | 10            | 20            | 20            | \n",
       "\n",
       "\n"
      ],
      "text/plain": [
       "  gene_tr.idx   celltype 1  2  3         4         5         6        \n",
       "1 ZP1_3476      beta      0  0  0.000000  2.857143  4.651163  7.329843\n",
       "2 ZPBP_19225    beta      0  0  0.000000  0.000000  3.488372  2.094241\n",
       "3 ZSCAN21_19522 beta     50  0  0.000000  2.857143  5.813953  3.664921\n",
       "4 ZSCAN31_17964 beta     50  0  6.666667  8.571429 10.465116 11.518325\n",
       "5 ZSWIM2_12697  beta      0 50 46.666667 45.714286 23.255814 24.607330\n",
       "6 ZSWIM5_707    beta      0  0  0.000000 11.428571  6.976744  9.947644\n",
       "  7         8         ⋯ 91        92   93         94        95        96    \n",
       "1  5.521472  4.873646 ⋯  2.092050  0.5  2.3255814  1.204819  1.724138  0.000\n",
       "2  3.067485  3.068592 ⋯  1.673640  0.5  0.7751938  0.000000  0.000000  0.000\n",
       "3  3.374233  2.527076 ⋯  5.020921  7.0  6.9767442  4.819277  8.620690  9.375\n",
       "4  8.282209  6.498195 ⋯ 14.225941 14.0 16.2790698 10.843373 20.689655 18.750\n",
       "5 23.619632 15.703971 ⋯  7.949791 10.0  3.8759690  6.024096  8.620690  3.125\n",
       "6  5.828221  7.761733 ⋯ 11.715481 17.5 20.1550388 25.301205 13.793103 18.750\n",
       "  97        98 99 100\n",
       "1  0.000000  0  0  0 \n",
       "2  0.000000  0  0  0 \n",
       "3 18.181818 10 20  0 \n",
       "4 27.272727 10 40 20 \n",
       "5  9.090909  0 20  0 \n",
       "6  4.545455 10 20 20 "
      ]
     },
     "metadata": {},
     "output_type": "display_data"
    }
   ],
   "source": [
    "tail(tmp.a)"
   ]
  },
  {
   "cell_type": "code",
   "execution_count": null,
   "metadata": {},
   "outputs": [],
   "source": []
  },
  {
   "cell_type": "markdown",
   "metadata": {},
   "source": [
    "### 4.2 data smooth"
   ]
  },
  {
   "cell_type": "code",
   "execution_count": null,
   "metadata": {},
   "outputs": [],
   "source": [
    "dat.prom.DEGs <- semi_join(dat.prom.filtered,prom.DEG.res,by=c(\"gene\",\"celltype\"))\n",
    "ct <- \"alpha\"\n",
    "system.time(dat.prom.DEGs.ct <- mclapply(unique(subset(dat.prom.DEGs,celltype==ct)$gene),\n",
    "                           function(g){data.frame(bin=1:100,\n",
    "                                                  gene=g,\n",
    "                                                  percent=predict(loess(percent~bin, data=dat.prom.DEGs%>%filter(gene==g & celltype==ct))),\n",
    "                                                  celltype=ct)},mc.cores=10))"
   ]
  }
 ],
 "metadata": {
  "kernelspec": {
   "display_name": "R",
   "language": "R",
   "name": "ir"
  },
  "language_info": {
   "codemirror_mode": "r",
   "file_extension": ".r",
   "mimetype": "text/x-r-source",
   "name": "R",
   "pygments_lexer": "r",
   "version": "3.5.1"
  }
 },
 "nbformat": 4,
 "nbformat_minor": 2
}
