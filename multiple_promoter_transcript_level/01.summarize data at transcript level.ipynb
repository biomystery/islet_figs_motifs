{
 "cells": [
  {
   "cell_type": "markdown",
   "metadata": {},
   "source": [
    "## 1. Data manipulate\n",
    "\n",
    "The goal is to add a `transcript` column into overlap res. Each `transcript` has a unique `tss`. \n",
    "\n",
    "- use [foverlap](https://www.rdocumentation.org/packages/data.table/versions/1.11.8/topics/foverlaps) function to get `peak` overlapping with `TSS` regions.  "
   ]
  },
  {
   "cell_type": "markdown",
   "metadata": {},
   "source": [
    "### 1.1 load all transcripts"
   ]
  },
  {
   "cell_type": "code",
   "execution_count": 3,
   "metadata": {},
   "outputs": [],
   "source": [
    "require(data.table)\n",
    "require(tidyverse)"
   ]
  },
  {
   "cell_type": "code",
   "execution_count": 3,
   "metadata": {},
   "outputs": [
    {
     "data": {
      "text/html": [
       "<table>\n",
       "<caption>A data.table: 1 × 4</caption>\n",
       "<thead>\n",
       "\t<tr><th scope=col>seq</th><th scope=col>start</th><th scope=col>end</th><th scope=col>gene</th></tr>\n",
       "\t<tr><th scope=col>&lt;chr&gt;</th><th scope=col>&lt;int&gt;</th><th scope=col>&lt;int&gt;</th><th scope=col>&lt;chr&gt;</th></tr>\n",
       "</thead>\n",
       "<tbody>\n",
       "\t<tr><td>chr1</td><td>68591</td><td>69591</td><td>OR4F5</td></tr>\n",
       "</tbody>\n",
       "</table>\n"
      ],
      "text/latex": [
       "A data.table: 1 × 4\n",
       "\\begin{tabular}{r|llll}\n",
       " seq & start & end & gene\\\\\n",
       " <chr> & <int> & <int> & <chr>\\\\\n",
       "\\hline\n",
       "\t chr1 & 68591 & 69591 & OR4F5\\\\\n",
       "\\end{tabular}\n"
      ],
      "text/markdown": [
       "\n",
       "A data.table: 1 × 4\n",
       "\n",
       "| seq &lt;chr&gt; | start &lt;int&gt; | end &lt;int&gt; | gene &lt;chr&gt; |\n",
       "|---|---|---|---|\n",
       "| chr1 | 68591 | 69591 | OR4F5 |\n",
       "\n"
      ],
      "text/plain": [
       "  seq  start end   gene \n",
       "1 chr1 68591 69591 OR4F5"
      ]
     },
     "metadata": {},
     "output_type": "display_data"
    },
    {
     "data": {
      "text/html": [
       "<table>\n",
       "<caption>A data.table: 1 × 4</caption>\n",
       "<thead>\n",
       "\t<tr><th scope=col>seq</th><th scope=col>start</th><th scope=col>end</th><th scope=col>gene</th></tr>\n",
       "\t<tr><th scope=col>&lt;chr&gt;</th><th scope=col>&lt;int&gt;</th><th scope=col>&lt;int&gt;</th><th scope=col>&lt;chr&gt;</th></tr>\n",
       "</thead>\n",
       "<tbody>\n",
       "\t<tr><td>chrY</td><td>59329877</td><td>59330877</td><td>IL9R</td></tr>\n",
       "</tbody>\n",
       "</table>\n"
      ],
      "text/latex": [
       "A data.table: 1 × 4\n",
       "\\begin{tabular}{r|llll}\n",
       " seq & start & end & gene\\\\\n",
       " <chr> & <int> & <int> & <chr>\\\\\n",
       "\\hline\n",
       "\t chrY & 59329877 & 59330877 & IL9R\\\\\n",
       "\\end{tabular}\n"
      ],
      "text/markdown": [
       "\n",
       "A data.table: 1 × 4\n",
       "\n",
       "| seq &lt;chr&gt; | start &lt;int&gt; | end &lt;int&gt; | gene &lt;chr&gt; |\n",
       "|---|---|---|---|\n",
       "| chrY | 59329877 | 59330877 | IL9R |\n",
       "\n"
      ],
      "text/plain": [
       "  seq  start    end      gene\n",
       "1 chrY 59329877 59330877 IL9R"
      ]
     },
     "metadata": {},
     "output_type": "display_data"
    },
    {
     "data": {
      "text/html": [
       "<ol class=list-inline>\n",
       "\t<li>81814</li>\n",
       "\t<li>4</li>\n",
       "</ol>\n"
      ],
      "text/latex": [
       "\\begin{enumerate*}\n",
       "\\item 81814\n",
       "\\item 4\n",
       "\\end{enumerate*}\n"
      ],
      "text/markdown": [
       "1. 81814\n",
       "2. 4\n",
       "\n",
       "\n"
      ],
      "text/plain": [
       "[1] 81814     4"
      ]
     },
     "metadata": {},
     "output_type": "display_data"
    }
   ],
   "source": [
    "\n",
    "#require(rtracklayer)\n",
    "\n",
    "all.transcript <- fread('../dat/1910_v2/gencode.v19.1kb_all_possible_transcripts.bed',\n",
    "                       col.names=c(\"seq\",'start','end','gene'))\n",
    "setkey(all.transcript,seq,start,end) # this step changed order \n",
    "all.transcript%>%head(1)\n",
    "all.transcript%>%tail(1)\n",
    "dim(all.transcript)"
   ]
  },
  {
   "cell_type": "code",
   "execution_count": 4,
   "metadata": {
    "scrolled": true
   },
   "outputs": [
    {
     "name": "stdout",
     "output_type": "stream",
     "text": [
      "chrM\t14247\t15247\tMT-CYB"
     ]
    }
   ],
   "source": [
    "system('tail -n1 ../dat/1910_v2/gencode.v19.1kb_all_possible_transcripts.bed',intern = T)%>%cat"
   ]
  },
  {
   "cell_type": "markdown",
   "metadata": {},
   "source": [
    "**fread changed order of rows (reordered based on seq) !!!**\n",
    "- because set key "
   ]
  },
  {
   "cell_type": "code",
   "execution_count": 4,
   "metadata": {},
   "outputs": [],
   "source": [
    "saveRDS(all.transcript,'../dat/1910_v2/gencode.v19.1kb_all_possible_transcripts.Rds')"
   ]
  },
  {
   "cell_type": "code",
   "execution_count": 3,
   "metadata": {},
   "outputs": [],
   "source": [
    "all.transcript<- readRDS('../dat/1910_v2/gencode.v19.1kb_all_possible_transcripts.Rds')"
   ]
  },
  {
   "cell_type": "code",
   "execution_count": 5,
   "metadata": {},
   "outputs": [
    {
     "data": {
      "text/html": [
       "<table>\n",
       "<caption>A data.table: 1 × 4</caption>\n",
       "<thead>\n",
       "\t<tr><th scope=col>seq</th><th scope=col>start</th><th scope=col>end</th><th scope=col>gene</th></tr>\n",
       "\t<tr><th scope=col>&lt;chr&gt;</th><th scope=col>&lt;int&gt;</th><th scope=col>&lt;int&gt;</th><th scope=col>&lt;chr&gt;</th></tr>\n",
       "</thead>\n",
       "<tbody>\n",
       "\t<tr><td>chr1</td><td>68591</td><td>69591</td><td>OR4F5</td></tr>\n",
       "</tbody>\n",
       "</table>\n"
      ],
      "text/latex": [
       "A data.table: 1 × 4\n",
       "\\begin{tabular}{r|llll}\n",
       " seq & start & end & gene\\\\\n",
       " <chr> & <int> & <int> & <chr>\\\\\n",
       "\\hline\n",
       "\t chr1 & 68591 & 69591 & OR4F5\\\\\n",
       "\\end{tabular}\n"
      ],
      "text/markdown": [
       "\n",
       "A data.table: 1 × 4\n",
       "\n",
       "| seq &lt;chr&gt; | start &lt;int&gt; | end &lt;int&gt; | gene &lt;chr&gt; |\n",
       "|---|---|---|---|\n",
       "| chr1 | 68591 | 69591 | OR4F5 |\n",
       "\n"
      ],
      "text/plain": [
       "  seq  start end   gene \n",
       "1 chr1 68591 69591 OR4F5"
      ]
     },
     "metadata": {},
     "output_type": "display_data"
    },
    {
     "data": {
      "text/html": [
       "<table>\n",
       "<caption>A data.table: 1 × 4</caption>\n",
       "<thead>\n",
       "\t<tr><th scope=col>seq</th><th scope=col>start</th><th scope=col>end</th><th scope=col>gene</th></tr>\n",
       "\t<tr><th scope=col>&lt;chr&gt;</th><th scope=col>&lt;int&gt;</th><th scope=col>&lt;int&gt;</th><th scope=col>&lt;chr&gt;</th></tr>\n",
       "</thead>\n",
       "<tbody>\n",
       "\t<tr><td>chrY</td><td>59329877</td><td>59330877</td><td>IL9R</td></tr>\n",
       "</tbody>\n",
       "</table>\n"
      ],
      "text/latex": [
       "A data.table: 1 × 4\n",
       "\\begin{tabular}{r|llll}\n",
       " seq & start & end & gene\\\\\n",
       " <chr> & <int> & <int> & <chr>\\\\\n",
       "\\hline\n",
       "\t chrY & 59329877 & 59330877 & IL9R\\\\\n",
       "\\end{tabular}\n"
      ],
      "text/markdown": [
       "\n",
       "A data.table: 1 × 4\n",
       "\n",
       "| seq &lt;chr&gt; | start &lt;int&gt; | end &lt;int&gt; | gene &lt;chr&gt; |\n",
       "|---|---|---|---|\n",
       "| chrY | 59329877 | 59330877 | IL9R |\n",
       "\n"
      ],
      "text/plain": [
       "  seq  start    end      gene\n",
       "1 chrY 59329877 59330877 IL9R"
      ]
     },
     "metadata": {},
     "output_type": "display_data"
    }
   ],
   "source": [
    "all.transcript%>%head(1)\n",
    "all.transcript%>%tail(1)"
   ]
  },
  {
   "cell_type": "code",
   "execution_count": 6,
   "metadata": {},
   "outputs": [
    {
     "data": {
      "text/html": [
       "<table>\n",
       "<caption>A data.table: 1 × 5</caption>\n",
       "<thead>\n",
       "\t<tr><th scope=col>tr.idx</th><th scope=col>seq</th><th scope=col>start</th><th scope=col>end</th><th scope=col>gene</th></tr>\n",
       "\t<tr><th scope=col>&lt;int&gt;</th><th scope=col>&lt;chr&gt;</th><th scope=col>&lt;int&gt;</th><th scope=col>&lt;int&gt;</th><th scope=col>&lt;chr&gt;</th></tr>\n",
       "</thead>\n",
       "<tbody>\n",
       "\t<tr><td>81814</td><td>chrY</td><td>59329877</td><td>59330877</td><td>IL9R</td></tr>\n",
       "</tbody>\n",
       "</table>\n"
      ],
      "text/latex": [
       "A data.table: 1 × 5\n",
       "\\begin{tabular}{r|lllll}\n",
       " tr.idx & seq & start & end & gene\\\\\n",
       " <int> & <chr> & <int> & <int> & <chr>\\\\\n",
       "\\hline\n",
       "\t 81814 & chrY & 59329877 & 59330877 & IL9R\\\\\n",
       "\\end{tabular}\n"
      ],
      "text/markdown": [
       "\n",
       "A data.table: 1 × 5\n",
       "\n",
       "| tr.idx &lt;int&gt; | seq &lt;chr&gt; | start &lt;int&gt; | end &lt;int&gt; | gene &lt;chr&gt; |\n",
       "|---|---|---|---|---|\n",
       "| 81814 | chrY | 59329877 | 59330877 | IL9R |\n",
       "\n"
      ],
      "text/plain": [
       "  tr.idx seq  start    end      gene\n",
       "1 81814  chrY 59329877 59330877 IL9R"
      ]
     },
     "metadata": {},
     "output_type": "display_data"
    }
   ],
   "source": [
    "all.transcript%>% rowid_to_column(\"tr.idx\")%>%tail(1)"
   ]
  },
  {
   "cell_type": "markdown",
   "metadata": {},
   "source": [
    "### 1.2 foverlap peaks/reads with TSS "
   ]
  },
  {
   "cell_type": "code",
   "execution_count": 7,
   "metadata": {},
   "outputs": [
    {
     "data": {
      "text/html": [
       "<table>\n",
       "<caption>A data.table: 1 × 5</caption>\n",
       "<thead>\n",
       "\t<tr><th scope=col>seq</th><th scope=col>start</th><th scope=col>end</th><th scope=col>cell</th><th scope=col>value</th></tr>\n",
       "\t<tr><th scope=col>&lt;chr&gt;</th><th scope=col>&lt;int&gt;</th><th scope=col>&lt;int&gt;</th><th scope=col>&lt;chr&gt;</th><th scope=col>&lt;int&gt;</th></tr>\n",
       "</thead>\n",
       "<tbody>\n",
       "\t<tr><td>chr10</td><td>100005281</td><td>100005858</td><td>Islet1fresh_AGACACCTCGATCAGTACTGCATAGGCTC</td><td>2</td></tr>\n",
       "</tbody>\n",
       "</table>\n"
      ],
      "text/latex": [
       "A data.table: 1 × 5\n",
       "\\begin{tabular}{r|lllll}\n",
       " seq & start & end & cell & value\\\\\n",
       " <chr> & <int> & <int> & <chr> & <int>\\\\\n",
       "\\hline\n",
       "\t chr10 & 100005281 & 100005858 & Islet1fresh\\_AGACACCTCGATCAGTACTGCATAGGCTC & 2\\\\\n",
       "\\end{tabular}\n"
      ],
      "text/markdown": [
       "\n",
       "A data.table: 1 × 5\n",
       "\n",
       "| seq &lt;chr&gt; | start &lt;int&gt; | end &lt;int&gt; | cell &lt;chr&gt; | value &lt;int&gt; |\n",
       "|---|---|---|---|---|\n",
       "| chr10 | 100005281 | 100005858 | Islet1fresh_AGACACCTCGATCAGTACTGCATAGGCTC | 2 |\n",
       "\n"
      ],
      "text/plain": [
       "  seq   start     end       cell                                      value\n",
       "1 chr10 100005281 100005858 Islet1fresh_AGACACCTCGATCAGTACTGCATAGGCTC 2    "
      ]
     },
     "metadata": {},
     "output_type": "display_data"
    },
    {
     "data": {
      "text/html": [
       "<ol class=list-inline>\n",
       "\t<li>43623133</li>\n",
       "\t<li>5</li>\n",
       "</ol>\n"
      ],
      "text/latex": [
       "\\begin{enumerate*}\n",
       "\\item 43623133\n",
       "\\item 5\n",
       "\\end{enumerate*}\n"
      ],
      "text/markdown": [
       "1. 43623133\n",
       "2. 5\n",
       "\n",
       "\n"
      ],
      "text/plain": [
       "[1] 43623133        5"
      ]
     },
     "metadata": {},
     "output_type": "display_data"
    }
   ],
   "source": [
    "overlap.res <- fread('gzcat ../dat/1910_v2/islet.lf_mtx.gz')%>%\n",
    "    separate(peak,into = c(\"seq\",\"start\",\"end\"),sep = \":|-\")%>%\n",
    "    mutate(seq=paste0('chr',seq))\n",
    "setDT(overlap.res)\n",
    "overlap.res <-overlap.res[,c(\"start\",\"end\"):=lapply(.SD, as.integer), .SDcols = c(\"start\",\"end\")]\n",
    "head(overlap.res,1)\n",
    "dim(overlap.res)"
   ]
  },
  {
   "cell_type": "markdown",
   "metadata": {
    "heading_collapsed": true
   },
   "source": [
    "####  foverlap only return first match tr and get dist vs prom peaks"
   ]
  },
  {
   "cell_type": "code",
   "execution_count": 13,
   "metadata": {
    "hidden": true
   },
   "outputs": [
    {
     "data": {
      "text/html": [
       "<ol class=list-inline>\n",
       "\t<li>7</li>\n",
       "\t<li>81744</li>\n",
       "</ol>\n"
      ],
      "text/latex": [
       "\\begin{enumerate*}\n",
       "\\item 7\n",
       "\\item 81744\n",
       "\\end{enumerate*}\n"
      ],
      "text/markdown": [
       "1. 7\n",
       "2. 81744\n",
       "\n",
       "\n"
      ],
      "text/plain": [
       "[1]     7 81744"
      ]
     },
     "metadata": {},
     "output_type": "display_data"
    }
   ],
   "source": [
    "foverlap.res <- data.table::foverlaps(x = overlap.res,y = all.transcript,\n",
    "                 type=\"any\", which=T,mult=\"first\") #only choose 1st overlap\n",
    "range(foverlap.res,na.rm = T)"
   ]
  },
  {
   "cell_type": "code",
   "execution_count": 10,
   "metadata": {
    "hidden": true
   },
   "outputs": [
    {
     "data": {
      "text/html": [
       "18758757"
      ],
      "text/latex": [
       "18758757"
      ],
      "text/markdown": [
       "18758757"
      ],
      "text/plain": [
       "[1] 18758757"
      ]
     },
     "metadata": {},
     "output_type": "display_data"
    },
    {
     "data": {
      "text/html": [
       "24864376"
      ],
      "text/latex": [
       "24864376"
      ],
      "text/markdown": [
       "24864376"
      ],
      "text/plain": [
       "[1] 24864376"
      ]
     },
     "metadata": {},
     "output_type": "display_data"
    },
    {
     "data": {
      "text/html": [
       "43623133"
      ],
      "text/latex": [
       "43623133"
      ],
      "text/markdown": [
       "43623133"
      ],
      "text/plain": [
       "[1] 43623133"
      ]
     },
     "metadata": {},
     "output_type": "display_data"
    }
   ],
   "source": [
    "sum(!is.na(foverlap.res))\n",
    "sum(is.na(foverlap.res))\n",
    "sum(!is.na(foverlap.res))+sum(is.na(foverlap.res)) "
   ]
  },
  {
   "cell_type": "code",
   "execution_count": 16,
   "metadata": {
    "hidden": true
   },
   "outputs": [
    {
     "data": {
      "text/html": [
       "<table>\n",
       "<thead><tr><th scope=col>seq.x</th><th scope=col>start.x</th><th scope=col>end.x</th><th scope=col>cell</th><th scope=col>value</th><th scope=col>tr.idx</th><th scope=col>seq.y</th><th scope=col>start.y</th><th scope=col>end.y</th><th scope=col>gene</th></tr></thead>\n",
       "<tbody>\n",
       "\t<tr><td>chr10                                    </td><td>100027284                                </td><td>100028604                                </td><td>Islet1fresh_AGACACCTAAGAGGCAGCGTAAGAAGGCG</td><td>2                                        </td><td>9209                                     </td><td>chr10                                    </td><td>100027507                                </td><td>100028507                                </td><td>LOXL4                                    </td></tr>\n",
       "\t<tr><td>chr10                                    </td><td>100027284                                </td><td>100028604                                </td><td>Islet1fresh_AGACACCTACTCGCTAGTAAGGAGCAGGA</td><td>2                                        </td><td>9209                                     </td><td>chr10                                    </td><td>100027507                                </td><td>100028507                                </td><td>LOXL4                                    </td></tr>\n",
       "\t<tr><td>chr10                                    </td><td>100027284                                </td><td>100028604                                </td><td>Islet1fresh_AGACACCTACTGAGCGATCTGAGTGTACT</td><td>2                                        </td><td>9209                                     </td><td>chr10                                    </td><td>100027507                                </td><td>100028507                                </td><td>LOXL4                                    </td></tr>\n",
       "\t<tr><td>chr10                                    </td><td>100027284                                </td><td>100028604                                </td><td>Islet1fresh_AGACACCTATCTCAGGTATCCTCTCCTAT</td><td>2                                        </td><td>9209                                     </td><td>chr10                                    </td><td>100027507                                </td><td>100028507                                </td><td>LOXL4                                    </td></tr>\n",
       "\t<tr><td>chr10                                    </td><td>100027284                                </td><td>100028604                                </td><td>Islet1fresh_AGACACCTATGCGCAGAAGGAGTAGTACT</td><td>1                                        </td><td>9209                                     </td><td>chr10                                    </td><td>100027507                                </td><td>100028507                                </td><td>LOXL4                                    </td></tr>\n",
       "\t<tr><td>chr10                                    </td><td>100027284                                </td><td>100028604                                </td><td>Islet1fresh_AGACACCTCGAGGCTGCTCTCTATGGTTG</td><td>2                                        </td><td>9209                                     </td><td>chr10                                    </td><td>100027507                                </td><td>100028507                                </td><td>LOXL4                                    </td></tr>\n",
       "</tbody>\n",
       "</table>\n"
      ],
      "text/latex": [
       "\\begin{tabular}{r|llllllllll}\n",
       " seq.x & start.x & end.x & cell & value & tr.idx & seq.y & start.y & end.y & gene\\\\\n",
       "\\hline\n",
       "\t chr10                                       & 100027284                                   & 100028604                                   & Islet1fresh\\_AGACACCTAAGAGGCAGCGTAAGAAGGCG & 2                                           & 9209                                        & chr10                                       & 100027507                                   & 100028507                                   & LOXL4                                      \\\\\n",
       "\t chr10                                       & 100027284                                   & 100028604                                   & Islet1fresh\\_AGACACCTACTCGCTAGTAAGGAGCAGGA & 2                                           & 9209                                        & chr10                                       & 100027507                                   & 100028507                                   & LOXL4                                      \\\\\n",
       "\t chr10                                       & 100027284                                   & 100028604                                   & Islet1fresh\\_AGACACCTACTGAGCGATCTGAGTGTACT & 2                                           & 9209                                        & chr10                                       & 100027507                                   & 100028507                                   & LOXL4                                      \\\\\n",
       "\t chr10                                       & 100027284                                   & 100028604                                   & Islet1fresh\\_AGACACCTATCTCAGGTATCCTCTCCTAT & 2                                           & 9209                                        & chr10                                       & 100027507                                   & 100028507                                   & LOXL4                                      \\\\\n",
       "\t chr10                                       & 100027284                                   & 100028604                                   & Islet1fresh\\_AGACACCTATGCGCAGAAGGAGTAGTACT & 1                                           & 9209                                        & chr10                                       & 100027507                                   & 100028507                                   & LOXL4                                      \\\\\n",
       "\t chr10                                       & 100027284                                   & 100028604                                   & Islet1fresh\\_AGACACCTCGAGGCTGCTCTCTATGGTTG & 2                                           & 9209                                        & chr10                                       & 100027507                                   & 100028507                                   & LOXL4                                      \\\\\n",
       "\\end{tabular}\n"
      ],
      "text/markdown": [
       "\n",
       "seq.x | start.x | end.x | cell | value | tr.idx | seq.y | start.y | end.y | gene | \n",
       "|---|---|---|---|---|---|\n",
       "| chr10                                     | 100027284                                 | 100028604                                 | Islet1fresh_AGACACCTAAGAGGCAGCGTAAGAAGGCG | 2                                         | 9209                                      | chr10                                     | 100027507                                 | 100028507                                 | LOXL4                                     | \n",
       "| chr10                                     | 100027284                                 | 100028604                                 | Islet1fresh_AGACACCTACTCGCTAGTAAGGAGCAGGA | 2                                         | 9209                                      | chr10                                     | 100027507                                 | 100028507                                 | LOXL4                                     | \n",
       "| chr10                                     | 100027284                                 | 100028604                                 | Islet1fresh_AGACACCTACTGAGCGATCTGAGTGTACT | 2                                         | 9209                                      | chr10                                     | 100027507                                 | 100028507                                 | LOXL4                                     | \n",
       "| chr10                                     | 100027284                                 | 100028604                                 | Islet1fresh_AGACACCTATCTCAGGTATCCTCTCCTAT | 2                                         | 9209                                      | chr10                                     | 100027507                                 | 100028507                                 | LOXL4                                     | \n",
       "| chr10                                     | 100027284                                 | 100028604                                 | Islet1fresh_AGACACCTATGCGCAGAAGGAGTAGTACT | 1                                         | 9209                                      | chr10                                     | 100027507                                 | 100028507                                 | LOXL4                                     | \n",
       "| chr10                                     | 100027284                                 | 100028604                                 | Islet1fresh_AGACACCTCGAGGCTGCTCTCTATGGTTG | 2                                         | 9209                                      | chr10                                     | 100027507                                 | 100028507                                 | LOXL4                                     | \n",
       "\n",
       "\n"
      ],
      "text/plain": [
       "  seq.x start.x   end.x     cell                                      value\n",
       "1 chr10 100027284 100028604 Islet1fresh_AGACACCTAAGAGGCAGCGTAAGAAGGCG 2    \n",
       "2 chr10 100027284 100028604 Islet1fresh_AGACACCTACTCGCTAGTAAGGAGCAGGA 2    \n",
       "3 chr10 100027284 100028604 Islet1fresh_AGACACCTACTGAGCGATCTGAGTGTACT 2    \n",
       "4 chr10 100027284 100028604 Islet1fresh_AGACACCTATCTCAGGTATCCTCTCCTAT 2    \n",
       "5 chr10 100027284 100028604 Islet1fresh_AGACACCTATGCGCAGAAGGAGTAGTACT 1    \n",
       "6 chr10 100027284 100028604 Islet1fresh_AGACACCTCGAGGCTGCTCTCTATGGTTG 2    \n",
       "  tr.idx seq.y start.y   end.y     gene \n",
       "1 9209   chr10 100027507 100028507 LOXL4\n",
       "2 9209   chr10 100027507 100028507 LOXL4\n",
       "3 9209   chr10 100027507 100028507 LOXL4\n",
       "4 9209   chr10 100027507 100028507 LOXL4\n",
       "5 9209   chr10 100027507 100028507 LOXL4\n",
       "6 9209   chr10 100027507 100028507 LOXL4"
      ]
     },
     "metadata": {},
     "output_type": "display_data"
    }
   ],
   "source": [
    "overlap.res %>% mutate(tr.idx = foverlap.res) %>% left_join(all.transcript %>% \n",
    "    rowid_to_column(\"tr.idx\"),by='tr.idx')%>%filter(!is.na(tr.idx))%>%head()"
   ]
  },
  {
   "cell_type": "code",
   "execution_count": 18,
   "metadata": {
    "hidden": true
   },
   "outputs": [
    {
     "data": {
      "text/html": [
       "<table>\n",
       "<thead><tr><th scope=col>seq</th><th scope=col>start</th><th scope=col>end</th><th scope=col>cell</th><th scope=col>value</th><th scope=col>tr.idx</th><th scope=col>gene</th></tr></thead>\n",
       "<tbody>\n",
       "\t<tr><td>chr10                                    </td><td>100005281                                </td><td>100005858                                </td><td>Islet1fresh_AGACACCTCGATCAGTACTGCATAGGCTC</td><td>2                                        </td><td>NA                                       </td><td>NA                                       </td></tr>\n",
       "</tbody>\n",
       "</table>\n"
      ],
      "text/latex": [
       "\\begin{tabular}{r|lllllll}\n",
       " seq & start & end & cell & value & tr.idx & gene\\\\\n",
       "\\hline\n",
       "\t chr10                                       & 100005281                                   & 100005858                                   & Islet1fresh\\_AGACACCTCGATCAGTACTGCATAGGCTC & 2                                           & NA                                          & NA                                         \\\\\n",
       "\\end{tabular}\n"
      ],
      "text/markdown": [
       "\n",
       "seq | start | end | cell | value | tr.idx | gene | \n",
       "|---|\n",
       "| chr10                                     | 100005281                                 | 100005858                                 | Islet1fresh_AGACACCTCGATCAGTACTGCATAGGCTC | 2                                         | NA                                        | NA                                        | \n",
       "\n",
       "\n"
      ],
      "text/plain": [
       "  seq   start     end       cell                                      value\n",
       "1 chr10 100005281 100005858 Islet1fresh_AGACACCTCGATCAGTACTGCATAGGCTC 2    \n",
       "  tr.idx gene\n",
       "1 NA     NA  "
      ]
     },
     "metadata": {},
     "output_type": "display_data"
    },
    {
     "data": {
      "text/html": [
       "<ol class=list-inline>\n",
       "\t<li>43623133</li>\n",
       "\t<li>7</li>\n",
       "</ol>\n"
      ],
      "text/latex": [
       "\\begin{enumerate*}\n",
       "\\item 43623133\n",
       "\\item 7\n",
       "\\end{enumerate*}\n"
      ],
      "text/markdown": [
       "1. 43623133\n",
       "2. 7\n",
       "\n",
       "\n"
      ],
      "text/plain": [
       "[1] 43623133        7"
      ]
     },
     "metadata": {},
     "output_type": "display_data"
    }
   ],
   "source": [
    "overlap.res <- overlap.res %>% mutate(tr.idx = foverlap.res) %>% left_join(all.transcript %>% \n",
    "    rowid_to_column(\"tr.idx\") %>% select(tr.idx, gene), by = \"tr.idx\")\n",
    "head(overlap.res, 1)\n",
    "dim(overlap.res)"
   ]
  },
  {
   "cell_type": "markdown",
   "metadata": {},
   "source": [
    "#### foverlap return all matched trs and get prom_peak-tr dic"
   ]
  },
  {
   "cell_type": "code",
   "execution_count": 14,
   "metadata": {},
   "outputs": [
    {
     "data": {
      "text/html": [
       "<table>\n",
       "<caption>A data.table: 5 × 2</caption>\n",
       "<thead>\n",
       "\t<tr><th scope=col>xid</th><th scope=col>yid</th></tr>\n",
       "\t<tr><th scope=col>&lt;int&gt;</th><th scope=col>&lt;int&gt;</th></tr>\n",
       "</thead>\n",
       "<tbody>\n",
       "\t<tr><td>1</td><td>NA</td></tr>\n",
       "\t<tr><td>2</td><td>NA</td></tr>\n",
       "\t<tr><td>3</td><td>NA</td></tr>\n",
       "\t<tr><td>4</td><td>NA</td></tr>\n",
       "\t<tr><td>5</td><td>NA</td></tr>\n",
       "</tbody>\n",
       "</table>\n"
      ],
      "text/latex": [
       "A data.table: 5 × 2\n",
       "\\begin{tabular}{r|ll}\n",
       " xid & yid\\\\\n",
       " <int> & <int>\\\\\n",
       "\\hline\n",
       "\t 1 & NA\\\\\n",
       "\t 2 & NA\\\\\n",
       "\t 3 & NA\\\\\n",
       "\t 4 & NA\\\\\n",
       "\t 5 & NA\\\\\n",
       "\\end{tabular}\n"
      ],
      "text/markdown": [
       "\n",
       "A data.table: 5 × 2\n",
       "\n",
       "| xid &lt;int&gt; | yid &lt;int&gt; |\n",
       "|---|---|\n",
       "| 1 | NA |\n",
       "| 2 | NA |\n",
       "| 3 | NA |\n",
       "| 4 | NA |\n",
       "| 5 | NA |\n",
       "\n"
      ],
      "text/plain": [
       "  xid yid\n",
       "1 1   NA \n",
       "2 2   NA \n",
       "3 3   NA \n",
       "4 4   NA \n",
       "5 5   NA "
      ]
     },
     "metadata": {},
     "output_type": "display_data"
    },
    {
     "data": {
      "text/html": [
       "<ol class=list-inline>\n",
       "\t<li>7</li>\n",
       "\t<li>81745</li>\n",
       "</ol>\n"
      ],
      "text/latex": [
       "\\begin{enumerate*}\n",
       "\\item 7\n",
       "\\item 81745\n",
       "\\end{enumerate*}\n"
      ],
      "text/markdown": [
       "1. 7\n",
       "2. 81745\n",
       "\n",
       "\n"
      ],
      "text/plain": [
       "[1]     7 81745"
      ]
     },
     "metadata": {},
     "output_type": "display_data"
    },
    {
     "data": {
      "text/html": [
       "71229399"
      ],
      "text/latex": [
       "71229399"
      ],
      "text/markdown": [
       "71229399"
      ],
      "text/plain": [
       "[1] 71229399"
      ]
     },
     "metadata": {},
     "output_type": "display_data"
    },
    {
     "data": {
      "text/html": [
       "24864376"
      ],
      "text/latex": [
       "24864376"
      ],
      "text/markdown": [
       "24864376"
      ],
      "text/plain": [
       "[1] 24864376"
      ]
     },
     "metadata": {},
     "output_type": "display_data"
    },
    {
     "data": {
      "text/html": [
       "96093775"
      ],
      "text/latex": [
       "96093775"
      ],
      "text/markdown": [
       "96093775"
      ],
      "text/plain": [
       "[1] 96093775"
      ]
     },
     "metadata": {},
     "output_type": "display_data"
    }
   ],
   "source": [
    "foverlap.res <- data.table::foverlaps(x = overlap.res, y = all.transcript, type = \"any\", \n",
    "    which = T)  #only choose 1st overlap\n",
    "foverlap.res%>%head(5)\n",
    "range(foverlap.res$yid, na.rm = T)\n",
    "sum(!is.na(foverlap.res$yid))\n",
    "sum(is.na(foverlap.res$yid))\n",
    "sum(!is.na(foverlap.res$yid)) + sum(is.na(foverlap.res$yid))"
   ]
  },
  {
   "cell_type": "code",
   "execution_count": 15,
   "metadata": {},
   "outputs": [
    {
     "data": {
      "text/html": [
       "<table>\n",
       "<caption>A data.table: 1 × 5</caption>\n",
       "<thead>\n",
       "\t<tr><th scope=col>seq</th><th scope=col>start</th><th scope=col>end</th><th scope=col>cell</th><th scope=col>value</th></tr>\n",
       "\t<tr><th scope=col>&lt;chr&gt;</th><th scope=col>&lt;int&gt;</th><th scope=col>&lt;int&gt;</th><th scope=col>&lt;chr&gt;</th><th scope=col>&lt;int&gt;</th></tr>\n",
       "</thead>\n",
       "<tbody>\n",
       "\t<tr><td>chr10</td><td>100005281</td><td>100005858</td><td>Islet1fresh_AGACACCTCGATCAGTACTGCATAGGCTC</td><td>2</td></tr>\n",
       "</tbody>\n",
       "</table>\n"
      ],
      "text/latex": [
       "A data.table: 1 × 5\n",
       "\\begin{tabular}{r|lllll}\n",
       " seq & start & end & cell & value\\\\\n",
       " <chr> & <int> & <int> & <chr> & <int>\\\\\n",
       "\\hline\n",
       "\t chr10 & 100005281 & 100005858 & Islet1fresh\\_AGACACCTCGATCAGTACTGCATAGGCTC & 2\\\\\n",
       "\\end{tabular}\n"
      ],
      "text/markdown": [
       "\n",
       "A data.table: 1 × 5\n",
       "\n",
       "| seq &lt;chr&gt; | start &lt;int&gt; | end &lt;int&gt; | cell &lt;chr&gt; | value &lt;int&gt; |\n",
       "|---|---|---|---|---|\n",
       "| chr10 | 100005281 | 100005858 | Islet1fresh_AGACACCTCGATCAGTACTGCATAGGCTC | 2 |\n",
       "\n"
      ],
      "text/plain": [
       "  seq   start     end       cell                                      value\n",
       "1 chr10 100005281 100005858 Islet1fresh_AGACACCTCGATCAGTACTGCATAGGCTC 2    "
      ]
     },
     "metadata": {},
     "output_type": "display_data"
    }
   ],
   "source": [
    "overlap.res%>%head(1)"
   ]
  },
  {
   "cell_type": "code",
   "execution_count": 16,
   "metadata": {},
   "outputs": [
    {
     "name": "stderr",
     "output_type": "stream",
     "text": [
      "Joining, by = \"xid\"\n",
      "Joining, by = \"yid\"\n"
     ]
    }
   ],
   "source": [
    "peak_tr.dic <- overlap.res %>% rowid_to_column(\"xid\") %>% left_join(foverlap.res) %>% \n",
    "    left_join(all.transcript %>% rowid_to_column(\"yid\") %>% select(yid, gene))"
   ]
  },
  {
   "cell_type": "code",
   "execution_count": 17,
   "metadata": {},
   "outputs": [
    {
     "data": {
      "text/html": [
       "<table>\n",
       "<caption>A data.frame: 1 × 8</caption>\n",
       "<thead>\n",
       "\t<tr><th scope=col>xid</th><th scope=col>seq</th><th scope=col>start</th><th scope=col>end</th><th scope=col>cell</th><th scope=col>value</th><th scope=col>yid</th><th scope=col>gene</th></tr>\n",
       "\t<tr><th scope=col>&lt;int&gt;</th><th scope=col>&lt;chr&gt;</th><th scope=col>&lt;int&gt;</th><th scope=col>&lt;int&gt;</th><th scope=col>&lt;chr&gt;</th><th scope=col>&lt;int&gt;</th><th scope=col>&lt;int&gt;</th><th scope=col>&lt;chr&gt;</th></tr>\n",
       "</thead>\n",
       "<tbody>\n",
       "\t<tr><td>1</td><td>chr10</td><td>100005281</td><td>100005858</td><td>Islet1fresh_AGACACCTCGATCAGTACTGCATAGGCTC</td><td>2</td><td>NA</td><td>NA</td></tr>\n",
       "</tbody>\n",
       "</table>\n"
      ],
      "text/latex": [
       "A data.frame: 1 × 8\n",
       "\\begin{tabular}{r|llllllll}\n",
       " xid & seq & start & end & cell & value & yid & gene\\\\\n",
       " <int> & <chr> & <int> & <int> & <chr> & <int> & <int> & <chr>\\\\\n",
       "\\hline\n",
       "\t 1 & chr10 & 100005281 & 100005858 & Islet1fresh\\_AGACACCTCGATCAGTACTGCATAGGCTC & 2 & NA & NA\\\\\n",
       "\\end{tabular}\n"
      ],
      "text/markdown": [
       "\n",
       "A data.frame: 1 × 8\n",
       "\n",
       "| xid &lt;int&gt; | seq &lt;chr&gt; | start &lt;int&gt; | end &lt;int&gt; | cell &lt;chr&gt; | value &lt;int&gt; | yid &lt;int&gt; | gene &lt;chr&gt; |\n",
       "|---|---|---|---|---|---|---|---|\n",
       "| 1 | chr10 | 100005281 | 100005858 | Islet1fresh_AGACACCTCGATCAGTACTGCATAGGCTC | 2 | NA | NA |\n",
       "\n"
      ],
      "text/plain": [
       "  xid seq   start     end       cell                                      value\n",
       "1 1   chr10 100005281 100005858 Islet1fresh_AGACACCTCGATCAGTACTGCATAGGCTC 2    \n",
       "  yid gene\n",
       "1 NA  NA  "
      ]
     },
     "metadata": {},
     "output_type": "display_data"
    },
    {
     "data": {
      "text/html": [
       "<ol class=list-inline>\n",
       "\t<li>96093775</li>\n",
       "\t<li>8</li>\n",
       "</ol>\n"
      ],
      "text/latex": [
       "\\begin{enumerate*}\n",
       "\\item 96093775\n",
       "\\item 8\n",
       "\\end{enumerate*}\n"
      ],
      "text/markdown": [
       "1. 96093775\n",
       "2. 8\n",
       "\n",
       "\n"
      ],
      "text/plain": [
       "[1] 96093775        8"
      ]
     },
     "metadata": {},
     "output_type": "display_data"
    }
   ],
   "source": [
    "peak_tr.dic%>%head(1)\n",
    "peak_tr.dic%>%dim"
   ]
  },
  {
   "cell_type": "code",
   "execution_count": 21,
   "metadata": {},
   "outputs": [
    {
     "data": {
      "text/html": [
       "<table>\n",
       "<caption>A data.frame: 1 × 2</caption>\n",
       "<thead>\n",
       "\t<tr><th scope=col>prom_peak</th><th scope=col>gene</th></tr>\n",
       "\t<tr><th scope=col>&lt;chr&gt;</th><th scope=col>&lt;chr&gt;</th></tr>\n",
       "</thead>\n",
       "<tbody>\n",
       "\t<tr><td>10:100027284-100028604</td><td>LOXL4</td></tr>\n",
       "</tbody>\n",
       "</table>\n"
      ],
      "text/latex": [
       "A data.frame: 1 × 2\n",
       "\\begin{tabular}{r|ll}\n",
       " prom\\_peak & gene\\\\\n",
       " <chr> & <chr>\\\\\n",
       "\\hline\n",
       "\t 10:100027284-100028604 & LOXL4\\\\\n",
       "\\end{tabular}\n"
      ],
      "text/markdown": [
       "\n",
       "A data.frame: 1 × 2\n",
       "\n",
       "| prom_peak &lt;chr&gt; | gene &lt;chr&gt; |\n",
       "|---|---|\n",
       "| 10:100027284-100028604 | LOXL4 |\n",
       "\n"
      ],
      "text/plain": [
       "  prom_peak              gene \n",
       "1 10:100027284-100028604 LOXL4"
      ]
     },
     "metadata": {},
     "output_type": "display_data"
    },
    {
     "data": {
      "text/html": [
       "<ol class=list-inline>\n",
       "\t<li>58898</li>\n",
       "\t<li>2</li>\n",
       "</ol>\n"
      ],
      "text/latex": [
       "\\begin{enumerate*}\n",
       "\\item 58898\n",
       "\\item 2\n",
       "\\end{enumerate*}\n"
      ],
      "text/markdown": [
       "1. 58898\n",
       "2. 2\n",
       "\n",
       "\n"
      ],
      "text/plain": [
       "[1] 58898     2"
      ]
     },
     "metadata": {},
     "output_type": "display_data"
    },
    {
     "data": {
      "text/html": [
       "18926"
      ],
      "text/latex": [
       "18926"
      ],
      "text/markdown": [
       "18926"
      ],
      "text/plain": [
       "[1] 18926"
      ]
     },
     "metadata": {},
     "output_type": "display_data"
    }
   ],
   "source": [
    "peak_tr.dic <- peak_tr.dic %>% select(seq, start, end, yid, gene) %>% filter(!is.na(yid)) %>% \n",
    "    distinct %>% mutate(seq = sub(\"chr\", \"\", seq)) %>% mutate(prom_peak = paste0(seq, \n",
    "    \":\", start, \"-\", end)) %>% select(prom_peak, gene)\n",
    "peak_tr.dic %>% head(1)\n",
    "peak_tr.dic %>% dim\n",
    "peak_tr.dic %>% pull(prom_peak) %>% unique %>% length"
   ]
  },
  {
   "cell_type": "code",
   "execution_count": 5,
   "metadata": {},
   "outputs": [
    {
     "data": {
      "text/html": [
       "<ol class=list-inline>\n",
       "\t<li>20709</li>\n",
       "\t<li>2</li>\n",
       "</ol>\n"
      ],
      "text/latex": [
       "\\begin{enumerate*}\n",
       "\\item 20709\n",
       "\\item 2\n",
       "\\end{enumerate*}\n"
      ],
      "text/markdown": [
       "1. 20709\n",
       "2. 2\n",
       "\n",
       "\n"
      ],
      "text/plain": [
       "[1] 20709     2"
      ]
     },
     "metadata": {},
     "output_type": "display_data"
    }
   ],
   "source": [
    "peak_tr.dic<- peak_tr.dic%>%distinct\n",
    "peak_tr.dic%>%dim"
   ]
  },
  {
   "cell_type": "code",
   "execution_count": 6,
   "metadata": {},
   "outputs": [],
   "source": [
    "#fwrite(peak_tr.dic,'../dat/1910_v2/peak_tr.dic.txt')\n",
    "saveRDS(peak_tr.dic,'../dat/1910_v2/peak_tr.dic.rds')"
   ]
  },
  {
   "cell_type": "markdown",
   "metadata": {},
   "source": [
    "## 5. filtering using umap's results"
   ]
  },
  {
   "cell_type": "code",
   "execution_count": 49,
   "metadata": {},
   "outputs": [
    {
     "data": {
      "text/html": [
       "<table>\n",
       "<caption>A data.table: 1 × 11</caption>\n",
       "<thead>\n",
       "\t<tr><th scope=col>index</th><th scope=col>UMAP1</th><th scope=col>UMAP2</th><th scope=col>cluster_name</th><th scope=col>unique_usable_reads</th><th scope=col>log_usable_counts</th><th scope=col>frac_duplicated_reads</th><th scope=col>frac_mito_reads</th><th scope=col>frac_promoters_used</th><th scope=col>frac_reads_in_peaks</th><th scope=col>frac_reads_in_promoters</th></tr>\n",
       "\t<tr><th scope=col>&lt;chr&gt;</th><th scope=col>&lt;dbl&gt;</th><th scope=col>&lt;dbl&gt;</th><th scope=col>&lt;chr&gt;</th><th scope=col>&lt;int&gt;</th><th scope=col>&lt;dbl&gt;</th><th scope=col>&lt;dbl&gt;</th><th scope=col>&lt;dbl&gt;</th><th scope=col>&lt;dbl&gt;</th><th scope=col>&lt;dbl&gt;</th><th scope=col>&lt;dbl&gt;</th></tr>\n",
       "</thead>\n",
       "<tbody>\n",
       "\t<tr><td>Islet1fresh_AGACACCTAAGAGGCAAAGGAGTAGGCTC</td><td>-5.102393</td><td>1.38682</td><td>alpha_2</td><td>6254</td><td>7.865955</td><td>0.7902986</td><td>0.03428042</td><td>0.04337516</td><td>0.5978574</td><td>0.2646306</td></tr>\n",
       "</tbody>\n",
       "</table>\n"
      ],
      "text/latex": [
       "A data.table: 1 × 11\n",
       "\\begin{tabular}{r|lllllllllll}\n",
       " index & UMAP1 & UMAP2 & cluster\\_name & unique\\_usable\\_reads & log\\_usable\\_counts & frac\\_duplicated\\_reads & frac\\_mito\\_reads & frac\\_promoters\\_used & frac\\_reads\\_in\\_peaks & frac\\_reads\\_in\\_promoters\\\\\n",
       " <chr> & <dbl> & <dbl> & <chr> & <int> & <dbl> & <dbl> & <dbl> & <dbl> & <dbl> & <dbl>\\\\\n",
       "\\hline\n",
       "\t Islet1fresh\\_AGACACCTAAGAGGCAAAGGAGTAGGCTC & -5.102393 & 1.38682 & alpha\\_2 & 6254 & 7.865955 & 0.7902986 & 0.03428042 & 0.04337516 & 0.5978574 & 0.2646306\\\\\n",
       "\\end{tabular}\n"
      ],
      "text/markdown": [
       "\n",
       "A data.table: 1 × 11\n",
       "\n",
       "| index &lt;chr&gt; | UMAP1 &lt;dbl&gt; | UMAP2 &lt;dbl&gt; | cluster_name &lt;chr&gt; | unique_usable_reads &lt;int&gt; | log_usable_counts &lt;dbl&gt; | frac_duplicated_reads &lt;dbl&gt; | frac_mito_reads &lt;dbl&gt; | frac_promoters_used &lt;dbl&gt; | frac_reads_in_peaks &lt;dbl&gt; | frac_reads_in_promoters &lt;dbl&gt; |\n",
       "|---|---|---|---|---|---|---|---|---|---|---|\n",
       "| Islet1fresh_AGACACCTAAGAGGCAAAGGAGTAGGCTC | -5.102393 | 1.38682 | alpha_2 | 6254 | 7.865955 | 0.7902986 | 0.03428042 | 0.04337516 | 0.5978574 | 0.2646306 |\n",
       "\n"
      ],
      "text/plain": [
       "  index                                     UMAP1     UMAP2   cluster_name\n",
       "1 Islet1fresh_AGACACCTAAGAGGCAAAGGAGTAGGCTC -5.102393 1.38682 alpha_2     \n",
       "  unique_usable_reads log_usable_counts frac_duplicated_reads frac_mito_reads\n",
       "1 6254                7.865955          0.7902986             0.03428042     \n",
       "  frac_promoters_used frac_reads_in_peaks frac_reads_in_promoters\n",
       "1 0.04337516          0.5978574           0.2646306              "
      ]
     },
     "metadata": {},
     "output_type": "display_data"
    },
    {
     "data": {
      "text/html": [
       "15298"
      ],
      "text/latex": [
       "15298"
      ],
      "text/markdown": [
       "15298"
      ],
      "text/plain": [
       "[1] 15298"
      ]
     },
     "metadata": {},
     "output_type": "display_data"
    }
   ],
   "source": [
    "dat.all.cells <- fread('../dat/1910_v2/islet.cluster_labels.filt.txt')\n",
    "head(dat.all.cells,1)\n",
    "length(dat.all.cells$index)"
   ]
  },
  {
   "cell_type": "code",
   "execution_count": 50,
   "metadata": {},
   "outputs": [
    {
     "data": {
      "text/html": [
       "<ol class=list-inline>\n",
       "\t<li>43623133</li>\n",
       "\t<li>6</li>\n",
       "</ol>\n"
      ],
      "text/latex": [
       "\\begin{enumerate*}\n",
       "\\item 43623133\n",
       "\\item 6\n",
       "\\end{enumerate*}\n"
      ],
      "text/markdown": [
       "1. 43623133\n",
       "2. 6\n",
       "\n",
       "\n"
      ],
      "text/plain": [
       "[1] 43623133        6"
      ]
     },
     "metadata": {},
     "output_type": "display_data"
    },
    {
     "data": {
      "text/html": [
       "15298"
      ],
      "text/latex": [
       "15298"
      ],
      "text/markdown": [
       "15298"
      ],
      "text/plain": [
       "[1] 15298"
      ]
     },
     "metadata": {},
     "output_type": "display_data"
    }
   ],
   "source": [
    "overlap.res <- overlap.res%>% filter(cell %in% dat.all.cells$index)\n",
    "dim(overlap.res)\n",
    "length(unique(overlap.res$cell))"
   ]
  },
  {
   "cell_type": "markdown",
   "metadata": {},
   "source": [
    "##  save"
   ]
  },
  {
   "cell_type": "code",
   "execution_count": 19,
   "metadata": {},
   "outputs": [],
   "source": [
    "fwrite(overlap.res,'../dat/1910_v2/long_matrix_w_transcripts.txt')"
   ]
  },
  {
   "cell_type": "markdown",
   "metadata": {},
   "source": [
    "### check idx"
   ]
  },
  {
   "cell_type": "markdown",
   "metadata": {},
   "source": [
    "`(base) ➜  1901 git:(master) ✗ grep ABHD14A alpha_beta.promoter.long_matrix_w_transcripts_corrected.txt |awk -v FS=',' '{print $1,$2,$3,$4,$7}'| sort|uniq`\n",
    "\n",
    "chr3 52007627 52009641 ABHD14A 92628\n",
    "\n",
    "chr3 52007627 52009641 ABHD14A-ACY1 92628\n",
    "\n",
    "`(base) ➜  1901 git:(master) ✗ grep ABHD14A alpha_beta.promoter.long_matrix_w_transcripts.txt |awk -v FS=',' '{print $1,$2,$3,$4,$7}'| sort|uniq`\n",
    "\n",
    "chr3 52007627 52009641 ABHD14A 92628\n",
    "\n",
    "chr3 52007627 52009641 ABHD14A-ACY1 92628"
   ]
  },
  {
   "cell_type": "code",
   "execution_count": 51,
   "metadata": {},
   "outputs": [
    {
     "data": {
      "text/html": [
       "<table>\n",
       "<caption>A data.table: 1 × 4</caption>\n",
       "<thead>\n",
       "\t<tr><th scope=col>seq</th><th scope=col>start</th><th scope=col>end</th><th scope=col>gene</th></tr>\n",
       "\t<tr><th scope=col>&lt;chr&gt;</th><th scope=col>&lt;int&gt;</th><th scope=col>&lt;int&gt;</th><th scope=col>&lt;chr&gt;</th></tr>\n",
       "</thead>\n",
       "<tbody>\n",
       "\t<tr><td>chrY</td><td>22737111</td><td>22738111</td><td>EIF1AY</td></tr>\n",
       "</tbody>\n",
       "</table>\n"
      ],
      "text/latex": [
       "A data.table: 1 × 4\n",
       "\\begin{tabular}{r|llll}\n",
       " seq & start & end & gene\\\\\n",
       " <chr> & <int> & <int> & <chr>\\\\\n",
       "\\hline\n",
       "\t chrY & 22737111 & 22738111 & EIF1AY\\\\\n",
       "\\end{tabular}\n"
      ],
      "text/markdown": [
       "\n",
       "A data.table: 1 × 4\n",
       "\n",
       "| seq &lt;chr&gt; | start &lt;int&gt; | end &lt;int&gt; | gene &lt;chr&gt; |\n",
       "|---|---|---|---|\n",
       "| chrY | 22737111 | 22738111 | EIF1AY |\n",
       "\n"
      ],
      "text/plain": [
       "  seq  start    end      gene  \n",
       "1 chrY 22737111 22738111 EIF1AY"
      ]
     },
     "metadata": {},
     "output_type": "display_data"
    }
   ],
   "source": [
    "all.transcript[81744,]"
   ]
  },
  {
   "cell_type": "code",
   "execution_count": 56,
   "metadata": {},
   "outputs": [
    {
     "name": "stdout",
     "output_type": "stream",
     "text": [
      "chrY\t23672758\t23673758\tRBMY1A1"
     ]
    }
   ],
   "source": [
    "system('sed -n 81744p ../dat/1910_v2/gencode.v19.1kb_all_possible_transcripts.bed',intern = T)%>%cat"
   ]
  },
  {
   "cell_type": "code",
   "execution_count": null,
   "metadata": {},
   "outputs": [],
   "source": []
  }
 ],
 "metadata": {
  "kernelspec": {
   "display_name": "R",
   "language": "R",
   "name": "ir"
  },
  "language_info": {
   "codemirror_mode": "r",
   "file_extension": ".r",
   "mimetype": "text/x-r-source",
   "name": "R",
   "pygments_lexer": "r",
   "version": "3.5.1"
  }
 },
 "nbformat": 4,
 "nbformat_minor": 2
}
