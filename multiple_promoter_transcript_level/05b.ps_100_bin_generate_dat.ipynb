{
 "cells": [
  {
   "cell_type": "code",
   "execution_count": 3,
   "metadata": {},
   "outputs": [],
   "source": [
    "require(data.table)\n",
    "require(tidyverse)"
   ]
  },
  {
   "cell_type": "markdown",
   "metadata": {},
   "source": [
    "## 1. Rationale\n",
    "\n",
    "* due to the sparseness, the ps is binned to 100 (can change) \n",
    "* then chisq test wheter the ratio of openning is dependent on bins "
   ]
  },
  {
   "cell_type": "markdown",
   "metadata": {},
   "source": [
    "##  2. load data"
   ]
  },
  {
   "cell_type": "markdown",
   "metadata": {},
   "source": [
    "### 2.0 load  reads for each cell in each promoter  "
   ]
  },
  {
   "cell_type": "code",
   "execution_count": 4,
   "metadata": {},
   "outputs": [
    {
     "data": {
      "text/html": [
       "<table>\n",
       "<caption>A data.table: 1 × 4</caption>\n",
       "<thead>\n",
       "\t<tr><th scope=col>prom_peak</th><th scope=col>cell</th><th scope=col>ps</th><th scope=col>celltype</th></tr>\n",
       "\t<tr><th scope=col>&lt;chr&gt;</th><th scope=col>&lt;chr&gt;</th><th scope=col>&lt;dbl&gt;</th><th scope=col>&lt;chr&gt;</th></tr>\n",
       "</thead>\n",
       "<tbody>\n",
       "\t<tr><td>10:100027284-100028604</td><td>Islet1fresh_AGACACCTAAGAGGCAGCGTAAGAAGGCG</td><td>11.8747</td><td>alpha</td></tr>\n",
       "</tbody>\n",
       "</table>\n"
      ],
      "text/latex": [
       "A data.table: 1 × 4\n",
       "\\begin{tabular}{r|llll}\n",
       " prom\\_peak & cell & ps & celltype\\\\\n",
       " <chr> & <chr> & <dbl> & <chr>\\\\\n",
       "\\hline\n",
       "\t 10:100027284-100028604 & Islet1fresh\\_AGACACCTAAGAGGCAGCGTAAGAAGGCG & 11.8747 & alpha\\\\\n",
       "\\end{tabular}\n"
      ],
      "text/markdown": [
       "\n",
       "A data.table: 1 × 4\n",
       "\n",
       "| prom_peak &lt;chr&gt; | cell &lt;chr&gt; | ps &lt;dbl&gt; | celltype &lt;chr&gt; |\n",
       "|---|---|---|---|\n",
       "| 10:100027284-100028604 | Islet1fresh_AGACACCTAAGAGGCAGCGTAAGAAGGCG | 11.8747 | alpha |\n",
       "\n"
      ],
      "text/plain": [
       "  prom_peak              cell                                      ps     \n",
       "1 10:100027284-100028604 Islet1fresh_AGACACCTAAGAGGCAGCGTAAGAAGGCG 11.8747\n",
       "  celltype\n",
       "1 alpha   "
      ]
     },
     "metadata": {},
     "output_type": "display_data"
    },
    {
     "data": {
      "text/html": [
       "<table>\n",
       "<caption>A data.table: 1 × 4</caption>\n",
       "<thead>\n",
       "\t<tr><th scope=col>prom_peak</th><th scope=col>cell</th><th scope=col>ps</th><th scope=col>celltype</th></tr>\n",
       "\t<tr><th scope=col>&lt;chr&gt;</th><th scope=col>&lt;chr&gt;</th><th scope=col>&lt;dbl&gt;</th><th scope=col>&lt;chr&gt;</th></tr>\n",
       "</thead>\n",
       "<tbody>\n",
       "\t<tr><td>Y:6777959-6779589</td><td>Islet3fresh_TCCGGAGATGCAGCTAATCTGAGTAGGCGAAG</td><td>12.20114</td><td>beta</td></tr>\n",
       "</tbody>\n",
       "</table>\n"
      ],
      "text/latex": [
       "A data.table: 1 × 4\n",
       "\\begin{tabular}{r|llll}\n",
       " prom\\_peak & cell & ps & celltype\\\\\n",
       " <chr> & <chr> & <dbl> & <chr>\\\\\n",
       "\\hline\n",
       "\t Y:6777959-6779589 & Islet3fresh\\_TCCGGAGATGCAGCTAATCTGAGTAGGCGAAG & 12.20114 & beta\\\\\n",
       "\\end{tabular}\n"
      ],
      "text/markdown": [
       "\n",
       "A data.table: 1 × 4\n",
       "\n",
       "| prom_peak &lt;chr&gt; | cell &lt;chr&gt; | ps &lt;dbl&gt; | celltype &lt;chr&gt; |\n",
       "|---|---|---|---|\n",
       "| Y:6777959-6779589 | Islet3fresh_TCCGGAGATGCAGCTAATCTGAGTAGGCGAAG | 12.20114 | beta |\n",
       "\n"
      ],
      "text/plain": [
       "  prom_peak         cell                                         ps      \n",
       "1 Y:6777959-6779589 Islet3fresh_TCCGGAGATGCAGCTAATCTGAGTAGGCGAAG 12.20114\n",
       "  celltype\n",
       "1 beta    "
      ]
     },
     "metadata": {},
     "output_type": "display_data"
    },
    {
     "data": {
      "text/html": [
       "<ol class=list-inline>\n",
       "\t<li>18019112</li>\n",
       "\t<li>4</li>\n",
       "</ol>\n"
      ],
      "text/latex": [
       "\\begin{enumerate*}\n",
       "\\item 18019112\n",
       "\\item 4\n",
       "\\end{enumerate*}\n"
      ],
      "text/markdown": [
       "1. 18019112\n",
       "2. 4\n",
       "\n",
       "\n"
      ],
      "text/plain": [
       "[1] 18019112        4"
      ]
     },
     "metadata": {},
     "output_type": "display_data"
    }
   ],
   "source": [
    "dat.pro_ps<- fread(\"../dat/1910_v2/abd.promoter.long_matrix_w_transcripts_ps.txt\")\n",
    "head(dat.pro_ps,1)\n",
    "tail(dat.pro_ps,1)\n",
    "dim(dat.pro_ps)"
   ]
  },
  {
   "cell_type": "markdown",
   "metadata": {},
   "source": [
    "### 2.1 bin ps "
   ]
  },
  {
   "cell_type": "markdown",
   "metadata": {},
   "source": [
    "#### 2.1.1 100 bins for a,b; 20 bins for d"
   ]
  },
  {
   "cell_type": "code",
   "execution_count": 5,
   "metadata": {},
   "outputs": [
    {
     "data": {
      "text/html": [
       "<dl>\n",
       "\t<dt>$alpha</dt>\n",
       "\t\t<dd><ol class=list-inline>\n",
       "\t<li>0</li>\n",
       "\t<li>20.85655010081</li>\n",
       "</ol>\n",
       "</dd>\n",
       "\t<dt>$beta</dt>\n",
       "\t\t<dd><ol class=list-inline>\n",
       "\t<li>0</li>\n",
       "\t<li>18.4925501200285</li>\n",
       "</ol>\n",
       "</dd>\n",
       "\t<dt>$delta</dt>\n",
       "\t\t<dd><ol class=list-inline>\n",
       "\t<li>0</li>\n",
       "\t<li>14.9735598171251</li>\n",
       "</ol>\n",
       "</dd>\n",
       "</dl>\n"
      ],
      "text/latex": [
       "\\begin{description}\n",
       "\\item[\\$alpha] \\begin{enumerate*}\n",
       "\\item 0\n",
       "\\item 20.85655010081\n",
       "\\end{enumerate*}\n",
       "\n",
       "\\item[\\$beta] \\begin{enumerate*}\n",
       "\\item 0\n",
       "\\item 18.4925501200285\n",
       "\\end{enumerate*}\n",
       "\n",
       "\\item[\\$delta] \\begin{enumerate*}\n",
       "\\item 0\n",
       "\\item 14.9735598171251\n",
       "\\end{enumerate*}\n",
       "\n",
       "\\end{description}\n"
      ],
      "text/markdown": [
       "$alpha\n",
       ":   1. 0\n",
       "2. 20.85655010081\n",
       "\n",
       "\n",
       "\n",
       "$beta\n",
       ":   1. 0\n",
       "2. 18.4925501200285\n",
       "\n",
       "\n",
       "\n",
       "$delta\n",
       ":   1. 0\n",
       "2. 14.9735598171251\n",
       "\n",
       "\n",
       "\n",
       "\n",
       "\n"
      ],
      "text/plain": [
       "$alpha\n",
       "[1]  0.00000 20.85655\n",
       "\n",
       "$beta\n",
       "[1]  0.00000 18.49255\n",
       "\n",
       "$delta\n",
       "[1]  0.00000 14.97356\n"
      ]
     },
     "metadata": {},
     "output_type": "display_data"
    }
   ],
   "source": [
    "ps.range <- lapply(c(\"alpha\", \"beta\", \"delta\"), function(ct) dat.pro_ps %>% filter(celltype == \n",
    "    ct) %>% pull(ps) %>% range)\n",
    "names(ps.range) <- c(\"alpha\", \"beta\", \"delta\")\n",
    "ps.range"
   ]
  },
  {
   "cell_type": "code",
   "execution_count": 6,
   "metadata": {},
   "outputs": [
    {
     "data": {
      "text/html": [
       "<table>\n",
       "<caption>A data.frame: 1 × 6</caption>\n",
       "<thead>\n",
       "\t<tr><th scope=col>prom_peak</th><th scope=col>cell</th><th scope=col>ps</th><th scope=col>celltype</th><th scope=col>ps_bin</th><th scope=col>ps_bin_idx</th></tr>\n",
       "\t<tr><th scope=col>&lt;chr&gt;</th><th scope=col>&lt;chr&gt;</th><th scope=col>&lt;dbl&gt;</th><th scope=col>&lt;chr&gt;</th><th scope=col>&lt;fct&gt;</th><th scope=col>&lt;dbl&gt;</th></tr>\n",
       "</thead>\n",
       "<tbody>\n",
       "\t<tr><td>10:100027284-100028604</td><td>Islet3fresh_AGACACCTACTGAGCGACTGCATAGGTTGCGT</td><td>0.1583683</td><td>alpha</td><td>[0,0.209)</td><td>1</td></tr>\n",
       "</tbody>\n",
       "</table>\n"
      ],
      "text/latex": [
       "A data.frame: 1 × 6\n",
       "\\begin{tabular}{r|llllll}\n",
       " prom\\_peak & cell & ps & celltype & ps\\_bin & ps\\_bin\\_idx\\\\\n",
       " <chr> & <chr> & <dbl> & <chr> & <fct> & <dbl>\\\\\n",
       "\\hline\n",
       "\t 10:100027284-100028604 & Islet3fresh\\_AGACACCTACTGAGCGACTGCATAGGTTGCGT & 0.1583683 & alpha & {[}0,0.209) & 1\\\\\n",
       "\\end{tabular}\n"
      ],
      "text/markdown": [
       "\n",
       "A data.frame: 1 × 6\n",
       "\n",
       "| prom_peak &lt;chr&gt; | cell &lt;chr&gt; | ps &lt;dbl&gt; | celltype &lt;chr&gt; | ps_bin &lt;fct&gt; | ps_bin_idx &lt;dbl&gt; |\n",
       "|---|---|---|---|---|---|\n",
       "| 10:100027284-100028604 | Islet3fresh_AGACACCTACTGAGCGACTGCATAGGTTGCGT | 0.1583683 | alpha | [0,0.209) | 1 |\n",
       "\n"
      ],
      "text/plain": [
       "  prom_peak              cell                                         ps       \n",
       "1 10:100027284-100028604 Islet3fresh_AGACACCTACTGAGCGACTGCATAGGTTGCGT 0.1583683\n",
       "  celltype ps_bin    ps_bin_idx\n",
       "1 alpha    [0,0.209) 1         "
      ]
     },
     "metadata": {},
     "output_type": "display_data"
    }
   ],
   "source": [
    "N.bin <- 101\n",
    "N.bin.d<- 21\n",
    "ps.bks <- list()\n",
    "ps.bks$alpha <- seq(ps.range$alpha[1], ps.range$alpha[2] + 1e-05, length.out = N.bin)\n",
    "ps.bks$beta <- seq(ps.range$beta[1], ps.range$beta[2] + 1e-05, length.out = N.bin)\n",
    "ps.bks$delta <- seq(ps.range$delta[1], ps.range$delta[2] + 1e-05, length.out = N.bin.d)\n",
    "\n",
    "dat.pro_ps <- rbind(dat.pro_ps %>% filter(celltype == \"alpha\") %>% mutate(ps_bin = cut(ps, \n",
    "    breaks = ps.bks$alpha, include.lowest = T, right = F)) %>% mutate(ps_bin_idx = as.numeric(ps_bin)), \n",
    "    dat.pro_ps %>% filter(celltype == \"beta\") %>% mutate(ps_bin = cut(ps, breaks = ps.bks$beta, \n",
    "        include.lowest = T, right = F)) %>% mutate(ps_bin_idx = as.numeric(ps_bin)), \n",
    "    dat.pro_ps %>% filter(celltype == \"delta\") %>% mutate(ps_bin = cut(ps, breaks = ps.bks$delta, \n",
    "        include.lowest = T, right = F)) %>% mutate(ps_bin_idx = as.numeric(ps_bin))) %>% \n",
    "    arrange(celltype, ps_bin_idx)\n",
    "\n",
    "dat.pro_ps %>% head(1)"
   ]
  },
  {
   "cell_type": "code",
   "execution_count": 12,
   "metadata": {},
   "outputs": [
    {
     "data": {
      "text/html": [
       "<table>\n",
       "<caption>A data.table: 1 × 11</caption>\n",
       "<thead>\n",
       "\t<tr><th scope=col>index</th><th scope=col>UMAP1</th><th scope=col>UMAP2</th><th scope=col>cluster_name</th><th scope=col>unique_usable_reads</th><th scope=col>log_usable_counts</th><th scope=col>frac_duplicated_reads</th><th scope=col>frac_mito_reads</th><th scope=col>frac_promoters_used</th><th scope=col>frac_reads_in_peaks</th><th scope=col>frac_reads_in_promoters</th></tr>\n",
       "\t<tr><th scope=col>&lt;chr&gt;</th><th scope=col>&lt;dbl&gt;</th><th scope=col>&lt;dbl&gt;</th><th scope=col>&lt;chr&gt;</th><th scope=col>&lt;int&gt;</th><th scope=col>&lt;dbl&gt;</th><th scope=col>&lt;dbl&gt;</th><th scope=col>&lt;dbl&gt;</th><th scope=col>&lt;dbl&gt;</th><th scope=col>&lt;dbl&gt;</th><th scope=col>&lt;dbl&gt;</th></tr>\n",
       "</thead>\n",
       "<tbody>\n",
       "\t<tr><td>Islet1fresh_AGACACCTAAGAGGCAAAGGAGTAGGCTC</td><td>-5.102393</td><td>1.38682</td><td>alpha_2</td><td>6254</td><td>7.865955</td><td>0.7902986</td><td>0.03428042</td><td>0.04337516</td><td>0.5978574</td><td>0.2646306</td></tr>\n",
       "</tbody>\n",
       "</table>\n"
      ],
      "text/latex": [
       "A data.table: 1 × 11\n",
       "\\begin{tabular}{r|lllllllllll}\n",
       " index & UMAP1 & UMAP2 & cluster\\_name & unique\\_usable\\_reads & log\\_usable\\_counts & frac\\_duplicated\\_reads & frac\\_mito\\_reads & frac\\_promoters\\_used & frac\\_reads\\_in\\_peaks & frac\\_reads\\_in\\_promoters\\\\\n",
       " <chr> & <dbl> & <dbl> & <chr> & <int> & <dbl> & <dbl> & <dbl> & <dbl> & <dbl> & <dbl>\\\\\n",
       "\\hline\n",
       "\t Islet1fresh\\_AGACACCTAAGAGGCAAAGGAGTAGGCTC & -5.102393 & 1.38682 & alpha\\_2 & 6254 & 7.865955 & 0.7902986 & 0.03428042 & 0.04337516 & 0.5978574 & 0.2646306\\\\\n",
       "\\end{tabular}\n"
      ],
      "text/markdown": [
       "\n",
       "A data.table: 1 × 11\n",
       "\n",
       "| index &lt;chr&gt; | UMAP1 &lt;dbl&gt; | UMAP2 &lt;dbl&gt; | cluster_name &lt;chr&gt; | unique_usable_reads &lt;int&gt; | log_usable_counts &lt;dbl&gt; | frac_duplicated_reads &lt;dbl&gt; | frac_mito_reads &lt;dbl&gt; | frac_promoters_used &lt;dbl&gt; | frac_reads_in_peaks &lt;dbl&gt; | frac_reads_in_promoters &lt;dbl&gt; |\n",
       "|---|---|---|---|---|---|---|---|---|---|---|\n",
       "| Islet1fresh_AGACACCTAAGAGGCAAAGGAGTAGGCTC | -5.102393 | 1.38682 | alpha_2 | 6254 | 7.865955 | 0.7902986 | 0.03428042 | 0.04337516 | 0.5978574 | 0.2646306 |\n",
       "\n"
      ],
      "text/plain": [
       "  index                                     UMAP1     UMAP2   cluster_name\n",
       "1 Islet1fresh_AGACACCTAAGAGGCAAAGGAGTAGGCTC -5.102393 1.38682 alpha_2     \n",
       "  unique_usable_reads log_usable_counts frac_duplicated_reads frac_mito_reads\n",
       "1 6254                7.865955          0.7902986             0.03428042     \n",
       "  frac_promoters_used frac_reads_in_peaks frac_reads_in_promoters\n",
       "1 0.04337516          0.5978574           0.2646306              "
      ]
     },
     "metadata": {},
     "output_type": "display_data"
    },
    {
     "data": {
      "text/html": [
       "15298"
      ],
      "text/latex": [
       "15298"
      ],
      "text/markdown": [
       "15298"
      ],
      "text/plain": [
       "[1] 15298"
      ]
     },
     "metadata": {},
     "output_type": "display_data"
    }
   ],
   "source": [
    "fread('../dat/1910_v2/islet.cluster_labels.filt.txt')%>%head(1)\n",
    "fread('../dat/1910_v2/islet.cluster_labels.filt.txt')%>%nrow"
   ]
  },
  {
   "cell_type": "code",
   "execution_count": 8,
   "metadata": {},
   "outputs": [
    {
     "data": {
      "text/html": [
       "<table>\n",
       "<caption>A data.frame: 1 × 5</caption>\n",
       "<thead>\n",
       "\t<tr><th scope=col>cell</th><th scope=col>ps_bin</th><th scope=col>ps_bin_idx</th><th scope=col>celltype</th><th scope=col>subtype</th></tr>\n",
       "\t<tr><th scope=col>&lt;chr&gt;</th><th scope=col>&lt;fct&gt;</th><th scope=col>&lt;dbl&gt;</th><th scope=col>&lt;chr&gt;</th><th scope=col>&lt;chr&gt;</th></tr>\n",
       "</thead>\n",
       "<tbody>\n",
       "\t<tr><td>Islet3fresh_AGACACCTACTGAGCGACTGCATAGGTTGCGT</td><td>[0,0.209)</td><td>1</td><td>alpha</td><td>1</td></tr>\n",
       "</tbody>\n",
       "</table>\n"
      ],
      "text/latex": [
       "A data.frame: 1 × 5\n",
       "\\begin{tabular}{r|lllll}\n",
       " cell & ps\\_bin & ps\\_bin\\_idx & celltype & subtype\\\\\n",
       " <chr> & <fct> & <dbl> & <chr> & <chr>\\\\\n",
       "\\hline\n",
       "\t Islet3fresh\\_AGACACCTACTGAGCGACTGCATAGGTTGCGT & {[}0,0.209) & 1 & alpha & 1\\\\\n",
       "\\end{tabular}\n"
      ],
      "text/markdown": [
       "\n",
       "A data.frame: 1 × 5\n",
       "\n",
       "| cell &lt;chr&gt; | ps_bin &lt;fct&gt; | ps_bin_idx &lt;dbl&gt; | celltype &lt;chr&gt; | subtype &lt;chr&gt; |\n",
       "|---|---|---|---|---|\n",
       "| Islet3fresh_AGACACCTACTGAGCGACTGCATAGGTTGCGT | [0,0.209) | 1 | alpha | 1 |\n",
       "\n"
      ],
      "text/plain": [
       "  cell                                         ps_bin    ps_bin_idx celltype\n",
       "1 Islet3fresh_AGACACCTACTGAGCGACTGCATAGGTTGCGT [0,0.209) 1          alpha   \n",
       "  subtype\n",
       "1 1      "
      ]
     },
     "metadata": {},
     "output_type": "display_data"
    },
    {
     "data": {
      "text/html": [
       "14526"
      ],
      "text/latex": [
       "14526"
      ],
      "text/markdown": [
       "14526"
      ],
      "text/plain": [
       "[1] 14526"
      ]
     },
     "metadata": {},
     "output_type": "display_data"
    },
    {
     "data": {
      "text/html": [
       "<table>\n",
       "<caption>A tibble: 3 × 2</caption>\n",
       "<thead>\n",
       "\t<tr><th scope=col>celltype</th><th scope=col>tot</th></tr>\n",
       "\t<tr><th scope=col>&lt;chr&gt;</th><th scope=col>&lt;dbl&gt;</th></tr>\n",
       "</thead>\n",
       "<tbody>\n",
       "\t<tr><td>alpha</td><td>6218</td></tr>\n",
       "\t<tr><td>beta </td><td>7598</td></tr>\n",
       "\t<tr><td>delta</td><td> 710</td></tr>\n",
       "</tbody>\n",
       "</table>\n"
      ],
      "text/latex": [
       "A tibble: 3 × 2\n",
       "\\begin{tabular}{r|ll}\n",
       " celltype & tot\\\\\n",
       " <chr> & <dbl>\\\\\n",
       "\\hline\n",
       "\t alpha & 6218\\\\\n",
       "\t beta  & 7598\\\\\n",
       "\t delta &  710\\\\\n",
       "\\end{tabular}\n"
      ],
      "text/markdown": [
       "\n",
       "A tibble: 3 × 2\n",
       "\n",
       "| celltype &lt;chr&gt; | tot &lt;dbl&gt; |\n",
       "|---|---|\n",
       "| alpha | 6218 |\n",
       "| beta  | 7598 |\n",
       "| delta |  710 |\n",
       "\n"
      ],
      "text/plain": [
       "  celltype tot \n",
       "1 alpha    6218\n",
       "2 beta     7598\n",
       "3 delta     710"
      ]
     },
     "metadata": {},
     "output_type": "display_data"
    },
    {
     "data": {
      "text/html": [
       "<table>\n",
       "<caption>A data.frame: 1 × 6</caption>\n",
       "<thead>\n",
       "\t<tr><th scope=col>ps_bin</th><th scope=col>celltype</th><th scope=col>1</th><th scope=col>2</th><th scope=col>N</th><th scope=col>frac</th></tr>\n",
       "\t<tr><th scope=col>&lt;chr&gt;</th><th scope=col>&lt;chr&gt;</th><th scope=col>&lt;dbl&gt;</th><th scope=col>&lt;dbl&gt;</th><th scope=col>&lt;dbl&gt;</th><th scope=col>&lt;dbl&gt;</th></tr>\n",
       "</thead>\n",
       "<tbody>\n",
       "\t<tr><td>1:[0,0.185)</td><td>beta</td><td>103</td><td>1</td><td>104</td><td>0.9903846</td></tr>\n",
       "</tbody>\n",
       "</table>\n"
      ],
      "text/latex": [
       "A data.frame: 1 × 6\n",
       "\\begin{tabular}{r|llllll}\n",
       " ps\\_bin & celltype & 1 & 2 & N & frac\\\\\n",
       " <chr> & <chr> & <dbl> & <dbl> & <dbl> & <dbl>\\\\\n",
       "\\hline\n",
       "\t 1:{[}0,0.185) & beta & 103 & 1 & 104 & 0.9903846\\\\\n",
       "\\end{tabular}\n"
      ],
      "text/markdown": [
       "\n",
       "A data.frame: 1 × 6\n",
       "\n",
       "| ps_bin &lt;chr&gt; | celltype &lt;chr&gt; | 1 &lt;dbl&gt; | 2 &lt;dbl&gt; | N &lt;dbl&gt; | frac &lt;dbl&gt; |\n",
       "|---|---|---|---|---|---|\n",
       "| 1:[0,0.185) | beta | 103 | 1 | 104 | 0.9903846 |\n",
       "\n"
      ],
      "text/plain": [
       "  ps_bin      celltype 1   2 N   frac     \n",
       "1 1:[0,0.185) beta     103 1 104 0.9903846"
      ]
     },
     "metadata": {},
     "output_type": "display_data"
    },
    {
     "data": {
      "text/html": [
       "203"
      ],
      "text/latex": [
       "203"
      ],
      "text/markdown": [
       "203"
      ],
      "text/plain": [
       "[1] 203"
      ]
     },
     "metadata": {},
     "output_type": "display_data"
    }
   ],
   "source": [
    "ps.bin.dat.sum <- dat.pro_ps %>% select(-prom_peak, -ps) %>% distinct() %>% select(-celltype) %>% \n",
    "    left_join(fread(\"../dat/1910_v2/islet.cluster_labels.filt.txt\") %>% select(index, \n",
    "        cluster_name), by = c(cell = \"index\")) %>% separate(cluster_name, into = c(\"celltype\", \n",
    "    \"subtype\"), sep = \"_\")\n",
    "ps.bin.dat.sum %>% head(1)\n",
    "ps.bin.dat.sum %>% nrow\n",
    "\n",
    "setDT(ps.bin.dat.sum)\n",
    "ps.bin.dat.sum <- ps.bin.dat.sum %>% unite(\"ps_bin\", 3:2, sep = \":\", )\n",
    "ps.bin.dat.sum <- ps.bin.dat.sum[, .(.N), by = .(ps_bin, celltype, subtype)]\n",
    "ps.bin.dat.sum <- (ps.bin.dat.sum %>% spread(key = \"subtype\", value = \"N\", fill = 0) %>% \n",
    "    mutate(N = (`1` + `2`), frac = `1`/(`1` + `2`)))\n",
    "ps.bin.dat.sum %>% group_by(celltype) %>% summarise(tot = sum(N))\n",
    "ps.bin.dat.sum %>% head(1)\n",
    "ps.bin.dat.sum %>% nrow"
   ]
  },
  {
   "cell_type": "code",
   "execution_count": 9,
   "metadata": {},
   "outputs": [],
   "source": [
    "ps.bin.dat.sum <- ps.bin.dat.sum %>% separate(ps_bin, into = c(\"ps_bin_idx\", \"ps_bin\"), \n",
    "    sep = \":\")\n",
    "fwrite(ps.bin.dat.sum, \"../dat/1910_v2/ps.bin.dat.sum.csv\")"
   ]
  },
  {
   "cell_type": "code",
   "execution_count": 9,
   "metadata": {
    "scrolled": false
   },
   "outputs": [
    {
     "data": {
      "text/html": [
       "<table>\n",
       "<caption>A data.table: 1 × 3</caption>\n",
       "<thead>\n",
       "\t<tr><th scope=col>ps_bin</th><th scope=col>celltype</th><th scope=col>N</th></tr>\n",
       "\t<tr><th scope=col>&lt;fct&gt;</th><th scope=col>&lt;chr&gt;</th><th scope=col>&lt;int&gt;</th></tr>\n",
       "</thead>\n",
       "<tbody>\n",
       "\t<tr><td>(8.97,9.18]</td><td>alpha</td><td>211</td></tr>\n",
       "</tbody>\n",
       "</table>\n"
      ],
      "text/latex": [
       "A data.table: 1 × 3\n",
       "\\begin{tabular}{r|lll}\n",
       " ps\\_bin & celltype & N\\\\\n",
       " <fct> & <chr> & <int>\\\\\n",
       "\\hline\n",
       "\t (8.97,9.18{]} & alpha & 211\\\\\n",
       "\\end{tabular}\n"
      ],
      "text/markdown": [
       "\n",
       "A data.table: 1 × 3\n",
       "\n",
       "| ps_bin &lt;fct&gt; | celltype &lt;chr&gt; | N &lt;int&gt; |\n",
       "|---|---|---|\n",
       "| (8.97,9.18] | alpha | 211 |\n",
       "\n"
      ],
      "text/plain": [
       "  ps_bin      celltype N  \n",
       "1 (8.97,9.18] alpha    211"
      ]
     },
     "metadata": {},
     "output_type": "display_data"
    },
    {
     "data": {
      "text/html": [
       "245"
      ],
      "text/latex": [
       "245"
      ],
      "text/markdown": [
       "245"
      ],
      "text/plain": [
       "[1] 245"
      ]
     },
     "metadata": {},
     "output_type": "display_data"
    },
    {
     "name": "stdout",
     "output_type": "stream",
     "text": [
      "101 # bins:\n",
      "quantiles of alpha cell number per bin:\n"
     ]
    },
    {
     "data": {
      "text/html": [
       "<table>\n",
       "<caption>A matrix: 1 × 5 of type dbl</caption>\n",
       "<thead>\n",
       "\t<tr><th scope=col>0%</th><th scope=col>25%</th><th scope=col>50%</th><th scope=col>75%</th><th scope=col>100%</th></tr>\n",
       "</thead>\n",
       "<tbody>\n",
       "\t<tr><td>1</td><td>15.5</td><td>39</td><td>71.5</td><td>658</td></tr>\n",
       "</tbody>\n",
       "</table>\n"
      ],
      "text/latex": [
       "A matrix: 1 × 5 of type dbl\n",
       "\\begin{tabular}{lllll}\n",
       " 0\\% & 25\\% & 50\\% & 75\\% & 100\\%\\\\\n",
       "\\hline\n",
       "\t 1 & 15.5 & 39 & 71.5 & 658\\\\\n",
       "\\end{tabular}\n"
      ],
      "text/markdown": [
       "\n",
       "A matrix: 1 × 5 of type dbl\n",
       "\n",
       "| 0% | 25% | 50% | 75% | 100% |\n",
       "|---|---|---|---|---|\n",
       "| 1 | 15.5 | 39 | 71.5 | 658 |\n",
       "\n"
      ],
      "text/plain": [
       "     0% 25%  50% 75%  100%\n",
       "[1,] 1  15.5 39  71.5 658 "
      ]
     },
     "metadata": {},
     "output_type": "display_data"
    },
    {
     "name": "stdout",
     "output_type": "stream",
     "text": [
      "quantiles of beta cell number per bin:\n"
     ]
    },
    {
     "data": {
      "text/html": [
       "<table>\n",
       "<caption>A matrix: 1 × 5 of type dbl</caption>\n",
       "<thead>\n",
       "\t<tr><th scope=col>0%</th><th scope=col>25%</th><th scope=col>50%</th><th scope=col>75%</th><th scope=col>100%</th></tr>\n",
       "</thead>\n",
       "<tbody>\n",
       "\t<tr><td>2</td><td>29</td><td>56</td><td>94.25</td><td>555</td></tr>\n",
       "</tbody>\n",
       "</table>\n"
      ],
      "text/latex": [
       "A matrix: 1 × 5 of type dbl\n",
       "\\begin{tabular}{lllll}\n",
       " 0\\% & 25\\% & 50\\% & 75\\% & 100\\%\\\\\n",
       "\\hline\n",
       "\t 2 & 29 & 56 & 94.25 & 555\\\\\n",
       "\\end{tabular}\n"
      ],
      "text/markdown": [
       "\n",
       "A matrix: 1 × 5 of type dbl\n",
       "\n",
       "| 0% | 25% | 50% | 75% | 100% |\n",
       "|---|---|---|---|---|\n",
       "| 2 | 29 | 56 | 94.25 | 555 |\n",
       "\n"
      ],
      "text/plain": [
       "     0% 25% 50% 75%   100%\n",
       "[1,] 2  29  56  94.25 555 "
      ]
     },
     "metadata": {},
     "output_type": "display_data"
    },
    {
     "name": "stdout",
     "output_type": "stream",
     "text": [
      "quantiles of delta cell number per bin:\n"
     ]
    },
    {
     "data": {
      "text/html": [
       "<table>\n",
       "<caption>A matrix: 1 × 5 of type dbl</caption>\n",
       "<thead>\n",
       "\t<tr><th scope=col>0%</th><th scope=col>25%</th><th scope=col>50%</th><th scope=col>75%</th><th scope=col>100%</th></tr>\n",
       "</thead>\n",
       "<tbody>\n",
       "\t<tr><td>1</td><td>4</td><td>7.5</td><td>12.75</td><td>55</td></tr>\n",
       "</tbody>\n",
       "</table>\n"
      ],
      "text/latex": [
       "A matrix: 1 × 5 of type dbl\n",
       "\\begin{tabular}{lllll}\n",
       " 0\\% & 25\\% & 50\\% & 75\\% & 100\\%\\\\\n",
       "\\hline\n",
       "\t 1 & 4 & 7.5 & 12.75 & 55\\\\\n",
       "\\end{tabular}\n"
      ],
      "text/markdown": [
       "\n",
       "A matrix: 1 × 5 of type dbl\n",
       "\n",
       "| 0% | 25% | 50% | 75% | 100% |\n",
       "|---|---|---|---|---|\n",
       "| 1 | 4 | 7.5 | 12.75 | 55 |\n",
       "\n"
      ],
      "text/plain": [
       "     0% 25% 50% 75%   100%\n",
       "[1,] 1  4   7.5 12.75 55  "
      ]
     },
     "metadata": {},
     "output_type": "display_data"
    }
   ],
   "source": [
    "setDT(ps.bin.dat.sum)\n",
    "ps.bin.dat.sum <- ps.bin.dat.sum[, .(.N), by = .(ps_bin, celltype)]\n",
    "ps.bin.dat.sum%>%head(1)\n",
    "ps.bin.dat.sum%>%nrow\n",
    "cat(paste(N.bin, \"# bins:\\n\"))\n",
    "cat(\"quantiles of alpha cell number per bin:\\n\")\n",
    "t(quantile((ps.bin.dat.sum %>% filter(celltype == \"alpha\"))$N))\n",
    "cat(\"quantiles of beta cell number per bin:\\n\")\n",
    "t(quantile((ps.bin.dat.sum %>% filter(celltype == \"beta\"))$N))\n",
    "cat(\"quantiles of delta cell number per bin:\\n\")\n",
    "t(quantile((ps.bin.dat.sum %>% filter(celltype == \"delta\"))$N))"
   ]
  },
  {
   "cell_type": "markdown",
   "metadata": {
    "heading_collapsed": true
   },
   "source": [
    "#### 2.1.2 Delta need bigger bin size\n",
    "Or check `05a.Dynamical_data_prepare.ipynb`"
   ]
  },
  {
   "cell_type": "code",
   "execution_count": 12,
   "metadata": {
    "hidden": true
   },
   "outputs": [
    {
     "data": {
      "text/html": [
       "<table>\n",
       "<caption>A data.frame: 1 × 6</caption>\n",
       "<thead>\n",
       "\t<tr><th scope=col>prom_peak</th><th scope=col>cell</th><th scope=col>ps</th><th scope=col>celltype</th><th scope=col>ps_bin</th><th scope=col>ps_bin_idx</th></tr>\n",
       "\t<tr><th scope=col>&lt;chr&gt;</th><th scope=col>&lt;chr&gt;</th><th scope=col>&lt;dbl&gt;</th><th scope=col>&lt;chr&gt;</th><th scope=col>&lt;fct&gt;</th><th scope=col>&lt;dbl&gt;</th></tr>\n",
       "</thead>\n",
       "<tbody>\n",
       "\t<tr><td>10:101088824-101090586</td><td>Islet2fresh_TATCGGTTGGAGCTACCTGCATATGAC</td><td>0.05524501</td><td>delta</td><td>[0,0.749)</td><td>1</td></tr>\n",
       "</tbody>\n",
       "</table>\n"
      ],
      "text/latex": [
       "A data.frame: 1 × 6\n",
       "\\begin{tabular}{r|llllll}\n",
       " prom\\_peak & cell & ps & celltype & ps\\_bin & ps\\_bin\\_idx\\\\\n",
       " <chr> & <chr> & <dbl> & <chr> & <fct> & <dbl>\\\\\n",
       "\\hline\n",
       "\t 10:101088824-101090586 & Islet2fresh\\_TATCGGTTGGAGCTACCTGCATATGAC & 0.05524501 & delta & {[}0,0.749) & 1\\\\\n",
       "\\end{tabular}\n"
      ],
      "text/markdown": [
       "\n",
       "A data.frame: 1 × 6\n",
       "\n",
       "| prom_peak &lt;chr&gt; | cell &lt;chr&gt; | ps &lt;dbl&gt; | celltype &lt;chr&gt; | ps_bin &lt;fct&gt; | ps_bin_idx &lt;dbl&gt; |\n",
       "|---|---|---|---|---|---|\n",
       "| 10:101088824-101090586 | Islet2fresh_TATCGGTTGGAGCTACCTGCATATGAC | 0.05524501 | delta | [0,0.749) | 1 |\n",
       "\n"
      ],
      "text/plain": [
       "  prom_peak              cell                                    ps        \n",
       "1 10:101088824-101090586 Islet2fresh_TATCGGTTGGAGCTACCTGCATATGAC 0.05524501\n",
       "  celltype ps_bin    ps_bin_idx\n",
       "1 delta    [0,0.749) 1         "
      ]
     },
     "metadata": {},
     "output_type": "display_data"
    },
    {
     "data": {
      "text/html": [
       "<table>\n",
       "<caption>A data.frame: 1 × 4</caption>\n",
       "<thead>\n",
       "\t<tr><th scope=col>cell</th><th scope=col>celltype</th><th scope=col>ps_bin</th><th scope=col>ps_bin_idx</th></tr>\n",
       "\t<tr><th scope=col>&lt;chr&gt;</th><th scope=col>&lt;chr&gt;</th><th scope=col>&lt;fct&gt;</th><th scope=col>&lt;dbl&gt;</th></tr>\n",
       "</thead>\n",
       "<tbody>\n",
       "\t<tr><td>Islet2fresh_TATCGGTTGGAGCTACCTGCATATGAC</td><td>delta</td><td>[0,0.749)</td><td>1</td></tr>\n",
       "</tbody>\n",
       "</table>\n"
      ],
      "text/latex": [
       "A data.frame: 1 × 4\n",
       "\\begin{tabular}{r|llll}\n",
       " cell & celltype & ps\\_bin & ps\\_bin\\_idx\\\\\n",
       " <chr> & <chr> & <fct> & <dbl>\\\\\n",
       "\\hline\n",
       "\t Islet2fresh\\_TATCGGTTGGAGCTACCTGCATATGAC & delta & {[}0,0.749) & 1\\\\\n",
       "\\end{tabular}\n"
      ],
      "text/markdown": [
       "\n",
       "A data.frame: 1 × 4\n",
       "\n",
       "| cell &lt;chr&gt; | celltype &lt;chr&gt; | ps_bin &lt;fct&gt; | ps_bin_idx &lt;dbl&gt; |\n",
       "|---|---|---|---|\n",
       "| Islet2fresh_TATCGGTTGGAGCTACCTGCATATGAC | delta | [0,0.749) | 1 |\n",
       "\n"
      ],
      "text/plain": [
       "  cell                                    celltype ps_bin    ps_bin_idx\n",
       "1 Islet2fresh_TATCGGTTGGAGCTACCTGCATATGAC delta    [0,0.749) 1         "
      ]
     },
     "metadata": {},
     "output_type": "display_data"
    },
    {
     "data": {
      "text/html": [
       "710"
      ],
      "text/latex": [
       "710"
      ],
      "text/markdown": [
       "710"
      ],
      "text/plain": [
       "[1] 710"
      ]
     },
     "metadata": {},
     "output_type": "display_data"
    },
    {
     "data": {
      "text/html": [
       "<table>\n",
       "<caption>A data.table: 1 × 3</caption>\n",
       "<thead>\n",
       "\t<tr><th scope=col>ps_bin</th><th scope=col>celltype</th><th scope=col>N</th></tr>\n",
       "\t<tr><th scope=col>&lt;fct&gt;</th><th scope=col>&lt;chr&gt;</th><th scope=col>&lt;int&gt;</th></tr>\n",
       "</thead>\n",
       "<tbody>\n",
       "\t<tr><td>[0,0.749)</td><td>delta</td><td>51</td></tr>\n",
       "</tbody>\n",
       "</table>\n"
      ],
      "text/latex": [
       "A data.table: 1 × 3\n",
       "\\begin{tabular}{r|lll}\n",
       " ps\\_bin & celltype & N\\\\\n",
       " <fct> & <chr> & <int>\\\\\n",
       "\\hline\n",
       "\t {[}0,0.749) & delta & 51\\\\\n",
       "\\end{tabular}\n"
      ],
      "text/markdown": [
       "\n",
       "A data.table: 1 × 3\n",
       "\n",
       "| ps_bin &lt;fct&gt; | celltype &lt;chr&gt; | N &lt;int&gt; |\n",
       "|---|---|---|\n",
       "| [0,0.749) | delta | 51 |\n",
       "\n"
      ],
      "text/plain": [
       "  ps_bin    celltype N \n",
       "1 [0,0.749) delta    51"
      ]
     },
     "metadata": {},
     "output_type": "display_data"
    },
    {
     "data": {
      "text/html": [
       "20"
      ],
      "text/latex": [
       "20"
      ],
      "text/markdown": [
       "20"
      ],
      "text/plain": [
       "[1] 20"
      ]
     },
     "metadata": {},
     "output_type": "display_data"
    },
    {
     "name": "stdout",
     "output_type": "stream",
     "text": [
      "21 # bins:\n",
      "quantiles of delta cell number per bin:\n"
     ]
    },
    {
     "data": {
      "text/html": [
       "<table>\n",
       "<caption>A matrix: 1 × 5 of type dbl</caption>\n",
       "<thead>\n",
       "\t<tr><th scope=col>0%</th><th scope=col>25%</th><th scope=col>50%</th><th scope=col>75%</th><th scope=col>100%</th></tr>\n",
       "</thead>\n",
       "<tbody>\n",
       "\t<tr><td>7</td><td>19</td><td>34.5</td><td>48.75</td><td>92</td></tr>\n",
       "</tbody>\n",
       "</table>\n"
      ],
      "text/latex": [
       "A matrix: 1 × 5 of type dbl\n",
       "\\begin{tabular}{lllll}\n",
       " 0\\% & 25\\% & 50\\% & 75\\% & 100\\%\\\\\n",
       "\\hline\n",
       "\t 7 & 19 & 34.5 & 48.75 & 92\\\\\n",
       "\\end{tabular}\n"
      ],
      "text/markdown": [
       "\n",
       "A matrix: 1 × 5 of type dbl\n",
       "\n",
       "| 0% | 25% | 50% | 75% | 100% |\n",
       "|---|---|---|---|---|\n",
       "| 7 | 19 | 34.5 | 48.75 | 92 |\n",
       "\n"
      ],
      "text/plain": [
       "     0% 25% 50%  75%   100%\n",
       "[1,] 7  19  34.5 48.75 92  "
      ]
     },
     "metadata": {},
     "output_type": "display_data"
    }
   ],
   "source": [
    "N.bin <- 21\n",
    "ps.bks <- list()\n",
    "ps.bks$delta <- seq(ps.range$delta[1], ps.range$delta[2] + 1e-05, length.out = N.bin)\n",
    "\n",
    "dat.pro_ps.d <- dat.pro_ps %>% filter(celltype == \"delta\") %>% mutate(ps_bin = cut(ps, \n",
    "    breaks = ps.bks$delta, include.lowest = T, right = F)) %>% mutate(ps_bin_idx = as.numeric(ps_bin)) %>% \n",
    "    arrange(celltype, ps_bin_idx)\n",
    "\n",
    "dat.pro_ps.d %>% head(1)\n",
    "\n",
    "\n",
    "ps.bin.dat.sum <- dat.pro_ps.d %>% select(-prom_peak, -ps) %>% distinct()\n",
    "ps.bin.dat.sum %>% head(1)\n",
    "ps.bin.dat.sum %>% nrow\n",
    "\n",
    "\n",
    "setDT(ps.bin.dat.sum)\n",
    "ps.bin.dat.sum <- ps.bin.dat.sum[, .(.N), by = .(ps_bin, celltype)]\n",
    "ps.bin.dat.sum %>% head(1)\n",
    "ps.bin.dat.sum %>% nrow\n",
    "cat(paste(N.bin, \"# bins:\\n\"))\n",
    "cat(\"quantiles of delta cell number per bin:\\n\")\n",
    "t(quantile((ps.bin.dat.sum %>% filter(celltype == \"delta\"))$N))"
   ]
  },
  {
   "cell_type": "markdown",
   "metadata": {
    "heading_collapsed": true
   },
   "source": [
    "## 3. filter on glist"
   ]
  },
  {
   "cell_type": "code",
   "execution_count": 10,
   "metadata": {
    "hidden": true
   },
   "outputs": [
    {
     "data": {
      "text/html": [
       "2691"
      ],
      "text/latex": [
       "2691"
      ],
      "text/markdown": [
       "2691"
      ],
      "text/plain": [
       "[1] 2691"
      ]
     },
     "metadata": {},
     "output_type": "display_data"
    },
    {
     "data": {
      "text/html": [
       "2227"
      ],
      "text/latex": [
       "2227"
      ],
      "text/markdown": [
       "2227"
      ],
      "text/plain": [
       "[1] 2227"
      ]
     },
     "metadata": {},
     "output_type": "display_data"
    },
    {
     "data": {
      "text/html": [
       "878"
      ],
      "text/latex": [
       "878"
      ],
      "text/markdown": [
       "878"
      ],
      "text/plain": [
       "[1] 878"
      ]
     },
     "metadata": {},
     "output_type": "display_data"
    }
   ],
   "source": [
    "binary.glist<- readRDS('../dat/1901/binary.glist.Rds')\n",
    "all.tr <- unique(c(binary.glist$alpha1_tr,binary.glist$alpha2_tr,binary.glist$beta1_tr,binary.glist$beta2_tr))\n",
    "length(all.tr)\n",
    "length(c(binary.glist$alpha1_tr,binary.glist$alpha2_tr))\n",
    "length(c(binary.glist$beta1_tr,binary.glist$beta2_tr))"
   ]
  },
  {
   "cell_type": "code",
   "execution_count": 11,
   "metadata": {
    "hidden": true
   },
   "outputs": [
    {
     "name": "stderr",
     "output_type": "stream",
     "text": [
      "Loading required package: venn\n"
     ]
    },
    {
     "data": {
      "image/png": "[encoded data removed]",
      "text/plain": [
       "plot without title"
      ]
     },
     "metadata": {},
     "output_type": "display_data"
    },
    {
     "data": {
      "image/png": "[encoded data removed]",
      "text/plain": [
       "plot without title"
      ]
     },
     "metadata": {},
     "output_type": "display_data"
    }
   ],
   "source": [
    "options(repr.plot.width=3, repr.plot.height=3)\n",
    "require(venn)\n",
    "binary.glist.2 <- binary.glist\n",
    "binary.glist$alpha1<-NULL;binary.glist$alpha2<-NULL;binary.glist$beta1<-NULL;binary.glist$beta2<-NULL;\n",
    "binary.glist.2$alpha1_tr<-NULL;binary.glist.2$alpha2_tr<-NULL;binary.glist.2$beta1_tr<-NULL;binary.glist.2$beta2_tr<-NULL;\n",
    "venn(binary.glist,ellipse = T)\n",
    "venn(binary.glist.2,ellipse = T)\n"
   ]
  },
  {
   "cell_type": "code",
   "execution_count": 12,
   "metadata": {
    "hidden": true
   },
   "outputs": [
    {
     "data": {
      "text/html": [
       "<ol class=list-inline>\n",
       "\t<li>19412387</li>\n",
       "\t<li>5</li>\n",
       "</ol>\n"
      ],
      "text/latex": [
       "\\begin{enumerate*}\n",
       "\\item 19412387\n",
       "\\item 5\n",
       "\\end{enumerate*}\n"
      ],
      "text/markdown": [
       "1. 19412387\n",
       "2. 5\n",
       "\n",
       "\n"
      ],
      "text/plain": [
       "[1] 19412387        5"
      ]
     },
     "metadata": {},
     "output_type": "display_data"
    },
    {
     "data": {
      "text/html": [
       "<ol class=list-inline>\n",
       "\t<li>764911</li>\n",
       "\t<li>5</li>\n",
       "</ol>\n"
      ],
      "text/latex": [
       "\\begin{enumerate*}\n",
       "\\item 764911\n",
       "\\item 5\n",
       "\\end{enumerate*}\n"
      ],
      "text/markdown": [
       "1. 764911\n",
       "2. 5\n",
       "\n",
       "\n"
      ],
      "text/plain": [
       "[1] 764911      5"
      ]
     },
     "metadata": {},
     "output_type": "display_data"
    }
   ],
   "source": [
    "#gene_tr.idx\tcluster\t\n",
    "dim(dat.pro_ps)\n",
    "dat.pro_ps.filtered <- rbind(\n",
    "    dat.pro_ps%>% filter(gene_tr.idx%in% binary.glist$alpha1_tr,cluster==\"alpha_1\"),\n",
    "    dat.pro_ps%>% filter(gene_tr.idx%in% binary.glist$alpha2_tr,cluster==\"alpha_2\"),\n",
    "    dat.pro_ps%>% filter(gene_tr.idx%in% binary.glist$beta1_tr,cluster==\"beta_1\"),\n",
    "    dat.pro_ps%>% filter(gene_tr.idx%in% binary.glist$beta2_tr,cluster==\"beta_2\")    \n",
    ")\n",
    "dim(dat.pro_ps.filtered)"
   ]
  },
  {
   "cell_type": "markdown",
   "metadata": {},
   "source": [
    "## 4. Calc percent_open & smooth for transcripts"
   ]
  },
  {
   "cell_type": "markdown",
   "metadata": {
    "heading_collapsed": true
   },
   "source": [
    "### 4.1 convert to percetage openning per bin"
   ]
  },
  {
   "cell_type": "code",
   "execution_count": 10,
   "metadata": {
    "hidden": true,
    "scrolled": true
   },
   "outputs": [
    {
     "name": "stderr",
     "output_type": "stream",
     "text": [
      "Joining, by = c(\"celltype\", \"ps_bin\")\n"
     ]
    },
    {
     "data": {
      "text/html": [
       "<ol class=list-inline>\n",
       "\t<li>778840</li>\n",
       "\t<li>7</li>\n",
       "</ol>\n"
      ],
      "text/latex": [
       "\\begin{enumerate*}\n",
       "\\item 778840\n",
       "\\item 7\n",
       "\\end{enumerate*}\n"
      ],
      "text/markdown": [
       "1. 778840\n",
       "2. 7\n",
       "\n",
       "\n"
      ],
      "text/plain": [
       "[1] 778840      7"
      ]
     },
     "metadata": {},
     "output_type": "display_data"
    },
    {
     "data": {
      "text/html": [
       "<table>\n",
       "<thead><tr><th scope=col>gene_tr.idx</th><th scope=col>celltype</th><th scope=col>subtype</th><th scope=col>cell</th><th scope=col>ps</th><th scope=col>ps_bin</th><th scope=col>N</th></tr></thead>\n",
       "<tbody>\n",
       "\t<tr><td>AAGAB_42733                                  </td><td>alpha                                        </td><td>2                                            </td><td>Islet1-fresh_CTATTAGGAGGCAGAAGAGCCTTAGTACT   </td><td>0.4009975                                    </td><td>(0.337,0.405]                                </td><td> 66                                          </td></tr>\n",
       "\t<tr><td>AAGAB_42733                                  </td><td>alpha                                        </td><td>2                                            </td><td>Islet1-fresh_CTATTAGGAGGCAGAACCTAGAGTGTACT   </td><td>0.6548890                                    </td><td>(0.607,0.675]                                </td><td> 73                                          </td></tr>\n",
       "\t<tr><td>AAGAB_42733                                  </td><td>alpha                                        </td><td>2                                            </td><td>Islet2-fresh_CTCATACAGCGTAGTAAGCCTTACTGA     </td><td>2.0769056                                    </td><td>(2.02,2.09]                                  </td><td>173                                          </td></tr>\n",
       "\t<tr><td>AAGAB_42733                                  </td><td>alpha                                        </td><td>2                                            </td><td>Islet2-fresh_TGTGCAACTACGCTGCTAAGCCTGAAG     </td><td>2.0265379                                    </td><td>(2.02,2.09]                                  </td><td>173                                          </td></tr>\n",
       "\t<tr><td>AAGAB_42733                                  </td><td>alpha                                        </td><td>2                                            </td><td>Islet3-fresh_ATTACTCGCTCTGGTACTAAGCCTATAGAGGC</td><td>2.0728751                                    </td><td>(2.02,2.09]                                  </td><td>173                                          </td></tr>\n",
       "\t<tr><td>AAGAB_42733                                  </td><td>alpha                                        </td><td>2                                            </td><td>Islet3-fresh_CTATTAGGTGCAGCTACCTAGAGTAGGCGAAG</td><td>3.0619376                                    </td><td>(3.04,3.1]                                   </td><td> 47                                          </td></tr>\n",
       "</tbody>\n",
       "</table>\n"
      ],
      "text/latex": [
       "\\begin{tabular}{r|lllllll}\n",
       " gene\\_tr.idx & celltype & subtype & cell & ps & ps\\_bin & N\\\\\n",
       "\\hline\n",
       "\t AAGAB\\_42733                                   & alpha                                           & 2                                               & Islet1-fresh\\_CTATTAGGAGGCAGAAGAGCCTTAGTACT    & 0.4009975                                       & (0.337,0.405{]}                                 &  66                                            \\\\\n",
       "\t AAGAB\\_42733                                   & alpha                                           & 2                                               & Islet1-fresh\\_CTATTAGGAGGCAGAACCTAGAGTGTACT    & 0.6548890                                       & (0.607,0.675{]}                                 &  73                                            \\\\\n",
       "\t AAGAB\\_42733                                   & alpha                                           & 2                                               & Islet2-fresh\\_CTCATACAGCGTAGTAAGCCTTACTGA      & 2.0769056                                       & (2.02,2.09{]}                                   & 173                                            \\\\\n",
       "\t AAGAB\\_42733                                   & alpha                                           & 2                                               & Islet2-fresh\\_TGTGCAACTACGCTGCTAAGCCTGAAG      & 2.0265379                                       & (2.02,2.09{]}                                   & 173                                            \\\\\n",
       "\t AAGAB\\_42733                                   & alpha                                           & 2                                               & Islet3-fresh\\_ATTACTCGCTCTGGTACTAAGCCTATAGAGGC & 2.0728751                                       & (2.02,2.09{]}                                   & 173                                            \\\\\n",
       "\t AAGAB\\_42733                                   & alpha                                           & 2                                               & Islet3-fresh\\_CTATTAGGTGCAGCTACCTAGAGTAGGCGAAG & 3.0619376                                       & (3.04,3.1{]}                                    &  47                                            \\\\\n",
       "\\end{tabular}\n"
      ],
      "text/markdown": [
       "\n",
       "gene_tr.idx | celltype | subtype | cell | ps | ps_bin | N | \n",
       "|---|---|---|---|---|---|\n",
       "| AAGAB_42733                                   | alpha                                         | 2                                             | Islet1-fresh_CTATTAGGAGGCAGAAGAGCCTTAGTACT    | 0.4009975                                     | (0.337,0.405]                                 |  66                                           | \n",
       "| AAGAB_42733                                   | alpha                                         | 2                                             | Islet1-fresh_CTATTAGGAGGCAGAACCTAGAGTGTACT    | 0.6548890                                     | (0.607,0.675]                                 |  73                                           | \n",
       "| AAGAB_42733                                   | alpha                                         | 2                                             | Islet2-fresh_CTCATACAGCGTAGTAAGCCTTACTGA      | 2.0769056                                     | (2.02,2.09]                                   | 173                                           | \n",
       "| AAGAB_42733                                   | alpha                                         | 2                                             | Islet2-fresh_TGTGCAACTACGCTGCTAAGCCTGAAG      | 2.0265379                                     | (2.02,2.09]                                   | 173                                           | \n",
       "| AAGAB_42733                                   | alpha                                         | 2                                             | Islet3-fresh_ATTACTCGCTCTGGTACTAAGCCTATAGAGGC | 2.0728751                                     | (2.02,2.09]                                   | 173                                           | \n",
       "| AAGAB_42733                                   | alpha                                         | 2                                             | Islet3-fresh_CTATTAGGTGCAGCTACCTAGAGTAGGCGAAG | 3.0619376                                     | (3.04,3.1]                                    |  47                                           | \n",
       "\n",
       "\n"
      ],
      "text/plain": [
       "  gene_tr.idx celltype subtype cell                                         \n",
       "1 AAGAB_42733 alpha    2       Islet1-fresh_CTATTAGGAGGCAGAAGAGCCTTAGTACT   \n",
       "2 AAGAB_42733 alpha    2       Islet1-fresh_CTATTAGGAGGCAGAACCTAGAGTGTACT   \n",
       "3 AAGAB_42733 alpha    2       Islet2-fresh_CTCATACAGCGTAGTAAGCCTTACTGA     \n",
       "4 AAGAB_42733 alpha    2       Islet2-fresh_TGTGCAACTACGCTGCTAAGCCTGAAG     \n",
       "5 AAGAB_42733 alpha    2       Islet3-fresh_ATTACTCGCTCTGGTACTAAGCCTATAGAGGC\n",
       "6 AAGAB_42733 alpha    2       Islet3-fresh_CTATTAGGTGCAGCTACCTAGAGTAGGCGAAG\n",
       "  ps        ps_bin        N  \n",
       "1 0.4009975 (0.337,0.405]  66\n",
       "2 0.6548890 (0.607,0.675]  73\n",
       "3 2.0769056 (2.02,2.09]   173\n",
       "4 2.0265379 (2.02,2.09]   173\n",
       "5 2.0728751 (2.02,2.09]   173\n",
       "6 3.0619376 (3.04,3.1]     47"
      ]
     },
     "metadata": {},
     "output_type": "display_data"
    }
   ],
   "source": [
    "dat.pro_ps.long <- dat.pro_ps.filtered%>%\n",
    "    separate(cluster,into=c(\"celltype\",\"subtype\"))%>%\n",
    "    left_join(ps.bin.dat.sum)\n",
    "dim(dat.pro_ps.long)\n",
    "head(dat.pro_ps.long%>%arrange(gene_tr.idx,ps_bin))"
   ]
  },
  {
   "cell_type": "code",
   "execution_count": 11,
   "metadata": {
    "hidden": true
   },
   "outputs": [
    {
     "name": "stderr",
     "output_type": "stream",
     "text": [
      "Joining, by = c(\"celltype\", \"ps_bin\")\n"
     ]
    },
    {
     "data": {
      "text/html": [
       "<table>\n",
       "<thead><tr><th scope=col>gene_tr.idx</th><th scope=col>celltype</th><th scope=col>ps_bin</th><th scope=col>n</th><th scope=col>N</th><th scope=col>ps_bin.2</th><th scope=col>percent_open</th></tr></thead>\n",
       "<tbody>\n",
       "\t<tr><td>AAGAB_42733  </td><td>alpha        </td><td>(0.337,0.405]</td><td>1            </td><td> 66          </td><td> 6           </td><td>1.515152     </td></tr>\n",
       "\t<tr><td>AAGAB_42733  </td><td>alpha        </td><td>(0.607,0.675]</td><td>1            </td><td> 73          </td><td>10           </td><td>1.369863     </td></tr>\n",
       "\t<tr><td>AAGAB_42733  </td><td>alpha        </td><td>(2.02,2.09]  </td><td>3            </td><td>173          </td><td>31           </td><td>1.734104     </td></tr>\n",
       "\t<tr><td>AAGAB_42733  </td><td>alpha        </td><td>(3.04,3.1]   </td><td>1            </td><td> 47          </td><td>46           </td><td>2.127660     </td></tr>\n",
       "\t<tr><td>AAGAB_42733  </td><td>alpha        </td><td>(3.44,3.51]  </td><td>1            </td><td> 58          </td><td>52           </td><td>1.724138     </td></tr>\n",
       "\t<tr><td>AAGAB_42733  </td><td>alpha        </td><td>(3.51,3.58]  </td><td>2            </td><td> 63          </td><td>53           </td><td>3.174603     </td></tr>\n",
       "</tbody>\n",
       "</table>\n"
      ],
      "text/latex": [
       "\\begin{tabular}{r|lllllll}\n",
       " gene\\_tr.idx & celltype & ps\\_bin & n & N & ps\\_bin.2 & percent\\_open\\\\\n",
       "\\hline\n",
       "\t AAGAB\\_42733   & alpha           & (0.337,0.405{]} & 1               &  66             &  6              & 1.515152       \\\\\n",
       "\t AAGAB\\_42733   & alpha           & (0.607,0.675{]} & 1               &  73             & 10              & 1.369863       \\\\\n",
       "\t AAGAB\\_42733   & alpha           & (2.02,2.09{]}   & 3               & 173             & 31              & 1.734104       \\\\\n",
       "\t AAGAB\\_42733   & alpha           & (3.04,3.1{]}    & 1               &  47             & 46              & 2.127660       \\\\\n",
       "\t AAGAB\\_42733   & alpha           & (3.44,3.51{]}   & 1               &  58             & 52              & 1.724138       \\\\\n",
       "\t AAGAB\\_42733   & alpha           & (3.51,3.58{]}   & 2               &  63             & 53              & 3.174603       \\\\\n",
       "\\end{tabular}\n"
      ],
      "text/markdown": [
       "\n",
       "gene_tr.idx | celltype | ps_bin | n | N | ps_bin.2 | percent_open | \n",
       "|---|---|---|---|---|---|\n",
       "| AAGAB_42733   | alpha         | (0.337,0.405] | 1             |  66           |  6            | 1.515152      | \n",
       "| AAGAB_42733   | alpha         | (0.607,0.675] | 1             |  73           | 10            | 1.369863      | \n",
       "| AAGAB_42733   | alpha         | (2.02,2.09]   | 3             | 173           | 31            | 1.734104      | \n",
       "| AAGAB_42733   | alpha         | (3.04,3.1]    | 1             |  47           | 46            | 2.127660      | \n",
       "| AAGAB_42733   | alpha         | (3.44,3.51]   | 1             |  58           | 52            | 1.724138      | \n",
       "| AAGAB_42733   | alpha         | (3.51,3.58]   | 2             |  63           | 53            | 3.174603      | \n",
       "\n",
       "\n"
      ],
      "text/plain": [
       "  gene_tr.idx celltype ps_bin        n N   ps_bin.2 percent_open\n",
       "1 AAGAB_42733 alpha    (0.337,0.405] 1  66  6       1.515152    \n",
       "2 AAGAB_42733 alpha    (0.607,0.675] 1  73 10       1.369863    \n",
       "3 AAGAB_42733 alpha    (2.02,2.09]   3 173 31       1.734104    \n",
       "4 AAGAB_42733 alpha    (3.04,3.1]    1  47 46       2.127660    \n",
       "5 AAGAB_42733 alpha    (3.44,3.51]   1  58 52       1.724138    \n",
       "6 AAGAB_42733 alpha    (3.51,3.58]   2  63 53       3.174603    "
      ]
     },
     "metadata": {},
     "output_type": "display_data"
    },
    {
     "data": {
      "text/html": [
       "<ol class=list-inline>\n",
       "\t<li>134806</li>\n",
       "\t<li>7</li>\n",
       "</ol>\n"
      ],
      "text/latex": [
       "\\begin{enumerate*}\n",
       "\\item 134806\n",
       "\\item 7\n",
       "\\end{enumerate*}\n"
      ],
      "text/markdown": [
       "1. 134806\n",
       "2. 7\n",
       "\n",
       "\n"
      ],
      "text/plain": [
       "[1] 134806      7"
      ]
     },
     "metadata": {},
     "output_type": "display_data"
    },
    {
     "data": {
      "text/html": [
       "<table>\n",
       "<thead><tr><th scope=col>gene_tr.idx</th><th scope=col>celltype</th><th scope=col>ps_bin</th><th scope=col>n</th><th scope=col>N</th><th scope=col>ps_bin.2</th><th scope=col>percent_open</th></tr></thead>\n",
       "<tbody>\n",
       "\t<tr><td>ABCB1_117182</td><td>beta        </td><td>(6.47,6.67] </td><td>2           </td><td> 34         </td><td>133         </td><td>5.8823529   </td></tr>\n",
       "\t<tr><td>ABCB1_117182</td><td>beta        </td><td>(9.9,10.1]  </td><td>1           </td><td> 45         </td><td>150         </td><td>2.2222222   </td></tr>\n",
       "\t<tr><td>ABCB1_117182</td><td>beta        </td><td>(10.5,10.7] </td><td>2           </td><td>105         </td><td>153         </td><td>1.9047619   </td></tr>\n",
       "\t<tr><td>ABCB1_117182</td><td>beta        </td><td>(10.7,10.9] </td><td>1           </td><td>123         </td><td>154         </td><td>0.8130081   </td></tr>\n",
       "\t<tr><td>ABCB1_117182</td><td>beta        </td><td>(10.9,11.1] </td><td>2           </td><td>128         </td><td>155         </td><td>1.5625000   </td></tr>\n",
       "\t<tr><td>ABCB1_117182</td><td>beta        </td><td>(11.1,11.3] </td><td>1           </td><td> 59         </td><td>156         </td><td>1.6949153   </td></tr>\n",
       "</tbody>\n",
       "</table>\n"
      ],
      "text/latex": [
       "\\begin{tabular}{r|lllllll}\n",
       " gene\\_tr.idx & celltype & ps\\_bin & n & N & ps\\_bin.2 & percent\\_open\\\\\n",
       "\\hline\n",
       "\t ABCB1\\_117182 & beta           & (6.47,6.67{]}  & 2              &  34            & 133            & 5.8823529     \\\\\n",
       "\t ABCB1\\_117182 & beta           & (9.9,10.1{]}   & 1              &  45            & 150            & 2.2222222     \\\\\n",
       "\t ABCB1\\_117182 & beta           & (10.5,10.7{]}  & 2              & 105            & 153            & 1.9047619     \\\\\n",
       "\t ABCB1\\_117182 & beta           & (10.7,10.9{]}  & 1              & 123            & 154            & 0.8130081     \\\\\n",
       "\t ABCB1\\_117182 & beta           & (10.9,11.1{]}  & 2              & 128            & 155            & 1.5625000     \\\\\n",
       "\t ABCB1\\_117182 & beta           & (11.1,11.3{]}  & 1              &  59            & 156            & 1.6949153     \\\\\n",
       "\\end{tabular}\n"
      ],
      "text/markdown": [
       "\n",
       "gene_tr.idx | celltype | ps_bin | n | N | ps_bin.2 | percent_open | \n",
       "|---|---|---|---|---|---|\n",
       "| ABCB1_117182 | beta         | (6.47,6.67]  | 2            |  34          | 133          | 5.8823529    | \n",
       "| ABCB1_117182 | beta         | (9.9,10.1]   | 1            |  45          | 150          | 2.2222222    | \n",
       "| ABCB1_117182 | beta         | (10.5,10.7]  | 2            | 105          | 153          | 1.9047619    | \n",
       "| ABCB1_117182 | beta         | (10.7,10.9]  | 1            | 123          | 154          | 0.8130081    | \n",
       "| ABCB1_117182 | beta         | (10.9,11.1]  | 2            | 128          | 155          | 1.5625000    | \n",
       "| ABCB1_117182 | beta         | (11.1,11.3]  | 1            |  59          | 156          | 1.6949153    | \n",
       "\n",
       "\n"
      ],
      "text/plain": [
       "  gene_tr.idx  celltype ps_bin      n N   ps_bin.2 percent_open\n",
       "1 ABCB1_117182 beta     (6.47,6.67] 2  34 133      5.8823529   \n",
       "2 ABCB1_117182 beta     (9.9,10.1]  1  45 150      2.2222222   \n",
       "3 ABCB1_117182 beta     (10.5,10.7] 2 105 153      1.9047619   \n",
       "4 ABCB1_117182 beta     (10.7,10.9] 1 123 154      0.8130081   \n",
       "5 ABCB1_117182 beta     (10.9,11.1] 2 128 155      1.5625000   \n",
       "6 ABCB1_117182 beta     (11.1,11.3] 1  59 156      1.6949153   "
      ]
     },
     "metadata": {},
     "output_type": "display_data"
    }
   ],
   "source": [
    "dat.pro_ps.long <- dat.pro_ps.long%>% \n",
    "    group_by(gene_tr.idx,celltype,ps_bin)%>%summarise(n= n())%>%\n",
    "    left_join(ps.bin.dat.sum)%>%arrange(gene_tr.idx,ps_bin)%>%\n",
    "    mutate(ps_bin.2 = as.numeric(ps_bin))%>% \n",
    "    mutate(percent_open=n/N*100)\n",
    "head(dat.pro_ps.long)\n",
    "dim(dat.pro_ps.long)\n",
    "head(dat.pro_ps.long%>%filter(celltype==\"beta\"))"
   ]
  },
  {
   "cell_type": "code",
   "execution_count": 12,
   "metadata": {
    "hidden": true
   },
   "outputs": [
    {
     "data": {
      "text/html": [
       "<table>\n",
       "<thead><tr><th scope=col>gene_tr.idx</th><th scope=col>celltype</th><th scope=col>ps_bin</th><th scope=col>n</th><th scope=col>N</th><th scope=col>ps_bin.2</th><th scope=col>percent_open</th></tr></thead>\n",
       "<tbody>\n",
       "\t<tr><td>AAGAB_42733  </td><td>alpha        </td><td>(0.337,0.405]</td><td>1            </td><td> 66          </td><td> 6           </td><td>1.515152     </td></tr>\n",
       "\t<tr><td>AAGAB_42733  </td><td>alpha        </td><td>(0.607,0.675]</td><td>1            </td><td> 73          </td><td>10           </td><td>1.369863     </td></tr>\n",
       "\t<tr><td>AAGAB_42733  </td><td>alpha        </td><td>(2.02,2.09]  </td><td>3            </td><td>173          </td><td>31           </td><td>1.734104     </td></tr>\n",
       "\t<tr><td>AAGAB_42733  </td><td>alpha        </td><td>(3.04,3.1]   </td><td>1            </td><td> 47          </td><td>46           </td><td>2.127660     </td></tr>\n",
       "\t<tr><td>AAGAB_42733  </td><td>alpha        </td><td>(3.44,3.51]  </td><td>1            </td><td> 58          </td><td>52           </td><td>1.724138     </td></tr>\n",
       "\t<tr><td>AAGAB_42733  </td><td>alpha        </td><td>(3.51,3.58]  </td><td>2            </td><td> 63          </td><td>53           </td><td>3.174603     </td></tr>\n",
       "</tbody>\n",
       "</table>\n"
      ],
      "text/latex": [
       "\\begin{tabular}{r|lllllll}\n",
       " gene\\_tr.idx & celltype & ps\\_bin & n & N & ps\\_bin.2 & percent\\_open\\\\\n",
       "\\hline\n",
       "\t AAGAB\\_42733   & alpha           & (0.337,0.405{]} & 1               &  66             &  6              & 1.515152       \\\\\n",
       "\t AAGAB\\_42733   & alpha           & (0.607,0.675{]} & 1               &  73             & 10              & 1.369863       \\\\\n",
       "\t AAGAB\\_42733   & alpha           & (2.02,2.09{]}   & 3               & 173             & 31              & 1.734104       \\\\\n",
       "\t AAGAB\\_42733   & alpha           & (3.04,3.1{]}    & 1               &  47             & 46              & 2.127660       \\\\\n",
       "\t AAGAB\\_42733   & alpha           & (3.44,3.51{]}   & 1               &  58             & 52              & 1.724138       \\\\\n",
       "\t AAGAB\\_42733   & alpha           & (3.51,3.58{]}   & 2               &  63             & 53              & 3.174603       \\\\\n",
       "\\end{tabular}\n"
      ],
      "text/markdown": [
       "\n",
       "gene_tr.idx | celltype | ps_bin | n | N | ps_bin.2 | percent_open | \n",
       "|---|---|---|---|---|---|\n",
       "| AAGAB_42733   | alpha         | (0.337,0.405] | 1             |  66           |  6            | 1.515152      | \n",
       "| AAGAB_42733   | alpha         | (0.607,0.675] | 1             |  73           | 10            | 1.369863      | \n",
       "| AAGAB_42733   | alpha         | (2.02,2.09]   | 3             | 173           | 31            | 1.734104      | \n",
       "| AAGAB_42733   | alpha         | (3.04,3.1]    | 1             |  47           | 46            | 2.127660      | \n",
       "| AAGAB_42733   | alpha         | (3.44,3.51]   | 1             |  58           | 52            | 1.724138      | \n",
       "| AAGAB_42733   | alpha         | (3.51,3.58]   | 2             |  63           | 53            | 3.174603      | \n",
       "\n",
       "\n"
      ],
      "text/plain": [
       "  gene_tr.idx celltype ps_bin        n N   ps_bin.2 percent_open\n",
       "1 AAGAB_42733 alpha    (0.337,0.405] 1  66  6       1.515152    \n",
       "2 AAGAB_42733 alpha    (0.607,0.675] 1  73 10       1.369863    \n",
       "3 AAGAB_42733 alpha    (2.02,2.09]   3 173 31       1.734104    \n",
       "4 AAGAB_42733 alpha    (3.04,3.1]    1  47 46       2.127660    \n",
       "5 AAGAB_42733 alpha    (3.44,3.51]   1  58 52       1.724138    \n",
       "6 AAGAB_42733 alpha    (3.51,3.58]   2  63 53       3.174603    "
      ]
     },
     "metadata": {},
     "output_type": "display_data"
    },
    {
     "data": {
      "text/html": [
       "<ol class=list-inline>\n",
       "\t<li>134806</li>\n",
       "\t<li>7</li>\n",
       "</ol>\n"
      ],
      "text/latex": [
       "\\begin{enumerate*}\n",
       "\\item 134806\n",
       "\\item 7\n",
       "\\end{enumerate*}\n"
      ],
      "text/markdown": [
       "1. 134806\n",
       "2. 7\n",
       "\n",
       "\n"
      ],
      "text/plain": [
       "[1] 134806      7"
      ]
     },
     "metadata": {},
     "output_type": "display_data"
    }
   ],
   "source": [
    "head(dat.pro_ps.long)\n",
    "dim(dat.pro_ps.long)"
   ]
  },
  {
   "cell_type": "code",
   "execution_count": 15,
   "metadata": {
    "hidden": true
   },
   "outputs": [
    {
     "data": {
      "text/html": [
       "<table>\n",
       "<thead><tr><th scope=col>gene_tr.idx</th><th scope=col>celltype</th><th scope=col>1</th><th scope=col>2</th><th scope=col>3</th><th scope=col>4</th><th scope=col>5</th><th scope=col>6</th><th scope=col>7</th><th scope=col>8</th><th scope=col>⋯</th><th scope=col>91</th><th scope=col>92</th><th scope=col>93</th><th scope=col>94</th><th scope=col>95</th><th scope=col>96</th><th scope=col>97</th><th scope=col>98</th><th scope=col>99</th><th scope=col>100</th></tr></thead>\n",
       "<tbody>\n",
       "\t<tr><td>AAGAB_42733 </td><td>alpha       </td><td>0           </td><td>0           </td><td>0           </td><td>0           </td><td>0           </td><td>1.515152    </td><td>0           </td><td>0           </td><td>⋯           </td><td>20.000000   </td><td>19.333333   </td><td>18.691589   </td><td>20.00       </td><td>27.586207   </td><td>38.709677   </td><td>31.578947   </td><td>40          </td><td>33.33333    </td><td> 0          </td></tr>\n",
       "\t<tr><td>AAMDC_22628 </td><td>alpha       </td><td>0           </td><td>0           </td><td>0           </td><td>0           </td><td>0           </td><td>0.000000    </td><td>0           </td><td>0           </td><td>⋯           </td><td>26.666667   </td><td>33.333333   </td><td>28.037383   </td><td>41.25       </td><td>31.034483   </td><td>32.258065   </td><td>36.842105   </td><td>60          </td><td>50.00000    </td><td>50          </td></tr>\n",
       "\t<tr><td>AATF_55762  </td><td>alpha       </td><td>0           </td><td>0           </td><td>0           </td><td>0           </td><td>0           </td><td>0.000000    </td><td>0           </td><td>0           </td><td>⋯           </td><td> 7.272727   </td><td>10.000000   </td><td>15.887850   </td><td>11.25       </td><td>17.241379   </td><td> 9.677419   </td><td>26.315789   </td><td>40          </td><td>16.66667    </td><td>50          </td></tr>\n",
       "\t<tr><td>ABCA2_129618</td><td>alpha       </td><td>0           </td><td>0           </td><td>0           </td><td>0           </td><td>0           </td><td>0.000000    </td><td>0           </td><td>0           </td><td>⋯           </td><td> 4.848485   </td><td> 8.666667   </td><td> 8.411215   </td><td>12.50       </td><td> 5.172414   </td><td> 3.225806   </td><td> 5.263158   </td><td>20          </td><td> 0.00000    </td><td> 0          </td></tr>\n",
       "\t<tr><td>ABCB10_11455</td><td>alpha       </td><td>0           </td><td>0           </td><td>0           </td><td>0           </td><td>0           </td><td>0.000000    </td><td>0           </td><td>0           </td><td>⋯           </td><td>20.606061   </td><td>20.666667   </td><td>31.775701   </td><td>27.50       </td><td>22.413793   </td><td>29.032258   </td><td>47.368421   </td><td>30          </td><td>33.33333    </td><td>50          </td></tr>\n",
       "\t<tr><td>ABCB9_32864 </td><td>alpha       </td><td>0           </td><td>0           </td><td>0           </td><td>0           </td><td>0           </td><td>0.000000    </td><td>0           </td><td>0           </td><td>⋯           </td><td> 3.636364   </td><td> 6.000000   </td><td>13.084112   </td><td> 3.75       </td><td>12.068966   </td><td>12.903226   </td><td>15.789474   </td><td>10          </td><td> 0.00000    </td><td> 0          </td></tr>\n",
       "</tbody>\n",
       "</table>\n"
      ],
      "text/latex": [
       "\\begin{tabular}{r|llllllllllllllllllllllllllllllllllllllllllllllllllllllllllllllllllllllllllllllllllllllllllllllllllllll}\n",
       " gene\\_tr.idx & celltype & 1 & 2 & 3 & 4 & 5 & 6 & 7 & 8 & ⋯ & 91 & 92 & 93 & 94 & 95 & 96 & 97 & 98 & 99 & 100\\\\\n",
       "\\hline\n",
       "\t AAGAB\\_42733  & alpha          & 0              & 0              & 0              & 0              & 0              & 1.515152       & 0              & 0              & ⋯              & 20.000000      & 19.333333      & 18.691589      & 20.00          & 27.586207      & 38.709677      & 31.578947      & 40             & 33.33333       &  0            \\\\\n",
       "\t AAMDC\\_22628  & alpha          & 0              & 0              & 0              & 0              & 0              & 0.000000       & 0              & 0              & ⋯              & 26.666667      & 33.333333      & 28.037383      & 41.25          & 31.034483      & 32.258065      & 36.842105      & 60             & 50.00000       & 50            \\\\\n",
       "\t AATF\\_55762   & alpha          & 0              & 0              & 0              & 0              & 0              & 0.000000       & 0              & 0              & ⋯              &  7.272727      & 10.000000      & 15.887850      & 11.25          & 17.241379      &  9.677419      & 26.315789      & 40             & 16.66667       & 50            \\\\\n",
       "\t ABCA2\\_129618 & alpha          & 0              & 0              & 0              & 0              & 0              & 0.000000       & 0              & 0              & ⋯              &  4.848485      &  8.666667      &  8.411215      & 12.50          &  5.172414      &  3.225806      &  5.263158      & 20             &  0.00000       &  0            \\\\\n",
       "\t ABCB10\\_11455 & alpha          & 0              & 0              & 0              & 0              & 0              & 0.000000       & 0              & 0              & ⋯              & 20.606061      & 20.666667      & 31.775701      & 27.50          & 22.413793      & 29.032258      & 47.368421      & 30             & 33.33333       & 50            \\\\\n",
       "\t ABCB9\\_32864  & alpha          & 0              & 0              & 0              & 0              & 0              & 0.000000       & 0              & 0              & ⋯              &  3.636364      &  6.000000      & 13.084112      &  3.75          & 12.068966      & 12.903226      & 15.789474      & 10             &  0.00000       &  0            \\\\\n",
       "\\end{tabular}\n"
      ],
      "text/markdown": [
       "\n",
       "gene_tr.idx | celltype | 1 | 2 | 3 | 4 | 5 | 6 | 7 | 8 | ⋯ | 91 | 92 | 93 | 94 | 95 | 96 | 97 | 98 | 99 | 100 | \n",
       "|---|---|---|---|---|---|\n",
       "| AAGAB_42733  | alpha        | 0            | 0            | 0            | 0            | 0            | 1.515152     | 0            | 0            | ⋯            | 20.000000    | 19.333333    | 18.691589    | 20.00        | 27.586207    | 38.709677    | 31.578947    | 40           | 33.33333     |  0           | \n",
       "| AAMDC_22628  | alpha        | 0            | 0            | 0            | 0            | 0            | 0.000000     | 0            | 0            | ⋯            | 26.666667    | 33.333333    | 28.037383    | 41.25        | 31.034483    | 32.258065    | 36.842105    | 60           | 50.00000     | 50           | \n",
       "| AATF_55762   | alpha        | 0            | 0            | 0            | 0            | 0            | 0.000000     | 0            | 0            | ⋯            |  7.272727    | 10.000000    | 15.887850    | 11.25        | 17.241379    |  9.677419    | 26.315789    | 40           | 16.66667     | 50           | \n",
       "| ABCA2_129618 | alpha        | 0            | 0            | 0            | 0            | 0            | 0.000000     | 0            | 0            | ⋯            |  4.848485    |  8.666667    |  8.411215    | 12.50        |  5.172414    |  3.225806    |  5.263158    | 20           |  0.00000     |  0           | \n",
       "| ABCB10_11455 | alpha        | 0            | 0            | 0            | 0            | 0            | 0.000000     | 0            | 0            | ⋯            | 20.606061    | 20.666667    | 31.775701    | 27.50        | 22.413793    | 29.032258    | 47.368421    | 30           | 33.33333     | 50           | \n",
       "| ABCB9_32864  | alpha        | 0            | 0            | 0            | 0            | 0            | 0.000000     | 0            | 0            | ⋯            |  3.636364    |  6.000000    | 13.084112    |  3.75        | 12.068966    | 12.903226    | 15.789474    | 10           |  0.00000     |  0           | \n",
       "\n",
       "\n"
      ],
      "text/plain": [
       "  gene_tr.idx  celltype 1 2 3 4 5 6        7 8 ⋯ 91        92        93       \n",
       "1 AAGAB_42733  alpha    0 0 0 0 0 1.515152 0 0 ⋯ 20.000000 19.333333 18.691589\n",
       "2 AAMDC_22628  alpha    0 0 0 0 0 0.000000 0 0 ⋯ 26.666667 33.333333 28.037383\n",
       "3 AATF_55762   alpha    0 0 0 0 0 0.000000 0 0 ⋯  7.272727 10.000000 15.887850\n",
       "4 ABCA2_129618 alpha    0 0 0 0 0 0.000000 0 0 ⋯  4.848485  8.666667  8.411215\n",
       "5 ABCB10_11455 alpha    0 0 0 0 0 0.000000 0 0 ⋯ 20.606061 20.666667 31.775701\n",
       "6 ABCB9_32864  alpha    0 0 0 0 0 0.000000 0 0 ⋯  3.636364  6.000000 13.084112\n",
       "  94    95        96        97        98 99       100\n",
       "1 20.00 27.586207 38.709677 31.578947 40 33.33333  0 \n",
       "2 41.25 31.034483 32.258065 36.842105 60 50.00000 50 \n",
       "3 11.25 17.241379  9.677419 26.315789 40 16.66667 50 \n",
       "4 12.50  5.172414  3.225806  5.263158 20  0.00000  0 \n",
       "5 27.50 22.413793 29.032258 47.368421 30 33.33333 50 \n",
       "6  3.75 12.068966 12.903226 15.789474 10  0.00000  0 "
      ]
     },
     "metadata": {},
     "output_type": "display_data"
    },
    {
     "data": {
      "text/html": [
       "<table>\n",
       "<thead><tr><th scope=col>gene_tr.idx</th><th scope=col>celltype</th><th scope=col>1</th><th scope=col>2</th><th scope=col>3</th><th scope=col>4</th><th scope=col>5</th><th scope=col>6</th><th scope=col>7</th><th scope=col>8</th><th scope=col>⋯</th><th scope=col>91</th><th scope=col>92</th><th scope=col>93</th><th scope=col>94</th><th scope=col>95</th><th scope=col>96</th><th scope=col>97</th><th scope=col>98</th><th scope=col>99</th><th scope=col>100</th></tr></thead>\n",
       "<tbody>\n",
       "\t<tr><td>ZP1_19678     </td><td>beta          </td><td>0             </td><td> 0            </td><td> 0.00000      </td><td> 2.857143     </td><td> 4.651163     </td><td> 7.3298429    </td><td> 5.2147239    </td><td> 4.8736462    </td><td>⋯             </td><td> 0.000000     </td><td> 0.0          </td><td> 0.000000     </td><td> 0.000000     </td><td> 0.00000      </td><td> 0.000        </td><td> 0.000000     </td><td> 0            </td><td> 0            </td><td> 0            </td></tr>\n",
       "\t<tr><td>ZPBP_116251   </td><td>beta          </td><td>0             </td><td> 0            </td><td> 0.00000      </td><td> 0.000000     </td><td> 3.488372     </td><td> 2.0942408    </td><td> 3.0674847    </td><td> 3.0685921    </td><td>⋯             </td><td> 0.000000     </td><td> 0.0          </td><td> 0.000000     </td><td> 0.000000     </td><td> 0.00000      </td><td> 0.000        </td><td> 0.000000     </td><td> 0            </td><td> 0            </td><td> 0            </td></tr>\n",
       "\t<tr><td>ZSCAN21_117807</td><td>beta          </td><td>0             </td><td> 0            </td><td> 0.00000      </td><td> 0.000000     </td><td> 0.000000     </td><td> 0.0000000    </td><td> 0.3067485    </td><td> 0.1805054    </td><td>⋯             </td><td> 5.020921     </td><td> 7.0          </td><td> 6.976744     </td><td> 4.819277     </td><td> 8.62069      </td><td> 9.375        </td><td>18.181818     </td><td>10            </td><td>20            </td><td> 0            </td></tr>\n",
       "\t<tr><td>ZSCAN31_109686</td><td>beta          </td><td>0             </td><td> 0            </td><td> 0.00000      </td><td> 0.000000     </td><td> 0.000000     </td><td> 0.0000000    </td><td> 0.3067485    </td><td> 0.1805054    </td><td>⋯             </td><td>14.225941     </td><td>14.0          </td><td>16.279070     </td><td>10.843373     </td><td>20.68966      </td><td>18.750        </td><td>27.272727     </td><td>10            </td><td>40            </td><td>20            </td></tr>\n",
       "\t<tr><td>ZSWIM2_79591  </td><td>beta          </td><td>0             </td><td>50            </td><td>46.66667      </td><td>45.714286     </td><td>23.255814     </td><td>24.0837696    </td><td>23.0061350    </td><td>15.3429603    </td><td>⋯             </td><td> 0.000000     </td><td> 0.0          </td><td> 0.000000     </td><td> 0.000000     </td><td> 0.00000      </td><td> 0.000        </td><td> 0.000000     </td><td> 0            </td><td> 0            </td><td> 0            </td></tr>\n",
       "\t<tr><td>ZSWIM5_3921   </td><td>beta          </td><td>0             </td><td> 0            </td><td> 0.00000      </td><td> 0.000000     </td><td> 0.000000     </td><td> 0.5235602    </td><td> 0.3067485    </td><td> 0.0000000    </td><td>⋯             </td><td>11.715481     </td><td>17.5          </td><td>20.155039     </td><td>25.301205     </td><td>13.79310      </td><td>18.750        </td><td> 4.545455     </td><td>10            </td><td>20            </td><td>20            </td></tr>\n",
       "</tbody>\n",
       "</table>\n"
      ],
      "text/latex": [
       "\\begin{tabular}{r|llllllllllllllllllllllllllllllllllllllllllllllllllllllllllllllllllllllllllllllllllllllllllllllllllllll}\n",
       " gene\\_tr.idx & celltype & 1 & 2 & 3 & 4 & 5 & 6 & 7 & 8 & ⋯ & 91 & 92 & 93 & 94 & 95 & 96 & 97 & 98 & 99 & 100\\\\\n",
       "\\hline\n",
       "\t ZP1\\_19678      & beta             & 0                &  0               &  0.00000         &  2.857143        &  4.651163        &  7.3298429       &  5.2147239       &  4.8736462       & ⋯                &  0.000000        &  0.0             &  0.000000        &  0.000000        &  0.00000         &  0.000           &  0.000000        &  0               &  0               &  0              \\\\\n",
       "\t ZPBP\\_116251    & beta             & 0                &  0               &  0.00000         &  0.000000        &  3.488372        &  2.0942408       &  3.0674847       &  3.0685921       & ⋯                &  0.000000        &  0.0             &  0.000000        &  0.000000        &  0.00000         &  0.000           &  0.000000        &  0               &  0               &  0              \\\\\n",
       "\t ZSCAN21\\_117807 & beta             & 0                &  0               &  0.00000         &  0.000000        &  0.000000        &  0.0000000       &  0.3067485       &  0.1805054       & ⋯                &  5.020921        &  7.0             &  6.976744        &  4.819277        &  8.62069         &  9.375           & 18.181818        & 10               & 20               &  0              \\\\\n",
       "\t ZSCAN31\\_109686 & beta             & 0                &  0               &  0.00000         &  0.000000        &  0.000000        &  0.0000000       &  0.3067485       &  0.1805054       & ⋯                & 14.225941        & 14.0             & 16.279070        & 10.843373        & 20.68966         & 18.750           & 27.272727        & 10               & 40               & 20              \\\\\n",
       "\t ZSWIM2\\_79591   & beta             & 0                & 50               & 46.66667         & 45.714286        & 23.255814        & 24.0837696       & 23.0061350       & 15.3429603       & ⋯                &  0.000000        &  0.0             &  0.000000        &  0.000000        &  0.00000         &  0.000           &  0.000000        &  0               &  0               &  0              \\\\\n",
       "\t ZSWIM5\\_3921    & beta             & 0                &  0               &  0.00000         &  0.000000        &  0.000000        &  0.5235602       &  0.3067485       &  0.0000000       & ⋯                & 11.715481        & 17.5             & 20.155039        & 25.301205        & 13.79310         & 18.750           &  4.545455        & 10               & 20               & 20              \\\\\n",
       "\\end{tabular}\n"
      ],
      "text/markdown": [
       "\n",
       "gene_tr.idx | celltype | 1 | 2 | 3 | 4 | 5 | 6 | 7 | 8 | ⋯ | 91 | 92 | 93 | 94 | 95 | 96 | 97 | 98 | 99 | 100 | \n",
       "|---|---|---|---|---|---|\n",
       "| ZP1_19678      | beta           | 0              |  0             |  0.00000       |  2.857143      |  4.651163      |  7.3298429     |  5.2147239     |  4.8736462     | ⋯              |  0.000000      |  0.0           |  0.000000      |  0.000000      |  0.00000       |  0.000         |  0.000000      |  0             |  0             |  0             | \n",
       "| ZPBP_116251    | beta           | 0              |  0             |  0.00000       |  0.000000      |  3.488372      |  2.0942408     |  3.0674847     |  3.0685921     | ⋯              |  0.000000      |  0.0           |  0.000000      |  0.000000      |  0.00000       |  0.000         |  0.000000      |  0             |  0             |  0             | \n",
       "| ZSCAN21_117807 | beta           | 0              |  0             |  0.00000       |  0.000000      |  0.000000      |  0.0000000     |  0.3067485     |  0.1805054     | ⋯              |  5.020921      |  7.0           |  6.976744      |  4.819277      |  8.62069       |  9.375         | 18.181818      | 10             | 20             |  0             | \n",
       "| ZSCAN31_109686 | beta           | 0              |  0             |  0.00000       |  0.000000      |  0.000000      |  0.0000000     |  0.3067485     |  0.1805054     | ⋯              | 14.225941      | 14.0           | 16.279070      | 10.843373      | 20.68966       | 18.750         | 27.272727      | 10             | 40             | 20             | \n",
       "| ZSWIM2_79591   | beta           | 0              | 50             | 46.66667       | 45.714286      | 23.255814      | 24.0837696     | 23.0061350     | 15.3429603     | ⋯              |  0.000000      |  0.0           |  0.000000      |  0.000000      |  0.00000       |  0.000         |  0.000000      |  0             |  0             |  0             | \n",
       "| ZSWIM5_3921    | beta           | 0              |  0             |  0.00000       |  0.000000      |  0.000000      |  0.5235602     |  0.3067485     |  0.0000000     | ⋯              | 11.715481      | 17.5           | 20.155039      | 25.301205      | 13.79310       | 18.750         |  4.545455      | 10             | 20             | 20             | \n",
       "\n",
       "\n"
      ],
      "text/plain": [
       "  gene_tr.idx    celltype 1 2  3        4         5         6         \n",
       "1 ZP1_19678      beta     0  0  0.00000  2.857143  4.651163  7.3298429\n",
       "2 ZPBP_116251    beta     0  0  0.00000  0.000000  3.488372  2.0942408\n",
       "3 ZSCAN21_117807 beta     0  0  0.00000  0.000000  0.000000  0.0000000\n",
       "4 ZSCAN31_109686 beta     0  0  0.00000  0.000000  0.000000  0.0000000\n",
       "5 ZSWIM2_79591   beta     0 50 46.66667 45.714286 23.255814 24.0837696\n",
       "6 ZSWIM5_3921    beta     0  0  0.00000  0.000000  0.000000  0.5235602\n",
       "  7          8          ⋯ 91        92   93        94        95       96    \n",
       "1  5.2147239  4.8736462 ⋯  0.000000  0.0  0.000000  0.000000  0.00000  0.000\n",
       "2  3.0674847  3.0685921 ⋯  0.000000  0.0  0.000000  0.000000  0.00000  0.000\n",
       "3  0.3067485  0.1805054 ⋯  5.020921  7.0  6.976744  4.819277  8.62069  9.375\n",
       "4  0.3067485  0.1805054 ⋯ 14.225941 14.0 16.279070 10.843373 20.68966 18.750\n",
       "5 23.0061350 15.3429603 ⋯  0.000000  0.0  0.000000  0.000000  0.00000  0.000\n",
       "6  0.3067485  0.0000000 ⋯ 11.715481 17.5 20.155039 25.301205 13.79310 18.750\n",
       "  97        98 99 100\n",
       "1  0.000000  0  0  0 \n",
       "2  0.000000  0  0  0 \n",
       "3 18.181818 10 20  0 \n",
       "4 27.272727 10 40 20 \n",
       "5  0.000000  0  0  0 \n",
       "6  4.545455 10 20 20 "
      ]
     },
     "metadata": {},
     "output_type": "display_data"
    },
    {
     "data": {
      "text/html": [
       "<ol class=list-inline>\n",
       "\t<li>3219</li>\n",
       "\t<li>102</li>\n",
       "</ol>\n"
      ],
      "text/latex": [
       "\\begin{enumerate*}\n",
       "\\item 3219\n",
       "\\item 102\n",
       "\\end{enumerate*}\n"
      ],
      "text/markdown": [
       "1. 3219\n",
       "2. 102\n",
       "\n",
       "\n"
      ],
      "text/plain": [
       "[1] 3219  102"
      ]
     },
     "metadata": {},
     "output_type": "display_data"
    }
   ],
   "source": [
    "dat.pro_ps.wide <- rbind(dat.pro_ps.long%>%\n",
    "    filter(celltype==\"alpha\")%>%\n",
    "    group_by(gene_tr.idx,celltype) %>%\n",
    "    select(-one_of(c(\"ps_bin\",\"n\",\"N\")))%>%\n",
    "    spread(key = ps_bin.2,value = percent_open,fill = 0),\n",
    "               dat.pro_ps.long%>%\n",
    "    filter(celltype==\"beta\")%>%\n",
    "    group_by(gene_tr.idx,celltype) %>%\n",
    "    select(-one_of(c(\"ps_bin\",\"n\",\"N\")))%>%\n",
    "    mutate(ps_bin.2=ps_bin.2-100)%>%\n",
    "    spread(key = ps_bin.2,value = percent_open,fill = 0))\n",
    "head(dat.pro_ps.wide)\n",
    "tail(dat.pro_ps.wide)\n",
    "dim(dat.pro_ps.wide)"
   ]
  },
  {
   "cell_type": "code",
   "execution_count": 16,
   "metadata": {
    "hidden": true
   },
   "outputs": [
    {
     "data": {
      "text/html": [
       "<table>\n",
       "<thead><tr><th scope=col>gene_tr.idx</th><th scope=col>celltype</th><th scope=col>bin</th><th scope=col>percent_open</th></tr></thead>\n",
       "<tbody>\n",
       "\t<tr><td>AAGAB_42733 </td><td>alpha       </td><td>1           </td><td>0           </td></tr>\n",
       "\t<tr><td>AAMDC_22628 </td><td>alpha       </td><td>1           </td><td>0           </td></tr>\n",
       "\t<tr><td>AATF_55762  </td><td>alpha       </td><td>1           </td><td>0           </td></tr>\n",
       "\t<tr><td>ABCA2_129618</td><td>alpha       </td><td>1           </td><td>0           </td></tr>\n",
       "\t<tr><td>ABCB10_11455</td><td>alpha       </td><td>1           </td><td>0           </td></tr>\n",
       "\t<tr><td>ABCB9_32864 </td><td>alpha       </td><td>1           </td><td>0           </td></tr>\n",
       "</tbody>\n",
       "</table>\n"
      ],
      "text/latex": [
       "\\begin{tabular}{r|llll}\n",
       " gene\\_tr.idx & celltype & bin & percent\\_open\\\\\n",
       "\\hline\n",
       "\t AAGAB\\_42733  & alpha          & 1              & 0             \\\\\n",
       "\t AAMDC\\_22628  & alpha          & 1              & 0             \\\\\n",
       "\t AATF\\_55762   & alpha          & 1              & 0             \\\\\n",
       "\t ABCA2\\_129618 & alpha          & 1              & 0             \\\\\n",
       "\t ABCB10\\_11455 & alpha          & 1              & 0             \\\\\n",
       "\t ABCB9\\_32864  & alpha          & 1              & 0             \\\\\n",
       "\\end{tabular}\n"
      ],
      "text/markdown": [
       "\n",
       "gene_tr.idx | celltype | bin | percent_open | \n",
       "|---|---|---|---|---|---|\n",
       "| AAGAB_42733  | alpha        | 1            | 0            | \n",
       "| AAMDC_22628  | alpha        | 1            | 0            | \n",
       "| AATF_55762   | alpha        | 1            | 0            | \n",
       "| ABCA2_129618 | alpha        | 1            | 0            | \n",
       "| ABCB10_11455 | alpha        | 1            | 0            | \n",
       "| ABCB9_32864  | alpha        | 1            | 0            | \n",
       "\n",
       "\n"
      ],
      "text/plain": [
       "  gene_tr.idx  celltype bin percent_open\n",
       "1 AAGAB_42733  alpha    1   0           \n",
       "2 AAMDC_22628  alpha    1   0           \n",
       "3 AATF_55762   alpha    1   0           \n",
       "4 ABCA2_129618 alpha    1   0           \n",
       "5 ABCB10_11455 alpha    1   0           \n",
       "6 ABCB9_32864  alpha    1   0           "
      ]
     },
     "metadata": {},
     "output_type": "display_data"
    },
    {
     "data": {
      "text/html": [
       "<table>\n",
       "<thead><tr><th scope=col>gene_tr.idx</th><th scope=col>celltype</th><th scope=col>bin</th><th scope=col>percent_open</th></tr></thead>\n",
       "<tbody>\n",
       "\t<tr><td>ZP1_19678     </td><td>beta          </td><td>100           </td><td> 0            </td></tr>\n",
       "\t<tr><td>ZPBP_116251   </td><td>beta          </td><td>100           </td><td> 0            </td></tr>\n",
       "\t<tr><td>ZSCAN21_117807</td><td>beta          </td><td>100           </td><td> 0            </td></tr>\n",
       "\t<tr><td>ZSCAN31_109686</td><td>beta          </td><td>100           </td><td>20            </td></tr>\n",
       "\t<tr><td>ZSWIM2_79591  </td><td>beta          </td><td>100           </td><td> 0            </td></tr>\n",
       "\t<tr><td>ZSWIM5_3921   </td><td>beta          </td><td>100           </td><td>20            </td></tr>\n",
       "</tbody>\n",
       "</table>\n"
      ],
      "text/latex": [
       "\\begin{tabular}{r|llll}\n",
       " gene\\_tr.idx & celltype & bin & percent\\_open\\\\\n",
       "\\hline\n",
       "\t ZP1\\_19678      & beta             & 100              &  0              \\\\\n",
       "\t ZPBP\\_116251    & beta             & 100              &  0              \\\\\n",
       "\t ZSCAN21\\_117807 & beta             & 100              &  0              \\\\\n",
       "\t ZSCAN31\\_109686 & beta             & 100              & 20              \\\\\n",
       "\t ZSWIM2\\_79591   & beta             & 100              &  0              \\\\\n",
       "\t ZSWIM5\\_3921    & beta             & 100              & 20              \\\\\n",
       "\\end{tabular}\n"
      ],
      "text/markdown": [
       "\n",
       "gene_tr.idx | celltype | bin | percent_open | \n",
       "|---|---|---|---|---|---|\n",
       "| ZP1_19678      | beta           | 100            |  0             | \n",
       "| ZPBP_116251    | beta           | 100            |  0             | \n",
       "| ZSCAN21_117807 | beta           | 100            |  0             | \n",
       "| ZSCAN31_109686 | beta           | 100            | 20             | \n",
       "| ZSWIM2_79591   | beta           | 100            |  0             | \n",
       "| ZSWIM5_3921    | beta           | 100            | 20             | \n",
       "\n",
       "\n"
      ],
      "text/plain": [
       "  gene_tr.idx    celltype bin percent_open\n",
       "1 ZP1_19678      beta     100  0          \n",
       "2 ZPBP_116251    beta     100  0          \n",
       "3 ZSCAN21_117807 beta     100  0          \n",
       "4 ZSCAN31_109686 beta     100 20          \n",
       "5 ZSWIM2_79591   beta     100  0          \n",
       "6 ZSWIM5_3921    beta     100 20          "
      ]
     },
     "metadata": {},
     "output_type": "display_data"
    },
    {
     "data": {
      "text/html": [
       "<ol class=list-inline>\n",
       "\t<li>321900</li>\n",
       "\t<li>4</li>\n",
       "</ol>\n"
      ],
      "text/latex": [
       "\\begin{enumerate*}\n",
       "\\item 321900\n",
       "\\item 4\n",
       "\\end{enumerate*}\n"
      ],
      "text/markdown": [
       "1. 321900\n",
       "2. 4\n",
       "\n",
       "\n"
      ],
      "text/plain": [
       "[1] 321900      4"
      ]
     },
     "metadata": {},
     "output_type": "display_data"
    }
   ],
   "source": [
    "# wide to long again to fill \n",
    "\n",
    "dat.pro_ps.long <- dat.pro_ps.wide%>%gather(key = \"bin\",value = \"percent_open\",3:102)\n",
    "head(dat.pro_ps.long)\n",
    "tail(dat.pro_ps.long)\n",
    "dim(dat.pro_ps.long)"
   ]
  },
  {
   "cell_type": "markdown",
   "metadata": {},
   "source": [
    "### 4.2 data smooth"
   ]
  },
  {
   "cell_type": "code",
   "execution_count": 17,
   "metadata": {},
   "outputs": [
    {
     "name": "stderr",
     "output_type": "stream",
     "text": [
      "Loading required package: parallel\n"
     ]
    },
    {
     "data": {
      "text/plain": [
       "   user  system elapsed \n",
       "250.006 190.730  96.960 "
      ]
     },
     "metadata": {},
     "output_type": "display_data"
    }
   ],
   "source": [
    "require(parallel)\n",
    "dat.pro_ps.smooth <- list()\n",
    "system.time(\n",
    "    for(ct in c(\"alpha\",\"beta\")){\n",
    "    dat.sub <- subset(dat.pro_ps.long,celltype==ct)\n",
    "    all.tr <- unique(dat.sub$gene_tr.idx)\n",
    "    dat.pro_ps.smooth[[ct]] <- mclapply(all.tr,\n",
    "                           function(g){data.frame(bin=1:100,\n",
    "                                                  gene_tr.idx=g,\n",
    "                                                  percent_open=predict(loess(percent_open~bin, data=dat.sub%>%filter(gene_tr.idx==g))),\n",
    "                                                  celltype=ct)},mc.cores=8)\n",
    "})\n"
   ]
  },
  {
   "cell_type": "code",
   "execution_count": 18,
   "metadata": {},
   "outputs": [
    {
     "data": {
      "text/html": [
       "<table>\n",
       "<thead><tr><th scope=col>bin</th><th scope=col>gene_tr.idx</th><th scope=col>percent_open</th><th scope=col>celltype</th></tr></thead>\n",
       "<tbody>\n",
       "\t<tr><td>1          </td><td>AAGAB_42733</td><td>0.5174754  </td><td>alpha      </td></tr>\n",
       "\t<tr><td>2          </td><td>AAGAB_42733</td><td>0.4584599  </td><td>alpha      </td></tr>\n",
       "\t<tr><td>3          </td><td>AAGAB_42733</td><td>0.4025329  </td><td>alpha      </td></tr>\n",
       "\t<tr><td>4          </td><td>AAGAB_42733</td><td>0.3496216  </td><td>alpha      </td></tr>\n",
       "\t<tr><td>5          </td><td>AAGAB_42733</td><td>0.2996535  </td><td>alpha      </td></tr>\n",
       "\t<tr><td>6          </td><td>AAGAB_42733</td><td>0.2525558  </td><td>alpha      </td></tr>\n",
       "</tbody>\n",
       "</table>\n"
      ],
      "text/latex": [
       "\\begin{tabular}{r|llll}\n",
       " bin & gene\\_tr.idx & percent\\_open & celltype\\\\\n",
       "\\hline\n",
       "\t 1             & AAGAB\\_42733 & 0.5174754     & alpha        \\\\\n",
       "\t 2             & AAGAB\\_42733 & 0.4584599     & alpha        \\\\\n",
       "\t 3             & AAGAB\\_42733 & 0.4025329     & alpha        \\\\\n",
       "\t 4             & AAGAB\\_42733 & 0.3496216     & alpha        \\\\\n",
       "\t 5             & AAGAB\\_42733 & 0.2996535     & alpha        \\\\\n",
       "\t 6             & AAGAB\\_42733 & 0.2525558     & alpha        \\\\\n",
       "\\end{tabular}\n"
      ],
      "text/markdown": [
       "\n",
       "bin | gene_tr.idx | percent_open | celltype | \n",
       "|---|---|---|---|---|---|\n",
       "| 1           | AAGAB_42733 | 0.5174754   | alpha       | \n",
       "| 2           | AAGAB_42733 | 0.4584599   | alpha       | \n",
       "| 3           | AAGAB_42733 | 0.4025329   | alpha       | \n",
       "| 4           | AAGAB_42733 | 0.3496216   | alpha       | \n",
       "| 5           | AAGAB_42733 | 0.2996535   | alpha       | \n",
       "| 6           | AAGAB_42733 | 0.2525558   | alpha       | \n",
       "\n",
       "\n"
      ],
      "text/plain": [
       "  bin gene_tr.idx percent_open celltype\n",
       "1 1   AAGAB_42733 0.5174754    alpha   \n",
       "2 2   AAGAB_42733 0.4584599    alpha   \n",
       "3 3   AAGAB_42733 0.4025329    alpha   \n",
       "4 4   AAGAB_42733 0.3496216    alpha   \n",
       "5 5   AAGAB_42733 0.2996535    alpha   \n",
       "6 6   AAGAB_42733 0.2525558    alpha   "
      ]
     },
     "metadata": {},
     "output_type": "display_data"
    },
    {
     "data": {
      "text/html": [
       "<ol class=list-inline>\n",
       "\t<li>321900</li>\n",
       "\t<li>4</li>\n",
       "</ol>\n"
      ],
      "text/latex": [
       "\\begin{enumerate*}\n",
       "\\item 321900\n",
       "\\item 4\n",
       "\\end{enumerate*}\n"
      ],
      "text/markdown": [
       "1. 321900\n",
       "2. 4\n",
       "\n",
       "\n"
      ],
      "text/plain": [
       "[1] 321900      4"
      ]
     },
     "metadata": {},
     "output_type": "display_data"
    }
   ],
   "source": [
    "dat.pro_ps.smooth<- rbind(do.call(rbind,dat.pro_ps.smooth$alpha),\n",
    "     do.call(rbind,dat.pro_ps.smooth$beta))\n",
    "head(dat.pro_ps.smooth)\n",
    "dim(dat.pro_ps.smooth)"
   ]
  },
  {
   "cell_type": "code",
   "execution_count": 19,
   "metadata": {},
   "outputs": [],
   "source": [
    "fwrite(dat.pro_ps.smooth,file = \"../dat/1901/alpha_beta.promoter.long_100bin_transcripts_ps_smoothed.txt\")\n",
    "fwrite(dat.pro_ps.long,file = \"../dat/1901/alpha_beta.promoter.long_100bin_transcripts_ps_raw.txt\")"
   ]
  },
  {
   "cell_type": "code",
   "execution_count": null,
   "metadata": {},
   "outputs": [],
   "source": []
  }
 ],
 "metadata": {
  "kernelspec": {
   "display_name": "R",
   "language": "R",
   "name": "ir"
  },
  "language_info": {
   "codemirror_mode": "r",
   "file_extension": ".r",
   "mimetype": "text/x-r-source",
   "name": "R",
   "pygments_lexer": "r",
   "version": "3.5.1"
  }
 },
 "nbformat": 4,
 "nbformat_minor": 2
}
