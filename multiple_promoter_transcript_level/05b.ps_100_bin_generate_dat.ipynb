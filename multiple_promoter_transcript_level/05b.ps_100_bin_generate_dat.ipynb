{
 "cells": [
  {
   "cell_type": "code",
   "execution_count": 2,
   "metadata": {},
   "outputs": [],
   "source": [
    "require(data.table)\n",
    "require(tidyverse)"
   ]
  },
  {
   "cell_type": "markdown",
   "metadata": {},
   "source": [
    "## 1. Rationale\n",
    "\n",
    "* due to the sparseness, the ps is binned to 100 (can change) \n",
    "* then chisq test wheter the ratio of openning is dependent on bins "
   ]
  },
  {
   "cell_type": "markdown",
   "metadata": {},
   "source": [
    "##  2. load data"
   ]
  },
  {
   "cell_type": "code",
   "execution_count": 4,
   "metadata": {},
   "outputs": [
    {
     "data": {
      "text/html": [
       "<table>\n",
       "<caption>A data.table: 1 × 4</caption>\n",
       "<thead>\n",
       "\t<tr><th scope=col>prom_peak</th><th scope=col>cell</th><th scope=col>ps</th><th scope=col>celltype</th></tr>\n",
       "\t<tr><th scope=col>&lt;chr&gt;</th><th scope=col>&lt;chr&gt;</th><th scope=col>&lt;dbl&gt;</th><th scope=col>&lt;chr&gt;</th></tr>\n",
       "</thead>\n",
       "<tbody>\n",
       "\t<tr><td>10:100027284-100028604</td><td>Islet1fresh_AGACACCTAAGAGGCAGCGTAAGAAGGCG</td><td>11.8747</td><td>alpha</td></tr>\n",
       "</tbody>\n",
       "</table>\n"
      ],
      "text/latex": [
       "A data.table: 1 × 4\n",
       "\\begin{tabular}{r|llll}\n",
       " prom\\_peak & cell & ps & celltype\\\\\n",
       " <chr> & <chr> & <dbl> & <chr>\\\\\n",
       "\\hline\n",
       "\t 10:100027284-100028604 & Islet1fresh\\_AGACACCTAAGAGGCAGCGTAAGAAGGCG & 11.8747 & alpha\\\\\n",
       "\\end{tabular}\n"
      ],
      "text/markdown": [
       "\n",
       "A data.table: 1 × 4\n",
       "\n",
       "| prom_peak &lt;chr&gt; | cell &lt;chr&gt; | ps &lt;dbl&gt; | celltype &lt;chr&gt; |\n",
       "|---|---|---|---|\n",
       "| 10:100027284-100028604 | Islet1fresh_AGACACCTAAGAGGCAGCGTAAGAAGGCG | 11.8747 | alpha |\n",
       "\n"
      ],
      "text/plain": [
       "  prom_peak              cell                                      ps     \n",
       "1 10:100027284-100028604 Islet1fresh_AGACACCTAAGAGGCAGCGTAAGAAGGCG 11.8747\n",
       "  celltype\n",
       "1 alpha   "
      ]
     },
     "metadata": {},
     "output_type": "display_data"
    },
    {
     "data": {
      "text/html": [
       "<table>\n",
       "<caption>A data.table: 1 × 4</caption>\n",
       "<thead>\n",
       "\t<tr><th scope=col>prom_peak</th><th scope=col>cell</th><th scope=col>ps</th><th scope=col>celltype</th></tr>\n",
       "\t<tr><th scope=col>&lt;chr&gt;</th><th scope=col>&lt;chr&gt;</th><th scope=col>&lt;dbl&gt;</th><th scope=col>&lt;chr&gt;</th></tr>\n",
       "</thead>\n",
       "<tbody>\n",
       "\t<tr><td>Y:6777959-6779589</td><td>Islet3fresh_TCCGGAGATGCAGCTAATCTGAGTAGGCGAAG</td><td>12.20114</td><td>beta</td></tr>\n",
       "</tbody>\n",
       "</table>\n"
      ],
      "text/latex": [
       "A data.table: 1 × 4\n",
       "\\begin{tabular}{r|llll}\n",
       " prom\\_peak & cell & ps & celltype\\\\\n",
       " <chr> & <chr> & <dbl> & <chr>\\\\\n",
       "\\hline\n",
       "\t Y:6777959-6779589 & Islet3fresh\\_TCCGGAGATGCAGCTAATCTGAGTAGGCGAAG & 12.20114 & beta\\\\\n",
       "\\end{tabular}\n"
      ],
      "text/markdown": [
       "\n",
       "A data.table: 1 × 4\n",
       "\n",
       "| prom_peak &lt;chr&gt; | cell &lt;chr&gt; | ps &lt;dbl&gt; | celltype &lt;chr&gt; |\n",
       "|---|---|---|---|\n",
       "| Y:6777959-6779589 | Islet3fresh_TCCGGAGATGCAGCTAATCTGAGTAGGCGAAG | 12.20114 | beta |\n",
       "\n"
      ],
      "text/plain": [
       "  prom_peak         cell                                         ps      \n",
       "1 Y:6777959-6779589 Islet3fresh_TCCGGAGATGCAGCTAATCTGAGTAGGCGAAG 12.20114\n",
       "  celltype\n",
       "1 beta    "
      ]
     },
     "metadata": {},
     "output_type": "display_data"
    },
    {
     "data": {
      "text/html": [
       "<ol class=list-inline>\n",
       "\t<li>18019112</li>\n",
       "\t<li>4</li>\n",
       "</ol>\n"
      ],
      "text/latex": [
       "\\begin{enumerate*}\n",
       "\\item 18019112\n",
       "\\item 4\n",
       "\\end{enumerate*}\n"
      ],
      "text/markdown": [
       "1. 18019112\n",
       "2. 4\n",
       "\n",
       "\n"
      ],
      "text/plain": [
       "[1] 18019112        4"
      ]
     },
     "metadata": {},
     "output_type": "display_data"
    }
   ],
   "source": [
    "dat.pro_ps<- fread(\"../dat/1910_v2/abd.promoter.long_matrix_w_transcripts_ps.txt\")\n",
    "head(dat.pro_ps,1)\n",
    "tail(dat.pro_ps,1)\n",
    "dim(dat.pro_ps)"
   ]
  },
  {
   "cell_type": "markdown",
   "metadata": {},
   "source": [
    "## 3 bin ps to get fraction of state 1 cells"
   ]
  },
  {
   "cell_type": "markdown",
   "metadata": {},
   "source": [
    "### 3.1 100 bins for a,b; 20 bins for d"
   ]
  },
  {
   "cell_type": "code",
   "execution_count": 5,
   "metadata": {},
   "outputs": [
    {
     "data": {
      "text/html": [
       "<dl>\n",
       "\t<dt>$alpha</dt>\n",
       "\t\t<dd><ol class=list-inline>\n",
       "\t<li>0</li>\n",
       "\t<li>20.85655010081</li>\n",
       "</ol>\n",
       "</dd>\n",
       "\t<dt>$beta</dt>\n",
       "\t\t<dd><ol class=list-inline>\n",
       "\t<li>0</li>\n",
       "\t<li>18.4925501200285</li>\n",
       "</ol>\n",
       "</dd>\n",
       "\t<dt>$delta</dt>\n",
       "\t\t<dd><ol class=list-inline>\n",
       "\t<li>0</li>\n",
       "\t<li>14.9735598171251</li>\n",
       "</ol>\n",
       "</dd>\n",
       "</dl>\n"
      ],
      "text/latex": [
       "\\begin{description}\n",
       "\\item[\\$alpha] \\begin{enumerate*}\n",
       "\\item 0\n",
       "\\item 20.85655010081\n",
       "\\end{enumerate*}\n",
       "\n",
       "\\item[\\$beta] \\begin{enumerate*}\n",
       "\\item 0\n",
       "\\item 18.4925501200285\n",
       "\\end{enumerate*}\n",
       "\n",
       "\\item[\\$delta] \\begin{enumerate*}\n",
       "\\item 0\n",
       "\\item 14.9735598171251\n",
       "\\end{enumerate*}\n",
       "\n",
       "\\end{description}\n"
      ],
      "text/markdown": [
       "$alpha\n",
       ":   1. 0\n",
       "2. 20.85655010081\n",
       "\n",
       "\n",
       "\n",
       "$beta\n",
       ":   1. 0\n",
       "2. 18.4925501200285\n",
       "\n",
       "\n",
       "\n",
       "$delta\n",
       ":   1. 0\n",
       "2. 14.9735598171251\n",
       "\n",
       "\n",
       "\n",
       "\n",
       "\n"
      ],
      "text/plain": [
       "$alpha\n",
       "[1]  0.00000 20.85655\n",
       "\n",
       "$beta\n",
       "[1]  0.00000 18.49255\n",
       "\n",
       "$delta\n",
       "[1]  0.00000 14.97356\n"
      ]
     },
     "metadata": {},
     "output_type": "display_data"
    }
   ],
   "source": [
    "ps.range <- lapply(c(\"alpha\", \"beta\", \"delta\"), function(ct) dat.pro_ps %>% filter(celltype == \n",
    "    ct) %>% pull(ps) %>% range)\n",
    "names(ps.range) <- c(\"alpha\", \"beta\", \"delta\")\n",
    "ps.range"
   ]
  },
  {
   "cell_type": "code",
   "execution_count": 6,
   "metadata": {},
   "outputs": [
    {
     "data": {
      "text/html": [
       "<table>\n",
       "<caption>A data.frame: 1 × 6</caption>\n",
       "<thead>\n",
       "\t<tr><th scope=col>prom_peak</th><th scope=col>cell</th><th scope=col>ps</th><th scope=col>celltype</th><th scope=col>ps_bin</th><th scope=col>ps_bin_idx</th></tr>\n",
       "\t<tr><th scope=col>&lt;chr&gt;</th><th scope=col>&lt;chr&gt;</th><th scope=col>&lt;dbl&gt;</th><th scope=col>&lt;chr&gt;</th><th scope=col>&lt;fct&gt;</th><th scope=col>&lt;dbl&gt;</th></tr>\n",
       "</thead>\n",
       "<tbody>\n",
       "\t<tr><td>10:100027284-100028604</td><td>Islet3fresh_AGACACCTACTGAGCGACTGCATAGGTTGCGT</td><td>0.1583683</td><td>alpha</td><td>[0,0.209)</td><td>1</td></tr>\n",
       "</tbody>\n",
       "</table>\n"
      ],
      "text/latex": [
       "A data.frame: 1 × 6\n",
       "\\begin{tabular}{r|llllll}\n",
       " prom\\_peak & cell & ps & celltype & ps\\_bin & ps\\_bin\\_idx\\\\\n",
       " <chr> & <chr> & <dbl> & <chr> & <fct> & <dbl>\\\\\n",
       "\\hline\n",
       "\t 10:100027284-100028604 & Islet3fresh\\_AGACACCTACTGAGCGACTGCATAGGTTGCGT & 0.1583683 & alpha & {[}0,0.209) & 1\\\\\n",
       "\\end{tabular}\n"
      ],
      "text/markdown": [
       "\n",
       "A data.frame: 1 × 6\n",
       "\n",
       "| prom_peak &lt;chr&gt; | cell &lt;chr&gt; | ps &lt;dbl&gt; | celltype &lt;chr&gt; | ps_bin &lt;fct&gt; | ps_bin_idx &lt;dbl&gt; |\n",
       "|---|---|---|---|---|---|\n",
       "| 10:100027284-100028604 | Islet3fresh_AGACACCTACTGAGCGACTGCATAGGTTGCGT | 0.1583683 | alpha | [0,0.209) | 1 |\n",
       "\n"
      ],
      "text/plain": [
       "  prom_peak              cell                                         ps       \n",
       "1 10:100027284-100028604 Islet3fresh_AGACACCTACTGAGCGACTGCATAGGTTGCGT 0.1583683\n",
       "  celltype ps_bin    ps_bin_idx\n",
       "1 alpha    [0,0.209) 1         "
      ]
     },
     "metadata": {},
     "output_type": "display_data"
    }
   ],
   "source": [
    "N.bin <- 101\n",
    "N.bin.d<- 21\n",
    "ps.bks <- list()\n",
    "ps.bks$alpha <- seq(ps.range$alpha[1], ps.range$alpha[2] + 1e-05, length.out = N.bin)\n",
    "ps.bks$beta <- seq(ps.range$beta[1], ps.range$beta[2] + 1e-05, length.out = N.bin)\n",
    "ps.bks$delta <- seq(ps.range$delta[1], ps.range$delta[2] + 1e-05, length.out = N.bin.d)\n",
    "\n",
    "dat.pro_ps <- rbind(dat.pro_ps %>% filter(celltype == \"alpha\") %>% mutate(ps_bin = cut(ps, \n",
    "    breaks = ps.bks$alpha, include.lowest = T, right = F)) %>% mutate(ps_bin_idx = as.numeric(ps_bin)), \n",
    "    dat.pro_ps %>% filter(celltype == \"beta\") %>% mutate(ps_bin = cut(ps, breaks = ps.bks$beta, \n",
    "        include.lowest = T, right = F)) %>% mutate(ps_bin_idx = as.numeric(ps_bin)), \n",
    "    dat.pro_ps %>% filter(celltype == \"delta\") %>% mutate(ps_bin = cut(ps, breaks = ps.bks$delta, \n",
    "        include.lowest = T, right = F)) %>% mutate(ps_bin_idx = as.numeric(ps_bin))) %>% \n",
    "    arrange(celltype, ps_bin_idx)\n",
    "\n",
    "dat.pro_ps %>% head(1)"
   ]
  },
  {
   "cell_type": "code",
   "execution_count": 12,
   "metadata": {},
   "outputs": [
    {
     "data": {
      "text/html": [
       "<table>\n",
       "<caption>A data.table: 1 × 11</caption>\n",
       "<thead>\n",
       "\t<tr><th scope=col>index</th><th scope=col>UMAP1</th><th scope=col>UMAP2</th><th scope=col>cluster_name</th><th scope=col>unique_usable_reads</th><th scope=col>log_usable_counts</th><th scope=col>frac_duplicated_reads</th><th scope=col>frac_mito_reads</th><th scope=col>frac_promoters_used</th><th scope=col>frac_reads_in_peaks</th><th scope=col>frac_reads_in_promoters</th></tr>\n",
       "\t<tr><th scope=col>&lt;chr&gt;</th><th scope=col>&lt;dbl&gt;</th><th scope=col>&lt;dbl&gt;</th><th scope=col>&lt;chr&gt;</th><th scope=col>&lt;int&gt;</th><th scope=col>&lt;dbl&gt;</th><th scope=col>&lt;dbl&gt;</th><th scope=col>&lt;dbl&gt;</th><th scope=col>&lt;dbl&gt;</th><th scope=col>&lt;dbl&gt;</th><th scope=col>&lt;dbl&gt;</th></tr>\n",
       "</thead>\n",
       "<tbody>\n",
       "\t<tr><td>Islet1fresh_AGACACCTAAGAGGCAAAGGAGTAGGCTC</td><td>-5.102393</td><td>1.38682</td><td>alpha_2</td><td>6254</td><td>7.865955</td><td>0.7902986</td><td>0.03428042</td><td>0.04337516</td><td>0.5978574</td><td>0.2646306</td></tr>\n",
       "</tbody>\n",
       "</table>\n"
      ],
      "text/latex": [
       "A data.table: 1 × 11\n",
       "\\begin{tabular}{r|lllllllllll}\n",
       " index & UMAP1 & UMAP2 & cluster\\_name & unique\\_usable\\_reads & log\\_usable\\_counts & frac\\_duplicated\\_reads & frac\\_mito\\_reads & frac\\_promoters\\_used & frac\\_reads\\_in\\_peaks & frac\\_reads\\_in\\_promoters\\\\\n",
       " <chr> & <dbl> & <dbl> & <chr> & <int> & <dbl> & <dbl> & <dbl> & <dbl> & <dbl> & <dbl>\\\\\n",
       "\\hline\n",
       "\t Islet1fresh\\_AGACACCTAAGAGGCAAAGGAGTAGGCTC & -5.102393 & 1.38682 & alpha\\_2 & 6254 & 7.865955 & 0.7902986 & 0.03428042 & 0.04337516 & 0.5978574 & 0.2646306\\\\\n",
       "\\end{tabular}\n"
      ],
      "text/markdown": [
       "\n",
       "A data.table: 1 × 11\n",
       "\n",
       "| index &lt;chr&gt; | UMAP1 &lt;dbl&gt; | UMAP2 &lt;dbl&gt; | cluster_name &lt;chr&gt; | unique_usable_reads &lt;int&gt; | log_usable_counts &lt;dbl&gt; | frac_duplicated_reads &lt;dbl&gt; | frac_mito_reads &lt;dbl&gt; | frac_promoters_used &lt;dbl&gt; | frac_reads_in_peaks &lt;dbl&gt; | frac_reads_in_promoters &lt;dbl&gt; |\n",
       "|---|---|---|---|---|---|---|---|---|---|---|\n",
       "| Islet1fresh_AGACACCTAAGAGGCAAAGGAGTAGGCTC | -5.102393 | 1.38682 | alpha_2 | 6254 | 7.865955 | 0.7902986 | 0.03428042 | 0.04337516 | 0.5978574 | 0.2646306 |\n",
       "\n"
      ],
      "text/plain": [
       "  index                                     UMAP1     UMAP2   cluster_name\n",
       "1 Islet1fresh_AGACACCTAAGAGGCAAAGGAGTAGGCTC -5.102393 1.38682 alpha_2     \n",
       "  unique_usable_reads log_usable_counts frac_duplicated_reads frac_mito_reads\n",
       "1 6254                7.865955          0.7902986             0.03428042     \n",
       "  frac_promoters_used frac_reads_in_peaks frac_reads_in_promoters\n",
       "1 0.04337516          0.5978574           0.2646306              "
      ]
     },
     "metadata": {},
     "output_type": "display_data"
    },
    {
     "data": {
      "text/html": [
       "15298"
      ],
      "text/latex": [
       "15298"
      ],
      "text/markdown": [
       "15298"
      ],
      "text/plain": [
       "[1] 15298"
      ]
     },
     "metadata": {},
     "output_type": "display_data"
    }
   ],
   "source": [
    "fread('../dat/1910_v2/islet.cluster_labels.filt.txt')%>%head(1)\n",
    "fread('../dat/1910_v2/islet.cluster_labels.filt.txt')%>%nrow"
   ]
  },
  {
   "cell_type": "code",
   "execution_count": 8,
   "metadata": {},
   "outputs": [
    {
     "data": {
      "text/html": [
       "<table>\n",
       "<caption>A data.frame: 1 × 5</caption>\n",
       "<thead>\n",
       "\t<tr><th scope=col>cell</th><th scope=col>ps_bin</th><th scope=col>ps_bin_idx</th><th scope=col>celltype</th><th scope=col>subtype</th></tr>\n",
       "\t<tr><th scope=col>&lt;chr&gt;</th><th scope=col>&lt;fct&gt;</th><th scope=col>&lt;dbl&gt;</th><th scope=col>&lt;chr&gt;</th><th scope=col>&lt;chr&gt;</th></tr>\n",
       "</thead>\n",
       "<tbody>\n",
       "\t<tr><td>Islet3fresh_AGACACCTACTGAGCGACTGCATAGGTTGCGT</td><td>[0,0.209)</td><td>1</td><td>alpha</td><td>1</td></tr>\n",
       "</tbody>\n",
       "</table>\n"
      ],
      "text/latex": [
       "A data.frame: 1 × 5\n",
       "\\begin{tabular}{r|lllll}\n",
       " cell & ps\\_bin & ps\\_bin\\_idx & celltype & subtype\\\\\n",
       " <chr> & <fct> & <dbl> & <chr> & <chr>\\\\\n",
       "\\hline\n",
       "\t Islet3fresh\\_AGACACCTACTGAGCGACTGCATAGGTTGCGT & {[}0,0.209) & 1 & alpha & 1\\\\\n",
       "\\end{tabular}\n"
      ],
      "text/markdown": [
       "\n",
       "A data.frame: 1 × 5\n",
       "\n",
       "| cell &lt;chr&gt; | ps_bin &lt;fct&gt; | ps_bin_idx &lt;dbl&gt; | celltype &lt;chr&gt; | subtype &lt;chr&gt; |\n",
       "|---|---|---|---|---|\n",
       "| Islet3fresh_AGACACCTACTGAGCGACTGCATAGGTTGCGT | [0,0.209) | 1 | alpha | 1 |\n",
       "\n"
      ],
      "text/plain": [
       "  cell                                         ps_bin    ps_bin_idx celltype\n",
       "1 Islet3fresh_AGACACCTACTGAGCGACTGCATAGGTTGCGT [0,0.209) 1          alpha   \n",
       "  subtype\n",
       "1 1      "
      ]
     },
     "metadata": {},
     "output_type": "display_data"
    },
    {
     "data": {
      "text/html": [
       "14526"
      ],
      "text/latex": [
       "14526"
      ],
      "text/markdown": [
       "14526"
      ],
      "text/plain": [
       "[1] 14526"
      ]
     },
     "metadata": {},
     "output_type": "display_data"
    },
    {
     "data": {
      "text/html": [
       "<table>\n",
       "<caption>A tibble: 3 × 2</caption>\n",
       "<thead>\n",
       "\t<tr><th scope=col>celltype</th><th scope=col>tot</th></tr>\n",
       "\t<tr><th scope=col>&lt;chr&gt;</th><th scope=col>&lt;dbl&gt;</th></tr>\n",
       "</thead>\n",
       "<tbody>\n",
       "\t<tr><td>alpha</td><td>6218</td></tr>\n",
       "\t<tr><td>beta </td><td>7598</td></tr>\n",
       "\t<tr><td>delta</td><td> 710</td></tr>\n",
       "</tbody>\n",
       "</table>\n"
      ],
      "text/latex": [
       "A tibble: 3 × 2\n",
       "\\begin{tabular}{r|ll}\n",
       " celltype & tot\\\\\n",
       " <chr> & <dbl>\\\\\n",
       "\\hline\n",
       "\t alpha & 6218\\\\\n",
       "\t beta  & 7598\\\\\n",
       "\t delta &  710\\\\\n",
       "\\end{tabular}\n"
      ],
      "text/markdown": [
       "\n",
       "A tibble: 3 × 2\n",
       "\n",
       "| celltype &lt;chr&gt; | tot &lt;dbl&gt; |\n",
       "|---|---|\n",
       "| alpha | 6218 |\n",
       "| beta  | 7598 |\n",
       "| delta |  710 |\n",
       "\n"
      ],
      "text/plain": [
       "  celltype tot \n",
       "1 alpha    6218\n",
       "2 beta     7598\n",
       "3 delta     710"
      ]
     },
     "metadata": {},
     "output_type": "display_data"
    },
    {
     "data": {
      "text/html": [
       "<table>\n",
       "<caption>A data.frame: 1 × 6</caption>\n",
       "<thead>\n",
       "\t<tr><th scope=col>ps_bin</th><th scope=col>celltype</th><th scope=col>1</th><th scope=col>2</th><th scope=col>N</th><th scope=col>frac</th></tr>\n",
       "\t<tr><th scope=col>&lt;chr&gt;</th><th scope=col>&lt;chr&gt;</th><th scope=col>&lt;dbl&gt;</th><th scope=col>&lt;dbl&gt;</th><th scope=col>&lt;dbl&gt;</th><th scope=col>&lt;dbl&gt;</th></tr>\n",
       "</thead>\n",
       "<tbody>\n",
       "\t<tr><td>1:[0,0.185)</td><td>beta</td><td>103</td><td>1</td><td>104</td><td>0.9903846</td></tr>\n",
       "</tbody>\n",
       "</table>\n"
      ],
      "text/latex": [
       "A data.frame: 1 × 6\n",
       "\\begin{tabular}{r|llllll}\n",
       " ps\\_bin & celltype & 1 & 2 & N & frac\\\\\n",
       " <chr> & <chr> & <dbl> & <dbl> & <dbl> & <dbl>\\\\\n",
       "\\hline\n",
       "\t 1:{[}0,0.185) & beta & 103 & 1 & 104 & 0.9903846\\\\\n",
       "\\end{tabular}\n"
      ],
      "text/markdown": [
       "\n",
       "A data.frame: 1 × 6\n",
       "\n",
       "| ps_bin &lt;chr&gt; | celltype &lt;chr&gt; | 1 &lt;dbl&gt; | 2 &lt;dbl&gt; | N &lt;dbl&gt; | frac &lt;dbl&gt; |\n",
       "|---|---|---|---|---|---|\n",
       "| 1:[0,0.185) | beta | 103 | 1 | 104 | 0.9903846 |\n",
       "\n"
      ],
      "text/plain": [
       "  ps_bin      celltype 1   2 N   frac     \n",
       "1 1:[0,0.185) beta     103 1 104 0.9903846"
      ]
     },
     "metadata": {},
     "output_type": "display_data"
    },
    {
     "data": {
      "text/html": [
       "203"
      ],
      "text/latex": [
       "203"
      ],
      "text/markdown": [
       "203"
      ],
      "text/plain": [
       "[1] 203"
      ]
     },
     "metadata": {},
     "output_type": "display_data"
    }
   ],
   "source": [
    "ps.bin.dat.sum <- dat.pro_ps %>% select(-prom_peak, -ps) %>% distinct() %>% select(-celltype) %>% \n",
    "    left_join(fread(\"../dat/1910_v2/islet.cluster_labels.filt.txt\") %>% select(index, \n",
    "        cluster_name), by = c(cell = \"index\")) %>% separate(cluster_name, into = c(\"celltype\", \n",
    "    \"subtype\"), sep = \"_\")\n",
    "ps.bin.dat.sum %>% head(1)\n",
    "ps.bin.dat.sum %>% nrow\n",
    "\n",
    "setDT(ps.bin.dat.sum)\n",
    "ps.bin.dat.sum <- ps.bin.dat.sum %>% unite(\"ps_bin\", 3:2, sep = \":\", )\n",
    "ps.bin.dat.sum <- ps.bin.dat.sum[, .(.N), by = .(ps_bin, celltype, subtype)]\n",
    "ps.bin.dat.sum <- (ps.bin.dat.sum %>% spread(key = \"subtype\", value = \"N\", fill = 0) %>% \n",
    "    mutate(N = (`1` + `2`), frac = `1`/(`1` + `2`)))\n",
    "ps.bin.dat.sum %>% group_by(celltype) %>% summarise(tot = sum(N))\n",
    "ps.bin.dat.sum %>% head(1)\n",
    "ps.bin.dat.sum %>% nrow"
   ]
  },
  {
   "cell_type": "code",
   "execution_count": 9,
   "metadata": {},
   "outputs": [],
   "source": [
    "ps.bin.dat.sum <- ps.bin.dat.sum %>% separate(ps_bin, into = c(\"ps_bin_idx\", \"ps_bin\"), \n",
    "    sep = \":\")\n",
    "fwrite(ps.bin.dat.sum, \"../dat/1910_v2/ps.bin.dat.sum.csv\")"
   ]
  },
  {
   "cell_type": "code",
   "execution_count": 9,
   "metadata": {
    "scrolled": false
   },
   "outputs": [
    {
     "data": {
      "text/html": [
       "<table>\n",
       "<caption>A data.table: 1 × 3</caption>\n",
       "<thead>\n",
       "\t<tr><th scope=col>ps_bin</th><th scope=col>celltype</th><th scope=col>N</th></tr>\n",
       "\t<tr><th scope=col>&lt;fct&gt;</th><th scope=col>&lt;chr&gt;</th><th scope=col>&lt;int&gt;</th></tr>\n",
       "</thead>\n",
       "<tbody>\n",
       "\t<tr><td>(8.97,9.18]</td><td>alpha</td><td>211</td></tr>\n",
       "</tbody>\n",
       "</table>\n"
      ],
      "text/latex": [
       "A data.table: 1 × 3\n",
       "\\begin{tabular}{r|lll}\n",
       " ps\\_bin & celltype & N\\\\\n",
       " <fct> & <chr> & <int>\\\\\n",
       "\\hline\n",
       "\t (8.97,9.18{]} & alpha & 211\\\\\n",
       "\\end{tabular}\n"
      ],
      "text/markdown": [
       "\n",
       "A data.table: 1 × 3\n",
       "\n",
       "| ps_bin &lt;fct&gt; | celltype &lt;chr&gt; | N &lt;int&gt; |\n",
       "|---|---|---|\n",
       "| (8.97,9.18] | alpha | 211 |\n",
       "\n"
      ],
      "text/plain": [
       "  ps_bin      celltype N  \n",
       "1 (8.97,9.18] alpha    211"
      ]
     },
     "metadata": {},
     "output_type": "display_data"
    },
    {
     "data": {
      "text/html": [
       "245"
      ],
      "text/latex": [
       "245"
      ],
      "text/markdown": [
       "245"
      ],
      "text/plain": [
       "[1] 245"
      ]
     },
     "metadata": {},
     "output_type": "display_data"
    },
    {
     "name": "stdout",
     "output_type": "stream",
     "text": [
      "101 # bins:\n",
      "quantiles of alpha cell number per bin:\n"
     ]
    },
    {
     "data": {
      "text/html": [
       "<table>\n",
       "<caption>A matrix: 1 × 5 of type dbl</caption>\n",
       "<thead>\n",
       "\t<tr><th scope=col>0%</th><th scope=col>25%</th><th scope=col>50%</th><th scope=col>75%</th><th scope=col>100%</th></tr>\n",
       "</thead>\n",
       "<tbody>\n",
       "\t<tr><td>1</td><td>15.5</td><td>39</td><td>71.5</td><td>658</td></tr>\n",
       "</tbody>\n",
       "</table>\n"
      ],
      "text/latex": [
       "A matrix: 1 × 5 of type dbl\n",
       "\\begin{tabular}{lllll}\n",
       " 0\\% & 25\\% & 50\\% & 75\\% & 100\\%\\\\\n",
       "\\hline\n",
       "\t 1 & 15.5 & 39 & 71.5 & 658\\\\\n",
       "\\end{tabular}\n"
      ],
      "text/markdown": [
       "\n",
       "A matrix: 1 × 5 of type dbl\n",
       "\n",
       "| 0% | 25% | 50% | 75% | 100% |\n",
       "|---|---|---|---|---|\n",
       "| 1 | 15.5 | 39 | 71.5 | 658 |\n",
       "\n"
      ],
      "text/plain": [
       "     0% 25%  50% 75%  100%\n",
       "[1,] 1  15.5 39  71.5 658 "
      ]
     },
     "metadata": {},
     "output_type": "display_data"
    },
    {
     "name": "stdout",
     "output_type": "stream",
     "text": [
      "quantiles of beta cell number per bin:\n"
     ]
    },
    {
     "data": {
      "text/html": [
       "<table>\n",
       "<caption>A matrix: 1 × 5 of type dbl</caption>\n",
       "<thead>\n",
       "\t<tr><th scope=col>0%</th><th scope=col>25%</th><th scope=col>50%</th><th scope=col>75%</th><th scope=col>100%</th></tr>\n",
       "</thead>\n",
       "<tbody>\n",
       "\t<tr><td>2</td><td>29</td><td>56</td><td>94.25</td><td>555</td></tr>\n",
       "</tbody>\n",
       "</table>\n"
      ],
      "text/latex": [
       "A matrix: 1 × 5 of type dbl\n",
       "\\begin{tabular}{lllll}\n",
       " 0\\% & 25\\% & 50\\% & 75\\% & 100\\%\\\\\n",
       "\\hline\n",
       "\t 2 & 29 & 56 & 94.25 & 555\\\\\n",
       "\\end{tabular}\n"
      ],
      "text/markdown": [
       "\n",
       "A matrix: 1 × 5 of type dbl\n",
       "\n",
       "| 0% | 25% | 50% | 75% | 100% |\n",
       "|---|---|---|---|---|\n",
       "| 2 | 29 | 56 | 94.25 | 555 |\n",
       "\n"
      ],
      "text/plain": [
       "     0% 25% 50% 75%   100%\n",
       "[1,] 2  29  56  94.25 555 "
      ]
     },
     "metadata": {},
     "output_type": "display_data"
    },
    {
     "name": "stdout",
     "output_type": "stream",
     "text": [
      "quantiles of delta cell number per bin:\n"
     ]
    },
    {
     "data": {
      "text/html": [
       "<table>\n",
       "<caption>A matrix: 1 × 5 of type dbl</caption>\n",
       "<thead>\n",
       "\t<tr><th scope=col>0%</th><th scope=col>25%</th><th scope=col>50%</th><th scope=col>75%</th><th scope=col>100%</th></tr>\n",
       "</thead>\n",
       "<tbody>\n",
       "\t<tr><td>1</td><td>4</td><td>7.5</td><td>12.75</td><td>55</td></tr>\n",
       "</tbody>\n",
       "</table>\n"
      ],
      "text/latex": [
       "A matrix: 1 × 5 of type dbl\n",
       "\\begin{tabular}{lllll}\n",
       " 0\\% & 25\\% & 50\\% & 75\\% & 100\\%\\\\\n",
       "\\hline\n",
       "\t 1 & 4 & 7.5 & 12.75 & 55\\\\\n",
       "\\end{tabular}\n"
      ],
      "text/markdown": [
       "\n",
       "A matrix: 1 × 5 of type dbl\n",
       "\n",
       "| 0% | 25% | 50% | 75% | 100% |\n",
       "|---|---|---|---|---|\n",
       "| 1 | 4 | 7.5 | 12.75 | 55 |\n",
       "\n"
      ],
      "text/plain": [
       "     0% 25% 50% 75%   100%\n",
       "[1,] 1  4   7.5 12.75 55  "
      ]
     },
     "metadata": {},
     "output_type": "display_data"
    }
   ],
   "source": [
    "setDT(ps.bin.dat.sum)\n",
    "ps.bin.dat.sum <- ps.bin.dat.sum[, .(.N), by = .(ps_bin, celltype)]\n",
    "ps.bin.dat.sum%>%head(1)\n",
    "ps.bin.dat.sum%>%nrow\n",
    "cat(paste(N.bin, \"# bins:\\n\"))\n",
    "cat(\"quantiles of alpha cell number per bin:\\n\")\n",
    "t(quantile((ps.bin.dat.sum %>% filter(celltype == \"alpha\"))$N))\n",
    "cat(\"quantiles of beta cell number per bin:\\n\")\n",
    "t(quantile((ps.bin.dat.sum %>% filter(celltype == \"beta\"))$N))\n",
    "cat(\"quantiles of delta cell number per bin:\\n\")\n",
    "t(quantile((ps.bin.dat.sum %>% filter(celltype == \"delta\"))$N))"
   ]
  },
  {
   "cell_type": "markdown",
   "metadata": {},
   "source": [
    "### 3.2 Delta need bigger bin size\n",
    "Or check `05a.Dynamical_data_prepare.ipynb`"
   ]
  },
  {
   "cell_type": "code",
   "execution_count": 12,
   "metadata": {},
   "outputs": [
    {
     "data": {
      "text/html": [
       "<table>\n",
       "<caption>A data.frame: 1 × 6</caption>\n",
       "<thead>\n",
       "\t<tr><th scope=col>prom_peak</th><th scope=col>cell</th><th scope=col>ps</th><th scope=col>celltype</th><th scope=col>ps_bin</th><th scope=col>ps_bin_idx</th></tr>\n",
       "\t<tr><th scope=col>&lt;chr&gt;</th><th scope=col>&lt;chr&gt;</th><th scope=col>&lt;dbl&gt;</th><th scope=col>&lt;chr&gt;</th><th scope=col>&lt;fct&gt;</th><th scope=col>&lt;dbl&gt;</th></tr>\n",
       "</thead>\n",
       "<tbody>\n",
       "\t<tr><td>10:101088824-101090586</td><td>Islet2fresh_TATCGGTTGGAGCTACCTGCATATGAC</td><td>0.05524501</td><td>delta</td><td>[0,0.749)</td><td>1</td></tr>\n",
       "</tbody>\n",
       "</table>\n"
      ],
      "text/latex": [
       "A data.frame: 1 × 6\n",
       "\\begin{tabular}{r|llllll}\n",
       " prom\\_peak & cell & ps & celltype & ps\\_bin & ps\\_bin\\_idx\\\\\n",
       " <chr> & <chr> & <dbl> & <chr> & <fct> & <dbl>\\\\\n",
       "\\hline\n",
       "\t 10:101088824-101090586 & Islet2fresh\\_TATCGGTTGGAGCTACCTGCATATGAC & 0.05524501 & delta & {[}0,0.749) & 1\\\\\n",
       "\\end{tabular}\n"
      ],
      "text/markdown": [
       "\n",
       "A data.frame: 1 × 6\n",
       "\n",
       "| prom_peak &lt;chr&gt; | cell &lt;chr&gt; | ps &lt;dbl&gt; | celltype &lt;chr&gt; | ps_bin &lt;fct&gt; | ps_bin_idx &lt;dbl&gt; |\n",
       "|---|---|---|---|---|---|\n",
       "| 10:101088824-101090586 | Islet2fresh_TATCGGTTGGAGCTACCTGCATATGAC | 0.05524501 | delta | [0,0.749) | 1 |\n",
       "\n"
      ],
      "text/plain": [
       "  prom_peak              cell                                    ps        \n",
       "1 10:101088824-101090586 Islet2fresh_TATCGGTTGGAGCTACCTGCATATGAC 0.05524501\n",
       "  celltype ps_bin    ps_bin_idx\n",
       "1 delta    [0,0.749) 1         "
      ]
     },
     "metadata": {},
     "output_type": "display_data"
    },
    {
     "data": {
      "text/html": [
       "<table>\n",
       "<caption>A data.frame: 1 × 4</caption>\n",
       "<thead>\n",
       "\t<tr><th scope=col>cell</th><th scope=col>celltype</th><th scope=col>ps_bin</th><th scope=col>ps_bin_idx</th></tr>\n",
       "\t<tr><th scope=col>&lt;chr&gt;</th><th scope=col>&lt;chr&gt;</th><th scope=col>&lt;fct&gt;</th><th scope=col>&lt;dbl&gt;</th></tr>\n",
       "</thead>\n",
       "<tbody>\n",
       "\t<tr><td>Islet2fresh_TATCGGTTGGAGCTACCTGCATATGAC</td><td>delta</td><td>[0,0.749)</td><td>1</td></tr>\n",
       "</tbody>\n",
       "</table>\n"
      ],
      "text/latex": [
       "A data.frame: 1 × 4\n",
       "\\begin{tabular}{r|llll}\n",
       " cell & celltype & ps\\_bin & ps\\_bin\\_idx\\\\\n",
       " <chr> & <chr> & <fct> & <dbl>\\\\\n",
       "\\hline\n",
       "\t Islet2fresh\\_TATCGGTTGGAGCTACCTGCATATGAC & delta & {[}0,0.749) & 1\\\\\n",
       "\\end{tabular}\n"
      ],
      "text/markdown": [
       "\n",
       "A data.frame: 1 × 4\n",
       "\n",
       "| cell &lt;chr&gt; | celltype &lt;chr&gt; | ps_bin &lt;fct&gt; | ps_bin_idx &lt;dbl&gt; |\n",
       "|---|---|---|---|\n",
       "| Islet2fresh_TATCGGTTGGAGCTACCTGCATATGAC | delta | [0,0.749) | 1 |\n",
       "\n"
      ],
      "text/plain": [
       "  cell                                    celltype ps_bin    ps_bin_idx\n",
       "1 Islet2fresh_TATCGGTTGGAGCTACCTGCATATGAC delta    [0,0.749) 1         "
      ]
     },
     "metadata": {},
     "output_type": "display_data"
    },
    {
     "data": {
      "text/html": [
       "710"
      ],
      "text/latex": [
       "710"
      ],
      "text/markdown": [
       "710"
      ],
      "text/plain": [
       "[1] 710"
      ]
     },
     "metadata": {},
     "output_type": "display_data"
    },
    {
     "data": {
      "text/html": [
       "<table>\n",
       "<caption>A data.table: 1 × 3</caption>\n",
       "<thead>\n",
       "\t<tr><th scope=col>ps_bin</th><th scope=col>celltype</th><th scope=col>N</th></tr>\n",
       "\t<tr><th scope=col>&lt;fct&gt;</th><th scope=col>&lt;chr&gt;</th><th scope=col>&lt;int&gt;</th></tr>\n",
       "</thead>\n",
       "<tbody>\n",
       "\t<tr><td>[0,0.749)</td><td>delta</td><td>51</td></tr>\n",
       "</tbody>\n",
       "</table>\n"
      ],
      "text/latex": [
       "A data.table: 1 × 3\n",
       "\\begin{tabular}{r|lll}\n",
       " ps\\_bin & celltype & N\\\\\n",
       " <fct> & <chr> & <int>\\\\\n",
       "\\hline\n",
       "\t {[}0,0.749) & delta & 51\\\\\n",
       "\\end{tabular}\n"
      ],
      "text/markdown": [
       "\n",
       "A data.table: 1 × 3\n",
       "\n",
       "| ps_bin &lt;fct&gt; | celltype &lt;chr&gt; | N &lt;int&gt; |\n",
       "|---|---|---|\n",
       "| [0,0.749) | delta | 51 |\n",
       "\n"
      ],
      "text/plain": [
       "  ps_bin    celltype N \n",
       "1 [0,0.749) delta    51"
      ]
     },
     "metadata": {},
     "output_type": "display_data"
    },
    {
     "data": {
      "text/html": [
       "20"
      ],
      "text/latex": [
       "20"
      ],
      "text/markdown": [
       "20"
      ],
      "text/plain": [
       "[1] 20"
      ]
     },
     "metadata": {},
     "output_type": "display_data"
    },
    {
     "name": "stdout",
     "output_type": "stream",
     "text": [
      "21 # bins:\n",
      "quantiles of delta cell number per bin:\n"
     ]
    },
    {
     "data": {
      "text/html": [
       "<table>\n",
       "<caption>A matrix: 1 × 5 of type dbl</caption>\n",
       "<thead>\n",
       "\t<tr><th scope=col>0%</th><th scope=col>25%</th><th scope=col>50%</th><th scope=col>75%</th><th scope=col>100%</th></tr>\n",
       "</thead>\n",
       "<tbody>\n",
       "\t<tr><td>7</td><td>19</td><td>34.5</td><td>48.75</td><td>92</td></tr>\n",
       "</tbody>\n",
       "</table>\n"
      ],
      "text/latex": [
       "A matrix: 1 × 5 of type dbl\n",
       "\\begin{tabular}{lllll}\n",
       " 0\\% & 25\\% & 50\\% & 75\\% & 100\\%\\\\\n",
       "\\hline\n",
       "\t 7 & 19 & 34.5 & 48.75 & 92\\\\\n",
       "\\end{tabular}\n"
      ],
      "text/markdown": [
       "\n",
       "A matrix: 1 × 5 of type dbl\n",
       "\n",
       "| 0% | 25% | 50% | 75% | 100% |\n",
       "|---|---|---|---|---|\n",
       "| 7 | 19 | 34.5 | 48.75 | 92 |\n",
       "\n"
      ],
      "text/plain": [
       "     0% 25% 50%  75%   100%\n",
       "[1,] 7  19  34.5 48.75 92  "
      ]
     },
     "metadata": {},
     "output_type": "display_data"
    }
   ],
   "source": [
    "N.bin <- 21\n",
    "ps.bks <- list()\n",
    "ps.bks$delta <- seq(ps.range$delta[1], ps.range$delta[2] + 1e-05, length.out = N.bin)\n",
    "\n",
    "dat.pro_ps.d <- dat.pro_ps %>% filter(celltype == \"delta\") %>% mutate(ps_bin = cut(ps, \n",
    "    breaks = ps.bks$delta, include.lowest = T, right = F)) %>% mutate(ps_bin_idx = as.numeric(ps_bin)) %>% \n",
    "    arrange(celltype, ps_bin_idx)\n",
    "\n",
    "dat.pro_ps.d %>% head(1)\n",
    "\n",
    "\n",
    "ps.bin.dat.sum <- dat.pro_ps.d %>% select(-prom_peak, -ps) %>% distinct()\n",
    "ps.bin.dat.sum %>% head(1)\n",
    "ps.bin.dat.sum %>% nrow\n",
    "\n",
    "\n",
    "setDT(ps.bin.dat.sum)\n",
    "ps.bin.dat.sum <- ps.bin.dat.sum[, .(.N), by = .(ps_bin, celltype)]\n",
    "ps.bin.dat.sum %>% head(1)\n",
    "ps.bin.dat.sum %>% nrow\n",
    "cat(paste(N.bin, \"# bins:\\n\"))\n",
    "cat(\"quantiles of delta cell number per bin:\\n\")\n",
    "t(quantile((ps.bin.dat.sum %>% filter(celltype == \"delta\"))$N))"
   ]
  }
 ],
 "metadata": {
  "kernelspec": {
   "display_name": "R",
   "language": "R",
   "name": "ir"
  },
  "language_info": {
   "codemirror_mode": "r",
   "file_extension": ".r",
   "mimetype": "text/x-r-source",
   "name": "R",
   "pygments_lexer": "r",
   "version": "3.5.1"
  }
 },
 "nbformat": 4,
 "nbformat_minor": 2
}
