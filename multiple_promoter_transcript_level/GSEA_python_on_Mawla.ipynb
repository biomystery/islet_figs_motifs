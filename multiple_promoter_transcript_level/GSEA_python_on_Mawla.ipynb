{
 "cells": [
  {
   "cell_type": "markdown",
   "metadata": {},
   "source": [
    "# Perform GSEA using GSEAPY  \n",
    "\n",
    "Following the potocol defined here: https://gseapy.readthedocs.io/en/latest/gseapy_tutorial.html#use-gsea-command-or-gsea\n"
   ]
  },
  {
   "cell_type": "code",
   "execution_count": 2,
   "metadata": {},
   "outputs": [],
   "source": [
    "%matplotlib inline\n",
    "%config InlineBackend.figure_format='retina' # mac\n",
    "import pandas as pd\n",
    "import gseapy as gp\n",
    "import numpy as np\n",
    "import matplotlib.pyplot as plt"
   ]
  },
  {
   "cell_type": "code",
   "execution_count": 3,
   "metadata": {},
   "outputs": [
    {
     "data": {
      "text/plain": [
       "'0.9.15'"
      ]
     },
     "execution_count": 3,
     "metadata": {},
     "output_type": "execute_result"
    }
   ],
   "source": [
    "gp.__version__"
   ]
  },
  {
   "cell_type": "markdown",
   "metadata": {},
   "source": [
    "## Create gene lists"
   ]
  },
  {
   "cell_type": "code",
   "execution_count": 5,
   "metadata": {},
   "outputs": [],
   "source": []
  },
  {
   "cell_type": "code",
   "execution_count": 21,
   "metadata": {},
   "outputs": [
    {
     "name": "stdout",
     "output_type": "stream",
     "text": [
      "Mawla_Beta_1\n",
      "14\n",
      "Mawla_Beta_2\n",
      "38\n"
     ]
    }
   ],
   "source": [
    "import csv \n",
    "df = pd.read_csv('~/Dropbox (UCSD_Epigenomics)/workReports/2019-09_islet_rev/Mawla_2019_tabS2a.csv')\n",
    "gmt = '../dat/1908/20191001_Mawla_tabS2A.gmt'\n",
    "\n",
    "with open(gmt,'w') as f:\n",
    "    tsv_writer = csv.writer(f, delimiter='\\t')\n",
    "    for i in range(1,3):\n",
    "        s='Mawla_Beta_'+str(i)\n",
    "        print(s)\n",
    "        x=df[df.logFC==i].gene.tolist()\n",
    "        print(len(x))\n",
    "        x.insert(0,s)\n",
    "        x.insert(0,s)\n",
    "        tsv_writer.writerow(x)\n",
    "\n"
   ]
  },
  {
   "cell_type": "markdown",
   "metadata": {},
   "source": [
    "## alpha"
   ]
  },
  {
   "cell_type": "code",
   "execution_count": 17,
   "metadata": {},
   "outputs": [],
   "source": [
    "def run_GSEA_gene(celltype,nperm=1000,rseed=1000,\n",
    "             rnkfile=\"../dat/figdata/fig2_prom_ttest_res.csv\",\n",
    "             glist='../dat/glists/gsea.gmt',col=1,\n",
    "             rank_metrics='odds',zth=3,nTop=500,**kwargs):\n",
    "    '''\n",
    "    col=1 - Z, 0 - logFC\n",
    "    '''\n",
    "\n",
    "    gene_exp_alpha = pd.read_csv(rnkfile)[['celltype','gene',rank_metrics]]\n",
    "            \n",
    "    #gene_exp_alpha.head()\n",
    "    rnk = gene_exp_alpha.loc[gene_exp_alpha[\"celltype\"]==celltype].drop(columns='celltype').sort_values(by=rank_metrics)\n",
    "    if(rank_metrics=='odds'):\n",
    "        rnk['odds'] =np.log2(rnk['odds'])\n",
    "        rnk=rnk.reset_index(drop=True)\n",
    "        df=rnk.drop(columns='gene')        \n",
    "        np.random.seed(seed=rseed)\n",
    "        for i in  rnk.index[(rnk['odds']==np.inf).tolist()].tolist():\n",
    "            rnk.iloc[i,1]= float(df[~df.isin([np.inf])].max(0)*(1+np.random.uniform()/100))\n",
    "\n",
    "        for i in  rnk.index[(rnk['odds']==-np.inf).tolist()].tolist():\n",
    "            rnk.iloc[i,1]= float(df[~df.isin([-np.inf])].min(0)*(1+np.random.uniform()/100))\n",
    "        rnk['odds']=rnk['odds']/max(abs(rnk['odds']))\n",
    "        \n",
    "    print(rnk.shape)\n",
    "    print(rnk.head(1))\n",
    "    print(rnk.tail(1))\n",
    "    print('zth:{0}'.format(zth))\n",
    "    #createGlists()\n",
    "    gs_res_a = gp.prerank(rnk=rnk, # or data='./P53_resampling_data.txt'\n",
    "                     gene_sets=glist, # enrichr library names or gmt file\n",
    "                     #set permutation_type to phenotype if samples >=15\n",
    "                     permutation_num=nperm, # reduce number to speed up test\n",
    "                     outdir=None,  # do not write output to disk\n",
    "                     no_plot=True, # Skip plotting\n",
    "                     #weighted_score_type=1,\n",
    "                     #ascending=False,\n",
    "                        seed=rseed,\n",
    "                     min_size=1,\n",
    "                     max_size=5000,\n",
    "                     processes=8,**kwargs)\n",
    "                     #format='png')\n",
    "    return(gs_res_a)\n"
   ]
  },
  {
   "cell_type": "markdown",
   "metadata": {},
   "source": [
    "#### On Z value"
   ]
  },
  {
   "cell_type": "code",
   "execution_count": 22,
   "metadata": {
    "scrolled": false
   },
   "outputs": [
    {
     "name": "stdout",
     "output_type": "stream",
     "text": [
      "(21715, 2)\n",
      "     gene      odds\n",
      "0  ZNF106 -0.994725\n",
      "          gene      odds\n",
      "21714  PLEKHS1  0.806376\n",
      "zth:3\n"
     ]
    },
    {
     "name": "stderr",
     "output_type": "stream",
     "text": [
      "2019-10-01 11:31:48,251 Input gene rankings contains duplicated IDs, Only use the duplicated ID with highest value!\n"
     ]
    },
    {
     "name": "stdout",
     "output_type": "stream",
     "text": [
      "(21825, 2)\n",
      "   gene      odds\n",
      "0  PDHX -0.993998\n",
      "        gene      odds\n",
      "21824  TIGIT  0.968675\n",
      "zth:3\n"
     ]
    },
    {
     "name": "stderr",
     "output_type": "stream",
     "text": [
      "2019-10-01 11:31:54,971 Input gene rankings contains duplicated IDs, Only use the duplicated ID with highest value!\n"
     ]
    },
    {
     "data": {
      "text/html": [
       "<div>\n",
       "<style scoped>\n",
       "    .dataframe tbody tr th:only-of-type {\n",
       "        vertical-align: middle;\n",
       "    }\n",
       "\n",
       "    .dataframe tbody tr th {\n",
       "        vertical-align: top;\n",
       "    }\n",
       "\n",
       "    .dataframe thead th {\n",
       "        text-align: right;\n",
       "    }\n",
       "</style>\n",
       "<table border=\"1\" class=\"dataframe\">\n",
       "  <thead>\n",
       "    <tr style=\"text-align: right;\">\n",
       "      <th></th>\n",
       "      <th>es</th>\n",
       "      <th>nes</th>\n",
       "      <th>pval</th>\n",
       "      <th>fdr</th>\n",
       "      <th>geneset_size</th>\n",
       "      <th>matched_size</th>\n",
       "      <th>genes</th>\n",
       "      <th>ledge_genes</th>\n",
       "    </tr>\n",
       "    <tr>\n",
       "      <th>Term</th>\n",
       "      <th></th>\n",
       "      <th></th>\n",
       "      <th></th>\n",
       "      <th></th>\n",
       "      <th></th>\n",
       "      <th></th>\n",
       "      <th></th>\n",
       "      <th></th>\n",
       "    </tr>\n",
       "  </thead>\n",
       "  <tbody>\n",
       "    <tr>\n",
       "      <th>Mawla_Beta_2</th>\n",
       "      <td>-0.365183</td>\n",
       "      <td>-4.186711</td>\n",
       "      <td>0.153548</td>\n",
       "      <td>0.070662</td>\n",
       "      <td>38</td>\n",
       "      <td>32</td>\n",
       "      <td>CPA1;SERPINA1;NPY;SYNGR4;C10orf10;S100A11;PRG4...</td>\n",
       "      <td>ACTG1;HSPA6;PPY;GADD45B;IL11;HS3ST2</td>\n",
       "    </tr>\n",
       "    <tr>\n",
       "      <th>Mawla_Beta_1</th>\n",
       "      <td>0.494201</td>\n",
       "      <td>2.023600</td>\n",
       "      <td>0.278441</td>\n",
       "      <td>0.167012</td>\n",
       "      <td>14</td>\n",
       "      <td>13</td>\n",
       "      <td>IGSF1;G6PC2;IAPP;SORL1;CECR1;ASB9;EDN3;TSPAN1;...</td>\n",
       "      <td>IGSF1;G6PC2;IAPP;SORL1;CECR1</td>\n",
       "    </tr>\n",
       "  </tbody>\n",
       "</table>\n",
       "</div>"
      ],
      "text/plain": [
       "                    es       nes      pval       fdr  geneset_size  \\\n",
       "Term                                                                 \n",
       "Mawla_Beta_2 -0.365183 -4.186711  0.153548  0.070662            38   \n",
       "Mawla_Beta_1  0.494201  2.023600  0.278441  0.167012            14   \n",
       "\n",
       "              matched_size                                              genes  \\\n",
       "Term                                                                            \n",
       "Mawla_Beta_2            32  CPA1;SERPINA1;NPY;SYNGR4;C10orf10;S100A11;PRG4...   \n",
       "Mawla_Beta_1            13  IGSF1;G6PC2;IAPP;SORL1;CECR1;ASB9;EDN3;TSPAN1;...   \n",
       "\n",
       "                                      ledge_genes  \n",
       "Term                                               \n",
       "Mawla_Beta_2  ACTG1;HSPA6;PPY;GADD45B;IL11;HS3ST2  \n",
       "Mawla_Beta_1         IGSF1;G6PC2;IAPP;SORL1;CECR1  "
      ]
     },
     "metadata": {},
     "output_type": "display_data"
    },
    {
     "data": {
      "text/html": [
       "<div>\n",
       "<style scoped>\n",
       "    .dataframe tbody tr th:only-of-type {\n",
       "        vertical-align: middle;\n",
       "    }\n",
       "\n",
       "    .dataframe tbody tr th {\n",
       "        vertical-align: top;\n",
       "    }\n",
       "\n",
       "    .dataframe thead th {\n",
       "        text-align: right;\n",
       "    }\n",
       "</style>\n",
       "<table border=\"1\" class=\"dataframe\">\n",
       "  <thead>\n",
       "    <tr style=\"text-align: right;\">\n",
       "      <th></th>\n",
       "      <th>es</th>\n",
       "      <th>nes</th>\n",
       "      <th>pval</th>\n",
       "      <th>fdr</th>\n",
       "      <th>geneset_size</th>\n",
       "      <th>matched_size</th>\n",
       "      <th>genes</th>\n",
       "      <th>ledge_genes</th>\n",
       "    </tr>\n",
       "    <tr>\n",
       "      <th>Term</th>\n",
       "      <th></th>\n",
       "      <th></th>\n",
       "      <th></th>\n",
       "      <th></th>\n",
       "      <th></th>\n",
       "      <th></th>\n",
       "      <th></th>\n",
       "      <th></th>\n",
       "    </tr>\n",
       "  </thead>\n",
       "  <tbody>\n",
       "    <tr>\n",
       "      <th>Mawla_Beta_1</th>\n",
       "      <td>0.621505</td>\n",
       "      <td>2.119198</td>\n",
       "      <td>0.072469</td>\n",
       "      <td>0.035847</td>\n",
       "      <td>14</td>\n",
       "      <td>14</td>\n",
       "      <td>SORL1;ASB9;HADH;G6PC2;IGSF1;IAPP;CECR1;PCSK1;T...</td>\n",
       "      <td>SORL1;ASB9;HADH;G6PC2;IGSF1;IAPP;CECR1;PCSK1</td>\n",
       "    </tr>\n",
       "    <tr>\n",
       "      <th>Mawla_Beta_2</th>\n",
       "      <td>-0.332739</td>\n",
       "      <td>-5.767171</td>\n",
       "      <td>0.232587</td>\n",
       "      <td>0.095238</td>\n",
       "      <td>38</td>\n",
       "      <td>31</td>\n",
       "      <td>CPA1;SYNGR4;C10orf10;CTRB2;NPY;TMSB4X;SOD2;S10...</td>\n",
       "      <td>SAT1;SST;TIMP1;NAMPT;PTGS2;BIRC3;SPP1;GADD45B;...</td>\n",
       "    </tr>\n",
       "  </tbody>\n",
       "</table>\n",
       "</div>"
      ],
      "text/plain": [
       "                    es       nes      pval       fdr  geneset_size  \\\n",
       "Term                                                                 \n",
       "Mawla_Beta_1  0.621505  2.119198  0.072469  0.035847            14   \n",
       "Mawla_Beta_2 -0.332739 -5.767171  0.232587  0.095238            38   \n",
       "\n",
       "              matched_size                                              genes  \\\n",
       "Term                                                                            \n",
       "Mawla_Beta_1            14  SORL1;ASB9;HADH;G6PC2;IGSF1;IAPP;CECR1;PCSK1;T...   \n",
       "Mawla_Beta_2            31  CPA1;SYNGR4;C10orf10;CTRB2;NPY;TMSB4X;SOD2;S10...   \n",
       "\n",
       "                                                    ledge_genes  \n",
       "Term                                                             \n",
       "Mawla_Beta_1       SORL1;ASB9;HADH;G6PC2;IGSF1;IAPP;CECR1;PCSK1  \n",
       "Mawla_Beta_2  SAT1;SST;TIMP1;NAMPT;PTGS2;BIRC3;SPP1;GADD45B;...  "
      ]
     },
     "execution_count": 22,
     "metadata": {},
     "output_type": "execute_result"
    }
   ],
   "source": [
    "gs_res_a=run_GSEA_gene(celltype='alpha',\n",
    "                       nperm=6000,\n",
    "                       rseed=1000,\n",
    "                       glist=gmt)\n",
    "\n",
    "gs_res_b=run_GSEA_gene(celltype='beta',\n",
    "                       nperm=4000,\n",
    "                       rseed=2000,\n",
    "                       glist=gmt)\n",
    "\n",
    "display(gs_res_a.res2d)\n",
    "gs_res_b.res2d"
   ]
  },
  {
   "cell_type": "markdown",
   "metadata": {},
   "source": [
    "#### one ODDS"
   ]
  },
  {
   "cell_type": "code",
   "execution_count": 24,
   "metadata": {},
   "outputs": [
    {
     "name": "stdout",
     "output_type": "stream",
     "text": [
      "(21715, 2)\n",
      "     gene      odds\n",
      "0  ZNF106 -0.997682\n",
      "          gene      odds\n",
      "21714  PLEKHS1  0.806516\n",
      "zth:3\n"
     ]
    },
    {
     "name": "stderr",
     "output_type": "stream",
     "text": [
      "2019-10-01 11:34:51,244 Input gene rankings contains duplicated IDs, Only use the duplicated ID with highest value!\n"
     ]
    },
    {
     "name": "stdout",
     "output_type": "stream",
     "text": [
      "(21825, 2)\n",
      "   gene      odds\n",
      "0  PDHX -0.993998\n",
      "        gene      odds\n",
      "21824  TIGIT  0.968675\n",
      "zth:3\n"
     ]
    },
    {
     "name": "stderr",
     "output_type": "stream",
     "text": [
      "2019-10-01 11:34:57,601 Input gene rankings contains duplicated IDs, Only use the duplicated ID with highest value!\n"
     ]
    },
    {
     "data": {
      "text/html": [
       "<div>\n",
       "<style scoped>\n",
       "    .dataframe tbody tr th:only-of-type {\n",
       "        vertical-align: middle;\n",
       "    }\n",
       "\n",
       "    .dataframe tbody tr th {\n",
       "        vertical-align: top;\n",
       "    }\n",
       "\n",
       "    .dataframe thead th {\n",
       "        text-align: right;\n",
       "    }\n",
       "</style>\n",
       "<table border=\"1\" class=\"dataframe\">\n",
       "  <thead>\n",
       "    <tr style=\"text-align: right;\">\n",
       "      <th></th>\n",
       "      <th>es</th>\n",
       "      <th>nes</th>\n",
       "      <th>pval</th>\n",
       "      <th>fdr</th>\n",
       "      <th>geneset_size</th>\n",
       "      <th>matched_size</th>\n",
       "      <th>genes</th>\n",
       "      <th>ledge_genes</th>\n",
       "    </tr>\n",
       "    <tr>\n",
       "      <th>Term</th>\n",
       "      <th></th>\n",
       "      <th></th>\n",
       "      <th></th>\n",
       "      <th></th>\n",
       "      <th></th>\n",
       "      <th></th>\n",
       "      <th></th>\n",
       "      <th></th>\n",
       "    </tr>\n",
       "  </thead>\n",
       "  <tbody>\n",
       "    <tr>\n",
       "      <th>Mawla_Beta_2</th>\n",
       "      <td>-0.365183</td>\n",
       "      <td>-4.133133</td>\n",
       "      <td>0.148168</td>\n",
       "      <td>0.074644</td>\n",
       "      <td>38</td>\n",
       "      <td>32</td>\n",
       "      <td>CPA1;SERPINA1;NPY;SYNGR4;C10orf10;S100A11;PRG4...</td>\n",
       "      <td>ACTG1;HSPA6;PPY;GADD45B;IL11;HS3ST2</td>\n",
       "    </tr>\n",
       "    <tr>\n",
       "      <th>Mawla_Beta_1</th>\n",
       "      <td>0.494201</td>\n",
       "      <td>2.010933</td>\n",
       "      <td>0.269904</td>\n",
       "      <td>0.170621</td>\n",
       "      <td>14</td>\n",
       "      <td>13</td>\n",
       "      <td>IGSF1;G6PC2;IAPP;SORL1;CECR1;ASB9;EDN3;TSPAN1;...</td>\n",
       "      <td>IGSF1;G6PC2;IAPP;SORL1;CECR1</td>\n",
       "    </tr>\n",
       "  </tbody>\n",
       "</table>\n",
       "</div>"
      ],
      "text/plain": [
       "                    es       nes      pval       fdr  geneset_size  \\\n",
       "Term                                                                 \n",
       "Mawla_Beta_2 -0.365183 -4.133133  0.148168  0.074644            38   \n",
       "Mawla_Beta_1  0.494201  2.010933  0.269904  0.170621            14   \n",
       "\n",
       "              matched_size                                              genes  \\\n",
       "Term                                                                            \n",
       "Mawla_Beta_2            32  CPA1;SERPINA1;NPY;SYNGR4;C10orf10;S100A11;PRG4...   \n",
       "Mawla_Beta_1            13  IGSF1;G6PC2;IAPP;SORL1;CECR1;ASB9;EDN3;TSPAN1;...   \n",
       "\n",
       "                                      ledge_genes  \n",
       "Term                                               \n",
       "Mawla_Beta_2  ACTG1;HSPA6;PPY;GADD45B;IL11;HS3ST2  \n",
       "Mawla_Beta_1         IGSF1;G6PC2;IAPP;SORL1;CECR1  "
      ]
     },
     "metadata": {},
     "output_type": "display_data"
    },
    {
     "data": {
      "text/html": [
       "<div>\n",
       "<style scoped>\n",
       "    .dataframe tbody tr th:only-of-type {\n",
       "        vertical-align: middle;\n",
       "    }\n",
       "\n",
       "    .dataframe tbody tr th {\n",
       "        vertical-align: top;\n",
       "    }\n",
       "\n",
       "    .dataframe thead th {\n",
       "        text-align: right;\n",
       "    }\n",
       "</style>\n",
       "<table border=\"1\" class=\"dataframe\">\n",
       "  <thead>\n",
       "    <tr style=\"text-align: right;\">\n",
       "      <th></th>\n",
       "      <th>es</th>\n",
       "      <th>nes</th>\n",
       "      <th>pval</th>\n",
       "      <th>fdr</th>\n",
       "      <th>geneset_size</th>\n",
       "      <th>matched_size</th>\n",
       "      <th>genes</th>\n",
       "      <th>ledge_genes</th>\n",
       "    </tr>\n",
       "    <tr>\n",
       "      <th>Term</th>\n",
       "      <th></th>\n",
       "      <th></th>\n",
       "      <th></th>\n",
       "      <th></th>\n",
       "      <th></th>\n",
       "      <th></th>\n",
       "      <th></th>\n",
       "      <th></th>\n",
       "    </tr>\n",
       "  </thead>\n",
       "  <tbody>\n",
       "    <tr>\n",
       "      <th>Mawla_Beta_1</th>\n",
       "      <td>0.621505</td>\n",
       "      <td>2.119198</td>\n",
       "      <td>0.072469</td>\n",
       "      <td>0.035847</td>\n",
       "      <td>14</td>\n",
       "      <td>14</td>\n",
       "      <td>SORL1;ASB9;HADH;G6PC2;IGSF1;IAPP;CECR1;PCSK1;T...</td>\n",
       "      <td>SORL1;ASB9;HADH;G6PC2;IGSF1;IAPP;CECR1;PCSK1</td>\n",
       "    </tr>\n",
       "    <tr>\n",
       "      <th>Mawla_Beta_2</th>\n",
       "      <td>-0.332739</td>\n",
       "      <td>-5.767171</td>\n",
       "      <td>0.232587</td>\n",
       "      <td>0.095238</td>\n",
       "      <td>38</td>\n",
       "      <td>31</td>\n",
       "      <td>CPA1;SYNGR4;C10orf10;CTRB2;NPY;TMSB4X;SOD2;S10...</td>\n",
       "      <td>SAT1;SST;TIMP1;NAMPT;PTGS2;BIRC3;SPP1;GADD45B;...</td>\n",
       "    </tr>\n",
       "  </tbody>\n",
       "</table>\n",
       "</div>"
      ],
      "text/plain": [
       "                    es       nes      pval       fdr  geneset_size  \\\n",
       "Term                                                                 \n",
       "Mawla_Beta_1  0.621505  2.119198  0.072469  0.035847            14   \n",
       "Mawla_Beta_2 -0.332739 -5.767171  0.232587  0.095238            38   \n",
       "\n",
       "              matched_size                                              genes  \\\n",
       "Term                                                                            \n",
       "Mawla_Beta_1            14  SORL1;ASB9;HADH;G6PC2;IGSF1;IAPP;CECR1;PCSK1;T...   \n",
       "Mawla_Beta_2            31  CPA1;SYNGR4;C10orf10;CTRB2;NPY;TMSB4X;SOD2;S10...   \n",
       "\n",
       "                                                    ledge_genes  \n",
       "Term                                                             \n",
       "Mawla_Beta_1       SORL1;ASB9;HADH;G6PC2;IGSF1;IAPP;CECR1;PCSK1  \n",
       "Mawla_Beta_2  SAT1;SST;TIMP1;NAMPT;PTGS2;BIRC3;SPP1;GADD45B;...  "
      ]
     },
     "execution_count": 24,
     "metadata": {},
     "output_type": "execute_result"
    }
   ],
   "source": [
    "gs_res_a=run_GSEA_gene(celltype='alpha',\n",
    "                       nperm=6000,col=0,\n",
    "                       rseed=2000,\n",
    "                       glist=gmt)\n",
    "\n",
    "gs_res_b=run_GSEA_gene(celltype='beta',\n",
    "                       nperm=4000,col=0,\n",
    "                       rseed=2000,\n",
    "                       glist=gmt)\n",
    "\n",
    "display(gs_res_a.res2d)\n",
    "gs_res_b.res2d"
   ]
  },
  {
   "cell_type": "markdown",
   "metadata": {},
   "source": [
    "### Save results"
   ]
  },
  {
   "cell_type": "code",
   "execution_count": 26,
   "metadata": {},
   "outputs": [],
   "source": [
    "#gs_res.res2d[['es','nes','pval','fdr','geneset_size','matched_size']].to_csv('../dat/figdata/GSEA_beta_arrogo_f_seed2000.csv')\n",
    "#gs_res_a.res2d[['es','nes','pval','fdr','geneset_size','matched_size']].to_csv('../dat/figdata/GSEA_alpha_arrogo_f_seed2000.csv')\n",
    "\n",
    "from gseapy.plot import gseaplot, heatmap\n",
    "terms = gs_res_b.res2d.index \n",
    "for i in range(len(terms)):\n",
    "    gseaplot(gs_res_b.ranking, term=terms[i], **gs_res_b.results[terms[i]],ofname=terms[i]+'_Mawla_b_seed2000_filtered.pdf')\n",
    "terms = gs_res_a.res2d.index \n",
    "for i in range(len(terms)):\n",
    "    gseaplot(gs_res_a.ranking, term=terms[i], **gs_res_a.results[terms[i]],ofname=terms[i]+'_Mawla_a_seed2000_filtered.pdf')"
   ]
  },
  {
   "cell_type": "code",
   "execution_count": null,
   "metadata": {},
   "outputs": [],
   "source": []
  }
 ],
 "metadata": {
  "kernelspec": {
   "display_name": "Python [conda env:root] *",
   "language": "python",
   "name": "conda-root-py"
  },
  "language_info": {
   "codemirror_mode": {
    "name": "ipython",
    "version": 3
   },
   "file_extension": ".py",
   "mimetype": "text/x-python",
   "name": "python",
   "nbconvert_exporter": "python",
   "pygments_lexer": "ipython3",
   "version": "3.7.1"
  }
 },
 "nbformat": 4,
 "nbformat_minor": 2
}
