{
 "cells": [
  {
   "cell_type": "code",
   "execution_count": 2,
   "metadata": {},
   "outputs": [],
   "source": [
    "require(data.table)\n",
    "require(tidyverse)"
   ]
  },
  {
   "cell_type": "markdown",
   "metadata": {},
   "source": [
    "## 1. Rationale\n",
    "\n",
    "* due to the sparseness, the ps is binned to 100 (can change) \n",
    "* then chisq test wheter the ratio of openning is dependent on bins "
   ]
  },
  {
   "cell_type": "markdown",
   "metadata": {},
   "source": [
    "##  2. load data"
   ]
  },
  {
   "cell_type": "code",
   "execution_count": 3,
   "metadata": {},
   "outputs": [
    {
     "data": {
      "text/html": [
       "<table>\n",
       "<thead><tr><th scope=col>gene_tr.idx</th><th scope=col>cluster</th><th scope=col>cell</th><th scope=col>ps</th></tr></thead>\n",
       "<tbody>\n",
       "\t<tr><td>SAMD11_7                                  </td><td>alpha_1                                   </td><td>Islet1-fresh_AGACACCTAGGCAGAAGTAAGGAGCAGGA</td><td>5.643735                                  </td></tr>\n",
       "\t<tr><td>SAMD11_7                                  </td><td>alpha_1                                   </td><td>Islet1-fresh_AGACACCTATGCGCAGCGTCTAATGGTTG</td><td>1.056578                                  </td></tr>\n",
       "\t<tr><td>SAMD11_7                                  </td><td>alpha_2                                   </td><td>Islet1-fresh_AGACACCTCGAGGCTGAAGGCTATGGTTG</td><td>6.254863                                  </td></tr>\n",
       "\t<tr><td>SAMD11_7                                  </td><td>alpha_2                                   </td><td>Islet1-fresh_AGACACCTCGTACTAGCTAAGCCTGTACT</td><td>6.508574                                  </td></tr>\n",
       "\t<tr><td>SAMD11_7                                  </td><td>alpha_1                                   </td><td>Islet1-fresh_AGACACCTGGACTCCTTCGACTAGGGTTG</td><td>2.120670                                  </td></tr>\n",
       "\t<tr><td>SAMD11_7                                  </td><td>alpha_2                                   </td><td>Islet1-fresh_AGACACCTGGAGCTACAAGGAGTAAGGCG</td><td>5.564368                                  </td></tr>\n",
       "</tbody>\n",
       "</table>\n"
      ],
      "text/latex": [
       "\\begin{tabular}{r|llll}\n",
       " gene\\_tr.idx & cluster & cell & ps\\\\\n",
       "\\hline\n",
       "\t SAMD11\\_7                                   & alpha\\_1                                    & Islet1-fresh\\_AGACACCTAGGCAGAAGTAAGGAGCAGGA & 5.643735                                    \\\\\n",
       "\t SAMD11\\_7                                   & alpha\\_1                                    & Islet1-fresh\\_AGACACCTATGCGCAGCGTCTAATGGTTG & 1.056578                                    \\\\\n",
       "\t SAMD11\\_7                                   & alpha\\_2                                    & Islet1-fresh\\_AGACACCTCGAGGCTGAAGGCTATGGTTG & 6.254863                                    \\\\\n",
       "\t SAMD11\\_7                                   & alpha\\_2                                    & Islet1-fresh\\_AGACACCTCGTACTAGCTAAGCCTGTACT & 6.508574                                    \\\\\n",
       "\t SAMD11\\_7                                   & alpha\\_1                                    & Islet1-fresh\\_AGACACCTGGACTCCTTCGACTAGGGTTG & 2.120670                                    \\\\\n",
       "\t SAMD11\\_7                                   & alpha\\_2                                    & Islet1-fresh\\_AGACACCTGGAGCTACAAGGAGTAAGGCG & 5.564368                                    \\\\\n",
       "\\end{tabular}\n"
      ],
      "text/markdown": [
       "\n",
       "| gene_tr.idx | cluster | cell | ps |\n",
       "|---|---|---|---|\n",
       "| SAMD11_7                                   | alpha_1                                    | Islet1-fresh_AGACACCTAGGCAGAAGTAAGGAGCAGGA | 5.643735                                   |\n",
       "| SAMD11_7                                   | alpha_1                                    | Islet1-fresh_AGACACCTATGCGCAGCGTCTAATGGTTG | 1.056578                                   |\n",
       "| SAMD11_7                                   | alpha_2                                    | Islet1-fresh_AGACACCTCGAGGCTGAAGGCTATGGTTG | 6.254863                                   |\n",
       "| SAMD11_7                                   | alpha_2                                    | Islet1-fresh_AGACACCTCGTACTAGCTAAGCCTGTACT | 6.508574                                   |\n",
       "| SAMD11_7                                   | alpha_1                                    | Islet1-fresh_AGACACCTGGACTCCTTCGACTAGGGTTG | 2.120670                                   |\n",
       "| SAMD11_7                                   | alpha_2                                    | Islet1-fresh_AGACACCTGGAGCTACAAGGAGTAAGGCG | 5.564368                                   |\n",
       "\n"
      ],
      "text/plain": [
       "  gene_tr.idx cluster cell                                       ps      \n",
       "1 SAMD11_7    alpha_1 Islet1-fresh_AGACACCTAGGCAGAAGTAAGGAGCAGGA 5.643735\n",
       "2 SAMD11_7    alpha_1 Islet1-fresh_AGACACCTATGCGCAGCGTCTAATGGTTG 1.056578\n",
       "3 SAMD11_7    alpha_2 Islet1-fresh_AGACACCTCGAGGCTGAAGGCTATGGTTG 6.254863\n",
       "4 SAMD11_7    alpha_2 Islet1-fresh_AGACACCTCGTACTAGCTAAGCCTGTACT 6.508574\n",
       "5 SAMD11_7    alpha_1 Islet1-fresh_AGACACCTGGACTCCTTCGACTAGGGTTG 2.120670\n",
       "6 SAMD11_7    alpha_2 Islet1-fresh_AGACACCTGGAGCTACAAGGAGTAAGGCG 5.564368"
      ]
     },
     "metadata": {},
     "output_type": "display_data"
    },
    {
     "data": {
      "text/html": [
       "<table>\n",
       "<thead><tr><th scope=col>gene_tr.idx</th><th scope=col>cluster</th><th scope=col>cell</th><th scope=col>ps</th></tr></thead>\n",
       "<tbody>\n",
       "\t<tr><td>EIF1AY_133795                                </td><td>beta_1                                       </td><td>Islet3-fresh_TCCGGAGAGGAGCTACTCGACTAGGTACTGAC</td><td> 3.157942                                    </td></tr>\n",
       "\t<tr><td>EIF1AY_133795                                </td><td>beta_1                                       </td><td>Islet3-fresh_TCCGGAGAGTAGAGGACTAAGCCTGGCTCTGA</td><td> 4.901059                                    </td></tr>\n",
       "\t<tr><td>EIF1AY_133795                                </td><td>beta_2                                       </td><td>Islet3-fresh_TCCGGAGATACGCTGCAAGGCTATGGTTGCGT</td><td>18.923257                                    </td></tr>\n",
       "\t<tr><td>EIF1AY_133795                                </td><td>beta_1                                       </td><td>Islet3-fresh_TCCGGAGATAGGCATGTTCTAGCTATAGAGGC</td><td> 4.655220                                    </td></tr>\n",
       "\t<tr><td>EIF1AY_133795                                </td><td>beta_2                                       </td><td>Islet3-fresh_TCCGGAGATCGACGTCCTCTCTATCAGGACGT</td><td>14.077267                                    </td></tr>\n",
       "\t<tr><td>EIF1AY_133795                                </td><td>beta_1                                       </td><td>Islet3-fresh_TCCGGAGATCGACGTCCTCTCTATGGTTGCGT</td><td> 8.113267                                    </td></tr>\n",
       "</tbody>\n",
       "</table>\n"
      ],
      "text/latex": [
       "\\begin{tabular}{r|llll}\n",
       " gene\\_tr.idx & cluster & cell & ps\\\\\n",
       "\\hline\n",
       "\t EIF1AY\\_133795                                 & beta\\_1                                        & Islet3-fresh\\_TCCGGAGAGGAGCTACTCGACTAGGTACTGAC &  3.157942                                      \\\\\n",
       "\t EIF1AY\\_133795                                 & beta\\_1                                        & Islet3-fresh\\_TCCGGAGAGTAGAGGACTAAGCCTGGCTCTGA &  4.901059                                      \\\\\n",
       "\t EIF1AY\\_133795                                 & beta\\_2                                        & Islet3-fresh\\_TCCGGAGATACGCTGCAAGGCTATGGTTGCGT & 18.923257                                      \\\\\n",
       "\t EIF1AY\\_133795                                 & beta\\_1                                        & Islet3-fresh\\_TCCGGAGATAGGCATGTTCTAGCTATAGAGGC &  4.655220                                      \\\\\n",
       "\t EIF1AY\\_133795                                 & beta\\_2                                        & Islet3-fresh\\_TCCGGAGATCGACGTCCTCTCTATCAGGACGT & 14.077267                                      \\\\\n",
       "\t EIF1AY\\_133795                                 & beta\\_1                                        & Islet3-fresh\\_TCCGGAGATCGACGTCCTCTCTATGGTTGCGT &  8.113267                                      \\\\\n",
       "\\end{tabular}\n"
      ],
      "text/markdown": [
       "\n",
       "| gene_tr.idx | cluster | cell | ps |\n",
       "|---|---|---|---|\n",
       "| EIF1AY_133795                                 | beta_1                                        | Islet3-fresh_TCCGGAGAGGAGCTACTCGACTAGGTACTGAC |  3.157942                                     |\n",
       "| EIF1AY_133795                                 | beta_1                                        | Islet3-fresh_TCCGGAGAGTAGAGGACTAAGCCTGGCTCTGA |  4.901059                                     |\n",
       "| EIF1AY_133795                                 | beta_2                                        | Islet3-fresh_TCCGGAGATACGCTGCAAGGCTATGGTTGCGT | 18.923257                                     |\n",
       "| EIF1AY_133795                                 | beta_1                                        | Islet3-fresh_TCCGGAGATAGGCATGTTCTAGCTATAGAGGC |  4.655220                                     |\n",
       "| EIF1AY_133795                                 | beta_2                                        | Islet3-fresh_TCCGGAGATCGACGTCCTCTCTATCAGGACGT | 14.077267                                     |\n",
       "| EIF1AY_133795                                 | beta_1                                        | Islet3-fresh_TCCGGAGATCGACGTCCTCTCTATGGTTGCGT |  8.113267                                     |\n",
       "\n"
      ],
      "text/plain": [
       "  gene_tr.idx   cluster cell                                          ps       \n",
       "1 EIF1AY_133795 beta_1  Islet3-fresh_TCCGGAGAGGAGCTACTCGACTAGGTACTGAC  3.157942\n",
       "2 EIF1AY_133795 beta_1  Islet3-fresh_TCCGGAGAGTAGAGGACTAAGCCTGGCTCTGA  4.901059\n",
       "3 EIF1AY_133795 beta_2  Islet3-fresh_TCCGGAGATACGCTGCAAGGCTATGGTTGCGT 18.923257\n",
       "4 EIF1AY_133795 beta_1  Islet3-fresh_TCCGGAGATAGGCATGTTCTAGCTATAGAGGC  4.655220\n",
       "5 EIF1AY_133795 beta_2  Islet3-fresh_TCCGGAGATCGACGTCCTCTCTATCAGGACGT 14.077267\n",
       "6 EIF1AY_133795 beta_1  Islet3-fresh_TCCGGAGATCGACGTCCTCTCTATGGTTGCGT  8.113267"
      ]
     },
     "metadata": {},
     "output_type": "display_data"
    },
    {
     "data": {
      "text/html": [
       "<ol class=list-inline>\n",
       "\t<li>19412387</li>\n",
       "\t<li>4</li>\n",
       "</ol>\n"
      ],
      "text/latex": [
       "\\begin{enumerate*}\n",
       "\\item 19412387\n",
       "\\item 4\n",
       "\\end{enumerate*}\n"
      ],
      "text/markdown": [
       "1. 19412387\n",
       "2. 4\n",
       "\n",
       "\n"
      ],
      "text/plain": [
       "[1] 19412387        4"
      ]
     },
     "metadata": {},
     "output_type": "display_data"
    }
   ],
   "source": [
    "dat.pro_ps<- fread(\"../dat/1901/alpha_beta.promoter.long_matrix_w_transcripts_ps.txt\")\n",
    "head(dat.pro_ps)\n",
    "tail(dat.pro_ps)\n",
    "dim(dat.pro_ps)"
   ]
  },
  {
   "cell_type": "markdown",
   "metadata": {},
   "source": [
    "### 2.1 bin data "
   ]
  },
  {
   "cell_type": "code",
   "execution_count": 6,
   "metadata": {},
   "outputs": [
    {
     "data": {
      "text/html": [
       "<dl>\n",
       "\t<dt>$alpha</dt>\n",
       "\t\t<dd><ol class=list-inline>\n",
       "\t<li>0</li>\n",
       "\t<li>6.74617593265917</li>\n",
       "</ol>\n",
       "</dd>\n",
       "\t<dt>$beta</dt>\n",
       "\t\t<dd><ol class=list-inline>\n",
       "\t<li>0</li>\n",
       "\t<li>20.2079032250925</li>\n",
       "</ol>\n",
       "</dd>\n",
       "</dl>\n"
      ],
      "text/latex": [
       "\\begin{description}\n",
       "\\item[\\$alpha] \\begin{enumerate*}\n",
       "\\item 0\n",
       "\\item 6.74617593265917\n",
       "\\end{enumerate*}\n",
       "\n",
       "\\item[\\$beta] \\begin{enumerate*}\n",
       "\\item 0\n",
       "\\item 20.2079032250925\n",
       "\\end{enumerate*}\n",
       "\n",
       "\\end{description}\n"
      ],
      "text/markdown": [
       "$alpha\n",
       ":   1. 0\n",
       "2. 6.74617593265917\n",
       "\n",
       "\n",
       "\n",
       "$beta\n",
       ":   1. 0\n",
       "2. 20.2079032250925\n",
       "\n",
       "\n",
       "\n",
       "\n",
       "\n"
      ],
      "text/plain": [
       "$alpha\n",
       "[1] 0.000000 6.746176\n",
       "\n",
       "$beta\n",
       "[1]  0.0000 20.2079\n"
      ]
     },
     "metadata": {},
     "output_type": "display_data"
    }
   ],
   "source": [
    "require(tidyverse)\n",
    "ps.range <- list()\n",
    "ps.range$alpha <- range((dat.pro_ps %>%filter(cluster %in% c(\"alpha_1\",\"alpha_2\")))$ps)\n",
    "ps.range$beta <- range((dat.pro_ps %>%filter(cluster %in% c(\"beta_1\",\"beta_2\")))$ps)\n",
    "ps.range"
   ]
  },
  {
   "cell_type": "code",
   "execution_count": 7,
   "metadata": {},
   "outputs": [
    {
     "name": "stdout",
     "output_type": "stream",
     "text": [
      "101 # bins:\n",
      "quantiles of alpha cell number per bin:\n"
     ]
    },
    {
     "data": {
      "text/html": [
       "<table>\n",
       "<thead><tr><th scope=col>0%</th><th scope=col>25%</th><th scope=col>50%</th><th scope=col>75%</th><th scope=col>100%</th></tr></thead>\n",
       "<tbody>\n",
       "\t<tr><td>1    </td><td>21   </td><td>41   </td><td>71.25</td><td>257  </td></tr>\n",
       "</tbody>\n",
       "</table>\n"
      ],
      "text/latex": [
       "\\begin{tabular}{lllll}\n",
       " 0\\% & 25\\% & 50\\% & 75\\% & 100\\%\\\\\n",
       "\\hline\n",
       "\t 1     & 21    & 41    & 71.25 & 257  \\\\\n",
       "\\end{tabular}\n"
      ],
      "text/markdown": [
       "\n",
       "| 0% | 25% | 50% | 75% | 100% |\n",
       "|---|---|---|---|---|\n",
       "| 1     | 21    | 41    | 71.25 | 257   |\n",
       "\n"
      ],
      "text/plain": [
       "     0% 25% 50% 75%   100%\n",
       "[1,] 1  21  41  71.25 257 "
      ]
     },
     "metadata": {},
     "output_type": "display_data"
    },
    {
     "name": "stdout",
     "output_type": "stream",
     "text": [
      "quantiles of beta cell number per bin:\n"
     ]
    },
    {
     "data": {
      "text/html": [
       "<table>\n",
       "<thead><tr><th scope=col>0%</th><th scope=col>25%</th><th scope=col>50%</th><th scope=col>75%</th><th scope=col>100%</th></tr></thead>\n",
       "<tbody>\n",
       "\t<tr><td>2    </td><td>18.75</td><td>33.5 </td><td>77   </td><td>655  </td></tr>\n",
       "</tbody>\n",
       "</table>\n"
      ],
      "text/latex": [
       "\\begin{tabular}{lllll}\n",
       " 0\\% & 25\\% & 50\\% & 75\\% & 100\\%\\\\\n",
       "\\hline\n",
       "\t 2     & 18.75 & 33.5  & 77    & 655  \\\\\n",
       "\\end{tabular}\n"
      ],
      "text/markdown": [
       "\n",
       "| 0% | 25% | 50% | 75% | 100% |\n",
       "|---|---|---|---|---|\n",
       "| 2     | 18.75 | 33.5  | 77    | 655   |\n",
       "\n"
      ],
      "text/plain": [
       "     0% 25%   50%  75% 100%\n",
       "[1,] 2  18.75 33.5 77  655 "
      ]
     },
     "metadata": {},
     "output_type": "display_data"
    }
   ],
   "source": [
    "N.bin<- 101\n",
    "ps.bks <- list()\n",
    "ps.bks$alpha <- seq(ps.range$alpha[1],ps.range$alpha[2],length.out = N.bin)\n",
    "ps.bks$beta <- seq(ps.range$beta[1],ps.range$beta[2],length.out = N.bin)\n",
    "\n",
    "dat.pro_ps <- rbind(\n",
    "    dat.pro_ps%>% \n",
    "    filter(cluster %in% c(\"alpha_1\",\"alpha_2\"))%>%\n",
    "    mutate(ps_bin =cut(ps,breaks = ps.bks$alpha,include.lowest = T)),\n",
    "    dat.pro_ps%>% \n",
    "    filter(cluster %in% c(\"beta_1\",\"beta_2\"))%>%\n",
    "    mutate(ps_bin =cut(ps,breaks = ps.bks$beta,include.lowest = T))\n",
    ")\n",
    "\n",
    "ps.bin.dat.sum<- dat.pro_ps%>%separate(cluster,into = c(\"celltype\",\"subtype\"))%>%\n",
    "select(-one_of(\"gene_tr.idx\",\"ps\"))%>%distinct()\n",
    "\n",
    "setDT(ps.bin.dat.sum)\n",
    "ps.bin.dat.sum<-ps.bin.dat.sum[, .(.N), by = .(ps_bin,celltype)]\n",
    "cat(paste(N.bin,\"# bins:\\n\"))\n",
    "cat(\"quantiles of alpha cell number per bin:\\n\")\n",
    "t(quantile((ps.bin.dat.sum%>%filter(celltype==\"alpha\"))$N))\n",
    "cat(\"quantiles of beta cell number per bin:\\n\")\n",
    "t(quantile((ps.bin.dat.sum%>%filter(celltype==\"beta\"))$N))"
   ]
  },
  {
   "cell_type": "code",
   "execution_count": 8,
   "metadata": {},
   "outputs": [
    {
     "data": {
      "text/html": [
       "<table>\n",
       "<thead><tr><th scope=col>celltype</th><th scope=col>tot</th></tr></thead>\n",
       "<tbody>\n",
       "\t<tr><td>alpha</td><td>5594 </td></tr>\n",
       "\t<tr><td>beta </td><td>7170 </td></tr>\n",
       "</tbody>\n",
       "</table>\n"
      ],
      "text/latex": [
       "\\begin{tabular}{r|ll}\n",
       " celltype & tot\\\\\n",
       "\\hline\n",
       "\t alpha & 5594 \\\\\n",
       "\t beta  & 7170 \\\\\n",
       "\\end{tabular}\n"
      ],
      "text/markdown": [
       "\n",
       "| celltype | tot |\n",
       "|---|---|\n",
       "| alpha | 5594  |\n",
       "| beta  | 7170  |\n",
       "\n"
      ],
      "text/plain": [
       "  celltype tot \n",
       "1 alpha    5594\n",
       "2 beta     7170"
      ]
     },
     "metadata": {},
     "output_type": "display_data"
    }
   ],
   "source": [
    "ps.bin.dat.sum%>%group_by(celltype)%>%summarise(tot=sum(N))"
   ]
  },
  {
   "cell_type": "markdown",
   "metadata": {},
   "source": [
    "## 3. filter on glist"
   ]
  },
  {
   "cell_type": "code",
   "execution_count": 1,
   "metadata": {},
   "outputs": [
    {
     "data": {
      "text/html": [
       "2784"
      ],
      "text/latex": [
       "2784"
      ],
      "text/markdown": [
       "2784"
      ],
      "text/plain": [
       "[1] 2784"
      ]
     },
     "metadata": {},
     "output_type": "display_data"
    },
    {
     "data": {
      "text/html": [
       "2315"
      ],
      "text/latex": [
       "2315"
      ],
      "text/markdown": [
       "2315"
      ],
      "text/plain": [
       "[1] 2315"
      ]
     },
     "metadata": {},
     "output_type": "display_data"
    },
    {
     "data": {
      "text/html": [
       "904"
      ],
      "text/latex": [
       "904"
      ],
      "text/markdown": [
       "904"
      ],
      "text/plain": [
       "[1] 904"
      ]
     },
     "metadata": {},
     "output_type": "display_data"
    }
   ],
   "source": [
    "binary.glist<- readRDS('../dat/1901/binary.glist.Rds')\n",
    "all.tr <- unique(c(binary.glist$alpha1_tr,binary.glist$alpha2_tr,binary.glist$beta1_tr,binary.glist$beta2_tr))\n",
    "length(all.tr)\n",
    "length(c(binary.glist$alpha1_tr,binary.glist$alpha2_tr))\n",
    "length(c(binary.glist$beta1_tr,binary.glist$beta2_tr))"
   ]
  },
  {
   "cell_type": "code",
   "execution_count": 8,
   "metadata": {},
   "outputs": [
    {
     "name": "stderr",
     "output_type": "stream",
     "text": [
      "Loading required package: venn\n"
     ]
    },
    {
     "data": {
      "image/png": "[encoded data removed]",
      "text/plain": [
       "plot without title"
      ]
     },
     "metadata": {},
     "output_type": "display_data"
    },
    {
     "data": {
      "image/png": "[encoded data removed]",
      "text/plain": [
       "plot without title"
      ]
     },
     "metadata": {},
     "output_type": "display_data"
    }
   ],
   "source": [
    "options(repr.plot.width=3, repr.plot.height=3)\n",
    "require(venn)\n",
    "binary.glist.2 <- binary.glist\n",
    "binary.glist$alpha1<-NULL;binary.glist$alpha2<-NULL;binary.glist$beta1<-NULL;binary.glist$beta2<-NULL;\n",
    "binary.glist.2$alpha1_tr<-NULL;binary.glist.2$alpha2_tr<-NULL;binary.glist.2$beta1_tr<-NULL;binary.glist.2$beta2_tr<-NULL;\n",
    "venn(binary.glist,ellipse = T)\n",
    "venn(binary.glist.2,ellipse = T)\n"
   ]
  },
  {
   "cell_type": "code",
   "execution_count": 9,
   "metadata": {},
   "outputs": [
    {
     "data": {
      "text/html": [
       "<ol class=list-inline>\n",
       "\t<li>19412387</li>\n",
       "\t<li>5</li>\n",
       "</ol>\n"
      ],
      "text/latex": [
       "\\begin{enumerate*}\n",
       "\\item 19412387\n",
       "\\item 5\n",
       "\\end{enumerate*}\n"
      ],
      "text/markdown": [
       "1. 19412387\n",
       "2. 5\n",
       "\n",
       "\n"
      ],
      "text/plain": [
       "[1] 19412387        5"
      ]
     },
     "metadata": {},
     "output_type": "display_data"
    },
    {
     "data": {
      "text/html": [
       "<ol class=list-inline>\n",
       "\t<li>778840</li>\n",
       "\t<li>5</li>\n",
       "</ol>\n"
      ],
      "text/latex": [
       "\\begin{enumerate*}\n",
       "\\item 778840\n",
       "\\item 5\n",
       "\\end{enumerate*}\n"
      ],
      "text/markdown": [
       "1. 778840\n",
       "2. 5\n",
       "\n",
       "\n"
      ],
      "text/plain": [
       "[1] 778840      5"
      ]
     },
     "metadata": {},
     "output_type": "display_data"
    }
   ],
   "source": [
    "#gene_tr.idx\tcluster\t\n",
    "dim(dat.pro_ps)\n",
    "dat.pro_ps.filtered <- rbind(\n",
    "    dat.pro_ps%>% filter(gene_tr.idx%in% binary.glist$alpha1_tr,cluster==\"alpha_1\"),\n",
    "    dat.pro_ps%>% filter(gene_tr.idx%in% binary.glist$alpha2_tr,cluster==\"alpha_2\"),\n",
    "    dat.pro_ps%>% filter(gene_tr.idx%in% binary.glist$beta1_tr,cluster==\"beta_1\"),\n",
    "    dat.pro_ps%>% filter(gene_tr.idx%in% binary.glist$beta2_tr,cluster==\"beta_2\")    \n",
    ")\n",
    "dim(dat.pro_ps.filtered)"
   ]
  },
  {
   "cell_type": "markdown",
   "metadata": {},
   "source": [
    "## 4. Calc percent_open & smooth"
   ]
  },
  {
   "cell_type": "markdown",
   "metadata": {},
   "source": [
    "### 4.1 convert to percetage openning per bin"
   ]
  },
  {
   "cell_type": "code",
   "execution_count": 10,
   "metadata": {
    "scrolled": true
   },
   "outputs": [
    {
     "name": "stderr",
     "output_type": "stream",
     "text": [
      "Joining, by = c(\"celltype\", \"ps_bin\")\n"
     ]
    },
    {
     "data": {
      "text/html": [
       "<ol class=list-inline>\n",
       "\t<li>778840</li>\n",
       "\t<li>7</li>\n",
       "</ol>\n"
      ],
      "text/latex": [
       "\\begin{enumerate*}\n",
       "\\item 778840\n",
       "\\item 7\n",
       "\\end{enumerate*}\n"
      ],
      "text/markdown": [
       "1. 778840\n",
       "2. 7\n",
       "\n",
       "\n"
      ],
      "text/plain": [
       "[1] 778840      7"
      ]
     },
     "metadata": {},
     "output_type": "display_data"
    },
    {
     "data": {
      "text/html": [
       "<table>\n",
       "<thead><tr><th scope=col>gene_tr.idx</th><th scope=col>celltype</th><th scope=col>subtype</th><th scope=col>cell</th><th scope=col>ps</th><th scope=col>ps_bin</th><th scope=col>N</th></tr></thead>\n",
       "<tbody>\n",
       "\t<tr><td>AAGAB_42733                                  </td><td>alpha                                        </td><td>2                                            </td><td>Islet1-fresh_CTATTAGGAGGCAGAAGAGCCTTAGTACT   </td><td>0.4009975                                    </td><td>(0.337,0.405]                                </td><td> 66                                          </td></tr>\n",
       "\t<tr><td>AAGAB_42733                                  </td><td>alpha                                        </td><td>2                                            </td><td>Islet1-fresh_CTATTAGGAGGCAGAACCTAGAGTGTACT   </td><td>0.6548890                                    </td><td>(0.607,0.675]                                </td><td> 73                                          </td></tr>\n",
       "\t<tr><td>AAGAB_42733                                  </td><td>alpha                                        </td><td>2                                            </td><td>Islet2-fresh_CTCATACAGCGTAGTAAGCCTTACTGA     </td><td>2.0769056                                    </td><td>(2.02,2.09]                                  </td><td>173                                          </td></tr>\n",
       "\t<tr><td>AAGAB_42733                                  </td><td>alpha                                        </td><td>2                                            </td><td>Islet2-fresh_TGTGCAACTACGCTGCTAAGCCTGAAG     </td><td>2.0265379                                    </td><td>(2.02,2.09]                                  </td><td>173                                          </td></tr>\n",
       "\t<tr><td>AAGAB_42733                                  </td><td>alpha                                        </td><td>2                                            </td><td>Islet3-fresh_ATTACTCGCTCTGGTACTAAGCCTATAGAGGC</td><td>2.0728751                                    </td><td>(2.02,2.09]                                  </td><td>173                                          </td></tr>\n",
       "\t<tr><td>AAGAB_42733                                  </td><td>alpha                                        </td><td>2                                            </td><td>Islet3-fresh_CTATTAGGTGCAGCTACCTAGAGTAGGCGAAG</td><td>3.0619376                                    </td><td>(3.04,3.1]                                   </td><td> 47                                          </td></tr>\n",
       "</tbody>\n",
       "</table>\n"
      ],
      "text/latex": [
       "\\begin{tabular}{r|lllllll}\n",
       " gene\\_tr.idx & celltype & subtype & cell & ps & ps\\_bin & N\\\\\n",
       "\\hline\n",
       "\t AAGAB\\_42733                                   & alpha                                           & 2                                               & Islet1-fresh\\_CTATTAGGAGGCAGAAGAGCCTTAGTACT    & 0.4009975                                       & (0.337,0.405{]}                                 &  66                                            \\\\\n",
       "\t AAGAB\\_42733                                   & alpha                                           & 2                                               & Islet1-fresh\\_CTATTAGGAGGCAGAACCTAGAGTGTACT    & 0.6548890                                       & (0.607,0.675{]}                                 &  73                                            \\\\\n",
       "\t AAGAB\\_42733                                   & alpha                                           & 2                                               & Islet2-fresh\\_CTCATACAGCGTAGTAAGCCTTACTGA      & 2.0769056                                       & (2.02,2.09{]}                                   & 173                                            \\\\\n",
       "\t AAGAB\\_42733                                   & alpha                                           & 2                                               & Islet2-fresh\\_TGTGCAACTACGCTGCTAAGCCTGAAG      & 2.0265379                                       & (2.02,2.09{]}                                   & 173                                            \\\\\n",
       "\t AAGAB\\_42733                                   & alpha                                           & 2                                               & Islet3-fresh\\_ATTACTCGCTCTGGTACTAAGCCTATAGAGGC & 2.0728751                                       & (2.02,2.09{]}                                   & 173                                            \\\\\n",
       "\t AAGAB\\_42733                                   & alpha                                           & 2                                               & Islet3-fresh\\_CTATTAGGTGCAGCTACCTAGAGTAGGCGAAG & 3.0619376                                       & (3.04,3.1{]}                                    &  47                                            \\\\\n",
       "\\end{tabular}\n"
      ],
      "text/markdown": [
       "\n",
       "gene_tr.idx | celltype | subtype | cell | ps | ps_bin | N | \n",
       "|---|---|---|---|---|---|\n",
       "| AAGAB_42733                                   | alpha                                         | 2                                             | Islet1-fresh_CTATTAGGAGGCAGAAGAGCCTTAGTACT    | 0.4009975                                     | (0.337,0.405]                                 |  66                                           | \n",
       "| AAGAB_42733                                   | alpha                                         | 2                                             | Islet1-fresh_CTATTAGGAGGCAGAACCTAGAGTGTACT    | 0.6548890                                     | (0.607,0.675]                                 |  73                                           | \n",
       "| AAGAB_42733                                   | alpha                                         | 2                                             | Islet2-fresh_CTCATACAGCGTAGTAAGCCTTACTGA      | 2.0769056                                     | (2.02,2.09]                                   | 173                                           | \n",
       "| AAGAB_42733                                   | alpha                                         | 2                                             | Islet2-fresh_TGTGCAACTACGCTGCTAAGCCTGAAG      | 2.0265379                                     | (2.02,2.09]                                   | 173                                           | \n",
       "| AAGAB_42733                                   | alpha                                         | 2                                             | Islet3-fresh_ATTACTCGCTCTGGTACTAAGCCTATAGAGGC | 2.0728751                                     | (2.02,2.09]                                   | 173                                           | \n",
       "| AAGAB_42733                                   | alpha                                         | 2                                             | Islet3-fresh_CTATTAGGTGCAGCTACCTAGAGTAGGCGAAG | 3.0619376                                     | (3.04,3.1]                                    |  47                                           | \n",
       "\n",
       "\n"
      ],
      "text/plain": [
       "  gene_tr.idx celltype subtype cell                                         \n",
       "1 AAGAB_42733 alpha    2       Islet1-fresh_CTATTAGGAGGCAGAAGAGCCTTAGTACT   \n",
       "2 AAGAB_42733 alpha    2       Islet1-fresh_CTATTAGGAGGCAGAACCTAGAGTGTACT   \n",
       "3 AAGAB_42733 alpha    2       Islet2-fresh_CTCATACAGCGTAGTAAGCCTTACTGA     \n",
       "4 AAGAB_42733 alpha    2       Islet2-fresh_TGTGCAACTACGCTGCTAAGCCTGAAG     \n",
       "5 AAGAB_42733 alpha    2       Islet3-fresh_ATTACTCGCTCTGGTACTAAGCCTATAGAGGC\n",
       "6 AAGAB_42733 alpha    2       Islet3-fresh_CTATTAGGTGCAGCTACCTAGAGTAGGCGAAG\n",
       "  ps        ps_bin        N  \n",
       "1 0.4009975 (0.337,0.405]  66\n",
       "2 0.6548890 (0.607,0.675]  73\n",
       "3 2.0769056 (2.02,2.09]   173\n",
       "4 2.0265379 (2.02,2.09]   173\n",
       "5 2.0728751 (2.02,2.09]   173\n",
       "6 3.0619376 (3.04,3.1]     47"
      ]
     },
     "metadata": {},
     "output_type": "display_data"
    }
   ],
   "source": [
    "dat.pro_ps.long <- dat.pro_ps.filtered%>%\n",
    "    separate(cluster,into=c(\"celltype\",\"subtype\"))%>%\n",
    "    left_join(ps.bin.dat.sum)\n",
    "dim(dat.pro_ps.long)\n",
    "head(dat.pro_ps.long%>%arrange(gene_tr.idx,ps_bin))"
   ]
  },
  {
   "cell_type": "code",
   "execution_count": 11,
   "metadata": {},
   "outputs": [
    {
     "name": "stderr",
     "output_type": "stream",
     "text": [
      "Joining, by = c(\"celltype\", \"ps_bin\")\n"
     ]
    },
    {
     "data": {
      "text/html": [
       "<table>\n",
       "<thead><tr><th scope=col>gene_tr.idx</th><th scope=col>celltype</th><th scope=col>ps_bin</th><th scope=col>n</th><th scope=col>N</th><th scope=col>ps_bin.2</th><th scope=col>percent_open</th></tr></thead>\n",
       "<tbody>\n",
       "\t<tr><td>AAGAB_42733  </td><td>alpha        </td><td>(0.337,0.405]</td><td>1            </td><td> 66          </td><td> 6           </td><td>1.515152     </td></tr>\n",
       "\t<tr><td>AAGAB_42733  </td><td>alpha        </td><td>(0.607,0.675]</td><td>1            </td><td> 73          </td><td>10           </td><td>1.369863     </td></tr>\n",
       "\t<tr><td>AAGAB_42733  </td><td>alpha        </td><td>(2.02,2.09]  </td><td>3            </td><td>173          </td><td>31           </td><td>1.734104     </td></tr>\n",
       "\t<tr><td>AAGAB_42733  </td><td>alpha        </td><td>(3.04,3.1]   </td><td>1            </td><td> 47          </td><td>46           </td><td>2.127660     </td></tr>\n",
       "\t<tr><td>AAGAB_42733  </td><td>alpha        </td><td>(3.44,3.51]  </td><td>1            </td><td> 58          </td><td>52           </td><td>1.724138     </td></tr>\n",
       "\t<tr><td>AAGAB_42733  </td><td>alpha        </td><td>(3.51,3.58]  </td><td>2            </td><td> 63          </td><td>53           </td><td>3.174603     </td></tr>\n",
       "</tbody>\n",
       "</table>\n"
      ],
      "text/latex": [
       "\\begin{tabular}{r|lllllll}\n",
       " gene\\_tr.idx & celltype & ps\\_bin & n & N & ps\\_bin.2 & percent\\_open\\\\\n",
       "\\hline\n",
       "\t AAGAB\\_42733   & alpha           & (0.337,0.405{]} & 1               &  66             &  6              & 1.515152       \\\\\n",
       "\t AAGAB\\_42733   & alpha           & (0.607,0.675{]} & 1               &  73             & 10              & 1.369863       \\\\\n",
       "\t AAGAB\\_42733   & alpha           & (2.02,2.09{]}   & 3               & 173             & 31              & 1.734104       \\\\\n",
       "\t AAGAB\\_42733   & alpha           & (3.04,3.1{]}    & 1               &  47             & 46              & 2.127660       \\\\\n",
       "\t AAGAB\\_42733   & alpha           & (3.44,3.51{]}   & 1               &  58             & 52              & 1.724138       \\\\\n",
       "\t AAGAB\\_42733   & alpha           & (3.51,3.58{]}   & 2               &  63             & 53              & 3.174603       \\\\\n",
       "\\end{tabular}\n"
      ],
      "text/markdown": [
       "\n",
       "gene_tr.idx | celltype | ps_bin | n | N | ps_bin.2 | percent_open | \n",
       "|---|---|---|---|---|---|\n",
       "| AAGAB_42733   | alpha         | (0.337,0.405] | 1             |  66           |  6            | 1.515152      | \n",
       "| AAGAB_42733   | alpha         | (0.607,0.675] | 1             |  73           | 10            | 1.369863      | \n",
       "| AAGAB_42733   | alpha         | (2.02,2.09]   | 3             | 173           | 31            | 1.734104      | \n",
       "| AAGAB_42733   | alpha         | (3.04,3.1]    | 1             |  47           | 46            | 2.127660      | \n",
       "| AAGAB_42733   | alpha         | (3.44,3.51]   | 1             |  58           | 52            | 1.724138      | \n",
       "| AAGAB_42733   | alpha         | (3.51,3.58]   | 2             |  63           | 53            | 3.174603      | \n",
       "\n",
       "\n"
      ],
      "text/plain": [
       "  gene_tr.idx celltype ps_bin        n N   ps_bin.2 percent_open\n",
       "1 AAGAB_42733 alpha    (0.337,0.405] 1  66  6       1.515152    \n",
       "2 AAGAB_42733 alpha    (0.607,0.675] 1  73 10       1.369863    \n",
       "3 AAGAB_42733 alpha    (2.02,2.09]   3 173 31       1.734104    \n",
       "4 AAGAB_42733 alpha    (3.04,3.1]    1  47 46       2.127660    \n",
       "5 AAGAB_42733 alpha    (3.44,3.51]   1  58 52       1.724138    \n",
       "6 AAGAB_42733 alpha    (3.51,3.58]   2  63 53       3.174603    "
      ]
     },
     "metadata": {},
     "output_type": "display_data"
    },
    {
     "data": {
      "text/html": [
       "<ol class=list-inline>\n",
       "\t<li>134806</li>\n",
       "\t<li>7</li>\n",
       "</ol>\n"
      ],
      "text/latex": [
       "\\begin{enumerate*}\n",
       "\\item 134806\n",
       "\\item 7\n",
       "\\end{enumerate*}\n"
      ],
      "text/markdown": [
       "1. 134806\n",
       "2. 7\n",
       "\n",
       "\n"
      ],
      "text/plain": [
       "[1] 134806      7"
      ]
     },
     "metadata": {},
     "output_type": "display_data"
    },
    {
     "data": {
      "text/html": [
       "<table>\n",
       "<thead><tr><th scope=col>gene_tr.idx</th><th scope=col>celltype</th><th scope=col>ps_bin</th><th scope=col>n</th><th scope=col>N</th><th scope=col>ps_bin.2</th><th scope=col>percent_open</th></tr></thead>\n",
       "<tbody>\n",
       "\t<tr><td>ABCB1_117182</td><td>beta        </td><td>(6.47,6.67] </td><td>2           </td><td> 34         </td><td>133         </td><td>5.8823529   </td></tr>\n",
       "\t<tr><td>ABCB1_117182</td><td>beta        </td><td>(9.9,10.1]  </td><td>1           </td><td> 45         </td><td>150         </td><td>2.2222222   </td></tr>\n",
       "\t<tr><td>ABCB1_117182</td><td>beta        </td><td>(10.5,10.7] </td><td>2           </td><td>105         </td><td>153         </td><td>1.9047619   </td></tr>\n",
       "\t<tr><td>ABCB1_117182</td><td>beta        </td><td>(10.7,10.9] </td><td>1           </td><td>123         </td><td>154         </td><td>0.8130081   </td></tr>\n",
       "\t<tr><td>ABCB1_117182</td><td>beta        </td><td>(10.9,11.1] </td><td>2           </td><td>128         </td><td>155         </td><td>1.5625000   </td></tr>\n",
       "\t<tr><td>ABCB1_117182</td><td>beta        </td><td>(11.1,11.3] </td><td>1           </td><td> 59         </td><td>156         </td><td>1.6949153   </td></tr>\n",
       "</tbody>\n",
       "</table>\n"
      ],
      "text/latex": [
       "\\begin{tabular}{r|lllllll}\n",
       " gene\\_tr.idx & celltype & ps\\_bin & n & N & ps\\_bin.2 & percent\\_open\\\\\n",
       "\\hline\n",
       "\t ABCB1\\_117182 & beta           & (6.47,6.67{]}  & 2              &  34            & 133            & 5.8823529     \\\\\n",
       "\t ABCB1\\_117182 & beta           & (9.9,10.1{]}   & 1              &  45            & 150            & 2.2222222     \\\\\n",
       "\t ABCB1\\_117182 & beta           & (10.5,10.7{]}  & 2              & 105            & 153            & 1.9047619     \\\\\n",
       "\t ABCB1\\_117182 & beta           & (10.7,10.9{]}  & 1              & 123            & 154            & 0.8130081     \\\\\n",
       "\t ABCB1\\_117182 & beta           & (10.9,11.1{]}  & 2              & 128            & 155            & 1.5625000     \\\\\n",
       "\t ABCB1\\_117182 & beta           & (11.1,11.3{]}  & 1              &  59            & 156            & 1.6949153     \\\\\n",
       "\\end{tabular}\n"
      ],
      "text/markdown": [
       "\n",
       "gene_tr.idx | celltype | ps_bin | n | N | ps_bin.2 | percent_open | \n",
       "|---|---|---|---|---|---|\n",
       "| ABCB1_117182 | beta         | (6.47,6.67]  | 2            |  34          | 133          | 5.8823529    | \n",
       "| ABCB1_117182 | beta         | (9.9,10.1]   | 1            |  45          | 150          | 2.2222222    | \n",
       "| ABCB1_117182 | beta         | (10.5,10.7]  | 2            | 105          | 153          | 1.9047619    | \n",
       "| ABCB1_117182 | beta         | (10.7,10.9]  | 1            | 123          | 154          | 0.8130081    | \n",
       "| ABCB1_117182 | beta         | (10.9,11.1]  | 2            | 128          | 155          | 1.5625000    | \n",
       "| ABCB1_117182 | beta         | (11.1,11.3]  | 1            |  59          | 156          | 1.6949153    | \n",
       "\n",
       "\n"
      ],
      "text/plain": [
       "  gene_tr.idx  celltype ps_bin      n N   ps_bin.2 percent_open\n",
       "1 ABCB1_117182 beta     (6.47,6.67] 2  34 133      5.8823529   \n",
       "2 ABCB1_117182 beta     (9.9,10.1]  1  45 150      2.2222222   \n",
       "3 ABCB1_117182 beta     (10.5,10.7] 2 105 153      1.9047619   \n",
       "4 ABCB1_117182 beta     (10.7,10.9] 1 123 154      0.8130081   \n",
       "5 ABCB1_117182 beta     (10.9,11.1] 2 128 155      1.5625000   \n",
       "6 ABCB1_117182 beta     (11.1,11.3] 1  59 156      1.6949153   "
      ]
     },
     "metadata": {},
     "output_type": "display_data"
    }
   ],
   "source": [
    "dat.pro_ps.long <- dat.pro_ps.long%>% \n",
    "    group_by(gene_tr.idx,celltype,ps_bin)%>%summarise(n= n())%>%\n",
    "    left_join(ps.bin.dat.sum)%>%arrange(gene_tr.idx,ps_bin)%>%\n",
    "    mutate(ps_bin.2 = as.numeric(ps_bin))%>% \n",
    "    mutate(percent_open=n/N*100)\n",
    "head(dat.pro_ps.long)\n",
    "dim(dat.pro_ps.long)\n",
    "head(dat.pro_ps.long%>%filter(celltype==\"beta\"))"
   ]
  },
  {
   "cell_type": "code",
   "execution_count": 12,
   "metadata": {},
   "outputs": [
    {
     "data": {
      "text/html": [
       "<table>\n",
       "<thead><tr><th scope=col>gene_tr.idx</th><th scope=col>celltype</th><th scope=col>ps_bin</th><th scope=col>n</th><th scope=col>N</th><th scope=col>ps_bin.2</th><th scope=col>percent_open</th></tr></thead>\n",
       "<tbody>\n",
       "\t<tr><td>AAGAB_42733  </td><td>alpha        </td><td>(0.337,0.405]</td><td>1            </td><td> 66          </td><td> 6           </td><td>1.515152     </td></tr>\n",
       "\t<tr><td>AAGAB_42733  </td><td>alpha        </td><td>(0.607,0.675]</td><td>1            </td><td> 73          </td><td>10           </td><td>1.369863     </td></tr>\n",
       "\t<tr><td>AAGAB_42733  </td><td>alpha        </td><td>(2.02,2.09]  </td><td>3            </td><td>173          </td><td>31           </td><td>1.734104     </td></tr>\n",
       "\t<tr><td>AAGAB_42733  </td><td>alpha        </td><td>(3.04,3.1]   </td><td>1            </td><td> 47          </td><td>46           </td><td>2.127660     </td></tr>\n",
       "\t<tr><td>AAGAB_42733  </td><td>alpha        </td><td>(3.44,3.51]  </td><td>1            </td><td> 58          </td><td>52           </td><td>1.724138     </td></tr>\n",
       "\t<tr><td>AAGAB_42733  </td><td>alpha        </td><td>(3.51,3.58]  </td><td>2            </td><td> 63          </td><td>53           </td><td>3.174603     </td></tr>\n",
       "</tbody>\n",
       "</table>\n"
      ],
      "text/latex": [
       "\\begin{tabular}{r|lllllll}\n",
       " gene\\_tr.idx & celltype & ps\\_bin & n & N & ps\\_bin.2 & percent\\_open\\\\\n",
       "\\hline\n",
       "\t AAGAB\\_42733   & alpha           & (0.337,0.405{]} & 1               &  66             &  6              & 1.515152       \\\\\n",
       "\t AAGAB\\_42733   & alpha           & (0.607,0.675{]} & 1               &  73             & 10              & 1.369863       \\\\\n",
       "\t AAGAB\\_42733   & alpha           & (2.02,2.09{]}   & 3               & 173             & 31              & 1.734104       \\\\\n",
       "\t AAGAB\\_42733   & alpha           & (3.04,3.1{]}    & 1               &  47             & 46              & 2.127660       \\\\\n",
       "\t AAGAB\\_42733   & alpha           & (3.44,3.51{]}   & 1               &  58             & 52              & 1.724138       \\\\\n",
       "\t AAGAB\\_42733   & alpha           & (3.51,3.58{]}   & 2               &  63             & 53              & 3.174603       \\\\\n",
       "\\end{tabular}\n"
      ],
      "text/markdown": [
       "\n",
       "gene_tr.idx | celltype | ps_bin | n | N | ps_bin.2 | percent_open | \n",
       "|---|---|---|---|---|---|\n",
       "| AAGAB_42733   | alpha         | (0.337,0.405] | 1             |  66           |  6            | 1.515152      | \n",
       "| AAGAB_42733   | alpha         | (0.607,0.675] | 1             |  73           | 10            | 1.369863      | \n",
       "| AAGAB_42733   | alpha         | (2.02,2.09]   | 3             | 173           | 31            | 1.734104      | \n",
       "| AAGAB_42733   | alpha         | (3.04,3.1]    | 1             |  47           | 46            | 2.127660      | \n",
       "| AAGAB_42733   | alpha         | (3.44,3.51]   | 1             |  58           | 52            | 1.724138      | \n",
       "| AAGAB_42733   | alpha         | (3.51,3.58]   | 2             |  63           | 53            | 3.174603      | \n",
       "\n",
       "\n"
      ],
      "text/plain": [
       "  gene_tr.idx celltype ps_bin        n N   ps_bin.2 percent_open\n",
       "1 AAGAB_42733 alpha    (0.337,0.405] 1  66  6       1.515152    \n",
       "2 AAGAB_42733 alpha    (0.607,0.675] 1  73 10       1.369863    \n",
       "3 AAGAB_42733 alpha    (2.02,2.09]   3 173 31       1.734104    \n",
       "4 AAGAB_42733 alpha    (3.04,3.1]    1  47 46       2.127660    \n",
       "5 AAGAB_42733 alpha    (3.44,3.51]   1  58 52       1.724138    \n",
       "6 AAGAB_42733 alpha    (3.51,3.58]   2  63 53       3.174603    "
      ]
     },
     "metadata": {},
     "output_type": "display_data"
    },
    {
     "data": {
      "text/html": [
       "<ol class=list-inline>\n",
       "\t<li>134806</li>\n",
       "\t<li>7</li>\n",
       "</ol>\n"
      ],
      "text/latex": [
       "\\begin{enumerate*}\n",
       "\\item 134806\n",
       "\\item 7\n",
       "\\end{enumerate*}\n"
      ],
      "text/markdown": [
       "1. 134806\n",
       "2. 7\n",
       "\n",
       "\n"
      ],
      "text/plain": [
       "[1] 134806      7"
      ]
     },
     "metadata": {},
     "output_type": "display_data"
    }
   ],
   "source": [
    "head(dat.pro_ps.long)\n",
    "dim(dat.pro_ps.long)"
   ]
  },
  {
   "cell_type": "code",
   "execution_count": 15,
   "metadata": {},
   "outputs": [
    {
     "data": {
      "text/html": [
       "<table>\n",
       "<thead><tr><th scope=col>gene_tr.idx</th><th scope=col>celltype</th><th scope=col>1</th><th scope=col>2</th><th scope=col>3</th><th scope=col>4</th><th scope=col>5</th><th scope=col>6</th><th scope=col>7</th><th scope=col>8</th><th scope=col>⋯</th><th scope=col>91</th><th scope=col>92</th><th scope=col>93</th><th scope=col>94</th><th scope=col>95</th><th scope=col>96</th><th scope=col>97</th><th scope=col>98</th><th scope=col>99</th><th scope=col>100</th></tr></thead>\n",
       "<tbody>\n",
       "\t<tr><td>AAGAB_42733 </td><td>alpha       </td><td>0           </td><td>0           </td><td>0           </td><td>0           </td><td>0           </td><td>1.515152    </td><td>0           </td><td>0           </td><td>⋯           </td><td>20.000000   </td><td>19.333333   </td><td>18.691589   </td><td>20.00       </td><td>27.586207   </td><td>38.709677   </td><td>31.578947   </td><td>40          </td><td>33.33333    </td><td> 0          </td></tr>\n",
       "\t<tr><td>AAMDC_22628 </td><td>alpha       </td><td>0           </td><td>0           </td><td>0           </td><td>0           </td><td>0           </td><td>0.000000    </td><td>0           </td><td>0           </td><td>⋯           </td><td>26.666667   </td><td>33.333333   </td><td>28.037383   </td><td>41.25       </td><td>31.034483   </td><td>32.258065   </td><td>36.842105   </td><td>60          </td><td>50.00000    </td><td>50          </td></tr>\n",
       "\t<tr><td>AATF_55762  </td><td>alpha       </td><td>0           </td><td>0           </td><td>0           </td><td>0           </td><td>0           </td><td>0.000000    </td><td>0           </td><td>0           </td><td>⋯           </td><td> 7.272727   </td><td>10.000000   </td><td>15.887850   </td><td>11.25       </td><td>17.241379   </td><td> 9.677419   </td><td>26.315789   </td><td>40          </td><td>16.66667    </td><td>50          </td></tr>\n",
       "\t<tr><td>ABCA2_129618</td><td>alpha       </td><td>0           </td><td>0           </td><td>0           </td><td>0           </td><td>0           </td><td>0.000000    </td><td>0           </td><td>0           </td><td>⋯           </td><td> 4.848485   </td><td> 8.666667   </td><td> 8.411215   </td><td>12.50       </td><td> 5.172414   </td><td> 3.225806   </td><td> 5.263158   </td><td>20          </td><td> 0.00000    </td><td> 0          </td></tr>\n",
       "\t<tr><td>ABCB10_11455</td><td>alpha       </td><td>0           </td><td>0           </td><td>0           </td><td>0           </td><td>0           </td><td>0.000000    </td><td>0           </td><td>0           </td><td>⋯           </td><td>20.606061   </td><td>20.666667   </td><td>31.775701   </td><td>27.50       </td><td>22.413793   </td><td>29.032258   </td><td>47.368421   </td><td>30          </td><td>33.33333    </td><td>50          </td></tr>\n",
       "\t<tr><td>ABCB9_32864 </td><td>alpha       </td><td>0           </td><td>0           </td><td>0           </td><td>0           </td><td>0           </td><td>0.000000    </td><td>0           </td><td>0           </td><td>⋯           </td><td> 3.636364   </td><td> 6.000000   </td><td>13.084112   </td><td> 3.75       </td><td>12.068966   </td><td>12.903226   </td><td>15.789474   </td><td>10          </td><td> 0.00000    </td><td> 0          </td></tr>\n",
       "</tbody>\n",
       "</table>\n"
      ],
      "text/latex": [
       "\\begin{tabular}{r|llllllllllllllllllllllllllllllllllllllllllllllllllllllllllllllllllllllllllllllllllllllllllllllllllllll}\n",
       " gene\\_tr.idx & celltype & 1 & 2 & 3 & 4 & 5 & 6 & 7 & 8 & ⋯ & 91 & 92 & 93 & 94 & 95 & 96 & 97 & 98 & 99 & 100\\\\\n",
       "\\hline\n",
       "\t AAGAB\\_42733  & alpha          & 0              & 0              & 0              & 0              & 0              & 1.515152       & 0              & 0              & ⋯              & 20.000000      & 19.333333      & 18.691589      & 20.00          & 27.586207      & 38.709677      & 31.578947      & 40             & 33.33333       &  0            \\\\\n",
       "\t AAMDC\\_22628  & alpha          & 0              & 0              & 0              & 0              & 0              & 0.000000       & 0              & 0              & ⋯              & 26.666667      & 33.333333      & 28.037383      & 41.25          & 31.034483      & 32.258065      & 36.842105      & 60             & 50.00000       & 50            \\\\\n",
       "\t AATF\\_55762   & alpha          & 0              & 0              & 0              & 0              & 0              & 0.000000       & 0              & 0              & ⋯              &  7.272727      & 10.000000      & 15.887850      & 11.25          & 17.241379      &  9.677419      & 26.315789      & 40             & 16.66667       & 50            \\\\\n",
       "\t ABCA2\\_129618 & alpha          & 0              & 0              & 0              & 0              & 0              & 0.000000       & 0              & 0              & ⋯              &  4.848485      &  8.666667      &  8.411215      & 12.50          &  5.172414      &  3.225806      &  5.263158      & 20             &  0.00000       &  0            \\\\\n",
       "\t ABCB10\\_11455 & alpha          & 0              & 0              & 0              & 0              & 0              & 0.000000       & 0              & 0              & ⋯              & 20.606061      & 20.666667      & 31.775701      & 27.50          & 22.413793      & 29.032258      & 47.368421      & 30             & 33.33333       & 50            \\\\\n",
       "\t ABCB9\\_32864  & alpha          & 0              & 0              & 0              & 0              & 0              & 0.000000       & 0              & 0              & ⋯              &  3.636364      &  6.000000      & 13.084112      &  3.75          & 12.068966      & 12.903226      & 15.789474      & 10             &  0.00000       &  0            \\\\\n",
       "\\end{tabular}\n"
      ],
      "text/markdown": [
       "\n",
       "gene_tr.idx | celltype | 1 | 2 | 3 | 4 | 5 | 6 | 7 | 8 | ⋯ | 91 | 92 | 93 | 94 | 95 | 96 | 97 | 98 | 99 | 100 | \n",
       "|---|---|---|---|---|---|\n",
       "| AAGAB_42733  | alpha        | 0            | 0            | 0            | 0            | 0            | 1.515152     | 0            | 0            | ⋯            | 20.000000    | 19.333333    | 18.691589    | 20.00        | 27.586207    | 38.709677    | 31.578947    | 40           | 33.33333     |  0           | \n",
       "| AAMDC_22628  | alpha        | 0            | 0            | 0            | 0            | 0            | 0.000000     | 0            | 0            | ⋯            | 26.666667    | 33.333333    | 28.037383    | 41.25        | 31.034483    | 32.258065    | 36.842105    | 60           | 50.00000     | 50           | \n",
       "| AATF_55762   | alpha        | 0            | 0            | 0            | 0            | 0            | 0.000000     | 0            | 0            | ⋯            |  7.272727    | 10.000000    | 15.887850    | 11.25        | 17.241379    |  9.677419    | 26.315789    | 40           | 16.66667     | 50           | \n",
       "| ABCA2_129618 | alpha        | 0            | 0            | 0            | 0            | 0            | 0.000000     | 0            | 0            | ⋯            |  4.848485    |  8.666667    |  8.411215    | 12.50        |  5.172414    |  3.225806    |  5.263158    | 20           |  0.00000     |  0           | \n",
       "| ABCB10_11455 | alpha        | 0            | 0            | 0            | 0            | 0            | 0.000000     | 0            | 0            | ⋯            | 20.606061    | 20.666667    | 31.775701    | 27.50        | 22.413793    | 29.032258    | 47.368421    | 30           | 33.33333     | 50           | \n",
       "| ABCB9_32864  | alpha        | 0            | 0            | 0            | 0            | 0            | 0.000000     | 0            | 0            | ⋯            |  3.636364    |  6.000000    | 13.084112    |  3.75        | 12.068966    | 12.903226    | 15.789474    | 10           |  0.00000     |  0           | \n",
       "\n",
       "\n"
      ],
      "text/plain": [
       "  gene_tr.idx  celltype 1 2 3 4 5 6        7 8 ⋯ 91        92        93       \n",
       "1 AAGAB_42733  alpha    0 0 0 0 0 1.515152 0 0 ⋯ 20.000000 19.333333 18.691589\n",
       "2 AAMDC_22628  alpha    0 0 0 0 0 0.000000 0 0 ⋯ 26.666667 33.333333 28.037383\n",
       "3 AATF_55762   alpha    0 0 0 0 0 0.000000 0 0 ⋯  7.272727 10.000000 15.887850\n",
       "4 ABCA2_129618 alpha    0 0 0 0 0 0.000000 0 0 ⋯  4.848485  8.666667  8.411215\n",
       "5 ABCB10_11455 alpha    0 0 0 0 0 0.000000 0 0 ⋯ 20.606061 20.666667 31.775701\n",
       "6 ABCB9_32864  alpha    0 0 0 0 0 0.000000 0 0 ⋯  3.636364  6.000000 13.084112\n",
       "  94    95        96        97        98 99       100\n",
       "1 20.00 27.586207 38.709677 31.578947 40 33.33333  0 \n",
       "2 41.25 31.034483 32.258065 36.842105 60 50.00000 50 \n",
       "3 11.25 17.241379  9.677419 26.315789 40 16.66667 50 \n",
       "4 12.50  5.172414  3.225806  5.263158 20  0.00000  0 \n",
       "5 27.50 22.413793 29.032258 47.368421 30 33.33333 50 \n",
       "6  3.75 12.068966 12.903226 15.789474 10  0.00000  0 "
      ]
     },
     "metadata": {},
     "output_type": "display_data"
    },
    {
     "data": {
      "text/html": [
       "<table>\n",
       "<thead><tr><th scope=col>gene_tr.idx</th><th scope=col>celltype</th><th scope=col>1</th><th scope=col>2</th><th scope=col>3</th><th scope=col>4</th><th scope=col>5</th><th scope=col>6</th><th scope=col>7</th><th scope=col>8</th><th scope=col>⋯</th><th scope=col>91</th><th scope=col>92</th><th scope=col>93</th><th scope=col>94</th><th scope=col>95</th><th scope=col>96</th><th scope=col>97</th><th scope=col>98</th><th scope=col>99</th><th scope=col>100</th></tr></thead>\n",
       "<tbody>\n",
       "\t<tr><td>ZP1_19678     </td><td>beta          </td><td>0             </td><td> 0            </td><td> 0.00000      </td><td> 2.857143     </td><td> 4.651163     </td><td> 7.3298429    </td><td> 5.2147239    </td><td> 4.8736462    </td><td>⋯             </td><td> 0.000000     </td><td> 0.0          </td><td> 0.000000     </td><td> 0.000000     </td><td> 0.00000      </td><td> 0.000        </td><td> 0.000000     </td><td> 0            </td><td> 0            </td><td> 0            </td></tr>\n",
       "\t<tr><td>ZPBP_116251   </td><td>beta          </td><td>0             </td><td> 0            </td><td> 0.00000      </td><td> 0.000000     </td><td> 3.488372     </td><td> 2.0942408    </td><td> 3.0674847    </td><td> 3.0685921    </td><td>⋯             </td><td> 0.000000     </td><td> 0.0          </td><td> 0.000000     </td><td> 0.000000     </td><td> 0.00000      </td><td> 0.000        </td><td> 0.000000     </td><td> 0            </td><td> 0            </td><td> 0            </td></tr>\n",
       "\t<tr><td>ZSCAN21_117807</td><td>beta          </td><td>0             </td><td> 0            </td><td> 0.00000      </td><td> 0.000000     </td><td> 0.000000     </td><td> 0.0000000    </td><td> 0.3067485    </td><td> 0.1805054    </td><td>⋯             </td><td> 5.020921     </td><td> 7.0          </td><td> 6.976744     </td><td> 4.819277     </td><td> 8.62069      </td><td> 9.375        </td><td>18.181818     </td><td>10            </td><td>20            </td><td> 0            </td></tr>\n",
       "\t<tr><td>ZSCAN31_109686</td><td>beta          </td><td>0             </td><td> 0            </td><td> 0.00000      </td><td> 0.000000     </td><td> 0.000000     </td><td> 0.0000000    </td><td> 0.3067485    </td><td> 0.1805054    </td><td>⋯             </td><td>14.225941     </td><td>14.0          </td><td>16.279070     </td><td>10.843373     </td><td>20.68966      </td><td>18.750        </td><td>27.272727     </td><td>10            </td><td>40            </td><td>20            </td></tr>\n",
       "\t<tr><td>ZSWIM2_79591  </td><td>beta          </td><td>0             </td><td>50            </td><td>46.66667      </td><td>45.714286     </td><td>23.255814     </td><td>24.0837696    </td><td>23.0061350    </td><td>15.3429603    </td><td>⋯             </td><td> 0.000000     </td><td> 0.0          </td><td> 0.000000     </td><td> 0.000000     </td><td> 0.00000      </td><td> 0.000        </td><td> 0.000000     </td><td> 0            </td><td> 0            </td><td> 0            </td></tr>\n",
       "\t<tr><td>ZSWIM5_3921   </td><td>beta          </td><td>0             </td><td> 0            </td><td> 0.00000      </td><td> 0.000000     </td><td> 0.000000     </td><td> 0.5235602    </td><td> 0.3067485    </td><td> 0.0000000    </td><td>⋯             </td><td>11.715481     </td><td>17.5          </td><td>20.155039     </td><td>25.301205     </td><td>13.79310      </td><td>18.750        </td><td> 4.545455     </td><td>10            </td><td>20            </td><td>20            </td></tr>\n",
       "</tbody>\n",
       "</table>\n"
      ],
      "text/latex": [
       "\\begin{tabular}{r|llllllllllllllllllllllllllllllllllllllllllllllllllllllllllllllllllllllllllllllllllllllllllllllllllllll}\n",
       " gene\\_tr.idx & celltype & 1 & 2 & 3 & 4 & 5 & 6 & 7 & 8 & ⋯ & 91 & 92 & 93 & 94 & 95 & 96 & 97 & 98 & 99 & 100\\\\\n",
       "\\hline\n",
       "\t ZP1\\_19678      & beta             & 0                &  0               &  0.00000         &  2.857143        &  4.651163        &  7.3298429       &  5.2147239       &  4.8736462       & ⋯                &  0.000000        &  0.0             &  0.000000        &  0.000000        &  0.00000         &  0.000           &  0.000000        &  0               &  0               &  0              \\\\\n",
       "\t ZPBP\\_116251    & beta             & 0                &  0               &  0.00000         &  0.000000        &  3.488372        &  2.0942408       &  3.0674847       &  3.0685921       & ⋯                &  0.000000        &  0.0             &  0.000000        &  0.000000        &  0.00000         &  0.000           &  0.000000        &  0               &  0               &  0              \\\\\n",
       "\t ZSCAN21\\_117807 & beta             & 0                &  0               &  0.00000         &  0.000000        &  0.000000        &  0.0000000       &  0.3067485       &  0.1805054       & ⋯                &  5.020921        &  7.0             &  6.976744        &  4.819277        &  8.62069         &  9.375           & 18.181818        & 10               & 20               &  0              \\\\\n",
       "\t ZSCAN31\\_109686 & beta             & 0                &  0               &  0.00000         &  0.000000        &  0.000000        &  0.0000000       &  0.3067485       &  0.1805054       & ⋯                & 14.225941        & 14.0             & 16.279070        & 10.843373        & 20.68966         & 18.750           & 27.272727        & 10               & 40               & 20              \\\\\n",
       "\t ZSWIM2\\_79591   & beta             & 0                & 50               & 46.66667         & 45.714286        & 23.255814        & 24.0837696       & 23.0061350       & 15.3429603       & ⋯                &  0.000000        &  0.0             &  0.000000        &  0.000000        &  0.00000         &  0.000           &  0.000000        &  0               &  0               &  0              \\\\\n",
       "\t ZSWIM5\\_3921    & beta             & 0                &  0               &  0.00000         &  0.000000        &  0.000000        &  0.5235602       &  0.3067485       &  0.0000000       & ⋯                & 11.715481        & 17.5             & 20.155039        & 25.301205        & 13.79310         & 18.750           &  4.545455        & 10               & 20               & 20              \\\\\n",
       "\\end{tabular}\n"
      ],
      "text/markdown": [
       "\n",
       "gene_tr.idx | celltype | 1 | 2 | 3 | 4 | 5 | 6 | 7 | 8 | ⋯ | 91 | 92 | 93 | 94 | 95 | 96 | 97 | 98 | 99 | 100 | \n",
       "|---|---|---|---|---|---|\n",
       "| ZP1_19678      | beta           | 0              |  0             |  0.00000       |  2.857143      |  4.651163      |  7.3298429     |  5.2147239     |  4.8736462     | ⋯              |  0.000000      |  0.0           |  0.000000      |  0.000000      |  0.00000       |  0.000         |  0.000000      |  0             |  0             |  0             | \n",
       "| ZPBP_116251    | beta           | 0              |  0             |  0.00000       |  0.000000      |  3.488372      |  2.0942408     |  3.0674847     |  3.0685921     | ⋯              |  0.000000      |  0.0           |  0.000000      |  0.000000      |  0.00000       |  0.000         |  0.000000      |  0             |  0             |  0             | \n",
       "| ZSCAN21_117807 | beta           | 0              |  0             |  0.00000       |  0.000000      |  0.000000      |  0.0000000     |  0.3067485     |  0.1805054     | ⋯              |  5.020921      |  7.0           |  6.976744      |  4.819277      |  8.62069       |  9.375         | 18.181818      | 10             | 20             |  0             | \n",
       "| ZSCAN31_109686 | beta           | 0              |  0             |  0.00000       |  0.000000      |  0.000000      |  0.0000000     |  0.3067485     |  0.1805054     | ⋯              | 14.225941      | 14.0           | 16.279070      | 10.843373      | 20.68966       | 18.750         | 27.272727      | 10             | 40             | 20             | \n",
       "| ZSWIM2_79591   | beta           | 0              | 50             | 46.66667       | 45.714286      | 23.255814      | 24.0837696     | 23.0061350     | 15.3429603     | ⋯              |  0.000000      |  0.0           |  0.000000      |  0.000000      |  0.00000       |  0.000         |  0.000000      |  0             |  0             |  0             | \n",
       "| ZSWIM5_3921    | beta           | 0              |  0             |  0.00000       |  0.000000      |  0.000000      |  0.5235602     |  0.3067485     |  0.0000000     | ⋯              | 11.715481      | 17.5           | 20.155039      | 25.301205      | 13.79310       | 18.750         |  4.545455      | 10             | 20             | 20             | \n",
       "\n",
       "\n"
      ],
      "text/plain": [
       "  gene_tr.idx    celltype 1 2  3        4         5         6         \n",
       "1 ZP1_19678      beta     0  0  0.00000  2.857143  4.651163  7.3298429\n",
       "2 ZPBP_116251    beta     0  0  0.00000  0.000000  3.488372  2.0942408\n",
       "3 ZSCAN21_117807 beta     0  0  0.00000  0.000000  0.000000  0.0000000\n",
       "4 ZSCAN31_109686 beta     0  0  0.00000  0.000000  0.000000  0.0000000\n",
       "5 ZSWIM2_79591   beta     0 50 46.66667 45.714286 23.255814 24.0837696\n",
       "6 ZSWIM5_3921    beta     0  0  0.00000  0.000000  0.000000  0.5235602\n",
       "  7          8          ⋯ 91        92   93        94        95       96    \n",
       "1  5.2147239  4.8736462 ⋯  0.000000  0.0  0.000000  0.000000  0.00000  0.000\n",
       "2  3.0674847  3.0685921 ⋯  0.000000  0.0  0.000000  0.000000  0.00000  0.000\n",
       "3  0.3067485  0.1805054 ⋯  5.020921  7.0  6.976744  4.819277  8.62069  9.375\n",
       "4  0.3067485  0.1805054 ⋯ 14.225941 14.0 16.279070 10.843373 20.68966 18.750\n",
       "5 23.0061350 15.3429603 ⋯  0.000000  0.0  0.000000  0.000000  0.00000  0.000\n",
       "6  0.3067485  0.0000000 ⋯ 11.715481 17.5 20.155039 25.301205 13.79310 18.750\n",
       "  97        98 99 100\n",
       "1  0.000000  0  0  0 \n",
       "2  0.000000  0  0  0 \n",
       "3 18.181818 10 20  0 \n",
       "4 27.272727 10 40 20 \n",
       "5  0.000000  0  0  0 \n",
       "6  4.545455 10 20 20 "
      ]
     },
     "metadata": {},
     "output_type": "display_data"
    },
    {
     "data": {
      "text/html": [
       "<ol class=list-inline>\n",
       "\t<li>3219</li>\n",
       "\t<li>102</li>\n",
       "</ol>\n"
      ],
      "text/latex": [
       "\\begin{enumerate*}\n",
       "\\item 3219\n",
       "\\item 102\n",
       "\\end{enumerate*}\n"
      ],
      "text/markdown": [
       "1. 3219\n",
       "2. 102\n",
       "\n",
       "\n"
      ],
      "text/plain": [
       "[1] 3219  102"
      ]
     },
     "metadata": {},
     "output_type": "display_data"
    }
   ],
   "source": [
    "dat.pro_ps.wide <- rbind(dat.pro_ps.long%>%\n",
    "    filter(celltype==\"alpha\")%>%\n",
    "    group_by(gene_tr.idx,celltype) %>%\n",
    "    select(-one_of(c(\"ps_bin\",\"n\",\"N\")))%>%\n",
    "    spread(key = ps_bin.2,value = percent_open,fill = 0),\n",
    "               dat.pro_ps.long%>%\n",
    "    filter(celltype==\"beta\")%>%\n",
    "    group_by(gene_tr.idx,celltype) %>%\n",
    "    select(-one_of(c(\"ps_bin\",\"n\",\"N\")))%>%\n",
    "    mutate(ps_bin.2=ps_bin.2-100)%>%\n",
    "    spread(key = ps_bin.2,value = percent_open,fill = 0))\n",
    "head(dat.pro_ps.wide)\n",
    "tail(dat.pro_ps.wide)\n",
    "dim(dat.pro_ps.wide)"
   ]
  },
  {
   "cell_type": "code",
   "execution_count": 16,
   "metadata": {},
   "outputs": [
    {
     "data": {
      "text/html": [
       "<table>\n",
       "<thead><tr><th scope=col>gene_tr.idx</th><th scope=col>celltype</th><th scope=col>bin</th><th scope=col>percent_open</th></tr></thead>\n",
       "<tbody>\n",
       "\t<tr><td>AAGAB_42733 </td><td>alpha       </td><td>1           </td><td>0           </td></tr>\n",
       "\t<tr><td>AAMDC_22628 </td><td>alpha       </td><td>1           </td><td>0           </td></tr>\n",
       "\t<tr><td>AATF_55762  </td><td>alpha       </td><td>1           </td><td>0           </td></tr>\n",
       "\t<tr><td>ABCA2_129618</td><td>alpha       </td><td>1           </td><td>0           </td></tr>\n",
       "\t<tr><td>ABCB10_11455</td><td>alpha       </td><td>1           </td><td>0           </td></tr>\n",
       "\t<tr><td>ABCB9_32864 </td><td>alpha       </td><td>1           </td><td>0           </td></tr>\n",
       "</tbody>\n",
       "</table>\n"
      ],
      "text/latex": [
       "\\begin{tabular}{r|llll}\n",
       " gene\\_tr.idx & celltype & bin & percent\\_open\\\\\n",
       "\\hline\n",
       "\t AAGAB\\_42733  & alpha          & 1              & 0             \\\\\n",
       "\t AAMDC\\_22628  & alpha          & 1              & 0             \\\\\n",
       "\t AATF\\_55762   & alpha          & 1              & 0             \\\\\n",
       "\t ABCA2\\_129618 & alpha          & 1              & 0             \\\\\n",
       "\t ABCB10\\_11455 & alpha          & 1              & 0             \\\\\n",
       "\t ABCB9\\_32864  & alpha          & 1              & 0             \\\\\n",
       "\\end{tabular}\n"
      ],
      "text/markdown": [
       "\n",
       "gene_tr.idx | celltype | bin | percent_open | \n",
       "|---|---|---|---|---|---|\n",
       "| AAGAB_42733  | alpha        | 1            | 0            | \n",
       "| AAMDC_22628  | alpha        | 1            | 0            | \n",
       "| AATF_55762   | alpha        | 1            | 0            | \n",
       "| ABCA2_129618 | alpha        | 1            | 0            | \n",
       "| ABCB10_11455 | alpha        | 1            | 0            | \n",
       "| ABCB9_32864  | alpha        | 1            | 0            | \n",
       "\n",
       "\n"
      ],
      "text/plain": [
       "  gene_tr.idx  celltype bin percent_open\n",
       "1 AAGAB_42733  alpha    1   0           \n",
       "2 AAMDC_22628  alpha    1   0           \n",
       "3 AATF_55762   alpha    1   0           \n",
       "4 ABCA2_129618 alpha    1   0           \n",
       "5 ABCB10_11455 alpha    1   0           \n",
       "6 ABCB9_32864  alpha    1   0           "
      ]
     },
     "metadata": {},
     "output_type": "display_data"
    },
    {
     "data": {
      "text/html": [
       "<table>\n",
       "<thead><tr><th scope=col>gene_tr.idx</th><th scope=col>celltype</th><th scope=col>bin</th><th scope=col>percent_open</th></tr></thead>\n",
       "<tbody>\n",
       "\t<tr><td>ZP1_19678     </td><td>beta          </td><td>100           </td><td> 0            </td></tr>\n",
       "\t<tr><td>ZPBP_116251   </td><td>beta          </td><td>100           </td><td> 0            </td></tr>\n",
       "\t<tr><td>ZSCAN21_117807</td><td>beta          </td><td>100           </td><td> 0            </td></tr>\n",
       "\t<tr><td>ZSCAN31_109686</td><td>beta          </td><td>100           </td><td>20            </td></tr>\n",
       "\t<tr><td>ZSWIM2_79591  </td><td>beta          </td><td>100           </td><td> 0            </td></tr>\n",
       "\t<tr><td>ZSWIM5_3921   </td><td>beta          </td><td>100           </td><td>20            </td></tr>\n",
       "</tbody>\n",
       "</table>\n"
      ],
      "text/latex": [
       "\\begin{tabular}{r|llll}\n",
       " gene\\_tr.idx & celltype & bin & percent\\_open\\\\\n",
       "\\hline\n",
       "\t ZP1\\_19678      & beta             & 100              &  0              \\\\\n",
       "\t ZPBP\\_116251    & beta             & 100              &  0              \\\\\n",
       "\t ZSCAN21\\_117807 & beta             & 100              &  0              \\\\\n",
       "\t ZSCAN31\\_109686 & beta             & 100              & 20              \\\\\n",
       "\t ZSWIM2\\_79591   & beta             & 100              &  0              \\\\\n",
       "\t ZSWIM5\\_3921    & beta             & 100              & 20              \\\\\n",
       "\\end{tabular}\n"
      ],
      "text/markdown": [
       "\n",
       "gene_tr.idx | celltype | bin | percent_open | \n",
       "|---|---|---|---|---|---|\n",
       "| ZP1_19678      | beta           | 100            |  0             | \n",
       "| ZPBP_116251    | beta           | 100            |  0             | \n",
       "| ZSCAN21_117807 | beta           | 100            |  0             | \n",
       "| ZSCAN31_109686 | beta           | 100            | 20             | \n",
       "| ZSWIM2_79591   | beta           | 100            |  0             | \n",
       "| ZSWIM5_3921    | beta           | 100            | 20             | \n",
       "\n",
       "\n"
      ],
      "text/plain": [
       "  gene_tr.idx    celltype bin percent_open\n",
       "1 ZP1_19678      beta     100  0          \n",
       "2 ZPBP_116251    beta     100  0          \n",
       "3 ZSCAN21_117807 beta     100  0          \n",
       "4 ZSCAN31_109686 beta     100 20          \n",
       "5 ZSWIM2_79591   beta     100  0          \n",
       "6 ZSWIM5_3921    beta     100 20          "
      ]
     },
     "metadata": {},
     "output_type": "display_data"
    },
    {
     "data": {
      "text/html": [
       "<ol class=list-inline>\n",
       "\t<li>321900</li>\n",
       "\t<li>4</li>\n",
       "</ol>\n"
      ],
      "text/latex": [
       "\\begin{enumerate*}\n",
       "\\item 321900\n",
       "\\item 4\n",
       "\\end{enumerate*}\n"
      ],
      "text/markdown": [
       "1. 321900\n",
       "2. 4\n",
       "\n",
       "\n"
      ],
      "text/plain": [
       "[1] 321900      4"
      ]
     },
     "metadata": {},
     "output_type": "display_data"
    }
   ],
   "source": [
    "# wide to long again to fill \n",
    "\n",
    "dat.pro_ps.long <- dat.pro_ps.wide%>%gather(key = \"bin\",value = \"percent_open\",3:102)\n",
    "head(dat.pro_ps.long)\n",
    "tail(dat.pro_ps.long)\n",
    "dim(dat.pro_ps.long)"
   ]
  },
  {
   "cell_type": "markdown",
   "metadata": {},
   "source": [
    "### 4.2 data smooth"
   ]
  },
  {
   "cell_type": "code",
   "execution_count": 17,
   "metadata": {},
   "outputs": [
    {
     "name": "stderr",
     "output_type": "stream",
     "text": [
      "Loading required package: parallel\n"
     ]
    },
    {
     "data": {
      "text/plain": [
       "   user  system elapsed \n",
       "250.006 190.730  96.960 "
      ]
     },
     "metadata": {},
     "output_type": "display_data"
    }
   ],
   "source": [
    "require(parallel)\n",
    "dat.pro_ps.smooth <- list()\n",
    "system.time(\n",
    "    for(ct in c(\"alpha\",\"beta\")){\n",
    "    dat.sub <- subset(dat.pro_ps.long,celltype==ct)\n",
    "    all.tr <- unique(dat.sub$gene_tr.idx)\n",
    "    dat.pro_ps.smooth[[ct]] <- mclapply(all.tr,\n",
    "                           function(g){data.frame(bin=1:100,\n",
    "                                                  gene_tr.idx=g,\n",
    "                                                  percent_open=predict(loess(percent_open~bin, data=dat.sub%>%filter(gene_tr.idx==g))),\n",
    "                                                  celltype=ct)},mc.cores=8)\n",
    "})\n"
   ]
  },
  {
   "cell_type": "code",
   "execution_count": 18,
   "metadata": {},
   "outputs": [
    {
     "data": {
      "text/html": [
       "<table>\n",
       "<thead><tr><th scope=col>bin</th><th scope=col>gene_tr.idx</th><th scope=col>percent_open</th><th scope=col>celltype</th></tr></thead>\n",
       "<tbody>\n",
       "\t<tr><td>1          </td><td>AAGAB_42733</td><td>0.5174754  </td><td>alpha      </td></tr>\n",
       "\t<tr><td>2          </td><td>AAGAB_42733</td><td>0.4584599  </td><td>alpha      </td></tr>\n",
       "\t<tr><td>3          </td><td>AAGAB_42733</td><td>0.4025329  </td><td>alpha      </td></tr>\n",
       "\t<tr><td>4          </td><td>AAGAB_42733</td><td>0.3496216  </td><td>alpha      </td></tr>\n",
       "\t<tr><td>5          </td><td>AAGAB_42733</td><td>0.2996535  </td><td>alpha      </td></tr>\n",
       "\t<tr><td>6          </td><td>AAGAB_42733</td><td>0.2525558  </td><td>alpha      </td></tr>\n",
       "</tbody>\n",
       "</table>\n"
      ],
      "text/latex": [
       "\\begin{tabular}{r|llll}\n",
       " bin & gene\\_tr.idx & percent\\_open & celltype\\\\\n",
       "\\hline\n",
       "\t 1             & AAGAB\\_42733 & 0.5174754     & alpha        \\\\\n",
       "\t 2             & AAGAB\\_42733 & 0.4584599     & alpha        \\\\\n",
       "\t 3             & AAGAB\\_42733 & 0.4025329     & alpha        \\\\\n",
       "\t 4             & AAGAB\\_42733 & 0.3496216     & alpha        \\\\\n",
       "\t 5             & AAGAB\\_42733 & 0.2996535     & alpha        \\\\\n",
       "\t 6             & AAGAB\\_42733 & 0.2525558     & alpha        \\\\\n",
       "\\end{tabular}\n"
      ],
      "text/markdown": [
       "\n",
       "bin | gene_tr.idx | percent_open | celltype | \n",
       "|---|---|---|---|---|---|\n",
       "| 1           | AAGAB_42733 | 0.5174754   | alpha       | \n",
       "| 2           | AAGAB_42733 | 0.4584599   | alpha       | \n",
       "| 3           | AAGAB_42733 | 0.4025329   | alpha       | \n",
       "| 4           | AAGAB_42733 | 0.3496216   | alpha       | \n",
       "| 5           | AAGAB_42733 | 0.2996535   | alpha       | \n",
       "| 6           | AAGAB_42733 | 0.2525558   | alpha       | \n",
       "\n",
       "\n"
      ],
      "text/plain": [
       "  bin gene_tr.idx percent_open celltype\n",
       "1 1   AAGAB_42733 0.5174754    alpha   \n",
       "2 2   AAGAB_42733 0.4584599    alpha   \n",
       "3 3   AAGAB_42733 0.4025329    alpha   \n",
       "4 4   AAGAB_42733 0.3496216    alpha   \n",
       "5 5   AAGAB_42733 0.2996535    alpha   \n",
       "6 6   AAGAB_42733 0.2525558    alpha   "
      ]
     },
     "metadata": {},
     "output_type": "display_data"
    },
    {
     "data": {
      "text/html": [
       "<ol class=list-inline>\n",
       "\t<li>321900</li>\n",
       "\t<li>4</li>\n",
       "</ol>\n"
      ],
      "text/latex": [
       "\\begin{enumerate*}\n",
       "\\item 321900\n",
       "\\item 4\n",
       "\\end{enumerate*}\n"
      ],
      "text/markdown": [
       "1. 321900\n",
       "2. 4\n",
       "\n",
       "\n"
      ],
      "text/plain": [
       "[1] 321900      4"
      ]
     },
     "metadata": {},
     "output_type": "display_data"
    }
   ],
   "source": [
    "dat.pro_ps.smooth<- rbind(do.call(rbind,dat.pro_ps.smooth$alpha),\n",
    "     do.call(rbind,dat.pro_ps.smooth$beta))\n",
    "head(dat.pro_ps.smooth)\n",
    "dim(dat.pro_ps.smooth)"
   ]
  },
  {
   "cell_type": "code",
   "execution_count": 19,
   "metadata": {},
   "outputs": [],
   "source": [
    "fwrite(dat.pro_ps.smooth,file = \"../dat/1901/alpha_beta.promoter.long_100bin_transcripts_ps_smoothed.txt\")\n",
    "fwrite(dat.pro_ps.long,file = \"../dat/1901/alpha_beta.promoter.long_100bin_transcripts_ps_raw.txt\")"
   ]
  },
  {
   "cell_type": "code",
   "execution_count": 1,
   "metadata": {},
   "outputs": [],
   "source": [
    "?chisq.test"
   ]
  },
  {
   "cell_type": "code",
   "execution_count": null,
   "metadata": {},
   "outputs": [],
   "source": []
  }
 ],
 "metadata": {
  "kernelspec": {
   "display_name": "R",
   "language": "R",
   "name": "ir"
  },
  "language_info": {
   "codemirror_mode": "r",
   "file_extension": ".r",
   "mimetype": "text/x-r-source",
   "name": "R",
   "pygments_lexer": "r",
   "version": "3.5.1"
  }
 },
 "nbformat": 4,
 "nbformat_minor": 2
}
