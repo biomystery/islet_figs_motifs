{
 "cells": [
  {
   "cell_type": "code",
   "execution_count": 3,
   "metadata": {},
   "outputs": [],
   "source": [
    "require(data.table)\n",
    "require(tidyverse)"
   ]
  },
  {
   "cell_type": "markdown",
   "metadata": {
    "heading_collapsed": true
   },
   "source": [
    "## 1. Read data "
   ]
  },
  {
   "cell_type": "code",
   "execution_count": 4,
   "metadata": {
    "hidden": true
   },
   "outputs": [
    {
     "data": {
      "text/html": [
       "<ol class=list-inline>\n",
       "\t<li>18758757</li>\n",
       "\t<li>7</li>\n",
       "</ol>\n"
      ],
      "text/latex": [
       "\\begin{enumerate*}\n",
       "\\item 18758757\n",
       "\\item 7\n",
       "\\end{enumerate*}\n"
      ],
      "text/markdown": [
       "1. 18758757\n",
       "2. 7\n",
       "\n",
       "\n"
      ],
      "text/plain": [
       "[1] 18758757        7"
      ]
     },
     "metadata": {},
     "output_type": "display_data"
    },
    {
     "data": {
      "text/html": [
       "<table>\n",
       "<caption>A data.frame: 6 × 7</caption>\n",
       "<thead>\n",
       "\t<tr><th scope=col>seq</th><th scope=col>start</th><th scope=col>end</th><th scope=col>cell</th><th scope=col>value</th><th scope=col>tr.idx</th><th scope=col>gene</th></tr>\n",
       "\t<tr><th scope=col>&lt;chr&gt;</th><th scope=col>&lt;int&gt;</th><th scope=col>&lt;int&gt;</th><th scope=col>&lt;chr&gt;</th><th scope=col>&lt;int&gt;</th><th scope=col>&lt;int&gt;</th><th scope=col>&lt;chr&gt;</th></tr>\n",
       "</thead>\n",
       "<tbody>\n",
       "\t<tr><td>chr10</td><td>100027284</td><td>100028604</td><td>Islet1fresh_AGACACCTAAGAGGCAGCGTAAGAAGGCG</td><td>2</td><td>9209</td><td>LOXL4</td></tr>\n",
       "\t<tr><td>chr10</td><td>100027284</td><td>100028604</td><td>Islet1fresh_AGACACCTACTCGCTAGTAAGGAGCAGGA</td><td>2</td><td>9209</td><td>LOXL4</td></tr>\n",
       "\t<tr><td>chr10</td><td>100027284</td><td>100028604</td><td>Islet1fresh_AGACACCTACTGAGCGATCTGAGTGTACT</td><td>2</td><td>9209</td><td>LOXL4</td></tr>\n",
       "\t<tr><td>chr10</td><td>100027284</td><td>100028604</td><td>Islet1fresh_AGACACCTATCTCAGGTATCCTCTCCTAT</td><td>2</td><td>9209</td><td>LOXL4</td></tr>\n",
       "\t<tr><td>chr10</td><td>100027284</td><td>100028604</td><td>Islet1fresh_AGACACCTATGCGCAGAAGGAGTAGTACT</td><td>1</td><td>9209</td><td>LOXL4</td></tr>\n",
       "\t<tr><td>chr10</td><td>100027284</td><td>100028604</td><td>Islet1fresh_AGACACCTCGAGGCTGCTCTCTATGGTTG</td><td>2</td><td>9209</td><td>LOXL4</td></tr>\n",
       "</tbody>\n",
       "</table>\n"
      ],
      "text/latex": [
       "A data.frame: 6 × 7\n",
       "\\begin{tabular}{r|lllllll}\n",
       " seq & start & end & cell & value & tr.idx & gene\\\\\n",
       " <chr> & <int> & <int> & <chr> & <int> & <int> & <chr>\\\\\n",
       "\\hline\n",
       "\t chr10 & 100027284 & 100028604 & Islet1fresh\\_AGACACCTAAGAGGCAGCGTAAGAAGGCG & 2 & 9209 & LOXL4\\\\\n",
       "\t chr10 & 100027284 & 100028604 & Islet1fresh\\_AGACACCTACTCGCTAGTAAGGAGCAGGA & 2 & 9209 & LOXL4\\\\\n",
       "\t chr10 & 100027284 & 100028604 & Islet1fresh\\_AGACACCTACTGAGCGATCTGAGTGTACT & 2 & 9209 & LOXL4\\\\\n",
       "\t chr10 & 100027284 & 100028604 & Islet1fresh\\_AGACACCTATCTCAGGTATCCTCTCCTAT & 2 & 9209 & LOXL4\\\\\n",
       "\t chr10 & 100027284 & 100028604 & Islet1fresh\\_AGACACCTATGCGCAGAAGGAGTAGTACT & 1 & 9209 & LOXL4\\\\\n",
       "\t chr10 & 100027284 & 100028604 & Islet1fresh\\_AGACACCTCGAGGCTGCTCTCTATGGTTG & 2 & 9209 & LOXL4\\\\\n",
       "\\end{tabular}\n"
      ],
      "text/markdown": [
       "\n",
       "A data.frame: 6 × 7\n",
       "\n",
       "| seq &lt;chr&gt; | start &lt;int&gt; | end &lt;int&gt; | cell &lt;chr&gt; | value &lt;int&gt; | tr.idx &lt;int&gt; | gene &lt;chr&gt; |\n",
       "|---|---|---|---|---|---|---|\n",
       "| chr10 | 100027284 | 100028604 | Islet1fresh_AGACACCTAAGAGGCAGCGTAAGAAGGCG | 2 | 9209 | LOXL4 |\n",
       "| chr10 | 100027284 | 100028604 | Islet1fresh_AGACACCTACTCGCTAGTAAGGAGCAGGA | 2 | 9209 | LOXL4 |\n",
       "| chr10 | 100027284 | 100028604 | Islet1fresh_AGACACCTACTGAGCGATCTGAGTGTACT | 2 | 9209 | LOXL4 |\n",
       "| chr10 | 100027284 | 100028604 | Islet1fresh_AGACACCTATCTCAGGTATCCTCTCCTAT | 2 | 9209 | LOXL4 |\n",
       "| chr10 | 100027284 | 100028604 | Islet1fresh_AGACACCTATGCGCAGAAGGAGTAGTACT | 1 | 9209 | LOXL4 |\n",
       "| chr10 | 100027284 | 100028604 | Islet1fresh_AGACACCTCGAGGCTGCTCTCTATGGTTG | 2 | 9209 | LOXL4 |\n",
       "\n"
      ],
      "text/plain": [
       "  seq   start     end       cell                                      value\n",
       "1 chr10 100027284 100028604 Islet1fresh_AGACACCTAAGAGGCAGCGTAAGAAGGCG 2    \n",
       "2 chr10 100027284 100028604 Islet1fresh_AGACACCTACTCGCTAGTAAGGAGCAGGA 2    \n",
       "3 chr10 100027284 100028604 Islet1fresh_AGACACCTACTGAGCGATCTGAGTGTACT 2    \n",
       "4 chr10 100027284 100028604 Islet1fresh_AGACACCTATCTCAGGTATCCTCTCCTAT 2    \n",
       "5 chr10 100027284 100028604 Islet1fresh_AGACACCTATGCGCAGAAGGAGTAGTACT 1    \n",
       "6 chr10 100027284 100028604 Islet1fresh_AGACACCTCGAGGCTGCTCTCTATGGTTG 2    \n",
       "  tr.idx gene \n",
       "1 9209   LOXL4\n",
       "2 9209   LOXL4\n",
       "3 9209   LOXL4\n",
       "4 9209   LOXL4\n",
       "5 9209   LOXL4\n",
       "6 9209   LOXL4"
      ]
     },
     "metadata": {},
     "output_type": "display_data"
    }
   ],
   "source": [
    "dat.mat <- fread(\"gzcat ../dat/1910_v2//long_matrix_w_transcripts.txt.gz\") %>% filter(!is.na(tr.idx))\n",
    "dim(dat.mat)\n",
    "head(dat.mat)\n",
    "# dat.mat$cell <- NULL #no need cell id"
   ]
  },
  {
   "cell_type": "markdown",
   "metadata": {
    "hidden": true
   },
   "source": [
    " Concepts: \n",
    "1. `promoter region`: -500bp + 500bp for all TSS in gencode \n",
    "2. `promoter Peaks`: peaks that overlap promoter region"
   ]
  },
  {
   "cell_type": "code",
   "execution_count": 7,
   "metadata": {
    "hidden": true
   },
   "outputs": [
    {
     "data": {
      "text/html": [
       "<ol class=list-inline>\n",
       "\t<li>18758757</li>\n",
       "\t<li>2</li>\n",
       "</ol>\n"
      ],
      "text/latex": [
       "\\begin{enumerate*}\n",
       "\\item 18758757\n",
       "\\item 2\n",
       "\\end{enumerate*}\n"
      ],
      "text/markdown": [
       "1. 18758757\n",
       "2. 2\n",
       "\n",
       "\n"
      ],
      "text/plain": [
       "[1] 18758757        2"
      ]
     },
     "metadata": {},
     "output_type": "display_data"
    },
    {
     "data": {
      "text/html": [
       "<table>\n",
       "<caption>A data.frame: 1 × 2</caption>\n",
       "<thead>\n",
       "\t<tr><th scope=col>prom_peak</th><th scope=col>cell</th></tr>\n",
       "\t<tr><th scope=col>&lt;chr&gt;</th><th scope=col>&lt;chr&gt;</th></tr>\n",
       "</thead>\n",
       "<tbody>\n",
       "\t<tr><td>10:100027284-100028604</td><td>Islet1fresh_AGACACCTAAGAGGCAGCGTAAGAAGGCG</td></tr>\n",
       "</tbody>\n",
       "</table>\n"
      ],
      "text/latex": [
       "A data.frame: 1 × 2\n",
       "\\begin{tabular}{r|ll}\n",
       " prom\\_peak & cell\\\\\n",
       " <chr> & <chr>\\\\\n",
       "\\hline\n",
       "\t 10:100027284-100028604 & Islet1fresh\\_AGACACCTAAGAGGCAGCGTAAGAAGGCG\\\\\n",
       "\\end{tabular}\n"
      ],
      "text/markdown": [
       "\n",
       "A data.frame: 1 × 2\n",
       "\n",
       "| prom_peak &lt;chr&gt; | cell &lt;chr&gt; |\n",
       "|---|---|\n",
       "| 10:100027284-100028604 | Islet1fresh_AGACACCTAAGAGGCAGCGTAAGAAGGCG |\n",
       "\n"
      ],
      "text/plain": [
       "  prom_peak              cell                                     \n",
       "1 10:100027284-100028604 Islet1fresh_AGACACCTAAGAGGCAGCGTAAGAAGGCG"
      ]
     },
     "metadata": {},
     "output_type": "display_data"
    }
   ],
   "source": [
    "dat.mat <- dat.mat %>% mutate(seq = sub(\"chr\", \"\", seq)) %>% mutate(prom_peak = paste0(seq, \n",
    "    \":\", start, \"-\", end)) %>% select(prom_peak,cell)%>%distinct()\n",
    "dim(dat.mat)\n",
    "dat.mat %>%head(1)"
   ]
  },
  {
   "cell_type": "code",
   "execution_count": 8,
   "metadata": {
    "hidden": true
   },
   "outputs": [
    {
     "data": {
      "text/html": [
       "<table>\n",
       "<caption>A data.frame: 1 × 3</caption>\n",
       "<thead>\n",
       "\t<tr><th scope=col>prom_peak</th><th scope=col>cell</th><th scope=col>cluster_name</th></tr>\n",
       "\t<tr><th scope=col>&lt;chr&gt;</th><th scope=col>&lt;chr&gt;</th><th scope=col>&lt;chr&gt;</th></tr>\n",
       "</thead>\n",
       "<tbody>\n",
       "\t<tr><td>10:100027284-100028604</td><td>Islet1fresh_AGACACCTAAGAGGCAGCGTAAGAAGGCG</td><td>alpha_1</td></tr>\n",
       "</tbody>\n",
       "</table>\n"
      ],
      "text/latex": [
       "A data.frame: 1 × 3\n",
       "\\begin{tabular}{r|lll}\n",
       " prom\\_peak & cell & cluster\\_name\\\\\n",
       " <chr> & <chr> & <chr>\\\\\n",
       "\\hline\n",
       "\t 10:100027284-100028604 & Islet1fresh\\_AGACACCTAAGAGGCAGCGTAAGAAGGCG & alpha\\_1\\\\\n",
       "\\end{tabular}\n"
      ],
      "text/markdown": [
       "\n",
       "A data.frame: 1 × 3\n",
       "\n",
       "| prom_peak &lt;chr&gt; | cell &lt;chr&gt; | cluster_name &lt;chr&gt; |\n",
       "|---|---|---|\n",
       "| 10:100027284-100028604 | Islet1fresh_AGACACCTAAGAGGCAGCGTAAGAAGGCG | alpha_1 |\n",
       "\n"
      ],
      "text/plain": [
       "  prom_peak              cell                                      cluster_name\n",
       "1 10:100027284-100028604 Islet1fresh_AGACACCTAAGAGGCAGCGTAAGAAGGCG alpha_1     "
      ]
     },
     "metadata": {},
     "output_type": "display_data"
    },
    {
     "data": {
      "text/html": [
       "<ol class=list-inline>\n",
       "\t<li>18758757</li>\n",
       "\t<li>3</li>\n",
       "</ol>\n"
      ],
      "text/latex": [
       "\\begin{enumerate*}\n",
       "\\item 18758757\n",
       "\\item 3\n",
       "\\end{enumerate*}\n"
      ],
      "text/markdown": [
       "1. 18758757\n",
       "2. 3\n",
       "\n",
       "\n"
      ],
      "text/plain": [
       "[1] 18758757        3"
      ]
     },
     "metadata": {},
     "output_type": "display_data"
    }
   ],
   "source": [
    "dat.mat <- dat.mat %>% left_join(fread(\"../dat/1910_v2/islet.cluster_labels.filt.txt\") %>% \n",
    "    select(index, cluster_name), by = c(cell = \"index\"))\n",
    "dat.mat %>% head(1)\n",
    "dat.mat %>% dim"
   ]
  },
  {
   "cell_type": "code",
   "execution_count": 5,
   "metadata": {
    "hidden": true
   },
   "outputs": [
    {
     "data": {
      "text/plain": [
       "\n",
       "     acinar     alpha_1     alpha_2      beta_1      beta_2     delta_1 \n",
       "         46        5191        1027        4204        3394         478 \n",
       "    delta_2      ductal endothelial       gamma      immune    stellate \n",
       "        232          80         118         260         140         128 "
      ]
     },
     "metadata": {},
     "output_type": "display_data"
    },
    {
     "data": {
      "text/html": [
       "15298"
      ],
      "text/latex": [
       "15298"
      ],
      "text/markdown": [
       "15298"
      ],
      "text/plain": [
       "[1] 15298"
      ]
     },
     "metadata": {},
     "output_type": "display_data"
    },
    {
     "data": {
      "text/html": [
       "15298"
      ],
      "text/latex": [
       "15298"
      ],
      "text/markdown": [
       "15298"
      ],
      "text/plain": [
       "[1] 15298"
      ]
     },
     "metadata": {},
     "output_type": "display_data"
    }
   ],
   "source": [
    "# get all cells \n",
    "dat.all.cells <- table((fread('../dat/1910_v2/islet.cluster_labels.filt.txt'))$cluster) # table for all cells\n",
    "dat.all.cells\n",
    "sum(dat.all.cells)\n",
    "length(unique(dat.mat$cell))"
   ]
  },
  {
   "cell_type": "markdown",
   "metadata": {
    "heading_collapsed": true
   },
   "source": [
    "## 2 Prepare data"
   ]
  },
  {
   "cell_type": "code",
   "execution_count": 11,
   "metadata": {
    "hidden": true,
    "scrolled": true
   },
   "outputs": [
    {
     "data": {
      "text/html": [
       "<table>\n",
       "<caption>A data.frame: 1 × 3</caption>\n",
       "<thead>\n",
       "\t<tr><th scope=col>prom_peak</th><th scope=col>cluster_name</th><th scope=col>N</th></tr>\n",
       "\t<tr><th scope=col>&lt;chr&gt;</th><th scope=col>&lt;chr&gt;</th><th scope=col>&lt;int&gt;</th></tr>\n",
       "</thead>\n",
       "<tbody>\n",
       "\t<tr><td>1:10002866-10003720</td><td>acinar</td><td>5</td></tr>\n",
       "</tbody>\n",
       "</table>\n"
      ],
      "text/latex": [
       "A data.frame: 1 × 3\n",
       "\\begin{tabular}{r|lll}\n",
       " prom\\_peak & cluster\\_name & N\\\\\n",
       " <chr> & <chr> & <int>\\\\\n",
       "\\hline\n",
       "\t 1:10002866-10003720 & acinar & 5\\\\\n",
       "\\end{tabular}\n"
      ],
      "text/markdown": [
       "\n",
       "A data.frame: 1 × 3\n",
       "\n",
       "| prom_peak &lt;chr&gt; | cluster_name &lt;chr&gt; | N &lt;int&gt; |\n",
       "|---|---|---|\n",
       "| 1:10002866-10003720 | acinar | 5 |\n",
       "\n"
      ],
      "text/plain": [
       "  prom_peak           cluster_name N\n",
       "1 1:10002866-10003720 acinar       5"
      ]
     },
     "metadata": {},
     "output_type": "display_data"
    },
    {
     "data": {
      "text/html": [
       "195396"
      ],
      "text/latex": [
       "195396"
      ],
      "text/markdown": [
       "195396"
      ],
      "text/plain": [
       "[1] 195396"
      ]
     },
     "metadata": {},
     "output_type": "display_data"
    }
   ],
   "source": [
    "# prepare data\n",
    "setDT(dat.mat)\n",
    "dat.mat <- dat.mat[, .N, by = .(prom_peak, cluster_name)] %>% arrange(prom_peak, \n",
    "    cluster_name)\n",
    "head(dat.mat, 1)\n",
    "dat.mat %>% nrow"
   ]
  },
  {
   "cell_type": "code",
   "execution_count": 13,
   "metadata": {
    "hidden": true
   },
   "outputs": [],
   "source": [
    "dat.mat <- dat.mat%>%rename(cluster=cluster_name)"
   ]
  },
  {
   "cell_type": "markdown",
   "metadata": {},
   "source": [
    "## 3. Fisher's exact test  between subtypes\n",
    "\n",
    "As long as there is any  peaks in that cell, the peak is open in this cell. \n",
    "\n",
    "1. get total alpha 1 and alpha 2 cells \n",
    "2. test hit in alpha1 vs hit in alpha2  (create contentigen table)\n",
    "3. perform [Fisher's exact test](https://en.wikipedia.org/wiki/Fisher%27s_exact_test) or [chi-squared test](https://en.wikipedia.org/wiki/Chi-squared_test)\n",
    "\n",
    "Input: `dat.mat` and `dat.all.cells`\n",
    "output: \n",
    "\n",
    "peak|n_celltype1|n_celltype2|total_cells|celltype | pval | frac_1 | frac_2| odds\n"
   ]
  },
  {
   "cell_type": "markdown",
   "metadata": {
    "heading_collapsed": true
   },
   "source": [
    "### 3.1 perform fisher's exact test for all prom peaks"
   ]
  },
  {
   "cell_type": "code",
   "execution_count": 14,
   "metadata": {
    "hidden": true
   },
   "outputs": [
    {
     "data": {
      "text/html": [
       "<table>\n",
       "<caption>A data.frame: 2 × 3</caption>\n",
       "<thead>\n",
       "\t<tr><th scope=col>prom_peak</th><th scope=col>cluster</th><th scope=col>N</th></tr>\n",
       "\t<tr><th scope=col>&lt;chr&gt;</th><th scope=col>&lt;chr&gt;</th><th scope=col>&lt;int&gt;</th></tr>\n",
       "</thead>\n",
       "<tbody>\n",
       "\t<tr><td>1:10002866-10003720</td><td>alpha_1</td><td>279</td></tr>\n",
       "\t<tr><td>1:10002866-10003720</td><td>alpha_2</td><td> 67</td></tr>\n",
       "</tbody>\n",
       "</table>\n"
      ],
      "text/latex": [
       "A data.frame: 2 × 3\n",
       "\\begin{tabular}{r|lll}\n",
       " prom\\_peak & cluster & N\\\\\n",
       " <chr> & <chr> & <int>\\\\\n",
       "\\hline\n",
       "\t 1:10002866-10003720 & alpha\\_1 & 279\\\\\n",
       "\t 1:10002866-10003720 & alpha\\_2 &  67\\\\\n",
       "\\end{tabular}\n"
      ],
      "text/markdown": [
       "\n",
       "A data.frame: 2 × 3\n",
       "\n",
       "| prom_peak &lt;chr&gt; | cluster &lt;chr&gt; | N &lt;int&gt; |\n",
       "|---|---|---|\n",
       "| 1:10002866-10003720 | alpha_1 | 279 |\n",
       "| 1:10002866-10003720 | alpha_2 |  67 |\n",
       "\n"
      ],
      "text/plain": [
       "  prom_peak           cluster N  \n",
       "1 1:10002866-10003720 alpha_1 279\n",
       "2 1:10002866-10003720 alpha_2  67"
      ]
     },
     "metadata": {},
     "output_type": "display_data"
    },
    {
     "data": {
      "text/html": [
       "<table>\n",
       "<caption>A matrix: 2 × 2 of type dbl</caption>\n",
       "<thead>\n",
       "\t<tr><th></th><th scope=col>alpha_1</th><th scope=col>alpha_2</th></tr>\n",
       "</thead>\n",
       "<tbody>\n",
       "\t<tr><th scope=row>Yes</th><td> 279</td><td> 67</td></tr>\n",
       "\t<tr><th scope=row>No</th><td>4912</td><td>960</td></tr>\n",
       "</tbody>\n",
       "</table>\n"
      ],
      "text/latex": [
       "A matrix: 2 × 2 of type dbl\n",
       "\\begin{tabular}{r|ll}\n",
       "  & alpha\\_1 & alpha\\_2\\\\\n",
       "\\hline\n",
       "\tYes &  279 &  67\\\\\n",
       "\tNo & 4912 & 960\\\\\n",
       "\\end{tabular}\n"
      ],
      "text/markdown": [
       "\n",
       "A matrix: 2 × 2 of type dbl\n",
       "\n",
       "| <!--/--> | alpha_1 | alpha_2 |\n",
       "|---|---|---|\n",
       "| Yes |  279 |  67 |\n",
       "| No | 4912 | 960 |\n",
       "\n"
      ],
      "text/plain": [
       "         subtype\n",
       "expressed alpha_1 alpha_2\n",
       "      Yes  279     67    \n",
       "      No  4912    960    "
      ]
     },
     "metadata": {},
     "output_type": "display_data"
    },
    {
     "data": {
      "text/html": [
       "279"
      ],
      "text/latex": [
       "279"
      ],
      "text/markdown": [
       "279"
      ],
      "text/plain": [
       "[1] 279"
      ]
     },
     "metadata": {},
     "output_type": "display_data"
    },
    {
     "data": {
      "text/html": [
       "4912"
      ],
      "text/latex": [
       "4912"
      ],
      "text/markdown": [
       "4912"
      ],
      "text/plain": [
       "[1] 4912"
      ]
     },
     "metadata": {},
     "output_type": "display_data"
    },
    {
     "data": {
      "text/html": [
       "<dl>\n",
       "\t<dt>$pval</dt>\n",
       "\t\t<dd>0.0836589543668257</dd>\n",
       "\t<dt>$odds</dt>\n",
       "\t\t<dd><strong>odds ratio:</strong> 0.813874901785634</dd>\n",
       "\t<dt>$type1_frac</dt>\n",
       "\t\t<dd>0.0537468695819688</dd>\n",
       "\t<dt>$type2_frac</dt>\n",
       "\t\t<dd>0.065238558909445</dd>\n",
       "</dl>\n"
      ],
      "text/latex": [
       "\\begin{description}\n",
       "\\item[\\$pval] 0.0836589543668257\n",
       "\\item[\\$odds] \\textbf{odds ratio:} 0.813874901785634\n",
       "\\item[\\$type1\\_frac] 0.0537468695819688\n",
       "\\item[\\$type2\\_frac] 0.065238558909445\n",
       "\\end{description}\n"
      ],
      "text/markdown": [
       "$pval\n",
       ":   0.0836589543668257\n",
       "$odds\n",
       ":   **odds ratio:** 0.813874901785634\n",
       "$type1_frac\n",
       ":   0.0537468695819688\n",
       "$type2_frac\n",
       ":   0.065238558909445\n",
       "\n",
       "\n"
      ],
      "text/plain": [
       "$pval\n",
       "[1] 0.08365895\n",
       "\n",
       "$odds\n",
       "odds ratio \n",
       " 0.8138749 \n",
       "\n",
       "$type1_frac\n",
       "[1] 0.05374687\n",
       "\n",
       "$type2_frac\n",
       "[1] 0.06523856\n"
      ]
     },
     "metadata": {},
     "output_type": "display_data"
    },
    {
     "data": {
      "text/plain": [
       "\n",
       "\tFisher's Exact Test for Count Data\n",
       "\n",
       "data:  test.tab\n",
       "p-value = 0.1565\n",
       "alternative hypothesis: true odds ratio is not equal to 1\n",
       "95 percent confidence interval:\n",
       " 0.6153122 1.0889392\n",
       "sample estimates:\n",
       "odds ratio \n",
       " 0.8138749 \n"
      ]
     },
     "metadata": {},
     "output_type": "display_data"
    }
   ],
   "source": [
    "tr = \"1:10002866-10003720\"\n",
    "celltypes <- c(\"alpha_1\", \"alpha_2\")\n",
    "\n",
    "test.dat <- dat.mat %>% filter(prom_peak == tr & cluster %in% celltypes)\n",
    "test.dat\n",
    "table.res<- test.dat$N; names(table.res) <- test.dat$cluster\n",
    "# handle if 0 for one subtype\n",
    "a = setdiff(celltypes, names(table.res))\n",
    "table.res[a] <- 0\n",
    "test.tab <- matrix(c(table.res[celltypes[1]], table.res[celltypes[2]], dat.all.cells[celltypes[1]] - \n",
    "    table.res[celltypes[1]], dat.all.cells[celltypes[2]] - table.res[celltypes[2]]), \n",
    "    byrow = T, nrow = 2, dimnames = list(expressed = c(\"Yes\", \"No\"), subtype = celltypes))\n",
    "test.tab\n",
    "test.tab[1]\n",
    "test.tab[2]\n",
    "\n",
    "\n",
    "f1 <- test.tab[1]/(test.tab[1] + test.tab[2])\n",
    "f2 <- test.tab[3]/(test.tab[3] + test.tab[4])\n",
    "l <- ifelse(f1 > f2, \"greater\", \"less\")\n",
    "test.res <- fisher.test(test.tab, alternative = l)\n",
    "res <- list(pval = test.res$p.value, odds = test.res$estimate, type1_frac = f1, type2_frac = f2)\n",
    "res\n",
    "\n",
    "fisher.test(test.tab)"
   ]
  },
  {
   "cell_type": "code",
   "execution_count": 17,
   "metadata": {
    "hidden": true
   },
   "outputs": [
    {
     "data": {
      "text/plain": [
       "   user  system elapsed \n",
       "  0.019   0.000   0.019 "
      ]
     },
     "metadata": {},
     "output_type": "display_data"
    },
    {
     "data": {
      "text/html": [
       "<table>\n",
       "<caption>A matrix: 1 × 5</caption>\n",
       "<thead>\n",
       "\t<tr><th scope=col>prom_peak</th><th scope=col>pval</th><th scope=col>odds</th><th scope=col>type1_frac</th><th scope=col>type2_frac</th></tr>\n",
       "\t<tr><th scope=col>&lt;chr&gt;</th><th scope=col>&lt;dbl&gt;</th><th scope=col>&lt;dbl&gt;</th><th scope=col>&lt;dbl&gt;</th><th scope=col>&lt;dbl&gt;</th></tr>\n",
       "</thead>\n",
       "<tbody>\n",
       "\t<tr><td>1:10002866-10003720</td><td>0.08365895</td><td>0.8138749</td><td>0.05374687</td><td>0.06523856</td></tr>\n",
       "</tbody>\n",
       "</table>\n"
      ],
      "text/latex": [
       "A matrix: 1 × 5\n",
       "\\begin{tabular}{lllll}\n",
       " prom\\_peak & pval & odds & type1\\_frac & type2\\_frac\\\\\n",
       " <chr> & <dbl> & <dbl> & <dbl> & <dbl>\\\\\n",
       "\\hline\n",
       "\t 1:10002866-10003720 & 0.08365895 & 0.8138749 & 0.05374687 & 0.06523856\\\\\n",
       "\\end{tabular}\n"
      ],
      "text/markdown": [
       "\n",
       "A matrix: 1 × 5\n",
       "\n",
       "| prom_peak &lt;chr&gt; | pval &lt;dbl&gt; | odds &lt;dbl&gt; | type1_frac &lt;dbl&gt; | type2_frac &lt;dbl&gt; |\n",
       "|---|---|---|---|---|\n",
       "| 1:10002866-10003720 | 0.08365895 | 0.8138749 | 0.05374687 | 0.06523856 |\n",
       "\n"
      ],
      "text/plain": [
       "     prom_peak           pval       odds      type1_frac type2_frac\n",
       "[1,] 1:10002866-10003720 0.08365895 0.8138749 0.05374687 0.06523856"
      ]
     },
     "metadata": {},
     "output_type": "display_data"
    }
   ],
   "source": [
    "\n",
    "celltypes <- c('alpha_1','alpha_2')\n",
    "dat.mat.sub <- dat.mat%>%filter(cluster %in% celltypes)\n",
    "fun.ftestPerTr <- function(  tr = \"1:10002866-10003720\",\n",
    "                             celltypes=c('alpha_1','alpha_2'),\n",
    "                             dat=dat.mat.sub){\n",
    "    \n",
    "\n",
    "test.dat <- dat %>% filter(prom_peak == tr)\n",
    " table.res<- test.dat$N; names(table.res) <- test.dat$cluster\n",
    "\n",
    "    # handle if 0 for one subtype \n",
    "    a=setdiff(celltypes,    names(table.res))\n",
    "    table.res[a]<-0\n",
    "    \n",
    "    test.tab <- matrix(c(table.res[celltypes[1]], table.res[celltypes[2]], \n",
    "                         dat.all.cells[celltypes[1]]-table.res[celltypes[1]], \n",
    "                         dat.all.cells[celltypes[2]]-table.res[celltypes[2]]),\n",
    "                       byrow =  T,       \n",
    "                       nrow = 2,\n",
    "                       dimnames = list(expressed = c(\"Yes\", \"No\"),\n",
    "                       subtype = celltypes))\n",
    "\n",
    "    f1<-test.tab[1]/(test.tab[1]+test.tab[2])\n",
    "    f2 <- test.tab[3]/(test.tab[3]+test.tab[4])\n",
    "    l <-ifelse(f1>f2,'greater','less')\n",
    "    test.res <- fisher.test(test.tab,alternative = l)\n",
    "    res <- list(\n",
    "                prom_peak =tr,\n",
    "                pval=test.res$p.value,\n",
    "                odds=test.res$estimate,\n",
    "                type1_frac=f1,\n",
    "                type2_frac=f2\n",
    "               )\n",
    "    res\n",
    "}\n",
    "\n",
    "##\n",
    "\n",
    "\n",
    "\n",
    "system.time(fun.ftestPerTr(celltypes=celltypes))\n",
    "t(fun.ftestPerTr(celltypes=celltypes))\n",
    "\n"
   ]
  },
  {
   "cell_type": "code",
   "execution_count": 18,
   "metadata": {
    "hidden": true
   },
   "outputs": [
    {
     "data": {
      "text/html": [
       "0.446777222222222"
      ],
      "text/latex": [
       "0.446777222222222"
      ],
      "text/markdown": [
       "0.446777222222222"
      ],
      "text/plain": [
       "[1] 0.4467772"
      ]
     },
     "metadata": {},
     "output_type": "display_data"
    }
   ],
   "source": [
    "# estimate time\n",
    "celltypes <- list()\n",
    "celltypes$alpha <- c(\"alpha_1\", \"alpha_2\")\n",
    "celltypes$beta <- c(\"beta_1\", \"beta_2\")\n",
    "celltypes$delta <- c(\"delta_1\", \"delta_2\")\n",
    "sum(sapply( c(\"alpha\", \"beta\", \"delta\"),function(x) \n",
    "    length(unique((dat.mat%>% filter(cluster %in% celltypes[[x]]))$prom_peak))))*.029/3600"
   ]
  },
  {
   "cell_type": "code",
   "execution_count": 27,
   "metadata": {
    "hidden": true
   },
   "outputs": [
    {
     "data": {
      "text/html": [
       "18926"
      ],
      "text/latex": [
       "18926"
      ],
      "text/markdown": [
       "18926"
      ],
      "text/plain": [
       "[1] 18926"
      ]
     },
     "metadata": {},
     "output_type": "display_data"
    }
   ],
   "source": [
    "dat.mat%>%pull(prom_peak)%>%unique%>%length"
   ]
  },
  {
   "cell_type": "code",
   "execution_count": 19,
   "metadata": {
    "hidden": true
   },
   "outputs": [],
   "source": [
    "celltypes <- list()\n",
    "celltypes$alpha <- c(\"alpha_1\", \"alpha_2\")\n",
    "celltypes$beta <- c(\"beta_1\", \"beta_2\")\n",
    "celltypes$delta <- c(\"delta_1\", \"delta_2\")"
   ]
  },
  {
   "cell_type": "code",
   "execution_count": 24,
   "metadata": {
    "hidden": true
   },
   "outputs": [
    {
     "data": {
      "text/html": [
       "18808"
      ],
      "text/latex": [
       "18808"
      ],
      "text/markdown": [
       "18808"
      ],
      "text/plain": [
       "[1] 18808"
      ]
     },
     "metadata": {},
     "output_type": "display_data"
    },
    {
     "data": {
      "text/html": [
       "<table>\n",
       "<caption>A matrix: 10 × 5</caption>\n",
       "<thead>\n",
       "\t<tr><th scope=col>prom_peak</th><th scope=col>pval</th><th scope=col>odds</th><th scope=col>type1_frac</th><th scope=col>type2_frac</th></tr>\n",
       "\t<tr><th scope=col>&lt;chr&gt;</th><th scope=col>&lt;chr&gt;</th><th scope=col>&lt;chr&gt;</th><th scope=col>&lt;chr&gt;</th><th scope=col>&lt;chr&gt;</th><th scope=col>&lt;chr&gt;</th><th scope=col>&lt;chr&gt;</th><th scope=col>&lt;chr&gt;</th><th scope=col>&lt;chr&gt;</th><th scope=col>&lt;chr&gt;</th><th scope=col>⋯</th><th scope=col>&lt;dbl&gt;</th><th scope=col>&lt;dbl&gt;</th><th scope=col>&lt;dbl&gt;</th><th scope=col>&lt;dbl&gt;</th><th scope=col>&lt;dbl&gt;</th><th scope=col>&lt;dbl&gt;</th><th scope=col>&lt;dbl&gt;</th><th scope=col>&lt;dbl&gt;</th><th scope=col>&lt;dbl&gt;</th><th scope=col>&lt;dbl&gt;</th></tr>\n",
       "</thead>\n",
       "<tbody>\n",
       "\t<tr><td>1:10002866-10003720</td><td>0.08365895</td><td>0.8138749</td><td>0.05374687</td><td>0.06523856</td></tr>\n",
       "\t<tr><td>1:100110838-100111038</td><td>0.1967455</td><td>Inf</td><td>0.00173377</td><td>0</td></tr>\n",
       "\t<tr><td>1:100111215-100112205</td><td>0.05610592</td><td>1.933956</td><td>0.0130996</td><td>0.006815969</td></tr>\n",
       "\t<tr><td>1:100231527-100232346</td><td>0.05999696</td><td>2.336528</td><td>0.009054132</td><td>0.003894839</td></tr>\n",
       "\t<tr><td>1:100315017-100316186</td><td>0.3611784</td><td>1.047567</td><td>0.1096128</td><td>0.1051607</td></tr>\n",
       "\t<tr><td>1:100434863-100436185</td><td>0.02706195</td><td>1.250529</td><td>0.1165479</td><td>0.09542356</td></tr>\n",
       "\t<tr><td>1:100503350-100504585</td><td>6.875993e-05</td><td>0.7101124</td><td>0.1512233</td><td>0.2005842</td></tr>\n",
       "\t<tr><td>1:10056643-10058257</td><td>0.4368498</td><td>0.933159</td><td>0.01637449</td><td>0.01752678</td></tr>\n",
       "\t<tr><td>1:100598102-100599052</td><td>0.2393444</td><td>1.088234</td><td>0.1144288</td><td>0.1061344</td></tr>\n",
       "\t<tr><td>1:100643436-100644216</td><td>0.4212565</td><td>0.878411</td><td>0.007705644</td><td>0.008763389</td></tr>\n",
       "</tbody>\n",
       "</table>\n"
      ],
      "text/latex": [
       "A matrix: 10 × 5\n",
       "\\begin{tabular}{lllll}\n",
       " prom\\_peak & pval & odds & type1\\_frac & type2\\_frac\\\\\n",
       " <chr> & <chr> & <chr> & <chr> & <chr> & <chr> & <chr> & <chr> & <chr> & <chr> & <dbl> & <dbl> & <dbl> & <dbl> & <dbl> & <dbl> & <dbl> & <dbl> & <dbl> & <dbl> & <dbl> & <dbl> & <dbl> & <dbl> & <dbl> & <dbl> & <dbl> & <dbl> & <dbl> & <dbl> & <dbl> & <dbl> & <dbl> & <dbl> & <dbl> & <dbl> & <dbl> & <dbl> & <dbl> & <dbl> & <dbl> & <dbl> & <dbl> & <dbl> & <dbl> & <dbl> & <dbl> & <dbl> & <dbl> & <dbl>\\\\\n",
       "\\hline\n",
       "\t 1:10002866-10003720 & 0.08365895 & 0.8138749 & 0.05374687 & 0.06523856\\\\\n",
       "\t 1:100110838-100111038 & 0.1967455 & Inf & 0.00173377 & 0\\\\\n",
       "\t 1:100111215-100112205 & 0.05610592 & 1.933956 & 0.0130996 & 0.006815969\\\\\n",
       "\t 1:100231527-100232346 & 0.05999696 & 2.336528 & 0.009054132 & 0.003894839\\\\\n",
       "\t 1:100315017-100316186 & 0.3611784 & 1.047567 & 0.1096128 & 0.1051607\\\\\n",
       "\t 1:100434863-100436185 & 0.02706195 & 1.250529 & 0.1165479 & 0.09542356\\\\\n",
       "\t 1:100503350-100504585 & 6.875993e-05 & 0.7101124 & 0.1512233 & 0.2005842\\\\\n",
       "\t 1:10056643-10058257 & 0.4368498 & 0.933159 & 0.01637449 & 0.01752678\\\\\n",
       "\t 1:100598102-100599052 & 0.2393444 & 1.088234 & 0.1144288 & 0.1061344\\\\\n",
       "\t 1:100643436-100644216 & 0.4212565 & 0.878411 & 0.007705644 & 0.008763389\\\\\n",
       "\\end{tabular}\n"
      ],
      "text/markdown": [
       "\n",
       "A matrix: 10 × 5\n",
       "\n",
       "| prom_peak &lt;chr&gt; | pval &lt;chr&gt; | odds &lt;chr&gt; | type1_frac &lt;chr&gt; | type2_frac &lt;chr&gt; | prom_peak &lt;chr&gt; | pval &lt;chr&gt; | odds &lt;chr&gt; | type1_frac &lt;chr&gt; | type2_frac &lt;chr&gt; | prom_peak ⋯ | pval &lt;dbl&gt; | odds &lt;dbl&gt; | type1_frac &lt;dbl&gt; | type2_frac &lt;dbl&gt; | prom_peak &lt;dbl&gt; | pval &lt;dbl&gt; | odds &lt;dbl&gt; | type1_frac &lt;dbl&gt; | type2_frac &lt;dbl&gt; | prom_peak &lt;dbl&gt; |\n",
       "|---|---|---|---|---|\n",
       "| 1:10002866-10003720 | 0.08365895 | 0.8138749 | 0.05374687 | 0.06523856 |\n",
       "| 1:100110838-100111038 | 0.1967455 | Inf | 0.00173377 | 0 |\n",
       "| 1:100111215-100112205 | 0.05610592 | 1.933956 | 0.0130996 | 0.006815969 |\n",
       "| 1:100231527-100232346 | 0.05999696 | 2.336528 | 0.009054132 | 0.003894839 |\n",
       "| 1:100315017-100316186 | 0.3611784 | 1.047567 | 0.1096128 | 0.1051607 |\n",
       "| 1:100434863-100436185 | 0.02706195 | 1.250529 | 0.1165479 | 0.09542356 |\n",
       "| 1:100503350-100504585 | 6.875993e-05 | 0.7101124 | 0.1512233 | 0.2005842 |\n",
       "| 1:10056643-10058257 | 0.4368498 | 0.933159 | 0.01637449 | 0.01752678 |\n",
       "| 1:100598102-100599052 | 0.2393444 | 1.088234 | 0.1144288 | 0.1061344 |\n",
       "| 1:100643436-100644216 | 0.4212565 | 0.878411 | 0.007705644 | 0.008763389 |\n",
       "\n"
      ],
      "text/plain": [
       "      prom_peak             pval         odds      type1_frac  type2_frac \n",
       " [1,] 1:10002866-10003720   0.08365895   0.8138749 0.05374687  0.06523856 \n",
       " [2,] 1:100110838-100111038 0.1967455    Inf       0.00173377  0          \n",
       " [3,] 1:100111215-100112205 0.05610592   1.933956  0.0130996   0.006815969\n",
       " [4,] 1:100231527-100232346 0.05999696   2.336528  0.009054132 0.003894839\n",
       " [5,] 1:100315017-100316186 0.3611784    1.047567  0.1096128   0.1051607  \n",
       " [6,] 1:100434863-100436185 0.02706195   1.250529  0.1165479   0.09542356 \n",
       " [7,] 1:100503350-100504585 6.875993e-05 0.7101124 0.1512233   0.2005842  \n",
       " [8,] 1:10056643-10058257   0.4368498    0.933159  0.01637449  0.01752678 \n",
       " [9,] 1:100598102-100599052 0.2393444    1.088234  0.1144288   0.1061344  \n",
       "[10,] 1:100643436-100644216 0.4212565    0.878411  0.007705644 0.008763389"
      ]
     },
     "metadata": {},
     "output_type": "display_data"
    }
   ],
   "source": [
    "## test run\n",
    "\n",
    "x<- \"alpha\"\n",
    "dat.mat.sub <- dat.mat%>%filter(cluster %in% celltypes[[x]])\n",
    "all.tr <- unique(dat.mat.sub$prom_peak)\n",
    "length(all.tr)\n",
    "do.call(rbind,lapply(all.tr[1:10],function(trr) t(fun.ftestPerTr(dat = dat.mat.sub, \n",
    "        tr = trr, celltypes = celltypes[[x]]))))"
   ]
  },
  {
   "cell_type": "code",
   "execution_count": 22,
   "metadata": {
    "hidden": true
   },
   "outputs": [
    {
     "name": "stderr",
     "output_type": "stream",
     "text": [
      "Loading required package: parallel\n"
     ]
    },
    {
     "data": {
      "text/plain": [
       "   user  system elapsed \n",
       "186.841  13.627  20.560 "
      ]
     },
     "metadata": {},
     "output_type": "display_data"
    }
   ],
   "source": [
    "require(parallel)\n",
    "\n",
    "res.transcript_level <- list()\n",
    "# time consumming task\n",
    "system.time(for (x in c(\"alpha\", \"beta\", \"delta\")) {\n",
    "    \n",
    "    dat.mat.sub <- dat.mat %>% filter(cluster %in% celltypes[[x]])\n",
    "    all.tr <- unique(dat.mat.sub$prom_peak)\n",
    "    \n",
    "    res.transcript_level[[x]] <- do.call(rbind, mclapply(all.tr, function(trr) t(fun.ftestPerTr(dat = dat.mat.sub, \n",
    "        tr = trr, celltypes = celltypes[[x]])), mc.cores = 10))\n",
    "})\n",
    "\n",
    "saveRDS(object = res.transcript_level, file = \"../dat/1901/res.prom.peaks.fisher.Rds\")"
   ]
  },
  {
   "cell_type": "markdown",
   "metadata": {
    "heading_collapsed": true
   },
   "source": [
    "### 3.2 adding gene info"
   ]
  },
  {
   "cell_type": "code",
   "execution_count": 23,
   "metadata": {
    "hidden": true
   },
   "outputs": [
    {
     "data": {
      "text/html": [
       "<table>\n",
       "<caption>A data.frame: 6 × 6</caption>\n",
       "<thead>\n",
       "\t<tr><th scope=col>prom_peak</th><th scope=col>pval</th><th scope=col>odds</th><th scope=col>type1_frac</th><th scope=col>type2_frac</th><th scope=col>celltype</th></tr>\n",
       "\t<tr><th scope=col>&lt;list&gt;</th><th scope=col>&lt;list&gt;</th><th scope=col>&lt;list&gt;</th><th scope=col>&lt;list&gt;</th><th scope=col>&lt;list&gt;</th><th scope=col>&lt;fct&gt;</th></tr>\n",
       "</thead>\n",
       "<tbody>\n",
       "\t<tr><td>1:10002866-10003720</td><td>0.08365895</td><td>0.8138749</td><td>0.05374687</td><td>0.06523856</td><td>alpha</td></tr>\n",
       "\t<tr><td>1:100110838-100111038</td><td>0.1967455</td><td>Inf</td><td>0.00173377</td><td>0</td><td>alpha</td></tr>\n",
       "\t<tr><td>1:100111215-100112205</td><td>0.05610592</td><td>1.933956</td><td>0.0130996</td><td>0.006815969</td><td>alpha</td></tr>\n",
       "\t<tr><td>1:100231527-100232346</td><td>0.05999696</td><td>2.336528</td><td>0.009054132</td><td>0.003894839</td><td>alpha</td></tr>\n",
       "\t<tr><td>1:100315017-100316186</td><td>0.3611784</td><td>1.047567</td><td>0.1096128</td><td>0.1051607</td><td>alpha</td></tr>\n",
       "\t<tr><td>1:100434863-100436185</td><td>0.02706195</td><td>1.250529</td><td>0.1165479</td><td>0.09542356</td><td>alpha</td></tr>\n",
       "</tbody>\n",
       "</table>\n"
      ],
      "text/latex": [
       "A data.frame: 6 × 6\n",
       "\\begin{tabular}{r|llllll}\n",
       " prom\\_peak & pval & odds & type1\\_frac & type2\\_frac & celltype\\\\\n",
       " <list> & <list> & <list> & <list> & <list> & <fct>\\\\\n",
       "\\hline\n",
       "\t 1:10002866-10003720 & 0.08365895 & 0.8138749 & 0.05374687 & 0.06523856 & alpha\\\\\n",
       "\t 1:100110838-100111038 & 0.1967455 & Inf & 0.00173377 & 0 & alpha\\\\\n",
       "\t 1:100111215-100112205 & 0.05610592 & 1.933956 & 0.0130996 & 0.006815969 & alpha\\\\\n",
       "\t 1:100231527-100232346 & 0.05999696 & 2.336528 & 0.009054132 & 0.003894839 & alpha\\\\\n",
       "\t 1:100315017-100316186 & 0.3611784 & 1.047567 & 0.1096128 & 0.1051607 & alpha\\\\\n",
       "\t 1:100434863-100436185 & 0.02706195 & 1.250529 & 0.1165479 & 0.09542356 & alpha\\\\\n",
       "\\end{tabular}\n"
      ],
      "text/markdown": [
       "\n",
       "A data.frame: 6 × 6\n",
       "\n",
       "| prom_peak &lt;list&gt; | pval &lt;list&gt; | odds &lt;list&gt; | type1_frac &lt;list&gt; | type2_frac &lt;list&gt; | celltype &lt;fct&gt; |\n",
       "|---|---|---|---|---|---|\n",
       "| 1:10002866-10003720 | 0.08365895 | 0.8138749 | 0.05374687 | 0.06523856 | alpha |\n",
       "| 1:100110838-100111038 | 0.1967455 | Inf | 0.00173377 | 0 | alpha |\n",
       "| 1:100111215-100112205 | 0.05610592 | 1.933956 | 0.0130996 | 0.006815969 | alpha |\n",
       "| 1:100231527-100232346 | 0.05999696 | 2.336528 | 0.009054132 | 0.003894839 | alpha |\n",
       "| 1:100315017-100316186 | 0.3611784 | 1.047567 | 0.1096128 | 0.1051607 | alpha |\n",
       "| 1:100434863-100436185 | 0.02706195 | 1.250529 | 0.1165479 | 0.09542356 | alpha |\n",
       "\n"
      ],
      "text/plain": [
       "  prom_peak             pval       odds      type1_frac  type2_frac  celltype\n",
       "1 1:10002866-10003720   0.08365895 0.8138749 0.05374687  0.06523856  alpha   \n",
       "2 1:100110838-100111038 0.1967455  Inf       0.00173377  0           alpha   \n",
       "3 1:100111215-100112205 0.05610592 1.933956  0.0130996   0.006815969 alpha   \n",
       "4 1:100231527-100232346 0.05999696 2.336528  0.009054132 0.003894839 alpha   \n",
       "5 1:100315017-100316186 0.3611784  1.047567  0.1096128   0.1051607   alpha   \n",
       "6 1:100434863-100436185 0.02706195 1.250529  0.1165479   0.09542356  alpha   "
      ]
     },
     "metadata": {},
     "output_type": "display_data"
    },
    {
     "data": {
      "text/html": [
       "0.431371111111111"
      ],
      "text/latex": [
       "0.431371111111111"
      ],
      "text/markdown": [
       "0.431371111111111"
      ],
      "text/plain": [
       "[1] 0.4313711"
      ]
     },
     "metadata": {},
     "output_type": "display_data"
    }
   ],
   "source": [
    "res.transcript_level <- rbind(data.frame(res.transcript_level$alpha,celltype=\"alpha\"),\n",
    "     data.frame(res.transcript_level$beta,celltype=\"beta\"),\n",
    "     data.frame(res.transcript_level$delta,celltype=\"delta\"))\n",
    "head(res.transcript_level)"
   ]
  },
  {
   "cell_type": "code",
   "execution_count": 33,
   "metadata": {
    "hidden": true,
    "scrolled": true
   },
   "outputs": [
    {
     "data": {
      "text/html": [
       "<table>\n",
       "<caption>A data.frame: 1 × 2</caption>\n",
       "<thead>\n",
       "\t<tr><th scope=col>prom_peak</th><th scope=col>gene</th></tr>\n",
       "\t<tr><th scope=col>&lt;chr&gt;</th><th scope=col>&lt;chr&gt;</th></tr>\n",
       "</thead>\n",
       "<tbody>\n",
       "\t<tr><td>10:100027284-100028604</td><td>LOXL4</td></tr>\n",
       "</tbody>\n",
       "</table>\n"
      ],
      "text/latex": [
       "A data.frame: 1 × 2\n",
       "\\begin{tabular}{r|ll}\n",
       " prom\\_peak & gene\\\\\n",
       " <chr> & <chr>\\\\\n",
       "\\hline\n",
       "\t 10:100027284-100028604 & LOXL4\\\\\n",
       "\\end{tabular}\n"
      ],
      "text/markdown": [
       "\n",
       "A data.frame: 1 × 2\n",
       "\n",
       "| prom_peak &lt;chr&gt; | gene &lt;chr&gt; |\n",
       "|---|---|\n",
       "| 10:100027284-100028604 | LOXL4 |\n",
       "\n"
      ],
      "text/plain": [
       "  prom_peak              gene \n",
       "1 10:100027284-100028604 LOXL4"
      ]
     },
     "metadata": {},
     "output_type": "display_data"
    }
   ],
   "source": [
    "peak_tr.dic <- readRDS('../dat/1910_v2/peak_tr.dic.rds')\n",
    "peak_tr.dic%>%head(1)"
   ]
  },
  {
   "cell_type": "code",
   "execution_count": 34,
   "metadata": {
    "hidden": true
   },
   "outputs": [
    {
     "name": "stderr",
     "output_type": "stream",
     "text": [
      "Joining, by = \"prom_peak\"\n"
     ]
    },
    {
     "data": {
      "text/html": [
       "<table>\n",
       "<caption>A data.frame: 7 × 7</caption>\n",
       "<thead>\n",
       "\t<tr><th scope=col>prom_peak</th><th scope=col>pval</th><th scope=col>odds</th><th scope=col>type1_frac</th><th scope=col>type2_frac</th><th scope=col>celltype</th><th scope=col>gene</th></tr>\n",
       "\t<tr><th scope=col>&lt;chr&gt;</th><th scope=col>&lt;list&gt;</th><th scope=col>&lt;list&gt;</th><th scope=col>&lt;list&gt;</th><th scope=col>&lt;list&gt;</th><th scope=col>&lt;fct&gt;</th><th scope=col>&lt;chr&gt;</th></tr>\n",
       "</thead>\n",
       "<tbody>\n",
       "\t<tr><td>1:10002866-10003720  </td><td>0.08365895</td><td>0.8138749</td><td>0.05374687</td><td>0.06523856</td><td>alpha</td><td>LZIC   </td></tr>\n",
       "\t<tr><td>1:10002866-10003720  </td><td>0.08365895</td><td>0.8138749</td><td>0.05374687</td><td>0.06523856</td><td>alpha</td><td>NMNAT1 </td></tr>\n",
       "\t<tr><td>1:100110838-100111038</td><td>0.1967455</td><td>Inf</td><td>0.00173377</td><td>0</td><td>alpha</td><td>PALMD  </td></tr>\n",
       "\t<tr><td>1:100111215-100112205</td><td>0.05610592</td><td>1.933956</td><td>0.0130996</td><td>0.006815969</td><td>alpha</td><td>PALMD  </td></tr>\n",
       "\t<tr><td>1:100231527-100232346</td><td>0.05999696</td><td>2.336528</td><td>0.009054132</td><td>0.003894839</td><td>alpha</td><td>FRRS1  </td></tr>\n",
       "\t<tr><td>1:100315017-100316186</td><td>0.3611784</td><td>1.047567</td><td>0.1096128</td><td>0.1051607</td><td>alpha</td><td>AGL    </td></tr>\n",
       "\t<tr><td>1:100434863-100436185</td><td>0.02706195</td><td>1.250529</td><td>0.1165479</td><td>0.09542356</td><td>alpha</td><td>SLC35A3</td></tr>\n",
       "</tbody>\n",
       "</table>\n"
      ],
      "text/latex": [
       "A data.frame: 7 × 7\n",
       "\\begin{tabular}{r|lllllll}\n",
       " prom\\_peak & pval & odds & type1\\_frac & type2\\_frac & celltype & gene\\\\\n",
       " <chr> & <list> & <list> & <list> & <list> & <fct> & <chr>\\\\\n",
       "\\hline\n",
       "\t 1:10002866-10003720   & 0.08365895 & 0.8138749 & 0.05374687 & 0.06523856 & alpha & LZIC   \\\\\n",
       "\t 1:10002866-10003720   & 0.08365895 & 0.8138749 & 0.05374687 & 0.06523856 & alpha & NMNAT1 \\\\\n",
       "\t 1:100110838-100111038 & 0.1967455 & Inf & 0.00173377 & 0 & alpha & PALMD  \\\\\n",
       "\t 1:100111215-100112205 & 0.05610592 & 1.933956 & 0.0130996 & 0.006815969 & alpha & PALMD  \\\\\n",
       "\t 1:100231527-100232346 & 0.05999696 & 2.336528 & 0.009054132 & 0.003894839 & alpha & FRRS1  \\\\\n",
       "\t 1:100315017-100316186 & 0.3611784 & 1.047567 & 0.1096128 & 0.1051607 & alpha & AGL    \\\\\n",
       "\t 1:100434863-100436185 & 0.02706195 & 1.250529 & 0.1165479 & 0.09542356 & alpha & SLC35A3\\\\\n",
       "\\end{tabular}\n"
      ],
      "text/markdown": [
       "\n",
       "A data.frame: 7 × 7\n",
       "\n",
       "| prom_peak &lt;chr&gt; | pval &lt;list&gt; | odds &lt;list&gt; | type1_frac &lt;list&gt; | type2_frac &lt;list&gt; | celltype &lt;fct&gt; | gene &lt;chr&gt; |\n",
       "|---|---|---|---|---|---|---|\n",
       "| 1:10002866-10003720   | 0.08365895 | 0.8138749 | 0.05374687 | 0.06523856 | alpha | LZIC    |\n",
       "| 1:10002866-10003720   | 0.08365895 | 0.8138749 | 0.05374687 | 0.06523856 | alpha | NMNAT1  |\n",
       "| 1:100110838-100111038 | 0.1967455 | Inf | 0.00173377 | 0 | alpha | PALMD   |\n",
       "| 1:100111215-100112205 | 0.05610592 | 1.933956 | 0.0130996 | 0.006815969 | alpha | PALMD   |\n",
       "| 1:100231527-100232346 | 0.05999696 | 2.336528 | 0.009054132 | 0.003894839 | alpha | FRRS1   |\n",
       "| 1:100315017-100316186 | 0.3611784 | 1.047567 | 0.1096128 | 0.1051607 | alpha | AGL     |\n",
       "| 1:100434863-100436185 | 0.02706195 | 1.250529 | 0.1165479 | 0.09542356 | alpha | SLC35A3 |\n",
       "\n"
      ],
      "text/plain": [
       "  prom_peak             pval       odds      type1_frac  type2_frac  celltype\n",
       "1 1:10002866-10003720   0.08365895 0.8138749 0.05374687  0.06523856  alpha   \n",
       "2 1:10002866-10003720   0.08365895 0.8138749 0.05374687  0.06523856  alpha   \n",
       "3 1:100110838-100111038 0.1967455  Inf       0.00173377  0           alpha   \n",
       "4 1:100111215-100112205 0.05610592 1.933956  0.0130996   0.006815969 alpha   \n",
       "5 1:100231527-100232346 0.05999696 2.336528  0.009054132 0.003894839 alpha   \n",
       "6 1:100315017-100316186 0.3611784  1.047567  0.1096128   0.1051607   alpha   \n",
       "7 1:100434863-100436185 0.02706195 1.250529  0.1165479   0.09542356  alpha   \n",
       "  gene   \n",
       "1 LZIC   \n",
       "2 NMNAT1 \n",
       "3 PALMD  \n",
       "4 PALMD  \n",
       "5 FRRS1  \n",
       "6 AGL    \n",
       "7 SLC35A3"
      ]
     },
     "metadata": {},
     "output_type": "display_data"
    }
   ],
   "source": [
    "head(res.transcript_level) %>% mutate(prom_peak = as.character(prom_peak)) %>% left_join(peak_tr.dic)"
   ]
  },
  {
   "cell_type": "code",
   "execution_count": 35,
   "metadata": {
    "hidden": true
   },
   "outputs": [
    {
     "name": "stderr",
     "output_type": "stream",
     "text": [
      "Joining, by = \"prom_peak\"\n"
     ]
    }
   ],
   "source": [
    "res.transcript_level <- res.transcript_level %>% mutate(prom_peak = as.character(prom_peak)) %>% \n",
    "    left_join(peak_tr.dic)\n"
   ]
  },
  {
   "cell_type": "markdown",
   "metadata": {
    "heading_collapsed": true
   },
   "source": [
    "### 3.3 padj"
   ]
  },
  {
   "cell_type": "code",
   "execution_count": 6,
   "metadata": {
    "hidden": true
   },
   "outputs": [
    {
     "name": "stdout",
     "output_type": "stream",
     "text": [
      "[1] 18808\n",
      "[1] 18818\n",
      "[1] 17836\n"
     ]
    },
    {
     "data": {
      "text/html": [
       "<table>\n",
       "<caption>A data.frame: 1 × 6</caption>\n",
       "<thead>\n",
       "\t<tr><th scope=col>prom_peak</th><th scope=col>pval</th><th scope=col>celltype</th><th scope=col>FDR</th><th scope=col>padj.Bonferroni</th><th scope=col>FDR.BY</th></tr>\n",
       "\t<tr><th scope=col>&lt;chr&gt;</th><th scope=col>&lt;dbl&gt;</th><th scope=col>&lt;chr&gt;</th><th scope=col>&lt;dbl&gt;</th><th scope=col>&lt;dbl&gt;</th><th scope=col>&lt;dbl&gt;</th></tr>\n",
       "</thead>\n",
       "<tbody>\n",
       "\t<tr><td>1:10002866-10003720</td><td>0.08365895</td><td>alpha</td><td>0.1542908</td><td>1</td><td>1</td></tr>\n",
       "</tbody>\n",
       "</table>\n"
      ],
      "text/latex": [
       "A data.frame: 1 × 6\n",
       "\\begin{tabular}{r|llllll}\n",
       " prom\\_peak & pval & celltype & FDR & padj.Bonferroni & FDR.BY\\\\\n",
       " <chr> & <dbl> & <chr> & <dbl> & <dbl> & <dbl>\\\\\n",
       "\\hline\n",
       "\t 1:10002866-10003720 & 0.08365895 & alpha & 0.1542908 & 1 & 1\\\\\n",
       "\\end{tabular}\n"
      ],
      "text/markdown": [
       "\n",
       "A data.frame: 1 × 6\n",
       "\n",
       "| prom_peak &lt;chr&gt; | pval &lt;dbl&gt; | celltype &lt;chr&gt; | FDR &lt;dbl&gt; | padj.Bonferroni &lt;dbl&gt; | FDR.BY &lt;dbl&gt; |\n",
       "|---|---|---|---|---|---|\n",
       "| 1:10002866-10003720 | 0.08365895 | alpha | 0.1542908 | 1 | 1 |\n",
       "\n"
      ],
      "text/plain": [
       "  prom_peak           pval       celltype FDR       padj.Bonferroni FDR.BY\n",
       "1 1:10002866-10003720 0.08365895 alpha    0.1542908 1               1     "
      ]
     },
     "metadata": {},
     "output_type": "display_data"
    },
    {
     "data": {
      "text/html": [
       "<table>\n",
       "<caption>A data.frame: 1 × 6</caption>\n",
       "<thead>\n",
       "\t<tr><th scope=col>prom_peak</th><th scope=col>pval</th><th scope=col>celltype</th><th scope=col>FDR</th><th scope=col>padj.Bonferroni</th><th scope=col>FDR.BY</th></tr>\n",
       "\t<tr><th scope=col>&lt;chr&gt;</th><th scope=col>&lt;dbl&gt;</th><th scope=col>&lt;chr&gt;</th><th scope=col>&lt;dbl&gt;</th><th scope=col>&lt;dbl&gt;</th><th scope=col>&lt;dbl&gt;</th></tr>\n",
       "</thead>\n",
       "<tbody>\n",
       "\t<tr><td>1:10002866-10003720</td><td>0.410729</td><td>beta</td><td>0.4897207</td><td>1</td><td>1</td></tr>\n",
       "</tbody>\n",
       "</table>\n"
      ],
      "text/latex": [
       "A data.frame: 1 × 6\n",
       "\\begin{tabular}{r|llllll}\n",
       " prom\\_peak & pval & celltype & FDR & padj.Bonferroni & FDR.BY\\\\\n",
       " <chr> & <dbl> & <chr> & <dbl> & <dbl> & <dbl>\\\\\n",
       "\\hline\n",
       "\t 1:10002866-10003720 & 0.410729 & beta & 0.4897207 & 1 & 1\\\\\n",
       "\\end{tabular}\n"
      ],
      "text/markdown": [
       "\n",
       "A data.frame: 1 × 6\n",
       "\n",
       "| prom_peak &lt;chr&gt; | pval &lt;dbl&gt; | celltype &lt;chr&gt; | FDR &lt;dbl&gt; | padj.Bonferroni &lt;dbl&gt; | FDR.BY &lt;dbl&gt; |\n",
       "|---|---|---|---|---|---|\n",
       "| 1:10002866-10003720 | 0.410729 | beta | 0.4897207 | 1 | 1 |\n",
       "\n"
      ],
      "text/plain": [
       "  prom_peak           pval     celltype FDR       padj.Bonferroni FDR.BY\n",
       "1 1:10002866-10003720 0.410729 beta     0.4897207 1               1     "
      ]
     },
     "metadata": {},
     "output_type": "display_data"
    },
    {
     "data": {
      "text/html": [
       "<table>\n",
       "<caption>A data.frame: 1 × 6</caption>\n",
       "<thead>\n",
       "\t<tr><th scope=col>prom_peak</th><th scope=col>pval</th><th scope=col>celltype</th><th scope=col>FDR</th><th scope=col>padj.Bonferroni</th><th scope=col>FDR.BY</th></tr>\n",
       "\t<tr><th scope=col>&lt;chr&gt;</th><th scope=col>&lt;dbl&gt;</th><th scope=col>&lt;chr&gt;</th><th scope=col>&lt;dbl&gt;</th><th scope=col>&lt;dbl&gt;</th><th scope=col>&lt;dbl&gt;</th></tr>\n",
       "</thead>\n",
       "<tbody>\n",
       "\t<tr><td>1:10002866-10003720</td><td>0.0953964</td><td>delta</td><td>0.2856767</td><td>1</td><td>1</td></tr>\n",
       "</tbody>\n",
       "</table>\n"
      ],
      "text/latex": [
       "A data.frame: 1 × 6\n",
       "\\begin{tabular}{r|llllll}\n",
       " prom\\_peak & pval & celltype & FDR & padj.Bonferroni & FDR.BY\\\\\n",
       " <chr> & <dbl> & <chr> & <dbl> & <dbl> & <dbl>\\\\\n",
       "\\hline\n",
       "\t 1:10002866-10003720 & 0.0953964 & delta & 0.2856767 & 1 & 1\\\\\n",
       "\\end{tabular}\n"
      ],
      "text/markdown": [
       "\n",
       "A data.frame: 1 × 6\n",
       "\n",
       "| prom_peak &lt;chr&gt; | pval &lt;dbl&gt; | celltype &lt;chr&gt; | FDR &lt;dbl&gt; | padj.Bonferroni &lt;dbl&gt; | FDR.BY &lt;dbl&gt; |\n",
       "|---|---|---|---|---|---|\n",
       "| 1:10002866-10003720 | 0.0953964 | delta | 0.2856767 | 1 | 1 |\n",
       "\n"
      ],
      "text/plain": [
       "  prom_peak           pval      celltype FDR       padj.Bonferroni FDR.BY\n",
       "1 1:10002866-10003720 0.0953964 delta    0.2856767 1               1     "
      ]
     },
     "metadata": {},
     "output_type": "display_data"
    }
   ],
   "source": [
    "# adjust for p value\n",
    "m <- c(\"fdr\", \"bonferroni\", \"BY\")\n",
    "names(m) <- c(\"FDR\", \"padj.Bonferroni\", \"FDR.BY\")\n",
    "res.transcript_level.2 <- do.call(rbind, lapply(c(\"alpha\", \"beta\", \"delta\"), function(ct) {\n",
    "    res.genes_level.a.df <- res.transcript_level %>% filter(celltype == ct) %>% select(prom_peak, \n",
    "        pval, celltype) %>% distinct %>% as.data.frame\n",
    "    res.genes_level.a.df %>% nrow %>% print\n",
    "    \n",
    "    for (i in 1:3) {\n",
    "        res.genes_level.a.df[[names(m)[i]]] <- p.adjust(as.numeric(res.genes_level.a.df$pval), \n",
    "            method = m[i])\n",
    "    }\n",
    "    res.genes_level.a.df\n",
    "}))\n",
    "head(res.transcript_level.2, 1)\n",
    "head(res.transcript_level.2 %>% filter(celltype == \"beta\"), 1)\n",
    "head(res.transcript_level.2 %>% filter(celltype == \"delta\"), 1)"
   ]
  },
  {
   "cell_type": "code",
   "execution_count": 11,
   "metadata": {
    "hidden": true
   },
   "outputs": [
    {
     "data": {
      "text/html": [
       "60782"
      ],
      "text/latex": [
       "60782"
      ],
      "text/markdown": [
       "60782"
      ],
      "text/plain": [
       "[1] 60782"
      ]
     },
     "metadata": {},
     "output_type": "display_data"
    },
    {
     "data": {
      "text/html": [
       "55462"
      ],
      "text/latex": [
       "55462"
      ],
      "text/markdown": [
       "55462"
      ],
      "text/plain": [
       "[1] 55462"
      ]
     },
     "metadata": {},
     "output_type": "display_data"
    },
    {
     "name": "stderr",
     "output_type": "stream",
     "text": [
      "Joining, by = c(\"prom_peak\", \"pval\", \"celltype\")\n"
     ]
    },
    {
     "data": {
      "text/html": [
       "<table>\n",
       "<caption>A data.frame: 1 × 10</caption>\n",
       "<thead>\n",
       "\t<tr><th scope=col>prom_peak</th><th scope=col>pval</th><th scope=col>odds</th><th scope=col>type1_frac</th><th scope=col>type2_frac</th><th scope=col>celltype</th><th scope=col>gene</th><th scope=col>FDR</th><th scope=col>padj.Bonferroni</th><th scope=col>FDR.BY</th></tr>\n",
       "\t<tr><th scope=col>&lt;chr&gt;</th><th scope=col>&lt;dbl&gt;</th><th scope=col>&lt;dbl&gt;</th><th scope=col>&lt;dbl&gt;</th><th scope=col>&lt;dbl&gt;</th><th scope=col>&lt;chr&gt;</th><th scope=col>&lt;chr&gt;</th><th scope=col>&lt;dbl&gt;</th><th scope=col>&lt;dbl&gt;</th><th scope=col>&lt;dbl&gt;</th></tr>\n",
       "</thead>\n",
       "<tbody>\n",
       "\t<tr><td>1:10002866-10003720</td><td>0.08365895</td><td>0.8138749</td><td>0.05374687</td><td>0.06523856</td><td>alpha</td><td>LZIC</td><td>0.1542908</td><td>1</td><td>1</td></tr>\n",
       "</tbody>\n",
       "</table>\n"
      ],
      "text/latex": [
       "A data.frame: 1 × 10\n",
       "\\begin{tabular}{r|llllllllll}\n",
       " prom\\_peak & pval & odds & type1\\_frac & type2\\_frac & celltype & gene & FDR & padj.Bonferroni & FDR.BY\\\\\n",
       " <chr> & <dbl> & <dbl> & <dbl> & <dbl> & <chr> & <chr> & <dbl> & <dbl> & <dbl>\\\\\n",
       "\\hline\n",
       "\t 1:10002866-10003720 & 0.08365895 & 0.8138749 & 0.05374687 & 0.06523856 & alpha & LZIC & 0.1542908 & 1 & 1\\\\\n",
       "\\end{tabular}\n"
      ],
      "text/markdown": [
       "\n",
       "A data.frame: 1 × 10\n",
       "\n",
       "| prom_peak &lt;chr&gt; | pval &lt;dbl&gt; | odds &lt;dbl&gt; | type1_frac &lt;dbl&gt; | type2_frac &lt;dbl&gt; | celltype &lt;chr&gt; | gene &lt;chr&gt; | FDR &lt;dbl&gt; | padj.Bonferroni &lt;dbl&gt; | FDR.BY &lt;dbl&gt; |\n",
       "|---|---|---|---|---|---|---|---|---|---|\n",
       "| 1:10002866-10003720 | 0.08365895 | 0.8138749 | 0.05374687 | 0.06523856 | alpha | LZIC | 0.1542908 | 1 | 1 |\n",
       "\n"
      ],
      "text/plain": [
       "  prom_peak           pval       odds      type1_frac type2_frac celltype gene\n",
       "1 1:10002866-10003720 0.08365895 0.8138749 0.05374687 0.06523856 alpha    LZIC\n",
       "  FDR       padj.Bonferroni FDR.BY\n",
       "1 0.1542908 1               1     "
      ]
     },
     "metadata": {},
     "output_type": "display_data"
    },
    {
     "name": "stderr",
     "output_type": "stream",
     "text": [
      "Joining, by = c(\"prom_peak\", \"pval\", \"celltype\")\n"
     ]
    },
    {
     "data": {
      "text/html": [
       "60782"
      ],
      "text/latex": [
       "60782"
      ],
      "text/markdown": [
       "60782"
      ],
      "text/plain": [
       "[1] 60782"
      ]
     },
     "metadata": {},
     "output_type": "display_data"
    },
    {
     "name": "stderr",
     "output_type": "stream",
     "text": [
      "Joining, by = c(\"prom_peak\", \"pval\", \"celltype\")\n"
     ]
    }
   ],
   "source": [
    "res.transcript_level %>% nrow\n",
    "res.transcript_level.2 %>% nrow\n",
    "res.transcript_level %>% left_join(res.transcript_level.2) %>% head(1)\n",
    "res.transcript_level %>% left_join(res.transcript_level.2) %>% nrow\n",
    "res.transcript_level <- res.transcript_level %>% left_join(res.transcript_level.2) %>% \n",
    "    select(prom_peak, gene, celltype, type1_frac, type2_frac, odds, pval, FDR, padj.Bonferroni, \n",
    "        FDR.BY)\n",
    "fwrite(res.transcript_level, file = \"../figures/Fig2/subfigs/fig_2.prom.sub_vs_sub.fisher.csv\")"
   ]
  },
  {
   "cell_type": "markdown",
   "metadata": {},
   "source": [
    "### 3.4 padj again after filtering peaks only present in peak calling for the tested cell types"
   ]
  },
  {
   "cell_type": "code",
   "execution_count": 5,
   "metadata": {},
   "outputs": [
    {
     "data": {
      "text/html": [
       "<table>\n",
       "<caption>A data.table: 1 × 10</caption>\n",
       "<thead>\n",
       "\t<tr><th scope=col>prom_peak</th><th scope=col>gene</th><th scope=col>celltype</th><th scope=col>type1_frac</th><th scope=col>type2_frac</th><th scope=col>odds</th><th scope=col>pval</th><th scope=col>FDR</th><th scope=col>padj.Bonferroni</th><th scope=col>FDR.BY</th></tr>\n",
       "\t<tr><th scope=col>&lt;chr&gt;</th><th scope=col>&lt;chr&gt;</th><th scope=col>&lt;chr&gt;</th><th scope=col>&lt;dbl&gt;</th><th scope=col>&lt;dbl&gt;</th><th scope=col>&lt;dbl&gt;</th><th scope=col>&lt;dbl&gt;</th><th scope=col>&lt;dbl&gt;</th><th scope=col>&lt;dbl&gt;</th><th scope=col>&lt;dbl&gt;</th></tr>\n",
       "</thead>\n",
       "<tbody>\n",
       "\t<tr><td>1:10002866-10003720</td><td>LZIC</td><td>alpha</td><td>0.05374687</td><td>0.06523856</td><td>0.8138749</td><td>0.08365895</td><td>0.1429331</td><td>1</td><td>1</td></tr>\n",
       "</tbody>\n",
       "</table>\n"
      ],
      "text/latex": [
       "A data.table: 1 × 10\n",
       "\\begin{tabular}{r|llllllllll}\n",
       " prom\\_peak & gene & celltype & type1\\_frac & type2\\_frac & odds & pval & FDR & padj.Bonferroni & FDR.BY\\\\\n",
       " <chr> & <chr> & <chr> & <dbl> & <dbl> & <dbl> & <dbl> & <dbl> & <dbl> & <dbl>\\\\\n",
       "\\hline\n",
       "\t 1:10002866-10003720 & LZIC & alpha & 0.05374687 & 0.06523856 & 0.8138749 & 0.08365895 & 0.1429331 & 1 & 1\\\\\n",
       "\\end{tabular}\n"
      ],
      "text/markdown": [
       "\n",
       "A data.table: 1 × 10\n",
       "\n",
       "| prom_peak &lt;chr&gt; | gene &lt;chr&gt; | celltype &lt;chr&gt; | type1_frac &lt;dbl&gt; | type2_frac &lt;dbl&gt; | odds &lt;dbl&gt; | pval &lt;dbl&gt; | FDR &lt;dbl&gt; | padj.Bonferroni &lt;dbl&gt; | FDR.BY &lt;dbl&gt; |\n",
       "|---|---|---|---|---|---|---|---|---|---|\n",
       "| 1:10002866-10003720 | LZIC | alpha | 0.05374687 | 0.06523856 | 0.8138749 | 0.08365895 | 0.1429331 | 1 | 1 |\n",
       "\n"
      ],
      "text/plain": [
       "  prom_peak           gene celltype type1_frac type2_frac odds      pval      \n",
       "1 1:10002866-10003720 LZIC alpha    0.05374687 0.06523856 0.8138749 0.08365895\n",
       "  FDR       padj.Bonferroni FDR.BY\n",
       "1 0.1429331 1               1     "
      ]
     },
     "metadata": {},
     "output_type": "display_data"
    },
    {
     "data": {
      "text/html": [
       "53645"
      ],
      "text/latex": [
       "53645"
      ],
      "text/markdown": [
       "53645"
      ],
      "text/plain": [
       "[1] 53645"
      ]
     },
     "metadata": {},
     "output_type": "display_data"
    }
   ],
   "source": [
    "res.transcript_level<-fread(\"../figures/Fig2/subfigs/fig_2.prom.sub_vs_sub.fisher.csv\")\n",
    "res.transcript_level%>%head(1)\n",
    "res.transcript_level%>%nrow"
   ]
  },
  {
   "cell_type": "code",
   "execution_count": 12,
   "metadata": {},
   "outputs": [
    {
     "data": {
      "text/html": [
       "<table>\n",
       "<caption>A data.table: 1 × 10</caption>\n",
       "<thead>\n",
       "\t<tr><th scope=col>prom_peak</th><th scope=col>gene</th><th scope=col>celltype</th><th scope=col>type1_frac</th><th scope=col>type2_frac</th><th scope=col>odds</th><th scope=col>pval</th><th scope=col>FDR</th><th scope=col>padj.Bonferroni</th><th scope=col>FDR.BY</th></tr>\n",
       "\t<tr><th scope=col>&lt;chr&gt;</th><th scope=col>&lt;chr&gt;</th><th scope=col>&lt;chr&gt;</th><th scope=col>&lt;dbl&gt;</th><th scope=col>&lt;dbl&gt;</th><th scope=col>&lt;dbl&gt;</th><th scope=col>&lt;dbl&gt;</th><th scope=col>&lt;dbl&gt;</th><th scope=col>&lt;dbl&gt;</th><th scope=col>&lt;dbl&gt;</th></tr>\n",
       "</thead>\n",
       "<tbody>\n",
       "\t<tr><td>1:10002866-10003720</td><td>LZIC</td><td>alpha</td><td>0.05374687</td><td>0.06523856</td><td>0.8138749</td><td>0.08365895</td><td>0.1429331</td><td>1</td><td>1</td></tr>\n",
       "</tbody>\n",
       "</table>\n"
      ],
      "text/latex": [
       "A data.table: 1 × 10\n",
       "\\begin{tabular}{r|llllllllll}\n",
       " prom\\_peak & gene & celltype & type1\\_frac & type2\\_frac & odds & pval & FDR & padj.Bonferroni & FDR.BY\\\\\n",
       " <chr> & <chr> & <chr> & <dbl> & <dbl> & <dbl> & <dbl> & <dbl> & <dbl> & <dbl>\\\\\n",
       "\\hline\n",
       "\t 1:10002866-10003720 & LZIC & alpha & 0.05374687 & 0.06523856 & 0.8138749 & 0.08365895 & 0.1429331 & 1 & 1\\\\\n",
       "\\end{tabular}\n"
      ],
      "text/markdown": [
       "\n",
       "A data.table: 1 × 10\n",
       "\n",
       "| prom_peak &lt;chr&gt; | gene &lt;chr&gt; | celltype &lt;chr&gt; | type1_frac &lt;dbl&gt; | type2_frac &lt;dbl&gt; | odds &lt;dbl&gt; | pval &lt;dbl&gt; | FDR &lt;dbl&gt; | padj.Bonferroni &lt;dbl&gt; | FDR.BY &lt;dbl&gt; |\n",
       "|---|---|---|---|---|---|---|---|---|---|\n",
       "| 1:10002866-10003720 | LZIC | alpha | 0.05374687 | 0.06523856 | 0.8138749 | 0.08365895 | 0.1429331 | 1 | 1 |\n",
       "\n"
      ],
      "text/plain": [
       "  prom_peak           gene celltype type1_frac type2_frac odds      pval      \n",
       "1 1:10002866-10003720 LZIC alpha    0.05374687 0.06523856 0.8138749 0.08365895\n",
       "  FDR       padj.Bonferroni FDR.BY\n",
       "1 0.1429331 1               1     "
      ]
     },
     "metadata": {},
     "output_type": "display_data"
    },
    {
     "data": {
      "text/html": [
       "53645"
      ],
      "text/latex": [
       "53645"
      ],
      "text/markdown": [
       "53645"
      ],
      "text/plain": [
       "[1] 53645"
      ]
     },
     "metadata": {},
     "output_type": "display_data"
    },
    {
     "data": {
      "text/html": [
       "14552"
      ],
      "text/latex": [
       "14552"
      ],
      "text/markdown": [
       "14552"
      ],
      "text/plain": [
       "[1] 14552"
      ]
     },
     "metadata": {},
     "output_type": "display_data"
    }
   ],
   "source": [
    "res.transcript_level<-fread(\"../figures/Fig2/subfigs/fig_2.prom.sub_vs_sub.fisher.csv\")\n",
    "res.transcript_level%>%head(1)\n",
    "res.transcript_level%>%nrow\n",
    "res.transcript_level%>%filter(celltype=='delta')%>%pull(prom_peak)%>%unique%>%length"
   ]
  },
  {
   "cell_type": "code",
   "execution_count": 10,
   "metadata": {},
   "outputs": [
    {
     "data": {
      "text/html": [
       "<table>\n",
       "<caption>A data.frame: 1 × 2</caption>\n",
       "<thead>\n",
       "\t<tr><th scope=col>prom_peak</th><th scope=col>V4</th></tr>\n",
       "\t<tr><th scope=col>&lt;chr&gt;</th><th scope=col>&lt;chr&gt;</th></tr>\n",
       "</thead>\n",
       "<tbody>\n",
       "\t<tr><td>1:858933-860557</td><td>alpha_1,alpha_2,beta_1,beta_2,endothelial,stellate</td></tr>\n",
       "</tbody>\n",
       "</table>\n"
      ],
      "text/latex": [
       "A data.frame: 1 × 2\n",
       "\\begin{tabular}{r|ll}\n",
       " prom\\_peak & V4\\\\\n",
       " <chr> & <chr>\\\\\n",
       "\\hline\n",
       "\t 1:858933-860557 & alpha\\_1,alpha\\_2,beta\\_1,beta\\_2,endothelial,stellate\\\\\n",
       "\\end{tabular}\n"
      ],
      "text/markdown": [
       "\n",
       "A data.frame: 1 × 2\n",
       "\n",
       "| prom_peak &lt;chr&gt; | V4 &lt;chr&gt; |\n",
       "|---|---|\n",
       "| 1:858933-860557 | alpha_1,alpha_2,beta_1,beta_2,endothelial,stellate |\n",
       "\n"
      ],
      "text/plain": [
       "  prom_peak       V4                                                \n",
       "1 1:858933-860557 alpha_1,alpha_2,beta_1,beta_2,endothelial,stellate"
      ]
     },
     "metadata": {},
     "output_type": "display_data"
    },
    {
     "data": {
      "text/html": [
       "<table>\n",
       "<caption>A data.frame: 1 × 2</caption>\n",
       "<thead>\n",
       "\t<tr><th scope=col>prom_peak</th><th scope=col>V4</th></tr>\n",
       "\t<tr><th scope=col>&lt;chr&gt;</th><th scope=col>&lt;chr&gt;</th></tr>\n",
       "</thead>\n",
       "<tbody>\n",
       "\t<tr><td>1:894409-895129</td><td>alpha_1,alpha_2,beta_1,beta_2,delta_1,delta_2,endothelial,gamma,stellate</td></tr>\n",
       "</tbody>\n",
       "</table>\n"
      ],
      "text/latex": [
       "A data.frame: 1 × 2\n",
       "\\begin{tabular}{r|ll}\n",
       " prom\\_peak & V4\\\\\n",
       " <chr> & <chr>\\\\\n",
       "\\hline\n",
       "\t 1:894409-895129 & alpha\\_1,alpha\\_2,beta\\_1,beta\\_2,delta\\_1,delta\\_2,endothelial,gamma,stellate\\\\\n",
       "\\end{tabular}\n"
      ],
      "text/markdown": [
       "\n",
       "A data.frame: 1 × 2\n",
       "\n",
       "| prom_peak &lt;chr&gt; | V4 &lt;chr&gt; |\n",
       "|---|---|\n",
       "| 1:894409-895129 | alpha_1,alpha_2,beta_1,beta_2,delta_1,delta_2,endothelial,gamma,stellate |\n",
       "\n"
      ],
      "text/plain": [
       "  prom_peak      \n",
       "1 1:894409-895129\n",
       "  V4                                                                      \n",
       "1 alpha_1,alpha_2,beta_1,beta_2,delta_1,delta_2,endothelial,gamma,stellate"
      ]
     },
     "metadata": {},
     "output_type": "display_data"
    },
    {
     "data": {
      "text/html": [
       "<table>\n",
       "<caption>A data.frame: 1 × 2</caption>\n",
       "<thead>\n",
       "\t<tr><th></th><th scope=col>prom_peak</th><th scope=col>V4</th></tr>\n",
       "\t<tr><th></th><th scope=col>&lt;chr&gt;</th><th scope=col>&lt;chr&gt;</th></tr>\n",
       "</thead>\n",
       "<tbody>\n",
       "\t<tr><th scope=row>14552</th><td>Y:22736918-22738079</td><td>acinar,alpha_1,alpha_2,beta_1,beta_2,delta_1,delta_2,endothelial,gamma,immune,stellate</td></tr>\n",
       "</tbody>\n",
       "</table>\n"
      ],
      "text/latex": [
       "A data.frame: 1 × 2\n",
       "\\begin{tabular}{r|ll}\n",
       "  & prom\\_peak & V4\\\\\n",
       "  & <chr> & <chr>\\\\\n",
       "\\hline\n",
       "\t14552 & Y:22736918-22738079 & acinar,alpha\\_1,alpha\\_2,beta\\_1,beta\\_2,delta\\_1,delta\\_2,endothelial,gamma,immune,stellate\\\\\n",
       "\\end{tabular}\n"
      ],
      "text/markdown": [
       "\n",
       "A data.frame: 1 × 2\n",
       "\n",
       "| <!--/--> | prom_peak &lt;chr&gt; | V4 &lt;chr&gt; |\n",
       "|---|---|---|\n",
       "| 14552 | Y:22736918-22738079 | acinar,alpha_1,alpha_2,beta_1,beta_2,delta_1,delta_2,endothelial,gamma,immune,stellate |\n",
       "\n"
      ],
      "text/plain": [
       "      prom_peak          \n",
       "14552 Y:22736918-22738079\n",
       "      V4                                                                                    \n",
       "14552 acinar,alpha_1,alpha_2,beta_1,beta_2,delta_1,delta_2,endothelial,gamma,immune,stellate"
      ]
     },
     "metadata": {},
     "output_type": "display_data"
    },
    {
     "data": {
      "text/html": [
       "14552"
      ],
      "text/latex": [
       "14552"
      ],
      "text/markdown": [
       "14552"
      ],
      "text/plain": [
       "[1] 14552"
      ]
     },
     "metadata": {},
     "output_type": "display_data"
    },
    {
     "data": {
      "text/html": [
       "14552"
      ],
      "text/latex": [
       "14552"
      ],
      "text/markdown": [
       "14552"
      ],
      "text/plain": [
       "[1] 14552"
      ]
     },
     "metadata": {},
     "output_type": "display_data"
    }
   ],
   "source": [
    "## double check if Only chose the peaks that found in cell types for delta\n",
    "res.peak%>%head(1)\n",
    "res.peak%>%filter(grepl('delta',V4))%>%head(1)\n",
    "res.peak%>%filter(grepl('delta',V4))%>%tail(1)\n",
    "res.peak%>%filter(grepl('delta',V4))%>%distinct%>%nrow\n",
    "res.peak%>%filter(grepl('delta',V4))%>%pull(prom_peak)%>%unique%>%length"
   ]
  },
  {
   "cell_type": "code",
   "execution_count": 6,
   "metadata": {},
   "outputs": [
    {
     "data": {
      "text/html": [
       "<table>\n",
       "<caption>A data.table: 1 × 4</caption>\n",
       "<thead>\n",
       "\t<tr><th scope=col>V1</th><th scope=col>V2</th><th scope=col>V3</th><th scope=col>V4</th></tr>\n",
       "\t<tr><th scope=col>&lt;chr&gt;</th><th scope=col>&lt;int&gt;</th><th scope=col>&lt;int&gt;</th><th scope=col>&lt;chr&gt;</th></tr>\n",
       "</thead>\n",
       "<tbody>\n",
       "\t<tr><td>chr1</td><td>752578</td><td>752778</td><td>endothelial</td></tr>\n",
       "</tbody>\n",
       "</table>\n"
      ],
      "text/latex": [
       "A data.table: 1 × 4\n",
       "\\begin{tabular}{r|llll}\n",
       " V1 & V2 & V3 & V4\\\\\n",
       " <chr> & <int> & <int> & <chr>\\\\\n",
       "\\hline\n",
       "\t chr1 & 752578 & 752778 & endothelial\\\\\n",
       "\\end{tabular}\n"
      ],
      "text/markdown": [
       "\n",
       "A data.table: 1 × 4\n",
       "\n",
       "| V1 &lt;chr&gt; | V2 &lt;int&gt; | V3 &lt;int&gt; | V4 &lt;chr&gt; |\n",
       "|---|---|---|---|\n",
       "| chr1 | 752578 | 752778 | endothelial |\n",
       "\n"
      ],
      "text/plain": [
       "  V1   V2     V3     V4         \n",
       "1 chr1 752578 752778 endothelial"
      ]
     },
     "metadata": {},
     "output_type": "display_data"
    },
    {
     "data": {
      "text/html": [
       "228873"
      ],
      "text/latex": [
       "228873"
      ],
      "text/markdown": [
       "228873"
      ],
      "text/plain": [
       "[1] 228873"
      ]
     },
     "metadata": {},
     "output_type": "display_data"
    },
    {
     "data": {
      "text/html": [
       "<ol class=list-inline>\n",
       "\t<li>18085</li>\n",
       "\t<li>5</li>\n",
       "</ol>\n"
      ],
      "text/latex": [
       "\\begin{enumerate*}\n",
       "\\item 18085\n",
       "\\item 5\n",
       "\\end{enumerate*}\n"
      ],
      "text/markdown": [
       "1. 18085\n",
       "2. 5\n",
       "\n",
       "\n"
      ],
      "text/plain": [
       "[1] 18085     5"
      ]
     },
     "metadata": {},
     "output_type": "display_data"
    },
    {
     "data": {
      "text/html": [
       "<table>\n",
       "<caption>A data.frame: 1 × 2</caption>\n",
       "<thead>\n",
       "\t<tr><th scope=col>prom_peak</th><th scope=col>V4</th></tr>\n",
       "\t<tr><th scope=col>&lt;chr&gt;</th><th scope=col>&lt;chr&gt;</th></tr>\n",
       "</thead>\n",
       "<tbody>\n",
       "\t<tr><td>1:858933-860557</td><td>alpha_1,alpha_2,beta_1,beta_2,endothelial,stellate</td></tr>\n",
       "</tbody>\n",
       "</table>\n"
      ],
      "text/latex": [
       "A data.frame: 1 × 2\n",
       "\\begin{tabular}{r|ll}\n",
       " prom\\_peak & V4\\\\\n",
       " <chr> & <chr>\\\\\n",
       "\\hline\n",
       "\t 1:858933-860557 & alpha\\_1,alpha\\_2,beta\\_1,beta\\_2,endothelial,stellate\\\\\n",
       "\\end{tabular}\n"
      ],
      "text/markdown": [
       "\n",
       "A data.frame: 1 × 2\n",
       "\n",
       "| prom_peak &lt;chr&gt; | V4 &lt;chr&gt; |\n",
       "|---|---|\n",
       "| 1:858933-860557 | alpha_1,alpha_2,beta_1,beta_2,endothelial,stellate |\n",
       "\n"
      ],
      "text/plain": [
       "  prom_peak       V4                                                \n",
       "1 1:858933-860557 alpha_1,alpha_2,beta_1,beta_2,endothelial,stellate"
      ]
     },
     "metadata": {},
     "output_type": "display_data"
    }
   ],
   "source": [
    "res.peak <- fread(\"../dat/1910_v2/islet.merged_peaks.anno.bed\")\n",
    "res.peak %>% head(1)\n",
    "res.peak %>% nrow\n",
    "res.peak  %>% mutate(V1 = sub(\"chr\", \"\", V1)) %>% mutate(prom_peak = paste0(V1, \n",
    "    \":\", V2, \"-\", V3))%>%filter(prom_peak %in% res.transcript_level$prom_peak)%>%dim\n",
    "res.peak<- res.peak  %>% mutate(V1 = sub(\"chr\", \"\", V1)) %>% mutate(prom_peak = paste0(V1, \n",
    "    \":\", V2, \"-\", V3))%>%filter(prom_peak %in% res.transcript_level$prom_peak)%>%select(prom_peak,V4)\n",
    "res.peak%>%head(1)\n"
   ]
  },
  {
   "cell_type": "code",
   "execution_count": 30,
   "metadata": {},
   "outputs": [
    {
     "name": "stdout",
     "output_type": "stream",
     "text": [
      "[1] 18808\n",
      "[1] 17022\n",
      "[1] 18818\n",
      "[1] 16927\n",
      "[1] 17836\n",
      "[1] 14552\n"
     ]
    },
    {
     "data": {
      "text/html": [
       "<table>\n",
       "<caption>A data.frame: 1 × 6</caption>\n",
       "<thead>\n",
       "\t<tr><th scope=col>prom_peak</th><th scope=col>pval</th><th scope=col>celltype</th><th scope=col>FDR</th><th scope=col>padj.Bonferroni</th><th scope=col>FDR.BY</th></tr>\n",
       "\t<tr><th scope=col>&lt;chr&gt;</th><th scope=col>&lt;dbl&gt;</th><th scope=col>&lt;chr&gt;</th><th scope=col>&lt;dbl&gt;</th><th scope=col>&lt;dbl&gt;</th><th scope=col>&lt;dbl&gt;</th></tr>\n",
       "</thead>\n",
       "<tbody>\n",
       "\t<tr><td>1:10002866-10003720</td><td>0.08365895</td><td>alpha</td><td>0.1429331</td><td>1</td><td>1</td></tr>\n",
       "</tbody>\n",
       "</table>\n"
      ],
      "text/latex": [
       "A data.frame: 1 × 6\n",
       "\\begin{tabular}{r|llllll}\n",
       " prom\\_peak & pval & celltype & FDR & padj.Bonferroni & FDR.BY\\\\\n",
       " <chr> & <dbl> & <chr> & <dbl> & <dbl> & <dbl>\\\\\n",
       "\\hline\n",
       "\t 1:10002866-10003720 & 0.08365895 & alpha & 0.1429331 & 1 & 1\\\\\n",
       "\\end{tabular}\n"
      ],
      "text/markdown": [
       "\n",
       "A data.frame: 1 × 6\n",
       "\n",
       "| prom_peak &lt;chr&gt; | pval &lt;dbl&gt; | celltype &lt;chr&gt; | FDR &lt;dbl&gt; | padj.Bonferroni &lt;dbl&gt; | FDR.BY &lt;dbl&gt; |\n",
       "|---|---|---|---|---|---|\n",
       "| 1:10002866-10003720 | 0.08365895 | alpha | 0.1429331 | 1 | 1 |\n",
       "\n"
      ],
      "text/plain": [
       "  prom_peak           pval       celltype FDR       padj.Bonferroni FDR.BY\n",
       "1 1:10002866-10003720 0.08365895 alpha    0.1429331 1               1     "
      ]
     },
     "metadata": {},
     "output_type": "display_data"
    },
    {
     "data": {
      "text/html": [
       "<table>\n",
       "<caption>A data.frame: 1 × 6</caption>\n",
       "<thead>\n",
       "\t<tr><th scope=col>prom_peak</th><th scope=col>pval</th><th scope=col>celltype</th><th scope=col>FDR</th><th scope=col>padj.Bonferroni</th><th scope=col>FDR.BY</th></tr>\n",
       "\t<tr><th scope=col>&lt;chr&gt;</th><th scope=col>&lt;dbl&gt;</th><th scope=col>&lt;chr&gt;</th><th scope=col>&lt;dbl&gt;</th><th scope=col>&lt;dbl&gt;</th><th scope=col>&lt;dbl&gt;</th></tr>\n",
       "</thead>\n",
       "<tbody>\n",
       "\t<tr><td>1:10002866-10003720</td><td>0.410729</td><td>beta</td><td>0.4732717</td><td>1</td><td>1</td></tr>\n",
       "</tbody>\n",
       "</table>\n"
      ],
      "text/latex": [
       "A data.frame: 1 × 6\n",
       "\\begin{tabular}{r|llllll}\n",
       " prom\\_peak & pval & celltype & FDR & padj.Bonferroni & FDR.BY\\\\\n",
       " <chr> & <dbl> & <chr> & <dbl> & <dbl> & <dbl>\\\\\n",
       "\\hline\n",
       "\t 1:10002866-10003720 & 0.410729 & beta & 0.4732717 & 1 & 1\\\\\n",
       "\\end{tabular}\n"
      ],
      "text/markdown": [
       "\n",
       "A data.frame: 1 × 6\n",
       "\n",
       "| prom_peak &lt;chr&gt; | pval &lt;dbl&gt; | celltype &lt;chr&gt; | FDR &lt;dbl&gt; | padj.Bonferroni &lt;dbl&gt; | FDR.BY &lt;dbl&gt; |\n",
       "|---|---|---|---|---|---|\n",
       "| 1:10002866-10003720 | 0.410729 | beta | 0.4732717 | 1 | 1 |\n",
       "\n"
      ],
      "text/plain": [
       "  prom_peak           pval     celltype FDR       padj.Bonferroni FDR.BY\n",
       "1 1:10002866-10003720 0.410729 beta     0.4732717 1               1     "
      ]
     },
     "metadata": {},
     "output_type": "display_data"
    },
    {
     "data": {
      "text/html": [
       "<table>\n",
       "<caption>A data.frame: 1 × 6</caption>\n",
       "<thead>\n",
       "\t<tr><th scope=col>prom_peak</th><th scope=col>pval</th><th scope=col>celltype</th><th scope=col>FDR</th><th scope=col>padj.Bonferroni</th><th scope=col>FDR.BY</th></tr>\n",
       "\t<tr><th scope=col>&lt;chr&gt;</th><th scope=col>&lt;dbl&gt;</th><th scope=col>&lt;chr&gt;</th><th scope=col>&lt;dbl&gt;</th><th scope=col>&lt;dbl&gt;</th><th scope=col>&lt;dbl&gt;</th></tr>\n",
       "</thead>\n",
       "<tbody>\n",
       "\t<tr><td>1:10002866-10003720</td><td>0.0953964</td><td>delta</td><td>0.2429061</td><td>1</td><td>1</td></tr>\n",
       "</tbody>\n",
       "</table>\n"
      ],
      "text/latex": [
       "A data.frame: 1 × 6\n",
       "\\begin{tabular}{r|llllll}\n",
       " prom\\_peak & pval & celltype & FDR & padj.Bonferroni & FDR.BY\\\\\n",
       " <chr> & <dbl> & <chr> & <dbl> & <dbl> & <dbl>\\\\\n",
       "\\hline\n",
       "\t 1:10002866-10003720 & 0.0953964 & delta & 0.2429061 & 1 & 1\\\\\n",
       "\\end{tabular}\n"
      ],
      "text/markdown": [
       "\n",
       "A data.frame: 1 × 6\n",
       "\n",
       "| prom_peak &lt;chr&gt; | pval &lt;dbl&gt; | celltype &lt;chr&gt; | FDR &lt;dbl&gt; | padj.Bonferroni &lt;dbl&gt; | FDR.BY &lt;dbl&gt; |\n",
       "|---|---|---|---|---|---|\n",
       "| 1:10002866-10003720 | 0.0953964 | delta | 0.2429061 | 1 | 1 |\n",
       "\n"
      ],
      "text/plain": [
       "  prom_peak           pval      celltype FDR       padj.Bonferroni FDR.BY\n",
       "1 1:10002866-10003720 0.0953964 delta    0.2429061 1               1     "
      ]
     },
     "metadata": {},
     "output_type": "display_data"
    }
   ],
   "source": [
    "# adjust for p value\n",
    "m <- c(\"fdr\", \"bonferroni\", \"BY\")\n",
    "names(m) <- c(\"FDR\", \"padj.Bonferroni\", \"FDR.BY\")\n",
    "res.transcript_level.2 <- do.call(rbind, lapply(c(\"alpha\", \"beta\", \"delta\"), function(ct) {\n",
    "    # ct <- 'alpha'\n",
    "    res.genes_level.a.df <- res.transcript_level %>% filter(celltype == ct) %>% select(prom_peak, \n",
    "        pval, celltype) %>% distinct %>% as.data.frame\n",
    "    res.genes_level.a.df %>% nrow %>% print\n",
    "    res.genes_level.a.df <- res.genes_level.a.df %>% filter(prom_peak %in% (res.peak %>% \n",
    "        filter(grepl(ct, V4)) %>% pull(prom_peak)))\n",
    "    res.genes_level.a.df %>% nrow %>% print\n",
    "    \n",
    "    for (i in 1:3) {\n",
    "        res.genes_level.a.df[[names(m)[i]]] <- p.adjust(as.numeric(res.genes_level.a.df$pval), \n",
    "            method = m[i])\n",
    "    }\n",
    "    res.genes_level.a.df\n",
    "}))\n",
    "head(res.transcript_level.2, 1)\n",
    "head(res.transcript_level.2 %>% filter(celltype == \"beta\"), 1)\n",
    "head(res.transcript_level.2 %>% filter(celltype == \"delta\"), 1)"
   ]
  },
  {
   "cell_type": "code",
   "execution_count": 45,
   "metadata": {},
   "outputs": [
    {
     "data": {
      "text/html": [
       "60782"
      ],
      "text/latex": [
       "60782"
      ],
      "text/markdown": [
       "60782"
      ],
      "text/plain": [
       "[1] 60782"
      ]
     },
     "metadata": {},
     "output_type": "display_data"
    },
    {
     "data": {
      "text/html": [
       "48501"
      ],
      "text/latex": [
       "48501"
      ],
      "text/markdown": [
       "48501"
      ],
      "text/plain": [
       "[1] 48501"
      ]
     },
     "metadata": {},
     "output_type": "display_data"
    },
    {
     "data": {
      "text/html": [
       "<table>\n",
       "<caption>A data.table: 1 × 10</caption>\n",
       "<thead>\n",
       "\t<tr><th scope=col>prom_peak</th><th scope=col>gene</th><th scope=col>celltype</th><th scope=col>type1_frac</th><th scope=col>type2_frac</th><th scope=col>odds</th><th scope=col>pval</th><th scope=col>FDR</th><th scope=col>padj.Bonferroni</th><th scope=col>FDR.BY</th></tr>\n",
       "\t<tr><th scope=col>&lt;chr&gt;</th><th scope=col>&lt;chr&gt;</th><th scope=col>&lt;chr&gt;</th><th scope=col>&lt;dbl&gt;</th><th scope=col>&lt;dbl&gt;</th><th scope=col>&lt;dbl&gt;</th><th scope=col>&lt;dbl&gt;</th><th scope=col>&lt;dbl&gt;</th><th scope=col>&lt;dbl&gt;</th><th scope=col>&lt;dbl&gt;</th></tr>\n",
       "</thead>\n",
       "<tbody>\n",
       "\t<tr><td>1:10002866-10003720</td><td>LZIC</td><td>alpha</td><td>0.05374687</td><td>0.06523856</td><td>0.8138749</td><td>0.08365895</td><td>0.1542908</td><td>1</td><td>1</td></tr>\n",
       "</tbody>\n",
       "</table>\n"
      ],
      "text/latex": [
       "A data.table: 1 × 10\n",
       "\\begin{tabular}{r|llllllllll}\n",
       " prom\\_peak & gene & celltype & type1\\_frac & type2\\_frac & odds & pval & FDR & padj.Bonferroni & FDR.BY\\\\\n",
       " <chr> & <chr> & <chr> & <dbl> & <dbl> & <dbl> & <dbl> & <dbl> & <dbl> & <dbl>\\\\\n",
       "\\hline\n",
       "\t 1:10002866-10003720 & LZIC & alpha & 0.05374687 & 0.06523856 & 0.8138749 & 0.08365895 & 0.1542908 & 1 & 1\\\\\n",
       "\\end{tabular}\n"
      ],
      "text/markdown": [
       "\n",
       "A data.table: 1 × 10\n",
       "\n",
       "| prom_peak &lt;chr&gt; | gene &lt;chr&gt; | celltype &lt;chr&gt; | type1_frac &lt;dbl&gt; | type2_frac &lt;dbl&gt; | odds &lt;dbl&gt; | pval &lt;dbl&gt; | FDR &lt;dbl&gt; | padj.Bonferroni &lt;dbl&gt; | FDR.BY &lt;dbl&gt; |\n",
       "|---|---|---|---|---|---|---|---|---|---|\n",
       "| 1:10002866-10003720 | LZIC | alpha | 0.05374687 | 0.06523856 | 0.8138749 | 0.08365895 | 0.1542908 | 1 | 1 |\n",
       "\n"
      ],
      "text/plain": [
       "  prom_peak           gene celltype type1_frac type2_frac odds      pval      \n",
       "1 1:10002866-10003720 LZIC alpha    0.05374687 0.06523856 0.8138749 0.08365895\n",
       "  FDR       padj.Bonferroni FDR.BY\n",
       "1 0.1542908 1               1     "
      ]
     },
     "metadata": {},
     "output_type": "display_data"
    },
    {
     "name": "stderr",
     "output_type": "stream",
     "text": [
      "Joining, by = c(\"prom_peak\", \"celltype\")\n"
     ]
    },
    {
     "data": {
      "text/html": [
       "48501"
      ],
      "text/latex": [
       "48501"
      ],
      "text/markdown": [
       "48501"
      ],
      "text/plain": [
       "[1] 48501"
      ]
     },
     "metadata": {},
     "output_type": "display_data"
    },
    {
     "name": "stderr",
     "output_type": "stream",
     "text": [
      "Joining, by = c(\"prom_peak\", \"celltype\")\n"
     ]
    },
    {
     "data": {
      "text/html": [
       "<table>\n",
       "<caption>A data.frame: 1 × 9</caption>\n",
       "<thead>\n",
       "\t<tr><th scope=col>prom_peak</th><th scope=col>pval</th><th scope=col>celltype</th><th scope=col>FDR</th><th scope=col>padj.Bonferroni</th><th scope=col>FDR.BY</th><th scope=col>type1_frac</th><th scope=col>type2_frac</th><th scope=col>odds</th></tr>\n",
       "\t<tr><th scope=col>&lt;chr&gt;</th><th scope=col>&lt;dbl&gt;</th><th scope=col>&lt;chr&gt;</th><th scope=col>&lt;dbl&gt;</th><th scope=col>&lt;dbl&gt;</th><th scope=col>&lt;dbl&gt;</th><th scope=col>&lt;dbl&gt;</th><th scope=col>&lt;dbl&gt;</th><th scope=col>&lt;dbl&gt;</th></tr>\n",
       "</thead>\n",
       "<tbody>\n",
       "\t<tr><td>1:10002866-10003720</td><td>0.08365895</td><td>alpha</td><td>0.1429331</td><td>1</td><td>1</td><td>0.05374687</td><td>0.06523856</td><td>0.8138749</td></tr>\n",
       "</tbody>\n",
       "</table>\n"
      ],
      "text/latex": [
       "A data.frame: 1 × 9\n",
       "\\begin{tabular}{r|lllllllll}\n",
       " prom\\_peak & pval & celltype & FDR & padj.Bonferroni & FDR.BY & type1\\_frac & type2\\_frac & odds\\\\\n",
       " <chr> & <dbl> & <chr> & <dbl> & <dbl> & <dbl> & <dbl> & <dbl> & <dbl>\\\\\n",
       "\\hline\n",
       "\t 1:10002866-10003720 & 0.08365895 & alpha & 0.1429331 & 1 & 1 & 0.05374687 & 0.06523856 & 0.8138749\\\\\n",
       "\\end{tabular}\n"
      ],
      "text/markdown": [
       "\n",
       "A data.frame: 1 × 9\n",
       "\n",
       "| prom_peak &lt;chr&gt; | pval &lt;dbl&gt; | celltype &lt;chr&gt; | FDR &lt;dbl&gt; | padj.Bonferroni &lt;dbl&gt; | FDR.BY &lt;dbl&gt; | type1_frac &lt;dbl&gt; | type2_frac &lt;dbl&gt; | odds &lt;dbl&gt; |\n",
       "|---|---|---|---|---|---|---|---|---|\n",
       "| 1:10002866-10003720 | 0.08365895 | alpha | 0.1429331 | 1 | 1 | 0.05374687 | 0.06523856 | 0.8138749 |\n",
       "\n"
      ],
      "text/plain": [
       "  prom_peak           pval       celltype FDR       padj.Bonferroni FDR.BY\n",
       "1 1:10002866-10003720 0.08365895 alpha    0.1429331 1               1     \n",
       "  type1_frac type2_frac odds     \n",
       "1 0.05374687 0.06523856 0.8138749"
      ]
     },
     "metadata": {},
     "output_type": "display_data"
    },
    {
     "name": "stderr",
     "output_type": "stream",
     "text": [
      "Joining, by = c(\"prom_peak\", \"celltype\")\n"
     ]
    },
    {
     "data": {
      "text/html": [
       "53645"
      ],
      "text/latex": [
       "53645"
      ],
      "text/markdown": [
       "53645"
      ],
      "text/plain": [
       "[1] 53645"
      ]
     },
     "metadata": {},
     "output_type": "display_data"
    },
    {
     "name": "stderr",
     "output_type": "stream",
     "text": [
      "Joining, by = c(\"prom_peak\", \"celltype\")\n"
     ]
    },
    {
     "data": {
      "text/html": [
       "<table>\n",
       "<caption>A data.frame: 1 × 10</caption>\n",
       "<thead>\n",
       "\t<tr><th scope=col>prom_peak</th><th scope=col>pval</th><th scope=col>celltype</th><th scope=col>FDR</th><th scope=col>padj.Bonferroni</th><th scope=col>FDR.BY</th><th scope=col>type1_frac</th><th scope=col>type2_frac</th><th scope=col>gene</th><th scope=col>odds</th></tr>\n",
       "\t<tr><th scope=col>&lt;chr&gt;</th><th scope=col>&lt;dbl&gt;</th><th scope=col>&lt;chr&gt;</th><th scope=col>&lt;dbl&gt;</th><th scope=col>&lt;dbl&gt;</th><th scope=col>&lt;dbl&gt;</th><th scope=col>&lt;dbl&gt;</th><th scope=col>&lt;dbl&gt;</th><th scope=col>&lt;chr&gt;</th><th scope=col>&lt;dbl&gt;</th></tr>\n",
       "</thead>\n",
       "<tbody>\n",
       "\t<tr><td>1:10002866-10003720</td><td>0.08365895</td><td>alpha</td><td>0.1429331</td><td>1</td><td>1</td><td>0.05374687</td><td>0.06523856</td><td>LZIC</td><td>0.8138749</td></tr>\n",
       "</tbody>\n",
       "</table>\n"
      ],
      "text/latex": [
       "A data.frame: 1 × 10\n",
       "\\begin{tabular}{r|llllllllll}\n",
       " prom\\_peak & pval & celltype & FDR & padj.Bonferroni & FDR.BY & type1\\_frac & type2\\_frac & gene & odds\\\\\n",
       " <chr> & <dbl> & <chr> & <dbl> & <dbl> & <dbl> & <dbl> & <dbl> & <chr> & <dbl>\\\\\n",
       "\\hline\n",
       "\t 1:10002866-10003720 & 0.08365895 & alpha & 0.1429331 & 1 & 1 & 0.05374687 & 0.06523856 & LZIC & 0.8138749\\\\\n",
       "\\end{tabular}\n"
      ],
      "text/markdown": [
       "\n",
       "A data.frame: 1 × 10\n",
       "\n",
       "| prom_peak &lt;chr&gt; | pval &lt;dbl&gt; | celltype &lt;chr&gt; | FDR &lt;dbl&gt; | padj.Bonferroni &lt;dbl&gt; | FDR.BY &lt;dbl&gt; | type1_frac &lt;dbl&gt; | type2_frac &lt;dbl&gt; | gene &lt;chr&gt; | odds &lt;dbl&gt; |\n",
       "|---|---|---|---|---|---|---|---|---|---|\n",
       "| 1:10002866-10003720 | 0.08365895 | alpha | 0.1429331 | 1 | 1 | 0.05374687 | 0.06523856 | LZIC | 0.8138749 |\n",
       "\n"
      ],
      "text/plain": [
       "  prom_peak           pval       celltype FDR       padj.Bonferroni FDR.BY\n",
       "1 1:10002866-10003720 0.08365895 alpha    0.1429331 1               1     \n",
       "  type1_frac type2_frac gene odds     \n",
       "1 0.05374687 0.06523856 LZIC 0.8138749"
      ]
     },
     "metadata": {},
     "output_type": "display_data"
    },
    {
     "name": "stderr",
     "output_type": "stream",
     "text": [
      "Joining, by = c(\"prom_peak\", \"celltype\")\n"
     ]
    },
    {
     "data": {
      "text/html": [
       "<table>\n",
       "<caption>A data.frame: 1 × 10</caption>\n",
       "<thead>\n",
       "\t<tr><th scope=col>prom_peak</th><th scope=col>gene</th><th scope=col>celltype</th><th scope=col>type1_frac</th><th scope=col>type2_frac</th><th scope=col>odds</th><th scope=col>pval</th><th scope=col>FDR</th><th scope=col>padj.Bonferroni</th><th scope=col>FDR.BY</th></tr>\n",
       "\t<tr><th scope=col>&lt;chr&gt;</th><th scope=col>&lt;chr&gt;</th><th scope=col>&lt;chr&gt;</th><th scope=col>&lt;dbl&gt;</th><th scope=col>&lt;dbl&gt;</th><th scope=col>&lt;dbl&gt;</th><th scope=col>&lt;dbl&gt;</th><th scope=col>&lt;dbl&gt;</th><th scope=col>&lt;dbl&gt;</th><th scope=col>&lt;dbl&gt;</th></tr>\n",
       "</thead>\n",
       "<tbody>\n",
       "\t<tr><td>1:10002866-10003720</td><td>LZIC</td><td>alpha</td><td>0.05374687</td><td>0.06523856</td><td>0.8138749</td><td>0.08365895</td><td>0.1429331</td><td>1</td><td>1</td></tr>\n",
       "</tbody>\n",
       "</table>\n"
      ],
      "text/latex": [
       "A data.frame: 1 × 10\n",
       "\\begin{tabular}{r|llllllllll}\n",
       " prom\\_peak & gene & celltype & type1\\_frac & type2\\_frac & odds & pval & FDR & padj.Bonferroni & FDR.BY\\\\\n",
       " <chr> & <chr> & <chr> & <dbl> & <dbl> & <dbl> & <dbl> & <dbl> & <dbl> & <dbl>\\\\\n",
       "\\hline\n",
       "\t 1:10002866-10003720 & LZIC & alpha & 0.05374687 & 0.06523856 & 0.8138749 & 0.08365895 & 0.1429331 & 1 & 1\\\\\n",
       "\\end{tabular}\n"
      ],
      "text/markdown": [
       "\n",
       "A data.frame: 1 × 10\n",
       "\n",
       "| prom_peak &lt;chr&gt; | gene &lt;chr&gt; | celltype &lt;chr&gt; | type1_frac &lt;dbl&gt; | type2_frac &lt;dbl&gt; | odds &lt;dbl&gt; | pval &lt;dbl&gt; | FDR &lt;dbl&gt; | padj.Bonferroni &lt;dbl&gt; | FDR.BY &lt;dbl&gt; |\n",
       "|---|---|---|---|---|---|---|---|---|---|\n",
       "| 1:10002866-10003720 | LZIC | alpha | 0.05374687 | 0.06523856 | 0.8138749 | 0.08365895 | 0.1429331 | 1 | 1 |\n",
       "\n"
      ],
      "text/plain": [
       "  prom_peak           gene celltype type1_frac type2_frac odds      pval      \n",
       "1 1:10002866-10003720 LZIC alpha    0.05374687 0.06523856 0.8138749 0.08365895\n",
       "  FDR       padj.Bonferroni FDR.BY\n",
       "1 0.1429331 1               1     "
      ]
     },
     "metadata": {},
     "output_type": "display_data"
    },
    {
     "name": "stderr",
     "output_type": "stream",
     "text": [
      "Joining, by = c(\"prom_peak\", \"celltype\")\n"
     ]
    }
   ],
   "source": [
    "res.transcript_level %>% nrow\n",
    "res.transcript_level.2 %>% nrow\n",
    "res.transcript_level %>% head(1)\n",
    "res.transcript_level.2 %>% left_join(res.transcript_level %>% select(prom_peak, celltype, \n",
    "    type1_frac, type2_frac, odds) %>% distinct) %>% nrow\n",
    "res.transcript_level.2 %>% left_join(res.transcript_level %>% select(prom_peak, celltype, \n",
    "    type1_frac, type2_frac, odds) %>% distinct) %>% head(1)\n",
    "\n",
    "res.transcript_level.2 %>% left_join(res.transcript_level %>% select(prom_peak, celltype, \n",
    "    type1_frac, type2_frac, gene, odds) %>% distinct) %>% nrow\n",
    "\n",
    "res.transcript_level.2 %>% left_join(res.transcript_level %>% select(prom_peak, celltype, \n",
    "    type1_frac, type2_frac, gene, odds) %>% distinct) %>% head(1)\n",
    "\n",
    "\n",
    "res.transcript_level.2 %>% left_join(res.transcript_level %>% select(prom_peak, celltype, \n",
    "    type1_frac, type2_frac, gene, odds) %>% distinct) %>% select(prom_peak, gene, \n",
    "    celltype, type1_frac, type2_frac, odds, pval, FDR, padj.Bonferroni, FDR.BY) %>% \n",
    "    head(1)\n",
    "\n",
    "res.transcript_level <- res.transcript_level.2 %>% left_join(res.transcript_level %>% \n",
    "    select(prom_peak, celltype, type1_frac, type2_frac, gene, odds) %>% distinct) %>% \n",
    "    select(prom_peak, gene, celltype, type1_frac, type2_frac, odds, pval, FDR, padj.Bonferroni, \n",
    "        FDR.BY)\n",
    "\n",
    "fwrite(res.transcript_level, file = \"../figures/Fig2/subfigs/fig_2.prom.sub_vs_sub.fisher.csv\")"
   ]
  },
  {
   "cell_type": "code",
   "execution_count": null,
   "metadata": {},
   "outputs": [],
   "source": []
  }
 ],
 "metadata": {
  "kernelspec": {
   "display_name": "R",
   "language": "R",
   "name": "ir"
  },
  "language_info": {
   "codemirror_mode": "r",
   "file_extension": ".r",
   "mimetype": "text/x-r-source",
   "name": "R",
   "pygments_lexer": "r",
   "version": "3.5.1"
  }
 },
 "nbformat": 4,
 "nbformat_minor": 2
}
