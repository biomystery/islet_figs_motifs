{
 "cells": [
  {
   "cell_type": "code",
   "execution_count": 2,
   "metadata": {},
   "outputs": [],
   "source": [
    "require(data.table)\n",
    "require(tidyverse)"
   ]
  },
  {
   "cell_type": "markdown",
   "metadata": {},
   "source": [
    "## 1. Read data "
   ]
  },
  {
   "cell_type": "code",
   "execution_count": 12,
   "metadata": {},
   "outputs": [
    {
     "data": {
      "text/html": [
       "<ol class=list-inline>\n",
       "\t<li>18758757</li>\n",
       "\t<li>7</li>\n",
       "</ol>\n"
      ],
      "text/latex": [
       "\\begin{enumerate*}\n",
       "\\item 18758757\n",
       "\\item 7\n",
       "\\end{enumerate*}\n"
      ],
      "text/markdown": [
       "1. 18758757\n",
       "2. 7\n",
       "\n",
       "\n"
      ],
      "text/plain": [
       "[1] 18758757        7"
      ]
     },
     "metadata": {},
     "output_type": "display_data"
    },
    {
     "data": {
      "text/html": [
       "<table>\n",
       "<thead><tr><th scope=col>seq</th><th scope=col>start</th><th scope=col>end</th><th scope=col>cell</th><th scope=col>value</th><th scope=col>tr.idx</th><th scope=col>gene</th></tr></thead>\n",
       "<tbody>\n",
       "\t<tr><td>chr10                                    </td><td>100027284                                </td><td>100028604                                </td><td>Islet1fresh_AGACACCTAAGAGGCAGCGTAAGAAGGCG</td><td>2                                        </td><td>9209                                     </td><td>LOXL4                                    </td></tr>\n",
       "\t<tr><td>chr10                                    </td><td>100027284                                </td><td>100028604                                </td><td>Islet1fresh_AGACACCTACTCGCTAGTAAGGAGCAGGA</td><td>2                                        </td><td>9209                                     </td><td>LOXL4                                    </td></tr>\n",
       "\t<tr><td>chr10                                    </td><td>100027284                                </td><td>100028604                                </td><td>Islet1fresh_AGACACCTACTGAGCGATCTGAGTGTACT</td><td>2                                        </td><td>9209                                     </td><td>LOXL4                                    </td></tr>\n",
       "\t<tr><td>chr10                                    </td><td>100027284                                </td><td>100028604                                </td><td>Islet1fresh_AGACACCTATCTCAGGTATCCTCTCCTAT</td><td>2                                        </td><td>9209                                     </td><td>LOXL4                                    </td></tr>\n",
       "\t<tr><td>chr10                                    </td><td>100027284                                </td><td>100028604                                </td><td>Islet1fresh_AGACACCTATGCGCAGAAGGAGTAGTACT</td><td>1                                        </td><td>9209                                     </td><td>LOXL4                                    </td></tr>\n",
       "\t<tr><td>chr10                                    </td><td>100027284                                </td><td>100028604                                </td><td>Islet1fresh_AGACACCTCGAGGCTGCTCTCTATGGTTG</td><td>2                                        </td><td>9209                                     </td><td>LOXL4                                    </td></tr>\n",
       "</tbody>\n",
       "</table>\n"
      ],
      "text/latex": [
       "\\begin{tabular}{r|lllllll}\n",
       " seq & start & end & cell & value & tr.idx & gene\\\\\n",
       "\\hline\n",
       "\t chr10                                       & 100027284                                   & 100028604                                   & Islet1fresh\\_AGACACCTAAGAGGCAGCGTAAGAAGGCG & 2                                           & 9209                                        & LOXL4                                      \\\\\n",
       "\t chr10                                       & 100027284                                   & 100028604                                   & Islet1fresh\\_AGACACCTACTCGCTAGTAAGGAGCAGGA & 2                                           & 9209                                        & LOXL4                                      \\\\\n",
       "\t chr10                                       & 100027284                                   & 100028604                                   & Islet1fresh\\_AGACACCTACTGAGCGATCTGAGTGTACT & 2                                           & 9209                                        & LOXL4                                      \\\\\n",
       "\t chr10                                       & 100027284                                   & 100028604                                   & Islet1fresh\\_AGACACCTATCTCAGGTATCCTCTCCTAT & 2                                           & 9209                                        & LOXL4                                      \\\\\n",
       "\t chr10                                       & 100027284                                   & 100028604                                   & Islet1fresh\\_AGACACCTATGCGCAGAAGGAGTAGTACT & 1                                           & 9209                                        & LOXL4                                      \\\\\n",
       "\t chr10                                       & 100027284                                   & 100028604                                   & Islet1fresh\\_AGACACCTCGAGGCTGCTCTCTATGGTTG & 2                                           & 9209                                        & LOXL4                                      \\\\\n",
       "\\end{tabular}\n"
      ],
      "text/markdown": [
       "\n",
       "seq | start | end | cell | value | tr.idx | gene | \n",
       "|---|---|---|---|---|---|\n",
       "| chr10                                     | 100027284                                 | 100028604                                 | Islet1fresh_AGACACCTAAGAGGCAGCGTAAGAAGGCG | 2                                         | 9209                                      | LOXL4                                     | \n",
       "| chr10                                     | 100027284                                 | 100028604                                 | Islet1fresh_AGACACCTACTCGCTAGTAAGGAGCAGGA | 2                                         | 9209                                      | LOXL4                                     | \n",
       "| chr10                                     | 100027284                                 | 100028604                                 | Islet1fresh_AGACACCTACTGAGCGATCTGAGTGTACT | 2                                         | 9209                                      | LOXL4                                     | \n",
       "| chr10                                     | 100027284                                 | 100028604                                 | Islet1fresh_AGACACCTATCTCAGGTATCCTCTCCTAT | 2                                         | 9209                                      | LOXL4                                     | \n",
       "| chr10                                     | 100027284                                 | 100028604                                 | Islet1fresh_AGACACCTATGCGCAGAAGGAGTAGTACT | 1                                         | 9209                                      | LOXL4                                     | \n",
       "| chr10                                     | 100027284                                 | 100028604                                 | Islet1fresh_AGACACCTCGAGGCTGCTCTCTATGGTTG | 2                                         | 9209                                      | LOXL4                                     | \n",
       "\n",
       "\n"
      ],
      "text/plain": [
       "  seq   start     end       cell                                      value\n",
       "1 chr10 100027284 100028604 Islet1fresh_AGACACCTAAGAGGCAGCGTAAGAAGGCG 2    \n",
       "2 chr10 100027284 100028604 Islet1fresh_AGACACCTACTCGCTAGTAAGGAGCAGGA 2    \n",
       "3 chr10 100027284 100028604 Islet1fresh_AGACACCTACTGAGCGATCTGAGTGTACT 2    \n",
       "4 chr10 100027284 100028604 Islet1fresh_AGACACCTATCTCAGGTATCCTCTCCTAT 2    \n",
       "5 chr10 100027284 100028604 Islet1fresh_AGACACCTATGCGCAGAAGGAGTAGTACT 1    \n",
       "6 chr10 100027284 100028604 Islet1fresh_AGACACCTCGAGGCTGCTCTCTATGGTTG 2    \n",
       "  tr.idx gene \n",
       "1 9209   LOXL4\n",
       "2 9209   LOXL4\n",
       "3 9209   LOXL4\n",
       "4 9209   LOXL4\n",
       "5 9209   LOXL4\n",
       "6 9209   LOXL4"
      ]
     },
     "metadata": {},
     "output_type": "display_data"
    }
   ],
   "source": [
    "dat.mat <- fread(\"../dat/1910_v2//long_matrix_w_transcripts.txt\") %>% filter(!is.na(tr.idx))\n",
    "dim(dat.mat)\n",
    "head(dat.mat)\n",
    "# dat.mat$cell <- NULL #no need cell id"
   ]
  },
  {
   "cell_type": "markdown",
   "metadata": {},
   "source": [
    " Concepts: \n",
    "1. `promoter region`: -500bp + 500bp for all TSS in gencode \n",
    "2. `promoter Peaks`: peaks that overlap promoter region"
   ]
  },
  {
   "cell_type": "code",
   "execution_count": 4,
   "metadata": {},
   "outputs": [
    {
     "data": {
      "text/plain": [
       "\n",
       "     acinar     alpha_1     alpha_2      beta_1      beta_2     delta_1 \n",
       "         46        5191        1027        4204        3394         478 \n",
       "    delta_2      ductal endothelial       gamma      immune    stellate \n",
       "        232          80         118         260         140         128 "
      ]
     },
     "metadata": {},
     "output_type": "display_data"
    },
    {
     "data": {
      "text/html": [
       "15298"
      ],
      "text/latex": [
       "15298"
      ],
      "text/markdown": [
       "15298"
      ],
      "text/plain": [
       "[1] 15298"
      ]
     },
     "metadata": {},
     "output_type": "display_data"
    },
    {
     "data": {
      "text/html": [
       "15298"
      ],
      "text/latex": [
       "15298"
      ],
      "text/markdown": [
       "15298"
      ],
      "text/plain": [
       "[1] 15298"
      ]
     },
     "metadata": {},
     "output_type": "display_data"
    }
   ],
   "source": [
    "# get all cells \n",
    "dat.all.cells <- table((fread('../dat/1910_v2/islet.cluster_labels.filt.txt'))$cluster) # table for all cells\n",
    "dat.all.cells\n",
    "sum(dat.all.cells)\n",
    "length(unique(dat.mat$cell))"
   ]
  },
  {
   "cell_type": "code",
   "execution_count": 13,
   "metadata": {},
   "outputs": [],
   "source": [
    "dat.mat<- dat.mat %>% left_join(fread(\"../dat/1910_v2/islet.cluster_labels.filt.txt\") %>% select(index, \n",
    "    cluster_name), by = c(cell = \"index\"))"
   ]
  },
  {
   "cell_type": "markdown",
   "metadata": {},
   "source": [
    "## 2 Prepare data"
   ]
  },
  {
   "cell_type": "code",
   "execution_count": 14,
   "metadata": {
    "scrolled": true
   },
   "outputs": [
    {
     "data": {
      "text/html": [
       "<table>\n",
       "<thead><tr><th scope=col>tr.idx</th><th scope=col>gene</th><th scope=col>cluster_name</th></tr></thead>\n",
       "<tbody>\n",
       "\t<tr><td>9209   </td><td>LOXL4  </td><td>alpha_1</td></tr>\n",
       "\t<tr><td>9209   </td><td>LOXL4  </td><td>alpha_1</td></tr>\n",
       "\t<tr><td>9209   </td><td>LOXL4  </td><td>beta_2 </td></tr>\n",
       "\t<tr><td>9209   </td><td>LOXL4  </td><td>alpha_1</td></tr>\n",
       "\t<tr><td>9209   </td><td>LOXL4  </td><td>alpha_1</td></tr>\n",
       "\t<tr><td>9209   </td><td>LOXL4  </td><td>alpha_1</td></tr>\n",
       "</tbody>\n",
       "</table>\n"
      ],
      "text/latex": [
       "\\begin{tabular}{r|lll}\n",
       " tr.idx & gene & cluster\\_name\\\\\n",
       "\\hline\n",
       "\t 9209      & LOXL4     & alpha\\_1\\\\\n",
       "\t 9209      & LOXL4     & alpha\\_1\\\\\n",
       "\t 9209      & LOXL4     & beta\\_2 \\\\\n",
       "\t 9209      & LOXL4     & alpha\\_1\\\\\n",
       "\t 9209      & LOXL4     & alpha\\_1\\\\\n",
       "\t 9209      & LOXL4     & alpha\\_1\\\\\n",
       "\\end{tabular}\n"
      ],
      "text/markdown": [
       "\n",
       "tr.idx | gene | cluster_name | \n",
       "|---|---|---|---|---|---|\n",
       "| 9209    | LOXL4   | alpha_1 | \n",
       "| 9209    | LOXL4   | alpha_1 | \n",
       "| 9209    | LOXL4   | beta_2  | \n",
       "| 9209    | LOXL4   | alpha_1 | \n",
       "| 9209    | LOXL4   | alpha_1 | \n",
       "| 9209    | LOXL4   | alpha_1 | \n",
       "\n",
       "\n"
      ],
      "text/plain": [
       "  tr.idx gene  cluster_name\n",
       "1 9209   LOXL4 alpha_1     \n",
       "2 9209   LOXL4 alpha_1     \n",
       "3 9209   LOXL4 beta_2      \n",
       "4 9209   LOXL4 alpha_1     \n",
       "5 9209   LOXL4 alpha_1     \n",
       "6 9209   LOXL4 alpha_1     "
      ]
     },
     "metadata": {},
     "output_type": "display_data"
    },
    {
     "data": {
      "text/html": [
       "<ol class=list-inline>\n",
       "\t<li>18723382</li>\n",
       "\t<li>3</li>\n",
       "</ol>\n"
      ],
      "text/latex": [
       "\\begin{enumerate*}\n",
       "\\item 18723382\n",
       "\\item 3\n",
       "\\end{enumerate*}\n"
      ],
      "text/markdown": [
       "1. 18723382\n",
       "2. 3\n",
       "\n",
       "\n"
      ],
      "text/plain": [
       "[1] 18723382        3"
      ]
     },
     "metadata": {},
     "output_type": "display_data"
    }
   ],
   "source": [
    "# prepare data\n",
    "dat.mat.transcript_level <- dat.mat%>%\n",
    "    select(-one_of(\"seq\",\"start\",\"end\",'value'))%>%\n",
    "    distinct()%>%\n",
    "    select(-cell)\n",
    "\n",
    "#    unite(\"gene_tr.idx\",c(\"gene\",\"transcript.idx\"),remove = T)\n",
    "head(dat.mat.transcript_level)\n",
    "dim(dat.mat.transcript_level)"
   ]
  },
  {
   "cell_type": "code",
   "execution_count": 15,
   "metadata": {
    "scrolled": true
   },
   "outputs": [
    {
     "name": "stdout",
     "output_type": "stream",
     "text": [
      "Check how rows changed:\n",
      "Before applying uniquness, # of rows:18758757\n",
      "After applying uniquness, # of rows:18723382\n"
     ]
    }
   ],
   "source": [
    "cat(\"Check how rows changed:\\n\") \n",
    "cat(sprintf(\"Before applying uniquness, # of rows:%d\\n\",nrow(dat.mat)))\n",
    "cat(sprintf(\"After applying uniquness, # of rows:%d\\n\",nrow(dat.mat.transcript_level)))"
   ]
  },
  {
   "cell_type": "markdown",
   "metadata": {},
   "source": [
    "### 2.1 Special cases: TSS too close to two genes\n",
    "\n",
    "- In this cases, the same peak may overlap with two genes' promoters\n",
    "- Note: `foverlap` results selected the 1st matches. "
   ]
  },
  {
   "cell_type": "code",
   "execution_count": 10,
   "metadata": {},
   "outputs": [
    {
     "data": {
      "text/html": [
       "<table>\n",
       "<thead><tr><th scope=col>gene</th><th scope=col>cluster</th><th scope=col>transcript.idx</th></tr></thead>\n",
       "<tbody>\n",
       "\t<tr><td>AASDHPPT</td><td>alpha_1 </td><td>4016    </td></tr>\n",
       "\t<tr><td>KBTBD3  </td><td>alpha_1 </td><td>4016    </td></tr>\n",
       "\t<tr><td>AASDHPPT</td><td>alpha_1 </td><td>4016    </td></tr>\n",
       "\t<tr><td>KBTBD3  </td><td>alpha_1 </td><td>4016    </td></tr>\n",
       "\t<tr><td>AASDHPPT</td><td>alpha_2 </td><td>4016    </td></tr>\n",
       "\t<tr><td>KBTBD3  </td><td>alpha_2 </td><td>4016    </td></tr>\n",
       "</tbody>\n",
       "</table>\n"
      ],
      "text/latex": [
       "\\begin{tabular}{r|lll}\n",
       " gene & cluster & transcript.idx\\\\\n",
       "\\hline\n",
       "\t AASDHPPT  & alpha\\_1 & 4016     \\\\\n",
       "\t KBTBD3    & alpha\\_1 & 4016     \\\\\n",
       "\t AASDHPPT  & alpha\\_1 & 4016     \\\\\n",
       "\t KBTBD3    & alpha\\_1 & 4016     \\\\\n",
       "\t AASDHPPT  & alpha\\_2 & 4016     \\\\\n",
       "\t KBTBD3    & alpha\\_2 & 4016     \\\\\n",
       "\\end{tabular}\n"
      ],
      "text/markdown": [
       "\n",
       "gene | cluster | transcript.idx | \n",
       "|---|---|---|---|---|---|\n",
       "| AASDHPPT | alpha_1  | 4016     | \n",
       "| KBTBD3   | alpha_1  | 4016     | \n",
       "| AASDHPPT | alpha_1  | 4016     | \n",
       "| KBTBD3   | alpha_1  | 4016     | \n",
       "| AASDHPPT | alpha_2  | 4016     | \n",
       "| KBTBD3   | alpha_2  | 4016     | \n",
       "\n",
       "\n"
      ],
      "text/plain": [
       "  gene     cluster transcript.idx\n",
       "1 AASDHPPT alpha_1 4016          \n",
       "2 KBTBD3   alpha_1 4016          \n",
       "3 AASDHPPT alpha_1 4016          \n",
       "4 KBTBD3   alpha_1 4016          \n",
       "5 AASDHPPT alpha_2 4016          \n",
       "6 KBTBD3   alpha_2 4016          "
      ]
     },
     "metadata": {},
     "output_type": "display_data"
    },
    {
     "name": "stdout",
     "output_type": "stream",
     "text": [
      "chr11\t105947325\t105948873\tAASDHPPT\n",
      "\n",
      "chr11\t105947325\t105948873\tKBTBD3"
     ]
    }
   ],
   "source": [
    "#fun.ftestPerGene(dat=dat.sub,tr = x)\n",
    "x <- 4016\n",
    "head(dat.mat.transcript_level%>% filter(transcript.idx==x))\n",
    "\n",
    "## sed -n 4015,4017p alpha.transcript_promoter_peaks.bed\n",
    "cat(\"chr11\t105947325\t105948873\tAASDHPPT\\n\n",
    "chr11\t105947325\t105948873\tKBTBD3\")"
   ]
  },
  {
   "cell_type": "code",
   "execution_count": 18,
   "metadata": {},
   "outputs": [
    {
     "data": {
      "text/html": [
       "<table>\n",
       "<thead><tr><th scope=col>tr.idx</th><th scope=col>gene</th></tr></thead>\n",
       "<tbody>\n",
       "</tbody>\n",
       "</table>\n"
      ],
      "text/latex": [
       "\\begin{tabular}{r|ll}\n",
       " tr.idx & gene\\\\\n",
       "\\hline\n",
       "\\end{tabular}\n"
      ],
      "text/markdown": [
       "\n",
       "tr.idx | gene | \n",
       "||\n",
       "\n",
       "\n"
      ],
      "text/plain": [
       "     tr.idx gene"
      ]
     },
     "metadata": {},
     "output_type": "display_data"
    },
    {
     "data": {
      "text/html": [
       "<table>\n",
       "<thead><tr><th scope=col>tr.idx</th><th scope=col>gene</th></tr></thead>\n",
       "<tbody>\n",
       "</tbody>\n",
       "</table>\n"
      ],
      "text/latex": [
       "\\begin{tabular}{r|ll}\n",
       " tr.idx & gene\\\\\n",
       "\\hline\n",
       "\\end{tabular}\n"
      ],
      "text/markdown": [
       "\n",
       "tr.idx | gene | \n",
       "||\n",
       "\n",
       "\n"
      ],
      "text/plain": [
       "     tr.idx gene"
      ]
     },
     "metadata": {},
     "output_type": "display_data"
    }
   ],
   "source": [
    "celltypes <- c('alpha_1','alpha_2')\n",
    "dat.sub <- dat.mat.transcript_level%>%\n",
    "    filter(cluster_name %in%celltypes)\n",
    "\n",
    "\n",
    "dat.sub.red <- dat.sub %>% select(-cluster_name)%>%group_by(tr.idx)%>% unique()\n",
    "setDT(dat.sub.red)\n",
    "idx <- which(duplicated(dat.sub.red,by = \"tr.idx\"))\n",
    "head(dat.sub.red[idx,])\n",
    "head(dat.sub.red[idx-1,])"
   ]
  },
  {
   "cell_type": "markdown",
   "metadata": {},
   "source": [
    "#####  In the above examples, each row is a peak "
   ]
  },
  {
   "cell_type": "markdown",
   "metadata": {},
   "source": [
    "#### 2.2.2 Handle these special cases by cat gene and tr.idx"
   ]
  },
  {
   "cell_type": "code",
   "execution_count": 19,
   "metadata": {
    "scrolled": true
   },
   "outputs": [
    {
     "data": {
      "text/html": [
       "<table>\n",
       "<thead><tr><th scope=col>gene_tr.idx</th><th scope=col>cluster_name</th></tr></thead>\n",
       "<tbody>\n",
       "\t<tr><td>LOXL4_9209</td><td>alpha_1   </td></tr>\n",
       "\t<tr><td>LOXL4_9209</td><td>alpha_1   </td></tr>\n",
       "\t<tr><td>LOXL4_9209</td><td>beta_2    </td></tr>\n",
       "\t<tr><td>LOXL4_9209</td><td>alpha_1   </td></tr>\n",
       "\t<tr><td>LOXL4_9209</td><td>alpha_1   </td></tr>\n",
       "\t<tr><td>LOXL4_9209</td><td>alpha_1   </td></tr>\n",
       "</tbody>\n",
       "</table>\n"
      ],
      "text/latex": [
       "\\begin{tabular}{r|ll}\n",
       " gene\\_tr.idx & cluster\\_name\\\\\n",
       "\\hline\n",
       "\t LOXL4\\_9209 & alpha\\_1   \\\\\n",
       "\t LOXL4\\_9209 & alpha\\_1   \\\\\n",
       "\t LOXL4\\_9209 & beta\\_2    \\\\\n",
       "\t LOXL4\\_9209 & alpha\\_1   \\\\\n",
       "\t LOXL4\\_9209 & alpha\\_1   \\\\\n",
       "\t LOXL4\\_9209 & alpha\\_1   \\\\\n",
       "\\end{tabular}\n"
      ],
      "text/markdown": [
       "\n",
       "gene_tr.idx | cluster_name | \n",
       "|---|---|---|---|---|---|\n",
       "| LOXL4_9209 | alpha_1    | \n",
       "| LOXL4_9209 | alpha_1    | \n",
       "| LOXL4_9209 | beta_2     | \n",
       "| LOXL4_9209 | alpha_1    | \n",
       "| LOXL4_9209 | alpha_1    | \n",
       "| LOXL4_9209 | alpha_1    | \n",
       "\n",
       "\n"
      ],
      "text/plain": [
       "  gene_tr.idx cluster_name\n",
       "1 LOXL4_9209  alpha_1     \n",
       "2 LOXL4_9209  alpha_1     \n",
       "3 LOXL4_9209  beta_2      \n",
       "4 LOXL4_9209  alpha_1     \n",
       "5 LOXL4_9209  alpha_1     \n",
       "6 LOXL4_9209  alpha_1     "
      ]
     },
     "metadata": {},
     "output_type": "display_data"
    }
   ],
   "source": [
    "dat.mat.transcript_level<-dat.mat.transcript_level%>%\n",
    "    unite(\"gene_tr.idx\",c(\"gene\",\"tr.idx\"),remove = T)\n",
    "head(dat.mat.transcript_level)"
   ]
  },
  {
   "cell_type": "markdown",
   "metadata": {},
   "source": [
    "## 3. Fisher's exact test at transcript level \n",
    "\n",
    "As long as there is any promoter peaks in that cell, the gene's promoter is open. \n",
    "\n",
    "1. get total alpha 1 and alpha 2 cells \n",
    "2. test hit in alpha1 vs hit in alpha2  (create contentigen table)\n",
    "3. perform [Fisher's exact test](https://en.wikipedia.org/wiki/Fisher%27s_exact_test) or [chi-squared test](https://en.wikipedia.org/wiki/Chi-squared_test)"
   ]
  },
  {
   "cell_type": "markdown",
   "metadata": {},
   "source": [
    "### 3.1 perform fisher's exact test for all transcripts"
   ]
  },
  {
   "cell_type": "code",
   "execution_count": 21,
   "metadata": {},
   "outputs": [
    {
     "name": "stdout",
     "output_type": "stream",
     "text": [
      "There are 18106 unique transcripts for alpha cells\n",
      "There are 18116 unique transcripts for beta cells\n",
      "There are 17257 unique transcripts for beta cells\n"
     ]
    }
   ],
   "source": [
    "cat(sprintf(\"There are %d unique transcripts for alpha cells\\n\",\n",
    "            length(unique((dat.mat.transcript_level%>%filter(cluster_name %in%c(\"alpha_1\",\"alpha_2\")))$gene_tr.idx))))\n",
    "cat(sprintf(\"There are %d unique transcripts for beta cells\\n\",\n",
    "            length(unique((dat.mat.transcript_level%>%filter(cluster_name %in%c(\"beta_1\",\"beta_2\")))$gene_tr.idx))))\n",
    "cat(sprintf(\"There are %d unique transcripts for delta cells\\n\",\n",
    "            length(unique((dat.mat.transcript_level%>%filter(cluster_name %in%c(\"delta_1\",\"delta_2\")))$gene_tr.idx))))"
   ]
  },
  {
   "cell_type": "code",
   "execution_count": 23,
   "metadata": {},
   "outputs": [
    {
     "data": {
      "text/html": [
       "<table>\n",
       "<thead><tr><th></th><th scope=col>alpha_1</th><th scope=col>alpha_2</th></tr></thead>\n",
       "<tbody>\n",
       "\t<tr><th scope=row>Yes</th><td> 391</td><td> 60 </td></tr>\n",
       "\t<tr><th scope=row>No</th><td>4800</td><td>967 </td></tr>\n",
       "</tbody>\n",
       "</table>\n"
      ],
      "text/latex": [
       "\\begin{tabular}{r|ll}\n",
       "  & alpha\\_1 & alpha\\_2\\\\\n",
       "\\hline\n",
       "\tYes &  391 &  60 \\\\\n",
       "\tNo & 4800 & 967 \\\\\n",
       "\\end{tabular}\n"
      ],
      "text/markdown": [
       "\n",
       "| <!--/--> | alpha_1 | alpha_2 | \n",
       "|---|---|\n",
       "| Yes |  391 |  60  | \n",
       "| No | 4800 | 967  | \n",
       "\n",
       "\n"
      ],
      "text/plain": [
       "         subtype\n",
       "expressed alpha_1 alpha_2\n",
       "      Yes  391     60    \n",
       "      No  4800    967    "
      ]
     },
     "metadata": {},
     "output_type": "display_data"
    },
    {
     "data": {
      "text/html": [
       "391"
      ],
      "text/latex": [
       "391"
      ],
      "text/markdown": [
       "391"
      ],
      "text/plain": [
       "[1] 391"
      ]
     },
     "metadata": {},
     "output_type": "display_data"
    },
    {
     "data": {
      "text/html": [
       "4800"
      ],
      "text/latex": [
       "4800"
      ],
      "text/markdown": [
       "4800"
      ],
      "text/plain": [
       "[1] 4800"
      ]
     },
     "metadata": {},
     "output_type": "display_data"
    },
    {
     "data": {
      "text/html": [
       "<dl>\n",
       "\t<dt>$pval</dt>\n",
       "\t\t<dd>0.0303565289640537</dd>\n",
       "\t<dt>$odds</dt>\n",
       "\t\t<dd><strong>odds ratio:</strong> 1.3127775460661</dd>\n",
       "\t<dt>$type1_frac</dt>\n",
       "\t\t<dd>0.0753226738586014</dd>\n",
       "\t<dt>$type2_frac</dt>\n",
       "\t\t<dd>0.0584225900681597</dd>\n",
       "</dl>\n"
      ],
      "text/latex": [
       "\\begin{description}\n",
       "\\item[\\$pval] 0.0303565289640537\n",
       "\\item[\\$odds] \\textbf{odds ratio:} 1.3127775460661\n",
       "\\item[\\$type1\\_frac] 0.0753226738586014\n",
       "\\item[\\$type2\\_frac] 0.0584225900681597\n",
       "\\end{description}\n"
      ],
      "text/markdown": [
       "$pval\n",
       ":   0.0303565289640537\n",
       "$odds\n",
       ":   **odds ratio:** 1.3127775460661\n",
       "$type1_frac\n",
       ":   0.0753226738586014\n",
       "$type2_frac\n",
       ":   0.0584225900681597\n",
       "\n",
       "\n"
      ],
      "text/plain": [
       "$pval\n",
       "[1] 0.03035653\n",
       "\n",
       "$odds\n",
       "odds ratio \n",
       "  1.312778 \n",
       "\n",
       "$type1_frac\n",
       "[1] 0.07532267\n",
       "\n",
       "$type2_frac\n",
       "[1] 0.05842259\n"
      ]
     },
     "metadata": {},
     "output_type": "display_data"
    },
    {
     "data": {
      "text/plain": [
       "\n",
       "\tFisher's Exact Test for Count Data\n",
       "\n",
       "data:  test.tab\n",
       "p-value = 0.05634\n",
       "alternative hypothesis: true odds ratio is not equal to 1\n",
       "95 percent confidence interval:\n",
       " 0.988697 1.768290\n",
       "sample estimates:\n",
       "odds ratio \n",
       "  1.312778 \n"
      ]
     },
     "metadata": {},
     "output_type": "display_data"
    }
   ],
   "source": [
    "tr='LOXL4_9209'\n",
    "celltypes <- c('alpha_1','alpha_2')\n",
    "dat.sub <- dat.mat.transcript_level%>%\n",
    "    filter(cluster_name %in%celltypes)\n",
    "\n",
    "\n",
    "    test.dat <- table((dat.sub%>% filter(gene_tr.idx==tr))$cluster)\n",
    "    table.res <- as.vector(test.dat)\n",
    "    names(table.res) <- names(test.dat)\n",
    "    # handle if 0 for one subtype \n",
    "    a=setdiff(celltypes,    names(table.res))\n",
    "    table.res[a]<-0\n",
    "    \n",
    "    test.tab <- matrix(c(table.res[celltypes[1]], table.res[celltypes[2]], \n",
    "                         dat.all.cells[celltypes[1]]-table.res[celltypes[1]], \n",
    "                         dat.all.cells[celltypes[2]]-table.res[celltypes[2]]),\n",
    "                       byrow =  T,       \n",
    "                       nrow = 2,\n",
    "                       dimnames = list(expressed = c(\"Yes\", \"No\"),\n",
    "                       subtype = celltypes))\n",
    "test.tab\n",
    "test.tab[1]\n",
    "test.tab[2]\n",
    "    f1<-test.tab[1]/(test.tab[1]+test.tab[2])\n",
    "    f2 <- test.tab[3]/(test.tab[3]+test.tab[4])\n",
    "    l <-ifelse(f1>f2,'greater','less')\n",
    "    test.res <- fisher.test(test.tab,alternative = l)\n",
    "    res <- list(pval=test.res$p.value,\n",
    "                odds=test.res$estimate,\n",
    "                type1_frac=f1,\n",
    "                type2_frac=f2\n",
    "               )\n",
    "    res\n",
    "\n",
    "fisher.test(test.tab)"
   ]
  },
  {
   "cell_type": "code",
   "execution_count": 26,
   "metadata": {},
   "outputs": [
    {
     "data": {
      "text/plain": [
       "   user  system elapsed \n",
       "  0.074   0.008   0.082 "
      ]
     },
     "metadata": {},
     "output_type": "display_data"
    },
    {
     "data": {
      "text/html": [
       "<dl>\n",
       "\t<dt>$pval</dt>\n",
       "\t\t<dd>0.0205373142192044</dd>\n",
       "\t<dt>$odds</dt>\n",
       "\t\t<dd><strong>odds ratio:</strong> 0.640048250157399</dd>\n",
       "\t<dt>$type1_frac</dt>\n",
       "\t\t<dd>0.0208052398381815</dd>\n",
       "\t<dt>$type2_frac</dt>\n",
       "\t\t<dd>0.0321324245374878</dd>\n",
       "</dl>\n"
      ],
      "text/latex": [
       "\\begin{description}\n",
       "\\item[\\$pval] 0.0205373142192044\n",
       "\\item[\\$odds] \\textbf{odds ratio:} 0.640048250157399\n",
       "\\item[\\$type1\\_frac] 0.0208052398381815\n",
       "\\item[\\$type2\\_frac] 0.0321324245374878\n",
       "\\end{description}\n"
      ],
      "text/markdown": [
       "$pval\n",
       ":   0.0205373142192044\n",
       "$odds\n",
       ":   **odds ratio:** 0.640048250157399\n",
       "$type1_frac\n",
       ":   0.0208052398381815\n",
       "$type2_frac\n",
       ":   0.0321324245374878\n",
       "\n",
       "\n"
      ],
      "text/plain": [
       "$pval\n",
       "[1] 0.02053731\n",
       "\n",
       "$odds\n",
       "odds ratio \n",
       " 0.6400483 \n",
       "\n",
       "$type1_frac\n",
       "[1] 0.02080524\n",
       "\n",
       "$type2_frac\n",
       "[1] 0.03213242\n"
      ]
     },
     "metadata": {},
     "output_type": "display_data"
    },
    {
     "data": {
      "text/plain": [
       "   user  system elapsed \n",
       "  0.054   0.002   0.057 "
      ]
     },
     "metadata": {},
     "output_type": "display_data"
    },
    {
     "data": {
      "text/html": [
       "<dl>\n",
       "\t<dt>$pval</dt>\n",
       "\t\t<dd>0.0205373142192044</dd>\n",
       "\t<dt>$odds</dt>\n",
       "\t\t<dd><strong>odds ratio:</strong> 0.640048250157399</dd>\n",
       "\t<dt>$type1_frac</dt>\n",
       "\t\t<dd>0.0208052398381815</dd>\n",
       "\t<dt>$type2_frac</dt>\n",
       "\t\t<dd>0.0321324245374878</dd>\n",
       "</dl>\n"
      ],
      "text/latex": [
       "\\begin{description}\n",
       "\\item[\\$pval] 0.0205373142192044\n",
       "\\item[\\$odds] \\textbf{odds ratio:} 0.640048250157399\n",
       "\\item[\\$type1\\_frac] 0.0208052398381815\n",
       "\\item[\\$type2\\_frac] 0.0321324245374878\n",
       "\\end{description}\n"
      ],
      "text/markdown": [
       "$pval\n",
       ":   0.0205373142192044\n",
       "$odds\n",
       ":   **odds ratio:** 0.640048250157399\n",
       "$type1_frac\n",
       ":   0.0208052398381815\n",
       "$type2_frac\n",
       ":   0.0321324245374878\n",
       "\n",
       "\n"
      ],
      "text/plain": [
       "$pval\n",
       "[1] 0.02053731\n",
       "\n",
       "$odds\n",
       "odds ratio \n",
       " 0.6400483 \n",
       "\n",
       "$type1_frac\n",
       "[1] 0.02080524\n",
       "\n",
       "$type2_frac\n",
       "[1] 0.03213242\n"
      ]
     },
     "metadata": {},
     "output_type": "display_data"
    }
   ],
   "source": [
    "fun.ftestPerTr <- function(  tr='SAMD11_7',#=1\n",
    "                             celltypes=c('alpha_1','alpha_2'),\n",
    "                             dat=dat.mat.transcript_level%>%\n",
    "                                  select(one_of(\"gene_tr.idx\",\"cluster_name\")%>%\n",
    "                                  filter(cluster_name %in%celltypes))){\n",
    "    \n",
    "\n",
    "    test.dat <- table((dat.sub%>% filter(gene_tr.idx==tr))$cluster)\n",
    "    table.res <- as.vector(test.dat)\n",
    "    names(table.res) <- names(test.dat)\n",
    "    # handle if 0 for one subtype \n",
    "    a=setdiff(celltypes,    names(table.res))\n",
    "    table.res[a]<-0\n",
    "    \n",
    "    test.tab <- matrix(c(table.res[celltypes[1]], table.res[celltypes[2]], \n",
    "                         dat.all.cells[celltypes[1]]-table.res[celltypes[1]], \n",
    "                         dat.all.cells[celltypes[2]]-table.res[celltypes[2]]),\n",
    "                       byrow =  T,       \n",
    "                       nrow = 2,\n",
    "                       dimnames = list(expressed = c(\"Yes\", \"No\"),\n",
    "                       subtype = celltypes))\n",
    "\n",
    "    f1<-test.tab[1]/(test.tab[1]+test.tab[2])\n",
    "    f2 <- test.tab[3]/(test.tab[3]+test.tab[4])\n",
    "    l <-ifelse(f1>f2,'greater','less')\n",
    "    test.res <- fisher.test(test.tab,alternative = l)\n",
    "    res <- list(pval=test.res$p.value,\n",
    "                odds=test.res$estimate,\n",
    "                type1_frac=f1,\n",
    "                type2_frac=f2\n",
    "               )\n",
    "    res\n",
    "}\n",
    "\n",
    "##\n",
    "\n",
    "celltypes <- c('alpha_1','alpha_2')\n",
    "dat.sub <- dat.mat.transcript_level%>%\n",
    "                           select(one_of(\"gene_tr.idx\",\"cluster_name\"))%>%\n",
    "                           filter(cluster_name %in%celltypes)\n",
    "#fun.ftestPerGene(dat = dat.sub,tr=1)\n",
    "system.time(fun.ftestPerTr(celltypes=celltypes))\n",
    "fun.ftestPerTr(celltypes=celltypes)\n",
    "system.time(fun.ftestPerTr(dat=dat.sub,celltypes=celltypes))  \n",
    "fun.ftestPerTr(dat=dat.sub,celltypes=celltypes)\n",
    "#all.tr <- unique(dat.sub$transcript.idx)\n",
    "#for(x in all.tr){\n",
    "#    fun.ftestPerGene(dat=dat.sub,tr = x)\n",
    "#}\n",
    "\n",
    "\n",
    "\n",
    "#fun.ftestPerGene(dat = dat.sub,tr=1)"
   ]
  },
  {
   "cell_type": "code",
   "execution_count": 27,
   "metadata": {},
   "outputs": [
    {
     "data": {
      "text/html": [
       "<dl>\n",
       "\t<dt>$pval</dt>\n",
       "\t\t<dd>0.039071858240831</dd>\n",
       "\t<dt>$odds</dt>\n",
       "\t\t<dd><strong>odds ratio:</strong> 1.23438682830209</dd>\n",
       "\t<dt>$type1_frac</dt>\n",
       "\t\t<dd>0.0461465271170314</dd>\n",
       "\t<dt>$type2_frac</dt>\n",
       "\t\t<dd>0.037713612256924</dd>\n",
       "</dl>\n"
      ],
      "text/latex": [
       "\\begin{description}\n",
       "\\item[\\$pval] 0.039071858240831\n",
       "\\item[\\$odds] \\textbf{odds ratio:} 1.23438682830209\n",
       "\\item[\\$type1\\_frac] 0.0461465271170314\n",
       "\\item[\\$type2\\_frac] 0.037713612256924\n",
       "\\end{description}\n"
      ],
      "text/markdown": [
       "$pval\n",
       ":   0.039071858240831\n",
       "$odds\n",
       ":   **odds ratio:** 1.23438682830209\n",
       "$type1_frac\n",
       ":   0.0461465271170314\n",
       "$type2_frac\n",
       ":   0.037713612256924\n",
       "\n",
       "\n"
      ],
      "text/plain": [
       "$pval\n",
       "[1] 0.03907186\n",
       "\n",
       "$odds\n",
       "odds ratio \n",
       "  1.234387 \n",
       "\n",
       "$type1_frac\n",
       "[1] 0.04614653\n",
       "\n",
       "$type2_frac\n",
       "[1] 0.03771361\n"
      ]
     },
     "metadata": {},
     "output_type": "display_data"
    },
    {
     "data": {
      "text/html": [
       "<dl>\n",
       "\t<dt>$pval</dt>\n",
       "\t\t<dd>0.039071858240831</dd>\n",
       "\t<dt>$odds</dt>\n",
       "\t\t<dd><strong>odds ratio:</strong> 1.23438682830209</dd>\n",
       "\t<dt>$type1_frac</dt>\n",
       "\t\t<dd>0.0461465271170314</dd>\n",
       "\t<dt>$type2_frac</dt>\n",
       "\t\t<dd>0.037713612256924</dd>\n",
       "</dl>\n"
      ],
      "text/latex": [
       "\\begin{description}\n",
       "\\item[\\$pval] 0.039071858240831\n",
       "\\item[\\$odds] \\textbf{odds ratio:} 1.23438682830209\n",
       "\\item[\\$type1\\_frac] 0.0461465271170314\n",
       "\\item[\\$type2\\_frac] 0.037713612256924\n",
       "\\end{description}\n"
      ],
      "text/markdown": [
       "$pval\n",
       ":   0.039071858240831\n",
       "$odds\n",
       ":   **odds ratio:** 1.23438682830209\n",
       "$type1_frac\n",
       ":   0.0461465271170314\n",
       "$type2_frac\n",
       ":   0.037713612256924\n",
       "\n",
       "\n"
      ],
      "text/plain": [
       "$pval\n",
       "[1] 0.03907186\n",
       "\n",
       "$odds\n",
       "odds ratio \n",
       "  1.234387 \n",
       "\n",
       "$type1_frac\n",
       "[1] 0.04614653\n",
       "\n",
       "$type2_frac\n",
       "[1] 0.03771361\n"
      ]
     },
     "metadata": {},
     "output_type": "display_data"
    }
   ],
   "source": [
    "celltypes <- c('beta_1','beta_2')\n",
    "dat.sub <- dat.mat.transcript_level%>%\n",
    "                           select(one_of(\"gene_tr.idx\",\"cluster_name\"))%>%\n",
    "                           filter(cluster_name %in%celltypes)\n",
    "fun.ftestPerTr(celltypes=celltypes)\n",
    "fun.ftestPerTr(dat=dat.sub,celltypes=celltypes)\n"
   ]
  },
  {
   "cell_type": "code",
   "execution_count": 28,
   "metadata": {},
   "outputs": [
    {
     "name": "stderr",
     "output_type": "stream",
     "text": [
      "Loading required package: parallel\n"
     ]
    },
    {
     "data": {
      "text/plain": [
       "    user   system  elapsed \n",
       "4885.699 1733.654 1297.098 "
      ]
     },
     "metadata": {},
     "output_type": "display_data"
    }
   ],
   "source": [
    "celltypes <- list()\n",
    "celltypes$alpha <- c(\"alpha_1\", \"alpha_2\")\n",
    "celltypes$beta <- c(\"beta_1\", \"beta_2\")\n",
    "celltypes$delta <- c(\"delta_1\", \"delta_2\")\n",
    "res.transcript_level <- list()\n",
    "# time consumming task\n",
    "system.time(for (x in c(\"alpha\", \"beta\", \"delta\")) {\n",
    "    require(parallel)\n",
    "    dat.sub <- dat.mat.transcript_level %>% select(one_of(\"gene_tr.idx\", \"cluster_name\")) %>% \n",
    "        filter(cluster_name %in% celltypes[[x]])\n",
    "    all.tr <- unique(dat.sub$gene_tr.idx)\n",
    "    res.transcript_level[[x]] <- (mclapply(all.tr, function(trr) fun.ftestPerTr(dat = dat.sub, \n",
    "        tr = trr, celltypes = celltypes[[x]]), mc.cores = 8))\n",
    "})"
   ]
  },
  {
   "cell_type": "code",
   "execution_count": 30,
   "metadata": {},
   "outputs": [
    {
     "data": {
      "text/html": [
       "<table>\n",
       "<thead><tr><th></th><th scope=col>pval</th><th scope=col>odds</th><th scope=col>type1_frac</th><th scope=col>type2_frac</th></tr></thead>\n",
       "<tbody>\n",
       "\t<tr><th scope=row>LOXL4_9209</th><td>0.03035653</td><td>1.312778  </td><td>0.07532267</td><td>0.05842259</td></tr>\n",
       "\t<tr><th scope=row>PYROXD2_9210</th><td>8.217327e-05</td><td>2.534973    </td><td>0.03621653  </td><td>0.01460565  </td></tr>\n",
       "\t<tr><th scope=row>HPS1_9211</th><td>0.1883507  </td><td>1.667152   </td><td>0.008090927</td><td>0.004868549</td></tr>\n",
       "\t<tr><th scope=row>HPS1_9212</th><td>3.985771e-06</td><td>0.2241556   </td><td>0.004430746 </td><td>0.0194742   </td></tr>\n",
       "\t<tr><th scope=row>HPS1_9213</th><td>0.005588597</td><td>0.6754621  </td><td>0.04295897 </td><td>0.06231743 </td></tr>\n",
       "\t<tr><th scope=row>CNNM1_9220</th><td>0.0008534694</td><td>0.7174467   </td><td>0.1017145   </td><td>0.1363194   </td></tr>\n",
       "</tbody>\n",
       "</table>\n"
      ],
      "text/latex": [
       "\\begin{tabular}{r|llll}\n",
       "  & pval & odds & type1\\_frac & type2\\_frac\\\\\n",
       "\\hline\n",
       "\tLOXL4\\_9209 & 0.03035653 & 1.312778   & 0.07532267 & 0.05842259\\\\\n",
       "\tPYROXD2\\_9210 & 8.217327e-05 & 2.534973     & 0.03621653   & 0.01460565  \\\\\n",
       "\tHPS1\\_9211 & 0.1883507   & 1.667152    & 0.008090927 & 0.004868549\\\\\n",
       "\tHPS1\\_9212 & 3.985771e-06 & 0.2241556    & 0.004430746  & 0.0194742   \\\\\n",
       "\tHPS1\\_9213 & 0.005588597 & 0.6754621   & 0.04295897  & 0.06231743 \\\\\n",
       "\tCNNM1\\_9220 & 0.0008534694 & 0.7174467    & 0.1017145    & 0.1363194   \\\\\n",
       "\\end{tabular}\n"
      ],
      "text/markdown": [
       "\n",
       "| <!--/--> | pval | odds | type1_frac | type2_frac | \n",
       "|---|---|---|---|---|---|\n",
       "| LOXL4_9209 | 0.03035653 | 1.312778   | 0.07532267 | 0.05842259 | \n",
       "| PYROXD2_9210 | 8.217327e-05 | 2.534973     | 0.03621653   | 0.01460565   | \n",
       "| HPS1_9211 | 0.1883507   | 1.667152    | 0.008090927 | 0.004868549 | \n",
       "| HPS1_9212 | 3.985771e-06 | 0.2241556    | 0.004430746  | 0.0194742    | \n",
       "| HPS1_9213 | 0.005588597 | 0.6754621   | 0.04295897  | 0.06231743  | \n",
       "| CNNM1_9220 | 0.0008534694 | 0.7174467    | 0.1017145    | 0.1363194    | \n",
       "\n",
       "\n"
      ],
      "text/plain": [
       "             pval         odds      type1_frac  type2_frac \n",
       "LOXL4_9209   0.03035653   1.312778  0.07532267  0.05842259 \n",
       "PYROXD2_9210 8.217327e-05 2.534973  0.03621653  0.01460565 \n",
       "HPS1_9211    0.1883507    1.667152  0.008090927 0.004868549\n",
       "HPS1_9212    3.985771e-06 0.2241556 0.004430746 0.0194742  \n",
       "HPS1_9213    0.005588597  0.6754621 0.04295897  0.06231743 \n",
       "CNNM1_9220   0.0008534694 0.7174467 0.1017145   0.1363194  "
      ]
     },
     "metadata": {},
     "output_type": "display_data"
    }
   ],
   "source": [
    "# alpha\n",
    "x <- celltypes$alpha\n",
    "dat.sub <- dat.mat.transcript_level%>%select(one_of(\"gene_tr.idx\",\"cluster_name\"))%>%filter(cluster_name %in% x)\n",
    "all.tr <- unique(dat.sub$gene_tr.idx)\n",
    "res.genes_level.a.df <- do.call(rbind,res.transcript_level$alpha)\n",
    "rownames(res.genes_level.a.df) <- all.tr\n",
    "head(res.genes_level.a.df)\n",
    "res.transcript_level$alpha <-res.genes_level.a.df "
   ]
  },
  {
   "cell_type": "code",
   "execution_count": 31,
   "metadata": {},
   "outputs": [
    {
     "data": {
      "text/html": [
       "<table>\n",
       "<thead><tr><th></th><th scope=col>pval</th><th scope=col>odds</th><th scope=col>type1_frac</th><th scope=col>type2_frac</th></tr></thead>\n",
       "<tbody>\n",
       "\t<tr><th scope=row>LOXL4_9209</th><td>0.006368447</td><td>1.516484   </td><td>0.02568982 </td><td>0.01708898 </td></tr>\n",
       "\t<tr><th scope=row>PYROXD2_9210</th><td>0.2433923  </td><td>0.6452322  </td><td>0.00190295 </td><td>0.002946376</td></tr>\n",
       "\t<tr><th scope=row>HPS1_9211</th><td>0.1278564   </td><td>0.2016509   </td><td>0.0002378687</td><td>0.00117855  </td></tr>\n",
       "\t<tr><th scope=row>HPS1_9212</th><td>0.4846571   </td><td>1.345902    </td><td>0.001189343 </td><td>0.0008839128</td></tr>\n",
       "\t<tr><th scope=row>HPS1_9213</th><td>0.0354369 </td><td>1.279869  </td><td>0.03591817</td><td>0.02828521</td></tr>\n",
       "\t<tr><th scope=row>CNNM1_9220</th><td>0.4681654 </td><td>1.009449  </td><td>0.09657469</td><td>0.09575722</td></tr>\n",
       "</tbody>\n",
       "</table>\n"
      ],
      "text/latex": [
       "\\begin{tabular}{r|llll}\n",
       "  & pval & odds & type1\\_frac & type2\\_frac\\\\\n",
       "\\hline\n",
       "\tLOXL4\\_9209 & 0.006368447 & 1.516484    & 0.02568982  & 0.01708898 \\\\\n",
       "\tPYROXD2\\_9210 & 0.2433923   & 0.6452322   & 0.00190295  & 0.002946376\\\\\n",
       "\tHPS1\\_9211 & 0.1278564    & 0.2016509    & 0.0002378687 & 0.00117855  \\\\\n",
       "\tHPS1\\_9212 & 0.4846571    & 1.345902     & 0.001189343  & 0.0008839128\\\\\n",
       "\tHPS1\\_9213 & 0.0354369  & 1.279869   & 0.03591817 & 0.02828521\\\\\n",
       "\tCNNM1\\_9220 & 0.4681654  & 1.009449   & 0.09657469 & 0.09575722\\\\\n",
       "\\end{tabular}\n"
      ],
      "text/markdown": [
       "\n",
       "| <!--/--> | pval | odds | type1_frac | type2_frac | \n",
       "|---|---|---|---|---|---|\n",
       "| LOXL4_9209 | 0.006368447 | 1.516484    | 0.02568982  | 0.01708898  | \n",
       "| PYROXD2_9210 | 0.2433923   | 0.6452322   | 0.00190295  | 0.002946376 | \n",
       "| HPS1_9211 | 0.1278564    | 0.2016509    | 0.0002378687 | 0.00117855   | \n",
       "| HPS1_9212 | 0.4846571    | 1.345902     | 0.001189343  | 0.0008839128 | \n",
       "| HPS1_9213 | 0.0354369  | 1.279869   | 0.03591817 | 0.02828521 | \n",
       "| CNNM1_9220 | 0.4681654  | 1.009449   | 0.09657469 | 0.09575722 | \n",
       "\n",
       "\n"
      ],
      "text/plain": [
       "             pval        odds      type1_frac   type2_frac  \n",
       "LOXL4_9209   0.006368447 1.516484  0.02568982   0.01708898  \n",
       "PYROXD2_9210 0.2433923   0.6452322 0.00190295   0.002946376 \n",
       "HPS1_9211    0.1278564   0.2016509 0.0002378687 0.00117855  \n",
       "HPS1_9212    0.4846571   1.345902  0.001189343  0.0008839128\n",
       "HPS1_9213    0.0354369   1.279869  0.03591817   0.02828521  \n",
       "CNNM1_9220   0.4681654   1.009449  0.09657469   0.09575722  "
      ]
     },
     "metadata": {},
     "output_type": "display_data"
    }
   ],
   "source": [
    "# beta\n",
    "x <- celltypes$beta\n",
    "dat.sub <- dat.mat.transcript_level%>%select(one_of(\"gene_tr.idx\",\"cluster_name\"))%>%filter(cluster_name %in% x)\n",
    "all.tr <- unique(dat.sub$gene_tr.idx)\n",
    "res.genes_level.a.df <- do.call(rbind,res.transcript_level$beta)\n",
    "rownames(res.genes_level.a.df) <- all.tr\n",
    "head(res.genes_level.a.df)\n",
    "res.transcript_level$beta <-res.genes_level.a.df "
   ]
  },
  {
   "cell_type": "code",
   "execution_count": 33,
   "metadata": {},
   "outputs": [
    {
     "data": {
      "text/html": [
       "<table>\n",
       "<thead><tr><th></th><th scope=col>pval</th><th scope=col>odds</th><th scope=col>type1_frac</th><th scope=col>type2_frac</th></tr></thead>\n",
       "<tbody>\n",
       "\t<tr><th scope=row>LOXL4_9209</th><td>0.5679042 </td><td>1.052973  </td><td>0.02719665</td><td>0.02586207</td></tr>\n",
       "\t<tr><th scope=row>PYROXD2_9210</th><td>0.2502162 </td><td>0.2416201 </td><td>0.00209205</td><td>0.00862069</td></tr>\n",
       "\t<tr><th scope=row>HPS1_9211</th><td>0.3267606  </td><td>0          </td><td>0          </td><td>0.004310345</td></tr>\n",
       "\t<tr><th scope=row>HPS1_9212</th><td>0.3267606  </td><td>0          </td><td>0          </td><td>0.004310345</td></tr>\n",
       "\t<tr><th scope=row>HPS1_9213</th><td>0.038763  </td><td>2.746818  </td><td>0.0460251 </td><td>0.01724138</td></tr>\n",
       "\t<tr><th scope=row>CNNM1_9220</th><td>0.2975085 </td><td>0.843879  </td><td>0.09623431</td><td>0.112069  </td></tr>\n",
       "</tbody>\n",
       "</table>\n"
      ],
      "text/latex": [
       "\\begin{tabular}{r|llll}\n",
       "  & pval & odds & type1\\_frac & type2\\_frac\\\\\n",
       "\\hline\n",
       "\tLOXL4\\_9209 & 0.5679042  & 1.052973   & 0.02719665 & 0.02586207\\\\\n",
       "\tPYROXD2\\_9210 & 0.2502162  & 0.2416201  & 0.00209205 & 0.00862069\\\\\n",
       "\tHPS1\\_9211 & 0.3267606   & 0           & 0           & 0.004310345\\\\\n",
       "\tHPS1\\_9212 & 0.3267606   & 0           & 0           & 0.004310345\\\\\n",
       "\tHPS1\\_9213 & 0.038763   & 2.746818   & 0.0460251  & 0.01724138\\\\\n",
       "\tCNNM1\\_9220 & 0.2975085  & 0.843879   & 0.09623431 & 0.112069  \\\\\n",
       "\\end{tabular}\n"
      ],
      "text/markdown": [
       "\n",
       "| <!--/--> | pval | odds | type1_frac | type2_frac | \n",
       "|---|---|---|---|---|---|\n",
       "| LOXL4_9209 | 0.5679042  | 1.052973   | 0.02719665 | 0.02586207 | \n",
       "| PYROXD2_9210 | 0.2502162  | 0.2416201  | 0.00209205 | 0.00862069 | \n",
       "| HPS1_9211 | 0.3267606   | 0           | 0           | 0.004310345 | \n",
       "| HPS1_9212 | 0.3267606   | 0           | 0           | 0.004310345 | \n",
       "| HPS1_9213 | 0.038763   | 2.746818   | 0.0460251  | 0.01724138 | \n",
       "| CNNM1_9220 | 0.2975085  | 0.843879   | 0.09623431 | 0.112069   | \n",
       "\n",
       "\n"
      ],
      "text/plain": [
       "             pval      odds      type1_frac type2_frac \n",
       "LOXL4_9209   0.5679042 1.052973  0.02719665 0.02586207 \n",
       "PYROXD2_9210 0.2502162 0.2416201 0.00209205 0.00862069 \n",
       "HPS1_9211    0.3267606 0         0          0.004310345\n",
       "HPS1_9212    0.3267606 0         0          0.004310345\n",
       "HPS1_9213    0.038763  2.746818  0.0460251  0.01724138 \n",
       "CNNM1_9220   0.2975085 0.843879  0.09623431 0.112069   "
      ]
     },
     "metadata": {},
     "output_type": "display_data"
    }
   ],
   "source": [
    "# delta\n",
    "x <- celltypes$delta\n",
    "dat.sub <- dat.mat.transcript_level%>%select(one_of(\"gene_tr.idx\",\"cluster_name\"))%>%filter(cluster_name %in% x)\n",
    "all.tr <- unique(dat.sub$gene_tr.idx)\n",
    "res.genes_level.a.df <- do.call(rbind,res.transcript_level$delta)\n",
    "rownames(res.genes_level.a.df) <- all.tr\n",
    "head(res.genes_level.a.df)\n",
    "res.transcript_level$delta <-res.genes_level.a.df "
   ]
  },
  {
   "cell_type": "code",
   "execution_count": 34,
   "metadata": {
    "scrolled": true
   },
   "outputs": [
    {
     "data": {
      "text/html": [
       "<table>\n",
       "<thead><tr><th></th><th scope=col>pval</th><th scope=col>odds</th><th scope=col>type1_frac</th><th scope=col>type2_frac</th><th scope=col>FDR</th><th scope=col>padj.Bonferroni</th><th scope=col>FDR.BY</th></tr></thead>\n",
       "<tbody>\n",
       "\t<tr><th scope=row>LOXL4_9209</th><td>0.03035653</td><td>1.312778  </td><td>0.07532267</td><td>0.05842259</td><td>0.07060184</td><td>1         </td><td>0.7329348 </td></tr>\n",
       "</tbody>\n",
       "</table>\n"
      ],
      "text/latex": [
       "\\begin{tabular}{r|lllllll}\n",
       "  & pval & odds & type1\\_frac & type2\\_frac & FDR & padj.Bonferroni & FDR.BY\\\\\n",
       "\\hline\n",
       "\tLOXL4\\_9209 & 0.03035653 & 1.312778   & 0.07532267 & 0.05842259 & 0.07060184 & 1          & 0.7329348 \\\\\n",
       "\\end{tabular}\n"
      ],
      "text/markdown": [
       "\n",
       "| <!--/--> | pval | odds | type1_frac | type2_frac | FDR | padj.Bonferroni | FDR.BY | \n",
       "|---|\n",
       "| LOXL4_9209 | 0.03035653 | 1.312778   | 0.07532267 | 0.05842259 | 0.07060184 | 1          | 0.7329348  | \n",
       "\n",
       "\n"
      ],
      "text/plain": [
       "           pval       odds     type1_frac type2_frac FDR        padj.Bonferroni\n",
       "LOXL4_9209 0.03035653 1.312778 0.07532267 0.05842259 0.07060184 1              \n",
       "           FDR.BY   \n",
       "LOXL4_9209 0.7329348"
      ]
     },
     "metadata": {},
     "output_type": "display_data"
    },
    {
     "data": {
      "text/html": [
       "<table>\n",
       "<thead><tr><th></th><th scope=col>pval</th><th scope=col>odds</th><th scope=col>type1_frac</th><th scope=col>type2_frac</th><th scope=col>FDR</th><th scope=col>padj.Bonferroni</th><th scope=col>FDR.BY</th></tr></thead>\n",
       "<tbody>\n",
       "\t<tr><th scope=row>LOXL4_9209</th><td>0.006368447</td><td>1.516484   </td><td>0.02568982 </td><td>0.01708898 </td><td>0.04274813 </td><td>1          </td><td>0.4438023  </td></tr>\n",
       "</tbody>\n",
       "</table>\n"
      ],
      "text/latex": [
       "\\begin{tabular}{r|lllllll}\n",
       "  & pval & odds & type1\\_frac & type2\\_frac & FDR & padj.Bonferroni & FDR.BY\\\\\n",
       "\\hline\n",
       "\tLOXL4\\_9209 & 0.006368447 & 1.516484    & 0.02568982  & 0.01708898  & 0.04274813  & 1           & 0.4438023  \\\\\n",
       "\\end{tabular}\n"
      ],
      "text/markdown": [
       "\n",
       "| <!--/--> | pval | odds | type1_frac | type2_frac | FDR | padj.Bonferroni | FDR.BY | \n",
       "|---|\n",
       "| LOXL4_9209 | 0.006368447 | 1.516484    | 0.02568982  | 0.01708898  | 0.04274813  | 1           | 0.4438023   | \n",
       "\n",
       "\n"
      ],
      "text/plain": [
       "           pval        odds     type1_frac type2_frac FDR       \n",
       "LOXL4_9209 0.006368447 1.516484 0.02568982 0.01708898 0.04274813\n",
       "           padj.Bonferroni FDR.BY   \n",
       "LOXL4_9209 1               0.4438023"
      ]
     },
     "metadata": {},
     "output_type": "display_data"
    },
    {
     "data": {
      "text/html": [
       "<table>\n",
       "<thead><tr><th></th><th scope=col>pval</th><th scope=col>odds</th><th scope=col>type1_frac</th><th scope=col>type2_frac</th><th scope=col>FDR</th><th scope=col>padj.Bonferroni</th><th scope=col>FDR.BY</th></tr></thead>\n",
       "<tbody>\n",
       "\t<tr><th scope=row>LOXL4_9209</th><td>0.5679042 </td><td>1.052973  </td><td>0.02719665</td><td>0.02586207</td><td>0.6096245 </td><td>1         </td><td>1         </td></tr>\n",
       "</tbody>\n",
       "</table>\n"
      ],
      "text/latex": [
       "\\begin{tabular}{r|lllllll}\n",
       "  & pval & odds & type1\\_frac & type2\\_frac & FDR & padj.Bonferroni & FDR.BY\\\\\n",
       "\\hline\n",
       "\tLOXL4\\_9209 & 0.5679042  & 1.052973   & 0.02719665 & 0.02586207 & 0.6096245  & 1          & 1         \\\\\n",
       "\\end{tabular}\n"
      ],
      "text/markdown": [
       "\n",
       "| <!--/--> | pval | odds | type1_frac | type2_frac | FDR | padj.Bonferroni | FDR.BY | \n",
       "|---|\n",
       "| LOXL4_9209 | 0.5679042  | 1.052973   | 0.02719665 | 0.02586207 | 0.6096245  | 1          | 1          | \n",
       "\n",
       "\n"
      ],
      "text/plain": [
       "           pval      odds     type1_frac type2_frac FDR       padj.Bonferroni\n",
       "LOXL4_9209 0.5679042 1.052973 0.02719665 0.02586207 0.6096245 1              \n",
       "           FDR.BY\n",
       "LOXL4_9209 1     "
      ]
     },
     "metadata": {},
     "output_type": "display_data"
    }
   ],
   "source": [
    "# adjust for p value \n",
    "m<- c(\"fdr\",\"bonferroni\",\"BY\");names(m)<-c(\"FDR\",\"padj.Bonferroni\",\"FDR.BY\")\n",
    "res.transcript_level.2 <- lapply(res.transcript_level,function(df){\n",
    "    res.genes_level.a.df <- as.data.frame(df)\n",
    "    for(i in 1:3){\n",
    "        res.genes_level.a.df[[names(m)[i]]] <- p.adjust(as.numeric(res.genes_level.a.df$pval),method = m[i])\n",
    "    }\n",
    "    res.genes_level.a.df$odds <- as.numeric(res.genes_level.a.df$odds)\n",
    "    res.genes_level.a.df\n",
    "})\n",
    "head(res.transcript_level.2$alpha,1)\n",
    "head(res.transcript_level.2$beta,1)\n",
    "head(res.transcript_level.2$delta,1)"
   ]
  },
  {
   "cell_type": "code",
   "execution_count": 35,
   "metadata": {},
   "outputs": [],
   "source": [
    "res.transcript_level <- res.transcript_level.2\n",
    "saveRDS(res.transcript_level,\"../dat/1910_v2/prom.ttest.transcript_level.rds\")"
   ]
  },
  {
   "cell_type": "markdown",
   "metadata": {},
   "source": [
    "### adding back peak info"
   ]
  },
  {
   "cell_type": "code",
   "execution_count": 36,
   "metadata": {},
   "outputs": [],
   "source": [
    "res <- res.transcript_level"
   ]
  },
  {
   "cell_type": "code",
   "execution_count": 37,
   "metadata": {},
   "outputs": [
    {
     "data": {
      "text/html": [
       "<table>\n",
       "<thead><tr><th></th><th scope=col>pval</th><th scope=col>odds</th><th scope=col>type1_frac</th><th scope=col>type2_frac</th><th scope=col>FDR</th><th scope=col>padj.Bonferroni</th><th scope=col>FDR.BY</th></tr></thead>\n",
       "<tbody>\n",
       "\t<tr><th scope=row>LOXL4_9209</th><td>0.03035653</td><td>1.312778  </td><td>0.07532267</td><td>0.05842259</td><td>0.07060184</td><td>1         </td><td>0.7329348 </td></tr>\n",
       "</tbody>\n",
       "</table>\n"
      ],
      "text/latex": [
       "\\begin{tabular}{r|lllllll}\n",
       "  & pval & odds & type1\\_frac & type2\\_frac & FDR & padj.Bonferroni & FDR.BY\\\\\n",
       "\\hline\n",
       "\tLOXL4\\_9209 & 0.03035653 & 1.312778   & 0.07532267 & 0.05842259 & 0.07060184 & 1          & 0.7329348 \\\\\n",
       "\\end{tabular}\n"
      ],
      "text/markdown": [
       "\n",
       "| <!--/--> | pval | odds | type1_frac | type2_frac | FDR | padj.Bonferroni | FDR.BY | \n",
       "|---|\n",
       "| LOXL4_9209 | 0.03035653 | 1.312778   | 0.07532267 | 0.05842259 | 0.07060184 | 1          | 0.7329348  | \n",
       "\n",
       "\n"
      ],
      "text/plain": [
       "           pval       odds     type1_frac type2_frac FDR        padj.Bonferroni\n",
       "LOXL4_9209 0.03035653 1.312778 0.07532267 0.05842259 0.07060184 1              \n",
       "           FDR.BY   \n",
       "LOXL4_9209 0.7329348"
      ]
     },
     "metadata": {},
     "output_type": "display_data"
    },
    {
     "data": {
      "text/html": [
       "<ol class=list-inline>\n",
       "\t<li>18106</li>\n",
       "\t<li>7</li>\n",
       "</ol>\n"
      ],
      "text/latex": [
       "\\begin{enumerate*}\n",
       "\\item 18106\n",
       "\\item 7\n",
       "\\end{enumerate*}\n"
      ],
      "text/markdown": [
       "1. 18106\n",
       "2. 7\n",
       "\n",
       "\n"
      ],
      "text/plain": [
       "[1] 18106     7"
      ]
     },
     "metadata": {},
     "output_type": "display_data"
    }
   ],
   "source": [
    "head(res$alpha,1)\n",
    "dim(res$alpha)"
   ]
  },
  {
   "cell_type": "code",
   "execution_count": 39,
   "metadata": {},
   "outputs": [
    {
     "data": {
      "text/html": [
       "<table>\n",
       "<thead><tr><th scope=col>peak</th><th scope=col>V1</th></tr></thead>\n",
       "<tbody>\n",
       "\t<tr><td>chr10:100027284-100028604</td><td>LOXL4_9209               </td></tr>\n",
       "\t<tr><td>chr10:100174567-100175450</td><td>PYROXD2_9210             </td></tr>\n",
       "\t<tr><td>chr10:100190809-100191248</td><td>HPS1_9211                </td></tr>\n",
       "\t<tr><td>chr10:100194089-100194460</td><td>HPS1_9212                </td></tr>\n",
       "\t<tr><td>chr10:100205796-100206886</td><td>HPS1_9213                </td></tr>\n",
       "\t<tr><td>chr10:101088824-101090586</td><td>CNNM1_9220               </td></tr>\n",
       "</tbody>\n",
       "</table>\n"
      ],
      "text/latex": [
       "\\begin{tabular}{r|ll}\n",
       " peak & V1\\\\\n",
       "\\hline\n",
       "\t chr10:100027284-100028604 & LOXL4\\_9209             \\\\\n",
       "\t chr10:100174567-100175450 & PYROXD2\\_9210           \\\\\n",
       "\t chr10:100190809-100191248 & HPS1\\_9211              \\\\\n",
       "\t chr10:100194089-100194460 & HPS1\\_9212              \\\\\n",
       "\t chr10:100205796-100206886 & HPS1\\_9213              \\\\\n",
       "\t chr10:101088824-101090586 & CNNM1\\_9220             \\\\\n",
       "\\end{tabular}\n"
      ],
      "text/markdown": [
       "\n",
       "peak | V1 | \n",
       "|---|---|---|---|---|---|\n",
       "| chr10:100027284-100028604 | LOXL4_9209                | \n",
       "| chr10:100174567-100175450 | PYROXD2_9210              | \n",
       "| chr10:100190809-100191248 | HPS1_9211                 | \n",
       "| chr10:100194089-100194460 | HPS1_9212                 | \n",
       "| chr10:100205796-100206886 | HPS1_9213                 | \n",
       "| chr10:101088824-101090586 | CNNM1_9220                | \n",
       "\n",
       "\n"
      ],
      "text/plain": [
       "  peak                      V1          \n",
       "1 chr10:100027284-100028604 LOXL4_9209  \n",
       "2 chr10:100174567-100175450 PYROXD2_9210\n",
       "3 chr10:100190809-100191248 HPS1_9211   \n",
       "4 chr10:100194089-100194460 HPS1_9212   \n",
       "5 chr10:100205796-100206886 HPS1_9213   \n",
       "6 chr10:101088824-101090586 CNNM1_9220  "
      ]
     },
     "metadata": {},
     "output_type": "display_data"
    },
    {
     "data": {
      "text/html": [
       "<ol class=list-inline>\n",
       "\t<li>18926</li>\n",
       "\t<li>2</li>\n",
       "</ol>\n"
      ],
      "text/latex": [
       "\\begin{enumerate*}\n",
       "\\item 18926\n",
       "\\item 2\n",
       "\\end{enumerate*}\n"
      ],
      "text/markdown": [
       "1. 18926\n",
       "2. 2\n",
       "\n",
       "\n"
      ],
      "text/plain": [
       "[1] 18926     2"
      ]
     },
     "metadata": {},
     "output_type": "display_data"
    }
   ],
   "source": [
    "# prepare data\n",
    "dat.mat.transcript_level <- dat.mat %>% select(-one_of(\"cell\", \"cluster_name\", \"value\")) %>% \n",
    "    distinct() %>% unite(\"V1\", c(\"gene\", \"tr.idx\"), sep = \"_\") %>% unite(\"tmp\", c(\"start\", \n",
    "    \"end\"), sep = \"-\") %>% unite(\"peak\", c(\"seq\", \"tmp\"), sep = \":\")\n",
    "\n",
    "# unite('gene_tr.idx',c('gene','transcript.idx'),remove = T)\n",
    "head(dat.mat.transcript_level)\n",
    "dim(dat.mat.transcript_level)"
   ]
  },
  {
   "cell_type": "code",
   "execution_count": 41,
   "metadata": {},
   "outputs": [
    {
     "name": "stderr",
     "output_type": "stream",
     "text": [
      "Joining, by = \"gene_transcript\"\n"
     ]
    },
    {
     "data": {
      "text/html": [
       "<ol class=list-inline>\n",
       "\t<li>18817</li>\n",
       "\t<li>9</li>\n",
       "</ol>\n"
      ],
      "text/latex": [
       "\\begin{enumerate*}\n",
       "\\item 18817\n",
       "\\item 9\n",
       "\\end{enumerate*}\n"
      ],
      "text/markdown": [
       "1. 18817\n",
       "2. 9\n",
       "\n",
       "\n"
      ],
      "text/plain": [
       "[1] 18817     9"
      ]
     },
     "metadata": {},
     "output_type": "display_data"
    },
    {
     "data": {
      "text/html": [
       "<table>\n",
       "<thead><tr><th scope=col>peak</th><th scope=col>gene_transcript</th><th scope=col>pval</th><th scope=col>odds</th><th scope=col>FDR</th><th scope=col>padj.Bonferroni</th><th scope=col>FDR.BY</th><th scope=col>percent_open_state1</th><th scope=col>percent_open_state2</th></tr></thead>\n",
       "<tbody>\n",
       "\t<tr><td>chr10:100027284-100028604</td><td>LOXL4_9209               </td><td>0.03035653               </td><td>1.3127775                </td><td>7.060184e-02             </td><td>1.00000000               </td><td>0.7329347674             </td><td> 7.5322674               </td><td> 5.8422590               </td></tr>\n",
       "\t<tr><td>chr10:100174567-100175450</td><td>PYROXD2_9210             </td><td>8.217327e-05             </td><td>2.5349729                </td><td>5.965634e-04             </td><td>1.00000000               </td><td>0.0061930693             </td><td> 3.6216529               </td><td> 1.4605648               </td></tr>\n",
       "\t<tr><td>chr10:100190809-100191248</td><td>HPS1_9211                </td><td>0.1883507                </td><td>1.6671522                </td><td>2.774614e-01             </td><td>1.00000000               </td><td>1.0000000000             </td><td> 0.8090927               </td><td> 0.4868549               </td></tr>\n",
       "\t<tr><td>chr10:100194089-100194460</td><td>HPS1_9212                </td><td>3.985771e-06             </td><td>0.2241556                </td><td>4.983866e-05             </td><td>0.07216638               </td><td>0.0005173872             </td><td> 0.4430746               </td><td> 1.9474197               </td></tr>\n",
       "\t<tr><td>chr10:100205796-100206886</td><td>HPS1_9213                </td><td>0.005588597              </td><td>0.6754621                </td><td>1.836427e-02             </td><td>1.00000000               </td><td>0.1906439455             </td><td> 4.2958967               </td><td> 6.2317429               </td></tr>\n",
       "\t<tr><td>chr10:101088824-101090586</td><td>CNNM1_9220               </td><td>0.0008534694             </td><td>0.7174467                </td><td>4.105451e-03             </td><td>1.00000000               </td><td>0.0426196777             </td><td>10.1714506               </td><td>13.6319377               </td></tr>\n",
       "</tbody>\n",
       "</table>\n"
      ],
      "text/latex": [
       "\\begin{tabular}{r|lllllllll}\n",
       " peak & gene\\_transcript & pval & odds & FDR & padj.Bonferroni & FDR.BY & percent\\_open\\_state1 & percent\\_open\\_state2\\\\\n",
       "\\hline\n",
       "\t chr10:100027284-100028604 & LOXL4\\_9209              & 0.03035653                & 1.3127775                 & 7.060184e-02              & 1.00000000                & 0.7329347674              &  7.5322674                &  5.8422590               \\\\\n",
       "\t chr10:100174567-100175450 & PYROXD2\\_9210            & 8.217327e-05              & 2.5349729                 & 5.965634e-04              & 1.00000000                & 0.0061930693              &  3.6216529                &  1.4605648               \\\\\n",
       "\t chr10:100190809-100191248 & HPS1\\_9211               & 0.1883507                 & 1.6671522                 & 2.774614e-01              & 1.00000000                & 1.0000000000              &  0.8090927                &  0.4868549               \\\\\n",
       "\t chr10:100194089-100194460 & HPS1\\_9212               & 3.985771e-06              & 0.2241556                 & 4.983866e-05              & 0.07216638                & 0.0005173872              &  0.4430746                &  1.9474197               \\\\\n",
       "\t chr10:100205796-100206886 & HPS1\\_9213               & 0.005588597               & 0.6754621                 & 1.836427e-02              & 1.00000000                & 0.1906439455              &  4.2958967                &  6.2317429               \\\\\n",
       "\t chr10:101088824-101090586 & CNNM1\\_9220              & 0.0008534694              & 0.7174467                 & 4.105451e-03              & 1.00000000                & 0.0426196777              & 10.1714506                & 13.6319377               \\\\\n",
       "\\end{tabular}\n"
      ],
      "text/markdown": [
       "\n",
       "peak | gene_transcript | pval | odds | FDR | padj.Bonferroni | FDR.BY | percent_open_state1 | percent_open_state2 | \n",
       "|---|---|---|---|---|---|\n",
       "| chr10:100027284-100028604 | LOXL4_9209                | 0.03035653                | 1.3127775                 | 7.060184e-02              | 1.00000000                | 0.7329347674              |  7.5322674                |  5.8422590                | \n",
       "| chr10:100174567-100175450 | PYROXD2_9210              | 8.217327e-05              | 2.5349729                 | 5.965634e-04              | 1.00000000                | 0.0061930693              |  3.6216529                |  1.4605648                | \n",
       "| chr10:100190809-100191248 | HPS1_9211                 | 0.1883507                 | 1.6671522                 | 2.774614e-01              | 1.00000000                | 1.0000000000              |  0.8090927                |  0.4868549                | \n",
       "| chr10:100194089-100194460 | HPS1_9212                 | 3.985771e-06              | 0.2241556                 | 4.983866e-05              | 0.07216638                | 0.0005173872              |  0.4430746                |  1.9474197                | \n",
       "| chr10:100205796-100206886 | HPS1_9213                 | 0.005588597               | 0.6754621                 | 1.836427e-02              | 1.00000000                | 0.1906439455              |  4.2958967                |  6.2317429                | \n",
       "| chr10:101088824-101090586 | CNNM1_9220                | 0.0008534694              | 0.7174467                 | 4.105451e-03              | 1.00000000                | 0.0426196777              | 10.1714506                | 13.6319377                | \n",
       "\n",
       "\n"
      ],
      "text/plain": [
       "  peak                      gene_transcript pval         odds      FDR         \n",
       "1 chr10:100027284-100028604 LOXL4_9209      0.03035653   1.3127775 7.060184e-02\n",
       "2 chr10:100174567-100175450 PYROXD2_9210    8.217327e-05 2.5349729 5.965634e-04\n",
       "3 chr10:100190809-100191248 HPS1_9211       0.1883507    1.6671522 2.774614e-01\n",
       "4 chr10:100194089-100194460 HPS1_9212       3.985771e-06 0.2241556 4.983866e-05\n",
       "5 chr10:100205796-100206886 HPS1_9213       0.005588597  0.6754621 1.836427e-02\n",
       "6 chr10:101088824-101090586 CNNM1_9220      0.0008534694 0.7174467 4.105451e-03\n",
       "  padj.Bonferroni FDR.BY       percent_open_state1 percent_open_state2\n",
       "1 1.00000000      0.7329347674  7.5322674           5.8422590         \n",
       "2 1.00000000      0.0061930693  3.6216529           1.4605648         \n",
       "3 1.00000000      1.0000000000  0.8090927           0.4868549         \n",
       "4 0.07216638      0.0005173872  0.4430746           1.9474197         \n",
       "5 1.00000000      0.1906439455  4.2958967           6.2317429         \n",
       "6 1.00000000      0.0426196777 10.1714506          13.6319377         "
      ]
     },
     "metadata": {},
     "output_type": "display_data"
    }
   ],
   "source": [
    "res.2 <- dat.mat.transcript_level%>% \n",
    "    rename(gene_transcript=V1)%>%\n",
    "    right_join(res$alpha%>%rownames_to_column(\"gene_transcript\"))%>%\n",
    "    mutate(percent_open_state1=as.numeric(type1_frac)*100,\n",
    "          percent_open_state2=as.numeric(type2_frac)*100)%>%\n",
    "    select(-ends_with(\"_frac\"))\n",
    "dim(res.2)\n",
    "head(res.2)\n",
    "fwrite(res.2,\"../figures/Fig2/subfigs/fig_2.prom_alpha_volcano.csv\")\n"
   ]
  },
  {
   "cell_type": "code",
   "execution_count": 42,
   "metadata": {},
   "outputs": [
    {
     "name": "stderr",
     "output_type": "stream",
     "text": [
      "Joining, by = \"gene_transcript\"\n"
     ]
    },
    {
     "data": {
      "text/html": [
       "<ol class=list-inline>\n",
       "\t<li>18827</li>\n",
       "\t<li>9</li>\n",
       "</ol>\n"
      ],
      "text/latex": [
       "\\begin{enumerate*}\n",
       "\\item 18827\n",
       "\\item 9\n",
       "\\end{enumerate*}\n"
      ],
      "text/markdown": [
       "1. 18827\n",
       "2. 9\n",
       "\n",
       "\n"
      ],
      "text/plain": [
       "[1] 18827     9"
      ]
     },
     "metadata": {},
     "output_type": "display_data"
    },
    {
     "data": {
      "text/html": [
       "<table>\n",
       "<thead><tr><th scope=col>peak</th><th scope=col>gene_transcript</th><th scope=col>pval</th><th scope=col>odds</th><th scope=col>FDR</th><th scope=col>padj.Bonferroni</th><th scope=col>FDR.BY</th><th scope=col>percent_open_state1</th><th scope=col>percent_open_state2</th></tr></thead>\n",
       "<tbody>\n",
       "\t<tr><td>chr10:100027284-100028604</td><td>LOXL4_9209               </td><td>0.006368447              </td><td>1.5164838                </td><td>0.04274813               </td><td>1                        </td><td>0.4438023                </td><td>2.56898192               </td><td>1.70889806               </td></tr>\n",
       "\t<tr><td>chr10:100174567-100175450</td><td>PYROXD2_9210             </td><td>0.2433923                </td><td>0.6452322                </td><td>0.38082702               </td><td>1                        </td><td>1.0000000                </td><td>0.19029496               </td><td>0.29463760               </td></tr>\n",
       "\t<tr><td>chr10:100190809-100191248</td><td>HPS1_9211                </td><td>0.1278564                </td><td>0.2016509                </td><td>0.27068726               </td><td>1                        </td><td>1.0000000                </td><td>0.02378687               </td><td>0.11785504               </td></tr>\n",
       "\t<tr><td>chr10:100194089-100194460</td><td>HPS1_9212                </td><td>0.4846571                </td><td>1.3459021                </td><td>0.52094924               </td><td>1                        </td><td>1.0000000                </td><td>0.11893435               </td><td>0.08839128               </td></tr>\n",
       "\t<tr><td>chr10:100205796-100206886</td><td>HPS1_9213                </td><td>0.0354369                </td><td>1.2798685                </td><td>0.12826052               </td><td>1                        </td><td>1.0000000                </td><td>3.59181732               </td><td>2.82852092               </td></tr>\n",
       "\t<tr><td>chr10:101088824-101090586</td><td>CNNM1_9220               </td><td>0.4681654                </td><td>1.0094488                </td><td>0.51242459               </td><td>1                        </td><td>1.0000000                </td><td>9.65746908               </td><td>9.57572186               </td></tr>\n",
       "</tbody>\n",
       "</table>\n"
      ],
      "text/latex": [
       "\\begin{tabular}{r|lllllllll}\n",
       " peak & gene\\_transcript & pval & odds & FDR & padj.Bonferroni & FDR.BY & percent\\_open\\_state1 & percent\\_open\\_state2\\\\\n",
       "\\hline\n",
       "\t chr10:100027284-100028604 & LOXL4\\_9209              & 0.006368447               & 1.5164838                 & 0.04274813                & 1                         & 0.4438023                 & 2.56898192                & 1.70889806               \\\\\n",
       "\t chr10:100174567-100175450 & PYROXD2\\_9210            & 0.2433923                 & 0.6452322                 & 0.38082702                & 1                         & 1.0000000                 & 0.19029496                & 0.29463760               \\\\\n",
       "\t chr10:100190809-100191248 & HPS1\\_9211               & 0.1278564                 & 0.2016509                 & 0.27068726                & 1                         & 1.0000000                 & 0.02378687                & 0.11785504               \\\\\n",
       "\t chr10:100194089-100194460 & HPS1\\_9212               & 0.4846571                 & 1.3459021                 & 0.52094924                & 1                         & 1.0000000                 & 0.11893435                & 0.08839128               \\\\\n",
       "\t chr10:100205796-100206886 & HPS1\\_9213               & 0.0354369                 & 1.2798685                 & 0.12826052                & 1                         & 1.0000000                 & 3.59181732                & 2.82852092               \\\\\n",
       "\t chr10:101088824-101090586 & CNNM1\\_9220              & 0.4681654                 & 1.0094488                 & 0.51242459                & 1                         & 1.0000000                 & 9.65746908                & 9.57572186               \\\\\n",
       "\\end{tabular}\n"
      ],
      "text/markdown": [
       "\n",
       "peak | gene_transcript | pval | odds | FDR | padj.Bonferroni | FDR.BY | percent_open_state1 | percent_open_state2 | \n",
       "|---|---|---|---|---|---|\n",
       "| chr10:100027284-100028604 | LOXL4_9209                | 0.006368447               | 1.5164838                 | 0.04274813                | 1                         | 0.4438023                 | 2.56898192                | 1.70889806                | \n",
       "| chr10:100174567-100175450 | PYROXD2_9210              | 0.2433923                 | 0.6452322                 | 0.38082702                | 1                         | 1.0000000                 | 0.19029496                | 0.29463760                | \n",
       "| chr10:100190809-100191248 | HPS1_9211                 | 0.1278564                 | 0.2016509                 | 0.27068726                | 1                         | 1.0000000                 | 0.02378687                | 0.11785504                | \n",
       "| chr10:100194089-100194460 | HPS1_9212                 | 0.4846571                 | 1.3459021                 | 0.52094924                | 1                         | 1.0000000                 | 0.11893435                | 0.08839128                | \n",
       "| chr10:100205796-100206886 | HPS1_9213                 | 0.0354369                 | 1.2798685                 | 0.12826052                | 1                         | 1.0000000                 | 3.59181732                | 2.82852092                | \n",
       "| chr10:101088824-101090586 | CNNM1_9220                | 0.4681654                 | 1.0094488                 | 0.51242459                | 1                         | 1.0000000                 | 9.65746908                | 9.57572186                | \n",
       "\n",
       "\n"
      ],
      "text/plain": [
       "  peak                      gene_transcript pval        odds      FDR       \n",
       "1 chr10:100027284-100028604 LOXL4_9209      0.006368447 1.5164838 0.04274813\n",
       "2 chr10:100174567-100175450 PYROXD2_9210    0.2433923   0.6452322 0.38082702\n",
       "3 chr10:100190809-100191248 HPS1_9211       0.1278564   0.2016509 0.27068726\n",
       "4 chr10:100194089-100194460 HPS1_9212       0.4846571   1.3459021 0.52094924\n",
       "5 chr10:100205796-100206886 HPS1_9213       0.0354369   1.2798685 0.12826052\n",
       "6 chr10:101088824-101090586 CNNM1_9220      0.4681654   1.0094488 0.51242459\n",
       "  padj.Bonferroni FDR.BY    percent_open_state1 percent_open_state2\n",
       "1 1               0.4438023 2.56898192          1.70889806         \n",
       "2 1               1.0000000 0.19029496          0.29463760         \n",
       "3 1               1.0000000 0.02378687          0.11785504         \n",
       "4 1               1.0000000 0.11893435          0.08839128         \n",
       "5 1               1.0000000 3.59181732          2.82852092         \n",
       "6 1               1.0000000 9.65746908          9.57572186         "
      ]
     },
     "metadata": {},
     "output_type": "display_data"
    }
   ],
   "source": [
    "res.2 <- dat.mat.transcript_level%>% \n",
    "    rename(gene_transcript=V1)%>%\n",
    "    right_join(res$beta%>%rownames_to_column(\"gene_transcript\"))%>%\n",
    "    mutate(percent_open_state1=as.numeric(type1_frac)*100,\n",
    "          percent_open_state2=as.numeric(type2_frac)*100)%>%\n",
    "    select(-ends_with(\"_frac\"))\n",
    "dim(res.2)\n",
    "head(res.2)\n",
    "fwrite(res.2,\"../figures/Fig2/subfigs/fig_2.prom_beta_volcano.csv\")\n"
   ]
  },
  {
   "cell_type": "code",
   "execution_count": 43,
   "metadata": {},
   "outputs": [
    {
     "name": "stderr",
     "output_type": "stream",
     "text": [
      "Joining, by = \"gene_transcript\"\n"
     ]
    },
    {
     "data": {
      "text/html": [
       "<ol class=list-inline>\n",
       "\t<li>17951</li>\n",
       "\t<li>9</li>\n",
       "</ol>\n"
      ],
      "text/latex": [
       "\\begin{enumerate*}\n",
       "\\item 17951\n",
       "\\item 9\n",
       "\\end{enumerate*}\n"
      ],
      "text/markdown": [
       "1. 17951\n",
       "2. 9\n",
       "\n",
       "\n"
      ],
      "text/plain": [
       "[1] 17951     9"
      ]
     },
     "metadata": {},
     "output_type": "display_data"
    },
    {
     "data": {
      "text/html": [
       "<table>\n",
       "<thead><tr><th scope=col>peak</th><th scope=col>gene_transcript</th><th scope=col>pval</th><th scope=col>odds</th><th scope=col>FDR</th><th scope=col>padj.Bonferroni</th><th scope=col>FDR.BY</th><th scope=col>percent_open_state1</th><th scope=col>percent_open_state2</th></tr></thead>\n",
       "<tbody>\n",
       "\t<tr><td>chr10:100027284-100028604</td><td>LOXL4_9209               </td><td>0.5679042                </td><td>1.0529732                </td><td>0.6096245                </td><td>1                        </td><td>1                        </td><td>2.719665                 </td><td> 2.5862069               </td></tr>\n",
       "\t<tr><td>chr10:100174567-100175450</td><td>PYROXD2_9210             </td><td>0.2502162                </td><td>0.2416201                </td><td>0.4410153                </td><td>1                        </td><td>1                        </td><td>0.209205                 </td><td> 0.8620690               </td></tr>\n",
       "\t<tr><td>chr10:100190809-100191248</td><td>HPS1_9211                </td><td>0.3267606                </td><td>0.0000000                </td><td>0.4919224                </td><td>1                        </td><td>1                        </td><td>0.000000                 </td><td> 0.4310345               </td></tr>\n",
       "\t<tr><td>chr10:100194089-100194460</td><td>HPS1_9212                </td><td>0.3267606                </td><td>0.0000000                </td><td>0.4919224                </td><td>1                        </td><td>1                        </td><td>0.000000                 </td><td> 0.4310345               </td></tr>\n",
       "\t<tr><td>chr10:100205796-100206886</td><td>HPS1_9213                </td><td>0.038763                 </td><td>2.7468176                </td><td>0.1802724                </td><td>1                        </td><td>1                        </td><td>4.602510                 </td><td> 1.7241379               </td></tr>\n",
       "\t<tr><td>chr10:101088824-101090586</td><td>CNNM1_9220               </td><td>0.2975085                </td><td>0.8438790                </td><td>0.4854331                </td><td>1                        </td><td>1                        </td><td>9.623431                 </td><td>11.2068966               </td></tr>\n",
       "</tbody>\n",
       "</table>\n"
      ],
      "text/latex": [
       "\\begin{tabular}{r|lllllllll}\n",
       " peak & gene\\_transcript & pval & odds & FDR & padj.Bonferroni & FDR.BY & percent\\_open\\_state1 & percent\\_open\\_state2\\\\\n",
       "\\hline\n",
       "\t chr10:100027284-100028604 & LOXL4\\_9209              & 0.5679042                 & 1.0529732                 & 0.6096245                 & 1                         & 1                         & 2.719665                  &  2.5862069               \\\\\n",
       "\t chr10:100174567-100175450 & PYROXD2\\_9210            & 0.2502162                 & 0.2416201                 & 0.4410153                 & 1                         & 1                         & 0.209205                  &  0.8620690               \\\\\n",
       "\t chr10:100190809-100191248 & HPS1\\_9211               & 0.3267606                 & 0.0000000                 & 0.4919224                 & 1                         & 1                         & 0.000000                  &  0.4310345               \\\\\n",
       "\t chr10:100194089-100194460 & HPS1\\_9212               & 0.3267606                 & 0.0000000                 & 0.4919224                 & 1                         & 1                         & 0.000000                  &  0.4310345               \\\\\n",
       "\t chr10:100205796-100206886 & HPS1\\_9213               & 0.038763                  & 2.7468176                 & 0.1802724                 & 1                         & 1                         & 4.602510                  &  1.7241379               \\\\\n",
       "\t chr10:101088824-101090586 & CNNM1\\_9220              & 0.2975085                 & 0.8438790                 & 0.4854331                 & 1                         & 1                         & 9.623431                  & 11.2068966               \\\\\n",
       "\\end{tabular}\n"
      ],
      "text/markdown": [
       "\n",
       "peak | gene_transcript | pval | odds | FDR | padj.Bonferroni | FDR.BY | percent_open_state1 | percent_open_state2 | \n",
       "|---|---|---|---|---|---|\n",
       "| chr10:100027284-100028604 | LOXL4_9209                | 0.5679042                 | 1.0529732                 | 0.6096245                 | 1                         | 1                         | 2.719665                  |  2.5862069                | \n",
       "| chr10:100174567-100175450 | PYROXD2_9210              | 0.2502162                 | 0.2416201                 | 0.4410153                 | 1                         | 1                         | 0.209205                  |  0.8620690                | \n",
       "| chr10:100190809-100191248 | HPS1_9211                 | 0.3267606                 | 0.0000000                 | 0.4919224                 | 1                         | 1                         | 0.000000                  |  0.4310345                | \n",
       "| chr10:100194089-100194460 | HPS1_9212                 | 0.3267606                 | 0.0000000                 | 0.4919224                 | 1                         | 1                         | 0.000000                  |  0.4310345                | \n",
       "| chr10:100205796-100206886 | HPS1_9213                 | 0.038763                  | 2.7468176                 | 0.1802724                 | 1                         | 1                         | 4.602510                  |  1.7241379                | \n",
       "| chr10:101088824-101090586 | CNNM1_9220                | 0.2975085                 | 0.8438790                 | 0.4854331                 | 1                         | 1                         | 9.623431                  | 11.2068966                | \n",
       "\n",
       "\n"
      ],
      "text/plain": [
       "  peak                      gene_transcript pval      odds      FDR      \n",
       "1 chr10:100027284-100028604 LOXL4_9209      0.5679042 1.0529732 0.6096245\n",
       "2 chr10:100174567-100175450 PYROXD2_9210    0.2502162 0.2416201 0.4410153\n",
       "3 chr10:100190809-100191248 HPS1_9211       0.3267606 0.0000000 0.4919224\n",
       "4 chr10:100194089-100194460 HPS1_9212       0.3267606 0.0000000 0.4919224\n",
       "5 chr10:100205796-100206886 HPS1_9213       0.038763  2.7468176 0.1802724\n",
       "6 chr10:101088824-101090586 CNNM1_9220      0.2975085 0.8438790 0.4854331\n",
       "  padj.Bonferroni FDR.BY percent_open_state1 percent_open_state2\n",
       "1 1               1      2.719665             2.5862069         \n",
       "2 1               1      0.209205             0.8620690         \n",
       "3 1               1      0.000000             0.4310345         \n",
       "4 1               1      0.000000             0.4310345         \n",
       "5 1               1      4.602510             1.7241379         \n",
       "6 1               1      9.623431            11.2068966         "
      ]
     },
     "metadata": {},
     "output_type": "display_data"
    }
   ],
   "source": [
    "res.2 <- dat.mat.transcript_level%>% \n",
    "    rename(gene_transcript=V1)%>%\n",
    "    right_join(res$delta%>%rownames_to_column(\"gene_transcript\"))%>%\n",
    "    mutate(percent_open_state1=as.numeric(type1_frac)*100,\n",
    "          percent_open_state2=as.numeric(type2_frac)*100)%>%\n",
    "    select(-ends_with(\"_frac\"))\n",
    "dim(res.2)\n",
    "head(res.2)\n",
    "fwrite(res.2,\"../figures/Fig2/subfigs/fig_2.prom_delta_volcano.csv\")\n"
   ]
  },
  {
   "cell_type": "code",
   "execution_count": null,
   "metadata": {},
   "outputs": [],
   "source": []
  }
 ],
 "metadata": {
  "kernelspec": {
   "display_name": "R",
   "language": "R",
   "name": "ir"
  },
  "language_info": {
   "codemirror_mode": "r",
   "file_extension": ".r",
   "mimetype": "text/x-r-source",
   "name": "R",
   "pygments_lexer": "r",
   "version": "3.5.1"
  }
 },
 "nbformat": 4,
 "nbformat_minor": 2
}
