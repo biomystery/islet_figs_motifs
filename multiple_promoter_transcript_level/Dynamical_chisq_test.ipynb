{
 "cells": [
  {
   "cell_type": "markdown",
   "metadata": {},
   "source": [
    "## 1. Rationale\n",
    "\n",
    "* due to the sparseness, the ps is binned to 20 (can change) \n",
    "* then chisq test wheter the ratio of openning is dependent on bins "
   ]
  },
  {
   "cell_type": "markdown",
   "metadata": {},
   "source": [
    "##  2. load data"
   ]
  },
  {
   "cell_type": "code",
   "execution_count": 1,
   "metadata": {},
   "outputs": [
    {
     "name": "stderr",
     "output_type": "stream",
     "text": [
      "Loading required package: data.table\n"
     ]
    }
   ],
   "source": [
    "require(data.table)\n",
    "dat.pro_ps<- fread(\"../dat/1901/alpha_beta.promoter.long_matrix_w_transcripts_ps.txt\")"
   ]
  },
  {
   "cell_type": "code",
   "execution_count": 2,
   "metadata": {},
   "outputs": [
    {
     "data": {
      "text/html": [
       "<table>\n",
       "<thead><tr><th scope=col>gene_tr.idx</th><th scope=col>cluster</th><th scope=col>cell</th><th scope=col>ps</th></tr></thead>\n",
       "<tbody>\n",
       "\t<tr><td>SAMD11_7                                  </td><td>alpha_1                                   </td><td>Islet1-fresh_AGACACCTAGGCAGAAGTAAGGAGCAGGA</td><td>5.643735                                  </td></tr>\n",
       "\t<tr><td>SAMD11_7                                  </td><td>alpha_1                                   </td><td>Islet1-fresh_AGACACCTATGCGCAGCGTCTAATGGTTG</td><td>1.056578                                  </td></tr>\n",
       "\t<tr><td>SAMD11_7                                  </td><td>alpha_2                                   </td><td>Islet1-fresh_AGACACCTCGAGGCTGAAGGCTATGGTTG</td><td>6.254863                                  </td></tr>\n",
       "\t<tr><td>SAMD11_7                                  </td><td>alpha_2                                   </td><td>Islet1-fresh_AGACACCTCGTACTAGCTAAGCCTGTACT</td><td>6.508574                                  </td></tr>\n",
       "\t<tr><td>SAMD11_7                                  </td><td>alpha_1                                   </td><td>Islet1-fresh_AGACACCTGGACTCCTTCGACTAGGGTTG</td><td>2.120670                                  </td></tr>\n",
       "\t<tr><td>SAMD11_7                                  </td><td>alpha_2                                   </td><td>Islet1-fresh_AGACACCTGGAGCTACAAGGAGTAAGGCG</td><td>5.564368                                  </td></tr>\n",
       "</tbody>\n",
       "</table>\n"
      ],
      "text/latex": [
       "\\begin{tabular}{r|llll}\n",
       " gene\\_tr.idx & cluster & cell & ps\\\\\n",
       "\\hline\n",
       "\t SAMD11\\_7                                   & alpha\\_1                                    & Islet1-fresh\\_AGACACCTAGGCAGAAGTAAGGAGCAGGA & 5.643735                                    \\\\\n",
       "\t SAMD11\\_7                                   & alpha\\_1                                    & Islet1-fresh\\_AGACACCTATGCGCAGCGTCTAATGGTTG & 1.056578                                    \\\\\n",
       "\t SAMD11\\_7                                   & alpha\\_2                                    & Islet1-fresh\\_AGACACCTCGAGGCTGAAGGCTATGGTTG & 6.254863                                    \\\\\n",
       "\t SAMD11\\_7                                   & alpha\\_2                                    & Islet1-fresh\\_AGACACCTCGTACTAGCTAAGCCTGTACT & 6.508574                                    \\\\\n",
       "\t SAMD11\\_7                                   & alpha\\_1                                    & Islet1-fresh\\_AGACACCTGGACTCCTTCGACTAGGGTTG & 2.120670                                    \\\\\n",
       "\t SAMD11\\_7                                   & alpha\\_2                                    & Islet1-fresh\\_AGACACCTGGAGCTACAAGGAGTAAGGCG & 5.564368                                    \\\\\n",
       "\\end{tabular}\n"
      ],
      "text/markdown": [
       "\n",
       "| gene_tr.idx | cluster | cell | ps |\n",
       "|---|---|---|---|\n",
       "| SAMD11_7                                   | alpha_1                                    | Islet1-fresh_AGACACCTAGGCAGAAGTAAGGAGCAGGA | 5.643735                                   |\n",
       "| SAMD11_7                                   | alpha_1                                    | Islet1-fresh_AGACACCTATGCGCAGCGTCTAATGGTTG | 1.056578                                   |\n",
       "| SAMD11_7                                   | alpha_2                                    | Islet1-fresh_AGACACCTCGAGGCTGAAGGCTATGGTTG | 6.254863                                   |\n",
       "| SAMD11_7                                   | alpha_2                                    | Islet1-fresh_AGACACCTCGTACTAGCTAAGCCTGTACT | 6.508574                                   |\n",
       "| SAMD11_7                                   | alpha_1                                    | Islet1-fresh_AGACACCTGGACTCCTTCGACTAGGGTTG | 2.120670                                   |\n",
       "| SAMD11_7                                   | alpha_2                                    | Islet1-fresh_AGACACCTGGAGCTACAAGGAGTAAGGCG | 5.564368                                   |\n",
       "\n"
      ],
      "text/plain": [
       "  gene_tr.idx cluster cell                                       ps      \n",
       "1 SAMD11_7    alpha_1 Islet1-fresh_AGACACCTAGGCAGAAGTAAGGAGCAGGA 5.643735\n",
       "2 SAMD11_7    alpha_1 Islet1-fresh_AGACACCTATGCGCAGCGTCTAATGGTTG 1.056578\n",
       "3 SAMD11_7    alpha_2 Islet1-fresh_AGACACCTCGAGGCTGAAGGCTATGGTTG 6.254863\n",
       "4 SAMD11_7    alpha_2 Islet1-fresh_AGACACCTCGTACTAGCTAAGCCTGTACT 6.508574\n",
       "5 SAMD11_7    alpha_1 Islet1-fresh_AGACACCTGGACTCCTTCGACTAGGGTTG 2.120670\n",
       "6 SAMD11_7    alpha_2 Islet1-fresh_AGACACCTGGAGCTACAAGGAGTAAGGCG 5.564368"
      ]
     },
     "metadata": {},
     "output_type": "display_data"
    },
    {
     "data": {
      "text/html": [
       "<ol class=list-inline>\n",
       "\t<li>19412387</li>\n",
       "\t<li>4</li>\n",
       "</ol>\n"
      ],
      "text/latex": [
       "\\begin{enumerate*}\n",
       "\\item 19412387\n",
       "\\item 4\n",
       "\\end{enumerate*}\n"
      ],
      "text/markdown": [
       "1. 19412387\n",
       "2. 4\n",
       "\n",
       "\n"
      ],
      "text/plain": [
       "[1] 19412387        4"
      ]
     },
     "metadata": {},
     "output_type": "display_data"
    }
   ],
   "source": [
    "head(dat.pro_ps)\n",
    "dim(dat.pro_ps)"
   ]
  },
  {
   "cell_type": "markdown",
   "metadata": {},
   "source": [
    "### 2.1 bin data "
   ]
  },
  {
   "cell_type": "code",
   "execution_count": 4,
   "metadata": {},
   "outputs": [
    {
     "data": {
      "text/html": [
       "<dl>\n",
       "\t<dt>$alpha</dt>\n",
       "\t\t<dd><ol class=list-inline>\n",
       "\t<li>0</li>\n",
       "\t<li>6.74617593265917</li>\n",
       "</ol>\n",
       "</dd>\n",
       "\t<dt>$beta</dt>\n",
       "\t\t<dd><ol class=list-inline>\n",
       "\t<li>0</li>\n",
       "\t<li>20.2079032250925</li>\n",
       "</ol>\n",
       "</dd>\n",
       "</dl>\n"
      ],
      "text/latex": [
       "\\begin{description}\n",
       "\\item[\\$alpha] \\begin{enumerate*}\n",
       "\\item 0\n",
       "\\item 6.74617593265917\n",
       "\\end{enumerate*}\n",
       "\n",
       "\\item[\\$beta] \\begin{enumerate*}\n",
       "\\item 0\n",
       "\\item 20.2079032250925\n",
       "\\end{enumerate*}\n",
       "\n",
       "\\end{description}\n"
      ],
      "text/markdown": [
       "$alpha\n",
       ":   1. 0\n",
       "2. 6.74617593265917\n",
       "\n",
       "\n",
       "\n",
       "$beta\n",
       ":   1. 0\n",
       "2. 20.2079032250925\n",
       "\n",
       "\n",
       "\n",
       "\n",
       "\n"
      ],
      "text/plain": [
       "$alpha\n",
       "[1] 0.000000 6.746176\n",
       "\n",
       "$beta\n",
       "[1]  0.0000 20.2079\n"
      ]
     },
     "metadata": {},
     "output_type": "display_data"
    }
   ],
   "source": [
    "require(tidyverse)\n",
    "ps.range <- list()\n",
    "ps.range$alpha <- range((dat.pro_ps %>%filter(cluster %in% c(\"alpha_1\",\"alpha_2\")))$ps)\n",
    "ps.range$beta <- range((dat.pro_ps %>%filter(cluster %in% c(\"beta_1\",\"beta_2\")))$ps)\n",
    "ps.range"
   ]
  },
  {
   "cell_type": "code",
   "execution_count": 5,
   "metadata": {},
   "outputs": [
    {
     "name": "stdout",
     "output_type": "stream",
     "text": [
      "101 # bins:\n",
      "quantiles of alpha cell number per bin:\n"
     ]
    },
    {
     "data": {
      "text/html": [
       "<table>\n",
       "<thead><tr><th scope=col>0%</th><th scope=col>25%</th><th scope=col>50%</th><th scope=col>75%</th><th scope=col>100%</th></tr></thead>\n",
       "<tbody>\n",
       "\t<tr><td>1    </td><td>21   </td><td>41   </td><td>71.25</td><td>257  </td></tr>\n",
       "</tbody>\n",
       "</table>\n"
      ],
      "text/latex": [
       "\\begin{tabular}{lllll}\n",
       " 0\\% & 25\\% & 50\\% & 75\\% & 100\\%\\\\\n",
       "\\hline\n",
       "\t 1     & 21    & 41    & 71.25 & 257  \\\\\n",
       "\\end{tabular}\n"
      ],
      "text/markdown": [
       "\n",
       "| 0% | 25% | 50% | 75% | 100% |\n",
       "|---|---|---|---|---|\n",
       "| 1     | 21    | 41    | 71.25 | 257   |\n",
       "\n"
      ],
      "text/plain": [
       "     0% 25% 50% 75%   100%\n",
       "[1,] 1  21  41  71.25 257 "
      ]
     },
     "metadata": {},
     "output_type": "display_data"
    },
    {
     "name": "stdout",
     "output_type": "stream",
     "text": [
      "quantiles of beta cell number per bin:\n"
     ]
    },
    {
     "data": {
      "text/html": [
       "<table>\n",
       "<thead><tr><th scope=col>0%</th><th scope=col>25%</th><th scope=col>50%</th><th scope=col>75%</th><th scope=col>100%</th></tr></thead>\n",
       "<tbody>\n",
       "\t<tr><td>2    </td><td>18.75</td><td>33.5 </td><td>77   </td><td>655  </td></tr>\n",
       "</tbody>\n",
       "</table>\n"
      ],
      "text/latex": [
       "\\begin{tabular}{lllll}\n",
       " 0\\% & 25\\% & 50\\% & 75\\% & 100\\%\\\\\n",
       "\\hline\n",
       "\t 2     & 18.75 & 33.5  & 77    & 655  \\\\\n",
       "\\end{tabular}\n"
      ],
      "text/markdown": [
       "\n",
       "| 0% | 25% | 50% | 75% | 100% |\n",
       "|---|---|---|---|---|\n",
       "| 2     | 18.75 | 33.5  | 77    | 655   |\n",
       "\n"
      ],
      "text/plain": [
       "     0% 25%   50%  75% 100%\n",
       "[1,] 2  18.75 33.5 77  655 "
      ]
     },
     "metadata": {},
     "output_type": "display_data"
    }
   ],
   "source": [
    "N.bin<- 101\n",
    "ps.bks <- list()\n",
    "ps.bks$alpha <- seq(ps.range$alpha[1],ps.range$alpha[2],length.out = N.bin)\n",
    "ps.bks$beta <- seq(ps.range$beta[1],ps.range$beta[2],length.out = N.bin)\n",
    "\n",
    "dat.pro_ps <- rbind(\n",
    "    dat.pro_ps%>% \n",
    "    filter(cluster %in% c(\"alpha_1\",\"alpha_2\"))%>%\n",
    "    mutate(ps_bin =cut(ps,breaks = ps.bks$alpha,include.lowest = T)),\n",
    "    dat.pro_ps%>% \n",
    "    filter(cluster %in% c(\"beta_1\",\"beta_2\"))%>%\n",
    "    mutate(ps_bin =cut(ps,breaks = ps.bks$beta,include.lowest = T))\n",
    ")%>%separate(cluster,into=c(\"celltype\",\"subtype\"))\n",
    "\n",
    "ps.bin.dat.sum<- dat.pro_ps%>%separate(cluster,into = c(\"celltype\",\"subtype\"))%>%\n",
    "select(-one_of(\"gene_tr.idx\",\"ps\"))%>%distinct()\n",
    "\n",
    "setDT(ps.bin.dat.sum)\n",
    "ps.bin.dat.sum<-ps.bin.dat.sum[, .(.N), by = .(ps_bin,celltype)]\n",
    "cat(paste(N.bin,\"# bins:\\n\"))\n",
    "cat(\"quantiles of alpha cell number per bin:\\n\")\n",
    "t(quantile((ps.bin.dat.sum%>%filter(celltype==\"alpha\"))$N))\n",
    "cat(\"quantiles of beta cell number per bin:\\n\")\n",
    "t(quantile((ps.bin.dat.sum%>%filter(celltype==\"beta\"))$N))"
   ]
  },
  {
   "cell_type": "code",
   "execution_count": 6,
   "metadata": {},
   "outputs": [
    {
     "data": {
      "text/html": [
       "<table>\n",
       "<thead><tr><th scope=col>celltype</th><th scope=col>tot</th></tr></thead>\n",
       "<tbody>\n",
       "\t<tr><td>alpha</td><td>5594 </td></tr>\n",
       "\t<tr><td>beta </td><td>7170 </td></tr>\n",
       "</tbody>\n",
       "</table>\n"
      ],
      "text/latex": [
       "\\begin{tabular}{r|ll}\n",
       " celltype & tot\\\\\n",
       "\\hline\n",
       "\t alpha & 5594 \\\\\n",
       "\t beta  & 7170 \\\\\n",
       "\\end{tabular}\n"
      ],
      "text/markdown": [
       "\n",
       "| celltype | tot |\n",
       "|---|---|\n",
       "| alpha | 5594  |\n",
       "| beta  | 7170  |\n",
       "\n"
      ],
      "text/plain": [
       "  celltype tot \n",
       "1 alpha    5594\n",
       "2 beta     7170"
      ]
     },
     "metadata": {},
     "output_type": "display_data"
    }
   ],
   "source": [
    "ps.bin.dat.sum%>%group_by(celltype)%>%summarise(tot=sum(N))"
   ]
  },
  {
   "cell_type": "code",
   "execution_count": 13,
   "metadata": {},
   "outputs": [
    {
     "data": {
      "text/html": [
       "<table>\n",
       "<thead><tr><th scope=col>ps_bin</th><th scope=col>celltype</th><th scope=col>N</th></tr></thead>\n",
       "<tbody>\n",
       "\t<tr><td>(5.6,5.67] </td><td>alpha      </td><td> 38        </td></tr>\n",
       "\t<tr><td>(1.01,1.08]</td><td>alpha      </td><td>151        </td></tr>\n",
       "\t<tr><td>(6.21,6.27]</td><td>alpha      </td><td>107        </td></tr>\n",
       "\t<tr><td>(6.48,6.54]</td><td>alpha      </td><td> 19        </td></tr>\n",
       "\t<tr><td>(2.09,2.16]</td><td>alpha      </td><td>160        </td></tr>\n",
       "\t<tr><td>(5.53,5.6] </td><td>alpha      </td><td> 28        </td></tr>\n",
       "</tbody>\n",
       "</table>\n"
      ],
      "text/latex": [
       "\\begin{tabular}{r|lll}\n",
       " ps\\_bin & celltype & N\\\\\n",
       "\\hline\n",
       "\t (5.6,5.67{]}  & alpha         &  38          \\\\\n",
       "\t (1.01,1.08{]} & alpha         & 151          \\\\\n",
       "\t (6.21,6.27{]} & alpha         & 107          \\\\\n",
       "\t (6.48,6.54{]} & alpha         &  19          \\\\\n",
       "\t (2.09,2.16{]} & alpha         & 160          \\\\\n",
       "\t (5.53,5.6{]}  & alpha         &  28          \\\\\n",
       "\\end{tabular}\n"
      ],
      "text/markdown": [
       "\n",
       "| ps_bin | celltype | N |\n",
       "|---|---|---|\n",
       "| (5.6,5.67]  | alpha       |  38         |\n",
       "| (1.01,1.08] | alpha       | 151         |\n",
       "| (6.21,6.27] | alpha       | 107         |\n",
       "| (6.48,6.54] | alpha       |  19         |\n",
       "| (2.09,2.16] | alpha       | 160         |\n",
       "| (5.53,5.6]  | alpha       |  28         |\n",
       "\n"
      ],
      "text/plain": [
       "  ps_bin      celltype N  \n",
       "1 (5.6,5.67]  alpha     38\n",
       "2 (1.01,1.08] alpha    151\n",
       "3 (6.21,6.27] alpha    107\n",
       "4 (6.48,6.54] alpha     19\n",
       "5 (2.09,2.16] alpha    160\n",
       "6 (5.53,5.6]  alpha     28"
      ]
     },
     "metadata": {},
     "output_type": "display_data"
    },
    {
     "data": {
      "text/html": [
       "<table>\n",
       "<thead><tr><th scope=col>gene_tr.idx</th><th scope=col>celltype</th><th scope=col>subtype</th><th scope=col>cell</th><th scope=col>ps</th><th scope=col>ps_bin</th></tr></thead>\n",
       "<tbody>\n",
       "\t<tr><td>SAMD11_7                                  </td><td>alpha                                     </td><td>1                                         </td><td>Islet1-fresh_AGACACCTAGGCAGAAGTAAGGAGCAGGA</td><td>5.643735                                  </td><td>(5.6,5.67]                                </td></tr>\n",
       "\t<tr><td>SAMD11_7                                  </td><td>alpha                                     </td><td>1                                         </td><td>Islet1-fresh_AGACACCTATGCGCAGCGTCTAATGGTTG</td><td>1.056578                                  </td><td>(1.01,1.08]                               </td></tr>\n",
       "\t<tr><td>SAMD11_7                                  </td><td>alpha                                     </td><td>2                                         </td><td>Islet1-fresh_AGACACCTCGAGGCTGAAGGCTATGGTTG</td><td>6.254863                                  </td><td>(6.21,6.27]                               </td></tr>\n",
       "\t<tr><td>SAMD11_7                                  </td><td>alpha                                     </td><td>2                                         </td><td>Islet1-fresh_AGACACCTCGTACTAGCTAAGCCTGTACT</td><td>6.508574                                  </td><td>(6.48,6.54]                               </td></tr>\n",
       "\t<tr><td>SAMD11_7                                  </td><td>alpha                                     </td><td>1                                         </td><td>Islet1-fresh_AGACACCTGGACTCCTTCGACTAGGGTTG</td><td>2.120670                                  </td><td>(2.09,2.16]                               </td></tr>\n",
       "\t<tr><td>SAMD11_7                                  </td><td>alpha                                     </td><td>2                                         </td><td>Islet1-fresh_AGACACCTGGAGCTACAAGGAGTAAGGCG</td><td>5.564368                                  </td><td>(5.53,5.6]                                </td></tr>\n",
       "</tbody>\n",
       "</table>\n"
      ],
      "text/latex": [
       "\\begin{tabular}{r|llllll}\n",
       " gene\\_tr.idx & celltype & subtype & cell & ps & ps\\_bin\\\\\n",
       "\\hline\n",
       "\t SAMD11\\_7                                   & alpha                                        & 1                                            & Islet1-fresh\\_AGACACCTAGGCAGAAGTAAGGAGCAGGA & 5.643735                                     & (5.6,5.67{]}                                \\\\\n",
       "\t SAMD11\\_7                                   & alpha                                        & 1                                            & Islet1-fresh\\_AGACACCTATGCGCAGCGTCTAATGGTTG & 1.056578                                     & (1.01,1.08{]}                               \\\\\n",
       "\t SAMD11\\_7                                   & alpha                                        & 2                                            & Islet1-fresh\\_AGACACCTCGAGGCTGAAGGCTATGGTTG & 6.254863                                     & (6.21,6.27{]}                               \\\\\n",
       "\t SAMD11\\_7                                   & alpha                                        & 2                                            & Islet1-fresh\\_AGACACCTCGTACTAGCTAAGCCTGTACT & 6.508574                                     & (6.48,6.54{]}                               \\\\\n",
       "\t SAMD11\\_7                                   & alpha                                        & 1                                            & Islet1-fresh\\_AGACACCTGGACTCCTTCGACTAGGGTTG & 2.120670                                     & (2.09,2.16{]}                               \\\\\n",
       "\t SAMD11\\_7                                   & alpha                                        & 2                                            & Islet1-fresh\\_AGACACCTGGAGCTACAAGGAGTAAGGCG & 5.564368                                     & (5.53,5.6{]}                                \\\\\n",
       "\\end{tabular}\n"
      ],
      "text/markdown": [
       "\n",
       "| gene_tr.idx | celltype | subtype | cell | ps | ps_bin |\n",
       "|---|---|---|---|---|---|\n",
       "| SAMD11_7                                   | alpha                                      | 1                                          | Islet1-fresh_AGACACCTAGGCAGAAGTAAGGAGCAGGA | 5.643735                                   | (5.6,5.67]                                 |\n",
       "| SAMD11_7                                   | alpha                                      | 1                                          | Islet1-fresh_AGACACCTATGCGCAGCGTCTAATGGTTG | 1.056578                                   | (1.01,1.08]                                |\n",
       "| SAMD11_7                                   | alpha                                      | 2                                          | Islet1-fresh_AGACACCTCGAGGCTGAAGGCTATGGTTG | 6.254863                                   | (6.21,6.27]                                |\n",
       "| SAMD11_7                                   | alpha                                      | 2                                          | Islet1-fresh_AGACACCTCGTACTAGCTAAGCCTGTACT | 6.508574                                   | (6.48,6.54]                                |\n",
       "| SAMD11_7                                   | alpha                                      | 1                                          | Islet1-fresh_AGACACCTGGACTCCTTCGACTAGGGTTG | 2.120670                                   | (2.09,2.16]                                |\n",
       "| SAMD11_7                                   | alpha                                      | 2                                          | Islet1-fresh_AGACACCTGGAGCTACAAGGAGTAAGGCG | 5.564368                                   | (5.53,5.6]                                 |\n",
       "\n"
      ],
      "text/plain": [
       "  gene_tr.idx celltype subtype cell                                      \n",
       "1 SAMD11_7    alpha    1       Islet1-fresh_AGACACCTAGGCAGAAGTAAGGAGCAGGA\n",
       "2 SAMD11_7    alpha    1       Islet1-fresh_AGACACCTATGCGCAGCGTCTAATGGTTG\n",
       "3 SAMD11_7    alpha    2       Islet1-fresh_AGACACCTCGAGGCTGAAGGCTATGGTTG\n",
       "4 SAMD11_7    alpha    2       Islet1-fresh_AGACACCTCGTACTAGCTAAGCCTGTACT\n",
       "5 SAMD11_7    alpha    1       Islet1-fresh_AGACACCTGGACTCCTTCGACTAGGGTTG\n",
       "6 SAMD11_7    alpha    2       Islet1-fresh_AGACACCTGGAGCTACAAGGAGTAAGGCG\n",
       "  ps       ps_bin     \n",
       "1 5.643735 (5.6,5.67] \n",
       "2 1.056578 (1.01,1.08]\n",
       "3 6.254863 (6.21,6.27]\n",
       "4 6.508574 (6.48,6.54]\n",
       "5 2.120670 (2.09,2.16]\n",
       "6 5.564368 (5.53,5.6] "
      ]
     },
     "metadata": {},
     "output_type": "display_data"
    },
    {
     "data": {
      "text/html": [
       "<ol class=list-inline>\n",
       "\t<li>19412387</li>\n",
       "\t<li>6</li>\n",
       "</ol>\n"
      ],
      "text/latex": [
       "\\begin{enumerate*}\n",
       "\\item 19412387\n",
       "\\item 6\n",
       "\\end{enumerate*}\n"
      ],
      "text/markdown": [
       "1. 19412387\n",
       "2. 6\n",
       "\n",
       "\n"
      ],
      "text/plain": [
       "[1] 19412387        6"
      ]
     },
     "metadata": {},
     "output_type": "display_data"
    }
   ],
   "source": [
    "head(ps.bin.dat.sum)\n",
    "head(dat.pro_ps)\n",
    "dim(dat.pro_ps)\n"
   ]
  },
  {
   "cell_type": "code",
   "execution_count": 48,
   "metadata": {},
   "outputs": [],
   "source": [
    "fwrite(dat.pro_ps,file = \"../dat/1901/dat.pro_ps.csv\")"
   ]
  },
  {
   "cell_type": "markdown",
   "metadata": {},
   "source": [
    "## 3. run chisq test on dependence on bin"
   ]
  },
  {
   "cell_type": "markdown",
   "metadata": {},
   "source": [
    "### 3.1 filter max fraction < 10%"
   ]
  },
  {
   "cell_type": "code",
   "execution_count": 16,
   "metadata": {},
   "outputs": [],
   "source": [
    "ps.bin.dat.sum.2<-ps.bin.dat.sum%>%\n",
    "    as.data.frame()%>%\n",
    "    mutate(ps_bin =as.character(ps_bin))%>%\n",
    "    column_to_rownames(\"ps_bin\")\n",
    "\n",
    "run_chisq_test<- function(g=\"SAMD11_7\"){\n",
    "    test.dat <- dat.sub%>%\n",
    "    mutate(ps_bin=droplevels(ps_bin))%>%\n",
    "    filter(gene_tr.idx==\"SAMD11_7\")%>%\n",
    "    select(one_of(\"celltype\",\"ps_bin\"))\n",
    "\n",
    "    test.dat.tab <- as.matrix(t(table(test.dat$ps_bin)))\n",
    "    test.dat.tab<-rbind(test.dat.tab,ps.bin.dat.sum.2[colnames(test.dat.tab),'N']-test.dat.tab[1,])\n",
    "    rownames(test.dat.tab)<- c(\"open\",\"close\")\n",
    "    chisq <- chisq.test(test.dat.tab,simulate.p.value=T)\n",
    "    chisq$p.value\n",
    "}"
   ]
  },
  {
   "cell_type": "code",
   "execution_count": 64,
   "metadata": {},
   "outputs": [
    {
     "data": {
      "text/plain": [
       "   user  system elapsed \n",
       "  7.614   3.379   3.711 "
      ]
     },
     "metadata": {},
     "output_type": "display_data"
    }
   ],
   "source": [
    "require(parallel)\n",
    "system.time(tmp <- lapply(c(\"alpha\",\"beta\"),function(ct){\n",
    "    dat.sub <- dat.pro_ps%>%filter(celltype ==ct)\n",
    "    all_tr <- unique(dat.sub$gene_tr.idx)\n",
    "    mclapply(all_tr[1:10],function(g){\n",
    "        run_chisq_test(g)\n",
    "    },mc.cores = 10)\n",
    "}))"
   ]
  },
  {
   "cell_type": "code",
   "execution_count": 65,
   "metadata": {},
   "outputs": [
    {
     "data": {
      "text/html": [
       "<ol>\n",
       "\t<li><ol>\n",
       "\t<li>0.265367316341829</li>\n",
       "\t<li>0.276861569215392</li>\n",
       "\t<li>0.259370314842579</li>\n",
       "\t<li>0.272863568215892</li>\n",
       "\t<li>0.274862568715642</li>\n",
       "\t<li>0.256371814092954</li>\n",
       "\t<li>0.267366316841579</li>\n",
       "\t<li>0.261369315342329</li>\n",
       "\t<li>0.266366816591704</li>\n",
       "\t<li>0.266366816591704</li>\n",
       "</ol>\n",
       "</li>\n",
       "\t<li><ol>\n",
       "\t<li>0.262868565717141</li>\n",
       "\t<li>0.276361819090455</li>\n",
       "\t<li>0.267366316841579</li>\n",
       "\t<li>0.263868065967017</li>\n",
       "\t<li>0.256871564217891</li>\n",
       "\t<li>0.290854572713643</li>\n",
       "\t<li>0.261869065467266</li>\n",
       "\t<li>0.249875062468766</li>\n",
       "\t<li>0.27936031984008</li>\n",
       "\t<li>0.251874062968516</li>\n",
       "</ol>\n",
       "</li>\n",
       "</ol>\n"
      ],
      "text/latex": [
       "\\begin{enumerate}\n",
       "\\item \\begin{enumerate}\n",
       "\\item 0.265367316341829\n",
       "\\item 0.276861569215392\n",
       "\\item 0.259370314842579\n",
       "\\item 0.272863568215892\n",
       "\\item 0.274862568715642\n",
       "\\item 0.256371814092954\n",
       "\\item 0.267366316841579\n",
       "\\item 0.261369315342329\n",
       "\\item 0.266366816591704\n",
       "\\item 0.266366816591704\n",
       "\\end{enumerate}\n",
       "\n",
       "\\item \\begin{enumerate}\n",
       "\\item 0.262868565717141\n",
       "\\item 0.276361819090455\n",
       "\\item 0.267366316841579\n",
       "\\item 0.263868065967017\n",
       "\\item 0.256871564217891\n",
       "\\item 0.290854572713643\n",
       "\\item 0.261869065467266\n",
       "\\item 0.249875062468766\n",
       "\\item 0.27936031984008\n",
       "\\item 0.251874062968516\n",
       "\\end{enumerate}\n",
       "\n",
       "\\end{enumerate}\n"
      ],
      "text/markdown": [
       "1. 1. 0.265367316341829\n",
       "2. 0.276861569215392\n",
       "3. 0.259370314842579\n",
       "4. 0.272863568215892\n",
       "5. 0.274862568715642\n",
       "6. 0.256371814092954\n",
       "7. 0.267366316841579\n",
       "8. 0.261369315342329\n",
       "9. 0.266366816591704\n",
       "10. 0.266366816591704\n",
       "\n",
       "\n",
       "\n",
       "2. 1. 0.262868565717141\n",
       "2. 0.276361819090455\n",
       "3. 0.267366316841579\n",
       "4. 0.263868065967017\n",
       "5. 0.256871564217891\n",
       "6. 0.290854572713643\n",
       "7. 0.261869065467266\n",
       "8. 0.249875062468766\n",
       "9. 0.27936031984008\n",
       "10. 0.251874062968516\n",
       "\n",
       "\n",
       "\n",
       "\n",
       "\n"
      ],
      "text/plain": [
       "[[1]]\n",
       "[[1]][[1]]\n",
       "[1] 0.2653673\n",
       "\n",
       "[[1]][[2]]\n",
       "[1] 0.2768616\n",
       "\n",
       "[[1]][[3]]\n",
       "[1] 0.2593703\n",
       "\n",
       "[[1]][[4]]\n",
       "[1] 0.2728636\n",
       "\n",
       "[[1]][[5]]\n",
       "[1] 0.2748626\n",
       "\n",
       "[[1]][[6]]\n",
       "[1] 0.2563718\n",
       "\n",
       "[[1]][[7]]\n",
       "[1] 0.2673663\n",
       "\n",
       "[[1]][[8]]\n",
       "[1] 0.2613693\n",
       "\n",
       "[[1]][[9]]\n",
       "[1] 0.2663668\n",
       "\n",
       "[[1]][[10]]\n",
       "[1] 0.2663668\n",
       "\n",
       "\n",
       "[[2]]\n",
       "[[2]][[1]]\n",
       "[1] 0.2628686\n",
       "\n",
       "[[2]][[2]]\n",
       "[1] 0.2763618\n",
       "\n",
       "[[2]][[3]]\n",
       "[1] 0.2673663\n",
       "\n",
       "[[2]][[4]]\n",
       "[1] 0.2638681\n",
       "\n",
       "[[2]][[5]]\n",
       "[1] 0.2568716\n",
       "\n",
       "[[2]][[6]]\n",
       "[1] 0.2908546\n",
       "\n",
       "[[2]][[7]]\n",
       "[1] 0.2618691\n",
       "\n",
       "[[2]][[8]]\n",
       "[1] 0.2498751\n",
       "\n",
       "[[2]][[9]]\n",
       "[1] 0.2793603\n",
       "\n",
       "[[2]][[10]]\n",
       "[1] 0.2518741\n",
       "\n"
      ]
     },
     "metadata": {},
     "output_type": "display_data"
    }
   ],
   "source": [
    "tmp"
   ]
  },
  {
   "cell_type": "code",
   "execution_count": 51,
   "metadata": {},
   "outputs": [],
   "source": [
    "names(res) <- c(\"alpha\",\"beta\")"
   ]
  },
  {
   "cell_type": "code",
   "execution_count": 57,
   "metadata": {},
   "outputs": [],
   "source": [
    "tmp <- do.call(c,res$alpha)\n",
    "names(tmp) <-  unique((dat.pro_ps%>%filter(celltype ==\"alpha\"))$gene_tr.idx)\n",
    "res$alpha <- tmp "
   ]
  },
  {
   "cell_type": "code",
   "execution_count": 58,
   "metadata": {},
   "outputs": [
    {
     "ename": "ERROR",
     "evalue": "Error in names(tmp) <- unique((dat.pro_ps %>% filter(celltype == \"beta\"))$gene_tr.idx): 'names' attribute [21825] must be the same length as the vector [21715]\n",
     "output_type": "error",
     "traceback": [
      "Error in names(tmp) <- unique((dat.pro_ps %>% filter(celltype == \"beta\"))$gene_tr.idx): 'names' attribute [21825] must be the same length as the vector [21715]\nTraceback:\n"
     ]
    }
   ],
   "source": [
    "tmp <- do.call(c,res$beta)\n",
    "names(tmp) <-  unique((dat.pro_ps%>%filter(celltype ==\"beta\"))$gene_tr.idx)\n",
    "res$beta <- tmp "
   ]
  },
  {
   "cell_type": "code",
   "execution_count": 59,
   "metadata": {},
   "outputs": [
    {
     "data": {
      "text/html": [
       "<ol class=list-inline>\n",
       "\t<li>0.258370814592704</li>\n",
       "\t<li>0.256871564217891</li>\n",
       "\t<li>0.273863068465767</li>\n",
       "\t<li>0.266366816591704</li>\n",
       "\t<li>0.251374312843578</li>\n",
       "\t<li>0.267866066966517</li>\n",
       "</ol>\n"
      ],
      "text/latex": [
       "\\begin{enumerate*}\n",
       "\\item 0.258370814592704\n",
       "\\item 0.256871564217891\n",
       "\\item 0.273863068465767\n",
       "\\item 0.266366816591704\n",
       "\\item 0.251374312843578\n",
       "\\item 0.267866066966517\n",
       "\\end{enumerate*}\n"
      ],
      "text/markdown": [
       "1. 0.258370814592704\n",
       "2. 0.256871564217891\n",
       "3. 0.273863068465767\n",
       "4. 0.266366816591704\n",
       "5. 0.251374312843578\n",
       "6. 0.267866066966517\n",
       "\n",
       "\n"
      ],
      "text/plain": [
       "[1] 0.2583708 0.2568716 0.2738631 0.2663668 0.2513743 0.2678661"
      ]
     },
     "metadata": {},
     "output_type": "display_data"
    }
   ],
   "source": [
    "head(tmp)"
   ]
  },
  {
   "cell_type": "code",
   "execution_count": 67,
   "metadata": {},
   "outputs": [
    {
     "data": {
      "text/html": [
       "<ol class=list-inline>\n",
       "\t<li>0.228385807096452</li>\n",
       "\t<li>0.311844077961019</li>\n",
       "</ol>\n"
      ],
      "text/latex": [
       "\\begin{enumerate*}\n",
       "\\item 0.228385807096452\n",
       "\\item 0.311844077961019\n",
       "\\end{enumerate*}\n"
      ],
      "text/markdown": [
       "1. 0.228385807096452\n",
       "2. 0.311844077961019\n",
       "\n",
       "\n"
      ],
      "text/plain": [
       "[1] 0.2283858 0.3118441"
      ]
     },
     "metadata": {},
     "output_type": "display_data"
    },
    {
     "data": {
      "text/html": [
       "<ol class=list-inline>\n",
       "\t<li>0.222888555722139</li>\n",
       "\t<li>0.313343328335832</li>\n",
       "</ol>\n"
      ],
      "text/latex": [
       "\\begin{enumerate*}\n",
       "\\item 0.222888555722139\n",
       "\\item 0.313343328335832\n",
       "\\end{enumerate*}\n"
      ],
      "text/markdown": [
       "1. 0.222888555722139\n",
       "2. 0.313343328335832\n",
       "\n",
       "\n"
      ],
      "text/plain": [
       "[1] 0.2228886 0.3133433"
      ]
     },
     "metadata": {},
     "output_type": "display_data"
    }
   ],
   "source": [
    "range(res$beta)\n",
    "range(res$alpha)"
   ]
  },
  {
   "cell_type": "code",
   "execution_count": 63,
   "metadata": {},
   "outputs": [
    {
     "data": {
      "text/html": [
       "<ol class=list-inline>\n",
       "\t<li>'SAMD11_7'</li>\n",
       "\t<li>'SAMD11_13'</li>\n",
       "\t<li>'SAMD11_14'</li>\n",
       "\t<li>'NOC2L_19'</li>\n",
       "\t<li>'KLHL17_23'</li>\n",
       "\t<li>'PLEKHN1_27'</li>\n",
       "</ol>\n"
      ],
      "text/latex": [
       "\\begin{enumerate*}\n",
       "\\item 'SAMD11\\_7'\n",
       "\\item 'SAMD11\\_13'\n",
       "\\item 'SAMD11\\_14'\n",
       "\\item 'NOC2L\\_19'\n",
       "\\item 'KLHL17\\_23'\n",
       "\\item 'PLEKHN1\\_27'\n",
       "\\end{enumerate*}\n"
      ],
      "text/markdown": [
       "1. 'SAMD11_7'\n",
       "2. 'SAMD11_13'\n",
       "3. 'SAMD11_14'\n",
       "4. 'NOC2L_19'\n",
       "5. 'KLHL17_23'\n",
       "6. 'PLEKHN1_27'\n",
       "\n",
       "\n"
      ],
      "text/plain": [
       "[1] \"SAMD11_7\"   \"SAMD11_13\"  \"SAMD11_14\"  \"NOC2L_19\"   \"KLHL17_23\" \n",
       "[6] \"PLEKHN1_27\""
      ]
     },
     "metadata": {},
     "output_type": "display_data"
    }
   ],
   "source": [
    "head(unique((dat.pro_ps%>%filter(celltype ==\"alpha\"))$gene_tr.idx))"
   ]
  },
  {
   "cell_type": "code",
   "execution_count": null,
   "metadata": {},
   "outputs": [],
   "source": []
  }
 ],
 "metadata": {
  "kernelspec": {
   "display_name": "R",
   "language": "R",
   "name": "ir"
  },
  "language_info": {
   "codemirror_mode": "r",
   "file_extension": ".r",
   "mimetype": "text/x-r-source",
   "name": "R",
   "pygments_lexer": "r",
   "version": "3.5.1"
  }
 },
 "nbformat": 4,
 "nbformat_minor": 2
}
