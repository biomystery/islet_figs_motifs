{
 "cells": [
  {
   "cell_type": "markdown",
   "metadata": {},
   "source": [
    "## 1. Rationale\n",
    "\n",
    "* due to the sparseness, the ps is binned to 20 (can change) \n",
    "* then chisq test wheter the ratio of openning is dependent on bins "
   ]
  },
  {
   "cell_type": "markdown",
   "metadata": {},
   "source": [
    "##  2. load data"
   ]
  },
  {
   "cell_type": "code",
   "execution_count": 1,
   "metadata": {},
   "outputs": [
    {
     "name": "stderr",
     "output_type": "stream",
     "text": [
      "Loading required package: data.table\n"
     ]
    }
   ],
   "source": [
    "require(data.table)\n",
    "dat.pro_ps<- fread(\"../dat/1901/alpha_beta.promoter.long_matrix_w_transcripts_ps.txt\")"
   ]
  },
  {
   "cell_type": "code",
   "execution_count": 3,
   "metadata": {},
   "outputs": [
    {
     "data": {
      "text/html": [
       "<table>\n",
       "<thead><tr><th scope=col>gene_tr.idx</th><th scope=col>cluster</th><th scope=col>cell</th><th scope=col>ps</th></tr></thead>\n",
       "<tbody>\n",
       "\t<tr><td>SAMD11_1                                  </td><td>alpha_1                                   </td><td>Islet1-fresh_AGACACCTAGGCAGAAGTAAGGAGCAGGA</td><td>5.643735                                  </td></tr>\n",
       "\t<tr><td>SAMD11_1                                  </td><td>alpha_1                                   </td><td>Islet1-fresh_AGACACCTATGCGCAGCGTCTAATGGTTG</td><td>1.056578                                  </td></tr>\n",
       "\t<tr><td>SAMD11_1                                  </td><td>alpha_2                                   </td><td>Islet1-fresh_AGACACCTCGAGGCTGAAGGCTATGGTTG</td><td>6.254863                                  </td></tr>\n",
       "\t<tr><td>SAMD11_1                                  </td><td>alpha_2                                   </td><td>Islet1-fresh_AGACACCTCGTACTAGCTAAGCCTGTACT</td><td>6.508574                                  </td></tr>\n",
       "\t<tr><td>SAMD11_1                                  </td><td>alpha_1                                   </td><td>Islet1-fresh_AGACACCTGGACTCCTTCGACTAGGGTTG</td><td>2.120670                                  </td></tr>\n",
       "\t<tr><td>SAMD11_1                                  </td><td>alpha_2                                   </td><td>Islet1-fresh_AGACACCTGGAGCTACAAGGAGTAAGGCG</td><td>5.564368                                  </td></tr>\n",
       "</tbody>\n",
       "</table>\n"
      ],
      "text/latex": [
       "\\begin{tabular}{r|llll}\n",
       " gene\\_tr.idx & cluster & cell & ps\\\\\n",
       "\\hline\n",
       "\t SAMD11\\_1                                   & alpha\\_1                                    & Islet1-fresh\\_AGACACCTAGGCAGAAGTAAGGAGCAGGA & 5.643735                                    \\\\\n",
       "\t SAMD11\\_1                                   & alpha\\_1                                    & Islet1-fresh\\_AGACACCTATGCGCAGCGTCTAATGGTTG & 1.056578                                    \\\\\n",
       "\t SAMD11\\_1                                   & alpha\\_2                                    & Islet1-fresh\\_AGACACCTCGAGGCTGAAGGCTATGGTTG & 6.254863                                    \\\\\n",
       "\t SAMD11\\_1                                   & alpha\\_2                                    & Islet1-fresh\\_AGACACCTCGTACTAGCTAAGCCTGTACT & 6.508574                                    \\\\\n",
       "\t SAMD11\\_1                                   & alpha\\_1                                    & Islet1-fresh\\_AGACACCTGGACTCCTTCGACTAGGGTTG & 2.120670                                    \\\\\n",
       "\t SAMD11\\_1                                   & alpha\\_2                                    & Islet1-fresh\\_AGACACCTGGAGCTACAAGGAGTAAGGCG & 5.564368                                    \\\\\n",
       "\\end{tabular}\n"
      ],
      "text/markdown": [
       "\n",
       "gene_tr.idx | cluster | cell | ps | \n",
       "|---|---|---|---|---|---|\n",
       "| SAMD11_1                                   | alpha_1                                    | Islet1-fresh_AGACACCTAGGCAGAAGTAAGGAGCAGGA | 5.643735                                   | \n",
       "| SAMD11_1                                   | alpha_1                                    | Islet1-fresh_AGACACCTATGCGCAGCGTCTAATGGTTG | 1.056578                                   | \n",
       "| SAMD11_1                                   | alpha_2                                    | Islet1-fresh_AGACACCTCGAGGCTGAAGGCTATGGTTG | 6.254863                                   | \n",
       "| SAMD11_1                                   | alpha_2                                    | Islet1-fresh_AGACACCTCGTACTAGCTAAGCCTGTACT | 6.508574                                   | \n",
       "| SAMD11_1                                   | alpha_1                                    | Islet1-fresh_AGACACCTGGACTCCTTCGACTAGGGTTG | 2.120670                                   | \n",
       "| SAMD11_1                                   | alpha_2                                    | Islet1-fresh_AGACACCTGGAGCTACAAGGAGTAAGGCG | 5.564368                                   | \n",
       "\n",
       "\n"
      ],
      "text/plain": [
       "  gene_tr.idx cluster cell                                       ps      \n",
       "1 SAMD11_1    alpha_1 Islet1-fresh_AGACACCTAGGCAGAAGTAAGGAGCAGGA 5.643735\n",
       "2 SAMD11_1    alpha_1 Islet1-fresh_AGACACCTATGCGCAGCGTCTAATGGTTG 1.056578\n",
       "3 SAMD11_1    alpha_2 Islet1-fresh_AGACACCTCGAGGCTGAAGGCTATGGTTG 6.254863\n",
       "4 SAMD11_1    alpha_2 Islet1-fresh_AGACACCTCGTACTAGCTAAGCCTGTACT 6.508574\n",
       "5 SAMD11_1    alpha_1 Islet1-fresh_AGACACCTGGACTCCTTCGACTAGGGTTG 2.120670\n",
       "6 SAMD11_1    alpha_2 Islet1-fresh_AGACACCTGGAGCTACAAGGAGTAAGGCG 5.564368"
      ]
     },
     "metadata": {},
     "output_type": "display_data"
    },
    {
     "data": {
      "text/html": [
       "<ol class=list-inline>\n",
       "\t<li>19412387</li>\n",
       "\t<li>4</li>\n",
       "</ol>\n"
      ],
      "text/latex": [
       "\\begin{enumerate*}\n",
       "\\item 19412387\n",
       "\\item 4\n",
       "\\end{enumerate*}\n"
      ],
      "text/markdown": [
       "1. 19412387\n",
       "2. 4\n",
       "\n",
       "\n"
      ],
      "text/plain": [
       "[1] 19412387        4"
      ]
     },
     "metadata": {},
     "output_type": "display_data"
    }
   ],
   "source": [
    "head(dat.pro_ps)\n",
    "dim(dat.pro_ps)"
   ]
  },
  {
   "cell_type": "markdown",
   "metadata": {},
   "source": [
    "### 2.1 bin data "
   ]
  },
  {
   "cell_type": "code",
   "execution_count": 6,
   "metadata": {},
   "outputs": [
    {
     "data": {
      "text/html": [
       "<dl>\n",
       "\t<dt>$alpha</dt>\n",
       "\t\t<dd><ol class=list-inline>\n",
       "\t<li>0</li>\n",
       "\t<li>6.74617593265917</li>\n",
       "</ol>\n",
       "</dd>\n",
       "\t<dt>$beta</dt>\n",
       "\t\t<dd><ol class=list-inline>\n",
       "\t<li>0</li>\n",
       "\t<li>20.2079032250925</li>\n",
       "</ol>\n",
       "</dd>\n",
       "</dl>\n"
      ],
      "text/latex": [
       "\\begin{description}\n",
       "\\item[\\$alpha] \\begin{enumerate*}\n",
       "\\item 0\n",
       "\\item 6.74617593265917\n",
       "\\end{enumerate*}\n",
       "\n",
       "\\item[\\$beta] \\begin{enumerate*}\n",
       "\\item 0\n",
       "\\item 20.2079032250925\n",
       "\\end{enumerate*}\n",
       "\n",
       "\\end{description}\n"
      ],
      "text/markdown": [
       "$alpha\n",
       ":   1. 0\n",
       "2. 6.74617593265917\n",
       "\n",
       "\n",
       "\n",
       "$beta\n",
       ":   1. 0\n",
       "2. 20.2079032250925\n",
       "\n",
       "\n",
       "\n",
       "\n",
       "\n"
      ],
      "text/plain": [
       "$alpha\n",
       "[1] 0.000000 6.746176\n",
       "\n",
       "$beta\n",
       "[1]  0.0000 20.2079\n"
      ]
     },
     "metadata": {},
     "output_type": "display_data"
    }
   ],
   "source": [
    "require(tidyverse)\n",
    "ps.range <- list()\n",
    "ps.range$alpha <- range((dat.pro_ps %>%filter(cluster %in% c(\"alpha_1\",\"alpha_2\")))$ps)\n",
    "ps.range$beta <- range((dat.pro_ps %>%filter(cluster %in% c(\"beta_1\",\"beta_2\")))$ps)\n",
    "ps.range"
   ]
  },
  {
   "cell_type": "code",
   "execution_count": 111,
   "metadata": {},
   "outputs": [],
   "source": [
    "ps.bks <- list()\n",
    "ps.bks$alpha <- seq(ps.range$alpha[1],ps.range$alpha[2],length.out = 21)\n",
    "ps.bks$beta <- seq(ps.range$beta[1],ps.range$beta[2],length.out = 21)"
   ]
  },
  {
   "cell_type": "code",
   "execution_count": 112,
   "metadata": {},
   "outputs": [
    {
     "data": {
      "text/html": [
       "<table>\n",
       "<thead><tr><th scope=col>gene_tr.idx</th><th scope=col>celltype</th><th scope=col>subtype</th><th scope=col>cell</th><th scope=col>ps</th><th scope=col>ps_bin</th></tr></thead>\n",
       "<tbody>\n",
       "\t<tr><td>SAMD11_1                                  </td><td>alpha                                     </td><td>1                                         </td><td>Islet1-fresh_AGACACCTAGGCAGAAGTAAGGAGCAGGA</td><td>5.643735                                  </td><td>(5.4,5.73]                                </td></tr>\n",
       "\t<tr><td>SAMD11_1                                  </td><td>alpha                                     </td><td>1                                         </td><td>Islet1-fresh_AGACACCTATGCGCAGCGTCTAATGGTTG</td><td>1.056578                                  </td><td>(1.01,1.35]                               </td></tr>\n",
       "\t<tr><td>SAMD11_1                                  </td><td>alpha                                     </td><td>2                                         </td><td>Islet1-fresh_AGACACCTCGAGGCTGAAGGCTATGGTTG</td><td>6.254863                                  </td><td>(6.07,6.41]                               </td></tr>\n",
       "\t<tr><td>SAMD11_1                                  </td><td>alpha                                     </td><td>2                                         </td><td>Islet1-fresh_AGACACCTCGTACTAGCTAAGCCTGTACT</td><td>6.508574                                  </td><td>(6.41,6.75]                               </td></tr>\n",
       "\t<tr><td>SAMD11_1                                  </td><td>alpha                                     </td><td>1                                         </td><td>Islet1-fresh_AGACACCTGGACTCCTTCGACTAGGGTTG</td><td>2.120670                                  </td><td>(2.02,2.36]                               </td></tr>\n",
       "\t<tr><td>SAMD11_1                                  </td><td>alpha                                     </td><td>2                                         </td><td>Islet1-fresh_AGACACCTGGAGCTACAAGGAGTAAGGCG</td><td>5.564368                                  </td><td>(5.4,5.73]                                </td></tr>\n",
       "</tbody>\n",
       "</table>\n"
      ],
      "text/latex": [
       "\\begin{tabular}{r|llllll}\n",
       " gene\\_tr.idx & celltype & subtype & cell & ps & ps\\_bin\\\\\n",
       "\\hline\n",
       "\t SAMD11\\_1                                   & alpha                                        & 1                                            & Islet1-fresh\\_AGACACCTAGGCAGAAGTAAGGAGCAGGA & 5.643735                                     & (5.4,5.73{]}                                \\\\\n",
       "\t SAMD11\\_1                                   & alpha                                        & 1                                            & Islet1-fresh\\_AGACACCTATGCGCAGCGTCTAATGGTTG & 1.056578                                     & (1.01,1.35{]}                               \\\\\n",
       "\t SAMD11\\_1                                   & alpha                                        & 2                                            & Islet1-fresh\\_AGACACCTCGAGGCTGAAGGCTATGGTTG & 6.254863                                     & (6.07,6.41{]}                               \\\\\n",
       "\t SAMD11\\_1                                   & alpha                                        & 2                                            & Islet1-fresh\\_AGACACCTCGTACTAGCTAAGCCTGTACT & 6.508574                                     & (6.41,6.75{]}                               \\\\\n",
       "\t SAMD11\\_1                                   & alpha                                        & 1                                            & Islet1-fresh\\_AGACACCTGGACTCCTTCGACTAGGGTTG & 2.120670                                     & (2.02,2.36{]}                               \\\\\n",
       "\t SAMD11\\_1                                   & alpha                                        & 2                                            & Islet1-fresh\\_AGACACCTGGAGCTACAAGGAGTAAGGCG & 5.564368                                     & (5.4,5.73{]}                                \\\\\n",
       "\\end{tabular}\n"
      ],
      "text/markdown": [
       "\n",
       "gene_tr.idx | celltype | subtype | cell | ps | ps_bin | \n",
       "|---|---|---|---|---|---|\n",
       "| SAMD11_1                                   | alpha                                      | 1                                          | Islet1-fresh_AGACACCTAGGCAGAAGTAAGGAGCAGGA | 5.643735                                   | (5.4,5.73]                                 | \n",
       "| SAMD11_1                                   | alpha                                      | 1                                          | Islet1-fresh_AGACACCTATGCGCAGCGTCTAATGGTTG | 1.056578                                   | (1.01,1.35]                                | \n",
       "| SAMD11_1                                   | alpha                                      | 2                                          | Islet1-fresh_AGACACCTCGAGGCTGAAGGCTATGGTTG | 6.254863                                   | (6.07,6.41]                                | \n",
       "| SAMD11_1                                   | alpha                                      | 2                                          | Islet1-fresh_AGACACCTCGTACTAGCTAAGCCTGTACT | 6.508574                                   | (6.41,6.75]                                | \n",
       "| SAMD11_1                                   | alpha                                      | 1                                          | Islet1-fresh_AGACACCTGGACTCCTTCGACTAGGGTTG | 2.120670                                   | (2.02,2.36]                                | \n",
       "| SAMD11_1                                   | alpha                                      | 2                                          | Islet1-fresh_AGACACCTGGAGCTACAAGGAGTAAGGCG | 5.564368                                   | (5.4,5.73]                                 | \n",
       "\n",
       "\n"
      ],
      "text/plain": [
       "  gene_tr.idx celltype subtype cell                                      \n",
       "1 SAMD11_1    alpha    1       Islet1-fresh_AGACACCTAGGCAGAAGTAAGGAGCAGGA\n",
       "2 SAMD11_1    alpha    1       Islet1-fresh_AGACACCTATGCGCAGCGTCTAATGGTTG\n",
       "3 SAMD11_1    alpha    2       Islet1-fresh_AGACACCTCGAGGCTGAAGGCTATGGTTG\n",
       "4 SAMD11_1    alpha    2       Islet1-fresh_AGACACCTCGTACTAGCTAAGCCTGTACT\n",
       "5 SAMD11_1    alpha    1       Islet1-fresh_AGACACCTGGACTCCTTCGACTAGGGTTG\n",
       "6 SAMD11_1    alpha    2       Islet1-fresh_AGACACCTGGAGCTACAAGGAGTAAGGCG\n",
       "  ps       ps_bin     \n",
       "1 5.643735 (5.4,5.73] \n",
       "2 1.056578 (1.01,1.35]\n",
       "3 6.254863 (6.07,6.41]\n",
       "4 6.508574 (6.41,6.75]\n",
       "5 2.120670 (2.02,2.36]\n",
       "6 5.564368 (5.4,5.73] "
      ]
     },
     "metadata": {},
     "output_type": "display_data"
    }
   ],
   "source": [
    "ps.bin.dat <- rbind(\n",
    "    dat.pro_ps%>% \n",
    "    filter(cluster %in% c(\"alpha_1\",\"alpha_2\"))%>%\n",
    "    mutate(ps_bin =cut(ps,breaks = ps.bks$alpha,include.lowest = T)),\n",
    "    dat.pro_ps%>% \n",
    "    filter(cluster %in% c(\"beta_1\",\"beta_2\"))%>%\n",
    "    mutate(ps_bin =cut(ps,breaks = ps.bks$beta,include.lowest = T))\n",
    ")%>%separate(cluster,into = c(\"celltype\",\"subtype\"))\n",
    "head(ps.bin.dat)"
   ]
  },
  {
   "cell_type": "markdown",
   "metadata": {},
   "source": [
    "### 2.2 Number of cells per bin"
   ]
  },
  {
   "cell_type": "code",
   "execution_count": 113,
   "metadata": {},
   "outputs": [
    {
     "data": {
      "text/html": [
       "<table>\n",
       "<thead><tr><th scope=col>celltype</th><th scope=col>subtype</th><th scope=col>cell</th><th scope=col>ps_bin</th></tr></thead>\n",
       "<tbody>\n",
       "\t<tr><td>alpha                                     </td><td>1                                         </td><td>Islet1-fresh_AGACACCTAGGCAGAAGTAAGGAGCAGGA</td><td>(5.4,5.73]                                </td></tr>\n",
       "\t<tr><td>alpha                                     </td><td>1                                         </td><td>Islet1-fresh_AGACACCTATGCGCAGCGTCTAATGGTTG</td><td>(1.01,1.35]                               </td></tr>\n",
       "\t<tr><td>alpha                                     </td><td>2                                         </td><td>Islet1-fresh_AGACACCTCGAGGCTGAAGGCTATGGTTG</td><td>(6.07,6.41]                               </td></tr>\n",
       "\t<tr><td>alpha                                     </td><td>2                                         </td><td>Islet1-fresh_AGACACCTCGTACTAGCTAAGCCTGTACT</td><td>(6.41,6.75]                               </td></tr>\n",
       "\t<tr><td>alpha                                     </td><td>1                                         </td><td>Islet1-fresh_AGACACCTGGACTCCTTCGACTAGGGTTG</td><td>(2.02,2.36]                               </td></tr>\n",
       "\t<tr><td>alpha                                     </td><td>2                                         </td><td>Islet1-fresh_AGACACCTGGAGCTACAAGGAGTAAGGCG</td><td>(5.4,5.73]                                </td></tr>\n",
       "</tbody>\n",
       "</table>\n"
      ],
      "text/latex": [
       "\\begin{tabular}{r|llll}\n",
       " celltype & subtype & cell & ps\\_bin\\\\\n",
       "\\hline\n",
       "\t alpha                                        & 1                                            & Islet1-fresh\\_AGACACCTAGGCAGAAGTAAGGAGCAGGA & (5.4,5.73{]}                                \\\\\n",
       "\t alpha                                        & 1                                            & Islet1-fresh\\_AGACACCTATGCGCAGCGTCTAATGGTTG & (1.01,1.35{]}                               \\\\\n",
       "\t alpha                                        & 2                                            & Islet1-fresh\\_AGACACCTCGAGGCTGAAGGCTATGGTTG & (6.07,6.41{]}                               \\\\\n",
       "\t alpha                                        & 2                                            & Islet1-fresh\\_AGACACCTCGTACTAGCTAAGCCTGTACT & (6.41,6.75{]}                               \\\\\n",
       "\t alpha                                        & 1                                            & Islet1-fresh\\_AGACACCTGGACTCCTTCGACTAGGGTTG & (2.02,2.36{]}                               \\\\\n",
       "\t alpha                                        & 2                                            & Islet1-fresh\\_AGACACCTGGAGCTACAAGGAGTAAGGCG & (5.4,5.73{]}                                \\\\\n",
       "\\end{tabular}\n"
      ],
      "text/markdown": [
       "\n",
       "celltype | subtype | cell | ps_bin | \n",
       "|---|---|---|---|---|---|\n",
       "| alpha                                      | 1                                          | Islet1-fresh_AGACACCTAGGCAGAAGTAAGGAGCAGGA | (5.4,5.73]                                 | \n",
       "| alpha                                      | 1                                          | Islet1-fresh_AGACACCTATGCGCAGCGTCTAATGGTTG | (1.01,1.35]                                | \n",
       "| alpha                                      | 2                                          | Islet1-fresh_AGACACCTCGAGGCTGAAGGCTATGGTTG | (6.07,6.41]                                | \n",
       "| alpha                                      | 2                                          | Islet1-fresh_AGACACCTCGTACTAGCTAAGCCTGTACT | (6.41,6.75]                                | \n",
       "| alpha                                      | 1                                          | Islet1-fresh_AGACACCTGGACTCCTTCGACTAGGGTTG | (2.02,2.36]                                | \n",
       "| alpha                                      | 2                                          | Islet1-fresh_AGACACCTGGAGCTACAAGGAGTAAGGCG | (5.4,5.73]                                 | \n",
       "\n",
       "\n"
      ],
      "text/plain": [
       "  celltype subtype cell                                       ps_bin     \n",
       "1 alpha    1       Islet1-fresh_AGACACCTAGGCAGAAGTAAGGAGCAGGA (5.4,5.73] \n",
       "2 alpha    1       Islet1-fresh_AGACACCTATGCGCAGCGTCTAATGGTTG (1.01,1.35]\n",
       "3 alpha    2       Islet1-fresh_AGACACCTCGAGGCTGAAGGCTATGGTTG (6.07,6.41]\n",
       "4 alpha    2       Islet1-fresh_AGACACCTCGTACTAGCTAAGCCTGTACT (6.41,6.75]\n",
       "5 alpha    1       Islet1-fresh_AGACACCTGGACTCCTTCGACTAGGGTTG (2.02,2.36]\n",
       "6 alpha    2       Islet1-fresh_AGACACCTGGAGCTACAAGGAGTAAGGCG (5.4,5.73] "
      ]
     },
     "metadata": {},
     "output_type": "display_data"
    },
    {
     "data": {
      "text/html": [
       "<ol class=list-inline>\n",
       "\t<li>12764</li>\n",
       "\t<li>4</li>\n",
       "</ol>\n"
      ],
      "text/latex": [
       "\\begin{enumerate*}\n",
       "\\item 12764\n",
       "\\item 4\n",
       "\\end{enumerate*}\n"
      ],
      "text/markdown": [
       "1. 12764\n",
       "2. 4\n",
       "\n",
       "\n"
      ],
      "text/plain": [
       "[1] 12764     4"
      ]
     },
     "metadata": {},
     "output_type": "display_data"
    }
   ],
   "source": [
    "ps.bin.dat.sum <- ps.bin.dat%>%select(-one_of(\"gene_tr.idx\",\"ps\"))%>%distinct()\n",
    "head(ps.bin.dat.sum)\n",
    "dim(ps.bin.dat.sum)"
   ]
  },
  {
   "cell_type": "code",
   "execution_count": 114,
   "metadata": {},
   "outputs": [
    {
     "data": {
      "text/html": [
       "<table>\n",
       "<thead><tr><th scope=col>ps_bin</th><th scope=col>celltype</th><th scope=col>N</th></tr></thead>\n",
       "<tbody>\n",
       "\t<tr><td>(5.4,5.73] </td><td>alpha      </td><td>130        </td></tr>\n",
       "\t<tr><td>(1.01,1.35]</td><td>alpha      </td><td>396        </td></tr>\n",
       "\t<tr><td>(6.07,6.41]</td><td>alpha      </td><td>560        </td></tr>\n",
       "\t<tr><td>(6.41,6.75]</td><td>alpha      </td><td> 68        </td></tr>\n",
       "\t<tr><td>(2.02,2.36]</td><td>alpha      </td><td>458        </td></tr>\n",
       "\t<tr><td>(5.73,6.07]</td><td>alpha      </td><td>175        </td></tr>\n",
       "</tbody>\n",
       "</table>\n"
      ],
      "text/latex": [
       "\\begin{tabular}{r|lll}\n",
       " ps\\_bin & celltype & N\\\\\n",
       "\\hline\n",
       "\t (5.4,5.73{]}  & alpha         & 130          \\\\\n",
       "\t (1.01,1.35{]} & alpha         & 396          \\\\\n",
       "\t (6.07,6.41{]} & alpha         & 560          \\\\\n",
       "\t (6.41,6.75{]} & alpha         &  68          \\\\\n",
       "\t (2.02,2.36{]} & alpha         & 458          \\\\\n",
       "\t (5.73,6.07{]} & alpha         & 175          \\\\\n",
       "\\end{tabular}\n"
      ],
      "text/markdown": [
       "\n",
       "ps_bin | celltype | N | \n",
       "|---|---|---|---|---|---|\n",
       "| (5.4,5.73]  | alpha       | 130         | \n",
       "| (1.01,1.35] | alpha       | 396         | \n",
       "| (6.07,6.41] | alpha       | 560         | \n",
       "| (6.41,6.75] | alpha       |  68         | \n",
       "| (2.02,2.36] | alpha       | 458         | \n",
       "| (5.73,6.07] | alpha       | 175         | \n",
       "\n",
       "\n"
      ],
      "text/plain": [
       "  ps_bin      celltype N  \n",
       "1 (5.4,5.73]  alpha    130\n",
       "2 (1.01,1.35] alpha    396\n",
       "3 (6.07,6.41] alpha    560\n",
       "4 (6.41,6.75] alpha     68\n",
       "5 (2.02,2.36] alpha    458\n",
       "6 (5.73,6.07] alpha    175"
      ]
     },
     "metadata": {},
     "output_type": "display_data"
    }
   ],
   "source": [
    "setDT(ps.bin.dat.sum)\n",
    "ps.bin.dat.sum.2<-ps.bin.dat.sum[, .(.N), by = .(ps_bin,celltype)]\n",
    "head(ps.bin.dat.sum.2)"
   ]
  },
  {
   "cell_type": "code",
   "execution_count": 115,
   "metadata": {},
   "outputs": [
    {
     "data": {
      "text/html": [
       "<table>\n",
       "<thead><tr><th scope=col>celltype</th><th scope=col>tot</th></tr></thead>\n",
       "<tbody>\n",
       "\t<tr><td>alpha</td><td>5594 </td></tr>\n",
       "\t<tr><td>beta </td><td>7170 </td></tr>\n",
       "</tbody>\n",
       "</table>\n"
      ],
      "text/latex": [
       "\\begin{tabular}{r|ll}\n",
       " celltype & tot\\\\\n",
       "\\hline\n",
       "\t alpha & 5594 \\\\\n",
       "\t beta  & 7170 \\\\\n",
       "\\end{tabular}\n"
      ],
      "text/markdown": [
       "\n",
       "celltype | tot | \n",
       "|---|---|\n",
       "| alpha | 5594  | \n",
       "| beta  | 7170  | \n",
       "\n",
       "\n"
      ],
      "text/plain": [
       "  celltype tot \n",
       "1 alpha    5594\n",
       "2 beta     7170"
      ]
     },
     "metadata": {},
     "output_type": "display_data"
    }
   ],
   "source": [
    "ps.bin.dat.sum.2%>%group_by(celltype)%>%summarise(tot=sum(N))"
   ]
  },
  {
   "cell_type": "markdown",
   "metadata": {},
   "source": [
    "## 3. run chisq test on dependence on bin"
   ]
  },
  {
   "cell_type": "code",
   "execution_count": 116,
   "metadata": {},
   "outputs": [],
   "source": [
    "ps.bin.dat.sum.2<-ps.bin.dat.sum.2%>%\n",
    "    as.data.frame()%>%\n",
    "    mutate(ps_bin =as.character(ps_bin))%>%\n",
    "    column_to_rownames(\"ps_bin\")"
   ]
  },
  {
   "cell_type": "code",
   "execution_count": 117,
   "metadata": {},
   "outputs": [
    {
     "data": {
      "text/html": [
       "<table>\n",
       "<thead><tr><th scope=col>gene_tr.idx</th><th scope=col>celltype</th><th scope=col>subtype</th><th scope=col>cell</th><th scope=col>ps</th><th scope=col>ps_bin</th></tr></thead>\n",
       "<tbody>\n",
       "\t<tr><td>SAMD11_1                                  </td><td>alpha                                     </td><td>1                                         </td><td>Islet1-fresh_AGACACCTAGGCAGAAGTAAGGAGCAGGA</td><td>5.643735                                  </td><td>(5.4,5.73]                                </td></tr>\n",
       "\t<tr><td>SAMD11_1                                  </td><td>alpha                                     </td><td>1                                         </td><td>Islet1-fresh_AGACACCTATGCGCAGCGTCTAATGGTTG</td><td>1.056578                                  </td><td>(1.01,1.35]                               </td></tr>\n",
       "\t<tr><td>SAMD11_1                                  </td><td>alpha                                     </td><td>2                                         </td><td>Islet1-fresh_AGACACCTCGAGGCTGAAGGCTATGGTTG</td><td>6.254863                                  </td><td>(6.07,6.41]                               </td></tr>\n",
       "\t<tr><td>SAMD11_1                                  </td><td>alpha                                     </td><td>2                                         </td><td>Islet1-fresh_AGACACCTCGTACTAGCTAAGCCTGTACT</td><td>6.508574                                  </td><td>(6.41,6.75]                               </td></tr>\n",
       "\t<tr><td>SAMD11_1                                  </td><td>alpha                                     </td><td>1                                         </td><td>Islet1-fresh_AGACACCTGGACTCCTTCGACTAGGGTTG</td><td>2.120670                                  </td><td>(2.02,2.36]                               </td></tr>\n",
       "\t<tr><td>SAMD11_1                                  </td><td>alpha                                     </td><td>2                                         </td><td>Islet1-fresh_AGACACCTGGAGCTACAAGGAGTAAGGCG</td><td>5.564368                                  </td><td>(5.4,5.73]                                </td></tr>\n",
       "</tbody>\n",
       "</table>\n"
      ],
      "text/latex": [
       "\\begin{tabular}{r|llllll}\n",
       " gene\\_tr.idx & celltype & subtype & cell & ps & ps\\_bin\\\\\n",
       "\\hline\n",
       "\t SAMD11\\_1                                   & alpha                                        & 1                                            & Islet1-fresh\\_AGACACCTAGGCAGAAGTAAGGAGCAGGA & 5.643735                                     & (5.4,5.73{]}                                \\\\\n",
       "\t SAMD11\\_1                                   & alpha                                        & 1                                            & Islet1-fresh\\_AGACACCTATGCGCAGCGTCTAATGGTTG & 1.056578                                     & (1.01,1.35{]}                               \\\\\n",
       "\t SAMD11\\_1                                   & alpha                                        & 2                                            & Islet1-fresh\\_AGACACCTCGAGGCTGAAGGCTATGGTTG & 6.254863                                     & (6.07,6.41{]}                               \\\\\n",
       "\t SAMD11\\_1                                   & alpha                                        & 2                                            & Islet1-fresh\\_AGACACCTCGTACTAGCTAAGCCTGTACT & 6.508574                                     & (6.41,6.75{]}                               \\\\\n",
       "\t SAMD11\\_1                                   & alpha                                        & 1                                            & Islet1-fresh\\_AGACACCTGGACTCCTTCGACTAGGGTTG & 2.120670                                     & (2.02,2.36{]}                               \\\\\n",
       "\t SAMD11\\_1                                   & alpha                                        & 2                                            & Islet1-fresh\\_AGACACCTGGAGCTACAAGGAGTAAGGCG & 5.564368                                     & (5.4,5.73{]}                                \\\\\n",
       "\\end{tabular}\n"
      ],
      "text/markdown": [
       "\n",
       "gene_tr.idx | celltype | subtype | cell | ps | ps_bin | \n",
       "|---|---|---|---|---|---|\n",
       "| SAMD11_1                                   | alpha                                      | 1                                          | Islet1-fresh_AGACACCTAGGCAGAAGTAAGGAGCAGGA | 5.643735                                   | (5.4,5.73]                                 | \n",
       "| SAMD11_1                                   | alpha                                      | 1                                          | Islet1-fresh_AGACACCTATGCGCAGCGTCTAATGGTTG | 1.056578                                   | (1.01,1.35]                                | \n",
       "| SAMD11_1                                   | alpha                                      | 2                                          | Islet1-fresh_AGACACCTCGAGGCTGAAGGCTATGGTTG | 6.254863                                   | (6.07,6.41]                                | \n",
       "| SAMD11_1                                   | alpha                                      | 2                                          | Islet1-fresh_AGACACCTCGTACTAGCTAAGCCTGTACT | 6.508574                                   | (6.41,6.75]                                | \n",
       "| SAMD11_1                                   | alpha                                      | 1                                          | Islet1-fresh_AGACACCTGGACTCCTTCGACTAGGGTTG | 2.120670                                   | (2.02,2.36]                                | \n",
       "| SAMD11_1                                   | alpha                                      | 2                                          | Islet1-fresh_AGACACCTGGAGCTACAAGGAGTAAGGCG | 5.564368                                   | (5.4,5.73]                                 | \n",
       "\n",
       "\n"
      ],
      "text/plain": [
       "  gene_tr.idx celltype subtype cell                                      \n",
       "1 SAMD11_1    alpha    1       Islet1-fresh_AGACACCTAGGCAGAAGTAAGGAGCAGGA\n",
       "2 SAMD11_1    alpha    1       Islet1-fresh_AGACACCTATGCGCAGCGTCTAATGGTTG\n",
       "3 SAMD11_1    alpha    2       Islet1-fresh_AGACACCTCGAGGCTGAAGGCTATGGTTG\n",
       "4 SAMD11_1    alpha    2       Islet1-fresh_AGACACCTCGTACTAGCTAAGCCTGTACT\n",
       "5 SAMD11_1    alpha    1       Islet1-fresh_AGACACCTGGACTCCTTCGACTAGGGTTG\n",
       "6 SAMD11_1    alpha    2       Islet1-fresh_AGACACCTGGAGCTACAAGGAGTAAGGCG\n",
       "  ps       ps_bin     \n",
       "1 5.643735 (5.4,5.73] \n",
       "2 1.056578 (1.01,1.35]\n",
       "3 6.254863 (6.07,6.41]\n",
       "4 6.508574 (6.41,6.75]\n",
       "5 2.120670 (2.02,2.36]\n",
       "6 5.564368 (5.4,5.73] "
      ]
     },
     "metadata": {},
     "output_type": "display_data"
    }
   ],
   "source": [
    "head(ps.bin.dat)"
   ]
  },
  {
   "cell_type": "code",
   "execution_count": 118,
   "metadata": {},
   "outputs": [
    {
     "data": {
      "text/html": [
       "<table>\n",
       "<thead><tr><th></th><th scope=col>[0,0.337]</th><th scope=col>(0.337,0.675]</th><th scope=col>(0.675,1.01]</th><th scope=col>(1.01,1.35]</th><th scope=col>(1.35,1.69]</th><th scope=col>(1.69,2.02]</th><th scope=col>(2.02,2.36]</th><th scope=col>(2.36,2.7]</th><th scope=col>(2.7,3.04]</th><th scope=col>(3.04,3.37]</th><th scope=col>(3.37,3.71]</th><th scope=col>(3.71,4.05]</th><th scope=col>(4.05,4.39]</th><th scope=col>(4.39,4.72]</th><th scope=col>(4.72,5.06]</th><th scope=col>(5.06,5.4]</th><th scope=col>(5.4,5.73]</th><th scope=col>(5.73,6.07]</th><th scope=col>(6.07,6.41]</th><th scope=col>(6.41,6.75]</th></tr></thead>\n",
       "<tbody>\n",
       "\t<tr><th scope=row>open</th><td> 1 </td><td> 18</td><td>  5</td><td> 10</td><td>  4</td><td> 11</td><td>  9</td><td> 1 </td><td>  6</td><td>  3</td><td>  5</td><td>  6</td><td>  4</td><td>  2</td><td>  2</td><td>  3</td><td>  5</td><td>  7</td><td> 22</td><td> 6 </td></tr>\n",
       "\t<tr><th scope=row>close</th><td>43 </td><td>779</td><td>448</td><td>395</td><td>214</td><td>454</td><td>457</td><td>89 </td><td>302</td><td>248</td><td>359</td><td>387</td><td>108</td><td>100</td><td>131</td><td>131</td><td>129</td><td>174</td><td>559</td><td>67 </td></tr>\n",
       "</tbody>\n",
       "</table>\n"
      ],
      "text/latex": [
       "\\begin{tabular}{r|llllllllllllllllllll}\n",
       "  & {[}0,0.337{]} & (0.337,0.675{]} & (0.675,1.01{]} & (1.01,1.35{]} & (1.35,1.69{]} & (1.69,2.02{]} & (2.02,2.36{]} & (2.36,2.7{]} & (2.7,3.04{]} & (3.04,3.37{]} & (3.37,3.71{]} & (3.71,4.05{]} & (4.05,4.39{]} & (4.39,4.72{]} & (4.72,5.06{]} & (5.06,5.4{]} & (5.4,5.73{]} & (5.73,6.07{]} & (6.07,6.41{]} & (6.41,6.75{]}\\\\\n",
       "\\hline\n",
       "\topen &  1  &  18 &   5 &  10 &   4 &  11 &   9 &  1  &   6 &   3 &   5 &   6 &   4 &   2 &   2 &   3 &   5 &   7 &  22 &  6 \\\\\n",
       "\tclose & 43  & 779 & 448 & 395 & 214 & 454 & 457 & 89  & 302 & 248 & 359 & 387 & 108 & 100 & 131 & 131 & 129 & 174 & 559 & 67 \\\\\n",
       "\\end{tabular}\n"
      ],
      "text/markdown": [
       "\n",
       "| <!--/--> | [0,0.337] | (0.337,0.675] | (0.675,1.01] | (1.01,1.35] | (1.35,1.69] | (1.69,2.02] | (2.02,2.36] | (2.36,2.7] | (2.7,3.04] | (3.04,3.37] | (3.37,3.71] | (3.71,4.05] | (4.05,4.39] | (4.39,4.72] | (4.72,5.06] | (5.06,5.4] | (5.4,5.73] | (5.73,6.07] | (6.07,6.41] | (6.41,6.75] | \n",
       "|---|---|\n",
       "| open |  1  |  18 |   5 |  10 |   4 |  11 |   9 |  1  |   6 |   3 |   5 |   6 |   4 |   2 |   2 |   3 |   5 |   7 |  22 |  6  | \n",
       "| close | 43  | 779 | 448 | 395 | 214 | 454 | 457 | 89  | 302 | 248 | 359 | 387 | 108 | 100 | 131 | 131 | 129 | 174 | 559 | 67  | \n",
       "\n",
       "\n"
      ],
      "text/plain": [
       "      [0,0.337] (0.337,0.675] (0.675,1.01] (1.01,1.35] (1.35,1.69] (1.69,2.02]\n",
       "open   1         18             5           10           4          11        \n",
       "close 43        779           448          395         214         454        \n",
       "      (2.02,2.36] (2.36,2.7] (2.7,3.04] (3.04,3.37] (3.37,3.71] (3.71,4.05]\n",
       "open    9          1           6          3           5           6        \n",
       "close 457         89         302        248         359         387        \n",
       "      (4.05,4.39] (4.39,4.72] (4.72,5.06] (5.06,5.4] (5.4,5.73] (5.73,6.07]\n",
       "open    4           2           2           3          5          7        \n",
       "close 108         100         131         131        129        174        \n",
       "      (6.07,6.41] (6.41,6.75]\n",
       "open   22          6         \n",
       "close 559         67         "
      ]
     },
     "metadata": {},
     "output_type": "display_data"
    }
   ],
   "source": [
    "test.dat <- ps.bin.dat%>%\n",
    "    filter(celltype ==\"alpha\")%>%\n",
    "    mutate(ps_bin=droplevels(ps_bin))%>%\n",
    "    filter(gene_tr.idx==\"SAMD11_1\")%>%\n",
    "    select(one_of(\"celltype\",\"ps_bin\"))\n",
    "\n",
    "test.dat.tab <- as.matrix(t(table(test.dat$ps_bin)))\n",
    "test.dat.tab<-rbind(test.dat.tab,ps.bin.dat.sum.2[colnames(test.dat.tab),'N']-test.dat.tab[,1])\n",
    "rownames(test.dat.tab)<- c(\"open\",\"close\")\n",
    "test.dat.tab"
   ]
  },
  {
   "cell_type": "code",
   "execution_count": 119,
   "metadata": {},
   "outputs": [
    {
     "name": "stdout",
     "output_type": "stream",
     "text": [
      "'data.frame':\t130 obs. of  2 variables:\n",
      " $ celltype: chr  \"alpha\" \"alpha\" \"alpha\" \"alpha\" ...\n",
      " $ ps_bin  : Factor w/ 20 levels \"[0,0.337]\",\"(0.337,0.675]\",..: 17 4 19 20 7 17 19 19 20 20 ...\n"
     ]
    }
   ],
   "source": [
    "str(test.dat)"
   ]
  },
  {
   "cell_type": "code",
   "execution_count": 122,
   "metadata": {},
   "outputs": [
    {
     "data": {
      "text/plain": [
       "\n",
       "\tPearson's Chi-squared test with simulated p-value (based on 2000\n",
       "\treplicates)\n",
       "\n",
       "data:  test.dat.tab\n",
       "X-squared = 29.763, df = NA, p-value = 0.05847\n"
      ]
     },
     "metadata": {},
     "output_type": "display_data"
    }
   ],
   "source": [
    "chisq <- chisq.test(test.dat.tab,simulate.p.value=T)\n",
    "chisq"
   ]
  },
  {
   "cell_type": "code",
   "execution_count": 123,
   "metadata": {},
   "outputs": [
    {
     "data": {
      "text/html": [
       "<table>\n",
       "<thead><tr><th></th><th scope=col>[0,0.337]</th><th scope=col>(0.337,0.675]</th><th scope=col>(0.675,1.01]</th><th scope=col>(1.01,1.35]</th><th scope=col>(1.35,1.69]</th><th scope=col>(1.69,2.02]</th><th scope=col>(2.02,2.36]</th><th scope=col>(2.36,2.7]</th><th scope=col>(2.7,3.04]</th><th scope=col>(3.04,3.37]</th><th scope=col>(3.37,3.71]</th><th scope=col>(3.71,4.05]</th><th scope=col>(4.05,4.39]</th><th scope=col>(4.39,4.72]</th><th scope=col>(4.72,5.06]</th><th scope=col>(5.06,5.4]</th><th scope=col>(5.4,5.73]</th><th scope=col>(5.73,6.07]</th><th scope=col>(6.07,6.41]</th><th scope=col>(6.41,6.75]</th></tr></thead>\n",
       "<tbody>\n",
       "\t<tr><th scope=row>open</th><td>0     </td><td>0.005 </td><td>9.225 </td><td>0.216 </td><td>0.634 </td><td>0.051 </td><td>0.831 </td><td>1.810 </td><td>0.498 </td><td>4.347 </td><td>4.400 </td><td>3.280 </td><td>2.757 </td><td>0.152 </td><td>1.179 </td><td>0.003 </td><td>4.166 </td><td>6.731 </td><td>19.464</td><td>37.972</td></tr>\n",
       "\t<tr><th scope=row>close</th><td>0     </td><td>0.000 </td><td>0.215 </td><td>0.005 </td><td>0.015 </td><td>0.001 </td><td>0.019 </td><td>0.042 </td><td>0.012 </td><td>0.101 </td><td>0.103 </td><td>0.076 </td><td>0.064 </td><td>0.004 </td><td>0.027 </td><td>0.000 </td><td>0.097 </td><td>0.157 </td><td> 0.454</td><td> 0.886</td></tr>\n",
       "</tbody>\n",
       "</table>\n"
      ],
      "text/latex": [
       "\\begin{tabular}{r|llllllllllllllllllll}\n",
       "  & {[}0,0.337{]} & (0.337,0.675{]} & (0.675,1.01{]} & (1.01,1.35{]} & (1.35,1.69{]} & (1.69,2.02{]} & (2.02,2.36{]} & (2.36,2.7{]} & (2.7,3.04{]} & (3.04,3.37{]} & (3.37,3.71{]} & (3.71,4.05{]} & (4.05,4.39{]} & (4.39,4.72{]} & (4.72,5.06{]} & (5.06,5.4{]} & (5.4,5.73{]} & (5.73,6.07{]} & (6.07,6.41{]} & (6.41,6.75{]}\\\\\n",
       "\\hline\n",
       "\topen & 0      & 0.005  & 9.225  & 0.216  & 0.634  & 0.051  & 0.831  & 1.810  & 0.498  & 4.347  & 4.400  & 3.280  & 2.757  & 0.152  & 1.179  & 0.003  & 4.166  & 6.731  & 19.464 & 37.972\\\\\n",
       "\tclose & 0      & 0.000  & 0.215  & 0.005  & 0.015  & 0.001  & 0.019  & 0.042  & 0.012  & 0.101  & 0.103  & 0.076  & 0.064  & 0.004  & 0.027  & 0.000  & 0.097  & 0.157  &  0.454 &  0.886\\\\\n",
       "\\end{tabular}\n"
      ],
      "text/markdown": [
       "\n",
       "| <!--/--> | [0,0.337] | (0.337,0.675] | (0.675,1.01] | (1.01,1.35] | (1.35,1.69] | (1.69,2.02] | (2.02,2.36] | (2.36,2.7] | (2.7,3.04] | (3.04,3.37] | (3.37,3.71] | (3.71,4.05] | (4.05,4.39] | (4.39,4.72] | (4.72,5.06] | (5.06,5.4] | (5.4,5.73] | (5.73,6.07] | (6.07,6.41] | (6.41,6.75] | \n",
       "|---|---|\n",
       "| open | 0      | 0.005  | 9.225  | 0.216  | 0.634  | 0.051  | 0.831  | 1.810  | 0.498  | 4.347  | 4.400  | 3.280  | 2.757  | 0.152  | 1.179  | 0.003  | 4.166  | 6.731  | 19.464 | 37.972 | \n",
       "| close | 0      | 0.000  | 0.215  | 0.005  | 0.015  | 0.001  | 0.019  | 0.042  | 0.012  | 0.101  | 0.103  | 0.076  | 0.064  | 0.004  | 0.027  | 0.000  | 0.097  | 0.157  |  0.454 |  0.886 | \n",
       "\n",
       "\n"
      ],
      "text/plain": [
       "      [0,0.337] (0.337,0.675] (0.675,1.01] (1.01,1.35] (1.35,1.69] (1.69,2.02]\n",
       "open  0         0.005         9.225        0.216       0.634       0.051      \n",
       "close 0         0.000         0.215        0.005       0.015       0.001      \n",
       "      (2.02,2.36] (2.36,2.7] (2.7,3.04] (3.04,3.37] (3.37,3.71] (3.71,4.05]\n",
       "open  0.831       1.810      0.498      4.347       4.400       3.280      \n",
       "close 0.019       0.042      0.012      0.101       0.103       0.076      \n",
       "      (4.05,4.39] (4.39,4.72] (4.72,5.06] (5.06,5.4] (5.4,5.73] (5.73,6.07]\n",
       "open  2.757       0.152       1.179       0.003      4.166      6.731      \n",
       "close 0.064       0.004       0.027       0.000      0.097      0.157      \n",
       "      (6.07,6.41] (6.41,6.75]\n",
       "open  19.464      37.972     \n",
       "close  0.454       0.886     "
      ]
     },
     "metadata": {},
     "output_type": "display_data"
    },
    {
     "data": {
      "image/png": "[encoded data removed]",
      "text/plain": [
       "Plot with title “”"
      ]
     },
     "metadata": {},
     "output_type": "display_data"
    }
   ],
   "source": [
    "contrib <- 100*chisq$residuals^2/chisq$statistic\n",
    "round(contrib, 3)\n",
    "options(repr.plot.width=6, repr.plot.height=3)\n",
    "require(corrplot)\n",
    "corrplot(contrib, is.cor = FALSE)"
   ]
  }
 ],
 "metadata": {
  "kernelspec": {
   "display_name": "R",
   "language": "R",
   "name": "ir"
  },
  "language_info": {
   "codemirror_mode": "r",
   "file_extension": ".r",
   "mimetype": "text/x-r-source",
   "name": "R",
   "pygments_lexer": "r",
   "version": "3.5.1"
  }
 },
 "nbformat": 4,
 "nbformat_minor": 2
}
