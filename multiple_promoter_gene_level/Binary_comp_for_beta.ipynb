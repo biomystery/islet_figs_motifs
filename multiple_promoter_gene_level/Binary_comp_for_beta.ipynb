{
 "cells": [
  {
   "cell_type": "code",
   "execution_count": 117,
   "metadata": {},
   "outputs": [],
   "source": [
    "require(data.table)\n",
    "require(tidyverse)"
   ]
  },
  {
   "cell_type": "markdown",
   "metadata": {},
   "source": [
    "## 1. Read data "
   ]
  },
  {
   "cell_type": "code",
   "execution_count": 3,
   "metadata": {},
   "outputs": [],
   "source": [
    "dat.mat <- fread('./dat/1901/beta.promoter.long_matrix.txt')\n",
    "dat.mat$overlap <- NULL \n",
    "#dat.mat$cell <- NULL #no need cell id \n"
   ]
  },
  {
   "cell_type": "code",
   "execution_count": 118,
   "metadata": {},
   "outputs": [
    {
     "data": {
      "text/html": [
       "<table>\n",
       "<thead><tr><th scope=col>peak</th><th scope=col>gene</th><th scope=col>cluster</th><th scope=col>cell</th></tr></thead>\n",
       "<tbody>\n",
       "\t<tr><td>1:859052-860562                           </td><td>SAMD11                                    </td><td>beta_1                                    </td><td>Islet1-fresh_AGACACCTACTCGCTATCGACTAGATAGA</td></tr>\n",
       "\t<tr><td>1:859052-860562                           </td><td>SAMD11                                    </td><td>beta_2                                    </td><td>Islet1-fresh_AGACACCTACTCGCTATTCTAGCTGGTTG</td></tr>\n",
       "\t<tr><td>1:859052-860562                           </td><td>SAMD11                                    </td><td>beta_1                                    </td><td>Islet1-fresh_AGACACCTAGGCAGAATCTCTCCGAGGCG</td></tr>\n",
       "\t<tr><td>1:859052-860562                           </td><td>SAMD11                                    </td><td>beta_1                                    </td><td>Islet1-fresh_AGACACCTCGTACTAGAAGGAGTACAGGA</td></tr>\n",
       "\t<tr><td>1:859052-860562                           </td><td>SAMD11                                    </td><td>beta_1                                    </td><td>Islet1-fresh_AGACACCTCTCTCTACACTGCATAAGGCG</td></tr>\n",
       "\t<tr><td>1:859052-860562                           </td><td>SAMD11                                    </td><td>beta_2                                    </td><td>Islet1-fresh_AGACACCTCTCTCTACTATCCTCTTATAG</td></tr>\n",
       "</tbody>\n",
       "</table>\n"
      ],
      "text/latex": [
       "\\begin{tabular}{r|llll}\n",
       " peak & gene & cluster & cell\\\\\n",
       "\\hline\n",
       "\t 1:859052-860562                              & SAMD11                                       & beta\\_1                                     & Islet1-fresh\\_AGACACCTACTCGCTATCGACTAGATAGA\\\\\n",
       "\t 1:859052-860562                              & SAMD11                                       & beta\\_2                                     & Islet1-fresh\\_AGACACCTACTCGCTATTCTAGCTGGTTG\\\\\n",
       "\t 1:859052-860562                              & SAMD11                                       & beta\\_1                                     & Islet1-fresh\\_AGACACCTAGGCAGAATCTCTCCGAGGCG\\\\\n",
       "\t 1:859052-860562                              & SAMD11                                       & beta\\_1                                     & Islet1-fresh\\_AGACACCTCGTACTAGAAGGAGTACAGGA\\\\\n",
       "\t 1:859052-860562                              & SAMD11                                       & beta\\_1                                     & Islet1-fresh\\_AGACACCTCTCTCTACACTGCATAAGGCG\\\\\n",
       "\t 1:859052-860562                              & SAMD11                                       & beta\\_2                                     & Islet1-fresh\\_AGACACCTCTCTCTACTATCCTCTTATAG\\\\\n",
       "\\end{tabular}\n"
      ],
      "text/markdown": [
       "\n",
       "peak | gene | cluster | cell | \n",
       "|---|---|---|---|---|---|\n",
       "| 1:859052-860562                            | SAMD11                                     | beta_1                                     | Islet1-fresh_AGACACCTACTCGCTATCGACTAGATAGA | \n",
       "| 1:859052-860562                            | SAMD11                                     | beta_2                                     | Islet1-fresh_AGACACCTACTCGCTATTCTAGCTGGTTG | \n",
       "| 1:859052-860562                            | SAMD11                                     | beta_1                                     | Islet1-fresh_AGACACCTAGGCAGAATCTCTCCGAGGCG | \n",
       "| 1:859052-860562                            | SAMD11                                     | beta_1                                     | Islet1-fresh_AGACACCTCGTACTAGAAGGAGTACAGGA | \n",
       "| 1:859052-860562                            | SAMD11                                     | beta_1                                     | Islet1-fresh_AGACACCTCTCTCTACACTGCATAAGGCG | \n",
       "| 1:859052-860562                            | SAMD11                                     | beta_2                                     | Islet1-fresh_AGACACCTCTCTCTACTATCCTCTTATAG | \n",
       "\n",
       "\n"
      ],
      "text/plain": [
       "  peak            gene   cluster cell                                      \n",
       "1 1:859052-860562 SAMD11 beta_1  Islet1-fresh_AGACACCTACTCGCTATCGACTAGATAGA\n",
       "2 1:859052-860562 SAMD11 beta_2  Islet1-fresh_AGACACCTACTCGCTATTCTAGCTGGTTG\n",
       "3 1:859052-860562 SAMD11 beta_1  Islet1-fresh_AGACACCTAGGCAGAATCTCTCCGAGGCG\n",
       "4 1:859052-860562 SAMD11 beta_1  Islet1-fresh_AGACACCTCGTACTAGAAGGAGTACAGGA\n",
       "5 1:859052-860562 SAMD11 beta_1  Islet1-fresh_AGACACCTCTCTCTACACTGCATAAGGCG\n",
       "6 1:859052-860562 SAMD11 beta_2  Islet1-fresh_AGACACCTCTCTCTACTATCCTCTTATAG"
      ]
     },
     "metadata": {},
     "output_type": "display_data"
    }
   ],
   "source": [
    "head(dat.mat)"
   ]
  },
  {
   "cell_type": "markdown",
   "metadata": {},
   "source": [
    " Concepts: \n",
    "1. `promoter region`: -500bp + 500bp for all TSS in gencode \n",
    "2. `promoter Peaks`: peaks that overlap promoter region"
   ]
  },
  {
   "cell_type": "code",
   "execution_count": 4,
   "metadata": {},
   "outputs": [],
   "source": [
    "dat.summary <- list() \n",
    "dat.summary$n.unique.gene <- length(unique(dat.mat$gene))\n",
    "dat.summary$n.promoter.peak <- length(unique(dat.mat$peak))"
   ]
  },
  {
   "cell_type": "code",
   "execution_count": 5,
   "metadata": {},
   "outputs": [],
   "source": [
    "# get all cells \n",
    "dat.all.cells <- fread('./dat/output.umap.ab.filtered.csv')\n",
    "dat.all.cells <- table(dat.all.cells$cluster) # table for all cells"
   ]
  },
  {
   "cell_type": "markdown",
   "metadata": {},
   "source": [
    "## 2. Fisher's exact test at Gene level \n",
    "\n",
    "As long as there is any promoter peaks in that cell, the gene's promoter is open. \n",
    "\n",
    "1. get total alpha 1 and alpha 2 cells \n",
    "2. test hit in alpha1 vs hit in alpha2  (create contentigen table)\n",
    "3. perform [Fisher's exact test](https://en.wikipedia.org/wiki/Fisher%27s_exact_test) or [chi-squared test](https://en.wikipedia.org/wiki/Chi-squared_test)"
   ]
  },
  {
   "cell_type": "markdown",
   "metadata": {},
   "source": [
    "### 2.1 Prepare data"
   ]
  },
  {
   "cell_type": "code",
   "execution_count": 11,
   "metadata": {
    "scrolled": true
   },
   "outputs": [
    {
     "data": {
      "text/html": [
       "<table>\n",
       "<thead><tr><th scope=col>gene</th><th scope=col>cluster</th><th scope=col>cell</th></tr></thead>\n",
       "<tbody>\n",
       "\t<tr><td>SAMD11                                    </td><td>beta_1                                    </td><td>Islet1-fresh_AGACACCTACTCGCTATCGACTAGATAGA</td></tr>\n",
       "\t<tr><td>SAMD11                                    </td><td>beta_2                                    </td><td>Islet1-fresh_AGACACCTACTCGCTATTCTAGCTGGTTG</td></tr>\n",
       "\t<tr><td>SAMD11                                    </td><td>beta_1                                    </td><td>Islet1-fresh_AGACACCTAGGCAGAATCTCTCCGAGGCG</td></tr>\n",
       "\t<tr><td>SAMD11                                    </td><td>beta_1                                    </td><td>Islet1-fresh_AGACACCTCGTACTAGAAGGAGTACAGGA</td></tr>\n",
       "\t<tr><td>SAMD11                                    </td><td>beta_1                                    </td><td>Islet1-fresh_AGACACCTCTCTCTACACTGCATAAGGCG</td></tr>\n",
       "\t<tr><td>SAMD11                                    </td><td>beta_2                                    </td><td>Islet1-fresh_AGACACCTCTCTCTACTATCCTCTTATAG</td></tr>\n",
       "</tbody>\n",
       "</table>\n"
      ],
      "text/latex": [
       "\\begin{tabular}{r|lll}\n",
       " gene & cluster & cell\\\\\n",
       "\\hline\n",
       "\t SAMD11                                       & beta\\_1                                     & Islet1-fresh\\_AGACACCTACTCGCTATCGACTAGATAGA\\\\\n",
       "\t SAMD11                                       & beta\\_2                                     & Islet1-fresh\\_AGACACCTACTCGCTATTCTAGCTGGTTG\\\\\n",
       "\t SAMD11                                       & beta\\_1                                     & Islet1-fresh\\_AGACACCTAGGCAGAATCTCTCCGAGGCG\\\\\n",
       "\t SAMD11                                       & beta\\_1                                     & Islet1-fresh\\_AGACACCTCGTACTAGAAGGAGTACAGGA\\\\\n",
       "\t SAMD11                                       & beta\\_1                                     & Islet1-fresh\\_AGACACCTCTCTCTACACTGCATAAGGCG\\\\\n",
       "\t SAMD11                                       & beta\\_2                                     & Islet1-fresh\\_AGACACCTCTCTCTACTATCCTCTTATAG\\\\\n",
       "\\end{tabular}\n"
      ],
      "text/markdown": [
       "\n",
       "gene | cluster | cell | \n",
       "|---|---|---|---|---|---|\n",
       "| SAMD11                                     | beta_1                                     | Islet1-fresh_AGACACCTACTCGCTATCGACTAGATAGA | \n",
       "| SAMD11                                     | beta_2                                     | Islet1-fresh_AGACACCTACTCGCTATTCTAGCTGGTTG | \n",
       "| SAMD11                                     | beta_1                                     | Islet1-fresh_AGACACCTAGGCAGAATCTCTCCGAGGCG | \n",
       "| SAMD11                                     | beta_1                                     | Islet1-fresh_AGACACCTCGTACTAGAAGGAGTACAGGA | \n",
       "| SAMD11                                     | beta_1                                     | Islet1-fresh_AGACACCTCTCTCTACACTGCATAAGGCG | \n",
       "| SAMD11                                     | beta_2                                     | Islet1-fresh_AGACACCTCTCTCTACTATCCTCTTATAG | \n",
       "\n",
       "\n"
      ],
      "text/plain": [
       "  gene   cluster cell                                      \n",
       "1 SAMD11 beta_1  Islet1-fresh_AGACACCTACTCGCTATCGACTAGATAGA\n",
       "2 SAMD11 beta_2  Islet1-fresh_AGACACCTACTCGCTATTCTAGCTGGTTG\n",
       "3 SAMD11 beta_1  Islet1-fresh_AGACACCTAGGCAGAATCTCTCCGAGGCG\n",
       "4 SAMD11 beta_1  Islet1-fresh_AGACACCTCGTACTAGAAGGAGTACAGGA\n",
       "5 SAMD11 beta_1  Islet1-fresh_AGACACCTCTCTCTACACTGCATAAGGCG\n",
       "6 SAMD11 beta_2  Islet1-fresh_AGACACCTCTCTCTACTATCCTCTTATAG"
      ]
     },
     "metadata": {},
     "output_type": "display_data"
    }
   ],
   "source": [
    "# prepare data\n",
    "dat.mat.gene_level <- dat.mat%>%\n",
    "    select(-peak)%>%\n",
    "    distinct()\n",
    "head(dat.mat.gene_level)"
   ]
  },
  {
   "cell_type": "code",
   "execution_count": 12,
   "metadata": {
    "scrolled": true
   },
   "outputs": [
    {
     "name": "stdout",
     "output_type": "stream",
     "text": [
      "Check how rows changed:\n",
      "Before applying uniquness, # of rows:10962395\n",
      "After applying uniquness, # of rows:10667716\n"
     ]
    }
   ],
   "source": [
    "cat(\"Check how rows changed:\\n\") \n",
    "cat(sprintf(\"Before applying uniquness, # of rows:%d\\n\",nrow(dat.mat)))\n",
    "cat(sprintf(\"After applying uniquness, # of rows:%d\\n\",nrow(dat.mat.gene_level)))\n"
   ]
  },
  {
   "cell_type": "markdown",
   "metadata": {},
   "source": [
    "### 2.2 check if there are duplicated cell for same gene"
   ]
  },
  {
   "cell_type": "code",
   "execution_count": 30,
   "metadata": {
    "scrolled": true
   },
   "outputs": [
    {
     "data": {
      "text/html": [
       "<table>\n",
       "<thead><tr><th scope=col>gene</th><th scope=col>cluster</th><th scope=col>cell</th></tr></thead>\n",
       "<tbody>\n",
       "\t<tr><td>NOC2L                                     </td><td>beta_1                                    </td><td>Islet1-fresh_AGACACCTACTCGCTAAAGGAGTAATAGA</td></tr>\n",
       "\t<tr><td>NOC2L                                     </td><td>beta_1                                    </td><td>Islet1-fresh_AGACACCTACTCGCTAGAGCCTTATATAG</td></tr>\n",
       "\t<tr><td>NOC2L                                     </td><td>beta_1                                    </td><td>Islet1-fresh_AGACACCTACTGAGCGAAGGCTATGGCTC</td></tr>\n",
       "\t<tr><td>NOC2L                                     </td><td>beta_1                                    </td><td>Islet1-fresh_AGACACCTACTGAGCGTTCTAGCTATAGA</td></tr>\n",
       "\t<tr><td>NOC2L                                     </td><td>beta_1                                    </td><td>Islet1-fresh_AGACACCTAGGCAGAATCTCTCCGAGGCG</td></tr>\n",
       "\t<tr><td>NOC2L                                     </td><td>beta_2                                    </td><td>Islet1-fresh_AGACACCTATCTCAGGGTAAGGAGGGCTC</td></tr>\n",
       "</tbody>\n",
       "</table>\n"
      ],
      "text/latex": [
       "\\begin{tabular}{r|lll}\n",
       " gene & cluster & cell\\\\\n",
       "\\hline\n",
       "\t NOC2L                                        & beta\\_1                                     & Islet1-fresh\\_AGACACCTACTCGCTAAAGGAGTAATAGA\\\\\n",
       "\t NOC2L                                        & beta\\_1                                     & Islet1-fresh\\_AGACACCTACTCGCTAGAGCCTTATATAG\\\\\n",
       "\t NOC2L                                        & beta\\_1                                     & Islet1-fresh\\_AGACACCTACTGAGCGAAGGCTATGGCTC\\\\\n",
       "\t NOC2L                                        & beta\\_1                                     & Islet1-fresh\\_AGACACCTACTGAGCGTTCTAGCTATAGA\\\\\n",
       "\t NOC2L                                        & beta\\_1                                     & Islet1-fresh\\_AGACACCTAGGCAGAATCTCTCCGAGGCG\\\\\n",
       "\t NOC2L                                        & beta\\_2                                     & Islet1-fresh\\_AGACACCTATCTCAGGGTAAGGAGGGCTC\\\\\n",
       "\\end{tabular}\n"
      ],
      "text/markdown": [
       "\n",
       "gene | cluster | cell | \n",
       "|---|---|---|---|---|---|\n",
       "| NOC2L                                      | beta_1                                     | Islet1-fresh_AGACACCTACTCGCTAAAGGAGTAATAGA | \n",
       "| NOC2L                                      | beta_1                                     | Islet1-fresh_AGACACCTACTCGCTAGAGCCTTATATAG | \n",
       "| NOC2L                                      | beta_1                                     | Islet1-fresh_AGACACCTACTGAGCGAAGGCTATGGCTC | \n",
       "| NOC2L                                      | beta_1                                     | Islet1-fresh_AGACACCTACTGAGCGTTCTAGCTATAGA | \n",
       "| NOC2L                                      | beta_1                                     | Islet1-fresh_AGACACCTAGGCAGAATCTCTCCGAGGCG | \n",
       "| NOC2L                                      | beta_2                                     | Islet1-fresh_AGACACCTATCTCAGGGTAAGGAGGGCTC | \n",
       "\n",
       "\n"
      ],
      "text/plain": [
       "  gene  cluster cell                                      \n",
       "1 NOC2L beta_1  Islet1-fresh_AGACACCTACTCGCTAAAGGAGTAATAGA\n",
       "2 NOC2L beta_1  Islet1-fresh_AGACACCTACTCGCTAGAGCCTTATATAG\n",
       "3 NOC2L beta_1  Islet1-fresh_AGACACCTACTGAGCGAAGGCTATGGCTC\n",
       "4 NOC2L beta_1  Islet1-fresh_AGACACCTACTGAGCGTTCTAGCTATAGA\n",
       "5 NOC2L beta_1  Islet1-fresh_AGACACCTAGGCAGAATCTCTCCGAGGCG\n",
       "6 NOC2L beta_2  Islet1-fresh_AGACACCTATCTCAGGGTAAGGAGGGCTC"
      ]
     },
     "metadata": {},
     "output_type": "display_data"
    }
   ],
   "source": [
    "test.dat <-dat.mat.gene_level%>% filter (gene==all.genes[2]) \n",
    "head(test.dat) "
   ]
  },
  {
   "cell_type": "code",
   "execution_count": 14,
   "metadata": {},
   "outputs": [
    {
     "name": "stdout",
     "output_type": "stream",
     "text": [
      "check if there are duplicated cells for the same gene SMAD11:0"
     ]
    }
   ],
   "source": [
    "# check if there are duplicated cells for the same gene SMAD11 \n",
    "cat(sprintf(\"check if there are duplicated cells for the same gene SMAD11:%i\",\n",
    "            !length(unique(test.dat$cell))== nrow(test.dat)))"
   ]
  },
  {
   "cell_type": "code",
   "execution_count": 15,
   "metadata": {},
   "outputs": [
    {
     "data": {
      "text/html": [
       "0"
      ],
      "text/latex": [
       "0"
      ],
      "text/markdown": [
       "0"
      ],
      "text/plain": [
       "[1] 0"
      ]
     },
     "metadata": {},
     "output_type": "display_data"
    }
   ],
   "source": [
    "# so remove cell column\n",
    "#dat.mat.gene_level <- dat.mat.gene_level %>% select(-cell)\n",
    "sum(is.na(dat.mat.gene_level))"
   ]
  },
  {
   "cell_type": "markdown",
   "metadata": {},
   "source": [
    "### 2.3 perform fisher's exact test for all genes"
   ]
  },
  {
   "cell_type": "code",
   "execution_count": 33,
   "metadata": {},
   "outputs": [
    {
     "name": "stdout",
     "output_type": "stream",
     "text": [
      "There are 15282 unique genes."
     ]
    }
   ],
   "source": [
    "dat.mat.gene_level<- dat.mat.gene_level %>% select(-cell)\n",
    "all.genes <- unique(dat.mat.gene_level$gene)\n",
    "cat(sprintf(\"There are %d unique genes.\",length(all.genes)))"
   ]
  },
  {
   "cell_type": "code",
   "execution_count": 60,
   "metadata": {},
   "outputs": [
    {
     "data": {
      "text/html": [
       "<dl>\n",
       "\t<dt>$pval</dt>\n",
       "\t\t<dd>5.79103918029476e-09</dd>\n",
       "\t<dt>$odds</dt>\n",
       "\t\t<dd><strong>odds ratio:</strong> 1.41672282995359</dd>\n",
       "\t<dt>$type1_frac</dt>\n",
       "\t\t<dd>0.228984841525034</dd>\n",
       "\t<dt>$type2_frac</dt>\n",
       "\t\t<dd>0.173295454545455</dd>\n",
       "</dl>\n"
      ],
      "text/latex": [
       "\\begin{description}\n",
       "\\item[\\$pval] 5.79103918029476e-09\n",
       "\\item[\\$odds] \\textbf{odds ratio:} 1.41672282995359\n",
       "\\item[\\$type1\\_frac] 0.228984841525034\n",
       "\\item[\\$type2\\_frac] 0.173295454545455\n",
       "\\end{description}\n"
      ],
      "text/markdown": [
       "$pval\n",
       ":   5.79103918029476e-09\n",
       "$odds\n",
       ":   **odds ratio:** 1.41672282995359\n",
       "$type1_frac\n",
       ":   0.228984841525034\n",
       "$type2_frac\n",
       ":   0.173295454545455\n",
       "\n",
       "\n"
      ],
      "text/plain": [
       "$pval\n",
       "[1] 5.791039e-09\n",
       "\n",
       "$odds\n",
       "odds ratio \n",
       "  1.416723 \n",
       "\n",
       "$type1_frac\n",
       "[1] 0.2289848\n",
       "\n",
       "$type2_frac\n",
       "[1] 0.1732955\n"
      ]
     },
     "metadata": {},
     "output_type": "display_data"
    }
   ],
   "source": [
    "fun.ftestPerGene <- function(g=\"SAMD11\"){\n",
    "    test.dat <-  table(dat.mat.gene_level%>% filter (gene==g)) # table for test dat\n",
    "    table.res <- as.vector(test.dat)\n",
    "    names(table.res) <- colnames(test.dat)\n",
    "    # handle if 0 for one subtype \n",
    "    a=setdiff(c(\"beta_1\",\"beta_2\"),    names(table.res))\n",
    "    table.res[a]<-0\n",
    "    \n",
    "    test.tab <- matrix(c(table.res[\"beta_1\"], table.res[\"beta_2\"], \n",
    "                         dat.all.cells['beta_1']-table.res[\"beta_1\"], \n",
    "                         dat.all.cells['beta_2']-table.res[\"beta_2\"]),\n",
    "                       byrow =  T,       \n",
    "                       nrow = 2,\n",
    "                       dimnames = list(expressed = c(\"Yes\", \"No\"),\n",
    "                       subtype = c(\"b1\", \"b2\")))\n",
    "    test.res <- fisher.test(test.tab)\n",
    "    res <- list(pval=test.res$p.value/2,\n",
    "                odds=test.res$estimate,\n",
    "                type1_frac=test.tab[1]/(test.tab[1]+test.tab[2]),\n",
    "                type2_frac=test.tab[3]/(test.tab[3]+test.tab[4])\n",
    "               )\n",
    "    res\n",
    "}\n",
    "\n",
    "fun.ftestPerGene()\n",
    "\n"
   ]
  },
  {
   "cell_type": "code",
   "execution_count": 61,
   "metadata": {},
   "outputs": [
    {
     "data": {
      "text/plain": [
       "    user   system  elapsed \n",
       "1716.372   93.376  268.747 "
      ]
     },
     "metadata": {},
     "output_type": "display_data"
    }
   ],
   "source": [
    "# time consumming task\n",
    "if(T){require(parallel)\n",
    "system.time(res.genes_level.b <- mclapply(all.genes,function(x) fun.ftestPerGene(g = x),mc.cores = 8))}"
   ]
  },
  {
   "cell_type": "code",
   "execution_count": 62,
   "metadata": {},
   "outputs": [
    {
     "data": {
      "text/html": [
       "<table>\n",
       "<thead><tr><th></th><th scope=col>pval</th><th scope=col>odds</th><th scope=col>type1_frac</th><th scope=col>type2_frac</th></tr></thead>\n",
       "<tbody>\n",
       "\t<tr><th scope=row>SAMD11</th><td>5.791039e-09</td><td>1.416723    </td><td>0.2289848   </td><td>0.1732955   </td></tr>\n",
       "\t<tr><th scope=row>NOC2L</th><td>5.391691e-06</td><td>1.447693    </td><td>0.1102435   </td><td>0.07883523  </td></tr>\n",
       "\t<tr><th scope=row>KLHL17</th><td>0.01986402 </td><td>1.626148   </td><td>0.0149288  </td><td>0.009232955</td></tr>\n",
       "\t<tr><th scope=row>PLEKHN1</th><td>0.07146685</td><td>0.7657517 </td><td>0.0158475 </td><td>0.02059659</td></tr>\n",
       "\t<tr><th scope=row>C1orf170</th><td>0.4620219 </td><td>1.035402  </td><td>0.01653652</td><td>0.01598011</td></tr>\n",
       "\t<tr><th scope=row>HES4</th><td>4.432709e-05</td><td>0.5211191   </td><td>0.01538815  </td><td>0.02911932  </td></tr>\n",
       "</tbody>\n",
       "</table>\n"
      ],
      "text/latex": [
       "\\begin{tabular}{r|llll}\n",
       "  & pval & odds & type1\\_frac & type2\\_frac\\\\\n",
       "\\hline\n",
       "\tSAMD11 & 5.791039e-09 & 1.416723     & 0.2289848    & 0.1732955   \\\\\n",
       "\tNOC2L & 5.391691e-06 & 1.447693     & 0.1102435    & 0.07883523  \\\\\n",
       "\tKLHL17 & 0.01986402  & 1.626148    & 0.0149288   & 0.009232955\\\\\n",
       "\tPLEKHN1 & 0.07146685 & 0.7657517  & 0.0158475  & 0.02059659\\\\\n",
       "\tC1orf170 & 0.4620219  & 1.035402   & 0.01653652 & 0.01598011\\\\\n",
       "\tHES4 & 4.432709e-05 & 0.5211191    & 0.01538815   & 0.02911932  \\\\\n",
       "\\end{tabular}\n"
      ],
      "text/markdown": [
       "\n",
       "| <!--/--> | pval | odds | type1_frac | type2_frac | \n",
       "|---|---|---|---|---|---|\n",
       "| SAMD11 | 5.791039e-09 | 1.416723     | 0.2289848    | 0.1732955    | \n",
       "| NOC2L | 5.391691e-06 | 1.447693     | 0.1102435    | 0.07883523   | \n",
       "| KLHL17 | 0.01986402  | 1.626148    | 0.0149288   | 0.009232955 | \n",
       "| PLEKHN1 | 0.07146685 | 0.7657517  | 0.0158475  | 0.02059659 | \n",
       "| C1orf170 | 0.4620219  | 1.035402   | 0.01653652 | 0.01598011 | \n",
       "| HES4 | 4.432709e-05 | 0.5211191    | 0.01538815   | 0.02911932   | \n",
       "\n",
       "\n"
      ],
      "text/plain": [
       "         pval         odds      type1_frac type2_frac \n",
       "SAMD11   5.791039e-09 1.416723  0.2289848  0.1732955  \n",
       "NOC2L    5.391691e-06 1.447693  0.1102435  0.07883523 \n",
       "KLHL17   0.01986402   1.626148  0.0149288  0.009232955\n",
       "PLEKHN1  0.07146685   0.7657517 0.0158475  0.02059659 \n",
       "C1orf170 0.4620219    1.035402  0.01653652 0.01598011 \n",
       "HES4     4.432709e-05 0.5211191 0.01538815 0.02911932 "
      ]
     },
     "metadata": {},
     "output_type": "display_data"
    }
   ],
   "source": [
    "res.genes_level.b.df <- do.call(rbind,res.genes_level.b)\n",
    "rownames(res.genes_level.b.df) <- all.genes\n",
    "head(res.genes_level.b.df)"
   ]
  },
  {
   "cell_type": "code",
   "execution_count": 67,
   "metadata": {},
   "outputs": [
    {
     "data": {
      "text/html": [
       "<table>\n",
       "<thead><tr><th></th><th scope=col>pval</th><th scope=col>odds</th><th scope=col>type1_frac</th><th scope=col>type2_frac</th><th scope=col>FDR</th><th scope=col>padj.Bonferroni</th><th scope=col>FDR.BY</th></tr></thead>\n",
       "<tbody>\n",
       "\t<tr><th scope=row>SAMD11</th><td>5.791039e-09</td><td>1.4167228   </td><td>0.2289848   </td><td>0.1732955   </td><td>3.364968e-07</td><td>8.849866e-05</td><td>3.436198e-06</td></tr>\n",
       "\t<tr><th scope=row>NOC2L</th><td>5.391691e-06</td><td>1.4476926   </td><td>0.1102435   </td><td>0.07883523  </td><td>7.608109e-05</td><td>8.239582e-02</td><td>7.769157e-04</td></tr>\n",
       "\t<tr><th scope=row>KLHL17</th><td>0.01986402  </td><td>1.6261478   </td><td>0.0149288   </td><td>0.009232955 </td><td>4.680986e-02</td><td>1.000000e+00</td><td>4.780073e-01</td></tr>\n",
       "\t<tr><th scope=row>PLEKHN1</th><td>0.07146685  </td><td>0.7657517   </td><td>0.0158475   </td><td>0.02059659  </td><td>1.243914e-01</td><td>1.000000e+00</td><td>1.000000e+00</td></tr>\n",
       "\t<tr><th scope=row>C1orf170</th><td>0.4620219   </td><td>1.0354018   </td><td>0.01653652  </td><td>0.01598011  </td><td>4.789458e-01</td><td>1.000000e+00</td><td>1.000000e+00</td></tr>\n",
       "\t<tr><th scope=row>HES4</th><td>4.432709e-05</td><td>0.5211191   </td><td>0.01538815  </td><td>0.02911932  </td><td>4.053899e-04</td><td>6.774066e-01</td><td>4.139712e-03</td></tr>\n",
       "</tbody>\n",
       "</table>\n"
      ],
      "text/latex": [
       "\\begin{tabular}{r|lllllll}\n",
       "  & pval & odds & type1\\_frac & type2\\_frac & FDR & padj.Bonferroni & FDR.BY\\\\\n",
       "\\hline\n",
       "\tSAMD11 & 5.791039e-09 & 1.4167228    & 0.2289848    & 0.1732955    & 3.364968e-07 & 8.849866e-05 & 3.436198e-06\\\\\n",
       "\tNOC2L & 5.391691e-06 & 1.4476926    & 0.1102435    & 0.07883523   & 7.608109e-05 & 8.239582e-02 & 7.769157e-04\\\\\n",
       "\tKLHL17 & 0.01986402   & 1.6261478    & 0.0149288    & 0.009232955  & 4.680986e-02 & 1.000000e+00 & 4.780073e-01\\\\\n",
       "\tPLEKHN1 & 0.07146685   & 0.7657517    & 0.0158475    & 0.02059659   & 1.243914e-01 & 1.000000e+00 & 1.000000e+00\\\\\n",
       "\tC1orf170 & 0.4620219    & 1.0354018    & 0.01653652   & 0.01598011   & 4.789458e-01 & 1.000000e+00 & 1.000000e+00\\\\\n",
       "\tHES4 & 4.432709e-05 & 0.5211191    & 0.01538815   & 0.02911932   & 4.053899e-04 & 6.774066e-01 & 4.139712e-03\\\\\n",
       "\\end{tabular}\n"
      ],
      "text/markdown": [
       "\n",
       "| <!--/--> | pval | odds | type1_frac | type2_frac | FDR | padj.Bonferroni | FDR.BY | \n",
       "|---|---|---|---|---|---|\n",
       "| SAMD11 | 5.791039e-09 | 1.4167228    | 0.2289848    | 0.1732955    | 3.364968e-07 | 8.849866e-05 | 3.436198e-06 | \n",
       "| NOC2L | 5.391691e-06 | 1.4476926    | 0.1102435    | 0.07883523   | 7.608109e-05 | 8.239582e-02 | 7.769157e-04 | \n",
       "| KLHL17 | 0.01986402   | 1.6261478    | 0.0149288    | 0.009232955  | 4.680986e-02 | 1.000000e+00 | 4.780073e-01 | \n",
       "| PLEKHN1 | 0.07146685   | 0.7657517    | 0.0158475    | 0.02059659   | 1.243914e-01 | 1.000000e+00 | 1.000000e+00 | \n",
       "| C1orf170 | 0.4620219    | 1.0354018    | 0.01653652   | 0.01598011   | 4.789458e-01 | 1.000000e+00 | 1.000000e+00 | \n",
       "| HES4 | 4.432709e-05 | 0.5211191    | 0.01538815   | 0.02911932   | 4.053899e-04 | 6.774066e-01 | 4.139712e-03 | \n",
       "\n",
       "\n"
      ],
      "text/plain": [
       "         pval         odds      type1_frac type2_frac  FDR         \n",
       "SAMD11   5.791039e-09 1.4167228 0.2289848  0.1732955   3.364968e-07\n",
       "NOC2L    5.391691e-06 1.4476926 0.1102435  0.07883523  7.608109e-05\n",
       "KLHL17   0.01986402   1.6261478 0.0149288  0.009232955 4.680986e-02\n",
       "PLEKHN1  0.07146685   0.7657517 0.0158475  0.02059659  1.243914e-01\n",
       "C1orf170 0.4620219    1.0354018 0.01653652 0.01598011  4.789458e-01\n",
       "HES4     4.432709e-05 0.5211191 0.01538815 0.02911932  4.053899e-04\n",
       "         padj.Bonferroni FDR.BY      \n",
       "SAMD11   8.849866e-05    3.436198e-06\n",
       "NOC2L    8.239582e-02    7.769157e-04\n",
       "KLHL17   1.000000e+00    4.780073e-01\n",
       "PLEKHN1  1.000000e+00    1.000000e+00\n",
       "C1orf170 1.000000e+00    1.000000e+00\n",
       "HES4     6.774066e-01    4.139712e-03"
      ]
     },
     "metadata": {},
     "output_type": "display_data"
    }
   ],
   "source": [
    "# adjust for p value \n",
    "m<- c(\"fdr\",\"bonferroni\",\"BY\");names(m)<-c(\"FDR\",\"padj.Bonferroni\",\"FDR.BY\")\n",
    "res.genes_level.b.df <- as.data.frame(res.genes_level.b.df)\n",
    "for(i in 1:3){\n",
    "    res.genes_level.b.df[[names(m)[i]]] <- p.adjust(as.numeric(res.genes_level.b.df$pval),method = m[i])\n",
    "}\n",
    "res.genes_level.b.df$odds <- as.numeric(res.genes_level.b.df$odds)\n",
    "head(res.genes_level.b.df)\n",
    "fwrite(res.genes_level.b.df,\"./dat/1901/res.genes_level.b.csv\",row.names = T)"
   ]
  },
  {
   "cell_type": "markdown",
   "metadata": {},
   "source": [
    "### 2.4 Plot and explore the results "
   ]
  },
  {
   "cell_type": "code",
   "execution_count": 68,
   "metadata": {},
   "outputs": [
    {
     "data": {
      "text/html": [
       "<ol class=list-inline>\n",
       "\t<li>-41.3264186806234</li>\n",
       "\t<li>0</li>\n",
       "</ol>\n"
      ],
      "text/latex": [
       "\\begin{enumerate*}\n",
       "\\item -41.3264186806234\n",
       "\\item 0\n",
       "\\end{enumerate*}\n"
      ],
      "text/markdown": [
       "1. -41.3264186806234\n",
       "2. 0\n",
       "\n",
       "\n"
      ],
      "text/plain": [
       "[1] -41.32642   0.00000"
      ]
     },
     "metadata": {},
     "output_type": "display_data"
    },
    {
     "data": {
      "text/html": [
       "<ol class=list-inline>\n",
       "\t<li>0</li>\n",
       "\t<li>0.578835227272727</li>\n",
       "</ol>\n"
      ],
      "text/latex": [
       "\\begin{enumerate*}\n",
       "\\item 0\n",
       "\\item 0.578835227272727\n",
       "\\end{enumerate*}\n"
      ],
      "text/markdown": [
       "1. 0\n",
       "2. 0.578835227272727\n",
       "\n",
       "\n"
      ],
      "text/plain": [
       "[1] 0.0000000 0.5788352"
      ]
     },
     "metadata": {},
     "output_type": "display_data"
    }
   ],
   "source": [
    "range(log10(res.genes_level.b.df$padj.Bonferroni))\n",
    "#sum(is.infinite(as.numeric(res.genes_level.a.df$odds)))\n",
    "range((res.genes_level.b.df%>% gather(key=\"subtype\",value = \"frac\",3:4))$frac)"
   ]
  },
  {
   "cell_type": "markdown",
   "metadata": {},
   "source": [
    "#### 2.4.1 Determine fraction threhsolds "
   ]
  },
  {
   "cell_type": "code",
   "execution_count": 96,
   "metadata": {},
   "outputs": [
    {
     "data": {
      "text/html": [
       "90"
      ],
      "text/latex": [
       "90"
      ],
      "text/markdown": [
       "90"
      ],
      "text/plain": [
       "[1] 90"
      ]
     },
     "metadata": {},
     "output_type": "display_data"
    },
    {
     "data": {
      "text/html": [
       "299"
      ],
      "text/latex": [
       "299"
      ],
      "text/markdown": [
       "299"
      ],
      "text/plain": [
       "[1] 299"
      ]
     },
     "metadata": {},
     "output_type": "display_data"
    },
    {
     "data": {
      "text/html": [
       "15282"
      ],
      "text/latex": [
       "15282"
      ],
      "text/markdown": [
       "15282"
      ],
      "text/plain": [
       "[1] 15282"
      ]
     },
     "metadata": {},
     "output_type": "display_data"
    }
   ],
   "source": [
    "pd<- res.genes_level.b.df%>% gather(key=\"subtype\",value = \"frac\",3:4)\n",
    "sum(res.genes_level.b.df$padj.Bonferroni <0.01 & abs(log2(res.genes_level.b.df$odds))>1)\n",
    "sum(res.genes_level.b.df$FDR <0.01 & abs(log2(res.genes_level.b.df$odds))>1)\n",
    "length(res.genes_level.b.df$pval)"
   ]
  },
  {
   "cell_type": "code",
   "execution_count": 71,
   "metadata": {},
   "outputs": [
    {
     "data": {
      "text/html": [
       "<table>\n",
       "<thead><tr><th scope=col>pval</th><th scope=col>odds</th><th scope=col>FDR</th><th scope=col>padj.Bonferroni</th><th scope=col>FDR.BY</th><th scope=col>subtype</th><th scope=col>frac</th></tr></thead>\n",
       "<tbody>\n",
       "\t<tr><td>5.791039e-09</td><td>1.4167228   </td><td>3.364968e-07</td><td>8.849866e-05</td><td>3.436198e-06</td><td>type1_frac  </td><td>0.2289848   </td></tr>\n",
       "\t<tr><td>5.391691e-06</td><td>1.4476926   </td><td>7.608109e-05</td><td>8.239582e-02</td><td>7.769157e-04</td><td>type1_frac  </td><td>0.1102435   </td></tr>\n",
       "\t<tr><td>0.01986402  </td><td>1.6261478   </td><td>4.680986e-02</td><td>1.000000e+00</td><td>4.780073e-01</td><td>type1_frac  </td><td>0.0149288   </td></tr>\n",
       "\t<tr><td>0.07146685  </td><td>0.7657517   </td><td>1.243914e-01</td><td>1.000000e+00</td><td>1.000000e+00</td><td>type1_frac  </td><td>0.0158475   </td></tr>\n",
       "\t<tr><td>0.4620219   </td><td>1.0354018   </td><td>4.789458e-01</td><td>1.000000e+00</td><td>1.000000e+00</td><td>type1_frac  </td><td>0.01653652  </td></tr>\n",
       "\t<tr><td>4.432709e-05</td><td>0.5211191   </td><td>4.053899e-04</td><td>6.774066e-01</td><td>4.139712e-03</td><td>type1_frac  </td><td>0.01538815  </td></tr>\n",
       "</tbody>\n",
       "</table>\n"
      ],
      "text/latex": [
       "\\begin{tabular}{r|lllllll}\n",
       " pval & odds & FDR & padj.Bonferroni & FDR.BY & subtype & frac\\\\\n",
       "\\hline\n",
       "\t 5.791039e-09 & 1.4167228    & 3.364968e-07 & 8.849866e-05 & 3.436198e-06 & type1\\_frac & 0.2289848   \\\\\n",
       "\t 5.391691e-06 & 1.4476926    & 7.608109e-05 & 8.239582e-02 & 7.769157e-04 & type1\\_frac & 0.1102435   \\\\\n",
       "\t 0.01986402   & 1.6261478    & 4.680986e-02 & 1.000000e+00 & 4.780073e-01 & type1\\_frac & 0.0149288   \\\\\n",
       "\t 0.07146685   & 0.7657517    & 1.243914e-01 & 1.000000e+00 & 1.000000e+00 & type1\\_frac & 0.0158475   \\\\\n",
       "\t 0.4620219    & 1.0354018    & 4.789458e-01 & 1.000000e+00 & 1.000000e+00 & type1\\_frac & 0.01653652  \\\\\n",
       "\t 4.432709e-05 & 0.5211191    & 4.053899e-04 & 6.774066e-01 & 4.139712e-03 & type1\\_frac & 0.01538815  \\\\\n",
       "\\end{tabular}\n"
      ],
      "text/markdown": [
       "\n",
       "pval | odds | FDR | padj.Bonferroni | FDR.BY | subtype | frac | \n",
       "|---|---|---|---|---|---|\n",
       "| 5.791039e-09 | 1.4167228    | 3.364968e-07 | 8.849866e-05 | 3.436198e-06 | type1_frac   | 0.2289848    | \n",
       "| 5.391691e-06 | 1.4476926    | 7.608109e-05 | 8.239582e-02 | 7.769157e-04 | type1_frac   | 0.1102435    | \n",
       "| 0.01986402   | 1.6261478    | 4.680986e-02 | 1.000000e+00 | 4.780073e-01 | type1_frac   | 0.0149288    | \n",
       "| 0.07146685   | 0.7657517    | 1.243914e-01 | 1.000000e+00 | 1.000000e+00 | type1_frac   | 0.0158475    | \n",
       "| 0.4620219    | 1.0354018    | 4.789458e-01 | 1.000000e+00 | 1.000000e+00 | type1_frac   | 0.01653652   | \n",
       "| 4.432709e-05 | 0.5211191    | 4.053899e-04 | 6.774066e-01 | 4.139712e-03 | type1_frac   | 0.01538815   | \n",
       "\n",
       "\n"
      ],
      "text/plain": [
       "  pval         odds      FDR          padj.Bonferroni FDR.BY       subtype   \n",
       "1 5.791039e-09 1.4167228 3.364968e-07 8.849866e-05    3.436198e-06 type1_frac\n",
       "2 5.391691e-06 1.4476926 7.608109e-05 8.239582e-02    7.769157e-04 type1_frac\n",
       "3 0.01986402   1.6261478 4.680986e-02 1.000000e+00    4.780073e-01 type1_frac\n",
       "4 0.07146685   0.7657517 1.243914e-01 1.000000e+00    1.000000e+00 type1_frac\n",
       "5 0.4620219    1.0354018 4.789458e-01 1.000000e+00    1.000000e+00 type1_frac\n",
       "6 4.432709e-05 0.5211191 4.053899e-04 6.774066e-01    4.139712e-03 type1_frac\n",
       "  frac      \n",
       "1 0.2289848 \n",
       "2 0.1102435 \n",
       "3 0.0149288 \n",
       "4 0.0158475 \n",
       "5 0.01653652\n",
       "6 0.01538815"
      ]
     },
     "metadata": {},
     "output_type": "display_data"
    }
   ],
   "source": [
    "head(pd)"
   ]
  },
  {
   "cell_type": "code",
   "execution_count": 72,
   "metadata": {},
   "outputs": [
    {
     "data": {},
     "metadata": {},
     "output_type": "display_data"
    },
    {
     "data": {
      "image/png": "[encoded data removed]",
      "text/plain": [
       "plot without title"
      ]
     },
     "metadata": {},
     "output_type": "display_data"
    }
   ],
   "source": [
    "options(repr.plot.width=4, repr.plot.height=3)\n",
    "require(ggExtra)\n",
    "p <- ggplot(res.genes_level.b.df, aes(as.numeric(type1_frac),\n",
    "                                      as.numeric(type2_frac))) +\n",
    "    geom_point(alpha=.25,size=.25) + theme_bw()+\n",
    "    geom_abline(slope = 1,intercept = 0,color='red')\n",
    "# add marginal histograms\n",
    "ggExtra::ggMarginal(p, type = \"density\")"
   ]
  },
  {
   "cell_type": "markdown",
   "metadata": {},
   "source": [
    "#### 2.4.2 Volcano plot"
   ]
  },
  {
   "cell_type": "code",
   "execution_count": 126,
   "metadata": {},
   "outputs": [
    {
     "data": {
      "image/png": "[encoded data removed]",
      "text/plain": [
       "Plot with title “padj.Bonferroni”"
      ]
     },
     "metadata": {},
     "output_type": "display_data"
    }
   ],
   "source": [
    "require(ggplot2)\n",
    "options(repr.plot.width=6, repr.plot.height=6)\n",
    "require(LSD)\n",
    "par(mar=c(5,4,1,1),mfrow = c(2,2))\n",
    "for(m in c(\"FDR\",\"padj.Bonferroni\")){\n",
    "    up<- res.genes_level.b.df[,m] <0.01 & log2(res.genes_level.b.df$odds)>1\n",
    "    down<-res.genes_level.b.df[,m] <0.01 & log2(res.genes_level.b.df$odds)< -1\n",
    "plot(x=log2(res.genes_level.b.df$odds),y=-log10(as.numeric(res.genes_level.b.df[,m])),\n",
    "     xlab = \"log2(odds)\",ylab=paste0('-lbog10(',m,'pval'),cex=.25,\n",
    "     col=ifelse(up,\"red\",ifelse(down,\"blue\",\"grey\")),\n",
    "     main = m)\n",
    "abline(h = 2,col=1,lty=2)\n",
    "abline(v=c(-1,1),col=1,lty=2)\n",
    "text(-4,25,col='blue',labels = paste0(\"n=\",sum(down)))\n",
    "text(3,25,col='red',labels = paste0(\"n=\",sum(up)))\n",
    "\n",
    "# scatter \n",
    "plot(x=as.numeric(res.genes_level.b.df$type1_frac),y=as.numeric(res.genes_level.b.df$type2_frac),\n",
    "     xlab = \"alpha1 frac\",ylab='alpha2 frac',cex=.25,\n",
    "     col=ifelse(up,\"red\",ifelse(down,\"blue\",\"grey\")),\n",
    "     main = m)\n",
    "abline(a=0,b = 1,col=1,lty=2)\n",
    "text(.1,.4,col='blue',labels = paste0(\"n=\",sum(down)))\n",
    "text(.4,.1,col='red',labels = paste0(\"n=\",sum(up)))\n",
    "}\n",
    "\n",
    "\n",
    "\n",
    "# MAplot\n",
    "if(F){\n",
    "    plot(y=log2(res.genes_level.b.df$odds),x=as.numeric(res.genes_level.b.df$type1_frac),\n",
    "            ylab = \"log2(odds)\",xlab='apha1 frac',cex=.25,col='grey',pch=16,\n",
    "            main = '')\n",
    "\n",
    "    abline(h = c(-1,1),col=2,lty=2)\n",
    "\n",
    "}\n",
    "\n",
    "\n",
    "#ggplot(res.genes_level.b.df,aes(odds,-log10(FDR)))+geom_point()"
   ]
  },
  {
   "cell_type": "markdown",
   "metadata": {},
   "source": [
    "### 2.5 GOterm analysis (padj.bonferroni)"
   ]
  },
  {
   "cell_type": "code",
   "execution_count": 108,
   "metadata": {
    "scrolled": false
   },
   "outputs": [
    {
     "data": {
      "text/html": [
       "<dl>\n",
       "\t<dt>$beta1</dt>\n",
       "\t\t<dd><ol class=list-inline>\n",
       "\t<li>'TP73'</li>\n",
       "\t<li>'RHBDL2'</li>\n",
       "\t<li>'TMCO2'</li>\n",
       "\t<li>'GBP5'</li>\n",
       "\t<li>'PKP1'</li>\n",
       "\t<li>'OR13A1'</li>\n",
       "\t<li>'CHST3'</li>\n",
       "\t<li>'PDE6C'</li>\n",
       "\t<li>'INS-IGF2'</li>\n",
       "\t<li>'INS'</li>\n",
       "\t<li>'MMP26'</li>\n",
       "\t<li>'ABCC8'</li>\n",
       "\t<li>'MS4A8'</li>\n",
       "\t<li>'ZP1'</li>\n",
       "\t<li>'KITLG'</li>\n",
       "\t<li>'DHRS2'</li>\n",
       "\t<li>'SMAD6'</li>\n",
       "\t<li>'BTBD17'</li>\n",
       "\t<li>'MYOM1'</li>\n",
       "\t<li>'GREB1L'</li>\n",
       "\t<li>'CDH20'</li>\n",
       "\t<li>'NWD1'</li>\n",
       "\t<li>'DYSF'</li>\n",
       "\t<li>'XIRP2'</li>\n",
       "\t<li>'G6PC2'</li>\n",
       "\t<li>'FERMT1'</li>\n",
       "\t<li>'ID1'</li>\n",
       "\t<li>'NPEPL1'</li>\n",
       "\t<li>'CCR8'</li>\n",
       "\t<li>'RP11-723O4.6'</li>\n",
       "\t<li>'FREM3'</li>\n",
       "\t<li>'DCHS2'</li>\n",
       "\t<li>'KLKB1'</li>\n",
       "\t<li>'TENM2'</li>\n",
       "\t<li>'PI16'</li>\n",
       "\t<li>'KCNK17'</li>\n",
       "\t<li>'HTR1B'</li>\n",
       "\t<li>'FUT9'</li>\n",
       "\t<li>'HS3ST5'</li>\n",
       "\t<li>'FAM162B'</li>\n",
       "\t<li>'IGF2BP3'</li>\n",
       "\t<li>'DDC'</li>\n",
       "\t<li>'DGKI'</li>\n",
       "\t<li>'HR'</li>\n",
       "\t<li>'RNF183'</li>\n",
       "\t<li>'STARD8'</li>\n",
       "</ol>\n",
       "</dd>\n",
       "\t<dt>$beta2</dt>\n",
       "\t\t<dd><ol class=list-inline>\n",
       "\t<li>'SH2D5'</li>\n",
       "\t<li>'GPATCH3'</li>\n",
       "\t<li>'SESN2'</li>\n",
       "\t<li>'PLEKHO1'</li>\n",
       "\t<li>'KMO'</li>\n",
       "\t<li>'VIM'</li>\n",
       "\t<li>'BEST1'</li>\n",
       "\t<li>'FOSL1'</li>\n",
       "\t<li>'C11orf80'</li>\n",
       "\t<li>'MMP10'</li>\n",
       "\t<li>'NDUFA4L2'</li>\n",
       "\t<li>'GATC'</li>\n",
       "\t<li>'TRIAP1'</li>\n",
       "\t<li>'GPR183'</li>\n",
       "\t<li>'TMEM95'</li>\n",
       "\t<li>'ALOXE3'</li>\n",
       "\t<li>'RP11-385D13.1'</li>\n",
       "\t<li>'NT5M'</li>\n",
       "\t<li>'KRTAP4-6'</li>\n",
       "\t<li>'PTGES3L-AARSD1'</li>\n",
       "\t<li>'PTGES3L'</li>\n",
       "\t<li>'RUNDC1'</li>\n",
       "\t<li>'PLEKHM1'</li>\n",
       "\t<li>'NSF'</li>\n",
       "\t<li>'CHERP'</li>\n",
       "\t<li>'ARMC6'</li>\n",
       "\t<li>'PPP1R15A'</li>\n",
       "\t<li>'AC016722.2'</li>\n",
       "\t<li>'AC092675.3'</li>\n",
       "\t<li>'ACMSD'</li>\n",
       "\t<li>'MYO3B'</li>\n",
       "\t<li>'BPIFC'</li>\n",
       "\t<li>'CP'</li>\n",
       "\t<li>'UGT2B7'</li>\n",
       "\t<li>'SLC7A11'</li>\n",
       "\t<li>'IL31RA'</li>\n",
       "\t<li>'RAET1G'</li>\n",
       "\t<li>'RAET1L'</li>\n",
       "\t<li>'ACHE'</li>\n",
       "\t<li>'CPA5'</li>\n",
       "\t<li>'C8orf86'</li>\n",
       "\t<li>'C9orf131'</li>\n",
       "\t<li>'FLJ00273'</li>\n",
       "\t<li>'OGN'</li>\n",
       "</ol>\n",
       "</dd>\n",
       "</dl>\n"
      ],
      "text/latex": [
       "\\begin{description}\n",
       "\\item[\\$beta1] \\begin{enumerate*}\n",
       "\\item 'TP73'\n",
       "\\item 'RHBDL2'\n",
       "\\item 'TMCO2'\n",
       "\\item 'GBP5'\n",
       "\\item 'PKP1'\n",
       "\\item 'OR13A1'\n",
       "\\item 'CHST3'\n",
       "\\item 'PDE6C'\n",
       "\\item 'INS-IGF2'\n",
       "\\item 'INS'\n",
       "\\item 'MMP26'\n",
       "\\item 'ABCC8'\n",
       "\\item 'MS4A8'\n",
       "\\item 'ZP1'\n",
       "\\item 'KITLG'\n",
       "\\item 'DHRS2'\n",
       "\\item 'SMAD6'\n",
       "\\item 'BTBD17'\n",
       "\\item 'MYOM1'\n",
       "\\item 'GREB1L'\n",
       "\\item 'CDH20'\n",
       "\\item 'NWD1'\n",
       "\\item 'DYSF'\n",
       "\\item 'XIRP2'\n",
       "\\item 'G6PC2'\n",
       "\\item 'FERMT1'\n",
       "\\item 'ID1'\n",
       "\\item 'NPEPL1'\n",
       "\\item 'CCR8'\n",
       "\\item 'RP11-723O4.6'\n",
       "\\item 'FREM3'\n",
       "\\item 'DCHS2'\n",
       "\\item 'KLKB1'\n",
       "\\item 'TENM2'\n",
       "\\item 'PI16'\n",
       "\\item 'KCNK17'\n",
       "\\item 'HTR1B'\n",
       "\\item 'FUT9'\n",
       "\\item 'HS3ST5'\n",
       "\\item 'FAM162B'\n",
       "\\item 'IGF2BP3'\n",
       "\\item 'DDC'\n",
       "\\item 'DGKI'\n",
       "\\item 'HR'\n",
       "\\item 'RNF183'\n",
       "\\item 'STARD8'\n",
       "\\end{enumerate*}\n",
       "\n",
       "\\item[\\$beta2] \\begin{enumerate*}\n",
       "\\item 'SH2D5'\n",
       "\\item 'GPATCH3'\n",
       "\\item 'SESN2'\n",
       "\\item 'PLEKHO1'\n",
       "\\item 'KMO'\n",
       "\\item 'VIM'\n",
       "\\item 'BEST1'\n",
       "\\item 'FOSL1'\n",
       "\\item 'C11orf80'\n",
       "\\item 'MMP10'\n",
       "\\item 'NDUFA4L2'\n",
       "\\item 'GATC'\n",
       "\\item 'TRIAP1'\n",
       "\\item 'GPR183'\n",
       "\\item 'TMEM95'\n",
       "\\item 'ALOXE3'\n",
       "\\item 'RP11-385D13.1'\n",
       "\\item 'NT5M'\n",
       "\\item 'KRTAP4-6'\n",
       "\\item 'PTGES3L-AARSD1'\n",
       "\\item 'PTGES3L'\n",
       "\\item 'RUNDC1'\n",
       "\\item 'PLEKHM1'\n",
       "\\item 'NSF'\n",
       "\\item 'CHERP'\n",
       "\\item 'ARMC6'\n",
       "\\item 'PPP1R15A'\n",
       "\\item 'AC016722.2'\n",
       "\\item 'AC092675.3'\n",
       "\\item 'ACMSD'\n",
       "\\item 'MYO3B'\n",
       "\\item 'BPIFC'\n",
       "\\item 'CP'\n",
       "\\item 'UGT2B7'\n",
       "\\item 'SLC7A11'\n",
       "\\item 'IL31RA'\n",
       "\\item 'RAET1G'\n",
       "\\item 'RAET1L'\n",
       "\\item 'ACHE'\n",
       "\\item 'CPA5'\n",
       "\\item 'C8orf86'\n",
       "\\item 'C9orf131'\n",
       "\\item 'FLJ00273'\n",
       "\\item 'OGN'\n",
       "\\end{enumerate*}\n",
       "\n",
       "\\end{description}\n"
      ],
      "text/markdown": [
       "$beta1\n",
       ":   1. 'TP73'\n",
       "2. 'RHBDL2'\n",
       "3. 'TMCO2'\n",
       "4. 'GBP5'\n",
       "5. 'PKP1'\n",
       "6. 'OR13A1'\n",
       "7. 'CHST3'\n",
       "8. 'PDE6C'\n",
       "9. 'INS-IGF2'\n",
       "10. 'INS'\n",
       "11. 'MMP26'\n",
       "12. 'ABCC8'\n",
       "13. 'MS4A8'\n",
       "14. 'ZP1'\n",
       "15. 'KITLG'\n",
       "16. 'DHRS2'\n",
       "17. 'SMAD6'\n",
       "18. 'BTBD17'\n",
       "19. 'MYOM1'\n",
       "20. 'GREB1L'\n",
       "21. 'CDH20'\n",
       "22. 'NWD1'\n",
       "23. 'DYSF'\n",
       "24. 'XIRP2'\n",
       "25. 'G6PC2'\n",
       "26. 'FERMT1'\n",
       "27. 'ID1'\n",
       "28. 'NPEPL1'\n",
       "29. 'CCR8'\n",
       "30. 'RP11-723O4.6'\n",
       "31. 'FREM3'\n",
       "32. 'DCHS2'\n",
       "33. 'KLKB1'\n",
       "34. 'TENM2'\n",
       "35. 'PI16'\n",
       "36. 'KCNK17'\n",
       "37. 'HTR1B'\n",
       "38. 'FUT9'\n",
       "39. 'HS3ST5'\n",
       "40. 'FAM162B'\n",
       "41. 'IGF2BP3'\n",
       "42. 'DDC'\n",
       "43. 'DGKI'\n",
       "44. 'HR'\n",
       "45. 'RNF183'\n",
       "46. 'STARD8'\n",
       "\n",
       "\n",
       "\n",
       "$beta2\n",
       ":   1. 'SH2D5'\n",
       "2. 'GPATCH3'\n",
       "3. 'SESN2'\n",
       "4. 'PLEKHO1'\n",
       "5. 'KMO'\n",
       "6. 'VIM'\n",
       "7. 'BEST1'\n",
       "8. 'FOSL1'\n",
       "9. 'C11orf80'\n",
       "10. 'MMP10'\n",
       "11. 'NDUFA4L2'\n",
       "12. 'GATC'\n",
       "13. 'TRIAP1'\n",
       "14. 'GPR183'\n",
       "15. 'TMEM95'\n",
       "16. 'ALOXE3'\n",
       "17. 'RP11-385D13.1'\n",
       "18. 'NT5M'\n",
       "19. 'KRTAP4-6'\n",
       "20. 'PTGES3L-AARSD1'\n",
       "21. 'PTGES3L'\n",
       "22. 'RUNDC1'\n",
       "23. 'PLEKHM1'\n",
       "24. 'NSF'\n",
       "25. 'CHERP'\n",
       "26. 'ARMC6'\n",
       "27. 'PPP1R15A'\n",
       "28. 'AC016722.2'\n",
       "29. 'AC092675.3'\n",
       "30. 'ACMSD'\n",
       "31. 'MYO3B'\n",
       "32. 'BPIFC'\n",
       "33. 'CP'\n",
       "34. 'UGT2B7'\n",
       "35. 'SLC7A11'\n",
       "36. 'IL31RA'\n",
       "37. 'RAET1G'\n",
       "38. 'RAET1L'\n",
       "39. 'ACHE'\n",
       "40. 'CPA5'\n",
       "41. 'C8orf86'\n",
       "42. 'C9orf131'\n",
       "43. 'FLJ00273'\n",
       "44. 'OGN'\n",
       "\n",
       "\n",
       "\n",
       "\n",
       "\n"
      ],
      "text/plain": [
       "$beta1\n",
       " [1] \"TP73\"         \"RHBDL2\"       \"TMCO2\"        \"GBP5\"         \"PKP1\"        \n",
       " [6] \"OR13A1\"       \"CHST3\"        \"PDE6C\"        \"INS-IGF2\"     \"INS\"         \n",
       "[11] \"MMP26\"        \"ABCC8\"        \"MS4A8\"        \"ZP1\"          \"KITLG\"       \n",
       "[16] \"DHRS2\"        \"SMAD6\"        \"BTBD17\"       \"MYOM1\"        \"GREB1L\"      \n",
       "[21] \"CDH20\"        \"NWD1\"         \"DYSF\"         \"XIRP2\"        \"G6PC2\"       \n",
       "[26] \"FERMT1\"       \"ID1\"          \"NPEPL1\"       \"CCR8\"         \"RP11-723O4.6\"\n",
       "[31] \"FREM3\"        \"DCHS2\"        \"KLKB1\"        \"TENM2\"        \"PI16\"        \n",
       "[36] \"KCNK17\"       \"HTR1B\"        \"FUT9\"         \"HS3ST5\"       \"FAM162B\"     \n",
       "[41] \"IGF2BP3\"      \"DDC\"          \"DGKI\"         \"HR\"           \"RNF183\"      \n",
       "[46] \"STARD8\"      \n",
       "\n",
       "$beta2\n",
       " [1] \"SH2D5\"          \"GPATCH3\"        \"SESN2\"          \"PLEKHO1\"       \n",
       " [5] \"KMO\"            \"VIM\"            \"BEST1\"          \"FOSL1\"         \n",
       " [9] \"C11orf80\"       \"MMP10\"          \"NDUFA4L2\"       \"GATC\"          \n",
       "[13] \"TRIAP1\"         \"GPR183\"         \"TMEM95\"         \"ALOXE3\"        \n",
       "[17] \"RP11-385D13.1\"  \"NT5M\"           \"KRTAP4-6\"       \"PTGES3L-AARSD1\"\n",
       "[21] \"PTGES3L\"        \"RUNDC1\"         \"PLEKHM1\"        \"NSF\"           \n",
       "[25] \"CHERP\"          \"ARMC6\"          \"PPP1R15A\"       \"AC016722.2\"    \n",
       "[29] \"AC092675.3\"     \"ACMSD\"          \"MYO3B\"          \"BPIFC\"         \n",
       "[33] \"CP\"             \"UGT2B7\"         \"SLC7A11\"        \"IL31RA\"        \n",
       "[37] \"RAET1G\"         \"RAET1L\"         \"ACHE\"           \"CPA5\"          \n",
       "[41] \"C8orf86\"        \"C9orf131\"       \"FLJ00273\"       \"OGN\"           \n"
      ]
     },
     "metadata": {},
     "output_type": "display_data"
    }
   ],
   "source": [
    "beta.glist <- list()\n",
    "beta.glist$beta1<- rownames(res.genes_level.b.df)[up]\n",
    "beta.glist$beta2<- rownames(res.genes_level.b.df)[down]\n",
    "beta.glist"
   ]
  },
  {
   "cell_type": "code",
   "execution_count": 124,
   "metadata": {},
   "outputs": [
    {
     "name": "stdout",
     "output_type": "stream",
     "text": [
      "Uploading data to Enrichr... Done.\n",
      "  Querying GO_Biological_Process_2018... Done.\n",
      "  Querying KEGG_2018... Done.\n",
      "Parsing results... Done.\n"
     ]
    },
    {
     "data": {
      "text/html": [
       "<table>\n",
       "<thead><tr><th scope=col>Term</th><th scope=col>Overlap</th><th scope=col>P.value</th><th scope=col>Adjusted.P.value</th><th scope=col>Z.score</th><th scope=col>Combined.Score</th><th scope=col>Genes</th></tr></thead>\n",
       "<tbody>\n",
       "\t<tr><td>positive regulation of insulin receptor signaling pathway (GO:0046628)   </td><td>2/8                                                                      </td><td>0.0001436371                                                             </td><td>0.03210288                                                               </td><td>-1.975236                                                                </td><td>17.477329                                                                </td><td>INS-IGF2;INS                                                             </td></tr>\n",
       "\t<tr><td>regulation of protein secretion (GO:0050708)                             </td><td>4/108                                                                    </td><td>0.0001101922                                                             </td><td>0.03210288                                                               </td><td>-1.270394                                                                </td><td>11.577458                                                                </td><td>MYOM1;G6PC2;ABCC8;INS                                                    </td></tr>\n",
       "\t<tr><td>positive regulation of cellular response to insulin stimulus (GO:1900078)</td><td>2/16                                                                     </td><td>0.0006084107                                                             </td><td>0.05101207                                                               </td><td>-2.289520                                                                </td><td>16.953116                                                                </td><td>INS-IGF2;INS                                                             </td></tr>\n",
       "\t<tr><td>regulation of peptide hormone secretion (GO:0090276)                     </td><td>3/74                                                                     </td><td>0.0006583933                                                             </td><td>0.05101207                                                               </td><td>-1.838383                                                                </td><td>13.467459                                                                </td><td>G6PC2;ABCC8;INS                                                          </td></tr>\n",
       "\t<tr><td>carbohydrate homeostasis (GO:0033500)                                    </td><td>3/64                                                                     </td><td>0.0004300197                                                             </td><td>0.05101207                                                               </td><td>-1.404402                                                                </td><td>10.886478                                                                </td><td>G6PC2;INS-IGF2;INS                                                       </td></tr>\n",
       "\t<tr><td>glucose homeostasis (GO:0042593)                                         </td><td>3/75                                                                     </td><td>0.0006847258                                                             </td><td>0.05101207                                                               </td><td>-1.248809                                                                </td><td> 9.099434                                                                </td><td>G6PC2;INS-IGF2;INS                                                       </td></tr>\n",
       "\t<tr><td>response to nutrient levels (GO:0031667)                                 </td><td>2/19                                                                     </td><td>0.0008631841                                                             </td><td>0.05512047                                                               </td><td>-2.221915                                                                </td><td>15.675352                                                                </td><td>INS-IGF2;INS                                                             </td></tr>\n",
       "\t<tr><td>positive regulation of DNA replication (GO:0045740)                      </td><td>2/36                                                                     </td><td>0.0031020612                                                             </td><td>0.09898661                                                               </td><td>-2.167333                                                                </td><td>12.517842                                                                </td><td>KITLG;INS                                                                </td></tr>\n",
       "\t<tr><td>response to hexose (GO:0009746)                                          </td><td>2/28                                                                     </td><td>0.0018831261                                                             </td><td>0.09898661                                                               </td><td>-1.903257                                                                </td><td>11.942598                                                                </td><td>INS-IGF2;INS                                                             </td></tr>\n",
       "\t<tr><td>negative regulation of secretion by cell (GO:1903531)                    </td><td>2/31                                                                     </td><td>0.0023064055                                                             </td><td>0.09898661                                                               </td><td>-1.885175                                                                </td><td>11.446904                                                                </td><td>HTR1B;INS                                                                </td></tr>\n",
       "\t<tr><td>negative regulation of protein complex assembly (GO:0031333)             </td><td>2/36                                                                     </td><td>0.0031020612                                                             </td><td>0.09898661                                                               </td><td>-1.757296                                                                </td><td>10.149592                                                                </td><td>SMAD6;INS                                                                </td></tr>\n",
       "\t<tr><td>regulation of insulin receptor signaling pathway (GO:0046626)            </td><td>2/35                                                                     </td><td>0.0029340071                                                             </td><td>0.09898661                                                               </td><td>-1.555161                                                                </td><td> 9.068742                                                                </td><td>INS-IGF2;INS                                                             </td></tr>\n",
       "\t<tr><td>positive regulation of peptide secretion (GO:0002793)                    </td><td>2/36                                                                     </td><td>0.0031020612                                                             </td><td>0.09898661                                                               </td><td>-1.544941                                                                </td><td> 8.923095                                                                </td><td>MYOM1;INS                                                                </td></tr>\n",
       "\t<tr><td>regulation of macromolecule metabolic process (GO:0060255)               </td><td>3/130                                                                    </td><td>0.0033216982                                                             </td><td>0.09898661                                                               </td><td>-1.259764                                                                </td><td> 7.189827                                                                </td><td>INS-IGF2;TP73;INS                                                        </td></tr>\n",
       "\t<tr><td>negative regulation of multicellular organismal process (GO:0051241)     </td><td>3/126                                                                    </td><td>0.0030415739                                                             </td><td>0.09898661                                                               </td><td>-1.119528                                                                </td><td> 6.488092                                                                </td><td>HS3ST5;SMAD6;INS                                                         </td></tr>\n",
       "</tbody>\n",
       "</table>\n"
      ],
      "text/latex": [
       "\\begin{tabular}{r|lllllll}\n",
       " Term & Overlap & P.value & Adjusted.P.value & Z.score & Combined.Score & Genes\\\\\n",
       "\\hline\n",
       "\t positive regulation of insulin receptor signaling pathway (GO:0046628)    & 2/8                                                                       & 0.0001436371                                                              & 0.03210288                                                                & -1.975236                                                                 & 17.477329                                                                 & INS-IGF2;INS                                                             \\\\\n",
       "\t regulation of protein secretion (GO:0050708)                              & 4/108                                                                     & 0.0001101922                                                              & 0.03210288                                                                & -1.270394                                                                 & 11.577458                                                                 & MYOM1;G6PC2;ABCC8;INS                                                    \\\\\n",
       "\t positive regulation of cellular response to insulin stimulus (GO:1900078) & 2/16                                                                      & 0.0006084107                                                              & 0.05101207                                                                & -2.289520                                                                 & 16.953116                                                                 & INS-IGF2;INS                                                             \\\\\n",
       "\t regulation of peptide hormone secretion (GO:0090276)                      & 3/74                                                                      & 0.0006583933                                                              & 0.05101207                                                                & -1.838383                                                                 & 13.467459                                                                 & G6PC2;ABCC8;INS                                                          \\\\\n",
       "\t carbohydrate homeostasis (GO:0033500)                                     & 3/64                                                                      & 0.0004300197                                                              & 0.05101207                                                                & -1.404402                                                                 & 10.886478                                                                 & G6PC2;INS-IGF2;INS                                                       \\\\\n",
       "\t glucose homeostasis (GO:0042593)                                          & 3/75                                                                      & 0.0006847258                                                              & 0.05101207                                                                & -1.248809                                                                 &  9.099434                                                                 & G6PC2;INS-IGF2;INS                                                       \\\\\n",
       "\t response to nutrient levels (GO:0031667)                                  & 2/19                                                                      & 0.0008631841                                                              & 0.05512047                                                                & -2.221915                                                                 & 15.675352                                                                 & INS-IGF2;INS                                                             \\\\\n",
       "\t positive regulation of DNA replication (GO:0045740)                       & 2/36                                                                      & 0.0031020612                                                              & 0.09898661                                                                & -2.167333                                                                 & 12.517842                                                                 & KITLG;INS                                                                \\\\\n",
       "\t response to hexose (GO:0009746)                                           & 2/28                                                                      & 0.0018831261                                                              & 0.09898661                                                                & -1.903257                                                                 & 11.942598                                                                 & INS-IGF2;INS                                                             \\\\\n",
       "\t negative regulation of secretion by cell (GO:1903531)                     & 2/31                                                                      & 0.0023064055                                                              & 0.09898661                                                                & -1.885175                                                                 & 11.446904                                                                 & HTR1B;INS                                                                \\\\\n",
       "\t negative regulation of protein complex assembly (GO:0031333)              & 2/36                                                                      & 0.0031020612                                                              & 0.09898661                                                                & -1.757296                                                                 & 10.149592                                                                 & SMAD6;INS                                                                \\\\\n",
       "\t regulation of insulin receptor signaling pathway (GO:0046626)             & 2/35                                                                      & 0.0029340071                                                              & 0.09898661                                                                & -1.555161                                                                 &  9.068742                                                                 & INS-IGF2;INS                                                             \\\\\n",
       "\t positive regulation of peptide secretion (GO:0002793)                     & 2/36                                                                      & 0.0031020612                                                              & 0.09898661                                                                & -1.544941                                                                 &  8.923095                                                                 & MYOM1;INS                                                                \\\\\n",
       "\t regulation of macromolecule metabolic process (GO:0060255)                & 3/130                                                                     & 0.0033216982                                                              & 0.09898661                                                                & -1.259764                                                                 &  7.189827                                                                 & INS-IGF2;TP73;INS                                                        \\\\\n",
       "\t negative regulation of multicellular organismal process (GO:0051241)      & 3/126                                                                     & 0.0030415739                                                              & 0.09898661                                                                & -1.119528                                                                 &  6.488092                                                                 & HS3ST5;SMAD6;INS                                                         \\\\\n",
       "\\end{tabular}\n"
      ],
      "text/markdown": [
       "\n",
       "Term | Overlap | P.value | Adjusted.P.value | Z.score | Combined.Score | Genes | \n",
       "|---|---|---|---|---|---|---|---|---|---|---|---|---|---|---|\n",
       "| positive regulation of insulin receptor signaling pathway (GO:0046628)    | 2/8                                                                       | 0.0001436371                                                              | 0.03210288                                                                | -1.975236                                                                 | 17.477329                                                                 | INS-IGF2;INS                                                              | \n",
       "| regulation of protein secretion (GO:0050708)                              | 4/108                                                                     | 0.0001101922                                                              | 0.03210288                                                                | -1.270394                                                                 | 11.577458                                                                 | MYOM1;G6PC2;ABCC8;INS                                                     | \n",
       "| positive regulation of cellular response to insulin stimulus (GO:1900078) | 2/16                                                                      | 0.0006084107                                                              | 0.05101207                                                                | -2.289520                                                                 | 16.953116                                                                 | INS-IGF2;INS                                                              | \n",
       "| regulation of peptide hormone secretion (GO:0090276)                      | 3/74                                                                      | 0.0006583933                                                              | 0.05101207                                                                | -1.838383                                                                 | 13.467459                                                                 | G6PC2;ABCC8;INS                                                           | \n",
       "| carbohydrate homeostasis (GO:0033500)                                     | 3/64                                                                      | 0.0004300197                                                              | 0.05101207                                                                | -1.404402                                                                 | 10.886478                                                                 | G6PC2;INS-IGF2;INS                                                        | \n",
       "| glucose homeostasis (GO:0042593)                                          | 3/75                                                                      | 0.0006847258                                                              | 0.05101207                                                                | -1.248809                                                                 |  9.099434                                                                 | G6PC2;INS-IGF2;INS                                                        | \n",
       "| response to nutrient levels (GO:0031667)                                  | 2/19                                                                      | 0.0008631841                                                              | 0.05512047                                                                | -2.221915                                                                 | 15.675352                                                                 | INS-IGF2;INS                                                              | \n",
       "| positive regulation of DNA replication (GO:0045740)                       | 2/36                                                                      | 0.0031020612                                                              | 0.09898661                                                                | -2.167333                                                                 | 12.517842                                                                 | KITLG;INS                                                                 | \n",
       "| response to hexose (GO:0009746)                                           | 2/28                                                                      | 0.0018831261                                                              | 0.09898661                                                                | -1.903257                                                                 | 11.942598                                                                 | INS-IGF2;INS                                                              | \n",
       "| negative regulation of secretion by cell (GO:1903531)                     | 2/31                                                                      | 0.0023064055                                                              | 0.09898661                                                                | -1.885175                                                                 | 11.446904                                                                 | HTR1B;INS                                                                 | \n",
       "| negative regulation of protein complex assembly (GO:0031333)              | 2/36                                                                      | 0.0031020612                                                              | 0.09898661                                                                | -1.757296                                                                 | 10.149592                                                                 | SMAD6;INS                                                                 | \n",
       "| regulation of insulin receptor signaling pathway (GO:0046626)             | 2/35                                                                      | 0.0029340071                                                              | 0.09898661                                                                | -1.555161                                                                 |  9.068742                                                                 | INS-IGF2;INS                                                              | \n",
       "| positive regulation of peptide secretion (GO:0002793)                     | 2/36                                                                      | 0.0031020612                                                              | 0.09898661                                                                | -1.544941                                                                 |  8.923095                                                                 | MYOM1;INS                                                                 | \n",
       "| regulation of macromolecule metabolic process (GO:0060255)                | 3/130                                                                     | 0.0033216982                                                              | 0.09898661                                                                | -1.259764                                                                 |  7.189827                                                                 | INS-IGF2;TP73;INS                                                         | \n",
       "| negative regulation of multicellular organismal process (GO:0051241)      | 3/126                                                                     | 0.0030415739                                                              | 0.09898661                                                                | -1.119528                                                                 |  6.488092                                                                 | HS3ST5;SMAD6;INS                                                          | \n",
       "\n",
       "\n"
      ],
      "text/plain": [
       "   Term                                                                     \n",
       "1  positive regulation of insulin receptor signaling pathway (GO:0046628)   \n",
       "2  regulation of protein secretion (GO:0050708)                             \n",
       "3  positive regulation of cellular response to insulin stimulus (GO:1900078)\n",
       "4  regulation of peptide hormone secretion (GO:0090276)                     \n",
       "5  carbohydrate homeostasis (GO:0033500)                                    \n",
       "6  glucose homeostasis (GO:0042593)                                         \n",
       "7  response to nutrient levels (GO:0031667)                                 \n",
       "8  positive regulation of DNA replication (GO:0045740)                      \n",
       "9  response to hexose (GO:0009746)                                          \n",
       "10 negative regulation of secretion by cell (GO:1903531)                    \n",
       "11 negative regulation of protein complex assembly (GO:0031333)             \n",
       "12 regulation of insulin receptor signaling pathway (GO:0046626)            \n",
       "13 positive regulation of peptide secretion (GO:0002793)                    \n",
       "14 regulation of macromolecule metabolic process (GO:0060255)               \n",
       "15 negative regulation of multicellular organismal process (GO:0051241)     \n",
       "   Overlap P.value      Adjusted.P.value Z.score   Combined.Score\n",
       "1  2/8     0.0001436371 0.03210288       -1.975236 17.477329     \n",
       "2  4/108   0.0001101922 0.03210288       -1.270394 11.577458     \n",
       "3  2/16    0.0006084107 0.05101207       -2.289520 16.953116     \n",
       "4  3/74    0.0006583933 0.05101207       -1.838383 13.467459     \n",
       "5  3/64    0.0004300197 0.05101207       -1.404402 10.886478     \n",
       "6  3/75    0.0006847258 0.05101207       -1.248809  9.099434     \n",
       "7  2/19    0.0008631841 0.05512047       -2.221915 15.675352     \n",
       "8  2/36    0.0031020612 0.09898661       -2.167333 12.517842     \n",
       "9  2/28    0.0018831261 0.09898661       -1.903257 11.942598     \n",
       "10 2/31    0.0023064055 0.09898661       -1.885175 11.446904     \n",
       "11 2/36    0.0031020612 0.09898661       -1.757296 10.149592     \n",
       "12 2/35    0.0029340071 0.09898661       -1.555161  9.068742     \n",
       "13 2/36    0.0031020612 0.09898661       -1.544941  8.923095     \n",
       "14 3/130   0.0033216982 0.09898661       -1.259764  7.189827     \n",
       "15 3/126   0.0030415739 0.09898661       -1.119528  6.488092     \n",
       "   Genes                \n",
       "1  INS-IGF2;INS         \n",
       "2  MYOM1;G6PC2;ABCC8;INS\n",
       "3  INS-IGF2;INS         \n",
       "4  G6PC2;ABCC8;INS      \n",
       "5  G6PC2;INS-IGF2;INS   \n",
       "6  G6PC2;INS-IGF2;INS   \n",
       "7  INS-IGF2;INS         \n",
       "8  KITLG;INS            \n",
       "9  INS-IGF2;INS         \n",
       "10 HTR1B;INS            \n",
       "11 SMAD6;INS            \n",
       "12 INS-IGF2;INS         \n",
       "13 MYOM1;INS            \n",
       "14 INS-IGF2;TP73;INS    \n",
       "15 HS3ST5;SMAD6;INS     "
      ]
     },
     "metadata": {},
     "output_type": "display_data"
    }
   ],
   "source": [
    "require(enrichR)\n",
    "dbs<- c(\"GO_Biological_Process_2018\",\"KEGG_2018\")\n",
    "go.res.b <- list()\n",
    "enriched <- enrichr(beta.glist$beta1, dbs)\n",
    "go.res.b$beta1 <- enriched\n",
    "enriched[[\"GO_Biological_Process_2018\"]]%>%\n",
    "    arrange(Adjusted.P.value)%>%\n",
    "    select(-starts_with(\"old\"))%>%\n",
    "    filter(Adjusted.P.value<0.1)"
   ]
  },
  {
   "cell_type": "code",
   "execution_count": 119,
   "metadata": {
    "scrolled": false
   },
   "outputs": [
    {
     "data": {
      "text/html": [
       "<table>\n",
       "<thead><tr><th scope=col>Term</th><th scope=col>Overlap</th><th scope=col>P.value</th><th scope=col>Adjusted.P.value</th><th scope=col>Z.score</th><th scope=col>Combined.Score</th><th scope=col>Genes</th></tr></thead>\n",
       "<tbody>\n",
       "\t<tr><td>tryptophan metabolic process (GO:0006568)                 </td><td>2/11                                                      </td><td>0.0002569047                                              </td><td>0.02851642                                                </td><td>-2.628382                                                 </td><td>21.72832                                                  </td><td>KMO;ACMSD                                                 </td></tr>\n",
       "\t<tr><td>indolalkylamine catabolic process (GO:0046218)            </td><td>2/10                                                      </td><td>0.0002104892                                              </td><td>0.02851642                                                </td><td>-2.565043                                                 </td><td>21.71585                                                  </td><td>KMO;ACMSD                                                 </td></tr>\n",
       "\t<tr><td>tryptophan catabolic process (GO:0006569)                 </td><td>2/11                                                      </td><td>0.0002569047                                              </td><td>0.02851642                                                </td><td>-2.527580                                                 </td><td>20.89501                                                  </td><td>KMO;ACMSD                                                 </td></tr>\n",
       "\t<tr><td>aromatic amino acid family catabolic process (GO:0009074) </td><td>2/21                                                      </td><td>0.0009672863                                              </td><td>0.08052659                                                </td><td>-1.965112                                                 </td><td>13.63987                                                  </td><td>KMO;ACMSD                                                 </td></tr>\n",
       "\t<tr><td>signal transduction in response to DNA damage (GO:0042770)</td><td>2/26                                                      </td><td>0.0014865704                                              </td><td>0.09900559                                                </td><td>-2.050741                                                 </td><td>13.35296                                                  </td><td>SESN2;TRIAP1                                              </td></tr>\n",
       "</tbody>\n",
       "</table>\n"
      ],
      "text/latex": [
       "\\begin{tabular}{r|lllllll}\n",
       " Term & Overlap & P.value & Adjusted.P.value & Z.score & Combined.Score & Genes\\\\\n",
       "\\hline\n",
       "\t tryptophan metabolic process (GO:0006568)                  & 2/11                                                       & 0.0002569047                                               & 0.02851642                                                 & -2.628382                                                  & 21.72832                                                   & KMO;ACMSD                                                 \\\\\n",
       "\t indolalkylamine catabolic process (GO:0046218)             & 2/10                                                       & 0.0002104892                                               & 0.02851642                                                 & -2.565043                                                  & 21.71585                                                   & KMO;ACMSD                                                 \\\\\n",
       "\t tryptophan catabolic process (GO:0006569)                  & 2/11                                                       & 0.0002569047                                               & 0.02851642                                                 & -2.527580                                                  & 20.89501                                                   & KMO;ACMSD                                                 \\\\\n",
       "\t aromatic amino acid family catabolic process (GO:0009074)  & 2/21                                                       & 0.0009672863                                               & 0.08052659                                                 & -1.965112                                                  & 13.63987                                                   & KMO;ACMSD                                                 \\\\\n",
       "\t signal transduction in response to DNA damage (GO:0042770) & 2/26                                                       & 0.0014865704                                               & 0.09900559                                                 & -2.050741                                                  & 13.35296                                                   & SESN2;TRIAP1                                              \\\\\n",
       "\\end{tabular}\n"
      ],
      "text/markdown": [
       "\n",
       "Term | Overlap | P.value | Adjusted.P.value | Z.score | Combined.Score | Genes | \n",
       "|---|---|---|---|---|\n",
       "| tryptophan metabolic process (GO:0006568)                  | 2/11                                                       | 0.0002569047                                               | 0.02851642                                                 | -2.628382                                                  | 21.72832                                                   | KMO;ACMSD                                                  | \n",
       "| indolalkylamine catabolic process (GO:0046218)             | 2/10                                                       | 0.0002104892                                               | 0.02851642                                                 | -2.565043                                                  | 21.71585                                                   | KMO;ACMSD                                                  | \n",
       "| tryptophan catabolic process (GO:0006569)                  | 2/11                                                       | 0.0002569047                                               | 0.02851642                                                 | -2.527580                                                  | 20.89501                                                   | KMO;ACMSD                                                  | \n",
       "| aromatic amino acid family catabolic process (GO:0009074)  | 2/21                                                       | 0.0009672863                                               | 0.08052659                                                 | -1.965112                                                  | 13.63987                                                   | KMO;ACMSD                                                  | \n",
       "| signal transduction in response to DNA damage (GO:0042770) | 2/26                                                       | 0.0014865704                                               | 0.09900559                                                 | -2.050741                                                  | 13.35296                                                   | SESN2;TRIAP1                                               | \n",
       "\n",
       "\n"
      ],
      "text/plain": [
       "  Term                                                       Overlap\n",
       "1 tryptophan metabolic process (GO:0006568)                  2/11   \n",
       "2 indolalkylamine catabolic process (GO:0046218)             2/10   \n",
       "3 tryptophan catabolic process (GO:0006569)                  2/11   \n",
       "4 aromatic amino acid family catabolic process (GO:0009074)  2/21   \n",
       "5 signal transduction in response to DNA damage (GO:0042770) 2/26   \n",
       "  P.value      Adjusted.P.value Z.score   Combined.Score Genes       \n",
       "1 0.0002569047 0.02851642       -2.628382 21.72832       KMO;ACMSD   \n",
       "2 0.0002104892 0.02851642       -2.565043 21.71585       KMO;ACMSD   \n",
       "3 0.0002569047 0.02851642       -2.527580 20.89501       KMO;ACMSD   \n",
       "4 0.0009672863 0.08052659       -1.965112 13.63987       KMO;ACMSD   \n",
       "5 0.0014865704 0.09900559       -2.050741 13.35296       SESN2;TRIAP1"
      ]
     },
     "metadata": {},
     "output_type": "display_data"
    }
   ],
   "source": [
    "enriched[[\"GO_Biological_Process_2018\"]]%>%\n",
    "    arrange(Adjusted.P.value)%>%\n",
    "    select(-starts_with(\"old\"))%>%\n",
    "    filter(Adjusted.P.value<0.1)"
   ]
  },
  {
   "cell_type": "markdown",
   "metadata": {},
   "source": [
    "### 2.6 Go term using FDR"
   ]
  },
  {
   "cell_type": "code",
   "execution_count": 127,
   "metadata": {
    "scrolled": true
   },
   "outputs": [
    {
     "name": "stdout",
     "output_type": "stream",
     "text": [
      "Uploading data to Enrichr... Done.\n",
      "  Querying GO_Biological_Process_2018... Done.\n",
      "  Querying KEGG_2018... Done.\n",
      "Parsing results... Done.\n"
     ]
    },
    {
     "data": {
      "text/html": [
       "<table>\n",
       "<thead><tr><th scope=col>Term</th><th scope=col>Overlap</th><th scope=col>P.value</th><th scope=col>Adjusted.P.value</th><th scope=col>Z.score</th><th scope=col>Combined.Score</th><th scope=col>Genes</th></tr></thead>\n",
       "<tbody>\n",
       "</tbody>\n",
       "</table>\n"
      ],
      "text/latex": [
       "\\begin{tabular}{r|lllllll}\n",
       " Term & Overlap & P.value & Adjusted.P.value & Z.score & Combined.Score & Genes\\\\\n",
       "\\hline\n",
       "\\end{tabular}\n"
      ],
      "text/markdown": [
       "\n",
       "Term | Overlap | P.value | Adjusted.P.value | Z.score | Combined.Score | Genes | \n",
       "||\n",
       "\n",
       "\n"
      ],
      "text/plain": [
       "     Term Overlap P.value Adjusted.P.value Z.score Combined.Score Genes"
      ]
     },
     "metadata": {},
     "output_type": "display_data"
    }
   ],
   "source": [
    "m<-'FDR'\n",
    "up<- res.genes_level.b.df[,m] <0.01 & log2(res.genes_level.b.df$odds)>1\n",
    "    down<-res.genes_level.b.df[,m] <0.01 & log2(res.genes_level.b.df$odds)< -1\n",
    "\n",
    "go.res.b <- list()\n",
    "#beta1\n",
    "enriched <- enrichr(rownames(res.genes_level.b.df)[up], dbs)\n",
    "enriched[[\"GO_Biological_Process_2018\"]]%>%\n",
    "    arrange(Adjusted.P.value)%>%\n",
    "    select(-starts_with(\"old\"))%>%\n",
    "    filter(Adjusted.P.value<0.1)"
   ]
  },
  {
   "cell_type": "code",
   "execution_count": 130,
   "metadata": {},
   "outputs": [
    {
     "data": {
      "text/html": [
       "108"
      ],
      "text/latex": [
       "108"
      ],
      "text/markdown": [
       "108"
      ],
      "text/plain": [
       "[1] 108"
      ]
     },
     "metadata": {},
     "output_type": "display_data"
    },
    {
     "name": "stdout",
     "output_type": "stream",
     "text": [
      "Uploading data to Enrichr... Done.\n",
      "  Querying GO_Biological_Process_2018... Done.\n",
      "  Querying KEGG_2018... Done.\n",
      "Parsing results... Done.\n"
     ]
    },
    {
     "data": {
      "text/html": [
       "<table>\n",
       "<thead><tr><th scope=col>Term</th><th scope=col>Overlap</th><th scope=col>P.value</th><th scope=col>Adjusted.P.value</th><th scope=col>Z.score</th><th scope=col>Combined.Score</th><th scope=col>Genes</th></tr></thead>\n",
       "<tbody>\n",
       "\t<tr><td>lipid transport (GO:0006869)     </td><td>5/92                             </td><td>0.0001416482                     </td><td>0.09660409                       </td><td>-1.776177                        </td><td>15.74077                         </td><td>ABCA10;CAV3;AKR1C1;SLCO1B3;TRIAP1</td></tr>\n",
       "</tbody>\n",
       "</table>\n"
      ],
      "text/latex": [
       "\\begin{tabular}{r|lllllll}\n",
       " Term & Overlap & P.value & Adjusted.P.value & Z.score & Combined.Score & Genes\\\\\n",
       "\\hline\n",
       "\t lipid transport (GO:0006869)      & 5/92                              & 0.0001416482                      & 0.09660409                        & -1.776177                         & 15.74077                          & ABCA10;CAV3;AKR1C1;SLCO1B3;TRIAP1\\\\\n",
       "\\end{tabular}\n"
      ],
      "text/markdown": [
       "\n",
       "Term | Overlap | P.value | Adjusted.P.value | Z.score | Combined.Score | Genes | \n",
       "|---|\n",
       "| lipid transport (GO:0006869)      | 5/92                              | 0.0001416482                      | 0.09660409                        | -1.776177                         | 15.74077                          | ABCA10;CAV3;AKR1C1;SLCO1B3;TRIAP1 | \n",
       "\n",
       "\n"
      ],
      "text/plain": [
       "  Term                         Overlap P.value      Adjusted.P.value Z.score  \n",
       "1 lipid transport (GO:0006869) 5/92    0.0001416482 0.09660409       -1.776177\n",
       "  Combined.Score Genes                            \n",
       "1 15.74077       ABCA10;CAV3;AKR1C1;SLCO1B3;TRIAP1"
      ]
     },
     "metadata": {},
     "output_type": "display_data"
    }
   ],
   "source": [
    "#beta 2\n",
    "sum(down)\n",
    "enriched <- enrichr(rownames(res.genes_level.b.df)[down], dbs)\n",
    "enriched[[\"GO_Biological_Process_2018\"]]%>%\n",
    "    arrange(Adjusted.P.value)%>%\n",
    "    select(-starts_with(\"old\"))%>%\n",
    "    filter(Adjusted.P.value<0.1)"
   ]
  },
  {
   "cell_type": "code",
   "execution_count": 116,
   "metadata": {},
   "outputs": [],
   "source": [
    "save(file = './dat/1901/res.genes.b.all.rdata',list = c(\"go.res.b\",\"beta.glist\"))"
   ]
  },
  {
   "cell_type": "code",
   "execution_count": null,
   "metadata": {},
   "outputs": [],
   "source": []
  }
 ],
 "metadata": {
  "kernelspec": {
   "display_name": "R",
   "language": "R",
   "name": "ir"
  },
  "language_info": {
   "codemirror_mode": "r",
   "file_extension": ".r",
   "mimetype": "text/x-r-source",
   "name": "R",
   "pygments_lexer": "r",
   "version": "3.5.1"
  }
 },
 "nbformat": 4,
 "nbformat_minor": 2
}
