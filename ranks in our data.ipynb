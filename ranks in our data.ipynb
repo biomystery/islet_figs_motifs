{
 "cells": [
  {
   "cell_type": "code",
   "execution_count": 11,
   "metadata": {},
   "outputs": [],
   "source": [
    "source(\"./libs.R\")\n",
    "res.a <- fread('./dat/alpha.ttest.gene.csv')\n",
    "res.b <- fread('./dat/beta.ttest.gene.csv')\n",
    "res.all <- rbind(data.frame(res.a,celltype=\"alpha\")\n",
    "  ,data.frame(res.b,celltype=\"beta\"))\n",
    "rm(list = c(\"res.a\",\"res.b\"))\n",
    "\n",
    "# load glists \n",
    "load('./dat/glists/glists.Rdata')"
   ]
  },
  {
   "cell_type": "code",
   "execution_count": 16,
   "metadata": {},
   "outputs": [
    {
     "name": "stdout",
     "output_type": "stream",
     "text": [
      "List of 14\n",
      " $ mature_bader    : chr [1:72] \"SYNGAP1\" \"SMARCA1\" \"NHSL1\" \"ZDBF2\" ...\n",
      " $ immature_bader  : chr [1:579] \"YARS\" \"C1QTNF4\" \"STAU1\" \"SYMPK\" ...\n",
      " $ ST8SIA1+_dorrell: chr [1:46] \"ST8SIA1\" \"ATP8A2\" \"HCN1\" \"CHD5\" ...\n",
      " $ ST8SIA1-_dorrell: chr [1:65] \"FLNB\" \"OXCT1\" \"TMCC3\" \"IL17RB\" ...\n",
      " $ CD9+_dorrell    : chr [1:45] \"LAPTM5\" \"IL1RN\" \"CD9\" \"PRDM1\" ...\n",
      " $ CD9-_dorrell    : chr [1:57] \"STAB1\" \"KCNMB2\" \"MBNL3\" \"SOX5\" ...\n",
      " $ Beta sub1_xin   : chr [1:13] \"RBP4\" \"SCGN\" \"FFAR4\" \"TMED6\" ...\n",
      " $ Beta sub2_xin   : chr [1:28] \"SPP1\" \"TFF3\" \"GPX3\" \"IGFBP5\" ...\n",
      " $ Beta sub3_xin   : chr [1:13] \"REG1B\" \"CPE\" \"INS\" \"CHGA\" ...\n",
      " $ Beta sub4_xin   : chr [1:390] \"DDIT3\" \"EIF1\" \"HSPA5\" \"HERPUD1\" ...\n",
      " $ A1_alpha        : chr [1:3526] \"AAGAB\" \"AAMDC\" \"AASDH\" \"AATF\" ...\n",
      " $ A2_alpha        : chr [1:240] \"ACACB\" \"ADAM19\" \"ADAM32\" \"ADAMTSL1\" ...\n",
      " $ B1_beta         : chr [1:420] \"ABCB6\" \"ABCB9\" \"ABCD3\" \"ABHD5\" ...\n",
      " $ B2_beta         : chr [1:75] \"AGBL2\" \"ASCL5\" \"ATP8B1\" \"BCL2L10\" ...\n"
     ]
    }
   ],
   "source": [
    "# get glists \n",
    "glists <- sapply(unique(glists.df$category),function(x) (glists.df%>%filter(category==x))$gene)\n",
    "str(glists)"
   ]
  },
  {
   "cell_type": "code",
   "execution_count": 17,
   "metadata": {},
   "outputs": [],
   "source": [
    "# rank look up \n",
    "# add ranks to our data \n",
    "res.all<- res.all%>%\n",
    "    group_by(celltype)%>%\n",
    "    mutate(rank.delta=order(delta))\n",
    "\n",
    "\n",
    "\n",
    "res.hit <- res.all %>% filter(gene %in% glists$mature_bader)\n"
   ]
  },
  {
   "cell_type": "code",
   "execution_count": 30,
   "metadata": {},
   "outputs": [
    {
     "data": {
      "text/html": [
       "<ol class=list-inline>\n",
       "\t<li>10833</li>\n",
       "\t<li>10557</li>\n",
       "</ol>\n"
      ],
      "text/latex": [
       "\\begin{enumerate*}\n",
       "\\item 10833\n",
       "\\item 10557\n",
       "\\end{enumerate*}\n"
      ],
      "text/markdown": [
       "1. 10833\n",
       "2. 10557\n",
       "\n",
       "\n"
      ],
      "text/plain": [
       "[1] 10833 10557"
      ]
     },
     "metadata": {},
     "output_type": "display_data"
    }
   ],
   "source": [
    "n<-table(res.all$celltype)\n",
    "as.numeric(n)"
   ]
  },
  {
   "cell_type": "code",
   "execution_count": 39,
   "metadata": {},
   "outputs": [
    {
     "data": {},
     "metadata": {},
     "output_type": "display_data"
    },
    {
     "data": {
      "image/png": "[encoded data removed]",
      "text/plain": [
       "plot without title"
      ]
     },
     "metadata": {},
     "output_type": "display_data"
    }
   ],
   "source": [
    "options(repr.plot.width = 5, repr.plot.height = 2)\n",
    "#plot(c(1,as.numeric(n['alpha'])),c(0,1),)\n",
    "\n",
    "barcode = function(x, w, num) {  \n",
    "    bc = data.frame(x, w, num)\n",
    "    bc$xpos = seq(min(bc$x)+0.15, max(bc$x)-0.15, length=nrow(bc))\n",
    "\n",
    "    ggplot(bc) +\n",
    "        geom_rect(aes(xmin=x - 0.5*w, xmax=x+0.5*w, ymin=0, ymax=1), \n",
    "                  show.legend=FALSE, fill=\"black\") +\n",
    "        geom_text(aes(label=num, x=xpos, y=-0.07)) +\n",
    "        coord_fixed(0.5) +\n",
    "        theme_void()\n",
    "}\n",
    "barcode(x=cumsum(0 + runif(12, 0.05, 0.1)),\n",
    "        w=runif(12,0.01,0.05),\n",
    "        num=sample(0:9, 12, replace=TRUE))"
   ]
  },
  {
   "cell_type": "code",
   "execution_count": 40,
   "metadata": {},
   "outputs": [
    {
     "data": {
      "text/html": [
       "<ol class=list-inline>\n",
       "\t<li>0.0919344364549033</li>\n",
       "\t<li>0.15549551746808</li>\n",
       "\t<li>0.226318121235818</li>\n",
       "\t<li>0.307928080821876</li>\n",
       "\t<li>0.394380452053156</li>\n",
       "\t<li>0.485821686708368</li>\n",
       "\t<li>0.560528625559527</li>\n",
       "\t<li>0.63482318255119</li>\n",
       "\t<li>0.702475076564588</li>\n",
       "\t<li>0.791771087679081</li>\n",
       "\t<li>0.843415536009707</li>\n",
       "\t<li>0.898044753097929</li>\n",
       "</ol>\n"
      ],
      "text/latex": [
       "\\begin{enumerate*}\n",
       "\\item 0.0919344364549033\n",
       "\\item 0.15549551746808\n",
       "\\item 0.226318121235818\n",
       "\\item 0.307928080821876\n",
       "\\item 0.394380452053156\n",
       "\\item 0.485821686708368\n",
       "\\item 0.560528625559527\n",
       "\\item 0.63482318255119\n",
       "\\item 0.702475076564588\n",
       "\\item 0.791771087679081\n",
       "\\item 0.843415536009707\n",
       "\\item 0.898044753097929\n",
       "\\end{enumerate*}\n"
      ],
      "text/markdown": [
       "1. 0.0919344364549033\n",
       "2. 0.15549551746808\n",
       "3. 0.226318121235818\n",
       "4. 0.307928080821876\n",
       "5. 0.394380452053156\n",
       "6. 0.485821686708368\n",
       "7. 0.560528625559527\n",
       "8. 0.63482318255119\n",
       "9. 0.702475076564588\n",
       "10. 0.791771087679081\n",
       "11. 0.843415536009707\n",
       "12. 0.898044753097929\n",
       "\n",
       "\n"
      ],
      "text/plain": [
       " [1] 0.09193444 0.15549552 0.22631812 0.30792808 0.39438045 0.48582169\n",
       " [7] 0.56052863 0.63482318 0.70247508 0.79177109 0.84341554 0.89804475"
      ]
     },
     "metadata": {},
     "output_type": "display_data"
    }
   ],
   "source": [
    "cumsum(0 + runif(12, 0.05, 0.1))"
   ]
  },
  {
   "cell_type": "code",
   "execution_count": 42,
   "metadata": {},
   "outputs": [
    {
     "data": {
      "text/html": [
       "<ol class=list-inline>\n",
       "\t<li>0.0428930804692209</li>\n",
       "\t<li>0.0283426602929831</li>\n",
       "\t<li>0.0232959251198918</li>\n",
       "\t<li>0.041220082808286</li>\n",
       "\t<li>0.0146785511355847</li>\n",
       "\t<li>0.0364782111346722</li>\n",
       "\t<li>0.0364190315548331</li>\n",
       "\t<li>0.0117210197541863</li>\n",
       "\t<li>0.0193586696218699</li>\n",
       "\t<li>0.0252826433535665</li>\n",
       "\t<li>0.0346262237615883</li>\n",
       "\t<li>0.0475322200916708</li>\n",
       "</ol>\n"
      ],
      "text/latex": [
       "\\begin{enumerate*}\n",
       "\\item 0.0428930804692209\n",
       "\\item 0.0283426602929831\n",
       "\\item 0.0232959251198918\n",
       "\\item 0.041220082808286\n",
       "\\item 0.0146785511355847\n",
       "\\item 0.0364782111346722\n",
       "\\item 0.0364190315548331\n",
       "\\item 0.0117210197541863\n",
       "\\item 0.0193586696218699\n",
       "\\item 0.0252826433535665\n",
       "\\item 0.0346262237615883\n",
       "\\item 0.0475322200916708\n",
       "\\end{enumerate*}\n"
      ],
      "text/markdown": [
       "1. 0.0428930804692209\n",
       "2. 0.0283426602929831\n",
       "3. 0.0232959251198918\n",
       "4. 0.041220082808286\n",
       "5. 0.0146785511355847\n",
       "6. 0.0364782111346722\n",
       "7. 0.0364190315548331\n",
       "8. 0.0117210197541863\n",
       "9. 0.0193586696218699\n",
       "10. 0.0252826433535665\n",
       "11. 0.0346262237615883\n",
       "12. 0.0475322200916708\n",
       "\n",
       "\n"
      ],
      "text/plain": [
       " [1] 0.04289308 0.02834266 0.02329593 0.04122008 0.01467855 0.03647821\n",
       " [7] 0.03641903 0.01172102 0.01935867 0.02528264 0.03462622 0.04753222"
      ]
     },
     "metadata": {},
     "output_type": "display_data"
    }
   ],
   "source": [
    "runif(12,0.01,0.05)"
   ]
  },
  {
   "cell_type": "code",
   "execution_count": null,
   "metadata": {},
   "outputs": [],
   "source": []
  }
 ],
 "metadata": {
  "kernelspec": {
   "display_name": "R",
   "language": "R",
   "name": "ir"
  },
  "language_info": {
   "codemirror_mode": "r",
   "file_extension": ".r",
   "mimetype": "text/x-r-source",
   "name": "R",
   "pygments_lexer": "r",
   "version": "3.5.1"
  }
 },
 "nbformat": 4,
 "nbformat_minor": 2
}
